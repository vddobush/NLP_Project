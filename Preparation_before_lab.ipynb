{
 "cells": [
  {
   "cell_type": "markdown",
   "metadata": {},
   "source": [
    "# KEN2570: NLP (Spring 2025)\n",
    "\n",
    "## Do This Before First Lab"
   ]
  },
  {
   "cell_type": "markdown",
   "metadata": {},
   "source": [
    "## 1.Getting and installing Python"
   ]
  },
  {
   "cell_type": "markdown",
   "metadata": {},
   "source": [
    "#### You will be using Python throughout the course, including many popular 3rd party Python libraries for scientific computing. [Anaconda](https://www.anaconda.com/) is an easy-to-install bundle of Python and most of these libraries. \n",
    "\n",
    "For this course, we are using **Python 3**.\n",
    "\n",
    "See: http://docs.continuum.io/anaconda/install\n",
    "\n",
    "The **Jupyter** notebook (also called the **IPython** notebook) runs in the browser. For me, it works best in Google Chrome or Safari."
   ]
  },
  {
   "cell_type": "markdown",
   "metadata": {},
   "source": [
    "## 2. Installing Anaconda"
   ]
  },
  {
   "cell_type": "markdown",
   "metadata": {},
   "source": [
    "The Anaconda Python distribution is an easily-installable bundle of Python and many of the libraries used throughout this class. Unless you have a good reason not to (e.g. you are already working with a specific version of Python or on a specific project etc.) and especially if you **currently don't have Python installed on your machine** it is recommended that you use Anaconda.\n"
   ]
  },
  {
   "cell_type": "markdown",
   "metadata": {},
   "source": [
    "### Mac/Linux users"
   ]
  },
  {
   "cell_type": "markdown",
   "metadata": {},
   "source": [
    "1. Download the [appropriate version](https://www.anaconda.com/download) of Anaconda\n",
    "2. Follow the instructions on that page to run the installer\n",
    "3. Test out the IPython notebook: open a Terminal window, and type\n",
    "\n",
    "`jupyter notebook`. \n",
    "\n",
    "Or use the Anaconda Launcher which might have been placed on your desktop. \n",
    "\n",
    "A new browser window should pop up. \n",
    "\n",
    "Click `New Notebook` to create a new notebook file. **Trick**: give this notebook a unique name by clicking on the word \"Untitled\" at the top, like `my-little-rose`. Use Spotlight (upper right corner of the mac desktop, looks like a maginifier) to search for this name. In this way, you will know which folder your notebook opens in by default.\n",
    "\n",
    "You will have to occasionally work in the terminal on mac or linux. Mac users can access it (a terminal app is built into the mac) by typing \"terminal\" in spotlight or through Launchpad.\n",
    "\n",
    "You might also want to choose a specific folder to work in, something like  `NLP` under `Documents`. In this case, open the terminal, and do:\n",
    "\n",
    "`cd Documents/NLP`\n",
    "\n",
    "and then type:\n",
    "\n",
    "`jupyter notebook`"
   ]
  },
  {
   "cell_type": "markdown",
   "metadata": {},
   "source": [
    "### Windows Users"
   ]
  },
  {
   "cell_type": "markdown",
   "metadata": {},
   "source": [
    "1. Download the [appropriate version](https://www.anaconda.com/download) of Anaconda\n",
    "2. Follow the instructions on that page to run the installer. This will typically create a directory at `C:\\Anaconda`\n",
    "3. Test it out: start the Anaconda launcher, which you can find in `C:\\Anaconda` or, in the Start menu. Start the IPython notebook. A new browser window should open. \n",
    "1. Click `New Notebook`, which should open a new page. **Trick**: give this notebook a unique name, like `jerry-is-cool`. Use Explorer (usually start menu on windows desktops) to search for this name. In this way, you will know which folder your notebook opens in by default.\n",
    "\n",
    "\n",
    "Windows users should consider installing the program `git-bash`. It gives you a nice terminal to work with.\n",
    "\n",
    "### All Users\n",
    "\n",
    "If you did not add Anaconda to your path, be sure to use the full path to the python and ipython executables, such as `/anaconda/bin/python`.\n",
    "\n",
    "If you already have installed Anaconda at some point in the past, you can easily update to the latest Anaconda version by updating conda, then Anaconda as follows:\n",
    "\n",
    "```\n",
    "conda update conda\n",
    "conda update anaconda\n",
    "```\n"
   ]
  },
  {
   "cell_type": "markdown",
   "metadata": {},
   "source": [
    "## 3. Hello, Jupyter"
   ]
  },
  {
   "cell_type": "markdown",
   "metadata": {},
   "source": [
    "The Jupyter Notebook is a web application that allows you to create interactive documents that contain live code, equations, visualizations and explanatory text.\n",
    "\n",
    "![](img/jupyterdemo.png)\n",
    "\n",
    "When Jupyter app loads, you see a dashboard displaying files in the Jupyter home directory (you can reset this)\n",
    "\n",
    "![](img/jupyterhome.png)\n",
    "\n",
    "Each notebook consists of blocks of cells. Each cell can display rich text elements (Markdown) or code. Code is executed by a \"computational engine\" called the **kernel** . The output of the code is displayed directly below. \n",
    "\n",
    "![](img/jupyter.png)\n",
    "\n",
    "Each cell can be executed independently, but once a block of code is executed, it lives in the memory of the kernel. \n",
    "\n",
    "![](img/cells.png)"
   ]
  },
  {
   "cell_type": "markdown",
   "metadata": {},
   "source": [
    "You'll be using them to complete labs and homework. Once you've set up Python, please download this page, and open it with IPython by typing\n",
    "\n",
    "```\n",
    "jupyter notebook <name_of_downloaded_file>\n",
    "```"
   ]
  },
  {
   "cell_type": "markdown",
   "metadata": {},
   "source": [
    "As mentioned earlier in the Mac section, you can also open the notebook in any folder by `cd`ing to the folder in the terminal, and typing\n",
    "\n",
    "```\n",
    "jupyter notebook .\n",
    "```"
   ]
  },
  {
   "cell_type": "markdown",
   "metadata": {},
   "source": [
    "in that folder.\n",
    "\n",
    "The anaconda install also probably dropped a launcher on your desktop. You can use the launcher, and select \"jupyter notebook\" from there. In this case you will need to find out which folder you are running in.\n",
    "\n",
    "It loolks like this for me:\n",
    "\n",
    "![jupyter](img/jupyter2.png)\n",
    "\n",
    "Notice that you can use the user interface to create new folders and text files, and even open new terminals, all of which might come useful to you. To create a new notebook, you can use \"Python 3\" under notebooks. You may not have the other choices available (I have julia for example, which is another language that uses the same notebook interface)."
   ]
  },
  {
   "cell_type": "markdown",
   "metadata": {},
   "source": [
    "For the rest of this setup test, use your local copy of this page, running on jupyter.\n",
    "\n",
    "Notebooks are composed of many \"cells\", which can contain text (like this one), or code (like the one below). Double click on the cell below, and evaluate it by clicking the \"play\" button above, for by hitting shift + enter"
   ]
  },
  {
   "cell_type": "code",
   "execution_count": 3,
   "metadata": {},
   "outputs": [
    {
     "name": "stdout",
     "output_type": "stream",
     "text": [
      "Item is  10\n",
      "Item is  20\n",
      "Item is  30\n",
      "Item is  40\n",
      "Item is  50\n"
     ]
    }
   ],
   "source": [
    "x = [10, 20, 30, 40, 50]\n",
    "for item in x:\n",
    "    print(\"Item is \", item)"
   ]
  },
  {
   "cell_type": "markdown",
   "metadata": {},
   "source": [
    "You must be careful to make sure you are running the Anaconda version of python, since those operating systems come preinstalled with their own versions of python.\n",
    "\n",
    "This is how you can see the version in the jupyter interface"
   ]
  },
  {
   "cell_type": "code",
   "execution_count": 2,
   "metadata": {},
   "outputs": [
    {
     "name": "stdout",
     "output_type": "stream",
     "text": [
      "3.8.3 (v3.8.3:6f8c8320e9, May 13 2020, 16:29:34) \n",
      "[Clang 6.0 (clang-600.0.57)]\n"
     ]
    }
   ],
   "source": [
    "import sys\n",
    "print(sys.version)"
   ]
  },
  {
   "cell_type": "markdown",
   "metadata": {},
   "source": [
    "You could also open a terminal and just type\n",
    "\n",
    "`python` \n",
    "\n",
    "or\n",
    "\n",
    "`ipython`\n",
    "\n",
    "there. When the program starts up, you should see \"Anaconda\" printed out, similar to the above. It is perfectly fine if you something different, if you haven't installed Anaconda (and you are using an already existing installation of Python). Important things to know which Python version you are running ;-) \n",
    "\n",
    "If this is the case, your install went well, and you can quit the python \"interpreter\" by typing Ctrl-D.\n"
   ]
  },
  {
   "cell_type": "markdown",
   "metadata": {},
   "source": [
    "If you've successfully completed the above install, skip to below the troubleshooting section. All of the statements there should run."
   ]
  },
  {
   "cell_type": "markdown",
   "metadata": {},
   "source": [
    "## 4. Troubleshooting"
   ]
  },
  {
   "cell_type": "markdown",
   "metadata": {},
   "source": [
    "**PROBLEM**\n",
    "You are using a Mac or Linux computer. When you start python at the terminal or do `sys.version` in the notebook, you don't see a line like `3.5.3 |Anaconda custom (x86_64)| (default, Mar  6 2017, 12:15:08) `.\n",
    "\n",
    "**Reason**\n",
    "You are most likely running a different version of Python, and need to modify your Path (the list of directories your computer looks through to find programs). \n",
    "\n",
    "**Solution**\n",
    "Find a file like `.bash_profile`, `.bashrc`, or `.profile`. Open the file in a text editor, and add a line at this line at the end: \n",
    "\n",
    "`export PATH=\"$HOME/anaconda/bin:$PATH\"`. \n",
    "\n",
    "Close the file, open a new terminal window, type `source ~/.profile` (or whatever file you just edited). Type \n",
    "\n",
    "`which python`\n",
    "\n",
    "-- you should see a path that points to the anaconda directory. If so, running `python` should load the proper version.\n",
    "\n",
    "If this doesn't work (typing `which python` doesn't point to anaconda), you might be using a different shell. \n",
    "\n",
    "Type `echo $SHELL`. \n",
    "\n",
    "If this isn't `bash`, you need to edit a different startup file (for example, if `echo $SHELL` gives `$csh`, you need to edit your `.cshrc` file. The syntax for this file is slightly different: \n",
    "\n",
    "`set PATH = ($HOME/anaconda/bin $PATH)`\n",
    "\n",
    "---\n",
    "\n",
    "**PROBLEM**\n",
    "You are running the right version of python (see above item), but are unable to import numpy. \n",
    "\n",
    "**Reason**\n",
    "You are probably loading a different copy of numpy that is incompatible with Anaconda.\n",
    "\n",
    "**Solution**\n",
    "See the above item to find your `.bash_profile`, `.profile`, or `.bashrc` file. Open it, and add the line `unset PYTHONPATH` at the end. Close the file, open a new terminal window, type `source ~/.profile` (or whatever file you just edited), and try again.\n",
    "\n",
    "---\n",
    "\n",
    "**PROBLEM**\n",
    "Under Windows, you receive an error message similar to the following: \"'pip' is not recognized as an internal or external command, operable program or batch file.\"\n",
    "\n",
    "**Reason**\n",
    "The correct Anaconda paths might not be present in your PATH variable, or Anaconda might not have installed correctly.\n",
    "\n",
    "**Solution**\n",
    "Ensure the Anaconda directories to your path environment variable (\"\\Anaconda\" and \"\\Anaconda\\Scripts\").  See [this page](http://superuser.com/questions/284342/what-are-path-and-other-environment-variables-and-how-can-i-set-or-use-them) for details.\n",
    "\n",
    "If this does not correct the problem, re-install Anaconda.\n",
    "\n",
    "\n",
    "**IF YOU ARE STILL HAVING ISSUES ON THE INSTALL, POST TO DISCORD! YOU'LL FIND HELP THERE!**"
   ]
  },
  {
   "cell_type": "markdown",
   "metadata": {},
   "source": [
    "## 5. Python Libraries"
   ]
  },
  {
   "cell_type": "markdown",
   "metadata": {},
   "source": [
    "### Testing latest libraries"
   ]
  },
  {
   "cell_type": "code",
   "execution_count": null,
   "metadata": {
    "scrolled": true
   },
   "outputs": [],
   "source": [
    "#IPython is what you are using now to run the notebook\n",
    "import IPython\n",
    "print(\"IPython version:      %6.6s (need at least 7.16.0)\" % IPython.__version__)\n",
    "\n",
    "# Numpy is a library for working with Arrays\n",
    "import numpy as np\n",
    "print(\"Numpy version:        %6.6s (need at least 1.24.0)\" % np.__version__)\n",
    "\n",
    "# SciPy implements many different numerical algorithms\n",
    "import scipy as sp\n",
    "print(\"SciPy version:        %6.6s (need at least 1.10.0)\" % sp.__version__)\n",
    "\n",
    "# Pandas makes working with data tables easier\n",
    "import pandas as pd\n",
    "print(\"Pandas version:       %6.6s (need at least 2.0.0)\" % pd.__version__)\n",
    "\n",
    "# Module for plotting\n",
    "import matplotlib\n",
    "print(\"Matplotlib version:    %6.6s (need at least 3.7.0)\" % matplotlib.__version__)\n",
    "\n",
    "# SciKit Learn implements several Machine Learning algorithms\n",
    "import sklearn\n",
    "print(\"Scikit-Learn version: %6.6s (need at least 1.0.2)\" % sklearn.__version__)\n",
    "\n",
    "# Requests is a library for getting data from the Web\n",
    "import requests\n",
    "print(\"requests version:     %6.6s (need at least 2.31.0)\" % requests.__version__)\n",
    "\n",
    "#BeautifulSoup is a library to parse HTML and XML documents\n",
    "import bs4\n",
    "print(\"BeautifulSoup version:%6.6s (need at least 4.11)\" % bs4.__version__)\n",
    "\n",
    "import seaborn\n",
    "print(\"Seaborn version:%6.6s (need at least 0.12)\" % seaborn.__version__)"
   ]
  },
  {
   "cell_type": "markdown",
   "metadata": {},
   "source": [
    "If any of these libraries are missing or out of date, you will need to install them and restart jupyter."
   ]
  },
  {
   "cell_type": "markdown",
   "metadata": {},
   "source": [
    "## 6. Kicking the tires"
   ]
  },
  {
   "cell_type": "markdown",
   "metadata": {},
   "source": [
    "Lets try some things, starting from very simple, to more complex."
   ]
  },
  {
   "cell_type": "markdown",
   "metadata": {},
   "source": [
    "### Hello World"
   ]
  },
  {
   "cell_type": "markdown",
   "metadata": {},
   "source": [
    "The following is the incantation we like to put at the beginning of every notebook. It loads most of the stuff we will regularly use."
   ]
  },
  {
   "cell_type": "markdown",
   "metadata": {},
   "source": [
    "### Hello matplotlib"
   ]
  },
  {
   "cell_type": "code",
   "execution_count": null,
   "metadata": {},
   "outputs": [],
   "source": [
    "# The %... is an iPython thing, and is not part of the Python language.\n",
    "# In this case we're just telling the plotting library to draw things on\n",
    "# the notebook, instead of on a separate window.\n",
    "%matplotlib inline \n",
    "#this line above prepares the jupyter notebook for working with matplotlib\n",
    "\n",
    "# See all the \"as ...\" contructs? They're just aliasing the package names.\n",
    "# That way we can call methods like plt.plot() instead of matplotlib.pyplot.plot().\n",
    "# notice we use short aliases here, and these are conventional in the python community\n",
    "\n",
    "import numpy as np # imports a fast numerical programming library\n",
    "import scipy as sp #imports stats functions, amongst other things\n",
    "import matplotlib as mpl # this actually imports matplotlib\n",
    "import matplotlib.cm as cm # allows us easy access to colormaps\n",
    "import matplotlib.pyplot as plt # sets up plotting under plt\n",
    "import pandas as pd #lets us handle data as dataframes\n",
    "# sets up pandas table display\n",
    "pd.set_option('display.width', 500)\n",
    "pd.set_option('display.max_columns', 100)\n",
    "pd.set_option('display.notebook_repr_html', True)\n",
    "import seaborn as sns #sets up styles and gives us more plotting options"
   ]
  },
  {
   "cell_type": "markdown",
   "metadata": {},
   "source": [
    "The notebook integrates nicely with Matplotlib, the primary plotting package for python. This should embed a figure of a sine wave:"
   ]
  },
  {
   "cell_type": "code",
   "execution_count": null,
   "metadata": {},
   "outputs": [],
   "source": [
    "x = np.linspace(0, 10, 30)  #array of 30 points from 0 to 10\n",
    "y = np.sin(x)\n",
    "z = y + np.random.normal(size=30) * .2\n",
    "plt.plot(x, y, 'o-', label='A sine wave')\n",
    "plt.plot(x, z, '-', label='Noisy sine')\n",
    "plt.legend(loc = 'lower right')\n",
    "plt.xlabel(\"X axis\")\n",
    "plt.ylabel(\"Y axis\")           "
   ]
  },
  {
   "cell_type": "markdown",
   "metadata": {},
   "source": [
    "TODO: should random seeds be added in here?"
   ]
  },
  {
   "cell_type": "markdown",
   "metadata": {},
   "source": [
    "### Hello Numpy"
   ]
  },
  {
   "cell_type": "markdown",
   "metadata": {},
   "source": [
    "The Numpy array processing library is the basis of nearly all numerical computing in Python. Here's a 30 second crash course. For more details, consult the [Numpy User's Guide](https://numpy.org/doc/stable/)"
   ]
  },
  {
   "cell_type": "code",
   "execution_count": 7,
   "metadata": {},
   "outputs": [
    {
     "name": "stdout",
     "output_type": "stream",
     "text": [
      "Make a 3 row x 4 column array of random numbers\n",
      "[[0.25875026 0.17252033 0.51227198 0.25262877]\n",
      " [0.21454181 0.30644494 0.89009945 0.13636304]\n",
      " [0.14796028 0.94357709 0.91335852 0.45699303]] \n",
      "\n",
      "Add 1 to every element\n",
      "[[1.25875026 1.17252033 1.51227198 1.25262877]\n",
      " [1.21454181 1.30644494 1.89009945 1.13636304]\n",
      " [1.14796028 1.94357709 1.91335852 1.45699303]] \n",
      "\n",
      "Get the element at row 1, column 2\n",
      "1.8900994451035622\n",
      "Get the first row\n",
      "[1.25875026 1.17252033 1.51227198 1.25262877]\n",
      "Last 2 items in the first row\n",
      "[1.51227198 1.25262877]\n",
      "Get every 2nd item in the first row\n",
      "[1.25875026 1.51227198]\n"
     ]
    }
   ],
   "source": [
    "print(\"Make a 3 row x 4 column array of random numbers\")\n",
    "x = np.random.random((3, 4))\n",
    "print(x,\"\\n\")\n",
    "\n",
    "\n",
    "print(\"Add 1 to every element\")\n",
    "x = x + 1\n",
    "print(x,\"\\n\")\n",
    "\n",
    "print(\"Get the element at row 1, column 2\")\n",
    "print(x[1, 2])\n",
    "\n",
    "# The colon syntax is called \"slicing\" the array. \n",
    "print(\"Get the first row\")\n",
    "print(x[0, :])\n",
    "\n",
    "print(\"Last 2 items in the first row\")\n",
    "print(x[0, -2:])\n",
    "\n",
    "print(\"Get every 2nd item in the first row\")\n",
    "print(x[0, ::2])"
   ]
  },
  {
   "cell_type": "markdown",
   "metadata": {},
   "source": [
    "Print the maximum, minimum, and mean of the array. This does **not** require writing a loop. In the code cell below, type `x.m<TAB>`, to find built-in operations for common array statistics like this"
   ]
  },
  {
   "cell_type": "code",
   "execution_count": 8,
   "metadata": {},
   "outputs": [
    {
     "name": "stdout",
     "output_type": "stream",
     "text": [
      "Max is   1.9435770942362574\n",
      "Min is   1.1363630411502026\n",
      "Mean is  1.4337924581412904\n"
     ]
    }
   ],
   "source": [
    "print(\"Max is  \", x.max())\n",
    "print(\"Min is  \", x.min())\n",
    "print(\"Mean is \", x.mean())"
   ]
  },
  {
   "cell_type": "markdown",
   "metadata": {},
   "source": [
    "Call the `x.max` function again, but use the `axis` keyword to print the maximum of each row in x."
   ]
  },
  {
   "cell_type": "code",
   "execution_count": 9,
   "metadata": {},
   "outputs": [
    {
     "name": "stdout",
     "output_type": "stream",
     "text": [
      "[1.51227198 1.89009945 1.94357709]\n"
     ]
    }
   ],
   "source": [
    "print(x.max(axis=1))"
   ]
  },
  {
   "cell_type": "markdown",
   "metadata": {},
   "source": [
    "Here's a way to quickly simulate 500 coin \"fair\" coin tosses (where the probabily of getting Heads is 50%, or 0.5)"
   ]
  },
  {
   "cell_type": "code",
   "execution_count": 10,
   "metadata": {
    "scrolled": true
   },
   "outputs": [
    {
     "name": "stdout",
     "output_type": "stream",
     "text": [
      "number of heads: 244\n"
     ]
    }
   ],
   "source": [
    "x = np.random.binomial(500, .5)\n",
    "print(\"number of heads:\", x)"
   ]
  },
  {
   "cell_type": "markdown",
   "metadata": {},
   "source": [
    "Repeat this simulation 500 times, and use the [plt.hist() function](http://matplotlib.org/api/pyplot_api.html#matplotlib.pyplot.hist) to plot a histogram of the number of Heads (1s) in each simulation"
   ]
  },
  {
   "cell_type": "code",
   "execution_count": 11,
   "metadata": {},
   "outputs": [
    {
     "data": {
      "image/png": "[encoded data removed]",
      "text/plain": [
       "<Figure size 432x288 with 1 Axes>"
      ]
     },
     "metadata": {
      "needs_background": "light"
     },
     "output_type": "display_data"
    }
   ],
   "source": [
    "# 3 ways to run the simulations\n",
    "\n",
    "# loop (not very optimal)\n",
    "heads = []\n",
    "for i in range(500):\n",
    "    heads.append(np.random.binomial(500, .5))\n",
    "\n",
    "# \"list comprehension\"\n",
    "heads = [np.random.binomial(500, .5) for i in range(500)]\n",
    "\n",
    "# pure numpy, preferred\n",
    "heads = np.random.binomial(500, .5, size=500)\n",
    "\n",
    "histogram = plt.hist(heads, bins=10)"
   ]
  },
  {
   "cell_type": "code",
   "execution_count": 12,
   "metadata": {},
   "outputs": [
    {
     "data": {
      "text/plain": [
       "(500,)"
      ]
     },
     "execution_count": 12,
     "metadata": {},
     "output_type": "execute_result"
    }
   ],
   "source": [
    "heads.shape"
   ]
  }
 ],
 "metadata": {
  "anaconda-cloud": {},
  "kernelspec": {
   "display_name": "Python 3 (ipykernel)",
   "language": "python",
   "name": "python3"
  },
  "language_info": {
   "codemirror_mode": {
    "name": "ipython",
    "version": 3
   },
   "file_extension": ".py",
   "mimetype": "text/x-python",
   "name": "python",
   "nbconvert_exporter": "python",
   "pygments_lexer": "ipython3",
   "version": "3.12.7"
  }
 },
 "nbformat": 4,
 "nbformat_minor": 4
}

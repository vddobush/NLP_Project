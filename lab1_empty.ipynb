{
 "cells": [
  {
   "cell_type": "markdown",
   "source": [
    "# NLP 2025\n",
    "# Lab 1: Tokenization\n",
    "\n",
    "Tokenization is a fundamental step in **Natural Language Processing (NLP)** 🧠💬 that transforms raw text into structured data for computational models. In this lab, you will explore different **tokenization techniques** 📝, preprocess text data 🔍, and implement **tokenization pipelines** using popular NLP libraries 🏗️.  \n",
    "\n",
    "You will also gain **hands-on experience** with **Hugging Face Datasets 🤗📚**, while assessing the impact of tokenization choices on downstream NLP tasks. \n",
    "\n",
    "By the end of this lab, you will have a **strong foundation** in tokenization techniques and be able to apply them effectively in **real-world NLP applications** 🌍.  \n",
    "\n",
    "---\n",
    "\n",
    "### 🎯 **Learning Goals**  \n",
    "\n",
    "By the end of this lab, you should be able to:  \n",
    "\n",
    "✅ **Understand the role of tokenization in NLP** 🧠💡  \n",
    "✅ **Explain why tokenization is important** and how it affects text processing 📖🔍  \n",
    "✅ **Implement different tokenization techniques** – Apply **word** 📝, **subword** 🔢, and **character-level** 🔠 tokenization using built-in libraries.  \n",
    "✅ **Use Hugging Face Datasets** 🤗📊 – Load and preprocess text datasets efficiently.  \n",
    "✅ **Evaluate tokenization impact** 📉🔎 – Analyze how different tokenization methods influence model performance.  \n",
    "✅ **Identify challenges in tokenization** ❗🔍 – Recognize issues like **out-of-vocabulary (OOV) words**, **ambiguity**, and **multilingual tokenization** 🌍.  \n",
    "\n",
    "### Score breakdown\n",
    "\n",
    "| Exercise            | Points |\n",
    "|---------------------|--------|\n",
    "| [Exercise 1](#e1)   | 5      |\n",
    "| [Exercise 2](#e2)   | 6      |\n",
    "| [Exercise 3](#e3)   | 5      |\n",
    "| [Exercise 4](#e4)   | 12     |\n",
    "| [Exercise 5](#e5)   | 5      |\n",
    "| [Exercise 6](#e6)   | 22     |\n",
    "| [Exercise 7](#e7)   | 5      |\n",
    "| [Exercise 8](#e8)   | 5      |\n",
    "| [Exercise 9](#e9)   | 10     |\n",
    "| [Exercise 10](#e10) | 25     |\n",
    "| Total               | 100    |\n",
    "\n",
    "This score will be scaled down to 0.5 and that will be your final lab score.\n",
    "\n",
    "### 📌 **Instructions for Delivery** (📅 **Deadline: 11/Apr 18:00**, 🎭 *wildcards possible*)  \n",
    "\n",
    "✅ **Submission Requirements**  \n",
    "+ 📄 You need to submit a **PDF of your report** (use the templates provided in **LaTeX** 🖋️ (*preferred*) or **Word** 📑) and a **copy of your notebook** 📓 with the code.  \n",
    "+ ⚡ Make sure that **all cells are executed properly** ⚙️ and that **all figures/results/plots** 📊 you include in the report are also visible in your **executed notebook**.  \n",
    "\n",
    "✅ **Collaboration & Integrity**  \n",
    "+ 🗣️ While you may **discuss** the lab with others, you must **write your solutions with your group only**. If you **discuss specific tasks** with others, please **include their names** in the appendix of the report.  \n",
    "+ 📜 **Honor Code applies** to this lab. For more details, check **Syllabus §7.2** ⚖️.  \n",
    "+ 📢 **Mandatory Disclosure**:  \n",
    "   - Any **websites** 🌐 (e.g., **Stack Overflow** 💡) or **other resources** used must be **listed and disclosed**.  \n",
    "   - Any **GenAI tools** 🤖 (e.g., **ChatGPT**) used must be **explicitly mentioned**.  \n",
    "   - 🚨 **Failure to disclose these resources is a violation of academic integrity**. See **Syllabus §7.3** for details.   "
   ],
   "metadata": {
    "collapsed": false,
    "pycharm": {
     "name": "#%% md\n"
    }
   }
  },
  {
   "cell_type": "markdown",
   "source": [
    "## Preparation"
   ],
   "metadata": {
    "collapsed": false,
    "pycharm": {
     "name": "#%% md\n"
    }
   }
  },
  {
   "cell_type": "code",
   "execution_count": 580,
   "outputs": [],
   "source": [
    "# ! pip install -U datasets~=3.2.0\n",
    "# ! python -m pip install -U matplotlib"
   ],
   "metadata": {
    "collapsed": false,
    "pycharm": {
     "name": "#%%\n"
    },
    "ExecuteTime": {
     "end_time": "2025-04-12T21:26:44.782080Z",
     "start_time": "2025-04-12T21:26:44.436548Z"
    }
   }
  },
  {
   "cell_type": "code",
   "execution_count": 581,
   "outputs": [],
   "source": [
    "import re\n",
    "from collections import Counter\n",
    "\n",
    "import datasets\n",
    "import pandas as pd\n",
    "import tqdm"
   ],
   "metadata": {
    "collapsed": false,
    "pycharm": {
     "name": "#%%\n"
    },
    "ExecuteTime": {
     "end_time": "2025-04-12T21:26:44.834650Z",
     "start_time": "2025-04-12T21:26:44.794483Z"
    }
   }
  },
  {
   "cell_type": "markdown",
   "source": [
    "## 0. Intro to regular expressions\n",
    "\n",
    "In this introduction section, you can practice the use of regular expressions in python. You can find the documentation here: [https://docs.python.org/3/library/re.html](https://docs.python.org/3/library/re.html). The main functions of the re module are:\n",
    "- `re.search()` - searches for a pattern in a string, returns the first match,\n",
    "- `re.findall()` - similar to `search()`, but returns a list of all matches,\n",
    "- `re.sub()` - replaces the matches with a string.\n",
    "\n",
    "All above functions accept the regular expression pattern as their argument. The patterns are strings that represent the rules for matching the text. In python they start with `r` character, e.g. `r'\\d'` is a pattern that matches a digit.\n",
    "\n",
    "Let us start with a simple example. We will search for the word \"world\" in the string \"Hello, world!\"."
   ],
   "metadata": {
    "collapsed": false,
    "pycharm": {
     "name": "#%% md\n"
    }
   }
  },
  {
   "cell_type": "code",
   "execution_count": 582,
   "outputs": [
    {
     "name": "stdout",
     "output_type": "stream",
     "text": [
      "<re.Match object; span=(7, 12), match='world'>\n"
     ]
    }
   ],
   "source": [
    "text = \"Hello, world!\"\n",
    "pattern = r'world'\n",
    "match = re.search(pattern, text)\n",
    "print(match)"
   ],
   "metadata": {
    "collapsed": false,
    "pycharm": {
     "name": "#%%\n"
    },
    "ExecuteTime": {
     "end_time": "2025-04-12T21:26:44.878423Z",
     "start_time": "2025-04-12T21:26:44.833088Z"
    }
   }
  },
  {
   "cell_type": "markdown",
   "source": [
    "The `search()` function returns a match object that tells us where the match was found (`span` argument) and the exact part of the string that matched the pattern (`group` argument).\n",
    "\n",
    "Below you can find the examples from the lecture."
   ],
   "metadata": {
    "collapsed": false,
    "pycharm": {
     "name": "#%% md\n"
    }
   }
  },
  {
   "cell_type": "code",
   "execution_count": 583,
   "outputs": [],
   "source": [
    "# Disjunctions\n",
    "pattern = r'[wW]oodchuck' # matches both \"woodchuck\" and \"Woodchuck\"\n",
    "pattern = r'[1234567890]' # matches any digit\n",
    "pattern = r'[0-9]' # matches any digit\n",
    "pattern = r'[A-Z]' # matches any uppercase letter\n",
    "pattern = r'[a-z]' # matches any lowercase letter\n",
    "pattern = r'[A-Za-z]' # matches any letter\n",
    "\n",
    "# Disjunctions with pipe |\n",
    "pattern = r'groundhog|Woodchuck' # matches both \"woodchuck\" and \"Woodchuck\"\n",
    "\n",
    "# Negation (only when in [])\n",
    "pattern = r'[^0-9]' # matches any character that is not a digit\n",
    "pattern = r'[^Ss]' # matches any character that is not 'S' or 's'\n",
    "pattern = r'a^b' # matches the string \"a^b\"\n",
    "\n",
    "# Quantifiers (+, *, ?, .)\n",
    "pattern = r'baa+' # matches \"ba\" followed by one or more \"a\" (e.g. \"baa\", \"baaa\", \"baaaa\", ...)\n",
    "pattern = r'oo*h' # matches \"o\" followed by zero or more \"o\" and then \"h\" (e.g. \"oh\", \"ooh\", \"oooh\", ...)\n",
    "pattern = r'colou?r' # matches \"color\" and \"colour\"\n",
    "pattern = r'beg.n' # matches \"begun\", \"begin\", \"begnn\", ...\n",
    "\n",
    "# Anchors (^, $)\n",
    "pattern = r'^Hello' # matches \"Hello\" at the beginning of the string\n",
    "pattern = r'world!$' # matches \"world!\" at the end of the string"
   ],
   "metadata": {
    "collapsed": false,
    "pycharm": {
     "name": "#%%\n"
    },
    "ExecuteTime": {
     "end_time": "2025-04-12T21:26:44.904879Z",
     "start_time": "2025-04-12T21:26:44.873937Z"
    }
   }
  },
  {
   "cell_type": "markdown",
   "source": [
    "## 1. Huggingface datasets\n",
    "\n",
    "For this lab, we will use the **Hugging Face Datasets** library ([Hugging Face Datasets](https://huggingface.co/datasets)), which provides an extensive collection of ready-to-use NLP datasets. The library is designed to be lightweight, efficient, and compatible with popular deep learning frameworks such as PyTorch and TensorFlow.  \n",
    "\n",
    "You can find the full documentation and tutorials here:  \n",
    "📌 [Hugging Face Datasets Documentation](https://huggingface.co/docs/datasets/en/index)  \n",
    "\n",
    "### **Why use Hugging Face Datasets?**  \n",
    "- **Easy Access:** Load datasets with a single command without manual downloads.  \n",
    "- **Standardized Format:** Datasets come in a unified structure, making them easy to preprocess and integrate into ML pipelines.  \n",
    "- **Large Collection:** Provides datasets for a wide range of NLP tasks, including classification, translation, summarization, and more.  \n",
    "- **Seamless Integration:** Works with `transformers` and `sklearn` for preprocessing and model training.  \n",
    "\n",
    "### **Dataset for this lab: TweetEval - Emoji Subset**  \n",
    "\n",
    "In this lab, we will work with the **TweetEval** dataset, specifically the **emoji** subset. The TweetEval dataset is a benchmark for evaluating NLP models on Twitter-related tasks, covering tasks such as sentiment analysis, hate speech detection, and irony detection.  \n",
    "\n",
    "For tokenization, we will focus only on the **text** (the content of the tweets), but we will also examine the **labels** to understand the dataset structure.  \n",
    "\n",
    "🔗 The dataset description and details are available in its dataset card: [**TweetEval Dataset**](https://huggingface.co/datasets/cardiffnlp/tweet_eval) \n",
    "\n",
    "💡 Exploring More Datasets\n",
    "Hugging Face provides a vast selection of datasets across different NLP tasks. You can browse and explore more at:\n",
    "🔗 [Hugging Face Datasets Collection](https://huggingface.co/datasets)"
   ],
   "metadata": {
    "collapsed": false,
    "pycharm": {
     "name": "#%% md\n"
    }
   }
  },
  {
   "cell_type": "code",
   "execution_count": 584,
   "outputs": [
    {
     "name": "stdout",
     "output_type": "stream",
     "text": [
      "DatasetDict({\n",
      "    train: Dataset({\n",
      "        features: ['text', 'label'],\n",
      "        num_rows: 45000\n",
      "    })\n",
      "    test: Dataset({\n",
      "        features: ['text', 'label'],\n",
      "        num_rows: 50000\n",
      "    })\n",
      "    validation: Dataset({\n",
      "        features: ['text', 'label'],\n",
      "        num_rows: 5000\n",
      "    })\n",
      "})\n"
     ]
    }
   ],
   "source": [
    "tweet_ds = datasets.load_dataset('tweet_eval', 'emoji')\n",
    "print(tweet_ds)"
   ],
   "metadata": {
    "collapsed": false,
    "pycharm": {
     "name": "#%%\n"
    },
    "ExecuteTime": {
     "end_time": "2025-04-12T21:26:49.958580Z",
     "start_time": "2025-04-12T21:26:44.905025Z"
    }
   }
  },
  {
   "cell_type": "markdown",
   "source": [
    "The loaded dataset contains three subsets (“train”, “validation”, and “test”). Each consists of two columns: “text” and “label”. Label is an integer from 0 to 19 representing an emoji. See the dataset's card for more information. We can access the elements of the dataset like so:"
   ],
   "metadata": {
    "collapsed": false,
    "pycharm": {
     "name": "#%% md\n"
    }
   }
  },
  {
   "cell_type": "code",
   "execution_count": 585,
   "outputs": [
    {
     "name": "stdout",
     "output_type": "stream",
     "text": [
      "{'text': 'Sunday afternoon walking through Venice in the sun with @user ️ ️ ️ @ Abbot Kinney, Venice', 'label': 12}\n",
      "{'text': \"Time for some BBQ and whiskey libations. Chomp, belch, chomp! (@ Lucille's Smokehouse Bar-B-Que)\", 'label': 19}\n",
      "{'text': 'Love love love all these people ️ ️ ️ #friends #bff #celebrate #blessed #sundayfunday @ San…', 'label': 0}\n",
      "{'text': '️ ️ ️ ️ @ Toys\"R\"Us', 'label': 0}\n",
      "{'text': 'Man these are the funniest kids ever!! That face! #HappyBirthdayBubb @ FLIPnOUT Xtreme', 'label': 2}\n",
      "{'text': '#sandiego @ San Diego, California', 'label': 11}\n",
      "{'text': 'My little ️ ️ ️ ️ ️ #ObsessedWithMyDog @ Cafe Solstice Capitol Hill', 'label': 0}\n",
      "{'text': 'More #tinyepic things #tinyepicwestern, this one is crazy @user I may be one of your…', 'label': 19}\n",
      "{'text': 'Last night ️ @ Omnia Night Club At Caesars Palace', 'label': 0}\n",
      "{'text': 'friendship at its finest. ....#pixar #toystory #buzz #woody #friends #friendship #bff…', 'label': 7}\n"
     ]
    }
   ],
   "source": [
    "for i in range(10):\n",
    "    print(tweet_ds['train'][i])"
   ],
   "metadata": {
    "collapsed": false,
    "pycharm": {
     "name": "#%%\n"
    },
    "ExecuteTime": {
     "end_time": "2025-04-12T21:26:49.968950Z",
     "start_time": "2025-04-12T21:26:49.961663Z"
    }
   }
  },
  {
   "cell_type": "markdown",
   "source": [
    "You can easily cast the dataset to the pandas DataFrame."
   ],
   "metadata": {
    "collapsed": false,
    "pycharm": {
     "name": "#%% md\n"
    }
   }
  },
  {
   "cell_type": "code",
   "execution_count": 586,
   "outputs": [
    {
     "name": "stdout",
     "output_type": "stream",
     "text": [
      "                                                    text  label\n",
      "0      Sunday afternoon walking through Venice in the...     12\n",
      "1      Time for some BBQ and whiskey libations. Chomp...     19\n",
      "2      Love love love all these people ️ ️ ️ #friends...      0\n",
      "3                                    ️ ️ ️ ️ @ Toys\"R\"Us      0\n",
      "4      Man these are the funniest kids ever!! That fa...      2\n",
      "...                                                  ...    ...\n",
      "44995  Here to celebrate the Nunez wedding! Love my b...      0\n",
      "44996  1 night in Paris.... Wait... @ Paris Las Vegas...      1\n",
      "44997  Be safe this weekend everyone. #happylaborday ...     11\n",
      "44998          Pizza (@ Five50 - @user in Las Vegas, NV)      1\n",
      "44999  my mini is perfect, no one deserves her @ Las ...     13\n",
      "\n",
      "[45000 rows x 2 columns]\n"
     ]
    },
    {
     "data": {
      "text/plain": "                                                    text  label\n0      Sunday afternoon walking through Venice in the...     12\n1      Time for some BBQ and whiskey libations. Chomp...     19\n2      Love love love all these people ️ ️ ️ #friends...      0\n3                                    ️ ️ ️ ️ @ Toys\"R\"Us      0\n4      Man these are the funniest kids ever!! That fa...      2\n...                                                  ...    ...\n44995  Here to celebrate the Nunez wedding! Love my b...      0\n44996  1 night in Paris.... Wait... @ Paris Las Vegas...      1\n44997  Be safe this weekend everyone. #happylaborday ...     11\n44998          Pizza (@ Five50 - @user in Las Vegas, NV)      1\n44999  my mini is perfect, no one deserves her @ Las ...     13\n\n[45000 rows x 2 columns]",
      "text/html": "<div>\n<style scoped>\n    .dataframe tbody tr th:only-of-type {\n        vertical-align: middle;\n    }\n\n    .dataframe tbody tr th {\n        vertical-align: top;\n    }\n\n    .dataframe thead th {\n        text-align: right;\n    }\n</style>\n<table border=\"1\" class=\"dataframe\">\n  <thead>\n    <tr style=\"text-align: right;\">\n      <th></th>\n      <th>text</th>\n      <th>label</th>\n    </tr>\n  </thead>\n  <tbody>\n    <tr>\n      <th>0</th>\n      <td>Sunday afternoon walking through Venice in the...</td>\n      <td>12</td>\n    </tr>\n    <tr>\n      <th>1</th>\n      <td>Time for some BBQ and whiskey libations. Chomp...</td>\n      <td>19</td>\n    </tr>\n    <tr>\n      <th>2</th>\n      <td>Love love love all these people ️ ️ ️ #friends...</td>\n      <td>0</td>\n    </tr>\n    <tr>\n      <th>3</th>\n      <td>️ ️ ️ ️ @ Toys\"R\"Us</td>\n      <td>0</td>\n    </tr>\n    <tr>\n      <th>4</th>\n      <td>Man these are the funniest kids ever!! That fa...</td>\n      <td>2</td>\n    </tr>\n    <tr>\n      <th>...</th>\n      <td>...</td>\n      <td>...</td>\n    </tr>\n    <tr>\n      <th>44995</th>\n      <td>Here to celebrate the Nunez wedding! Love my b...</td>\n      <td>0</td>\n    </tr>\n    <tr>\n      <th>44996</th>\n      <td>1 night in Paris.... Wait... @ Paris Las Vegas...</td>\n      <td>1</td>\n    </tr>\n    <tr>\n      <th>44997</th>\n      <td>Be safe this weekend everyone. #happylaborday ...</td>\n      <td>11</td>\n    </tr>\n    <tr>\n      <th>44998</th>\n      <td>Pizza (@ Five50 - @user in Las Vegas, NV)</td>\n      <td>1</td>\n    </tr>\n    <tr>\n      <th>44999</th>\n      <td>my mini is perfect, no one deserves her @ Las ...</td>\n      <td>13</td>\n    </tr>\n  </tbody>\n</table>\n<p>45000 rows × 2 columns</p>\n</div>"
     },
     "execution_count": 586,
     "metadata": {},
     "output_type": "execute_result"
    }
   ],
   "source": [
    "tweet_train_df = pd.DataFrame(tweet_ds['train'])\n",
    "print(tweet_train_df)\n",
    "tweet_train_df"
   ],
   "metadata": {
    "collapsed": false,
    "pycharm": {
     "name": "#%%\n"
    },
    "ExecuteTime": {
     "end_time": "2025-04-12T21:26:50.541117Z",
     "start_time": "2025-04-12T21:26:49.964352Z"
    }
   }
  },
  {
   "cell_type": "markdown",
   "source": [
    "We can plot the distribution of the labels in the training subset."
   ],
   "metadata": {
    "collapsed": false,
    "pycharm": {
     "name": "#%% md\n"
    }
   }
  },
  {
   "cell_type": "code",
   "execution_count": 587,
   "outputs": [
    {
     "data": {
      "text/plain": "<Axes: xlabel='label'>"
     },
     "execution_count": 587,
     "metadata": {},
     "output_type": "execute_result"
    },
    {
     "data": {
      "text/plain": "<Figure size 640x480 with 1 Axes>",
      "image/png": "[encoded data removed]"
     },
     "metadata": {},
     "output_type": "display_data"
    }
   ],
   "source": [
    "tweet_train_df.groupby('label').count().plot.bar()"
   ],
   "metadata": {
    "collapsed": false,
    "pycharm": {
     "name": "#%%\n"
    },
    "ExecuteTime": {
     "end_time": "2025-04-12T21:26:50.767470Z",
     "start_time": "2025-04-12T21:26:50.565620Z"
    }
   }
  },
  {
   "cell_type": "markdown",
   "source": [
    "### Dataset's filter function\n",
    "We can filter the examples using ```filter()``` method. See this link for more details https://huggingface.co/docs/datasets/en/use_dataset. Here is an example of filtering the short tweets (less than 20 characters) from the ```train``` subset."
   ],
   "metadata": {
    "collapsed": false,
    "pycharm": {
     "name": "#%% md\n"
    }
   }
  },
  {
   "cell_type": "code",
   "execution_count": 588,
   "outputs": [
    {
     "name": "stdout",
     "output_type": "stream",
     "text": [
      "Dataset({\n",
      "    features: ['text', 'label'],\n",
      "    num_rows: 506\n",
      "})\n"
     ]
    },
    {
     "data": {
      "text/plain": "Dataset({\n    features: ['text', 'label'],\n    num_rows: 506\n})"
     },
     "execution_count": 588,
     "metadata": {},
     "output_type": "execute_result"
    }
   ],
   "source": [
    "short_tweets = tweet_ds['train'].filter(lambda example: len(example['text']) < 20)\n",
    "print(short_tweets)\n",
    "short_tweets"
   ],
   "metadata": {
    "collapsed": false,
    "pycharm": {
     "name": "#%%\n"
    },
    "ExecuteTime": {
     "end_time": "2025-04-12T21:26:50.844175Z",
     "start_time": "2025-04-12T21:26:50.800780Z"
    }
   }
  },
  {
   "cell_type": "code",
   "execution_count": 589,
   "outputs": [
    {
     "name": "stdout",
     "output_type": "stream",
     "text": [
      "{'text': '️ ️ ️ ️ @ Toys\"R\"Us', 'label': 0}\n",
      "{'text': '️ @ Columbia River', 'label': 12}\n",
      "{'text': 'My weekend: @user 3', 'label': 6}\n",
      "{'text': 'good day today', 'label': 3}\n",
      "{'text': 'My last RT...', 'label': 2}\n",
      "{'text': '@ On Lake Cowichan', 'label': 13}\n",
      "{'text': '@ Macroplaza', 'label': 4}\n",
      "{'text': '@ BART Train', 'label': 6}\n",
      "{'text': '️ 4 a tbh&amp; rate', 'label': 0}\n",
      "{'text': '@user Oh nice!!', 'label': 14}\n"
     ]
    }
   ],
   "source": [
    "for i in range(10):\n",
    "    print(short_tweets[i])"
   ],
   "metadata": {
    "collapsed": false,
    "pycharm": {
     "name": "#%%\n"
    },
    "ExecuteTime": {
     "end_time": "2025-04-12T21:26:50.846253Z",
     "start_time": "2025-04-12T21:26:50.808522Z"
    }
   }
  },
  {
   "cell_type": "markdown",
   "source": [
    "### Dataset's map function\n",
    "Datasets library contains a very useful method map. It expects a function that will receive an example from the dataset. This function will be applied to all entries. We will calculate the length of the text (in characters) in each example."
   ],
   "metadata": {
    "collapsed": false,
    "pycharm": {
     "name": "#%% md\n"
    }
   }
  },
  {
   "cell_type": "code",
   "execution_count": 590,
   "outputs": [],
   "source": [
    "def calculate_text_length(example):\n",
    "    example['text_length'] = len(example['text'])\n",
    "    return example"
   ],
   "metadata": {
    "collapsed": false,
    "pycharm": {
     "name": "#%%\n"
    },
    "ExecuteTime": {
     "end_time": "2025-04-12T21:26:50.866061Z",
     "start_time": "2025-04-12T21:26:50.815092Z"
    }
   }
  },
  {
   "cell_type": "code",
   "execution_count": 591,
   "outputs": [
    {
     "name": "stdout",
     "output_type": "stream",
     "text": [
      "DatasetDict({\n",
      "    train: Dataset({\n",
      "        features: ['text', 'label', 'text_length'],\n",
      "        num_rows: 45000\n",
      "    })\n",
      "    test: Dataset({\n",
      "        features: ['text', 'label', 'text_length'],\n",
      "        num_rows: 50000\n",
      "    })\n",
      "    validation: Dataset({\n",
      "        features: ['text', 'label', 'text_length'],\n",
      "        num_rows: 5000\n",
      "    })\n",
      "})\n"
     ]
    }
   ],
   "source": [
    "tweet_ds = tweet_ds.map(calculate_text_length)\n",
    "print(tweet_ds)"
   ],
   "metadata": {
    "collapsed": false,
    "pycharm": {
     "name": "#%%\n"
    },
    "ExecuteTime": {
     "end_time": "2025-04-12T21:26:50.955357Z",
     "start_time": "2025-04-12T21:26:50.824052Z"
    }
   }
  },
  {
   "cell_type": "markdown",
   "source": [
    "We can plot the histogram of the text lengths."
   ],
   "metadata": {
    "collapsed": false,
    "pycharm": {
     "name": "#%% md\n"
    }
   }
  },
  {
   "cell_type": "code",
   "execution_count": 592,
   "outputs": [
    {
     "data": {
      "text/plain": "<Axes: ylabel='Frequency'>"
     },
     "execution_count": 592,
     "metadata": {},
     "output_type": "execute_result"
    },
    {
     "data": {
      "text/plain": "<Figure size 640x480 with 1 Axes>",
      "image/png": "[encoded data removed]"
     },
     "metadata": {},
     "output_type": "display_data"
    }
   ],
   "source": [
    "pd.DataFrame(tweet_ds['train']).groupby('text_length')['text_length'].count().plot.hist(bins=50)"
   ],
   "metadata": {
    "collapsed": false,
    "pycharm": {
     "name": "#%%\n"
    },
    "ExecuteTime": {
     "end_time": "2025-04-12T21:26:51.681941Z",
     "start_time": "2025-04-12T21:26:50.864067Z"
    }
   }
  },
  {
   "cell_type": "markdown",
   "source": [
    "<a name=\"e1\"></a>\n",
    "\n",
    "### Exercise 1: Questions about the datasets\n",
    "1. (1p) What is the size of the training, test and validation datasets?\n",
    "2. (1p) What are the top 5 most frequent emojis in the validation dataset?\n",
    "3. (1p) Compare the distributions of labels (emojis) between training and validation datasets.\n",
    "4. (1p) How many examples with the \"fire\" emoji are in the training dataset?\n",
    "5. (1p) What is the average length (in characters) of the tweets in the training dataset?"
   ],
   "metadata": {
    "collapsed": false,
    "pycharm": {
     "name": "#%% md\n"
    }
   }
  },
  {
   "cell_type": "markdown",
   "source": [
    "You can add cells here to answer the questions"
   ],
   "metadata": {
    "collapsed": false,
    "pycharm": {
     "name": "#%% md\n"
    }
   }
  },
  {
   "cell_type": "code",
   "execution_count": 593,
   "outputs": [
    {
     "name": "stdout",
     "output_type": "stream",
     "text": [
      "Exercise 1.1\n",
      "Size of training dataset:  45000\n",
      "Size of test dataset:  50000\n",
      "Size of validation dataset:  5000\n"
     ]
    }
   ],
   "source": [
    "### Exercise 1:\n",
    "print('Exercise 1.1')\n",
    "print('Size of training dataset: ', len(tweet_ds['train']))\n",
    "print('Size of test dataset: ', len(tweet_ds['test']))\n",
    "print('Size of validation dataset: ', len(tweet_ds['validation']))"
   ],
   "metadata": {
    "collapsed": false,
    "ExecuteTime": {
     "end_time": "2025-04-12T21:26:51.695660Z",
     "start_time": "2025-04-12T21:26:51.654152Z"
    }
   }
  },
  {
   "cell_type": "code",
   "outputs": [
    {
     "data": {
      "text/plain": "                                                    text  label  text_length\n0      Sunday afternoon walking through Venice in the...     12           90\n1      Time for some BBQ and whiskey libations. Chomp...     19           96\n2      Love love love all these people ️ ️ ️ #friends...      0           92\n3                                    ️ ️ ️ ️ @ Toys\"R\"Us      0           19\n4      Man these are the funniest kids ever!! That fa...      2           86\n...                                                  ...    ...          ...\n44995  Here to celebrate the Nunez wedding! Love my b...      0           65\n44996  1 night in Paris.... Wait... @ Paris Las Vegas...      1           65\n44997  Be safe this weekend everyone. #happylaborday ...     11           55\n44998          Pizza (@ Five50 - @user in Las Vegas, NV)      1           41\n44999  my mini is perfect, no one deserves her @ Las ...     13           59\n\n[45000 rows x 3 columns]",
      "text/html": "<div>\n<style scoped>\n    .dataframe tbody tr th:only-of-type {\n        vertical-align: middle;\n    }\n\n    .dataframe tbody tr th {\n        vertical-align: top;\n    }\n\n    .dataframe thead th {\n        text-align: right;\n    }\n</style>\n<table border=\"1\" class=\"dataframe\">\n  <thead>\n    <tr style=\"text-align: right;\">\n      <th></th>\n      <th>text</th>\n      <th>label</th>\n      <th>text_length</th>\n    </tr>\n  </thead>\n  <tbody>\n    <tr>\n      <th>0</th>\n      <td>Sunday afternoon walking through Venice in the...</td>\n      <td>12</td>\n      <td>90</td>\n    </tr>\n    <tr>\n      <th>1</th>\n      <td>Time for some BBQ and whiskey libations. Chomp...</td>\n      <td>19</td>\n      <td>96</td>\n    </tr>\n    <tr>\n      <th>2</th>\n      <td>Love love love all these people ️ ️ ️ #friends...</td>\n      <td>0</td>\n      <td>92</td>\n    </tr>\n    <tr>\n      <th>3</th>\n      <td>️ ️ ️ ️ @ Toys\"R\"Us</td>\n      <td>0</td>\n      <td>19</td>\n    </tr>\n    <tr>\n      <th>4</th>\n      <td>Man these are the funniest kids ever!! That fa...</td>\n      <td>2</td>\n      <td>86</td>\n    </tr>\n    <tr>\n      <th>...</th>\n      <td>...</td>\n      <td>...</td>\n      <td>...</td>\n    </tr>\n    <tr>\n      <th>44995</th>\n      <td>Here to celebrate the Nunez wedding! Love my b...</td>\n      <td>0</td>\n      <td>65</td>\n    </tr>\n    <tr>\n      <th>44996</th>\n      <td>1 night in Paris.... Wait... @ Paris Las Vegas...</td>\n      <td>1</td>\n      <td>65</td>\n    </tr>\n    <tr>\n      <th>44997</th>\n      <td>Be safe this weekend everyone. #happylaborday ...</td>\n      <td>11</td>\n      <td>55</td>\n    </tr>\n    <tr>\n      <th>44998</th>\n      <td>Pizza (@ Five50 - @user in Las Vegas, NV)</td>\n      <td>1</td>\n      <td>41</td>\n    </tr>\n    <tr>\n      <th>44999</th>\n      <td>my mini is perfect, no one deserves her @ Las ...</td>\n      <td>13</td>\n      <td>59</td>\n    </tr>\n  </tbody>\n</table>\n<p>45000 rows × 3 columns</p>\n</div>"
     },
     "execution_count": 594,
     "metadata": {},
     "output_type": "execute_result"
    }
   ],
   "source": [
    "train_df = tweet_ds['train']\n",
    "train_ds_df = pd.DataFrame(tweet_ds['train'])\n",
    "train_ds_df"
   ],
   "metadata": {
    "collapsed": false,
    "pycharm": {
     "name": "#%%\n"
    },
    "ExecuteTime": {
     "end_time": "2025-04-12T21:26:52.873038Z",
     "start_time": "2025-04-12T21:26:51.686143Z"
    }
   },
   "execution_count": 594
  },
  {
   "cell_type": "code",
   "outputs": [
    {
     "name": "stdout",
     "output_type": "stream",
     "text": [
      "Exercise 1.2\n"
     ]
    },
    {
     "data": {
      "text/plain": "   Label  Count\n0      0   1056\n1      1    521\n2      2    504\n3      3    308\n4      4    243",
      "text/html": "<div>\n<style scoped>\n    .dataframe tbody tr th:only-of-type {\n        vertical-align: middle;\n    }\n\n    .dataframe tbody tr th {\n        vertical-align: top;\n    }\n\n    .dataframe thead th {\n        text-align: right;\n    }\n</style>\n<table border=\"1\" class=\"dataframe\">\n  <thead>\n    <tr style=\"text-align: right;\">\n      <th></th>\n      <th>Label</th>\n      <th>Count</th>\n    </tr>\n  </thead>\n  <tbody>\n    <tr>\n      <th>0</th>\n      <td>0</td>\n      <td>1056</td>\n    </tr>\n    <tr>\n      <th>1</th>\n      <td>1</td>\n      <td>521</td>\n    </tr>\n    <tr>\n      <th>2</th>\n      <td>2</td>\n      <td>504</td>\n    </tr>\n    <tr>\n      <th>3</th>\n      <td>3</td>\n      <td>308</td>\n    </tr>\n    <tr>\n      <th>4</th>\n      <td>4</td>\n      <td>243</td>\n    </tr>\n  </tbody>\n</table>\n</div>"
     },
     "execution_count": 595,
     "metadata": {},
     "output_type": "execute_result"
    }
   ],
   "source": [
    "print('Exercise 1.2')\n",
    "validation_ds_df = pd.DataFrame(tweet_ds['validation'])\n",
    "top5labels = validation_ds_df['label'].value_counts().head(5).reset_index()\n",
    "top5labels.columns = ['Label', 'Count']\n",
    "top5labels\n"
   ],
   "metadata": {
    "collapsed": false,
    "ExecuteTime": {
     "end_time": "2025-04-12T21:26:52.999059Z",
     "start_time": "2025-04-12T21:26:52.873158Z"
    }
   },
   "execution_count": 595
  },
  {
   "cell_type": "code",
   "outputs": [
    {
     "name": "stdout",
     "output_type": "stream",
     "text": [
      "Exercise 1.3\n"
     ]
    },
    {
     "data": {
      "text/plain": "<matplotlib.legend.Legend at 0x35276cc50>"
     },
     "execution_count": 596,
     "metadata": {},
     "output_type": "execute_result"
    },
    {
     "data": {
      "text/plain": "<Figure size 1000x500 with 1 Axes>",
      "image/png": "[encoded data removed]"
     },
     "metadata": {},
     "output_type": "display_data"
    }
   ],
   "source": [
    "print('Exercise 1.3')\n",
    "# we will use the validation_ds_df received in a previous step\n",
    "train_ds_df = pd.DataFrame(tweet_ds['train'])\n",
    "\n",
    "train_label_counts = train_ds_df['label'].value_counts().sort_index()\n",
    "val_label_counts = validation_ds_df['label'].value_counts().sort_index()\n",
    "\n",
    "label_dist_df = pd.DataFrame({\n",
    "    'train': train_label_counts,\n",
    "    'validation': val_label_counts\n",
    "}).fillna(0)\n",
    "\n",
    "label_dist_df\n",
    "plt = label_dist_df.plot(kind='bar', figsize=(10,5), title=\"Distribution of labels in training and validation datasets\")\n",
    "plt.legend()\n"
   ],
   "metadata": {
    "collapsed": false,
    "ExecuteTime": {
     "end_time": "2025-04-12T21:26:53.726745Z",
     "start_time": "2025-04-12T21:26:52.983659Z"
    }
   },
   "execution_count": 596
  },
  {
   "cell_type": "code",
   "outputs": [
    {
     "name": "stdout",
     "output_type": "stream",
     "text": [
      "Exercise 1.4\n",
      "There are 2146 records which labeled by 4\n"
     ]
    }
   ],
   "source": [
    "print('Exercise 1.4')\n",
    "# after inspecting the website we concluded that \"fire\" emoji is labeled by number 4. So we will look for amount of records with label == 4 in the training dataset\n",
    "train_ds_df = pd.DataFrame(tweet_ds['train'])\n",
    "fire_count = (train_ds_df['label'] == 4).sum()\n",
    "print('There are',fire_count, 'records which labeled by 4')"
   ],
   "metadata": {
    "collapsed": false,
    "ExecuteTime": {
     "end_time": "2025-04-12T21:26:54.300885Z",
     "start_time": "2025-04-12T21:26:53.728358Z"
    }
   },
   "execution_count": 597
  },
  {
   "cell_type": "code",
   "outputs": [
    {
     "name": "stdout",
     "output_type": "stream",
     "text": [
      "Exercise 1.5\n",
      "The average length (in characters) of the tweets in the training dataset: 71.01691111111111\n"
     ]
    }
   ],
   "source": [
    "print('Exercise 1.5')\n",
    "# The average length (in characters) of the tweets in the training dataset:\n",
    "\n",
    "train_ds_df = pd.DataFrame(tweet_ds['train'])\n",
    "train_ds_df['length'] = train_ds_df['text'].apply(len)\n",
    "print(\"The average length (in characters) of the tweets in the training dataset:\", train_ds_df['length'].mean())\n"
   ],
   "metadata": {
    "collapsed": false,
    "ExecuteTime": {
     "end_time": "2025-04-12T21:26:54.883184Z",
     "start_time": "2025-04-12T21:26:54.299972Z"
    }
   },
   "execution_count": 598
  },
  {
   "cell_type": "markdown",
   "source": [
    "\n",
    "## 2. Tokenization\n",
    "\n",
    "In this section we will preprocess the dataset by cleaning and tokenizing the entries.\n",
    "Datasets library contains a very useful method map. It expects a function that will receive an example from the dataset. This function will be applied to all entries."
   ],
   "metadata": {
    "collapsed": false,
    "pycharm": {
     "name": "#%% md\n"
    }
   }
  },
  {
   "cell_type": "markdown",
   "source": [
    "### 2.1 Cleaning the text"
   ],
   "metadata": {
    "collapsed": false,
    "pycharm": {
     "name": "#%% md\n"
    }
   }
  },
  {
   "cell_type": "markdown",
   "source": [
    "<a name=\"e2\"></a>\n",
    "### Exercise 2: Write the text cleaning function\n",
    "\n",
    "Include at least the following steps:\n",
    "- (1p) remove comma between numbers, i.e. 15,000 -> 15000\n",
    "- (1p) remove multiple spaces\n",
    "- (1p) space out the punctuation (i.e. \"hello, world.\" -> \"hello , world .\")\n",
    "- (3x1p) three more cleaning steps of your choice"
   ],
   "metadata": {
    "collapsed": false,
    "pycharm": {
     "name": "#%% md\n"
    }
   }
  },
  {
   "cell_type": "code",
   "execution_count": 599,
   "outputs": [],
   "source": [
    "def clean(example):\n",
    "    \"\"\"\n",
    "    Cleans the example from the Dataset\n",
    "    Args:\n",
    "        example: an example from the Dataset\n",
    "\n",
    "    Returns: update example containing 'clean' column\n",
    "\n",
    "    \"\"\"\n",
    "    text = example['text']\n",
    "\n",
    "    # Empty text\n",
    "    if text == '':\n",
    "        example['clean'] = ''\n",
    "        return example\n",
    "\n",
    "    # 'text' from the example can be of type numpy.str_, let's convert it to a python str\n",
    "    text = str(text)\n",
    "\n",
    "    ### YOUR CODE HERE\n",
    "    \n",
    "    # three more cleaning steps of your choice\n",
    "    \n",
    "    #4.1 setting everything to small letters\n",
    "    text = text.lower()\n",
    "    \n",
    "    #4.2 People often prolong words to \"empoooweer\" the meaning. So, we need clean them because they devide the same (almost same)\n",
    "    # Remove 3+ repeated characters (letters, dots, etc.)\n",
    "    text = re.sub(r'(.)\\1{2,}', r'\\1\\1', text)\n",
    "\n",
    "    # This code replaces 3 or more repeated characters with only 2 of them\n",
    "    \n",
    "    #4.3 We do not want to count links as words.\n",
    "    text = re.sub(r'http\\S+|www\\S+|https\\S+', \"\", text)\n",
    "    \n",
    "    #4.4 We do not need to count usernames as words also. So we need to delete all words that starts with @\n",
    "    text = re.sub(r'@\\w+|\\b@user\\b|\\s*@\\s*', \"\", text)\n",
    "\n",
    "    # Remove isolated @ symbols\n",
    "    text = re.sub(r'@', \"\", text)\n",
    "\n",
    "    # text = re.sub(r'\\s*@\\s*', ' ', text)\n",
    "    \n",
    "    #4.5 Remove all non-alphanumeric symbols (keep only letters, numbers and spaces)\n",
    "    text = re.sub(r'[^a-zA-Z0-9\\s]', ' ', text)\n",
    "\n",
    "\n",
    "    \n",
    "    # remove comma between numbers\n",
    "    #ChatGPT (prompt: how to check the previous and the next value using re.sub?) To confirm that coma is between two numbers\n",
    "    #?<=\\d),(?=\\d) checks for the pattern where 'previous is digit, next is coma and after is also digit\n",
    "    #the rest replaces the pattern with nothing (basically deleting coma)\n",
    "    text = re.sub(r'(?<=\\d),(?=\\d)', \"\", text)\n",
    "\n",
    "    # space out the punctuation\n",
    "    text = re.sub(r'\\s*,\\s*', ' , ', text)\n",
    "    \n",
    "    # space out the punctuation\n",
    "    #2 spacing out most common special characters Chat GPT -> how to add multiple arguments? Solution recived putting it in square brackets\n",
    "    text = re.sub(r'\\s*([!.?@#%&()])\\s*', r' \\1 ', text)\n",
    "\n",
    "    # remove multiple spaces\n",
    "    #For the better working of the code i moved the 'removing of multiple spaces' to the end since sapcing out the special characters  ,, can cause double space\n",
    "\n",
    "    text = re.sub(r'\\s{2,}', ' ', text)\n",
    "\n",
    "    # remove multiple spaces\n",
    "    #For the better working of the code i moved the 'removing of multiple spaces' to the end since sapcing out the special characters  ,, can cause double space\n",
    "    text = re.sub(r'[\\u200d\\u200c\\u2764\\ufe0f]+', ' ', text)    \n",
    "    pattern = r\"\\s{2,}\"\n",
    "    text = re.sub(pattern, ' ', text) \n",
    "\n",
    "    # Update the example with the cleaned text\n",
    "    example['clean'] = text.strip()\n",
    "    return example"
   ],
   "metadata": {
    "collapsed": false,
    "pycharm": {
     "name": "#%%\n"
    },
    "ExecuteTime": {
     "end_time": "2025-04-12T21:26:54.894517Z",
     "start_time": "2025-04-12T21:26:54.886224Z"
    }
   }
  },
  {
   "cell_type": "markdown",
   "source": [
    "This is an example of applying the ```clean()``` function you just wrote to a single entry of the dataset. The function added a 'clean' field to the example."
   ],
   "metadata": {
    "collapsed": false,
    "pycharm": {
     "name": "#%% md\n"
    }
   }
  },
  {
   "cell_type": "code",
   "execution_count": 600,
   "outputs": [
    {
     "name": "stdout",
     "output_type": "stream",
     "text": [
      "Original tweet item:\n",
      "Time for some BBQ and whiskey libations. Chomp, belch, chomp! (@ Lucille's Smokehouse Bar-B-Que)\n",
      "Cleaned tweet item:\n",
      "time for some bbq and whiskey libations chomp belch chomp lucille s smokehouse bar b que\n"
     ]
    }
   ],
   "source": [
    "print('Original tweet item:')\n",
    "print(tweet_ds['train'][1]['text'])\n",
    "print('Cleaned tweet item:')\n",
    "print(clean(tweet_ds['train'][1])['clean'])"
   ],
   "metadata": {
    "collapsed": false,
    "pycharm": {
     "name": "#%%\n"
    },
    "ExecuteTime": {
     "end_time": "2025-04-12T21:26:54.902177Z",
     "start_time": "2025-04-12T21:26:54.892862Z"
    }
   }
  },
  {
   "cell_type": "markdown",
   "source": [
    "Let's finally use the ```map()``` method and apply your `clean()` function to all entries of the dataset. You can see that the ```clean``` column has been added to each split."
   ],
   "metadata": {
    "collapsed": false,
    "pycharm": {
     "name": "#%% md\n"
    }
   }
  },
  {
   "cell_type": "markdown",
   "source": [
    "Below, we will apply your function to all entries in the dataset."
   ],
   "metadata": {
    "collapsed": false,
    "pycharm": {
     "name": "#%% md\n"
    }
   }
  },
  {
   "cell_type": "code",
   "execution_count": 601,
   "outputs": [
    {
     "data": {
      "text/plain": "Map:   0%|          | 0/45000 [00:00<?, ? examples/s]",
      "application/vnd.jupyter.widget-view+json": {
       "version_major": 2,
       "version_minor": 0,
       "model_id": "b58ff193695a4e859205d0bbb1f72838"
      }
     },
     "metadata": {},
     "output_type": "display_data"
    },
    {
     "data": {
      "text/plain": "Map:   0%|          | 0/50000 [00:00<?, ? examples/s]",
      "application/vnd.jupyter.widget-view+json": {
       "version_major": 2,
       "version_minor": 0,
       "model_id": "8f77e1d2ddb74ee7817ced09929e0ed9"
      }
     },
     "metadata": {},
     "output_type": "display_data"
    },
    {
     "data": {
      "text/plain": "Map:   0%|          | 0/5000 [00:00<?, ? examples/s]",
      "application/vnd.jupyter.widget-view+json": {
       "version_major": 2,
       "version_minor": 0,
       "model_id": "a67ff9da11f1499c9450e28a34a796d6"
      }
     },
     "metadata": {},
     "output_type": "display_data"
    },
    {
     "name": "stdout",
     "output_type": "stream",
     "text": [
      "DatasetDict({\n",
      "    train: Dataset({\n",
      "        features: ['text', 'label', 'text_length', 'clean'],\n",
      "        num_rows: 45000\n",
      "    })\n",
      "    test: Dataset({\n",
      "        features: ['text', 'label', 'text_length', 'clean'],\n",
      "        num_rows: 50000\n",
      "    })\n",
      "    validation: Dataset({\n",
      "        features: ['text', 'label', 'text_length', 'clean'],\n",
      "        num_rows: 5000\n",
      "    })\n",
      "})\n"
     ]
    }
   ],
   "source": [
    "tweet_ds = tweet_ds.map(clean)\n",
    "print(tweet_ds)"
   ],
   "metadata": {
    "collapsed": false,
    "pycharm": {
     "name": "#%%\n"
    },
    "ExecuteTime": {
     "end_time": "2025-04-12T21:27:01.776229Z",
     "start_time": "2025-04-12T21:26:54.906665Z"
    }
   }
  },
  {
   "cell_type": "markdown",
   "source": [
    "### 2.2 Build vocabulary\n",
    "\n",
    "In the previous section, we implemented the cleaning of the dataset. Now, we will tokenize the text splitting it by spaces. We will build a vocabulary based on the cleaned text of the `train` split. We will investigate some properties of corpora (e.g. Zipf's law).\n",
    "\n",
    "The function below builds a vocabulary from the dataset. It counts the occurrences of the words in the dataset using the Counter class. Check the documentation here [collections.Counter](https://docs.python.org/3/library/collections.html#collections.Counter)."
   ],
   "metadata": {
    "collapsed": false,
    "pycharm": {
     "name": "#%% md\n"
    }
   }
  },
  {
   "cell_type": "markdown",
   "source": [
    "### Exercise 3: Build the vocabulary\n",
    "(5p) Fill in the function below to build the vocabulary from the dataset. The function should return a `Counter` object with the words and their frequencies. The variable named `vocab` is already initialized as an empty `Counter` object."
   ],
   "metadata": {
    "collapsed": false,
    "pycharm": {
     "name": "#%% md\n"
    }
   }
  },
  {
   "cell_type": "code",
   "execution_count": 602,
   "outputs": [],
   "source": [
    "def build_vocab_counter(dataset):\n",
    "    \"\"\"\n",
    "    Builds a vocabulary from the dataset\n",
    "    Args:\n",
    "        dataset: a dataset\n",
    "\n",
    "    Returns: a vocabulary\n",
    "\n",
    "    \"\"\"\n",
    "    vocab = Counter()\n",
    "    \n",
    "    for record in dataset:\n",
    "        text = record['clean']\n",
    "        words = text.split(\" \")\n",
    "        vocab.update(words)\n",
    "\n",
    "    ### YOUR CODE ENDS HERE\n",
    "    return vocab"
   ],
   "metadata": {
    "collapsed": false,
    "pycharm": {
     "name": "#%%\n"
    },
    "ExecuteTime": {
     "end_time": "2025-04-12T21:27:01.780924Z",
     "start_time": "2025-04-12T21:27:01.773593Z"
    }
   }
  },
  {
   "cell_type": "code",
   "execution_count": 603,
   "outputs": [
    {
     "name": "stdout",
     "output_type": "stream",
     "text": [
      "Size of the vocabulary: 63596\n"
     ]
    }
   ],
   "source": [
    "vocab_counter = build_vocab_counter(tweet_ds['train'])\n",
    "print('Size of the vocabulary:', len(vocab_counter))"
   ],
   "metadata": {
    "collapsed": false,
    "pycharm": {
     "name": "#%%\n"
    },
    "ExecuteTime": {
     "end_time": "2025-04-12T21:27:02.512332Z",
     "start_time": "2025-04-12T21:27:01.779312Z"
    }
   }
  },
  {
   "cell_type": "markdown",
   "source": [
    "Because we created a counter, we can easily check the most and least common words in the vocabulary. Do the most common words make sense? How about the least common ones?"
   ],
   "metadata": {
    "collapsed": false,
    "pycharm": {
     "name": "#%% md\n"
    }
   }
  },
  {
   "cell_type": "code",
   "execution_count": 604,
   "outputs": [
    {
     "name": "stdout",
     "output_type": "stream",
     "text": [
      "Most common:\n",
      "[('the', 12573), ('i', 8541), ('to', 7713), ('my', 7596), ('a', 7006), ('in', 6022), ('and', 5678), ('you', 5523), ('of', 5123), ('s', 5045)]\n",
      "Least common:\n",
      "[('thedabberchick', 1), ('nector', 1), ('chefking1921express', 1), ('rolltideplayers', 1), ('doinwarner', 1), ('bffweekendcosta', 1), ('nunez', 1), ('happylabordaybeer', 1), ('five50', 1), ('herlas', 1)]\n"
     ]
    }
   ],
   "source": [
    "print('Most common:')\n",
    "print(vocab_counter.most_common(10))\n",
    "print('Least common:')\n",
    "print(vocab_counter.most_common()[-10:])"
   ],
   "metadata": {
    "collapsed": false,
    "pycharm": {
     "name": "#%%\n"
    },
    "ExecuteTime": {
     "end_time": "2025-04-12T21:27:02.574100Z",
     "start_time": "2025-04-12T21:27:02.524413Z"
    }
   }
  },
  {
   "cell_type": "markdown",
   "source": [
    "We can also plot the counts of the words. You can check the [Power law](https://en.wikipedia.org/wiki/Power_law) if you are more interested."
   ],
   "metadata": {
    "collapsed": false,
    "pycharm": {
     "name": "#%% md\n"
    }
   }
  },
  {
   "cell_type": "code",
   "execution_count": 605,
   "outputs": [
    {
     "data": {
      "text/plain": "Text(0, 0.5, 'count')"
     },
     "execution_count": 605,
     "metadata": {},
     "output_type": "execute_result"
    },
    {
     "data": {
      "text/plain": "<Figure size 640x480 with 1 Axes>",
      "image/png": "[encoded data removed]"
     },
     "metadata": {},
     "output_type": "display_data"
    }
   ],
   "source": [
    "import matplotlib.pyplot as plt\n",
    "\n",
    "plt.loglog([val for word, val in vocab_counter.most_common()])\n",
    "plt.xlabel('rank')\n",
    "plt.ylabel('count')"
   ],
   "metadata": {
    "collapsed": false,
    "pycharm": {
     "name": "#%%\n"
    },
    "ExecuteTime": {
     "end_time": "2025-04-12T21:27:02.754106Z",
     "start_time": "2025-04-12T21:27:02.557841Z"
    }
   }
  },
  {
   "cell_type": "markdown",
   "source": [
    "The plot shows that the distribution of the words in the vocabulary follows the Zipf's law. The most frequent word occurs approximately twice as often as the second most frequent word, three times as often as the third most frequent word, etc.\n",
    "\n",
    "We can also filter the vocabulary by the frequency of the words. We will only consider the most frequent words and mark the rest as the `<unk>` token. Here we set the maximum vocabulary size to 10,000. But in the later steps, you will experiment with different sizes."
   ],
   "metadata": {
    "collapsed": false,
    "pycharm": {
     "name": "#%% md\n"
    }
   }
  },
  {
   "cell_type": "code",
   "execution_count": 606,
   "outputs": [
    {
     "name": "stdout",
     "output_type": "stream",
     "text": [
      "10000\n"
     ]
    }
   ],
   "source": [
    "max_vocab_size = 10000\n",
    "vocab = vocab_counter.most_common(max_vocab_size)\n",
    "# cast to list of words\n",
    "vocab = [word for word, _ in vocab]\n",
    "print(len(vocab))"
   ],
   "metadata": {
    "collapsed": false,
    "pycharm": {
     "name": "#%%\n"
    },
    "ExecuteTime": {
     "end_time": "2025-04-12T21:27:02.767668Z",
     "start_time": "2025-04-12T21:27:02.764152Z"
    }
   }
  },
  {
   "cell_type": "markdown",
   "source": [
    "### Exercise 4: Frequency of pairs of words (bigrams)\n",
    "Calculate the frequency of (neighbouring) pairs of words in the training dataset.\n",
    "- (5p) List the most and least common pairs. Do the most common pairs make sense?\n",
    "- (2p) How many pairs occur only once in the dataset?\n",
    "- (5p) Plot the distribution of the pair frequencies."
   ],
   "metadata": {
    "collapsed": false,
    "pycharm": {
     "name": "#%% md\n"
    }
   }
  },
  {
   "cell_type": "code",
   "outputs": [
    {
     "name": "stdout",
     "output_type": "stream",
     "text": [
      "Most common bigrams:\n",
      "[(('it', 's'), 1305), (('i', 'm'), 1153), (('los', 'angeles'), 1087), (('with', 'my'), 1075), (('in', 'the'), 1024), (('for', 'the'), 876), (('i', 'love'), 865), (('angeles', 'california'), 801), (('of', 'the'), 766), (('thank', 'you'), 754)]\n",
      "\n",
      "Least common bigrams (occur only once):\n",
      "[('through', 'venice'), ('sun', 'withuser'), ('withuser', 'abbot'), ('some', 'bbq'), ('and', 'whiskey'), ('whiskey', 'libations'), ('libations', 'chomp'), ('chomp', 'belch'), ('belch', 'chomp'), ('chomp', 'lucille')]\n",
      "\n",
      "Number of bigrams that occur only once: 198065\n"
     ]
    },
    {
     "data": {
      "text/plain": "<Figure size 800x500 with 1 Axes>",
      "image/png": "[encoded data removed]"
     },
     "metadata": {},
     "output_type": "display_data"
    }
   ],
   "source": [
    "train_ds = tweet_ds['train']\n",
    "\n",
    "# Function to build bigram counter\n",
    "def build_bigram_counter(dataset):\n",
    "    bigram_counter = Counter()\n",
    "\n",
    "    for example in dataset:\n",
    "        words = example['clean'].split()\n",
    "        bigrams = zip(words, words[1:])  # Create bigrams\n",
    "        bigram_counter.update(bigrams)\n",
    "\n",
    "    return bigram_counter\n",
    "\n",
    "# Build bigram vocabulary\n",
    "bigram_vocab = build_bigram_counter(train_ds)\n",
    "\n",
    "# Most common bigrams\n",
    "print(\"Most common bigrams:\")\n",
    "print(bigram_vocab.most_common(10))\n",
    "\n",
    "# Least common bigrams\n",
    "print(\"\\nLeast common bigrams (occur only once):\")\n",
    "least_common = [pair for pair, count in bigram_vocab.items() if count == 1]\n",
    "print(least_common[:10])  # print first 10 for brevity\n",
    "\n",
    "# Number of bigrams that occur only once\n",
    "print(f\"\\nNumber of bigrams that occur only once: {len(least_common)}\")\n",
    "\n",
    "# Plot frequency distribution\n",
    "freqs = list(bigram_vocab.values())\n",
    "freqs_df = pd.Series(freqs)\n",
    "freqs_df_head = freqs_df.head(100)\n",
    "\n",
    "plt.figure(figsize=(8, 5))\n",
    "freqs_df_head.value_counts().sort_index().plot(kind='bar')\n",
    "plt.title('Bigram Frequency Distribution')\n",
    "plt.xlabel('Frequency')\n",
    "plt.ylabel('Number of Bigrams')\n",
    "plt.tight_layout()\n",
    "plt.show()"
   ],
   "metadata": {
    "collapsed": false,
    "ExecuteTime": {
     "end_time": "2025-04-12T22:06:26.667073Z",
     "start_time": "2025-04-12T22:06:21.975508Z"
    }
   },
   "execution_count": 643
  },
  {
   "cell_type": "markdown",
   "source": [
    "### 2.3 Tokenize the dataset\n",
    "The function below tokenizes the cleaned text (```example['clean']```) by splitting it on spaces. It replaces the words that are not in the vocabulary with the `<unk>` token."
   ],
   "metadata": {
    "collapsed": false,
    "pycharm": {
     "name": "#%% md\n"
    }
   }
  },
  {
   "cell_type": "markdown",
   "source": [
    "### Exercise 5: Tokenize the dataset\n",
    "\n",
    "(5p) Fill in the function below to tokenize the dataset. The function will be applied to the dataset through the `map()` method, so it returns the updated example. Your task is to split the text by spaces and replace the words that are not in the vocabulary with the `<unk>` token."
   ],
   "metadata": {
    "collapsed": false,
    "pycharm": {
     "name": "#%% md\n"
    }
   }
  },
  {
   "cell_type": "code",
   "execution_count": 608,
   "outputs": [],
   "source": [
    "def tokenize(example, vocab, unknown_token='<unk>'):\n",
    "    \"\"\"\n",
    "    Tokenizes the example from the Dataset\n",
    "    Args:\n",
    "        example: an example from the Dataset\n",
    "        vocab: a vocabulary as a list of words\n",
    "        unknown_token: a token to replace the words that are not in the vocabulary\n",
    "    Returns: update example containing 'tokens' column\n",
    "\n",
    "    \"\"\"\n",
    "    text = example['clean']\n",
    "    tokens = [] # list of tokens, your code should fill this variable\n",
    "\n",
    "    ### YOUR CODE HERE\n",
    "    for word in text.split():\n",
    "        if word in vocab:\n",
    "            tokens.append(word)\n",
    "        else:\n",
    "            tokens.append(unknown_token)\n",
    "\n",
    "    ### YOUR CODE ENDS HERE\n",
    "\n",
    "    example['tokens'] = tokens\n",
    "    return example"
   ],
   "metadata": {
    "collapsed": false,
    "pycharm": {
     "name": "#%%\n"
    },
    "ExecuteTime": {
     "end_time": "2025-04-12T21:27:04.252433Z",
     "start_time": "2025-04-12T21:27:04.243587Z"
    }
   }
  },
  {
   "cell_type": "code",
   "execution_count": 609,
   "outputs": [
    {
     "data": {
      "text/plain": "Map:   0%|          | 0/45000 [00:00<?, ? examples/s]",
      "application/vnd.jupyter.widget-view+json": {
       "version_major": 2,
       "version_minor": 0,
       "model_id": "dd6a5142d58d412ea5fc66a797f78700"
      }
     },
     "metadata": {},
     "output_type": "display_data"
    },
    {
     "data": {
      "text/plain": "Map:   0%|          | 0/50000 [00:00<?, ? examples/s]",
      "application/vnd.jupyter.widget-view+json": {
       "version_major": 2,
       "version_minor": 0,
       "model_id": "dbc6711d3f354940bbfb662cc2609807"
      }
     },
     "metadata": {},
     "output_type": "display_data"
    },
    {
     "data": {
      "text/plain": "Map:   0%|          | 0/5000 [00:00<?, ? examples/s]",
      "application/vnd.jupyter.widget-view+json": {
       "version_major": 2,
       "version_minor": 0,
       "model_id": "33f61bdbe4e14608a7b02f9fb02142db"
      }
     },
     "metadata": {},
     "output_type": "display_data"
    },
    {
     "name": "stdout",
     "output_type": "stream",
     "text": [
      "DatasetDict({\n",
      "    train: Dataset({\n",
      "        features: ['text', 'label', 'text_length', 'clean', 'tokens'],\n",
      "        num_rows: 45000\n",
      "    })\n",
      "    test: Dataset({\n",
      "        features: ['text', 'label', 'text_length', 'clean', 'tokens'],\n",
      "        num_rows: 50000\n",
      "    })\n",
      "    validation: Dataset({\n",
      "        features: ['text', 'label', 'text_length', 'clean', 'tokens'],\n",
      "        num_rows: 5000\n",
      "    })\n",
      "})\n"
     ]
    }
   ],
   "source": [
    "tweet_ds = tweet_ds.map(tokenize, fn_kwargs={'vocab': vocab})\n",
    "print(tweet_ds)"
   ],
   "metadata": {
    "collapsed": false,
    "pycharm": {
     "name": "#%%\n"
    },
    "ExecuteTime": {
     "end_time": "2025-04-12T21:27:23.257951Z",
     "start_time": "2025-04-12T21:27:04.279547Z"
    }
   }
  },
  {
   "cell_type": "markdown",
   "source": [
    "Let us examine several entries from the dataset. We can see that the `tokens` column has been added to each example."
   ],
   "metadata": {
    "collapsed": false,
    "pycharm": {
     "name": "#%% md\n"
    }
   }
  },
  {
   "cell_type": "code",
   "execution_count": 610,
   "outputs": [
    {
     "name": "stdout",
     "output_type": "stream",
     "text": [
      "Original tweet:\n",
      "Sunday afternoon walking through Venice in the sun with @user ️ ️ ️ @ Abbot Kinney, Venice\n",
      "Tokenized tweet:\n",
      "['sunday', 'afternoon', 'walking', 'through', 'venice', 'in', 'the', 'sun', 'withuser', 'abbot', 'kinney', 'venice']\n",
      "Original tweet:\n",
      "Time for some BBQ and whiskey libations. Chomp, belch, chomp! (@ Lucille's Smokehouse Bar-B-Que)\n",
      "Tokenized tweet:\n",
      "['time', 'for', 'some', 'bbq', 'and', 'whiskey', 'libations', '<unk>', '<unk>', '<unk>', 'lucille', 's', 'smokehouse', 'bar', 'b', 'que']\n",
      "Original tweet:\n",
      "Love love love all these people ️ ️ ️ #friends #bff #celebrate #blessed #sundayfunday @ San…\n",
      "Tokenized tweet:\n",
      "['love', 'love', 'love', 'all', 'these', 'people', 'friends', 'bff', 'celebrate', 'blessed', '<unk>']\n",
      "Original tweet:\n",
      "️ ️ ️ ️ @ Toys\"R\"Us\n",
      "Tokenized tweet:\n",
      "['toys', 'r', 'us']\n",
      "Original tweet:\n",
      "Man these are the funniest kids ever!! That face! #HappyBirthdayBubb @ FLIPnOUT Xtreme\n",
      "Tokenized tweet:\n",
      "['man', 'these', 'are', 'the', 'funniest', 'kids', 'ever', 'that', 'face', '<unk>', '<unk>']\n",
      "Original tweet:\n",
      "#sandiego @ San Diego, California\n",
      "Tokenized tweet:\n",
      "['sandiegosan', 'diego', 'california']\n",
      "Original tweet:\n",
      "My little ️ ️ ️ ️ ️ #ObsessedWithMyDog @ Cafe Solstice Capitol Hill\n",
      "Tokenized tweet:\n",
      "['my', 'little', '<unk>', 'solstice', 'capitol', 'hill']\n",
      "Original tweet:\n",
      "More #tinyepic things #tinyepicwestern, this one is crazy @user I may be one of your…\n",
      "Tokenized tweet:\n",
      "['more', '<unk>', 'things', '<unk>', 'this', 'one', 'is', '<unk>', 'i', 'may', 'be', 'one', 'of', 'your']\n",
      "Original tweet:\n",
      "Last night ️ @ Omnia Night Club At Caesars Palace\n",
      "Tokenized tweet:\n",
      "['last', 'night', 'omnia', 'night', 'club', 'at', 'caesars', 'palace']\n",
      "Original tweet:\n",
      "friendship at its finest. ....#pixar #toystory #buzz #woody #friends #friendship #bff…\n",
      "Tokenized tweet:\n",
      "['friendship', 'at', 'its', 'finest', '<unk>', '<unk>', 'buzz', 'woody', 'friends', 'friendship', 'bff']\n"
     ]
    }
   ],
   "source": [
    "for i in range(10):\n",
    "    print('Original tweet:')\n",
    "    print(tweet_ds['train'][i]['text'])\n",
    "    print('Tokenized tweet:')\n",
    "    print(tweet_ds['train'][i]['tokens'])"
   ],
   "metadata": {
    "collapsed": false,
    "pycharm": {
     "name": "#%%\n"
    },
    "ExecuteTime": {
     "end_time": "2025-04-12T21:27:23.264674Z",
     "start_time": "2025-04-12T21:27:23.259172Z"
    }
   }
  },
  {
   "cell_type": "markdown",
   "source": [
    "Make sure that the tokenization works as you intended. If not, revisit the cleaning and tokenization functions."
   ],
   "metadata": {
    "collapsed": false,
    "pycharm": {
     "name": "#%% md\n"
    }
   }
  },
  {
   "cell_type": "markdown",
   "source": [
    "### Exercise 6: Questions about the tokenization\n",
    "1. (3p) How many unknown tokens are in the validation dataset after tokenization?\n",
    "2. (3p) What is the distribution of the number of tokens in the training dataset?\n",
    "3. (4p) How the number of tokens corresponds to the number of characters in our dataset?\n",
    "4. (4p) How the size of the vocabulary (```max_vocab_size```) affects the number of unknown tokens?\n",
    "5. (4p) How does the size of the vocabulary affect the number of tokens in the dataset?\n",
    "6. (4p) Think about the advantages and disadvantages of the tokenization method we used. What are the cases when it will not work well?\n",
    "\n",
    "For answering these questions make sure to include a proper mix of numbers/plots/tables etc. and comments."
   ],
   "metadata": {
    "collapsed": false,
    "pycharm": {
     "name": "#%% md\n"
    }
   }
  },
  {
   "cell_type": "code",
   "outputs": [
    {
     "name": "stdout",
     "output_type": "stream",
     "text": [
      "Number of <unk> tokens in the validation dataset: 8289\n"
     ]
    }
   ],
   "source": [
    "#6.1 How many unknown tokens are in the validation dataset after tokenization?\n",
    "# Here we need to make a function because we will use it later\n",
    "def unknown_tokens_counter(example):\n",
    "    unknown_token_counter = 0\n",
    "    for sentence in example:\n",
    "        for token in sentence:\n",
    "            if token == '<unk>':\n",
    "                unknown_token_counter += 1\n",
    "    return unknown_token_counter\n",
    "            \n",
    "unknown_token_counter_val = unknown_tokens_counter(tweet_ds['validation']['tokens'])\n",
    "print(f'Number of <unk> tokens in the validation dataset: {unknown_token_counter_val}')\n"
   ],
   "metadata": {
    "collapsed": false,
    "ExecuteTime": {
     "end_time": "2025-04-12T21:27:23.342204Z",
     "start_time": "2025-04-12T21:27:23.305114Z"
    }
   },
   "execution_count": 611
  },
  {
   "cell_type": "code",
   "outputs": [
    {
     "data": {
      "text/plain": "Map:   0%|          | 0/45000 [00:00<?, ? examples/s]",
      "application/vnd.jupyter.widget-view+json": {
       "version_major": 2,
       "version_minor": 0,
       "model_id": "8f2438f8c7664fb699466283f5c60cd7"
      }
     },
     "metadata": {},
     "output_type": "display_data"
    }
   ],
   "source": [
    "#6.2 What is the distribution of the number of tokens in the training dataset?\n",
    "# It would be better to add a column with the numbers of tokens in a record\n",
    "def add_tokens_count(example):\n",
    "    example['tokens_count'] = len(example['tokens'])\n",
    "    return example\n",
    "\n",
    "tweet_ds['train'] = tweet_ds['train'].map(add_tokens_count)"
   ],
   "metadata": {
    "collapsed": false,
    "ExecuteTime": {
     "end_time": "2025-04-12T21:27:25.184561Z",
     "start_time": "2025-04-12T21:27:23.308476Z"
    }
   },
   "execution_count": 612
  },
  {
   "cell_type": "code",
   "outputs": [
    {
     "data": {
      "text/plain": "<Figure size 640x480 with 1 Axes>",
      "image/png": "[encoded data removed]"
     },
     "metadata": {},
     "output_type": "display_data"
    }
   ],
   "source": [
    "# Plot Distribution of the number of tokens in the training dataset\n",
    "# This part is in another cell to fit the plot without remaking tokens_count column every time, this pattern (sepatation the task for few cells will be commonly used by our team, so check the markdown blocks to understand which exercise we are making at each point)\n",
    "\n",
    "# This chart (and only the code for it, not the idea, was made by GPT, just to speed up the visuailization of the data)\n",
    "plt.hist(tweet_ds['train']['tokens_count'], bins=40)\n",
    "plt.title('Distribution of Number of Tokens in Train Dataset')\n",
    "plt.xlabel('Number of Tokens')\n",
    "plt.ylabel('Frequency')\n",
    "plt.show()"
   ],
   "metadata": {
    "collapsed": false,
    "ExecuteTime": {
     "end_time": "2025-04-12T21:27:25.323968Z",
     "start_time": "2025-04-12T21:27:25.182423Z"
    }
   },
   "execution_count": 613
  },
  {
   "cell_type": "code",
   "outputs": [
    {
     "data": {
      "text/plain": "Map:   0%|          | 0/45000 [00:00<?, ? examples/s]",
      "application/vnd.jupyter.widget-view+json": {
       "version_major": 2,
       "version_minor": 0,
       "model_id": "b4322f038d4647daafda76ce21e1c1f3"
      }
     },
     "metadata": {},
     "output_type": "display_data"
    }
   ],
   "source": [
    "#6.3 How the number of tokens corresponds to the number of characters in our dataset?\n",
    "# Here we add a new column 'num_characters' to the train dataset to make a distribution comparsion\n",
    "\n",
    "def add_num_characters(example):\n",
    "    example['num_characters'] = len(set(example['clean']))\n",
    "    return example\n",
    "\n",
    "tweet_ds['train'] = tweet_ds['train'].map(add_num_characters)\n"
   ],
   "metadata": {
    "collapsed": false,
    "ExecuteTime": {
     "end_time": "2025-04-12T21:27:26.434702Z",
     "start_time": "2025-04-12T21:27:25.328471Z"
    }
   },
   "execution_count": 614
  },
  {
   "cell_type": "code",
   "outputs": [
    {
     "name": "stderr",
     "output_type": "stream",
     "text": [
      "/Users/vd/anaconda3/lib/python3.11/site-packages/IPython/core/pylabtools.py:152: UserWarning: Creating legend with loc=\"best\" can be slow with large amounts of data.\n",
      "  fig.canvas.print_figure(bytes_io, **kw)\n"
     ]
    },
    {
     "data": {
      "text/plain": "<Figure size 1000x600 with 1 Axes>",
      "image/png": "[encoded data removed]"
     },
     "metadata": {},
     "output_type": "display_data"
    }
   ],
   "source": [
    "# Plot with comparsion of disribution\n",
    "# This chart (and only the code for it, not the idea, was made by GPT, just to speed up the visuailization of the data)\n",
    "plt.figure(figsize=(10, 6))\n",
    "\n",
    "plt.bar(range(len(tweet_ds['train'])), tweet_ds['train']['tokens_count'], label='Number of Tokens')\n",
    "plt.bar(range(len(tweet_ds['train'])), tweet_ds['train']['num_characters'], label='Number of Unique Characters')\n",
    "\n",
    "plt.title('Number of Tokens vs Number of Unique Characters')\n",
    "plt.xlabel('Number of record')\n",
    "plt.ylabel('Count')\n",
    "plt.legend()\n",
    "plt.show()\n"
   ],
   "metadata": {
    "collapsed": false,
    "ExecuteTime": {
     "end_time": "2025-04-12T21:28:06.722271Z",
     "start_time": "2025-04-12T21:27:26.441639Z"
    }
   },
   "execution_count": 615
  },
  {
   "cell_type": "code",
   "outputs": [
    {
     "data": {
      "text/plain": "<Figure size 1200x600 with 1 Axes>",
      "image/png": "[encoded data removed]"
     },
     "metadata": {},
     "output_type": "display_data"
    }
   ],
   "source": [
    "\n",
    "# This chart (and only the code for it, not the idea, was made by GPT, just to speed up the visuailization of the data)\n",
    "# Prepare data\n",
    "x = np.arange(len(tweet_ds['train']))  # example indices\n",
    "width = 0.4  # width of the bars\n",
    "\n",
    "plt.figure(figsize=(12, 6))\n",
    "\n",
    "plt.bar(x - width/2, tweet_ds['train']['tokens_count'], width=width, label='Number of Tokens')\n",
    "plt.bar(x + width/2, tweet_ds['train']['num_characters'], width=width, label='Number of Unique Characters')\n",
    "\n",
    "plt.title('Number of Tokens vs Number of Unique Characters')\n",
    "plt.xlabel('Example Index')\n",
    "plt.ylabel('Count')\n",
    "plt.legend()\n",
    "plt.show()\n"
   ],
   "metadata": {
    "collapsed": false,
    "ExecuteTime": {
     "end_time": "2025-04-12T21:28:48.917950Z",
     "start_time": "2025-04-12T21:28:06.717777Z"
    }
   },
   "execution_count": 616
  },
  {
   "cell_type": "code",
   "outputs": [
    {
     "data": {
      "text/plain": "<Figure size 1200x600 with 1 Axes>",
      "image/png": "[encoded data removed]"
     },
     "metadata": {},
     "output_type": "display_data"
    }
   ],
   "source": [
    "# This chart (and only the code for it, not the idea, was made by GPT, just to speed up the visuailization of the data)\n",
    "plt.figure(figsize=(12, 6))\n",
    "\n",
    "plt.bar(x, tweet_ds['train']['tokens_count'], label='Number of Tokens')\n",
    "plt.bar(x, tweet_ds['train']['num_characters'], bottom=tweet_ds['train']['tokens_count'], label='Number of Unique Characters')\n",
    "\n",
    "plt.title('Number of Tokens vs Number of Unique Characters (Stacked)')\n",
    "plt.xlabel('Example Index')\n",
    "plt.ylabel('Count')\n",
    "plt.legend()\n",
    "plt.show()\n"
   ],
   "metadata": {
    "collapsed": false,
    "ExecuteTime": {
     "end_time": "2025-04-12T21:29:27.531373Z",
     "start_time": "2025-04-12T21:28:48.914280Z"
    }
   },
   "execution_count": 617
  },
  {
   "cell_type": "code",
   "outputs": [
    {
     "data": {
      "text/plain": "Map:   0%|          | 0/45000 [00:00<?, ? examples/s]",
      "application/vnd.jupyter.widget-view+json": {
       "version_major": 2,
       "version_minor": 0,
       "model_id": "68fd8241913d43ef99aad7ad2489d807"
      }
     },
     "metadata": {},
     "output_type": "display_data"
    },
    {
     "data": {
      "text/plain": "Map:   0%|          | 0/50000 [00:00<?, ? examples/s]",
      "application/vnd.jupyter.widget-view+json": {
       "version_major": 2,
       "version_minor": 0,
       "model_id": "86936669e6e64aaa921b6e7990978618"
      }
     },
     "metadata": {},
     "output_type": "display_data"
    },
    {
     "data": {
      "text/plain": "Map:   0%|          | 0/5000 [00:00<?, ? examples/s]",
      "application/vnd.jupyter.widget-view+json": {
       "version_major": 2,
       "version_minor": 0,
       "model_id": "6b9eeafb0d8c4c669bb1f711e2181974"
      }
     },
     "metadata": {},
     "output_type": "display_data"
    },
    {
     "data": {
      "text/plain": "Map:   0%|          | 0/45000 [00:00<?, ? examples/s]",
      "application/vnd.jupyter.widget-view+json": {
       "version_major": 2,
       "version_minor": 0,
       "model_id": "d9da7e01e22347828af172bd7bc20f5e"
      }
     },
     "metadata": {},
     "output_type": "display_data"
    },
    {
     "data": {
      "text/plain": "Map:   0%|          | 0/50000 [00:00<?, ? examples/s]",
      "application/vnd.jupyter.widget-view+json": {
       "version_major": 2,
       "version_minor": 0,
       "model_id": "f81479f3b12743c28bb6f653e7c58379"
      }
     },
     "metadata": {},
     "output_type": "display_data"
    },
    {
     "data": {
      "text/plain": "Map:   0%|          | 0/5000 [00:00<?, ? examples/s]",
      "application/vnd.jupyter.widget-view+json": {
       "version_major": 2,
       "version_minor": 0,
       "model_id": "da1a5dfca92e41ef8306dade4647084a"
      }
     },
     "metadata": {},
     "output_type": "display_data"
    },
    {
     "data": {
      "text/plain": "Map:   0%|          | 0/45000 [00:00<?, ? examples/s]",
      "application/vnd.jupyter.widget-view+json": {
       "version_major": 2,
       "version_minor": 0,
       "model_id": "a30a9867621c4a7398a23671ccca3f65"
      }
     },
     "metadata": {},
     "output_type": "display_data"
    },
    {
     "data": {
      "text/plain": "Map:   0%|          | 0/50000 [00:00<?, ? examples/s]",
      "application/vnd.jupyter.widget-view+json": {
       "version_major": 2,
       "version_minor": 0,
       "model_id": "7feab722f20247148c3ec406f4a08b36"
      }
     },
     "metadata": {},
     "output_type": "display_data"
    },
    {
     "data": {
      "text/plain": "Map:   0%|          | 0/5000 [00:00<?, ? examples/s]",
      "application/vnd.jupyter.widget-view+json": {
       "version_major": 2,
       "version_minor": 0,
       "model_id": "badd188cbbda48f4aa48252658c69589"
      }
     },
     "metadata": {},
     "output_type": "display_data"
    },
    {
     "data": {
      "text/plain": "Map:   0%|          | 0/45000 [00:00<?, ? examples/s]",
      "application/vnd.jupyter.widget-view+json": {
       "version_major": 2,
       "version_minor": 0,
       "model_id": "a6a96d5db60b4bbbbdbcb70d7f6ad7b0"
      }
     },
     "metadata": {},
     "output_type": "display_data"
    },
    {
     "data": {
      "text/plain": "Map:   0%|          | 0/50000 [00:00<?, ? examples/s]",
      "application/vnd.jupyter.widget-view+json": {
       "version_major": 2,
       "version_minor": 0,
       "model_id": "43e9e96ec9cc48938dd87b63f538505d"
      }
     },
     "metadata": {},
     "output_type": "display_data"
    },
    {
     "data": {
      "text/plain": "Map:   0%|          | 0/5000 [00:00<?, ? examples/s]",
      "application/vnd.jupyter.widget-view+json": {
       "version_major": 2,
       "version_minor": 0,
       "model_id": "2852ea7f59584e64ae5a2d001893d9f5"
      }
     },
     "metadata": {},
     "output_type": "display_data"
    },
    {
     "data": {
      "text/plain": "Map:   0%|          | 0/45000 [00:00<?, ? examples/s]",
      "application/vnd.jupyter.widget-view+json": {
       "version_major": 2,
       "version_minor": 0,
       "model_id": "dcf6284a21344bfeaa014ea1e9f91d0d"
      }
     },
     "metadata": {},
     "output_type": "display_data"
    },
    {
     "data": {
      "text/plain": "Map:   0%|          | 0/50000 [00:00<?, ? examples/s]",
      "application/vnd.jupyter.widget-view+json": {
       "version_major": 2,
       "version_minor": 0,
       "model_id": "174e1fd2bb524aecb57ef036d1f79ffd"
      }
     },
     "metadata": {},
     "output_type": "display_data"
    },
    {
     "data": {
      "text/plain": "Map:   0%|          | 0/5000 [00:00<?, ? examples/s]",
      "application/vnd.jupyter.widget-view+json": {
       "version_major": 2,
       "version_minor": 0,
       "model_id": "117f8c6c6c684e88944123b3e521e046"
      }
     },
     "metadata": {},
     "output_type": "display_data"
    },
    {
     "name": "stdout",
     "output_type": "stream",
     "text": [
      "[284177, 188943, 149930, 82133, 61029]\n",
      "[479331, 479331, 479331, 479331, 479331]\n",
      "The number of unknown tokens with max_vocab_size = 100 is 284177 with average  0.5928617176856911 unknown tokens per words\n",
      "The number of unknown tokens with max_vocab_size = 500 is 188943 with average  0.39418063926597696 unknown tokens per words\n",
      "The number of unknown tokens with max_vocab_size = 1000 is 149930 with average  0.3127901178934807 unknown tokens per words\n",
      "The number of unknown tokens with max_vocab_size = 5000 is 82133 with average  0.1713492346624775 unknown tokens per words\n",
      "The number of unknown tokens with max_vocab_size = 10000 is 61029 with average  0.1273212039279746 unknown tokens per words\n",
      "[0.5928617176856911, 0.39418063926597696, 0.3127901178934807, 0.1713492346624775, 0.1273212039279746]\n",
      "[100, 500, 1000, 5000, 10000]\n"
     ]
    }
   ],
   "source": [
    "#6.4 How the size of the vocabulary (```max_vocab_size```) affects the number of unknown tokens?\n",
    "\n",
    "\n",
    "\n",
    "vocab_sizes = [100, 500, 1000, 5000, 10000]\n",
    "vocabs_list = []\n",
    "for i in range(len(vocab_sizes)):\n",
    "    vocab = vocab_counter.most_common(vocab_sizes[i])\n",
    "    # cast to list of words\n",
    "    vocab = [word for word, _ in vocab]\n",
    "    vocabs_list.append(vocab)\n",
    "# Created a different vocabs\n",
    "unk_counts = []\n",
    "average_unk_tokens = []\n",
    "words_counter = []\n",
    "uniq_tokens_counter = []\n",
    "\n",
    "for i in range(len(vocab_sizes)):\n",
    "    tweet_ds = tweet_ds.map(tokenize, fn_kwargs={'vocab': vocabs_list[i]}) \n",
    "    # created dataset with specified vocab\n",
    "    temp_tweet_ds = tweet_ds['train']\n",
    "    unknown_token_counter = 0\n",
    "    words_counter_in_sentence = 0\n",
    "    unique_tokens_dict = {}\n",
    "    for sentence in temp_tweet_ds['tokens']:\n",
    "        for token in sentence:\n",
    "            words_counter_in_sentence += 1\n",
    "            # count words to estimate average number of unknown tokens per words\n",
    "            if token == '<unk>':\n",
    "                unknown_token_counter += 1\n",
    "            else: \n",
    "                if token not in unique_tokens_dict:\n",
    "                    unique_tokens_dict[token] = 1\n",
    "                else: \n",
    "                    unique_tokens_dict[token] += 1\n",
    "                    \n",
    "    #             we need to count unique tokens for the next exercise\n",
    "    uniq_tokens_counter.append(len(unique_tokens_dict.keys()))\n",
    "    unk_counts.append(unknown_token_counter)\n",
    "    words_counter.append(words_counter_in_sentence)\n",
    "    \n",
    "\n",
    "print(unk_counts)\n",
    "print(words_counter)\n",
    "for i in range(5):\n",
    "    average_unk_tokens.append(unk_counts[i] / words_counter[i])\n",
    "    print(f\"The number of unknown tokens with max_vocab_size = {vocab_sizes[i]} is\",unk_counts[i], \"with average \",average_unk_tokens[i], \"unknown tokens per words\" )\n",
    "\n",
    "\n",
    "print(average_unk_tokens)\n",
    "print(uniq_tokens_counter)\n"
   ],
   "metadata": {
    "collapsed": false,
    "ExecuteTime": {
     "end_time": "2025-04-12T21:30:18.758143Z",
     "start_time": "2025-04-12T21:29:27.582461Z"
    }
   },
   "execution_count": 618
  },
  {
   "cell_type": "code",
   "outputs": [
    {
     "data": {
      "text/plain": "<Figure size 800x600 with 1 Axes>",
      "image/png": "[encoded data removed]"
     },
     "metadata": {},
     "output_type": "display_data"
    }
   ],
   "source": [
    "# First Chart: Number of <unk> Tokens vs Vocab Size\n",
    "# This chart (and only the code for it, not the idea, was made by GPT, just to speed up the visuailization of the data)\n",
    "plt.figure(figsize=(8, 6))\n",
    "plt.bar([str(v) for v in vocab_sizes], unk_counts)\n",
    "plt.xlabel('Vocab Size')\n",
    "plt.ylabel('Number of <unk> Tokens')\n",
    "plt.title('Number of <unk> Tokens vs Vocab Size')\n",
    "plt.grid(axis='y')\n",
    "plt.tight_layout()\n",
    "plt.show()\n",
    "\n"
   ],
   "metadata": {
    "collapsed": false,
    "ExecuteTime": {
     "end_time": "2025-04-12T21:30:18.851696Z",
     "start_time": "2025-04-12T21:30:18.759850Z"
    }
   },
   "execution_count": 619
  },
  {
   "cell_type": "markdown",
   "source": [],
   "metadata": {
    "collapsed": false
   }
  },
  {
   "cell_type": "code",
   "outputs": [
    {
     "data": {
      "text/plain": "<Figure size 800x600 with 1 Axes>",
      "image/png": "[encoded data removed]"
     },
     "metadata": {},
     "output_type": "display_data"
    }
   ],
   "source": [
    "# Second Chart: Average Number of <unk> Tokens vs Vocab Size\n",
    "# This chart (and only the code for it, not the idea, was made by GPT, just to speed up the visuailization of the data)\n",
    "plt.figure(figsize=(8, 6))\n",
    "plt.bar([str(v) for v in vocab_sizes], average_unk_tokens)\n",
    "plt.xlabel('Vocab Size')\n",
    "plt.ylabel('Average Number of <unk> Tokens')\n",
    "plt.title('Average Number of <unk> Tokens vs Vocab Size')\n",
    "plt.grid(axis='y')\n",
    "plt.tight_layout()\n",
    "plt.show()"
   ],
   "metadata": {
    "collapsed": false,
    "ExecuteTime": {
     "end_time": "2025-04-12T21:30:18.979033Z",
     "start_time": "2025-04-12T21:30:18.860625Z"
    }
   },
   "execution_count": 620
  },
  {
   "cell_type": "code",
   "outputs": [
    {
     "data": {
      "text/plain": "<Figure size 800x600 with 1 Axes>",
      "image/png": "[encoded data removed]"
     },
     "metadata": {},
     "output_type": "display_data"
    }
   ],
   "source": [
    "#6.5 How does the size of the vocabulary affect the number of tokens in the dataset?\n",
    "# This chart (and only the code for it, not the idea, was made by GPT, just to speed up the visuailization of the data)\n",
    "plt.figure(figsize=(8, 6))\n",
    "plt.bar([str(v) for v in vocab_sizes], uniq_tokens_counter)\n",
    "plt.xlabel('Vocab Size')\n",
    "plt.ylabel('Number of unique tokens')\n",
    "plt.title('Number of unique tokens vs Vocab Size')\n",
    "plt.grid(axis='y')\n",
    "plt.tight_layout()\n",
    "plt.show()\n"
   ],
   "metadata": {
    "collapsed": false,
    "ExecuteTime": {
     "end_time": "2025-04-12T21:30:19.058916Z",
     "start_time": "2025-04-12T21:30:18.927043Z"
    }
   },
   "execution_count": 621
  },
  {
   "cell_type": "markdown",
   "source": [
    "As we can see the increasing of vocabulary size increases the amount of unique tokens found in the dataset. \n",
    "We received such situation because our tokenization function use words as tokens and should be improved"
   ],
   "metadata": {
    "collapsed": false
   }
  },
  {
   "cell_type": "code",
   "outputs": [
    {
     "name": "stdout",
     "output_type": "stream",
     "text": [
      "The implemented tokenization function is to easy to give significant results because it uses just whitespaces between the words to separate sentence on tokens. \n",
      "This method has a lot of disadvantages:\n",
      "- it fails with punctuation: don't would be a separate tokens\n",
      "- it deletes all urls - but I think we not need to count the number of mentions of exact urls here\n",
      "- it can't process multi-word expressions properly: \"New York\" → two tokens.\n"
     ]
    }
   ],
   "source": [
    "#6.6 Think about the advantages and disadvantages of the tokenization method we used. What are the cases when it will not work well?\n",
    "print(\"\"\"The implemented tokenization function is to easy to give significant results because it uses just whitespaces between the words to separate sentence on tokens. \n",
    "This method has a lot of disadvantages:\n",
    "- it fails with punctuation: don't would be a separate tokens\n",
    "- it deletes all urls - but I think we not need to count the number of mentions of exact urls here\n",
    "- it can't process multi-word expressions properly: \"New York\" → two tokens.\n",
    "\"\"\")"
   ],
   "metadata": {
    "collapsed": false,
    "ExecuteTime": {
     "end_time": "2025-04-12T21:30:19.067375Z",
     "start_time": "2025-04-12T21:30:18.984397Z"
    }
   },
   "execution_count": 622
  },
  {
   "cell_type": "markdown",
   "source": [
    "## 3. Byte Pair Encoding\n",
    "\n",
    "In this section, you will build the Byte Pair Encoding (BPE) tokenizer. BPE is an algorithm that replaces the most frequent pair of tokens (initially characters) with a new token. The algorithm is configured by the number of merges that are performed. You can find the paper here [Neural Machine Translation of Rare Words with Subword Units](https://arxiv.org/abs/1508.07909)."
   ],
   "metadata": {
    "collapsed": false,
    "pycharm": {
     "name": "#%% md\n"
    }
   }
  },
  {
   "cell_type": "markdown",
   "source": [
    "### 3.1 Finding the initial set of characters\n",
    "BPE algorithm starts with the set of characters that occur in the dataset. We will build a character counter from the dataset."
   ],
   "metadata": {
    "collapsed": false,
    "pycharm": {
     "name": "#%% md\n"
    }
   }
  },
  {
   "cell_type": "markdown",
   "source": [
    "### Exercise 7: Counting the characters\n",
    "\n",
    "(5p) In this exercise, we build a counter with the frequencies of all characters in the dataset. Iterate over the dataset and count the characters in the `clean` column. The function returns a `Counter` object with the characters and their frequencies."
   ],
   "metadata": {
    "collapsed": false,
    "pycharm": {
     "name": "#%% md\n"
    }
   }
  },
  {
   "cell_type": "code",
   "execution_count": 623,
   "outputs": [],
   "source": [
    "def build_character_counter(dataset):\n",
    "    \"\"\"\n",
    "    Builds a character counter from the dataset\n",
    "    Args:\n",
    "        dataset: a dataset\n",
    "\n",
    "    Returns: a character counter\n",
    "\n",
    "    \"\"\"\n",
    "    char_counter = Counter()\n",
    "\n",
    "    ### YOUR CODE HERE\n",
    "    for iterable_character_string in dataset['clean']:\n",
    "        char_counter.update(iterable_character_string)\n",
    "    ### YOUR CODE ENDS HERE\n",
    "\n",
    "    return char_counter"
   ],
   "metadata": {
    "collapsed": false,
    "pycharm": {
     "name": "#%%\n"
    },
    "ExecuteTime": {
     "end_time": "2025-04-12T21:30:19.069394Z",
     "start_time": "2025-04-12T21:30:18.988382Z"
    }
   }
  },
  {
   "cell_type": "markdown",
   "source": [
    "The next cell applies the function to the training dataset and prints the size of the vocabulary and the most common characters."
   ],
   "metadata": {
    "collapsed": false,
    "pycharm": {
     "name": "#%% md\n"
    }
   }
  },
  {
   "cell_type": "code",
   "execution_count": 624,
   "outputs": [
    {
     "name": "stdout",
     "output_type": "stream",
     "text": [
      "38\n",
      "[(' ', 434325), ('e', 261654), ('a', 221759), ('o', 190438), ('t', 186938), ('i', 175919), ('s', 170334), ('n', 157039), ('r', 150397), ('l', 122005), ('h', 106086), ('d', 80942), ('u', 78159), ('m', 73600), ('c', 73486), ('y', 70338), ('g', 62865), ('f', 54098), ('p', 51343), ('w', 46901), ('b', 46165), ('k', 31126), ('v', 30775), ('j', 6629), ('x', 4434), ('1', 4421), ('z', 4329), ('2', 3573), ('0', 3478), ('q', 2062), ('6', 1845), ('5', 1541), ('3', 1416), ('4', 1091), ('7', 927), ('9', 810), ('8', 747), ('\\xa0', 6)]\n"
     ]
    }
   ],
   "source": [
    "char_counter = build_character_counter(tweet_ds['train'])\n",
    "print(len(char_counter))\n",
    "print(char_counter.most_common(100))"
   ],
   "metadata": {
    "collapsed": false,
    "pycharm": {
     "name": "#%%\n"
    },
    "ExecuteTime": {
     "end_time": "2025-04-12T21:30:19.192855Z",
     "start_time": "2025-04-12T21:30:19.037107Z"
    }
   }
  },
  {
   "cell_type": "markdown",
   "source": [],
   "metadata": {
    "collapsed": false,
    "pycharm": {
     "name": "#%% md\n"
    }
   }
  },
  {
   "cell_type": "markdown",
   "source": [
    "We will filter the characters that occur less than 10 times in the dataset. We will also replace the space character with the `__` token. This is necessary because we want to preserve the spaces between the words in the tokenization process."
   ],
   "metadata": {
    "collapsed": false,
    "pycharm": {
     "name": "#%% md\n"
    }
   }
  },
  {
   "cell_type": "code",
   "execution_count": 625,
   "outputs": [
    {
     "name": "stdout",
     "output_type": "stream",
     "text": [
      "['__', '0', '1', '2', '3', '4', '5', '6', '7', '8', '9', 'a', 'b', 'c', 'd', 'e', 'f', 'g', 'h', 'i', 'j', 'k', 'l', 'm', 'n', 'o', 'p', 'q', 'r', 's', 't', 'u', 'v', 'w', 'x', 'y', 'z']\n"
     ]
    }
   ],
   "source": [
    "bpe_init_vocab = sorted([char for char, _ in char_counter.most_common() if char_counter[char] >= 10])\n",
    "bpe_init_vocab[bpe_init_vocab.index(' ')] = '__'\n",
    "print(bpe_init_vocab)"
   ],
   "metadata": {
    "collapsed": false,
    "pycharm": {
     "name": "#%%\n"
    },
    "ExecuteTime": {
     "end_time": "2025-04-12T21:30:19.194765Z",
     "start_time": "2025-04-12T21:30:19.104549Z"
    }
   }
  },
  {
   "cell_type": "markdown",
   "source": [],
   "metadata": {
    "collapsed": false,
    "pycharm": {
     "name": "#%% md\n"
    }
   }
  },
  {
   "cell_type": "markdown",
   "source": [
    "### 3.2 Training the BPE tokenizer\n",
    "\n",
    "In this section, we will implement the BPE algorithm. We will start by initializing the BPE corpus. The corpus is a list of words from the dataset with their frequency. This makes it easier to find the most frequent pairs of neighbouring tokens (or characters in the beginning). Each word is split into characters and the space (the ```__``` token) is added at the end of each word."
   ],
   "metadata": {
    "collapsed": false,
    "pycharm": {
     "name": "#%% md\n"
    }
   }
  },
  {
   "cell_type": "code",
   "execution_count": 626,
   "outputs": [],
   "source": [
    "def init_bpe_corpus(dataset):\n",
    "    \"\"\"\n",
    "    Initializes the BPE corpus\n",
    "    Args:\n",
    "        dataset: a dataset\n",
    "\n",
    "    Returns: a BPE corpus\n",
    "\n",
    "    \"\"\"\n",
    "\n",
    "    corpus = Counter()\n",
    "    for example in dataset:\n",
    "        words = example['clean'].split()\n",
    "        words = [' '.join(list(word)) + ' __' for word in words]\n",
    "        corpus.update(words)\n",
    "    return corpus"
   ],
   "metadata": {
    "collapsed": false,
    "pycharm": {
     "name": "#%%\n"
    },
    "ExecuteTime": {
     "end_time": "2025-04-12T21:30:19.197175Z",
     "start_time": "2025-04-12T21:30:19.108875Z"
    }
   }
  },
  {
   "cell_type": "code",
   "execution_count": 627,
   "outputs": [
    {
     "name": "stdout",
     "output_type": "stream",
     "text": [
      "63591\n"
     ]
    }
   ],
   "source": [
    "bpe_corpus = init_bpe_corpus(tweet_ds['train'])\n",
    "print(len(bpe_corpus))"
   ],
   "metadata": {
    "collapsed": false,
    "pycharm": {
     "name": "#%%\n"
    },
    "ExecuteTime": {
     "end_time": "2025-04-12T21:30:20.491641Z",
     "start_time": "2025-04-12T21:30:19.112043Z"
    }
   }
  },
  {
   "cell_type": "markdown",
   "source": [
    "We can check the most common words in the corpus along with their frequencies."
   ],
   "metadata": {
    "collapsed": false,
    "pycharm": {
     "name": "#%% md\n"
    }
   }
  },
  {
   "cell_type": "code",
   "execution_count": 628,
   "outputs": [
    {
     "data": {
      "text/plain": "[('t h e __', 12573),\n ('i __', 8541),\n ('t o __', 7713),\n ('m y __', 7596),\n ('a __', 7006),\n ('i n __', 6022),\n ('a n d __', 5678),\n ('y o u __', 5523),\n ('o f __', 5123),\n ('s __', 5045),\n ('w i t h __', 4928),\n ('f o r __', 4738),\n ('t h i s __', 4570),\n ('c a l i f o r n i a __', 4355),\n ('i t __', 3549),\n ('i s __', 3501),\n ('l o v e __', 3421),\n ('a t __', 3147),\n ('o n __', 2775),\n ('s o __', 2315),\n ('m e __', 2184),\n ('w e __', 2175),\n ('a m p __', 2135),\n ('u s e r __', 2111),\n ('t __', 2064),\n ('h a p p y __', 1914),\n ('d a y __', 1873),\n ('a n g e l e s __', 1754),\n ('a l l __', 1752),\n ('b e a c h __', 1718)]"
     },
     "execution_count": 628,
     "metadata": {},
     "output_type": "execute_result"
    }
   ],
   "source": [
    "bpe_corpus.most_common(30)"
   ],
   "metadata": {
    "collapsed": false,
    "pycharm": {
     "name": "#%%\n"
    },
    "ExecuteTime": {
     "end_time": "2025-04-12T21:30:20.506675Z",
     "start_time": "2025-04-12T21:30:20.492755Z"
    }
   }
  },
  {
   "cell_type": "markdown",
   "source": [
    "Our BPE implementation will consist of the following steps:\n",
    "1. Calculate the frequency statistics of adjacent symbol pairs in the corpus.\n",
    "2. Find the most frequent pair.\n",
    "3. Merge the most frequent pair.\n",
    "4. Repeat until the specified number of merges is reached.\n",
    "\n",
    "The following function calculates the frequency statistics of adjacent symbol pairs in the corpus."
   ],
   "metadata": {
    "collapsed": false,
    "pycharm": {
     "name": "#%% md\n"
    }
   }
  },
  {
   "cell_type": "markdown",
   "source": [
    "### Exercise 8: Calculate the frequency statistics of adjacent symbol pairs\n",
    "(5p) Fill in the function below to calculate the frequency statistics of adjacent symbol pairs in the corpus. The function returns a Counter object with the counts of adjacent token pairs. The pairs are represented as tuples of two tokens (e.g., `('cali', 'for')`)."
   ],
   "metadata": {
    "collapsed": false,
    "pycharm": {
     "name": "#%% md\n"
    }
   }
  },
  {
   "cell_type": "code",
   "execution_count": 629,
   "outputs": [],
   "source": [
    "def calculate_bpe_corpus_stats(corpus):\n",
    "    \"\"\"\n",
    "    Calculates the frequency statistics of adjacent symbol pairs in the corpus.\n",
    "    Args:\n",
    "        corpus: a BPE corpus as a Counter object with words split by space into tokens (initially characters)\n",
    "\n",
    "    Returns: a Counter object with the frequency statistics of adjacent symbol pairs\n",
    "    \"\"\"\n",
    "    stats = Counter()\n",
    "\n",
    "    for word, freq in corpus.items():\n",
    "\n",
    "        ### YOUR CODE HERE\n",
    "        tokens = word.split()\n",
    "        pairs = zip(tokens, tokens[1:])\n",
    "        for tuple in pairs:\n",
    "            stats[tuple] += freq\n",
    "\n",
    "\n",
    "\n",
    "\n",
    "        ### YOUR CODE ENDS HERE\n",
    "\n",
    "    return stats"
   ],
   "metadata": {
    "collapsed": false,
    "pycharm": {
     "name": "#%%\n"
    },
    "ExecuteTime": {
     "end_time": "2025-04-12T21:30:20.508600Z",
     "start_time": "2025-04-12T21:30:20.495729Z"
    }
   }
  },
  {
   "cell_type": "markdown",
   "source": [
    "We can check the most common pairs of characters in the initial corpus."
   ],
   "metadata": {
    "collapsed": false,
    "pycharm": {
     "name": "#%% md\n"
    }
   }
  },
  {
   "cell_type": "code",
   "execution_count": 630,
   "outputs": [
    {
     "name": "stdout",
     "output_type": "stream",
     "text": [
      "[(('e', '__'), 76915), (('s', '__'), 57214), (('t', '__'), 44901), (('t', 'h'), 42928), (('e', 'r'), 40487), (('i', 'n'), 40434), (('y', '__'), 40135), (('a', 'n'), 35100), (('n', '__'), 34398), (('r', '__'), 33389)]\n"
     ]
    }
   ],
   "source": [
    "stats = calculate_bpe_corpus_stats(bpe_corpus)\n",
    "print(stats.most_common(10))"
   ],
   "metadata": {
    "collapsed": false,
    "pycharm": {
     "name": "#%%\n"
    },
    "ExecuteTime": {
     "end_time": "2025-04-12T21:30:20.596760Z",
     "start_time": "2025-04-12T21:30:20.526856Z"
    }
   }
  },
  {
   "cell_type": "markdown",
   "source": [
    "Next, we will implement the function that merges the most frequent pair of symbols in the corpus. The function takes the corpus and the most frequent pair of symbols as input and returns the updated corpus."
   ],
   "metadata": {
    "collapsed": false,
    "pycharm": {
     "name": "#%% md\n"
    }
   }
  },
  {
   "cell_type": "code",
   "execution_count": 631,
   "outputs": [],
   "source": [
    "def merge_corpus(corpus, pair):\n",
    "    \"\"\"\n",
    "    Merges the most frequent pair of symbols in the corpus.\n",
    "    Args:\n",
    "        corpus (dict): Keys are words as space-separated symbols (e.g., \"l o w\"),\n",
    "                       and values are the frequency counts.\n",
    "        pair (tuple): A pair of symbols to merge.\n",
    "\n",
    "    Returns:\n",
    "        dict: Updated corpus after merging the pair of symbols.\n",
    "    \"\"\"\n",
    "    new_corpus = Counter()\n",
    "    bigram = \" \".join(pair)\n",
    "    replacement = \"\".join(pair)\n",
    "    for word, freq in corpus.items():\n",
    "        new_word = word.replace(bigram, replacement)\n",
    "        new_corpus[new_word] = freq\n",
    "    return new_corpus"
   ],
   "metadata": {
    "collapsed": false,
    "pycharm": {
     "name": "#%%\n"
    },
    "ExecuteTime": {
     "end_time": "2025-04-12T21:30:20.605501Z",
     "start_time": "2025-04-12T21:30:20.595989Z"
    }
   }
  },
  {
   "cell_type": "markdown",
   "source": [
    "The last step is to implement the BPE algorithm. The function takes the initial vocabulary, the corpus, and the number of merges as input. It returns the updated vocabulary, corpus, and the list of merges.\n",
    "Returning the list of merges is useful for the tokenization process - it makes it faster to tokenize the text. It contains the tuples of the two tokens that were merged. For example, ('to', 'day__') will merge the tokens 'to' and 'day__' into the 'today__' token."
   ],
   "metadata": {
    "collapsed": false,
    "pycharm": {
     "name": "#%% md\n"
    }
   }
  },
  {
   "cell_type": "markdown",
   "source": [
    "### Exercise 9: BPE algorithm\n",
    "\n",
    "(10p) Implement the BPE algorithm in the following function. The function should return the updated vocabulary, corpus, and the list of merges. The function should perform the specified number of merges. The vocabulary is a list of tokens, the corpus is a Counter object with the words split by space into tokens, and the merges is a list of tuples with the merged tokens.\n",
    "\n",
    "You should use the functions you implemented earlier in this section (```calculate_bpe_corpus_stats()```, ```merge_corpus()```)."
   ],
   "metadata": {
    "collapsed": false,
    "pycharm": {
     "name": "#%% md\n"
    }
   }
  },
  {
   "cell_type": "code",
   "execution_count": 632,
   "outputs": [],
   "source": [
    "def bpe(vocab, corpus, num_merges):\n",
    "    \"\"\"\n",
    "    Applies the BPE algorithm to the corpus. Merges the most frequent adjacent symbol pairs. The function performs the specified number of merges.\n",
    "\n",
    "    Args:\n",
    "        vocab (list): A list of tokens representing the BPE vocabulary.\n",
    "        corpus (Counter): A Counter object with words split by space into tokens.\n",
    "        num_merges (int): The number of merges to perform.\n",
    "\n",
    "    Returns:\n",
    "        list: Updated vocabulary.\n",
    "        Counter: Updated corpus.\n",
    "        list: List of merges.\n",
    "    \"\"\"\n",
    "    vocab = vocab.copy()\n",
    "    corpus = corpus.copy()\n",
    "    merges = []\n",
    "\n",
    "    for i in tqdm.tqdm(range(num_merges)):\n",
    "        ### YOUR CODE HERE\n",
    "        stats = calculate_bpe_corpus_stats(corpus)\n",
    "        if not stats:\n",
    "            break # so it doesnt break and terminate early instead\n",
    "\n",
    "        top_pair, _ = stats.most_common(1)[0]\n",
    "        \n",
    "        merges.append(top_pair) # update merges\n",
    "\n",
    "        corpus = merge_corpus(corpus, top_pair) # update corpus\n",
    "\n",
    "        # update vocab\n",
    "        top_pair_token = ''.join(top_pair)\n",
    "        \n",
    "        if top_pair_token not in vocab:\n",
    "            vocab.append(top_pair_token)\n",
    "\n",
    "\n",
    "\n",
    "\n",
    "        ### YOUR CODE ENDS HERE\n",
    "    return vocab, corpus, merges"
   ],
   "metadata": {
    "collapsed": false,
    "pycharm": {
     "name": "#%%\n"
    },
    "ExecuteTime": {
     "end_time": "2025-04-12T21:30:20.607436Z",
     "start_time": "2025-04-12T21:30:20.599520Z"
    }
   }
  },
  {
   "cell_type": "markdown",
   "source": [
    "The following cell applies the BPE algorithm to the initial vocabulary and corpus. We will perform 100 merges at first, but you will experiment with different numbers."
   ],
   "metadata": {
    "collapsed": false,
    "pycharm": {
     "name": "#%% md\n"
    }
   }
  },
  {
   "cell_type": "code",
   "execution_count": 633,
   "outputs": [
    {
     "name": "stderr",
     "output_type": "stream",
     "text": [
      "100%|██████████| 100/100 [00:09<00:00, 10.59it/s]\n"
     ]
    }
   ],
   "source": [
    "bpe_vocab, updated_bpe_corpus, bpe_merges = bpe(bpe_init_vocab, bpe_corpus, num_merges=100)"
   ],
   "metadata": {
    "collapsed": false,
    "pycharm": {
     "name": "#%%\n"
    },
    "ExecuteTime": {
     "end_time": "2025-04-12T21:30:30.065801Z",
     "start_time": "2025-04-12T21:30:20.605235Z"
    }
   }
  },
  {
   "cell_type": "markdown",
   "source": [
    "We can check the size of the BPE vocabulary and the most common tokens."
   ],
   "metadata": {
    "collapsed": false,
    "pycharm": {
     "name": "#%% md\n"
    }
   }
  },
  {
   "cell_type": "code",
   "execution_count": 634,
   "outputs": [
    {
     "name": "stdout",
     "output_type": "stream",
     "text": [
      "137\n",
      "['__', '0', '1', '2', '3', '4', '5', '6', '7', '8', '9', 'a', 'b', 'c', 'd', 'e', 'f', 'g', 'h', 'i', 'j', 'k', 'l', 'm', 'n', 'o', 'p', 'q', 'r', 's', 't', 'u', 'v', 'w', 'x', 'y', 'z', 'e__', 's__', 't__', 'th', 'er', 'in', 'y__', 'an', 'd__', 'or', 'a__', 'on', 'o__', 'al', 'ou', 'er__', 'ar', 'ing', 'en', 'st', 'ing__', 'the__', 'ch', 're', 'us', 'lo', 'l__', 'at', 'am', 'for', 'da', 'i__', 'el', 'om', 'ri', 'on__', 'k__', 'be', 'li', 'ni', 'is__', 'to__', 'la', 'in__', 'ho', 'user__', 'es__', 'you', 'my__', 'f__', 'p__', 'wi', 've__', 'ha', 'day__', 'es', 'ti', 'oo', 'w__', 'th__', 'di', 'gh', 'and__', 'an__', 'un', 'as__', 'ne', 'ir', 'you__', 'ac', 'il', 'se', 'of__', 'le', 'ro', 'with__', 'it__', 'cali', 'to', 'for__', 'forni', 'californi', 'pp', 'this__', 'm__', 'california__', 'as', 'ic', 'it', 'en__', 've', 'me__', 'is', 'r__', 'ra', 'love__', 'ak', 'n__', 'ad', 'ed__']\n"
     ]
    }
   ],
   "source": [
    "print(len(bpe_vocab))\n",
    "print(bpe_vocab[:150])"
   ],
   "metadata": {
    "collapsed": false,
    "pycharm": {
     "name": "#%%\n"
    },
    "ExecuteTime": {
     "end_time": "2025-04-12T21:30:30.140362Z",
     "start_time": "2025-04-12T21:30:30.067406Z"
    }
   }
  },
  {
   "cell_type": "markdown",
   "source": [
    "We can also check the most common merges."
   ],
   "metadata": {
    "collapsed": false,
    "pycharm": {
     "name": "#%% md\n"
    }
   }
  },
  {
   "cell_type": "code",
   "execution_count": 635,
   "outputs": [
    {
     "name": "stdout",
     "output_type": "stream",
     "text": [
      "[('e', '__'), ('s', '__'), ('t', '__'), ('t', 'h'), ('e', 'r'), ('i', 'n'), ('y', '__'), ('a', 'n'), ('d', '__'), ('o', 'r'), ('a', '__'), ('o', 'n'), ('o', '__'), ('a', 'l'), ('o', 'u'), ('er', '__'), ('a', 'r'), ('in', 'g'), ('e', 'n'), ('s', 't'), ('ing', '__'), ('th', 'e__'), ('c', 'h'), ('r', 'e'), ('u', 's'), ('l', 'o'), ('l', '__'), ('a', 't'), ('a', 'm'), ('f', 'or'), ('d', 'a'), ('i', '__'), ('e', 'l'), ('o', 'm'), ('r', 'i'), ('on', '__'), ('k', '__'), ('b', 'e'), ('l', 'i'), ('n', 'i'), ('i', 's__'), ('t', 'o__'), ('l', 'a'), ('in', '__'), ('h', 'o'), ('us', 'er__'), ('e', 's__'), ('y', 'ou'), ('m', 'y__'), ('f', '__'), ('p', '__'), ('w', 'i'), ('v', 'e__'), ('h', 'a'), ('da', 'y__'), ('e', 's'), ('t', 'i'), ('o', 'o'), ('w', '__'), ('th', '__'), ('d', 'i'), ('g', 'h'), ('an', 'd__'), ('an', '__'), ('u', 'n'), ('a', 's__'), ('n', 'e'), ('i', 'r'), ('you', '__'), ('a', 'c'), ('i', 'l'), ('s', 'e'), ('o', 'f__'), ('l', 'e'), ('r', 'o'), ('wi', 'th__'), ('i', 't__'), ('c', 'ali'), ('t', 'o'), ('for', '__'), ('for', 'ni'), ('cali', 'forni'), ('p', 'p'), ('th', 'is__'), ('m', '__'), ('californi', 'a__'), ('a', 's'), ('i', 'c'), ('i', 't'), ('en', '__'), ('v', 'e'), ('m', 'e__'), ('i', 's'), ('r', '__'), ('r', 'a'), ('lo', 've__'), ('a', 'k'), ('n', '__'), ('a', 'd'), ('e', 'd__')]\n"
     ]
    }
   ],
   "source": [
    "print(bpe_merges[:150])"
   ],
   "metadata": {
    "collapsed": false,
    "pycharm": {
     "name": "#%%\n"
    },
    "ExecuteTime": {
     "end_time": "2025-04-12T21:30:30.144361Z",
     "start_time": "2025-04-12T21:30:30.070122Z"
    }
   }
  },
  {
   "cell_type": "markdown",
   "source": [
    "### 3.3 Tokenizing the text using BPE\n",
    "\n",
    "With the tokenizer trained we can now tokenize the text using the BPE vocabulary. We will first build a function that tokenizes any text using our BPE tokenizer (vocabulary and merges). Next we will apply it to our dataset.\n",
    "\n",
    "The following function tokenizes the text using the BPE vocabulary. It replaces the most frequent pairs of tokens with the new token. The function also replaces the tokens that are not in the vocabulary with the `<unk>` token."
   ],
   "metadata": {
    "collapsed": false,
    "pycharm": {
     "name": "#%% md\n"
    }
   }
  },
  {
   "cell_type": "code",
   "execution_count": 636,
   "outputs": [
    {
     "name": "stdout",
     "output_type": "stream",
     "text": [
      "['s', 'un', 'day__', 'a', 'f', 't', 'er', 'n', 'o', 'on__', 'w', 'al', 'k', 'ing__', 'th', 'r', 'ou', 'gh', '__', 'v', 'en', 'ic', 'e__', 'in__', 'the__', 's', 'un', '__', 'wi', 'th', 'user__', 'a', 'b', 'b', 'o', 't__', 'k', 'in', 'ne', 'y__', 'v', 'en', 'ic', 'e__', '<unk>']\n"
     ]
    }
   ],
   "source": [
    "def apply_bpe_tokenization(text, vocab, merges, unk_token='<unk>'):\n",
    "    \"\"\"\n",
    "    Tokenizes the text using BPE vocabulary, preserving spaces as '__'.\n",
    "\n",
    "    Args:\n",
    "        text (str): The input text to be tokenized.\n",
    "        vocab (set): A set containing the BPE vocabulary tokens.\n",
    "\n",
    "    Returns:\n",
    "        list: A list of tokens representing the input text.\n",
    "    \"\"\"\n",
    "\n",
    "    words = re.split(r'\\s', text)\n",
    "    words = [' ' + ' '.join(list(word)) + (' __ ' if i < len(words) - 1 else ' ') for i, word in enumerate(words)]\n",
    "\n",
    "    bpe_tokens = []\n",
    "\n",
    "    for i, word in enumerate(words):\n",
    "        for merge in merges:\n",
    "            word = word.replace(' ' + ' '.join(merge) + ' ', ' ' + ''.join(merge) + ' ')\n",
    "        bpe_tokens.extend(word.split())\n",
    "\n",
    "    for i, token in enumerate(bpe_tokens):\n",
    "        if token not in vocab:\n",
    "            bpe_tokens[i] = unk_token\n",
    "    return bpe_tokens\n",
    "\n",
    "\n",
    "# A test example with a special character. Is the character tokenized correctly as <unk> token?\n",
    "print(apply_bpe_tokenization(tweet_ds['train'][0]['clean'] + ' 🇺', bpe_vocab, bpe_merges))"
   ],
   "metadata": {
    "collapsed": false,
    "pycharm": {
     "name": "#%%\n"
    },
    "ExecuteTime": {
     "end_time": "2025-04-12T21:30:30.165733Z",
     "start_time": "2025-04-12T21:30:30.076056Z"
    }
   }
  },
  {
   "cell_type": "markdown",
   "source": [
    "The function below will apply our BPE tokenizer to the dataset. It will add a new column `bpe_tokens` to each example."
   ],
   "metadata": {
    "collapsed": false,
    "pycharm": {
     "name": "#%% md\n"
    }
   }
  },
  {
   "cell_type": "code",
   "execution_count": 637,
   "outputs": [
    {
     "data": {
      "text/plain": "Map:   0%|          | 0/45000 [00:00<?, ? examples/s]",
      "application/vnd.jupyter.widget-view+json": {
       "version_major": 2,
       "version_minor": 0,
       "model_id": "c9faf2194bcc4b549f24c490f29681c5"
      }
     },
     "metadata": {},
     "output_type": "display_data"
    },
    {
     "data": {
      "text/plain": "Map:   0%|          | 0/50000 [00:00<?, ? examples/s]",
      "application/vnd.jupyter.widget-view+json": {
       "version_major": 2,
       "version_minor": 0,
       "model_id": "9e02b0f538564054a7c1d8e088615082"
      }
     },
     "metadata": {},
     "output_type": "display_data"
    },
    {
     "data": {
      "text/plain": "Map:   0%|          | 0/5000 [00:00<?, ? examples/s]",
      "application/vnd.jupyter.widget-view+json": {
       "version_major": 2,
       "version_minor": 0,
       "model_id": "86ae3781ea2f42108c184ec7a680cf28"
      }
     },
     "metadata": {},
     "output_type": "display_data"
    },
    {
     "name": "stdout",
     "output_type": "stream",
     "text": [
      "DatasetDict({\n",
      "    train: Dataset({\n",
      "        features: ['text', 'label', 'text_length', 'clean', 'tokens', 'tokens_count', 'num_characters', 'bpe_tokens'],\n",
      "        num_rows: 45000\n",
      "    })\n",
      "    test: Dataset({\n",
      "        features: ['text', 'label', 'text_length', 'clean', 'tokens', 'bpe_tokens'],\n",
      "        num_rows: 50000\n",
      "    })\n",
      "    validation: Dataset({\n",
      "        features: ['text', 'label', 'text_length', 'clean', 'tokens', 'bpe_tokens'],\n",
      "        num_rows: 5000\n",
      "    })\n",
      "})\n"
     ]
    }
   ],
   "source": [
    "def tokenize_bpe(example, vocab, merges, unk_token='<unk>'):\n",
    "    \"\"\"\n",
    "    Tokenizes the example from the Dataset using BPE\n",
    "    Args:\n",
    "        example: an example from the Dataset\n",
    "        vocab: a BPE vocabulary\n",
    "\n",
    "    Returns: update example containing 'bpe_tokens' column\n",
    "\n",
    "    \"\"\"\n",
    "    text = example['clean']\n",
    "    bpe_tokens = apply_bpe_tokenization(text, vocab, merges, unk_token)\n",
    "    example['bpe_tokens'] = bpe_tokens\n",
    "    return example\n",
    "\n",
    "tweet_ds = tweet_ds.map(tokenize_bpe, fn_kwargs={'vocab': bpe_vocab, 'merges': bpe_merges})\n",
    "print(tweet_ds)"
   ],
   "metadata": {
    "collapsed": false,
    "pycharm": {
     "name": "#%%\n"
    },
    "ExecuteTime": {
     "end_time": "2025-04-12T21:30:56.563782Z",
     "start_time": "2025-04-12T21:30:30.088722Z"
    }
   }
  },
  {
   "cell_type": "markdown",
   "source": [
    "We will inspect the both tokenizations of several examples from the ```validation``` subset. Try to find the ```<unk>``` tokens in the printed examples."
   ],
   "metadata": {
    "collapsed": false,
    "pycharm": {
     "name": "#%% md\n"
    }
   }
  },
  {
   "cell_type": "code",
   "execution_count": 638,
   "outputs": [
    {
     "name": "stdout",
     "output_type": "stream",
     "text": [
      "Original tweet:\n",
      "A little throwback with my favourite person @ Water Wall\n",
      "Word tokenization:\n",
      "['a', 'little', 'throwback', 'with', 'my', 'favourite', '<unk>', 'wall']\n",
      "BPE tokenization:\n",
      "['a__', 'li', 't', 't', 'l', 'e__', 'th', 'ro', 'w', 'b', 'ac', 'k__', 'with__', 'my__', 'f', 'a', 'v', 'ou', 'ri', 't', 'e__', 'p', 'er', 's', 'on', 'w', 'at', 'er__', 'w', 'al', 'l']\n",
      "\n",
      "Original tweet:\n",
      "glam on @user yesterday for #kcon makeup using @user in #featherette,…\n",
      "Word tokenization:\n",
      "['glam', 'onuser', 'yesterday', 'for', '<unk>', 'makeup', '<unk>', 'in', '<unk>']\n",
      "BPE tokenization:\n",
      "['g', 'l', 'am', '__', 'on', 'user__', 'y', 'e', 'st', 'er', 'day__', 'for__', 'k', 'c', 'on__', 'm', 'ak', 'e', 'u', 'p__', 'us', 'ing', 'user__', 'in__', 'f', 'e', 'a', 'th', 'er', 'e', 't', 't', 'e']\n",
      "\n",
      "Original tweet:\n",
      "Democracy Plaza in the wake of a stunning outcome #Decision2016 @ NBC News\n",
      "Word tokenization:\n",
      "['<unk>', 'plaza', 'in', 'the', 'wake', 'of', 'a', 'stunning', '<unk>', '<unk>', 'news']\n",
      "BPE tokenization:\n",
      "['d', 'e', 'm', 'o', 'c', 'r', 'ac', 'y__', 'p', 'la', 'z', 'a__', 'in__', 'the__', 'w', 'ak', 'e__', 'of__', 'a__', 'st', 'un', 'n', 'ing__', 'ou', 't', 'c', 'om', 'e__', 'd', 'e', 'c', 'is', 'i', 'on', '2', '0', '1', '6', 'n', 'b', 'c', '__', 'ne', 'w', 's']\n",
      "\n",
      "Original tweet:\n",
      "Then &amp; Now. VILO @ Walt Disney Magic Kingdom\n",
      "Word tokenization:\n",
      "['then', 'amp', 'now', '<unk>', 'disney', 'magic', 'kingdom']\n",
      "BPE tokenization:\n",
      "['th', 'en__', 'am', 'p__', 'n', 'o', 'w__', 'v', 'i', 'lo', 'w', 'al', 't__', 'di', 's', 'ne', 'y__', 'm', 'a', 'g', 'ic', '__', 'k', 'ing', 'd', 'om']\n",
      "\n",
      "Original tweet:\n",
      "Who never... @ A Galaxy Far Far Away\n",
      "Word tokenization:\n",
      "['who', 'never', 'a', 'galaxy', 'far', 'far', 'away']\n",
      "BPE tokenization:\n",
      "['w', 'h', 'o__', 'ne', 'v', 'er__', 'a__', 'g', 'al', 'a', 'x', 'y__', 'f', 'ar', '__', 'f', 'ar', '__', 'a', 'w', 'a', 'y']\n",
      "\n",
      "Original tweet:\n",
      "Dinner in FLA tonight // Pan-seared salmon over couscous veggie salad #yum #dinner #florida #salmon…\n",
      "Word tokenization:\n",
      "['dinner', 'in', '<unk>', 'tonight', 'pan', 'seared', 'salmon', 'over', '<unk>', 'veggie', 'salad', 'yum', 'dinner', '<unk>', 'salmon']\n",
      "BPE tokenization:\n",
      "['d', 'in', 'n', 'er__', 'in__', 'f', 'l', 'a__', 't', 'on', 'i', 'gh', 't__', 'p', 'an__', 'se', 'ar', 'ed__', 's', 'al', 'm', 'on__', 'o', 'v', 'er__', 'c', 'ou', 's', 'c', 'ou', 's__', 've', 'g', 'g', 'i', 'e__', 's', 'al', 'a', 'd__', 'y', 'u', 'm__', 'd', 'in', 'n', 'er__', 'f', 'l', 'or', 'i', 'd', 'a__', 's', 'al', 'm', 'on']\n",
      "\n",
      "Original tweet:\n",
      "It's my fav seniors last game congrats on beating west @ West Salem…\n",
      "Word tokenization:\n",
      "['it', 's', 'my', 'fav', 'seniors', 'last', 'game', 'congrats', 'on', 'beating', '<unk>', 'salem']\n",
      "BPE tokenization:\n",
      "['it__', 's__', 'my__', 'f', 'a', 'v', '__', 's', 'en', 'i', 'or', 's__', 'la', 's', 't__', 'g', 'am', 'e__', 'c', 'on', 'g', 'r', 'at', 's__', 'on__', 'be', 'at', 'ing__', 'w', 'e', 'st', 'w', 'es', 't__', 's', 'al', 'e', 'm']\n",
      "\n",
      "Original tweet:\n",
      "I got to to go formal with my best friend @ Phi Mu at JSU\n",
      "Word tokenization:\n",
      "['i', 'got', 'to', 'to', 'go', 'formal', 'with', 'my', 'best', '<unk>', 'mu', 'at', '<unk>']\n",
      "BPE tokenization:\n",
      "['i__', 'g', 'o', 't__', 'to__', 'to__', 'g', 'o__', 'for', 'm', 'al', '__', 'with__', 'my__', 'be', 's', 't__', 'f', 'ri', 'en', 'd', 'p', 'h', 'i__', 'm', 'u', '__', 'a', 't__', 'j', 's', 'u']\n",
      "\n",
      "Original tweet:\n",
      "'Cause I Miss My Little Homies .#Throwback #CousinLove @ Indiana University\n",
      "Word tokenization:\n",
      "['cause', 'i', 'miss', 'my', 'little', 'homies', 'throwback', '<unk>', 'university']\n",
      "BPE tokenization:\n",
      "['c', 'a', 'us', 'e__', 'i__', 'm', 'is', 's__', 'my__', 'li', 't', 't', 'l', 'e__', 'h', 'om', 'i', 'es__', 'th', 'ro', 'w', 'b', 'ac', 'k__', 'c', 'ou', 's', 'in', 'lo', 've', 'in', 'di', 'an', 'a__', 'u', 'ni', 'v', 'er', 's', 'it', 'y']\n",
      "\n",
      "Original tweet:\n",
      "Birthday Kisses @ Madison, Wisconsin\n",
      "Word tokenization:\n",
      "['birthday', '<unk>', '<unk>']\n",
      "BPE tokenization:\n",
      "['b', 'ir', 'th', 'day__', 'k', 'is', 's', 'es', 'm', 'a', 'di', 's', 'on__', 'wi', 's', 'c', 'on', 's', 'in']\n"
     ]
    }
   ],
   "source": [
    "for i in range(10):\n",
    "    print('Original tweet:')\n",
    "    print(tweet_ds['validation'][i]['text'])\n",
    "    print('Word tokenization:')\n",
    "    print(tweet_ds['validation'][i]['tokens'])\n",
    "    print('BPE tokenization:')\n",
    "    print(tweet_ds['validation'][i]['bpe_tokens'])\n",
    "    print()"
   ],
   "metadata": {
    "collapsed": false,
    "pycharm": {
     "name": "#%%\n"
    },
    "ExecuteTime": {
     "end_time": "2025-04-12T21:30:56.569545Z",
     "start_time": "2025-04-12T21:30:56.562182Z"
    }
   }
  },
  {
   "cell_type": "markdown",
   "source": [
    "### Exercise 10: Comparing tokenizers\n",
    "\n",
    "Train the BPE tokenizer with different number of merges. Compare the tokenization results with the word tokenization.\n",
    "1. (5p) What are the differences?\n",
    "2. (5p) Compare the number of tokens created by your tokenizers.\n",
    "3. (5p) Calculate the number of `<unk>` tokens in the validation dataset for each tokenizer.\n",
    "4. (5p) Compare the average length in tokens between different tokenizers.\n",
    "5. (5p) What are the advantages and disadvantages of the BPE tokenizer?"
   ],
   "metadata": {
    "collapsed": false,
    "pycharm": {
     "name": "#%% md\n"
    }
   }
  },
  {
   "cell_type": "markdown",
   "source": [
    "Exercise 10.1:\tBPE Tokenization splits the sentences into characters and then makes tokens as a character or few of themby merging  while Word Tokenization separates sentences into words and makes tokens as words."
   ],
   "metadata": {
    "collapsed": false
   }
  },
  {
   "cell_type": "markdown",
   "source": [
    "Exercise 10.2: Compare the number of tokens created by your tokenizers."
   ],
   "metadata": {
    "collapsed": false
   }
  },
  {
   "cell_type": "markdown",
   "source": [],
   "metadata": {
    "collapsed": false
   }
  },
  {
   "cell_type": "code",
   "outputs": [
    {
     "data": {
      "text/plain": "Map:   0%|          | 0/45000 [00:00<?, ? examples/s]",
      "application/vnd.jupyter.widget-view+json": {
       "version_major": 2,
       "version_minor": 0,
       "model_id": "7cf8ce1d04c942b19903c8072058d727"
      }
     },
     "metadata": {},
     "output_type": "display_data"
    },
    {
     "data": {
      "text/plain": "                                                    text  label  text_length  \\\n0      Sunday afternoon walking through Venice in the...     12           90   \n1      Time for some BBQ and whiskey libations. Chomp...     19           96   \n2      Love love love all these people ️ ️ ️ #friends...      0           92   \n3                                    ️ ️ ️ ️ @ Toys\"R\"Us      0           19   \n4      Man these are the funniest kids ever!! That fa...      2           86   \n...                                                  ...    ...          ...   \n44995  Here to celebrate the Nunez wedding! Love my b...      0           65   \n44996  1 night in Paris.... Wait... @ Paris Las Vegas...      1           65   \n44997  Be safe this weekend everyone. #happylaborday ...     11           55   \n44998          Pizza (@ Five50 - @user in Las Vegas, NV)      1           41   \n44999  my mini is perfect, no one deserves her @ Las ...     13           59   \n\n                                                   clean  \\\n0      sunday afternoon walking through venice in the...   \n1      time for some bbq and whiskey libations chomp ...   \n2      love love love all these people friends bff ce...   \n3                                              toys r us   \n4      man these are the funniest kids ever that face...   \n...                                                  ...   \n44995  here to celebrate the nunez wedding love my be...   \n44996  1 night in paris wait paris las vegas hotel am...   \n44997  be safe this weekend everyone happylabordaybee...   \n44998                  pizza five50 user in las vegas nv   \n44999  my mini is perfect no one deserves herlas vega...   \n\n                                                  tokens  tokens_count  \\\n0      [sunday, afternoon, walking, through, venice, ...            12   \n1      [time, for, some, bbq, and, whiskey, libations...            16   \n2      [love, love, love, all, these, people, friends...            11   \n3                                          [toys, r, us]             3   \n4      [man, these, are, the, funniest, kids, ever, t...            11   \n...                                                  ...           ...   \n44995  [here, to, celebrate, the, <unk>, wedding, lov...            11   \n44996  [1, night, in, paris, wait, paris, las, vegas,...            11   \n44997     [be, safe, this, weekend, everyone, <unk>, nv]             7   \n44998           [pizza, <unk>, user, in, las, vegas, nv]             7   \n44999  [my, mini, is, perfect, no, one, deserves, <un...            10   \n\n       num_characters                                         bpe_tokens  \\\n0                  21  [s, un, day__, a, f, t, er, n, o, on__, w, al,...   \n1                  22  [ti, me__, for__, s, om, e__, b, b, q, __, and...   \n2                  19  [love__, love__, love__, al, l__, th, es, e__,...   \n3                   7                              [to, y, s__, r__, us]   \n4                  22  [m, an__, th, es, e__, ar, e__, the__, f, un, ...   \n...               ...                                                ...   \n44995              22  [h, er, e__, to__, c, el, e, b, r, at, e__, th...   \n44996              18  [1, __, ni, gh, t__, in__, p, ar, is__, w, a, ...   \n44997              19  [b, e__, s, a, f, e__, this__, w, e, e, k, en,...   \n44998              16  [p, i, z, z, a__, f, i, ve, 5, 0, __, user__, ...   \n44999              19  [my__, m, in, i__, is__, p, er, f, e, c, t__, ...   \n\n       tokens_bpe_count  \n0                    44  \n1                    57  \n2                    44  \n3                     5  \n4                    49  \n...                 ...  \n44995                34  \n44996                30  \n44997                31  \n44998                20  \n44999                31  \n\n[45000 rows x 9 columns]",
      "text/html": "<div>\n<style scoped>\n    .dataframe tbody tr th:only-of-type {\n        vertical-align: middle;\n    }\n\n    .dataframe tbody tr th {\n        vertical-align: top;\n    }\n\n    .dataframe thead th {\n        text-align: right;\n    }\n</style>\n<table border=\"1\" class=\"dataframe\">\n  <thead>\n    <tr style=\"text-align: right;\">\n      <th></th>\n      <th>text</th>\n      <th>label</th>\n      <th>text_length</th>\n      <th>clean</th>\n      <th>tokens</th>\n      <th>tokens_count</th>\n      <th>num_characters</th>\n      <th>bpe_tokens</th>\n      <th>tokens_bpe_count</th>\n    </tr>\n  </thead>\n  <tbody>\n    <tr>\n      <th>0</th>\n      <td>Sunday afternoon walking through Venice in the...</td>\n      <td>12</td>\n      <td>90</td>\n      <td>sunday afternoon walking through venice in the...</td>\n      <td>[sunday, afternoon, walking, through, venice, ...</td>\n      <td>12</td>\n      <td>21</td>\n      <td>[s, un, day__, a, f, t, er, n, o, on__, w, al,...</td>\n      <td>44</td>\n    </tr>\n    <tr>\n      <th>1</th>\n      <td>Time for some BBQ and whiskey libations. Chomp...</td>\n      <td>19</td>\n      <td>96</td>\n      <td>time for some bbq and whiskey libations chomp ...</td>\n      <td>[time, for, some, bbq, and, whiskey, libations...</td>\n      <td>16</td>\n      <td>22</td>\n      <td>[ti, me__, for__, s, om, e__, b, b, q, __, and...</td>\n      <td>57</td>\n    </tr>\n    <tr>\n      <th>2</th>\n      <td>Love love love all these people ️ ️ ️ #friends...</td>\n      <td>0</td>\n      <td>92</td>\n      <td>love love love all these people friends bff ce...</td>\n      <td>[love, love, love, all, these, people, friends...</td>\n      <td>11</td>\n      <td>19</td>\n      <td>[love__, love__, love__, al, l__, th, es, e__,...</td>\n      <td>44</td>\n    </tr>\n    <tr>\n      <th>3</th>\n      <td>️ ️ ️ ️ @ Toys\"R\"Us</td>\n      <td>0</td>\n      <td>19</td>\n      <td>toys r us</td>\n      <td>[toys, r, us]</td>\n      <td>3</td>\n      <td>7</td>\n      <td>[to, y, s__, r__, us]</td>\n      <td>5</td>\n    </tr>\n    <tr>\n      <th>4</th>\n      <td>Man these are the funniest kids ever!! That fa...</td>\n      <td>2</td>\n      <td>86</td>\n      <td>man these are the funniest kids ever that face...</td>\n      <td>[man, these, are, the, funniest, kids, ever, t...</td>\n      <td>11</td>\n      <td>22</td>\n      <td>[m, an__, th, es, e__, ar, e__, the__, f, un, ...</td>\n      <td>49</td>\n    </tr>\n    <tr>\n      <th>...</th>\n      <td>...</td>\n      <td>...</td>\n      <td>...</td>\n      <td>...</td>\n      <td>...</td>\n      <td>...</td>\n      <td>...</td>\n      <td>...</td>\n      <td>...</td>\n    </tr>\n    <tr>\n      <th>44995</th>\n      <td>Here to celebrate the Nunez wedding! Love my b...</td>\n      <td>0</td>\n      <td>65</td>\n      <td>here to celebrate the nunez wedding love my be...</td>\n      <td>[here, to, celebrate, the, &lt;unk&gt;, wedding, lov...</td>\n      <td>11</td>\n      <td>22</td>\n      <td>[h, er, e__, to__, c, el, e, b, r, at, e__, th...</td>\n      <td>34</td>\n    </tr>\n    <tr>\n      <th>44996</th>\n      <td>1 night in Paris.... Wait... @ Paris Las Vegas...</td>\n      <td>1</td>\n      <td>65</td>\n      <td>1 night in paris wait paris las vegas hotel am...</td>\n      <td>[1, night, in, paris, wait, paris, las, vegas,...</td>\n      <td>11</td>\n      <td>18</td>\n      <td>[1, __, ni, gh, t__, in__, p, ar, is__, w, a, ...</td>\n      <td>30</td>\n    </tr>\n    <tr>\n      <th>44997</th>\n      <td>Be safe this weekend everyone. #happylaborday ...</td>\n      <td>11</td>\n      <td>55</td>\n      <td>be safe this weekend everyone happylabordaybee...</td>\n      <td>[be, safe, this, weekend, everyone, &lt;unk&gt;, nv]</td>\n      <td>7</td>\n      <td>19</td>\n      <td>[b, e__, s, a, f, e__, this__, w, e, e, k, en,...</td>\n      <td>31</td>\n    </tr>\n    <tr>\n      <th>44998</th>\n      <td>Pizza (@ Five50 - @user in Las Vegas, NV)</td>\n      <td>1</td>\n      <td>41</td>\n      <td>pizza five50 user in las vegas nv</td>\n      <td>[pizza, &lt;unk&gt;, user, in, las, vegas, nv]</td>\n      <td>7</td>\n      <td>16</td>\n      <td>[p, i, z, z, a__, f, i, ve, 5, 0, __, user__, ...</td>\n      <td>20</td>\n    </tr>\n    <tr>\n      <th>44999</th>\n      <td>my mini is perfect, no one deserves her @ Las ...</td>\n      <td>13</td>\n      <td>59</td>\n      <td>my mini is perfect no one deserves herlas vega...</td>\n      <td>[my, mini, is, perfect, no, one, deserves, &lt;un...</td>\n      <td>10</td>\n      <td>19</td>\n      <td>[my__, m, in, i__, is__, p, er, f, e, c, t__, ...</td>\n      <td>31</td>\n    </tr>\n  </tbody>\n</table>\n<p>45000 rows × 9 columns</p>\n</div>"
     },
     "execution_count": 639,
     "metadata": {},
     "output_type": "execute_result"
    }
   ],
   "source": [
    "# The function ad a column with the amount of tokens in the sentence\n",
    "def add_bpe_tokens_count(example):\n",
    "    example['tokens_bpe_count'] = len(example['bpe_tokens'])\n",
    "    return example\n",
    "\n",
    "tweet_ds['train'] = tweet_ds['train'].map(add_bpe_tokens_count)\n",
    "tweet_train_df_NEW = pd.DataFrame(tweet_ds['train'])\n",
    "tweet_train_df_NEW"
   ],
   "metadata": {
    "collapsed": false,
    "ExecuteTime": {
     "end_time": "2025-04-12T21:31:08.191959Z",
     "start_time": "2025-04-12T21:30:56.567376Z"
    }
   },
   "execution_count": 639
  },
  {
   "cell_type": "code",
   "outputs": [
    {
     "data": {
      "text/plain": "<Figure size 1000x600 with 1 Axes>",
      "image/png": "[encoded data removed]"
     },
     "metadata": {},
     "output_type": "display_data"
    }
   ],
   "source": [
    "# This chart (and only the code for it, not the idea, was made by GPT, just to speed up the visuailization of the data)\n",
    "plt.figure(figsize=(10, 6))\n",
    "\n",
    "# Plot word tokenization distribution\n",
    "tweet_train_df_NEW['tokens_count'].plot(kind='hist', \n",
    "                                        bins=30, \n",
    "                                        alpha=0.5, \n",
    "                                        label='Word Tokenization')\n",
    "\n",
    "# Plot BPE tokenization distribution\n",
    "tweet_train_df_NEW['tokens_bpe_count'].plot(kind='hist', \n",
    "                                            bins=30, \n",
    "                                            alpha=0.5, \n",
    "                                            label='BPE Tokenization')\n",
    "\n",
    "plt.xlabel('Number of Tokens in Sentence')\n",
    "plt.ylabel('Frequency')\n",
    "plt.title('Distribution of Tokens Count: Word vs BPE Tokenization')\n",
    "plt.legend()\n",
    "plt.grid(True)\n",
    "plt.show()\n"
   ],
   "metadata": {
    "collapsed": false,
    "ExecuteTime": {
     "end_time": "2025-04-12T21:31:08.756087Z",
     "start_time": "2025-04-12T21:31:08.099735Z"
    }
   },
   "execution_count": 640
  },
  {
   "cell_type": "markdown",
   "source": [
    "Here we can see that BPE tokenization usually creates more tokens than word tokenization. It happens because we split one word into few tokens when we use BPE tokenization"
   ],
   "metadata": {
    "collapsed": false
   }
  },
  {
   "cell_type": "markdown",
   "source": [
    "Exercise 10.3: Calculate the number of `<unk>` tokens in the validation dataset for each tokenizer."
   ],
   "metadata": {
    "collapsed": false
   }
  },
  {
   "cell_type": "code",
   "outputs": [
    {
     "data": {
      "text/plain": "Map:   0%|          | 0/5000 [00:00<?, ? examples/s]",
      "application/vnd.jupyter.widget-view+json": {
       "version_major": 2,
       "version_minor": 0,
       "model_id": "d64633f55c4c471f8e073b9ce43c544a"
      }
     },
     "metadata": {},
     "output_type": "display_data"
    },
    {
     "data": {
      "text/plain": "Map:   0%|          | 0/5000 [00:00<?, ? examples/s]",
      "application/vnd.jupyter.widget-view+json": {
       "version_major": 2,
       "version_minor": 0,
       "model_id": "a569080c507d4ecead3c93275f26c177"
      }
     },
     "metadata": {},
     "output_type": "display_data"
    },
    {
     "name": "stdout",
     "output_type": "stream",
     "text": [
      "Total <unk> tokens (Word Tokenizer): 8289\n",
      "Total <unk> tokens (BPE Tokenizer): 0\n"
     ]
    }
   ],
   "source": [
    "# Function to count the number of <unk> tokens in a given column\n",
    "# Count <unk> tokens for Word Tokenizer\n",
    "tweet_ds['validation'] = tweet_ds['validation'].map(\n",
    "    lambda x: {'unk_word_count': x['tokens'].count('<unk>')}\n",
    ")\n",
    "\n",
    "# Count <unk> tokens for BPE Tokenizer\n",
    "tweet_ds['validation'] = tweet_ds['validation'].map(\n",
    "    lambda x: {'unk_bpe_count': x['bpe_tokens'].count('<unk>')}\n",
    ")\n",
    "\n",
    "# Sum the <unk> tokens\n",
    "unk_word_count_total = tweet_ds['validation'].to_pandas()['unk_word_count'].sum()\n",
    "unk_bpe_count_total = tweet_ds['validation'].to_pandas()['unk_bpe_count'].sum()\n",
    "\n",
    "print(f\"Total <unk> tokens (Word Tokenizer): {unk_word_count_total}\")\n",
    "print(f\"Total <unk> tokens (BPE Tokenizer): {unk_bpe_count_total}\")\n"
   ],
   "metadata": {
    "collapsed": false,
    "ExecuteTime": {
     "end_time": "2025-04-12T21:31:09.784429Z",
     "start_time": "2025-04-12T21:31:08.412263Z"
    }
   },
   "execution_count": 641
  },
  {
   "cell_type": "markdown",
   "source": [
    "Here we can conclude that BPE tokenization does not creates an unknown tokens, while Word tokenization have a plenty of them "
   ],
   "metadata": {
    "collapsed": false
   }
  },
  {
   "cell_type": "markdown",
   "source": [
    "Exercise 10.3: Compare the average length in tokens between different tokenizers."
   ],
   "metadata": {
    "collapsed": false
   }
  },
  {
   "cell_type": "code",
   "outputs": [
    {
     "name": "stdout",
     "output_type": "stream",
     "text": [
      "Average number of tokens (Word Tokenizer): 10.65\n",
      "Average number of tokens (BPE Tokenizer): 38.84\n"
     ]
    }
   ],
   "source": [
    "# Calculate average for each column\n",
    "avg_word_tokens = tweet_train_df_NEW['tokens_count'].mean()\n",
    "avg_bpe_tokens = tweet_train_df_NEW['tokens_bpe_count'].mean()\n",
    "\n",
    "print(f\"Average number of tokens (Word Tokenizer): {avg_word_tokens:.2f}\")\n",
    "print(f\"Average number of tokens (BPE Tokenizer): {avg_bpe_tokens:.2f}\")\n"
   ],
   "metadata": {
    "collapsed": false,
    "ExecuteTime": {
     "end_time": "2025-04-12T21:31:09.803765Z",
     "start_time": "2025-04-12T21:31:09.385880Z"
    }
   },
   "execution_count": 642
  },
  {
   "cell_type": "markdown",
   "source": [
    "Here we can observe that the average length of sentences in tokens is higher when using BPE tokenization compared to word tokenization. This happens because BPE tends to split rare or unknown words into smaller subword units, which increases the total number of tokens in a sentence.\""
   ],
   "metadata": {
    "collapsed": false
   }
  },
  {
   "cell_type": "markdown",
   "source": [
    "**Exercise 10.5:** What are the advantages and disadvantages of the BPE tokenizer?"
   ],
   "metadata": {
    "collapsed": false
   }
  },
  {
   "cell_type": "markdown",
   "source": [
    "The BPE tokenizer has several important advantages: it significantly reduces the number of <unk> tokens by splitting rare or unknown words into smaller subword units. This allows the model to handle out-of-vocabulary words more effectively compared to word-level tokenization. BPE also provides a good balance between character-level and word-level tokenization. Additionally, it helps to reduce the vocabulary size, which decreases memory usage and the overall model size.\n",
    "\n",
    "At the same time, the BPE tokenizer has some disadvantages. It produces longer tokenized sequences because even common words can be split into multiple subword tokens. This leads to higher computational costs during model training and inference. Subword splitting can also harm the semantic meaning of words, especially when they are divided into non-intuitive parts. Another drawback is that BPE requires careful tuning of the number of merges to balance between vocabulary size and sequence length. Finally, its performance can vary depending on the language, as it is not fully language-independent, the same as the word tokenization is also language-dependent."
   ],
   "metadata": {
    "collapsed": false
   }
  },
  {
   "cell_type": "markdown",
   "source": [
    "For answering these questions make sure to include a proper mix of numbers/plots/tables etc. and comments."
   ],
   "metadata": {
    "collapsed": false,
    "pycharm": {
     "name": "#%% md\n"
    }
   }
  },
  {
   "cell_type": "markdown",
   "source": [],
   "metadata": {
    "collapsed": false,
    "pycharm": {
     "name": "#%% md\n"
    }
   }
  }
 ],
 "metadata": {
  "kernelspec": {
   "display_name": "Python 3 (ipykernel)",
   "language": "python",
   "name": "python3"
  },
  "language_info": {
   "codemirror_mode": {
    "name": "ipython",
    "version": 3
   },
   "file_extension": ".py",
   "mimetype": "text/x-python",
   "name": "python",
   "nbconvert_exporter": "python",
   "pygments_lexer": "ipython3",
   "version": "3.8.3"
  }
 },
 "nbformat": 4,
 "nbformat_minor": 1
}

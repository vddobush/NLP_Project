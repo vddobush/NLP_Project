{
 "cells": [
  {
   "cell_type": "markdown",
   "metadata": {
    "collapsed": false,
    "id": "od2YkWY8pSOC",
    "pycharm": {
     "name": "#%% md\n"
    }
   },
   "source": [
    "# NLP 2025\n",
    "# Lab 2: Word Vectors and Information Retrieval\n",
    "\n",
    "During the first few weeks, we discussed various ways to represent text 📝. One key question was: What should be the basic unit of representation? Words are the fundamental building blocks 🧱.\n",
    "\n",
    "In this lab, we will explore different text representation models, such as Bag-of-Words (BoW), TF-IDF and word embeddings 🔤➡️🔢. Among these, word embeddings are the most effective in terms of performance. They represent each word as a vector of numbers, where each vector captures the meaning of the word 🧠📊.\n",
    "\n",
    "These numerical representations (or weights) are learned using machine learning models 🤖. We’ll dive deeper into how these vectors are learned in the next lecture 📚.\n",
    "\n",
    "For now, we’ll focus on how different representation methods affect performance in an information retrieval task 🔍."
   ]
  },
  {
   "cell_type": "markdown",
   "metadata": {
    "collapsed": false,
    "id": "s93LS5bspSOD",
    "pycharm": {
     "name": "#%% md\n"
    }
   },
   "source": [
    "By the end of this lab, you should be able to:\n",
    "\n",
    "+ 🧼🔁 Implement and/or use built-in functions to preprocess your data (once again!)\n",
    "+ 🧱👜 Build a Bag-of-Words representation of the dataset\n",
    "+ 📊✨ Implement TF-IDF\n",
    "+ 📥🔤 Load pre-trained word embeddings\n",
    "+ 🔍🧠 Inspect and test word embedding properties\n",
    "+ 🗣️➡️📐 Use word embeddings to get sentence representations (aka sentence embeddings)\n",
    "+ 🧩🔎 Use sentence embeddings to solve more complex tasks like information retrieval\n",
    "+ 🧪📏 Design evaluation frameworks for specific NLP tasks and assess their difficulty\n",
    "\n",
    "### Score breakdown\n",
    "\n",
    "| Exercise            | Points |\n",
    "|---------------------|--------|\n",
    "| [Exercise 1](#e1)   | 1      |\n",
    "| [Exercise 2](#e2)   | 1      |\n",
    "| [Exercise 3](#e3)   | 1      |\n",
    "| [Exercise 4](#e4)   | 1      |\n",
    "| [Exercise 5](#e5)   | 1      |\n",
    "| [Exercise 6](#e6)   | 2      |\n",
    "| [Exercise 7](#e7)   | 10     |\n",
    "| [Exercise 8](#e8)   | 5      |\n",
    "| [Exercise 9](#e9)   | 15     |\n",
    "| [Exercise 10](#e10) | 10     |\n",
    "| [Exercise 11](#e11) | 10     |\n",
    "| [Exercise 12](#e12) | 5      |\n",
    "| [Exercise 13](#e13) | 15     |\n",
    "| [Exercise 14](#e14) | 3      |\n",
    "| [Exercise 15](#e15) | 10     |\n",
    "| [Exercise 16](#e16) | 10     |\n",
    "| Total               | 100    |\n",
    "\n",
    "This score will be scaled down to 1 and that will be your final lab score.\n",
    "\n",
    "### 📌 **Instructions for Delivery** (📅 **Deadline: 18/Apr 18:00**, 🎭 *wildcards possible*)\n",
    "\n",
    "✅ **Submission Requirements**\n",
    "+ 📄 You need to submit a **PDF of your report** (use the templates provided in **LaTeX** 🖋️ (*preferred*) or **Word** 📑) and a **copy of your notebook** 📓 with the code.\n",
    "+ ⚡ Make sure that **all cells are executed properly** ⚙️ and that **all figures/results/plots** 📊 you include in the report are also visible in your **executed notebook**.\n",
    "\n",
    "✅ **Collaboration & Integrity**\n",
    "+ 🗣️ While you may **discuss** the lab with others, you must **write your solutions with your group only**. If you **discuss specific tasks** with others, please **include their names** in the appendix of the report.\n",
    "+ 📜 **Honor Code applies** to this lab. For more details, check **Syllabus §7.2** ⚖️.\n",
    "+ 📢 **Mandatory Disclosure**:\n",
    "   - Any **websites** 🌐 (e.g., **Stack Overflow** 💡) or **other resources** used must be **listed and disclosed**.\n",
    "   - Any **GenAI tools** 🤖 (e.g., **ChatGPT**) used must be **explicitly mentioned**.\n",
    "   - 🚨 **Failure to disclose these resources is a violation of academic integrity**. See **Syllabus §7.3** for details."
   ]
  },
  {
   "cell_type": "markdown",
   "metadata": {
    "collapsed": false,
    "id": "aHYGq5RUpSOD",
    "pycharm": {
     "name": "#%% md\n"
    }
   },
   "source": [
    "## 0. Setup\n",
    "\n",
    "As in the last lab, we will be using huggingface datasets library ([https://huggingface.co/datasets](https://huggingface.co/datasets)). You can find the detailed documentation and tutorials here: [https://huggingface.co/docs/datasets/en/index](https://huggingface.co/docs/datasets/en/index)\n",
    "\n",
    "If you don't have it installed you can run the code below or install it via `pip` in your terminal. If you are using Google Colab, you can uncomment and run the code below in a code cell. Restarting of the runtime may be required after installation (Runtime/Restart session)."
   ]
  },
  {
   "cell_type": "code",
   "metadata": {
    "id": "rhEG8hKrpSOE",
    "pycharm": {
     "name": "#%%\n"
    },
    "ExecuteTime": {
     "end_time": "2025-04-18T21:21:59.081231Z",
     "start_time": "2025-04-18T21:21:59.078244Z"
    }
   },
   "source": [
    "# ! pip install -U datasets~=3.5.0\n",
    "# ! pip install -U gensim\n",
    "# ! python -m pip install -U matplotlib\n",
    "# ! pip install nltk\n",
    "# ! pip install -U scikit-learn"
   ],
   "outputs": [],
   "execution_count": 18
  },
  {
   "cell_type": "markdown",
   "source": [
    "Previously installed datasets library version of 3.2.0 had an error when combined with numpy version >2. If you encounter an error at some point it might require to update the datasets library to the newer version. You can do that by running the code below. If you are using Google Colab, you can run the code below in a code cell. If you are using Jupyter Notebook, you can run the code below in a code cell or in a terminal."
   ],
   "metadata": {
    "collapsed": false,
    "pycharm": {
     "name": "#%% md\n"
    }
   }
  },
  {
   "cell_type": "code",
   "source": [
    "# ! pip install --upgrade --force-reinstall datasets"
   ],
   "metadata": {
    "collapsed": false,
    "pycharm": {
     "name": "#%%\n"
    },
    "ExecuteTime": {
     "end_time": "2025-04-18T21:21:59.485960Z",
     "start_time": "2025-04-18T21:21:59.481102Z"
    }
   },
   "outputs": [],
   "execution_count": 19
  },
  {
   "cell_type": "markdown",
   "metadata": {
    "collapsed": false,
    "id": "5CCI1TPJpSOF",
    "pycharm": {
     "name": "#%% md\n"
    }
   },
   "source": [
    "As usual, we start by importing some essential Python libraries and we will be using. Apart from `gensim` (which is going to be used for word embeddings), we have already seen the others."
   ]
  },
  {
   "cell_type": "code",
   "metadata": {
    "id": "CRe8W4hKpSOF",
    "pycharm": {
     "name": "#%%\n"
    },
    "ExecuteTime": {
     "end_time": "2025-04-18T21:22:00.190027Z",
     "start_time": "2025-04-18T21:22:00.040757Z"
    }
   },
   "source": [
    "import re\n",
    "\n",
    "import numpy as np\n",
    "import matplotlib.pyplot as plt\n",
    "import datasets\n",
    "import nltk\n",
    "import tqdm\n",
    "import gensim\n",
    "\n",
    "nltk.download('punkt_tab')"
   ],
   "outputs": [
    {
     "name": "stderr",
     "output_type": "stream",
     "text": [
      "[nltk_data] Downloading package punkt_tab to /Users/vd/nltk_data...\n",
      "[nltk_data]   Package punkt_tab is already up-to-date!\n"
     ]
    },
    {
     "data": {
      "text/plain": "True"
     },
     "execution_count": 20,
     "metadata": {},
     "output_type": "execute_result"
    }
   ],
   "execution_count": 20
  },
  {
   "cell_type": "markdown",
   "metadata": {
    "collapsed": false,
    "id": "NXy-1KiCpSOF",
    "pycharm": {
     "name": "#%% md\n"
    }
   },
   "source": [
    "## 1. Load and Preprocess Data\n",
    "\n",
    "*Sentence compression* involves rephrasing sentences to make them shorter while still retaining the original meaning. A reliable compression system would be valuable for mobile devices and could also serve as a component in an extractive summarization system.\n",
    "\n",
    "The dataset we are going to use can be found on [Huggingface](https://huggingface.co/datasets/embedding-data/sentence-compression). It concerns a set of 180,000 pairs of sentences, aka it is a parallel corpus of sentences and their equivalent compressions. It has been collected by harvesting news articles from the Internet where the headline appears to be similar to the first sentence and that property is used to find an \"extractive\" compression of the sentence.\n",
    "\n",
    "For example, for the sentence\n",
    "\n",
    "`\"Regulators Friday shut down a small Florida bank, bringing to 119 the number of US bank failures this year amid mounting loan defaults\"`\n",
    "\n",
    "the compressed equivalent (based on the dataset) is:\n",
    "\n",
    "`\"Regulators shut down small Florida bank\"`.\n",
    "\n",
    "\n",
    "For more information you can read the original paper (from Google) [here](https://aclanthology.org/D13-1155.pdf). We strongly recommend going over the paper to gain further insights. Notice that the paper is from 2013, therefore word embeddings have not been widely introduced yet in NLP tasks, meaning that the methods applied were based on the traditional NLP pipeline (feature extraction + ML)."
   ]
  },
  {
   "cell_type": "markdown",
   "metadata": {
    "collapsed": false,
    "id": "ztJX2GRVpSOF",
    "pycharm": {
     "name": "#%% md\n"
    }
   },
   "source": [
    "### 1.1 Loading the Dataset\n",
    "\n",
    "The dataset will be loaded as a Pandas DataFrame. This may take a few minutes because of the large size of the data.\n",
    "\n",
    "Make sure to inspect the dataset and make sure it is imported properly."
   ]
  },
  {
   "cell_type": "code",
   "metadata": {
    "id": "tay2NXPTpSOG",
    "pycharm": {
     "name": "#%%\n"
    },
    "ExecuteTime": {
     "end_time": "2025-04-18T21:22:02.161060Z",
     "start_time": "2025-04-18T21:22:00.866514Z"
    }
   },
   "source": [
    "ds = datasets.load_dataset('embedding-data/sentence-compression')\n",
    "print(ds)"
   ],
   "outputs": [
    {
     "name": "stdout",
     "output_type": "stream",
     "text": [
      "DatasetDict({\n",
      "    train: Dataset({\n",
      "        features: ['set'],\n",
      "        num_rows: 180000\n",
      "    })\n",
      "})\n"
     ]
    }
   ],
   "execution_count": 21
  },
  {
   "cell_type": "code",
   "metadata": {
    "id": "bUud3eZVpSOH",
    "pycharm": {
     "name": "#%%\n"
    },
    "ExecuteTime": {
     "end_time": "2025-04-18T21:22:02.176836Z",
     "start_time": "2025-04-18T21:22:02.170113Z"
    }
   },
   "source": [
    "for i in range(10):\n",
    "    print(ds['train'][i])"
   ],
   "outputs": [
    {
     "name": "stdout",
     "output_type": "stream",
     "text": [
      "{'set': [\"The USHL completed an expansion draft on Monday as 10 players who were on the rosters of USHL teams during the 2009-10 season were selected by the League's two newest entries, the Muskegon Lumberjacks and Dubuque Fighting Saints.\", 'USHL completes expansion draft']}\n",
      "{'set': ['Major League Baseball Commissioner Bud Selig will be speaking at St. Norbert College next month.', 'Bud Selig to speak at St. Norbert College']}\n",
      "{'set': [\"It's fresh cherry time in Michigan and the best time to enjoy this delicious and nutritious fruit.\", \"It's cherry time\"]}\n",
      "{'set': ['An Evesham man is facing charges in Pennsylvania after he allegedly dragged his girlfriend from the side of his pickup truck on the campus of Kutztown University in the early morning hours of Dec. 5, police said.', 'Evesham man faces charges for Pa.']}\n",
      "{'set': [\"NRT LLC, one of the nation's largest residential real estate brokerage companies, announced several executive appointments within its Coldwell Banker Residential Brokerage operations in Southern California.\", 'NRT announces executive appointments at its Coldwell Banker operations in Southern California']}\n",
      "{'set': ['THE JSE kept toying with an all time high by midday today as resources continued to fuel the bourse.', 'JSE keeps toying with all time high']}\n",
      "{'set': ['The government is defending the latest police crime statistics despite a worrying rise in the recorded amount of violent offending.', 'Government defends crime statistics']}\n",
      "{'set': ['The renovated Marappalam bridge, which had been opened for two-wheelers last week, was opened for other vehicles also on Friday.', 'Marappalam bridge opened']}\n",
      "{'set': ['A new survey shows 30 percent of Californians use Twitter, and more and more of us are using our smart phones to go online.', 'Survey: 30 percent of Californians use Twitter']}\n",
      "{'set': ['Brightpoint ,a provider of logistic services to the mobile industry, has started operations in the Turkish market.', 'Brightpoint starts operations on Turkish market']}\n"
     ]
    }
   ],
   "execution_count": 22
  },
  {
   "cell_type": "markdown",
   "metadata": {
    "collapsed": false,
    "id": "HfJSiWxrpSOH",
    "pycharm": {
     "name": "#%% md\n"
    }
   },
   "source": [
    "The dataset comes with only the `train` split so we will have to split it ourselves."
   ]
  },
  {
   "cell_type": "code",
   "metadata": {
    "id": "tATL53MWpSOH",
    "pycharm": {
     "name": "#%%\n"
    },
    "ExecuteTime": {
     "end_time": "2025-04-18T21:22:02.247056Z",
     "start_time": "2025-04-18T21:22:02.173228Z"
    }
   },
   "source": [
    "split_ds = ds['train'].train_test_split(test_size=0.2)\n",
    "print(split_ds)"
   ],
   "outputs": [
    {
     "name": "stdout",
     "output_type": "stream",
     "text": [
      "DatasetDict({\n",
      "    train: Dataset({\n",
      "        features: ['set'],\n",
      "        num_rows: 144000\n",
      "    })\n",
      "    test: Dataset({\n",
      "        features: ['set'],\n",
      "        num_rows: 36000\n",
      "    })\n",
      "})\n"
     ]
    }
   ],
   "execution_count": 23
  },
  {
   "cell_type": "markdown",
   "metadata": {
    "collapsed": false,
    "id": "L133t3CqpSOH",
    "pycharm": {
     "name": "#%% md\n"
    }
   },
   "source": [
    "### 1.2 Preprocessing the dataset\n",
    "In this section we will prepare the dataset, aka clean the sentences and tokenize.\n",
    "\n",
    "First, let's write the function to clean the text. It can be similar to the one from the previous lab (Lab1) but make sure that it makes sense for this dataset and task.\n",
    "\n",
    "More specifically, think about lower-casing, punctuation, stop-words and lemmatization/stemming and the impact it might have on the dataset. Also reflect on the fact that with word embeddings we want to uncover semantic relationships between words, whereas with bag-of-words we were trying to capture different morphological variations."
   ]
  },
  {
   "cell_type": "markdown",
   "metadata": {
    "collapsed": false,
    "id": "mQszN6GNpSOH",
    "pycharm": {
     "name": "#%% md\n"
    }
   },
   "source": [
    "<a name='e1'></a>\n",
    "### Exercise 1: Clean function\n",
    "(1p) Fill in the following function ot clean the dataset. Implement at least 3 different steps."
   ]
  },
  {
   "cell_type": "code",
   "metadata": {
    "id": "TxjfLQj6pSOH",
    "pycharm": {
     "name": "#%%\n"
    },
    "ExecuteTime": {
     "end_time": "2025-04-18T21:22:03.253021Z",
     "start_time": "2025-04-18T21:22:03.232330Z"
    }
   },
   "source": [
    "def clean(text):\n",
    "    \"\"\"\n",
    "    Cleans the given text\n",
    "    Args:\n",
    "        text: a str with the text to clean\n",
    "\n",
    "    Returns: a str with the cleaned text\n",
    "\n",
    "    \"\"\"\n",
    "\n",
    "    # Empty text\n",
    "    if text == '':\n",
    "        return text\n",
    "\n",
    "    # 'text' from the example can be of type numpy.str_, let's convert it to a python str\n",
    "    text = str(text)\n",
    "\n",
    "    #you might need more\n",
    "    #add them here\n",
    "\n",
    "    ### YOUR CODE HERE\n",
    "\n",
    "    #those functions delete all uppercase letters but without multiple Capital letters like CNN US.\n",
    "\n",
    "    text = re.sub(r'\\b([A-Z][a-z]+)\\b', lambda m: m.group(1).lower(), text)\n",
    "    text = re.sub(r'\\b([A-Z])(?![A-Z])\\b', lambda m: m.group(1).lower(), text)\n",
    "\n",
    "    #keeps only letters and numbers BUT keeps ' if its between two letters like in the word don't\n",
    "    text = re.sub(r\"(?<!\\w)'|'(?!\\w)\", \"\", text)\n",
    "\n",
    "    #gets rid of all special characters but numbers letters and apostrophes\n",
    "    text = re.sub(r\"[^\\w\\s']\", \"\", text)\n",
    "\n",
    "    ### YOUR CODE ENDS HERE\n",
    "\n",
    "    text = text.strip()\n",
    "\n",
    "    # Update the example with the cleaned text\n",
    "    return text"
   ],
   "outputs": [],
   "execution_count": 24
  },
  {
   "cell_type": "markdown",
   "metadata": {
    "collapsed": false,
    "id": "gAqf1AoupSOJ",
    "pycharm": {
     "name": "#%% md\n"
    }
   },
   "source": [
    "The following function will apply the function (sic) you just wrote to the whole dataset. More specifically, it takes the first entry (`sentence`) from the set of uncompressed/compressed pairs, applies the `clean` function and saves the processed sentence in the field `clean_sentence`. The same is dome for the compressed version of the sentence (saved as `clean_compressed`)."
   ]
  },
  {
   "metadata": {
    "ExecuteTime": {
     "end_time": "2025-04-18T21:22:03.957923Z",
     "start_time": "2025-04-18T21:22:03.929198Z"
    }
   },
   "cell_type": "code",
   "source": "print(clean(\"'Hers' amunition don't 'aint yay!!!$%# \"))",
   "outputs": [
    {
     "name": "stdout",
     "output_type": "stream",
     "text": [
      "hers amunition don't aint yay\n"
     ]
    }
   ],
   "execution_count": 25
  },
  {
   "cell_type": "code",
   "metadata": {
    "id": "WZn-M4_vpSOJ",
    "pycharm": {
     "name": "#%%\n"
    },
    "ExecuteTime": {
     "end_time": "2025-04-18T21:22:10.502838Z",
     "start_time": "2025-04-18T21:22:10.476545Z"
    }
   },
   "source": [
    "def clean_dataset(example):\n",
    "    \"\"\"\n",
    "    Cleans the sentence and compressed sentence in the example from the Dataset\n",
    "    Args:\n",
    "        example: an example from the Dataset\n",
    "\n",
    "    Returns: updated example with 'clean_sentence' and 'clean_compressed' cleaned\n",
    "\n",
    "    \"\"\"\n",
    "    sentence, compressed = example['set']\n",
    "    clean_sentence = clean(sentence)\n",
    "    clean_compressed = clean(compressed)\n",
    "    example['clean_sentence'] = clean_sentence\n",
    "    example['clean_compressed'] = clean_compressed\n",
    "    return example"
   ],
   "outputs": [],
   "execution_count": 26
  },
  {
   "cell_type": "markdown",
   "metadata": {
    "collapsed": false,
    "id": "_KVujosKpSOJ",
    "pycharm": {
     "name": "#%% md\n"
    }
   },
   "source": [
    "Below we apply the function to the whole dataset (using `map`) and we can also inspect the result."
   ]
  },
  {
   "cell_type": "code",
   "metadata": {
    "id": "NBS1JbISpSOJ",
    "pycharm": {
     "name": "#%%\n"
    },
    "ExecuteTime": {
     "end_time": "2025-04-18T21:22:26.191641Z",
     "start_time": "2025-04-18T21:22:18.126688Z"
    }
   },
   "source": [
    "split_ds = split_ds.map(clean_dataset)\n",
    "print(split_ds)"
   ],
   "outputs": [
    {
     "data": {
      "text/plain": "Map:   0%|          | 0/144000 [00:00<?, ? examples/s]",
      "application/vnd.jupyter.widget-view+json": {
       "version_major": 2,
       "version_minor": 0,
       "model_id": "f2bee7bfb18d4866a32f8286dfe25ce9"
      }
     },
     "metadata": {},
     "output_type": "display_data"
    },
    {
     "data": {
      "text/plain": "Map:   0%|          | 0/36000 [00:00<?, ? examples/s]",
      "application/vnd.jupyter.widget-view+json": {
       "version_major": 2,
       "version_minor": 0,
       "model_id": "412560143e474b81b43aedd7fe409f13"
      }
     },
     "metadata": {},
     "output_type": "display_data"
    },
    {
     "name": "stdout",
     "output_type": "stream",
     "text": [
      "DatasetDict({\n",
      "    train: Dataset({\n",
      "        features: ['set', 'clean_sentence', 'clean_compressed'],\n",
      "        num_rows: 144000\n",
      "    })\n",
      "    test: Dataset({\n",
      "        features: ['set', 'clean_sentence', 'clean_compressed'],\n",
      "        num_rows: 36000\n",
      "    })\n",
      "})\n"
     ]
    }
   ],
   "execution_count": 27
  },
  {
   "cell_type": "markdown",
   "metadata": {
    "collapsed": false,
    "id": "X_ThE9H-pSOJ",
    "pycharm": {
     "name": "#%% md\n"
    }
   },
   "source": [
    "Let's examine some examples from the dataset and make sure that we got the results we wanted. At this step, it might be necessary to revisit some pre-processing steps if you are not happy with the results."
   ]
  },
  {
   "cell_type": "code",
   "metadata": {
    "id": "hP-qOPijpSOJ",
    "pycharm": {
     "name": "#%%\n"
    },
    "ExecuteTime": {
     "end_time": "2025-04-18T21:22:29.607577Z",
     "start_time": "2025-04-18T21:22:29.603897Z"
    }
   },
   "source": [
    "for i in range(10):\n",
    "    print(split_ds['train'][i])"
   ],
   "outputs": [
    {
     "name": "stdout",
     "output_type": "stream",
     "text": [
      "{'set': ['The cousin of the toddler who was found alone on a busy Riviera Beach street early this morning says his escape from their home was a simple accident.', 'Toddler found alone in Riviera Beach street'], 'clean_sentence': 'the cousin of the toddler who was found alone on a busy riviera beach street early this morning says his escape from their home was a simple accident', 'clean_compressed': 'toddler found alone in riviera beach street'}\n",
      "{'set': ['The International Energy Agency will release 60 million barrels of oil from emergency stocks in the next 30 days to alleviate problems caused by the shutdown of Libyan crude exports by the civil conflict, a move that sent oil prices lower.', 'Iea to release 60 million barrels of oil from emergency stocks'], 'clean_sentence': 'the international energy agency will release 60 million barrels of oil from emergency stocks in the next 30 days to alleviate problems caused by the shutdown of libyan crude exports by the civil conflict a move that sent oil prices lower', 'clean_compressed': 'iea to release 60 million barrels of oil from emergency stocks'}\n",
      "{'set': [\"Dallas Cowboys quarterback Tony Romo will miss the team's upcoming OTAs after undergoing surgery last month to remove a cyst from his back.\", 'Romo to miss OTAs after undergoing back surgery'], 'clean_sentence': \"dallas cowboys quarterback tony romo will miss the team's upcoming OTAs after undergoing surgery last month to remove a cyst from his back\", 'clean_compressed': 'romo to miss OTAs after undergoing back surgery'}\n",
      "{'set': [\"Marcus has revealed that he would pose nude for free as a joke, while Siavash priced himself much higher, claiming he wouldn't reveal all for less than £100,000.\", \"Marcus: 'I'd pose nude for free'\"], 'clean_sentence': \"marcus has revealed that he would pose nude for free as a joke while siavash priced himself much higher claiming he wouldn't reveal all for less than 100000\", 'clean_compressed': \"marcus i'd pose nude for free\"}\n",
      "{'set': ['www.mlntherawfeed.com-Buffalo Sabres GM Darcy Regier announced today the Sabres have signed forward Mark Mancari to a one-year deal.', 'Buffalo Sabres sign Mark Mancari;'], 'clean_sentence': 'wwwmlntherawfeedcombuffalo sabres GM darcy regier announced today the sabres have signed forward mark mancari to a oneyear deal', 'clean_compressed': 'buffalo sabres sign mark mancari'}\n",
      "{'set': ['Violent partners will be banned from their homes under new plans to tackle domestic violence.', 'Violent partners to be banned from homes'], 'clean_sentence': 'violent partners will be banned from their homes under new plans to tackle domestic violence', 'clean_compressed': 'violent partners to be banned from homes'}\n",
      "{'set': ['IBM said on Thursday it will open three analytics centers in Europe, part of its growing business analytics business highlighted by its $1.7 billion offer earlier this week for vendor Netezza.', 'IBM to open three analytics centers in Europe'], 'clean_sentence': 'IBM said on thursday it will open three analytics centers in europe part of its growing business analytics business highlighted by its 17 billion offer earlier this week for vendor netezza', 'clean_compressed': 'IBM to open three analytics centers in europe'}\n",
      "{'set': ['New York rap veteran Nas recently revealed his greatest fear and one of the biggest motivational comments made by fellow hip-hop pioneer KRS-One.', 'Nas reveals his greatest fear'], 'clean_sentence': 'new york rap veteran nas recently revealed his greatest fear and one of the biggest motivational comments made by fellow hiphop pioneer KRSone', 'clean_compressed': 'nas reveals his greatest fear'}\n",
      "{'set': [\"What happened at the Malta Labour Party general conference confirmed that the ``MLP is not a serious party, was careless and its policies lead to uncertainty,'' the Nationalist Party said in a statement.\", \"MLP ``is not a serious party'' --\"], 'clean_sentence': 'what happened at the malta labour party general conference confirmed that the MLP is not a serious party was careless and its policies lead to uncertainty the nationalist party said in a statement', 'clean_compressed': 'MLP is not a serious party'}\n",
      "{'set': [\"Iran's President Mahmoud Ahmadinejad on Wednesday accused the West of nuclear ``intimidation'' in his final speech to the UN General Assembly which was boycotted by the United States and Israel.\", \"Ahmadinejad accuses West of nuclear 'intimidation'\"], 'clean_sentence': \"iran's president mahmoud ahmadinejad on wednesday accused the west of nuclear intimidation in his final speech to the UN general assembly which was boycotted by the united states and israel\", 'clean_compressed': 'ahmadinejad accuses west of nuclear intimidation'}\n"
     ]
    }
   ],
   "execution_count": 28
  },
  {
   "cell_type": "markdown",
   "metadata": {
    "collapsed": false,
    "id": "7LI2KlfypSOJ",
    "pycharm": {
     "name": "#%% md\n"
    }
   },
   "source": [
    "<a name='e2'></a>\n",
    "### Exercise 2: Tokenize function\n",
    "\n",
    "(1p) As always, we will need to tokenize the dataset in order to create bat-of-words and TF-IDF representations in the next sections. We will use the [Natural Language Toolkit (NLTK) library]([https://www.nltk.org/]) (https://www.nltk.org/). Complete the following function to split the text into tokens using the `word_tokenize()` function. Check the [documentation](https://www.nltk.org/api/nltk.tokenize.word_tokenize.html?highlight=word_tokenize) first.\n",
    "Note that there are different tokenizers e.g. `RegexpTokenizer` where you can enter your own regexp, `WhitespaceTokenizer` (similar to Python's string.split()) and `BlanklineTokenizer`."
   ]
  },
  {
   "cell_type": "code",
   "metadata": {
    "id": "sb-M3V6ApSOK",
    "pycharm": {
     "name": "#%%\n"
    },
    "ExecuteTime": {
     "end_time": "2025-04-18T21:27:47.033449Z",
     "start_time": "2025-04-18T21:27:47.023575Z"
    }
   },
   "source": [
    "def tokenize(text):\n",
    "    \"\"\"\n",
    "    Tokenizes the `text` parameter using nltk library\n",
    "    Args:\n",
    "        text: a string representing a sentence to be tokenized\n",
    "\n",
    "    Returns: a list of tokens (strings)\n",
    "\n",
    "    \"\"\"\n",
    "\n",
    "    ### YOUR CODE HERE\n",
    "\n",
    "\n",
    "    tokens = nltk.word_tokenize(text, language='english', preserve_line=False)\n",
    "\n",
    "\n",
    "    ### YOUR CODE ENDS HERE\n",
    "    return tokens"
   ],
   "outputs": [],
   "execution_count": 32
  },
  {
   "cell_type": "markdown",
   "metadata": {
    "collapsed": false,
    "id": "gwsHqZc9pSOK",
    "pycharm": {
     "name": "#%% md\n"
    }
   },
   "source": [
    "Next, the function will be applied to the whole dataset (as we did with the pre-processing) and `sentence_tokens` field will be created to store the result."
   ]
  },
  {
   "cell_type": "code",
   "metadata": {
    "id": "6sTX-AcTpSOK",
    "pycharm": {
     "name": "#%%\n"
    },
    "ExecuteTime": {
     "end_time": "2025-04-18T21:27:49.939396Z",
     "start_time": "2025-04-18T21:27:49.916759Z"
    }
   },
   "source": [
    "def tokenize_dataset(example):\n",
    "    \"\"\"\n",
    "    Tokenizes 'clean_sentence' columns in the example from the Dataset\n",
    "    Args:\n",
    "        example: an example from the Dataset\n",
    "\n",
    "    Returns: updated example with 'sentence_tokens' columns\n",
    "\n",
    "    \"\"\"\n",
    "    example['sentence_tokens'] = tokenize(example['clean_sentence'])\n",
    "    example['compressed_tokens'] = tokenize(example['clean_compressed'])\n",
    "    return example"
   ],
   "outputs": [],
   "execution_count": 33
  },
  {
   "cell_type": "code",
   "metadata": {
    "id": "jvwmXLj2pSOK",
    "pycharm": {
     "name": "#%%\n"
    },
    "ExecuteTime": {
     "end_time": "2025-04-18T21:29:01.525530Z",
     "start_time": "2025-04-18T21:28:40.143470Z"
    }
   },
   "source": [
    "nltk.download('punkt')\n",
    "split_ds = split_ds.map(tokenize_dataset)"
   ],
   "outputs": [
    {
     "name": "stderr",
     "output_type": "stream",
     "text": [
      "[nltk_data] Downloading package punkt to /Users/vd/nltk_data...\n",
      "[nltk_data]   Unzipping tokenizers/punkt.zip.\n"
     ]
    },
    {
     "data": {
      "text/plain": "Map:   0%|          | 0/144000 [00:00<?, ? examples/s]",
      "application/vnd.jupyter.widget-view+json": {
       "version_major": 2,
       "version_minor": 0,
       "model_id": "71390327b35340b2ab37c0fe1b09f31f"
      }
     },
     "metadata": {},
     "output_type": "display_data"
    },
    {
     "data": {
      "text/plain": "Map:   0%|          | 0/36000 [00:00<?, ? examples/s]",
      "application/vnd.jupyter.widget-view+json": {
       "version_major": 2,
       "version_minor": 0,
       "model_id": "9dec557cf4194d8e86ad8ffd2504991a"
      }
     },
     "metadata": {},
     "output_type": "display_data"
    }
   ],
   "execution_count": 35
  },
  {
   "cell_type": "code",
   "execution_count": 36,
   "metadata": {
    "id": "yXnje31SpSOK",
    "pycharm": {
     "name": "#%%\n"
    },
    "ExecuteTime": {
     "end_time": "2025-04-18T21:29:30.670809Z",
     "start_time": "2025-04-18T21:29:30.627770Z"
    }
   },
   "outputs": [
    {
     "name": "stdout",
     "output_type": "stream",
     "text": [
      "{'set': ['The cousin of the toddler who was found alone on a busy Riviera Beach street early this morning says his escape from their home was a simple accident.', 'Toddler found alone in Riviera Beach street'], 'clean_sentence': 'the cousin of the toddler who was found alone on a busy riviera beach street early this morning says his escape from their home was a simple accident', 'clean_compressed': 'toddler found alone in riviera beach street', 'sentence_tokens': ['the', 'cousin', 'of', 'the', 'toddler', 'who', 'was', 'found', 'alone', 'on', 'a', 'busy', 'riviera', 'beach', 'street', 'early', 'this', 'morning', 'says', 'his', 'escape', 'from', 'their', 'home', 'was', 'a', 'simple', 'accident'], 'compressed_tokens': ['toddler', 'found', 'alone', 'in', 'riviera', 'beach', 'street']}\n",
      "{'set': ['The International Energy Agency will release 60 million barrels of oil from emergency stocks in the next 30 days to alleviate problems caused by the shutdown of Libyan crude exports by the civil conflict, a move that sent oil prices lower.', 'Iea to release 60 million barrels of oil from emergency stocks'], 'clean_sentence': 'the international energy agency will release 60 million barrels of oil from emergency stocks in the next 30 days to alleviate problems caused by the shutdown of libyan crude exports by the civil conflict a move that sent oil prices lower', 'clean_compressed': 'iea to release 60 million barrels of oil from emergency stocks', 'sentence_tokens': ['the', 'international', 'energy', 'agency', 'will', 'release', '60', 'million', 'barrels', 'of', 'oil', 'from', 'emergency', 'stocks', 'in', 'the', 'next', '30', 'days', 'to', 'alleviate', 'problems', 'caused', 'by', 'the', 'shutdown', 'of', 'libyan', 'crude', 'exports', 'by', 'the', 'civil', 'conflict', 'a', 'move', 'that', 'sent', 'oil', 'prices', 'lower'], 'compressed_tokens': ['iea', 'to', 'release', '60', 'million', 'barrels', 'of', 'oil', 'from', 'emergency', 'stocks']}\n",
      "{'set': [\"Dallas Cowboys quarterback Tony Romo will miss the team's upcoming OTAs after undergoing surgery last month to remove a cyst from his back.\", 'Romo to miss OTAs after undergoing back surgery'], 'clean_sentence': \"dallas cowboys quarterback tony romo will miss the team's upcoming OTAs after undergoing surgery last month to remove a cyst from his back\", 'clean_compressed': 'romo to miss OTAs after undergoing back surgery', 'sentence_tokens': ['dallas', 'cowboys', 'quarterback', 'tony', 'romo', 'will', 'miss', 'the', 'team', \"'s\", 'upcoming', 'OTAs', 'after', 'undergoing', 'surgery', 'last', 'month', 'to', 'remove', 'a', 'cyst', 'from', 'his', 'back'], 'compressed_tokens': ['romo', 'to', 'miss', 'OTAs', 'after', 'undergoing', 'back', 'surgery']}\n",
      "{'set': [\"Marcus has revealed that he would pose nude for free as a joke, while Siavash priced himself much higher, claiming he wouldn't reveal all for less than £100,000.\", \"Marcus: 'I'd pose nude for free'\"], 'clean_sentence': \"marcus has revealed that he would pose nude for free as a joke while siavash priced himself much higher claiming he wouldn't reveal all for less than 100000\", 'clean_compressed': \"marcus i'd pose nude for free\", 'sentence_tokens': ['marcus', 'has', 'revealed', 'that', 'he', 'would', 'pose', 'nude', 'for', 'free', 'as', 'a', 'joke', 'while', 'siavash', 'priced', 'himself', 'much', 'higher', 'claiming', 'he', 'would', \"n't\", 'reveal', 'all', 'for', 'less', 'than', '100000'], 'compressed_tokens': ['marcus', 'i', \"'d\", 'pose', 'nude', 'for', 'free']}\n",
      "{'set': ['www.mlntherawfeed.com-Buffalo Sabres GM Darcy Regier announced today the Sabres have signed forward Mark Mancari to a one-year deal.', 'Buffalo Sabres sign Mark Mancari;'], 'clean_sentence': 'wwwmlntherawfeedcombuffalo sabres GM darcy regier announced today the sabres have signed forward mark mancari to a oneyear deal', 'clean_compressed': 'buffalo sabres sign mark mancari', 'sentence_tokens': ['wwwmlntherawfeedcombuffalo', 'sabres', 'GM', 'darcy', 'regier', 'announced', 'today', 'the', 'sabres', 'have', 'signed', 'forward', 'mark', 'mancari', 'to', 'a', 'oneyear', 'deal'], 'compressed_tokens': ['buffalo', 'sabres', 'sign', 'mark', 'mancari']}\n",
      "{'set': ['Violent partners will be banned from their homes under new plans to tackle domestic violence.', 'Violent partners to be banned from homes'], 'clean_sentence': 'violent partners will be banned from their homes under new plans to tackle domestic violence', 'clean_compressed': 'violent partners to be banned from homes', 'sentence_tokens': ['violent', 'partners', 'will', 'be', 'banned', 'from', 'their', 'homes', 'under', 'new', 'plans', 'to', 'tackle', 'domestic', 'violence'], 'compressed_tokens': ['violent', 'partners', 'to', 'be', 'banned', 'from', 'homes']}\n",
      "{'set': ['IBM said on Thursday it will open three analytics centers in Europe, part of its growing business analytics business highlighted by its $1.7 billion offer earlier this week for vendor Netezza.', 'IBM to open three analytics centers in Europe'], 'clean_sentence': 'IBM said on thursday it will open three analytics centers in europe part of its growing business analytics business highlighted by its 17 billion offer earlier this week for vendor netezza', 'clean_compressed': 'IBM to open three analytics centers in europe', 'sentence_tokens': ['IBM', 'said', 'on', 'thursday', 'it', 'will', 'open', 'three', 'analytics', 'centers', 'in', 'europe', 'part', 'of', 'its', 'growing', 'business', 'analytics', 'business', 'highlighted', 'by', 'its', '17', 'billion', 'offer', 'earlier', 'this', 'week', 'for', 'vendor', 'netezza'], 'compressed_tokens': ['IBM', 'to', 'open', 'three', 'analytics', 'centers', 'in', 'europe']}\n",
      "{'set': ['New York rap veteran Nas recently revealed his greatest fear and one of the biggest motivational comments made by fellow hip-hop pioneer KRS-One.', 'Nas reveals his greatest fear'], 'clean_sentence': 'new york rap veteran nas recently revealed his greatest fear and one of the biggest motivational comments made by fellow hiphop pioneer KRSone', 'clean_compressed': 'nas reveals his greatest fear', 'sentence_tokens': ['new', 'york', 'rap', 'veteran', 'nas', 'recently', 'revealed', 'his', 'greatest', 'fear', 'and', 'one', 'of', 'the', 'biggest', 'motivational', 'comments', 'made', 'by', 'fellow', 'hiphop', 'pioneer', 'KRSone'], 'compressed_tokens': ['nas', 'reveals', 'his', 'greatest', 'fear']}\n",
      "{'set': [\"What happened at the Malta Labour Party general conference confirmed that the ``MLP is not a serious party, was careless and its policies lead to uncertainty,'' the Nationalist Party said in a statement.\", \"MLP ``is not a serious party'' --\"], 'clean_sentence': 'what happened at the malta labour party general conference confirmed that the MLP is not a serious party was careless and its policies lead to uncertainty the nationalist party said in a statement', 'clean_compressed': 'MLP is not a serious party', 'sentence_tokens': ['what', 'happened', 'at', 'the', 'malta', 'labour', 'party', 'general', 'conference', 'confirmed', 'that', 'the', 'MLP', 'is', 'not', 'a', 'serious', 'party', 'was', 'careless', 'and', 'its', 'policies', 'lead', 'to', 'uncertainty', 'the', 'nationalist', 'party', 'said', 'in', 'a', 'statement'], 'compressed_tokens': ['MLP', 'is', 'not', 'a', 'serious', 'party']}\n",
      "{'set': [\"Iran's President Mahmoud Ahmadinejad on Wednesday accused the West of nuclear ``intimidation'' in his final speech to the UN General Assembly which was boycotted by the United States and Israel.\", \"Ahmadinejad accuses West of nuclear 'intimidation'\"], 'clean_sentence': \"iran's president mahmoud ahmadinejad on wednesday accused the west of nuclear intimidation in his final speech to the UN general assembly which was boycotted by the united states and israel\", 'clean_compressed': 'ahmadinejad accuses west of nuclear intimidation', 'sentence_tokens': ['iran', \"'s\", 'president', 'mahmoud', 'ahmadinejad', 'on', 'wednesday', 'accused', 'the', 'west', 'of', 'nuclear', 'intimidation', 'in', 'his', 'final', 'speech', 'to', 'the', 'UN', 'general', 'assembly', 'which', 'was', 'boycotted', 'by', 'the', 'united', 'states', 'and', 'israel'], 'compressed_tokens': ['ahmadinejad', 'accuses', 'west', 'of', 'nuclear', 'intimidation']}\n"
     ]
    }
   ],
   "source": [
    "for i in range(10):\n",
    "    print(split_ds['train'][i])"
   ]
  },
  {
   "cell_type": "markdown",
   "metadata": {
    "collapsed": false,
    "id": "FeF0wFd0pSOL",
    "pycharm": {
     "name": "#%% md\n"
    }
   },
   "source": [
    "Since we will need the tokenized sentences, we can use the following statement to extract them from the `train` split of our dataset."
   ]
  },
  {
   "cell_type": "code",
   "execution_count": 37,
   "metadata": {
    "id": "qYKfXFxQpSOL",
    "pycharm": {
     "name": "#%%\n"
    },
    "ExecuteTime": {
     "end_time": "2025-04-18T21:29:35.484016Z",
     "start_time": "2025-04-18T21:29:32.931172Z"
    }
   },
   "outputs": [
    {
     "name": "stdout",
     "output_type": "stream",
     "text": [
      "144000\n",
      "[['the', 'cousin', 'of', 'the', 'toddler', 'who', 'was', 'found', 'alone', 'on', 'a', 'busy', 'riviera', 'beach', 'street', 'early', 'this', 'morning', 'says', 'his', 'escape', 'from', 'their', 'home', 'was', 'a', 'simple', 'accident'], ['the', 'international', 'energy', 'agency', 'will', 'release', '60', 'million', 'barrels', 'of', 'oil', 'from', 'emergency', 'stocks', 'in', 'the', 'next', '30', 'days', 'to', 'alleviate', 'problems', 'caused', 'by', 'the', 'shutdown', 'of', 'libyan', 'crude', 'exports', 'by', 'the', 'civil', 'conflict', 'a', 'move', 'that', 'sent', 'oil', 'prices', 'lower'], ['dallas', 'cowboys', 'quarterback', 'tony', 'romo', 'will', 'miss', 'the', 'team', \"'s\", 'upcoming', 'OTAs', 'after', 'undergoing', 'surgery', 'last', 'month', 'to', 'remove', 'a', 'cyst', 'from', 'his', 'back'], ['marcus', 'has', 'revealed', 'that', 'he', 'would', 'pose', 'nude', 'for', 'free', 'as', 'a', 'joke', 'while', 'siavash', 'priced', 'himself', 'much', 'higher', 'claiming', 'he', 'would', \"n't\", 'reveal', 'all', 'for', 'less', 'than', '100000'], ['wwwmlntherawfeedcombuffalo', 'sabres', 'GM', 'darcy', 'regier', 'announced', 'today', 'the', 'sabres', 'have', 'signed', 'forward', 'mark', 'mancari', 'to', 'a', 'oneyear', 'deal'], ['violent', 'partners', 'will', 'be', 'banned', 'from', 'their', 'homes', 'under', 'new', 'plans', 'to', 'tackle', 'domestic', 'violence'], ['IBM', 'said', 'on', 'thursday', 'it', 'will', 'open', 'three', 'analytics', 'centers', 'in', 'europe', 'part', 'of', 'its', 'growing', 'business', 'analytics', 'business', 'highlighted', 'by', 'its', '17', 'billion', 'offer', 'earlier', 'this', 'week', 'for', 'vendor', 'netezza'], ['new', 'york', 'rap', 'veteran', 'nas', 'recently', 'revealed', 'his', 'greatest', 'fear', 'and', 'one', 'of', 'the', 'biggest', 'motivational', 'comments', 'made', 'by', 'fellow', 'hiphop', 'pioneer', 'KRSone'], ['what', 'happened', 'at', 'the', 'malta', 'labour', 'party', 'general', 'conference', 'confirmed', 'that', 'the', 'MLP', 'is', 'not', 'a', 'serious', 'party', 'was', 'careless', 'and', 'its', 'policies', 'lead', 'to', 'uncertainty', 'the', 'nationalist', 'party', 'said', 'in', 'a', 'statement'], ['iran', \"'s\", 'president', 'mahmoud', 'ahmadinejad', 'on', 'wednesday', 'accused', 'the', 'west', 'of', 'nuclear', 'intimidation', 'in', 'his', 'final', 'speech', 'to', 'the', 'UN', 'general', 'assembly', 'which', 'was', 'boycotted', 'by', 'the', 'united', 'states', 'and', 'israel']]\n"
     ]
    }
   ],
   "source": [
    "tokenized_sentences = split_ds['train']['sentence_tokens']\n",
    "print(len(tokenized_sentences))\n",
    "print(tokenized_sentences[:10])"
   ]
  },
  {
   "cell_type": "code",
   "execution_count": 38,
   "outputs": [
    {
     "name": "stdout",
     "output_type": "stream",
     "text": [
      "144000\n",
      "[['toddler', 'found', 'alone', 'in', 'riviera', 'beach', 'street'], ['iea', 'to', 'release', '60', 'million', 'barrels', 'of', 'oil', 'from', 'emergency', 'stocks'], ['romo', 'to', 'miss', 'OTAs', 'after', 'undergoing', 'back', 'surgery'], ['marcus', 'i', \"'d\", 'pose', 'nude', 'for', 'free'], ['buffalo', 'sabres', 'sign', 'mark', 'mancari'], ['violent', 'partners', 'to', 'be', 'banned', 'from', 'homes'], ['IBM', 'to', 'open', 'three', 'analytics', 'centers', 'in', 'europe'], ['nas', 'reveals', 'his', 'greatest', 'fear'], ['MLP', 'is', 'not', 'a', 'serious', 'party'], ['ahmadinejad', 'accuses', 'west', 'of', 'nuclear', 'intimidation']]\n"
     ]
    }
   ],
   "source": [
    "tokenized_compressed = split_ds['train']['compressed_tokens']\n",
    "print(len(tokenized_compressed))\n",
    "print(tokenized_compressed[:10])"
   ],
   "metadata": {
    "collapsed": false,
    "pycharm": {
     "name": "#%%\n"
    },
    "ExecuteTime": {
     "end_time": "2025-04-18T21:29:36.365514Z",
     "start_time": "2025-04-18T21:29:35.481149Z"
    }
   }
  },
  {
   "cell_type": "markdown",
   "metadata": {
    "id": "ZDGwEiZeCA5U",
    "pycharm": {
     "name": "#%% md\n"
    }
   },
   "source": [
    "Notice the difference in the types of the different structures we use. Run the following cell to check the types. Do they make sense to you?"
   ]
  },
  {
   "cell_type": "code",
   "execution_count": 39,
   "metadata": {
    "id": "wKrkFmcZCtOd",
    "pycharm": {
     "name": "#%%\n"
    },
    "ExecuteTime": {
     "end_time": "2025-04-18T21:29:48.772166Z",
     "start_time": "2025-04-18T21:29:43.493653Z"
    }
   },
   "outputs": [
    {
     "name": "stdout",
     "output_type": "stream",
     "text": [
      "<class 'datasets.dataset_dict.DatasetDict'>\n",
      "--\n",
      "{'set': ['The International Energy Agency will release 60 million barrels of oil from emergency stocks in the next 30 days to alleviate problems caused by the shutdown of Libyan crude exports by the civil conflict, a move that sent oil prices lower.', 'Iea to release 60 million barrels of oil from emergency stocks'], 'clean_sentence': 'the international energy agency will release 60 million barrels of oil from emergency stocks in the next 30 days to alleviate problems caused by the shutdown of libyan crude exports by the civil conflict a move that sent oil prices lower', 'clean_compressed': 'iea to release 60 million barrels of oil from emergency stocks', 'sentence_tokens': ['the', 'international', 'energy', 'agency', 'will', 'release', '60', 'million', 'barrels', 'of', 'oil', 'from', 'emergency', 'stocks', 'in', 'the', 'next', '30', 'days', 'to', 'alleviate', 'problems', 'caused', 'by', 'the', 'shutdown', 'of', 'libyan', 'crude', 'exports', 'by', 'the', 'civil', 'conflict', 'a', 'move', 'that', 'sent', 'oil', 'prices', 'lower'], 'compressed_tokens': ['iea', 'to', 'release', '60', 'million', 'barrels', 'of', 'oil', 'from', 'emergency', 'stocks']}\n",
      "<class 'dict'>\n",
      "--\n",
      "the international energy agency will release 60 million barrels of oil from emergency stocks in the next 30 days to alleviate problems caused by the shutdown of libyan crude exports by the civil conflict a move that sent oil prices lower\n",
      "<class 'str'>\n",
      "--\n",
      "['the', 'international', 'energy', 'agency', 'will', 'release', '60', 'million', 'barrels', 'of', 'oil', 'from', 'emergency', 'stocks', 'in', 'the', 'next', '30', 'days', 'to', 'alleviate', 'problems', 'caused', 'by', 'the', 'shutdown', 'of', 'libyan', 'crude', 'exports', 'by', 'the', 'civil', 'conflict', 'a', 'move', 'that', 'sent', 'oil', 'prices', 'lower']\n",
      "<class 'list'>\n",
      "--\n"
     ]
    }
   ],
   "source": [
    "#type of original dataset\n",
    "print(type(split_ds))\n",
    "print(\"--\")\n",
    "#type of original sentence\n",
    "print(split_ds['train'][1])\n",
    "print(type(split_ds['train'][1]))\n",
    "print(\"--\")\n",
    "#type of pre-proceesed sentence\n",
    "print(split_ds['train']['clean_sentence'][1])\n",
    "print(type(split_ds['train']['clean_sentence'][1]))\n",
    "print(\"--\")\n",
    "#type of tokenized sentence\n",
    "print(split_ds['train']['sentence_tokens'][1])\n",
    "print(type(split_ds['train']['sentence_tokens'][1]))\n",
    "print(\"--\")"
   ]
  },
  {
   "cell_type": "markdown",
   "source": [
    "## 2. Bag of Words\n",
    "In this section you will built a bag-of-words representation of the dataset. We will use numpy arrays to store the results. The bag-of-words representation is a simple and effective way to represent text data. It involves creating a vocabulary of unique words from the dataset and representing each sentence as a vector of word counts. We first need the vocabulary, which we will build from both the full sentences and the compressed sentences. Similar to the first lab, the vocabulary will be a list of unique words from the dataset."
   ],
   "metadata": {
    "collapsed": false,
    "pycharm": {
     "name": "#%% md\n"
    }
   }
  },
  {
   "cell_type": "markdown",
   "source": [
    "<a name='e3'></a>\n",
    "### Exercise 3: Extracting vocabulary counts\n",
    "\n",
    "(1p) In the following cell, you will implement a function that takes a list of tokenized sentences and returns a dictionary with the counts of each word in the vocabulary. The dictionary should be of the form {word: count}. As in previous lab, you will use the `Counter` class from the `collections` module to do this."
   ],
   "metadata": {
    "collapsed": false,
    "pycharm": {
     "name": "#%% md\n"
    }
   }
  },
  {
   "cell_type": "code",
   "execution_count": 42,
   "outputs": [],
   "source": [
    "from collections import Counter\n",
    "\n",
    "\n",
    "def extract_vocabulary_counts(tokenized_sentences):\n",
    "    \"\"\"\n",
    "    Extracts the vocabulary from the tokenized sentences\n",
    "    Args:\n",
    "        tokenized_sentences: a list of lists of tokens\n",
    "\n",
    "    Returns: a Counter object with the counts of each word in the vocabulary\n",
    "    \"\"\"\n",
    "\n",
    "    ### YOUR CODE HERE\n",
    "    all_tokens = []\n",
    "    for sentence in tokenized_sentences:\n",
    "        for token in sentence:\n",
    "            all_tokens.append(token)\n",
    "\n",
    "    vocabulary_counts = Counter(all_tokens)\n",
    "    \n",
    "    return vocabulary_counts\n",
    "\n",
    "\n",
    "\n",
    "    ### YOUR CODE ENDS HERE"
   ],
   "metadata": {
    "collapsed": false,
    "pycharm": {
     "name": "#%%\n"
    },
    "ExecuteTime": {
     "end_time": "2025-04-18T21:30:43.252259Z",
     "start_time": "2025-04-18T21:30:43.236862Z"
    }
   }
  },
  {
   "cell_type": "code",
   "execution_count": 43,
   "outputs": [
    {
     "name": "stdout",
     "output_type": "stream",
     "text": [
      "123074\n",
      "[('the', 182164), ('to', 130563), ('a', 116676), ('in', 112915), ('of', 100550), ('and', 68323), ('on', 56244), ('for', 52009), ('has', 39315), ('with', 31785)]\n"
     ]
    }
   ],
   "source": [
    "vocab_counter = extract_vocabulary_counts(tokenized_sentences + tokenized_compressed)\n",
    "print(len(vocab_counter))\n",
    "print(vocab_counter.most_common(10))"
   ],
   "metadata": {
    "collapsed": false,
    "pycharm": {
     "name": "#%%\n"
    },
    "ExecuteTime": {
     "end_time": "2025-04-18T21:30:44.853082Z",
     "start_time": "2025-04-18T21:30:43.875427Z"
    }
   }
  },
  {
   "cell_type": "markdown",
   "source": [
    "As you can see the size of the vocabulary is quite large. Like the last time, we will limit the vocabulary to the most frequent words. The next cell will create a dictionary that maps each word to an index in the vocabulary. This will be used to create the bag-of-words representation of the sentences."
   ],
   "metadata": {
    "collapsed": false,
    "pycharm": {
     "name": "#%% md\n"
    }
   }
  },
  {
   "cell_type": "code",
   "execution_count": 44,
   "outputs": [
    {
     "name": "stdout",
     "output_type": "stream",
     "text": [
      "{'the': 0, 'to': 1, 'a': 2, 'in': 3, 'of': 4, 'and': 5, 'on': 6, 'for': 7, 'has': 8, 'with': 9, \"'s\": 10, 'is': 11, 'at': 12, 'that': 13, 'from': 14, 'by': 15, 'as': 16, 'will': 17, 'said': 18, 'new': 19, 'after': 20, 'his': 21, 'its': 22, 'was': 23, 'an': 24, 'it': 25, 'be': 26, 'have': 27, 'he': 28, 'man': 29, 'are': 30, 'US': 31, 'been': 32, 'today': 33, 'police': 34, 'this': 35, 'two': 36, 'their': 37, 'her': 38, 'who': 39, 'over': 40, 'first': 41, 'announced': 42, 'up': 43, 'tuesday': 44, 'not': 45, 'year': 46, 'more': 47, 'wednesday': 48, 'against': 49, 'thursday': 50, 'monday': 51, 'state': 52, 'friday': 53, 'out': 54, 'president': 55, 'says': 56, 'former': 57, 'into': 58, 'world': 59, 'million': 60, 'one': 61, 'which': 62, 'city': 63, 'were': 64, 'county': 65, 'according': 66, 'last': 67, 'may': 68, 'woman': 69, 'saturday': 70, 'about': 71, 'week': 72, 'than': 73, 'sunday': 74, 'government': 75, 'minister': 76, 'years': 77, 'company': 78, 'home': 79, 'three': 80, 'she': 81, 'i': 82, 'people': 83, 'during': 84, 'but': 85, 'they': 86, 'india': 87, 'when': 88, 'night': 89, 'off': 90, 'time': 91, 'killed': 92, 'all': 93, 'bank': 94, 'day': 95, 'national': 96, 'being': 97, 'south': 98, 'next': 99, 'found': 100, 'court': 101, 'arrested': 102, 'morning': 103, 'school': 104, 'died': 105, 'set': 106, 'country': 107, 'would': 108, 'obama': 109, 'had': 110, 'charged': 111, 'second': 112, 'could': 113, 'no': 114, 'back': 115, 'reported': 116, 'group': 117, 'down': 118, 'market': 119, 'fire': 120, 'international': 121, 'china': 122, 'can': 123, 'team': 124, 'business': 125, 'season': 126, 'open': 127, 'oil': 128, \"n't\": 129, 'while': 130, 'house': 131, 'service': 132, 'early': 133, 'car': 134, 'reports': 135, 'high': 136, 'news': 137, 'star': 138, 'charges': 139, 'inc': 140, 'or': 141, 'united': 142, 'prices': 143, 'north': 144, 'plans': 145, 'now': 146, 'officials': 147, 'global': 148, 'dies': 149, 'month': 150, 'four': 151, 'guilty': 152, 'hospital': 153, 'death': 154, 'public': 155, 'following': 156, 'some': 157, 'yesterday': 158, 'report': 159, 'billion': 160, 'american': 161, 'him': 162, 'released': 163, 'health': 164, 'services': 165, 'near': 166, 'chief': 167, 'league': 168, 'office': 169, 'show': 170, 'say': 171, 'west': 172, 'under': 173, 'help': 174, 'pakistan': 175, 'york': 176, 'hit': 177, 'federal': 178, 'end': 179, 'most': 180, 'security': 181, 'just': 182, 'made': 183, 'financial': 184, 'other': 185, '2012': 186, 'through': 187, 'game': 188, 'make': 189, '10': 190, 'accused': 191, 'indian': 192, 'economic': 193, 'months': 194, 'take': 195, 'percent': 196, 'before': 197, 'coach': 198, 'you': 199, 'john': 200, 'per': 201, 'five': 202, 'we': 203, 'what': 204, 'local': 205, 'another': 206, 'top': 207, 'should': 208, 'play': 209, 'life': 210, 'announces': 211, 'launched': 212, 'official': 213, 'jobs': 214, 'women': 215, 'power': 216, 'third': 217, 'here': 218, 'center': 219, 'work': 220, 'record': 221, 'between': 222, 'if': 223, 'dead': 224, 'european': 225, 'british': 226, 'expected': 227, 'launches': 228, 'major': 229, '1': 230, 'part': 231, 'energy': 232, 'deal': 233, 'trade': 234, 'party': 235, 'cup': 236, 'leader': 237, 'win': 238, 'general': 239, 'university': 240, 'march': 241, 'media': 242, 'told': 243, 'cut': 244, 'held': 245, 'shot': 246, 'because': 247, 'do': 248, 'support': 249, '2010': 250, 'men': 251, 'get': 252, 'officer': 253, 'crash': 254, 'close': 255, 'stocks': 256, 'left': 257, 'days': 258, 'return': 259, 'UK': 260, 'gas': 261, 'street': 262, 'air': 263, 'department': 264, 'child': 265, 'due': 266, 'free': 267, 'children': 268, 'states': 269, 'club': 270, 'since': 271, 'online': 272, 'bill': 273, 'district': 274, 'family': 275, 'head': 276, 'there': 277, 'central': 278, 'six': 279, 'foreign': 280, 'weekend': 281, 'area': 282, 'injured': 283, '2011': 284, 'launch': 285, 'road': 286, 'sales': 287, 'capital': 288, 'still': 289, 'economy': 290, 'visit': 291, 'including': 292, 'london': 293, 'face': 294, 'mobile': 295, 'release': 296, 'won': 297, 'series': 298, 'shares': 299, 'drug': 300, 'prime': 301, 'called': 302, 'students': 303, 'military': 304, 'start': 305, 'how': 306, 'quarter': 307, '20': 308, 'dollar': 309, 'afternoon': 310, 'australia': 311, 'development': 312, 'stock': 313, 'fall': 314, 'attack': 315, 'system': 316, 'where': 317, 'june': 318, 'st': 319, 'park': 320, 'tour': 321, 'industry': 322, 'board': 323, 'campaign': 324, 'iran': 325, 'david': 326, 'tax': 327, 'final': 328, 'like': 329, '2': 330, 'them': 331, 'best': 332, 'despite': 333, 'april': 334, 'fell': 335, 'data': 336, 'barack': 337, 'film': 338, 'signed': 339, 'way': 340, 'east': 341, 'australian': 342, 'water': 343, '11': 344, 'across': 345, 'corp': 346, 'sentenced': 347, 'markets': 348, 'growth': 349, 'plan': 350, 'cancer': 351, 'big': 352, 'wins': 353, 'football': 354, 'council': 355, 'around': 356, 'meeting': 357, 'gold': 358, 'go': 359, 'actor': 360, 'management': 361, 'manager': 362, '2009': 363, 'pay': 364, 'so': 365, 'afghanistan': 366, 'run': 367, 'contract': 368, 'revealed': 369, 'money': 370, '2013': 371, 'research': 372, 'washington': 373, 'leading': 374, 'again': 375, 'buy': 376, 'director': 377, 'talks': 378, 'prison': 379, 'case': 380, 'authorities': 381, '30': 382, 'law': 383, 'move': 384, 'late': 385, 'price': 386, 'host': 387, 'agency': 388, 'chinese': 389, 'england': 390, 'confirmed': 391, 'firm': 392, 'number': 393, 'program': 394, 'largest': 395, 'wants': 396, 'food': 397, 'allegedly': 398, 'only': 399, '3': 400, 'games': 401, 'conference': 402, 'murder': 403, 'increase': 404, 'higher': 405, 'rate': 406, 'medical': 407, 'america': 408, 'crisis': 409, 'political': 410, 'town': 411, '15': 412, 'san': 413, 'several': 414, 'union': 415, 'private': 416, 'music': 417, 'agreement': 418, 'july': 419, '12': 420, 'technology': 421, 'annual': 422, 'white': 423, 'michael': 424, 'russia': 425, 'saying': 426, 'test': 427, 'girl': 428, 'TV': 429, 'community': 430, 'network': 431, 'companies': 432, 'recently': 433, 'closed': 434, 'workers': 435, 'budget': 436, 'hold': 437, 'investment': 438, 'recent': 439, 'any': 440, 'red': 441, 'young': 442, 'college': 443, 'use': 444, 'good': 445, 'continue': 446, 'wife': 447, 'surgery': 448, 'canada': 449, 'press': 450, 'secretary': 451, 'lead': 452, 'share': 453, 'special': 454, 'making': 455, 'actress': 456, 'many': 457, 'study': 458, 'latest': 459, 'nearly': 460, 'senior': 461, 'well': 462, 'japan': 463, 'right': 464, 'provider': 465, 'shooting': 466, 'taking': 467, 'live': 468, 'place': 469, 'age': 470, 'opened': 471, 'accident': 472, 'trial': 473, 'rise': 474, 'congress': 475, 'body': 476, 'demand': 477, 'away': 478, 'become': 479, 'southern': 480, 'offer': 481, 'election': 482, 'investors': 483, 'production': 484, 'my': 485, 'sex': 486, 'rose': 487, 'baby': 488, 'action': 489, 'meet': 490, 'care': 491, 'korea': 492, 'senate': 493, 'centre': 494, 'war': 495, 'line': 496, 'likely': 497, 'cent': 498, 'texas': 499, 'french': 500, 'forces': 501, 'store': 502, 'rights': 503, 'opens': 504, 'named': 505, 'assault': 506, 'israel': 507, '5': 508, 'own': 509, 'credit': 510, 'sign': 511, 'emergency': 512, 'updated': 513, 'fight': 514, 'lower': 515, 'debt': 516, 'going': 517, 'region': 518, 'signs': 519, 'long': 520, 'singer': 521, 'weeks': 522, 'presidential': 523, 'russian': 524, 'social': 525, 'rates': 526, '2008': 527, 'mark': 528, 'los': 529, 'africa': 530, 'apple': 531, 'january': 532, 'video': 533, 'also': 534, 'europe': 535, 'coast': 536, 'loss': 537, 'information': 538, 'google': 539, 'facing': 540, 'results': 541, 'trading': 542, 'governor': 543, 'judge': 544, 'points': 545, 'times': 546, 'strong': 547, 'both': 548, 'faces': 549, 'ministry': 550, 'rs': 551, 'ahead': 552, 'products': 553, 'real': 554, 'hours': 555, 'player': 556, 'building': 557, 'paul': 558, 'premier': 559, 'even': 560, 'am': 561, 'members': 562, 'profit': 563, 'executive': 564, 'charge': 565, 'future': 566, 'project': 567, 'filed': 568, 'amid': 569, 'chairman': 570, 'grand': 571, 'driver': 572, 'fund': 573, 'california': 574, 'banks': 575, 'nation': 576, 'without': 577, 'calls': 578, 'interest': 579, 'delhi': 580, 'ago': 581, 'does': 582, 'february': 583, 'angeles': 584, 'army': 585, 'title': 586, 'small': 587, 'pleaded': 588, 'summer': 589, '25': 590, 'boy': 591, '100': 592, 'working': 593, 'past': 594, 'german': 595, 'september': 596, 'issued': 597, 'bus': 598, 'fourth': 599, 'heart': 600, 'took': 601, '4': 602, 'software': 603, 'pm': 604, 'leaders': 605, 'student': 606, 'players': 607, 'old': 608, 'pleads': 609, 'nuclear': 610, 'reportedly': 611, 'plant': 612, 'least': 613, 'seven': 614, 'leave': 615, 'france': 616, 'order': 617, 'race': 618, 'coming': 619, 'site': 620, 'agreed': 621, 'call': 622, 'further': 623, 'residents': 624, 'falls': 625, 'side': 626, 'force': 627, 'claims': 628, 'earlier': 629, 'traffic': 630, 'beat': 631, 'sell': 632, 'exchange': 633, 'taken': 634, 'asian': 635, 'opening': 636, 'schools': 637, 'corporation': 638, 'northern': 639, 'florida': 640, 'our': 641, 'change': 642, 'november': 643, 'makes': 644, 'cuts': 645, 'need': 646, 'victory': 647, 'cash': 648, 'come': 649, 'lost': 650, '14': 651, 'human': 652, 'planning': 653, 'job': 654, 'republican': 655, 'internet': 656, 'did': 657, 'stop': 658, 'airlines': 659, 'education': 660, 'sector': 661, 'operations': 662, 'bid': 663, 'gov': 664, 'returns': 665, 'james': 666, 'october': 667, 'role': 668, 'injury': 669, 'half': 670, 'round': 671, '13': 672, 'looking': 673, 'your': 674, 'us': 675, '21': 676, 'forward': 677, 'co': 678, 'station': 679, 'control': 680, 'policy': 681, 'lake': 682, 'fans': 683, 'issues': 684, 'much': 685, 'evening': 686, 'parliament': 687, 'suspended': 688, 'keep': 689, 'issue': 690, 'match': 691, 'website': 692, '16': 693, 'december': 694, 'countries': 695, '18': 696, 'missing': 697, 'river': 698, 'killing': 699, 'key': 700, 'offering': 701, 'association': 702, 'chris': 703, 'consumer': 704, 'black': 705, 'driving': 706, 'israeli': 707, 'album': 708, 'strike': 709, '50': 710, 'used': 711, 'brown': 712, 'canadian': 713, 'continues': 714, 'jail': 715, 'domestic': 716, 'guard': 717, 'hall': 718, 'insurance': 719, 'raise': 720, 'put': 721, 'britain': 722, 'great': 723, 'august': 724, 'train': 725, 'sports': 726, 'training': 727, 'remain': 728, 'must': 729, 'airport': 730, 'soon': 731, 'george': 732, 'mother': 733, 'led': 734, 'brand': 735, 'remains': 736, 'island': 737, 'arrest': 738, 'son': 739, 'construction': 740, 'ready': 741, 'very': 742, 'better': 743, 'troops': 744, 'vote': 745, 'got': 746, 'running': 747, 'join': 748, 'full': 749, 'customers': 750, 'received': 751, 'property': 752, '6': 753, 'biggest': 754, 'having': 755, 'green': 756, 'current': 757, 'takes': 758, 'bankruptcy': 759, 'sale': 760, 'ended': 761, 'weather': 762, 'chicago': 763, 'trying': 764, 'commission': 765, 'manchester': 766, 'event': 767, 'western': 768, 'giant': 769, '7': 770, 'see': 771, 'safety': 772, 'facebook': 773, 'member': 774, 'movie': 775, 'committee': 776, 'robert': 777, '8': 778, 'euro': 779, 'vehicle': 780, 'session': 781, 'search': 782, 'shows': 783, 'finance': 784, 'want': 785, 'getting': 786, 'african': 787, 'post': 788, 'investigating': 789, 'eight': 790, 'among': 791, 'give': 792, 'tonight': 793, 'love': 794, 'iraq': 795, 'elections': 796, '24': 797, 'level': 798, 'regional': 799, 'low': 800, 'champion': 801, 'sexual': 802, 'sold': 803, 'staff': 804, 'ban': 805, 'admitted': 806, 'retail': 807, 'sen': 808, 'field': 809, 'behind': 810, 'debut': 811, 'border': 812, 'announce': 813, 'sri': 814, 'officers': 815, 'little': 816, 'statement': 817, 'germany': 818, 'himself': 819, 'turkey': 820, 'cricket': 821, '17': 822, 'stage': 823, 'singh': 824, 'fuel': 825, '22': 826, 'outside': 827, 'recovery': 828, 'couple': 829, 'thousands': 830, 'rock': 831, 'awards': 832, 'needs': 833, 'career': 834, 'storm': 835, 'target': 836, 'gains': 837, 'violence': 838, 'mortgage': 839, 'hollywood': 840, 'until': 841, 'mayor': 842, 'jackson': 843, 'based': 844, 'space': 845, 'along': 846, 'offers': 847, 'history': 848, 'upcoming': 849, 'opposition': 850, 'solutions': 851, 'justice': 852, 'later': 853, 'phone': 854, 'suicide': 855, 'middle': 856, 'zealand': 857, 'maker': 858, 'championship': 859, 'systems': 860, 'warned': 861, 'list': 862, 'award': 863, 'candidate': 864, 'given': 865, 'valley': 866, 'wall': 867, 'same': 868, 'protection': 869, 'within': 870, 'such': 871, 'protest': 872, 'name': 873, 'performance': 874, 'decision': 875, 'miss': 876, 'growing': 877, 'raised': 878, 'selling': 879, 'using': 880, 'positive': 881, 'microsoft': 882, 'losses': 883, 'sent': 884, 'leaving': 885, 'mexico': 886, 'anniversary': 887, 'practice': 888, 'beach': 889, 'japanese': 890, 'peace': 891, 'truck': 892, 'struck': 893, 'travel': 894, 'risk': 895, 'spending': 896, 'olympic': 897, 'provide': 898, 'hotel': 899, 'ltd': 900, 'owner': 901, 'employees': 902, 'claimed': 903, 'confidence': 904, 'businesses': 905, 'loan': 906, 'festival': 907, 'too': 908, 'father': 909, 'bay': 910, 'build': 911, 'asia': 912, 'flu': 913, 'possible': 914, 'mumbai': 915, 'eastern': 916, 'almost': 917, 'declared': 918, 'joint': 919, 'officially': 920, 'rally': 921, 'housing': 922, 'battle': 923, 'television': 924, 'worth': 925, 'fraud': 926, 'soldiers': 927, 'attacks': 928, '19': 929, 'captain': 930, 'plane': 931, 'natural': 932, 'georgia': 933, 'showed': 934, 'those': 935, 'husband': 936, 'cost': 937, 'robbery': 938, 'funds': 939, 'few': 940, 'johnson': 941, 'changes': 942, 'defense': 943, 'less': 944, 'UN': 945, 'democratic': 946, 'legal': 947, 'me': 948, 'church': 949, 'files': 950, \"'m\": 951, 'radio': 952, 'pressure': 953, 'continued': 954, 'single': 955, 'ever': 956, 'daily': 957, 'sheriff': 958, '9': 959, 'alleged': 960, 'asked': 961, 'stay': 962, 'administration': 963, 'acquire': 964, 'land': 965, 'bush': 966, 'williams': 967, 'sources': 968, 'approved': 969, 'serious': 970, 'seen': 971, 'girls': 972, 'known': 973, 'costs': 974, 'act': 975, 'interview': 976, '40': 977, 'starting': 978, 'veteran': 979, 'drive': 980, '23': 981, 'heavy': 982, 'joe': 983, 'smith': 984, '31': 985, 'supply': 986, 'boston': 987, 'basketball': 988, 'lady': 989, 'dr': 990, 'facility': 991, 'carolina': 992, 'warning': 993, 'break': 994, 'reserve': 995, 'daughter': 996, 'increased': 997, 'fiscal': 998, 'christmas': 999, 'rep': 1000, 'futures': 1001, 'returned': 1002, 'point': 1003, 'commercial': 1004, 'homes': 1005, 'dropped': 1006, 'never': 1007, 'hopes': 1008, 'jailed': 1009, 'common': 1010, 'justin': 1011, 'aid': 1012, 'boost': 1013, 'survey': 1014, 'step': 1015, 'mike': 1016, 'fired': 1017, 'highway': 1018, 'deputy': 1019, 'falling': 1020, 'soldier': 1021, 'main': 1022, 'look': 1023, 'acquired': 1024, 'stores': 1025, 'gets': 1026, 'baseball': 1027, 'bond': 1028, 'might': 1029, 'defence': 1030, 'nine': 1031, 'projects': 1032, 'stadium': 1033, 'web': 1034, 'whose': 1035, 'armed': 1036, 'calif': 1037, 'king': 1038, 'gay': 1039, 'syria': 1040, 'popular': 1041, 'injuries': 1042, 'went': 1043, 'straight': 1044, 'drop': 1045, 'every': 1046, 'vice': 1047, 'bring': 1048, 'why': 1049, 'champions': 1050, 'spring': 1051, 'turned': 1052, 'concerns': 1053, 'areas': 1054, 'recession': 1055, 'de': 1056, 'met': 1057, 'super': 1058, 'convicted': 1059, 'begin': 1060, 'book': 1061, 'efforts': 1062, 'appointed': 1063, 'teacher': 1064, 'dog': 1065, 'inflation': 1066, 'attorney': 1067, 'division': 1068, 'joined': 1069, 'winter': 1070, 'nations': 1071, 'reached': 1072, '26': 1073, 'palestinian': 1074, 'front': 1075, 'flights': 1076, 'CEO': 1077, 'person': 1078, 'digital': 1079, 'scheduled': 1080, 'bomb': 1081, 'suffered': 1082, 'paid': 1083, 'playing': 1084, 'prince': 1085, 'decided': 1086, 'italian': 1087, '27': 1088, 'tom': 1089, 'khan': 1090, 'double': 1091, 'jones': 1092, 'passed': 1093, 'drugs': 1094, 'earnings': 1095, 'find': 1096, 'create': 1097, 'partner': 1098, 'term': 1099, 'each': 1100, 'spain': 1101, 'pakistani': 1102, 'forced': 1103, 'twitter': 1104, 'flight': 1105, 'expand': 1106, 'unit': 1107, 'failed': 1108, 'once': 1109, 'completed': 1110, 'watch': 1111, 'already': 1112, 'winning': 1113, 'investigation': 1114, 'giving': 1115, 'yet': 1116, 'connection': 1117, 'conditions': 1118, 'goes': 1119, 'total': 1120, 'gun': 1121, 'partnership': 1122, 'published': 1123, 'ground': 1124, 'large': 1125, 'NFL': 1126, 'al': 1127, 'ohio': 1128, 'spokesman': 1129, 'civil': 1130, 'ambassador': 1131, 'birth': 1132, 'wo': 1133, 'ryan': 1134, 'know': 1135, 'stars': 1136, 'lanka': 1137, 'stake': 1138, 'martin': 1139, 'criminal': 1140, 'revenue': 1141, 'raises': 1142, 'moving': 1143, 'senator': 1144, 'marriage': 1145, 'banking': 1146, 'seeking': 1147, 'hits': 1148, 'parts': 1149, 'turkish': 1150, 'band': 1151, 'robbed': 1152, 'steve': 1153, 'light': 1154, 'boss': 1155, 'index': 1156, 'crashed': 1157, 'suspected': 1158, 'magazine': 1159, 'operation': 1160, 'involved': 1161, 'suspect': 1162, '500': 1163, 'afghan': 1164, 'michigan': 1165, 'sydney': 1166, 'joins': 1167, 'finally': 1168, 'striker': 1169, 'access': 1170, 'cooperation': 1171, 'above': 1172, 'industrial': 1173, 'houston': 1174, 'ireland': 1175, 'unveiled': 1176, 'banned': 1177, 'communications': 1178, 'THE': 1179, 'started': 1180, 'levels': 1181, 'begins': 1182, 'lawsuit': 1183, 'supreme': 1184, 'hundreds': 1185, 'caused': 1186, 'attacked': 1187, 'together': 1188, 'dubai': 1189, 'range': 1190, 'perform': 1191, 'funding': 1192, 'syrian': 1193, 'tomorrow': 1194, 'caught': 1195, 'holding': 1196, 'reduce': 1197, 'leaves': 1198, 'save': 1199, 'incident': 1200, 'iranian': 1201, '28': 1202, 'rules': 1203, 'improve': 1204, 'minor': 1205, 'problems': 1206, 'assembly': 1207, 'holiday': 1208, 'steel': 1209, 'releases': 1210, 'fashion': 1211, 'village': 1212, 'treatment': 1213, 'sea': 1214, 'celebrate': 1215, 'patients': 1216, 'added': 1217, 'peter': 1218, 'divorce': 1219, 'kim': 1220, 'earthquake': 1221, 'whether': 1222, 'romney': 1223, 'marketing': 1224, 'saudi': 1225, 'ruled': 1226, 'crude': 1227, 'base': 1228, 'rising': 1229, 'split': 1230, 'kill': 1231, 'class': 1232, 'available': 1233, 'abuse': 1234, 'crime': 1235, 'ordered': 1236, 'comes': 1237, 'living': 1238, 'illegal': 1239, 'condition': 1240, 'dividend': 1241, 'platform': 1242, 'wanted': 1243, 'taylor': 1244, 'unemployment': 1245, 'worldwide': 1246, 'damage': 1247, 'retirement': 1248, 'technologies': 1249, 'corporate': 1250, 'cars': 1251, 'assets': 1252, 'soccer': 1253, 'iPhone': 1254, 'stabbed': 1255, 'egypt': 1256, 'challenge': 1257, 'scott': 1258, 'birthday': 1259, 'proposed': 1260, 'personal': 1261, 'jan': 1262, 'camp': 1263, 'net': 1264, 'think': 1265, 'spanish': 1266, 'reach': 1267, 'stolen': 1268, 'jury': 1269, 'producer': 1270, 'posted': 1271, 'far': 1272, 'arrived': 1273, 'singapore': 1274, 'taiwan': 1275, 'concert': 1276, 'blue': 1277, 'competition': 1278, 'royal': 1279, 'liverpool': 1280, 'below': 1281, 'track': 1282, 'minnesota': 1283, 'clinton': 1284, 'bridge': 1285, 'ship': 1286, 'celebrates': 1287, 'equity': 1288, 'turn': 1289, 'province': 1290, 'expects': 1291, 'stand': 1292, 'ceremony': 1293, 'threat': 1294, 'toronto': 1295, 'rest': 1296, 'apartment': 1297, 'seek': 1298, 'direct': 1299, 'fifth': 1300, 'period': 1301, 'card': 1302, 'potential': 1303, 'tony': 1304, 'returning': 1305, 'dollars': 1306, 'italy': 1307, 'independent': 1308, 'process': 1309, 'review': 1310, 'urged': 1311, 'midfielder': 1312, 'rape': 1313, 'broke': 1314, 'kansas': 1315, 'users': 1316, 'lee': 1317, 'cabinet': 1318, 'affairs': 1319, 'figures': 1320, 'hard': 1321, 'cases': 1322, 'jennifer': 1323, 'receive': 1324, 'admits': 1325, 'primary': 1326, 'solar': 1327, 'tournament': 1328, 'manufacturing': 1329, 'quarterly': 1330, 'extended': 1331, 'girlfriend': 1332, 'researchers': 1333, 'channel': 1334, 'newspaper': 1335, 'strategic': 1336, 'barrel': 1337, 'corruption': 1338, 'gulf': 1339, 'airline': 1340, 'taliban': 1341, 'suffering': 1342, 'resources': 1343, 'friends': 1344, 'came': 1345, 'calling': 1346, 'downtown': 1347, 'then': 1348, 'cause': 1349, 'inside': 1350, '29': 1351, 'relations': 1352, 'ali': 1353, 'short': 1354, 'agent': 1355, 'militants': 1356, 'helped': 1357, 'entertainment': 1358, 'auto': 1359, 'jersey': 1360, 'disease': 1361, 'americans': 1362, 'programme': 1363, 'stealing': 1364, 'NATO': 1365, 'chelsea': 1366, 'records': 1367, 'began': 1368, 'youth': 1369, 'EU': 1370, 'queen': 1371, 'brazil': 1372, 'wedding': 1373, 'others': 1374, 'institute': 1375, 'deficit': 1376, 'quality': 1377, 'room': 1378, 'played': 1379, 'massive': 1380, 'estate': 1381, 'operator': 1382, 'firefighters': 1383, 'NBA': 1384, 'writer': 1385, 'fresh': 1386, 'previous': 1387, 'greece': 1388, 'discuss': 1389, 'overnight': 1390, 'product': 1391, 'appeal': 1392, 'colorado': 1393, 'female': 1394, 'planned': 1395, 'scientists': 1396, 'virginia': 1397, 'coal': 1398, 'brother': 1399, 'offered': 1400, 'form': 1401, 'korean': 1402, 'victims': 1403, 'moved': 1404, 'bad': 1405, 's': 1406, 'receives': 1407, 'kevin': 1408, 'weak': 1409, 'louis': 1410, 'model': 1411, 'towards': 1412, 'scheme': 1413, 'perry': 1414, 'focus': 1415, 'pregnant': 1416, 'fort': 1417, 'rises': 1418, 'acquisition': 1419, 'ties': 1420, 'morgan': 1421, 'gaza': 1422, 'limited': 1423, 'fined': 1424, 'orders': 1425, 'appear': 1426, 'pop': 1427, 'memorial': 1428, 'legend': 1429, 'losing': 1430, 'address': 1431, 'talk': 1432, 'felony': 1433, 'authority': 1434, 'source': 1435, 'adding': 1436, 'partners': 1437, 'income': 1438, 'average': 1439, 'vehicles': 1440, 'acquires': 1441, 'gives': 1442, 'mining': 1443, 'parents': 1444, 'las': 1445, '200': 1446, \"'re\": 1447, 'tried': 1448, 'worker': 1449, 'buying': 1450, 'teachers': 1451, 'operating': 1452, 'charity': 1453, 'boat': 1454, 'doctors': 1455, \"'ll\": 1456, 'enough': 1457, 'highest': 1458, 'fair': 1459, '60': 1460, 'indicted': 1461, 'iowa': 1462, 'tiger': 1463, 'looks': 1464, 'beating': 1465, 'leads': 1466, 'illinois': 1467, 'aircraft': 1468, 'winner': 1469, 'blood': 1470, 'date': 1471, 'republic': 1472, 'voted': 1473, 'defender': 1474, 'organization': 1475, 'fox': 1476, 'reform': 1477, 'sells': 1478, 'heard': 1479, 'fatal': 1480, 'investigate': 1481, 'society': 1482, 'jim': 1483, 'paris': 1484, 'controversial': 1485, 'malaysia': 1486, 'denied': 1487, 'groups': 1488, 'flat': 1489, 'arizona': 1490, 'libya': 1491, 'academy': 1492, 'allow': 1493, 'hospitalized': 1494, 'compared': 1495, 'farmers': 1496, 'detroit': 1497, 'voters': 1498, 'measures': 1499, 'situation': 1500, 'draft': 1501, 'hand': 1502, 'airways': 1503, 'feb': 1504, 'rating': 1505, 'friend': 1506, 'lot': 1507, 'response': 1508, 'bills': 1509, 'claim': 1510, 'hill': 1511, 'vegas': 1512, 'fighting': 1513, 'defeat': 1514, 'cutting': 1515, 'MP': 1516, 'dallas': 1517, 'terms': 1518, 'port': 1519, 'miami': 1520, 'draw': 1521, 'poor': 1522, 'climate': 1523, 'developer': 1524, 'exports': 1525, 'engaged': 1526, 'starts': 1527, 'course': 1528, 'kelly': 1529, 'equipment': 1530, 'andrew': 1531, 'shut': 1532, 'madrid': 1533, 'McCain': 1534, 'greek': 1535, 'doing': 1536, 'wireless': 1537, 'currency': 1538, 'elderly': 1539, 'view': 1540, 'celebrated': 1541, 'hurricane': 1542, 'currently': 1543, 'knee': 1544, 'bail': 1545, 'threatened': 1546, 'teen': 1547, 'hockey': 1548, 'package': 1549, 'labor': 1550, 'boyfriend': 1551, 'considering': 1552, 'teams': 1553, 'venture': 1554, 'rebels': 1555, 'alex': 1556, 'committed': 1557, 'transfer': 1558, 'lawmakers': 1559, 'flood': 1560, 'effort': 1561, 'attempt': 1562, 'protesters': 1563, 'contest': 1564, 'rangers': 1565, 'celebrity': 1566, 'electric': 1567, 'irish': 1568, 'rescue': 1569, 'gave': 1570, 'swine': 1571, 'rugby': 1572, 'worst': 1573, 'position': 1574, 'separate': 1575, 'meets': 1576, 'headed': 1577, 'rain': 1578, 'forecast': 1579, 'summit': 1580, 'grant': 1581, 'william': 1582, 'rescued': 1583, 'different': 1584, 'farm': 1585, 'hong': 1586, 'lose': 1587, 'aug': 1588, 'elected': 1589, 'snow': 1590, 'computer': 1591, 'rival': 1592, 'broken': 1593, 'block': 1594, 'arrives': 1595, 'though': 1596, 'replace': 1597, 'introduced': 1598, 'pirates': 1599, 'cross': 1600, 'benefits': 1601, 'azerbaijan': 1602, 'protect': 1603, 'wind': 1604, 'retire': 1605, 'squad': 1606, 'fame': 1607, 'victim': 1608, 'environment': 1609, 'kardashian': 1610, 'moves': 1611, 'restaurant': 1612, 'critical': 1613, 'families': 1614, 'dispute': 1615, 'tim': 1616, 'x': 1617, 'dec': 1618, 'effective': 1619, 'atlanta': 1620, 'mission': 1621, 'beginning': 1622, 'brain': 1623, 'cell': 1624, 'millions': 1625, 'becoming': 1626, 'kashmir': 1627, 'van': 1628, 'securities': 1629, 'seriously': 1630, 'closing': 1631, 'beijing': 1632, 'events': 1633, 'bonds': 1634, 'ben': 1635, 'kong': 1636, 'ford': 1637, 'diego': 1638, 'alliance': 1639, 'important': 1640, 'films': 1641, 'francisco': 1642, 'strikes': 1643, 'motor': 1644, 'completes': 1645, 'theft': 1646, 'woods': 1647, 'reporting': 1648, 'harry': 1649, 'tennis': 1650, 'believes': 1651, 'develop': 1652, 'custody': 1653, 'loans': 1654, 'kate': 1655, 'pulled': 1656, 'resume': 1657, 'pacific': 1658, 'involving': 1659, 'holds': 1660, 'hearing': 1661, \"'ve\": 1662, 'problem': 1663, 'chase': 1664, 'boys': 1665, 'slightly': 1666, 'successful': 1667, 'spot': 1668, 'chance': 1669, 'navy': 1670, 'zone': 1671, 'chain': 1672, 'richard': 1673, 'runs': 1674, 'quarterback': 1675, 'believe': 1676, 'saw': 1677, 'retailer': 1678, 'decline': 1679, 'tree': 1680, 'value': 1681, 'la': 1682, 'present': 1683, 'cloud': 1684, 'indiana': 1685, 'nov': 1686, 'lohan': 1687, 'design': 1688, 'gone': 1689, 'progress': 1690, 'turns': 1691, 'row': 1692, 'tourism': 1693, 'owners': 1694, 'hope': 1695, 'missouri': 1696, 'ending': 1697, 'married': 1698, 'matt': 1699, 'science': 1700, 'benefit': 1701, 'severe': 1702, 'directors': 1703, 'foundation': 1704, 'ratings': 1705, 'motors': 1706, 'resigned': 1707, 'conduct': 1708, 'headquarters': 1709, 'lindsay': 1710, 'song': 1711, 'distribution': 1712, 'shop': 1713, 'helping': 1714, 'charlie': 1715, 'via': 1716, 'tribute': 1717, 'avoid': 1718, 'needed': 1719, 'doctor': 1720, 'die': 1721, 'sets': 1722, 'reality': 1723, 'bollywood': 1724, 'parties': 1725, 'indonesia': 1726, 'additional': 1727, 'huge': 1728, 'trust': 1729, 'entered': 1730, 'sir': 1731, 'quit': 1732, 'andy': 1733, 'oct': 1734, 'mixed': 1735, 'toyota': 1736, 'became': 1737, 'fears': 1738, 'industries': 1739, 'english': 1740, 'consumers': 1741, 'resign': 1742, 'tests': 1743, 'relationship': 1744, 'drivers': 1745, 'mr': 1746, 'kills': 1747, 'hot': 1748, 'complex': 1749, 'passes': 1750, 'reelection': 1751, 'bringing': 1752, 'showing': 1753, '2007': 1754, 'cities': 1755, 'carrier': 1756, 'milan': 1757, 'activity': 1758, 'forest': 1759, 'infrastructure': 1760, 'feels': 1761, 'golf': 1762, 'ends': 1763, 'arts': 1764, 'employee': 1765, 'signing': 1766, 'art': 1767, 'version': 1768, 'sox': 1769, 'citizens': 1770, 'aimed': 1771, 'safe': 1772, 'happy': 1773, 'simon': 1774, 'weapons': 1775, 'commissioner': 1776, 'marijuana': 1777, 'result': 1778, 'cleared': 1779, 'jack': 1780, 'scored': 1781, 'crashes': 1782, 'multiple': 1783, 'expectations': 1784, 'increases': 1785, 'invest': 1786, 'seeks': 1787, 'rupee': 1788, 'protests': 1789, 'advanced': 1790, 'citing': 1791, 'ice': 1792, 'launching': 1793, 'ca': 1794, 'animal': 1795, 'bob': 1796, 'visits': 1797, 'grow': 1798, 'profits': 1799, 'account': 1800, 'kids': 1801, 'punjab': 1802, 'attempted': 1803, 'healthcare': 1804, 'debate': 1805, 'always': 1806, 'stewart': 1807, 'trip': 1808, 'rick': 1809, 'assistant': 1810, 'effect': 1811, 'strategy': 1812, 'minutes': 1813, 'leg': 1814, 'regular': 1815, 'lines': 1816, 'landing': 1817, 'politics': 1818, 'journal': 1819, 'remained': 1820, 'various': 1821, 'seattle': 1822, 'associated': 1823, 'wisconsin': 1824, 'solution': 1825, 'recovering': 1826, 'bangladesh': 1827, 'outlook': 1828, 'wayne': 1829, 'township': 1830, 'manufacturer': 1831, 'expansion': 1832, 'leadership': 1833, 'ministers': 1834, 'professional': 1835, 'classic': 1836, 'extend': 1837, 'giants': 1838, 'cast': 1839, 'steps': 1840, 'raising': 1841, 'labour': 1842, 'send': 1843, 'BBC': 1844, 'related': 1845, 'brian': 1846, 'investor': 1847, 'heat': 1848, 'transport': 1849, 'content': 1850, 'appoints': 1851, 'brought': 1852, 'causing': 1853, 'impact': 1854, 'story': 1855, 'recall': 1856, 'jason': 1857, 'joining': 1858, 'prevent': 1859, 'capacity': 1860, 'things': 1861, 'II': 1862, 'application': 1863, 'expecting': 1864, 'increasing': 1865, 'awarded': 1866, 'arsenal': 1867, 'relief': 1868, 'struggling': 1869, 'mountain': 1870, 'app': 1871, 'arab': 1872, 'disaster': 1873, 'samsung': 1874, 'wide': 1875, 'cleveland': 1876, 'unveils': 1877, 'tackle': 1878, 'analysts': 1879, 'box': 1880, 'fast': 1881, 'mass': 1882, 'ongoing': 1883, 'patent': 1884, 'terror': 1885, 'really': 1886, 'bar': 1887, 'gaga': 1888, 'lawyer': 1889, 'jessica': 1890, 'attend': 1891, 'holdings': 1892, 'IT': 1893, 'sony': 1894, 'carrying': 1895, 'cruise': 1896, 'crimes': 1897, 'breaks': 1898, 'olympics': 1899, 'charles': 1900, 'pilot': 1901, 'patrick': 1902, 'stimulus': 1903, 'promote': 1904, 'goal': 1905, 'barcelona': 1906, 'USA': 1907, 'candidates': 1908, 'enter': 1909, 'idol': 1910, 'telecom': 1911, 'lives': 1912, 'jets': 1913, 'cole': 1914, 'terrorism': 1915, 'poll': 1916, 'square': 1917, 'commerce': 1918, 'allegations': 1919, 'auction': 1920, '1000': 1921, 'file': 1922, 'cents': 1923, 'seized': 1924, 'southwest': 1925, 'works': 1926, 'environmental': 1927, 'vs': 1928, 'denies': 1929, 'activities': 1930, 'able': 1931, 'stephen': 1932, 'networks': 1933, 'schedule': 1934, 'applications': 1935, 'bieber': 1936, 'philadelphia': 1937, 'islamic': 1938, 'avenue': 1939, 'motorcycle': 1940, 'helicopter': 1941, 'victoria': 1942, 'bowl': 1943, 'metal': 1944, 'moscow': 1945, 'clear': 1946, 'delivery': 1947, 'fires': 1948, 'sexually': 1949, 'developing': 1950, 'allen': 1951, 'ukraine': 1952, 'rule': 1953, 'deadly': 1954, 'activists': 1955, 'plants': 1956, 'cameron': 1957, 'identified': 1958, 'gain': 1959, 'declares': 1960, 'discovered': 1961, 'voice': 1962, 'electronic': 1963, 'mitt': 1964, 'wake': 1965, 'historic': 1966, 'immigration': 1967, 'throughout': 1968, 'defensive': 1969, 'factor': 1970, 'dutch': 1971, 'comedy': 1972, 'experts': 1973, 'closer': 1974, 'hamilton': 1975, 'nationwide': 1976, 'thought': 1977, 'extension': 1978, 'sanctions': 1979, 'consider': 1980, 'weekly': 1981, 'battery': 1982, 'russell': 1983, 'scotland': 1984, 'closes': 1985, 'fan': 1986, 'majority': 1987, 'secret': 1988, 'warns': 1989, 'anthony': 1990, 'detained': 1991, 'polls': 1992, 'sharply': 1993, 'concern': 1994, 'significant': 1995, 'allowed': 1996, 'crore': 1997, 'posts': 1998, 'standard': 1999, 'zimbabwe': 2000, 'disabled': 2001, 'brazilian': 2002, 'windows': 2003, 'nick': 2004, 'add': 2005, 'assaulting': 2006, 'placed': 2007, 'failure': 2008, 'santa': 2009, 'customer': 2010, 'jr': 2011, 'embassy': 2012, 'thomas': 2013, 'rare': 2014, 'spend': 2015, 'offensive': 2016, 'tough': 2017, 'metro': 2018, 'violent': 2019, 'expands': 2020, 'sentence': 2021, 'satellite': 2022, 'shopping': 2023, 'tennessee': 2024, 'receiver': 2025, 'jet': 2026, 'heading': 2027, 'rural': 2028, 'kentucky': 2029, 'swiss': 2030, 'failing': 2031, 'apparently': 2032, 'forum': 2033, 'kennedy': 2034, 'express': 2035, 'davis': 2036, 'developed': 2037, 'daniel': 2038, 'seat': 2039, 'christian': 2040, 'theatre': 2041, 'speech': 2042, 'toward': 2043, 'complete': 2044, 'passenger': 2045, 'loses': 2046, 'purchase': 2047, 'sarah': 2048, 'pass': 2049, '300': 2050, 'firms': 2051, 'offices': 2052, 'brad': 2053, 'orleans': 2054, 'tech': 2055, 'homicide': 2056, 'setting': 2057, 'settlement': 2058, 'reveals': 2059, '75': 2060, 'export': 2061, 'BJP': 2062, 'selected': 2063, 'designed': 2064, 'speak': 2065, 'electricity': 2066, 'spent': 2067, 'hosting': 2068, 'approves': 2069, 'gordon': 2070, 'speed': 2071, 'parliamentary': 2072, 'advertising': 2073, 'wales': 2074, 'bin': 2075, '35': 2076, 'democrats': 2077, 'trend': 2078, 'comments': 2079, 'sending': 2080, 'qatar': 2081, 'elizabeth': 2082, 'subsidiary': 2083, 'cover': 2084, 'created': 2085, 'possession': 2086, 'destroyed': 2087, 'author': 2088, 'advisory': 2089, '70': 2090, 'ensure': 2091, 'ten': 2092, 'visited': 2093, 'amy': 2094, 'jordan': 2095, 'hour': 2096, 'adam': 2097, 'AP': 2098, 'experience': 2099, '32': 2100, 'appears': 2101, 'let': 2102, 'confirms': 2103, 'kyrgyzstan': 2104, 'route': 2105, 'frank': 2106, 'done': 2107, 'engineering': 2108, 'serve': 2109, 'pradesh': 2110, 'golden': 2111, 'wild': 2112, 'finds': 2113, 'longer': 2114, 'patrol': 2115, 'jose': 2116, 'sites': 2117, 'hands': 2118, 'parking': 2119, 'refused': 2120, 'alcohol': 2121, 'feel': 2122, 'strip': 2123, 'update': 2124, 'FC': 2125, 'stabbing': 2126, 'melbourne': 2127, 'sun': 2128, 'overall': 2129, 'racing': 2130, 'success': 2131, 'taxes': 2132, 'arabia': 2133, 'iron': 2134, 'shareholders': 2135, 'crew': 2136, 'try': 2137, 'agree': 2138, 'activist': 2139, 'philippines': 2140, 'technical': 2141, 'expanding': 2142, 'gary': 2143, 'founder': 2144, 'changed': 2145, 'overseas': 2146, 'ghana': 2147, 'decade': 2148, 'undergo': 2149, 'dating': 2150, 'deliver': 2151, 'consecutive': 2152, 'counts': 2153, 'phoenix': 2154, 'treasury': 2155, 'mexican': 2156, 'broadband': 2157, 'introduces': 2158, 'previously': 2159, 'hills': 2160, 'CBS': 2161, 'clash': 2162, 'announcement': 2163, 'agencies': 2164, 'pick': 2165, 'campus': 2166, 'surprise': 2167, 'wounded': 2168, 'these': 2169, 'coalition': 2170, 'fine': 2171, 'n': 2172, 'passengers': 2173, 'burglary': 2174, 'providing': 2175, 'pounds': 2176, 'chemical': 2177, 'beats': 2178, 'prix': 2179, 'sept': 2180, 'muslim': 2181, 'territory': 2182, '80': 2183, 'adds': 2184, 'scandal': 2185, 'serving': 2186, 'ruling': 2187, 'mine': 2188, 'chapter': 2189, 'nigeria': 2190, 'threatening': 2191, 'beckham': 2192, 'electronics': 2193, 'supplies': 2194, 'generation': 2195, 'indians': 2196, 'alabama': 2197, 'hired': 2198, 'targets': 2199, 'roads': 2200, 'diagnosed': 2201, 'android': 2202, 'granted': 2203, 'brothers': 2204, 'paper': 2205, 'claiming': 2206, 'freedom': 2207, 'palin': 2208, 'pitcher': 2209, 'hillary': 2210, 'rail': 2211, 'improved': 2212, 'continuing': 2213, 'elementary': 2214, 'pace': 2215, 'oklahoma': 2216, 'silver': 2217, 'rapper': 2218, 'b': 2219, 'laws': 2220, 'appearance': 2221, 'analyst': 2222, 'license': 2223, 'beaten': 2224, 'tamil': 2225, 'carbon': 2226, 'appeared': 2227, 'democracy': 2228, 'evidence': 2229, 'nokia': 2230, 'yen': 2231, 'el': 2232, 'enterprise': 2233, 'stone': 2234, 'recovered': 2235, 'decades': 2236, 'treated': 2237, 'devices': 2238, 'voting': 2239, 'hire': 2240, 'marine': 2241, 'negative': 2242, 'DC': 2243, 'laid': 2244, 'friendly': 2245, 'breaking': 2246, 'fargo': 2247, 'cape': 2248, 'ill': 2249, '2014': 2250, 'bear': 2251, 'ring': 2252, 'teenager': 2253, 'investments': 2254, 'message': 2255, 'venezuela': 2256, 'question': 2257, 'successfully': 2258, 'toll': 2259, 'prosecutors': 2260, 'nelson': 2261, 'legislation': 2262, 'photo': 2263, 'agriculture': 2264, 'streets': 2265, 'northwest': 2266, 'dealers': 2267, 'hosts': 2268, 'statistics': 2269, 'artist': 2270, 'fees': 2271, 'studio': 2272, 'wrong': 2273, 'engine': 2274, 'plea': 2275, 'egyptian': 2276, 'breast': 2277, 'tata': 2278, 'aged': 2279, 'lack': 2280, 'cable': 2281, 'jon': 2282, 'lewis': 2283, 'portfolio': 2284, 'denver': 2285, 'twins': 2286, 'letter': 2287, 'receiving': 2288, 'terrorist': 2289, 'email': 2290, 'yemen': 2291, 'foods': 2292, 'reaches': 2293, 'wilson': 2294, '90': 2295, 'libyan': 2296, 'thanks': 2297, 'representative': 2298, 'vietnam': 2299, 'medal': 2300, 'iraqi': 2301, 'michelle': 2302, 'dogs': 2303, 'collision': 2304, 'bought': 2305, 'pattinson': 2306, 'movement': 2307, 'goods': 2308, 'threats': 2309, 'interior': 2310, 'linked': 2311, 'approval': 2312, 'facilities': 2313, 'pittsburgh': 2314, 'dangerous': 2315, 'stated': 2316, 'alert': 2317, 'clean': 2318, 'itself': 2319, '45': 2320, 'true': 2321, 'shoot': 2322, 'extends': 2323, 'honored': 2324, 'palm': 2325, 'tropical': 2326, 'ocean': 2327, 'storage': 2328, 'wells': 2329, 'branch': 2330, 'urges': 2331, 'challenges': 2332, 'note': 2333, 'reuters': 2334, 'expanded': 2335, 'tokyo': 2336, 'yahoo': 2337, 'device': 2338, 'visiting': 2339, 'NEW': 2340, 'campbell': 2341, 'rejected': 2342, 'collection': 2343, 'produce': 2344, 'scottish': 2345, 'resigns': 2346, 'questions': 2347, 'numbers': 2348, 'believed': 2349, 'religious': 2350, 'prize': 2351, 'sued': 2352, 'panel': 2353, 'cuba': 2354, 'sees': 2355, 'units': 2356, 'hurt': 2357, 'foot': 2358, 'homeless': 2359, 'sixth': 2360, 'causes': 2361, 'pro': 2362, 'anna': 2363, 'pope': 2364, 'twice': 2365, 'powerful': 2366, 'famous': 2367, 'walk': 2368, 'longtime': 2369, 'championships': 2370, 'iPad': 2371, 'tickets': 2372, 'gandhi': 2373, 'moore': 2374, 'bodies': 2375, 'journalists': 2376, 'rihanna': 2377, 'drama': 2378, 'bureau': 2379, 'drops': 2380, 'buys': 2381, 'extra': 2382, 'rehab': 2383, 'options': 2384, 'speculation': 2385, '400': 2386, 'greater': 2387, 'kept': 2388, 'duty': 2389, 'assaulted': 2390, 'traders': 2391, 'assistance': 2392, 'amount': 2393, 'catholic': 2394, 'alive': 2395, 'healthy': 2396, 'abu': 2397, 'keeping': 2398, 'weight': 2399, 'cocaine': 2400, 'push': 2401, 'sam': 2402, 'details': 2403, 'spread': 2404, 'status': 2405, 'programs': 2406, 'museum': 2407, 'cancelled': 2408, 'ontario': 2409, 'zardari': 2410, 'feature': 2411, 'massachusetts': 2412, 'suspicion': 2413, 'waste': 2414, 'miller': 2415, 'lifted': 2416, 'provides': 2417, 'agents': 2418, 'stronger': 2419, 'tigers': 2420, 'UAE': 2421, 'congressional': 2422, 'cheryl': 2423, 'sport': 2424, 'thailand': 2425, 'bulgaria': 2426, 'becomes': 2427, 'certain': 2428, 'journalist': 2429, 'murray': 2430, 'ABC': 2431, 'patient': 2432, 'policies': 2433, 'nifty': 2434, 'cards': 2435, 'eric': 2436, 'finish': 2437, 'commander': 2438, 'roger': 2439, 'library': 2440, 'crews': 2441, 'testing': 2442, 'rather': 2443, 'simpson': 2444, 'spears': 2445, 'austin': 2446, 'formally': 2447, 'herself': 2448, 'honor': 2449, 'speaker': 2450, 'orange': 2451, 'musical': 2452, 'votes': 2453, 'arena': 2454, 'stable': 2455, 'yankees': 2456, 'tourists': 2457, 'phones': 2458, 'buffalo': 2459, 'hoping': 2460, 'supporters': 2461, 'existing': 2462, 'oscar': 2463, 'strength': 2464, 'fellow': 2465, 'lowest': 2466, 'cold': 2467, 'removed': 2468, 'welcome': 2469, 'check': 2470, 'combat': 2471, 'lebanon': 2472, 'although': 2473, 'eurozone': 2474, 'formula': 2475, 'deals': 2476, 'plays': 2477, 'sharp': 2478, 'payment': 2479, 'stanley': 2480, 'dance': 2481, 'resort': 2482, 'stations': 2483, 'owned': 2484, 'instead': 2485, 'myanmar': 2486, 'eye': 2487, 'katie': 2488, 'option': 2489, 'dozens': 2490, 'proposal': 2491, 'lending': 2492, 'immediate': 2493, 'britney': 2494, 'factory': 2495, 'located': 2496, 'residential': 2497, 'newly': 2498, 'tells': 2499, 'pool': 2500, 'culture': 2501, 'themselves': 2502, 'communities': 2503, 'milwaukee': 2504, 'independence': 2505, 'veterans': 2506, 'mail': 2507, 'missed': 2508, 'diplomatic': 2509, 'chiefs': 2510, 'jerry': 2511, 'prisoners': 2512, 'delegation': 2513, 'employment': 2514, 'screen': 2515, 'earth': 2516, 'presented': 2517, 'harris': 2518, 'bailout': 2519, 'stopped': 2520, 'recover': 2521, 'southeast': 2522, 'rice': 2523, 'sudan': 2524, 'vancouver': 2525, 'sheen': 2526, 'monetary': 2527, 'teenage': 2528, 'exercise': 2529, 'sabha': 2530, 'j': 2531, 'howard': 2532, 'built': 2533, 'include': 2534, 'preliminary': 2535, 'exclusive': 2536, 'fully': 2537, 'reduced': 2538, 'rivals': 2539, 'vowed': 2540, 'miles': 2541, 'virus': 2542, 'arms': 2543, 'railway': 2544, 'apparent': 2545, 'strengthen': 2546, '65': 2547, 'hero': 2548, 'touch': 2549, 'garden': 2550, 'penalty': 2551, 'notes': 2552, 'putting': 2553, 'recalled': 2554, 'pension': 2555, 'initiative': 2556, 'fact': 2557, 'celebrating': 2558, 'suffers': 2559, 'explosion': 2560, 'doors': 2561, 'page': 2562, 'secure': 2563, 'filing': 2564, 'utah': 2565, 'katy': 2566, '10000': 2567, 'invasion': 2568, 'properties': 2569, 'window': 2570, 'palestinians': 2571, 'enters': 2572, 'anderson': 2573, 'springs': 2574, 'USD': 2575, 'lawyers': 2576, 'presence': 2577, 'affected': 2578, 'networking': 2579, 'oregon': 2580, 'agrees': 2581, 'nationals': 2582, 'opportunities': 2583, 'collapsed': 2584, 'copper': 2585, 'ways': 2586, 'contracts': 2587, 'stroke': 2588, 'pair': 2589, 'w': 2590, 'output': 2591, 'funeral': 2592, 'shoulder': 2593, 'offender': 2594, 'asking': 2595, 'basis': 2596, 'kicked': 2597, 'nomination': 2598, 'horse': 2599, 'transportation': 2600, 'acting': 2601, 'businessman': 2602, 'preparing': 2603, 'nothing': 2604, 'aviation': 2605, 'asks': 2606, 'birmingham': 2607, 'insists': 2608, 'somali': 2609, 'initial': 2610, 'winehouse': 2611, 'goals': 2612, 'franchise': 2613, 'begun': 2614, '600': 2615, 'drunk': 2616, 'serbia': 2617, 'native': 2618, 'lions': 2619, 'reporters': 2620, 'standards': 2621, 'exhibition': 2622, 'active': 2623, 'connecticut': 2624, 'conducted': 2625, 'baltimore': 2626, 'clinic': 2627, 'contact': 2628, 'resident': 2629, 'rio': 2630, 'smart': 2631, 'atlantic': 2632, 'oakland': 2633, 'dancing': 2634, 'newcastle': 2635, 'enforcement': 2636, 'kings': 2637, 'terrorists': 2638, 'warren': 2639, 'regarding': 2640, 'reporter': 2641, 'ATt': 2642, 'settle': 2643, 'shown': 2644, 'outstanding': 2645, 'carlos': 2646, 'demands': 2647, 'jolie': 2648, 'invited': 2649, 'designer': 2650, 'conservative': 2651, 'regime': 2652, 'comeback': 2653, 'legendary': 2654, 'orlando': 2655, 'ball': 2656, 'steady': 2657, 'floor': 2658, 'payments': 2659, 'kumar': 2660, 'offshore': 2661, 'diamond': 2662, 'slow': 2663, 'dialogue': 2664, 'fish': 2665, 'repair': 2666, 'manslaughter': 2667, 'galaxy': 2668, 'population': 2669, 'jimmy': 2670, 'retired': 2671, 'discovery': 2672, 'felt': 2673, 'broadway': 2674, 'probe': 2675, 'awareness': 2676, 'talent': 2677, 'lift': 2678, 'fishing': 2679, 'mall': 2680, 'specialist': 2681, 'kazakhstan': 2682, 'hitting': 2683, 'henry': 2684, 'edward': 2685, 'fatally': 2686, 'phil': 2687, 'dakota': 2688, 'madison': 2689, 'creating': 2690, 'creek': 2691, 'buildings': 2692, '150': 2693, 'however': 2694, 'goldman': 2695, 'monthly': 2696, 'financing': 2697, 'deaths': 2698, 'smoke': 2699, 'missile': 2700, 'madonna': 2701, 'movies': 2702, 'probation': 2703, 'junior': 2704, 'supplier': 2705, 'highly': 2706, 'supports': 2707, 'demi': 2708, 'emerging': 2709, 'angelina': 2710, 'pennsylvania': 2711, 'recalls': 2712, 'confident': 2713, 'rich': 2714, 'jumped': 2715, 'sky': 2716, 'documents': 2717, 'jeff': 2718, 'performing': 2719, 'suspends': 2720, 'learned': 2721, 'phase': 2722, 'counties': 2723, 'spotted': 2724, 'winds': 2725, 'chavez': 2726, 'restructuring': 2727, 'places': 2728, 'suspicious': 2729, 'sought': 2730, 'turning': 2731, 'negotiations': 2732, 'tonnes': 2733, 'superstar': 2734, 'complaint': 2735, 'intelligence': 2736, 'manmohan': 2737, 'feet': 2738, 'sugar': 2739, 'steven': 2740, 'northeast': 2741, 'deadline': 2742, 'circuit': 2743, 'hudson': 2744, 'fit': 2745, 'expert': 2746, 'ron': 2747, 'smartphone': 2748, 'matches': 2749, 'accounts': 2750, 'expect': 2751, 'illness': 2752, 'waters': 2753, 'republicans': 2754, 'born': 2755, 'entire': 2756, 'pornography': 2757, 'canceled': 2758, 'pays': 2759, 'dream': 2760, 'normal': 2761, 'residence': 2762, 'tampa': 2763, 'BP': 2764, 'declined': 2765, 'searching': 2766, 'temporary': 2767, 'approximately': 2768, 'brands': 2769, 'ease': 2770, 'targeting': 2771, 'portland': 2772, 'argentina': 2773, 'luxury': 2774, 'hospitals': 2775, 'mutual': 2776, '41': 2777, 'pipeline': 2778, 'betting': 2779, 'traded': 2780, 'bell': 2781, 'features': 2782, 'figure': 2783, 'edwards': 2784, 'delayed': 2785, 'malaysian': 2786, 'fishermen': 2787, 'convention': 2788, 'e': 2789, 'dedicated': 2790, 'alaska': 2791, 'modern': 2792, 'drinking': 2793, 'medicine': 2794, 'promotion': 2795, 'choice': 2796, 'matter': 2797, 'advance': 2798, 'pull': 2799, 'heads': 2800, 'cancels': 2801, 'opener': 2802, 'stole': 2803, 'carry': 2804, 'fitness': 2805, 'antonio': 2806, 'coverage': 2807, 'guy': 2808, 'utility': 2809, 'renewed': 2810, 'cargo': 2811, 'killer': 2812, 'mac': 2813, 'ticket': 2814, 'clients': 2815, 'sentiment': 2816, 'bears': 2817, 'persons': 2818, 'defends': 2819, 'announcing': 2820, 'helps': 2821, 'wood': 2822, 'casino': 2823, 'troubled': 2824, 'internal': 2825, 'marks': 2826, 'identity': 2827, 'columbus': 2828, 'pitt': 2829, 'reforms': 2830, 'tested': 2831, 'sachs': 2832, 'male': 2833, 'fee': 2834, 'judges': 2835, '5000': 2836, 'mississippi': 2837, 'learn': 2838, 'sweden': 2839, 'democrat': 2840, 'conflict': 2841, 'escaped': 2842, '63': 2843, 'warner': 2844, 'sprint': 2845, '62': 2846, 'incidents': 2847, 'remove': 2848, 'request': 2849, 'kristen': 2850, 'andre': 2851, 'boxing': 2852, '64': 2853, 'managed': 2854, 'hosted': 2855, 'kidnapped': 2856, 'battling': 2857, 'penn': 2858, 'positions': 2859, 'suspects': 2860, 'tell': 2861, 'dan': 2862, 'postponed': 2863, 'cooper': 2864, 'alexander': 2865, 'lineup': 2866, 'josh': 2867, 'ask': 2868, 'welcomed': 2869, 'blast': 2870, 'c': 2871, 'ad': 2872, 'welcomes': 2873, 'fear': 2874, 'gates': 2875, 'bahrain': 2876, 'considered': 2877, 'traditional': 2878, 'fake': 2879, 'murdered': 2880, 'wildlife': 2881, 'informed': 2882, 'mental': 2883, 'recorded': 2884, 'sensex': 2885, 'NBC': 2886, 'sworn': 2887, 'seasons': 2888, 'merger': 2889, 'waiting': 2890, 'franklin': 2891, 'switzerland': 2892, 'finished': 2893, 'tender': 2894, 'kenya': 2895, 'federation': 2896, 'pain': 2897, 'arm': 2898, 'maryland': 2899, 'm': 2900, 'tea': 2901, 'immediately': 2902, 'edge': 2903, 'gang': 2904, 'managing': 2905, 'rushed': 2906, 'disney': 2907, 'NCAA': 2908, 'shanghai': 2909, 'fail': 2910, 'weaker': 2911, '42': 2912, 'biden': 2913, 'mary': 2914, 'image': 2915, 'estimates': 2916, 'alan': 2917, 'evacuated': 2918, '33': 2919, 'columbia': 2920, 'deep': 2921, 'SA': 2922, 'proud': 2923, 'fallen': 2924, 'imports': 2925, 'busy': 2926, 'something': 2927, 'azerbaijani': 2928, 'criticism': 2929, 'queensland': 2930, 'indonesian': 2931, 'undisclosed': 2932, 'onto': 2933, 'NY': 2934, 'GOP': 2935, 'transit': 2936, 'scientific': 2937, 'NHL': 2938, 'flooding': 2939, '2000': 2940, 'false': 2941, 'often': 2942, '100000': 2943, 'everything': 2944, 'sends': 2945, 'bit': 2946, 'ray': 2947, 'swedish': 2948, 'worked': 2949, 'gunpoint': 2950, 'targeted': 2951, 'philippine': 2952, 'rocket': 2953, 'expressed': 2954, 'bilateral': 2955, 'noon': 2956, 'feeling': 2957, 'NSW': 2958, 'spill': 2959, 'perfect': 2960, 'congressman': 2961, 'tottenham': 2962, 'display': 2963, 'asset': 2964, 'kingdom': 2965, 'fighter': 2966, 'czech': 2967, 'personnel': 2968, '85': 2969, 'sister': 2970, 'responsible': 2971, 'defend': 2972, 'meetings': 2973, 'delays': 2974, 'beyond': 2975, 'nominated': 2976, 'institutions': 2977, 'charter': 2978, 'sean': 2979, 'introduce': 2980, 'especially': 2981, 'visa': 2982, 'crossing': 2983, 'seems': 2984, 'images': 2985, 'engagement': 2986, 'cowell': 2987, 'professor': 2988, 'edition': 2989, 'defended': 2990, 'notice': 2991, 'IBM': 2992, 'processing': 2993, 'raid': 2994, 'chrysler': 2995, 'inmate': 2996, 'cyrus': 2997, 'louisiana': 2998, 'pound': 2999, 'appeals': 3000, 'participate': 3001, 'dhabi': 3002, 'cardinals': 3003, 'tied': 3004, 'registered': 3005, 'parent': 3006, 'decide': 3007, 'cited': 3008, 'intel': 3009, 'carter': 3010, 'scam': 3011, 'arkansas': 3012, 'drowned': 3013, 'provided': 3014, 'YouTube': 3015, 'representatives': 3016, 'del': 3017, 'means': 3018, 'walmart': 3019, 'LLC': 3020, 'remaining': 3021, 'hamas': 3022, 'assigned': 3023, 'jewish': 3024, 'resolution': 3025, 'tourist': 3026, 'import': 3027, 'ukrainian': 3028, 'clashes': 3029, 'easy': 3030, 'thing': 3031, 'marry': 3032, 'rookie': 3033, 'threatens': 3034, 'century': 3035, 'dismissed': 3036, 'escape': 3037, 'coffee': 3038, 'preseason': 3039, 'suspension': 3040, 'materials': 3041, 'featuring': 3042, 'producers': 3043, 'scene': 3044, 'suggests': 3045, 'drew': 3046, 'tight': 3047, 'haiti': 3048, 'ride': 3049, 'wait': 3050, 'benchmark': 3051, 'bulgarian': 3052, 'belarus': 3053, 'centers': 3054, 'everyone': 3055, 'rob': 3056, 'armstrong': 3057, 'pedestrian': 3058, 'follow': 3059, 'ran': 3060, 'deputies': 3061, 'flag': 3062, 'jump': 3063, 'boeing': 3064, 'shortage': 3065, 'broadcast': 3066, 'lankan': 3067, 'johnny': 3068, 'trophy': 3069, 'don': 3070, 'organizations': 3071, 'ferguson': 3072, 'lawrence': 3073, 'style': 3074, 'districts': 3075, 'neighborhood': 3076, 'improving': 3077, \"'d\": 3078, 'commitment': 3079, 'diabetes': 3080, 'AG': 3081, 'flying': 3082, 'paying': 3083, 'ankle': 3084, 'volunteers': 3085, 'aniston': 3086, 'upper': 3087, 'lay': 3088, '10th': 3089, 'marathon': 3090, 'suggested': 3091, 'softball': 3092, 'knife': 3093, 'craig': 3094, 'items': 3095, 'jay': 3096, 'lincoln': 3097, 'adults': 3098, 'bruce': 3099, 'robin': 3100, 'unions': 3101, 'adopted': 3102, 'armenian': 3103, 'upgraded': 3104, 'carried': 3105, 'damaged': 3106, 'trillion': 3107, 'warrant': 3108, 'anything': 3109, 'firefighter': 3110, 'core': 3111, 'islands': 3112, 'bull': 3113, 'blow': 3114, 'cultural': 3115, 'neil': 3116, 'speaks': 3117, '34': 3118, 'streak': 3119, 'burning': 3120, 'euros': 3121, 'plc': 3122, 'billy': 3123, 'pitch': 3124, 'reopen': 3125, 'barbara': 3126, 'restored': 3127, 'colombia': 3128, 'location': 3129, 'interim': 3130, 'compete': 3131, 'books': 3132, 'secured': 3133, 'amazon': 3134, 'eagles': 3135, 'mandela': 3136, 'reading': 3137, 'dark': 3138, 'opportunity': 3139, 'nicolas': 3140, 'smoking': 3141, 'brings': 3142, 'murdering': 3143, 'swimming': 3144, 'happened': 3145, 'integrated': 3146, 'delivered': 3147, 'bulls': 3148, 'UFC': 3149, 'nepal': 3150, 'language': 3151, 'balance': 3152, 'interstate': 3153, 'reasons': 3154, 'kicks': 3155, 'PM': 3156, 'table': 3157, 'crowd': 3158, 'mostly': 3159, 'verizon': 3160, 'bobby': 3161, 'miley': 3162, 'tornado': 3163, 'accept': 3164, 'bengal': 3165, 'arrive': 3166, 'constitution': 3167, 'masters': 3168, 'shuttle': 3169, 'pilots': 3170, 'globe': 3171, 'liberal': 3172, 'defeated': 3173, 'asif': 3174, 'bristol': 3175, 'celebration': 3176, 'pat': 3177, 'talking': 3178, 'alternative': 3179, 'virgin': 3180, 'investigators': 3181, 'cuban': 3182, 'regulatory': 3183, 'halt': 3184, 'maintain': 3185, 'montreal': 3186, 'dealer': 3187, 'aims': 3188, 'performed': 3189, 'principal': 3190, 'fitch': 3191, 'derby': 3192, 'cowboys': 3193, 'estimated': 3194, 'cincinnati': 3195, 'learning': 3196, 'blamed': 3197, 'difficult': 3198, 'direction': 3199, 'pictures': 3200, 'jazz': 3201, 'hike': 3202, 'revenues': 3203, 'gained': 3204, 'walker': 3205, 'mount': 3206, 'trafficking': 3207, 'roy': 3208, 'coordinator': 3209, 'older': 3210, 'downturn': 3211, 'physical': 3212, 'supporting': 3213, 'prepare': 3214, 'shots': 3215, 'prosecutor': 3216, 'fastest': 3217, 'emirates': 3218, 'includes': 3219, 'comprehensive': 3220, 'exit': 3221, 'scores': 3222, 'netherlands': 3223, 'hiring': 3224, 'petroleum': 3225, 'threw': 3226, 'NASCAR': 3227, 'delay': 3228, 'premiere': 3229, '37': 3230, 'responsibility': 3231, 'charlotte': 3232, 'danny': 3233, 'urban': 3234, 'picked': 3235, 'naval': 3236, 'crown': 3237, 'vows': 3238, 'cap': 3239, 'playoff': 3240, 'villa': 3241, 'register': 3242, 'LA': 3243, 'larry': 3244, 'registration': 3245, 'improvement': 3246, 'provincial': 3247, 'reopened': 3248, 'allowing': 3249, 'lama': 3250, 'compensation': 3251, 'nashville': 3252, 'god': 3253, 'petrol': 3254, '2006': 3255, 'master': 3256, 'degree': 3257, 'roll': 3258, 'upon': 3259, 'arrests': 3260, 'recalling': 3261, 'armenia': 3262, 'ed': 3263, 'executives': 3264, 'arson': 3265, 'described': 3266, 'joseph': 3267, 'exploration': 3268, 'promised': 3269, 'employers': 3270, 'wave': 3271, 'retiring': 3272, 'produced': 3273, 'CNN': 3274, 'downgraded': 3275, 'comedian': 3276, 'MAN': 3277, 'bars': 3278, 'legislature': 3279, 'picture': 3280, 'swift': 3281, 'undergoing': 3282, 'maintenance': 3283, '76': 3284, 'considers': 3285, 'door': 3286, 'kapoor': 3287, 'focused': 3288, 'occurred': 3289, 'episode': 3290, 'actually': 3291, 'temporarily': 3292, 'restore': 3293, 'lane': 3294, 'kolkata': 3295, 'fleet': 3296, 'resistance': 3297, 'eve': 3298, 'shah': 3299, 'musharraf': 3300, 'advantage': 3301, 'organisation': 3302, 'material': 3303, 'probably': 3304, 'risks': 3305, 'sure': 3306, 'influence': 3307, 'longterm': 3308, 'bradley': 3309, 'taxi': 3310, 'clubs': 3311, 'dow': 3312, 'approach': 3313, 'slowdown': 3314, 'nominee': 3315, 'jamie': 3316, 'violations': 3317, 'suit': 3318, 'wearing': 3319, 'kidnapping': 3320, 'withdraws': 3321, 'camera': 3322, 'roberts': 3323, 'names': 3324, 'enhance': 3325, 'similar': 3326, '911': 3327, 'regulators': 3328, 'hilton': 3329, 'palace': 3330, 'clark': 3331, 'terry': 3332, 'emerged': 3333, 'wear': 3334, 'suing': 3335, 'auckland': 3336, 'hires': 3337, 'alone': 3338, 'judicial': 3339, 'faced': 3340, '36': 3341, 'lender': 3342, 'increasingly': 3343, 'depression': 3344, 'rush': 3345, 'forthcoming': 3346, 'medvedev': 3347, 'idea': 3348, 'tons': 3349, 'motion': 3350, 'p': 3351, 'shore': 3352, 'AC': 3353, 'greg': 3354, 'score': 3355, 'commodity': 3356, 'honda': 3357, 'rafael': 3358, 'automotive': 3359, 'FBI': 3360, 'nevada': 3361, 'diesel': 3362, 'ESPN': 3363, 'dates': 3364, '250': 3365, 'accidentally': 3366, 'shoots': 3367, 'sides': 3368, 'nicole': 3369, 'anyone': 3370, 'buyers': 3371, 'cook': 3372, 'tools': 3373, 'till': 3374, 'rand': 3375, 'civilians': 3376, 'benedict': 3377, 'walking': 3378, 'capitol': 3379, 'checks': 3380, 'parks': 3381, 'poland': 3382, 'resignation': 3383, 'cyprus': 3384, 'barry': 3385, 'guns': 3386, 'establish': 3387, 'gujarat': 3388, 'extending': 3389, 'seventh': 3390, 'YORK': 3391, 'individual': 3392, 'hawaii': 3393, 'unexpectedly': 3394, 'condemned': 3395, '61': 3396, 'ricky': 3397, 'handed': 3398, 'pushed': 3399, 'gaming': 3400, 'dalai': 3401, 'tool': 3402, 'stepping': 3403, 'listed': 3404, 'landed': 3405, 'strongly': 3406, 'rains': 3407, 'municipal': 3408, 'hotels': 3409, 'zoo': 3410, 'permanent': 3411, 'creative': 3412, 'warriors': 3413, 'maria': 3414, 'liam': 3415, 'dublin': 3416, 'deutsche': 3417, 'loves': 3418, 'drunken': 3419, 'toddler': 3420, 'plead': 3421, 'MTV': 3422, 'duke': 3423, 'rolling': 3424, 'lord': 3425, 'backed': 3426, 'watson': 3427, 'link': 3428, 'thai': 3429, '700': 3430, 'undergoes': 3431, 'twin': 3432, 'prominent': 3433, 'malik': 3434, 'drilling': 3435, 'upset': 3436, 'shortly': 3437, 'reid': 3438, 'whole': 3439, 'witnesses': 3440, 'goalkeeper': 3441, 'fewer': 3442, 'earned': 3443, 'casey': 3444, 'grants': 3445, 'sunderland': 3446, 'agreements': 3447, 'marking': 3448, 'heritage': 3449, 'jammu': 3450, 'chennai': 3451, 'athletic': 3452, 'humanitarian': 3453, 'sound': 3454, 'guide': 3455, 'attention': 3456, 'kerala': 3457, 'hughes': 3458, 'caribbean': 3459, '43': 3460, 'savings': 3461, 'keith': 3462, 'defending': 3463, 'lok': 3464, 'ashley': 3465, 'wright': 3466, 'hair': 3467, 'thompson': 3468, 'respect': 3469, 'bird': 3470, 'saved': 3471, 'houses': 3472, 'captured': 3473, 'poised': 3474, 'virtual': 3475, 'takeover': 3476, '3000': 3477, 'hugo': 3478, 'putin': 3479, 'trees': 3480, 'collins': 3481, 'bat': 3482, 'wealth': 3483, 'politicians': 3484, 'section': 3485, 'aaron': 3486, 'icon': 3487, 'plus': 3488, 'demanded': 3489, 'knowledge': 3490, 'lopez': 3491, 'pole': 3492, 'classes': 3493, 'bigger': 3494, 'quickly': 3495, 'maine': 3496, 'gap': 3497, 'drink': 3498, 'parade': 3499, 'memory': 3500, '72': 3501, 'citizen': 3502, 'stress': 3503, 'nebraska': 3504, 'violating': 3505, 'word': 3506, 'tower': 3507, 'raped': 3508, 'nigerian': 3509, 'publicly': 3510, 'montana': 3511, 'mar': 3512, 'drought': 3513, 'jesse': 3514, 'matthew': 3515, 'reaching': 3516, 'abroad': 3517, 'PC': 3518, 'sparked': 3519, 'reason': 3520, 'powers': 3521, 'shipping': 3522, 'dramatic': 3523, 'christina': 3524, 'competitive': 3525, 'legislative': 3526, 'tehran': 3527, 'trail': 3528, 'asylum': 3529, 'tie': 3530, 'inter': 3531, 'currencies': 3532, 'parker': 3533, 'dinner': 3534, 'written': 3535, 'roster': 3536, 'tensions': 3537, 'adult': 3538, 'tribal': 3539, 'HP': 3540, 'wreck': 3541, 'unchanged': 3542, 'stability': 3543, 'collaboration': 3544, 'unveil': 3545, 'tanker': 3546, 'crack': 3547, 'retailers': 3548, 'starring': 3549, 'roof': 3550, 'reliance': 3551, 'illegally': 3552, 'code': 3553, 'graham': 3554, 'hunt': 3555, 'formed': 3556, 'carl': 3557, 'billionaire': 3558, 'hedge': 3559, '48': 3560, 'moment': 3561, 'drone': 3562, 'motorcyclist': 3563, 'plastic': 3564, 'outfielder': 3565, 'patriots': 3566, 'athletes': 3567, 'measure': 3568, 'solo': 3569, 'sarkozy': 3570, 'gaddafi': 3571, 'dodgers': 3572, 'muslims': 3573, 'tablet': 3574, 'freed': 3575, 'chile': 3576, 'highs': 3577, 'magic': 3578, 'commonwealth': 3579, 'honoured': 3580, 'standoff': 3581, 'motorola': 3582, 'courts': 3583, 'grew': 3584, 'liberty': 3585, 'pub': 3586, 'practices': 3587, 'fields': 3588, 'rollover': 3589, 'pushing': 3590, 'included': 3591, 'triple': 3592, 'wholesale': 3593, 'AM': 3594, 'bike': 3595, 'sleep': 3596, 'NASA': 3597, 'infection': 3598, 'regions': 3599, 'thinks': 3600, 'fla': 3601, 'milestone': 3602, 'fails': 3603, 'served': 3604, 'count': 3605, 'linebacker': 3606, 'task': 3607, 'resolve': 3608, 'innovative': 3609, 'barclays': 3610, 'maoists': 3611, 'welfare': 3612, 'songs': 3613, 'dick': 3614, 'praised': 3615, 'guidance': 3616, 'knight': 3617, 'retires': 3618, 'raping': 3619, 'dave': 3620, 'holmes': 3621, 'gift': 3622, 'knocked': 3623, 'remarks': 3624, 'label': 3625, 'brandon': 3626, 'latin': 3627, 'collapse': 3628, 'machine': 3629, 'hampshire': 3630, 'original': 3631, 'minimum': 3632, 'tries': 3633, 'struggle': 3634, 'seize': 3635, 'attacking': 3636, 'unique': 3637, 'temple': 3638, 'writes': 3639, 'sciences': 3640, 'intends': 3641, 'passing': 3642, 'envoy': 3643, 'forecasts': 3644, 'ranked': 3645, 'stranded': 3646, 'kick': 3647, 'springfield': 3648, '44': 3649, 'weapon': 3650, 'worries': 3651, 'colombian': 3652, 'everton': 3653, 'indianapolis': 3654, 'delta': 3655, 'interests': 3656, 'pharmaceutical': 3657, 'encounter': 3658, 'kanye': 3659, 'roman': 3660, 'limit': 3661, 'opera': 3662, 'pledged': 3663, 'mukherjee': 3664, 'prove': 3665, 'foreclosure': 3666, 'DUI': 3667, 'heavyweight': 3668, 'standing': 3669, 'restaurants': 3670, 'perth': 3671, 'fixed': 3672, 'storms': 3673, 'ian': 3674, 'hunger': 3675, 'karnataka': 3676, '46': 3677, 'lebanese': 3678, 'sustained': 3679, 'withdraw': 3680, 'settled': 3681, 'saints': 3682, 'universal': 3683, 'conspiracy': 3684, 'misdemeanor': 3685, 'salman': 3686, 'sterling': 3687, 'determined': 3688, 'dry': 3689, 'established': 3690, 'eddie': 3691, 'keen': 3692, 'twoyear': 3693, 'hip': 3694, 'rallied': 3695, 'category': 3696, 'buried': 3697, 'pak': 3698, 'lakers': 3699, 'idaho': 3700, '51': 3701, 'jonathan': 3702, 'agricultural': 3703, 'spokeswoman': 3704, 'beauty': 3705, 'lightning': 3706, 'read': 3707, 'restrictions': 3708, 'lands': 3709, 'interested': 3710, 'changing': 3711, 'cells': 3712, '50000': 3713, 'raza': 3714, 'recording': 3715, 'jeremy': 3716, 'kosovo': 3717, 'presents': 3718, 'skills': 3719, 'lenders': 3720, 'kyle': 3721, 'evans': 3722, 'proposes': 3723, 'reveal': 3724, 'affect': 3725, 'familiar': 3726, 'harper': 3727, 'insisted': 3728, 'ross': 3729, 'article': 3730, 'susan': 3731, 'stands': 3732, '55': 3733, 'ore': 3734, 'prepared': 3735, 'mill': 3736, 'promises': 3737, 'injuring': 3738, 'finals': 3739, 'speaking': 3740, 'hear': 3741, 'tracks': 3742, 'significantly': 3743, 'publisher': 3744, 'conviction': 3745, 'customs': 3746, 'accuses': 3747, 'endorses': 3748, 'pet': 3749, 'visitors': 3750, 'raiders': 3751, 'refuses': 3752, 'demanding': 3753, 'kind': 3754, '38': 3755, 'directed': 3756, 'baghdad': 3757, 'mets': 3758, 'appointment': 3759, 'coaching': 3760, '52': 3761, 'metals': 3762, 'withdrawn': 3763, 'effects': 3764, 'quits': 3765, 'tyler': 3766, 'communication': 3767, 'romania': 3768, 'neutral': 3769, 'shane': 3770, 'forcing': 3771, 'sues': 3772, 'addition': 3773, 'lance': 3774, 'bachchan': 3775, 'photographer': 3776, 'vikings': 3777, 'revolution': 3778, 'seats': 3779, 'rachel': 3780, 'innovation': 3781, 'georgian': 3782, 'ranks': 3783, 'selection': 3784, 'bans': 3785, 'kidney': 3786, 'pulls': 3787, 'rejects': 3788, 'oneyear': 3789, 'monitoring': 3790, 'edged': 3791, 'crackdown': 3792, 'AFP': 3793, 'someone': 3794, 'animals': 3795, 'underwent': 3796, 'guards': 3797, 'blog': 3798, 'entering': 3799, 'accepting': 3800, 'implement': 3801, 'murphy': 3802, 'kris': 3803, 'size': 3804, 'gilani': 3805, 'rogers': 3806, 'accepted': 3807, 'limits': 3808, 'moon': 3809, 'assignment': 3810, '3D': 3811, 'tracking': 3812, 'sectors': 3813, 'dropping': 3814, 'marked': 3815, 'BlackBerry': 3816, 'mind': 3817, 'finding': 3818, 'memphis': 3819, 'possibility': 3820, 'hunting': 3821, 'stepped': 3822, 'interactive': 3823, 'fun': 3824, 'photos': 3825, 'studies': 3826, 'sue': 3827, 'editor': 3828, 'adams': 3829, 'chamber': 3830, 'fed': 3831, 'attempting': 3832, 'firing': 3833, 'hub': 3834, 'kerry': 3835, 'ahmadinejad': 3836, 'complaints': 3837, 'fiji': 3838, 'islamabad': 3839, 'mills': 3840, 'trapped': 3841, 'surge': 3842, 'prior': 3843, 'fly': 3844, 'PTI': 3845, 'reduction': 3846, 'analysis': 3847, 'venezuelan': 3848, 'nadal': 3849, 'required': 3850, 'voluntary': 3851, 'puts': 3852, 'priority': 3853, 'select': 3854, 'pizza': 3855, 'refugees': 3856, 'pharmaceuticals': 3857, 'endorsed': 3858, 'cubs': 3859, 'MPs': 3860, 'douglas': 3861, 'leak': 3862, 'rome': 3863, 'aston': 3864, 'minority': 3865, 'trailer': 3866, 'chancellor': 3867, 'renewable': 3868, 'fisher': 3869, 'backs': 3870, 'resource': 3871, 'pete': 3872, 'rebound': 3873, 'faster': 3874, 'telling': 3875, 'resumed': 3876, 'walked': 3877, 'qualifying': 3878, 'brett': 3879, 'presidency': 3880, 'burned': 3881, 'dealing': 3882, 'prospects': 3883, 'hunter': 3884, 'critically': 3885, 'providers': 3886, 'manage': 3887, 'workforce': 3888, 'immigrants': 3889, 'closure': 3890, 'throwing': 3891, 'modi': 3892, 'brisbane': 3893, 'mario': 3894, 'governments': 3895, 'delaware': 3896, 'momentum': 3897, 'NHS': 3898, 'shops': 3899, 'kuwait': 3900, 'spirit': 3901, 'controversy': 3902, 'sessions': 3903, 'grove': 3904, 'FA': 3905, 'corps': 3906, 'promoted': 3907, 'resumes': 3908, '53': 3909, 'prepares': 3910, 'GM': 3911, 'computers': 3912, 'blame': 3913, 'winger': 3914, 'shareholder': 3915, 'milk': 3916, 'ted': 3917, 'julia': 3918, 'marshall': 3919, 'blues': 3920, 'involvement': 3921, 'wine': 3922, 'trouble': 3923, 'eagle': 3924, 'salary': 3925, 'terminal': 3926, 'attempts': 3927, 'bihar': 3928, 'transaction': 3929, 'scale': 3930, 'laden': 3931, 'spokesperson': 3932, 'cat': 3933, 'releasing': 3934, 'porn': 3935, '82': 3936, 'jefferson': 3937, 'tank': 3938, 'musician': 3939, 'FIFA': 3940, 'stream': 3941, 'adviser': 3942, 'costa': 3943, 'potentially': 3944, 'nursing': 3945, 'quite': 3946, 'grade': 3947, 'boosted': 3948, 'integration': 3949, 'd': 3950, 'operators': 3951, 'reserves': 3952, 'motorists': 3953, 'militant': 3954, 'sustainable': 3955, 'declines': 3956, 'flash': 3957, 'wrote': 3958, 'qantas': 3959, 'sep': 3960, 'slipped': 3961, 'inquiry': 3962, 'indies': 3963, 'discharged': 3964, 'teens': 3965, 'character': 3966, 'rochester': 3967, 'defenseman': 3968, 'slip': 3969, 'structure': 3970, 'proposals': 3971, 'innings': 3972, 'plunged': 3973, 'refinance': 3974, 'waivers': 3975, 'mahmoud': 3976, 'angry': 3977, 'recycling': 3978, 'crashing': 3979, 'filmmaker': 3980, 'bangalore': 3981, 'wing': 3982, 'enterprises': 3983, 'NC': 3984, 'alongside': 3985, 'zuma': 3986, 'assist': 3987, 'chest': 3988, 'streaming': 3989, 'weakened': 3990, 'imposed': 3991, 'theater': 3992, 'tops': 3993, 'approve': 3994, 'versus': 3995, 'royals': 3996, 'saving': 3997, 'allows': 3998, 'cairo': 3999, 'supported': 4000, 'guest': 4001, 'hate': 4002, 'remote': 4003, 'quoted': 4004, 'juan': 4005, 'neck': 4006, 'crucial': 4007, 'semifinals': 4008, 'eighth': 4009, 'unlikely': 4010, 'somalia': 4011, 'zero': 4012, 'ability': 4013, 'ottawa': 4014, 'lung': 4015, 'urging': 4016, '800': 4017, 'heights': 4018, 'saint': 4019, 'watching': 4020, 'allstar': 4021, 'northwestern': 4022, 'era': 4023, 'promoting': 4024, 'slammed': 4025, 'bomber': 4026, 'vladimir': 4027, 'temperatures': 4028, 'parish': 4029, 'featured': 4030, 'IMF': 4031, 'models': 4032, 'managers': 4033, 'superior': 4034, 'outbreak': 4035, 'premium': 4036, 'abortion': 4037, 'unknown': 4038, 'hanging': 4039, 'lakh': 4040, 'prescription': 4041, '2015': 4042, 'leeds': 4043, 'routes': 4044, 'poverty': 4045, 'messages': 4046, 'efficiency': 4047, 'opinion': 4048, 'carey': 4049, 'trucks': 4050, 'tsunami': 4051, 'kenny': 4052, 'clothing': 4053, 'variety': 4054, 'write': 4055, 'adopt': 4056, 'prospect': 4057, 'maritime': 4058, 'telecommunications': 4059, 'commits': 4060, 'thrown': 4061, 'dell': 4062, 'pickup': 4063, 'greatest': 4064, 'entry': 4065, 'Twenty20': 4066, 'picks': 4067, 'cambridge': 4068, '95': 4069, 'actions': 4070, 'burns': 4071, 'rockets': 4072, 'text': 4073, 'affordable': 4074, 'baseman': 4075, 'landmark': 4076, 'donated': 4077, 'sponsor': 4078, 'trains': 4079, 'witness': 4080, 'writing': 4081, 'skin': 4082, 'citigroup': 4083, 'kent': 4084, 'performs': 4085, 'BC': 4086, 'sonia': 4087, 'exposure': 4088, 'broncos': 4089, 'crystal': 4090, 'bombing': 4091, 'reducing': 4092, 'coaches': 4093, 'slash': 4094, 'jobless': 4095, 'cameras': 4096, 'blaze': 4097, 'completely': 4098, 'jacob': 4099, 'discussed': 4100, 'anne': 4101, 'documentary': 4102, 'winners': 4103, 'driven': 4104, 'monitor': 4105, 'roberto': 4106, 'rolled': 4107, 'confirm': 4108, 'conservation': 4109, 'McCartney': 4110, 'communist': 4111, 'affair': 4112, 'pleased': 4113, 'berlin': 4114, 'vatican': 4115, 'vessel': 4116, 'species': 4117, 'randy': 4118, 'supermarket': 4119, 'keeps': 4120, 'pit': 4121, 'advice': 4122, 'links': 4123, 'throws': 4124, 'III': 4125, 'user': 4126, 'favourite': 4127, 'ski': 4128, 'phillies': 4129, 'mugabe': 4130, 'shock': 4131, 'tommy': 4132, 'studios': 4133, 'lil': 4134, 'replaced': 4135, 'nobel': 4136, 'broad': 4137, 'maharashtra': 4138, 'wellington': 4139, 'adelaide': 4140, 'concluded': 4141, 'newest': 4142, 'revised': 4143, 'uses': 4144, 'celtic': 4145, 'middleton': 4146, 'either': 4147, 'mason': 4148, 'apologizes': 4149, 'skipper': 4150, 'sporting': 4151, 'uncertainty': 4152, 'emma': 4153, 'apply': 4154, 'chip': 4155, 'cancel': 4156, 'wage': 4157, 'celebrations': 4158, 'regulations': 4159, 'donald': 4160, 'membership': 4161, 'locations': 4162, 'expenses': 4163, 'unable': 4164, 'workshop': 4165, 'vision': 4166, 'predicted': 4167, 'feared': 4168, 'berlusconi': 4169, 'brief': 4170, 'gene': 4171, 'semifinal': 4172, 'braves': 4173, 'rooney': 4174, 'refinery': 4175, 'contractor': 4176, 'burn': 4177, 'sovereign': 4178, 'ownership': 4179, 'path': 4180, 'critics': 4181, 'raw': 4182, 'mom': 4183, 'chef': 4184, '900': 4185, 'sandy': 4186, 'dolphins': 4187, 'auburn': 4188, 'gomez': 4189, 'danger': 4190, 'brussels': 4191, 'papers': 4192, 'aggravated': 4193, 'gunmen': 4194, 'beer': 4195, 'blasts': 4196, 'naked': 4197, 'austerity': 4198, 'privacy': 4199, 'upgrade': 4200, '68': 4201, 'solid': 4202, 'abdullah': 4203, 'volleyball': 4204, 'cinema': 4205, 'sons': 4206, 'mean': 4207, 'thieves': 4208, 'subject': 4209, '71': 4210, 'acres': 4211, 'vital': 4212, '120': 4213, 'liquor': 4214, 'lows': 4215, 'secondary': 4216, 'spencer': 4217, 'requirements': 4218, 'outdoor': 4219, 'peaceful': 4220, 'wheat': 4221, 'moss': 4222, 'jacksonville': 4223, 'fighters': 4224, 'dean': 4225, 'haryana': 4226, 'gibson': 4227, 'eating': 4228, 'professionals': 4229, 'guitarist': 4230, 'holidays': 4231, 'producing': 4232, 'bone': 4233, 'bloomberg': 4234, 'norway': 4235, 'AFL': 4236, 'sacramento': 4237, 'equities': 4238, 'chidambaram': 4239, 'earn': 4240, 'timberlake': 4241, 'peak': 4242, 'favorite': 4243, 'whitney': 4244, 'string': 4245, 'ham': 4246, 'inducted': 4247, 'external': 4248, 'pending': 4249, 'cliff': 4250, 'drove': 4251, 'prevention': 4252, 'BMW': 4253, 'misses': 4254, 'airbus': 4255, 'youths': 4256, 'catches': 4257, 'trials': 4258, 'heidi': 4259, 'cyclist': 4260, 'initiatives': 4261, 'disappointing': 4262, 'shelter': 4263, 'quick': 4264, '67': 4265, 'emissions': 4266, 'munich': 4267, 'apologized': 4268, 'affiliate': 4269, 'jerusalem': 4270, 'lucky': 4271, 'salt': 4272, 'investigated': 4273, 'uranium': 4274, 'overhaul': 4275, 'lion': 4276, 'computing': 4277, 'developers': 4278, '54': 4279, 'syed': 4280, 'lily': 4281, 'heroin': 4282, 'bishop': 4283, 'praises': 4284, 'smartphones': 4285, 'wire': 4286, 'advised': 4287, 'commissioners': 4288, 'sing': 4289, '500000': 4290, 'lying': 4291, 'athens': 4292, 'rebel': 4293, 'rajasthan': 4294, 'hole': 4295, 'answer': 4296, 'words': 4297, 'worse': 4298, 'corner': 4299, 'lovato': 4300, 'argument': 4301, 'seeing': 4302, 'abdul': 4303, 'refusing': 4304, 'gross': 4305, 'monroe': 4306, 'clothes': 4307, 'brooklyn': 4308, 'colleges': 4309, 'offences': 4310, 'browns': 4311, 'possibly': 4312, 'hopeful': 4313, 'consulting': 4314, 'transplant': 4315, 'crushed': 4316, 'shift': 4317, 'bag': 4318, 'foster': 4319, 'ken': 4320, 'volume': 4321, 'midnight': 4322, 'airports': 4323, 'ericsson': 4324, 'vodafone': 4325, 'rodriguez': 4326, 'v': 4327, 'r': 4328, 'montgomery': 4329, '50th': 4330, 'widespread': 4331, 'mubarak': 4332, 'potter': 4333, 'regulator': 4334, 'tributes': 4335, 'diplomat': 4336, '74': 4337, 'wimbledon': 4338, 'eased': 4339, 'bed': 4340, 'martinez': 4341, 'stops': 4342, 'lt': 4343, 'topped': 4344, 'nature': 4345, 'swept': 4346, 'AN': 4347, 'audience': 4348, 'muhammad': 4349, '11th': 4350, 'catch': 4351, 'slide': 4352, 'haven': 4353, 'babies': 4354, 'frozen': 4355, 'petition': 4356, 'qaeda': 4357, 'prostate': 4358, 'attract': 4359, 'WWE': 4360, 'pastor': 4361, 'wenger': 4362, 'dozen': 4363, 'belgium': 4364, 'suburban': 4365, 'staterun': 4366, 'doubled': 4367, 'volunteer': 4368, 'artists': 4369, 'faith': 4370, 'steelers': 4371, 'evasion': 4372, 'advances': 4373, 'throw': 4374, 'julian': 4375, 'assange': 4376, 'warehouse': 4377, 'achieved': 4378, 'finger': 4379, 'rahul': 4380, 'pilgrims': 4381, 'hostage': 4382, 'warn': 4383, 'christie': 4384, 'chosen': 4385, 'oldest': 4386, 'robinson': 4387, 'necessary': 4388, 'polish': 4389, 'pregnancy': 4390, 'concerned': 4391, 'beef': 4392, 'wish': 4393, 'recognition': 4394, 'honour': 4395, 'administrative': 4396, 'HIV': 4397, 'karzai': 4398, 'merkel': 4399, 'fiveyear': 4400, 'slams': 4401, 'louisville': 4402, 'judiciary': 4403, 'vaccine': 4404, 'castro': 4405, 'robbing': 4406, 'athletics': 4407, 'pranab': 4408, 'yemeni': 4409, 'treat': 4410, 'serial': 4411, 'xinhua': 4412, 'upgrades': 4413, 'abandoned': 4414, 'arnold': 4415, 'followed': 4416, 'aggressive': 4417, 'sick': 4418, 'accusing': 4419, 'centres': 4420, 'census': 4421, 'improves': 4422, 'phillips': 4423, 'farmer': 4424, 'remember': 4425, 'counterpart': 4426, 'PGA': 4427, 'cruelty': 4428, 'inspired': 4429, 'netanyahu': 4430, '56': 4431, 'honorary': 4432, 'electrical': 4433, 'shell': 4434, 'cotton': 4435, 'acts': 4436, '66': 4437, 'diplomats': 4438, 'discussion': 4439, 'universities': 4440, 'ambulance': 4441, 'amendment': 4442, 'easily': 4443, 'ace': 4444, 'economies': 4445, 'portsmouth': 4446, 'clinical': 4447, '73': 4448, 'cisco': 4449, 'dairy': 4450, 'websites': 4451, 'ballot': 4452, 'multiyear': 4453, 'thanksgiving': 4454, 'gasoline': 4455, 'damages': 4456, 'tendulkar': 4457, 'concussion': 4458, 'clarke': 4459, 'drowns': 4460, 'riding': 4461, 'applied': 4462, 'chances': 4463, 'pervez': 4464, 'unity': 4465, 'priest': 4466, 'garage': 4467, 'publishing': 4468, 'scrap': 4469, 'inning': 4470, 'princess': 4471, 'spoke': 4472, 'sharks': 4473, 'federer': 4474, 'dmitry': 4475, 'floods': 4476, 'sharing': 4477, 'individuals': 4478, \"'\": 4479, 'prostitution': 4480, 'commodities': 4481, 'schwarzenegger': 4482, 'survive': 4483, 'bryant': 4484, 'underway': 4485, 'wildfire': 4486, 'suspend': 4487, 'shed': 4488, 'hyderabad': 4489, 'heath': 4490, 'abbas': 4491, 'overcome': 4492, 'forms': 4493, 'discrimination': 4494, 'robbie': 4495, 'seahawks': 4496, 'suggesting': 4497, 'mitchell': 4498, 'seed': 4499, '20th': 4500, 'deposit': 4501, 'boycott': 4502, 'senators': 4503, 'DJ': 4504, 'deer': 4505, 'academic': 4506, 'sachin': 4507, 'easter': 4508, 'viewers': 4509, 'max': 4510, 'ward': 4511, 'amanda': 4512, 'channels': 4513, 'endorse': 4514, 'nightclub': 4515, 'ann': 4516, 'barnes': 4517, 'lights': 4518, 'mines': 4519, '1500': 4520, 'twoday': 4521, 'mel': 4522, 'particularly': 4523, 'occupy': 4524, 'ronaldo': 4525, '47': 4526, 'tape': 4527, 'osbourne': 4528, 'ferrari': 4529, 'piece': 4530, 'attending': 4531, 'miners': 4532, 'hailed': 4533, 'cycling': 4534, 'rumors': 4535, 'specialty': 4536, 'posting': 4537, 'trades': 4538, 'dad': 4539, 'fireworks': 4540, 'sense': 4541, 'switch': 4542, 'rapids': 4543, 'CBI': 4544, 'pleading': 4545, 'smaller': 4546, 'absence': 4547, 'respond': 4548, 'glass': 4549, 'dame': 4550, 'condemns': 4551, 'ashton': 4552, 'extreme': 4553, 'ANC': 4554, 'PLC': 4555, 'poker': 4556, 'type': 4557, 'coroner': 4558, 'emotional': 4559, 'enjoy': 4560, 'eat': 4561, 'looked': 4562, 'bernanke': 4563, 'suzuki': 4564, 'surrounding': 4565, 'watchdog': 4566, 'collided': 4567, '57': 4568, 'licence': 4569, 'newspapers': 4570, 'lawmaker': 4571, 'ravens': 4572, '83': 4573, 'recognized': 4574, 'edmonton': 4575, 'basic': 4576, 'freight': 4577, 'gunman': 4578, 'collapses': 4579, 'awardwinning': 4580, 'rumours': 4581, 'fled': 4582, 'fundraising': 4583, 'portugal': 4584, 'mentally': 4585, 'estranged': 4586, 'identify': 4587, 'pacquiao': 4588, 'APA': 4589, 'oracle': 4590, 'roadside': 4591, '12th': 4592, 'orioles': 4593, 'unless': 4594, 'postal': 4595, 'determine': 4596, 'shark': 4597, 'client': 4598, 'observed': 4599, 'accidents': 4600, 'operate': 4601, 'richmond': 4602, 'referendum': 4603, '1st': 4604, 'doubles': 4605, 'rider': 4606, 'eyes': 4607, 'designated': 4608, 'sheikh': 4609, 'surplus': 4610, 'crowned': 4611, 'survived': 4612, 'jesus': 4613, 'stakes': 4614, 'colin': 4615, 'declining': 4616, 'declare': 4617, 'inquest': 4618, 'roles': 4619, 'WikiLeaks': 4620, 'redskins': 4621, 'rapid': 4622, 'bounce': 4623, 'obesity': 4624, 'costar': 4625, 'rebounds': 4626, 'directly': 4627, 'bids': 4628, 'uttar': 4629, 'actors': 4630, 'easing': 4631, 'hybrid': 4632, 'norwegian': 4633, 'lynch': 4634, 'creation': 4635, 'completion': 4636, 'pink': 4637, 'branches': 4638, 'meat': 4639, 'pentagon': 4640, 'arctic': 4641, 'reopens': 4642, 'aboard': 4643, 'contain': 4644, 'childhood': 4645, 'household': 4646, 'outfit': 4647, 'quoting': 4648, 'tibetan': 4649, 'karachi': 4650, 'borrowing': 4651, 'blocked': 4652, 'command': 4653, '49': 4654, '20yearold': 4655, 'flagship': 4656, 'peru': 4657, 'baku': 4658, 'anticipated': 4659, 'evacuation': 4660, 'rental': 4661, 'values': 4662, 'nancy': 4663, 'lifetime': 4664, 'slashed': 4665, 'torch': 4666, 'warming': 4667, 'broadcaster': 4668, 'unrest': 4669, 'mars': 4670, 'homeowners': 4671, 'defeats': 4672, 'briefly': 4673, 'titles': 4674, 'automaker': 4675, 'offset': 4676, 'mystery': 4677, 'elbow': 4678, 'permission': 4679, 'strengthened': 4680, 'bayern': 4681, 'ethnic': 4682, 'graduate': 4683, 'prisoner': 4684, 'xbox': 4685, 'educational': 4686, 'capture': 4687, 'violation': 4688, 'slump': 4689, 'rolls': 4690, 'destroys': 4691, '100th': 4692, '78': 4693, 'finland': 4694, 'maximum': 4695, 'stuck': 4696, 'holy': 4697, 'threeyear': 4698, 'steal': 4699, 'convenience': 4700, 'constitutional': 4701, 'robber': 4702, 'pride': 4703, 'mahindra': 4704, 'implementation': 4705, 'denmark': 4706, 'nadu': 4707, 'ships': 4708, 'scare': 4709, 'leon': 4710, 'slowed': 4711, 'floyd': 4712, 'donations': 4713, 'watched': 4714, 'drawing': 4715, '77': 4716, 'yes': 4717, 'nissan': 4718, 'aim': 4719, 'makers': 4720, 'soul': 4721, 'gather': 4722, 'donates': 4723, 'blackburn': 4724, 'duties': 4725, 'civilian': 4726, 'attended': 4727, 'manny': 4728, 'pneumonia': 4729, 'boyle': 4730, 'juventus': 4731, 'disclosed': 4732, 'todd': 4733, 'pricing': 4734, 'manhattan': 4735, 'northeastern': 4736, 'alberta': 4737, 'shared': 4738, 'rivers': 4739, 'comment': 4740, 'iconic': 4741, 'aside': 4742, 'berry': 4743, 'canadians': 4744, 'bernard': 4745, 'fernando': 4746, 'sharma': 4747, 'escapes': 4748, 'chart': 4749, 'spy': 4750, 'grain': 4751, 'WASHINGTON': 4752, 'broadcasting': 4753, 'staying': 4754, 'signal': 4755, '2004': 4756, 'engineers': 4757, 'ahmed': 4758, 'weakness': 4759, 'presidentelect': 4760, 'slowing': 4761, 'serbian': 4762, 'placement': 4763, 'apart': 4764, 'angels': 4765, 'austria': 4766, 'hometown': 4767, 'politician': 4768, 'chemicals': 4769, 'novel': 4770, 'grid': 4771, 'dennis': 4772, 'ads': 4773, 'gathered': 4774, 'sacked': 4775, 'occupied': 4776, 'insider': 4777, 'theme': 4778, 'races': 4779, 'suffer': 4780, 'default': 4781, 'suite': 4782, 'brewers': 4783, 'bowling': 4784, 'commit': 4785, 'kitchen': 4786, 'abbott': 4787, 'minute': 4788, 'audio': 4789, 'surged': 4790, 'warm': 4791, 'owen': 4792, 'oneday': 4793, 'stem': 4794, 'importance': 4795, 'sitting': 4796, 'ultimate': 4797, 'wolves': 4798, 'abusing': 4799, 'birds': 4800, 'apology': 4801, 'fares': 4802, 'whom': 4803, 'hungary': 4804, 'belgian': 4805, 'argentine': 4806, 'swim': 4807, 'billions': 4808, 'disputed': 4809, '86': 4810, 'optimism': 4811, 'parole': 4812, 'odds': 4813, 'cofounder': 4814, 'destination': 4815, 'consumption': 4816, 'robberies': 4817, 'playoffs': 4818, 'sandra': 4819, 'semiconductor': 4820, 'purchases': 4821, 'jays': 4822, 'flames': 4823, 'lease': 4824, 'plot': 4825, 'osama': 4826, 'HSBC': 4827, 'quinn': 4828, 'quarterfinals': 4829, 'locked': 4830, 'UBS': 4831, 'replacing': 4832, 'delivers': 4833, 'guru': 4834, 'guarantee': 4835, 'celtics': 4836, 'seminar': 4837, '2005': 4838, 'hu': 4839, 'compliance': 4840, 'moderate': 4841, 'reds': 4842, 'elton': 4843, 'ridge': 4844, 'screening': 4845, 'racist': 4846, 'bottom': 4847, 'nintendo': 4848, 'operational': 4849, 'bags': 4850, '20000': 4851, 'selena': 4852, 'lottery': 4853, 'downgrades': 4854, 'blake': 4855, 'johannesburg': 4856, 'inaugurated': 4857, 'swap': 4858, 'transition': 4859, 'aide': 4860, 'rupert': 4861, 'migrants': 4862, 'nearby': 4863, 'definitely': 4864, 'sanchez': 4865, 'baldwin': 4866, 'jewelry': 4867, 'climbed': 4868, 'shootout': 4869, '84': 4870, 'staged': 4871, 'behaviour': 4872, 'soft': 4873, 'wounds': 4874, 'replacement': 4875, 'responded': 4876, 'scoring': 4877, 'PlayStation': 4878, 'pledges': 4879, 'teaching': 4880, 'murdoch': 4881, 'decisions': 4882, 'exploded': 4883, 'glee': 4884, 'beyonce': 4885, 'mild': 4886, 'sweep': 4887, 'spectrum': 4888, 'fundraiser': 4889, 'philip': 4890, 'agenda': 4891, 'surveillance': 4892, 'mariners': 4893, 'seniors': 4894, 'runway': 4895, 'definitive': 4896, 'investing': 4897, 'christopher': 4898, 'damascus': 4899, 'ninth': 4900, 'permits': 4901, 'midwest': 4902, 'titled': 4903, 'NRL': 4904, 'submitted': 4905, 'sharif': 4906, 'infant': 4907, 'participation': 4908, '2020': 4909, 'rod': 4910, 'rallies': 4911, 'survival': 4912, 'understanding': 4913, 'cyber': 4914, 'francis': 4915, 'sisters': 4916, 'trump': 4917, 'nominations': 4918, 'oscars': 4919, 'cheating': 4920, 'departments': 4921, 'dress': 4922, 'chad': 4923, 'inmates': 4924, 'newton': 4925, 'tribune': 4926, 'frontman': 4927, 'ceasefire': 4928, 'missiles': 4929, 'buses': 4930, 'NJ': 4931, 'jake': 4932, 'dumped': 4933, 'statewide': 4934, 'branded': 4935, 'marcus': 4936, 'pioneer': 4937, 'planes': 4938, 'numerous': 4939, 'buffett': 4940, 'gen': 4941, 'teenagers': 4942, 'verdict': 4943, 'amnesty': 4944, 'glasgow': 4945, 'siemens': 4946, 'bashar': 4947, 'telephone': 4948, 'pledge': 4949, 'brush': 4950, 'machines': 4951, 'sioux': 4952, 'clerk': 4953, 'seoul': 4954, 'joel': 4955, 'declaration': 4956, 'manufacturers': 4957, 'print': 4958, '21yearold': 4959, 'advisor': 4960, 'gillard': 4961, 'desert': 4962, 'jonas': 4963, 'bosses': 4964, 'decrease': 4965, 'genocide': 4966, 'freeze': 4967, 'sp': 4968, 'lloyd': 4969, 'selects': 4970, 'inaugural': 4971, 'tribunal': 4972, 'islam': 4973, 'achieve': 4974, 'butler': 4975, 'promising': 4976, 'cope': 4977, 'packers': 4978, 'threeday': 4979, '92': 4980, 'recruitment': 4981, 'empire': 4982, 'differences': 4983, 'norman': 4984, 'tobacco': 4985, 'crop': 4986, 'indefinite': 4987, 'lived': 4988, 'worried': 4989, 'unbeaten': 4990, 'cautious': 4991, 'scenes': 4992, 'desperate': 4993, 'enhanced': 4994, 'audit': 4995, 'harrison': 4996, 'charging': 4997, 'rocker': 4998, 'wichita': 4999, 'younger': 5000, 'grocery': 5001, '350': 5002, 'albert': 5003, '39': 5004, 'ethics': 5005, 'elephant': 5006, 'levy': 5007, 'enable': 5008, 'allies': 5009, 'substance': 5010, 'boxer': 5011, 'unidentified': 5012, 'originally': 5013, 'strain': 5014, 'fugitive': 5015, 'slam': 5016, 'challenging': 5017, 'combined': 5018, 'amber': 5019, 'horror': 5020, 'diet': 5021, 'ram': 5022, 'grammy': 5023, 'ferry': 5024, 'amitabh': 5025, 'lakes': 5026, 'breakfast': 5027, 'beverly': 5028, 'yuan': 5029, 'danish': 5030, 'eva': 5031, 'packaging': 5032, 'christians': 5033, 'XVI': 5034, 'medicare': 5035, 'installed': 5036, 'vacant': 5037, 'dental': 5038, '4000': 5039, 'insurer': 5040, 'updates': 5041, 'treaty': 5042, 'simple': 5043, 'fix': 5044, 'distributor': 5045, 'luke': 5046, 'marc': 5047, 'lexington': 5048, 'governance': 5049, 'trends': 5050, 'rehabilitation': 5051, 'detention': 5052, 'norwich': 5053, 'assam': 5054, 'canal': 5055, 'dam': 5056, 'lesbian': 5057, 'striking': 5058, 'easier': 5059, 'promise': 5060, 'penguins': 5061, 'unprecedented': 5062, 'chicken': 5063, 'abducted': 5064, 'atomic': 5065, 'favor': 5066, 'medals': 5067, 'bullock': 5068, 'lifestyle': 5069, 'angel': 5070, 'bankers': 5071, 'raj': 5072, 'blind': 5073, 'jumps': 5074, 'nude': 5075, 'pattern': 5076, 'underground': 5077, 'SUV': 5078, 'punishment': 5079, 'tens': 5080, 'gaining': 5081, 'smuggling': 5082, 'boats': 5083, 'bound': 5084, 'hamid': 5085, 'grave': 5086, 'larger': 5087, 'lunch': 5088, '101': 5089, 'climb': 5090, '360': 5091, 'furniture': 5092, '130': 5093, 'le': 5094, '81': 5095, 'extremely': 5096, 'mounting': 5097, 'formal': 5098, 'marion': 5099, 'yields': 5100, 'tag': 5101, 'tablets': 5102, 'wrestling': 5103, 'substantial': 5104, 'covering': 5105, 'newman': 5106, 'pulling': 5107, 'salem': 5108, 'controls': 5109, 'fill': 5110, 'continental': 5111, 'wings': 5112, 'nurse': 5113, 'blocks': 5114, 'diseases': 5115, 'praise': 5116, 'reverse': 5117, 'FORMER': 5118, 'opponents': 5119, 'liver': 5120, 'volatile': 5121, 'swing': 5122, 'organised': 5123, 'letters': 5124, 'chopra': 5125, 'mohammed': 5126, 'leaked': 5127, 'mariah': 5128, 'outlets': 5129, 'responding': 5130, '58': 5131, 'delivering': 5132, 'electoral': 5133, 'apologised': 5134, '19yearold': 5135, 'oak': 5136, 'borders': 5137, 'arbitration': 5138, 'blair': 5139, 'syracuse': 5140, 'pupils': 5141, 'H1N1': 5142, 'beautiful': 5143, 'cemetery': 5144, 'accepts': 5145, 'bullet': 5146, 'norfolk': 5147, 'lisa': 5148, 'keys': 5149, 'challenged': 5150, 'unpaid': 5151, 'unanimously': 5152, 'bolton': 5153, 'titans': 5154, 'indecent': 5155, 'controlled': 5156, 'southeastern': 5157, 'explosive': 5158, 'IST': 5159, 'omaha': 5160, 'michele': 5161, 'FOCUS': 5162, 'download': 5163, 'employer': 5164, 'twilight': 5165, 'silence': 5166, 'feed': 5167, 'silicon': 5168, 'alqaeda': 5169, 'preferred': 5170, 'disorder': 5171, 'appoint': 5172, 'farms': 5173, 'flow': 5174, 'difference': 5175, 'McCarthy': 5176, 'coleman': 5177, 'emerge': 5178, 'trainer': 5179, 'gear': 5180, '87': 5181, 'refugee': 5182, 'hazare': 5183, 'fred': 5184, 'torn': 5185, 'acquitted': 5186, 'pump': 5187, 'inspection': 5188, 'HTC': 5189, 'admitting': 5190, 'McLaren': 5191, 'ecuador': 5192, 'billboard': 5193, 'yard': 5194, 'capable': 5195, 'crunch': 5196, 'skip': 5197, 'pollution': 5198, 'doping': 5199, 'recruiting': 5200, 'datuk': 5201, 'connect': 5202, 'calgary': 5203, 'quebec': 5204, 'spreading': 5205, 'shape': 5206, 'minneapolis': 5207, 'prompting': 5208, 'taipei': 5209, 'UEFA': 5210, 'gambling': 5211, 'comic': 5212, 'EUR': 5213, 'wages': 5214, 'acquiring': 5215, 'brady': 5216, 'romance': 5217, 'rb': 5218, 'withdrew': 5219, 'drinks': 5220, '69': 5221, 'BHP': 5222, 'oprah': 5223, 'deposits': 5224, 'pensions': 5225, 'transferred': 5226, 'protesting': 5227, 'quiet': 5228, 'vince': 5229, 'southwestern': 5230, 'LP': 5231, 'frontier': 5232, 'riot': 5233, 'genetic': 5234, 'filming': 5235, 'kabul': 5236, 'lahore': 5237, '25000': 5238, 'defeating': 5239, 'tibet': 5240, 'mamata': 5241, 'ashes': 5242, 'engineer': 5243, 'JPMorgan': 5244, 'creates': 5245, 'mainly': 5246, 'spurs': 5247, 'discount': 5248, 'insurgents': 5249, 'tesco': 5250, 'stages': 5251, 'vulnerable': 5252, 'andhra': 5253, 'reviews': 5254, 'weighed': 5255, '88': 5256, 'expo': 5257, 'kicking': 5258, 'serena': 5259, 'bryan': 5260, 'excessive': 5261, 'pose': 5262, 'benjamin': 5263, 'shoppers': 5264, 'closely': 5265, 'layoffs': 5266, 'fat': 5267, 'expensive': 5268, 'edinburgh': 5269, 'prestigious': 5270, 'hugh': 5271, 'blacks': 5272, 'apps': 5273, 'warnings': 5274, 'stones': 5275, 'subscribers': 5276, 'triplea': 5277, 'exgirlfriend': 5278, 'grounds': 5279, 'clooney': 5280, 'intent': 5281, 'rocky': 5282, 'rankings': 5283, 'newark': 5284, 'suu': 5285, 'kyi': 5286, 'monsoon': 5287, 'understand': 5288, 'hathaway': 5289, 'waived': 5290, 'singing': 5291, 'hull': 5292, 'cardiac': 5293, 'intervention': 5294, 'happen': 5295, 'recommended': 5296, 'ancient': 5297, 'indefinitely': 5298, 'retained': 5299, 'righthander': 5300, 'thomson': 5301, 'policeman': 5302, 'appointments': 5303, 'relay': 5304, 'bros': 5305, '125': 5306, 'anchor': 5307, 'server': 5308, '25th': 5309, 'seconds': 5310, 'wade': 5311, 'bombs': 5312, 'eliminate': 5313, 'wigan': 5314, 'roma': 5315, 'airtel': 5316, 'batsman': 5317, 'appealing': 5318, 'lambert': 5319, 'wars': 5320, 'cycle': 5321, 'aberdeen': 5322, 'else': 5323, 'experienced': 5324, 'pharmacy': 5325, 'voter': 5326, 'preparation': 5327, 'reconciliation': 5328, 'magnitude': 5329, 'capabilities': 5330, 'exwife': 5331, 'freddie': 5332, 'lifts': 5333, 'questioned': 5334, 'pretty': 5335, 'tentative': 5336, 'organized': 5337, 'restraining': 5338, 'cardiff': 5339, 'nathan': 5340, 'executed': 5341, 'innocent': 5342, 'peninsula': 5343, 'curb': 5344, 'cool': 5345, 'assad': 5346, 'mega': 5347, 'qualify': 5348, 'thackeray': 5349, 'breach': 5350, 'gate': 5351, 'obtained': 5352, 'vermont': 5353, 'longest': 5354, 'invitation': 5355, 'gallagher': 5356, 'creator': 5357, 'tulsa': 5358, 'execution': 5359, 'ronnie': 5360, 'suggest': 5361, 'vanessa': 5362, 'sebastian': 5363, 'stripped': 5364, 'ICC': 5365, 'athlete': 5366, 'moody': 5367, 'f': 5368, 'luis': 5369, 'catcher': 5370, 'emmy': 5371, 'bath': 5372, 'aguilera': 5373, 'civic': 5374, 'coastal': 5375, 'giffords': 5376, 'McDonald': 5377, 'shield': 5378, 'windsor': 5379, 'austrian': 5380, '22yearold': 5381, 'mohamed': 5382, 'spiritual': 5383, 'economist': 5384, 'appearing': 5385, 'willing': 5386, 'sensation': 5387, 'ecommerce': 5388, 'entitled': 5389, 'rubber': 5390, 'calm': 5391, 'fantasy': 5392, 'thousand': 5393, 'tsvangirai': 5394, 'muammar': 5395, 'mortgages': 5396, 'mohammad': 5397, 'rehman': 5398, 'wyoming': 5399, 'readers': 5400, 'thinking': 5401, 'assured': 5402, 'autopsy': 5403, 'availability': 5404, 'bench': 5405, 'dirty': 5406, '200000': 5407, 'horses': 5408, 'beta': 5409, 'therapy': 5410, 'guidelines': 5411, 'conrad': 5412, 'apr': 5413, '24yearold': 5414, 'santorum': 5415, 'sudanese': 5416, 'mad': 5417, 'jane': 5418, 'mayer': 5419, 'morris': 5420, 'prosecution': 5421, 'o': 5422, 'cedar': 5423, 'overdose': 5424, '89': 5425, '30000': 5426, 'merge': 5427, '110': 5428, 'hardware': 5429, 'kutcher': 5430, 'hang': 5431, 'wishes': 5432, 'impressive': 5433, 'albany': 5434, 'representing': 5435, 'backing': 5436, 'renews': 5437, 'secures': 5438, 'splits': 5439, 'speedway': 5440, 'angela': 5441, 'exposed': 5442, 'donation': 5443, 'bradford': 5444, 'indicated': 5445, 'heroes': 5446, 'canyon': 5447, 'pursue': 5448, 'focusing': 5449, 'nonprofit': 5450, 'tractor': 5451, 'regulation': 5452, 'burglaries': 5453, 'wickets': 5454, 'document': 5455, 'accounting': 5456, 'ranch': 5457, 'railways': 5458, 'gray': 5459, 'offenders': 5460, 'largely': 5461, 'molestation': 5462, 'harbor': 5463, 'SAP': 5464, 'nurses': 5465, '91': 5466, 'myers': 5467, 'TMZ': 5468, 'toss': 5469, 'favre': 5470, 'safely': 5471, 'tragedy': 5472, 'supermodel': 5473, 'oman': 5474, 'ones': 5475, 'g': 5476, 'natalie': 5477, 'reiterated': 5478, 'talked': 5479, 'arraigned': 5480, 'romanian': 5481, 'intersection': 5482, 'ivory': 5483, 'overweight': 5484, 'sit': 5485, 'citizenship': 5486, 'represent': 5487, 'button': 5488, 'raja': 5489, 'shoes': 5490, 'hiding': 5491, 'knot': 5492, 'socalled': 5493, 'bronze': 5494, 'encouraged': 5495, 'fabio': 5496, 'turner': 5497, 'navigation': 5498, 'disciplinary': 5499, 'mile': 5500, 'carriers': 5501, 'lessons': 5502, 'chargers': 5503, 'seem': 5504, 'janata': 5505, 'miliband': 5506, 'towns': 5507, 'demonstration': 5508, 'behalf': 5509, 'heavily': 5510, 'reed': 5511, 'loved': 5512, 'th': 5513, 'christchurch': 5514, 'maruti': 5515, 'badly': 5516, 'bang': 5517, 'valued': 5518, 'honors': 5519, 'misconduct': 5520, 'taxpayers': 5521, 'recovers': 5522, 'bharti': 5523, 'metropolitan': 5524, 'valentine': 5525, 'narendra': 5526, 'infringement': 5527, 'deported': 5528, 'harvard': 5529, 'antigovernment': 5530, 'ventures': 5531, 'manning': 5532, 'favour': 5533, 'maintained': 5534, 'certification': 5535, 'economists': 5536, 'derek': 5537, 'silvio': 5538, 'composer': 5539, 'lineman': 5540, 'bowler': 5541, 'framework': 5542, 'orchestra': 5543, 'OPEC': 5544, 'PPP': 5545, 'darren': 5546, 'pact': 5547, 'welsh': 5548, 'HD': 5549, 'harassment': 5550, 'kid': 5551, 'turkmenistan': 5552, 'disappointed': 5553, 'zsa': 5554, 'stevens': 5555, 'yellow': 5556, 'crossed': 5557, 'barton': 5558, 'attractive': 5559, 'baker': 5560, 'jewellery': 5561, 'winnipeg': 5562, 'scientist': 5563, 'overturned': 5564, 'transparency': 5565, 'mo': 5566, 'developments': 5567, 'teammate': 5568, 'depp': 5569, 'knew': 5570, 'renew': 5571, 'jean': 5572, 'require': 5573, 'charleston': 5574, 'triggered': 5575, 'simply': 5576, 'absolutely': 5577, 'woes': 5578, 'alleging': 5579, 'institution': 5580, 'carpet': 5581, 'bright': 5582, 'struggles': 5583, 'holders': 5584, 'speeding': 5585, 'AIDS': 5586, 'settles': 5587, 'explore': 5588, 'vicepresident': 5589, 'narrowly': 5590, 'leicester': 5591, 'widely': 5592, 'startup': 5593, 'belt': 5594, 'fines': 5595, 'finnish': 5596, 'ethiopia': 5597, 'discussions': 5598, 'tunisia': 5599, 'cooperate': 5600, '18th': 5601, 'vendor': 5602, 'rovers': 5603, 'pack': 5604, 'ideas': 5605, 'cornerback': 5606, 'contribution': 5607, 'likes': 5608, 'crush': 5609, 'suburb': 5610, 'mountains': 5611, 'midday': 5612, 'recruit': 5613, 'molesting': 5614, 'diaz': 5615, 'retain': 5616, 'resulted': 5617, 'answers': 5618, 'broker': 5619, 'cruz': 5620, 'arsene': 5621, '13th': 5622, 'OS': 5623, 'bennett': 5624, 'grown': 5625, 'tips': 5626, 'licensing': 5627, 'vincent': 5628, 'privately': 5629, '3G': 5630, 'statements': 5631, 'counter': 5632, 'prompted': 5633, 'pratt': 5634, 'essex': 5635, 'sustainability': 5636, 'proved': 5637, 'choose': 5638, 'exciting': 5639, 'doherty': 5640, 'remembered': 5641, 'swansea': 5642, 'handling': 5643, 'influential': 5644, 'drives': 5645, 'miranda': 5646, 'thriller': 5647, 'richardson': 5648, 'malta': 5649, 'bolt': 5650, 'catherine': 5651, 'bolster': 5652, 'garbage': 5653, 'clearing': 5654, 'miner': 5655, 'cheap': 5656, 'transmission': 5657, 'vacation': 5658, 'margaret': 5659, 'rockies': 5660, '2nd': 5661, 'k': 5662, 'logo': 5663, 'occasion': 5664, 'pond': 5665, 'thunder': 5666, 'extensive': 5667, 'magistrate': 5668, 'orissa': 5669, 'effectively': 5670, 'henderson': 5671, 'excited': 5672, 'hijacked': 5673, 'jharkhand': 5674, 'install': 5675, 'blockbuster': 5676, 'sena': 5677, 'knows': 5678, 'relatives': 5679, 'extraordinary': 5680, 'plunge': 5681, 'naomi': 5682, 'celebrities': 5683, 'avalanche': 5684, 'hartford': 5685, 'shootings': 5686, 'cuomo': 5687, 'reduces': 5688, 'discover': 5689, 'bruins': 5690, 'walter': 5691, 'noble': 5692, 'autism': 5693, 'archbishop': 5694, 'views': 5695, 'conn': 5696, 'renowned': 5697, 'cox': 5698, 'nicki': 5699, 'minaj': 5700, 'foreigners': 5701, 'ally': 5702, 'manuel': 5703, 'arrival': 5704, '14th': 5705, 'procedure': 5706, 'fought': 5707, 'risen': 5708, 'hospitalised': 5709, 'finishing': 5710, 'acquisitions': 5711, 'exporters': 5712, 'salaries': 5713, 'paterson': 5714, 'banerjee': 5715, 'herald': 5716, 'bust': 5717, 'sorry': 5718, '79': 5719, 'tucson': 5720, 'criminals': 5721, 'ave': 5722, 'routine': 5723, 'pune': 5724, 'devastating': 5725, 'cement': 5726, 'gallery': 5727, 'peterson': 5728, 'mistakes': 5729, '25yearold': 5730, 'DNA': 5731, 'kingston': 5732, 'trooper': 5733, 'hurricanes': 5734, 'cheney': 5735, 'neighbours': 5736, 'TWO': 5737, 'doubleheader': 5738, 'satyam': 5739, 'stoke': 5740, 'sofia': 5741, 'religion': 5742, 'richie': 5743, 'des': 5744, 'platinum': 5745, 'ailing': 5746, 'oxford': 5747, 'brent': 5748, 'survives': 5749, 'apologises': 5750, 'analytics': 5751, 'grace': 5752, 'regrets': 5753, 'yorkshire': 5754, 'UCLA': 5755, 'advisers': 5756, 'iTunes': 5757, 'cannon': 5758, 'doubt': 5759, 'blagojevich': 5760, 'jamaica': 5761, 'abused': 5762, 'strengthening': 5763, 'mum': 5764, 'adele': 5765, 'cream': 5766, 'kenyan': 5767, 'villages': 5768, 'associate': 5769, 'oath': 5770, 'chair': 5771, 'teammates': 5772, 'turmoil': 5773, '2016': 5774, 'liquidity': 5775, 'cricketer': 5776, 'boosting': 5777, 'optimistic': 5778, 'colombo': 5779, 'minogue': 5780, 'hearts': 5781, 'witherspoon': 5782, 'correspondent': 5783, 'lowered': 5784, 'fights': 5785, 'acclaimed': 5786, 'logistics': 5787, 'strategies': 5788, 'statue': 5789, 'newborn': 5790, 'michaels': 5791, 'develops': 5792, 'marlins': 5793, 'meant': 5794, 'omar': 5795, 'intention': 5796, 'handle': 5797, 'footballer': 5798, 'profile': 5799, 'modest': 5800, 'wheel': 5801, 'checkpoint': 5802, 'equal': 5803, 'essential': 5804, 'threaten': 5805, 'fulham': 5806, 'stemming': 5807, 'travelling': 5808, 'mainland': 5809, 'eliminated': 5810, 'ladies': 5811, 'heather': 5812, 'cues': 5813, 'battled': 5814, 'dawn': 5815, 'ET': 5816, 'infielder': 5817, 'starbucks': 5818, 'capello': 5819, 'container': 5820, 'rudd': 5821, 'stretch': 5822, 'improvements': 5823, 'confessed': 5824, 'concept': 5825, 'veto': 5826, 'rainfall': 5827, 'superintendent': 5828, 'LONDON': 5829, 'mini': 5830, 'finale': 5831, 'seconddegree': 5832, 'WOMAN': 5833, '15th': 5834, 'aiming': 5835, 'SC': 5836, '000': 5837, '2002': 5838, 'booked': 5839, 'boom': 5840, 'drill': 5841, 'personality': 5842, 'geneva': 5843, 'halted': 5844, 'swan': 5845, 'urge': 5846, 'colts': 5847, 'carroll': 5848, 'councillors': 5849, 'rebuild': 5850, 'couples': 5851, 'insisting': 5852, 'meters': 5853, 'lucas': 5854, 'glen': 5855, 'solve': 5856, 'camps': 5857, 'briefing': 5858, 'tumor': 5859, 'kirk': 5860, 'sindh': 5861, 'humans': 5862, 'severely': 5863, 'travis': 5864, 'minn': 5865, 'margin': 5866, 'plate': 5867, '225': 5868, 'sharon': 5869, 'niagara': 5870, 'LOS': 5871, 'journey': 5872, 'performances': 5873, 'boris': 5874, 'astros': 5875, 'campaigns': 5876, '7th': 5877, 'listing': 5878, 'advocates': 5879, \"o'brien\": 5880, 'lab': 5881, 'ports': 5882, 'repairs': 5883, 'rams': 5884, 'walsh': 5885, 'sweeping': 5886, 'qualified': 5887, 'mogul': 5888, 'winfrey': 5889, 'IPL': 5890, 'revealing': 5891, 'stuart': 5892, 'filled': 5893, 'writers': 5894, 'hacked': 5895, 'holder': 5896, 'torture': 5897, 'punched': 5898, 'cooperative': 5899, 'declaring': 5900, 'whale': 5901, 'glenn': 5902, 'corn': 5903, 'GDP': 5904, 'duncan': 5905, 'convertible': 5906, 'jumping': 5907, 'nile': 5908, 'defamation': 5909, 'bonuses': 5910, 'notre': 5911, 'affecting': 5912, 'contractors': 5913, 'gilbert': 5914, 'mercury': 5915, 'bancorp': 5916, 'fouryear': 5917, 'daytona': 5918, 'spell': 5919, 'skype': 5920, 'posed': 5921, 'elite': 5922, 'thin': 5923, 'reorganization': 5924, 'treasurer': 5925, 'outsourcing': 5926, 'referee': 5927, 'sergio': 5928, 'ryder': 5929, 'jintao': 5930, 'burst': 5931, 'encourage': 5932, 'wallace': 5933, 'LG': 5934, 'function': 5935, 'richards': 5936, 'mansion': 5937, 'barn': 5938, 'valuable': 5939, 'cats': 5940, 'bangkok': 5941, 'batch': 5942, 'prepaid': 5943, 'promotions': 5944, 'tyson': 5945, 'alberto': 5946, 'di': 5947, 'concerts': 5948, 'impose': 5949, 'dragged': 5950, 'gardens': 5951, 'dying': 5952, 'paso': 5953, 'parked': 5954, 'GE': 5955, 'housewives': 5956, 'pipe': 5957, 'johansson': 5958, 'freshman': 5959, 'sierra': 5960, 'donate': 5961, 'format': 5962, 'invites': 5963, 'planet': 5964, 'crane': 5965, 'brook': 5966, 'portal': 5967, 'hanged': 5968, 'purchased': 5969, 'hamstring': 5970, 'vehicular': 5971, 'containing': 5972, 'resulting': 5973, 'istanbul': 5974, 'complications': 5975, 'unconscious': 5976, 'inventories': 5977, 'rapidly': 5978, 'intensive': 5979, 'grass': 5980, 'jakarta': 5981, 'radical': 5982, 'reception': 5983, '4th': 5984, 'plenty': 5985, 'finances': 5986, 'USbased': 5987, 'beatles': 5988, 'laura': 5989, 'sweet': 5990, 'unified': 5991, 'quarterfinal': 5992, 'HBO': 5993, 'rajya': 5994, 'suisse': 5995, 'helen': 5996, 'efficient': 5997, 'bombings': 5998, 'bottle': 5999, 'survivors': 6000, 'manila': 6001, 'rays': 6002, 'gathering': 6003, 'carrie': 6004, 'deciding': 6005, 'generate': 6006, 'bout': 6007, 'traveling': 6008, 'possessing': 6009, 'solidarity': 6010, 'australians': 6011, 'imported': 6012, 'stomach': 6013, 'ANGELES': 6014, 'inspector': 6015, 'offerings': 6016, 'strausskahn': 6017, 'compromise': 6018, 'outage': 6019, '15000': 6020, 'hungarian': 6021, 'violated': 6022, 'enjoyed': 6023, 'participants': 6024, 'provinces': 6025, 'riverside': 6026, 'seekers': 6027, 'sudden': 6028, 'greene': 6029, 'tweet': 6030, 'expelled': 6031, 'studying': 6032, '1200': 6033, 'infosys': 6034, 'map': 6035, 'fleeing': 6036, 'shoe': 6037, 'throat': 6038, 'iOS': 6039, 'intended': 6040, 'betty': 6041, 'recognize': 6042, 'acute': 6043, 'activated': 6044, 'newport': 6045, 'saskatchewan': 6046, 'sponsorship': 6047, 'dayton': 6048, '300000': 6049, 'noted': 6050, 'walks': 6051, 'endorsement': 6052, 'racial': 6053, 'marries': 6054, 'grows': 6055, 'repeatedly': 6056, 'segment': 6057, 'muscle': 6058, 'nose': 6059, '18yearold': 6060, 'specific': 6061, 'turbine': 6062, 'bullish': 6063, '28yearold': 6064, 'percentage': 6065, 'borough': 6066, 'wolf': 6067, 'remake': 6068, 'subway': 6069, 'partial': 6070, 'explains': 6071, 'DVD': 6072, 'collective': 6073, 'flyers': 6074, 'wifi': 6075, 'productivity': 6076, 'associates': 6077, 'exactly': 6078, 'remanded': 6079, 'colleagues': 6080, 'rebounded': 6081, 'reese': 6082, 'vijay': 6083, 'duo': 6084, 'l': 6085, 'withdrawal': 6086, 'sensitive': 6087, 'pills': 6088, 'nikkei': 6089, 'historical': 6090, 'qualifier': 6091, 'revive': 6092, 'knicks': 6093, 'riley': 6094, 'distribute': 6095, 'awaited': 6096, 'sanjay': 6097, 'goa': 6098, 'ages': 6099, 'slated': 6100, 'broking': 6101, 'macedonia': 6102, 'wii': 6103, 'marketplace': 6104, 'assessment': 6105, 'stateowned': 6106, 'detective': 6107, 'serie': 6108, 'organisers': 6109, '19th': 6110, 'tinto': 6111, 'soil': 6112, 'touched': 6113, 'load': 6114, 'circle': 6115, 'rap': 6116, 'proceedings': 6117, 'adrian': 6118, 'govt': 6119, 'resorts': 6120, 'quest': 6121, 'eds': 6122, 'rounds': 6123, 'presenter': 6124, 'singles': 6125, 'implemented': 6126, 'CA': 6127, 'encouraging': 6128, 'petersburg': 6129, 'strict': 6130, 'drawn': 6131, 'portion': 6132, 'krishna': 6133, 'contender': 6134, 'addresses': 6135, 'licenses': 6136, 'flags': 6137, 'tours': 6138, 'bailey': 6139, 'buzz': 6140, 'meals': 6141, 'owns': 6142, 'deployed': 6143, 'secondlargest': 6144, 'publication': 6145, 'bundesliga': 6146, 'merrill': 6147, 'laundering': 6148, 'croatia': 6149, 'attorneys': 6150, 'tire': 6151, 'raids': 6152, 'consequences': 6153, 'spice': 6154, 'karl': 6155, 'banning': 6156, 'ryanair': 6157, 'brooks': 6158, 'baptist': 6159, 'patil': 6160, 'sentencing': 6161, 'wonder': 6162, 'method': 6163, 'displaced': 6164, 'retreat': 6165, 'burglar': 6166, 'premiership': 6167, 'palmer': 6168, 'boulevard': 6169, 'extradition': 6170, 'bribery': 6171, 'scarlett': 6172, 'chronic': 6173, 'raul': 6174, 'ex': 6175, 'tougher': 6176, 'mourinho': 6177, 'contained': 6178, 'stressed': 6179, 'opposed': 6180, 'na': 6181, 'protected': 6182, 'graduation': 6183, 'timothy': 6184, 'plotting': 6185, 'kyrgyz': 6186, 'neighbor': 6187, 'courthouse': 6188, 'carmaker': 6189, 'maintaining': 6190, 'garcia': 6191, '6000': 6192, '30yearold': 6193, 'kiss': 6194, 'elect': 6195, 'certificate': 6196, 'gender': 6197, 'joey': 6198, 'powell': 6199, 'cage': 6200, '23yearold': 6201, 'headon': 6202, 'erupted': 6203, 'yousuf': 6204, 'sharapova': 6205, 'billiton': 6206, 'providence': 6207, 'approached': 6208, 'reckless': 6209, 'spree': 6210, 'hikes': 6211, 'mandatory': 6212, 'credits': 6213, 'gala': 6214, 'asthma': 6215, 'brokerage': 6216, 'policemen': 6217, 'tattoo': 6218, 'bachmann': 6219, 'soaring': 6220, 'proper': 6221, 'uganda': 6222, 'finishes': 6223, 'tripoli': 6224, 'shuts': 6225, 'halifax': 6226, 'retains': 6227, 'wilmington': 6228, 'repeal': 6229, 'golfer': 6230, 'offense': 6231, 'hornets': 6232, 'exercises': 6233, 'maple': 6234, 'components': 6235, 'reynolds': 6236, 'surprised': 6237, 'permit': 6238, 'hopkins': 6239, 'trigger': 6240, '93': 6241, 'pointed': 6242, 'consultancy': 6243, 'stick': 6244, 'fate': 6245, 'fever': 6246, 'durham': 6247, 'nervous': 6248, '15yearold': 6249, 'contributions': 6250, 'vietnamese': 6251, 'advocate': 6252, 'investigations': 6253, 'zambia': 6254, 'surface': 6255, 'participating': 6256, 'warrants': 6257, 'reward': 6258, '4G': 6259, 'hosni': 6260, 'ellen': 6261, 'autumn': 6262, 'symphony': 6263, 'gabrielle': 6264, 'jaguars': 6265, 'combine': 6266, 'fruit': 6267, 'djokovic': 6268, 'oscarwinning': 6269, 'issuing': 6270, 'contribute': 6271, 'blames': 6272, 'depot': 6273, 'volkswagen': 6274, 'juvenile': 6275, 'thief': 6276, 'dominican': 6277, 'incumbent': 6278, 'excellent': 6279, 'hindu': 6280, 'oliver': 6281, 'IPO': 6282, 'peoples': 6283, 'reddy': 6284, 'rev': 6285, 'counterfeit': 6286, 'debts': 6287, 'riders': 6288, 'earns': 6289, 'weakens': 6290, 'metres': 6291, 'circumstances': 6292, 'revival': 6293, 'grandmother': 6294, 'tension': 6295, 'sidelined': 6296, 'apparel': 6297, 'geithner': 6298, 'teach': 6299, 'picking': 6300, 'foul': 6301, 'slovenia': 6302, 'fiery': 6303, 'utilities': 6304, 'exclusively': 6305, 'horizon': 6306, 'polling': 6307, 'du': 6308, 'suppliers': 6309, 'ambitious': 6310, 'iceland': 6311, 'wrist': 6312, 'guests': 6313, 'enjoying': 6314, 'tip': 6315, 'AOL': 6316, 'organizers': 6317, 'hamburg': 6318, 'truth': 6319, 'penalties': 6320, 'homeland': 6321, 'sheffield': 6322, 'NYC': 6323, 'steam': 6324, 'ahmad': 6325, 'seasonal': 6326, 'guinea': 6327, 'silva': 6328, 'voluntarily': 6329, 'stories': 6330, 'pierce': 6331, 'governing': 6332, 'spoken': 6333, 'mosque': 6334, 'texans': 6335, 'administrator': 6336, 'presidents': 6337, 'humphries': 6338, 'imran': 6339, 'gazprom': 6340, 'diving': 6341, 'longoria': 6342, 'addressing': 6343, 'automation': 6344, 'domain': 6345, 'nets': 6346, 'portuguese': 6347, 'maintains': 6348, 'reliever': 6349, 'maps': 6350, 'dismisses': 6351, 'uk': 6352, 'vick': 6353, 'sparks': 6354, 'carnival': 6355, 'lashed': 6356, 'faulty': 6357, 'unusual': 6358, 'partially': 6359, 'amazoncom': 6360, 'alqaida': 6361, 'blew': 6362, 'compound': 6363, 'globally': 6364, 'resigning': 6365, 'stood': 6366, 'paise': 6367, 'leonardo': 6368, 'dreams': 6369, 'der': 6370, '3rd': 6371, 'prayer': 6372, 'brokers': 6373, 'mothers': 6374, 'facilitate': 6375, 'compact': 6376, 'malawi': 6377, 'amtrak': 6378, 'laboratory': 6379, 'sheet': 6380, 'kingfisher': 6381, 'lanes': 6382, 'wider': 6383, 'typhoon': 6384, 'greenhouse': 6385, 'brawl': 6386, 'courses': 6387, 'sentences': 6388, 'rhode': 6389, 'ledger': 6390, 'bankrupt': 6391, 'bruno': 6392, 'novak': 6393, 'priyanka': 6394, 'rough': 6395, 'aerospace': 6396, 'astronaut': 6397, 'packages': 6398, 'harvest': 6399, 'restructure': 6400, 'institutional': 6401, 'schumacher': 6402, 'dhoni': 6403, 'imprisonment': 6404, 'tap': 6405, 'hinted': 6406, 'aden': 6407, 'sponsored': 6408, 'moments': 6409, 'crazy': 6410, 'alicia': 6411, 'adoption': 6412, 'sidelines': 6413, 'presentation': 6414, 'tenn': 6415, 'firearms': 6416, 'eBay': 6417, 'symptoms': 6418, 'hezbollah': 6419, 'spin': 6420, 'edges': 6421, 'appealed': 6422, 'completing': 6423, 'poisoning': 6424, 'shaun': 6425, 'panasonic': 6426, 'europa': 6427, 'plymouth': 6428, 'patel': 6429, '14yearold': 6430, 'mandate': 6431, 'brutal': 6432, 'concrete': 6433, 'disputes': 6434, 'bhd': 6435, 'gym': 6436, 'robbers': 6437, 'households': 6438, 'universe': 6439, 'testify': 6440, 'hawks': 6441, 'instruments': 6442, 'excellence': 6443, 'videos': 6444, 'advani': 6445, 'backup': 6446, 'consensus': 6447, 'slain': 6448, '17th': 6449, 'bitter': 6450, '40th': 6451, 'romantic': 6452, 'posing': 6453, 'dragon': 6454, 'sank': 6455, 'yards': 6456, 'felipe': 6457, 'u': 6458, '94': 6459, 'rover': 6460, 'queens': 6461, 'laptop': 6462, 'bold': 6463, 'volatility': 6464, '59': 6465, 'destroy': 6466, 'steep': 6467, 'drake': 6468, 'canucks': 6469, 'ditch': 6470, 'pearl': 6471, 'empty': 6472, 'marines': 6473, 'mercy': 6474, 'hammer': 6475, 'sluggish': 6476, 'aussie': 6477, 'lays': 6478, 'cellular': 6479, 'fresno': 6480, 'counterparts': 6481, 'saves': 6482, 'breakthrough': 6483, 'fiat': 6484, 'medicines': 6485, 'nuggets': 6486, 'addressed': 6487, 'congratulated': 6488, 'claire': 6489, 'ashok': 6490, 'cristiano': 6491, 'chips': 6492, 'engines': 6493, 'NZ': 6494, 'suddenly': 6495, 'intense': 6496, 'motel': 6497, 'lockout': 6498, 'reelected': 6499, 'LSU': 6500, 'symbol': 6501, 'destinations': 6502, 'angola': 6503, 'intellectual': 6504, 'hackers': 6505, 'perhaps': 6506, 'damaging': 6507, 'subsidiaries': 6508, 'tmobile': 6509, 'belfast': 6510, 'invested': 6511, 'oppose': 6512, 'marie': 6513, 'volcano': 6514, '2500': 6515, 'troy': 6516, 'clemens': 6517, 'croatian': 6518, 'renault': 6519, 'pelosi': 6520, 'plaza': 6521, 'pursuit': 6522, 'administrators': 6523, 'multimillion': 6524, 'mae': 6525, 'airlifted': 6526, 'covers': 6527, 'jun': 6528, 'checked': 6529, 'khloe': 6530, 'spends': 6531, 'mysterious': 6532, 'facial': 6533, 'lawsuits': 6534, 'bounced': 6535, 'disrupted': 6536, 'CIA': 6537, 'chilean': 6538, 'explain': 6539, 'cain': 6540, 'mate': 6541, 'perez': 6542, 'councillor': 6543, 'bend': 6544, 'legs': 6545, 'coyotes': 6546, 'scanner': 6547, 'printing': 6548, 'amazing': 6549, 'loaded': 6550, 'pretax': 6551, 'soap': 6552, 'covered': 6553, 'panthers': 6554, 'offseason': 6555, 'inappropriate': 6556, 'andrews': 6557, 'eyed': 6558, 'devils': 6559, 'proceeds': 6560, 'snapped': 6561, 'publicist': 6562, 'confrontation': 6563, 'RBI': 6564, 'chaos': 6565, 'pirate': 6566, 'shipments': 6567, 'permanently': 6568, '6th': 6569, 'spotlight': 6570, 'wed': 6571, 'projected': 6572, 'santos': 6573, 'workplace': 6574, 'swings': 6575, 'pensioner': 6576, 'lieutenant': 6577, 'singersongwriter': 6578, 'degrees': 6579, 'laser': 6580, 'neighbors': 6581, 'protecting': 6582, 'aamir': 6583, 'dubbed': 6584, 'stunning': 6585, 'arthur': 6586, 'connected': 6587, 'consolidation': 6588, 'challenger': 6589, 'patents': 6590, 'rossi': 6591, 'smashed': 6592, 'cruises': 6593, 'bridges': 6594, 'quitting': 6595, 'bingo': 6596, 'doug': 6597, 'trio': 6598, 'castle': 6599, 'nova': 6600, 'travelers': 6601, 'economics': 6602, 'tel': 6603, 'jayz': 6604, 'diana': 6605, 'strengthens': 6606, 'reputation': 6607, 'priced': 6608, 'convert': 6609, 'flee': 6610, 'popularity': 6611, 'luck': 6612, 'roots': 6613, 'buyout': 6614, 'seal': 6615, '250000': 6616, 'kidnap': 6617, '97': 6618, 'entrepreneurs': 6619, 'rifle': 6620, 'nice': 6621, 'willis': 6622, 'nobody': 6623, 'filipino': 6624, 'playboy': 6625, 'relegation': 6626, 'exhusband': 6627, 'falcons': 6628, 'pressures': 6629, 'somerset': 6630, 'lighting': 6631, 'bernie': 6632, 'cardinal': 6633, 'grey': 6634, 'demonstrators': 6635, 'endangered': 6636, 'desire': 6637, 'uncertain': 6638, 'batting': 6639, 'reflecting': 6640, 'prairie': 6641, 'bee': 6642, 'relative': 6643, 'endeavour': 6644, 'detectives': 6645, 'SEC': 6646, 'columnist': 6647, 'rd': 6648, 'underwood': 6649, 'dip': 6650, 'etihad': 6651, 'toys': 6652, 'unite': 6653, 'cavaliers': 6654, 'snap': 6655, 'spray': 6656, 'collect': 6657, 'collected': 6658, 'plains': 6659, '05': 6660, 'cal': 6661, 'fisherman': 6662, 'anger': 6663, 'mobility': 6664, 'sleeping': 6665, 'bombers': 6666, 'cannabis': 6667, 'regain': 6668, 'tumbled': 6669, 'wizards': 6670, 'seizure': 6671, 'jorge': 6672, 'shutting': 6673, 'preston': 6674, 'caution': 6675, 'toilet': 6676, 'arrangements': 6677, 'twotime': 6678, 'jeffrey': 6679, 'calendar': 6680, 'sometime': 6681, 'fierce': 6682, 'fractured': 6683, 'radiation': 6684, 'widened': 6685, 'constable': 6686, 'comfortable': 6687, 'dominated': 6688, 'SAN': 6689, 'struggled': 6690, 'jockey': 6691, 'laying': 6692, 'invitational': 6693, 'dominique': 6694, '140': 6695, 'purpose': 6696, 'precious': 6697, 'reference': 6698, 'approaching': 6699, 'forming': 6700, 'moral': 6701, 'underage': 6702, '02': 6703, 'tear': 6704, 'reunited': 6705, 'MySpace': 6706, 'harvey': 6707, 'presenting': 6708, 'reject': 6709, 'gubernatorial': 6710, 'diamondbacks': 6711, 'rica': 6712, 'ASEAN': 6713, 'trader': 6714, 'setback': 6715, 'uniform': 6716, 'publish': 6717, 'yadav': 6718, 'burma': 6719, 'JP': 6720, 'hoped': 6721, 'hidden': 6722, 'holland': 6723, 'padres': 6724, 'chuck': 6725, 'notices': 6726, 'medicaid': 6727, 'exchanges': 6728, 'ash': 6729, 'scouts': 6730, 'satellites': 6731, 'afraid': 6732, 'hell': 6733, 'victor': 6734, 'myself': 6735, 'wet': 6736, 'marco': 6737, 'organic': 6738, 'barrier': 6739, 't': 6740, 'apartments': 6741, 'dementia': 6742, 'youngest': 6743, 'municipality': 6744, 'sweeps': 6745, 'sanford': 6746, 'merchant': 6747, 'exam': 6748, 'congratulates': 6749, 'expresses': 6750, 'shutdown': 6751, 'sequel': 6752, 'findings': 6753, 'inauguration': 6754, 'bengals': 6755, 'cheated': 6756, 'li': 6757, 'rodgers': 6758, 'faculty': 6759, 'lionel': 6760, 'revenge': 6761, 'pitches': 6762, 'satisfaction': 6763, 'formation': 6764, 'ranking': 6765, 'shortages': 6766, 'coup': 6767, 'biopic': 6768, 'teeth': 6769, 'interbank': 6770, 'pig': 6771, 'webber': 6772, 'firstquarter': 6773, 'stamford': 6774, 'neglect': 6775, 'anil': 6776, 'showcase': 6777, 'messaging': 6778, 'flew': 6779, 'submit': 6780, 'recommendations': 6781, 'worlds': 6782, 'slid': 6783, 'goodwill': 6784, 'sometimes': 6785, 'cocacola': 6786, 'boil': 6787, 'mick': 6788, 'lock': 6789, 'taste': 6790, 'reaction': 6791, 'FDA': 6792, 'self': 6793, 'floating': 6794, 'joy': 6795, 'maoist': 6796, 'disabilities': 6797, 'consultation': 6798, 'damon': 6799, 'bharatiya': 6800, 'railroad': 6801, 'monica': 6802, 'myrtle': 6803, 'requires': 6804, 'mph': 6805, 'yacht': 6806, 'ponting': 6807, 'epic': 6808, 'benitez': 6809, 'tipped': 6810, 'gifts': 6811, 'tracy': 6812, 'helicopters': 6813, 'folk': 6814, 'tanzania': 6815, 'samuel': 6816, 'simmons': 6817, 'pets': 6818, 'removal': 6819, 'requested': 6820, 'highlights': 6821, 'courtroom': 6822, 'shortfall': 6823, 'adopts': 6824, 'paula': 6825, 'blackhawks': 6826, 'hails': 6827, 'detected': 6828, 'UPA': 6829, 'heating': 6830, 'willie': 6831, 'equality': 6832, '04': 6833, 'evacuate': 6834, 'sat': 6835, 'slowly': 6836, 'lou': 6837, 'insurers': 6838, 'crossborder': 6839, 'shale': 6840, 'amsterdam': 6841, 'greenback': 6842, 'surcharge': 6843, 'outages': 6844, 'restricted': 6845, 'swung': 6846, 'assassination': 6847, 'earthquakes': 6848, 'duchess': 6849, 'ousted': 6850, '1100': 6851, 'dogg': 6852, 'achievement': 6853, 'aung': 6854, '26yearold': 6855, 'distributed': 6856, 'toxic': 6857, 'megan': 6858, 'tanks': 6859, 'agreeing': 6860, 'anthem': 6861, 'meaning': 6862, 'youngsters': 6863, 'overtime': 6864, '201112': 6865, 'territorial': 6866, 'rukh': 6867, 'progressive': 6868, 'anonymous': 6869, 'casinos': 6870, 'mode': 6871, 'ms': 6872, 'ramp': 6873, 'indicating': 6874, 'founding': 6875, 'lone': 6876, 'eventually': 6877, 'tragic': 6878, 'medium': 6879, 'stalled': 6880, 'reinstated': 6881, 'surrender': 6882, 'beaches': 6883, 'chrome': 6884, 'hat': 6885, 'firstdegree': 6886, 'patch': 6887, 'lover': 6888, 'poses': 6889, 'relating': 6890, 'matters': 6891, 'opposite': 6892, 'portman': 6893, 'preserve': 6894, 'daughters': 6895, 'decides': 6896, 'maiden': 6897, 'approaches': 6898, 'busch': 6899, 'openly': 6900, 'runner': 6901, 'boosts': 6902, 'parkway': 6903, 'governors': 6904, 'draws': 6905, 'automatic': 6906, 'concerning': 6907, 'stance': 6908, '16yearold': 6909, 'broader': 6910, 'deployment': 6911, 'distributing': 6912, 'farewell': 6913, 'sanders': 6914, 'pointing': 6915, 'abbey': 6916, 'introduction': 6917, 'slight': 6918, 'acid': 6919, 'islamist': 6920, 'councilman': 6921, 'guitar': 6922, 'puppy': 6923, 'sara': 6924, 'wilkinson': 6925, 'battles': 6926, 'halloween': 6927, 'removing': 6928, 'accusations': 6929, 'combination': 6930, '21st': 6931, 'pine': 6932, 'mesa': 6933, 'passport': 6934, 'jointly': 6935, 'transactions': 6936, 'jenkins': 6937, 'platforms': 6938, 'scholarship': 6939, 'westminster': 6940, 'appropriate': 6941, 'legacy': 6942, 'flown': 6943, 'EA': 6944, 'AAA': 6945, 'particular': 6946, 'arriving': 6947, 'designs': 6948, \"o'neal\": 6949, 'shocking': 6950, '30th': 6951, 'dutt': 6952, 'questioning': 6953, 'blackpool': 6954, 'rig': 6955, 'salvation': 6956, 'runoff': 6957, 'massacre': 6958, 'rage': 6959, 'councils': 6960, 'integrity': 6961, 'handset': 6962, 'lobby': 6963, 'isle': 6964, 'error': 6965, 'herman': 6966, 'bombay': 6967, 'gosselin': 6968, 'volumes': 6969, 'donor': 6970, 'foreclosures': 6971, 'scotia': 6972, 'humanity': 6973, 'mayweather': 6974, 'boards': 6975, 'hemsworth': 6976, 'clears': 6977, 'lauren': 6978, 'ballots': 6979, 'jackie': 6980, 'aware': 6981, 'mavericks': 6982, 'harbour': 6983, 'morocco': 6984, 'halle': 6985, 'barrels': 6986, 'panic': 6987, 'elements': 6988, 'venue': 6989, 'adjusted': 6990, 'h': 6991, 'noel': 6992, 'maldives': 6993, 'riots': 6994, 'tighten': 6995, 'ramirez': 6996, 'indie': 6997, 'mechanism': 6998, 'wallabies': 6999, 'raymond': 7000, 'gunshot': 7001, 'dhaka': 7002, 'olmert': 7003, 'ejected': 7004, 'dpa': 7005, 'reconstruction': 7006, 'axe': 7007, 'clayton': 7008, 'legislators': 7009, 'erie': 7010, 'burnt': 7011, 'maybe': 7012, 'wash': 7013, 'punch': 7014, 'programmes': 7015, 'eligible': 7016, 'ceiling': 7017, 'mistake': 7018, 'reviewing': 7019, 'battered': 7020, 'reservation': 7021, 'grenade': 7022, 'XI': 7023, 'valencia': 7024, 'huntington': 7025, 'cooking': 7026, 'stating': 7027, 'predicts': 7028, 'admit': 7029, 'malcolm': 7030, 'km': 7031, 'khalifa': 7032, 'lots': 7033, 'stayed': 7034, 'O2': 7035, 'tweets': 7036, '175': 7037, 'driveby': 7038, 'surrendered': 7039, 'allrounder': 7040, 'dump': 7041, 'tiny': 7042, 'thank': 7043, 'carson': 7044, 'planting': 7045, '5th': 7046, 'morrison': 7047, 'replaces': 7048, 'welterweight': 7049, 'dynamics': 7050, 'kobe': 7051, '99': 7052, 'kurdish': 7053, 'allocation': 7054, 'addiction': 7055, 'signature': 7056, 'WBC': 7057, 'hussain': 7058, 'kidman': 7059, 'dengue': 7060, 'carlo': 7061, 'introducing': 7062, 'highspeed': 7063, 'manner': 7064, 'anand': 7065, 'vienna': 7066, 'difficulties': 7067, 'roughly': 7068, 'sexy': 7069, 'reunion': 7070, 'testimony': 7071, '15day': 7072, 'antony': 7073, 'subsidies': 7074, 'USC': 7075, 'quake': 7076, '160': 7077, 'recreation': 7078, 'explosives': 7079, 'rwanda': 7080, 'snoop': 7081, 'origin': 7082, 'gossip': 7083, 'LTE': 7084, 'minors': 7085, 'derivatives': 7086, '2001': 7087, 'procedures': 7088, 'sullivan': 7089, 'mix': 7090, 'bafana': 7091, 'clegg': 7092, 'ounce': 7093, 'mouth': 7094, 'tycoon': 7095, 'nato': 7096, 'highprofile': 7097, 'marginally': 7098, 'repeat': 7099, 'glory': 7100, 'indoor': 7101, 'respectively': 7102, '201011': 7103, 'requests': 7104, 'chocolate': 7105, 'balotelli': 7106, 'waive': 7107, 'lynn': 7108, 'blasted': 7109, 'toy': 7110, 'repay': 7111, 'sum': 7112, 'da': 7113, 'arlington': 7114, 'yield': 7115, 'telegraph': 7116, 'unexpected': 7117, 'stern': 7118, 'criticized': 7119, 'lightweight': 7120, 'subscription': 7121, 'vale': 7122, 'micro': 7123, 'operated': 7124, 'reunite': 7125, 'gig': 7126, 'altercation': 7127, 'aviv': 7128, '400000': 7129, 'nottingham': 7130, 'exhibit': 7131, 'telekom': 7132, 'corrupt': 7133, 'proof': 7134, 'brewer': 7135, 'seng': 7136, 'lowers': 7137, 'explodes': 7138, 'yoga': 7139, 'consortium': 7140, 'srinagar': 7141, 'heels': 7142, 'puerto': 7143, 'chandigarh': 7144, 'oasis': 7145, 'fourthquarter': 7146, 'volvo': 7147, 'buyer': 7148, 'lie': 7149, 'desktop': 7150, 'graduates': 7151, 'janet': 7152, 'soared': 7153, 'LeBron': 7154, 'georgetown': 7155, '8000': 7156, 'informs': 7157, 'ICICI': 7158, 'groin': 7159, 'happiness': 7160, 'builder': 7161, 'tebow': 7162, 'commissioned': 7163, 'alassad': 7164, 'aurora': 7165, 'ministerial': 7166, 'redknapp': 7167, 'pietersen': 7168, 'cabin': 7169, 'specifically': 7170, 'deploy': 7171, 'trevor': 7172, 'indictment': 7173, 'goaltender': 7174, 'canberra': 7175, 'toledo': 7176, 'belmont': 7177, 'linking': 7178, 'JD': 7179, 'griffin': 7180, 'lancaster': 7181, 'loose': 7182, 'earning': 7183, 'hundred': 7184, 'katrina': 7185, 'islanders': 7186, 'robertson': 7187, 'ellis': 7188, 'nielsen': 7189, 'cops': 7190, 'regard': 7191, 'crawford': 7192, 'clippers': 7193, 'example': 7194, 'annually': 7195, 'rutgers': 7196, 'booking': 7197, 'opposes': 7198, 'cattle': 7199, 'vernon': 7200, 'ghost': 7201, 'zac': 7202, 'dock': 7203, 'cigarette': 7204, 'survivor': 7205, 'courtney': 7206, 'opponent': 7207, 'uzbekistan': 7208, 'suffolk': 7209, 'bucks': 7210, 'lyon': 7211, 'generic': 7212, 'predict': 7213, 'gerard': 7214, 'thunderstorm': 7215, '00': 7216, 'MLS': 7217, 'chartered': 7218, 'hispanic': 7219, 'zones': 7220, 'kerr': 7221, 'succeed': 7222, 'eases': 7223, 'hiphop': 7224, 'pages': 7225, 'constituency': 7226, 'conservatives': 7227, 'ITV': 7228, 'internationally': 7229, 'messi': 7230, 'aliyev': 7231, 'tunnel': 7232, 'attendance': 7233, 'consolidate': 7234, 'killings': 7235, 'hampton': 7236, 'disappeared': 7237, 'surgeon': 7238, 'hostile': 7239, 'prefer': 7240, 'cigarettes': 7241, 'fullback': 7242, 'sovereignty': 7243, 'irene': 7244, 'washed': 7245, 'quarters': 7246, 'enemy': 7247, 'libel': 7248, '450': 7249, 'operates': 7250, 'showdown': 7251, 'embattled': 7252, 'consideration': 7253, 'scout': 7254, 'pushes': 7255, 'ordinary': 7256, 'drummer': 7257, 'gunfire': 7258, 'slower': 7259, 'pitching': 7260, 'amidst': 7261, 'shadow': 7262, 'secretly': 7263, 'estimate': 7264, 'sting': 7265, 'cheaper': 7266, 'burke': 7267, 'lets': 7268, 'engage': 7269, 'propose': 7270, 'upbeat': 7271, 'thirdquarter': 7272, 'behavior': 7273, 'iPod': 7274, 'maradona': 7275, 'mancini': 7276, 'disruption': 7277, '12000': 7278, 'disorderly': 7279, 'installation': 7280, 'observers': 7281, 'charts': 7282, 'ton': 7283, 'factories': 7284, 'stanford': 7285, 'albums': 7286, 'payroll': 7287, 'proposing': 7288, 'trained': 7289, 'alley': 7290, 'FOX': 7291, 'kurt': 7292, 'indigenous': 7293, 'criticised': 7294, 'packed': 7295, 'panels': 7296, 'stalking': 7297, 'touring': 7298, 'gadhafi': 7299, 'zuckerberg': 7300, 'cathedral': 7301, 'wounding': 7302, 'huntsman': 7303, 'hunters': 7304, 'caps': 7305, 'penny': 7306, 'restoration': 7307, 'deny': 7308, 'nolan': 7309, 'reiterates': 7310, 'invests': 7311, 'secondquarter': 7312, 'ND': 7313, 'appreciation': 7314, 'embezzlement': 7315, 'forecasters': 7316, 'hassan': 7317, '16th': 7318, 'attendant': 7319, '29yearold': 7320, 'indicates': 7321, 'sailing': 7322, 'lansing': 7323, 'outperform': 7324, '2003': 7325, 'carlisle': 7326, 'inn': 7327, 'albuquerque': 7328, 'friendship': 7329, 'hannah': 7330, 'huffington': 7331, 'IP': 7332, 'cannes': 7333, 'chat': 7334, 'martial': 7335, 'cleanup': 7336, 'ethiopian': 7337, 'sergeant': 7338, 'dictator': 7339, 'charities': 7340, 'accessories': 7341, 'aging': 7342, 'appetite': 7343, 'bonus': 7344, 'pfizer': 7345, 'madoff': 7346, 'turnover': 7347, 'dentist': 7348, 'negotiate': 7349, 'bloody': 7350, '23rd': 7351, 'dylan': 7352, 'editorial': 7353, 'isaac': 7354, 'demolition': 7355, '31yearold': 7356, 'uprising': 7357, 'counsel': 7358, 'initiated': 7359, 'fairfax': 7360, 'ripped': 7361, 'speeds': 7362, 'guardian': 7363, 'scholarships': 7364, 'climbing': 7365, 'vandalism': 7366, 'shook': 7367, '32yearold': 7368, 'smash': 7369, 'middleweight': 7370, 'sitcom': 7371, 'nutrition': 7372, 'spirits': 7373, 'tevez': 7374, 'tweeted': 7375, 'hood': 7376, '135': 7377, 'melissa': 7378, 'algeria': 7379, 'matthews': 7380, 'publishers': 7381, 'AFC': 7382, 'mercedes': 7383, 'wrap': 7384, 'classroom': 7385, 'researcher': 7386, 'caroline': 7387, 'winslet': 7388, 'earl': 7389, 'shortstop': 7390, 'laboratories': 7391, 'doubts': 7392, 'secrets': 7393, 'incentives': 7394, 'methods': 7395, 'postpones': 7396, 'hyundai': 7397, 'discusses': 7398, 'rescues': 7399, 'plunges': 7400, 'slips': 7401, 'departure': 7402, 'narrow': 7403, 'unemployed': 7404, 'commuters': 7405, 'tuition': 7406, 'exceed': 7407, 'sunshine': 7408, 'reactor': 7409, 'thus': 7410, 'interesting': 7411, 'explained': 7412, 'belonging': 7413, 'inches': 7414, 'jul': 7415, 'robust': 7416, 'mali': 7417, 'adjourned': 7418, 'wheelchair': 7419, 'recognised': 7420, 'DiCaprio': 7421, 'rated': 7422, 'burton': 7423, 'wipro': 7424, '40000': 7425, 'bargain': 7426, 'hewitt': 7427, 'browser': 7428, 'songwriter': 7429, 'nitish': 7430, 'palestine': 7431, 'negotiating': 7432, 'cavendish': 7433, 'millionaire': 7434, 'cyclone': 7435, 'arabian': 7436, 'POLICE': 7437, 'knox': 7438, 'sore': 7439, '104': 7440, 'indexes': 7441, 'walt': 7442, 'immigrant': 7443, 'rocked': 7444, 'passage': 7445, 'lashes': 7446, 'requiring': 7447, 'pancreatic': 7448, 'clay': 7449, 'initially': 7450, 'pawlenty': 7451, 'walters': 7452, 'daniels': 7453, 'poultry': 7454, 'burlington': 7455, 'hart': 7456, 'nickel': 7457, 'skating': 7458, 'advisors': 7459, 'bentley': 7460, 'conducting': 7461, 'statutory': 7462, 'menu': 7463, 'citi': 7464, 'mln': 7465, 'hilary': 7466, 'telecoms': 7467, 'deportation': 7468, 'drain': 7469, '03': 7470, 'widens': 7471, 'hayden': 7472, 'usain': 7473, 'bearish': 7474, 'reliable': 7475, 'waves': 7476, 'expense': 7477, 'unilever': 7478, 'placing': 7479, 'brendan': 7480, 'delighted': 7481, 'javier': 7482, 'prop': 7483, 'syndrome': 7484, 'frankfurt': 7485, 'surrey': 7486, 'kindle': 7487, 'visas': 7488, 'adventure': 7489, 'formerly': 7490, 'les': 7491, 'demonstrate': 7492, 'renovation': 7493, 'coventry': 7494, 'roses': 7495, 'aftermath': 7496, 'infections': 7497, 'atletico': 7498, 'astronauts': 7499, 'truly': 7500, 'bands': 7501, 'theaters': 7502, 'temperature': 7503, 'certainly': 7504, 'dressed': 7505, 'RCMP': 7506, 'premises': 7507, 'pains': 7508, 'dated': 7509, 'BNP': 7510, 'piracy': 7511, 'pyongyang': 7512, 'flooded': 7513, 'contemporary': 7514, 'cave': 7515, 'shiv': 7516, 'textile': 7517, 'coma': 7518, 'medication': 7519, 'zimbabwean': 7520, 'programming': 7521, 'collections': 7522, 'diane': 7523, 'fare': 7524, 'sewer': 7525, 'trademark': 7526, 'shocked': 7527, 'searched': 7528, 'telstra': 7529, 'ceremonies': 7530, 'profitability': 7531, 'TD': 7532, 'hangs': 7533, 'withdrawing': 7534, 'wellknown': 7535, 'activate': 7536, 'depth': 7537, 'katherine': 7538, 'gloucester': 7539, '96': 7540, 'bret': 7541, 'highways': 7542, 'learnt': 7543, 'founded': 7544, 'champ': 7545, '49ers': 7546, 'fog': 7547, 'wen': 7548, 'chester': 7549, 'denise': 7550, 'turnout': 7551, 'AS': 7552, 'stopping': 7553, 'murders': 7554, 'abduction': 7555, 'whatever': 7556, 'publishes': 7557, 'majors': 7558, 'hazardous': 7559, 'unfair': 7560, 'bangladeshi': 7561, 'controller': 7562, 'creditors': 7563, 'FM': 7564, 'repeated': 7565, 'followers': 7566, 'scared': 7567, 'length': 7568, 'miguel': 7569, 'achievements': 7570, 'sponsors': 7571, 'consulate': 7572, 'sole': 7573, 'downs': 7574, 'lodged': 7575, 'AK': 7576, 'consultant': 7577, 'casualties': 7578, 'devastated': 7579, 'imminent': 7580, 'lecture': 7581, 'shifted': 7582, 'animation': 7583, 'peacefully': 7584, 'establishment': 7585, 'vettel': 7586, 'preparations': 7587, 'tradition': 7588, 'wrapped': 7589, 'amir': 7590, 'relation': 7591, 'clashed': 7592, 'klitschko': 7593, 'undercover': 7594, 'curfew': 7595, 'accra': 7596, 'sunny': 7597, 'thermal': 7598, 'tornadoes': 7599, 'laptops': 7600, 'confirming': 7601, 'victorian': 7602, 'sprained': 7603, 'jaguar': 7604, 'spike': 7605, 'starter': 7606, 'cure': 7607, 'highlight': 7608, 'bible': 7609, 'kourtney': 7610, '17yearold': 7611, 'generations': 7612, 'PCs': 7613, 'beirut': 7614, 'trash': 7615, 'impossible': 7616, 'travellers': 7617, 'F1': 7618, 'describes': 7619, 'crosby': 7620, 'meth': 7621, 'characters': 7622, 'ana': 7623, 'logan': 7624, 'clinics': 7625, 'virtually': 7626, 'freeway': 7627, 'klum': 7628, 'jackpot': 7629, 'successor': 7630, 'rajapaksa': 7631, 'midland': 7632, 'literacy': 7633, \"o'neill\": 7634, 'mozambique': 7635, 'bestselling': 7636, 'punching': 7637, 'bones': 7638, 'amateur': 7639, 'tajikistan': 7640, 'bracing': 7641, 'workout': 7642, 'safer': 7643, 'plug': 7644, 'florence': 7645, 'bicycle': 7646, 'lehman': 7647, 'notorious': 7648, 'discussing': 7649, 'divisions': 7650, 'webb': 7651, 'debuts': 7652, 'capsized': 7653, 'responds': 7654, 'webcast': 7655, 'johnston': 7656, 'weakening': 7657, 'PMLn': 7658, 'painting': 7659, 'committees': 7660, 'ECB': 7661, 'errors': 7662, 'strained': 7663, 'suns': 7664, 'nawaz': 7665, 'boise': 7666, 'incentive': 7667, 'rank': 7668, 'wound': 7669, 'lodge': 7670, 'directing': 7671, 'arquette': 7672, 'fielder': 7673, 'boots': 7674, 'statistical': 7675, 'halftime': 7676, 'stunned': 7677, 'jermaine': 7678, 'successive': 7679, 'neighbouring': 7680, 'tube': 7681, 'caucus': 7682, 'organisations': 7683, 'firmly': 7684, 'soviet': 7685, 'stint': 7686, 'experiences': 7687, 'nazi': 7688, 'hindi': 7689, 'roethlisberger': 7690, 'emily': 7691, 'subdued': 7692, 'accountability': 7693, 'gonzalez': 7694, 'afghans': 7695, 'prolonged': 7696, 'indices': 7697, 'hague': 7698, 'acknowledged': 7699, 'imaging': 7700, 'chevrolet': 7701, 'occupation': 7702, 'panda': 7703, 'fiance': 7704, 'productions': 7705, 'lacrosse': 7706, 'jared': 7707, 'samajwadi': 7708, 'dismissal': 7709, 'eli': 7710, '180': 7711, 'mayoral': 7712, 'clarkson': 7713, 'automobile': 7714, 'westwood': 7715, 'poet': 7716, 'treating': 7717, 'reservoir': 7718, 'jackets': 7719, 'alarm': 7720, 'airspace': 7721, 'polar': 7722, 'panama': 7723, 'ibrahim': 7724, 'chose': 7725, 'michel': 7726, 'refuge': 7727, 'RIM': 7728, 'ferdinand': 7729, 'jenna': 7730, 'montag': 7731, 'blaming': 7732, 'monument': 7733, 'guantanamo': 7734, 'signals': 7735, 'examination': 7736, 'kraft': 7737, 'FTSE': 7738, 'vista': 7739, 'aquino': 7740, 'bullpen': 7741, 'vessels': 7742, 'audi': 7743, 'thunderstorms': 7744, 'injures': 7745, 'hacking': 7746, 'incorporated': 7747, 'nasdaq': 7748, 'lies': 7749, 'pistorius': 7750, 'sheboygan': 7751, 'toshiba': 7752, 'promotes': 7753, 'resolved': 7754, 'ducks': 7755, 'raleigh': 7756, 'netflix': 7757, 'mediterranean': 7758, 'atlantis': 7759, 'slovakia': 7760, 'diamonds': 7761, 'liability': 7762, 'habitat': 7763, 'pierre': 7764, 'lucknow': 7765, 'lokpal': 7766, 'height': 7767, 'freestyle': 7768, 'adaptation': 7769, 'coral': 7770, '107': 7771, 'dealt': 7772, 'minsk': 7773, 'abandon': 7774, 'bass': 7775, 'carr': 7776, 'allied': 7777, 'colleague': 7778, 'dawson': 7779, 'debates': 7780, 'physically': 7781, '150000': 7782, 'servants': 7783, 'pot': 7784, 'ethanol': 7785, 'slim': 7786, 'describing': 7787, 'pakistanis': 7788, 'shriver': 7789, 'taiwanese': 7790, 'besides': 7791, 'bedroom': 7792, 'semi': 7793, '750': 7794, 'bermuda': 7795, 'wembley': 7796, 'slumped': 7797, 'bet': 7798, 'orbit': 7799, 'bitten': 7800, 'demonstrations': 7801, 'berkeley': 7802, 'ubisoft': 7803, 'obese': 7804, 'namibia': 7805, 'pharma': 7806, 'fairfield': 7807, 'calf': 7808, 'ugly': 7809, 'transfers': 7810, 'leonard': 7811, 'silent': 7812, 'parkinson': 7813, 'avoided': 7814, 'dodge': 7815, 'rewards': 7816, 'aleague': 7817, 'cohen': 7818, 'qualifiers': 7819, 'detection': 7820, 'strictly': 7821, 'roommate': 7822, 'hospitality': 7823, 'davies': 7824, 'cleaning': 7825, 'saeed': 7826, 'businessmen': 7827, 'notebook': 7828, 'infected': 7829, 'tone': 7830, 'steroids': 7831, 'strokes': 7832, 'derailed': 7833, 'slows': 7834, '102': 7835, 'moines': 7836, 'manitoba': 7837, '60th': 7838, '8th': 7839, 'gore': 7840, 'vandals': 7841, 'sailor': 7842, 'owes': 7843, 'chambers': 7844, 'grammer': 7845, 'rico': 7846, 'seri': 7847, 'contestant': 7848, 'distance': 7849, 'richest': 7850, 'ralph': 7851, 'macau': 7852, 'entrance': 7853, 'aggregate': 7854, 'suburbs': 7855, 'bases': 7856, 'ehud': 7857, 'splitting': 7858, 'mt': 7859, 'nearing': 7860, 'gingrich': 7861, 'breakdown': 7862, 'undergone': 7863, 'southampton': 7864, 'ambush': 7865, 'transform': 7866, 'NYSE': 7867, 'russians': 7868, 'rumor': 7869, 'deserve': 7870, 'composite': 7871, 'gallon': 7872, 'lloyds': 7873, 'bloc': 7874, 'benson': 7875, 'mayo': 7876, 'locker': 7877, 'follows': 7878, 'happens': 7879, 'serves': 7880, 'awaiting': 7881, 'shannon': 7882, 'samantha': 7883, 'connections': 7884, 'pike': 7885, 'pleasant': 7886, 'freezing': 7887, 'kodak': 7888, 'surpassed': 7889, 'crops': 7890, 'persistent': 7891, 'requirement': 7892, 'scrapped': 7893, 'bulk': 7894, 'discipline': 7895, 'episodes': 7896, 'arrivals': 7897, 'tonne': 7898, 'nor': 7899, 'disclosure': 7900, 'dust': 7901, 'torres': 7902, 'schemes': 7903, 'clemson': 7904, 'wesley': 7905, 'showers': 7906, 'competing': 7907, 'sandusky': 7908, 'adobe': 7909, 'leigh': 7910, 'fannie': 7911, 'abraham': 7912, 'insight': 7913, 'bullying': 7914, 'nationally': 7915, 'assess': 7916, 'kuwaiti': 7917, 'yeddyurappa': 7918, 'inspectors': 7919, 'americas': 7920, 'fragile': 7921, 'admission': 7922, 'trustees': 7923, 'durban': 7924, 'respiratory': 7925, 'consent': 7926, 'trent': 7927, 'gateway': 7928, 'villagers': 7929, 'automated': 7930, 'trim': 7931, 'upward': 7932, 'remarkable': 7933, 'spare': 7934, '08': 7935, 'burden': 7936, 'LTTE': 7937, 'triumph': 7938, 'exporter': 7939, 'ronson': 7940, 'blogger': 7941, 'radcliffe': 7942, 'ministries': 7943, 'worsening': 7944, 'mob': 7945, 'paterno': 7946, 'desk': 7947, 'catching': 7948, 'lorry': 7949, 'daly': 7950, 'freeman': 7951, 'linda': 7952, 'accreditation': 7953, 'keeper': 7954, 'ramdev': 7955, 'beloved': 7956, 'minerals': 7957, 'grande': 7958, 'jude': 7959, 'lists': 7960, 'spectacular': 7961, 'treatments': 7962, 'sparking': 7963, 'revolutionary': 7964, 'biotechnology': 7965, 'junction': 7966, 'nexus': 7967, 'arguing': 7968, 'gavin': 7969, 'generating': 7970, 'wooden': 7971, 'fortune': 7972, 'landlord': 7973, 'alltime': 7974, 'ind': 7975, 'monster': 7976, 'owens': 7977, 'closures': 7978, 'mich': 7979, 'judgment': 7980, 'repurchase': 7981, 'fertilizer': 7982, 'coronation': 7983, 'landfall': 7984, '50yearold': 7985, 'brooke': 7986, 'dover': 7987, 'himachal': 7988, 'firstround': 7989, 'mirza': 7990, 'prayers': 7991, 'prosperity': 7992, 'obsessed': 7993, 'accelerated': 7994, 'emission': 7995, 'forbes': 7996, 'finalized': 7997, 'spark': 7998, 'migrant': 7999, 'critic': 8000, 'purchasing': 8001, 'deepening': 8002, 'attached': 8003, 'watford': 8004, 'hide': 8005, 'bachelor': 8006, 'debris': 8007, 'lowe': 8008, 'lined': 8009, 'skilled': 8010, 'stamp': 8011, 'laureate': 8012, 'vegetables': 8013, 'belgrade': 8014, 'sight': 8015, 'guys': 8016, 'sidney': 8017, 'explorer': 8018, 'prefers': 8019, 'DWI': 8020, 'afford': 8021, 'lawn': 8022, 'saga': 8023, 'grandfather': 8024, 'palo': 8025, 'portable': 8026, 'indeed': 8027, '98': 8028, 'bow': 8029, 'forever': 8030, 'oval': 8031, 'incredible': 8032, 'longawaited': 8033, 'mitsubishi': 8034, 'laurent': 8035, 'MotoGP': 8036, 'complained': 8037, 'haley': 8038, 'shaw': 8039, 'database': 8040, 'hernandez': 8041, 'commencement': 8042, 'neighboring': 8043, 'alzheimer': 8044, 'hodgson': 8045, 'inventory': 8046, 'carol': 8047, 'honduras': 8048, 'injection': 8049, 'butt': 8050, 'transformation': 8051, 'eugene': 8052, 'colbert': 8053, 'rescuers': 8054, 'bolivia': 8055, 'soar': 8056, 'factors': 8057, 'margins': 8058, 'attends': 8059, 'delaying': 8060, 'baba': 8061, 'wholly': 8062, 'par': 8063, 'dale': 8064, 'budgets': 8065, 'relationships': 8066, 'balls': 8067, 'levi': 8068, 'albion': 8069, 'contempt': 8070, 'chaudhry': 8071, 'pepper': 8072, 'accidental': 8073, 'ahmedabad': 8074, 'kylie': 8075, 'transparent': 8076, '13yearold': 8077, 'shirley': 8078, 'disability': 8079, 'reflect': 8080, 'commons': 8081, 'troopers': 8082, 'breakaway': 8083, '105': 8084, 'shawn': 8085, 'highlighting': 8086, 'franco': 8087, 'paltrow': 8088, 'kilometres': 8089, 'weigh': 8090, 'theory': 8091, '730': 8092, 'macquarie': 8093, 'famed': 8094, 'measuring': 8095, 'swat': 8096, 'sad': 8097, 'represents': 8098, '27yearold': 8099, 'shahid': 8100, 'gerrard': 8101, 'yearonyear': 8102, 'pedro': 8103, 'appearances': 8104, 'breaching': 8105, 'en': 8106, 'visual': 8107, 'JSE': 8108, 'roddick': 8109, 'disgraced': 8110, 'neighbour': 8111, 'flick': 8112, 'everybody': 8113, 'fraser': 8114, 'nixon': 8115, 'rent': 8116, 'narrowed': 8117, 'bump': 8118, 'daylight': 8119, 'lengthy': 8120, 'SP': 8121, 'fifa': 8122, 'zurich': 8123, 'mrs': 8124, 'donors': 8125, 'blunt': 8126, 'stupid': 8127, 'commitments': 8128, 'uncle': 8129, 'nano': 8130, 'mila': 8131, 'ensuring': 8132, 're': 8133, 'conglomerate': 8134, 'implications': 8135, 'math': 8136, 'remainder': 8137, 'color': 8138, 'flame': 8139, 'ike': 8140, 'novosti': 8141, 'screens': 8142, 'busted': 8143, 'clinched': 8144, 'entrepreneur': 8145, 'daytime': 8146, 'marsh': 8147, 'tumble': 8148, 'embezzling': 8149, 'jiabao': 8150, 'decisive': 8151, 'bizarre': 8152, 'hospice': 8153, 'rocks': 8154, 'reno': 8155, 'duff': 8156, 'wanderers': 8157, 'chesapeake': 8158, 'urgent': 8159, 'impersonating': 8160, 'rebecca': 8161, 'hurley': 8162, 'stays': 8163, 'collides': 8164, 'kamal': 8165, 'processor': 8166, 'pa': 8167, 'radar': 8168, 'burnley': 8169, 'absolute': 8170, 'tightening': 8171, 'eden': 8172, '28th': 8173, 'intensified': 8174, 'pared': 8175, 'copyright': 8176, 'newt': 8177, 'homer': 8178, 'rooms': 8179, 'joan': 8180, 'helm': 8181, 'gwyneth': 8182, 'extremists': 8183, 'contrary': 8184, 'respects': 8185, 'boutique': 8186, 'makeover': 8187, 'destruction': 8188, 'anywhere': 8189, 'amongst': 8190, 'snyder': 8191, 'boot': 8192, 'rogue': 8193, 'reaffirmed': 8194, 'reagan': 8195, 'sabah': 8196, '35yearold': 8197, 'wellness': 8198, 'provisions': 8199, 'graphic': 8200, 'monitors': 8201, 'shepherd': 8202, '01': 8203, 'upheld': 8204, 'detailed': 8205, 'ossetia': 8206, 'paulo': 8207, 'steering': 8208, 'frederick': 8209, 'didier': 8210, 'psychiatric': 8211, 'spreads': 8212, 'machinery': 8213, 'methodist': 8214, 'magistrates': 8215, 'tomas': 8216, 'balloon': 8217, 'usual': 8218, 'capitals': 8219, 'canterbury': 8220, 'cop': 8221, 'rid': 8222, 'bulldogs': 8223, 'kunis': 8224, 'flexible': 8225, 'disorders': 8226, 'mineral': 8227, 'qld': 8228, 'CITY': 8229, 'conferences': 8230, 'trafford': 8231, 'cambodia': 8232, 'TI': 8233, 'NDA': 8234, 'anticorruption': 8235, 'freeagent': 8236, 'denying': 8237, 'midlands': 8238, 'bhutto': 8239, 'apologise': 8240, 'handing': 8241, 'monaco': 8242, 'preventing': 8243, 'evan': 8244, 'everywhere': 8245, 'lennon': 8246, 'clearly': 8247, 'eid': 8248, 'cohost': 8249, 'kit': 8250, '106': 8251, 'disasters': 8252, 'scratched': 8253, 'vast': 8254, 'AB': 8255, 'diva': 8256, 'lindsey': 8257, 'collide': 8258, 'hurdle': 8259, 'indicate': 8260, 'vampire': 8261, 'alexandra': 8262, 'alice': 8263, 'disrupt': 8264, 'dancer': 8265, 'affirmed': 8266, 'meltdown': 8267, 'augusta': 8268, 'vitamin': 8269, 'bathroom': 8270, 'lewd': 8271, 'instructor': 8272, 'concludes': 8273, 'marched': 8274, 'audiences': 8275, 'elects': 8276, 'realty': 8277, 'curtis': 8278, 'principle': 8279, 'BAE': 8280, 'balanced': 8281, 'footprint': 8282, 'leafs': 8283, 'escalating': 8284, 'brave': 8285, 'mentor': 8286, 'schmidt': 8287, 'BSE': 8288, 'committing': 8289, 'MVP': 8290, 'minorities': 8291, 'killers': 8292, 'campaigning': 8293, 'seemed': 8294, 'barely': 8295, 'donovan': 8296, 'basin': 8297, 'pensioners': 8298, 'recommends': 8299, 'chess': 8300, 'peas': 8301, 'deliberately': 8302, 'breached': 8303, 'shortterm': 8304, 'stray': 8305, 'cosmetic': 8306, 'ramesh': 8307, 'gesture': 8308, 'asda': 8309, 'dipped': 8310, 'corridor': 8311, '2018': 8312, 'lagos': 8313, 'exploitation': 8314, 'languages': 8315, 'sussex': 8316, 'warship': 8317, 'banker': 8318, 'washing': 8319, 'sailors': 8320, 'confirmation': 8321, 'UKbased': 8322, 'banner': 8323, 'verge': 8324, 'examiner': 8325, 'tightened': 8326, 'pubs': 8327, 'sand': 8328, 'deepika': 8329, 'gabriel': 8330, 'acted': 8331, 'hotspur': 8332, 'epidemic': 8333, 'towers': 8334, 'malaria': 8335, 'cables': 8336, 'outcome': 8337, 'collecting': 8338, 'enjoys': 8339, 'establishing': 8340, 'extradited': 8341, 'quietly': 8342, 'physicians': 8343, 'ODI': 8344, 'yang': 8345, 'dividends': 8346, 'obligations': 8347, '1400': 8348, '39yearold': 8349, 'touching': 8350, 'endangerment': 8351, 'attracting': 8352, 'vendors': 8353, 'protested': 8354, 'indicators': 8355, 'conversation': 8356, 'splash': 8357, 'funny': 8358, 'freak': 8359, 'meredith': 8360, 'payne': 8361, 'alto': 8362, 'efron': 8363, 'tenants': 8364, 'EP': 8365, 'attracted': 8366, 'protestors': 8367, '600000': 8368, 'borrowers': 8369, 'attacker': 8370, 'dual': 8371, 'scenario': 8372, 'shower': 8373, 'finalist': 8374, 'rescheduled': 8375, 'crist': 8376, 'disappointment': 8377, 'alonso': 8378, 'actively': 8379, 'MRI': 8380, 'observe': 8381, 'imperial': 8382, 'congo': 8383, 'supermarkets': 8384, 'concessions': 8385, 'collapsing': 8386, 'honoring': 8387, 'BT': 8388, 'downloads': 8389, 'moose': 8390, 'candlestick': 8391, 'worcester': 8392, 'backyard': 8393, 'ammunition': 8394, 'polanski': 8395, 'auditorium': 8396, 'lea': 8397, \"o'donnell\": 8398, 'directions': 8399, 'jessie': 8400, 'jade': 8401, 'heathrow': 8402, 'upside': 8403, 'filling': 8404, 'purdue': 8405, 'conway': 8406, 'counting': 8407, 'suspending': 8408, 'barrymore': 8409, '9th': 8410, 'MW': 8411, 'tan': 8412, 'firmer': 8413, 'MGM': 8414, 'tory': 8415, 'barred': 8416, 'module': 8417, 'testified': 8418, 'letting': 8419, 'bargaining': 8420, 'widow': 8421, '1800': 8422, 'shia': 8423, 'basu': 8424, 'slugger': 8425, 'headline': 8426, 'lucrative': 8427, 'commuter': 8428, 'grabbed': 8429, 'properly': 8430, 'TSX': 8431, 'peruvian': 8432, 'unanimous': 8433, 'impaired': 8434, 'cab': 8435, 'choices': 8436, 'drogba': 8437, 'mainstream': 8438, 'dundee': 8439, 'casting': 8440, 'knockout': 8441, 'experiencing': 8442, 'newsday': 8443, 'bayer': 8444, 'fletcher': 8445, 'telangana': 8446, 'macon': 8447, 'bahraini': 8448, 'McDonnell': 8449, 'partly': 8450, 'coordination': 8451, 'boxes': 8452, 'defrauding': 8453, 'predators': 8454, '201213': 8455, 'fraudulent': 8456, 'condolences': 8457, 'detainees': 8458, 'tears': 8459, 'turtle': 8460, 'WA': 8461, '1600': 8462, 'supervisors': 8463, 'securing': 8464, 'stallone': 8465, 'kuala': 8466, 'searches': 8467, 'divided': 8468, 'labourers': 8469, 'motorist': 8470, 'lowcost': 8471, 'AirAsia': 8472, 'immunity': 8473, 'felix': 8474, 'snowmobile': 8475, 'tactics': 8476, 'integrate': 8477, 'designers': 8478, 'dumping': 8479, 'johns': 8480, 'autobiography': 8481, 'highlands': 8482, 'goodbye': 8483, 'favourites': 8484, 'schalke': 8485, 'monte': 8486, 'entertainer': 8487, 'captures': 8488, 'burger': 8489, 'rubbish': 8490, 'liberation': 8491, 'treasure': 8492, 'comcast': 8493, 'christ': 8494, 'deliveries': 8495, 'paint': 8496, 'sort': 8497, 'bride': 8498, 'evaluation': 8499, 'marina': 8500, 'tunisian': 8501, 'holocaust': 8502, \"o'malley\": 8503, 'restart': 8504, 'marvel': 8505, 'havoc': 8506, 'savannah': 8507, 'AirTran': 8508, 'articles': 8509, 'aliens': 8510, 'hungry': 8511, 'bloom': 8512, '07': 8513, 'upsets': 8514, 'engulfing': 8515, 'litre': 8516, 'avoiding': 8517, 'WBO': 8518, 'migration': 8519, 'albania': 8520, 'hepatitis': 8521, 'achieving': 8522, 'QB': 8523, 'powder': 8524, 'infamous': 8525, 'marilyn': 8526, 'garner': 8527, 'otherwise': 8528, 'legends': 8529, 'garrett': 8530, 'novelist': 8531, 'fisheries': 8532, 'umpire': 8533, 'aground': 8534, 'teaming': 8535, 'wildfires': 8536, 'oral': 8537, '40yearold': 8538, 'blockade': 8539, 'examine': 8540, 'exist': 8541, 'canton': 8542, 'gotten': 8543, 'cumberland': 8544, 'sealed': 8545, 'chevron': 8546, 'barker': 8547, 'lovers': 8548, 'wachovia': 8549, 'rupees': 8550, 'chhattisgarh': 8551, 'rory': 8552, 'organ': 8553, 'sounds': 8554, 'spokane': 8555, 'patience': 8556, 'raided': 8557, 'bite': 8558, 'gradually': 8559, 'africans': 8560, 'dissident': 8561, 'julius': 8562, 'hearings': 8563, 'restoring': 8564, 'handsets': 8565, 'GaGa': 8566, 'cory': 8567, 'opted': 8568, 'piper': 8569, 'crow': 8570, 'knoxville': 8571, 'correctional': 8572, 'alcoa': 8573, 'impressed': 8574, 'evil': 8575, 'focuses': 8576, 'taxation': 8577, 'array': 8578, 'twist': 8579, 'heineken': 8580, 'pratibha': 8581, 'punk': 8582, 'outgoing': 8583, 'powered': 8584, 'RIA': 8585, 'cafe': 8586, 'onetime': 8587, 'doha': 8588, 'carries': 8589, 'destroying': 8590, 'interviews': 8591, 'sienna': 8592, 'injunction': 8593, 'arbor': 8594, 'strongest': 8595, 'pure': 8596, 'ordinance': 8597, 'misleading': 8598, 'provision': 8599, 'va': 8600, 'root': 8601, 'forgery': 8602, 'CNBC': 8603, 'harm': 8604, 'undefeated': 8605, 'alba': 8606, 'colon': 8607, 'dwight': 8608, '650': 8609, 'FedEx': 8610, 'harlem': 8611, 'mickey': 8612, 'smokers': 8613, 'steals': 8614, 'registry': 8615, 'disturbance': 8616, 'viral': 8617, 'sinks': 8618, 'freezes': 8619, 'knocks': 8620, 'achieves': 8621, 'highlighted': 8622, 'hewlettpackard': 8623, 'item': 8624, 'unmanned': 8625, 'heated': 8626, 'understands': 8627, '1970s': 8628, 'supplying': 8629, 'enables': 8630, 'types': 8631, 'ideal': 8632, 'convoy': 8633, 'delegates': 8634, 'baron': 8635, 'ramadan': 8636, 'sections': 8637, 'accord': 8638, 'movements': 8639, 'mid': 8640, 'supervision': 8641, 'priorities': 8642, 'thefts': 8643, 'knightley': 8644, 'mideast': 8645, 'pan': 8646, '12yearold': 8647, 'harsh': 8648, 'bikini': 8649, 'highland': 8650, 'batteries': 8651, 'halfway': 8652, '630': 8653, 'grains': 8654, 'icy': 8655, 'please': 8656, 'firearm': 8657, 'drowning': 8658, 'sinking': 8659, 'aloud': 8660, 'driveway': 8661, 'antitrust': 8662, 'competitiveness': 8663, 'lehigh': 8664, 'affects': 8665, 'cornwall': 8666, 'icahn': 8667, 'loud': 8668, 'prodemocracy': 8669, 'diversified': 8670, 'cheltenham': 8671, 'roland': 8672, 'relatively': 8673, 'ballistic': 8674, 'ilham': 8675, 'wikileaks': 8676, 'peers': 8677, 'karunanidhi': 8678, 'pleas': 8679, 'intoxication': 8680, 'jindal': 8681, 'wouldbe': 8682, 'fulltime': 8683, 'adequate': 8684, 'terrible': 8685, 'LLP': 8686, 'architecture': 8687, 'ritchie': 8688, 'breathing': 8689, 'geological': 8690, 'decreased': 8691, 'seth': 8692, 'spacecraft': 8693, 'historian': 8694, 'brunswick': 8695, 'rebate': 8696, 'rai': 8697, 'mirror': 8698, 'firsthalf': 8699, 'boca': 8700, 'luther': 8701, 'solomon': 8702, 'salon': 8703, 'onevehicle': 8704, 'listen': 8705, 'huawei': 8706, 'cease': 8707, 'sevilla': 8708, 'shake': 8709, 'copa': 8710, 'oilers': 8711, 'vaccines': 8712, 'swimmer': 8713, 'workshops': 8714, 'zach': 8715, 'certified': 8716, 'whip': 8717, 'nights': 8718, 'designate': 8719, 'bynes': 8720, 'travolta': 8721, 'shipment': 8722, 'antidoping': 8723, 'hayes': 8724, 'ashore': 8725, '103': 8726, 'sack': 8727, 'millennium': 8728, 'bahamas': 8729, 'troubles': 8730, 'witnessed': 8731, 'rosa': 8732, 'lunar': 8733, 'rawalpindi': 8734, 'hazard': 8735, 'biel': 8736, 'colour': 8737, 'ligament': 8738, 'doctorate': 8739, 'situations': 8740, 'sword': 8741, 'outreach': 8742, 'except': 8743, 'biological': 8744, 'EMC': 8745, 'bronx': 8746, 'johan': 8747, 'landslide': 8748, 'fourday': 8749, 'egg': 8750, 'reinstate': 8751, 'jaipur': 8752, 'kay': 8753, 'MSNBC': 8754, 'holly': 8755, 'divorced': 8756, 'hardy': 8757, 'pursuing': 8758, 'liz': 8759, 'premiums': 8760, 'CPI': 8761, 'waiver': 8762, 'grades': 8763, 'livestock': 8764, 'berkshire': 8765, 'talented': 8766, 'copies': 8767, 'UC': 8768, 'bottles': 8769, 'shelves': 8770, 'renewal': 8771, 'homage': 8772, '22nd': 8773, 'clinch': 8774, 'dunn': 8775, 'guinness': 8776, 'leaking': 8777, 'ranging': 8778, 'auctions': 8779, 'basket': 8780, 'piers': 8781, 'fault': 8782, '38yearold': 8783, 'continuous': 8784, 'disposal': 8785, 'mitch': 8786, 'psychological': 8787, 'totally': 8788, 'exceeded': 8789, 'surf': 8790, 'expression': 8791, \"o'connor\": 8792, 'contamination': 8793, 'enrollment': 8794, 'raceway': 8795, 'PayPal': 8796, 'dramatically': 8797, 'lautner': 8798, 'conceded': 8799, 'preview': 8800, 'yearold': 8801, 'demolished': 8802, 'outlet': 8803, 'legally': 8804, 'orthodox': 8805, 'eggs': 8806, 'rotary': 8807, 'yerevan': 8808, 'synthetic': 8809, 'fence': 8810, 'reader': 8811, 'fidel': 8812, '90th': 8813, 'comparison': 8814, 'seafood': 8815, 'taught': 8816, 'irvine': 8817, 'sikh': 8818, 'asiapacific': 8819, 'braced': 8820, 'licensed': 8821, 'felonies': 8822, 'prisons': 8823, 'bosnian': 8824, 'greenville': 8825, 'massa': 8826, 'tariff': 8827, 'rear': 8828, 'smallest': 8829, 'keane': 8830, 'betterthanexpected': 8831, '06': 8832, 'poster': 8833, 'sonic': 8834, 'gabor': 8835, 'hogan': 8836, '220': 8837, 'deepen': 8838, '7000': 8839, 'hostages': 8840, 'hook': 8841, 'choppy': 8842, 'putnam': 8843, 'caterpillar': 8844, 'blown': 8845, 'smooth': 8846, 'cardiovascular': 8847, 'motorway': 8848, 'connecting': 8849, 'interface': 8850, 'lied': 8851, 'libraries': 8852, 'antiterrorism': 8853, 'enemies': 8854, 'multimedia': 8855, 'promoter': 8856, 'yy': 8857, 'experimental': 8858, 'porter': 8859, 'carpenter': 8860, 'intelligent': 8861, 'rao': 8862, 'obtain': 8863, 'USS': 8864, 'shiite': 8865, 'precision': 8866, 'fergie': 8867, '1300': 8868, 'churches': 8869, 'amar': 8870, 'alec': 8871, 'eleven': 8872, 'abdominal': 8873, 'landscape': 8874, 'pray': 8875, 'rouge': 8876, 'tina': 8877, 'advocacy': 8878, 'bosnia': 8879, 'warships': 8880, 'surfaced': 8881, 'automakers': 8882, 'java': 8883, 'mercantile': 8884, 'skies': 8885, 'perdue': 8886, 'literature': 8887, 'cairn': 8888, 'payable': 8889, 'downgrade': 8890, 'slashes': 8891, 'issuer': 8892, 'colonel': 8893, 'spying': 8894, 'flies': 8895, 'visitor': 8896, 'mayawati': 8897, 'forests': 8898, 'goalless': 8899, 'eminem': 8900, 'norms': 8901, 'liquid': 8902, 'GPS': 8903, 'hiked': 8904, 'honours': 8905, 'khyber': 8906, 'northampton': 8907, 'musicians': 8908, 'drills': 8909, 'senegal': 8910, '111': 8911, 'olive': 8912, 'indication': 8913, 'rodney': 8914, 'gareth': 8915, 'loyal': 8916, 'paulson': 8917, 'crushing': 8918, 'sears': 8919, 'counseling': 8920, 'whales': 8921, 'purse': 8922, 'exboyfriend': 8923, 'continent': 8924, 'aviva': 8925, 'xavier': 8926, 'tymoshenko': 8927, 'shifting': 8928, 'conan': 8929, 'ArcelorMittal': 8930, 'zimmerman': 8931, 'raft': 8932, 'detect': 8933, 'furious': 8934, 'aka': 8935, 'fontana': 8936, 'interviewed': 8937, 'surges': 8938, 'noting': 8939, 'slalom': 8940, 'vonn': 8941, 'spiderman': 8942, 'cutler': 8943, 'flintoff': 8944, 'lowering': 8945, 'ronald': 8946, 'settlers': 8947, 'polk': 8948, 'peters': 8949, 'aust': 8950, 'guarantees': 8951, 'reopening': 8952, 'thatcher': 8953, 'dana': 8954, 'penske': 8955, 'separated': 8956, 'letterman': 8957, 'refinancing': 8958, 'viewing': 8959, 'relegated': 8960, 'wore': 8961, 'credited': 8962, 'concentrate': 8963, 'sellers': 8964, 'comply': 8965, 'socialist': 8966, 'PepsiCo': 8967, 'borrow': 8968, 'ranbir': 8969, 'barrett': 8970, 'WBA': 8971, 'lilly': 8972, 'hitachi': 8973, 'memories': 8974, 'rabies': 8975, 'muamba': 8976, 'MT': 8977, 'affirms': 8978, 'joke': 8979, 'moratorium': 8980, 'partnerships': 8981, 'greens': 8982, 'kelsey': 8983, 'sliding': 8984, 'eclipse': 8985, 'procurement': 8986, 'frequent': 8987, 'ballet': 8988, 'pitched': 8989, 'shrink': 8990, 'manipur': 8991, 'wardrobe': 8992, 'affiliated': 8993, 'competitors': 8994, 'accelerate': 8995, 'petraeus': 8996, 'blocking': 8997, 'JC': 8998, 'supervisor': 8999, 'webster': 9000, 'salisbury': 9001, 'conjunction': 9002, 'fantastic': 9003, 'slapped': 9004, 'backdrop': 9005, '24th': 9006, 'hudgens': 9007, 'downward': 9008, 'GP': 9009, 'honolulu': 9010, 'triggering': 9011, 'martha': 9012, 'yourself': 9013, 'consolidated': 9014, 'pieces': 9015, 'trips': 9016, 'phelps': 9017, '1960s': 9018, 'stab': 9019, 'leisure': 9020, 'whilst': 9021, '108': 9022, 'flowers': 9023, 'separation': 9024, 'vogue': 9025, 'lafayette': 9026, 'â': 9027, 'lend': 9028, 'refuse': 9029, 'curry': 9030, 'carlyle': 9031, 'gerald': 9032, 'reshuffle': 9033, 'amended': 9034, 'brewing': 9035, 'kickoff': 9036, 'paribas': 9037, 'kendra': 9038, 'medalist': 9039, 'nate': 9040, 'osborne': 9041, 'apollo': 9042, '09': 9043, 'benghazi': 9044, 'contador': 9045, 'looming': 9046, 'slaying': 9047, 'overwhelmingly': 9048, 'fingers': 9049, 'von': 9050, '200m': 9051, 'connectivity': 9052, 'owed': 9053, 'graffiti': 9054, 'sgt': 9055, 'prasad': 9056, 'regret': 9057, 'scrutiny': 9058, 'mirren': 9059, 'contributed': 9060, 'anchorage': 9061, 'strauss': 9062, 'tenure': 9063, 'mahendra': 9064, 'oversight': 9065, 'tv': 9066, 'buccaneers': 9067, 'booming': 9068, 'meal': 9069, 'pictured': 9070, 'unlawful': 9071, 'gearing': 9072, 'jacobs': 9073, 'corning': 9074, 'isolated': 9075, 'weighing': 9076, 'flower': 9077, 'loyalty': 9078, 'MLB': 9079, 'duck': 9080, 'funded': 9081, 'auctioned': 9082, 'sheep': 9083, '200809': 9084, 'MTN': 9085, 'shipyard': 9086, 'alcoholic': 9087, 'groupon': 9088, 'latter': 9089, 'BART': 9090, 'tab': 9091, 'drag': 9092, 'guaranteed': 9093, 'AJ': 9094, 'skier': 9095, 'livingston': 9096, 'attitude': 9097, 'mercer': 9098, 'tariffs': 9099, 'climbs': 9100, 'technological': 9101, 'snowfall': 9102, 'subsidy': 9103, 'lumpur': 9104, 'ventura': 9105, 'spotify': 9106, 'keegan': 9107, 'overturns': 9108, 'ny': 9109, 'romo': 9110, 'breaches': 9111, 'aides': 9112, 'yankee': 9113, 'snake': 9114, 'wealthy': 9115, 'regina': 9116, 'none': 9117, 'travels': 9118, 'gangster': 9119, '115': 9120, 'jain': 9121, 'controlling': 9122, 'bias': 9123, 'purple': 9124, 'estonia': 9125, 'paralympic': 9126, 'memorandum': 9127, 'mammoth': 9128, 'spate': 9129, 'shifts': 9130, 'reversing': 9131, 'alligator': 9132, 'hai': 9133, 'conflicts': 9134, 'weeklong': 9135, 'checking': 9136, 'rumored': 9137, 'shrank': 9138, 'pawar': 9139, 'immune': 9140, 'catastrophic': 9141, 'grizzlies': 9142, 'israelis': 9143, 'rejecting': 9144, 'noah': 9145, 'persian': 9146, 'rampage': 9147, 'donating': 9148, 'astana': 9149, 'spots': 9150, 'bread': 9151, 'downing': 9152, 'complaining': 9153, 'negligent': 9154, 'IV': 9155, 'sedan': 9156, 'scottsdale': 9157, 'shelters': 9158, 'commenced': 9159, 'paternity': 9160, 'ATP': 9161, 'cork': 9162, 'herbert': 9163, 'observer': 9164, 'copenhagen': 9165, 'tbilisi': 9166, 'atop': 9167, 'mastectomy': 9168, 'avery': 9169, 'touchdown': 9170, 'ordering': 9171, 'timing': 9172, 'bruised': 9173, 'yusuf': 9174, 'noise': 9175, 'byrne': 9176, 'lure': 9177, 'handful': 9178, 'cambodian': 9179, 'akhtar': 9180, 'LPGA': 9181, 'jaime': 9182, 'comfort': 9183, 'bald': 9184, 'eliminating': 9185, 'stuttgart': 9186, 'timor': 9187, 'instant': 9188, 'mickelson': 9189, 'alumni': 9190, 'extremism': 9191, 'extinction': 9192, 'ulster': 9193, 'boone': 9194, 'stakeholders': 9195, 'blizzard': 9196, 'sylvester': 9197, 'surgical': 9198, 'olivia': 9199, 'marvin': 9200, 'iPads': 9201, 'optical': 9202, 'column': 9203, 'phillip': 9204, 'pedestrians': 9205, 'emails': 9206, 'dickinson': 9207, 'avatar': 9208, 'meyer': 9209, 'panetta': 9210, 'consultants': 9211, 'mahinda': 9212, 'mounted': 9213, 'cartel': 9214, 'bribes': 9215, '70000': 9216, 'sotomayor': 9217, 'hulk': 9218, 'crossings': 9219, 'booker': 9220, 'invite': 9221, 'architect': 9222, 'leone': 9223, 'knifepoint': 9224, 'shoplifting': 9225, 'venus': 9226, 'youngster': 9227, 'malibu': 9228, 'shahbaz': 9229, 'sacred': 9230, 'pendleton': 9231, 'ANZ': 9232, 'speakers': 9233, 'fiveday': 9234, 'intentionally': 9235, 'lamar': 9236, 'jews': 9237, 'gill': 9238, '4S': 9239, 'richter': 9240, 'animated': 9241, 'cooling': 9242, 'knights': 9243, 'paving': 9244, 'condemn': 9245, 'harder': 9246, 'warplanes': 9247, 'narcotics': 9248, 'precautionary': 9249, 'elimination': 9250, 'larceny': 9251, 'OK': 9252, 'kissing': 9253, 'gases': 9254, 'detain': 9255, 'lesson': 9256, 'inner': 9257, 'speedy': 9258, 'honeymoon': 9259, 'shelton': 9260, 'seasonally': 9261, 'hillsborough': 9262, 'amend': 9263, 'elsewhere': 9264, 'patriotic': 9265, 'devon': 9266, 'boulder': 9267, '45yearold': 9268, 'costcutting': 9269, 'righthanded': 9270, 'eager': 9271, '1700': 9272, 'principles': 9273, 'graphics': 9274, 'mouse': 9275, 'booth': 9276, 'candy': 9277, 'brighton': 9278, 'overwhelming': 9279, 'threetime': 9280, 'upstate': 9281, 'belong': 9282, 'neither': 9283, 'buenos': 9284, 'aires': 9285, 'groundbreaking': 9286, 'nash': 9287, 'xperia': 9288, 'penney': 9289, 'miracle': 9290, 'identifying': 9291, 'vic': 9292, 'enrichment': 9293, 'hon': 9294, 'valuation': 9295, 'QPR': 9296, 'bicyclist': 9297, 'dustin': 9298, 'contributing': 9299, 'rodham': 9300, 'versions': 9301, 'buck': 9302, 'allamerican': 9303, 'strange': 9304, 'ariz': 9305, 'ankara': 9306, 'spinal': 9307, 'dannii': 9308, 'longrunning': 9309, 'headley': 9310, 'separatist': 9311, 'evolution': 9312, 'flows': 9313, 'stimulate': 9314, 'wrongful': 9315, 'grounded': 9316, 'roanoke': 9317, 'DeGeneres': 9318, 'camden': 9319, 'personally': 9320, 'hates': 9321, '550': 9322, 'eastman': 9323, 'pocket': 9324, 'pumps': 9325, 'petty': 9326, 'grip': 9327, 'tired': 9328, 'quota': 9329, 'bidding': 9330, 'postpone': 9331, 'deeply': 9332, 'vegetable': 9333, 'frame': 9334, 'happening': 9335, 'passion': 9336, 'rahman': 9337, 'kristin': 9338, 'batman': 9339, 'paramedics': 9340, 'lifting': 9341, 'virtualization': 9342, 'custom': 9343, 'forks': 9344, 'comics': 9345, 'expires': 9346, 'norton': 9347, 'bacteria': 9348, 'kg': 9349, 'hijack': 9350, 'airstrike': 9351, 'binghamton': 9352, 'keira': 9353, 'demonstrated': 9354, 'aquarium': 9355, 'primarily': 9356, 'rex': 9357, 'bishops': 9358, 'warne': 9359, 'bigg': 9360, 'participated': 9361, 'ST': 9362, 'danielle': 9363, 'builders': 9364, 'categories': 9365, 'papua': 9366, 'uruguay': 9367, 'deserves': 9368, 'mosley': 9369, 'staples': 9370, 'LED': 9371, 'paraguay': 9372, 'drones': 9373, 'emerges': 9374, 'irrigation': 9375, 'stephanie': 9376, 'lancashire': 9377, 'bernardino': 9378, 'beverage': 9379, 'mentioned': 9380, 'fiber': 9381, 'byrd': 9382, 'hawke': 9383, 'conspiring': 9384, 'substitute': 9385, 'supposed': 9386, 'touches': 9387, 'tortured': 9388, 'unsecured': 9389, 'McAfee': 9390, 'chapel': 9391, 'nightmare': 9392, 'daryl': 9393, 'dion': 9394, 'electrocuted': 9395, 'abuses': 9396, 'weaken': 9397, 'bale': 9398, 'journalism': 9399, 'usher': 9400, 'NFC': 9401, 'hoax': 9402, 'fallon': 9403, 'pacers': 9404, 'cellphone': 9405, 'porsche': 9406, 'NYPD': 9407, 'pepsi': 9408, \"o'reilly\": 9409, 'nonstop': 9410, 'dominate': 9411, 'armenians': 9412, 'restive': 9413, 'samoa': 9414, 'inaugurates': 9415, 'hints': 9416, 'headlines': 9417, 'knocking': 9418, 'sargsyan': 9419, 'dominant': 9420, 'soup': 9421, 'establishes': 9422, 'jamaican': 9423, 'dressing': 9424, 'bismarck': 9425, 'luncheon': 9426, 'bal': 9427, 'viktor': 9428, 'consultations': 9429, 'deficits': 9430, 'associations': 9431, 'threeyearold': 9432, 'intercontinental': 9433, 'topeka': 9434, 'dresses': 9435, 'motivated': 9436, 'inch': 9437, 'iftikhar': 9438, 'brace': 9439, 'patrols': 9440, 'meter': 9441, 'Q1': 9442, 'junk': 9443, 'rings': 9444, 'peer': 9445, 'promotional': 9446, 'contention': 9447, 'woody': 9448, 'leighton': 9449, 'telugu': 9450, 'surprisingly': 9451, 'metric': 9452, 'weisz': 9453, 'liga': 9454, 'ole': 9455, 'multinational': 9456, 'moammar': 9457, 'cypriot': 9458, 'clint': 9459, 'LK': 9460, 'tall': 9461, 'shotgun': 9462, 'bypass': 9463, 'capability': 9464, 'importing': 9465, 'relevant': 9466, 'primetime': 9467, 'dynamic': 9468, 'galway': 9469, 'deadliest': 9470, 'missoula': 9471, 'cows': 9472, '41yearold': 9473, 'pork': 9474, 'revamped': 9475, 'fiancee': 9476, 'carrey': 9477, 'thrilled': 9478, 'jacques': 9479, 'ajay': 9480, 'jo': 9481, 'perjury': 9482, 'waterloo': 9483, 'lotus': 9484, 'outskirts': 9485, 'respective': 9486, 'chandler': 9487, 'surging': 9488, 'cricketers': 9489, 'belief': 9490, 'entirely': 9491, 'slot': 9492, 'saskatoon': 9493, 'inform': 9494, 'broward': 9495, 'cheat': 9496, 'trainers': 9497, 'wolfsburg': 9498, 'karan': 9499, 'leinster': 9500, 'sophomore': 9501, 'afridi': 9502, 'kazakh': 9503, 'acceptance': 9504, 'lin': 9505, '47yearold': 9506, 'surrounded': 9507, 'singers': 9508, 'pistons': 9509, 'spared': 9510, 'dismiss': 9511, 'cameroon': 9512, 'newfoundland': 9513, 'runners': 9514, 'McQueen': 9515, 'gupta': 9516, 'grandson': 9517, 'capped': 9518, 'jubilee': 9519, 'ipswich': 9520, 'ultimately': 9521, 'trinamool': 9522, 'aH1N1': 9523, '27th': 9524, 'bash': 9525, 'bribe': 9526, 'locals': 9527, 'candidacy': 9528, 'stun': 9529, 'hottest': 9530, '26th': 9531, 'lifeline': 9532, 'lockheed': 9533, 'halts': 9534, 'elephants': 9535, 'darling': 9536, 'naming': 9537, 'explosions': 9538, 'tumour': 9539, 'diagnostic': 9540, 'rey': 9541, 'embrace': 9542, 'naples': 9543, 'dangers': 9544, 'niger': 9545, 'lithuania': 9546, 'patterson': 9547, 'tolerance': 9548, 'denny': 9549, 'plain': 9550, 'tables': 9551, 'sail': 9552, 'SWAT': 9553, 'prof': 9554, 'kashmiri': 9555, 'merit': 9556, 'pill': 9557, 'directorial': 9558, 'kia': 9559, 'jam': 9560, 'convinced': 9561, 'builds': 9562, 'switching': 9563, 'britons': 9564, 'crosses': 9565, 'voices': 9566, 'vow': 9567, 'hears': 9568, 'upholds': 9569, 'correct': 9570, 'incredibly': 9571, '60000': 9572, '200910': 9573, 'kochi': 9574, 'turnaround': 9575, 'negligence': 9576, 'jill': 9577, 'milton': 9578, 'truce': 9579, 'G20': 9580, 'mistakenly': 9581, 'owing': 9582, 'tense': 9583, 'shahrukh': 9584, 'failures': 9585, 'commemorate': 9586, 'spelling': 9587, 'classified': 9588, 'quincy': 9589, 'enabling': 9590, 'underwear': 9591, 'DMK': 9592, 'dining': 9593, 'cult': 9594, 'mellon': 9595, 'janeiro': 9596, 'pretoria': 9597, 'twenty': 9598, '113': 9599, 'pad': 9600, 'slept': 9601, 'wives': 9602, 'ho': 9603, 'tripura': 9604, 'aer': 9605, 'salvador': 9606, 'militia': 9607, 'credentials': 9608, 'seaside': 9609, 'generally': 9610, 'chasing': 9611, 'expired': 9612, 'byron': 9613, 'arrow': 9614, 'territories': 9615, 'corey': 9616, 'arroyo': 9617, 'contaminated': 9618, 'seizes': 9619, 'tier': 9620, 'processors': 9621, 'downside': 9622, 'nigel': 9623, 'fluid': 9624, 'modestly': 9625, '9000': 9626, 'settlements': 9627, 'chan': 9628, 'handgun': 9629, 'RSS': 9630, 'PA': 9631, 'boyd': 9632, 'pianist': 9633, 'leap': 9634, 'ravi': 9635, 'gutted': 9636, 'iPhones': 9637, 'BCCI': 9638, 'onboard': 9639, 'ACT': 9640, 'underlying': 9641, 'divers': 9642, 'maestro': 9643, 'stan': 9644, 'prom': 9645, 'wrestler': 9646, 'cornell': 9647, 'locally': 9648, 'elena': 9649, '2017': 9650, 'snack': 9651, 'swayze': 9652, 'intimate': 9653, 'crowds': 9654, 'concession': 9655, 'aluminum': 9656, 'microsystems': 9657, '124': 9658, 'concord': 9659, 'apprentice': 9660, 'perspective': 9661, 'kara': 9662, 'politically': 9663, 'starred': 9664, 'moyes': 9665, 'intoxicated': 9666, 'surfer': 9667, 'balcony': 9668, 'flats': 9669, 'anticipation': 9670, 'lap': 9671, 'regularly': 9672, 'sprinter': 9673, 'MD': 9674, 'darfur': 9675, 'forestry': 9676, 'sahara': 9677, 'ashland': 9678, 'receivers': 9679, 'trauma': 9680, 'atmosphere': 9681, 'revoked': 9682, 'chivas': 9683, 'sits': 9684, 'LNG': 9685, 'therapeutics': 9686, 'lisbon': 9687, '10year': 9688, 'bon': 9689, 'bipartisan': 9690, 'commence': 9691, 'akron': 9692, 'addict': 9693, 'concedes': 9694, 'useful': 9695, 'albans': 9696, 'reductions': 9697, 'gyllenhaal': 9698, 'shakespeare': 9699, 'goody': 9700, 'ai': 9701, 'serb': 9702, 'ringgit': 9703, 'frontline': 9704, 'proving': 9705, 'liberals': 9706, 'bali': 9707, 'deere': 9708, 'controllers': 9709, 'guatemala': 9710, 'knock': 9711, 'joplin': 9712, 'contacts': 9713, 'clock': 9714, 'ACC': 9715, 'lucy': 9716, 'shakes': 9717, 'jenny': 9718, 'televised': 9719, 'caretaker': 9720, 'brigade': 9721, 'shrine': 9722, 'saab': 9723, 'murderer': 9724, 'initiates': 9725, 'salmonella': 9726, 'litigation': 9727, 'diverted': 9728, 'lufthansa': 9729, 'JetBlue': 9730, 'circus': 9731, 'foray': 9732, 'marshal': 9733, 'whopping': 9734, 'competent': 9735, 'retreated': 9736, 'sultan': 9737, 'exams': 9738, 'twoweek': 9739, 'diversity': 9740, 'facts': 9741, 'branding': 9742, 'auditor': 9743, 'staging': 9744, 'methamphetamine': 9745, 'euronext': 9746, 'billings': 9747, 'victories': 9748, 'punish': 9749, 'ortiz': 9750, 'beam': 9751, 'wrongly': 9752, 'selloff': 9753, 'seacrest': 9754, 'ruth': 9755, 'discounts': 9756, 'surprising': 9757, 'waziristan': 9758, 'wears': 9759, 'collaborate': 9760, 'fracture': 9761, 'rainbow': 9762, 'gangs': 9763, 'granting': 9764, 'organising': 9765, 'fractures': 9766, 'stuff': 9767, 'qualcomm': 9768, 'beau': 9769, '37yearold': 9770, 'secretarygeneral': 9771, 'twovehicle': 9772, 'prevented': 9773, 'kandahar': 9774, 'blackberry': 9775, 'assists': 9776, '70th': 9777, 'tow': 9778, 'recognizes': 9779, 'burglars': 9780, 'calhoun': 9781, 'missions': 9782, 'dealerships': 9783, 'styles': 9784, 'venues': 9785, 'hitler': 9786, 'lingerie': 9787, 'tune': 9788, 'menace': 9789, 'outing': 9790, 'exported': 9791, '230': 9792, '112': 9793, 'specialists': 9794, 'tale': 9795, 'supplement': 9796, 'diplomacy': 9797, 'filmed': 9798, 'malema': 9799, 'deeper': 9800, 'paddy': 9801, 'christine': 9802, 'bubble': 9803, 'carney': 9804, 'balochistan': 9805, 'khurshid': 9806, 'gamble': 9807, 'assemblyman': 9808, 'marcos': 9809, 'timber': 9810, 'joked': 9811, 'pavilion': 9812, 'rainy': 9813, 'abhishek': 9814, 'pamela': 9815, 'dixon': 9816, 'dolphin': 9817, 'sergei': 9818, 'fragrance': 9819, 'ladder': 9820, 'barney': 9821, 'convince': 9822, 'axed': 9823, 'cautioned': 9824, 'fayetteville': 9825, 'conversion': 9826, '109': 9827, 'casualty': 9828, 'FX': 9829, 'wallet': 9830, 'secretariat': 9831, 'assurance': 9832, 'employed': 9833, 'aishwarya': 9834, 'opposing': 9835, 'mosquito': 9836, 'syrians': 9837, 'lorenzo': 9838, 'elvis': 9839, 'julio': 9840, 'encourages': 9841, 'restrict': 9842, 'madden': 9843, 'tribe': 9844, 'disqualified': 9845, 'fiction': 9846, 'kan': 9847, 'apologize': 9848, 'exchanged': 9849, 'stormy': 9850, 'finalised': 9851, 'scherzinger': 9852, 'surviving': 9853, 'belongs': 9854, 'baxter': 9855, 'uttarakhand': 9856, 'supplements': 9857, 'edwin': 9858, 'nephew': 9859, 'tide': 9860, 'boundary': 9861, 'jenson': 9862, 'snapping': 9863, 'beck': 9864, 'runaway': 9865, 'trusted': 9866, 'labrador': 9867, 'lazio': 9868, 'surrenders': 9869, 'robs': 9870, 'nominates': 9871, 'sabres': 9872, 'cocoa': 9873, 'thirdlargest': 9874, 'welcoming': 9875, 'luxembourg': 9876, 'ancelotti': 9877, 'ratio': 9878, 'scope': 9879, 'canadiens': 9880, 'thrashers': 9881, 'mongolia': 9882, 'saakashvili': 9883, 'pupil': 9884, 'shaking': 9885, 'leaf': 9886, 'threemonth': 9887, 'chronicle': 9888, 'upto': 9889, 'ignoring': 9890, 'grim': 9891, 'USled': 9892, 'challengers': 9893, 'overshadowed': 9894, 'sewage': 9895, 'incs': 9896, 'aboriginal': 9897, 'coins': 9898, 'sanctuary': 9899, 'affleck': 9900, 'artificial': 9901, 'twoyearold': 9902, 'corrections': 9903, 'chains': 9904, 'usually': 9905, 'conclusion': 9906, 'approvals': 9907, 'shelf': 9908, 'realtime': 9909, 'investigator': 9910, 'prostitute': 9911, 'ecofriendly': 9912, 'imagine': 9913, 'converted': 9914, 'lynchburg': 9915, 'conditioning': 9916, 'manufactured': 9917, 'UConn': 9918, 'lieberman': 9919, 'bhopal': 9920, 'madhya': 9921, 'colonial': 9922, 'eskom': 9923, 'cubic': 9924, 'santana': 9925, 'expressing': 9926, 'kimoon': 9927, 'reads': 9928, 'kathmandu': 9929, 'geo': 9930, 'malfunction': 9931, 'wis': 9932, 'termination': 9933, 'spector': 9934, 'clearance': 9935, 'sticks': 9936, 'brunei': 9937, 'feeding': 9938, 'homeowner': 9939, 'kaif': 9940, 'hop': 9941, 'chen': 9942, 'crocodile': 9943, 'highlevel': 9944, 'careers': 9945, 'anxiety': 9946, 'reactors': 9947, '145': 9948, 'holes': 9949, 'easton': 9950, 'gibb': 9951, 'repaired': 9952, 'dynamo': 9953, 'kiev': 9954, 'referred': 9955, 'credible': 9956, 'deck': 9957, 'rivera': 9958, 'manufacture': 9959, 'espionage': 9960, 'wandering': 9961, 'farming': 9962, 'courtesy': 9963, 'longstanding': 9964, 'outer': 9965, 'cry': 9966, 'lit': 9967, 'belarusian': 9968, 'comprising': 9969, 'recruits': 9970, 'paramount': 9971, 'highend': 9972, 'lobbyist': 9973, 'patriot': 9974, 'ga': 9975, 'harare': 9976, 'authorized': 9977, 'pearson': 9978, 'modified': 9979, 'reply': 9980, 'convictions': 9981, 'dragons': 9982, 'iranians': 9983, 'transmitted': 9984, 'benazir': 9985, 'deemed': 9986, 'joyce': 9987, 'commentator': 9988, 'assaults': 9989, 'cleric': 9990, 'switched': 9991, 'huckabee': 9992, 'hung': 9993, 'peso': 9994, 'pled': 9995, 'napoli': 9996, 'licences': 9997, 'intensify': 9998, 'limerick': 9999}\n"
     ]
    }
   ],
   "source": [
    "vocab_size = 10_000\n",
    "vocab = vocab_counter.most_common(vocab_size)\n",
    "token_to_id = {word: i for i, (word, _) in enumerate(vocab)}\n",
    "print(token_to_id)"
   ],
   "metadata": {
    "collapsed": false,
    "pycharm": {
     "name": "#%%\n"
    },
    "ExecuteTime": {
     "end_time": "2025-04-18T21:30:48.656905Z",
     "start_time": "2025-04-18T21:30:48.547447Z"
    }
   }
  },
  {
   "cell_type": "markdown",
   "source": [
    "<a name='e4'></a>\n",
    "### Exercise 4: Bag of Words\n",
    "(1p) Here we will create the bag-of-words representation of the sentences. The function will take a single sentence (list of tokens) and return an array of size `vocab_size` with the counts of each word in the vocabulary. The\n",
    "`vocab_size` is calculated as the length of the passed `token_to_id` dictionary. The resulting array should have zeros everywhere but the indices corresponding to the words in the vocabulary where it should have the counts of the words in the sentence. For example, if the sentence is `['fox', 'and', 'deer']` and the vocabulary is `{'fox': 0, 'and': 1, 'deer': 2}`, the resulting array should be `[1, 1, 1]`. If the sentence is `['fox', 'and', 'fox', 'deer']`, the resulting array should be `[2, 1, 1]`."
   ],
   "metadata": {
    "collapsed": false,
    "pycharm": {
     "name": "#%% md\n"
    }
   }
  },
  {
   "cell_type": "code",
   "execution_count": null,
   "outputs": [],
   "source": [
    "def bag_of_words(sentence, token_to_id):\n",
    "    \"\"\"\n",
    "    Creates a bag-of-words representation of the sentence\n",
    "    Args:\n",
    "        sentence: a list of tokens\n",
    "        token_to_id: a dictionary mapping each word to an index in the vocabulary\n",
    "\n",
    "    Returns:: a numpy array of size vocab_size with the counts of each word in the vocabulary\n",
    "\n",
    "    \"\"\"\n",
    "    vocab_size = len(token_to_id)\n",
    "    bow = np.zeros(vocab_size, dtype=int)\n",
    "\n",
    "    ### YOUR CODE HERE\n",
    "\n",
    "\n",
    "\n",
    "\n",
    "    ### YOUR CODE ENDS HERE\n",
    "\n",
    "    return bow"
   ],
   "metadata": {
    "collapsed": false,
    "pycharm": {
     "name": "#%%\n"
    }
   }
  },
  {
   "cell_type": "markdown",
   "source": [
    "Let's see how the function works on a single sentence. The output should be a numpy array of size `vocab_size` with the counts of each word in the vocabulary."
   ],
   "metadata": {
    "collapsed": false,
    "pycharm": {
     "name": "#%% md\n"
    }
   }
  },
  {
   "cell_type": "code",
   "execution_count": null,
   "outputs": [],
   "source": [
    "print('Tokenized sentence:')\n",
    "print(tokenized_sentences[0])\n",
    "sentence_bow = bag_of_words(tokenized_sentences[0], token_to_id)\n",
    "\n",
    "print('Bag of words:')\n",
    "print(sentence_bow)\n",
    "print('Type of bag of words:')\n",
    "print(type(sentence_bow))\n",
    "print('Shape of bag of words:')\n",
    "print(sentence_bow.shape)\n",
    "print('Non-zero elements in bag of words:')\n",
    "print(np.nonzero(sentence_bow)[0])"
   ],
   "metadata": {
    "collapsed": false,
    "pycharm": {
     "name": "#%%\n"
    }
   }
  },
  {
   "cell_type": "markdown",
   "source": [
    "We can also check in detail what words and their counts are in the bag-of-words representation."
   ],
   "metadata": {
    "collapsed": false,
    "pycharm": {
     "name": "#%% md\n"
    }
   }
  },
  {
   "cell_type": "code",
   "execution_count": null,
   "outputs": [],
   "source": [
    "sentence_non_zero_bow = np.nonzero(sentence_bow)[0]\n",
    "print('Non-zero elements in bag of words:')\n",
    "print(sentence_non_zero_bow)\n",
    "for i in sentence_non_zero_bow:\n",
    "    print(vocab[i][0], ':', sentence_bow[i])"
   ],
   "metadata": {
    "collapsed": false,
    "pycharm": {
     "name": "#%%\n"
    }
   }
  },
  {
   "cell_type": "markdown",
   "source": [
    "The following function will apply all the steps we implemented to a single sentence. It returns a bag of words representation that we will use to calculate the similarity between different sentences."
   ],
   "metadata": {
    "collapsed": false,
    "pycharm": {
     "name": "#%% md\n"
    }
   }
  },
  {
   "cell_type": "code",
   "execution_count": null,
   "outputs": [],
   "source": [
    "def embed_text(text, clean_fn, tokenize_fn, embed_fn):\n",
    "    cleaned = clean_fn(text)\n",
    "    tokens = tokenize_fn(cleaned)\n",
    "    embedding = embed_fn(tokens)\n",
    "    return embedding"
   ],
   "metadata": {
    "collapsed": false,
    "pycharm": {
     "name": "#%%\n"
    }
   }
  },
  {
   "cell_type": "markdown",
   "source": [
    "<a name='e5'></a>\n",
    "### Exercise 5: Cosine Similarity between two vectors\n",
    "\n",
    "(1p) Complete the following function that given any two vectors will compute the cosine similarity. If you don't remember the formula for the cosine similarity, revisit the course material. Notice that the function receives numpy arrays and recall that you can express cosine similarity as a dot product. Use numpy functions to write an efficient implementation."
   ],
   "metadata": {
    "collapsed": false,
    "pycharm": {
     "name": "#%% md\n"
    }
   }
  },
  {
   "cell_type": "code",
   "execution_count": null,
   "outputs": [],
   "source": [
    "def cosine_similarity(vector1, vector2):\n",
    "    \"\"\"\n",
    "    Computes the cosine similarity between two vectors\n",
    "    Args:\n",
    "        vector1: numpy array of the first vector\n",
    "        vector2: numpy array of the second vector\n",
    "\n",
    "    Returns: cosine similarity\n",
    "\n",
    "    \"\"\"\n",
    "    ### YOUR CODE HERE\n",
    "\n",
    "\n",
    "\n",
    "    ### YOUR CODE ENDS HERE"
   ],
   "metadata": {
    "collapsed": false,
    "pycharm": {
     "name": "#%%\n"
    }
   }
  },
  {
   "cell_type": "code",
   "execution_count": null,
   "outputs": [],
   "source": [
    "cosine_similarity(np.array([0, 1, 2]), np.array([0, 2, 4]))"
   ],
   "metadata": {
    "collapsed": false,
    "pycharm": {
     "name": "#%%\n"
    }
   }
  },
  {
   "cell_type": "code",
   "execution_count": null,
   "outputs": [],
   "source": [
    "sentences = [\n",
    "    'The quick brown fox jumps over the lazy dog.',\n",
    "    'Some interesting document containin sentences.',\n",
    "    'The quick brown fox jumps over the lazy cat and some other stuff.',\n",
    "    'Fox and deer are not friends.',\n",
    "    'Fox and deer are not friends. But this document is a lot longer than the previous one. We can add sentence by sentence and see how the embeddings change.',\n",
    "]\n",
    "embedded_sentences = [\n",
    "    embed_text(sentence, clean, tokenize, lambda x: bag_of_words(x, token_to_id))\n",
    "    for sentence in sentences\n",
    "]\n",
    "\n",
    "query = 'fox and deer'\n",
    "embedded_query = embed_text(query, clean, tokenize, lambda x: bag_of_words(x, token_to_id))\n",
    "\n",
    "cosine_similarities = [\n",
    "    cosine_similarity(embedded_query, embedded_sentence)\n",
    "    for embedded_sentence in embedded_sentences\n",
    "]\n",
    "print(f'Query: {query}')\n",
    "for sent, cos_sim in zip(sentences, cosine_similarities):\n",
    "    print(f'Cosine Similarity: {cos_sim:.4f} - Sentence: {sent}')"
   ],
   "metadata": {
    "collapsed": false,
    "pycharm": {
     "name": "#%%\n"
    }
   }
  },
  {
   "cell_type": "markdown",
   "source": [
    "We will apply the function to the whole dataset. This might take a while, so be patient. The result will be stored in the `sentence_bow` and `compressed_bow` fields of the dataset."
   ],
   "metadata": {
    "collapsed": false,
    "pycharm": {
     "name": "#%% md\n"
    }
   }
  },
  {
   "cell_type": "code",
   "execution_count": null,
   "outputs": [],
   "source": [
    "def bag_of_words_dataset(example):\n",
    "    \"\"\"\n",
    "    Creates a bag-of-words representation of the sentence and compressed sentence in the example from the Dataset\n",
    "    Args:\n",
    "        example: an example from the Dataset\n",
    "\n",
    "    Returns: updated example with 'sentence_bow' and 'compressed_bow' columns\n",
    "\n",
    "    \"\"\"\n",
    "    sentence_tokens = example['sentence_tokens']\n",
    "    compressed_tokens = example['compressed_tokens']\n",
    "\n",
    "    sentence_bow = bag_of_words(sentence_tokens, token_to_id)\n",
    "    compressed_bow = bag_of_words(compressed_tokens, token_to_id)\n",
    "\n",
    "    example['sentence_bow'] = sentence_bow\n",
    "    example['compressed_bow'] = compressed_bow\n",
    "    return example"
   ],
   "metadata": {
    "collapsed": false,
    "pycharm": {
     "name": "#%%\n"
    }
   }
  },
  {
   "cell_type": "markdown",
   "source": [
    "The following cell will apply the function to the whole dataset. The result will be stored in the `sentence_bow` and `compressed_bow` fields of the dataset. We will also convert the dataset's fields `sentence_bow` and `compressed_bow` to numpy format for easier manipulation."
   ],
   "metadata": {
    "collapsed": false,
    "pycharm": {
     "name": "#%% md\n"
    }
   }
  },
  {
   "cell_type": "code",
   "execution_count": null,
   "outputs": [],
   "source": [
    "test_ds = split_ds['test'].map(bag_of_words_dataset)\n",
    "test_ds = test_ds.with_format('np', columns=['sentence_bow', 'compressed_bow'], dtype=float)\n",
    "print(test_ds)"
   ],
   "metadata": {
    "collapsed": false,
    "pycharm": {
     "name": "#%%\n"
    }
   }
  },
  {
   "cell_type": "markdown",
   "source": [
    "Let's check the results. The `sentence_bow` and `compressed_bow` fields should contain the bag-of-words representation of the sentences and compressed sentences, respectively."
   ],
   "metadata": {
    "collapsed": false,
    "pycharm": {
     "name": "#%% md\n"
    }
   }
  },
  {
   "cell_type": "code",
   "execution_count": null,
   "outputs": [],
   "source": [
    "print(test_ds[0])"
   ],
   "metadata": {
    "collapsed": false,
    "pycharm": {
     "name": "#%%\n"
    }
   }
  },
  {
   "cell_type": "code",
   "execution_count": null,
   "outputs": [],
   "source": [
    "sentences_bows = test_ds['sentence_bow']\n",
    "print(sentences_bows.shape)"
   ],
   "metadata": {
    "collapsed": false,
    "pycharm": {
     "name": "#%%\n"
    }
   }
  },
  {
   "cell_type": "markdown",
   "source": [
    "Now we can start building a retriever based on the bag of words representation. The first step is to calculate the cosine similarity between two vectors."
   ],
   "metadata": {
    "collapsed": false,
    "pycharm": {
     "name": "#%% md\n"
    }
   }
  },
  {
   "cell_type": "markdown",
   "source": [
    "<a name='e6'></a>\n",
    "### Exercise 6: Cosine Similarity between a vector and an array of vectors\n",
    "\n",
    "(2p) The next step in our retrieval system, would be to calculate the proximity of a query to our retrieval corpus (in our case that is all the sentences).\n",
    "\n",
    "Complete the following function to calculate the cosine similarity between a vector (first parameter `vector`, that will usually be the query vector) and all other vectors (second parameter `other_vectors`, that will be the sentence embeddings in our case). Note that the `other_vectors` parameter is a single numpy array of size `N x D`, where $N$ is the number of vectors and $D$ is the dimension of each vector.\n",
    "\n",
    "For maximum efficiency (we will need it) do not use loops. Try to write the implementation with numpy functions. Hint: matrix multiplication can be seen as calculating the dot product between rows and columns of the multiplied matrices."
   ],
   "metadata": {
    "collapsed": false,
    "pycharm": {
     "name": "#%% md\n"
    }
   }
  },
  {
   "cell_type": "code",
   "execution_count": null,
   "metadata": {
    "id": "LgaV2b3fpSOR",
    "pycharm": {
     "name": "#%%\n"
    }
   },
   "outputs": [],
   "source": [
    "def cosine_similarity_1_to_n(vector, other_vectors):\n",
    "    \"\"\"\n",
    "    Calculates the cosine similarity between a single vector and other vectors.\n",
    "    Args:\n",
    "        vector: a numpy array representing a vector of D dimensions\n",
    "        other_vectors: a 2D numpy array representing other vectors (of the size NxD, where N is the number of vectors and D is their dimension)\n",
    "\n",
    "    Returns: a 1D numpy array of size N containing the cosine similarity between the vector and all the other vectors\n",
    "\n",
    "    \"\"\"\n",
    "\n",
    "    #### YOUR CODE HERE\n",
    "\n",
    "\n",
    "\n",
    "\n",
    "\n",
    "\n",
    "    ### YOUR CODE ENDS HERE"
   ]
  },
  {
   "cell_type": "markdown",
   "metadata": {
    "collapsed": false,
    "id": "irNqAJZLpSOR",
    "pycharm": {
     "name": "#%% md\n"
    }
   },
   "source": [
    "We will use the function to calculate the similarity of all sentences in the dataset to our query."
   ]
  },
  {
   "cell_type": "code",
   "execution_count": null,
   "outputs": [],
   "source": [
    "query = 'fox and deer'\n",
    "embedded_query = embed_text(query, clean, tokenize, lambda x: bag_of_words(x, token_to_id))"
   ],
   "metadata": {
    "collapsed": false,
    "pycharm": {
     "name": "#%%\n"
    }
   }
  },
  {
   "cell_type": "code",
   "execution_count": null,
   "metadata": {
    "id": "uD9mVAhYpSOR",
    "pycharm": {
     "name": "#%%\n"
    }
   },
   "outputs": [],
   "source": [
    "query_similarity = cosine_similarity_1_to_n(embedded_query, sentences_bows)\n",
    "print(query_similarity.shape)\n",
    "print(query_similarity[:10])"
   ]
  },
  {
   "cell_type": "markdown",
   "metadata": {
    "collapsed": false,
    "id": "_l3erVTNpSOR",
    "pycharm": {
     "name": "#%% md\n"
    }
   },
   "source": [
    "The following cell will select the most similar sentence."
   ]
  },
  {
   "cell_type": "code",
   "execution_count": null,
   "metadata": {
    "id": "0wWa4AWHpSOR",
    "pycharm": {
     "name": "#%%\n"
    }
   },
   "outputs": [],
   "source": [
    "most_similar = int(np.argmax(query_similarity))\n",
    "print(most_similar)\n",
    "print(query_similarity[most_similar])\n",
    "print(split_ds['test'][most_similar]['set'][0])"
   ]
  },
  {
   "cell_type": "markdown",
   "metadata": {
    "collapsed": false,
    "id": "fpdJHFD1pSOR",
    "pycharm": {
     "name": "#%% md\n"
    }
   },
   "source": [
    "The following function will return the indices of the top-k elements in the array."
   ]
  },
  {
   "cell_type": "code",
   "execution_count": null,
   "metadata": {
    "id": "QFUNI9elpSOS",
    "pycharm": {
     "name": "#%%\n"
    }
   },
   "outputs": [],
   "source": [
    "def top_k_indices(array, k, sorted=True):\n",
    "    \"\"\"\n",
    "    Returns top-k indices from the 1D array. If `sorted` is `True` the returned indices are sorted in the descending order\n",
    "    Args:\n",
    "        array: a 1D numpy array\n",
    "        k: a number of top indices to return\n",
    "        sorted: if True, the returned indices are sorted in descending order\n",
    "\n",
    "    Returns: a 1D array containing top-k indices\n",
    "\n",
    "    \"\"\"\n",
    "    top_k = np.argpartition(array, -k)[-k:]\n",
    "    if sorted:\n",
    "        selected = array[top_k]\n",
    "        sorted_selected = (-selected).argsort()\n",
    "        top_k = top_k[sorted_selected]\n",
    "    return top_k"
   ]
  },
  {
   "cell_type": "code",
   "execution_count": null,
   "metadata": {
    "id": "nY8vvJdepSOS",
    "pycharm": {
     "name": "#%%\n"
    }
   },
   "outputs": [],
   "source": [
    "top_indices = top_k_indices(query_similarity, k=10).tolist()\n",
    "for idx in top_indices:\n",
    "    print(split_ds['test'][idx]['set'][0])\n",
    "    print(f'similarity: {query_similarity[idx]}')"
   ]
  },
  {
   "cell_type": "markdown",
   "metadata": {
    "collapsed": false,
    "id": "BuRI2JzQpSOS",
    "pycharm": {
     "name": "#%% md\n"
    }
   },
   "source": [
    "<a name='e7'></a>\n",
    "### Exercise 7: Analyzing and improving BOW search results\n",
    "\n",
    "Experiment with different queries (taking into account the nature of the dataset and your insights from the analysis so far).\n",
    "Answer the following questions:\n",
    "- (5p) Does the search perform well? When does it fail? Discuss several examples that are we get an expected but also unexpected results (find at least 3 from each category). Provide reasons for the good/bad result in each case (e.g. is there some error in the data, is there some linguistic phenomenon that we don't capture, is something wrong with our modeling with average embeddings, ...)\n",
    "- (5p) If you see problems with search, how could you improve your implementation? Change the functions above, if you think there is room for improvement. Describe your changes and how they made the search better or (in case you made no changes) explain what made the search robust enough to work well."
   ]
  },
  {
   "cell_type": "code",
   "execution_count": null,
   "metadata": {
    "id": "sEQKHAvcpSOS",
    "pycharm": {
     "name": "#%%\n"
    }
   },
   "outputs": [],
   "source": [
    "#### YOUR CODE HERE\n",
    "\n",
    "\n",
    "\n",
    "### YOUR CODE ENDS HERE"
   ]
  },
  {
   "cell_type": "markdown",
   "metadata": {
    "id": "eiIGTfq6eFI5",
    "pycharm": {
     "name": "#%% md\n"
    }
   },
   "source": [
    "// your comments"
   ]
  },
  {
   "cell_type": "markdown",
   "source": [
    "## 3. Term Frequency - Inverse Document Frequency (TF-IDF)\n",
    "\n",
    "In this section we will implement the TF-IDF algorithm. While BOW is a simple way to represent the documents, it has some limitations. For example, it does not take into account the importance of each word in the document. TF-IDF representation takes into account the frequency of each word in the document and the frequency of the word in the whole dataset. It is a widely used technique in information retrieval and text mining. Refer to the lecture slides for more details."
   ],
   "metadata": {
    "collapsed": false,
    "pycharm": {
     "name": "#%% md\n"
    }
   }
  },
  {
   "cell_type": "markdown",
   "source": [
    "<a name='e8'></a>\n",
    "### Exercise 8: Inverse Document Frequency (IDF)\n",
    "(5p) In this exercise, you will implement the TF-IDF algorithm. First, calculate Inverse Document Frequency (IDF) for each word in the vocabulary. Intuitively, it is a measure of how informative a word is based on the whole dataset. Consult the lecture slides for the details. The IDF is calculated as follows:\n",
    "$$\n",
    "IDF(t) = log_{10}(N/df(t))$$\n",
    "where $N$ is the total number of documents (sentences) in the dataset and $df(t)$ is the number of documents containing the word $t$.\n"
   ],
   "metadata": {
    "collapsed": false,
    "pycharm": {
     "name": "#%% md\n"
    }
   }
  },
  {
   "cell_type": "code",
   "execution_count": null,
   "outputs": [],
   "source": [
    "def calculate_idf(bows):\n",
    "    \"\"\"\n",
    "    Calculates the IDF for each word in the vocabulary\n",
    "    Args:\n",
    "        bows: numpty array of size (N x D) where N is the number of documents and D is the vocabulary size\n",
    "\n",
    "    Returns: a numpy array of size D with IDF values for each token\n",
    "    \"\"\"\n",
    "\n",
    "    ### YOUR CODE HERE\n",
    "\n",
    "\n",
    "\n",
    "    ### YOUR CODE ENDS HERE\n",
    "\n",
    "idf = calculate_idf(sentences_bows)"
   ],
   "metadata": {
    "collapsed": false,
    "pycharm": {
     "name": "#%%\n"
    }
   }
  },
  {
   "cell_type": "markdown",
   "source": [
    "<a name='e9'></a>\n",
    "### Exercise 9: TF-IDF\n",
    "- (5p) Calculate TF-IDF on the `test` subset of the dataset.\n",
    "- (5p) Analyze the search results based on your implemented TF-IDF. Does the search perform well? When does it fail? Discuss several examples that are we get an expected but also unexpected results (find at least 3 from each category). Provide reasons for the good/bad result in each case (e.g. is there some error in the data, is there some linguistic phenomenon that we don't capture, is something wrong with our modeling with average embeddings, ...)\n",
    "- (5p) Compare the results with the ones you got with the bag-of-words representation. Discuss the differences and similarities. Do you think TF-IDF is a better representation for this task? Why or why not? Provide examples to support your arguments.\n"
   ],
   "metadata": {
    "collapsed": false,
    "pycharm": {
     "name": "#%% md\n"
    }
   }
  },
  {
   "cell_type": "code",
   "execution_count": null,
   "outputs": [],
   "source": [
    "### YOUR CODE HERE\n",
    "\n",
    "\n",
    "\n",
    "\n",
    "### YOUR CODE ENDS HERE\n",
    "\n",
    "### YOU CAN ADD MORE CELLS"
   ],
   "metadata": {
    "collapsed": false,
    "pycharm": {
     "name": "#%%\n"
    }
   }
  },
  {
   "cell_type": "markdown",
   "source": [
    "// your comments"
   ],
   "metadata": {
    "collapsed": false,
    "pycharm": {
     "name": "#%% md\n"
    }
   }
  },
  {
   "cell_type": "markdown",
   "source": [
    "## 4. Word Embeddings\n",
    "\n",
    "In this section you will load the pre-trained word embeddings model - Glove. You can read more about it [here](https://aclanthology.org/D14-1162/) ([https://aclanthology.org/D14-1162/](https://aclanthology.org/D14-1162/)). The embeddings are trained on a large corpus of text and are available in different dimensions. We will start with the dimension of 100, but later you will be asked to experiment with other dimensions.\n",
    "Gensim library maintains a storage containing some pre-trained models. You can read more about it [here](https://github.com/piskvorky/gensim-data) ([https://github.com/piskvorky/gensim-data](https://github.com/piskvorky/gensim-data)). Be sure to read the README of this repository.\n",
    "\n",
    "Let's first load the info of what models are available."
   ],
   "metadata": {
    "collapsed": false,
    "pycharm": {
     "name": "#%% md\n"
    }
   }
  },
  {
   "cell_type": "code",
   "execution_count": null,
   "outputs": [],
   "source": [
    "import json\n",
    "import gensim.downloader as api\n",
    "\n",
    "info = api.info()  # show info about available models/datasets\n",
    "print(json.dumps(info['models'], indent=2))"
   ],
   "metadata": {
    "collapsed": false,
    "pycharm": {
     "name": "#%%\n"
    }
   }
  },
  {
   "cell_type": "code",
   "execution_count": null,
   "outputs": [],
   "source": [
    "glove_model = api.load(\"glove-wiki-gigaword-100\")"
   ],
   "metadata": {
    "collapsed": false,
    "pycharm": {
     "name": "#%%\n"
    }
   }
  },
  {
   "cell_type": "markdown",
   "source": [
    "We can use the loaded model's `key_to_index` attribute to retrieve the whole vocabulary (aka for how many words we learned embeddings for)."
   ],
   "metadata": {
    "collapsed": false,
    "pycharm": {
     "name": "#%% md\n"
    }
   }
  },
  {
   "cell_type": "code",
   "execution_count": null,
   "outputs": [],
   "source": [
    "vocab = list(glove_model.key_to_index)\n",
    "print(len(vocab))"
   ],
   "metadata": {
    "collapsed": false,
    "pycharm": {
     "name": "#%%\n"
    }
   }
  },
  {
   "cell_type": "markdown",
   "source": [
    "Let's explore a bit further the embeddings. In the following cells, the embedding of a single word is returned. Double-check the dimensions (as sanity check). This is like inspecting the `W` matrix (weights) that we discussed in the lecture."
   ],
   "metadata": {
    "collapsed": false,
    "pycharm": {
     "name": "#%% md\n"
    }
   }
  },
  {
   "cell_type": "code",
   "execution_count": null,
   "outputs": [],
   "source": [
    "# vector of a particular model. note that it is 100 dimensional as specified.\n",
    "glove_model['what']"
   ],
   "metadata": {
    "collapsed": false,
    "pycharm": {
     "name": "#%%\n"
    }
   }
  },
  {
   "cell_type": "markdown",
   "source": [
    "Gensim objects offers different methods to easily run very common tasks. For example, there are different functions to find the most similar words.\n",
    "\n",
    "Check the documentation on how [`most_similar`](https://tedboy.github.io/nlps/generated/generated/gensim.models.Word2Vec.most_similar.html) and [`similar_by_word`](https://tedboy.github.io/nlps/generated/generated/gensim.models.Word2Vec.similar_by_word.html) can be used."
   ],
   "metadata": {
    "collapsed": false,
    "pycharm": {
     "name": "#%% md\n"
    }
   }
  },
  {
   "cell_type": "code",
   "execution_count": null,
   "outputs": [],
   "source": [
    "# most similar words to a given word\n",
    "print(glove_model.most_similar('what', topn=10))\n",
    "\n",
    "# also u can use\n",
    "print(glove_model.similar_by_word('miss', topn=5))"
   ],
   "metadata": {
    "collapsed": false,
    "pycharm": {
     "name": "#%%\n"
    }
   }
  },
  {
   "cell_type": "code",
   "execution_count": null,
   "outputs": [],
   "source": [
    "print(glove_model.most_similar('why', topn=10))"
   ],
   "metadata": {
    "collapsed": false,
    "pycharm": {
     "name": "#%%\n"
    }
   }
  },
  {
   "cell_type": "code",
   "execution_count": null,
   "outputs": [],
   "source": [
    "print(glove_model.similar_by_word('who', topn=5))"
   ],
   "metadata": {
    "collapsed": false,
    "pycharm": {
     "name": "#%%\n"
    }
   }
  },
  {
   "cell_type": "markdown",
   "source": [
    "We can now compare our implementation with the one in the pre-trained model and confirm what we already expected."
   ],
   "metadata": {
    "collapsed": false,
    "pycharm": {
     "name": "#%% md\n"
    }
   }
  },
  {
   "cell_type": "code",
   "execution_count": null,
   "outputs": [],
   "source": [
    "# simalarity between two words\n",
    "word1 = 'alive'\n",
    "word2 = 'biology'\n",
    "print(glove_model.similarity(word1, word2))\n",
    "print(cosine_similarity(glove_model[word1], glove_model[word2]))"
   ],
   "metadata": {
    "collapsed": false,
    "pycharm": {
     "name": "#%%\n"
    }
   }
  },
  {
   "cell_type": "code",
   "execution_count": null,
   "outputs": [],
   "source": [
    "# simalarity between two words. similar words\n",
    "word1 = 'alive'\n",
    "word2 = 'life'\n",
    "print(glove_model.similarity(word1, word2))\n",
    "print(cosine_similarity(glove_model[word1], glove_model[word2]))"
   ],
   "metadata": {
    "collapsed": false,
    "pycharm": {
     "name": "#%%\n"
    }
   }
  },
  {
   "cell_type": "code",
   "execution_count": null,
   "outputs": [],
   "source": [
    "# simalarity between two words. dissimilar words\n",
    "word1 = 'alive'\n",
    "word2 = 'dead'\n",
    "print(glove_model.similarity(word1, word2))\n",
    "print(cosine_similarity(glove_model[word1], glove_model[word2]))"
   ],
   "metadata": {
    "collapsed": false,
    "pycharm": {
     "name": "#%%\n"
    }
   }
  },
  {
   "cell_type": "code",
   "execution_count": null,
   "outputs": [],
   "source": [
    "# simalarity between two words. unrelated words\n",
    "word1 = 'alive'\n",
    "word2 = 'horse'\n",
    "print(glove_model.similarity(word1, word2))\n",
    "print(cosine_similarity(glove_model[word1], glove_model[word2]))"
   ],
   "metadata": {
    "collapsed": false,
    "pycharm": {
     "name": "#%%\n"
    }
   }
  },
  {
   "cell_type": "code",
   "execution_count": null,
   "outputs": [],
   "source": [
    "# simalarity between two SAME words\n",
    "glove_model.similarity('equal', 'equal')\n",
    "word1 = 'equal'\n",
    "word2 = 'equal'\n",
    "print(glove_model.similarity(word1, word2))\n",
    "print(cosine_similarity(glove_model[word1], glove_model[word2]))"
   ],
   "metadata": {
    "collapsed": false,
    "pycharm": {
     "name": "#%%\n"
    }
   }
  },
  {
   "cell_type": "markdown",
   "source": [
    "The next function contains the code to plot a similarity matrix between multiple words (e.g. if we want to compare 10 words and their pair-wise similarities). It requires a matrix with similarities (as input) and labels (aka the words) to display in the final figure."
   ],
   "metadata": {
    "collapsed": false,
    "pycharm": {
     "name": "#%% md\n"
    }
   }
  },
  {
   "cell_type": "code",
   "execution_count": null,
   "outputs": [],
   "source": [
    "def plot_similarity_matrix(matrix, labels):\n",
    "    \"\"\"\n",
    "    Displays a plot of the `matrix` of size (N x N) with the labels specified as a list of size N\n",
    "    Args:\n",
    "        matrix: a square-sized (N x N) numpy array\n",
    "        labels: a list of strings of hte size N\n",
    "    \"\"\"\n",
    "\n",
    "    fig, ax = plt.subplots()\n",
    "    im = ax.imshow(matrix)\n",
    "\n",
    "    # Show all ticks and label them with the respective list entries\n",
    "    ax.set_xticks(np.arange(len(labels)), labels=labels)\n",
    "    ax.set_yticks(np.arange(len(labels)), labels=labels)\n",
    "\n",
    "    # Rotate the tick labels and set their alignment.\n",
    "    plt.setp(ax.get_xticklabels(), rotation=45, ha=\"right\",\n",
    "             rotation_mode=\"anchor\")\n",
    "\n",
    "    # Loop over data dimensions and create text annotations.\n",
    "    for i in range(len(labels)):\n",
    "        for j in range(len(labels)):\n",
    "            text = ax.text(j, i, f'{matrix[i, j]:.2f}',\n",
    "                           ha=\"center\", va=\"center\", color=\"w\")\n",
    "\n",
    "    # ax.set_title(\"Give a title if you want\")\n",
    "    fig.tight_layout()\n",
    "    plt.show()"
   ],
   "metadata": {
    "collapsed": false,
    "pycharm": {
     "name": "#%%\n"
    }
   }
  },
  {
   "cell_type": "markdown",
   "source": [
    "<a name='e10'></a>\n",
    "### Exercise 10: Plotting similarities between words\n",
    "\n",
    "(10p) In the following, we will explore some properties of word embeddings through some examples. We will use 6 example words for this purpose but experiment with other set of words as well. Fill in the next cell to create a similarity matrix between a list of words.\n",
    "\n",
    "Experiment with different words and their similarities plotted. Try at least 3 different sets of words of at least 6 words each. Use the `plot_similarity_matrix` function to visualize the results.\n",
    "Comment on the results. Do they make sense? Why some words are closer to each other than others? What does it mean?"
   ],
   "metadata": {
    "collapsed": false,
    "pycharm": {
     "name": "#%% md\n"
    }
   }
  },
  {
   "cell_type": "code",
   "execution_count": null,
   "outputs": [],
   "source": [
    "list_of_words = ['love', 'hate', 'life', 'equal', 'alive', 'dead']\n",
    "\n",
    "similarity_matrix = np.zeros((len(list_of_words), len(list_of_words)), dtype=float)\n",
    "\n",
    "### YOUR CODE HERE\n",
    "\n",
    "\n",
    "\n",
    "\n",
    "\n",
    "### YOUR CODE ENDS HERE\n",
    "\n",
    "\n",
    "plot_similarity_matrix(similarity_matrix, list_of_words)"
   ],
   "metadata": {
    "collapsed": false,
    "pycharm": {
     "name": "#%%\n"
    }
   }
  },
  {
   "cell_type": "code",
   "execution_count": null,
   "outputs": [],
   "source": [
    "#### YOUR CODE HERE\n",
    "\n",
    "\n",
    "\n",
    "### YOUR CODE ENDS HERE"
   ],
   "metadata": {
    "collapsed": false,
    "pycharm": {
     "name": "#%%\n"
    }
   }
  },
  {
   "cell_type": "markdown",
   "source": [
    "<a name='e11'></a>\n",
    "### Exercise 11: Other pre-trained word embeddings\n",
    "(10p) For this exercise, experiment with at least one different word embedding model. You can choose Glove with different dimensions or other pre-trained models. Use the gensim library to download and use the models.\n",
    "Plot similarity matrices between sets of words you used in the previous exercise and compare the results. Are there noticeable differences? Why (not)?"
   ],
   "metadata": {
    "collapsed": false,
    "pycharm": {
     "name": "#%% md\n"
    }
   }
  },
  {
   "cell_type": "code",
   "execution_count": null,
   "outputs": [],
   "source": [
    "#### YOUR CODE HERE\n",
    "\n",
    "\n",
    "\n",
    "### YOUR CODE ENDS HERE"
   ],
   "metadata": {
    "collapsed": false,
    "pycharm": {
     "name": "#%%\n"
    }
   }
  },
  {
   "cell_type": "markdown",
   "source": [
    "// your comments"
   ],
   "metadata": {
    "collapsed": false,
    "pycharm": {
     "name": "#%% md\n"
    }
   }
  },
  {
   "cell_type": "markdown",
   "source": [
    "## 5. Sentence Embeddings by Averaging Word Embeddings\n",
    "\n",
    "Word embeddings are a powerful model for representing words and their meaning (in terms of distributional similarity). As we discussed in class, we can use them in a wide variety of tasks with more complex architectures. Word vectors offer a dense vector for each word. What if we wanted to represent a sentence (or a document) based on word vectors. How can we do that?\n",
    "\n",
    "In the course, we will see different architectures that take into account the sequence of words (by combining their vectors). A first naive but simple and sometimes (as we are going to see) quite effective approach would be to represent a sentence with an embedding vector that is the average of the word vectors that form the sentence.\n",
    "\n",
    "So formally, this is what we are aiming for:\n",
    "\n",
    "$\n",
    "\\text{Sentence_Embedding} = \\frac{1}{N} \\sum_{i=1}^{N} \\text{Word_Embedding}_i\n",
    "$\n",
    "\n",
    "where:\n",
    "* $N$ is the number of words in a sentence\n",
    "* $\\text{Word_Embedding}_i$ is the word vector for the $i$-th in the sentence.\n",
    "\n",
    "Things to note:\n",
    "* The embedding vector for the sentence will obviously have the same dimension as the word embedding.\n",
    "* This representation ignores the word order (like bag-of-words). During the course we will see how we can overcome this limitation by using sequence models."
   ],
   "metadata": {
    "collapsed": false,
    "pycharm": {
     "name": "#%% md\n"
    }
   }
  },
  {
   "cell_type": "markdown",
   "source": [
    "<a name='e12'></a>\n",
    "### Exercise 12: Sentence Embedding\n",
    "\n",
    "(10p) Complete the function below that takes as input the sentence in the form of tokens (so it's a list of words) and calculates the sentence embedding vector. First, we would need to retrieve the word embeddings for each word from our loaded model and then average the vectors.\n",
    "\n",
    "Note: There can be cases where all tokens from a sentence are out-of-vocabulary words (OOV). Think what to do in this case and make sure to discuss it in the report."
   ],
   "metadata": {
    "collapsed": false,
    "pycharm": {
     "name": "#%% md\n"
    }
   }
  },
  {
   "cell_type": "code",
   "execution_count": null,
   "outputs": [],
   "source": [
    "def embed_sentence_word_model(tokens, model):\n",
    "    \"\"\"\n",
    "    Calculates the sentence embedding by averaging the embeddings of the tokens\n",
    "    Args:\n",
    "        tokens: a list of words from the sentence\n",
    "        model: a trained word embeddings model\n",
    "\n",
    "    Returns: a numpy array of the sentence embedding\n",
    "\n",
    "    \"\"\"\n",
    "    #### YOUR CODE HERE\n",
    "    #### CAUTION: be sure to cover the case where all tokens are out-of-vocabulary!!!\n",
    "\n",
    "\n",
    "\n",
    "\n",
    "    ### YOUR CODE ENDS HERE"
   ],
   "metadata": {
    "collapsed": false,
    "pycharm": {
     "name": "#%%\n"
    }
   }
  },
  {
   "cell_type": "markdown",
   "source": [
    "Now we can apply the function to the whole dataset. Here we do it both for the sentence and the compressed version. You should know it by now, but this operation might take some time. The next cells will apply your function to the whole dataset."
   ],
   "metadata": {
    "collapsed": false,
    "pycharm": {
     "name": "#%% md\n"
    }
   }
  },
  {
   "cell_type": "code",
   "execution_count": null,
   "outputs": [],
   "source": [
    "def embed_sentence_word_model_dataset(example, model):\n",
    "    \"\"\"\n",
    "    Embeds the sentence and the compressed sentence in the example from the Dataset\n",
    "    Args:\n",
    "        example: an example from the Dataset\n",
    "        model: a trained word embeddings model\n",
    "\n",
    "    Returns: updated example with 'sentence_embedding' and 'compressed_embedding' columns\n",
    "\n",
    "    \"\"\"\n",
    "    sentence_tokens = example['sentence_tokens']\n",
    "    clean_compressed = example['clean_compressed']\n",
    "    compressed_tokens = tokenize(clean_compressed)\n",
    "\n",
    "    sentence_embedding = embed_sentence_word_model(sentence_tokens, model)\n",
    "    compressed_embedding = embed_sentence_word_model(compressed_tokens, model)\n",
    "\n",
    "    example['sentence_embedding'] = sentence_embedding\n",
    "    example['compressed_embedding'] = compressed_embedding\n",
    "    return example"
   ],
   "metadata": {
    "collapsed": false,
    "pycharm": {
     "name": "#%%\n"
    }
   }
  },
  {
   "cell_type": "code",
   "execution_count": null,
   "outputs": [],
   "source": [
    "test_ds = test_ds.map(embed_sentence_word_model_dataset, fn_kwargs={'model': glove_model})\n",
    "print(test_ds)"
   ],
   "metadata": {
    "collapsed": false,
    "pycharm": {
     "name": "#%%\n"
    }
   }
  },
  {
   "cell_type": "code",
   "execution_count": null,
   "outputs": [],
   "source": [
    "for i in range(10):\n",
    "    print(test_ds[i])"
   ],
   "metadata": {
    "collapsed": false,
    "pycharm": {
     "name": "#%%\n"
    }
   }
  },
  {
   "cell_type": "markdown",
   "source": [
    "Here you can see that the new dataset returned a single numpy array containing all sentence embeddings in our dataset. This is a lot more efficient than returning a list of arrays (which is the default behaviour). Below we check the type and the dimensionality.\n",
    "\n",
    "We will be using `text` subset from our dataset to not use too much RAM."
   ],
   "metadata": {
    "collapsed": false,
    "pycharm": {
     "name": "#%% md\n"
    }
   }
  },
  {
   "cell_type": "code",
   "execution_count": null,
   "outputs": [],
   "source": [
    "sent_embedding = test_ds['sentence_embedding']\n",
    "compr_embedding = test_ds['compressed_embedding']\n",
    "print(type(sent_embedding))\n",
    "print(sent_embedding.shape)\n",
    "print(type(compr_embedding))\n",
    "print(compr_embedding.shape)"
   ],
   "metadata": {
    "collapsed": false,
    "pycharm": {
     "name": "#%%\n"
    }
   }
  },
  {
   "cell_type": "markdown",
   "source": [
    "Next we try the condensed representatin based on a simple query. Feel free to try different queries with different words. What happens if we have OOV words in a query?"
   ],
   "metadata": {
    "collapsed": false,
    "pycharm": {
     "name": "#%% md\n"
    }
   }
  },
  {
   "cell_type": "code",
   "execution_count": null,
   "outputs": [],
   "source": [
    "query = 'fox and deer'\n",
    "print(query)\n",
    "\n",
    "query_embedding = embed_text(query, clean, tokenize, lambda x: embed_sentence_word_model(x, glove_model))\n",
    "print(query_embedding.shape)\n",
    "print(query_embedding)"
   ],
   "metadata": {
    "collapsed": false,
    "pycharm": {
     "name": "#%%\n"
    }
   }
  },
  {
   "cell_type": "markdown",
   "source": [
    "<a name='e13'></a>\n",
    "### Exercise 13: Analyze sentence embeddings\n",
    "- (5p) Calculate similarity between the word embeddings representations of the selected queries and the dataset sentences.\n",
    "- (5p) Analyze the search results. Does the search work as expected? Discuss the results.\n",
    "- (5p) Compare the results with the ones you got with the bag-of-words and TF-IDF representation. Discuss the differences and similarities."
   ],
   "metadata": {
    "collapsed": false,
    "pycharm": {
     "name": "#%% md\n"
    }
   }
  },
  {
   "cell_type": "code",
   "execution_count": null,
   "outputs": [],
   "source": [
    "### YOUR CODE HERE\n",
    "\n",
    "\n",
    "\n",
    "\n",
    "### YOUR CODE ENDS HERE"
   ],
   "metadata": {
    "collapsed": false,
    "pycharm": {
     "name": "#%%\n"
    }
   }
  },
  {
   "cell_type": "markdown",
   "metadata": {
    "id": "ZY2jouFmeHOg",
    "pycharm": {
     "name": "#%% md\n"
    }
   },
   "source": [
    "## 6. Evaluating Retrieval\n",
    "\n",
    "In this last section we will try to evaluate how good our sentence retrieval system is. To keep the computational resources manageable, we will use the test set for that as its size is more manageable.\n",
    "\n",
    "Recall from the lecture in IR that there are several metrics to evaluate retrieval performance by taking into account the relevance of the retrieved results to the query. We will use Recall@K here (for more metrics and more details refer to the lecture slides and the textbooks).\n",
    "\n",
    "RRecall@K is a metric used to measure the effectiveness of a search system in retrieving relevant documents within the top $K$ retrieved documents. It calculates the proportion of relevant documents retrieved within the top-$K$ results, compared to the total number of relevant documents in the collection.\n",
    "\n",
    "$\n",
    "\\text{Recall@K} = \\frac{\\text{Number of relevant documents retrieved in the top }-K}{\\text{Total number of relevant documents}}\n",
    "$\n",
    "\n",
    "In our case, we have a sentence, and it's compressed version. To test our system, we will treat compressed sentences as the queries. Each query will have only a single relevant sentence - the corresponding uncompressed sentence.\n",
    "\n",
    "Therefore, for the calculation of Recall@K we will take into account whether the correct retrieved result is contained within the first $K$ retrieved results. For example, if for a query (i.e. a compressed sentence) we retrieve 10 results and within these we see the relevant one (i.e. the full sentence), then Recall@10 = 1."
   ]
  },
  {
   "cell_type": "markdown",
   "metadata": {
    "id": "QUKPtG-uem9f",
    "pycharm": {
     "name": "#%% md\n"
    }
   },
   "source": [
    "<a name='e14'></a>\n",
    "### Exercise 14: Cosine similarity between two sets of vectors\n",
    "\n",
    "(3p) In this exercise you will revisit your implementation of the cosine similarity. Generalize it so that it can accept two arrays containing two sets of vectors (first one containing $M$ vectors and the second one $N$ vectors). Compute the cosine similarity between each pair of vectors coming from the two sets. The result should be an array of size $M x N$.\n",
    "\n",
    "Once again, try to write an efficient code. This means no loops. Remember the relation between matrix multiplication and dot product. (Depending on your implementation of the previous function calculating cosine similarity, this one can be almost the same)"
   ]
  },
  {
   "cell_type": "code",
   "execution_count": null,
   "metadata": {
    "id": "xKiHDrN9eld7",
    "pycharm": {
     "name": "#%%\n"
    }
   },
   "outputs": [],
   "source": [
    "def cosine_similarity_m_to_n(vectors, other_vectors):\n",
    "    \"\"\"\n",
    "    Calculates the cosine similarity between a multiple vectors and other vectors.\n",
    "    Args:\n",
    "        vectors: a numpy array representing M number of vectors of D dimensions (of the size MxD)\n",
    "        other_vectors: a 2D numpy array representing other vectors (of the size NxD, where N is the number of vectors and D is their dimension)\n",
    "\n",
    "    Returns: a numpy array of cosine similarity between all the vectors and all the other vectors\n",
    "\n",
    "    \"\"\"\n",
    "\n",
    "    #### YOUR CODE HERE\n",
    "\n",
    "\n",
    "\n",
    "\n",
    "    ### YOUR CODE ENDS HERE"
   ]
  },
  {
   "cell_type": "markdown",
   "metadata": {
    "id": "qQ-Yhl1Sgoka",
    "pycharm": {
     "name": "#%% md\n"
    }
   },
   "source": [
    "The following function will use your implementation to calculate Recall@K based on the similarity matrix."
   ]
  },
  {
   "cell_type": "code",
   "execution_count": null,
   "metadata": {
    "id": "z0sLS3uRCfdh",
    "pycharm": {
     "name": "#%%\n"
    }
   },
   "outputs": [],
   "source": [
    "def calculate_recall(queries, sentences, k, batch_size=1000):\n",
    "    \"\"\"\n",
    "    Calculates recall@k given the embeddings of the queries and sentences.\n",
    "    Assumes that only a single sentence with the same index as query is relevant.\n",
    "    Batching is implemented to avoid high memory usage.\n",
    "    Args:\n",
    "        queries: a numpy array with the embeddings of N queries\n",
    "        sentences: a numpy array with the embeddings of N sentences available for retrieval\n",
    "        k: number of top results to search for the relevant sentence\n",
    "        batch_size: number of queries to process at a time\n",
    "\n",
    "    Returns: calculated recall@k\n",
    "\n",
    "    \"\"\"\n",
    "    n_queries = queries.shape[0]\n",
    "    correct = np.zeros(n_queries, dtype=bool)\n",
    "\n",
    "    with tqdm.tqdm(total=n_queries) as pbar:\n",
    "        for batch_start in range(0, n_queries, batch_size):\n",
    "            batch_end = min(batch_start + batch_size, n_queries)\n",
    "            queries_batch = queries[batch_start:batch_end]\n",
    "            batch_similarity = cosine_similarity_m_to_n(queries_batch, sentences)\n",
    "\n",
    "            for i, similarity_row in enumerate(batch_similarity):\n",
    "                query_index = batch_start + i\n",
    "                top_k = top_k_indices(similarity_row, k=k, sorted=False)\n",
    "\n",
    "                if query_index in top_k:\n",
    "                    correct[query_index] = True\n",
    "\n",
    "                pbar.update(1)\n",
    "\n",
    "    recall = np.sum(correct) / n_queries\n",
    "    return recall"
   ]
  },
  {
   "cell_type": "markdown",
   "metadata": {
    "id": "3QgAgMiDgw8m",
    "pycharm": {
     "name": "#%% md\n"
    }
   },
   "source": [
    "You can use it like so:"
   ]
  },
  {
   "cell_type": "code",
   "execution_count": null,
   "metadata": {
    "id": "Yxpex7ZxHM7c",
    "pycharm": {
     "name": "#%%\n"
    }
   },
   "outputs": [],
   "source": [
    "recall_at_1 = calculate_recall(compr_embedding, sent_embedding, k=1, batch_size=1000)\n",
    "print(f'\\n{recall_at_1 * 100:.2f}%')"
   ]
  },
  {
   "cell_type": "markdown",
   "metadata": {
    "id": "zY5ZVq5ogzMI",
    "pycharm": {
     "name": "#%% md\n"
    }
   },
   "source": [
    "<a name='e15'></a>\n",
    "### Exercise 15: Evaluating retrieval methods\n",
    "\n",
    "(10p) Calculate recall for different values of $K$ for all methods:\n",
    "- BOW,\n",
    "- TF-IDF,\n",
    "- Pre-trained embeddings.\n",
    "\n",
    "Discuss the results.\n",
    "Comment on how recall changes based on the value of $K$. Are the results expected or surprising?"
   ]
  },
  {
   "cell_type": "code",
   "execution_count": null,
   "outputs": [],
   "source": [
    "#### YOUR CODE HERE\n",
    "\n",
    "\n",
    "\n",
    "### YOUR CODE ENDS HERE"
   ],
   "metadata": {
    "collapsed": false,
    "pycharm": {
     "name": "#%%\n"
    }
   }
  },
  {
   "cell_type": "markdown",
   "source": [
    "<a name='e16'></a>\n",
    "### Exercise 16: Improving retrieval\n",
    "\n",
    "(10p) Imagine that you work at a company and are tasked with delivering the best retrieval method. Select the most promising one and try to improve the scores (e.g. by changing the vocab size, loading different model, etc.).\n",
    "Discuss the results you achieve, even if you didn't manage to improve the scores."
   ],
   "metadata": {
    "collapsed": false,
    "pycharm": {
     "name": "#%% md\n"
    }
   }
  },
  {
   "cell_type": "code",
   "execution_count": null,
   "metadata": {
    "id": "YA9bEm5ehMq8",
    "pycharm": {
     "name": "#%%\n"
    }
   },
   "outputs": [],
   "source": [
    "#### YOUR CODE HERE\n",
    "\n",
    "\n",
    "\n",
    "### YOUR CODE ENDS HERE"
   ]
  },
  {
   "cell_type": "markdown",
   "source": [
    "// your comments"
   ],
   "metadata": {
    "collapsed": false,
    "pycharm": {
     "name": "#%% md\n"
    }
   }
  }
 ],
 "metadata": {
  "colab": {
   "toc_visible": true,
   "provenance": []
  },
  "kernelspec": {
   "display_name": "Python 3",
   "language": "python",
   "name": "python3"
  },
  "language_info": {
   "codemirror_mode": {
    "name": "ipython",
    "version": 2
   },
   "file_extension": ".py",
   "mimetype": "text/x-python",
   "name": "python",
   "nbconvert_exporter": "python",
   "pygments_lexer": "ipython2",
   "version": "2.7.6"
  }
 },
 "nbformat": 4,
 "nbformat_minor": 0
}

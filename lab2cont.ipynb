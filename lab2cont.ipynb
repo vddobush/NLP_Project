{
 "cells": [
  {
   "cell_type": "markdown",
   "metadata": {
    "collapsed": false,
    "id": "od2YkWY8pSOC",
    "pycharm": {
     "name": "#%% md\n"
    }
   },
   "source": [
    "# NLP 2025\n",
    "# Lab 2: Word Vectors and Information Retrieval\n",
    "\n",
    "During the first few weeks, we discussed various ways to represent text 📝. One key question was: What should be the basic unit of representation? Words are the fundamental building blocks 🧱.\n",
    "\n",
    "In this lab, we will explore different text representation models, such as Bag-of-Words (BoW), TF-IDF and word embeddings 🔤➡️🔢. Among these, word embeddings are the most effective in terms of performance. They represent each word as a vector of numbers, where each vector captures the meaning of the word 🧠📊.\n",
    "\n",
    "These numerical representations (or weights) are learned using machine learning models 🤖. We’ll dive deeper into how these vectors are learned in the next lecture 📚.\n",
    "\n",
    "For now, we’ll focus on how different representation methods affect performance in an information retrieval task 🔍."
   ]
  },
  {
   "cell_type": "markdown",
   "metadata": {
    "collapsed": false,
    "id": "s93LS5bspSOD",
    "pycharm": {
     "name": "#%% md\n"
    }
   },
   "source": [
    "By the end of this lab, you should be able to:\n",
    "\n",
    "+ 🧼🔁 Implement and/or use built-in functions to preprocess your data (once again!)\n",
    "+ 🧱👜 Build a Bag-of-Words representation of the dataset\n",
    "+ 📊✨ Implement TF-IDF\n",
    "+ 📥🔤 Load pre-trained word embeddings\n",
    "+ 🔍🧠 Inspect and test word embedding properties\n",
    "+ 🗣️➡️📐 Use word embeddings to get sentence representations (aka sentence embeddings)\n",
    "+ 🧩🔎 Use sentence embeddings to solve more complex tasks like information retrieval\n",
    "+ 🧪📏 Design evaluation frameworks for specific NLP tasks and assess their difficulty\n",
    "\n",
    "### Score breakdown\n",
    "\n",
    "| Exercise            | Points |\n",
    "|---------------------|--------|\n",
    "| [Exercise 1](#e1)   | 1      |\n",
    "| [Exercise 2](#e2)   | 1      |\n",
    "| [Exercise 3](#e3)   | 1      |\n",
    "| [Exercise 4](#e4)   | 1      |\n",
    "| [Exercise 5](#e5)   | 1      |\n",
    "| [Exercise 6](#e6)   | 2      |\n",
    "| [Exercise 7](#e7)   | 10     |\n",
    "| [Exercise 8](#e8)   | 5      |\n",
    "| [Exercise 9](#e9)   | 15     |\n",
    "| [Exercise 10](#e10) | 10     |\n",
    "| [Exercise 11](#e11) | 10     |\n",
    "| [Exercise 12](#e12) | 5      |\n",
    "| [Exercise 13](#e13) | 15     |\n",
    "| [Exercise 14](#e14) | 3      |\n",
    "| [Exercise 15](#e15) | 10     |\n",
    "| [Exercise 16](#e16) | 10     |\n",
    "| Total               | 100    |\n",
    "\n",
    "This score will be scaled down to 1 and that will be your final lab score.\n",
    "\n",
    "### 📌 **Instructions for Delivery** (📅 **Deadline: 18/Apr 18:00**, 🎭 *wildcards possible*)\n",
    "\n",
    "✅ **Submission Requirements**\n",
    "+ 📄 You need to submit a **PDF of your report** (use the templates provided in **LaTeX** 🖋️ (*preferred*) or **Word** 📑) and a **copy of your notebook** 📓 with the code.\n",
    "+ ⚡ Make sure that **all cells are executed properly** ⚙️ and that **all figures/results/plots** 📊 you include in the report are also visible in your **executed notebook**.\n",
    "\n",
    "✅ **Collaboration & Integrity**\n",
    "+ 🗣️ While you may **discuss** the lab with others, you must **write your solutions with your group only**. If you **discuss specific tasks** with others, please **include their names** in the appendix of the report.\n",
    "+ 📜 **Honor Code applies** to this lab. For more details, check **Syllabus §7.2** ⚖️.\n",
    "+ 📢 **Mandatory Disclosure**:\n",
    "   - Any **websites** 🌐 (e.g., **Stack Overflow** 💡) or **other resources** used must be **listed and disclosed**.\n",
    "   - Any **GenAI tools** 🤖 (e.g., **ChatGPT**) used must be **explicitly mentioned**.\n",
    "   - 🚨 **Failure to disclose these resources is a violation of academic integrity**. See **Syllabus §7.3** for details."
   ]
  },
  {
   "cell_type": "markdown",
   "metadata": {
    "collapsed": false,
    "id": "aHYGq5RUpSOD",
    "pycharm": {
     "name": "#%% md\n"
    }
   },
   "source": [
    "## 0. Setup\n",
    "\n",
    "As in the last lab, we will be using huggingface datasets library ([https://huggingface.co/datasets](https://huggingface.co/datasets)). You can find the detailed documentation and tutorials here: [https://huggingface.co/docs/datasets/en/index](https://huggingface.co/docs/datasets/en/index)\n",
    "\n",
    "If you don't have it installed you can run the code below or install it via `pip` in your terminal. If you are using Google Colab, you can uncomment and run the code below in a code cell. Restarting of the runtime may be required after installation (Runtime/Restart session)."
   ]
  },
  {
   "cell_type": "code",
   "execution_count": null,
   "metadata": {
    "ExecuteTime": {
     "end_time": "2025-04-18T16:09:22.455694Z",
     "start_time": "2025-04-18T16:09:09.708684Z"
    },
    "id": "rhEG8hKrpSOE",
    "pycharm": {
     "name": "#%%\n"
    }
   },
   "outputs": [],
   "source": [
    "! pip install -U datasets~=3.5.0\n",
    "! pip install -U gensim\n",
    "! python -m pip install -U matplotlib\n",
    "! pip install nltk\n",
    "! pip install -U scikit-learn"
   ]
  },
  {
   "cell_type": "markdown",
   "metadata": {
    "collapsed": false,
    "pycharm": {
     "name": "#%% md\n"
    }
   },
   "source": [
    "Previously installed datasets library version of 3.2.0 had an error when combined with numpy version >2. If you encounter an error at some point it might require to update the datasets library to the newer version. You can do that by running the code below. If you are using Google Colab, you can run the code below in a code cell. If you are using Jupyter Notebook, you can run the code below in a code cell or in a terminal."
   ]
  },
  {
   "cell_type": "code",
   "execution_count": null,
   "metadata": {
    "ExecuteTime": {
     "end_time": "2025-04-18T16:10:02.833461Z",
     "start_time": "2025-04-18T16:09:22.462649Z"
    },
    "collapsed": false,
    "pycharm": {
     "name": "#%%\n"
    }
   },
   "outputs": [],
   "source": [
    "# ! pip install --upgrade --force-reinstall datasets"
   ]
  },
  {
   "cell_type": "markdown",
   "metadata": {
    "collapsed": false,
    "id": "5CCI1TPJpSOF",
    "pycharm": {
     "name": "#%% md\n"
    }
   },
   "source": [
    "As usual, we start by importing some essential Python libraries and we will be using. Apart from `gensim` (which is going to be used for word embeddings), we have already seen the others."
   ]
  },
  {
   "cell_type": "code",
   "execution_count": 1,
   "metadata": {
    "ExecuteTime": {
     "end_time": "2025-04-18T16:10:02.854150Z",
     "start_time": "2025-04-18T16:10:02.846882Z"
    },
    "id": "CRe8W4hKpSOF",
    "pycharm": {
     "name": "#%%\n"
    }
   },
   "outputs": [
    {
     "name": "stderr",
     "output_type": "stream",
     "text": [
      "[nltk_data] Downloading package punkt_tab to\n",
      "[nltk_data]     C:\\Users\\annek\\AppData\\Roaming\\nltk_data...\n",
      "[nltk_data]   Package punkt_tab is already up-to-date!\n"
     ]
    },
    {
     "data": {
      "text/plain": [
       "True"
      ]
     },
     "execution_count": 1,
     "metadata": {},
     "output_type": "execute_result"
    }
   ],
   "source": [
    "import re\n",
    "\n",
    "import numpy as np\n",
    "import matplotlib.pyplot as plt\n",
    "import datasets\n",
    "import nltk\n",
    "import tqdm\n",
    "import gensim\n",
    "\n",
    "nltk.download('punkt_tab')"
   ]
  },
  {
   "cell_type": "markdown",
   "metadata": {
    "collapsed": false,
    "id": "NXy-1KiCpSOF",
    "pycharm": {
     "name": "#%% md\n"
    }
   },
   "source": [
    "## 1. Load and Preprocess Data\n",
    "\n",
    "*Sentence compression* involves rephrasing sentences to make them shorter while still retaining the original meaning. A reliable compression system would be valuable for mobile devices and could also serve as a component in an extractive summarization system.\n",
    "\n",
    "The dataset we are going to use can be found on [Huggingface](https://huggingface.co/datasets/embedding-data/sentence-compression). It concerns a set of 180,000 pairs of sentences, aka it is a parallel corpus of sentences and their equivalent compressions. It has been collected by harvesting news articles from the Internet where the headline appears to be similar to the first sentence and that property is used to find an \"extractive\" compression of the sentence.\n",
    "\n",
    "For example, for the sentence\n",
    "\n",
    "`\"Regulators Friday shut down a small Florida bank, bringing to 119 the number of US bank failures this year amid mounting loan defaults\"`\n",
    "\n",
    "the compressed equivalent (based on the dataset) is:\n",
    "\n",
    "`\"Regulators shut down small Florida bank\"`.\n",
    "\n",
    "\n",
    "For more information you can read the original paper (from Google) [here](https://aclanthology.org/D13-1155.pdf). We strongly recommend going over the paper to gain further insights. Notice that the paper is from 2013, therefore word embeddings have not been widely introduced yet in NLP tasks, meaning that the methods applied were based on the traditional NLP pipeline (feature extraction + ML)."
   ]
  },
  {
   "cell_type": "markdown",
   "metadata": {
    "collapsed": false,
    "id": "ztJX2GRVpSOF",
    "pycharm": {
     "name": "#%% md\n"
    }
   },
   "source": [
    "### 1.1 Loading the Dataset\n",
    "\n",
    "The dataset will be loaded as a Pandas DataFrame. This may take a few minutes because of the large size of the data.\n",
    "\n",
    "Make sure to inspect the dataset and make sure it is imported properly."
   ]
  },
  {
   "cell_type": "code",
   "execution_count": 2,
   "metadata": {
    "ExecuteTime": {
     "end_time": "2025-04-18T16:10:08.628179Z",
     "start_time": "2025-04-18T16:10:02.958464Z"
    },
    "id": "tay2NXPTpSOG",
    "pycharm": {
     "name": "#%%\n"
    }
   },
   "outputs": [
    {
     "name": "stdout",
     "output_type": "stream",
     "text": [
      "DatasetDict({\n",
      "    train: Dataset({\n",
      "        features: ['set'],\n",
      "        num_rows: 180000\n",
      "    })\n",
      "})\n"
     ]
    }
   ],
   "source": [
    "ds = datasets.load_dataset('embedding-data/sentence-compression')\n",
    "print(ds)"
   ]
  },
  {
   "cell_type": "code",
   "execution_count": 3,
   "metadata": {
    "ExecuteTime": {
     "end_time": "2025-04-18T16:10:08.646532Z",
     "start_time": "2025-04-18T16:10:08.640977Z"
    },
    "id": "bUud3eZVpSOH",
    "pycharm": {
     "name": "#%%\n"
    }
   },
   "outputs": [
    {
     "name": "stdout",
     "output_type": "stream",
     "text": [
      "{'set': [\"The USHL completed an expansion draft on Monday as 10 players who were on the rosters of USHL teams during the 2009-10 season were selected by the League's two newest entries, the Muskegon Lumberjacks and Dubuque Fighting Saints.\", 'USHL completes expansion draft']}\n",
      "{'set': ['Major League Baseball Commissioner Bud Selig will be speaking at St. Norbert College next month.', 'Bud Selig to speak at St. Norbert College']}\n",
      "{'set': [\"It's fresh cherry time in Michigan and the best time to enjoy this delicious and nutritious fruit.\", \"It's cherry time\"]}\n",
      "{'set': ['An Evesham man is facing charges in Pennsylvania after he allegedly dragged his girlfriend from the side of his pickup truck on the campus of Kutztown University in the early morning hours of Dec. 5, police said.', 'Evesham man faces charges for Pa.']}\n",
      "{'set': [\"NRT LLC, one of the nation's largest residential real estate brokerage companies, announced several executive appointments within its Coldwell Banker Residential Brokerage operations in Southern California.\", 'NRT announces executive appointments at its Coldwell Banker operations in Southern California']}\n",
      "{'set': ['THE JSE kept toying with an all time high by midday today as resources continued to fuel the bourse.', 'JSE keeps toying with all time high']}\n",
      "{'set': ['The government is defending the latest police crime statistics despite a worrying rise in the recorded amount of violent offending.', 'Government defends crime statistics']}\n",
      "{'set': ['The renovated Marappalam bridge, which had been opened for two-wheelers last week, was opened for other vehicles also on Friday.', 'Marappalam bridge opened']}\n",
      "{'set': ['A new survey shows 30 percent of Californians use Twitter, and more and more of us are using our smart phones to go online.', 'Survey: 30 percent of Californians use Twitter']}\n",
      "{'set': ['Brightpoint ,a provider of logistic services to the mobile industry, has started operations in the Turkish market.', 'Brightpoint starts operations on Turkish market']}\n"
     ]
    }
   ],
   "source": [
    "for i in range(10):\n",
    "    print(ds['train'][i])"
   ]
  },
  {
   "cell_type": "markdown",
   "metadata": {
    "collapsed": false,
    "id": "HfJSiWxrpSOH",
    "pycharm": {
     "name": "#%% md\n"
    }
   },
   "source": [
    "The dataset comes with only the `train` split so we will have to split it ourselves."
   ]
  },
  {
   "cell_type": "code",
   "execution_count": 4,
   "metadata": {
    "ExecuteTime": {
     "end_time": "2025-04-18T16:10:08.788519Z",
     "start_time": "2025-04-18T16:10:08.724073Z"
    },
    "id": "tATL53MWpSOH",
    "pycharm": {
     "name": "#%%\n"
    }
   },
   "outputs": [
    {
     "name": "stdout",
     "output_type": "stream",
     "text": [
      "DatasetDict({\n",
      "    train: Dataset({\n",
      "        features: ['set'],\n",
      "        num_rows: 144000\n",
      "    })\n",
      "    test: Dataset({\n",
      "        features: ['set'],\n",
      "        num_rows: 36000\n",
      "    })\n",
      "})\n"
     ]
    }
   ],
   "source": [
    "split_ds = ds['train'].train_test_split(test_size=0.2)\n",
    "print(split_ds)"
   ]
  },
  {
   "cell_type": "markdown",
   "metadata": {
    "collapsed": false,
    "id": "L133t3CqpSOH",
    "pycharm": {
     "name": "#%% md\n"
    }
   },
   "source": [
    "### 1.2 Preprocessing the dataset\n",
    "In this section we will prepare the dataset, aka clean the sentences and tokenize.\n",
    "\n",
    "First, let's write the function to clean the text. It can be similar to the one from the previous lab (Lab1) but make sure that it makes sense for this dataset and task.\n",
    "\n",
    "More specifically, think about lower-casing, punctuation, stop-words and lemmatization/stemming and the impact it might have on the dataset. Also reflect on the fact that with word embeddings we want to uncover semantic relationships between words, whereas with bag-of-words we were trying to capture different morphological variations."
   ]
  },
  {
   "cell_type": "markdown",
   "metadata": {
    "collapsed": false,
    "id": "mQszN6GNpSOH",
    "pycharm": {
     "name": "#%% md\n"
    }
   },
   "source": [
    "<a name='e1'></a>\n",
    "### Exercise 1: Clean function\n",
    "(1p) Fill in the following function ot clean the dataset. Implement at least 3 different steps."
   ]
  },
  {
   "cell_type": "code",
   "execution_count": 5,
   "metadata": {
    "ExecuteTime": {
     "end_time": "2025-04-18T16:15:33.838177Z",
     "start_time": "2025-04-18T16:15:33.831748Z"
    },
    "id": "TxjfLQj6pSOH",
    "pycharm": {
     "name": "#%%\n"
    }
   },
   "outputs": [],
   "source": [
    "def clean(text):\n",
    "    \"\"\"\n",
    "    Cleans the given text\n",
    "    Args:\n",
    "        text: a str with the text to clean\n",
    "\n",
    "    Returns: a str with the cleaned text\n",
    "\n",
    "    \"\"\"\n",
    "\n",
    "    # Empty text\n",
    "    if text == '':\n",
    "        return text\n",
    "\n",
    "    # 'text' from the example can be of type numpy.str_, let's convert it to a python str\n",
    "    text = str(text)\n",
    "\n",
    "    #you might need more\n",
    "    #add them here\n",
    "\n",
    "    ### YOUR CODE HERE\n",
    "\n",
    " # three more cleaning steps of your choice\n",
    "\n",
    "    #4.1 setting everything to small letters\n",
    "    text = text.lower()\n",
    "\n",
    "    #4.2 People often prolong words to \"empoooweer\" the meaning. So, we need clean them because they devide the same (almost same)\n",
    "    # Remove 3+ repeated characters (letters, dots, etc.)\n",
    "    text = re.sub(r'(.)\\1{2,}', r'\\1\\1', text)\n",
    "\n",
    "    # This code replaces 3 or more repeated characters with only 2 of them\n",
    "\n",
    "    #4.3 We do not want to count links as words.\n",
    "    text = re.sub(r'http\\S+|www\\S+|https\\S+', \"\", text)\n",
    "\n",
    "    #4.4 We do not need to count usernames as words also. So we need to delete all words that starts with @\n",
    "    text = re.sub(r'@\\w+|\\b@user\\b|\\s*@\\s*', \"\", text)\n",
    "\n",
    "    # Remove isolated @ symbols\n",
    "    text = re.sub(r'@', \"\", text)\n",
    "\n",
    "    # text = re.sub(r'\\s*@\\s*', ' ', text)\n",
    "\n",
    "    #4.5 Remove all non-alphanumeric symbols (keep only letters, numbers and spaces)\n",
    "    text = re.sub(r'[^a-zA-Z0-9\\s]', ' ', text)\n",
    "\n",
    "\n",
    "\n",
    "    # remove comma between numbers\n",
    "    #ChatGPT (prompt: how to check the previous and the next value using re.sub?) To confirm that coma is between two numbers\n",
    "    #?<=\\d),(?=\\d) checks for the pattern where 'previous is digit, next is coma and after is also digit\n",
    "    #the rest replaces the pattern with nothing (basically deleting coma)\n",
    "    text = re.sub(r'(?<=\\d),(?=\\d)', \"\", text)\n",
    "\n",
    "    # space out the punctuation\n",
    "    text = re.sub(r'\\s*,\\s*', ' , ', text)\n",
    "\n",
    "    # space out the punctuation\n",
    "    #2 spacing out most common special characters Chat GPT -> how to add multiple arguments? Solution recived putting it in square brackets\n",
    "    text = re.sub(r'\\s*([!.?@#%&()])\\s*', r' \\1 ', text)\n",
    "\n",
    "    # remove multiple spaces\n",
    "    #For the better working of the code i moved the 'removing of multiple spaces' to the end since sapcing out the special characters  ,, can cause double space\n",
    "\n",
    "    text = re.sub(r'\\s{2,}', ' ', text)\n",
    "\n",
    "    # remove multiple spaces\n",
    "    #For the better working of the code i moved the 'removing of multiple spaces' to the end since sapcing out the special characters  ,, can cause double space\n",
    "    text = re.sub(r'[\\u200d\\u200c\\u2764\\ufe0f]+', ' ', text)\n",
    "    pattern = r\"\\s{2,}\"\n",
    "    text = re.sub(pattern, ' ', text)\n",
    "\n",
    "    ### YOUR CODE ENDS HERE\n",
    "\n",
    "    text = text.strip()\n",
    "\n",
    "    # Update the example with the cleaned text\n",
    "    return text"
   ]
  },
  {
   "cell_type": "markdown",
   "metadata": {
    "collapsed": false,
    "id": "gAqf1AoupSOJ",
    "pycharm": {
     "name": "#%% md\n"
    }
   },
   "source": [
    "The following function will apply the function (sic) you just wrote to the whole dataset. More specifically, it takes the first entry (`sentence`) from the set of uncompressed/compressed pairs, applies the `clean` function and saves the processed sentence in the field `clean_sentence`. The same is dome for the compressed version of the sentence (saved as `clean_compressed`)."
   ]
  },
  {
   "cell_type": "code",
   "execution_count": 6,
   "metadata": {
    "ExecuteTime": {
     "end_time": "2025-04-18T16:15:55.735374Z",
     "start_time": "2025-04-18T16:15:55.731514Z"
    },
    "id": "WZn-M4_vpSOJ",
    "pycharm": {
     "name": "#%%\n"
    }
   },
   "outputs": [],
   "source": [
    "def clean_dataset(example):\n",
    "    \"\"\"\n",
    "    Cleans the sentence and compressed sentence in the example from the Dataset\n",
    "    Args:\n",
    "        example: an example from the Dataset\n",
    "\n",
    "    Returns: updated example with 'clean_sentence' and 'clean_compressed' cleaned\n",
    "\n",
    "    \"\"\"\n",
    "    sentence, compressed = example['set']\n",
    "    clean_sentence = clean(sentence)\n",
    "    clean_compressed = clean(compressed)\n",
    "    example['clean_sentence'] = clean_sentence\n",
    "    example['clean_compressed'] = clean_compressed\n",
    "    return example"
   ]
  },
  {
   "cell_type": "markdown",
   "metadata": {
    "collapsed": false,
    "id": "_KVujosKpSOJ",
    "pycharm": {
     "name": "#%% md\n"
    }
   },
   "source": [
    "Below we apply the function to the whole dataset (using `map`) and we can also inspect the result."
   ]
  },
  {
   "cell_type": "code",
   "execution_count": 7,
   "metadata": {
    "ExecuteTime": {
     "end_time": "2025-04-18T16:16:24.104159Z",
     "start_time": "2025-04-18T16:15:59.218195Z"
    },
    "id": "NBS1JbISpSOJ",
    "pycharm": {
     "name": "#%%\n"
    }
   },
   "outputs": [
    {
     "data": {
      "application/vnd.jupyter.widget-view+json": {
       "model_id": "b67cbaafaaaf4e9dbe3478b2ef99beea",
       "version_major": 2,
       "version_minor": 0
      },
      "text/plain": [
       "Map:   0%|          | 0/144000 [00:00<?, ? examples/s]"
      ]
     },
     "metadata": {},
     "output_type": "display_data"
    },
    {
     "data": {
      "application/vnd.jupyter.widget-view+json": {
       "model_id": "c10b7f61e0084fd7a5b19ed52cfd7c7e",
       "version_major": 2,
       "version_minor": 0
      },
      "text/plain": [
       "Map:   0%|          | 0/36000 [00:00<?, ? examples/s]"
      ]
     },
     "metadata": {},
     "output_type": "display_data"
    },
    {
     "name": "stdout",
     "output_type": "stream",
     "text": [
      "DatasetDict({\n",
      "    train: Dataset({\n",
      "        features: ['set', 'clean_sentence', 'clean_compressed'],\n",
      "        num_rows: 144000\n",
      "    })\n",
      "    test: Dataset({\n",
      "        features: ['set', 'clean_sentence', 'clean_compressed'],\n",
      "        num_rows: 36000\n",
      "    })\n",
      "})\n"
     ]
    }
   ],
   "source": [
    "split_ds = split_ds.map(clean_dataset)\n",
    "print(split_ds)"
   ]
  },
  {
   "cell_type": "markdown",
   "metadata": {
    "collapsed": false,
    "id": "X_ThE9H-pSOJ",
    "pycharm": {
     "name": "#%% md\n"
    }
   },
   "source": [
    "Let's examine some examples from the dataset and make sure that we got the results we wanted. At this step, it might be necessary to revisit some pre-processing steps if you are not happy with the results."
   ]
  },
  {
   "cell_type": "code",
   "execution_count": 8,
   "metadata": {
    "ExecuteTime": {
     "end_time": "2025-04-18T16:16:26.678337Z",
     "start_time": "2025-04-18T16:16:26.672504Z"
    },
    "id": "hP-qOPijpSOJ",
    "pycharm": {
     "name": "#%%\n"
    }
   },
   "outputs": [
    {
     "name": "stdout",
     "output_type": "stream",
     "text": [
      "{'set': [\"Irish families are facing into an ``horrific'' year, with thousands of euro being added to their food, heating and mortgage bills over the next 12 months.\", \"Irish families face 'horrific' year with thousands added to bills\"], 'clean_sentence': 'irish families are facing into an horrific year with thousands of euro being added to their food heating and mortgage bills over the next 12 months', 'clean_compressed': 'irish families face horrific year with thousands added to bills'}\n",
      "{'set': ['Alaska is not competitive with alternate petroleum investments, and our production is falling in spite of record high oil prices and record investments in most other oil regions.', 'Alaska must be competitive'], 'clean_sentence': 'alaska is not competitive with alternate petroleum investments and our production is falling in spite of record high oil prices and record investments in most other oil regions', 'clean_compressed': 'alaska must be competitive'}\n",
      "{'set': ['Holdthatword.com is a FREE online resource that offers FREE quiz maker for teachers.', 'Holdthatword.com offers a FREE quiz maker for teachers'], 'clean_sentence': 'holdthatword com is a free online resource that offers free quiz maker for teachers', 'clean_compressed': 'holdthatword com offers a free quiz maker for teachers'}\n",
      "{'set': ['WASHINGTON The White House says President Barack Obama will travel to Philadelphia and New York next week to continue pressing his energy policies and to attend an annual meeting of a civil rights group headed by activist Al Sharpton.', 'Obama travels to Philadelphia, New York next week'], 'clean_sentence': 'washington the white house says president barack obama will travel to philadelphia and new york next week to continue pressing his energy policies and to attend an annual meeting of a civil rights group headed by activist al sharpton', 'clean_compressed': 'obama travels to philadelphia new york next week'}\n",
      "{'set': [\"That's certainly the case with Rhys Williams as he heads for the London Olympics declaring: ``I am not going there just to make up the numbers.''\", \"I'm not in it to make up the numbers\"], 'clean_sentence': 'that s certainly the case with rhys williams as he heads for the london olympics declaring i am not going there just to make up the numbers', 'clean_compressed': 'i m not in it to make up the numbers'}\n",
      "{'set': [\"Fox claims that Your World w/Neil Cavuto is its ``premiere business news'' show and that, ``Fox means business!''\", \"Neil Cavuto and ``Fox means business!''\"], 'clean_sentence': 'fox claims that your world w neil cavuto is its premiere business news show and that fox means business', 'clean_compressed': 'neil cavuto and fox means business'}\n",
      "{'set': ['Congress President Sonia Gandhi on Sunday made her first public appearance after her return from the US, where she had undergone a surgery for an undisclosed illness.', 'Congress President Sonia Gandhi made her first public appearance after her return from the US'], 'clean_sentence': 'congress president sonia gandhi on sunday made her first public appearance after her return from the us where she had undergone a surgery for an undisclosed illness', 'clean_compressed': 'congress president sonia gandhi made her first public appearance after her return from the us'}\n",
      "{'set': ['Julian Assange has formally requested asylum in Ecuador in a bid to avoid extradition to Sweden, where he faces an investigation for rape and sexual molestation.', 'Assange requests asylum in Ecuador'], 'clean_sentence': 'julian assange has formally requested asylum in ecuador in a bid to avoid extradition to sweden where he faces an investigation for rape and sexual molestation', 'clean_compressed': 'assange requests asylum in ecuador'}\n",
      "{'set': ['The Olympic torch has arrived at the legislature as Day One of the 45,000-kilometre torch relay draws to a close.', 'Torch arrives at the legislature'], 'clean_sentence': 'the olympic torch has arrived at the legislature as day one of the 45 00 kilometre torch relay draws to a close', 'clean_compressed': 'torch arrives at the legislature'}\n",
      "{'set': [\"World No. 1 Novak Djokovic made his movie debut in Bulgaria this week with a brief appearance in Sylvester Stallone's mega-star production ``Expendables 2'', Nu Boyana film studios said.\", 'Djokovic makes movie debut'], 'clean_sentence': 'world no 1 novak djokovic made his movie debut in bulgaria this week with a brief appearance in sylvester stallone s mega star production expendables 2 nu boyana film studios said', 'clean_compressed': 'djokovic makes movie debut'}\n"
     ]
    }
   ],
   "source": [
    "for i in range(10):\n",
    "    print(split_ds['train'][i])"
   ]
  },
  {
   "cell_type": "markdown",
   "metadata": {
    "collapsed": false,
    "id": "7LI2KlfypSOJ",
    "pycharm": {
     "name": "#%% md\n"
    }
   },
   "source": [
    "<a name='e2'></a>\n",
    "### Exercise 2: Tokenize function\n",
    "\n",
    "(1p) As always, we will need to tokenize the dataset in order to create bat-of-words and TF-IDF representations in the next sections. We will use the [Natural Language Toolkit (NLTK) library]([https://www.nltk.org/]) (https://www.nltk.org/). Complete the following function to split the text into tokens using the `word_tokenize()` function. Check the [documentation](https://www.nltk.org/api/nltk.tokenize.word_tokenize.html?highlight=word_tokenize) first.\n",
    "Note that there are different tokenizers e.g. `RegexpTokenizer` where you can enter your own regexp, `WhitespaceTokenizer` (similar to Python's string.split()) and `BlanklineTokenizer`."
   ]
  },
  {
   "cell_type": "code",
   "execution_count": 18,
   "metadata": {
    "ExecuteTime": {
     "end_time": "2025-04-18T16:10:27.317731Z",
     "start_time": "2025-04-18T16:10:27.314568Z"
    },
    "id": "sb-M3V6ApSOK",
    "pycharm": {
     "name": "#%%\n"
    }
   },
   "outputs": [],
   "source": [
    "def tokenize(text):\n",
    "    \"\"\"\n",
    "    Tokenizes the `text` parameter using nltk library\n",
    "    Args:\n",
    "        text: a string representing a sentence to be tokenized\n",
    "\n",
    "    Returns: a list of tokens (strings)\n",
    "\n",
    "    \"\"\"\n",
    "\n",
    "    ### YOUR CODE HERE\n",
    "    tokens = nltk.word_tokenize(text)\n",
    "    ### YOUR CODE ENDS HERE\n",
    "    return tokens"
   ]
  },
  {
   "cell_type": "markdown",
   "metadata": {
    "collapsed": false,
    "id": "gwsHqZc9pSOK",
    "pycharm": {
     "name": "#%% md\n"
    }
   },
   "source": [
    "Next, the function will be applied to the whole dataset (as we did with the pre-processing) and `sentence_tokens` field will be created to store the result."
   ]
  },
  {
   "cell_type": "code",
   "execution_count": 19,
   "metadata": {
    "ExecuteTime": {
     "end_time": "2025-04-18T16:10:27.370561Z",
     "start_time": "2025-04-18T16:10:27.366540Z"
    },
    "id": "6sTX-AcTpSOK",
    "pycharm": {
     "name": "#%%\n"
    }
   },
   "outputs": [],
   "source": [
    "def tokenize_dataset(example):\n",
    "    \"\"\"\n",
    "    Tokenizes 'clean_sentence' columns in the example from the Dataset\n",
    "    Args:\n",
    "        example: an example from the Dataset\n",
    "\n",
    "    Returns: updated example with 'sentence_tokens' columns\n",
    "\n",
    "    \"\"\"\n",
    "    example['sentence_tokens'] = tokenize(example['clean_sentence'])\n",
    "    example['compressed_tokens'] = tokenize(example['clean_compressed'])\n",
    "    return example"
   ]
  },
  {
   "cell_type": "code",
   "execution_count": 20,
   "metadata": {
    "ExecuteTime": {
     "end_time": "2025-04-18T16:10:27.601208Z",
     "start_time": "2025-04-18T16:10:27.423531Z"
    },
    "id": "jvwmXLj2pSOK",
    "pycharm": {
     "name": "#%%\n"
    }
   },
   "outputs": [
    {
     "data": {
      "application/vnd.jupyter.widget-view+json": {
       "model_id": "86a540ec89ca4394be5af6b9e90e75c0",
       "version_major": 2,
       "version_minor": 0
      },
      "text/plain": [
       "Map:   0%|          | 0/144000 [00:00<?, ? examples/s]"
      ]
     },
     "metadata": {},
     "output_type": "display_data"
    },
    {
     "data": {
      "application/vnd.jupyter.widget-view+json": {
       "model_id": "06348c885c66471ca5cebe82a2e03512",
       "version_major": 2,
       "version_minor": 0
      },
      "text/plain": [
       "Map:   0%|          | 0/36000 [00:00<?, ? examples/s]"
      ]
     },
     "metadata": {},
     "output_type": "display_data"
    }
   ],
   "source": [
    "split_ds = split_ds.map(tokenize_dataset)"
   ]
  },
  {
   "cell_type": "code",
   "execution_count": 14,
   "metadata": {
    "id": "yXnje31SpSOK",
    "pycharm": {
     "name": "#%%\n"
    }
   },
   "outputs": [
    {
     "name": "stdout",
     "output_type": "stream",
     "text": [
      "{'set': [\"Irish families are facing into an ``horrific'' year, with thousands of euro being added to their food, heating and mortgage bills over the next 12 months.\", \"Irish families face 'horrific' year with thousands added to bills\"], 'clean_sentence': 'irish families are facing into an horrific year with thousands of euro being added to their food heating and mortgage bills over the next 12 months', 'clean_compressed': 'irish families face horrific year with thousands added to bills', 'sentence_tokens': ['irish', 'families', 'are', 'facing', 'into', 'an', 'horrific', 'year', 'with', 'thousands', 'of', 'euro', 'being', 'added', 'to', 'their', 'food', 'heating', 'and', 'mortgage', 'bills', 'over', 'the', 'next', '12', 'months'], 'compressed_tokens': ['irish', 'families', 'face', 'horrific', 'year', 'with', 'thousands', 'added', 'to', 'bills']}\n",
      "{'set': ['Alaska is not competitive with alternate petroleum investments, and our production is falling in spite of record high oil prices and record investments in most other oil regions.', 'Alaska must be competitive'], 'clean_sentence': 'alaska is not competitive with alternate petroleum investments and our production is falling in spite of record high oil prices and record investments in most other oil regions', 'clean_compressed': 'alaska must be competitive', 'sentence_tokens': ['alaska', 'is', 'not', 'competitive', 'with', 'alternate', 'petroleum', 'investments', 'and', 'our', 'production', 'is', 'falling', 'in', 'spite', 'of', 'record', 'high', 'oil', 'prices', 'and', 'record', 'investments', 'in', 'most', 'other', 'oil', 'regions'], 'compressed_tokens': ['alaska', 'must', 'be', 'competitive']}\n",
      "{'set': ['Holdthatword.com is a FREE online resource that offers FREE quiz maker for teachers.', 'Holdthatword.com offers a FREE quiz maker for teachers'], 'clean_sentence': 'holdthatword com is a free online resource that offers free quiz maker for teachers', 'clean_compressed': 'holdthatword com offers a free quiz maker for teachers', 'sentence_tokens': ['holdthatword', 'com', 'is', 'a', 'free', 'online', 'resource', 'that', 'offers', 'free', 'quiz', 'maker', 'for', 'teachers'], 'compressed_tokens': ['holdthatword', 'com', 'offers', 'a', 'free', 'quiz', 'maker', 'for', 'teachers']}\n",
      "{'set': ['WASHINGTON The White House says President Barack Obama will travel to Philadelphia and New York next week to continue pressing his energy policies and to attend an annual meeting of a civil rights group headed by activist Al Sharpton.', 'Obama travels to Philadelphia, New York next week'], 'clean_sentence': 'washington the white house says president barack obama will travel to philadelphia and new york next week to continue pressing his energy policies and to attend an annual meeting of a civil rights group headed by activist al sharpton', 'clean_compressed': 'obama travels to philadelphia new york next week', 'sentence_tokens': ['washington', 'the', 'white', 'house', 'says', 'president', 'barack', 'obama', 'will', 'travel', 'to', 'philadelphia', 'and', 'new', 'york', 'next', 'week', 'to', 'continue', 'pressing', 'his', 'energy', 'policies', 'and', 'to', 'attend', 'an', 'annual', 'meeting', 'of', 'a', 'civil', 'rights', 'group', 'headed', 'by', 'activist', 'al', 'sharpton'], 'compressed_tokens': ['obama', 'travels', 'to', 'philadelphia', 'new', 'york', 'next', 'week']}\n",
      "{'set': [\"That's certainly the case with Rhys Williams as he heads for the London Olympics declaring: ``I am not going there just to make up the numbers.''\", \"I'm not in it to make up the numbers\"], 'clean_sentence': 'that s certainly the case with rhys williams as he heads for the london olympics declaring i am not going there just to make up the numbers', 'clean_compressed': 'i m not in it to make up the numbers', 'sentence_tokens': ['that', 's', 'certainly', 'the', 'case', 'with', 'rhys', 'williams', 'as', 'he', 'heads', 'for', 'the', 'london', 'olympics', 'declaring', 'i', 'am', 'not', 'going', 'there', 'just', 'to', 'make', 'up', 'the', 'numbers'], 'compressed_tokens': ['i', 'm', 'not', 'in', 'it', 'to', 'make', 'up', 'the', 'numbers']}\n",
      "{'set': [\"Fox claims that Your World w/Neil Cavuto is its ``premiere business news'' show and that, ``Fox means business!''\", \"Neil Cavuto and ``Fox means business!''\"], 'clean_sentence': 'fox claims that your world w neil cavuto is its premiere business news show and that fox means business', 'clean_compressed': 'neil cavuto and fox means business', 'sentence_tokens': ['fox', 'claims', 'that', 'your', 'world', 'w', 'neil', 'cavuto', 'is', 'its', 'premiere', 'business', 'news', 'show', 'and', 'that', 'fox', 'means', 'business'], 'compressed_tokens': ['neil', 'cavuto', 'and', 'fox', 'means', 'business']}\n",
      "{'set': ['Congress President Sonia Gandhi on Sunday made her first public appearance after her return from the US, where she had undergone a surgery for an undisclosed illness.', 'Congress President Sonia Gandhi made her first public appearance after her return from the US'], 'clean_sentence': 'congress president sonia gandhi on sunday made her first public appearance after her return from the us where she had undergone a surgery for an undisclosed illness', 'clean_compressed': 'congress president sonia gandhi made her first public appearance after her return from the us', 'sentence_tokens': ['congress', 'president', 'sonia', 'gandhi', 'on', 'sunday', 'made', 'her', 'first', 'public', 'appearance', 'after', 'her', 'return', 'from', 'the', 'us', 'where', 'she', 'had', 'undergone', 'a', 'surgery', 'for', 'an', 'undisclosed', 'illness'], 'compressed_tokens': ['congress', 'president', 'sonia', 'gandhi', 'made', 'her', 'first', 'public', 'appearance', 'after', 'her', 'return', 'from', 'the', 'us']}\n",
      "{'set': ['Julian Assange has formally requested asylum in Ecuador in a bid to avoid extradition to Sweden, where he faces an investigation for rape and sexual molestation.', 'Assange requests asylum in Ecuador'], 'clean_sentence': 'julian assange has formally requested asylum in ecuador in a bid to avoid extradition to sweden where he faces an investigation for rape and sexual molestation', 'clean_compressed': 'assange requests asylum in ecuador', 'sentence_tokens': ['julian', 'assange', 'has', 'formally', 'requested', 'asylum', 'in', 'ecuador', 'in', 'a', 'bid', 'to', 'avoid', 'extradition', 'to', 'sweden', 'where', 'he', 'faces', 'an', 'investigation', 'for', 'rape', 'and', 'sexual', 'molestation'], 'compressed_tokens': ['assange', 'requests', 'asylum', 'in', 'ecuador']}\n",
      "{'set': ['The Olympic torch has arrived at the legislature as Day One of the 45,000-kilometre torch relay draws to a close.', 'Torch arrives at the legislature'], 'clean_sentence': 'the olympic torch has arrived at the legislature as day one of the 45 00 kilometre torch relay draws to a close', 'clean_compressed': 'torch arrives at the legislature', 'sentence_tokens': ['the', 'olympic', 'torch', 'has', 'arrived', 'at', 'the', 'legislature', 'as', 'day', 'one', 'of', 'the', '45', '00', 'kilometre', 'torch', 'relay', 'draws', 'to', 'a', 'close'], 'compressed_tokens': ['torch', 'arrives', 'at', 'the', 'legislature']}\n",
      "{'set': [\"World No. 1 Novak Djokovic made his movie debut in Bulgaria this week with a brief appearance in Sylvester Stallone's mega-star production ``Expendables 2'', Nu Boyana film studios said.\", 'Djokovic makes movie debut'], 'clean_sentence': 'world no 1 novak djokovic made his movie debut in bulgaria this week with a brief appearance in sylvester stallone s mega star production expendables 2 nu boyana film studios said', 'clean_compressed': 'djokovic makes movie debut', 'sentence_tokens': ['world', 'no', '1', 'novak', 'djokovic', 'made', 'his', 'movie', 'debut', 'in', 'bulgaria', 'this', 'week', 'with', 'a', 'brief', 'appearance', 'in', 'sylvester', 'stallone', 's', 'mega', 'star', 'production', 'expendables', '2', 'nu', 'boyana', 'film', 'studios', 'said'], 'compressed_tokens': ['djokovic', 'makes', 'movie', 'debut']}\n"
     ]
    }
   ],
   "source": [
    "for i in range(10):\n",
    "    print(split_ds['train'][i])"
   ]
  },
  {
   "cell_type": "markdown",
   "metadata": {
    "collapsed": false,
    "id": "FeF0wFd0pSOL",
    "pycharm": {
     "name": "#%% md\n"
    }
   },
   "source": [
    "Since we will need the tokenized sentences, we can use the following statement to extract them from the `train` split of our dataset."
   ]
  },
  {
   "cell_type": "code",
   "execution_count": 15,
   "metadata": {
    "id": "qYKfXFxQpSOL",
    "pycharm": {
     "name": "#%%\n"
    }
   },
   "outputs": [
    {
     "name": "stdout",
     "output_type": "stream",
     "text": [
      "144000\n",
      "[['irish', 'families', 'are', 'facing', 'into', 'an', 'horrific', 'year', 'with', 'thousands', 'of', 'euro', 'being', 'added', 'to', 'their', 'food', 'heating', 'and', 'mortgage', 'bills', 'over', 'the', 'next', '12', 'months'], ['alaska', 'is', 'not', 'competitive', 'with', 'alternate', 'petroleum', 'investments', 'and', 'our', 'production', 'is', 'falling', 'in', 'spite', 'of', 'record', 'high', 'oil', 'prices', 'and', 'record', 'investments', 'in', 'most', 'other', 'oil', 'regions'], ['holdthatword', 'com', 'is', 'a', 'free', 'online', 'resource', 'that', 'offers', 'free', 'quiz', 'maker', 'for', 'teachers'], ['washington', 'the', 'white', 'house', 'says', 'president', 'barack', 'obama', 'will', 'travel', 'to', 'philadelphia', 'and', 'new', 'york', 'next', 'week', 'to', 'continue', 'pressing', 'his', 'energy', 'policies', 'and', 'to', 'attend', 'an', 'annual', 'meeting', 'of', 'a', 'civil', 'rights', 'group', 'headed', 'by', 'activist', 'al', 'sharpton'], ['that', 's', 'certainly', 'the', 'case', 'with', 'rhys', 'williams', 'as', 'he', 'heads', 'for', 'the', 'london', 'olympics', 'declaring', 'i', 'am', 'not', 'going', 'there', 'just', 'to', 'make', 'up', 'the', 'numbers'], ['fox', 'claims', 'that', 'your', 'world', 'w', 'neil', 'cavuto', 'is', 'its', 'premiere', 'business', 'news', 'show', 'and', 'that', 'fox', 'means', 'business'], ['congress', 'president', 'sonia', 'gandhi', 'on', 'sunday', 'made', 'her', 'first', 'public', 'appearance', 'after', 'her', 'return', 'from', 'the', 'us', 'where', 'she', 'had', 'undergone', 'a', 'surgery', 'for', 'an', 'undisclosed', 'illness'], ['julian', 'assange', 'has', 'formally', 'requested', 'asylum', 'in', 'ecuador', 'in', 'a', 'bid', 'to', 'avoid', 'extradition', 'to', 'sweden', 'where', 'he', 'faces', 'an', 'investigation', 'for', 'rape', 'and', 'sexual', 'molestation'], ['the', 'olympic', 'torch', 'has', 'arrived', 'at', 'the', 'legislature', 'as', 'day', 'one', 'of', 'the', '45', '00', 'kilometre', 'torch', 'relay', 'draws', 'to', 'a', 'close'], ['world', 'no', '1', 'novak', 'djokovic', 'made', 'his', 'movie', 'debut', 'in', 'bulgaria', 'this', 'week', 'with', 'a', 'brief', 'appearance', 'in', 'sylvester', 'stallone', 's', 'mega', 'star', 'production', 'expendables', '2', 'nu', 'boyana', 'film', 'studios', 'said']]\n"
     ]
    }
   ],
   "source": [
    "tokenized_sentences = split_ds['train']['sentence_tokens']\n",
    "print(len(tokenized_sentences))\n",
    "print(tokenized_sentences[:10])"
   ]
  },
  {
   "cell_type": "code",
   "execution_count": 16,
   "metadata": {
    "collapsed": false,
    "pycharm": {
     "name": "#%%\n"
    }
   },
   "outputs": [
    {
     "name": "stdout",
     "output_type": "stream",
     "text": [
      "144000\n",
      "[['irish', 'families', 'face', 'horrific', 'year', 'with', 'thousands', 'added', 'to', 'bills'], ['alaska', 'must', 'be', 'competitive'], ['holdthatword', 'com', 'offers', 'a', 'free', 'quiz', 'maker', 'for', 'teachers'], ['obama', 'travels', 'to', 'philadelphia', 'new', 'york', 'next', 'week'], ['i', 'm', 'not', 'in', 'it', 'to', 'make', 'up', 'the', 'numbers'], ['neil', 'cavuto', 'and', 'fox', 'means', 'business'], ['congress', 'president', 'sonia', 'gandhi', 'made', 'her', 'first', 'public', 'appearance', 'after', 'her', 'return', 'from', 'the', 'us'], ['assange', 'requests', 'asylum', 'in', 'ecuador'], ['torch', 'arrives', 'at', 'the', 'legislature'], ['djokovic', 'makes', 'movie', 'debut']]\n"
     ]
    }
   ],
   "source": [
    "tokenized_compressed = split_ds['train']['compressed_tokens']\n",
    "print(len(tokenized_compressed))\n",
    "print(tokenized_compressed[:10])"
   ]
  },
  {
   "cell_type": "markdown",
   "metadata": {
    "id": "ZDGwEiZeCA5U",
    "pycharm": {
     "name": "#%% md\n"
    }
   },
   "source": [
    "Notice the difference in the types of the different structures we use. Run the following cell to check the types. Do they make sense to you?"
   ]
  },
  {
   "cell_type": "code",
   "execution_count": 17,
   "metadata": {
    "id": "wKrkFmcZCtOd",
    "pycharm": {
     "name": "#%%\n"
    }
   },
   "outputs": [
    {
     "name": "stdout",
     "output_type": "stream",
     "text": [
      "<class 'datasets.dataset_dict.DatasetDict'>\n",
      "--\n",
      "{'set': ['Alaska is not competitive with alternate petroleum investments, and our production is falling in spite of record high oil prices and record investments in most other oil regions.', 'Alaska must be competitive'], 'clean_sentence': 'alaska is not competitive with alternate petroleum investments and our production is falling in spite of record high oil prices and record investments in most other oil regions', 'clean_compressed': 'alaska must be competitive', 'sentence_tokens': ['alaska', 'is', 'not', 'competitive', 'with', 'alternate', 'petroleum', 'investments', 'and', 'our', 'production', 'is', 'falling', 'in', 'spite', 'of', 'record', 'high', 'oil', 'prices', 'and', 'record', 'investments', 'in', 'most', 'other', 'oil', 'regions'], 'compressed_tokens': ['alaska', 'must', 'be', 'competitive']}\n",
      "<class 'dict'>\n",
      "--\n",
      "alaska is not competitive with alternate petroleum investments and our production is falling in spite of record high oil prices and record investments in most other oil regions\n",
      "<class 'str'>\n",
      "--\n",
      "['alaska', 'is', 'not', 'competitive', 'with', 'alternate', 'petroleum', 'investments', 'and', 'our', 'production', 'is', 'falling', 'in', 'spite', 'of', 'record', 'high', 'oil', 'prices', 'and', 'record', 'investments', 'in', 'most', 'other', 'oil', 'regions']\n",
      "<class 'list'>\n",
      "--\n"
     ]
    }
   ],
   "source": [
    "#type of original dataset\n",
    "print(type(split_ds))\n",
    "print(\"--\")\n",
    "#type of original sentence\n",
    "print(split_ds['train'][1])\n",
    "print(type(split_ds['train'][1]))\n",
    "print(\"--\")\n",
    "#type of pre-proceesed sentence\n",
    "print(split_ds['train']['clean_sentence'][1])\n",
    "print(type(split_ds['train']['clean_sentence'][1]))\n",
    "print(\"--\")\n",
    "#type of tokenized sentence\n",
    "print(split_ds['train']['sentence_tokens'][1])\n",
    "print(type(split_ds['train']['sentence_tokens'][1]))\n",
    "print(\"--\")"
   ]
  },
  {
   "cell_type": "markdown",
   "metadata": {
    "collapsed": false,
    "pycharm": {
     "name": "#%% md\n"
    }
   },
   "source": [
    "## 2. Bag of Words\n",
    "In this section you will built a bag-of-words representation of the dataset. We will use numpy arrays to store the results. The bag-of-words representation is a simple and effective way to represent text data. It involves creating a vocabulary of unique words from the dataset and representing each sentence as a vector of word counts. We first need the vocabulary, which we will build from both the full sentences and the compressed sentences. Similar to the first lab, the vocabulary will be a list of unique words from the dataset."
   ]
  },
  {
   "cell_type": "markdown",
   "metadata": {
    "collapsed": false,
    "pycharm": {
     "name": "#%% md\n"
    }
   },
   "source": [
    "<a name='e3'></a>\n",
    "### Exercise 3: Extracting vocabulary counts\n",
    "\n",
    "(1p) In the following cell, you will implement a function that takes a list of tokenized sentences and returns a dictionary with the counts of each word in the vocabulary. The dictionary should be of the form {word: count}. As in previous lab, you will use the `Counter` class from the `collections` module to do this."
   ]
  },
  {
   "cell_type": "code",
   "execution_count": 21,
   "metadata": {
    "collapsed": false,
    "pycharm": {
     "name": "#%%\n"
    }
   },
   "outputs": [],
   "source": [
    "from collections import Counter\n",
    "\n",
    "\n",
    "def extract_vocabulary_counts(tokenized_sentences):\n",
    "    \"\"\"\n",
    "    Extracts the vocabulary from the tokenized sentences\n",
    "    Args:\n",
    "        tokenized_sentences: a list of lists of tokens\n",
    "\n",
    "    Returns: a Counter object with the counts of each word in the vocabulary\n",
    "    \"\"\"\n",
    "\n",
    "    ### YOUR CODE HERE\n",
    "    # copilot used when writing the code\n",
    "    counter = Counter()\n",
    "    for sentence in tokenized_sentences:\n",
    "        counter.update(sentence)\n",
    "    return counter\n",
    "    ### YOUR CODE ENDS HERE"
   ]
  },
  {
   "cell_type": "code",
   "execution_count": 22,
   "metadata": {
    "collapsed": false,
    "pycharm": {
     "name": "#%%\n"
    }
   },
   "outputs": [
    {
     "name": "stdout",
     "output_type": "stream",
     "text": [
      "96865\n",
      "[('the', 183541), ('to', 130791), ('a', 117836), ('in', 113515), ('of', 100688), ('and', 68427), ('on', 56528), ('for', 51968), ('has', 39357), ('s', 32559)]\n"
     ]
    }
   ],
   "source": [
    "vocab_counter = extract_vocabulary_counts(tokenized_sentences + tokenized_compressed)\n",
    "print(len(vocab_counter))\n",
    "print(vocab_counter.most_common(10))"
   ]
  },
  {
   "cell_type": "markdown",
   "metadata": {
    "collapsed": false,
    "pycharm": {
     "name": "#%% md\n"
    }
   },
   "source": [
    "As you can see the size of the vocabulary is quite large. Like the last time, we will limit the vocabulary to the most frequent words. The next cell will create a dictionary that maps each word to an index in the vocabulary. This will be used to create the bag-of-words representation of the sentences."
   ]
  },
  {
   "cell_type": "code",
   "execution_count": 23,
   "metadata": {
    "collapsed": false,
    "pycharm": {
     "name": "#%%\n"
    }
   },
   "outputs": [
    {
     "name": "stdout",
     "output_type": "stream",
     "text": [
      "{'the': 0, 'to': 1, 'a': 2, 'in': 3, 'of': 4, 'and': 5, 'on': 6, 'for': 7, 'has': 8, 's': 9, 'with': 10, 'at': 11, 'is': 12, 'that': 13, 'from': 14, 'by': 15, 'as': 16, 'new': 17, 'will': 18, 'said': 19, 'after': 20, 'his': 21, 'an': 22, 'its': 23, 'was': 24, 'it': 25, 'be': 26, 'have': 27, 'he': 28, 'man': 29, 'year': 30, 'us': 31, 'are': 32, 'been': 33, 'today': 34, 'two': 35, 'police': 36, 'this': 37, 'their': 38, 'first': 39, 'her': 40, 'who': 41, 'over': 42, 'up': 43, 'announced': 44, 'not': 45, 'tuesday': 46, 'state': 47, 'more': 48, 'wednesday': 49, 'thursday': 50, 'monday': 51, 'against': 52, 'out': 53, 'friday': 54, 'president': 55, 'one': 56, 'former': 57, 'says': 58, '1': 59, 'into': 60, 'million': 61, 'world': 62, 'city': 63, 'last': 64, 'which': 65, 'county': 66, 'were': 67, 'three': 68, 'according': 69, 'may': 70, 'woman': 71, 'week': 72, 'saturday': 73, 'about': 74, 'government': 75, 'than': 76, 'minister': 77, 'years': 78, 'home': 79, 'i': 80, 'sunday': 81, '00': 82, 'day': 83, 'company': 84, 'people': 85, 'time': 86, '2': 87, 'she': 88, 'old': 89, 'all': 90, 'during': 91, 'off': 92, 'but': 93, 'they': 94, 'india': 95, 'night': 96, 'when': 97, 'killed': 98, 'south': 99, 'bank': 100, 'national': 101, 'being': 102, 'next': 103, 'second': 104, 'court': 105, 'found': 106, 'morning': 107, 'arrested': 108, '5': 109, '3': 110, 'died': 111, 'school': 112, 'country': 113, 'had': 114, 'set': 115, 'would': 116, 't': 117, 'no': 118, 'obama': 119, 'back': 120, 'charged': 121, 'can': 122, 'market': 123, 'could': 124, 'fire': 125, 'reported': 126, 'group': 127, 'season': 128, 'down': 129, 'high': 130, 'international': 131, 'china': 132, 'month': 133, 'open': 134, 'team': 135, 'business': 136, '10': 137, 'star': 138, 'four': 139, 'oil': 140, 'car': 141, 'house': 142, 'while': 143, 'north': 144, 'news': 145, '4': 146, 'service': 147, 'early': 148, 'charges': 149, 'reports': 150, 'inc': 151, 'united': 152, 'prices': 153, 'or': 154, 'plans': 155, 'global': 156, 'now': 157, 'public': 158, 'billion': 159, 'dies': 160, 'officials': 161, 'hospital': 162, 'some': 163, 'guilty': 164, 'american': 165, 'following': 166, 'death': 167, 'report': 168, 'five': 169, 'york': 170, 'league': 171, 'yesterday': 172, 'hit': 173, '6': 174, 'him': 175, 'near': 176, 'end': 177, 'under': 178, 'released': 179, 'services': 180, 'health': 181, 'chief': 182, 'pakistan': 183, 'west': 184, '2012': 185, 'game': 186, 'federal': 187, 'say': 188, 'help': 189, 'made': 190, 'office': 191, 'show': 192, 'most': 193, 'just': 194, 'security': 195, 'through': 196, 'based': 197, 'other': 198, 'financial': 199, 'make': 200, 'months': 201, 'economic': 202, 'top': 203, 'take': 204, 'you': 205, 'accused': 206, 'before': 207, 'third': 208, 'won': 209, 'life': 210, 'coach': 211, 'indian': 212, '7': 213, 'percent': 214, 'we': 215, 'per': 216, 'what': 217, 'expected': 218, 'john': 219, 'play': 220, 'another': 221, 'local': 222, 'launched': 223, '11': 224, 'women': 225, 'announces': 226, 'official': 227, 'british': 228, 'here': 229, 'general': 230, 'work': 231, 'uk': 232, 'power': 233, 'should': 234, 'center': 235, 'part': 236, 'left': 237, 'dead': 238, 'jobs': 239, 'party': 240, 'if': 241, 'record': 242, 'trade': 243, 'energy': 244, 'between': 245, 'european': 246, 'launches': 247, 'major': 248, 'deal': 249, '20': 250, 'university': 251, '2010': 252, 'crash': 253, 'media': 254, 'free': 255, 'six': 256, 'because': 257, 'shot': 258, '12': 259, 'stocks': 260, 'leader': 261, 'men': 262, 'march': 263, 'held': 264, 'told': 265, 'return': 266, 'get': 267, 'air': 268, 'quarter': 269, 'win': 270, 'officer': 271, '0': 272, '2011': 273, 'cup': 274, '30': 275, 'close': 276, 'cut': 277, '8': 278, 'area': 279, 'days': 280, 'support': 281, 'gas': 282, 'head': 283, 'street': 284, 'states': 285, 'online': 286, 'children': 287, 'department': 288, 'due': 289, 'london': 290, 'club': 291, '15': 292, 'mobile': 293, 'economy': 294, 'drug': 295, 'long': 296, 'co': 297, 'since': 298, 'called': 299, 'family': 300, 'launch': 301, 'bill': 302, 'sales': 303, 'injured': 304, 'child': 305, 'central': 306, 'weekend': 307, 'prime': 308, 'series': 309, 'foreign': 310, 'start': 311, 'road': 312, 'there': 313, 'tax': 314, 'district': 315, 'still': 316, 'including': 317, 'visit': 318, 'capital': 319, 'run': 320, 'st': 321, 'release': 322, 'face': 323, 'like': 324, 'final': 325, 'com': 326, 'how': 327, 'afternoon': 328, 'australia': 329, 'signed': 330, 'dollar': 331, 'military': 332, 'stock': 333, 'east': 334, 'tour': 335, 'shares': 336, 'industry': 337, 'park': 338, 'june': 339, 'where': 340, 'iran': 341, 'best': 342, 'april': 343, 'david': 344, 'fall': 345, '9': 346, 'board': 347, 'attack': 348, 'system': 349, 'despite': 350, 'big': 351, 'students': 352, 'campaign': 353, 'australian': 354, 'development': 355, 'film': 356, 'them': 357, 'election': 358, 'cancer': 359, 'way': 360, 'washington': 361, 're': 362, '2009': 363, 'so': 364, 'go': 365, '2013': 366, 'largest': 367, 'markets': 368, 'data': 369, 'football': 370, 'water': 371, 'fell': 372, 'across': 373, 'sentenced': 374, 'wins': 375, 'pay': 376, 'council': 377, 'leading': 378, 'barack': 379, '25': 380, 'afghanistan': 381, 'meeting': 382, 'law': 383, 'actor': 384, '100': 385, 'corp': 386, 'around': 387, 'late': 388, 'growth': 389, 'plan': 390, 'manager': 391, 'price': 392, 'talks': 393, 'gold': 394, 'host': 395, 'contract': 396, 'move': 397, 'right': 398, 'revealed': 399, 'director': 400, 'management': 401, 'research': 402, 'case': 403, 'agency': 404, 'authorities': 405, 'food': 406, 'again': 407, 'prison': 408, 'allegedly': 409, 'money': 410, 'san': 411, 'buy': 412, 'england': 413, '13': 414, '14': 415, 'chinese': 416, 'several': 417, 'program': 418, 'only': 419, 'white': 420, 'do': 421, 'town': 422, 'crisis': 423, 'tv': 424, 'well': 425, 'murder': 426, 'test': 427, 'confirmed': 428, 'firm': 429, 'increase': 430, 'number': 431, 'games': 432, 'technology': 433, 'private': 434, 'annual': 435, 'political': 436, 'union': 437, 'rate': 438, 'higher': 439, 'michael': 440, '50': 441, 'wife': 442, 'closed': 443, 'conference': 444, 'agreement': 445, 'music': 446, 'budget': 447, 'network': 448, 'actress': 449, 'girl': 450, 'russia': 451, 'wants': 452, 'community': 453, 'recent': 454, 'press': 455, 'july': 456, '17': 457, 'medical': 458, 'any': 459, 'recently': 460, '16': 461, 'young': 462, 'canada': 463, 'saying': 464, 'share': 465, 'line': 466, 'workers': 467, 'good': 468, 'america': 469, '18': 470, 'secretary': 471, 'japan': 472, 'singer': 473, 'hold': 474, 'investment': 475, 'companies': 476, 'live': 477, 'lead': 478, 'red': 479, 'continue': 480, 'making': 481, 'use': 482, 'taking': 483, 'latest': 484, 'sex': 485, 'pm': 486, 'surgery': 487, 'al': 488, 'provider': 489, 'age': 490, 'shooting': 491, 'nearly': 492, 'college': 493, 'war': 494, 'store': 495, 'my': 496, 'demand': 497, 'action': 498, 'am': 499, 'opened': 500, 'become': 501, 'sign': 502, 'centre': 503, 'senior': 504, 'korea': 505, 'rs': 506, 'los': 507, 'texas': 508, 'away': 509, 'rose': 510, 'place': 511, 'social': 512, 'many': 513, 'body': 514, 'half': 515, 'trial': 516, '2008': 517, 'care': 518, 'offer': 519, 'cent': 520, 'study': 521, 'signs': 522, 'french': 523, 'southern': 524, 'seven': 525, 'congress': 526, 'debt': 527, 'rights': 528, 'lower': 529, 'm': 530, 'real': 531, 'video': 532, 'production': 533, 'special': 534, 'named': 535, 'angeles': 536, 'baby': 537, 'profit': 538, 'credit': 539, 'fight': 540, 'january': 541, 'rise': 542, 'region': 543, 'europe': 544, 'likely': 545, 'emergency': 546, 'times': 547, 'trading': 548, 'accident': 549, 'presidential': 550, 'senate': 551, 'investors': 552, 'fourth': 553, 'weeks': 554, 'own': 555, 'forces': 556, 'opens': 557, 'going': 558, 'meet': 559, 'also': 560, 'ahead': 561, 'israel': 562, 'fund': 563, 'faces': 564, 'russian': 565, 'coast': 566, 'rates': 567, 'boy': 568, 'mark': 569, 'apple': 570, 'africa': 571, 'building': 572, 'members': 573, 'assault': 574, 'paul': 575, 'even': 576, 'nation': 577, 'hours': 578, 'judge': 579, 'small': 580, 'nuclear': 581, 'updated': 582, 'california': 583, 'facing': 584, 'charge': 585, 'google': 586, 'round': 587, 'filed': 588, 'governor': 589, 'loss': 590, 'title': 591, 'summer': 592, '24': 593, 'information': 594, '500': 595, 'france': 596, 'strong': 597, 'side': 598, 'points': 599, 'premier': 600, 'chairman': 601, 'grand': 602, 'both': 603, 'amid': 604, 'ministry': 605, 'ago': 606, 'plant': 607, 'past': 608, 'least': 609, 'delhi': 610, 'driver': 611, 'february': 612, 'german': 613, 'players': 614, 'executive': 615, 'leaders': 616, 'heart': 617, 'force': 618, 'project': 619, 'products': 620, 'pleaded': 621, 'working': 622, 'student': 623, 'call': 624, 'led': 625, 'without': 626, 'florida': 627, 'order': 628, 'army': 629, 'player': 630, 'issued': 631, 'cash': 632, '21': 633, 'future': 634, 'interest': 635, 'september': 636, 'post': 637, 'residents': 638, 'took': 639, 'pleads': 640, 'reportedly': 641, 'much': 642, 'calls': 643, 'match': 644, 'injury': 645, 'bus': 646, 'agreed': 647, 'race': 648, '19': 649, 'banks': 650, 'software': 651, 'lost': 652, 'coming': 653, 'results': 654, 'asian': 655, 'opening': 656, 'falls': 657, 'full': 658, 'human': 659, 'corporation': 660, 'stop': 661, 'site': 662, 'exchange': 663, 'taken': 664, 'claims': 665, 'sell': 666, 'role': 667, 'canadian': 668, 'beat': 669, 'leave': 670, 'our': 671, 'come': 672, 'makes': 673, 'republican': 674, 'earlier': 675, 'change': 676, 'james': 677, 'anti': 678, 'november': 679, 'forward': 680, 'northern': 681, 'further': 682, 'education': 683, 'internet': 684, 'returns': 685, 'sector': 686, 'traffic': 687, 'looking': 688, '22': 689, 'lake': 690, 'vehicle': 691, 'issues': 692, 'october': 693, 'your': 694, 'station': 695, 'planning': 696, 'low': 697, 'level': 698, 'brown': 699, 'bid': 700, 'need': 701, 'schools': 702, 'cuts': 703, 'river': 704, 'parliament': 705, 'suspended': 706, 'victory': 707, 'gov': 708, 'airlines': 709, 'great': 710, 'jail': 711, 'better': 712, 'running': 713, 'policy': 714, 'key': 715, 'control': 716, 'airport': 717, 'job': 718, 'raise': 719, 'eight': 720, 'israeli': 721, 'training': 722, 'black': 723, 'george': 724, 'website': 725, 'biggest': 726, 'evening': 727, 'killing': 728, 'album': 729, 'issue': 730, 'continues': 731, 'missing': 732, 'fans': 733, 'chris': 734, 'domestic': 735, 'britain': 736, 'keep': 737, 'driving': 738, 'green': 739, 'december': 740, 'member': 741, 'operations': 742, 'insurance': 743, 'offering': 744, 'sports': 745, 'border': 746, 'august': 747, 'mother': 748, 'chicago': 749, 'hall': 750, 'must': 751, 'award': 752, 'association': 753, 'guard': 754, 'soon': 755, 'euro': 756, 'current': 757, 'got': 758, 'put': 759, 'countries': 760, 'arrest': 761, 'used': 762, '40': 763, 'vote': 764, 'consumer': 765, 'remains': 766, 'facebook': 767, 'ready': 768, 'african': 769, 'train': 770, 'commission': 771, 'construction': 772, 'takes': 773, 'giant': 774, 'brand': 775, 'son': 776, 'manchester': 777, 'weather': 778, 'property': 779, 'very': 780, 'remain': 781, 'session': 782, 'received': 783, 'having': 784, 'shows': 785, 'see': 786, 'island': 787, 'trying': 788, 'strike': 789, '23': 790, 'winning': 791, 'western': 792, 'bankruptcy': 793, 'sale': 794, 'officers': 795, 'customers': 796, 'safety': 797, 'cost': 798, 'getting': 799, 'investigating': 800, 'ended': 801, 'field': 802, 'sold': 803, 'little': 804, 'robert': 805, 'event': 806, 'e': 807, 'o': 808, 'stage': 809, 'committee': 810, 'term': 811, 'among': 812, 'iraq': 813, 'couple': 814, 'statement': 815, 'want': 816, 'rock': 817, 'search': 818, 'hollywood': 819, 'finance': 820, 'troops': 821, 'cricket': 822, 'himself': 823, 'opposition': 824, '26': 825, 'ban': 826, 'join': 827, 'outside': 828, 'performance': 829, 'sri': 830, 'movie': 831, 'tonight': 832, 'singh': 833, 'behind': 834, 'thousands': 835, 'fuel': 836, 'jackson': 837, 'announce': 838, 'elections': 839, 'staff': 840, 'germany': 841, 'don': 842, 'space': 843, 'phone': 844, 'career': 845, 'selling': 846, 'retail': 847, 'awards': 848, 'give': 849, 'sexual': 850, 'ex': 851, 'champion': 852, 'growing': 853, 'solutions': 854, 'debut': 855, 'target': 856, 'justice': 857, 'regional': 858, 'admitted': 859, 'love': 860, 'wall': 861, 'along': 862, 'storm': 863, '200': 864, 'needs': 865, 'sen': 866, 'bay': 867, 'turkey': 868, 'husband': 869, '28': 870, 'recovery': 871, 'history': 872, '27': 873, 'such': 874, 'later': 875, 'valley': 876, 'mayor': 877, 'within': 878, 'practice': 879, 'systems': 880, 'middle': 881, 'single': 882, 'maker': 883, 'suicide': 884, 'anniversary': 885, 'ever': 886, 'warned': 887, 'until': 888, 'asia': 889, 'beach': 890, 'zealand': 891, 'peace': 892, 'violence': 893, 'miss': 894, 'championship': 895, 'un': 896, 'same': 897, 'risk': 898, 'known': 899, 'upcoming': 900, 'flu': 901, 'struck': 902, 'given': 903, 'using': 904, 'gains': 905, 'drive': 906, 'protest': 907, 'protection': 908, 'mortgage': 909, 'name': 910, 'candidate': 911, 'vice': 912, 'truck': 913, 'claimed': 914, 'olympic': 915, 'build': 916, 'positive': 917, 'decision': 918, 'raised': 919, 'offers': 920, 'festival': 921, 'travel': 922, 'mexico': 923, 'point': 924, 'almost': 925, 'non': 926, 'list': 927, 'loan': 928, 'microsoft': 929, 'confidence': 930, 'attacks': 931, 'provide': 932, 'those': 933, 'church': 934, 'funds': 935, 'plane': 936, 'eastern': 937, 'housing': 938, 'less': 939, 'owner': 940, 'break': 941, 'sent': 942, 'soldiers': 943, 'spending': 944, 'nine': 945, 'worth': 946, 'd': 947, 'mumbai': 948, 'leaving': 949, 'democratic': 950, 'me': 951, 'japanese': 952, 'too': 953, 'alleged': 954, 'ltd': 955, 'father': 956, 'joint': 957, 'super': 958, 'hotel': 959, 'pressure': 960, 'smith': 961, 'natural': 962, 'johnson': 963, 'fraud': 964, 'gay': 965, 'files': 966, 'de': 967, 'businesses': 968, 'officially': 969, 'battle': 970, 'georgia': 971, 'acquire': 972, 'few': 973, 'act': 974, 'losses': 975, 'sources': 976, 'possible': 977, 'daily': 978, 'television': 979, 'employees': 980, 'williams': 981, 'rally': 982, 'sheriff': 983, 'web': 984, 'approved': 985, 'continued': 986, 'boston': 987, 'hopes': 988, 'captain': 989, 'changes': 990, 'basketball': 991, 'reserve': 992, 'showed': 993, 'radio': 994, 'survey': 995, 'soldier': 996, 'declared': 997, 'turned': 998, 'returned': 999, 'defense': 1000, 'never': 1001, 'carolina': 1002, 'increased': 1003, 'asked': 1004, 'heavy': 1005, 'land': 1006, 'falling': 1007, 'bush': 1008, 'legal': 1009, 'step': 1010, 'double': 1011, 'veteran': 1012, 'robbery': 1013, '29': 1014, 'mike': 1015, 'christmas': 1016, 'aid': 1017, 'rep': 1018, 'serious': 1019, 'joe': 1020, 'dr': 1021, 'administration': 1022, 'seen': 1023, 'warning': 1024, 'calif': 1025, 'book': 1026, 'king': 1027, 'armed': 1028, 'fired': 1029, 'paid': 1030, 'fiscal': 1031, '31': 1032, 'convicted': 1033, 'attorney': 1034, 'facility': 1035, 'commercial': 1036, 'syria': 1037, 'costs': 1038, 'division': 1039, 'palestinian': 1040, 'girls': 1041, 'interview': 1042, 'straight': 1043, 'stars': 1044, 'starting': 1045, 'flight': 1046, 'acquired': 1047, 'lady': 1048, 'begin': 1049, 'deputy': 1050, 'drop': 1051, 'prince': 1052, 'jones': 1053, 'highway': 1054, 'supply': 1055, 'defence': 1056, 'baseball': 1057, 'met': 1058, 'every': 1059, 'inflation': 1060, 'main': 1061, 'class': 1062, 'jailed': 1063, 'digital': 1064, 'daughter': 1065, 'appointed': 1066, 'popular': 1067, 'dropped': 1068, 'does': 1069, 'did': 1070, 'look': 1071, 'winter': 1072, 'justin': 1073, 'italian': 1074, 'common': 1075, 'stay': 1076, 'failed': 1077, 'recession': 1078, 'boost': 1079, 'large': 1080, 'passed': 1081, 'whose': 1082, 'earnings': 1083, 'spring': 1084, 'champions': 1085, 'stadium': 1086, 'playing': 1087, 'nations': 1088, 'martin': 1089, 'why': 1090, 'futures': 1091, 'homes': 1092, 'person': 1093, 'front': 1094, 'dog': 1095, 'khan': 1096, 'flights': 1097, 'bomb': 1098, 'gun': 1099, 'teacher': 1100, 'girlfriend': 1101, 'find': 1102, 'might': 1103, 'stores': 1104, 'drugs': 1105, 'ground': 1106, 'pakistani': 1107, 'partnership': 1108, 'gets': 1109, 'went': 1110, 'injuries': 1111, 'know': 1112, 'operation': 1113, 'bond': 1114, 'ryan': 1115, 'bring': 1116, 'moving': 1117, 'la': 1118, 'civil': 1119, 'once': 1120, 'begins': 1121, 'nfl': 1122, 'started': 1123, 'areas': 1124, 'twitter': 1125, 'suspected': 1126, 'investigation': 1127, 'net': 1128, 'completed': 1129, 'turkish': 1130, 'striker': 1131, 'each': 1132, 'projects': 1133, 'steve': 1134, 'joined': 1135, 'connection': 1136, 'partner': 1137, 'total': 1138, 'scheduled': 1139, 'concerns': 1140, 'light': 1141, 'decided': 1142, 'criminal': 1143, 'hits': 1144, 'nato': 1145, 'unit': 1146, 'short': 1147, 'houston': 1148, 'problems': 1149, 'conditions': 1150, 'pre': 1151, 'efforts': 1152, 'treatment': 1153, 'spokesman': 1154, 'yet': 1155, 'levels': 1156, 'index': 1157, 'ohio': 1158, 'supreme': 1159, 'raises': 1160, 'already': 1161, 'marriage': 1162, 'expand': 1163, 'iranian': 1164, 'reached': 1165, 'ceo': 1166, 'sea': 1167, 'suffered': 1168, 'goes': 1169, 'banned': 1170, 'lanka': 1171, 'abuse': 1172, 'range': 1173, 'crashed': 1174, 'taylor': 1175, 'finally': 1176, 'earthquake': 1177, 'added': 1178, 'afghan': 1179, 'together': 1180, 'lawsuit': 1181, 'sydney': 1182, 'watch': 1183, 'corruption': 1184, 'ireland': 1185, 'dubai': 1186, 'published': 1187, 'tom': 1188, 'hundreds': 1189, 'spain': 1190, 'toronto': 1191, 'steel': 1192, 'assembly': 1193, 'peter': 1194, 'independent': 1195, 'focus': 1196, 'band': 1197, 'magazine': 1198, 'parts': 1199, 'create': 1200, 'n': 1201, 'michigan': 1202, 'retirement': 1203, '60': 1204, 'improve': 1205, 'track': 1206, 'boss': 1207, 'access': 1208, 'hard': 1209, 'celebrate': 1210, 'funding': 1211, 'forced': 1212, 'joins': 1213, 'attacked': 1214, 'x': 1215, 'holding': 1216, 'releases': 1217, 'whether': 1218, 'communications': 1219, 'lee': 1220, 'leaves': 1221, 'reach': 1222, 'reduce': 1223, 'robbed': 1224, 'senator': 1225, 'cross': 1226, 'channel': 1227, 'giving': 1228, 'corporate': 1229, 'divorce': 1230, 'syrian': 1231, 'platform': 1232, 'ambassador': 1233, 'saudi': 1234, '300': 1235, 'rising': 1236, 'agent': 1237, 'base': 1238, 'producer': 1239, 'liverpool': 1240, 'rape': 1241, 'eu': 1242, 'caught': 1243, 'living': 1244, 'unveiled': 1245, 'iphone': 1246, 'arrived': 1247, 'related': 1248, 'suspect': 1249, 'minor': 1250, 'below': 1251, 'caused': 1252, 'egypt': 1253, 'stand': 1254, 'save': 1255, 'illegal': 1256, 'blue': 1257, 'involved': 1258, 'stake': 1259, 'posted': 1260, 'available': 1261, 'province': 1262, 'seeking': 1263, 'banking': 1264, 'romney': 1265, 'patients': 1266, 'cars': 1267, 'unemployment': 1268, 'birth': 1269, 'process': 1270, 'jury': 1271, 'fashion': 1272, 'ordered': 1273, 'stabbed': 1274, 'revenue': 1275, 'clinton': 1276, 'kill': 1277, 'village': 1278, 'review': 1279, 'birthday': 1280, 'ruled': 1281, 'far': 1282, 'model': 1283, 'equity': 1284, 'above': 1285, 'personal': 1286, 'condition': 1287, 'spanish': 1288, 'ship': 1289, 'records': 1290, 'midfielder': 1291, 'fifth': 1292, 'tony': 1293, 'italy': 1294, 'gulf': 1295, 'rest': 1296, 'cases': 1297, 'holiday': 1298, 'kim': 1299, 'industrial': 1300, 'proposed': 1301, 'crude': 1302, 'singapore': 1303, 'incident': 1304, 'card': 1305, 'worldwide': 1306, 'taiwan': 1307, 'crime': 1308, 'jersey': 1309, 'tournament': 1310, 'scott': 1311, 'fox': 1312, 'think': 1313, 'perform': 1314, 'urged': 1315, 'royal': 1316, 'americans': 1317, 'camp': 1318, 'inside': 1319, 'figures': 1320, 'assets': 1321, 'orders': 1322, 'marketing': 1323, 'tomorrow': 1324, 'taliban': 1325, 'operator': 1326, 'users': 1327, 'competition': 1328, 'period': 1329, 'turn': 1330, 'calling': 1331, 'fort': 1332, 'korean': 1333, 'researchers': 1334, 'technologies': 1335, 'expects': 1336, 'bridge': 1337, 'cabinet': 1338, 'admits': 1339, 'celebrates': 1340, 'jan': 1341, 'hour': 1342, 'minnesota': 1343, 'stolen': 1344, 'threat': 1345, 'direct': 1346, 'primary': 1347, 'dollars': 1348, 'soccer': 1349, 'comes': 1350, 'strategic': 1351, 'income': 1352, 'female': 1353, 'then': 1354, 'pop': 1355, 'damage': 1356, 'solar': 1357, 'entertainment': 1358, 'paris': 1359, 'ceremony': 1360, 'jennifer': 1361, 'came': 1362, 'deficit': 1363, 'extended': 1364, 'brazil': 1365, 'resources': 1366, 'cooperation': 1367, 'elected': 1368, 'louis': 1369, 'kevin': 1370, 'brother': 1371, 'wanted': 1372, 'auto': 1373, 'planned': 1374, 'suffering': 1375, 'miami': 1376, 'chelsea': 1377, 'manufacturing': 1378, 'returning': 1379, 'kansas': 1380, 'youth': 1381, 'apartment': 1382, 'newspaper': 1383, 'relations': 1384, 'form': 1385, 'estate': 1386, 'worker': 1387, 'writer': 1388, 'coal': 1389, 'ii': 1390, 'militants': 1391, 'dividend': 1392, 'cause': 1393, 'room': 1394, 'receive': 1395, 'multi': 1396, 'source': 1397, 'split': 1398, 'affairs': 1399, 'disease': 1400, 'quality': 1401, 'buying': 1402, 'limited': 1403, 'cutting': 1404, 'gaza': 1405, 'talk': 1406, 'greece': 1407, 'partners': 1408, 'highest': 1409, 'airline': 1410, 'friends': 1411, 'las': 1412, 'stealing': 1413, 'programme': 1414, 'challenge': 1415, 'pro': 1416, 'downtown': 1417, 'date': 1418, 'overnight': 1419, 'winner': 1420, 'concert': 1421, 'rules': 1422, 'nba': 1423, 'appeal': 1424, 'leads': 1425, 'massive': 1426, 'previous': 1427, 'discuss': 1428, 'rises': 1429, 'll': 1430, 'quarterly': 1431, 'potential': 1432, 'voted': 1433, 'tiger': 1434, 'parents': 1435, 'losing': 1436, 'bad': 1437, 'fresh': 1438, 'felony': 1439, 'blood': 1440, 'mining': 1441, 'queen': 1442, 'perry': 1443, 'began': 1444, 'owned': 1445, '35': 1446, 'appear': 1447, 'broke': 1448, 'helped': 1449, 'seek': 1450, 'barrel': 1451, 'morgan': 1452, 'institute': 1453, 'ali': 1454, 'played': 1455, 'malaysia': 1456, 'offered': 1457, 'product': 1458, 'virginia': 1459, 'b': 1460, 'moved': 1461, 'pregnant': 1462, 'weak': 1463, 'colorado': 1464, 'average': 1465, 'others': 1466, 'allow': 1467, 'wide': 1468, 'acquires': 1469, 'cloud': 1470, 'port': 1471, 'detroit': 1472, 'aircraft': 1473, '70': 1474, 'acquisition': 1475, 'teachers': 1476, 'pacific': 1477, 'gives': 1478, 'controversial': 1479, 'adding': 1480, 'boat': 1481, 'vegas': 1482, 'boyfriend': 1483, 'operating': 1484, 'scientists': 1485, 'society': 1486, 'address': 1487, 'libya': 1488, 'charity': 1489, 'enough': 1490, 'terms': 1491, 'authority': 1492, 'bills': 1493, 'hand': 1494, 'dallas': 1495, 'wedding': 1496, 'view': 1497, 'groups': 1498, 'alex': 1499, 'course': 1500, 'illinois': 1501, '400': 1502, 'lot': 1503, 'receives': 1504, 'tried': 1505, 'doctors': 1506, 'iowa': 1507, 'defender': 1508, 'scheme': 1509, 'wireless': 1510, 'protect': 1511, 'farmers': 1512, 'ties': 1513, 'firefighters': 1514, 'mission': 1515, 'reform': 1516, 'swine': 1517, 'beating': 1518, 'defeat': 1519, 'towards': 1520, 'hill': 1521, 'rescue': 1522, 'flat': 1523, 'heard': 1524, 'elderly': 1525, 'equipment': 1526, 'lawmakers': 1527, 'azerbaijan': 1528, 'engaged': 1529, 'memorial': 1530, 'claim': 1531, 'academy': 1532, 'arizona': 1533, 'hurricane': 1534, 'vehicles': 1535, 'airways': 1536, 'fatal': 1537, 'compared': 1538, 'indicted': 1539, 'rain': 1540, 'legend': 1541, 'van': 1542, 'madrid': 1543, 'grant': 1544, 'starts': 1545, '45': 1546, 'effort': 1547, 'fair': 1548, 'kelly': 1549, 'situation': 1550, 'victims': 1551, 'response': 1552, 'republic': 1553, 'draw': 1554, 'worst': 1555, 'doesn': 1556, 'organization': 1557, 'package': 1558, 'mccain': 1559, 'mp': 1560, 'fined': 1561, 'electric': 1562, 'block': 1563, 'friend': 1564, 'hospitalized': 1565, 'rating': 1566, 'sells': 1567, 'threatened': 1568, 'teen': 1569, 'restaurant': 1570, 'jim': 1571, 'atlanta': 1572, 'feb': 1573, 'diego': 1574, 'lose': 1575, 'woods': 1576, 'looks': 1577, 've': 1578, 'poor': 1579, 'investigate': 1580, 'committed': 1581, 'bail': 1582, 'irish': 1583, 'attempt': 1584, '2007': 1585, 'francisco': 1586, 'critical': 1587, 'closing': 1588, 'draft': 1589, 'gave': 1590, 'developer': 1591, 'andrew': 1592, 'rescued': 1593, 'venture': 1594, 'climate': 1595, 'fighting': 1596, 'voters': 1597, 'labor': 1598, 'environment': 1599, 'denied': 1600, 'aug': 1601, 'exports': 1602, 'farm': 1603, 'fame': 1604, 'dispute': 1605, 'wind': 1606, 'summit': 1607, 'celebrated': 1608, 'currently': 1609, 'contest': 1610, 'teams': 1611, 'squad': 1612, 'ending': 1613, 'turns': 1614, 'though': 1615, 'measures': 1616, 'custody': 1617, 'dec': 1618, 'nov': 1619, 'celebrity': 1620, 'snow': 1621, 'golf': 1622, 'protesters': 1623, 'ben': 1624, 'meets': 1625, 'kong': 1626, 'knee': 1627, 'hockey': 1628, 'arrives': 1629, 'becoming': 1630, 'position': 1631, 'millions': 1632, 'multiple': 1633, 'separate': 1634, 'indonesia': 1635, 'spot': 1636, 'retire': 1637, 'rugby': 1638, 'currency': 1639, 'completes': 1640, 'introduced': 1641, 'rebels': 1642, 'severe': 1643, 'flood': 1644, 'rival': 1645, 'progress': 1646, 'pirates': 1647, 'effective': 1648, 'replace': 1649, 'victim': 1650, 'commerce': 1651, 'headed': 1652, 'foot': 1653, 'moves': 1654, 'value': 1655, 'slightly': 1656, 'hearing': 1657, 'decline': 1658, 'tennis': 1659, 'milan': 1660, 'benefits': 1661, 'hong': 1662, 'matt': 1663, 'navy': 1664, 'successful': 1665, 'cell': 1666, 'chase': 1667, 'mixed': 1668, 'saw': 1669, 'safe': 1670, 'computer': 1671, 'beijing': 1672, 'fast': 1673, 'needed': 1674, 'forecast': 1675, 'additional': 1676, 'motor': 1677, 'r': 1678, 'families': 1679, 'securities': 1680, 'considering': 1681, 'art': 1682, 'shut': 1683, 'present': 1684, 'holds': 1685, 'avoid': 1686, 'harry': 1687, 'kashmir': 1688, 'important': 1689, 'resume': 1690, 'tim': 1691, 'shop': 1692, 'greek': 1693, 'founder': 1694, 'richard': 1695, '75': 1696, 'boys': 1697, 'row': 1698, 'believe': 1699, 'transfer': 1700, 'pulled': 1701, 'theft': 1702, 'mid': 1703, 'tourism': 1704, 'kate': 1705, 'became': 1706, 'different': 1707, 'broken': 1708, 'headquarters': 1709, 'usa': 1710, 'beginning': 1711, 'forest': 1712, 'oct': 1713, 'bonds': 1714, 'missouri': 1715, 'cities': 1716, 'awarded': 1717, 'runs': 1718, 'ford': 1719, 'andy': 1720, 'rangers': 1721, 'reality': 1722, 'result': 1723, 'zone': 1724, 'conduct': 1725, 'develop': 1726, 'retailer': 1727, 'solution': 1728, 'visits': 1729, 'loans': 1730, 'terrorism': 1731, 'ice': 1732, 'doing': 1733, 'seriously': 1734, 'parties': 1735, 'terror': 1736, 'raising': 1737, 'entered': 1738, 'professional': 1739, 'via': 1740, 'trip': 1741, 'owners': 1742, 'tests': 1743, 'tree': 1744, 'indiana': 1745, 'brian': 1746, 'square': 1747, 'problem': 1748, 'speed': 1749, 'films': 1750, 'trust': 1751, 'poll': 1752, 'weapons': 1753, 'foundation': 1754, 'ap': 1755, 'chance': 1756, 'carrier': 1757, 'citizens': 1758, 'oscar': 1759, 'launching': 1760, 'ends': 1761, 'quarterback': 1762, 'events': 1763, 'landing': 1764, 'ratings': 1765, 'directors': 1766, 'cleared': 1767, 'factor': 1768, 'drivers': 1769, 'sets': 1770, 'doctor': 1771, 'crashes': 1772, 'signing': 1773, 'charlie': 1774, 'township': 1775, 'huge': 1776, 'chain': 1777, 'reporting': 1778, 'minutes': 1779, 'santa': 1780, 'outlook': 1781, 'toyota': 1782, 'motors': 1783, 'samsung': 1784, 'charles': 1785, 'account': 1786, 'sir': 1787, 'industries': 1788, 'effect': 1789, 'die': 1790, 'assistant': 1791, 'profits': 1792, 'brought': 1793, 'journal': 1794, 'app': 1795, 'version': 1796, 'english': 1797, 'lohan': 1798, 'helping': 1799, 'feels': 1800, 'gaga': 1801, 'distribution': 1802, 'seattle': 1803, 'debate': 1804, 'fears': 1805, 'brain': 1806, 'mr': 1807, 'married': 1808, 'arts': 1809, 'strategy': 1810, 'showing': 1811, 'arab': 1812, 'strikes': 1813, 'kills': 1814, 'environmental': 1815, 'capacity': 1816, 'alliance': 1817, 'transport': 1818, 'patent': 1819, 'involving': 1820, 'labour': 1821, 'song': 1822, 'kids': 1823, 'hope': 1824, 'manufacturer': 1825, 'steps': 1826, 'kardashian': 1827, 'fan': 1828, 'impact': 1829, 'jason': 1830, '80': 1831, 'bollywood': 1832, 'marijuana': 1833, 'benefit': 1834, 'moscow': 1835, 'passes': 1836, 'bob': 1837, 'lindsay': 1838, 'hot': 1839, 'gone': 1840, 'relationship': 1841, 'always': 1842, 'content': 1843, 'disaster': 1844, 'william': 1845, 'happy': 1846, 'wayne': 1847, 'citing': 1848, 'increases': 1849, 'grow': 1850, 'seeks': 1851, 'activity': 1852, '600': 1853, 'mountain': 1854, 'various': 1855, 'metro': 1856, 'application': 1857, 'story': 1858, 'bangladesh': 1859, 'animal': 1860, 'philadelphia': 1861, 'advanced': 1862, 'employee': 1863, 'ukraine': 1864, 'commissioner': 1865, 'believes': 1866, 'bowl': 1867, 'expecting': 1868, 'science': 1869, 'degree': 1870, 'giants': 1871, 'bringing': 1872, 'cleveland': 1873, 'sarah': 1874, 'generation': 1875, 'placed': 1876, 'el': 1877, 'leg': 1878, 'wisconsin': 1879, 'tribute': 1880, 'remained': 1881, 'bar': 1882, 'politics': 1883, 'aimed': 1884, 'rick': 1885, 'sox': 1886, 'consumers': 1887, 'mail': 1888, 'simon': 1889, 'historic': 1890, 'quit': 1891, 'prevent': 1892, 'stephen': 1893, 'dutch': 1894, 'mass': 1895, 'increasing': 1896, 'invest': 1897, 'dc': 1898, 'sexually': 1899, 'unveils': 1900, 'file': 1901, 'holdings': 1902, 'gordon': 1903, 'embassy': 1904, '90': 1905, 'causing': 1906, 'box': 1907, 'secret': 1908, 'lives': 1909, 'lawyer': 1910, 'recovering': 1911, 'sony': 1912, 'clear': 1913, 'expansion': 1914, 'things': 1915, 'cameron': 1916, 'joining': 1917, 'crimes': 1918, 'bbc': 1919, 'shopping': 1920, 'lines': 1921, 'pilot': 1922, 'scotland': 1923, 'punjab': 1924, 'cast': 1925, 'able': 1926, 'leadership': 1927, 'satellite': 1928, 'sanctions': 1929, 'bjp': 1930, 'arsenal': 1931, 'bieber': 1932, 'stewart': 1933, 'customer': 1934, 'motorcycle': 1935, 'associated': 1936, 'didn': 1937, 'design': 1938, 'telecom': 1939, 'crore': 1940, 'appoints': 1941, 'pick': 1942, 'protests': 1943, 'regular': 1944, 'barcelona': 1945, 'metal': 1946, 'idol': 1947, 'relief': 1948, 'attend': 1949, 'tech': 1950, 'jack': 1951, 'electronic': 1952, 'investor': 1953, 'ministers': 1954, 'analysts': 1955, 'complex': 1956, 'anthony': 1957, 'defensive': 1958, 'allen': 1959, 'denies': 1960, 'author': 1961, 'islamic': 1962, 'jr': 1963, 'ten': 1964, 'developed': 1965, 'scored': 1966, 'designed': 1967, 'goal': 1968, 'attempted': 1969, 'allegations': 1970, 'healthcare': 1971, '150': 1972, 'sun': 1973, 'breaks': 1974, 'rare': 1975, 'networks': 1976, 'helicopter': 1977, 'classic': 1978, 'weekly': 1979, 'complete': 1980, 'heat': 1981, 'struggling': 1982, 'detained': 1983, 'auction': 1984, 'swiss': 1985, 'tennessee': 1986, 'candidates': 1987, 'jose': 1988, 'activists': 1989, 'expectations': 1990, 'breaking': 1991, 'carrying': 1992, 'extension': 1993, 'cruise': 1994, 'really': 1995, 'purchase': 1996, 'orleans': 1997, 'created': 1998, 'express': 1999, 'brazilian': 2000, 'friendly': 2001, 'muslim': 2002, 'disabled': 2003, 'standard': 2004, 'recall': 2005, 'decade': 2006, 'expands': 2007, 'spend': 2008, 'sharply': 2009, 'closes': 2010, 'kentucky': 2011, 'infrastructure': 2012, 'discovered': 2013, 'extend': 2014, 'ongoing': 2015, 'teenager': 2016, 'experts': 2017, 'patrol': 2018, 'wake': 2019, 'schedule': 2020, 'cole': 2021, 'delivery': 2022, 'warns': 2023, 'avenue': 2024, 'nationwide': 2025, 'c': 2026, 'brad': 2027, 'receiver': 2028, 'tackle': 2029, 'seat': 2030, 'send': 2031, 'immigration': 2032, 'activities': 2033, 'rupee': 2034, 'tokyo': 2035, 'iron': 2036, 'melbourne': 2037, 'sending': 2038, 'deadly': 2039, 'polls': 2040, 'let': 2041, 'assaulting': 2042, 'significant': 2043, 'majority': 2044, 'seized': 2045, 'destroyed': 2046, 'closer': 2047, 'offensive': 2048, 'voice': 2049, 'hamilton': 2050, 'vs': 2051, 'jessica': 2052, 'mitt': 2053, 'posts': 2054, 'jets': 2055, 'declares': 2056, 'thomas': 2057, 'battery': 2058, 'stimulus': 2059, 'olympics': 2060, 'failing': 2061, 'add': 2062, 'technical': 2063, 'failure': 2064, 'allowed': 2065, 'advisory': 2066, 'zimbabwe': 2067, 'gary': 2068, 'try': 2069, 'apparently': 2070, 'victoria': 2071, 'applications': 2072, 'activist': 2073, 'lewis': 2074, 'kennedy': 2075, 'rule': 2076, 'toward': 2077, 'davis': 2078, 'racing': 2079, 'appears': 2080, 'bin': 2081, 'speech': 2082, 'gain': 2083, 'jet': 2084, 'loses': 2085, 'violent': 2086, 'fc': 2087, 'possession': 2088, 'these': 2089, 'taxes': 2090, 'mexican': 2091, 'concern': 2092, 'qatar': 2093, 'homicide': 2094, 'arabia': 2095, 'spent': 2096, 'passengers': 2097, 'beaten': 2098, 'comments': 2099, 'windows': 2100, 'pace': 2101, 'cents': 2102, 'trend': 2103, 'plants': 2104, 'patrick': 2105, 'developing': 2106, 'comedy': 2107, '33': 2108, 'threatening': 2109, 'southwest': 2110, 'serving': 2111, 'hills': 2112, 'identified': 2113, 'advertising': 2114, 'approves': 2115, 'sept': 2116, 'rural': 2117, 'golden': 2118, 'pounds': 2119, 'cover': 2120, 'wild': 2121, 'decades': 2122, 'fires': 2123, 'photo': 2124, 'democracy': 2125, 'fine': 2126, 'campus': 2127, 'duty': 2128, 'throughout': 2129, 'thought': 2130, 'newly': 2131, 'shareholders': 2132, 'promote': 2133, '32': 2134, 'hosting': 2135, 'theatre': 2136, 'settlement': 2137, 'wales': 2138, 'electronics': 2139, 'sentence': 2140, 'visited': 2141, 'phoenix': 2142, 'setting': 2143, 'burglary': 2144, 'serve': 2145, 'ensure': 2146, 'christian': 2147, 'selected': 2148, 'born': 2149, 'crew': 2150, 'works': 2151, 'russell': 2152, 'daniel': 2153, 'export': 2154, 'scandal': 2155, 'route': 2156, 'tough': 2157, 'parliamentary': 2158, 'firms': 2159, 'offices': 2160, 'p': 2161, 'enterprise': 2162, 'done': 2163, 'heading': 2164, 'reveals': 2165, 'agriculture': 2166, 'palin': 2167, 'consider': 2168, 'oklahoma': 2169, 'sixth': 2170, 'beckham': 2171, 'electricity': 2172, 'pass': 2173, 'hands': 2174, 'continuing': 2175, 'voting': 2176, 'studio': 2177, 'previously': 2178, 'overseas': 2179, 'stabbing': 2180, 'forum': 2181, 'dating': 2182, 'democrats': 2183, 'campbell': 2184, 'counts': 2185, 'enter': 2186, 'longer': 2187, 'j': 2188, 'adds': 2189, 'ring': 2190, 'confirms': 2191, 'passenger': 2192, 'broadband': 2193, 'philippines': 2194, 'chemical': 2195, 'consecutive': 2196, 'update': 2197, 'devices': 2198, 'linked': 2199, 'speak': 2200, 'granted': 2201, '55': 2202, 'agencies': 2203, 'prix': 2204, 'introduces': 2205, 'nick': 2206, 'yahoo': 2207, 'ill': 2208, 'subsidiary': 2209, 'alcohol': 2210, 'aged': 2211, 'treasury': 2212, 'feel': 2213, 'plc': 2214, 'denver': 2215, 'providing': 2216, 'elizabeth': 2217, 'freedom': 2218, 'evidence': 2219, 'ghana': 2220, 'license': 2221, 'silver': 2222, 'pradesh': 2223, 'brothers': 2224, 'built': 2225, 'fees': 2226, 'supplies': 2227, 'ruling': 2228, 'strip': 2229, 'alabama': 2230, 'beats': 2231, 'sport': 2232, 'chapter': 2233, 'reuters': 2234, 'fargo': 2235, 'expanding': 2236, 'hosts': 2237, 'amy': 2238, 'terrorist': 2239, 'territory': 2240, 'frank': 2241, '2014': 2242, 'agree': 2243, 'streets': 2244, 'refused': 2245, '700': 2246, 'prize': 2247, 'engineering': 2248, 'targets': 2249, 'parking': 2250, 'adam': 2251, 'indians': 2252, 'jordan': 2253, 'cable': 2254, 'laid': 2255, 'rail': 2256, 'threats': 2257, 'kyrgyzstan': 2258, 'cuba': 2259, 'engine': 2260, 'cocaine': 2261, 'wilson': 2262, 'wrong': 2263, 'vietnam': 2264, 'announcement': 2265, 'finds': 2266, 'coalition': 2267, 'hired': 2268, 'diagnosed': 2269, 'experience': 2270, 'changed': 2271, 'letter': 2272, 'tamil': 2273, 'cbs': 2274, 'eye': 2275, 'resigned': 2276, 'palm': 2277, 'negative': 2278, 'usd': 2279, 'dealers': 2280, 'sites': 2281, 'lebanon': 2282, 'panel': 2283, 'surprise': 2284, 'wounded': 2285, 'ipad': 2286, 'units': 2287, 'movement': 2288, 'nelson': 2289, 'rapper': 2290, 'tropical': 2291, 'ray': 2292, 'earth': 2293, 'nokia': 2294, 'android': 2295, 'lack': 2296, 'tata': 2297, 'believed': 2298, 'numbers': 2299, 'iraqi': 2300, 'overall': 2301, 'breast': 2302, 'paper': 2303, 'crews': 2304, 'nigeria': 2305, 'question': 2306, 'egyptian': 2307, 'undergo': 2308, 'carbon': 2309, 'roads': 2310, 'expanded': 2311, 'austin': 2312, 'yemen': 2313, 'michelle': 2314, 'uae': 2315, 'greater': 2316, 'artist': 2317, 'jon': 2318, 'goods': 2319, 'twins': 2320, 'prosecutors': 2321, 'questions': 2322, 'recovered': 2323, 'assaulted': 2324, 'statistics': 2325, 'successfully': 2326, 'agents': 2327, 'laws': 2328, '41': 2329, 'weight': 2330, 'success': 2331, 'portfolio': 2332, 'urges': 2333, 'bear': 2334, 'deliver': 2335, 'clash': 2336, 'foods': 2337, 'marine': 2338, 'bodies': 2339, '800': 2340, 'resign': 2341, 'walk': 2342, 'claiming': 2343, 'lowest': 2344, 'hillary': 2345, 'message': 2346, 'kept': 2347, 'treated': 2348, 'honored': 2349, 'thanks': 2350, 'challenges': 2351, 'miller': 2352, 'status': 2353, 'receiving': 2354, 'stroke': 2355, 'murray': 2356, 'harris': 2357, 'pitcher': 2358, 'improved': 2359, 'payment': 2360, 'interior': 2361, 'analyst': 2362, 'pope': 2363, 'shoot': 2364, 'legislation': 2365, 'appeared': 2366, 'homeless': 2367, 'anna': 2368, 'appearance': 2369, 'representative': 2370, 'moore': 2371, 'famous': 2372, 'approval': 2373, 'branch': 2374, 'factory': 2375, 'note': 2376, 'hurt': 2377, 'collision': 2378, 'extends': 2379, 'mine': 2380, 'prisoners': 2381, 'cold': 2382, 'inter': 2383, 'yen': 2384, 'powerful': 2385, 'screen': 2386, 'stone': 2387, 'keeping': 2388, 'nifty': 2389, 'w': 2390, 'dangerous': 2391, 'religious': 2392, 'backed': 2393, 'produce': 2394, 'clean': 2395, 'semi': 2396, 'cape': 2397, 'phones': 2398, 'drama': 2399, 'stated': 2400, '250': 2401, 'residential': 2402, 'device': 2403, 'true': 2404, 'visiting': 2405, 'lifted': 2406, 'details': 2407, 'alert': 2408, 'itself': 2409, 'northwest': 2410, 'wells': 2411, 'ocean': 2412, 'jay': 2413, 'catholic': 2414, 'push': 2415, 'monetary': 2416, 'self': 2417, 'supporters': 2418, 'triple': 2419, 'rio': 2420, 'formula': 2421, 'speculation': 2422, 'journalist': 2423, 'although': 2424, 'ny': 2425, 'milwaukee': 2426, 'assistance': 2427, 'certain': 2428, 'patient': 2429, 'plea': 2430, 'miles': 2431, 'suspicion': 2432, 'teenage': 2433, 'toll': 2434, 'atlantic': 2435, 'rejected': 2436, '48': 2437, 'enforcement': 2438, '34': 2439, 'storage': 2440, 'traders': 2441, '42': 2442, 'bureau': 2443, 'cards': 2444, 'smart': 2445, 'investments': 2446, 'check': 2447, 'journalists': 2448, 'proposal': 2449, 'independence': 2450, 'lions': 2451, 'musical': 2452, 'touch': 2453, 'sam': 2454, 'elementary': 2455, 'rehab': 2456, 'combat': 2457, 'hitting': 2458, 'abu': 2459, 'venezuela': 2460, 'becomes': 2461, 'twice': 2462, '44': 2463, 'libyan': 2464, 'deals': 2465, 'museum': 2466, 'malaysian': 2467, 'orange': 2468, 'buffalo': 2469, 'hire': 2470, 'horse': 2471, 'pittsburgh': 2472, '36': 2473, 'extra': 2474, 'amazon': 2475, 'herself': 2476, 'fellow': 2477, 'lending': 2478, 'options': 2479, 'resident': 2480, 'testing': 2481, 'feature': 2482, 'newcastle': 2483, 'rice': 2484, 'simpson': 2485, 'welcome': 2486, 'library': 2487, 'waste': 2488, 'bulgaria': 2489, 'dance': 2490, 'affected': 2491, 'facilities': 2492, 'amount': 2493, 'begun': 2494, 'healthy': 2495, 'oregon': 2496, 'reaches': 2497, 'hoping': 2498, 'sudan': 2499, 'votes': 2500, 'exercise': 2501, 'rivals': 2502, 'stronger': 2503, '37': 2504, 'scottish': 2505, '65': 2506, 'window': 2507, 'tickets': 2508, 'programs': 2509, 'formally': 2510, 'instead': 2511, 'finish': 2512, 'rihanna': 2513, 'dancing': 2514, 'yankees': 2515, 'immediate': 2516, 'rather': 2517, 'utah': 2518, 'myanmar': 2519, 'plays': 2520, 'pattinson': 2521, 'existing': 2522, 'medal': 2523, 'speaker': 2524, 'nominated': 2525, 'include': 2526, 'putting': 2527, 'supports': 2528, 'collection': 2529, 'style': 2530, 'recalled': 2531, 'katie': 2532, 'eric': 2533, 'ron': 2534, 'tampa': 2535, 'championships': 2536, 'floor': 2537, 'abc': 2538, 'cancelled': 2539, 'ball': 2540, 'enters': 2541, 'located': 2542, 'bp': 2543, 'spread': 2544, 'rich': 2545, 'fully': 2546, 'dozens': 2547, 'qaeda': 2548, 'stations': 2549, 'deadline': 2550, 'presence': 2551, 'option': 2552, 'exclusive': 2553, 'sees': 2554, 'hero': 2555, 'stanley': 2556, 'ontario': 2557, 'explosion': 2558, '49': 2559, 'bought': 2560, 'vancouver': 2561, 'birmingham': 2562, 'sensex': 2563, '38': 2564, '09': 2565, 'veterans': 2566, 'bailout': 2567, 'madonna': 2568, 'superstar': 2569, 'galaxy': 2570, 'acting': 2571, 'delegation': 2572, 'advance': 2573, 'missile': 2574, 'sheen': 2575, 'dream': 2576, 'franchise': 2577, 'causes': 2578, 'vowed': 2579, 'resort': 2580, 'secure': 2581, 'shoulder': 2582, 'waters': 2583, 'chiefs': 2584, 'designer': 2585, 'sabha': 2586, 'stopped': 2587, 'baltimore': 2588, 'cheryl': 2589, 'missed': 2590, 'sharp': 2591, 'garden': 2592, 'broadway': 2593, 'roger': 2594, 'gandhi': 2595, 'drunk': 2596, 'century': 2597, '47': 2598, 'congressional': 2599, 'communities': 2600, 'winds': 2601, 'sought': 2602, 'awareness': 2603, 'alive': 2604, 'monthly': 2605, 'traded': 2606, 'sa': 2607, 'stable': 2608, 'strengthen': 2609, 'arm': 2610, 'sued': 2611, 'springs': 2612, 'anderson': 2613, 'highly': 2614, 'suffers': 2615, 'contact': 2616, 'reduced': 2617, 'repair': 2618, 'contracts': 2619, 'howard': 2620, 'provides': 2621, 'intelligence': 2622, 'ticket': 2623, 'spotted': 2624, 'orlando': 2625, 'approximately': 2626, 'welcomed': 2627, 'pool': 2628, 'asking': 2629, 'madison': 2630, 'culture': 2631, 'comeback': 2632, 'sprint': 2633, 'copper': 2634, 'networking': 2635, 'dialogue': 2636, 'agrees': 2637, 'resigns': 2638, 'oakland': 2639, 'funeral': 2640, 'del': 2641, 'shanghai': 2642, 'doors': 2643, 'employment': 2644, 'virus': 2645, 'creating': 2646, 'dogs': 2647, 'tells': 2648, 'tourists': 2649, 'policies': 2650, 'honor': 2651, 'conservative': 2652, 'somali': 2653, 'columbia': 2654, 'initial': 2655, 'hamas': 2656, 'properties': 2657, 'shown': 2658, 'recover': 2659, 'kumar': 2660, 'creek': 2661, 'expert': 2662, 'arms': 2663, 'preparing': 2664, 'page': 2665, 'places': 2666, 'carlos': 2667, 'railway': 2668, 'filing': 2669, 'diplomatic': 2670, 'nationals': 2671, 'jerry': 2672, 'initiative': 2673, 'delayed': 2674, 'drops': 2675, 'serbia': 2676, 'kicked': 2677, 'financing': 2678, 'settle': 2679, 'confident': 2680, 'jumped': 2681, 'thailand': 2682, 'offender': 2683, 'mississippi': 2684, 'tigers': 2685, 'aviation': 2686, 'strength': 2687, 'pain': 2688, 'palestinians': 2689, 'payments': 2690, 'transportation': 2691, 'ways': 2692, 'pound': 2693, 'longtime': 2694, 'fear': 2695, 'discovery': 2696, 'diamond': 2697, 'notes': 2698, 'handed': 2699, 'searching': 2700, 'buys': 2701, 'k': 2702, 'eurozone': 2703, 'fact': 2704, 'celebrating': 2705, 'talent': 2706, 'kazakhstan': 2707, 'presented': 2708, 'entire': 2709, 'phil': 2710, 'insists': 2711, 'heads': 2712, 'nomination': 2713, 'arena': 2714, 'native': 2715, 'reporter': 2716, 'katy': 2717, 'columbus': 2718, 'pennsylvania': 2719, 'commander': 2720, 'casino': 2721, 'invasion': 2722, 'fishing': 2723, 'sky': 2724, 'however': 2725, '46': 2726, 'regarding': 2727, 'hospitals': 2728, '85': 2729, 'dakota': 2730, 'azerbaijani': 2731, 'output': 2732, 'gang': 2733, 'finals': 2734, 'exhibition': 2735, 'removed': 2736, 'killer': 2737, 'mall': 2738, 'zardari': 2739, 'massachusetts': 2740, 'junior': 2741, 'deaths': 2742, 'warren': 2743, 'luxury': 2744, 'accounts': 2745, 'probation': 2746, 'ad': 2747, 'invited': 2748, 'reporters': 2749, 'recalls': 2750, 'swedish': 2751, 'terrorists': 2752, 'penn': 2753, 'elect': 2754, '39': 2755, 'fit': 2756, 'bahrain': 2757, 'tell': 2758, 'population': 2759, 'ranked': 2760, 'fatally': 2761, '54': 2762, 'basis': 2763, 'persons': 2764, 'performing': 2765, 'themselves': 2766, 'illness': 2767, 'winehouse': 2768, 'scene': 2769, 'boxing': 2770, 'pension': 2771, 'opportunities': 2772, 'demi': 2773, 'fish': 2774, 'scam': 2775, 'demands': 2776, 'spears': 2777, 'collapsed': 2778, 'especially': 2779, 'notice': 2780, 'specialist': 2781, 'considered': 2782, 'counties': 2783, 'antonio': 2784, 'brands': 2785, 'offshore': 2786, 'rocket': 2787, 'declined': 2788, 'asks': 2789, 'apparent': 2790, '43': 2791, 'choice': 2792, 'smoking': 2793, 'mary': 2794, 'deep': 2795, 'emerging': 2796, 'legendary': 2797, 'manslaughter': 2798, 'angelina': 2799, 'jolie': 2800, 'follow': 2801, 'nsw': 2802, 'conflict': 2803, 'movies': 2804, 'buildings': 2805, 'feet': 2806, 'negotiations': 2807, 'figure': 2808, 'phase': 2809, 'promotion': 2810, 'clinic': 2811, 'roll': 2812, 'goldman': 2813, 'biden': 2814, 'sugar': 2815, 'felt': 2816, 'evacuated': 2817, 'regime': 2818, 'turning': 2819, 'sworn': 2820, 'helps': 2821, 'britney': 2822, 'jeff': 2823, 'retired': 2824, 'penalty': 2825, 'edwards': 2826, 'modern': 2827, '72': 2828, 'bears': 2829, 'hudson': 2830, 'virgin': 2831, 'troubled': 2832, 'asset': 2833, 'ease': 2834, 'scientific': 2835, 'pair': 2836, 'goals': 2837, 'expect': 2838, 'outstanding': 2839, 'import': 2840, 'jimmy': 2841, 'smartphone': 2842, 'drinking': 2843, 'normal': 2844, 'bilateral': 2845, 'pull': 2846, 'fishermen': 2847, 'hip': 2848, 'books': 2849, '51': 2850, 'congressman': 2851, 'opener': 2852, 'disney': 2853, 'escaped': 2854, 'managed': 2855, 'convention': 2856, 'ag': 2857, '56': 2858, 'informed': 2859, 'mac': 2860, 'fee': 2861, 'lift': 2862, 'listed': 2863, 'tested': 2864, 'ask': 2865, 'neil': 2866, 'henry': 2867, 'arkansas': 2868, 'nasa': 2869, 'defend': 2870, 'queensland': 2871, 'nothing': 2872, 'lawyers': 2873, 'pedestrian': 2874, 'suspends': 2875, 'argentina': 2876, 'resolution': 2877, 'sentiment': 2878, 'temporary': 2879, 'probe': 2880, 'coverage': 2881, 'renewed': 2882, 'conducted': 2883, 'standards': 2884, 'southeast': 2885, 'learn': 2886, 'andre': 2887, 'defends': 2888, 'active': 2889, 'language': 2890, 'residence': 2891, 'switzerland': 2892, 'steady': 2893, 'pitt': 2894, 'personnel': 2895, 'medicine': 2896, 'edward': 2897, 'guy': 2898, 'betting': 2899, 'mount': 2900, 'fitness': 2901, 'tonnes': 2902, 'reforms': 2903, 'gop': 2904, 'dedicated': 2905, 'carry': 2906, 'recorded': 2907, 'nbc': 2908, 'often': 2909, 'merger': 2910, 'marks': 2911, 'means': 2912, 'male': 2913, 'craig': 2914, 'clients': 2915, 'busy': 2916, 'democrat': 2917, 'cooper': 2918, 'fighter': 2919, 'hosted': 2920, 'dan': 2921, 'suspects': 2922, 'wood': 2923, 'edge': 2924, 'slow': 2925, 'ed': 2926, 'cnn': 2927, 'display': 2928, 'bell': 2929, 'wait': 2930, '52': 2931, 'immediately': 2932, 'flag': 2933, 'bc': 2934, 'smoke': 2935, 'noon': 2936, 'alaska': 2937, 'steven': 2938, 'remove': 2939, 'manmohan': 2940, 'czech': 2941, 'learned': 2942, 'beyond': 2943, 'coffee': 2944, 'fake': 2945, 'connecticut': 2946, 'mutual': 2947, 'complaint': 2948, 'incidents': 2949, 'positions': 2950, '08': 2951, 'features': 2952, 'dhabi': 2953, 'door': 2954, 'republicans': 2955, 'core': 2956, 'nhl': 2957, 'worked': 2958, 'centers': 2959, 'businessman': 2960, 'circuit': 2961, 'wildlife': 2962, 'portland': 2963, 'matches': 2964, 'targeting': 2965, 'representatives': 2966, 'postponed': 2967, 'sachs': 2968, 'pays': 2969, 'tied': 2970, 'perfect': 2971, 'identity': 2972, 'ac': 2973, 'flying': 2974, 'reading': 2975, '05': 2976, 'matter': 2977, 'sister': 2978, 'imports': 2979, 'preliminary': 2980, 'taxi': 2981, 'stole': 2982, 'blast': 2983, 'kings': 2984, 'crossing': 2985, 'ibm': 2986, 'provided': 2987, 'sweden': 2988, 'delay': 2989, 'derby': 2990, 'utility': 2991, 'participate': 2992, 'onto': 2993, 'tender': 2994, 'deputies': 2995, 'ncaa': 2996, 'easy': 2997, 'featuring': 2998, 'kidnapped': 2999, 'welcomes': 3000, 'cancels': 3001, 'learning': 3002, 'engagement': 3003, 'constitution': 3004, 'paying': 3005, 'documents': 3006, 'indonesian': 3007, 'ankle': 3008, 'charlotte': 3009, 'philippine': 3010, '62': 3011, 'josh': 3012, 'waiting': 3013, 'finished': 3014, 'louisiana': 3015, 'ukrainian': 3016, 'seems': 3017, 'introduce': 3018, 'armenia': 3019, 'request': 3020, 'nashville': 3021, 'tehran': 3022, 'bulgarian': 3023, '58': 3024, '53': 3025, 'sean': 3026, 'youtube': 3027, 'swimming': 3028, 'aniston': 3029, 'word': 3030, 'inmate': 3031, 'processing': 3032, 'direction': 3033, 'pipeline': 3034, 'tight': 3035, 'tea': 3036, 'cyrus': 3037, 'tottenham': 3038, 'lankan': 3039, 'restructuring': 3040, 'professor': 3041, 'charter': 3042, 'ride': 3043, 'everything': 3044, 'supplier': 3045, 'mental': 3046, 'wave': 3047, 'drowned': 3048, 'false': 3049, 'crown': 3050, '68': 3051, 'cuban': 3052, 'era': 3053, 'bull': 3054, 'shortage': 3055, 'g': 3056, 'provincial': 3057, 'trophy': 3058, 'defended': 3059, 'maryland': 3060, 'tornado': 3061, 'canceled': 3062, 'estimates': 3063, 'decide': 3064, 'chrysler': 3065, 'eve': 3066, 'franklin': 3067, 'seasons': 3068, 'nicole': 3069, '66': 3070, 'commitment': 3071, 'savings': 3072, 'federation': 3073, 'comedian': 3074, 'jump': 3075, '82': 3076, '10th': 3077, 'something': 3078, 'threatens': 3079, 'lawrence': 3080, 'adults': 3081, 'llc': 3082, 'materials': 3083, 'picked': 3084, 'haven': 3085, 'benchmark': 3086, 'edition': 3087, 'weaker': 3088, 'raid': 3089, 'spill': 3090, 'ferguson': 3091, 'expressed': 3092, 'suspicious': 3093, 'kingdom': 3094, 'producers': 3095, 'cincinnati': 3096, 'cultural': 3097, 'announcing': 3098, 'trafficking': 3099, 'transit': 3100, 'warrant': 3101, 'kenya': 3102, 'judges': 3103, 'cargo': 3104, 'l': 3105, 'masters': 3106, 'arrests': 3107, 'aims': 3108, 'cowboys': 3109, 'location': 3110, 'f': 3111, 'traditional': 3112, 'compete': 3113, 'happened': 3114, 'clashes': 3115, 'pornography': 3116, 'internal': 3117, 'integrated': 3118, 'improving': 3119, 'registered': 3120, 'jewish': 3121, 'registration': 3122, 'chavez': 3123, 'robin': 3124, 'includes': 3125, 'battling': 3126, 'haiti': 3127, 'johnny': 3128, 'investigators': 3129, 'barbara': 3130, 'managing': 3131, 'fallen': 3132, 'upper': 3133, 'alan': 3134, 'assigned': 3135, 'rafael': 3136, 'image': 3137, 'miley': 3138, 'temporarily': 3139, 'hike': 3140, 'escape': 3141, 'proud': 3142, 'rob': 3143, 'bristol': 3144, 'alexander': 3145, 'slowdown': 3146, 'marathon': 3147, 'pak': 3148, 'gates': 3149, 'flooding': 3150, 'dark': 3151, 'grants': 3152, 'visa': 3153, 'targeted': 3154, 'drew': 3155, 'restore': 3156, 'bradley': 3157, 'prepare': 3158, 'pilots': 3159, 'kick': 3160, 'eagles': 3161, 'fail': 3162, 'carried': 3163, 'cited': 3164, 'table': 3165, 'plus': 3166, 'villa': 3167, 'damaged': 3168, 'suggested': 3169, 'sends': 3170, 'pat': 3171, 'nascar': 3172, 'ran': 3173, 'delays': 3174, 'rushed': 3175, 'verizon': 3176, 'tourist': 3177, 'houses': 3178, 'broadcast': 3179, 'thing': 3180, 'pole': 3181, 'barclays': 3182, 'undisclosed': 3183, 'maria': 3184, 'bit': 3185, 'opportunity': 3186, 'unions': 3187, 'marry': 3188, 'billy': 3189, 'emirates': 3190, 'mostly': 3191, 'interim': 3192, 'espn': 3193, 'anything': 3194, 'blackberry': 3195, 'kristen': 3196, 'lincoln': 3197, 'murdered': 3198, 'shots': 3199, 'burning': 3200, 'kolkata': 3201, 'seventh': 3202, 'criticism': 3203, 'responsible': 3204, 'names': 3205, 'nevada': 3206, 'joseph': 3207, 'boeing': 3208, 'districts': 3209, 'belarus': 3210, 'musharraf': 3211, 'competitive': 3212, 'fifa': 3213, 'cowell': 3214, 'reasons': 3215, 'armenian': 3216, 'difficult': 3217, 'neighborhood': 3218, 'performed': 3219, 'dismissed': 3220, 'pitch': 3221, 'hawaii': 3222, 'material': 3223, 'defeated': 3224, 'bruce': 3225, 'suggests': 3226, 'register': 3227, 'knife': 3228, 'fastest': 3229, 'montreal': 3230, 'wikileaks': 3231, 'tons': 3232, 'volunteers': 3233, 'northeast': 3234, 'blamed': 3235, 'suing': 3236, 'terry': 3237, 'ufc': 3238, 'intel': 3239, 'parker': 3240, 'poland': 3241, 'prominent': 3242, 'scale': 3243, 'organizations': 3244, 'petrol': 3245, 'section': 3246, 'carter': 3247, 'urban': 3248, 'balance': 3249, 'appeals': 3250, '64': 3251, 'nicolas': 3252, 'rand': 3253, 'hotels': 3254, 'vows': 3255, 'god': 3256, 'tie': 3257, 'lay': 3258, 'liberal': 3259, 'standing': 3260, 'walker': 3261, 'allowing': 3262, 'gunpoint': 3263, 'streak': 3264, 'jammu': 3265, 'moon': 3266, 'regulatory': 3267, 'institutions': 3268, 'master': 3269, 'supporting': 3270, '71': 3271, 'gained': 3272, 'cardinals': 3273, 'suit': 3274, 'influence': 3275, 'compensation': 3276, 'feeling': 3277, 'withdraws': 3278, 'produced': 3279, 'parent': 3280, 'items': 3281, 'islands': 3282, 'retiring': 3283, '95': 3284, 'shortly': 3285, 'dealer': 3286, 'quickly': 3287, 'classes': 3288, 'landed': 3289, 'ricky': 3290, 'drink': 3291, 'pictures': 3292, 'violations': 3293, 'colombia': 3294, 'judicial': 3295, 'bengal': 3296, 'hiring': 3297, 'suspension': 3298, 'watson': 3299, 'raped': 3300, 'approach': 3301, 'delta': 3302, 'talking': 3303, 'faced': 3304, 'bobby': 3305, 'resistance': 3306, 'estimated': 3307, '67': 3308, 'meetings': 3309, 'camera': 3310, 'fixed': 3311, 'downturn': 3312, 'jamie': 3313, 'kicks': 3314, 'rush': 3315, 'wearing': 3316, 'halt': 3317, 'episode': 3318, 'remaining': 3319, 'warner': 3320, '900': 3321, 'physical': 3322, 'sure': 3323, 'civilians': 3324, 'roster': 3325, 'minute': 3326, 'shah': 3327, 'swift': 3328, 'hedge': 3329, 'nigerian': 3330, 'isn': 3331, 'hires': 3332, 'alternative': 3333, 'exit': 3334, 'secured': 3335, '57': 3336, 'clubs': 3337, 'cap': 3338, 'honda': 3339, 'knowledge': 3340, 'palace': 3341, 'barry': 3342, 'v': 3343, 'reaching': 3344, 'trail': 3345, 'delivered': 3346, 'sound': 3347, 'maintenance': 3348, 'actually': 3349, 'accept': 3350, 'shuttle': 3351, 'bulls': 3352, 'email': 3353, 'rookie': 3354, 'interstate': 3355, 'collins': 3356, 'naval': 3357, 'earned': 3358, 'dinner': 3359, 'cells': 3360, 'advantage': 3361, 'crowd': 3362, 'gaming': 3363, 'clark': 3364, 'shore': 3365, 'caribbean': 3366, 'similar': 3367, 'arrive': 3368, '76': 3369, 'muslims': 3370, 'maintain': 3371, 'everyone': 3372, 'employers': 3373, 'nepal': 3374, 'u': 3375, 'saints': 3376, 'considers': 3377, 'lane': 3378, 'link': 3379, 'speaking': 3380, 'retailers': 3381, 'scores': 3382, 'lopez': 3383, 'saint': 3384, '2006': 3385, 'kind': 3386, 'entry': 3387, 'adopted': 3388, 'machine': 3389, 'improvement': 3390, 'picture': 3391, 'magic': 3392, 'jesse': 3393, 'occurred': 3394, 'upgraded': 3395, 'focused': 3396, 'motion': 3397, 'brings': 3398, 'principal': 3399, 'threw': 3400, 'heritage': 3401, 'permanent': 3402, 'speaks': 3403, 'fly': 3404, 'deutsche': 3405, 'passing': 3406, 'plastic': 3407, 'idea': 3408, 'euros': 3409, 'creative': 3410, 'blow': 3411, 'parks': 3412, 'roberts': 3413, 'petroleum': 3414, 'premiere': 3415, 'legislature': 3416, 'sacramento': 3417, 'sunderland': 3418, 'mandela': 3419, 'sides': 3420, 'rolling': 3421, 'hampshire': 3422, 'duke': 3423, 'fitch': 3424, 'trillion': 3425, 'shoots': 3426, 'gujarat': 3427, 'guns': 3428, 'written': 3429, 'nominee': 3430, 'lineup': 3431, 'recalling': 3432, 'icon': 3433, 'bars': 3434, 'coordinator': 3435, 'drunken': 3436, 'dow': 3437, 'lebanese': 3438, '59': 3439, 'upon': 3440, 'exploration': 3441, 'collapse': 3442, '77': 3443, 'kidnapping': 3444, 'promised': 3445, 'indianapolis': 3446, 'automotive': 3447, 'temple': 3448, 'collaboration': 3449, 'twin': 3450, 'dick': 3451, '07': 3452, 'prosecutor': 3453, 'murdering': 3454, 'agreements': 3455, 'reliance': 3456, 'mar': 3457, 'kapoor': 3458, 'code': 3459, 'benedict': 3460, 'restrictions': 3461, 'danny': 3462, 'presents': 3463, 'older': 3464, 'reid': 3465, 'jazz': 3466, 'islamabad': 3467, 'casey': 3468, 'highs': 3469, '63': 3470, 'hilton': 3471, 'stability': 3472, 'operators': 3473, 'enhance': 3474, 'inquiry': 3475, 'attacking': 3476, 'directed': 3477, 'dublin': 3478, 'grade': 3479, 'pushed': 3480, 'diabetes': 3481, 'powers': 3482, 'attention': 3483, 'downgraded': 3484, 'violating': 3485, 'accidentally': 3486, 'diesel': 3487, '69': 3488, 'restaurants': 3489, 'beauty': 3490, 'tower': 3491, 'probably': 3492, 'revenues': 3493, 'liam': 3494, 'images': 3495, 'dodgers': 3496, 'toddler': 3497, 'customs': 3498, 'chennai': 3499, 'regulators': 3500, 'bound': 3501, 'till': 3502, 'whole': 3503, 'establish': 3504, 'maine': 3505, 'takeover': 3506, 'berlin': 3507, 'netherlands': 3508, 'wing': 3509, 'lord': 3510, 'larry': 3511, 'commodity': 3512, 'honoured': 3513, 'score': 3514, 'arson': 3515, 'trees': 3516, 'lok': 3517, 'armstrong': 3518, 'read': 3519, 'wear': 3520, 'malik': 3521, 'globe': 3522, 'firefighter': 3523, 'roy': 3524, 'politicians': 3525, 'grew': 3526, 'condemned': 3527, 'withdraw': 3528, 'parade': 3529, 'celebration': 3530, 'hughes': 3531, 'quits': 3532, 'tools': 3533, 'worries': 3534, 'comprehensive': 3535, 'emerged': 3536, 'playoff': 3537, 'bird': 3538, 'colombian': 3539, 'athletes': 3540, 'write': 3541, 'alone': 3542, 'asif': 3543, 'backs': 3544, 'saved': 3545, 'hiv': 3546, 'ross': 3547, 'thai': 3548, 'rains': 3549, 'medvedev': 3550, 'baghdad': 3551, 'drilling': 3552, 'cook': 3553, 'goalkeeper': 3554, 'bigger': 3555, 'described': 3556, 'leak': 3557, 'salary': 3558, 'restored': 3559, 'tribal': 3560, 'rome': 3561, '83': 3562, 'reopened': 3563, 'checks': 3564, 'zoo': 3565, 'putin': 3566, 'cat': 3567, 'tank': 3568, 'citizen': 3569, 'fed': 3570, 'individual': 3571, 'formed': 3572, 'municipal': 3573, 'adult': 3574, 'fla': 3575, 'size': 3576, 'dates': 3577, 'montana': 3578, 'witnesses': 3579, 'patriots': 3580, 'unchanged': 3581, 'humanitarian': 3582, 'label': 3583, 'freed': 3584, 'guide': 3585, 'regions': 3586, 'undergoing': 3587, 'milestone': 3588, 'hp': 3589, 'softball': 3590, 'someone': 3591, 'moment': 3592, 'responsibility': 3593, 'pc': 3594, 'aaron': 3595, 'sparked': 3596, 'kosovo': 3597, 'count': 3598, 'dramatic': 3599, 'stands': 3600, 'conviction': 3601, 'quite': 3602, 'risks': 3603, 'rogers': 3604, 'nadal': 3605, 'dave': 3606, 'publicly': 3607, 'hear': 3608, 'depression': 3609, 'illegally': 3610, 'afp': 3611, '74': 3612, 'served': 3613, 'mtv': 3614, 'nebraska': 3615, 'struggle': 3616, 'warriors': 3617, 'lands': 3618, 'upset': 3619, 'kerala': 3620, 'roof': 3621, 'walking': 3622, 'affect': 3623, 'lightning': 3624, 'sterling': 3625, 'legislative': 3626, 'sue': 3627, 'fbi': 3628, 'encounter': 3629, 'fiji': 3630, 'intends': 3631, 'outfielder': 3632, 'raping': 3633, 'resignation': 3634, 'marshall': 3635, 'blues': 3636, 'fleet': 3637, 'organisation': 3638, 'pharmaceutical': 3639, 'storms': 3640, 'profile': 3641, 'reason': 3642, 'tablet': 3643, 'carl': 3644, 'executives': 3645, 'original': 3646, 'undergoes': 3647, '2015': 3648, 'puts': 3649, 'trailer': 3650, 'pub': 3651, 'unexpectedly': 3652, 'motorcyclist': 3653, 'reveal': 3654, 'trucks': 3655, 'drone': 3656, 'shipping': 3657, 'christina': 3658, 'publisher': 3659, 'heavyweight': 3660, 'accepted': 3661, 'brandon': 3662, 'recording': 3663, 'lama': 3664, 'tool': 3665, 'minority': 3666, 'minimum': 3667, 'shane': 3668, 'plead': 3669, 'blog': 3670, 'increasingly': 3671, 'auckland': 3672, 'ottawa': 3673, 'edged': 3674, 'mps': 3675, 'commonwealth': 3676, 'memphis': 3677, 'workforce': 3678, 'aids': 3679, 'thinks': 3680, 'pet': 3681, 'kris': 3682, 'wright': 3683, 'guidance': 3684, 'sarkozy': 3685, 'memory': 3686, 'changing': 3687, 'unlikely': 3688, 'task': 3689, 'unveil': 3690, 'tensions': 3691, 'anyone': 3692, 'resolve': 3693, 'virtual': 3694, 'entering': 3695, 'motorola': 3696, 'practices': 3697, 'drought': 3698, 'infection': 3699, 'sharing': 3700, 'dry': 3701, 'buyers': 3702, 'dalai': 3703, '61': 3704, 'respect': 3705, 'extending': 3706, 'linebacker': 3707, 'marking': 3708, 'lenders': 3709, 'fewer': 3710, 'withdrawn': 3711, 'assad': 3712, 'path': 3713, 'animals': 3714, 'hunger': 3715, '73': 3716, 'laden': 3717, 'seize': 3718, 'lakh': 3719, 'demanded': 3720, 'editor': 3721, 'citigroup': 3722, 'burned': 3723, 'gaddafi': 3724, 'holmes': 3725, 'winger': 3726, 'limits': 3727, 'defending': 3728, 'matthew': 3729, 'stress': 3730, 'interested': 3731, 'effects': 3732, 'analysis': 3733, 'communication': 3734, 'theater': 3735, 'misdemeanor': 3736, 'captured': 3737, 'praised': 3738, 'sustained': 3739, 'athletic': 3740, 'streaming': 3741, 'prior': 3742, 'raw': 3743, 'surge': 3744, 'governments': 3745, 'fails': 3746, 'ore': 3747, 'hunting': 3748, 'mile': 3749, 'conspiracy': 3750, 'gift': 3751, 'islam': 3752, 'forthcoming': 3753, 'imposed': 3754, 'routes': 3755, 'courts': 3756, 'momentum': 3757, 'adams': 3758, 'ian': 3759, 'marked': 3760, 'driven': 3761, 'reopen': 3762, 'abdullah': 3763, 'insisted': 3764, 'hunt': 3765, 'perth': 3766, 'cyprus': 3767, 'crackdown': 3768, 'knocked': 3769, 'wrote': 3770, 'sustainable': 3771, 'amanda': 3772, 'loves': 3773, 'starring': 3774, 'maoists': 3775, 'tyler': 3776, 'spokeswoman': 3777, 'reduction': 3778, '04': 3779, 'coaching': 3780, 'kuwait': 3781, 'controlled': 3782, 'writes': 3783, 'abroad': 3784, 'rachel': 3785, 'kent': 3786, 'required': 3787, 'pushing': 3788, 'guards': 3789, 'familiar': 3790, 'keith': 3791, 'terminal': 3792, 'retires': 3793, 'limit': 3794, 'jonathan': 3795, 'pledged': 3796, 'included': 3797, 'greg': 3798, '86': 3799, 'advice': 3800, 'liberty': 3801, 'billionaire': 3802, 'saving': 3803, 'lender': 3804, 'crack': 3805, 'wealth': 3806, 'welfare': 3807, 'injuring': 3808, 'strongly': 3809, 'rebound': 3810, 'releasing': 3811, 'cairo': 3812, 'mccartney': 3813, 'selection': 3814, 'tries': 3815, 'accuses': 3816, 'asylum': 3817, 'promises': 3818, 'ranks': 3819, 'jeremy': 3820, 'resumed': 3821, 'established': 3822, 'graham': 3823, 'skin': 3824, 'hub': 3825, 'angry': 3826, 'cubs': 3827, 'mind': 3828, 'opera': 3829, 'tsunami': 3830, 'wine': 3831, 'stepping': 3832, 'teens': 3833, 'determined': 3834, 'ashley': 3835, 'revolution': 3836, 'salman': 3837, '11th': 3838, 'endorses': 3839, 'dolphins': 3840, 'thompson': 3841, 'managers': 3842, 'brett': 3843, 'wholesale': 3844, 'firing': 3845, 'bike': 3846, 'mets': 3847, 'dealing': 3848, 'tracks': 3849, 'lakers': 3850, 'tanker': 3851, 'envoy': 3852, 'gap': 3853, 'article': 3854, 'hunter': 3855, 'rolls': 3856, 'y': 3857, 'user': 3858, 'springfield': 3859, 'measure': 3860, 'fisher': 3861, 'hole': 3862, 'songs': 3863, 'computers': 3864, 'pti': 3865, 'hugo': 3866, 'idaho': 3867, 'eighth': 3868, 'metals': 3869, 'kerry': 3870, 'standoff': 3871, 'critically': 3872, 'slip': 3873, 'rochester': 3874, 'favourite': 3875, 'harper': 3876, 'forecasts': 3877, 'qantas': 3878, 'georgian': 3879, 'adviser': 3880, 'acres': 3881, 'demanding': 3882, 'pete': 3883, 'milk': 3884, 'discrimination': 3885, 'throwing': 3886, 'unique': 3887, 'innovative': 3888, 'rallied': 3889, 'worse': 3890, 'militant': 3891, 'integration': 3892, 'interactive': 3893, 'wheat': 3894, 'involvement': 3895, 'flash': 3896, 'foster': 3897, 'closure': 3898, 'wreck': 3899, 'fun': 3900, 'proposes': 3901, '3d': 3902, 'chip': 3903, 'gm': 3904, 'keen': 3905, 'witness': 3906, 'resource': 3907, 'pleased': 3908, 'dropping': 3909, 'mahmoud': 3910, 'mukherjee': 3911, 'raza': 3912, 'gilani': 3913, 'grammy': 3914, '99': 3915, 'possibility': 3916, 'studies': 3917, 'interests': 3918, 'bottom': 3919, 'mill': 3920, 'bone': 3921, 'pulls': 3922, 'resumes': 3923, 'brief': 3924, 'hander': 3925, 'chile': 3926, 'underwent': 3927, 'ted': 3928, 'ahmadinejad': 3929, 'lying': 3930, 'endorsed': 3931, 'capitol': 3932, 'communist': 3933, 'musician': 3934, 'immigrants': 3935, 'crucial': 3936, 'unknown': 3937, 'jean': 3938, 'ski': 3939, 'jobless': 3940, 'answer': 3941, 'trouble': 3942, 'vatican': 3943, 'cyclist': 3944, 'prepared': 3945, 'remarks': 3946, 'sues': 3947, 'kyle': 3948, 'promoted': 3949, 'adelaide': 3950, 'grove': 3951, 'membership': 3952, 'slammed': 3953, 'forcing': 3954, 'indies': 3955, 'sciences': 3956, 'awaited': 3957, 'bachchan': 3958, 'foreclosure': 3959, 'refinance': 3960, 'kidney': 3961, 'lung': 3962, 'bihar': 3963, 'refugees': 3964, 'transaction': 3965, 'boosted': 3966, 'potentially': 3967, '84': 3968, 'fields': 3969, 'studios': 3970, 'raiders': 3971, 'category': 3972, 'abortion': 3973, 'equities': 3974, 'faster': 3975, 'structure': 3976, 'allows': 3977, 'consulting': 3978, 'controversy': 3979, 'monitoring': 3980, 'doping': 3981, 'sharks': 3982, 'walked': 3983, 'outbreak': 3984, 'munich': 3985, 'anticipated': 3986, 'solo': 3987, 'parish': 3988, '120': 3989, 'sleep': 3990, 'stepped': 3991, 'trials': 3992, 'pending': 3993, 'bans': 3994, 'visitors': 3995, 'aston': 3996, 'alongside': 3997, 'hair': 3998, 'significantly': 3999, 'affair': 4000, 'berlusconi': 4001, 'wimbledon': 4002, 'aim': 4003, 'buried': 4004, 'innovation': 4005, 'rollover': 4006, '350': 4007, 'efficiency': 4008, 'rolled': 4009, 'chosen': 4010, 'currencies': 4011, 'chancellor': 4012, 'prostate': 4013, 'rejects': 4014, 'somalia': 4015, 'words': 4016, 'privacy': 4017, 'variety': 4018, 'royals': 4019, 'neck': 4020, 'coaches': 4021, 'sectors': 4022, 'eagle': 4023, 'stranded': 4024, 'waivers': 4025, 'modi': 4026, 'agricultural': 4027, 'cameras': 4028, 'poised': 4029, 'kanye': 4030, 'kenny': 4031, 'external': 4032, 'qualifying': 4033, 'bomber': 4034, 'bat': 4035, 'brussels': 4036, 'roman': 4037, 'zuma': 4038, 'volleyball': 4039, 'julia': 4040, 'attempting': 4041, 'blasts': 4042, 'settled': 4043, 'vikings': 4044, 'replaced': 4045, 'twenty20': 4046, 'knight': 4047, 'torn': 4048, 'leeds': 4049, 'jacksonville': 4050, 'universal': 4051, 'bag': 4052, 'prospect': 4053, 'rockets': 4054, 'select': 4055, 'appointment': 4056, 'exposure': 4057, 'mini': 4058, 'prospects': 4059, 'proposals': 4060, 'northwestern': 4061, 'counter': 4062, 'latin': 4063, 'neutral': 4064, 'porn': 4065, '79': 4066, 'links': 4067, 'producing': 4068, 'julian': 4069, 'lance': 4070, 'attempts': 4071, 'prove': 4072, 'seats': 4073, 'karnataka': 4074, 'tracking': 4075, 'aa': 4076, 'quick': 4077, 'phillies': 4078, 'character': 4079, 'accepting': 4080, 'shareholder': 4081, 'affordable': 4082, 'complaints': 4083, 'mom': 4084, 'wage': 4085, 'recycling': 4086, 'murphy': 4087, 'nhs': 4088, 'cyber': 4089, 'developers': 4090, 'spirit': 4091, 'dui': 4092, 'refuses': 4093, 'maharashtra': 4094, 'brisbane': 4095, 'h1n1': 4096, 'sep': 4097, 'quoted': 4098, 'beef': 4099, 'prescription': 4100, 'honorary': 4101, 'fares': 4102, 'magnitude': 4103, 'cruelty': 4104, 'donated': 4105, 'emma': 4106, 'rodriguez': 4107, 'providers': 4108, 'keeps': 4109, 'wish': 4110, 'vladimir': 4111, 'salt': 4112, 'urging': 4113, 'writing': 4114, '88': 4115, 'stops': 4116, 'mills': 4117, 'juan': 4118, 'lucky': 4119, 'sovereign': 4120, '81': 4121, 'redskins': 4122, 'montgomery': 4123, 'baseman': 4124, 'thrown': 4125, 'mean': 4126, 'faith': 4127, 'shelter': 4128, 'danger': 4129, 'assignment': 4130, 'guest': 4131, 'crystal': 4132, 'mario': 4133, 'addition': 4134, 'motorists': 4135, 'reducing': 4136, 'arnold': 4137, 'weapon': 4138, 'promoting': 4139, 'photos': 4140, 'romania': 4141, 'stakes': 4142, 'anne': 4143, 'imf': 4144, 'photographer': 4145, 'models': 4146, 'h': 4147, 'skills': 4148, '87': 4149, 'evans': 4150, 'nc': 4151, 'priority': 4152, 'zero': 4153, 'holidays': 4154, 'revised': 4155, 'floods': 4156, 'dell': 4157, 'gunmen': 4158, 'burns': 4159, 'slipped': 4160, 'declines': 4161, 'telecommunications': 4162, 'crashing': 4163, 'dean': 4164, 'vodafone': 4165, 'defenseman': 4166, 'liquor': 4167, 'trapped': 4168, 'douglas': 4169, 'yemeni': 4170, 'filmmaker': 4171, 'nightclub': 4172, 'vision': 4173, 'hate': 4174, 'vaccine': 4175, 'ace': 4176, 'uses': 4177, 'reserves': 4178, 'bed': 4179, 'dad': 4180, 'lily': 4181, '91': 4182, 'pastor': 4183, 'wellington': 4184, 'cambridge': 4185, 'audience': 4186, 'adopt': 4187, 'commits': 4188, 'broncos': 4189, 'skipper': 4190, 'monitor': 4191, 'norway': 4192, 'broad': 4193, 'discussed': 4194, 'spokesperson': 4195, 'rooney': 4196, 'ability': 4197, 'tributes': 4198, 'abdul': 4199, 'ownership': 4200, 'mason': 4201, 'hanging': 4202, 'string': 4203, 'actions': 4204, 'either': 4205, 'prostitution': 4206, 'approve': 4207, 'oldest': 4208, 'rebel': 4209, 'voluntary': 4210, 'heights': 4211, 'remote': 4212, 'inning': 4213, 'commissioners': 4214, 'fighters': 4215, 'delaware': 4216, 'auburn': 4217, 'sponsor': 4218, 'gomez': 4219, 'dennis': 4220, 'newest': 4221, 'superior': 4222, 'fa': 4223, 'heidi': 4224, 'upgrade': 4225, 'assist': 4226, 'pharmaceuticals': 4227, 'throws': 4228, 'farmer': 4229, 'computing': 4230, 'temperatures': 4231, 'supported': 4232, 'shed': 4233, 'sessions': 4234, 'greatest': 4235, 'marc': 4236, 'dozen': 4237, 'economies': 4238, 'artists': 4239, 'text': 4240, 'eddie': 4241, 'jacob': 4242, 'disappointing': 4243, 'solid': 4244, 'uranium': 4245, 'lion': 4246, 'weakened': 4247, 'jerusalem': 4248, 'wire': 4249, 'trades': 4250, 'featured': 4251, 'brooklyn': 4252, 'inducted': 4253, 'blame': 4254, 'investigated': 4255, 'eating': 4256, 'trains': 4257, 'type': 4258, 'licence': 4259, 'plunged': 4260, 'ronaldo': 4261, 'papers': 4262, 'finding': 4263, 'chart': 4264, 'phillips': 4265, 'locations': 4266, 'ken': 4267, 'renewable': 4268, 'treat': 4269, '03': 4270, 'babies': 4271, 'privately': 4272, 'messages': 4273, 'susan': 4274, 'stream': 4275, 'refinery': 4276, 'feared': 4277, 'mitchell': 4278, 'jefferson': 4279, 'apologized': 4280, 'nj': 4281, 'bryant': 4282, 'petition': 4283, 'middleton': 4284, 'serial': 4285, 'haryana': 4286, 'picks': 4287, 'peaceful': 4288, 'swept': 4289, 'transplant': 4290, 'priest': 4291, 'manage': 4292, 'clinical': 4293, 'corner': 4294, 'convenience': 4295, 'karachi': 4296, 'predicted': 4297, 'beer': 4298, 'favorite': 4299, 'followed': 4300, 'pit': 4301, 'forms': 4302, 'burn': 4303, 'muhammad': 4304, 'prepares': 4305, 'concerned': 4306, 'maritime': 4307, 'websites': 4308, 'chamber': 4309, 'expenses': 4310, 'gene': 4311, 'easter': 4312, 'obesity': 4313, '92': 4314, 'assange': 4315, 'z': 4316, 'riding': 4317, 'vessel': 4318, 'afl': 4319, 'sub': 4320, 'celtic': 4321, '06': 4322, 'chidambaram': 4323, '78': 4324, 'enterprises': 4325, 'gross': 4326, 'carey': 4327, 'shock': 4328, 'discharged': 4329, 'smartphones': 4330, 'austerity': 4331, 'cotton': 4332, 'tops': 4333, 'catches': 4334, 'pentagon': 4335, 'jays': 4336, 'judiciary': 4337, 'cinema': 4338, 'donald': 4339, 'outdoor': 4340, 'athens': 4341, 'midnight': 4342, 'surrounding': 4343, 'songwriter': 4344, 'yes': 4345, 'clothing': 4346, 'gibson': 4347, 'secondary': 4348, 'suzuki': 4349, 'innings': 4350, 'senators': 4351, 'bloomberg': 4352, 'suspend': 4353, 'presidency': 4354, 'volume': 4355, 'misses': 4356, 'moss': 4357, 'pregnancy': 4358, 'hopeful': 4359, 'polish': 4360, 'bernanke': 4361, 'nursing': 4362, 'shift': 4363, 'drove': 4364, 'garage': 4365, 'nature': 4366, 'peak': 4367, 'thanksgiving': 4368, 'operate': 4369, 'aggravated': 4370, 'mubarak': 4371, 'diplomat': 4372, 'baldwin': 4373, 'apa': 4374, 'rapid': 4375, 'louisville': 4376, 'concussion': 4377, 'bmw': 4378, 'opec': 4379, 'affiliate': 4380, 'airbus': 4381, 'edmonton': 4382, 'steelers': 4383, 'bernard': 4384, 'counterpart': 4385, 'implement': 4386, 'bangalore': 4387, 'novel': 4388, 'rider': 4389, 'slash': 4390, 'sporting': 4391, 'spencer': 4392, 'richmond': 4393, 'workshop': 4394, 'prevention': 4395, 'tribune': 4396, 'chef': 4397, 'guitarist': 4398, 'coroner': 4399, 'catch': 4400, 'sandy': 4401, 'salem': 4402, 'switch': 4403, 'tommy': 4404, 'oracle': 4405, 'emissions': 4406, 'cliff': 4407, 'anc': 4408, 'opinion': 4409, 'refusing': 4410, 'abandoned': 4411, 'recognition': 4412, 'regulations': 4413, 'telling': 4414, 'karzai': 4415, 'viewers': 4416, 'celtics': 4417, 'ann': 4418, 'beverly': 4419, 'widespread': 4420, 'heroin': 4421, 'quinn': 4422, 'watching': 4423, 'abbas': 4424, 'concluded': 4425, 'values': 4426, 'monroe': 4427, 'politician': 4428, 'chest': 4429, 'ravens': 4430, 'premium': 4431, 'schwarzenegger': 4432, 'mega': 4433, 'seeing': 4434, 'absence': 4435, 'occupy': 4436, 'dj': 4437, 'eva': 4438, 'billions': 4439, 'childhood': 4440, 'dairy': 4441, 'rahul': 4442, 'venezuelan': 4443, 'stem': 4444, 'eat': 4445, 'species': 4446, 'accusing': 4447, 'holy': 4448, 'combined': 4449, 'seed': 4450, 'mart': 4451, 'landmark': 4452, 'mugabe': 4453, 'contractor': 4454, 'poverty': 4455, 'apply': 4456, 'sisters': 4457, 'ward': 4458, 'everton': 4459, 'sheikh': 4460, 'evasion': 4461, 'pink': 4462, 'clothes': 4463, 'htc': 4464, 'naked': 4465, 'sacked': 4466, '20th': 4467, 'apologizes': 4468, 'comic': 4469, 'conservation': 4470, 'fernando': 4471, 'advised': 4472, 'subject': 4473, 'eur': 4474, 'prisoner': 4475, 'athletics': 4476, 'inspired': 4477, 'ninth': 4478, 'centres': 4479, 'dame': 4480, 'federer': 4481, 'piece': 4482, 'portsmouth': 4483, 'glass': 4484, 'drowns': 4485, 'ham': 4486, 'automaker': 4487, 'overhaul': 4488, 'attract': 4489, 'titans': 4490, 'engineers': 4491, 'corps': 4492, 'critics': 4493, 'audio': 4494, 'randy': 4495, 'merkel': 4496, 'grocery': 4497, 'roberto': 4498, 'ericsson': 4499, 'supermarket': 4500, 'warn': 4501, 'publishing': 4502, 'lawmaker': 4503, 'browns': 4504, 'shops': 4505, 'broadcasting': 4506, 'pioneer': 4507, 'recognized': 4508, 'pizza': 4509, 'possibly': 4510, 'lil': 4511, 'rapids': 4512, 'shell': 4513, 'slams': 4514, 'commit': 4515, 'earn': 4516, 'winners': 4517, 'telephone': 4518, 'unity': 4519, 'improves': 4520, 'capture': 4521, 'marcus': 4522, 'titled': 4523, 'bombing': 4524, 'channels': 4525, 'thieves': 4526, 'throw': 4527, 'syed': 4528, 'requirements': 4529, 'owen': 4530, 'lifetime': 4531, 'command': 4532, 'branded': 4533, 'actors': 4534, 'slide': 4535, 'martinez': 4536, 'offences': 4537, 'confirm': 4538, 'dmitry': 4539, 'nadu': 4540, 'potter': 4541, 'praises': 4542, 'bishop': 4543, 'finland': 4544, 'outfit': 4545, 'deposit': 4546, 'sharif': 4547, 'titles': 4548, 'evacuation': 4549, 'cycling': 4550, 'broadcaster': 4551, 'lovato': 4552, 'hostage': 4553, 'angel': 4554, 'hasn': 4555, 'odds': 4556, 'castro': 4557, 'sons': 4558, 'freeze': 4559, 'unable': 4560, 'versus': 4561, 'selena': 4562, 'ethnic': 4563, 'rebounds': 4564, 'administrative': 4565, 'print': 4566, 'ubs': 4567, 'respond': 4568, 'constitutional': 4569, 'remember': 4570, 'ships': 4571, 'volunteer': 4572, 'underway': 4573, 'tendulkar': 4574, 'particularly': 4575, 'warm': 4576, 'preseason': 4577, 'condemns': 4578, 'sonia': 4579, 'austria': 4580, 'manufacturers': 4581, 'universities': 4582, 'tobacco': 4583, 'fled': 4584, 'overcome': 4585, 'covering': 4586, 'lows': 4587, 'uncertainty': 4588, 'looked': 4589, 'nancy': 4590, 'feed': 4591, 'suggesting': 4592, 'sick': 4593, 'ceasefire': 4594, 'lottery': 4595, 'gasoline': 4596, 'smuggling': 4597, 'basic': 4598, 'princess': 4599, 'tri': 4600, 'vacant': 4601, 'braves': 4602, 'pleading': 4603, '94': 4604, 'finger': 4605, 'rod': 4606, 'jesus': 4607, 'discussion': 4608, 'acts': 4609, 'crushed': 4610, 'eased': 4611, 'abusing': 4612, 'slump': 4613, 'grain': 4614, 'cool': 4615, 'pervez': 4616, 'suffer': 4617, 'torch': 4618, 'drawing': 4619, 'netanyahu': 4620, 'mines': 4621, 'documentary': 4622, 'determine': 4623, 'postal': 4624, 'completely': 4625, 'johannesburg': 4626, 'suburban': 4627, 'roadside': 4628, 'aide': 4629, 'argument': 4630, 'warming': 4631, 'murdoch': 4632, 'blake': 4633, 'flames': 4634, 'shared': 4635, 'attending': 4636, 'aboard': 4637, 'osbourne': 4638, 'manhattan': 4639, 'watchdog': 4640, 'portugal': 4641, 'clarke': 4642, 'robbie': 4643, 'commodities': 4644, 'advances': 4645, 'argentine': 4646, 'ferrari': 4647, 'celebrations': 4648, 'swim': 4649, 'damages': 4650, 'cbi': 4651, 'tape': 4652, 'spoke': 4653, 'gen': 4654, 'insider': 4655, 'xinhua': 4656, 'gambling': 4657, 'spy': 4658, 'seoul': 4659, 'disputed': 4660, '110': 4661, 'permits': 4662, 'elton': 4663, 'aberdeen': 4664, 'topped': 4665, 'placement': 4666, 'default': 4667, 'deer': 4668, 'playstation': 4669, 'gunman': 4670, 'surplus': 4671, 'directly': 4672, 'branches': 4673, 'makers': 4674, 'graduate': 4675, 'hyderabad': 4676, 'norwegian': 4677, 'elbow': 4678, 'scare': 4679, 'teenagers': 4680, 'investing': 4681, 'ambulance': 4682, 'runner': 4683, 'scoring': 4684, '50th': 4685, 'alberta': 4686, 'costa': 4687, 'wwe': 4688, 'household': 4689, 'pride': 4690, 'mel': 4691, 'tibetan': 4692, 'survived': 4693, '12th': 4694, 'strauss': 4695, 'ballot': 4696, 'identify': 4697, 'hu': 4698, 'nobel': 4699, 'watched': 4700, 'hailed': 4701, 'pharmacy': 4702, 'bayern': 4703, 'escapes': 4704, 'downgrades': 4705, 'robber': 4706, 'iconic': 4707, 'client': 4708, 'seahawks': 4709, 'heath': 4710, 'civilian': 4711, 'gathered': 4712, 'crop': 4713, 'aggressive': 4714, 'initiatives': 4715, 'minneapolis': 4716, 'mentally': 4717, 'professionals': 4718, '89': 4719, '2005': 4720, 'robinson': 4721, 'teaching': 4722, 'applied': 4723, 'coastal': 4724, 'creation': 4725, 'rajasthan': 4726, 'blaze': 4727, 'xbox': 4728, 'nissan': 4729, 'sense': 4730, 'vital': 4731, 'unless': 4732, 'homeowners': 4733, 'dam': 4734, 'upgrades': 4735, 'attended': 4736, 'discount': 4737, 'rivers': 4738, 'destroys': 4739, 'governance': 4740, 'omaha': 4741, 'electrical': 4742, 'unidentified': 4743, 'rumors': 4744, '1st': 4745, 'uttar': 4746, 'posting': 4747, 'agenda': 4748, 'wichita': 4749, 'accidents': 4750, 'strengthened': 4751, 'necessary': 4752, 'unrest': 4753, 'spectrum': 4754, 'boycott': 4755, 'frozen': 4756, 'inquest': 4757, 'marion': 4758, 'installed': 4759, 'wenger': 4760, 'apart': 4761, 'observed': 4762, '750': 4763, '360': 4764, 'pga': 4765, 'soft': 4766, 'compliance': 4767, 'sachin': 4768, 'warehouse': 4769, 'kabul': 4770, '02': 4771, 'hsbc': 4772, 'lakes': 4773, 'enjoy': 4774, 'performs': 4775, 'tag': 4776, 'max': 4777, 'quoting': 4778, 'farms': 4779, 'moderate': 4780, 'steal': 4781, 'easily': 4782, 'luke': 4783, 'uefa': 4784, 'diseases': 4785, 'cancel': 4786, 'mars': 4787, 'donations': 4788, 'robberies': 4789, 'todd': 4790, 'extreme': 4791, 'designated': 4792, 'importance': 4793, 'pilgrims': 4794, 'arbitration': 4795, 'valued': 4796, 'shark': 4797, 'emotional': 4798, 'yard': 4799, 'fireworks': 4800, 'lloyd': 4801, 'continental': 4802, 'hugh': 4803, 'robbing': 4804, 'rocker': 4805, 'consumption': 4806, 'referendum': 4807, 'regulator': 4808, 'myers': 4809, 'audit': 4810, 'raj': 4811, 'offset': 4812, 'furniture': 4813, 'acquitted': 4814, 'pranab': 4815, 'bags': 4816, 'grid': 4817, 'individuals': 4818, 'exploded': 4819, 'pulling': 4820, 'differences': 4821, 'tmz': 4822, 'oak': 4823, 'ahmed': 4824, 'christie': 4825, 'responding': 4826, 'pricing': 4827, 'reviews': 4828, 'pollution': 4829, 'achieved': 4830, 'decisions': 4831, 'southeastern': 4832, '2004': 4833, 'promise': 4834, 'poker': 4835, 'wildfire': 4836, 'belgium': 4837, 'glasgow': 4838, 'rental': 4839, 'eyes': 4840, 'newton': 4841, 'amendment': 4842, '130': 4843, 'staying': 4844, 'peru': 4845, 'slashed': 4846, 'rumours': 4847, 'sitting': 4848, 'cope': 4849, 'honour': 4850, 'joel': 4851, 'estranged': 4852, 'seminar': 4853, '101': 4854, 'lynch': 4855, 'purchases': 4856, 'herald': 4857, 'arctic': 4858, 'blair': 4859, 'cisco': 4860, 'sweep': 4861, 'amnesty': 4862, 'colin': 4863, 'bosses': 4864, 'cheating': 4865, 'behaviour': 4866, 'youths': 4867, 'sing': 4868, 'reds': 4869, 'barnes': 4870, 'serbian': 4871, 'flagship': 4872, 'sc': 4873, 'brewers': 4874, 'definitive': 4875, 'empire': 4876, 'blocked': 4877, 'maximum': 4878, 'specialty': 4879, 'pneumonia': 4880, 'survive': 4881, 'fundraising': 4882, 'pickup': 4883, 'whitney': 4884, 'hybrid': 4885, 'defeats': 4886, 'unanimously': 4887, 'severely': 4888, 'easing': 4889, 'chances': 4890, 'smaller': 4891, 'sponsored': 4892, 'leon': 4893, 'disclosed': 4894, 'locked': 4895, 'guru': 4896, 'enable': 4897, 'swap': 4898, 'slowed': 4899, 'skip': 4900, '93': 4901, 'newspapers': 4902, 'gillard': 4903, 'apology': 4904, 'timberlake': 4905, 'bombs': 4906, 'northeastern': 4907, 'mohammed': 4908, 'operational': 4909, 'ecuador': 4910, 'completion': 4911, 'shoes': 4912, 'fi': 4913, 'younger': 4914, 'nrl': 4915, 'peninsula': 4916, 'oscars': 4917, 'inmates': 4918, 'mayer': 4919, 'bashar': 4920, 'burglaries': 4921, 'scrap': 4922, 'detention': 4923, 'emmy': 4924, 'staged': 4925, 'happen': 4926, 'miners': 4927, 'slam': 4928, 'seniors': 4929, '100th': 4930, 'blind': 4931, 'baku': 4932, 'atomic': 4933, 'semiconductor': 4934, 'capable': 4935, 'bolton': 4936, '01': 4937, 'hometown': 4938, 'abducted': 4939, 'meat': 4940, 'levy': 4941, 'corn': 4942, 'nintendo': 4943, 'participation': 4944, 'implementation': 4945, 'maruti': 4946, 'collapses': 4947, 'donates': 4948, 'replacing': 4949, 'stripped': 4950, 'charging': 4951, 'kitchen': 4952, 'beyonce': 4953, 'gaining': 4954, 'eliminate': 4955, 'playoffs': 4956, 'surged': 4957, 'appoint': 4958, 'th': 4959, 'planes': 4960, 'hamid': 4961, 'siemens': 4962, 'violation': 4963, 'parole': 4964, 'nurse': 4965, 'declining': 4966, 'xvi': 4967, 'manny': 4968, 'pacquiao': 4969, 'citizenship': 4970, 'ebay': 4971, 'juventus': 4972, 'doubled': 4973, 'christopher': 4974, 'lived': 4975, 'brady': 4976, 'destination': 4977, 'shape': 4978, 'reopens': 4979, 'jumps': 4980, 'medium': 4981, 'riot': 4982, 'colleges': 4983, 'academic': 4984, 'briefly': 4985, 'ca': 4986, 'roles': 4987, 'fought': 4988, 'optimism': 4989, 'francis': 4990, 'fundraiser': 4991, 'reverse': 4992, 'albert': 4993, 'elephant': 4994, 'shoppers': 4995, 'yields': 4996, 'contain': 4997, 'lt': 4998, 'executed': 4999, 'plot': 5000, 'verdict': 5001, 'bounce': 5002, 'lifestyle': 5003, 'pretty': 5004, 'responded': 5005, 'fred': 5006, 'appealing': 5007, 'thunder': 5008, 'collided': 5009, 'mariners': 5010, 'angels': 5011, 'wages': 5012, 'micro': 5013, 'harbor': 5014, 'belgian': 5015, 'crunch': 5016, 'cruz': 5017, 'penguins': 5018, 'hop': 5019, 'document': 5020, 'broker': 5021, 'rays': 5022, 'climbed': 5023, 'harassment': 5024, 'gather': 5025, 'fines': 5026, 'santorum': 5027, 'desperate': 5028, 'promising': 5029, 'quiet': 5030, 'datuk': 5031, 'expensive': 5032, 'taipei': 5033, 'volatile': 5034, 'institution': 5035, 'mahindra': 5036, 'wolves': 5037, '25th': 5038, 'le': 5039, 'lights': 5040, 'medals': 5041, 'surveillance': 5042, 'stuck': 5043, 'signal': 5044, 'duties': 5045, 'flow': 5046, 'endorse': 5047, 'controls': 5048, 'employer': 5049, 'silence': 5050, 'execution': 5051, 'drill': 5052, 'quebec': 5053, 'jake': 5054, 'unprecedented': 5055, 'christchurch': 5056, 'unbeaten': 5057, 'unpaid': 5058, 'liver': 5059, 'hungary': 5060, 'transition': 5061, 'freight': 5062, 'updates': 5063, 'cardiff': 5064, 'apr': 5065, 'sandra': 5066, 'backing': 5067, 'machines': 5068, 'intervention': 5069, 'diet': 5070, 'packaging': 5071, 'grown': 5072, 'jonas': 5073, 'damascus': 5074, 'seconds': 5075, 'vacation': 5076, 'comment': 5077, 'ashton': 5078, 'views': 5079, 'challenging': 5080, 'lunch': 5081, 'soul': 5082, 'vince': 5083, 'grave': 5084, 'thousand': 5085, 'suu': 5086, 'kyi': 5087, 'assam': 5088, 'orissa': 5089, 'ferry': 5090, 'anchor': 5091, 'nearby': 5092, 'misconduct': 5093, 'chad': 5094, 'loved': 5095, 'mystery': 5096, 'formal': 5097, 'inaugural': 5098, 'easier': 5099, 'breakfast': 5100, 'selects': 5101, 'rupert': 5102, 'mortgages': 5103, 'tens': 5104, 'bids': 5105, 'ram': 5106, 'amber': 5107, 'spurs': 5108, 'doubles': 5109, 'obtained': 5110, 'cardiac': 5111, 'edinburgh': 5112, 'extremely': 5113, 'guarantee': 5114, 'cox': 5115, 'enhanced': 5116, 'borders': 5117, 'outlets': 5118, 'mo': 5119, 'domain': 5120, 'restraining': 5121, 'ultimate': 5122, 'tablets': 5123, 'statewide': 5124, 'longest': 5125, 'albany': 5126, 'lease': 5127, 'indicated': 5128, 'kicking': 5129, 'butler': 5130, 'engineer': 5131, 'norman': 5132, 'gear': 5133, 'orioles': 5134, 'dawn': 5135, 'narrowly': 5136, 'birds': 5137, 'transferred': 5138, 'shootout': 5139, 'trooper': 5140, 'booked': 5141, 'representing': 5142, 'thomson': 5143, 'worried': 5144, 'tribunal': 5145, 'chicken': 5146, 'wings': 5147, 'download': 5148, 'creator': 5149, 'submitted': 5150, 'widely': 5151, 'et': 5152, 'zambia': 5153, 'canadians': 5154, 'delivers': 5155, 'replacement': 5156, 'wheel': 5157, '125': 5158, 'suv': 5159, 'fat': 5160, 'airports': 5161, 'clerk': 5162, 'bowling': 5163, 'deported': 5164, 'whom': 5165, 'osama': 5166, 'chemicals': 5167, 'itunes': 5168, 'racist': 5169, 'lambert': 5170, 'blackburn': 5171, 'pattern': 5172, 'baker': 5173, 'jane': 5174, 'infant': 5175, 'wrestling': 5176, 'hull': 5177, 'achieve': 5178, 'expo': 5179, 'subscribers': 5180, 'ashes': 5181, 'mercedes': 5182, 'lesbian': 5183, 'winnipeg': 5184, 'larger': 5185, 'newport': 5186, 'andhra': 5187, 'silicon': 5188, 'sit': 5189, 'sensation': 5190, 'berry': 5191, 'denmark': 5192, 'wasn': 5193, 'slowing': 5194, 'romanian': 5195, 'gate': 5196, 'treaty': 5197, 'lifts': 5198, 'lisa': 5199, 'understand': 5200, 'intent': 5201, 'knew': 5202, 'apologised': 5203, 'drinks': 5204, 'mad': 5205, 'ancient': 5206, 'framework': 5207, 'electoral': 5208, 'weakness': 5209, 'angela': 5210, 'delivering': 5211, 'pump': 5212, 'glee': 5213, 'sheffield': 5214, 'wal': 5215, 'packers': 5216, 'aiming': 5217, 'races': 5218, 'borrowing': 5219, 'abbott': 5220, 'letters': 5221, 'organized': 5222, 'originally': 5223, 'closely': 5224, 'licenses': 5225, 'moody': 5226, 'therapy': 5227, 'sap': 5228, 'runway': 5229, 'readers': 5230, 'routine': 5231, 'tips': 5232, 'oath': 5233, 'calgary': 5234, 'declare': 5235, 'jewelry': 5236, 'chair': 5237, 'preferred': 5238, 'scenes': 5239, 'floyd': 5240, 'economist': 5241, 'missiles': 5242, 'gallery': 5243, 'longoria': 5244, 'layoffs': 5245, 'ranking': 5246, 'theme': 5247, 'foreigners': 5248, 'crowned': 5249, 'adrian': 5250, 'demonstration': 5251, 'sindh': 5252, 'composer': 5253, 'mainly': 5254, 'stones': 5255, 'midwest': 5256, 'genetic': 5257, 'wars': 5258, 'cautious': 5259, 'numerous': 5260, 'simple': 5261, 'philip': 5262, 'developments': 5263, 'occupied': 5264, 'singing': 5265, 'mate': 5266, 'swing': 5267, 'retain': 5268, 'remembered': 5269, 'definitely': 5270, 'taxpayers': 5271, 'insurer': 5272, 'trump': 5273, 'rallies': 5274, 'advisor': 5275, 'harrison': 5276, 'correspondent': 5277, 'emerge': 5278, 'morris': 5279, 'bang': 5280, 'exposed': 5281, 'naomi': 5282, 'silvio': 5283, 'mclaren': 5284, 'racial': 5285, 'sebastian': 5286, 'fix': 5287, 'fill': 5288, 'sanchez': 5289, 'turmoil': 5290, 'icc': 5291, 'withdrew': 5292, 'luis': 5293, 'colombo': 5294, 'strain': 5295, 'omar': 5296, 'disciplinary': 5297, 'yellow': 5298, 'swat': 5299, 'suite': 5300, 'inaugurated': 5301, 'blocks': 5302, 'prestigious': 5303, 'leaked': 5304, 'nominations': 5305, 'sioux': 5306, 'census': 5307, 'rudd': 5308, 'prompting': 5309, 'amitabh': 5310, 'acquiring': 5311, 'clooney': 5312, 'bradford': 5313, 'pensions': 5314, 'bath': 5315, 'concept': 5316, 'inspection': 5317, 'regrets': 5318, 'canal': 5319, 'stages': 5320, 'permission': 5321, 'scientist': 5322, 'dental': 5323, 'voter': 5324, 'explosive': 5325, 'regulation': 5326, 'educational': 5327, 'hang': 5328, 'charleston': 5329, 'pact': 5330, 'ally': 5331, 'turkmenistan': 5332, 'batsman': 5333, 'thinking': 5334, 'wigan': 5335, 'triggered': 5336, 'pa': 5337, 'beautiful': 5338, 'insurgents': 5339, 'dumped': 5340, 'newman': 5341, 'horror': 5342, 'bust': 5343, 'pledges': 5344, 'trainer': 5345, 'serena': 5346, 'grace': 5347, 'questioned': 5348, 'screening': 5349, 'roma': 5350, 'breach': 5351, 'underground': 5352, 'tibet': 5353, 'diplomats': 5354, 'pack': 5355, 'spreading': 5356, 'cemetery': 5357, 'dress': 5358, 'ones': 5359, 'recruiting': 5360, 'nile': 5361, 'molestation': 5362, 'pupils': 5363, 'tension': 5364, 'mild': 5365, 'paso': 5366, 'statements': 5367, 'affecting': 5368, 'suggest': 5369, 'refugee': 5370, 'pledge': 5371, 'couldn': 5372, 'norwich': 5373, 'recommended': 5374, 'conrad': 5375, 'survival': 5376, 'newark': 5377, 'speedway': 5378, 'departments': 5379, 'bolster': 5380, 'ads': 5381, 'oman': 5382, 'hazare': 5383, 'excessive': 5384, 'welsh': 5385, 'migrants': 5386, 'reward': 5387, 'prosecution': 5388, 'lab': 5389, 'oprah': 5390, 'mohamed': 5391, 'badly': 5392, 'curb': 5393, 'bhp': 5394, 'origin': 5395, 'rehabilitation': 5396, 'bullock': 5397, 'preparation': 5398, 'dirty': 5399, 'equal': 5400, 'mt': 5401, 'deposits': 5402, 'lp': 5403, 'retained': 5404, 'austrian': 5405, 'giffords': 5406, 'decrease': 5407, 'defeating': 5408, 'hd': 5409, 'freddie': 5410, 'modest': 5411, 'tours': 5412, 'trends': 5413, 'climb': 5414, 'kingston': 5415, 'ms': 5416, 'intersection': 5417, 'renowned': 5418, 'meters': 5419, 'essential': 5420, 'crossed': 5421, 'ipl': 5422, 'gallagher': 5423, 'invitation': 5424, 'bullet': 5425, 'athlete': 5426, 'experienced': 5427, 'tragedy': 5428, 'autism': 5429, 'vermont': 5430, 'accepts': 5431, 'substance': 5432, 'darren': 5433, 'hartford': 5434, 'understanding': 5435, 'brush': 5436, 'entitled': 5437, 'disorder': 5438, 'billboard': 5439, 'canyon': 5440, 'os': 5441, '15th': 5442, 'nurses': 5443, 'na': 5444, 'distributor': 5445, 'challenged': 5446, 'navigation': 5447, 'frontier': 5448, 'organised': 5449, 'explore': 5450, 'creates': 5451, 'substantial': 5452, 'cedar': 5453, 'yorkshire': 5454, 'certification': 5455, 'finnish': 5456, 'eliminated': 5457, 'thin': 5458, 'boyle': 5459, 'reconciliation': 5460, 'admitting': 5461, 'answers': 5462, 'buses': 5463, 'disappointed': 5464, 'reiterated': 5465, 'spin': 5466, 'manning': 5467, 'merge': 5468, 'il': 5469, 'buffett': 5470, 'cricketer': 5471, 'catcher': 5472, 'splits': 5473, 'frontman': 5474, 'housewives': 5475, 'ivory': 5476, 'filled': 5477, 'bankers': 5478, 'benjamin': 5479, 'nawaz': 5480, 'muammar': 5481, 'overturned': 5482, 'twilight': 5483, 'appearing': 5484, 'behalf': 5485, 'syracuse': 5486, 'ethics': 5487, 'cycle': 5488, 'hearts': 5489, 'mohammad': 5490, 'appointments': 5491, 'honors': 5492, 'jamaica': 5493, 'tentative': 5494, 'michele': 5495, 'subway': 5496, 'button': 5497, 'focusing': 5498, 'sentencing': 5499, 'belt': 5500, 'depp': 5501, 'heavily': 5502, 'declaration': 5503, 'glenn': 5504, 'jpmorgan': 5505, 'archbishop': 5506, 'horses': 5507, '2nd': 5508, 'tesco': 5509, 'walsh': 5510, 'fugitive': 5511, 'recovers': 5512, 'endorsement': 5513, 'sharma': 5514, 'neal': 5515, 'catherine': 5516, 'pp': 5517, 'christians': 5518, 'secures': 5519, 'relay': 5520, 'magistrate': 5521, 'weighed': 5522, 'aside': 5523, 'thriller': 5524, 'kg': 5525, 'discussions': 5526, 'confessed': 5527, 'wi': 5528, 'stevens': 5529, 'starbucks': 5530, 'ryanair': 5531, 'duo': 5532, 'bronze': 5533, 'carpet': 5534, 'assured': 5535, 'opponents': 5536, 'punishment': 5537, 'favor': 5538, 'miner': 5539, 'tinto': 5540, 'rockies': 5541, 'bros': 5542, 'backup': 5543, 'rapidly': 5544, 'tripoli': 5545, 'boxer': 5546, 'couples': 5547, 'accounting': 5548, 'calm': 5549, 'renew': 5550, 'nathan': 5551, 'swansea': 5552, 'ist': 5553, 'sorry': 5554, 'southwestern': 5555, 'dna': 5556, 'indecent': 5557, 'wyoming': 5558, 'wii': 5559, 'lg': 5560, 'offenders': 5561, 'waived': 5562, 'knows': 5563, 'difference': 5564, 'capabilities': 5565, 'platinum': 5566, 'renews': 5567, 'lineman': 5568, 'doubt': 5569, 'uganda': 5570, 'allies': 5571, 'touched': 5572, 'promotions': 5573, 'reduces': 5574, '3g': 5575, 'conn': 5576, 'richards': 5577, '96': 5578, 'ethiopia': 5579, 'da': 5580, 'lsu': 5581, 'desert': 5582, 'patil': 5583, 'arraigned': 5584, 'wickets': 5585, 'aguilera': 5586, 'bryan': 5587, 'priced': 5588, 'exactly': 5589, 'install': 5590, 'bench': 5591, '140': 5592, 'piracy': 5593, 'circle': 5594, 'rubber': 5595, 'clearing': 5596, 'ventures': 5597, 'gray': 5598, 'efficient': 5599, 'nice': 5600, 'rovers': 5601, 'q': 5602, 'vulnerable': 5603, 'bonuses': 5604, 'sierra': 5605, 'exporters': 5606, 'jewellery': 5607, 'infringement': 5608, 'xi': 5609, 'mercury': 5610, 'striking': 5611, 'apologises': 5612, 'elite': 5613, 'activated': 5614, 'tractor': 5615, 'collective': 5616, 'goa': 5617, 'contractors': 5618, 'harvard': 5619, 'provinces': 5620, 'warnings': 5621, '7th': 5622, 'map': 5623, 'nz': 5624, 'unconscious': 5625, 'pune': 5626, 'boosting': 5627, 'yuan': 5628, 'connect': 5629, 'bruins': 5630, 'keys': 5631, 'risen': 5632, 'economists': 5633, 'supermodel': 5634, 'ranch': 5635, 'tire': 5636, 'sustainability': 5637, 'fights': 5638, 'medicare': 5639, 'advisers': 5640, 'influential': 5641, 'bolt': 5642, 'hathaway': 5643, 'indefinitely': 5644, 'struggles': 5645, 'fabio': 5646, 'powered': 5647, 'maintained': 5648, 'finances': 5649, 'camps': 5650, 'grounds': 5651, 'choose': 5652, 'manuel': 5653, 'arrival': 5654, 'coleman': 5655, 'minn': 5656, 'jong': 5657, 'survives': 5658, 'fresno': 5659, 'grass': 5660, 'resulted': 5661, 'civic': 5662, 'bout': 5663, 'lahore': 5664, 'personality': 5665, 'handling': 5666, 'oxford': 5667, 'minaj': 5668, '18th': 5669, 'miliband': 5670, 'mccarthy': 5671, 'bowler': 5672, 'assessment': 5673, 'beta': 5674, 'policeman': 5675, 'religion': 5676, 'speeding': 5677, 'extraordinary': 5678, 'deployed': 5679, 'kiss': 5680, 'sec': 5681, 'blockbuster': 5682, 'hardware': 5683, 'sweet': 5684, 'spiritual': 5685, 'lexington': 5686, 'referee': 5687, 'des': 5688, 'insisting': 5689, 'disputes': 5690, 'overweight': 5691, 'brent': 5692, 'norfolk': 5693, 'willing': 5694, 'surface': 5695, 'ailing': 5696, 'fulham': 5697, '450': 5698, 'volkswagen': 5699, 'gathering': 5700, 'procedure': 5701, 'railways': 5702, 'hiding': 5703, 'geneva': 5704, 'tucson': 5705, 'largely': 5706, 'stoke': 5707, 'concerts': 5708, 'spice': 5709, 'nicki': 5710, 'attractive': 5711, 'encourage': 5712, 'writers': 5713, 'rehman': 5714, 'mavericks': 5715, 'derek': 5716, 'jumping': 5717, 'safely': 5718, 'wounds': 5719, 'represent': 5720, 'connected': 5721, 'harvest': 5722, 'prompted': 5723, 'dip': 5724, 'portal': 5725, 'devastating': 5726, 'mounting': 5727, 'brien': 5728, 'ridge': 5729, 'effectively': 5730, 'eds': 5731, 'gifts': 5732, 'defamation': 5733, 'valentine': 5734, 'chronic': 5735, 'logistics': 5736, 'treasurer': 5737, 'rams': 5738, 'neighbours': 5739, 'hamburg': 5740, 'availability': 5741, 'karl': 5742, 'di': 5743, 'kahn': 5744, 'destroy': 5745, 'renault': 5746, 'pursue': 5747, 'knot': 5748, 'simply': 5749, 'sensitive': 5750, 'km': 5751, 'filming': 5752, 'vanessa': 5753, 'purchased': 5754, 'intensive': 5755, 'exciting': 5756, 'quest': 5757, 'nude': 5758, 'cannabis': 5759, 'kenyan': 5760, 'sofia': 5761, 'diving': 5762, 'projected': 5763, 'planet': 5764, 'seal': 5765, 'bottle': 5766, 'acute': 5767, 'nyc': 5768, 'rbi': 5769, 'cage': 5770, 'heroes': 5771, 'malta': 5772, 'turner': 5773, 'muscle': 5774, 'gardens': 5775, 'autopsy': 5776, 'tulsa': 5777, 'riley': 5778, 'cheney': 5779, 'walks': 5780, 'pose': 5781, 'fleeing': 5782, 'suisse': 5783, 'qualify': 5784, 'mariah': 5785, 'overdose': 5786, '2016': 5787, 'urge': 5788, 'jakarta': 5789, 'ports': 5790, 'lock': 5791, 'towns': 5792, 'powell': 5793, 'explain': 5794, 'guidelines': 5795, 'else': 5796, 'woes': 5797, 'colleagues': 5798, 'universe': 5799, 'occasion': 5800, 'astros': 5801, 'barn': 5802, 'brook': 5803, 'donate': 5804, 'favre': 5805, 'settles': 5806, 'ucla': 5807, 'palmer': 5808, 'quitting': 5809, 'policemen': 5810, 'thackeray': 5811, 'du': 5812, 'favour': 5813, 'reed': 5814, 'wade': 5815, 'vincent': 5816, 'licensing': 5817, 'seem': 5818, 'proceedings': 5819, 'impose': 5820, 'danish': 5821, 'mogul': 5822, 'eco': 5823, 'rankings': 5824, 'server': 5825, 'paulo': 5826, 'proved': 5827, 'cement': 5828, 'richardson': 5829, 'qualified': 5830, 'quake': 5831, 'boulevard': 5832, 'mamata': 5833, 'capello': 5834, 'turbine': 5835, 'cola': 5836, 'zsa': 5837, 'grows': 5838, 'suburb': 5839, 'narendra': 5840, '2002': 5841, 'walmart': 5842, 'cuomo': 5843, 'glen': 5844, 'complications': 5845, 'manila': 5846, 'parked': 5847, 'diaz': 5848, 'holder': 5849, 'slovenia': 5850, 'lessons': 5851, 'travelling': 5852, 'wishes': 5853, 'autumn': 5854, 'enjoying': 5855, 'salaries': 5856, 'possessing': 5857, 'blacks': 5858, 'recruit': 5859, 'monsoon': 5860, 'mistakes': 5861, 'sudanese': 5862, 'stories': 5863, 'metropolitan': 5864, 'carriers': 5865, 'expelled': 5866, 'reliever': 5867, 'niagara': 5868, 'burma': 5869, 'cues': 5870, 'notre': 5871, 'consensus': 5872, 'hospitalised': 5873, 'romance': 5874, 'contribute': 5875, 'margin': 5876, 'bangkok': 5877, 'abused': 5878, 'bennett': 5879, 'discover': 5880, 'outsourcing': 5881, 'pipe': 5882, 'boats': 5883, 'detective': 5884, '180': 5885, 'hamstring': 5886, 'cornerback': 5887, 'windsor': 5888, 'sharapova': 5889, 'revealing': 5890, 'swan': 5891, 'throat': 5892, 'semifinals': 5893, 'spell': 5894, 'kid': 5895, 'symptoms': 5896, 'distribute': 5897, 'punched': 5898, 'golfer': 5899, 'torture': 5900, 'aren': 5901, 'mothers': 5902, 'strengthening': 5903, 'investigations': 5904, 'subscription': 5905, 'reckless': 5906, 'innocent': 5907, 'paterson': 5908, '13th': 5909, 'arsene': 5910, 'michaels': 5911, 'rajya': 5912, 'contribution': 5913, 'hornets': 5914, 'jintao': 5915, '14th': 5916, 'natalie': 5917, 'criminals': 5918, 'meant': 5919, 'cannon': 5920, 'dayton': 5921, 'cia': 5922, 'janata': 5923, 'imran': 5924, 'imported': 5925, 'relatives': 5926, 'snap': 5927, 'huntington': 5928, 'chopra': 5929, 'likes': 5930, 'format': 5931, '97': 5932, 'soaring': 5933, 'logo': 5934, 'foul': 5935, 'juvenile': 5936, 'jp': 5937, 'peterson': 5938, 'mountains': 5939, 'hurricanes': 5940, 'doherty': 5941, 'minogue': 5942, 'tel': 5943, 'praise': 5944, 'marries': 5945, 'holders': 5946, 'radical': 5947, 'finishing': 5948, 'margaret': 5949, 'arthur': 5950, 'mcdonald': 5951, 'qb': 5952, 'pine': 5953, 'gilbert': 5954, 'truth': 5955, 'serie': 5956, 'container': 5957, 'recruitment': 5958, 'journey': 5959, 'shield': 5960, 'finale': 5961, 'firearms': 5962, 'fantasy': 5963, 'genocide': 5964, 'publish': 5965, 'productivity': 5966, 'ipod': 5967, 'jharkhand': 5968, 'hijacked': 5969, 'raja': 5970, 'protected': 5971, 'upa': 5972, 'enjoyed': 5973, 'veto': 5974, 'ww': 5975, 'crush': 5976, 'boris': 5977, 'gender': 5978, 'intention': 5979, 'fever': 5980, 'suddenly': 5981, 'panasonic': 5982, 'soil': 5983, '160': 5984, 'rounds': 5985, 'pratt': 5986, 'ge': 5987, 'fruit': 5988, 'wilmington': 5989, 'unified': 5990, 'neighbor': 5991, 'depot': 5992, 'mansion': 5993, 'mum': 5994, 'shootings': 5995, 'va': 5996, 'function': 5997, 'encouraging': 5998, 'checkpoint': 5999, 'vendor': 6000, 'noble': 6001, 'smashed': 6002, 'statue': 6003, 'adoption': 6004, 'colts': 6005, 'bachmann': 6006, 'tumor': 6007, 'carrie': 6008, 'battled': 6009, 'listing': 6010, 'celebrities': 6011, 'councillors': 6012, 'pan': 6013, 'offense': 6014, 'rocky': 6015, 'transmission': 6016, 'hacked': 6017, 'resulting': 6018, 'stemming': 6019, 'pml': 6020, 'finishes': 6021, 'survivors': 6022, '4th': 6023, 'halted': 6024, 'kobe': 6025, 'chargers': 6026, 'excited': 6027, 'drives': 6028, 'winfrey': 6029, 'violated': 6030, 'historical': 6031, 'mourinho': 6032, 'teammate': 6033, 'bitter': 6034, 'traveling': 6035, 'maple': 6036, 'briefing': 6037, 'belfast': 6038, 'ipo': 6039, 'ranging': 6040, 'acquisitions': 6041, 'ages': 6042, '911': 6043, 'slain': 6044, 'battered': 6045, 'homeland': 6046, 'ideas': 6047, 'drawn': 6048, 'testify': 6049, 'incumbent': 6050, 'avalanche': 6051, 'par': 6052, 'somerset': 6053, 'grandmother': 6054, 'invites': 6055, 'wholly': 6056, 'australians': 6057, 'sanjay': 6058, 'jun': 6059, 'inspector': 6060, 'gdp': 6061, 'impressive': 6062, 'pond': 6063, 'tear': 6064, 'shoe': 6065, 'liquidity': 6066, 'richie': 6067, 'witherspoon': 6068, 'organic': 6069, 'perhaps': 6070, 'talked': 6071, 'newborn': 6072, 'submit': 6073, 'legs': 6074, 'travis': 6075, 'require': 6076, 'implemented': 6077, 'threaten': 6078, 'load': 6079, 'sullivan': 6080, 'reception': 6081, 'excellent': 6082, 'specific': 6083, 'timothy': 6084, 'protesting': 6085, 'footballer': 6086, 'participants': 6087, 'mainland': 6088, 'ave': 6089, 'publication': 6090, 'webber': 6091, 'components': 6092, 'riverside': 6093, 'bribery': 6094, 'encouraged': 6095, 'burglar': 6096, 'harvey': 6097, '17th': 6098, 'associate': 6099, 'stomach': 6100, 'rebounded': 6101, 'lowered': 6102, 'courthouse': 6103, 'garcia': 6104, 'portion': 6105, 'loaded': 6106, 'cristiano': 6107, 'tsvangirai': 6108, 'rainfall': 6109, 'breakthrough': 6110, 'fda': 6111, 'td': 6112, 'amtrak': 6113, 'brutal': 6114, 'tattoo': 6115, 'plunge': 6116, 'removal': 6117, 'bancorp': 6118, 'coca': 6119, 'rap': 6120, 'quarters': 6121, 'maiden': 6122, 'wouldn': 6123, 'ditch': 6124, 'lucas': 6125, 'humphries': 6126, 'ronnie': 6127, 'plate': 6128, 'satyam': 6129, 'tevez': 6130, 'orchestra': 6131, 'aerospace': 6132, 'garbage': 6133, 'dpa': 6134, 'usc': 6135, 'mph': 6136, 'warrants': 6137, 'molesting': 6138, 'improvements': 6139, 'crawford': 6140, 'apps': 6141, 'repairs': 6142, 'batch': 6143, 'regain': 6144, 'indefinite': 6145, 'borough': 6146, 'miranda': 6147, 'betty': 6148, 'romantic': 6149, 'segment': 6150, 'economics': 6151, 'inch': 6152, 'optimistic': 6153, 'freshman': 6154, 'marlins': 6155, 'sharon': 6156, 'explains': 6157, 'hungarian': 6158, 'cain': 6159, 'slated': 6160, 'solidarity': 6161, 'walter': 6162, 'kutcher': 6163, 'presidents': 6164, 'hbo': 6165, 'governing': 6166, 'maintains': 6167, 'aol': 6168, 'tragic': 6169, 'presentation': 6170, 'singles': 6171, 'develops': 6172, 'halifax': 6173, 'whale': 6174, 'administrator': 6175, 'cheap': 6176, 'resorts': 6177, 'hopkins': 6178, 'carroll': 6179, 'robbers': 6180, 'advocate': 6181, 'detected': 6182, 'campaigns': 6183, 'tougher': 6184, 'crazy': 6185, 'remake': 6186, 'courses': 6187, 'noel': 6188, 'saves': 6189, 'rough': 6190, 'yoga': 6191, 'noted': 6192, 'leonardo': 6193, 'donation': 6194, 'plaza': 6195, 'cooperate': 6196, 'nikkei': 6197, 'toss': 6198, 'thief': 6199, 'packed': 6200, 'boards': 6201, 'strategies': 6202, 'qaida': 6203, 'builder': 6204, 'bailey': 6205, 'coventry': 6206, 'councillor': 6207, 'essex': 6208, 'radiation': 6209, 'aung': 6210, 'mosque': 6211, 'alberto': 6212, 'dhoni': 6213, 'bundesliga': 6214, 'posed': 6215, 'merrill': 6216, 'beatles': 6217, 'holland': 6218, 'covered': 6219, 'doubleheader': 6220, 'solve': 6221, 'tumbled': 6222, 'providence': 6223, 'retreat': 6224, 'consultancy': 6225, 'spoken': 6226, 'partial': 6227, '2020': 6228, 'earns': 6229, 'edges': 6230, 'stressed': 6231, 'istanbul': 6232, 'batting': 6233, 'cats': 6234, 'picking': 6235, 'transparency': 6236, 'vietnamese': 6237, 'fate': 6238, 'falcons': 6239, 'boom': 6240, 'lobby': 6241, 'buzz': 6242, 'reputation': 6243, 'extensive': 6244, 'bruno': 6245, 'sena': 6246, 'castle': 6247, 'monica': 6248, 'acclaimed': 6249, 'intended': 6250, 'broader': 6251, 'thank': 6252, 'portuguese': 6253, 'charities': 6254, 'issuing': 6255, 'reynolds': 6256, 'steam': 6257, 'adele': 6258, 'texans': 6259, 'handle': 6260, 'reference': 6261, 'knicks': 6262, 'outage': 6263, 'bend': 6264, 'reese': 6265, 'prayer': 6266, 'vijay': 6267, 'santos': 6268, 'compact': 6269, 'tap': 6270, 'analytics': 6271, 'lebron': 6272, 'valencia': 6273, 'coyotes': 6274, 'intense': 6275, 'nets': 6276, 'appealed': 6277, 'faculty': 6278, 'blagojevich': 6279, 'hostile': 6280, 'invested': 6281, 'seekers': 6282, 'knox': 6283, '98': 6284, 'maoist': 6285, 'dismisses': 6286, 'congratulates': 6287, 'declaring': 6288, 'djokovic': 6289, 'alleging': 6290, 'engines': 6291, 'devils': 6292, 'hat': 6293, 'pierce': 6294, 'brooks': 6295, 'airtel': 6296, 'pirate': 6297, 'brawl': 6298, 'matters': 6299, 'krishna': 6300, 'spider': 6301, 'shortfall': 6302, '40th': 6303, 'guitar': 6304, 'geithner': 6305, 'buyout': 6306, 'shocking': 6307, 'jaguars': 6308, 'valuable': 6309, 'ryder': 6310, 'ultra': 6311, 'bombings': 6312, 'aden': 6313, 'johansson': 6314, 'hikes': 6315, 'metres': 6316, 'offerings': 6317, 'cruises': 6318, 'forming': 6319, 'households': 6320, 'railroad': 6321, 'pointed': 6322, 'wonder': 6323, 'skype': 6324, 'owns': 6325, 'laboratory': 6326, 'volatility': 6327, 'organisers': 6328, 'superintendent': 6329, 'helen': 6330, 'flyers': 6331, 'marco': 6332, 'consolidation': 6333, 'nasdaq': 6334, 'vehicular': 6335, 'dragged': 6336, 'troy': 6337, 'hosni': 6338, 'laser': 6339, 'ea': 6340, 'hezbollah': 6341, 'remanded': 6342, 'sidelined': 6343, 'yousuf': 6344, 'approached': 6345, 'retains': 6346, 'lays': 6347, 'length': 6348, 'partially': 6349, 'stick': 6350, 'farewell': 6351, 'henderson': 6352, 'jockey': 6353, 'recognize': 6354, 'billiton': 6355, 'generate': 6356, 'rated': 6357, 'convertible': 6358, 'bharti': 6359, 'globally': 6360, 'lashed': 6361, 'pierre': 6362, 'addiction': 6363, 'benitez': 6364, 'katrina': 6365, 'govt': 6366, '225': 6367, 'burst': 6368, 'gym': 6369, 'diana': 6370, 'anthem': 6371, 'dvd': 6372, 'sluggish': 6373, 'astronaut': 6374, 'stern': 6375, 'nova': 6376, 'carnival': 6377, 'completing': 6378, 'associates': 6379, 'pig': 6380, 'height': 6381, 'performances': 6382, 'shipments': 6383, 'oppose': 6384, 'barton': 6385, 'nose': 6386, 'greenhouse': 6387, 'felipe': 6388, 'cnbc': 6389, 'intellectual': 6390, 'laura': 6391, 'instruments': 6392, 'fielder': 6393, 'ballots': 6394, 'lieutenant': 6395, 'soap': 6396, 'palestine': 6397, 'plotting': 6398, 'infielder': 6399, 'marketplace': 6400, 'stuart': 6401, 'lehman': 6402, 'empty': 6403, 'puerto': 6404, 'cardinal': 6405, 'airlifted': 6406, 'destinations': 6407, 'method': 6408, 'neglect': 6409, 'circumstances': 6410, 'banerjee': 6411, 'mouth': 6412, 'proceeds': 6413, 'inventories': 6414, 'purpose': 6415, 'wolf': 6416, 'mlb': 6417, 'weakens': 6418, 'heating': 6419, 'extradition': 6420, 'cheated': 6421, 'sergio': 6422, 'addresses': 6423, 'fierce': 6424, 'opposed': 6425, 'tip': 6426, '19th': 6427, 'infosys': 6428, 'damaging': 6429, 'bold': 6430, 'debts': 6431, 'plymouth': 6432, 'addressing': 6433, 'panthers': 6434, 'asthma': 6435, 'contributions': 6436, 'ash': 6437, 'raul': 6438, 'downs': 6439, 'consultation': 6440, 'durham': 6441, 'automation': 6442, 'disabilities': 6443, 'myspace': 6444, 'patents': 6445, 'protecting': 6446, 'constable': 6447, 'sleeping': 6448, 'deployment': 6449, 'sparks': 6450, 'stood': 6451, 'deciding': 6452, 'concrete': 6453, 'plenty': 6454, 'herman': 6455, 'restructure': 6456, 'sheet': 6457, 'brokers': 6458, 'sudden': 6459, 'baptist': 6460, 'crane': 6461, 'heather': 6462, 'delighted': 6463, 'absolutely': 6464, 'teammates': 6465, 'reflecting': 6466, 'hammer': 6467, 'chat': 6468, 'compromise': 6469, 'indie': 6470, 'fisherman': 6471, 'puppy': 6472, 'horizon': 6473, 'wallace': 6474, 'shale': 6475, 'hindu': 6476, 'trigger': 6477, 'dying': 6478, 'poisoning': 6479, 'oliver': 6480, 'studying': 6481, 'symbol': 6482, 'victor': 6483, 'premiership': 6484, 'fixing': 6485, 'shake': 6486, 'tunisia': 6487, 'checked': 6488, 'toys': 6489, 'chuck': 6490, 'fm': 6491, 'mistake': 6492, 'ellis': 6493, 'ip': 6494, 'spray': 6495, 'repeat': 6496, 'voluntarily': 6497, 'approaches': 6498, 'carson': 6499, 'bet': 6500, 'percentage': 6501, 'floating': 6502, 'calendar': 6503, 'rukh': 6504, 'lawsuits': 6505, 'toledo': 6506, 'maps': 6507, 'covers': 6508, 'reviewing': 6509, 'yadav': 6510, 'sexy': 6511, 'canucks': 6512, 'ki': 6513, 'collect': 6514, 'folk': 6515, 'tier': 6516, 'contained': 6517, 'alarm': 6518, 'eyed': 6519, 'panic': 6520, 'uncertain': 6521, 'stretch': 6522, 'blew': 6523, 'brokerage': 6524, 'pearl': 6525, 'sponsorship': 6526, 'hidden': 6527, 'relative': 6528, 'tonne': 6529, 'amazing': 6530, 'lie': 6531, 'hunters': 6532, 'daughters': 6533, 'shutdown': 6534, 'sweeping': 6535, 'quarterfinals': 6536, 'presenter': 6537, 'videos': 6538, 'strengthens': 6539, 'boil': 6540, 'barrier': 6541, 'satellites': 6542, 'facilitate': 6543, 'laundering': 6544, 'organizers': 6545, 'gala': 6546, 'rogue': 6547, 'samuel': 6548, 'leicester': 6549, 'myself': 6550, 'popularity': 6551, 'hanged': 6552, 'queens': 6553, 'maradona': 6554, 'der': 6555, '21st': 6556, 'collected': 6557, 'withdrawal': 6558, 'pursuit': 6559, 'participating': 6560, '3rd': 6561, 'kidman': 6562, 'advocates': 6563, 'vick': 6564, 'aamir': 6565, 'eligible': 6566, 'li': 6567, 'sidelines': 6568, 'revival': 6569, 'repeatedly': 6570, 'challenger': 6571, 'paise': 6572, 'bullying': 6573, 'thus': 6574, 'dominated': 6575, 'villages': 6576, 'cream': 6577, 'ordinary': 6578, 'motel': 6579, 'fiat': 6580, 'itv': 6581, 'wipro': 6582, 'neill': 6583, 'precious': 6584, 'dump': 6585, 'confrontation': 6586, 'anger': 6587, 'pensioner': 6588, 'nervous': 6589, 'decides': 6590, 'ledger': 6591, 'unite': 6592, 'neighbors': 6593, 'rev': 6594, 'cooking': 6595, 'bargain': 6596, 'disrupted': 6597, 'croatia': 6598, 'plug': 6599, 'suffolk': 6600, 'containing': 6601, 'meter': 6602, 'administrators': 6603, 'dominique': 6604, 'polling': 6605, 'youngest': 6606, 'dhaka': 6607, 'sometimes': 6608, 'displaced': 6609, 'inappropriate': 6610, 'reunion': 6611, '4g': 6612, 'patel': 6613, 'invitational': 6614, 'wa': 6615, 'caps': 6616, 'underage': 6617, 'erie': 6618, 'unusual': 6619, 'goodwill': 6620, 'quotes': 6621, 'asean': 6622, 'addressed': 6623, 'pointing': 6624, 'pills': 6625, 'carlo': 6626, 'formation': 6627, 'painting': 6628, 'khalifa': 6629, 'busch': 6630, 'seeded': 6631, 'bombers': 6632, 'etihad': 6633, 'approaching': 6634, 'ramp': 6635, 'gabrielle': 6636, 'ounce': 6637, 'ellen': 6638, 'institutional': 6639, 'islamist': 6640, 'tenn': 6641, 'publicist': 6642, 'erupted': 6643, 'restricted': 6644, 'struggled': 6645, 'carmaker': 6646, 'daytona': 6647, 'degrees': 6648, 'ios': 6649, 'wet': 6650, 'legacy': 6651, 'vienna': 6652, 'dominican': 6653, 'reddy': 6654, 'explosives': 6655, 'friendship': 6656, 'ejected': 6657, 'hilary': 6658, 'flown': 6659, 'entrepreneurs': 6660, 'massacre': 6661, 'beaches': 6662, 'contender': 6663, 'nobody': 6664, 'biopic': 6665, 'subsidiaries': 6666, 'drake': 6667, 'petersburg': 6668, 'mysterious': 6669, 'spree': 6670, 'suppliers': 6671, 'broking': 6672, 'tweet': 6673, 'coma': 6674, 'ducks': 6675, 'cigarette': 6676, 'clears': 6677, 'surprised': 6678, 'hinted': 6679, 'angola': 6680, 'repeal': 6681, 'tuition': 6682, 'enhancing': 6683, 'loose': 6684, 'hawks': 6685, 'pelosi': 6686, 'passport': 6687, '170': 6688, 'procedures': 6689, 'steep': 6690, 'reunited': 6691, 'frankfurt': 6692, 'messaging': 6693, 'middleweight': 6694, 'programmes': 6695, 'guinea': 6696, 'assassination': 6697, 'cease': 6698, 'allocation': 6699, 'penalties': 6700, 'guests': 6701, 'proper': 6702, 'hoped': 6703, 'helicopters': 6704, 'altercation': 6705, 'underwood': 6706, 'croatian': 6707, 'reaction': 6708, 'nd': 6709, 'ladies': 6710, 'editorial': 6711, 'burke': 6712, 'credits': 6713, 'kidnap': 6714, 'lyon': 6715, 'trained': 6716, 'lockout': 6717, 'exchanges': 6718, 'guardian': 6719, 'distributed': 6720, 'rhode': 6721, 'certificate': 6722, 'hacking': 6723, 'operated': 6724, 'bingo': 6725, 'duncan': 6726, 'accusations': 6727, 'pfizer': 6728, 'purdue': 6729, 'bankrupt': 6730, 'gps': 6731, 'clippers': 6732, 'scholarship': 6733, 'smash': 6734, 'spends': 6735, 'hundred': 6736, 'comfortable': 6737, 'carlisle': 6738, 'trevor': 6739, 'teeth': 6740, 'vampire': 6741, 'thunderstorm': 6742, 'dreams': 6743, 'shuts': 6744, 'merchant': 6745, 'shaun': 6746, 'seng': 6747, 'flags': 6748, 'adopts': 6749, 'novak': 6750, 'nuggets': 6751, 'secrets': 6752, 'mae': 6753, 'kirk': 6754, 'strict': 6755, 'integrity': 6756, 'forecasters': 6757, 'laying': 6758, 'climbing': 6759, 'raymond': 6760, 'orbit': 6761, 'sunny': 6762, 'chips': 6763, 'liability': 6764, 'nottingham': 6765, 'gossip': 6766, 'qualifier': 6767, 'typhoon': 6768, 'utilities': 6769, 'consulate': 6770, 'preston': 6771, 'disorderly': 6772, 'consortium': 6773, 'jeffrey': 6774, 'indigenous': 6775, 'sabah': 6776, 'consequences': 6777, 'slowly': 6778, 'incentives': 6779, 'diamondbacks': 6780, 'mobility': 6781, 'imprisonment': 6782, 'mercy': 6783, 'tycoon': 6784, 'bright': 6785, 'congratulated': 6786, 'scarlett': 6787, 'booking': 6788, 'trio': 6789, 'blasted': 6790, 'permit': 6791, 'macedonia': 6792, 'prefer': 6793, 'columnist': 6794, 'sum': 6795, 'sting': 6796, 'workplace': 6797, 'franco': 6798, 'washed': 6799, 'halloween': 6800, 'engage': 6801, 'travelers': 6802, 'concerning': 6803, 'bhd': 6804, 'cigarettes': 6805, '3m': 6806, 'telstra': 6807, 'md': 6808, 'aussie': 6809, 'ahmad': 6810, 'gosselin': 6811, 'chilean': 6812, 'brendan': 6813, 'moments': 6814, 'setback': 6815, 'dragon': 6816, 'welterweight': 6817, 'showcase': 6818, 'exclusively': 6819, 'hails': 6820, 'desire': 6821, 'aviv': 6822, 'donor': 6823, 'surgeon': 6824, 'faulty': 6825, 'laptop': 6826, 'ghost': 6827, 'saskatchewan': 6828, 'compound': 6829, 'removing': 6830, 'secretly': 6831, 'founded': 6832, 'flew': 6833, 'humans': 6834, 'marie': 6835, '16th': 6836, 'nielsen': 6837, 'slight': 6838, 'raids': 6839, 'stating': 6840, 'preserve': 6841, 'walt': 6842, 'dressed': 6843, 'endangered': 6844, 'nazi': 6845, 'scotia': 6846, 'replaces': 6847, 'revive': 6848, 'banning': 6849, 'excellence': 6850, 'wash': 6851, 'revolutionary': 6852, 'nor': 6853, 'jul': 6854, 'succeed': 6855, '5th': 6856, 'burlington': 6857, 'pages': 6858, 'establishment': 6859, 'cyclone': 6860, 'corrupt': 6861, 'georgetown': 6862, 'overtime': 6863, 'handset': 6864, '30th': 6865, 'beirut': 6866, 'wider': 6867, 'sp': 6868, 'gazprom': 6869, 'youngsters': 6870, 'skating': 6871, 'dogg': 6872, 'eid': 6873, 'shortstop': 6874, 'municipality': 6875, 'vernon': 6876, 'apartments': 6877, 'kurdish': 6878, 'cal': 6879, 'mandate': 6880, 'ceiling': 6881, 'yacht': 6882, 'rage': 6883, 'matthews': 6884, 'sweeps': 6885, 'introduction': 6886, 'bullish': 6887, 'hayden': 6888, 'lots': 6889, 'reno': 6890, 'algeria': 6891, 'bounced': 6892, 'riots': 6893, 'flee': 6894, 'mix': 6895, 'arrangements': 6896, 'combine': 6897, '650': 6898, 'lanes': 6899, 'satisfaction': 6900, 'arquette': 6901, 'reorganization': 6902, 'tanzania': 6903, 'claire': 6904, 'appropriate': 6905, 'researcher': 6906, 'reactor': 6907, 'bridges': 6908, 'lauren': 6909, 'barrels': 6910, 'iceland': 6911, 'cops': 6912, 'counterparts': 6913, 'grenade': 6914, '850': 6915, 'miguel': 6916, 'renovation': 6917, 'seasonal': 6918, 'schemes': 6919, 'specifically': 6920, 'equality': 6921, '2001': 6922, 'commissioned': 6923, '6th': 6924, 'victorian': 6925, 'adjusted': 6926, 'greene': 6927, '2003': 6928, 'pharma': 6929, 'schumacher': 6930, 'scrapped': 6931, 'congo': 6932, 'wed': 6933, 'gig': 6934, 'lighting': 6935, 'respectively': 6936, 'cathedral': 6937, 'perez': 6938, 'marines': 6939, 'agreeing': 6940, 'outperform': 6941, 'wrist': 6942, 'relating': 6943, 'hackers': 6944, 'arlington': 6945, 'apparel': 6946, 'freeway': 6947, 'anonymous': 6948, 'swings': 6949, 'rover': 6950, 'f1': 6951, 'greenback': 6952, 'midland': 6953, 'griffin': 6954, 'vandals': 6955, 'behavior': 6956, 'bedroom': 6957, 'indoor': 6958, 'toxic': 6959, 'expresses': 6960, 'permanently': 6961, 'citi': 6962, 'postpones': 6963, 'sanders': 6964, 'fractured': 6965, 'signature': 6966, 'pistorius': 6967, 'questioning': 6968, 'maybe': 6969, 'arriving': 6970, 'blackhawks': 6971, 'unexpected': 6972, 'pressures': 6973, 'monaco': 6974, 'dictator': 6975, 'hewitt': 6976, 'councils': 6977, 'ak': 6978, 'passage': 6979, 'buyer': 6980, 'pepper': 6981, 'publishes': 6982, 'clemens': 6983, 'uniform': 6984, 'ambitious': 6985, 'christ': 6986, 'vale': 6987, 'bret': 6988, 'blames': 6989, 'megan': 6990, 'payroll': 6991, 'hell': 6992, 'riders': 6993, 'tyson': 6994, 'shutting': 6995, 'astronauts': 6996, 'opponent': 6997, 'estimate': 6998, 'slid': 6999, 'torres': 7000, 'detectives': 7001, 'peoples': 7002, 'shadow': 7003, 'les': 7004, 'rig': 7005, 'vista': 7006, 'headline': 7007, 'rank': 7008, 'padres': 7009, 'dicaprio': 7010, 'toy': 7011, '23rd': 7012, 'groin': 7013, 'ramirez': 7014, 'sanford': 7015, 'pure': 7016, 'halle': 7017, 'fiery': 7018, 'posing': 7019, 'duff': 7020, 'joey': 7021, 'europa': 7022, 'chocolate': 7023, 'surcharge': 7024, 'rescues': 7025, 'rico': 7026, 'filipino': 7027, 'lawn': 7028, 'grey': 7029, 'heels': 7030, 'premises': 7031, 'scanner': 7032, 'turnover': 7033, 'mali': 7034, 'drummer': 7035, 'deploy': 7036, 'caroline': 7037, 'initiated': 7038, 'yards': 7039, 'funded': 7040, 'cellular': 7041, 'telekom': 7042, 'programming': 7043, 'mode': 7044, 'mick': 7045, 'knoxville': 7046, 'dylan': 7047, 'lionel': 7048, 'messi': 7049, 'meaning': 7050, 'rwanda': 7051, 'counterfeit': 7052, 'caution': 7053, 'patch': 7054, 'imminent': 7055, 'opposite': 7056, 'swung': 7057, 'error': 7058, 'particular': 7059, 'adjourned': 7060, 'killings': 7061, 'isle': 7062, 'ashok': 7063, 'outages': 7064, 'lansing': 7065, 'sergeant': 7066, 'mandatory': 7067, 'nitish': 7068, 'distance': 7069, 'taste': 7070, 'jd': 7071, 'guys': 7072, 'upbeat': 7073, 'indeed': 7074, 'widened': 7075, 'creditors': 7076, 'medicaid': 7077, 'burton': 7078, 'moral': 7079, 'spotlight': 7080, 'governors': 7081, 'meals': 7082, 'zimbabwean': 7083, 'sunshine': 7084, 'playboy': 7085, 'battles': 7086, 'gubernatorial': 7087, 'dengue': 7088, 'harbour': 7089, '550': 7090, 'capsized': 7091, 'convert': 7092, 'snoop': 7093, 'debuts': 7094, 'ana': 7095, 'poses': 7096, 'punk': 7097, 'sank': 7098, 'hispanic': 7099, 'nolan': 7100, 'strained': 7101, 'ike': 7102, 'prosperity': 7103, 'lte': 7104, 'sara': 7105, 'consultant': 7106, 'demonstrators': 7107, 'pitches': 7108, 'epic': 7109, 'lowers': 7110, 'invests': 7111, 'undergone': 7112, 'requested': 7113, 'dubbed': 7114, 'reader': 7115, 'winston': 7116, 'dumping': 7117, 'combination': 7118, 'irvine': 7119, 'departure': 7120, 'clayton': 7121, 'collections': 7122, 'presenting': 7123, 'poultry': 7124, 'regard': 7125, 'facial': 7126, 'toshiba': 7127, 'antony': 7128, 'teach': 7129, 'ga': 7130, 'installation': 7131, 'animation': 7132, 'adventure': 7133, 'balotelli': 7134, 'organisations': 7135, 'fairfield': 7136, 'forever': 7137, 'venue': 7138, 'signals': 7139, 'robertson': 7140, 'dated': 7141, 'michel': 7142, 'trash': 7143, 'travellers': 7144, 'tanks': 7145, 'mesa': 7146, 'manitoba': 7147, 'manner': 7148, 'portable': 7149, 'icici': 7150, 'macau': 7151, 'dutt': 7152, 'desktop': 7153, 'profitability': 7154, 'telegraph': 7155, 'legislators': 7156, 'criticized': 7157, 'maintaining': 7158, 'johnston': 7159, 'requires': 7160, 'sand': 7161, 'coup': 7162, 'spa': 7163, 'florence': 7164, 'gadhafi': 7165, 'olmert': 7166, 'hemsworth': 7167, 'treating': 7168, 'lou': 7169, 'skies': 7170, 'marginally': 7171, 'attorneys': 7172, 'westminster': 7173, 'bones': 7174, 'paula': 7175, 'scouts': 7176, 'eventually': 7177, 'tracy': 7178, 'resigning': 7179, 'reject': 7180, 'opposes': 7181, '8th': 7182, 'plains': 7183, 'amateur': 7184, 'wrap': 7185, 'designs': 7186, 'roots': 7187, 'doug': 7188, 'predict': 7189, 'anil': 7190, 'mirza': 7191, 'revenge': 7192, 'bb': 7193, 'kurt': 7194, 'wr': 7195, 'certainly': 7196, 'pushes': 7197, 'stunning': 7198, 'ton': 7199, 'introducing': 7200, 'strictly': 7201, 'rodgers': 7202, 'sometime': 7203, 'stamford': 7204, 'harm': 7205, 'snapped': 7206, 'paltrow': 7207, 'clemson': 7208, 'parkway': 7209, 'packages': 7210, 'abraham': 7211, 'repay': 7212, 'tighten': 7213, 'willis': 7214, 'jse': 7215, 'bengals': 7216, 'appreciation': 7217, 'stalking': 7218, 'trader': 7219, 'sailor': 7220, 'humanity': 7221, 'requiring': 7222, 'proposing': 7223, 'lynn': 7224, 'endeavour': 7225, 'depth': 7226, 'andrews': 7227, 'javier': 7228, 'stanford': 7229, 'visual': 7230, 'bracing': 7231, 'palo': 7232, 'jackie': 7233, 'reservation': 7234, 'graduates': 7235, 'sao': 7236, 'pot': 7237, 'albuquerque': 7238, 'gonzalez': 7239, 'sana': 7240, 'oasis': 7241, 'mayo': 7242, 'bands': 7243, 'khloe': 7244, 'exceed': 7245, 'doubts': 7246, 'eleven': 7247, 'earl': 7248, 'chess': 7249, 'exam': 7250, 'charts': 7251, 'aging': 7252, 'propose': 7253, 'ftse': 7254, 'dementia': 7255, 'correctional': 7256, 'nationally': 7257, 'canterbury': 7258, 'robust': 7259, 'gerard': 7260, 'bee': 7261, 'resolved': 7262, 'kyrgyz': 7263, 'malawi': 7264, 'criticised': 7265, 'enemy': 7266, 'goaltender': 7267, 'rear': 7268, 'linda': 7269, 'sponsors': 7270, 'sole': 7271, 'printing': 7272, 'mayweather': 7273, 'atletico': 7274, 'transactions': 7275, 'reiterates': 7276, 'punch': 7277, 'jorge': 7278, 'eases': 7279, 'anand': 7280, 'cattle': 7281, 'surrender': 7282, 'sailors': 7283, 'progressive': 7284, 'crosby': 7285, 'prairie': 7286, 'operates': 7287, 'founding': 7288, 'burnt': 7289, 'chester': 7290, 'arabian': 7291, 'jenkins': 7292, 'irene': 7293, 'inspectors': 7294, 'ousted': 7295, 'exercises': 7296, 'amsterdam': 7297, 'distributing': 7298, 'blackpool': 7299, 'chartered': 7300, 'karabakh': 7301, 'volcano': 7302, 'cavaliers': 7303, 'repeated': 7304, 'pancreatic': 7305, 'canberra': 7306, 'achievement': 7307, 'advani': 7308, 'wbc': 7309, 'yield': 7310, 'gallon': 7311, 'scout': 7312, 'competing': 7313, 'crops': 7314, 'inner': 7315, 'discusses': 7316, 'ma': 7317, 'vendors': 7318, 'gunshot': 7319, '175': 7320, 'maldives': 7321, 'triumph': 7322, 'midday': 7323, 'hide': 7324, 'jade': 7325, 'aware': 7326, 'rossi': 7327, 'massa': 7328, 'bharatiya': 7329, 'wheelchair': 7330, 'describing': 7331, 'findings': 7332, 'initially': 7333, 'afraid': 7334, 'rutgers': 7335, 'kodak': 7336, 'levi': 7337, 'notorious': 7338, 'earthquakes': 7339, 'physically': 7340, 'qualifiers': 7341, 'slows': 7342, 'myrtle': 7343, 'alicia': 7344, 'klum': 7345, 'automatic': 7346, 'tebow': 7347, 'linking': 7348, 'dodge': 7349, 'restart': 7350, 'recommendations': 7351, 'coral': 7352, 'cab': 7353, 'sprained': 7354, 'confirming': 7355, 'proof': 7356, 'shaw': 7357, 'wilkinson': 7358, 'temperature': 7359, 'murders': 7360, 'bullpen': 7361, 'predicts': 7362, 'uzbekistan': 7363, 'toilet': 7364, 'janet': 7365, 'factories': 7366, 'pets': 7367, 'axe': 7368, 'activate': 7369, 'fare': 7370, 'hart': 7371, 'conducting': 7372, 'coronation': 7373, 'dale': 7374, 'gwyneth': 7375, 'portman': 7376, 'weakening': 7377, 'brewer': 7378, 'villagers': 7379, 'kingfisher': 7380, 'en': 7381, 'accessories': 7382, 'augusta': 7383, 'difficulties': 7384, 'safer': 7385, 'baba': 7386, 'litre': 7387, 'sequel': 7388, 'thermal': 7389, 'scratched': 7390, 'stance': 7391, 'wizards': 7392, 'telecoms': 7393, 'sentences': 7394, 'internationally': 7395, 'notebook': 7396, 'admission': 7397, 'adobe': 7398, 'alice': 7399, 'courtroom': 7400, 'lets': 7401, 'abduction': 7402, 'amir': 7403, 'dock': 7404, 'ferdinand': 7405, 'clashed': 7406, 'hussain': 7407, 'albums': 7408, 'luck': 7409, 'bloc': 7410, 'slower': 7411, 'americas': 7412, 'avoided': 7413, 'elements': 7414, 'joy': 7415, 'rifle': 7416, 'accelerated': 7417, 'accountability': 7418, 'gloucester': 7419, 'chose': 7420, 'immigrant': 7421, 'rcmp': 7422, 'commuters': 7423, 'boosts': 7424, 'stricken': 7425, 'symphony': 7426, 'stayed': 7427, 'bart': 7428, 'withdrawing': 7429, 'glory': 7430, 'usual': 7431, 'tiny': 7432, 'followers': 7433, 'twenty': 7434, 'redknapp': 7435, 'highways': 7436, 'pawlenty': 7437, 'uprising': 7438, 'rent': 7439, 'claude': 7440, 'narrow': 7441, 'vettel': 7442, 'aliyev': 7443, 'evan': 7444, 'wildfires': 7445, 'tornadoes': 7446, 'troopers': 7447, 'promotes': 7448, 'consolidate': 7449, 'slips': 7450, 'explodes': 7451, 'accidental': 7452, 'chaos': 7453, 'roses': 7454, 'casualties': 7455, 'tradition': 7456, 'subsidies': 7457, 'ups': 7458, 'sussex': 7459, 'davidson': 7460, 'infected': 7461, 'seri': 7462, 'se': 7463, 'taiwanese': 7464, 'councilman': 7465, 'item': 7466, 'rebuild': 7467, 'inauguration': 7468, 'hassan': 7469, 'zones': 7470, 'raleigh': 7471, 'mcdonnell': 7472, 'morrison': 7473, 'tightened': 7474, 'preparations': 7475, 'represents': 7476, 'territorial': 7477, 'gavin': 7478, 'wicket': 7479, 'honolulu': 7480, 'dual': 7481, 'restoration': 7482, 'webster': 7483, 'evacuate': 7484, 'surrendered': 7485, 'volvo': 7486, 'alto': 7487, 'deserve': 7488, 'planting': 7489, 'connor': 7490, 'wounding': 7491, 'kamal': 7492, 'firmer': 7493, 'cop': 7494, 'attendance': 7495, 'consideration': 7496, 'example': 7497, '104': 7498, 'laptops': 7499, 'statistical': 7500, 'speeds': 7501, 'earning': 7502, 'suns': 7503, 'basin': 7504, 'debates': 7505, 'silva': 7506, 'highlights': 7507, 'chandigarh': 7508, 'id': 7509, 'medicines': 7510, 'gunfire': 7511, 'martial': 7512, 'duchess': 7513, 'indicating': 7514, 'clock': 7515, 'klitschko': 7516, 'methods': 7517, 'amidst': 7518, 'minerals': 7519, 'brunswick': 7520, 'daniels': 7521, 'samantha': 7522, 'wen': 7523, 'letterman': 7524, 'dividends': 7525, 'entrepreneur': 7526, 'simmons': 7527, 'budgets': 7528, 'cpi': 7529, 'priyanka': 7530, 'requirement': 7531, 'fraser': 7532, 'waive': 7533, 'fortune': 7534, 'dismissal': 7535, 'champ': 7536, 'cooperative': 7537, 'chevrolet': 7538, 'bucks': 7539, 'requests': 7540, 'shocked': 7541, 'abandon': 7542, 'minorities': 7543, 'roughly': 7544, 'copyright': 7545, 'meth': 7546, 'grande': 7547, 'afc': 7548, 'testimony': 7549, 'shortages': 7550, 'penny': 7551, 'experimental': 7552, 'disruption': 7553, 'contempt': 7554, 'directing': 7555, 'silent': 7556, 'cavendish': 7557, 'successive': 7558, 'firmly': 7559, 'recreation': 7560, 'abbey': 7561, 'audi': 7562, 'rim': 7563, 'spectacular': 7564, 'ethiopian': 7565, 'boise': 7566, 'confirmation': 7567, 'lightweight': 7568, 'ltte': 7569, 'openly': 7570, 'refuge': 7571, 'bse': 7572, 'persistent': 7573, 'surrey': 7574, 'prepaid': 7575, 'happens': 7576, 'pyongyang': 7577, 'learnt': 7578, 'libel': 7579, 'islanders': 7580, 'freezing': 7581, 'platforms': 7582, 'zuckerberg': 7583, 'disappeared': 7584, '60th': 7585, 'deny': 7586, 'oval': 7587, 'neighbouring': 7588, 'tunnel': 7589, 'junction': 7590, 'damon': 7591, 'lover': 7592, 'tina': 7593, 'telangana': 7594, 'literacy': 7595, 'shannon': 7596, 'continent': 7597, 'busted': 7598, 'millionaire': 7599, 'mainstream': 7600, 'isaac': 7601, 'browser': 7602, 'theaters': 7603, 'alec': 7604, 'imaging': 7605, 'melissa': 7606, 'montag': 7607, 'alexandra': 7608, 'stalled': 7609, 'bernie': 7610, 'pietersen': 7611, 'sized': 7612, 'slovakia': 7613, 'hannah': 7614, 'funny': 7615, 'courtney': 7616, 'offseason': 7617, 'porsche': 7618, 'hampton': 7619, 'textile': 7620, 'daytime': 7621, 'srinagar': 7622, 'curfew': 7623, 'successor': 7624, 'davies': 7625, 'chrome': 7626, 'hernandez': 7627, 'jackpot': 7628, 'bnp': 7629, 'netflix': 7630, 'accra': 7631, 'lecture': 7632, 'ethanol': 7633, 'handing': 7634, 'divisions': 7635, 'recommends': 7636, 'obsessed': 7637, 'expense': 7638, 'shifted': 7639, '49ers': 7640, 'publishers': 7641, 'grandfather': 7642, 'hague': 7643, 'jointly': 7644, 'kerr': 7645, 'reunite': 7646, 'destruction': 7647, 'morocco': 7648, 'fiance': 7649, 'sad': 7650, 'recognised': 7651, 'commuter': 7652, 'informs': 7653, 'bombay': 7654, 'ministerial': 7655, 'aftermath': 7656, 'logan': 7657, 'muamba': 7658, 'cave': 7659, 'luther': 7660, 'indicates': 7661, 'tweets': 7662, 'cabin': 7663, 'urgent': 7664, 'disclosure': 7665, 'admit': 7666, 'lone': 7667, 'startup': 7668, 'moines': 7669, 'msnbc': 7670, 'ceremonies': 7671, 'namibia': 7672, 'seizure': 7673, 'stays': 7674, 'trademark': 7675, 'suspending': 7676, 'minsk': 7677, 'zach': 7678, 'disasters': 7679, 'undercover': 7680, 'rory': 7681, 'hyundai': 7682, 'vessels': 7683, 'rocked': 7684, 'clinics': 7685, 'willie': 7686, 'qld': 7687, 'tomas': 7688, 'panama': 7689, 'ponting': 7690, 'huffington': 7691, 'ibrahim': 7692, 'nutrition': 7693, 'notices': 7694, 'injures': 7695, 'accord': 7696, 'pcs': 7697, 'contestant': 7698, 'flies': 7699, 'lap': 7700, 'albion': 7701, 'monument': 7702, 'draws': 7703, 'huntsman': 7704, 'graduation': 7705, 'barred': 7706, 'indexes': 7707, 'relegation': 7708, 'vandalism': 7709, 'monster': 7710, 'describes': 7711, 'treatments': 7712, 'lehigh': 7713, 'cambodia': 7714, 'unemployed': 7715, 'attitude': 7716, 'madoff': 7717, 'embattled': 7718, 'demolition': 7719, 'doctorate': 7720, 'touring': 7721, 'cheaper': 7722, 'fertilizer': 7723, 'pitching': 7724, 'famed': 7725, 'hood': 7726, 'awaiting': 7727, 'remainder': 7728, 'rajapaksa': 7729, 'crist': 7730, 'bottles': 7731, 'tipped': 7732, 'slim': 7733, '108': 7734, 'saga': 7735, 'cleaning': 7736, 'kit': 7737, 'usain': 7738, 'belmont': 7739, 'daylight': 7740, 'annually': 7741, 'visas': 7742, 'blockade': 7743, 'burden': 7744, 'certified': 7745, 'highlight': 7746, 'arguing': 7747, 'bible': 7748, 'jermaine': 7749, 'injection': 7750, 'adaptation': 7751, 'foreclosures': 7752, 'rewards': 7753, 'kindle': 7754, 'negotiating': 7755, 'bulk': 7756, 'endangerment': 7757, 'acknowledged': 7758, 'implications': 7759, 'constituency': 7760, 'acid': 7761, 'enjoys': 7762, 'wound': 7763, 'showdown': 7764, 'survivor': 7765, 'wallabies': 7766, 'reconstruction': 7767, 'wachovia': 7768, 'ok': 7769, 'mw': 7770, '1bn': 7771, 'ripped': 7772, 'roethlisberger': 7773, 'odi': 7774, 'hepatitis': 7775, 'aquino': 7776, 'bloody': 7777, 'contamination': 7778, 'fisheries': 7779, 'lies': 7780, 'uncle': 7781, 'casinos': 7782, 'trustees': 7783, 'prop': 7784, 'hungry': 7785, 'automated': 7786, 'bearish': 7787, 'turnout': 7788, 'curtis': 7789, 'fragile': 7790, 'webb': 7791, 'walters': 7792, 'steroids': 7793, 'stint': 7794, 'diva': 7795, 'dentist': 7796, 'demolished': 7797, 'attacker': 7798, 'desk': 7799, 'statutory': 7800, 'dynamics': 7801, 'zurich': 7802, 'disorders': 7803, 'deepika': 7804, 'airtran': 7805, 'contemporary': 7806, 'meltdown': 7807, 'freestyle': 7808, 'bermuda': 7809, 'advisors': 7810, 'leone': 7811, 'dana': 7812, 'sounds': 7813, 'malaria': 7814, 'lancaster': 7815, 'strokes': 7816, 'balls': 7817, 'blogger': 7818, 'inventory': 7819, 'soared': 7820, 'classroom': 7821, 'midlands': 7822, 'pratibha': 7823, 'trent': 7824, 'laurent': 7825, 'disability': 7826, 'hostages': 7827, 'majors': 7828, 'airspace': 7829, 'lengthy': 7830, 'tweeted': 7831, 'neighbour': 7832, 'carpenter': 7833, 'tenants': 7834, 'donors': 7835, 'lodged': 7836, 'forbes': 7837, 'slumped': 7838, 'mich': 7839, 'taught': 7840, 'makeover': 7841, 'sailing': 7842, 'factors': 7843, 'tajikistan': 7844, 'reinstated': 7845, 'o2': 7846, 'impossible': 7847, 'ramdev': 7848, 'clay': 7849, 'renewal': 7850, 'contrary': 7851, 'gingrich': 7852, 'starter': 7853, 'intelligent': 7854, 'interesting': 7855, 'shook': 7856, 'provision': 7857, 'burnley': 7858, 'characters': 7859, 'rumor': 7860, 'indices': 7861, 'outlet': 7862, 'bias': 7863, 'lacrosse': 7864, 'katherine': 7865, 'transformation': 7866, 'smokers': 7867, 'cleric': 7868, 'havoc': 7869, 'livestock': 7870, 'leigh': 7871, 'diane': 7872, 'clegg': 7873, 'lokpal': 7874, 'prolonged': 7875, 'controller': 7876, 'derivatives': 7877, 'carr': 7878, 'kraft': 7879, 'workout': 7880, 'landlord': 7881, 'kuala': 7882, 'lorry': 7883, 'barrymore': 7884, 'marsh': 7885, 'generic': 7886, 'jc': 7887, 'plunges': 7888, 'stamp': 7889, 'counsel': 7890, 'elects': 7891, 'lashes': 7892, 'lodge': 7893, 'allied': 7894, 'sultan': 7895, 'mls': 7896, 'sparking': 7897, 'splitting': 7898, 'destroying': 7899, 'holocaust': 7900, 'shahid': 7901, 'fiber': 7902, 'lifting': 7903, '5m': 7904, 'westwood': 7905, 'observers': 7906, 'shrink': 7907, 'sore': 7908, 'mancini': 7909, 'respiratory': 7910, 'lucknow': 7911, 'shiv': 7912, 'thefts': 7913, 'exhibit': 7914, 'commons': 7915, 'anchorage': 7916, 'clinched': 7917, 'protested': 7918, 'besides': 7919, 'suburbs': 7920, 'llp': 7921, 'rupees': 7922, 'honours': 7923, 'doha': 7924, 'gateway': 7925, 'counting': 7926, 'ipswich': 7927, 'upheld': 7928, 'relation': 7929, 'volumes': 7930, 'experiences': 7931, 'motorist': 7932, 'panels': 7933, 'aurora': 7934, 'surpassed': 7935, 'optical': 7936, 'bump': 7937, 'thunderstorms': 7938, 'nexus': 7939, 'ehud': 7940, 'episodes': 7941, 'productions': 7942, 'liquid': 7943, 'custom': 7944, 'spokane': 7945, 'zac': 7946, 'explained': 7947, 'nonprofit': 7948, 'protestors': 7949, 'clarkson': 7950, 'lafayette': 7951, 'breathing': 7952, 'bases': 7953, 'placing': 7954, 'nickel': 7955, 'holly': 7956, 'mozambique': 7957, 'attracted': 7958, 'boots': 7959, 'sidney': 7960, 'inn': 7961, 'dipped': 7962, 'mgm': 7963, 'ambush': 7964, 'sikh': 7965, 'graphic': 7966, 'locker': 7967, 'peacefully': 7968, 'responds': 7969, 'sat': 7970, 'keeper': 7971, 'disappointment': 7972, 'pleasant': 7973, 'albania': 7974, 'russians': 7975, 'medalist': 7976, 'hates': 7977, 'hospitality': 7978, 'deliberately': 7979, 'decisive': 7980, 'delegates': 7981, 'ria': 7982, 'novosti': 7983, 'auctions': 7984, 'bass': 7985, 'formerly': 7986, 'defrauding': 7987, 'bosnia': 7988, 'paint': 7989, 'durban': 7990, '102': 7991, 'sitcom': 7992, 'clinch': 7993, 'brave': 7994, 'ecb': 7995, 'grabbed': 7996, 'tariffs': 7997, 'donnell': 7998, 'bismarck': 7999, 'newsday': 8000, 'brooke': 8001, 'soviet': 8002, 'corrections': 8003, 'shia': 8004, 'afford': 8005, 'ralph': 8006, 'watford': 8007, 'au': 8008, 'discussing': 8009, 'hillsborough': 8010, 'color': 8011, 'flexible': 8012, 'uss': 8013, 'loud': 8014, 'helm': 8015, 'purchasing': 8016, 'newt': 8017, 'anaheim': 8018, 'ministries': 8019, 'landfall': 8020, 'designate': 8021, 'monte': 8022, '220': 8023, 'mechanism': 8024, 'downloads': 8025, 'accreditation': 8026, 'ind': 8027, 'nixon': 8028, 'arrivals': 8029, 'bishops': 8030, 'casting': 8031, 'dealt': 8032, 'incentive': 8033, 'infections': 8034, 'witnessed': 8035, 'attracting': 8036, 'salvation': 8037, 'prefers': 8038, 'conglomerate': 8039, 'shetty': 8040, 'widow': 8041, 'wesley': 8042, 'lautner': 8043, 'alley': 8044, 'modified': 8045, '105': 8046, 'consent': 8047, 'jude': 8048, 'pains': 8049, 'drain': 8050, 'truly': 8051, 'hindi': 8052, 'backyard': 8053, 'butt': 8054, 'oj': 8055, 'rid': 8056, 'waves': 8057, 'eager': 8058, 'tumble': 8059, 'ti': 8060, 'alzheimer': 8061, 'convinced': 8062, 'kilometres': 8063, 'bt': 8064, 'spike': 8065, 'medication': 8066, 'vaccines': 8067, 'boutique': 8068, 'bynes': 8069, 'eggs': 8070, 'fletcher': 8071, 'olivia': 8072, 'sovereignty': 8073, 'tube': 8074, 'crow': 8075, 'complained': 8076, 'wis': 8077, 'bargaining': 8078, 'negotiate': 8079, 'arcelormittal': 8080, 'gradually': 8081, 'mvp': 8082, 'highlighting': 8083, 'indo': 8084, 'bicycle': 8085, 'debris': 8086, 'kazakh': 8087, 'mentor': 8088, 'baron': 8089, 'bathroom': 8090, 'dining': 8091, 'reliable': 8092, 'bitten': 8093, 'operative': 8094, 'examiner': 8095, 'calf': 8096, 'preview': 8097, 'servants': 8098, 'apologise': 8099, 'rescuers': 8100, '135': 8101, 'paypal': 8102, 'drills': 8103, 'tsx': 8104, 'samajwadi': 8105, 'pakistanis': 8106, 'lennon': 8107, 'pieces': 8108, 'touching': 8109, 'karan': 8110, 'wrongful': 8111, 'boxes': 8112, 'fairfax': 8113, 'concessions': 8114, 'affirmed': 8115, 'patterson': 8116, 'pedro': 8117, 'cure': 8118, 'physicians': 8119, 'architect': 8120, 'winslet': 8121, 'himachal': 8122, 'spinner': 8123, 'fianc': 8124, 'bio': 8125, 'trim': 8126, 'belonging': 8127, 'dawson': 8128, 'hook': 8129, 'array': 8130, 'vitamin': 8131, '107': 8132, 'resistances': 8133, '112': 8134, 'vast': 8135, 'catching': 8136, 'boulder': 8137, 'leafs': 8138, 'happiness': 8139, 'convoy': 8140, 'relationships': 8141, 'cumberland': 8142, 'hodgson': 8143, 'generating': 8144, 'strange': 8145, 'mayoral': 8146, 'groupon': 8147, 'concludes': 8148, 'fence': 8149, 'blunt': 8150, '199': 8151, 'jiabao': 8152, 'pubs': 8153, 'reservoir': 8154, 'canton': 8155, 'infamous': 8156, 'bride': 8157, 'graphics': 8158, 'joan': 8159, 'flame': 8160, 'atlantis': 8161, 'richest': 8162, 'hangs': 8163, 'mln': 8164, 'greenville': 8165, 'payne': 8166, 'alonso': 8167, 'brighton': 8168, 'judgment': 8169, 'snowmobile': 8170, 'principle': 8171, 'johns': 8172, 'oilers': 8173, 'ab': 8174, 'balanced': 8175, 'slapped': 8176, 'upside': 8177, 'hewlett': 8178, 'mri': 8179, 'bafana': 8180, 'amongst': 8181, 'bulldogs': 8182, 'rao': 8183, 'sprinter': 8184, 'bonus': 8185, 'manipur': 8186, 'jews': 8187, 'saeed': 8188, 'rosa': 8189, 'pike': 8190, 'caucus': 8191, 'virtually': 8192, 'promoter': 8193, 'realty': 8194, 'cohen': 8195, 'devastated': 8196, 'entertainer': 8197, 'attends': 8198, 'freak': 8199, 'steals': 8200, 'detection': 8201, 'relatively': 8202, 'purse': 8203, 'yang': 8204, 'appetite': 8205, 'deportation': 8206, 'provisions': 8207, 'injunction': 8208, 'comparison': 8209, 'immune': 8210, 'uruguay': 8211, 'kay': 8212, 'jubilee': 8213, 'guinness': 8214, 'conan': 8215, 'nearing': 8216, 'macquarie': 8217, 'controlling': 8218, 'reilly': 8219, 'splash': 8220, 'processor': 8221, 'knock': 8222, 'mitsubishi': 8223, 'parkinson': 8224, 'rouge': 8225, 'overwhelming': 8226, 'paterno': 8227, 'booming': 8228, 'polar': 8229, 'ensuring': 8230, 'org': 8231, 'transform': 8232, 'knocking': 8233, 'aggregate': 8234, 'pray': 8235, 'predators': 8236, 'comfort': 8237, 'breaching': 8238, 'poet': 8239, 'affiliated': 8240, 'airasia': 8241, 'reagan': 8242, 'unilever': 8243, 'warship': 8244, 'contaminated': 8245, 'arroyo': 8246, 'runners': 8247, 'chevron': 8248, 'mila': 8249, 'kunis': 8250, '4s': 8251, 'obligations': 8252, 'spelling': 8253, 'physician': 8254, 'sheboygan': 8255, 'achievements': 8256, 'obese': 8257, 'sinking': 8258, 'lined': 8259, 'disturbance': 8260, 'outcome': 8261, 'disgraced': 8262, 'legends': 8263, 'aloud': 8264, 'spark': 8265, 'kuwaiti': 8266, 'denying': 8267, 'incorporated': 8268, 'rocks': 8269, 'gerrard': 8270, 'bypass': 8271, 'upward': 8272, 'punching': 8273, 'jared': 8274, 'breakdown': 8275, 'lists': 8276, 'viral': 8277, 'eden': 8278, 'lagos': 8279, 'afghans': 8280, 'repurchase': 8281, 'tan': 8282, 'duck': 8283, 'belgrade': 8284, 'hazard': 8285, 'commencement': 8286, 'finalized': 8287, 'piper': 8288, '5bn': 8289, 'samoa': 8290, 'shriver': 8291, 'gamble': 8292, 'paralympic': 8293, 'metric': 8294, 'gesture': 8295, 'automobile': 8296, 'rai': 8297, 'unfair': 8298, 'rica': 8299, 'von': 8300, 'raided': 8301, 'tightening': 8302, 'cartel': 8303, 'havana': 8304, 'dramatically': 8305, 'mrs': 8306, 'organ': 8307, 'jackets': 8308, 'hayes': 8309, 'evaluation': 8310, 'travolta': 8311, 'denise': 8312, 'malcolm': 8313, 'snyder': 8314, 'divers': 8315, 'forgery': 8316, 'handsets': 8317, 'oral': 8318, 'whatever': 8319, 'fedex': 8320, 'marched': 8321, 'discipline': 8322, 'math': 8323, 'tymoshenko': 8324, 'alba': 8325, 'kia': 8326, 'motogp': 8327, 'generations': 8328, 'patience': 8329, 'zimmerman': 8330, 'narrowed': 8331, 'boating': 8332, 'derailed': 8333, 'rounder': 8334, 'borrow': 8335, 'businessmen': 8336, 'elimination': 8337, 'shrank': 8338, 'entrance': 8339, 'actively': 8340, 'olive': 8341, 'antitrust': 8342, 'porter': 8343, 'italia': 8344, 'critic': 8345, 'unanimous': 8346, 'outgoing': 8347, 'instructor': 8348, 'corning': 8349, 'dancer': 8350, 'chan': 8351, 'detainees': 8352, 'vic': 8353, 'warships': 8354, 'occupation': 8355, 'exploitation': 8356, 'wrapped': 8357, 'disposal': 8358, 'pepsico': 8359, 'dover': 8360, 'securing': 8361, 'dissident': 8362, 'nights': 8363, 'ear': 8364, 'attendant': 8365, 'haley': 8366, 'gabriel': 8367, 'xperia': 8368, 'mineral': 8369, 'none': 8370, 'committees': 8371, 'egg': 8372, 'bahraini': 8373, 'shawn': 8374, 'chesapeake': 8375, 'historian': 8376, 'santana': 8377, 'shahrukh': 8378, 'instant': 8379, 'marina': 8380, 'headquartered': 8381, 'captures': 8382, 'insight': 8383, 'concord': 8384, 'choices': 8385, 'skilled': 8386, 'goody': 8387, 'subdued': 8388, 'nano': 8389, 'thatcher': 8390, 'flooded': 8391, 'obtain': 8392, 'salmonella': 8393, 'ranbir': 8394, 'choppy': 8395, '22nd': 8396, 'sim': 8397, 'roommate': 8398, 'packard': 8399, 'nassau': 8400, 'ammunition': 8401, 'ahmedabad': 8402, 'laboratories': 8403, 'conservatives': 8404, 'invite': 8405, 'beloved': 8406, 'peers': 8407, 'establishing': 8408, 'totally': 8409, 'rampage': 8410, 'avoiding': 8411, 'committing': 8412, 'cricketers': 8413, '240': 8414, 'gore': 8415, 'backdrop': 8416, 'wooden': 8417, 'auditorium': 8418, 'assess': 8419, 'understands': 8420, 'regina': 8421, 'tunisian': 8422, 'harsh': 8423, 'blaming': 8424, 'wanderers': 8425, 'snowfall': 8426, 'crowe': 8427, 'owes': 8428, 'hotspur': 8429, 'goodman': 8430, 'valuation': 8431, 'alcoholic': 8432, 'jamaican': 8433, 'honduras': 8434, 'stunned': 8435, 'demonstrate': 8436, 'monitors': 8437, 'indicators': 8438, 'fog': 8439, 'ronson': 8440, 'est': 8441, 'colonial': 8442, 'stopping': 8443, 'laureate': 8444, 'sophomore': 8445, 'colon': 8446, 'surf': 8447, 'rooms': 8448, 'towers': 8449, 'worsening': 8450, 'didier': 8451, '28th': 8452, 'acted': 8453, 'audiences': 8454, 'wembley': 8455, 'hurdle': 8456, 'stray': 8457, 'checking': 8458, 'happening': 8459, 'mercer': 8460, 'theory': 8461, 'grains': 8462, 'aka': 8463, 'reflect': 8464, 'examination': 8465, 'serves': 8466, 'daly': 8467, 'showers': 8468, 'impersonating': 8469, 'capitals': 8470, 'autobiography': 8471, 'akron': 8472, 'dunn': 8473, 'peters': 8474, 'bangladeshi': 8475, 'whilst': 8476, 'rawalpindi': 8477, 'hogan': 8478, 'harlem': 8479, 'minors': 8480, 'mcilroy': 8481, 'karunanidhi': 8482, 'kylie': 8483, 'teaming': 8484, 'joplin': 8485, 'indictment': 8486, 'felix': 8487, '9th': 8488, 'shower': 8489, 'soar': 8490, 'screens': 8491, 'gutted': 8492, 'lea': 8493, 'lo': 8494, 'iphones': 8495, 'borrowers': 8496, 'bahamas': 8497, 'widens': 8498, 'literature': 8499, 'alpha': 8500, 'pumps': 8501, 'landslide': 8502, 'everywhere': 8503, 'noting': 8504, 'barrett': 8505, 'mayawati': 8506, 'pork': 8507, 'aj': 8508, 'transparent': 8509, 'cosmetic': 8510, 'marvel': 8511, 'intensified': 8512, 'exporter': 8513, 'khyber': 8514, 'runoff': 8515, 'knights': 8516, 'otherwise': 8517, 'deserves': 8518, 'biological': 8519, 'shifting': 8520, 'contracted': 8521, 'geological': 8522, 'fidel': 8523, 'footprint': 8524, 'commissions': 8525, '280': 8526, 'eliminating': 8527, 'remarkable': 8528, 'gp': 8529, 'bizarre': 8530, 'eugene': 8531, 'methodist': 8532, 'sections': 8533, 'neighboring': 8534, 'inches': 8535, 'saleh': 8536, 'sears': 8537, 'bae': 8538, 'demonstrations': 8539, 'lovers': 8540, 'camden': 8541, 'fraudulent': 8542, 'carol': 8543, 'osce': 8544, 'nate': 8545, 'yourself': 8546, 'mirror': 8547, 'leisure': 8548, 'insurers': 8549, 'owed': 8550, 'participated': 8551, 'baton': 8552, 'letting': 8553, 'seller': 8554, 'binghamton': 8555, 'steering': 8556, 'stephanie': 8557, 'hearings': 8558, 'guantanamo': 8559, 'rss': 8560, 'conversation': 8561, 'banker': 8562, 'immunity': 8563, 'contacts': 8564, 'brewing': 8565, 'tactics': 8566, 'strait': 8567, 'starred': 8568, 'galway': 8569, 'quincy': 8570, 'dustin': 8571, 'syndrome': 8572, 'malley': 8573, 'scrutiny': 8574, 'supervision': 8575, 'darling': 8576, 'goodbye': 8577, 'mosquito': 8578, 'ritchie': 8579, 'joke': 8580, 'overwhelmingly': 8581, 'separated': 8582, 'personally': 8583, '2g': 8584, 'knocks': 8585, 'ep': 8586, 'explorer': 8587, 'everybody': 8588, 'deeper': 8589, 'impressed': 8590, 'freezes': 8591, 'nyse': 8592, 'banner': 8593, 'stupid': 8594, 'haul': 8595, 'intercontinental': 8596, 'respects': 8597, 'scared': 8598, 'fingers': 8599, 'colbert': 8600, 'chaudhry': 8601, 'carries': 8602, 'peruvian': 8603, 'churches': 8604, 'stallone': 8605, 'escalating': 8606, 'novelist': 8607, 'highland': 8608, 'abdominal': 8609, 'eli': 8610, 'firearm': 8611, 'ho': 8612, 'anywhere': 8613, 'enemies': 8614, 'auctioned': 8615, 'searched': 8616, 'chambers': 8617, 'collapsing': 8618, 'rescheduled': 8619, 'nash': 8620, 'jenna': 8621, 'rahman': 8622, 'conferences': 8623, 'aluminum': 8624, 'sandusky': 8625, 'johan': 8626, '24th': 8627, 'rebecca': 8628, 'colour': 8629, 'java': 8630, 'spreads': 8631, 'exploring': 8632, 'opted': 8633, 'burger': 8634, 'fault': 8635, 'lasting': 8636, 'jaipur': 8637, 'ronald': 8638, 'slot': 8639, 'conceded': 8640, 'slashing': 8641, 'lowe': 8642, 'verge': 8643, 'coldplay': 8644, 'spots': 8645, 'intentionally': 8646, 'workshops': 8647, 'biel': 8648, 'pocket': 8649, 'gearing': 8650, 'timing': 8651, 'gotten': 8652, 'milton': 8653, 'contador': 8654, 'mercantile': 8655, 'lauderdale': 8656, 'stamps': 8657, 'poster': 8658, 'upto': 8659, 'catastrophic': 8660, 'hazardous': 8661, 'troubles': 8662, 'nigel': 8663, 'jaguar': 8664, 'trafford': 8665, 'booker': 8666, 'flick': 8667, 'sewer': 8668, 'ligament': 8669, 'mob': 8670, 'connections': 8671, 'capped': 8672, 'habitat': 8673, 'caretaker': 8674, 'migration': 8675, 'priorities': 8676, 'bhutto': 8677, 'rd': 8678, 'karen': 8679, 'examine': 8680, 'clearly': 8681, 'wellness': 8682, 'ulster': 8683, 'naples': 8684, 'subsidy': 8685, 'tone': 8686, 'arbor': 8687, 'surging': 8688, 'gurgaon': 8689, 'margins': 8690, 'pawar': 8691, 'sienna': 8692, 'sellers': 8693, 'revamped': 8694, 'worcester': 8695, 'hitachi': 8696, 'composite': 8697, 'procurement': 8698, 'salon': 8699, 'avery': 8700, 'spare': 8701, 'weigh': 8702, 'lumpur': 8703, 'billings': 8704, 'lucrative': 8705, 'savannah': 8706, 'moose': 8707, 'putnam': 8708, 'bayer': 8709, 'bribes': 8710, 'competitiveness': 8711, 'sail': 8712, 'ing': 8713, 'extremists': 8714, 'piers': 8715, 'petty': 8716, 'supervisors': 8717, 'mtn': 8718, 'batteries': 8719, 'concedes': 8720, 'meredith': 8721, 'penney': 8722, 'sbi': 8723, '230': 8724, 'lindsey': 8725, 'leonard': 8726, 'collide': 8727, 'slashes': 8728, 'treasure': 8729, 'thermo': 8730, 'semifinal': 8731, 'liberals': 8732, 'radar': 8733, 'supervisor': 8734, 'database': 8735, 'yeddyurappa': 8736, 'appearances': 8737, 'uc': 8738, 'highlands': 8739, 'pedestrians': 8740, 'schmidt': 8741, 'kourtney': 8742, 'livingston': 8743, 'bashir': 8744, 'alexandria': 8745, 'peer': 8746, 'campaigning': 8747, 'ravaged': 8748, 'bow': 8749, 'detailed': 8750, 'partly': 8751, 'warplanes': 8752, 'collecting': 8753, 'spate': 8754, 'colleague': 8755, 'locals': 8756, 'te': 8757, 'trek': 8758, '200m': 8759, 'narcotics': 8760, 'dundee': 8761, 'shepherd': 8762, 'liberation': 8763, 'builders': 8764, 'neither': 8765, 'rainbow': 8766, 'pretoria': 8767, 'jessie': 8768, 'fallon': 8769, 'shipment': 8770, 'liz': 8771, 'highlighted': 8772, 'talented': 8773, 'complaining': 8774, 'lloyds': 8775, 'enabling': 8776, 'scottsdale': 8777, 'dominate': 8778, 'epidemic': 8779, 'leaking': 8780, 'sevilla': 8781, 'stimulate': 8782, 'fannie': 8783, 'labourers': 8784, 'chapel': 8785, 'extinction': 8786, 'rumored': 8787, 'larceny': 8788, 'bentley': 8789, 'delaying': 8790, 'curry': 8791, 'embezzlement': 8792, 'moratorium': 8793, 'campaigners': 8794, 'forestry': 8795, 'dwi': 8796, 'quota': 8797, 'bite': 8798, 'soybean': 8799, 'searches': 8800, 'radcliffe': 8801, 'blu': 8802, 'extremism': 8803, 'warne': 8804, 'owens': 8805, 'nvidia': 8806, 'supermarkets': 8807, 'dixon': 8808, 'sands': 8809, 'rivera': 8810, 'pursuing': 8811, 'copies': 8812, 'separation': 8813, 'supposed': 8814, 'shiite': 8815, 'barely': 8816, 'rodney': 8817, 'looming': 8818, 'outreach': 8819, 'elsewhere': 8820, 'predicting': 8821, 'sotomayor': 8822, 'indycar': 8823, 'ashore': 8824, 'testified': 8825, 'viewing': 8826, 'electrocuted': 8827, 'leighton': 8828, 'paraguay': 8829, 'mcafee': 8830, 'icy': 8831, 'diversified': 8832, 'errors': 8833, 'interviews': 8834, 'prayers': 8835, 'lpga': 8836, 'freeman': 8837, 'ugly': 8838, 'associations': 8839, 'meal': 8840, 'lure': 8841, 'diamonds': 8842, 'heathrow': 8843, 'lewd': 8844, 'sinks': 8845, 'collides': 8846, 'halts': 8847, 'forests': 8848, 'schalke': 8849, 'designers': 8850, 'smartrend': 8851, 'candlestick': 8852, 'engulfing': 8853, 'pill': 8854, 'impaired': 8855, 'deadliest': 8856, 'condolences': 8857, 'ramesh': 8858, 'washing': 8859, 'prevented': 8860, 'socialist': 8861, 'sealed': 8862, 'voiced': 8863, 'commenced': 8864, 'lin': 8865, 'filmed': 8866, 'pilgrim': 8867, 'reversing': 8868, 'principles': 8869, 'osborne': 8870, 'focuses': 8871, 'assurance': 8872, 'panetta': 8873, 'filling': 8874, 'pictured': 8875, 'switching': 8876, 'guaranteed': 8877, 'musicians': 8878, 'sewage': 8879, 'crossings': 8880, 'brace': 8881, 'solicitor': 8882, '117': 8883, 'courteney': 8884, 'appalachian': 8885, 'expressing': 8886, 'mideast': 8887, 'jindal': 8888, 'passion': 8889, 'cornwall': 8890, 'acre': 8891, 'copa': 8892, 'polanski': 8893, 'heated': 8894, 'except': 8895, 'unlawful': 8896, 'apollo': 8897, 'menu': 8898, 'clara': 8899, 'braced': 8900, 'vow': 8901, 'burglars': 8902, 'issuer': 8903, 'twelve': 8904, 'incredible': 8905, 'arch': 8906, 'lowering': 8907, 'roddick': 8908, 'harder': 8909, 'hurley': 8910, 'interviewed': 8911, 'partnerships': 8912, 'manufacture': 8913, 'loyal': 8914, 'breakaway': 8915, 'anticipation': 8916, 'mood': 8917, 'viktor': 8918, 'worlds': 8919, 'enrollment': 8920, 'integrate': 8921, 'astana': 8922, 'buck': 8923, 'psychiatric': 8924, 'homage': 8925, 'halftime': 8926, 'flats': 8927, 'fayetteville': 8928, 'decreased': 8929, 'carlyle': 8930, 'aides': 8931, 'stakeholders': 8932, 'martha': 8933, 'ole': 8934, 'grammer': 8935, '190': 8936, 'types': 8937, 'erin': 8938, 'comics': 8939, 'expression': 8940, 'spying': 8941, 'chattanooga': 8942, 'reshuffle': 8943, 'miracle': 8944, 'auditor': 8945, 'tall': 8946, 'tune': 8947, 'boca': 8948, 'turtle': 8949, 'sack': 8950, 'greens': 8951, 'iranians': 8952, 'detect': 8953, 'efron': 8954, '1960s': 8955, 'cork': 8956, 'usher': 8957, 'pacers': 8958, 'taxation': 8959, 'balloon': 8960, 'frequent': 8961, 'norms': 8962, 'animated': 8963, 'stuff': 8964, 'norton': 8965, 'cairn': 8966, 'accelerate': 8967, 'automakers': 8968, 'interbank': 8969, 'duet': 8970, 'ubisoft': 8971, 'experiencing': 8972, 'byrne': 8973, 'keegan': 8974, 'gainesville': 8975, 'wives': 8976, 'restoring': 8977, 'listen': 8978, 'mickey': 8979, 'seth': 8980, 'root': 8981, 'beverage': 8982, 'crushing': 8983, 'cannes': 8984, 'cheese': 8985, 'bullets': 8986, 'tori': 8987, 'kochi': 8988, 'whip': 8989, 'shelves': 8990, 'builds': 8991, 'relegated': 8992, 'g20': 8993, 'shahbaz': 8994, 'pile': 8995, 'benz': 8996, 'languages': 8997, 'affirms': 8998, 'touches': 8999, 'upsets': 9000, 'surges': 9001, 'multimedia': 9002, 'halfway': 9003, 'payable': 9004, 'ancelotti': 9005, 'sort': 9006, 'hospice': 9007, 'measuring': 9008, 'homer': 9009, 'suarez': 9010, 'amendments': 9011, 'architecture': 9012, 'pac': 9013, 'bolivia': 9014, 'bruised': 9015, 'basket': 9016, 'cry': 9017, 'kaif': 9018, 'devon': 9019, 'staples': 9020, 'brigade': 9021, 'hacker': 9022, 'southampton': 9023, 'dangers': 9024, 'addict': 9025, 'powder': 9026, 'hawke': 9027, 'keane': 9028, 'commemorate': 9029, 'yusuf': 9030, '2018': 9031, 'deeply': 9032, 'bidding': 9033, 'im': 9034, 'nagorno': 9035, 'unmanned': 9036, 'module': 9037, 'conditioning': 9038, 'ft': 9039, 'wba': 9040, 'topeka': 9041, 'misleading': 9042, 'pitched': 9043, 'commitments': 9044, 'absolute': 9045, 'relocate': 9046, 'mediterranean': 9047, 'panda': 9048, 'acceptance': 9049, 'nicholas': 9050, 'vmware': 9051, 'virtualization': 9052, 'seemed': 9053, 'diverted': 9054, 'huawei': 9055, 'berkshire': 9056, 'jerome': 9057, 'downing': 9058, 'paternity': 9059, 'biotechnology': 9060, 'imperial': 9061, 'fabrice': 9062, 'chatham': 9063, 'ariz': 9064, 'align': 9065, 'marseille': 9066, 'closures': 9067, 'apartheid': 9068, 'deepening': 9069, 'wonderful': 9070, 'donating': 9071, 'gosling': 9072, 'intoxicated': 9073, 'flint': 9074, 'achieving': 9075, 'employed': 9076, 'tna': 9077, 'attached': 9078, 'basu': 9079, 'legally': 9080, 'eminem': 9081, 'reinstate': 9082, 'movements': 9083, 'yankee': 9084, 'chasing': 9085, 'sight': 9086, 'luxembourg': 9087, 'phillip': 9088, '90th': 9089, 'magistrates': 9090, 'bacteria': 9091, 'preventing': 9092, 'ossetia': 9093, 'ordinance': 9094, 'please': 9095, 'hung': 9096, 'sas': 9097, 'consolidated': 9098, 'smooth': 9099, 'qualcomm': 9100, 'killers': 9101, 'tory': 9102, 'denny': 9103, 'directions': 9104, 'sargsyan': 9105, 'conjunction': 9106, 'batman': 9107, 'spacecraft': 9108, 'lifeline': 9109, 'trauma': 9110, 'patrols': 9111, 'landscape': 9112, 'intimate': 9113, 'sainsbury': 9114, 'vegetables': 9115, 'unsecured': 9116, 'venus': 9117, 'transfers': 9118, 'manufactured': 9119, 'condemn': 9120, 'patriotic': 9121, 'disqualified': 9122, 'exceeded': 9123, 'reelection': 9124, 'prostitute': 9125, 'prisons': 9126, 'aust': 9127, 'donovan': 9128, 'schoolgirl': 9129, 'nda': 9130, 'hiked': 9131, 'stockton': 9132, 'concentrate': 9133, 'bald': 9134, 'clijsters': 9135, 'drones': 9136, 'leaf': 9137, 'monkey': 9138, 'umpire': 9139, 'dish': 9140, 'finalist': 9141, 'arthritis': 9142, 'postpone': 9143, 'refuse': 9144, 'fibre': 9145, 'comply': 9146, 'timor': 9147, 'perdue': 9148, 'basement': 9149, 'initiates': 9150, 'cameroon': 9151, 'macon': 9152, 'salesforce': 9153, 'punish': 9154, 'lufthansa': 9155, 'loyalty': 9156, 'hulk': 9157, 'baxter': 9158, 'lotus': 9159, 'fergie': 9160, 'overturns': 9161, 'sylvester': 9162, 'buenos': 9163, 'aires': 9164, 'ins': 9165, 'mosley': 9166, 'confiscated': 9167, 'tide': 9168, 'corey': 9169, 'downward': 9170, 'quietly': 9171, 'demonstrated': 9172, 'con': 9173, 'bursa': 9174, 'kyiv': 9175, 'nordic': 9176, 'beck': 9177, 'connecting': 9178, 'cleanup': 9179, 'outskirts': 9180, 'perspective': 9181, 'shelters': 9182, 'graffiti': 9183, 'cables': 9184, 'vetoes': 9185, 'aggression': 9186, 'opt': 9187, 'precision': 9188, 'aerial': 9189, 'aquarium': 9190, 'ratio': 9191, 'tab': 9192, 'acc': 9193, 'tables': 9194, 'byrd': 9195, 'console': 9196, 'outrage': 9197, 'polio': 9198, 'diversity': 9199, 'opposing': 9200, 'ordering': 9201, 'enrichment': 9202, 'tense': 9203, 'paribas': 9204, 'speakers': 9205, 'dismal': 9206, 'breached': 9207, 'cooling': 9208, 'bethlehem': 9209, 'surfaced': 9210, 'expenditure': 9211, 'guided': 9212, 'dust': 9213, 'debit': 9214, 'blown': 9215, 'triggering': 9216, 'paving': 9217, 'indicate': 9218, 'dismiss': 9219, 'liga': 9220, 'waiver': 9221, 'respective': 9222, 'surrounded': 9223, 'grizzlies': 9224, 'latter': 9225, 'garda': 9226, 'dressing': 9227, 'ipads': 9228, 'beau': 9229, 'elena': 9230, 'janeiro': 9231, 'petraeus': 9232, 'shakespeare': 9233, 'lords': 9234, 'bash': 9235, 'consultations': 9236, 'royce': 9237, 'scherzinger': 9238, 'inform': 9239, 'favourites': 9240, 'donna': 9241, 'pavilion': 9242, 'fantastic': 9243, 'tbilisi': 9244, 'ideal': 9245, 'northampton': 9246, 'commentator': 9247, 'amar': 9248, 'evolution': 9249, 'amended': 9250, 'mellon': 9251, 'junk': 9252, 'penske': 9253, 'middlesbrough': 9254, 'ilham': 9255, 'lesson': 9256, 'cory': 9257, 'meyer': 9258, 'expires': 9259, 'reviewed': 9260, 'kara': 9261, 'qpr': 9262, 'mickelson': 9263, 'flowers': 9264, 'jokes': 9265, 'venues': 9266, 'casual': 9267, 'humane': 9268, 'emily': 9269, 'gabor': 9270, 'solomon': 9271, 'emission': 9272, 'rotary': 9273, 'cis': 9274, 'scenario': 9275, 'polk': 9276, 'wrestler': 9277, 'saskatoon': 9278, 'colonel': 9279, 'iris': 9280, 'eclipse': 9281, 'fx': 9282, 'containers': 9283, 'journalism': 9284, 'consultants': 9285, 'exported': 9286, 'huckabee': 9287, 'iv': 9288, 'tumour': 9289, 'caterpillar': 9290, '103': 9291, 'grab': 9292, 'oversight': 9293, 'hudgens': 9294, 'column': 9295, 'ala': 9296, '270': 9297, 'relevant': 9298, 'therapeutics': 9299, 'inevitable': 9300, 'spirits': 9301, 'elk': 9302, 'wears': 9303, 'frustrated': 9304, 'tariff': 9305, 'hottest': 9306, 'savage': 9307, 'fiction': 9308, 'handful': 9309, 'cancellation': 9310, 'settlers': 9311, 'ain': 9312, 'eastman': 9313, 'sgt': 9314, 'lille': 9315, 'boone': 9316, 'unwanted': 9317, 'cautioned': 9318, 'sonic': 9319, 'visitor': 9320, 'driveway': 9321, 'merit': 9322, 'reads': 9323, 'sonoma': 9324, 'sheep': 9325, 'prakash': 9326, 'lend': 9327, 'continuous': 9328, 'generally': 9329, 'wbo': 9330, 'legion': 9331, 'meningitis': 9332, 'stafford': 9333, 'mounted': 9334, 'rodham': 9335, 'headlines': 9336, 'marcos': 9337, 'reaffirmed': 9338, 'deficits': 9339, 'julius': 9340, 'raceway': 9341, 'caf': 9342, 'contributed': 9343, 'gerald': 9344, 'moammar': 9345, 'belarusian': 9346, 'embezzling': 9347, 'flows': 9348, 'cambodian': 9349, 'budapest': 9350, 'sword': 9351, 'cows': 9352, 'salisbury': 9353, 'herbert': 9354, 'mahama': 9355, 'background': 9356, 'flintoff': 9357, 'collaborate': 9358, 'worry': 9359, 'territories': 9360, 'wealthy': 9361, 'footage': 9362, 'straw': 9363, 'premiums': 9364, 'tenure': 9365, 'prolific': 9366, 'furious': 9367, 'kissing': 9368, 'interface': 9369, 'vigil': 9370, 'rides': 9371, 'felonies': 9372, 'chhattisgarh': 9373, 'leinster': 9374, 'machinery': 9375, 'climbs': 9376, 'salvador': 9377, 'disrupt': 9378, 'mahendra': 9379, 'mentioned': 9380, 'usually': 9381, 'intensify': 9382, 'aliens': 9383, 'snake': 9384, 'conspiring': 9385, 'jackman': 9386, 'geo': 9387, 'honoring': 9388, 'booth': 9389, 'inflows': 9390, 'fontana': 9391, 'conflicts': 9392, 'scholarships': 9393, 'shakes': 9394, 'canadiens': 9395, 'indication': 9396, 'boot': 9397, 'bicyclist': 9398, '31st': 9399, 'crosses': 9400, 'jo': 9401, 'dannii': 9402, 'bronx': 9403, 'madden': 9404, 'guild': 9405, 'jenner': 9406, 'eyeing': 9407, 'prof': 9408, 'orthodox': 9409, 'libraries': 9410, 'lethal': 9411, 'swimmers': 9412, 'seizes': 9413, 'nominates': 9414, '115': 9415, 'amend': 9416, 'dirt': 9417, 'communal': 9418, 'hitler': 9419, 'anz': 9420, 'substitute': 9421, 'rbs': 9422, 'marshal': 9423, 'switched': 9424, 'actual': 9425, 'toni': 9426, 'forget': 9427, '106': 9428, 'berkeley': 9429, 'labrador': 9430, 'aer': 9431, 'connectivity': 9432, 'touchdown': 9433, 'evil': 9434, 'bi': 9435, 'gangs': 9436, 'prasad': 9437, 'pared': 9438, 'finalists': 9439, 'dwight': 9440, '109': 9441, 'gloria': 9442, 'asda': 9443, 'antarctica': 9444, 'mitch': 9445, 'ark': 9446, 'holes': 9447, 'teamed': 9448, 'roland': 9449, '27th': 9450, 'exist': 9451, 'smallest': 9452, 'shirley': 9453, 'gareth': 9454, 'bloom': 9455, 'kickoff': 9456, 'apprentice': 9457, 'byron': 9458, 'digit': 9459, 'submarine': 9460, 'swimmer': 9461, 'tired': 9462, 'tripura': 9463, 'establishes': 9464, 'negotiators': 9465, 'whales': 9466, 'competitors': 9467, 'relieved': 9468, 'reply': 9469, 'noah': 9470, 'vegetable': 9471, 'gervais': 9472, 'mourning': 9473, 'deemed': 9474, 'enables': 9475, 'blocking': 9476, 'technological': 9477, 'applying': 9478, 'obstruction': 9479, 'shropshire': 9480, 'dominant': 9481, 'jupiter': 9482, 'trainers': 9483, 'roanoke': 9484, 'chandler': 9485, 'object': 9486, 'primarily': 9487, 'advocacy': 9488, 'atp': 9489, 'psychological': 9490, 'cheat': 9491, 'plagued': 9492, 'closet': 9493, 'bon': 9494, 'steele': 9495, 'rabies': 9496, 'webcast': 9497, 'truce': 9498, 'aground': 9499, 'shilpa': 9500, 'cafe': 9501, 'cruces': 9502, 'runaway': 9503, 'nairobi': 9504, 'usage': 9505, 'icahn': 9506, 'xavier': 9507, 'slaying': 9508, 'wee': 9509, 'noida': 9510, 'goalless': 9511, 'candidacy': 9512, 'thirds': 9513, 'fiancee': 9514, 'lithuania': 9515, 'marilyn': 9516, 'extortion': 9517, 'jam': 9518, 'senegal': 9519, 'sr': 9520, 'tongue': 9521, 'penelope': 9522, 'honeymoon': 9523, 'licensed': 9524, 'rejecting': 9525, 'pt': 9526, 'approvals': 9527, 'shotgun': 9528, 'sania': 9529, 'beam': 9530, 'seafood': 9531, 'knightley': 9532, 'lorenzo': 9533, 'benghazi': 9534, 'jihad': 9535, 'averages': 9536, 'properly': 9537, 'multinational': 9538, 'taxpayer': 9539, 'sonny': 9540, 'weighing': 9541, 'staging': 9542, 'recognizes': 9543, '145': 9544, 'granting': 9545, 'spared': 9546, 'tesla': 9547, 'memoir': 9548, 'twist': 9549, 'dispatch': 9550, 'ravi': 9551, 'slalom': 9552, 'ignored': 9553, 'atmosphere': 9554, 'niger': 9555, 'bucharest': 9556, 'revoked': 9557, 'sci': 9558, 'oriental': 9559, 'tolerance': 9560, 'harley': 9561, 'regularly': 9562, 'deliveries': 9563, 'carla': 9564, 'gupta': 9565, 'wta': 9566, 'frederick': 9567, 'patna': 9568, 'frame': 9569, 'sutherland': 9570, 'coli': 9571, 'nod': 9572, 'brutally': 9573, '1997': 9574, 'loving': 9575, 'undefeated': 9576, 'credentials': 9577, 'unlimited': 9578, 'papua': 9579, 'cult': 9580, 'grip': 9581, 'sights': 9582, 'sanctuary': 9583, 'mistress': 9584, 'settlements': 9585, 'cellphone': 9586, 'phelps': 9587, 'insurgency': 9588, 'rita': 9589, 'ballet': 9590, 'gymnastics': 9591, 'kandahar': 9592, 'counseling': 9593, 'doncaster': 9594, 'ivan': 9595, 'secretariat': 9596, 'norris': 9597, 'sufficient': 9598, '1970s': 9599, 'breaches': 9600, 'mirren': 9601, 'hydro': 9602, 'inaugurates': 9603, 'polo': 9604, 'seasonally': 9605, 'tacoma': 9606, 'wardrobe': 9607, 'balochistan': 9608, 'rings': 9609, 'hobbit': 9610, 'garrett': 9611, 'recruits': 9612, 'duluth': 9613, 'lingering': 9614, 'knockout': 9615, '787': 9616, 'slept': 9617, 'interaction': 9618, 'expired': 9619, 'upstate': 9620, 'slipping': 9621, 'lieberman': 9622, 'bogus': 9623, 'mastercard': 9624, 'correction': 9625, 'edwin': 9626, 'follows': 9627, 'chooses': 9628, 'emmanuel': 9629, 'exams': 9630, 'situations': 9631, 'clint': 9632, 'downside': 9633, 'tore': 9634, 'vaccination': 9635, 'concession': 9636, 'persian': 9637, '26th': 9638, 'composition': 9639, 'isolated': 9640, 'cialis': 9641, 'gangster': 9642, 'ra': 9643, 'limerick': 9644, 'candy': 9645, 'wore': 9646, 'bj': 9647, 'farmington': 9648, 'yanukovych': 9649, 'maestro': 9650, 'consistent': 9651, 'waterfront': 9652, 'lit': 9653, 'weston': 9654, 'affects': 9655, 'nordstrom': 9656, 'rubbish': 9657, 'shooter': 9658, 'unnamed': 9659, 'peterborough': 9660, 'ul': 9661, 'hk': 9662, 'groundbreaking': 9663, 'detain': 9664, 'strongest': 9665, 'heineken': 9666, 'conway': 9667, 'akbar': 9668, 'robinho': 9669, 'publicity': 9670, 'santander': 9671, 'surviving': 9672, 'voices': 9673, 'millennium': 9674, 'cutler': 9675, 'julio': 9676, 'educators': 9677, 'macy': 9678, 'prom': 9679, 'waziristan': 9680, 'drogba': 9681, 'hon': 9682, 'influenza': 9683, 'fundamental': 9684, 'supplying': 9685, 'nv': 9686, 'sliding': 9687, 'defenceman': 9688, 'entirely': 9689, 'shrinking': 9690, 'autonomous': 9691, 'belief': 9692, 'soup': 9693, 'provisional': 9694, 'jacobs': 9695, 'corporations': 9696, 'controllers': 9697, 'maori': 9698, 'stab': 9699, 'politically': 9700, 'pearson': 9701, 'rejoin': 9702, 'confidential': 9703, 'chi': 9704, 'synthetic': 9705, 'promotional': 9706, 'deepen': 9707, 'capability': 9708, 'guarantees': 9709, 'sticks': 9710, 'lobbying': 9711, 'bassist': 9712, 'asheville': 9713, 'regret': 9714, 'iftikhar': 9715, 'pearce': 9716, 'deere': 9717, 'distributors': 9718, 'bigg': 9719, 'brilliant': 9720, 'farrell': 9721, 'sheila': 9722, 'defined': 9723, 'aishwarya': 9724, 'limiting': 9725, 'everyday': 9726, 'eastenders': 9727, 'fluid': 9728, 'mistakenly': 9729, 'feelings': 9730, 'peacekeepers': 9731, 'stan': 9732, 'cubic': 9733, 'snooki': 9734, 'offenses': 9735, 'tortured': 9736, 'victories': 9737, 'knifepoint': 9738, 'nl': 9739, 'bachelor': 9740, 'drowning': 9741, 'ramadan': 9742, 'pr': 9743, 'bikini': 9744, 'pleas': 9745, 'widening': 9746, 'mouse': 9747, 'paramedics': 9748, 'sectarian': 9749, 'shea': 9750, 'cleaner': 9751, 'murderer': 9752, 'forged': 9753, 'jill': 9754, 'carney': 9755, 'comcast': 9756, 'protocol': 9757, 'seacrest': 9758, 'emc': 9759, 'najib': 9760, 'wrongly': 9761, 'pistons': 9762, 'courtesy': 9763, 'locally': 9764, 'flexibility': 9765, 'tyre': 9766, 'aviva': 9767, 'knowles': 9768, 'dev': 9769, 'globes': 9770, 'superhero': 9771, 'hints': 9772, 'dynamic': 9773, '100m': 9774, 'rapist': 9775, 'inked': 9776, 'mia': 9777, 'condoleezza': 9778, 'explosions': 9779, 'calhoun': 9780, 'surgeons': 9781, 'dragging': 9782, 'reacted': 9783, 'proving': 9784, 'divided': 9785, 'corridor': 9786, 'restive': 9787, 'observe': 9788, 'ventura': 9789, 'facts': 9790, 'reductions': 9791, 'chairperson': 9792, 'carlton': 9793, 'blizzard': 9794, 'arrow': 9795, 'outcomes': 9796, 'cody': 9797, 'tendon': 9798, 'adequate': 9799, 'onboard': 9800, 'christine': 9801, 'francois': 9802, 'israelis': 9803, 'copenhagen': 9804, 'bribe': 9805, 'surgical': 9806, 'aluminium': 9807, 'asbestos': 9808, 'topic': 9809, 'jain': 9810, 'luiz': 9811, 'pardew': 9812, 'trusted': 9813, 'surprisingly': 9814, 'restrict': 9815, 'answered': 9816, 'maid': 9817, 'capsizes': 9818, 'serb': 9819, 'mladic': 9820, 'keynote': 9821, 'unveiling': 9822, 'paddy': 9823, 'jenson': 9824, 'profitable': 9825, 'pf': 9826, 'closest': 9827, 'anxiety': 9828, 'cm': 9829, 'oz': 9830, 'licences': 9831, 'germain': 9832, 'leap': 9833, 'colo': 9834, 'fixture': 9835, 'dmk': 9836, 'importing': 9837, 'apologize': 9838, 'britons': 9839, 'hoax': 9840, 'tainted': 9841, 'therefore': 9842, 'parenthood': 9843, 'tenth': 9844, 'grades': 9845, 'inspiration': 9846, 'trick': 9847, 'cindy': 9848, 'youngster': 9849, 'quad': 9850, 'irs': 9851, 'ajay': 9852, 'memorandum': 9853, 'paulson': 9854, 'overtake': 9855, 'styles': 9856, 'afridi': 9857, 'spinal': 9858, 'kendra': 9859, 'nypd': 9860, 'airstrike': 9861, 'bali': 9862, 'random': 9863, 'cfo': 9864, 'harding': 9865, 'peso': 9866, 'cord': 9867, 'militia': 9868, 'bremen': 9869, 'propaganda': 9870, 'gcc': 9871, 'gears': 9872, 'procter': 9873, 'emerges': 9874, 'bajaj': 9875, 'upholds': 9876, 'horrific': 9877, 'artificial': 9878, 'underlying': 9879, 'chains': 9880, 'lilly': 9881, 'kiev': 9882, 'topless': 9883, 'hatton': 9884, 'lucie': 9885, 'swayze': 9886, 'unesco': 9887, 'classified': 9888, 'deserved': 9889, 'ont': 9890, 'newfoundland': 9891, 'constant': 9892, 'sergei': 9893, 'vocal': 9894, 'airstrikes': 9895, 'cheltenham': 9896, 'vacancies': 9897, 'mahinda': 9898, 'transferring': 9899, 'reopening': 9900, '380': 9901, 'slugger': 9902, 'bosnian': 9903, 'bernardino': 9904, 'degeneres': 9905, 'cartoon': 9906, 'sacred': 9907, 'diplomacy': 9908, 'mates': 9909, 'festivals': 9910, 'middletown': 9911, 'purple': 9912, 'seals': 9913, '2017': 9914, 'mateo': 9915, 'jaime': 9916, 'imagine': 9917, 'fragrance': 9918, 'pupil': 9919, 'naming': 9920, 'jacques': 9921, 'booze': 9922, 'menace': 9923, 'fairbanks': 9924, 'dynamo': 9925, 'improper': 9926, 'hutchison': 9927, 'banquet': 9928, 'berth': 9929, 'darfur': 9930, 'modestly': 9931, 'scope': 9932, 'cardiovascular': 9933, 'broward': 9934, 'incredibly': 9935, 'encourages': 9936, 'dealerships': 9937, 'akhtar': 9938, 'log': 9939, 'eligibility': 9940, 'gibb': 9941, 'hajj': 9942, 'luncheon': 9943, 'raft': 9944, 'timberwolves': 9945, 'amarnath': 9946, 'vogue': 9947, 'mastectomy': 9948, 'hardy': 9949, 'texting': 9950, 'alcoa': 9951, 'tend': 9952, 'lounge': 9953, 'scuffle': 9954, 'click': 9955, 'cit': 9956, 'scratch': 9957, 'bread': 9958, 'categories': 9959, 'stun': 9960, 'kitten': 9961, 'usb': 9962, 'festive': 9963, 'speedy': 9964, 'adverse': 9965, 'plain': 9966, 'lamar': 9967, 'referred': 9968, 'ankara': 9969, 'bean': 9970, 'commenting': 9971, 'snack': 9972, 'assemblyman': 9973, 'socialite': 9974, 'labels': 9975, 'achilles': 9976, 'ethical': 9977, '00th': 9978, 'armenians': 9979, 'articles': 9980, 'horry': 9981, 'mask': 9982, 'marriages': 9983, 'aspects': 9984, 'resolving': 9985, 'lampard': 9986, 'serzh': 9987, 'institutes': 9988, 'africans': 9989, 'noise': 9990, 'granite': 9991, 'motivated': 9992, 'tvs': 9993, 'premieres': 9994, 'sanofi': 9995, 'shifts': 9996, 'spaniard': 9997, 'alligator': 9998, 'glendale': 9999}\n"
     ]
    }
   ],
   "source": [
    "vocab_size = 10_000\n",
    "vocab = vocab_counter.most_common(vocab_size)\n",
    "token_to_id = {word: i for i, (word, _) in enumerate(vocab)}\n",
    "print(token_to_id)"
   ]
  },
  {
   "cell_type": "markdown",
   "metadata": {
    "collapsed": false,
    "pycharm": {
     "name": "#%% md\n"
    }
   },
   "source": [
    "<a name='e4'></a>\n",
    "### Exercise 4: Bag of Words\n",
    "(1p) Here we will create the bag-of-words representation of the sentences. The function will take a single sentence (list of tokens) and return an array of size `vocab_size` with the counts of each word in the vocabulary. The\n",
    "`vocab_size` is calculated as the length of the passed `token_to_id` dictionary. The resulting array should have zeros everywhere but the indices corresponding to the words in the vocabulary where it should have the counts of the words in the sentence. For example, if the sentence is `['fox', 'and', 'deer']` and the vocabulary is `{'fox': 0, 'and': 1, 'deer': 2}`, the resulting array should be `[1, 1, 1]`. If the sentence is `['fox', 'and', 'fox', 'deer']`, the resulting array should be `[2, 1, 1]`."
   ]
  },
  {
   "cell_type": "code",
   "execution_count": 24,
   "metadata": {
    "collapsed": false,
    "pycharm": {
     "name": "#%%\n"
    }
   },
   "outputs": [],
   "source": [
    "def bag_of_words(sentence, token_to_id):\n",
    "    \"\"\"\n",
    "    Creates a bag-of-words representation of the sentence\n",
    "    Args:\n",
    "        sentence: a list of tokens\n",
    "        token_to_id: a dictionary mapping each word to an index in the vocabulary\n",
    "\n",
    "    Returns:: a numpy array of size vocab_size with the counts of each word in the vocabulary\n",
    "\n",
    "    \"\"\"\n",
    "    vocab_size = len(token_to_id)\n",
    "    bow = np.zeros(vocab_size, dtype=int)\n",
    "\n",
    "    ### YOUR CODE HERE\n",
    "    # copilot used when writing the code\n",
    "    for token in sentence:\n",
    "        if token in token_to_id:\n",
    "            index = token_to_id[token]\n",
    "            bow[index] += 1\n",
    "    ### YOUR CODE ENDS HERE\n",
    "\n",
    "    return bow"
   ]
  },
  {
   "cell_type": "markdown",
   "metadata": {
    "collapsed": false,
    "pycharm": {
     "name": "#%% md\n"
    }
   },
   "source": [
    "Let's see how the function works on a single sentence. The output should be a numpy array of size `vocab_size` with the counts of each word in the vocabulary."
   ]
  },
  {
   "cell_type": "code",
   "execution_count": 25,
   "metadata": {
    "collapsed": false,
    "pycharm": {
     "name": "#%%\n"
    }
   },
   "outputs": [
    {
     "name": "stdout",
     "output_type": "stream",
     "text": [
      "Tokenized sentence:\n",
      "['irish', 'families', 'are', 'facing', 'into', 'an', 'horrific', 'year', 'with', 'thousands', 'of', 'euro', 'being', 'added', 'to', 'their', 'food', 'heating', 'and', 'mortgage', 'bills', 'over', 'the', 'next', '12', 'months']\n",
      "Bag of words:\n",
      "[1 1 0 ... 0 0 0]\n",
      "Type of bag of words:\n",
      "<class 'numpy.ndarray'>\n",
      "Shape of bag of words:\n",
      "(10000,)\n",
      "Non-zero elements in bag of words:\n",
      "[   0    1    4    5   10   22   30   32   38   42   60  102  103  201\n",
      "  259  406  584  756  835  909 1178 1493 1583 1679 6419 9877]\n"
     ]
    }
   ],
   "source": [
    "print('Tokenized sentence:')\n",
    "print(tokenized_sentences[0])\n",
    "sentence_bow = bag_of_words(tokenized_sentences[0], token_to_id)\n",
    "\n",
    "print('Bag of words:')\n",
    "print(sentence_bow)\n",
    "print('Type of bag of words:')\n",
    "print(type(sentence_bow))\n",
    "print('Shape of bag of words:')\n",
    "print(sentence_bow.shape)\n",
    "print('Non-zero elements in bag of words:')\n",
    "print(np.nonzero(sentence_bow)[0])"
   ]
  },
  {
   "cell_type": "markdown",
   "metadata": {
    "collapsed": false,
    "pycharm": {
     "name": "#%% md\n"
    }
   },
   "source": [
    "We can also check in detail what words and their counts are in the bag-of-words representation."
   ]
  },
  {
   "cell_type": "code",
   "execution_count": 26,
   "metadata": {
    "collapsed": false,
    "pycharm": {
     "name": "#%%\n"
    }
   },
   "outputs": [
    {
     "name": "stdout",
     "output_type": "stream",
     "text": [
      "Non-zero elements in bag of words:\n",
      "[   0    1    4    5   10   22   30   32   38   42   60  102  103  201\n",
      "  259  406  584  756  835  909 1178 1493 1583 1679 6419 9877]\n",
      "the : 1\n",
      "to : 1\n",
      "of : 1\n",
      "and : 1\n",
      "with : 1\n",
      "an : 1\n",
      "year : 1\n",
      "are : 1\n",
      "their : 1\n",
      "over : 1\n",
      "into : 1\n",
      "being : 1\n",
      "next : 1\n",
      "months : 1\n",
      "12 : 1\n",
      "food : 1\n",
      "facing : 1\n",
      "euro : 1\n",
      "thousands : 1\n",
      "mortgage : 1\n",
      "added : 1\n",
      "bills : 1\n",
      "irish : 1\n",
      "families : 1\n",
      "heating : 1\n",
      "horrific : 1\n"
     ]
    }
   ],
   "source": [
    "sentence_non_zero_bow = np.nonzero(sentence_bow)[0]\n",
    "print('Non-zero elements in bag of words:')\n",
    "print(sentence_non_zero_bow)\n",
    "for i in sentence_non_zero_bow:\n",
    "    print(vocab[i][0], ':', sentence_bow[i])"
   ]
  },
  {
   "cell_type": "markdown",
   "metadata": {
    "collapsed": false,
    "pycharm": {
     "name": "#%% md\n"
    }
   },
   "source": [
    "The following function will apply all the steps we implemented to a single sentence. It returns a bag of words representation that we will use to calculate the similarity between different sentences."
   ]
  },
  {
   "cell_type": "code",
   "execution_count": 27,
   "metadata": {
    "collapsed": false,
    "pycharm": {
     "name": "#%%\n"
    }
   },
   "outputs": [],
   "source": [
    "def embed_text(text, clean_fn, tokenize_fn, embed_fn):\n",
    "    cleaned = clean_fn(text)\n",
    "    tokens = tokenize_fn(cleaned)\n",
    "    embedding = embed_fn(tokens)\n",
    "    return embedding"
   ]
  },
  {
   "cell_type": "markdown",
   "metadata": {
    "collapsed": false,
    "pycharm": {
     "name": "#%% md\n"
    }
   },
   "source": [
    "<a name='e5'></a>\n",
    "### Exercise 5: Cosine Similarity between two vectors\n",
    "\n",
    "(1p) Complete the following function that given any two vectors will compute the cosine similarity. If you don't remember the formula for the cosine similarity, revisit the course material. Notice that the function receives numpy arrays and recall that you can express cosine similarity as a dot product. Use numpy functions to write an efficient implementation."
   ]
  },
  {
   "cell_type": "code",
   "execution_count": 28,
   "metadata": {
    "collapsed": false,
    "pycharm": {
     "name": "#%%\n"
    }
   },
   "outputs": [],
   "source": [
    "def cosine_similarity(vector1, vector2):\n",
    "    \"\"\"\n",
    "    Computes the cosine similarity between two vectors\n",
    "    Args:\n",
    "        vector1: numpy array of the first vector\n",
    "        vector2: numpy array of the second vector\n",
    "\n",
    "    Returns: cosine similarity\n",
    "\n",
    "    \"\"\"\n",
    "    ### YOUR CODE HERE\n",
    "    dot_product = np.dot(vector1, vector2)\n",
    "    # square root of the sum of squares of the vector1\n",
    "    divider = np.sqrt(np.dot(vector1, vector1))*np.sqrt(np.dot(vector2, vector2))\n",
    "    if divider == 0:\n",
    "        return 0.0\n",
    "    else:\n",
    "        return dot_product / divider\n",
    "    ### YOUR CODE ENDS HERE"
   ]
  },
  {
   "cell_type": "code",
   "execution_count": 29,
   "metadata": {
    "collapsed": false,
    "pycharm": {
     "name": "#%%\n"
    }
   },
   "outputs": [
    {
     "data": {
      "text/plain": [
       "0.9999999999999998"
      ]
     },
     "execution_count": 29,
     "metadata": {},
     "output_type": "execute_result"
    }
   ],
   "source": [
    "cosine_similarity(np.array([0, 1, 2]), np.array([0, 2, 4]))"
   ]
  },
  {
   "cell_type": "code",
   "execution_count": 30,
   "metadata": {
    "collapsed": false,
    "pycharm": {
     "name": "#%%\n"
    }
   },
   "outputs": [
    {
     "name": "stdout",
     "output_type": "stream",
     "text": [
      "Query: fox and deer\n",
      "Cosine Similarity: 0.1826 - Sentence: The quick brown fox jumps over the lazy dog.\n",
      "Cosine Similarity: 0.0000 - Sentence: Some interesting document containin sentences.\n",
      "Cosine Similarity: 0.3086 - Sentence: The quick brown fox jumps over the lazy cat and some other stuff.\n",
      "Cosine Similarity: 0.7071 - Sentence: Fox and deer are not friends.\n",
      "Cosine Similarity: 0.3961 - Sentence: Fox and deer are not friends. But this document is a lot longer than the previous one. We can add sentence by sentence and see how the embeddings change.\n"
     ]
    }
   ],
   "source": [
    "sentences = [\n",
    "    'The quick brown fox jumps over the lazy dog.',\n",
    "    'Some interesting document containin sentences.',\n",
    "    'The quick brown fox jumps over the lazy cat and some other stuff.',\n",
    "    'Fox and deer are not friends.',\n",
    "    'Fox and deer are not friends. But this document is a lot longer than the previous one. We can add sentence by sentence and see how the embeddings change.',\n",
    "]\n",
    "embedded_sentences = [\n",
    "    embed_text(sentence, clean, tokenize, lambda x: bag_of_words(x, token_to_id))\n",
    "    for sentence in sentences\n",
    "]\n",
    "\n",
    "query = 'fox and deer'\n",
    "embedded_query = embed_text(query, clean, tokenize, lambda x: bag_of_words(x, token_to_id))\n",
    "\n",
    "cosine_similarities = [\n",
    "    cosine_similarity(embedded_query, embedded_sentence)\n",
    "    for embedded_sentence in embedded_sentences\n",
    "]\n",
    "print(f'Query: {query}')\n",
    "for sent, cos_sim in zip(sentences, cosine_similarities):\n",
    "    print(f'Cosine Similarity: {cos_sim:.4f} - Sentence: {sent}')"
   ]
  },
  {
   "cell_type": "markdown",
   "metadata": {
    "collapsed": false,
    "pycharm": {
     "name": "#%% md\n"
    }
   },
   "source": [
    "We will apply the function to the whole dataset. This might take a while, so be patient. The result will be stored in the `sentence_bow` and `compressed_bow` fields of the dataset."
   ]
  },
  {
   "cell_type": "code",
   "execution_count": 31,
   "metadata": {
    "collapsed": false,
    "pycharm": {
     "name": "#%%\n"
    }
   },
   "outputs": [],
   "source": [
    "def bag_of_words_dataset(example):\n",
    "    \"\"\"\n",
    "    Creates a bag-of-words representation of the sentence and compressed sentence in the example from the Dataset\n",
    "    Args:\n",
    "        example: an example from the Dataset\n",
    "\n",
    "    Returns: updated example with 'sentence_bow' and 'compressed_bow' columns\n",
    "\n",
    "    \"\"\"\n",
    "    sentence_tokens = example['sentence_tokens']\n",
    "    compressed_tokens = example['compressed_tokens']\n",
    "\n",
    "    sentence_bow = bag_of_words(sentence_tokens, token_to_id)\n",
    "    compressed_bow = bag_of_words(compressed_tokens, token_to_id)\n",
    "\n",
    "    example['sentence_bow'] = sentence_bow\n",
    "    example['compressed_bow'] = compressed_bow\n",
    "    return example"
   ]
  },
  {
   "cell_type": "markdown",
   "metadata": {
    "collapsed": false,
    "pycharm": {
     "name": "#%% md\n"
    }
   },
   "source": [
    "The following cell will apply the function to the whole dataset. The result will be stored in the `sentence_bow` and `compressed_bow` fields of the dataset. We will also convert the dataset's fields `sentence_bow` and `compressed_bow` to numpy format for easier manipulation."
   ]
  },
  {
   "cell_type": "code",
   "execution_count": 32,
   "metadata": {
    "collapsed": false,
    "pycharm": {
     "name": "#%%\n"
    }
   },
   "outputs": [
    {
     "data": {
      "application/vnd.jupyter.widget-view+json": {
       "model_id": "d640c05c93654c1b8c40f8c56996f4fb",
       "version_major": 2,
       "version_minor": 0
      },
      "text/plain": [
       "Map:   0%|          | 0/36000 [00:00<?, ? examples/s]"
      ]
     },
     "metadata": {},
     "output_type": "display_data"
    },
    {
     "name": "stdout",
     "output_type": "stream",
     "text": [
      "Dataset({\n",
      "    features: ['set', 'clean_sentence', 'clean_compressed', 'sentence_tokens', 'compressed_tokens', 'sentence_bow', 'compressed_bow'],\n",
      "    num_rows: 36000\n",
      "})\n"
     ]
    }
   ],
   "source": [
    "test_ds = split_ds['test'].map(bag_of_words_dataset)\n",
    "test_ds = test_ds.with_format('np', columns=['sentence_bow', 'compressed_bow'], dtype=float)\n",
    "print(test_ds)"
   ]
  },
  {
   "cell_type": "markdown",
   "metadata": {
    "collapsed": false,
    "pycharm": {
     "name": "#%% md\n"
    }
   },
   "source": [
    "Let's check the results. The `sentence_bow` and `compressed_bow` fields should contain the bag-of-words representation of the sentences and compressed sentences, respectively."
   ]
  },
  {
   "cell_type": "code",
   "execution_count": 33,
   "metadata": {
    "collapsed": false,
    "pycharm": {
     "name": "#%%\n"
    }
   },
   "outputs": [
    {
     "name": "stdout",
     "output_type": "stream",
     "text": [
      "{'sentence_bow': array([1., 0., 0., ..., 0., 0., 0.]), 'compressed_bow': array([0., 0., 0., ..., 0., 0., 0.])}\n"
     ]
    }
   ],
   "source": [
    "print(test_ds[0])"
   ]
  },
  {
   "cell_type": "code",
   "execution_count": 35,
   "metadata": {
    "collapsed": false,
    "pycharm": {
     "name": "#%%\n"
    }
   },
   "outputs": [
    {
     "name": "stdout",
     "output_type": "stream",
     "text": [
      "(36000, 10000)\n"
     ]
    }
   ],
   "source": [
    "sentences_bows = test_ds['sentence_bow']\n",
    "print(sentences_bows.shape)"
   ]
  },
  {
   "cell_type": "markdown",
   "metadata": {
    "collapsed": false,
    "pycharm": {
     "name": "#%% md\n"
    }
   },
   "source": [
    "Now we can start building a retriever based on the bag of words representation. The first step is to calculate the cosine similarity between two vectors."
   ]
  },
  {
   "cell_type": "markdown",
   "metadata": {
    "collapsed": false,
    "pycharm": {
     "name": "#%% md\n"
    }
   },
   "source": [
    "<a name='e6'></a>\n",
    "### Exercise 6: Cosine Similarity between a vector and an array of vectors\n",
    "\n",
    "(2p) The next step in our retrieval system, would be to calculate the proximity of a query to our retrieval corpus (in our case that is all the sentences).\n",
    "\n",
    "Complete the following function to calculate the cosine similarity between a vector (first parameter `vector`, that will usually be the query vector) and all other vectors (second parameter `other_vectors`, that will be the sentence embeddings in our case). Note that the `other_vectors` parameter is a single numpy array of size `N x D`, where $N$ is the number of vectors and $D$ is the dimension of each vector.\n",
    "\n",
    "For maximum efficiency (we will need it) do not use loops. Try to write the implementation with numpy functions. Hint: matrix multiplication can be seen as calculating the dot product between rows and columns of the multiplied matrices."
   ]
  },
  {
   "cell_type": "code",
   "execution_count": null,
   "metadata": {
    "id": "LgaV2b3fpSOR",
    "pycharm": {
     "name": "#%%\n"
    }
   },
   "outputs": [],
   "source": [
    "def cosine_similarity_1_to_n(vector, other_vectors):\n",
    "    \"\"\"\n",
    "    Calculates the cosine similarity between a single vector and other vectors.\n",
    "    Args:\n",
    "        vector: a numpy array representing a vector of D dimensions\n",
    "        other_vectors: a 2D numpy array representing other vectors (of the size NxD, where N is the number of vectors and D is their dimension)\n",
    "\n",
    "    Returns: a 1D numpy array of size N containing the cosine similarity between the vector and all the other vectors\n",
    "\n",
    "    \"\"\"\n",
    "\n",
    "    #### YOUR CODE HERE\n",
    "\n",
    "\n",
    "\n",
    "\n",
    "\n",
    "\n",
    "    ### YOUR CODE ENDS HERE"
   ]
  },
  {
   "cell_type": "markdown",
   "metadata": {
    "collapsed": false,
    "id": "irNqAJZLpSOR",
    "pycharm": {
     "name": "#%% md\n"
    }
   },
   "source": [
    "We will use the function to calculate the similarity of all sentences in the dataset to our query."
   ]
  },
  {
   "cell_type": "code",
   "execution_count": null,
   "metadata": {
    "collapsed": false,
    "pycharm": {
     "name": "#%%\n"
    }
   },
   "outputs": [],
   "source": [
    "query = 'fox and deer'\n",
    "embedded_query = embed_text(query, clean, tokenize, lambda x: bag_of_words(x, token_to_id))"
   ]
  },
  {
   "cell_type": "code",
   "execution_count": null,
   "metadata": {
    "id": "uD9mVAhYpSOR",
    "pycharm": {
     "name": "#%%\n"
    }
   },
   "outputs": [],
   "source": [
    "query_similarity = cosine_similarity_1_to_n(embedded_query, sentences_bows)\n",
    "print(query_similarity.shape)\n",
    "print(query_similarity[:10])"
   ]
  },
  {
   "cell_type": "markdown",
   "metadata": {
    "collapsed": false,
    "id": "_l3erVTNpSOR",
    "pycharm": {
     "name": "#%% md\n"
    }
   },
   "source": [
    "The following cell will select the most similar sentence."
   ]
  },
  {
   "cell_type": "code",
   "execution_count": null,
   "metadata": {
    "id": "0wWa4AWHpSOR",
    "pycharm": {
     "name": "#%%\n"
    }
   },
   "outputs": [],
   "source": [
    "most_similar = int(np.argmax(query_similarity))\n",
    "print(most_similar)\n",
    "print(query_similarity[most_similar])\n",
    "print(split_ds['test'][most_similar]['set'][0])"
   ]
  },
  {
   "cell_type": "markdown",
   "metadata": {
    "collapsed": false,
    "id": "fpdJHFD1pSOR",
    "pycharm": {
     "name": "#%% md\n"
    }
   },
   "source": [
    "The following function will return the indices of the top-k elements in the array."
   ]
  },
  {
   "cell_type": "code",
   "execution_count": null,
   "metadata": {
    "id": "QFUNI9elpSOS",
    "pycharm": {
     "name": "#%%\n"
    }
   },
   "outputs": [],
   "source": [
    "def top_k_indices(array, k, sorted=True):\n",
    "    \"\"\"\n",
    "    Returns top-k indices from the 1D array. If `sorted` is `True` the returned indices are sorted in the descending order\n",
    "    Args:\n",
    "        array: a 1D numpy array\n",
    "        k: a number of top indices to return\n",
    "        sorted: if True, the returned indices are sorted in descending order\n",
    "\n",
    "    Returns: a 1D array containing top-k indices\n",
    "\n",
    "    \"\"\"\n",
    "    top_k = np.argpartition(array, -k)[-k:]\n",
    "    if sorted:\n",
    "        selected = array[top_k]\n",
    "        sorted_selected = (-selected).argsort()\n",
    "        top_k = top_k[sorted_selected]\n",
    "    return top_k"
   ]
  },
  {
   "cell_type": "code",
   "execution_count": null,
   "metadata": {
    "id": "nY8vvJdepSOS",
    "pycharm": {
     "name": "#%%\n"
    }
   },
   "outputs": [],
   "source": [
    "top_indices = top_k_indices(query_similarity, k=10).tolist()\n",
    "for idx in top_indices:\n",
    "    print(split_ds['test'][idx]['set'][0])\n",
    "    print(f'similarity: {query_similarity[idx]}')"
   ]
  },
  {
   "cell_type": "markdown",
   "metadata": {
    "collapsed": false,
    "id": "BuRI2JzQpSOS",
    "pycharm": {
     "name": "#%% md\n"
    }
   },
   "source": [
    "<a name='e7'></a>\n",
    "### Exercise 7: Analyzing and improving BOW search results\n",
    "\n",
    "Experiment with different queries (taking into account the nature of the dataset and your insights from the analysis so far).\n",
    "Answer the following questions:\n",
    "- (5p) Does the search perform well? When does it fail? Discuss several examples that are we get an expected but also unexpected results (find at least 3 from each category). Provide reasons for the good/bad result in each case (e.g. is there some error in the data, is there some linguistic phenomenon that we don't capture, is something wrong with our modeling with average embeddings, ...)\n",
    "- (5p) If you see problems with search, how could you improve your implementation? Change the functions above, if you think there is room for improvement. Describe your changes and how they made the search better or (in case you made no changes) explain what made the search robust enough to work well."
   ]
  },
  {
   "cell_type": "code",
   "execution_count": null,
   "metadata": {
    "id": "sEQKHAvcpSOS",
    "pycharm": {
     "name": "#%%\n"
    }
   },
   "outputs": [],
   "source": [
    "#### YOUR CODE HERE\n",
    "\n",
    "\n",
    "\n",
    "### YOUR CODE ENDS HERE"
   ]
  },
  {
   "cell_type": "markdown",
   "metadata": {
    "id": "eiIGTfq6eFI5",
    "pycharm": {
     "name": "#%% md\n"
    }
   },
   "source": [
    "// your comments"
   ]
  },
  {
   "cell_type": "markdown",
   "metadata": {
    "collapsed": false,
    "pycharm": {
     "name": "#%% md\n"
    }
   },
   "source": [
    "## 3. Term Frequency - Inverse Document Frequency (TF-IDF)\n",
    "\n",
    "In this section we will implement the TF-IDF algorithm. While BOW is a simple way to represent the documents, it has some limitations. For example, it does not take into account the importance of each word in the document. TF-IDF representation takes into account the frequency of each word in the document and the frequency of the word in the whole dataset. It is a widely used technique in information retrieval and text mining. Refer to the lecture slides for more details."
   ]
  },
  {
   "cell_type": "markdown",
   "metadata": {
    "collapsed": false,
    "pycharm": {
     "name": "#%% md\n"
    }
   },
   "source": [
    "<a name='e8'></a>\n",
    "### Exercise 8: Inverse Document Frequency (IDF)\n",
    "(5p) In this exercise, you will implement the TF-IDF algorithm. First, calculate Inverse Document Frequency (IDF) for each word in the vocabulary. Intuitively, it is a measure of how informative a word is based on the whole dataset. Consult the lecture slides for the details. The IDF is calculated as follows:\n",
    "$$\n",
    "IDF(t) = log_{10}(N/df(t))$$\n",
    "where $N$ is the total number of documents (sentences) in the dataset and $df(t)$ is the number of documents containing the word $t$.\n"
   ]
  },
  {
   "cell_type": "code",
   "execution_count": null,
   "metadata": {
    "collapsed": false,
    "pycharm": {
     "name": "#%%\n"
    }
   },
   "outputs": [],
   "source": [
    "def calculate_idf(bows):\n",
    "    \"\"\"\n",
    "    Calculates the IDF for each word in the vocabulary\n",
    "    Args:\n",
    "        bows: numpty array of size (N x D) where N is the number of documents and D is the vocabulary size\n",
    "\n",
    "    Returns: a numpy array of size D with IDF values for each token\n",
    "    \"\"\"\n",
    "\n",
    "    ### YOUR CODE HERE\n",
    "\n",
    "\n",
    "\n",
    "    ### YOUR CODE ENDS HERE\n",
    "\n",
    "idf = calculate_idf(sentences_bows)"
   ]
  },
  {
   "cell_type": "markdown",
   "metadata": {
    "collapsed": false,
    "pycharm": {
     "name": "#%% md\n"
    }
   },
   "source": [
    "<a name='e9'></a>\n",
    "### Exercise 9: TF-IDF\n",
    "- (5p) Calculate TF-IDF on the `test` subset of the dataset.\n",
    "- (5p) Analyze the search results based on your implemented TF-IDF. Does the search perform well? When does it fail? Discuss several examples that are we get an expected but also unexpected results (find at least 3 from each category). Provide reasons for the good/bad result in each case (e.g. is there some error in the data, is there some linguistic phenomenon that we don't capture, is something wrong with our modeling with average embeddings, ...)\n",
    "- (5p) Compare the results with the ones you got with the bag-of-words representation. Discuss the differences and similarities. Do you think TF-IDF is a better representation for this task? Why or why not? Provide examples to support your arguments.\n"
   ]
  },
  {
   "cell_type": "code",
   "execution_count": null,
   "metadata": {
    "collapsed": false,
    "pycharm": {
     "name": "#%%\n"
    }
   },
   "outputs": [],
   "source": [
    "### YOUR CODE HERE\n",
    "\n",
    "\n",
    "\n",
    "\n",
    "### YOUR CODE ENDS HERE\n",
    "\n",
    "### YOU CAN ADD MORE CELLS"
   ]
  },
  {
   "cell_type": "markdown",
   "metadata": {
    "collapsed": false,
    "pycharm": {
     "name": "#%% md\n"
    }
   },
   "source": [
    "// your comments"
   ]
  },
  {
   "cell_type": "markdown",
   "metadata": {
    "collapsed": false,
    "pycharm": {
     "name": "#%% md\n"
    }
   },
   "source": [
    "## 4. Word Embeddings\n",
    "\n",
    "In this section you will load the pre-trained word embeddings model - Glove. You can read more about it [here](https://aclanthology.org/D14-1162/) ([https://aclanthology.org/D14-1162/](https://aclanthology.org/D14-1162/)). The embeddings are trained on a large corpus of text and are available in different dimensions. We will start with the dimension of 100, but later you will be asked to experiment with other dimensions.\n",
    "Gensim library maintains a storage containing some pre-trained models. You can read more about it [here](https://github.com/piskvorky/gensim-data) ([https://github.com/piskvorky/gensim-data](https://github.com/piskvorky/gensim-data)). Be sure to read the README of this repository.\n",
    "\n",
    "Let's first load the info of what models are available."
   ]
  },
  {
   "cell_type": "code",
   "execution_count": null,
   "metadata": {
    "collapsed": false,
    "pycharm": {
     "name": "#%%\n"
    }
   },
   "outputs": [],
   "source": [
    "import json\n",
    "import gensim.downloader as api\n",
    "\n",
    "info = api.info()  # show info about available models/datasets\n",
    "print(json.dumps(info['models'], indent=2))"
   ]
  },
  {
   "cell_type": "code",
   "execution_count": null,
   "metadata": {
    "collapsed": false,
    "pycharm": {
     "name": "#%%\n"
    }
   },
   "outputs": [],
   "source": [
    "glove_model = api.load(\"glove-wiki-gigaword-100\")"
   ]
  },
  {
   "cell_type": "markdown",
   "metadata": {
    "collapsed": false,
    "pycharm": {
     "name": "#%% md\n"
    }
   },
   "source": [
    "We can use the loaded model's `key_to_index` attribute to retrieve the whole vocabulary (aka for how many words we learned embeddings for)."
   ]
  },
  {
   "cell_type": "code",
   "execution_count": null,
   "metadata": {
    "collapsed": false,
    "pycharm": {
     "name": "#%%\n"
    }
   },
   "outputs": [],
   "source": [
    "vocab = list(glove_model.key_to_index)\n",
    "print(len(vocab))"
   ]
  },
  {
   "cell_type": "markdown",
   "metadata": {
    "collapsed": false,
    "pycharm": {
     "name": "#%% md\n"
    }
   },
   "source": [
    "Let's explore a bit further the embeddings. In the following cells, the embedding of a single word is returned. Double-check the dimensions (as sanity check). This is like inspecting the `W` matrix (weights) that we discussed in the lecture."
   ]
  },
  {
   "cell_type": "code",
   "execution_count": null,
   "metadata": {
    "collapsed": false,
    "pycharm": {
     "name": "#%%\n"
    }
   },
   "outputs": [],
   "source": [
    "# vector of a particular model. note that it is 100 dimensional as specified.\n",
    "glove_model['what']"
   ]
  },
  {
   "cell_type": "markdown",
   "metadata": {
    "collapsed": false,
    "pycharm": {
     "name": "#%% md\n"
    }
   },
   "source": [
    "Gensim objects offers different methods to easily run very common tasks. For example, there are different functions to find the most similar words.\n",
    "\n",
    "Check the documentation on how [`most_similar`](https://tedboy.github.io/nlps/generated/generated/gensim.models.Word2Vec.most_similar.html) and [`similar_by_word`](https://tedboy.github.io/nlps/generated/generated/gensim.models.Word2Vec.similar_by_word.html) can be used."
   ]
  },
  {
   "cell_type": "code",
   "execution_count": null,
   "metadata": {
    "collapsed": false,
    "pycharm": {
     "name": "#%%\n"
    }
   },
   "outputs": [],
   "source": [
    "# most similar words to a given word\n",
    "print(glove_model.most_similar('what', topn=10))\n",
    "\n",
    "# also u can use\n",
    "print(glove_model.similar_by_word('miss', topn=5))"
   ]
  },
  {
   "cell_type": "code",
   "execution_count": null,
   "metadata": {
    "collapsed": false,
    "pycharm": {
     "name": "#%%\n"
    }
   },
   "outputs": [],
   "source": [
    "print(glove_model.most_similar('why', topn=10))"
   ]
  },
  {
   "cell_type": "code",
   "execution_count": null,
   "metadata": {
    "collapsed": false,
    "pycharm": {
     "name": "#%%\n"
    }
   },
   "outputs": [],
   "source": [
    "print(glove_model.similar_by_word('who', topn=5))"
   ]
  },
  {
   "cell_type": "markdown",
   "metadata": {
    "collapsed": false,
    "pycharm": {
     "name": "#%% md\n"
    }
   },
   "source": [
    "We can now compare our implementation with the one in the pre-trained model and confirm what we already expected."
   ]
  },
  {
   "cell_type": "code",
   "execution_count": null,
   "metadata": {
    "collapsed": false,
    "pycharm": {
     "name": "#%%\n"
    }
   },
   "outputs": [],
   "source": [
    "# simalarity between two words\n",
    "word1 = 'alive'\n",
    "word2 = 'biology'\n",
    "print(glove_model.similarity(word1, word2))\n",
    "print(cosine_similarity(glove_model[word1], glove_model[word2]))"
   ]
  },
  {
   "cell_type": "code",
   "execution_count": null,
   "metadata": {
    "collapsed": false,
    "pycharm": {
     "name": "#%%\n"
    }
   },
   "outputs": [],
   "source": [
    "# simalarity between two words. similar words\n",
    "word1 = 'alive'\n",
    "word2 = 'life'\n",
    "print(glove_model.similarity(word1, word2))\n",
    "print(cosine_similarity(glove_model[word1], glove_model[word2]))"
   ]
  },
  {
   "cell_type": "code",
   "execution_count": null,
   "metadata": {
    "collapsed": false,
    "pycharm": {
     "name": "#%%\n"
    }
   },
   "outputs": [],
   "source": [
    "# simalarity between two words. dissimilar words\n",
    "word1 = 'alive'\n",
    "word2 = 'dead'\n",
    "print(glove_model.similarity(word1, word2))\n",
    "print(cosine_similarity(glove_model[word1], glove_model[word2]))"
   ]
  },
  {
   "cell_type": "code",
   "execution_count": null,
   "metadata": {
    "collapsed": false,
    "pycharm": {
     "name": "#%%\n"
    }
   },
   "outputs": [],
   "source": [
    "# simalarity between two words. unrelated words\n",
    "word1 = 'alive'\n",
    "word2 = 'horse'\n",
    "print(glove_model.similarity(word1, word2))\n",
    "print(cosine_similarity(glove_model[word1], glove_model[word2]))"
   ]
  },
  {
   "cell_type": "code",
   "execution_count": null,
   "metadata": {
    "collapsed": false,
    "pycharm": {
     "name": "#%%\n"
    }
   },
   "outputs": [],
   "source": [
    "# simalarity between two SAME words\n",
    "glove_model.similarity('equal', 'equal')\n",
    "word1 = 'equal'\n",
    "word2 = 'equal'\n",
    "print(glove_model.similarity(word1, word2))\n",
    "print(cosine_similarity(glove_model[word1], glove_model[word2]))"
   ]
  },
  {
   "cell_type": "markdown",
   "metadata": {
    "collapsed": false,
    "pycharm": {
     "name": "#%% md\n"
    }
   },
   "source": [
    "The next function contains the code to plot a similarity matrix between multiple words (e.g. if we want to compare 10 words and their pair-wise similarities). It requires a matrix with similarities (as input) and labels (aka the words) to display in the final figure."
   ]
  },
  {
   "cell_type": "code",
   "execution_count": null,
   "metadata": {
    "collapsed": false,
    "pycharm": {
     "name": "#%%\n"
    }
   },
   "outputs": [],
   "source": [
    "def plot_similarity_matrix(matrix, labels):\n",
    "    \"\"\"\n",
    "    Displays a plot of the `matrix` of size (N x N) with the labels specified as a list of size N\n",
    "    Args:\n",
    "        matrix: a square-sized (N x N) numpy array\n",
    "        labels: a list of strings of hte size N\n",
    "    \"\"\"\n",
    "\n",
    "    fig, ax = plt.subplots()\n",
    "    im = ax.imshow(matrix)\n",
    "\n",
    "    # Show all ticks and label them with the respective list entries\n",
    "    ax.set_xticks(np.arange(len(labels)), labels=labels)\n",
    "    ax.set_yticks(np.arange(len(labels)), labels=labels)\n",
    "\n",
    "    # Rotate the tick labels and set their alignment.\n",
    "    plt.setp(ax.get_xticklabels(), rotation=45, ha=\"right\",\n",
    "             rotation_mode=\"anchor\")\n",
    "\n",
    "    # Loop over data dimensions and create text annotations.\n",
    "    for i in range(len(labels)):\n",
    "        for j in range(len(labels)):\n",
    "            text = ax.text(j, i, f'{matrix[i, j]:.2f}',\n",
    "                           ha=\"center\", va=\"center\", color=\"w\")\n",
    "\n",
    "    # ax.set_title(\"Give a title if you want\")\n",
    "    fig.tight_layout()\n",
    "    plt.show()"
   ]
  },
  {
   "cell_type": "markdown",
   "metadata": {
    "collapsed": false,
    "pycharm": {
     "name": "#%% md\n"
    }
   },
   "source": [
    "<a name='e10'></a>\n",
    "### Exercise 10: Plotting similarities between words\n",
    "\n",
    "(10p) In the following, we will explore some properties of word embeddings through some examples. We will use 6 example words for this purpose but experiment with other set of words as well. Fill in the next cell to create a similarity matrix between a list of words.\n",
    "\n",
    "Experiment with different words and their similarities plotted. Try at least 3 different sets of words of at least 6 words each. Use the `plot_similarity_matrix` function to visualize the results.\n",
    "Comment on the results. Do they make sense? Why some words are closer to each other than others? What does it mean?"
   ]
  },
  {
   "cell_type": "code",
   "execution_count": null,
   "metadata": {
    "collapsed": false,
    "pycharm": {
     "name": "#%%\n"
    }
   },
   "outputs": [],
   "source": [
    "list_of_words = ['love', 'hate', 'life', 'equal', 'alive', 'dead']\n",
    "\n",
    "similarity_matrix = np.zeros((len(list_of_words), len(list_of_words)), dtype=float)\n",
    "\n",
    "### YOUR CODE HERE\n",
    "\n",
    "\n",
    "\n",
    "\n",
    "\n",
    "### YOUR CODE ENDS HERE\n",
    "\n",
    "\n",
    "plot_similarity_matrix(similarity_matrix, list_of_words)"
   ]
  },
  {
   "cell_type": "code",
   "execution_count": null,
   "metadata": {
    "collapsed": false,
    "pycharm": {
     "name": "#%%\n"
    }
   },
   "outputs": [],
   "source": [
    "#### YOUR CODE HERE\n",
    "\n",
    "\n",
    "\n",
    "### YOUR CODE ENDS HERE"
   ]
  },
  {
   "cell_type": "markdown",
   "metadata": {
    "collapsed": false,
    "pycharm": {
     "name": "#%% md\n"
    }
   },
   "source": [
    "<a name='e11'></a>\n",
    "### Exercise 11: Other pre-trained word embeddings\n",
    "(10p) For this exercise, experiment with at least one different word embedding model. You can choose Glove with different dimensions or other pre-trained models. Use the gensim library to download and use the models.\n",
    "Plot similarity matrices between sets of words you used in the previous exercise and compare the results. Are there noticeable differences? Why (not)?"
   ]
  },
  {
   "cell_type": "code",
   "execution_count": null,
   "metadata": {
    "collapsed": false,
    "pycharm": {
     "name": "#%%\n"
    }
   },
   "outputs": [],
   "source": [
    "#### YOUR CODE HERE\n",
    "\n",
    "\n",
    "\n",
    "### YOUR CODE ENDS HERE"
   ]
  },
  {
   "cell_type": "markdown",
   "metadata": {
    "collapsed": false,
    "pycharm": {
     "name": "#%% md\n"
    }
   },
   "source": [
    "// your comments"
   ]
  },
  {
   "cell_type": "markdown",
   "metadata": {
    "collapsed": false,
    "pycharm": {
     "name": "#%% md\n"
    }
   },
   "source": [
    "## 5. Sentence Embeddings by Averaging Word Embeddings\n",
    "\n",
    "Word embeddings are a powerful model for representing words and their meaning (in terms of distributional similarity). As we discussed in class, we can use them in a wide variety of tasks with more complex architectures. Word vectors offer a dense vector for each word. What if we wanted to represent a sentence (or a document) based on word vectors. How can we do that?\n",
    "\n",
    "In the course, we will see different architectures that take into account the sequence of words (by combining their vectors). A first naive but simple and sometimes (as we are going to see) quite effective approach would be to represent a sentence with an embedding vector that is the average of the word vectors that form the sentence.\n",
    "\n",
    "So formally, this is what we are aiming for:\n",
    "\n",
    "$\n",
    "\\text{Sentence_Embedding} = \\frac{1}{N} \\sum_{i=1}^{N} \\text{Word_Embedding}_i\n",
    "$\n",
    "\n",
    "where:\n",
    "* $N$ is the number of words in a sentence\n",
    "* $\\text{Word_Embedding}_i$ is the word vector for the $i$-th in the sentence.\n",
    "\n",
    "Things to note:\n",
    "* The embedding vector for the sentence will obviously have the same dimension as the word embedding.\n",
    "* This representation ignores the word order (like bag-of-words). During the course we will see how we can overcome this limitation by using sequence models."
   ]
  },
  {
   "cell_type": "markdown",
   "metadata": {
    "collapsed": false,
    "pycharm": {
     "name": "#%% md\n"
    }
   },
   "source": [
    "<a name='e12'></a>\n",
    "### Exercise 12: Sentence Embedding\n",
    "\n",
    "(10p) Complete the function below that takes as input the sentence in the form of tokens (so it's a list of words) and calculates the sentence embedding vector. First, we would need to retrieve the word embeddings for each word from our loaded model and then average the vectors.\n",
    "\n",
    "Note: There can be cases where all tokens from a sentence are out-of-vocabulary words (OOV). Think what to do in this case and make sure to discuss it in the report."
   ]
  },
  {
   "cell_type": "code",
   "execution_count": null,
   "metadata": {
    "collapsed": false,
    "pycharm": {
     "name": "#%%\n"
    }
   },
   "outputs": [],
   "source": [
    "def embed_sentence_word_model(tokens, model):\n",
    "    \"\"\"\n",
    "    Calculates the sentence embedding by averaging the embeddings of the tokens\n",
    "    Args:\n",
    "        tokens: a list of words from the sentence\n",
    "        model: a trained word embeddings model\n",
    "\n",
    "    Returns: a numpy array of the sentence embedding\n",
    "\n",
    "    \"\"\"\n",
    "    #### YOUR CODE HERE\n",
    "    #### CAUTION: be sure to cover the case where all tokens are out-of-vocabulary!!!\n",
    "\n",
    "\n",
    "\n",
    "\n",
    "    ### YOUR CODE ENDS HERE"
   ]
  },
  {
   "cell_type": "markdown",
   "metadata": {
    "collapsed": false,
    "pycharm": {
     "name": "#%% md\n"
    }
   },
   "source": [
    "Now we can apply the function to the whole dataset. Here we do it both for the sentence and the compressed version. You should know it by now, but this operation might take some time. The next cells will apply your function to the whole dataset."
   ]
  },
  {
   "cell_type": "code",
   "execution_count": null,
   "metadata": {
    "collapsed": false,
    "pycharm": {
     "name": "#%%\n"
    }
   },
   "outputs": [],
   "source": [
    "def embed_sentence_word_model_dataset(example, model):\n",
    "    \"\"\"\n",
    "    Embeds the sentence and the compressed sentence in the example from the Dataset\n",
    "    Args:\n",
    "        example: an example from the Dataset\n",
    "        model: a trained word embeddings model\n",
    "\n",
    "    Returns: updated example with 'sentence_embedding' and 'compressed_embedding' columns\n",
    "\n",
    "    \"\"\"\n",
    "    sentence_tokens = example['sentence_tokens']\n",
    "    clean_compressed = example['clean_compressed']\n",
    "    compressed_tokens = tokenize(clean_compressed)\n",
    "\n",
    "    sentence_embedding = embed_sentence_word_model(sentence_tokens, model)\n",
    "    compressed_embedding = embed_sentence_word_model(compressed_tokens, model)\n",
    "\n",
    "    example['sentence_embedding'] = sentence_embedding\n",
    "    example['compressed_embedding'] = compressed_embedding\n",
    "    return example"
   ]
  },
  {
   "cell_type": "code",
   "execution_count": null,
   "metadata": {
    "collapsed": false,
    "pycharm": {
     "name": "#%%\n"
    }
   },
   "outputs": [],
   "source": [
    "test_ds = test_ds.map(embed_sentence_word_model_dataset, fn_kwargs={'model': glove_model})\n",
    "print(test_ds)"
   ]
  },
  {
   "cell_type": "code",
   "execution_count": null,
   "metadata": {
    "collapsed": false,
    "pycharm": {
     "name": "#%%\n"
    }
   },
   "outputs": [],
   "source": [
    "for i in range(10):\n",
    "    print(test_ds[i])"
   ]
  },
  {
   "cell_type": "markdown",
   "metadata": {
    "collapsed": false,
    "pycharm": {
     "name": "#%% md\n"
    }
   },
   "source": [
    "Here you can see that the new dataset returned a single numpy array containing all sentence embeddings in our dataset. This is a lot more efficient than returning a list of arrays (which is the default behaviour). Below we check the type and the dimensionality.\n",
    "\n",
    "We will be using `text` subset from our dataset to not use too much RAM."
   ]
  },
  {
   "cell_type": "code",
   "execution_count": null,
   "metadata": {
    "collapsed": false,
    "pycharm": {
     "name": "#%%\n"
    }
   },
   "outputs": [],
   "source": [
    "sent_embedding = test_ds['sentence_embedding']\n",
    "compr_embedding = test_ds['compressed_embedding']\n",
    "print(type(sent_embedding))\n",
    "print(sent_embedding.shape)\n",
    "print(type(compr_embedding))\n",
    "print(compr_embedding.shape)"
   ]
  },
  {
   "cell_type": "markdown",
   "metadata": {
    "collapsed": false,
    "pycharm": {
     "name": "#%% md\n"
    }
   },
   "source": [
    "Next we try the condensed representatin based on a simple query. Feel free to try different queries with different words. What happens if we have OOV words in a query?"
   ]
  },
  {
   "cell_type": "code",
   "execution_count": null,
   "metadata": {
    "collapsed": false,
    "pycharm": {
     "name": "#%%\n"
    }
   },
   "outputs": [],
   "source": [
    "query = 'fox and deer'\n",
    "print(query)\n",
    "\n",
    "query_embedding = embed_text(query, clean, tokenize, lambda x: embed_sentence_word_model(x, glove_model))\n",
    "print(query_embedding.shape)\n",
    "print(query_embedding)"
   ]
  },
  {
   "cell_type": "markdown",
   "metadata": {
    "collapsed": false,
    "pycharm": {
     "name": "#%% md\n"
    }
   },
   "source": [
    "<a name='e13'></a>\n",
    "### Exercise 13: Analyze sentence embeddings\n",
    "- (5p) Calculate similarity between the word embeddings representations of the selected queries and the dataset sentences.\n",
    "- (5p) Analyze the search results. Does the search work as expected? Discuss the results.\n",
    "- (5p) Compare the results with the ones you got with the bag-of-words and TF-IDF representation. Discuss the differences and similarities."
   ]
  },
  {
   "cell_type": "code",
   "execution_count": null,
   "metadata": {
    "collapsed": false,
    "pycharm": {
     "name": "#%%\n"
    }
   },
   "outputs": [],
   "source": [
    "### YOUR CODE HERE\n",
    "\n",
    "\n",
    "\n",
    "\n",
    "### YOUR CODE ENDS HERE"
   ]
  },
  {
   "cell_type": "markdown",
   "metadata": {
    "id": "ZY2jouFmeHOg",
    "pycharm": {
     "name": "#%% md\n"
    }
   },
   "source": [
    "## 6. Evaluating Retrieval\n",
    "\n",
    "In this last section we will try to evaluate how good our sentence retrieval system is. To keep the computational resources manageable, we will use the test set for that as its size is more manageable.\n",
    "\n",
    "Recall from the lecture in IR that there are several metrics to evaluate retrieval performance by taking into account the relevance of the retrieved results to the query. We will use Recall@K here (for more metrics and more details refer to the lecture slides and the textbooks).\n",
    "\n",
    "RRecall@K is a metric used to measure the effectiveness of a search system in retrieving relevant documents within the top $K$ retrieved documents. It calculates the proportion of relevant documents retrieved within the top-$K$ results, compared to the total number of relevant documents in the collection.\n",
    "\n",
    "$\n",
    "\\text{Recall@K} = \\frac{\\text{Number of relevant documents retrieved in the top }-K}{\\text{Total number of relevant documents}}\n",
    "$\n",
    "\n",
    "In our case, we have a sentence, and it's compressed version. To test our system, we will treat compressed sentences as the queries. Each query will have only a single relevant sentence - the corresponding uncompressed sentence.\n",
    "\n",
    "Therefore, for the calculation of Recall@K we will take into account whether the correct retrieved result is contained within the first $K$ retrieved results. For example, if for a query (i.e. a compressed sentence) we retrieve 10 results and within these we see the relevant one (i.e. the full sentence), then Recall@10 = 1."
   ]
  },
  {
   "cell_type": "markdown",
   "metadata": {
    "id": "QUKPtG-uem9f",
    "pycharm": {
     "name": "#%% md\n"
    }
   },
   "source": [
    "<a name='e14'></a>\n",
    "### Exercise 14: Cosine similarity between two sets of vectors\n",
    "\n",
    "(3p) In this exercise you will revisit your implementation of the cosine similarity. Generalize it so that it can accept two arrays containing two sets of vectors (first one containing $M$ vectors and the second one $N$ vectors). Compute the cosine similarity between each pair of vectors coming from the two sets. The result should be an array of size $M x N$.\n",
    "\n",
    "Once again, try to write an efficient code. This means no loops. Remember the relation between matrix multiplication and dot product. (Depending on your implementation of the previous function calculating cosine similarity, this one can be almost the same)"
   ]
  },
  {
   "cell_type": "code",
   "execution_count": null,
   "metadata": {
    "id": "xKiHDrN9eld7",
    "pycharm": {
     "name": "#%%\n"
    }
   },
   "outputs": [],
   "source": [
    "def cosine_similarity_m_to_n(vectors, other_vectors):\n",
    "    \"\"\"\n",
    "    Calculates the cosine similarity between a multiple vectors and other vectors.\n",
    "    Args:\n",
    "        vectors: a numpy array representing M number of vectors of D dimensions (of the size MxD)\n",
    "        other_vectors: a 2D numpy array representing other vectors (of the size NxD, where N is the number of vectors and D is their dimension)\n",
    "\n",
    "    Returns: a numpy array of cosine similarity between all the vectors and all the other vectors\n",
    "\n",
    "    \"\"\"\n",
    "\n",
    "    #### YOUR CODE HERE\n",
    "\n",
    "\n",
    "\n",
    "\n",
    "    ### YOUR CODE ENDS HERE"
   ]
  },
  {
   "cell_type": "markdown",
   "metadata": {
    "id": "qQ-Yhl1Sgoka",
    "pycharm": {
     "name": "#%% md\n"
    }
   },
   "source": [
    "The following function will use your implementation to calculate Recall@K based on the similarity matrix."
   ]
  },
  {
   "cell_type": "code",
   "execution_count": null,
   "metadata": {
    "id": "z0sLS3uRCfdh",
    "pycharm": {
     "name": "#%%\n"
    }
   },
   "outputs": [],
   "source": [
    "def calculate_recall(queries, sentences, k, batch_size=1000):\n",
    "    \"\"\"\n",
    "    Calculates recall@k given the embeddings of the queries and sentences.\n",
    "    Assumes that only a single sentence with the same index as query is relevant.\n",
    "    Batching is implemented to avoid high memory usage.\n",
    "    Args:\n",
    "        queries: a numpy array with the embeddings of N queries\n",
    "        sentences: a numpy array with the embeddings of N sentences available for retrieval\n",
    "        k: number of top results to search for the relevant sentence\n",
    "        batch_size: number of queries to process at a time\n",
    "\n",
    "    Returns: calculated recall@k\n",
    "\n",
    "    \"\"\"\n",
    "    n_queries = queries.shape[0]\n",
    "    correct = np.zeros(n_queries, dtype=bool)\n",
    "\n",
    "    with tqdm.tqdm(total=n_queries) as pbar:\n",
    "        for batch_start in range(0, n_queries, batch_size):\n",
    "            batch_end = min(batch_start + batch_size, n_queries)\n",
    "            queries_batch = queries[batch_start:batch_end]\n",
    "            batch_similarity = cosine_similarity_m_to_n(queries_batch, sentences)\n",
    "\n",
    "            for i, similarity_row in enumerate(batch_similarity):\n",
    "                query_index = batch_start + i\n",
    "                top_k = top_k_indices(similarity_row, k=k, sorted=False)\n",
    "\n",
    "                if query_index in top_k:\n",
    "                    correct[query_index] = True\n",
    "\n",
    "                pbar.update(1)\n",
    "\n",
    "    recall = np.sum(correct) / n_queries\n",
    "    return recall"
   ]
  },
  {
   "cell_type": "markdown",
   "metadata": {
    "id": "3QgAgMiDgw8m",
    "pycharm": {
     "name": "#%% md\n"
    }
   },
   "source": [
    "You can use it like so:"
   ]
  },
  {
   "cell_type": "code",
   "execution_count": null,
   "metadata": {
    "id": "Yxpex7ZxHM7c",
    "pycharm": {
     "name": "#%%\n"
    }
   },
   "outputs": [],
   "source": [
    "recall_at_1 = calculate_recall(compr_embedding, sent_embedding, k=1, batch_size=1000)\n",
    "print(f'\\n{recall_at_1 * 100:.2f}%')"
   ]
  },
  {
   "cell_type": "markdown",
   "metadata": {
    "id": "zY5ZVq5ogzMI",
    "pycharm": {
     "name": "#%% md\n"
    }
   },
   "source": [
    "<a name='e15'></a>\n",
    "### Exercise 15: Evaluating retrieval methods\n",
    "\n",
    "(10p) Calculate recall for different values of $K$ for all methods:\n",
    "- BOW,\n",
    "- TF-IDF,\n",
    "- Pre-trained embeddings.\n",
    "\n",
    "Discuss the results.\n",
    "Comment on how recall changes based on the value of $K$. Are the results expected or surprising?"
   ]
  },
  {
   "cell_type": "code",
   "execution_count": null,
   "metadata": {
    "collapsed": false,
    "pycharm": {
     "name": "#%%\n"
    }
   },
   "outputs": [],
   "source": [
    "#### YOUR CODE HERE\n",
    "\n",
    "\n",
    "\n",
    "### YOUR CODE ENDS HERE"
   ]
  },
  {
   "cell_type": "markdown",
   "metadata": {
    "collapsed": false,
    "pycharm": {
     "name": "#%% md\n"
    }
   },
   "source": [
    "<a name='e16'></a>\n",
    "### Exercise 16: Improving retrieval\n",
    "\n",
    "(10p) Imagine that you work at a company and are tasked with delivering the best retrieval method. Select the most promising one and try to improve the scores (e.g. by changing the vocab size, loading different model, etc.).\n",
    "Discuss the results you achieve, even if you didn't manage to improve the scores."
   ]
  },
  {
   "cell_type": "code",
   "execution_count": null,
   "metadata": {
    "id": "YA9bEm5ehMq8",
    "pycharm": {
     "name": "#%%\n"
    }
   },
   "outputs": [],
   "source": [
    "#### YOUR CODE HERE\n",
    "\n",
    "\n",
    "\n",
    "### YOUR CODE ENDS HERE"
   ]
  },
  {
   "cell_type": "markdown",
   "metadata": {
    "collapsed": false,
    "pycharm": {
     "name": "#%% md\n"
    }
   },
   "source": [
    "// your comments"
   ]
  }
 ],
 "metadata": {
  "colab": {
   "provenance": [],
   "toc_visible": true
  },
  "kernelspec": {
   "display_name": ".venv",
   "language": "python",
   "name": "python3"
  },
  "language_info": {
   "codemirror_mode": {
    "name": "ipython",
    "version": 3
   },
   "file_extension": ".py",
   "mimetype": "text/x-python",
   "name": "python",
   "nbconvert_exporter": "python",
   "pygments_lexer": "ipython3",
   "version": "3.12.2"
  }
 },
 "nbformat": 4,
 "nbformat_minor": 0
}

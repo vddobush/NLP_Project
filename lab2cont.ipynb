{
 "cells": [
  {
   "cell_type": "markdown",
   "metadata": {
    "collapsed": false,
    "id": "od2YkWY8pSOC",
    "pycharm": {
     "name": "#%% md\n"
    }
   },
   "source": [
    "# NLP 2025\n",
    "# Lab 2: Word Vectors and Information Retrieval\n",
    "\n",
    "During the first few weeks, we discussed various ways to represent text 📝. One key question was: What should be the basic unit of representation? Words are the fundamental building blocks 🧱.\n",
    "\n",
    "In this lab, we will explore different text representation models, such as Bag-of-Words (BoW), TF-IDF and word embeddings 🔤➡️🔢. Among these, word embeddings are the most effective in terms of performance. They represent each word as a vector of numbers, where each vector captures the meaning of the word 🧠📊.\n",
    "\n",
    "These numerical representations (or weights) are learned using machine learning models 🤖. We’ll dive deeper into how these vectors are learned in the next lecture 📚.\n",
    "\n",
    "For now, we’ll focus on how different representation methods affect performance in an information retrieval task 🔍."
   ]
  },
  {
   "cell_type": "markdown",
   "metadata": {
    "collapsed": false,
    "id": "s93LS5bspSOD",
    "pycharm": {
     "name": "#%% md\n"
    }
   },
   "source": [
    "By the end of this lab, you should be able to:\n",
    "\n",
    "+ 🧼🔁 Implement and/or use built-in functions to preprocess your data (once again!)\n",
    "+ 🧱👜 Build a Bag-of-Words representation of the dataset\n",
    "+ 📊✨ Implement TF-IDF\n",
    "+ 📥🔤 Load pre-trained word embeddings\n",
    "+ 🔍🧠 Inspect and test word embedding properties\n",
    "+ 🗣️➡️📐 Use word embeddings to get sentence representations (aka sentence embeddings)\n",
    "+ 🧩🔎 Use sentence embeddings to solve more complex tasks like information retrieval\n",
    "+ 🧪📏 Design evaluation frameworks for specific NLP tasks and assess their difficulty\n",
    "\n",
    "### Score breakdown\n",
    "\n",
    "| Exercise            | Points |\n",
    "|---------------------|--------|\n",
    "| [Exercise 1](#e1)   | 1      |\n",
    "| [Exercise 2](#e2)   | 1      |\n",
    "| [Exercise 3](#e3)   | 1      |\n",
    "| [Exercise 4](#e4)   | 1      |\n",
    "| [Exercise 5](#e5)   | 1      |\n",
    "| [Exercise 6](#e6)   | 2      |\n",
    "| [Exercise 7](#e7)   | 10     |\n",
    "| [Exercise 8](#e8)   | 5      |\n",
    "| [Exercise 9](#e9)   | 15     |\n",
    "| [Exercise 10](#e10) | 10     |\n",
    "| [Exercise 11](#e11) | 10     |\n",
    "| [Exercise 12](#e12) | 5      |\n",
    "| [Exercise 13](#e13) | 15     |\n",
    "| [Exercise 14](#e14) | 3      |\n",
    "| [Exercise 15](#e15) | 10     |\n",
    "| [Exercise 16](#e16) | 10     |\n",
    "| Total               | 100    |\n",
    "\n",
    "This score will be scaled down to 1 and that will be your final lab score.\n",
    "\n",
    "### 📌 **Instructions for Delivery** (📅 **Deadline: 18/Apr 18:00**, 🎭 *wildcards possible*)\n",
    "\n",
    "✅ **Submission Requirements**\n",
    "+ 📄 You need to submit a **PDF of your report** (use the templates provided in **LaTeX** 🖋️ (*preferred*) or **Word** 📑) and a **copy of your notebook** 📓 with the code.\n",
    "+ ⚡ Make sure that **all cells are executed properly** ⚙️ and that **all figures/results/plots** 📊 you include in the report are also visible in your **executed notebook**.\n",
    "\n",
    "✅ **Collaboration & Integrity**\n",
    "+ 🗣️ While you may **discuss** the lab with others, you must **write your solutions with your group only**. If you **discuss specific tasks** with others, please **include their names** in the appendix of the report.\n",
    "+ 📜 **Honor Code applies** to this lab. For more details, check **Syllabus §7.2** ⚖️.\n",
    "+ 📢 **Mandatory Disclosure**:\n",
    "   - Any **websites** 🌐 (e.g., **Stack Overflow** 💡) or **other resources** used must be **listed and disclosed**.\n",
    "   - Any **GenAI tools** 🤖 (e.g., **ChatGPT**) used must be **explicitly mentioned**.\n",
    "   - 🚨 **Failure to disclose these resources is a violation of academic integrity**. See **Syllabus §7.3** for details."
   ]
  },
  {
   "cell_type": "markdown",
   "metadata": {
    "collapsed": false,
    "id": "aHYGq5RUpSOD",
    "pycharm": {
     "name": "#%% md\n"
    }
   },
   "source": [
    "## 0. Setup\n",
    "\n",
    "As in the last lab, we will be using huggingface datasets library ([https://huggingface.co/datasets](https://huggingface.co/datasets)). You can find the detailed documentation and tutorials here: [https://huggingface.co/docs/datasets/en/index](https://huggingface.co/docs/datasets/en/index)\n",
    "\n",
    "If you don't have it installed you can run the code below or install it via `pip` in your terminal. If you are using Google Colab, you can uncomment and run the code below in a code cell. Restarting of the runtime may be required after installation (Runtime/Restart session)."
   ]
  },
  {
   "cell_type": "code",
   "metadata": {
    "id": "rhEG8hKrpSOE",
    "pycharm": {
     "name": "#%%\n"
    },
    "ExecuteTime": {
     "end_time": "2025-04-20T20:50:25.612155Z",
     "start_time": "2025-04-20T20:50:15.122634Z"
    }
   },
   "source": [
    "#! pip install -U datasets~=3.5.0\n",
    "#! pip install -U gensim\n",
    "#! python -m pip install -U matplotlib\n",
    "#! pip install nltk\n",
    "#! pip install -U scikit-learn"
   ],
   "outputs": [
    {
     "name": "stdout",
     "output_type": "stream",
     "text": [
      "Requirement already satisfied: datasets~=3.5.0 in /opt/anaconda3/lib/python3.12/site-packages (3.5.0)\r\n",
      "Requirement already satisfied: filelock in /opt/anaconda3/lib/python3.12/site-packages (from datasets~=3.5.0) (3.18.0)\r\n",
      "Requirement already satisfied: numpy>=1.17 in /opt/anaconda3/lib/python3.12/site-packages (from datasets~=3.5.0) (1.26.4)\r\n",
      "Requirement already satisfied: pyarrow>=15.0.0 in /opt/anaconda3/lib/python3.12/site-packages (from datasets~=3.5.0) (19.0.1)\r\n",
      "Requirement already satisfied: dill<0.3.9,>=0.3.0 in /opt/anaconda3/lib/python3.12/site-packages (from datasets~=3.5.0) (0.3.8)\r\n",
      "Requirement already satisfied: pandas in /opt/anaconda3/lib/python3.12/site-packages (from datasets~=3.5.0) (2.2.3)\r\n",
      "Requirement already satisfied: requests>=2.32.2 in /opt/anaconda3/lib/python3.12/site-packages (from datasets~=3.5.0) (2.32.3)\r\n",
      "Requirement already satisfied: tqdm>=4.66.3 in /opt/anaconda3/lib/python3.12/site-packages (from datasets~=3.5.0) (4.67.1)\r\n",
      "Requirement already satisfied: xxhash in /opt/anaconda3/lib/python3.12/site-packages (from datasets~=3.5.0) (3.5.0)\r\n",
      "Requirement already satisfied: multiprocess<0.70.17 in /opt/anaconda3/lib/python3.12/site-packages (from datasets~=3.5.0) (0.70.16)\r\n",
      "Requirement already satisfied: fsspec<=2024.12.0,>=2023.1.0 in /opt/anaconda3/lib/python3.12/site-packages (from fsspec[http]<=2024.12.0,>=2023.1.0->datasets~=3.5.0) (2024.12.0)\r\n",
      "Requirement already satisfied: aiohttp in /opt/anaconda3/lib/python3.12/site-packages (from datasets~=3.5.0) (3.11.17)\r\n",
      "Requirement already satisfied: huggingface-hub>=0.24.0 in /opt/anaconda3/lib/python3.12/site-packages (from datasets~=3.5.0) (0.30.2)\r\n",
      "Requirement already satisfied: packaging in /opt/anaconda3/lib/python3.12/site-packages (from datasets~=3.5.0) (25.0)\r\n",
      "Requirement already satisfied: pyyaml>=5.1 in /opt/anaconda3/lib/python3.12/site-packages (from datasets~=3.5.0) (6.0.2)\r\n",
      "Requirement already satisfied: aiohappyeyeballs>=2.3.0 in /opt/anaconda3/lib/python3.12/site-packages (from aiohttp->datasets~=3.5.0) (2.6.1)\r\n",
      "Requirement already satisfied: aiosignal>=1.1.2 in /opt/anaconda3/lib/python3.12/site-packages (from aiohttp->datasets~=3.5.0) (1.3.2)\r\n",
      "Requirement already satisfied: attrs>=17.3.0 in /opt/anaconda3/lib/python3.12/site-packages (from aiohttp->datasets~=3.5.0) (25.3.0)\r\n",
      "Requirement already satisfied: frozenlist>=1.1.1 in /opt/anaconda3/lib/python3.12/site-packages (from aiohttp->datasets~=3.5.0) (1.6.0)\r\n",
      "Requirement already satisfied: multidict<7.0,>=4.5 in /opt/anaconda3/lib/python3.12/site-packages (from aiohttp->datasets~=3.5.0) (6.4.3)\r\n",
      "Requirement already satisfied: propcache>=0.2.0 in /opt/anaconda3/lib/python3.12/site-packages (from aiohttp->datasets~=3.5.0) (0.3.1)\r\n",
      "Requirement already satisfied: yarl<2.0,>=1.17.0 in /opt/anaconda3/lib/python3.12/site-packages (from aiohttp->datasets~=3.5.0) (1.20.0)\r\n",
      "Requirement already satisfied: typing-extensions>=3.7.4.3 in /opt/anaconda3/lib/python3.12/site-packages (from huggingface-hub>=0.24.0->datasets~=3.5.0) (4.13.2)\r\n",
      "Requirement already satisfied: charset-normalizer<4,>=2 in /opt/anaconda3/lib/python3.12/site-packages (from requests>=2.32.2->datasets~=3.5.0) (3.4.1)\r\n",
      "Requirement already satisfied: idna<4,>=2.5 in /opt/anaconda3/lib/python3.12/site-packages (from requests>=2.32.2->datasets~=3.5.0) (3.10)\r\n",
      "Requirement already satisfied: urllib3<3,>=1.21.1 in /opt/anaconda3/lib/python3.12/site-packages (from requests>=2.32.2->datasets~=3.5.0) (2.4.0)\r\n",
      "Requirement already satisfied: certifi>=2017.4.17 in /opt/anaconda3/lib/python3.12/site-packages (from requests>=2.32.2->datasets~=3.5.0) (2025.1.31)\r\n",
      "Requirement already satisfied: python-dateutil>=2.8.2 in /opt/anaconda3/lib/python3.12/site-packages (from pandas->datasets~=3.5.0) (2.9.0.post0)\r\n",
      "Requirement already satisfied: pytz>=2020.1 in /opt/anaconda3/lib/python3.12/site-packages (from pandas->datasets~=3.5.0) (2025.2)\r\n",
      "Requirement already satisfied: tzdata>=2022.7 in /opt/anaconda3/lib/python3.12/site-packages (from pandas->datasets~=3.5.0) (2025.2)\r\n",
      "Requirement already satisfied: six>=1.5 in /opt/anaconda3/lib/python3.12/site-packages (from python-dateutil>=2.8.2->pandas->datasets~=3.5.0) (1.17.0)\r\n",
      "Requirement already satisfied: gensim in /opt/anaconda3/lib/python3.12/site-packages (4.3.3)\r\n",
      "Requirement already satisfied: numpy<2.0,>=1.18.5 in /opt/anaconda3/lib/python3.12/site-packages (from gensim) (1.26.4)\r\n",
      "Requirement already satisfied: scipy<1.14.0,>=1.7.0 in /opt/anaconda3/lib/python3.12/site-packages (from gensim) (1.13.1)\r\n",
      "Requirement already satisfied: smart-open>=1.8.1 in /opt/anaconda3/lib/python3.12/site-packages (from gensim) (5.2.1)\r\n",
      "Requirement already satisfied: matplotlib in /opt/anaconda3/lib/python3.12/site-packages (3.10.1)\r\n",
      "Requirement already satisfied: contourpy>=1.0.1 in /opt/anaconda3/lib/python3.12/site-packages (from matplotlib) (1.2.0)\r\n",
      "Requirement already satisfied: cycler>=0.10 in /opt/anaconda3/lib/python3.12/site-packages (from matplotlib) (0.11.0)\r\n",
      "Requirement already satisfied: fonttools>=4.22.0 in /opt/anaconda3/lib/python3.12/site-packages (from matplotlib) (4.51.0)\r\n",
      "Requirement already satisfied: kiwisolver>=1.3.1 in /opt/anaconda3/lib/python3.12/site-packages (from matplotlib) (1.4.4)\r\n",
      "Requirement already satisfied: numpy>=1.23 in /opt/anaconda3/lib/python3.12/site-packages (from matplotlib) (1.26.4)\r\n",
      "Requirement already satisfied: packaging>=20.0 in /opt/anaconda3/lib/python3.12/site-packages (from matplotlib) (25.0)\r\n",
      "Requirement already satisfied: pillow>=8 in /opt/anaconda3/lib/python3.12/site-packages (from matplotlib) (10.4.0)\r\n",
      "Requirement already satisfied: pyparsing>=2.3.1 in /opt/anaconda3/lib/python3.12/site-packages (from matplotlib) (3.1.2)\r\n",
      "Requirement already satisfied: python-dateutil>=2.7 in /opt/anaconda3/lib/python3.12/site-packages (from matplotlib) (2.9.0.post0)\r\n",
      "Requirement already satisfied: six>=1.5 in /opt/anaconda3/lib/python3.12/site-packages (from python-dateutil>=2.7->matplotlib) (1.17.0)\r\n",
      "Requirement already satisfied: nltk in /opt/anaconda3/lib/python3.12/site-packages (3.9.1)\r\n",
      "Requirement already satisfied: click in /opt/anaconda3/lib/python3.12/site-packages (from nltk) (8.1.7)\r\n",
      "Requirement already satisfied: joblib in /opt/anaconda3/lib/python3.12/site-packages (from nltk) (1.4.2)\r\n",
      "Requirement already satisfied: regex>=2021.8.3 in /opt/anaconda3/lib/python3.12/site-packages (from nltk) (2024.9.11)\r\n",
      "Requirement already satisfied: tqdm in /opt/anaconda3/lib/python3.12/site-packages (from nltk) (4.67.1)\r\n",
      "Requirement already satisfied: scikit-learn in /opt/anaconda3/lib/python3.12/site-packages (1.6.1)\r\n",
      "Requirement already satisfied: numpy>=1.19.5 in /opt/anaconda3/lib/python3.12/site-packages (from scikit-learn) (1.26.4)\r\n",
      "Requirement already satisfied: scipy>=1.6.0 in /opt/anaconda3/lib/python3.12/site-packages (from scikit-learn) (1.13.1)\r\n",
      "Requirement already satisfied: joblib>=1.2.0 in /opt/anaconda3/lib/python3.12/site-packages (from scikit-learn) (1.4.2)\r\n",
      "Requirement already satisfied: threadpoolctl>=3.1.0 in /opt/anaconda3/lib/python3.12/site-packages (from scikit-learn) (3.5.0)\r\n"
     ]
    }
   ],
   "execution_count": 35
  },
  {
   "cell_type": "markdown",
   "metadata": {
    "collapsed": false,
    "pycharm": {
     "name": "#%% md\n"
    }
   },
   "source": [
    "Previously installed datasets library version of 3.2.0 had an error when combined with numpy version >2. If you encounter an error at some point it might require to update the datasets library to the newer version. You can do that by running the code below. If you are using Google Colab, you can run the code below in a code cell. If you are using Jupyter Notebook, you can run the code below in a code cell or in a terminal."
   ]
  },
  {
   "cell_type": "code",
   "metadata": {
    "collapsed": false,
    "pycharm": {
     "name": "#%%\n"
    },
    "ExecuteTime": {
     "end_time": "2025-04-20T20:50:25.628782Z",
     "start_time": "2025-04-20T20:50:25.623802Z"
    }
   },
   "source": [
    "# ! pip install --upgrade --force-reinstall datasets\n",
    "# ! pip install --upgrade bottleneck // pandas requires bottleneck v1,3,6 or newer"
   ],
   "outputs": [],
   "execution_count": 36
  },
  {
   "cell_type": "markdown",
   "metadata": {
    "collapsed": false,
    "id": "5CCI1TPJpSOF",
    "pycharm": {
     "name": "#%% md\n"
    }
   },
   "source": [
    "As usual, we start by importing some essential Python libraries and we will be using. Apart from `gensim` (which is going to be used for word embeddings), we have already seen the others."
   ]
  },
  {
   "cell_type": "code",
   "metadata": {
    "id": "CRe8W4hKpSOF",
    "pycharm": {
     "name": "#%%\n"
    },
    "ExecuteTime": {
     "end_time": "2025-04-20T21:51:44.478091Z",
     "start_time": "2025-04-20T21:51:44.461388Z"
    }
   },
   "source": [
    "import re\n",
    "\n",
    "import numpy as np\n",
    "import matplotlib.pyplot as plt\n",
    "import datasets\n",
    "import nltk\n",
    "import tqdm\n",
    "import gensim\n",
    "from nltk.corpus import stopwords\n",
    "#\n",
    "# nltk.download('punkt_tab')punkt_tab\n",
    "nltk.download('stopwords')"
   ],
   "outputs": [
    {
     "name": "stderr",
     "output_type": "stream",
     "text": [
      "[nltk_data] Downloading package stopwords to /Users/vd/nltk_data...\n",
      "[nltk_data]   Package stopwords is already up-to-date!\n"
     ]
    },
    {
     "data": {
      "text/plain": "True"
     },
     "execution_count": 15,
     "metadata": {},
     "output_type": "execute_result"
    }
   ],
   "execution_count": 15
  },
  {
   "cell_type": "markdown",
   "metadata": {
    "collapsed": false,
    "id": "NXy-1KiCpSOF",
    "pycharm": {
     "name": "#%% md\n"
    }
   },
   "source": [
    "## 1. Load and Preprocess Data\n",
    "\n",
    "*Sentence compression* involves rephrasing sentences to make them shorter while still retaining the original meaning. A reliable compression system would be valuable for mobile devices and could also serve as a component in an extractive summarization system.\n",
    "\n",
    "The dataset we are going to use can be found on [Huggingface](https://huggingface.co/datasets/embedding-data/sentence-compression). It concerns a set of 180,000 pairs of sentences, aka it is a parallel corpus of sentences and their equivalent compressions. It has been collected by harvesting news articles from the Internet where the headline appears to be similar to the first sentence and that property is used to find an \"extractive\" compression of the sentence.\n",
    "\n",
    "For example, for the sentence\n",
    "\n",
    "`\"Regulators Friday shut down a small Florida bank, bringing to 119 the number of US bank failures this year amid mounting loan defaults\"`\n",
    "\n",
    "the compressed equivalent (based on the dataset) is:\n",
    "\n",
    "`\"Regulators shut down small Florida bank\"`.\n",
    "\n",
    "\n",
    "For more information you can read the original paper (from Google) [here](https://aclanthology.org/D13-1155.pdf). We strongly recommend going over the paper to gain further insights. Notice that the paper is from 2013, therefore word embeddings have not been widely introduced yet in NLP tasks, meaning that the methods applied were based on the traditional NLP pipeline (feature extraction + ML)."
   ]
  },
  {
   "cell_type": "markdown",
   "metadata": {
    "collapsed": false,
    "id": "ztJX2GRVpSOF",
    "pycharm": {
     "name": "#%% md\n"
    }
   },
   "source": [
    "### 1.1 Loading the Dataset\n",
    "\n",
    "The dataset will be loaded as a Pandas DataFrame. This may take a few minutes because of the large size of the data.\n",
    "\n",
    "Make sure to inspect the dataset and make sure it is imported properly."
   ]
  },
  {
   "cell_type": "code",
   "metadata": {
    "id": "tay2NXPTpSOG",
    "pycharm": {
     "name": "#%%\n"
    },
    "ExecuteTime": {
     "end_time": "2025-04-20T21:51:49.519745Z",
     "start_time": "2025-04-20T21:51:45.636396Z"
    }
   },
   "source": [
    "import nltk.corpus\n",
    "\n",
    "ds = datasets.load_dataset('embedding-data/sentence-compression')\n",
    "print(ds)"
   ],
   "outputs": [
    {
     "name": "stdout",
     "output_type": "stream",
     "text": [
      "DatasetDict({\n",
      "    train: Dataset({\n",
      "        features: ['set'],\n",
      "        num_rows: 180000\n",
      "    })\n",
      "})\n"
     ]
    }
   ],
   "execution_count": 16
  },
  {
   "cell_type": "code",
   "metadata": {
    "id": "bUud3eZVpSOH",
    "pycharm": {
     "name": "#%%\n"
    },
    "ExecuteTime": {
     "end_time": "2025-04-20T21:51:49.530538Z",
     "start_time": "2025-04-20T21:51:49.511327Z"
    }
   },
   "source": [
    "for i in range(10):\n",
    "    print(ds['train'][i])"
   ],
   "outputs": [
    {
     "name": "stdout",
     "output_type": "stream",
     "text": [
      "{'set': [\"The USHL completed an expansion draft on Monday as 10 players who were on the rosters of USHL teams during the 2009-10 season were selected by the League's two newest entries, the Muskegon Lumberjacks and Dubuque Fighting Saints.\", 'USHL completes expansion draft']}\n",
      "{'set': ['Major League Baseball Commissioner Bud Selig will be speaking at St. Norbert College next month.', 'Bud Selig to speak at St. Norbert College']}\n",
      "{'set': [\"It's fresh cherry time in Michigan and the best time to enjoy this delicious and nutritious fruit.\", \"It's cherry time\"]}\n",
      "{'set': ['An Evesham man is facing charges in Pennsylvania after he allegedly dragged his girlfriend from the side of his pickup truck on the campus of Kutztown University in the early morning hours of Dec. 5, police said.', 'Evesham man faces charges for Pa.']}\n",
      "{'set': [\"NRT LLC, one of the nation's largest residential real estate brokerage companies, announced several executive appointments within its Coldwell Banker Residential Brokerage operations in Southern California.\", 'NRT announces executive appointments at its Coldwell Banker operations in Southern California']}\n",
      "{'set': ['THE JSE kept toying with an all time high by midday today as resources continued to fuel the bourse.', 'JSE keeps toying with all time high']}\n",
      "{'set': ['The government is defending the latest police crime statistics despite a worrying rise in the recorded amount of violent offending.', 'Government defends crime statistics']}\n",
      "{'set': ['The renovated Marappalam bridge, which had been opened for two-wheelers last week, was opened for other vehicles also on Friday.', 'Marappalam bridge opened']}\n",
      "{'set': ['A new survey shows 30 percent of Californians use Twitter, and more and more of us are using our smart phones to go online.', 'Survey: 30 percent of Californians use Twitter']}\n",
      "{'set': ['Brightpoint ,a provider of logistic services to the mobile industry, has started operations in the Turkish market.', 'Brightpoint starts operations on Turkish market']}\n"
     ]
    }
   ],
   "execution_count": 17
  },
  {
   "cell_type": "markdown",
   "metadata": {
    "collapsed": false,
    "id": "HfJSiWxrpSOH",
    "pycharm": {
     "name": "#%% md\n"
    }
   },
   "source": [
    "The dataset comes with only the `train` split so we will have to split it ourselves."
   ]
  },
  {
   "cell_type": "code",
   "metadata": {
    "id": "tATL53MWpSOH",
    "pycharm": {
     "name": "#%%\n"
    },
    "ExecuteTime": {
     "end_time": "2025-04-20T21:51:49.595220Z",
     "start_time": "2025-04-20T21:51:49.519981Z"
    }
   },
   "source": [
    "split_ds = ds['train'].train_test_split(test_size=0.2)\n",
    "print(split_ds)"
   ],
   "outputs": [
    {
     "name": "stdout",
     "output_type": "stream",
     "text": [
      "DatasetDict({\n",
      "    train: Dataset({\n",
      "        features: ['set'],\n",
      "        num_rows: 144000\n",
      "    })\n",
      "    test: Dataset({\n",
      "        features: ['set'],\n",
      "        num_rows: 36000\n",
      "    })\n",
      "})\n"
     ]
    }
   ],
   "execution_count": 18
  },
  {
   "cell_type": "markdown",
   "metadata": {
    "collapsed": false,
    "id": "L133t3CqpSOH",
    "pycharm": {
     "name": "#%% md\n"
    }
   },
   "source": [
    "### 1.2 Preprocessing the dataset\n",
    "In this section we will prepare the dataset, aka clean the sentences and tokenize.\n",
    "\n",
    "First, let's write the function to clean the text. It can be similar to the one from the previous lab (Lab1) but make sure that it makes sense for this dataset and task.\n",
    "\n",
    "More specifically, think about lower-casing, punctuation, stop-words and lemmatization/stemming and the impact it might have on the dataset. Also reflect on the fact that with word embeddings we want to uncover semantic relationships between words, whereas with bag-of-words we were trying to capture different morphological variations."
   ]
  },
  {
   "cell_type": "markdown",
   "metadata": {
    "collapsed": false,
    "id": "mQszN6GNpSOH",
    "pycharm": {
     "name": "#%% md\n"
    }
   },
   "source": [
    "<a name='e1'></a>\n",
    "### Exercise 1: Clean function\n",
    "(1p) Fill in the following function ot clean the dataset. Implement at least 3 different steps."
   ]
  },
  {
   "cell_type": "code",
   "metadata": {
    "id": "TxjfLQj6pSOH",
    "pycharm": {
     "name": "#%%\n"
    },
    "ExecuteTime": {
     "end_time": "2025-04-20T22:28:02.613362Z",
     "start_time": "2025-04-20T22:28:02.606205Z"
    }
   },
   "source": [
    "def clean(text):\n",
    "    \"\"\"\n",
    "    Cleans the given text\n",
    "    Args:\n",
    "        text: a str with the text to clean\n",
    "\n",
    "    Returns: a str with the cleaned text\n",
    "\n",
    "    \"\"\"\n",
    "\n",
    "    # Empty text\n",
    "    if text == '':\n",
    "        return text\n",
    "\n",
    "    # 'text' from the example can be of type numpy.str_, let's convert it to a python str\n",
    "    text = str(text)\n",
    "\n",
    "    #you might need more\n",
    "    #add them here\n",
    "\n",
    "    ### YOUR CODE HERE\n",
    "#those functions delete all uppercase letters but without multiple Capital letters like CNN US.\n",
    "\n",
    "    text = re.sub(r'\\b([A-Z][a-z]+)\\b', lambda m: m.group(1).lower(), text)\n",
    "    text = re.sub(r'\\b([A-Z])(?![A-Z])\\b', lambda m: m.group(1).lower(), text)\n",
    "\n",
    "    #keeps only letters and numbers BUT keeps ' if its between two letters like in the word don't\n",
    "    text = re.sub(r\"(?<!\\w)'|'(?!\\w)\", \"\", text)\n",
    "\n",
    "    #gets rid of all special characters but numbers letters and apostrophes\n",
    "    text = re.sub(r\"[^\\w\\s']\", \"\", text)\n",
    "\n",
    "    #Question to a friend: How did you do the stopping words part? (Caetano Allesie)\n",
    "    #written with help of copilot\n",
    "    stop_words =  set(nltk.corpus.stopwords.words('english'))\n",
    "    words = text.split()\n",
    "    stop_words_words = []\n",
    "    for word in words:\n",
    "        if word not in stop_words:\n",
    "            stop_words_words.append(word)\n",
    "    text =\" \".join(stop_words_words)\n",
    "    ### YOUR CODE ENDS HERE\n",
    "\n",
    "    text = text.strip()\n",
    "\n",
    "    # Update the example with the cleaned text\n",
    "    return text"
   ],
   "outputs": [],
   "execution_count": 80
  },
  {
   "cell_type": "markdown",
   "metadata": {
    "collapsed": false,
    "id": "gAqf1AoupSOJ",
    "pycharm": {
     "name": "#%% md\n"
    }
   },
   "source": [
    "The following function will apply the function (sic) you just wrote to the whole dataset. More specifically, it takes the first entry (`sentence`) from the set of uncompressed/compressed pairs, applies the `clean` function and saves the processed sentence in the field `clean_sentence`. The same is dome for the compressed version of the sentence (saved as `clean_compressed`)."
   ]
  },
  {
   "metadata": {
    "ExecuteTime": {
     "end_time": "2025-04-20T21:51:49.608009Z",
     "start_time": "2025-04-20T21:51:49.560011Z"
    }
   },
   "cell_type": "code",
   "source": "print(clean(\"'Hers' amunition don't 'aint yay!!!$%# \"))",
   "outputs": [
    {
     "name": "stdout",
     "output_type": "stream",
     "text": [
      "amunition aint yay\n"
     ]
    }
   ],
   "execution_count": 20
  },
  {
   "cell_type": "code",
   "metadata": {
    "id": "WZn-M4_vpSOJ",
    "pycharm": {
     "name": "#%%\n"
    },
    "ExecuteTime": {
     "end_time": "2025-04-20T21:51:55.016552Z",
     "start_time": "2025-04-20T21:51:54.988738Z"
    }
   },
   "source": [
    "def clean_dataset(example):\n",
    "    \"\"\"\n",
    "    Cleans the sentence and compressed sentence in the example from the Dataset\n",
    "    Args:\n",
    "        example: an example from the Dataset\n",
    "\n",
    "    Returns: updated example with 'clean_sentence' and 'clean_compressed' cleaned\n",
    "\n",
    "    \"\"\"\n",
    "    sentence, compressed = example['set']\n",
    "    clean_sentence = clean(sentence)\n",
    "    clean_compressed = clean(compressed)\n",
    "    example['clean_sentence'] = clean_sentence\n",
    "    example['clean_compressed'] = clean_compressed\n",
    "    return example"
   ],
   "outputs": [],
   "execution_count": 21
  },
  {
   "cell_type": "markdown",
   "metadata": {
    "collapsed": false,
    "id": "_KVujosKpSOJ",
    "pycharm": {
     "name": "#%% md\n"
    }
   },
   "source": [
    "Below we apply the function to the whole dataset (using `map`) and we can also inspect the result."
   ]
  },
  {
   "cell_type": "code",
   "metadata": {
    "id": "NBS1JbISpSOJ",
    "pycharm": {
     "name": "#%%\n"
    },
    "ExecuteTime": {
     "end_time": "2025-04-20T21:52:20.732858Z",
     "start_time": "2025-04-20T21:51:56.310782Z"
    }
   },
   "source": [
    "split_ds = split_ds.map(clean_dataset)\n",
    "print(split_ds)"
   ],
   "outputs": [
    {
     "data": {
      "text/plain": "Map:   0%|          | 0/144000 [00:00<?, ? examples/s]",
      "application/vnd.jupyter.widget-view+json": {
       "version_major": 2,
       "version_minor": 0,
       "model_id": "48e57f3a9be34e0abbe86391480879bc"
      }
     },
     "metadata": {},
     "output_type": "display_data"
    },
    {
     "data": {
      "text/plain": "Map:   0%|          | 0/36000 [00:00<?, ? examples/s]",
      "application/vnd.jupyter.widget-view+json": {
       "version_major": 2,
       "version_minor": 0,
       "model_id": "226b05ba509c4a0989ddd6fb72120019"
      }
     },
     "metadata": {},
     "output_type": "display_data"
    },
    {
     "name": "stdout",
     "output_type": "stream",
     "text": [
      "DatasetDict({\n",
      "    train: Dataset({\n",
      "        features: ['set', 'clean_sentence', 'clean_compressed'],\n",
      "        num_rows: 144000\n",
      "    })\n",
      "    test: Dataset({\n",
      "        features: ['set', 'clean_sentence', 'clean_compressed'],\n",
      "        num_rows: 36000\n",
      "    })\n",
      "})\n"
     ]
    }
   ],
   "execution_count": 22
  },
  {
   "cell_type": "markdown",
   "metadata": {
    "collapsed": false,
    "id": "X_ThE9H-pSOJ",
    "pycharm": {
     "name": "#%% md\n"
    }
   },
   "source": [
    "Let's examine some examples from the dataset and make sure that we got the results we wanted. At this step, it might be necessary to revisit some pre-processing steps if you are not happy with the results."
   ]
  },
  {
   "cell_type": "code",
   "metadata": {
    "id": "hP-qOPijpSOJ",
    "pycharm": {
     "name": "#%%\n"
    },
    "ExecuteTime": {
     "end_time": "2025-04-20T21:52:20.742413Z",
     "start_time": "2025-04-20T21:52:20.736426Z"
    }
   },
   "source": [
    "for i in range(10):\n",
    "    print(split_ds['train'][i])"
   ],
   "outputs": [
    {
     "name": "stdout",
     "output_type": "stream",
     "text": [
      "{'set': ['Short rain and thunderstorm are also expected in Yerevan, mostly after noon.', 'Short rain, thunderstorm expected in Yerevan'], 'clean_sentence': 'short rain thunderstorm also expected yerevan mostly noon', 'clean_compressed': 'short rain thunderstorm expected yerevan'}\n",
      "{'set': [\"A man accused of burglarizing an Indiantown home Sunday said he will hide from law enforcement when he is released on bail, according to an affidavit released Monday by the Martin County Sheriff's Office.\", 'Man accused of burglarizing Indiantown home'], 'clean_sentence': \"man accused burglarizing indiantown home sunday said hide law enforcement released bail according affidavit released monday martin county sheriff's office\", 'clean_compressed': 'man accused burglarizing indiantown home'}\n",
      "{'set': ['Luke has been evicted from the Big Brother house after being pitted against seven other contestants.', 'Luke evicted from Big Brother house'], 'clean_sentence': 'luke evicted big brother house pitted seven contestants', 'clean_compressed': 'luke evicted big brother house'}\n",
      "{'set': ['Algerian security forces killed at least 10 armed Islamists southeast of the capital Algiers, APS news agency quoted security officials as saying, AFP reported.', 'Algerian security forces kill 10 Islamists'], 'clean_sentence': 'algerian security forces killed least 10 armed islamists southeast capital algiers APS news agency quoted security officials saying AFP reported', 'clean_compressed': 'algerian security forces kill 10 islamists'}\n",
      "{'set': [\"The Thomson Corporation announced that it has completed its acquisition of Reuters Group PLC, forming Thomson Reuters, the world's leading source of intelligent information for businesses and professionals in the financial, legal, tax & accounting, scientific, healthcare, and media markets.\", 'Thomson completes acquisition of Reuters'], 'clean_sentence': \"thomson corporation announced completed acquisition reuters group PLC forming thomson reuters world's leading source intelligent information businesses professionals financial legal tax accounting scientific healthcare media markets\", 'clean_compressed': 'thomson completes acquisition reuters'}\n",
      "{'set': ['An RV caught fire in La Cresta Friday as the owner was returning home from having it serviced in Murrieta.', 'RV catches fire in La Cresta'], 'clean_sentence': 'RV caught fire la cresta friday owner returning home serviced murrieta', 'clean_compressed': 'RV catches fire la cresta'}\n",
      "{'set': ['The Ospreys have announced that 28-year-old Bowe will undergo surgery in Ireland on Friday for the removal of a haematoma that has pushed into his kidney and caused raised blood pressure.', 'Tommy Bowe undergoes surgery'], 'clean_sentence': 'ospreys announced 28yearold bowe undergo surgery ireland friday removal haematoma pushed kidney caused raised blood pressure', 'clean_compressed': 'tommy bowe undergoes surgery'}\n",
      "{'set': ['ROBERT Pattinson used to pretend he knew the British royal family when he went to the US.', 'Robert Pattinson pretended to know the royal family'], 'clean_sentence': 'ROBERT pattinson used pretend knew british royal family went US', 'clean_compressed': 'robert pattinson pretended know royal family'}\n",
      "{'set': ['A MAN believed to be in his twenties died Friday night after his scooter crashed into a parked car.', 'Man dies after scooter crashes into parked car'], 'clean_sentence': 'MAN believed twenties died friday night scooter crashed parked car', 'clean_compressed': 'man dies scooter crashes parked car'}\n",
      "{'set': [\"NEIL WARNOCK has hailed Andre Villas-Boas as 'the best young manager in the world'.\", 'Neil Warnock hails Andre Villas-Boas'], 'clean_sentence': 'NEIL WARNOCK hailed andre villasboas best young manager world', 'clean_compressed': 'neil warnock hails andre villasboas'}\n"
     ]
    }
   ],
   "execution_count": 23
  },
  {
   "cell_type": "markdown",
   "metadata": {
    "collapsed": false,
    "id": "7LI2KlfypSOJ",
    "pycharm": {
     "name": "#%% md\n"
    }
   },
   "source": [
    "<a name='e2'></a>\n",
    "### Exercise 2: Tokenize function\n",
    "\n",
    "(1p) As always, we will need to tokenize the dataset in order to create bat-of-words and TF-IDF representations in the next sections. We will use the [Natural Language Toolkit (NLTK) library]([https://www.nltk.org/]) (https://www.nltk.org/). Complete the following function to split the text into tokens using the `word_tokenize()` function. Check the [documentation](https://www.nltk.org/api/nltk.tokenize.word_tokenize.html?highlight=word_tokenize) first.\n",
    "Note that there are different tokenizers e.g. `RegexpTokenizer` where you can enter your own regexp, `WhitespaceTokenizer` (similar to Python's string.split()) and `BlanklineTokenizer`."
   ]
  },
  {
   "cell_type": "code",
   "metadata": {
    "id": "sb-M3V6ApSOK",
    "pycharm": {
     "name": "#%%\n"
    },
    "ExecuteTime": {
     "end_time": "2025-04-20T21:52:20.744436Z",
     "start_time": "2025-04-20T21:52:20.738421Z"
    }
   },
   "source": [
    "def tokenize(text):\n",
    "    \"\"\"\n",
    "    Tokenizes the `text` parameter using nltk library\n",
    "    Args:\n",
    "        text: a string representing a sentence to be tokenized\n",
    "\n",
    "    Returns: a list of tokens (strings)\n",
    "\n",
    "    \"\"\"\n",
    "\n",
    "    ### YOUR CODE HERE\n",
    "    tokens = nltk.word_tokenize(text)\n",
    "    ### YOUR CODE ENDS HERE\n",
    "    return tokens"
   ],
   "outputs": [],
   "execution_count": 24
  },
  {
   "cell_type": "markdown",
   "metadata": {
    "collapsed": false,
    "id": "gwsHqZc9pSOK",
    "pycharm": {
     "name": "#%% md\n"
    }
   },
   "source": [
    "Next, the function will be applied to the whole dataset (as we did with the pre-processing) and `sentence_tokens` field will be created to store the result."
   ]
  },
  {
   "cell_type": "code",
   "metadata": {
    "id": "6sTX-AcTpSOK",
    "pycharm": {
     "name": "#%%\n"
    },
    "ExecuteTime": {
     "end_time": "2025-04-20T21:52:20.758180Z",
     "start_time": "2025-04-20T21:52:20.741325Z"
    }
   },
   "source": [
    "def tokenize_dataset(example):\n",
    "    \"\"\"\n",
    "    Tokenizes 'clean_sentence' columns in the example from the Dataset\n",
    "    Args:\n",
    "        example: an example from the Dataset\n",
    "\n",
    "    Returns: updated example with 'sentence_tokens' columns\n",
    "\n",
    "    \"\"\"\n",
    "    example['sentence_tokens'] = tokenize(example['clean_sentence'])\n",
    "    example['compressed_tokens'] = tokenize(example['clean_compressed'])\n",
    "    return example"
   ],
   "outputs": [],
   "execution_count": 25
  },
  {
   "cell_type": "code",
   "metadata": {
    "id": "jvwmXLj2pSOK",
    "pycharm": {
     "name": "#%%\n"
    },
    "ExecuteTime": {
     "end_time": "2025-04-20T21:52:38.526769Z",
     "start_time": "2025-04-20T21:52:20.743574Z"
    }
   },
   "source": [
    "split_ds = split_ds.map(tokenize_dataset)"
   ],
   "outputs": [
    {
     "data": {
      "text/plain": "Map:   0%|          | 0/144000 [00:00<?, ? examples/s]",
      "application/vnd.jupyter.widget-view+json": {
       "version_major": 2,
       "version_minor": 0,
       "model_id": "e491ad643b554bb99e1f9d96d8049acf"
      }
     },
     "metadata": {},
     "output_type": "display_data"
    },
    {
     "data": {
      "text/plain": "Map:   0%|          | 0/36000 [00:00<?, ? examples/s]",
      "application/vnd.jupyter.widget-view+json": {
       "version_major": 2,
       "version_minor": 0,
       "model_id": "6fc758b4bf6f4ea0bab1a11d3346a0f5"
      }
     },
     "metadata": {},
     "output_type": "display_data"
    }
   ],
   "execution_count": 26
  },
  {
   "cell_type": "code",
   "metadata": {
    "id": "yXnje31SpSOK",
    "pycharm": {
     "name": "#%%\n"
    },
    "ExecuteTime": {
     "end_time": "2025-04-20T21:52:38.535785Z",
     "start_time": "2025-04-20T21:52:38.529214Z"
    }
   },
   "source": [
    "for i in range(10):\n",
    "    print(split_ds['train'][i])"
   ],
   "outputs": [
    {
     "name": "stdout",
     "output_type": "stream",
     "text": [
      "{'set': ['Short rain and thunderstorm are also expected in Yerevan, mostly after noon.', 'Short rain, thunderstorm expected in Yerevan'], 'clean_sentence': 'short rain thunderstorm also expected yerevan mostly noon', 'clean_compressed': 'short rain thunderstorm expected yerevan', 'sentence_tokens': ['short', 'rain', 'thunderstorm', 'also', 'expected', 'yerevan', 'mostly', 'noon'], 'compressed_tokens': ['short', 'rain', 'thunderstorm', 'expected', 'yerevan']}\n",
      "{'set': [\"A man accused of burglarizing an Indiantown home Sunday said he will hide from law enforcement when he is released on bail, according to an affidavit released Monday by the Martin County Sheriff's Office.\", 'Man accused of burglarizing Indiantown home'], 'clean_sentence': \"man accused burglarizing indiantown home sunday said hide law enforcement released bail according affidavit released monday martin county sheriff's office\", 'clean_compressed': 'man accused burglarizing indiantown home', 'sentence_tokens': ['man', 'accused', 'burglarizing', 'indiantown', 'home', 'sunday', 'said', 'hide', 'law', 'enforcement', 'released', 'bail', 'according', 'affidavit', 'released', 'monday', 'martin', 'county', 'sheriff', \"'s\", 'office'], 'compressed_tokens': ['man', 'accused', 'burglarizing', 'indiantown', 'home']}\n",
      "{'set': ['Luke has been evicted from the Big Brother house after being pitted against seven other contestants.', 'Luke evicted from Big Brother house'], 'clean_sentence': 'luke evicted big brother house pitted seven contestants', 'clean_compressed': 'luke evicted big brother house', 'sentence_tokens': ['luke', 'evicted', 'big', 'brother', 'house', 'pitted', 'seven', 'contestants'], 'compressed_tokens': ['luke', 'evicted', 'big', 'brother', 'house']}\n",
      "{'set': ['Algerian security forces killed at least 10 armed Islamists southeast of the capital Algiers, APS news agency quoted security officials as saying, AFP reported.', 'Algerian security forces kill 10 Islamists'], 'clean_sentence': 'algerian security forces killed least 10 armed islamists southeast capital algiers APS news agency quoted security officials saying AFP reported', 'clean_compressed': 'algerian security forces kill 10 islamists', 'sentence_tokens': ['algerian', 'security', 'forces', 'killed', 'least', '10', 'armed', 'islamists', 'southeast', 'capital', 'algiers', 'APS', 'news', 'agency', 'quoted', 'security', 'officials', 'saying', 'AFP', 'reported'], 'compressed_tokens': ['algerian', 'security', 'forces', 'kill', '10', 'islamists']}\n",
      "{'set': [\"The Thomson Corporation announced that it has completed its acquisition of Reuters Group PLC, forming Thomson Reuters, the world's leading source of intelligent information for businesses and professionals in the financial, legal, tax & accounting, scientific, healthcare, and media markets.\", 'Thomson completes acquisition of Reuters'], 'clean_sentence': \"thomson corporation announced completed acquisition reuters group PLC forming thomson reuters world's leading source intelligent information businesses professionals financial legal tax accounting scientific healthcare media markets\", 'clean_compressed': 'thomson completes acquisition reuters', 'sentence_tokens': ['thomson', 'corporation', 'announced', 'completed', 'acquisition', 'reuters', 'group', 'PLC', 'forming', 'thomson', 'reuters', 'world', \"'s\", 'leading', 'source', 'intelligent', 'information', 'businesses', 'professionals', 'financial', 'legal', 'tax', 'accounting', 'scientific', 'healthcare', 'media', 'markets'], 'compressed_tokens': ['thomson', 'completes', 'acquisition', 'reuters']}\n",
      "{'set': ['An RV caught fire in La Cresta Friday as the owner was returning home from having it serviced in Murrieta.', 'RV catches fire in La Cresta'], 'clean_sentence': 'RV caught fire la cresta friday owner returning home serviced murrieta', 'clean_compressed': 'RV catches fire la cresta', 'sentence_tokens': ['RV', 'caught', 'fire', 'la', 'cresta', 'friday', 'owner', 'returning', 'home', 'serviced', 'murrieta'], 'compressed_tokens': ['RV', 'catches', 'fire', 'la', 'cresta']}\n",
      "{'set': ['The Ospreys have announced that 28-year-old Bowe will undergo surgery in Ireland on Friday for the removal of a haematoma that has pushed into his kidney and caused raised blood pressure.', 'Tommy Bowe undergoes surgery'], 'clean_sentence': 'ospreys announced 28yearold bowe undergo surgery ireland friday removal haematoma pushed kidney caused raised blood pressure', 'clean_compressed': 'tommy bowe undergoes surgery', 'sentence_tokens': ['ospreys', 'announced', '28yearold', 'bowe', 'undergo', 'surgery', 'ireland', 'friday', 'removal', 'haematoma', 'pushed', 'kidney', 'caused', 'raised', 'blood', 'pressure'], 'compressed_tokens': ['tommy', 'bowe', 'undergoes', 'surgery']}\n",
      "{'set': ['ROBERT Pattinson used to pretend he knew the British royal family when he went to the US.', 'Robert Pattinson pretended to know the royal family'], 'clean_sentence': 'ROBERT pattinson used pretend knew british royal family went US', 'clean_compressed': 'robert pattinson pretended know royal family', 'sentence_tokens': ['ROBERT', 'pattinson', 'used', 'pretend', 'knew', 'british', 'royal', 'family', 'went', 'US'], 'compressed_tokens': ['robert', 'pattinson', 'pretended', 'know', 'royal', 'family']}\n",
      "{'set': ['A MAN believed to be in his twenties died Friday night after his scooter crashed into a parked car.', 'Man dies after scooter crashes into parked car'], 'clean_sentence': 'MAN believed twenties died friday night scooter crashed parked car', 'clean_compressed': 'man dies scooter crashes parked car', 'sentence_tokens': ['MAN', 'believed', 'twenties', 'died', 'friday', 'night', 'scooter', 'crashed', 'parked', 'car'], 'compressed_tokens': ['man', 'dies', 'scooter', 'crashes', 'parked', 'car']}\n",
      "{'set': [\"NEIL WARNOCK has hailed Andre Villas-Boas as 'the best young manager in the world'.\", 'Neil Warnock hails Andre Villas-Boas'], 'clean_sentence': 'NEIL WARNOCK hailed andre villasboas best young manager world', 'clean_compressed': 'neil warnock hails andre villasboas', 'sentence_tokens': ['NEIL', 'WARNOCK', 'hailed', 'andre', 'villasboas', 'best', 'young', 'manager', 'world'], 'compressed_tokens': ['neil', 'warnock', 'hails', 'andre', 'villasboas']}\n"
     ]
    }
   ],
   "execution_count": 27
  },
  {
   "cell_type": "markdown",
   "metadata": {
    "collapsed": false,
    "id": "FeF0wFd0pSOL",
    "pycharm": {
     "name": "#%% md\n"
    }
   },
   "source": [
    "Since we will need the tokenized sentences, we can use the following statement to extract them from the `train` split of our dataset."
   ]
  },
  {
   "cell_type": "code",
   "metadata": {
    "id": "qYKfXFxQpSOL",
    "pycharm": {
     "name": "#%%\n"
    },
    "ExecuteTime": {
     "end_time": "2025-04-20T21:52:39.823923Z",
     "start_time": "2025-04-20T21:52:39.815954Z"
    }
   },
   "source": [
    "tokenized_sentences = split_ds['train']['sentence_tokens']\n",
    "print(len(tokenized_sentences))\n",
    "print(tokenized_sentences[:10])"
   ],
   "outputs": [
    {
     "name": "stdout",
     "output_type": "stream",
     "text": [
      "144000\n",
      "[['short', 'rain', 'thunderstorm', 'also', 'expected', 'yerevan', 'mostly', 'noon'], ['man', 'accused', 'burglarizing', 'indiantown', 'home', 'sunday', 'said', 'hide', 'law', 'enforcement', 'released', 'bail', 'according', 'affidavit', 'released', 'monday', 'martin', 'county', 'sheriff', \"'s\", 'office'], ['luke', 'evicted', 'big', 'brother', 'house', 'pitted', 'seven', 'contestants'], ['algerian', 'security', 'forces', 'killed', 'least', '10', 'armed', 'islamists', 'southeast', 'capital', 'algiers', 'APS', 'news', 'agency', 'quoted', 'security', 'officials', 'saying', 'AFP', 'reported'], ['thomson', 'corporation', 'announced', 'completed', 'acquisition', 'reuters', 'group', 'PLC', 'forming', 'thomson', 'reuters', 'world', \"'s\", 'leading', 'source', 'intelligent', 'information', 'businesses', 'professionals', 'financial', 'legal', 'tax', 'accounting', 'scientific', 'healthcare', 'media', 'markets'], ['RV', 'caught', 'fire', 'la', 'cresta', 'friday', 'owner', 'returning', 'home', 'serviced', 'murrieta'], ['ospreys', 'announced', '28yearold', 'bowe', 'undergo', 'surgery', 'ireland', 'friday', 'removal', 'haematoma', 'pushed', 'kidney', 'caused', 'raised', 'blood', 'pressure'], ['ROBERT', 'pattinson', 'used', 'pretend', 'knew', 'british', 'royal', 'family', 'went', 'US'], ['MAN', 'believed', 'twenties', 'died', 'friday', 'night', 'scooter', 'crashed', 'parked', 'car'], ['NEIL', 'WARNOCK', 'hailed', 'andre', 'villasboas', 'best', 'young', 'manager', 'world']]\n"
     ]
    }
   ],
   "execution_count": 28
  },
  {
   "cell_type": "code",
   "metadata": {
    "collapsed": false,
    "pycharm": {
     "name": "#%%\n"
    },
    "ExecuteTime": {
     "end_time": "2025-04-20T21:52:40.448268Z",
     "start_time": "2025-04-20T21:52:40.444761Z"
    }
   },
   "source": [
    "tokenized_compressed = split_ds['train']['compressed_tokens']\n",
    "print(len(tokenized_compressed))\n",
    "print(tokenized_compressed[:10])"
   ],
   "outputs": [
    {
     "name": "stdout",
     "output_type": "stream",
     "text": [
      "144000\n",
      "[['short', 'rain', 'thunderstorm', 'expected', 'yerevan'], ['man', 'accused', 'burglarizing', 'indiantown', 'home'], ['luke', 'evicted', 'big', 'brother', 'house'], ['algerian', 'security', 'forces', 'kill', '10', 'islamists'], ['thomson', 'completes', 'acquisition', 'reuters'], ['RV', 'catches', 'fire', 'la', 'cresta'], ['tommy', 'bowe', 'undergoes', 'surgery'], ['robert', 'pattinson', 'pretended', 'know', 'royal', 'family'], ['man', 'dies', 'scooter', 'crashes', 'parked', 'car'], ['neil', 'warnock', 'hails', 'andre', 'villasboas']]\n"
     ]
    }
   ],
   "execution_count": 29
  },
  {
   "cell_type": "markdown",
   "metadata": {
    "id": "ZDGwEiZeCA5U",
    "pycharm": {
     "name": "#%% md\n"
    }
   },
   "source": [
    "Notice the difference in the types of the different structures we use. Run the following cell to check the types. Do they make sense to you?"
   ]
  },
  {
   "cell_type": "code",
   "metadata": {
    "id": "wKrkFmcZCtOd",
    "pycharm": {
     "name": "#%%\n"
    },
    "ExecuteTime": {
     "end_time": "2025-04-20T21:52:43.327703Z",
     "start_time": "2025-04-20T21:52:40.447395Z"
    }
   },
   "source": [
    "#type of original dataset\n",
    "print(type(split_ds))\n",
    "print(\"--\")\n",
    "#type of original sentence\n",
    "print(split_ds['train'][1])\n",
    "print(type(split_ds['train'][1]))\n",
    "print(\"--\")\n",
    "#type of pre-proceesed sentence\n",
    "print(split_ds['train']['clean_sentence'][1])\n",
    "print(type(split_ds['train']['clean_sentence'][1]))\n",
    "print(\"--\")\n",
    "#type of tokenized sentence\n",
    "print(split_ds['train']['sentence_tokens'][1])\n",
    "print(type(split_ds['train']['sentence_tokens'][1]))\n",
    "print(\"--\")"
   ],
   "outputs": [
    {
     "name": "stdout",
     "output_type": "stream",
     "text": [
      "<class 'datasets.dataset_dict.DatasetDict'>\n",
      "--\n",
      "{'set': [\"A man accused of burglarizing an Indiantown home Sunday said he will hide from law enforcement when he is released on bail, according to an affidavit released Monday by the Martin County Sheriff's Office.\", 'Man accused of burglarizing Indiantown home'], 'clean_sentence': \"man accused burglarizing indiantown home sunday said hide law enforcement released bail according affidavit released monday martin county sheriff's office\", 'clean_compressed': 'man accused burglarizing indiantown home', 'sentence_tokens': ['man', 'accused', 'burglarizing', 'indiantown', 'home', 'sunday', 'said', 'hide', 'law', 'enforcement', 'released', 'bail', 'according', 'affidavit', 'released', 'monday', 'martin', 'county', 'sheriff', \"'s\", 'office'], 'compressed_tokens': ['man', 'accused', 'burglarizing', 'indiantown', 'home']}\n",
      "<class 'dict'>\n",
      "--\n",
      "man accused burglarizing indiantown home sunday said hide law enforcement released bail according affidavit released monday martin county sheriff's office\n",
      "<class 'str'>\n",
      "--\n",
      "['man', 'accused', 'burglarizing', 'indiantown', 'home', 'sunday', 'said', 'hide', 'law', 'enforcement', 'released', 'bail', 'according', 'affidavit', 'released', 'monday', 'martin', 'county', 'sheriff', \"'s\", 'office']\n",
      "<class 'list'>\n",
      "--\n"
     ]
    }
   ],
   "execution_count": 30
  },
  {
   "cell_type": "markdown",
   "metadata": {
    "collapsed": false,
    "pycharm": {
     "name": "#%% md\n"
    }
   },
   "source": [
    "## 2. Bag of Words\n",
    "In this section you will built a bag-of-words representation of the dataset. We will use numpy arrays to store the results. The bag-of-words representation is a simple and effective way to represent text data. It involves creating a vocabulary of unique words from the dataset and representing each sentence as a vector of word counts. We first need the vocabulary, which we will build from both the full sentences and the compressed sentences. Similar to the first lab, the vocabulary will be a list of unique words from the dataset."
   ]
  },
  {
   "cell_type": "markdown",
   "metadata": {
    "collapsed": false,
    "pycharm": {
     "name": "#%% md\n"
    }
   },
   "source": [
    "<a name='e3'></a>\n",
    "### Exercise 3: Extracting vocabulary counts\n",
    "\n",
    "(1p) In the following cell, you will implement a function that takes a list of tokenized sentences and returns a dictionary with the counts of each word in the vocabulary. The dictionary should be of the form {word: count}. As in previous lab, you will use the `Counter` class from the `collections` module to do this."
   ]
  },
  {
   "cell_type": "code",
   "metadata": {
    "collapsed": false,
    "pycharm": {
     "name": "#%%\n"
    },
    "ExecuteTime": {
     "end_time": "2025-04-20T21:52:43.343146Z",
     "start_time": "2025-04-20T21:52:43.329120Z"
    }
   },
   "source": [
    "from collections import Counter\n",
    "\n",
    "\n",
    "def extract_vocabulary_counts(tokenized_sentences):\n",
    "    \"\"\"\n",
    "    Extracts the vocabulary from the tokenized sentences\n",
    "    Args:\n",
    "        tokenized_sentences: a list of lists of tokens\n",
    "\n",
    "    Returns: a Counter object with the counts of each word in the vocabulary\n",
    "    \"\"\"\n",
    "\n",
    "    ### YOUR CODE HERE\n",
    "    # copilot used when writing the code\n",
    "    counter = Counter()\n",
    "    for sentence in tokenized_sentences:\n",
    "        counter.update(sentence)\n",
    "    return counter\n",
    "    ### YOUR CODE ENDS HERE"
   ],
   "outputs": [],
   "execution_count": 31
  },
  {
   "cell_type": "code",
   "metadata": {
    "collapsed": false,
    "pycharm": {
     "name": "#%%\n"
    },
    "ExecuteTime": {
     "end_time": "2025-04-20T21:52:43.610972Z",
     "start_time": "2025-04-20T21:52:43.330695Z"
    }
   },
   "source": [
    "vocab_counter = extract_vocabulary_counts(tokenized_sentences + tokenized_compressed)\n",
    "print(len(vocab_counter))\n",
    "print(vocab_counter.most_common(10))"
   ],
   "outputs": [
    {
     "name": "stdout",
     "output_type": "stream",
     "text": [
      "122858\n",
      "[(\"'s\", 28979), ('new', 20031), ('said', 19920), ('man', 11981), ('US', 10682), ('today', 10069), ('police', 9755), ('two', 9195), ('first', 8063), ('announced', 7741)]\n"
     ]
    }
   ],
   "execution_count": 32
  },
  {
   "cell_type": "markdown",
   "metadata": {
    "collapsed": false,
    "pycharm": {
     "name": "#%% md\n"
    }
   },
   "source": [
    "As you can see the size of the vocabulary is quite large. Like the last time, we will limit the vocabulary to the most frequent words. The next cell will create a dictionary that maps each word to an index in the vocabulary. This will be used to create the bag-of-words representation of the sentences."
   ]
  },
  {
   "cell_type": "code",
   "metadata": {
    "collapsed": false,
    "pycharm": {
     "name": "#%%\n"
    },
    "ExecuteTime": {
     "end_time": "2025-04-20T21:52:43.689322Z",
     "start_time": "2025-04-20T21:52:43.632825Z"
    }
   },
   "source": [
    "vocab_size = 10_000\n",
    "vocab = vocab_counter.most_common(vocab_size)\n",
    "token_to_id = {word: i for i, (word, _) in enumerate(vocab)}\n",
    "print(token_to_id)"
   ],
   "outputs": [
    {
     "name": "stdout",
     "output_type": "stream",
     "text": [
      "{\"'s\": 0, 'new': 1, 'said': 2, 'man': 3, 'US': 4, 'today': 5, 'police': 6, 'two': 7, 'first': 8, 'announced': 9, 'tuesday': 10, 'year': 11, 'wednesday': 12, 'thursday': 13, 'state': 14, 'monday': 15, 'friday': 16, 'president': 17, 'former': 18, 'says': 19, 'world': 20, 'one': 21, 'million': 22, 'city': 23, 'county': 24, 'last': 25, 'according': 26, 'may': 27, 'woman': 28, 'saturday': 29, 'week': 30, 'government': 31, 'years': 32, 'minister': 33, 'sunday': 34, 'home': 35, 'company': 36, 'three': 37, 'people': 38, 'india': 39, 'night': 40, 'time': 41, 'killed': 42, 'bank': 43, 'national': 44, 'south': 45, 'day': 46, 'next': 47, 'found': 48, 'court': 49, 'died': 50, 'arrested': 51, 'morning': 52, 'country': 53, 'school': 54, 'set': 55, 'obama': 56, 'charged': 57, 'could': 58, 'second': 59, 'would': 60, 'back': 61, 'reported': 62, 'group': 63, 'market': 64, 'international': 65, 'fire': 66, 'china': 67, 'team': 68, 'business': 69, 'open': 70, 'season': 71, 'oil': 72, 'house': 73, 'car': 74, 'north': 75, 'early': 76, 'reports': 77, 'charges': 78, 'service': 79, 'prices': 80, 'inc': 81, 'high': 82, 'news': 83, 'global': 84, 'united': 85, 'star': 86, 'plans': 87, 'officials': 88, 'dies': 89, 'guilty': 90, 'four': 91, 'month': 92, 'report': 93, 'death': 94, 'following': 95, 'hospital': 96, 'billion': 97, 'public': 98, 'yesterday': 99, 'american': 100, 'services': 101, 'released': 102, 'health': 103, 'chief': 104, 'near': 105, 'league': 106, 'say': 107, 'pakistan': 108, 'show': 109, 'york': 110, 'office': 111, 'hit': 112, 'federal': 113, 'help': 114, 'end': 115, 'west': 116, 'game': 117, 'financial': 118, 'security': 119, 'take': 120, 'made': 121, '2012': 122, 'make': 123, 'months': 124, 'five': 125, 'coach': 126, 'economic': 127, 'percent': 128, '10': 129, 'indian': 130, 'local': 131, 'accused': 132, 'per': 133, 'another': 134, 'top': 135, 'john': 136, 'expected': 137, 'third': 138, 'play': 139, 'launched': 140, 'life': 141, 'announces': 142, 'power': 143, 'jobs': 144, 'official': 145, 'women': 146, 'launches': 147, 'center': 148, 'part': 149, 'british': 150, 'major': 151, 'university': 152, 'trade': 153, 'party': 154, 'european': 155, 'deal': 156, 'record': 157, 'dead': 158, 'work': 159, 'win': 160, 'leader': 161, 'general': 162, 'media': 163, 'energy': 164, 'cup': 165, 'cut': 166, 'held': 167, 'told': 168, 'march': 169, 'left': 170, '1': 171, 'shot': 172, 'crash': 173, 'men': 174, 'get': 175, 'UK': 176, 'officer': 177, 'due': 178, 'support': 179, 'states': 180, 'air': 181, 'close': 182, 'stocks': 183, 'return': 184, '2010': 185, 'department': 186, 'gas': 187, 'free': 188, 'online': 189, 'days': 190, 'street': 191, 'club': 192, 'economy': 193, 'since': 194, 'head': 195, 'six': 196, 'area': 197, 'child': 198, 'foreign': 199, 'weekend': 200, '2011': 201, 'bill': 202, 'sales': 203, 'children': 204, 'central': 205, 'drug': 206, 'launch': 207, 'release': 208, 'district': 209, 'road': 210, 'mobile': 211, 'injured': 212, 'capital': 213, 'visit': 214, 'family': 215, 'prime': 216, 'london': 217, 'including': 218, 'start': 219, 'face': 220, 'series': 221, 'called': 222, 'afternoon': 223, 'still': 224, 'tour': 225, 'shares': 226, 'june': 227, 'dollar': 228, 'system': 229, 'stock': 230, 'military': 231, '20': 232, 'industry': 233, 'fall': 234, 'students': 235, 'board': 236, 'australia': 237, 'quarter': 238, 'iran': 239, 'st': 240, 'campaign': 241, 'tax': 242, 'park': 243, '2': 244, 'like': 245, 'attack': 246, 'april': 247, 'best': 248, 'david': 249, 'development': 250, 'final': 251, 'despite': 252, 'signed': 253, 'fell': 254, 'football': 255, 'markets': 256, 'sentenced': 257, 'across': 258, 'water': 259, 'australian': 260, 'go': 261, 'data': 262, 'barack': 263, 'wins': 264, 'cancer': 265, 'east': 266, 'around': 267, 'pay': 268, 'meeting': 269, 'council': 270, 'film': 271, '2009': 272, 'big': 273, 'growth': 274, '11': 275, 'corp': 276, 'way': 277, 'afghanistan': 278, 'manager': 279, 'plan': 280, 'run': 281, '2013': 282, 'leading': 283, 'prison': 284, 'contract': 285, 'price': 286, 'management': 287, 'talks': 288, 'revealed': 289, 'gold': 290, 'largest': 291, 'research': 292, 'move': 293, 'law': 294, 'agency': 295, 'washington': 296, 'case': 297, 'late': 298, 'buy': 299, 'confirmed': 300, 'actor': 301, 'england': 302, 'program': 303, 'host': 304, 'money': 305, 'food': 306, 'allegedly': 307, 'authorities': 308, '30': 309, 'agreement': 310, 'director': 311, '15': 312, 'wants': 313, 'san': 314, 'test': 315, 'murder': 316, 'increase': 317, 'games': 318, 'music': 319, 'rate': 320, 'union': 321, 'russia': 322, 'political': 323, '3': 324, 'firm': 325, 'girl': 326, 'conference': 327, 'annual': 328, 'michael': 329, 'several': 330, 'town': 331, 'private': 332, 'number': 333, 'july': 334, 'chinese': 335, 'crisis': 336, 'white': 337, 'budget': 338, '12': 339, 'america': 340, 'higher': 341, 'medical': 342, 'network': 343, 'continue': 344, 'technology': 345, 'community': 346, 'saying': 347, 'canada': 348, 'hold': 349, 'press': 350, 'companies': 351, 'recent': 352, 'closed': 353, 'workers': 354, 'recently': 355, 'investment': 356, 'share': 357, 'japan': 358, 'good': 359, 'young': 360, 'rise': 361, 'college': 362, 'study': 363, 'wife': 364, 'TV': 365, 'many': 366, 'senior': 367, 'secretary': 368, 'lead': 369, 'actress': 370, 'trial': 371, 'become': 372, 'korea': 373, 'right': 374, 'away': 375, 'provider': 376, 'use': 377, 'red': 378, 'well': 379, 'surgery': 380, 'shooting': 381, 'latest': 382, 'live': 383, 'demand': 384, 'age': 385, 'election': 386, 'offer': 387, 'rose': 388, 'southern': 389, 'special': 390, 'taking': 391, 'cent': 392, 'opened': 393, 'body': 394, '5': 395, 'place': 396, 'nearly': 397, 'meet': 398, 'rights': 399, 'making': 400, 'long': 401, 'centre': 402, 'senate': 403, 'lower': 404, 'likely': 405, 'sex': 406, 'accident': 407, 'congress': 408, 'credit': 409, 'line': 410, 'care': 411, 'going': 412, 'action': 413, 'investors': 414, 'judge': 415, 'january': 416, 'fight': 417, 'production': 418, 'assault': 419, 'french': 420, 'signs': 421, 'region': 422, 'presidential': 423, 'texas': 424, 'weeks': 425, 'social': 426, 'opens': 427, 'forces': 428, 'rates': 429, 'los': 430, 'store': 431, 'members': 432, 'africa': 433, 'trading': 434, 'sign': 435, 'russian': 436, 'video': 437, 'israel': 438, 'updated': 439, 'named': 440, 'also': 441, 'baby': 442, 'emergency': 443, 'facing': 444, 'ahead': 445, 'singer': 446, 'debt': 447, 'war': 448, 'faces': 449, 'paul': 450, 'times': 451, 'europe': 452, 'nuclear': 453, 'rs': 454, 'loss': 455, '2008': 456, 'points': 457, 'information': 458, 'coast': 459, 'mark': 460, 'charge': 461, '100': 462, 'strong': 463, 'google': 464, 'filed': 465, 'premier': 466, 'real': 467, 'nation': 468, 'governor': 469, 'building': 470, 'apple': 471, 'hours': 472, 'banks': 473, 'fund': 474, 'amid': 475, 'ago': 476, 'pleaded': 477, 'least': 478, 'grand': 479, 'player': 480, 'angeles': 481, 'pleads': 482, 'results': 483, 'even': 484, 'players': 485, 'small': 486, 'products': 487, 'boy': 488, 'future': 489, 'without': 490, 'issued': 491, 'working': 492, 'executive': 493, 'german': 494, 'interest': 495, 'september': 496, 'leaders': 497, 'summer': 498, 'student': 499, 'title': 500, 'call': 501, 'ministry': 502, 'agreed': 503, 'profit': 504, 'army': 505, 'driver': 506, 'plant': 507, 'project': 508, 'france': 509, 'california': 510, 'site': 511, 'calls': 512, 'seven': 513, 'exchange': 514, 'old': 515, 'pm': 516, 'side': 517, 'past': 518, 'race': 519, 'coming': 520, 'delhi': 521, 'chairman': 522, 'order': 523, 'florida': 524, '4': 525, 'heart': 526, '25': 527, 'took': 528, 'february': 529, 'sell': 530, 'leave': 531, 'november': 532, 'force': 533, 'falls': 534, 'residents': 535, 'asian': 536, 'makes': 537, 'earlier': 538, 'software': 539, 'cash': 540, 'traffic': 541, 'reportedly': 542, 'bus': 543, 'role': 544, 'northern': 545, 'republican': 546, 'stop': 547, 'corporation': 548, 'sector': 549, 'lost': 550, 'beat': 551, 'cuts': 552, 'looking': 553, 'canadian': 554, 'change': 555, 'taken': 556, 'fourth': 557, 'opening': 558, 'human': 559, 'policy': 560, 'come': 561, 'james': 562, '14': 563, 'half': 564, 'victory': 565, 'claims': 566, 'fans': 567, 'gov': 568, 'job': 569, 'education': 570, 'internet': 571, '21': 572, 'operations': 573, 'need': 574, 'airlines': 575, 'match': 576, 'injury': 577, 'forward': 578, 'us': 579, 'issues': 580, 'george': 581, 'october': 582, '13': 583, 'river': 584, 'planning': 585, 'album': 586, 'returns': 587, 'lake': 588, 'much': 589, 'great': 590, 'station': 591, 'continues': 592, 'bid': 593, 'killing': 594, '50': 595, 'co': 596, 'key': 597, 'schools': 598, 'used': 599, 'jail': 600, 'missing': 601, 'running': 602, 'strike': 603, 'round': 604, 'brown': 605, 'issue': 606, 'evening': 607, 'december': 608, 'control': 609, 'keep': 610, 'august': 611, 'suspended': 612, 'website': 613, 'insurance': 614, '18': 615, 'chris': 616, 'domestic': 617, 'biggest': 618, 'remain': 619, 'must': 620, 'offering': 621, 'airport': 622, 'association': 623, 'parliament': 624, 'raise': 625, 'sports': 626, 'guard': 627, '16': 628, 'arrest': 629, 'driving': 630, 'commission': 631, 'manchester': 632, 'remains': 633, 'construction': 634, 'property': 635, 'hall': 636, 'countries': 637, 'train': 638, 'brand': 639, 'received': 640, 'ready': 641, 'put': 642, 'consumer': 643, 'got': 644, 'current': 645, 'training': 646, 'britain': 647, 'soon': 648, 'israeli': 649, 'troops': 650, 'son': 651, 'trying': 652, 'giant': 653, 'sale': 654, 'join': 655, 'led': 656, 'getting': 657, 'search': 658, 'give': 659, 'customers': 660, 'mother': 661, 'member': 662, 'investigating': 663, 'vote': 664, 'vehicle': 665, 'event': 666, 'better': 667, 'black': 668, 'level': 669, 'elections': 670, 'weather': 671, 'takes': 672, 'full': 673, 'post': 674, 'facebook': 675, 'session': 676, 'chicago': 677, 'euro': 678, 'want': 679, 'shows': 680, 'committee': 681, 'island': 682, 'ended': 683, 'sold': 684, 'regional': 685, 'eight': 686, 'green': 687, 'bankruptcy': 688, '7': 689, '8': 690, 'safety': 691, 'movie': 692, 'robert': 693, '6': 694, 'statement': 695, 'announce': 696, 'iraq': 697, '24': 698, 'western': 699, 'little': 700, 'couple': 701, 'see': 702, 'african': 703, 'among': 704, 'border': 705, 'tonight': 706, 'officers': 707, 'cricket': 708, 'champion': 709, 'stage': 710, 'singh': 711, 'hollywood': 712, 'finance': 713, 'low': 714, 'target': 715, 'sri': 716, 'retail': 717, 'turkey': 718, 'sexual': 719, '22': 720, '17': 721, 'sen': 722, 'ban': 723, 'mortgage': 724, 'germany': 725, 'field': 726, 'debut': 727, 'love': 728, 'space': 729, 'opposition': 730, 'career': 731, 'phone': 732, 'warned': 733, 'outside': 734, 'championship': 735, 'given': 736, 'based': 737, 'behind': 738, 'along': 739, 'later': 740, 'staff': 741, 'zealand': 742, 'admitted': 743, 'upcoming': 744, 'sent': 745, 'suicide': 746, 'wall': 747, 'maker': 748, 'solutions': 749, 'awards': 750, 'history': 751, 'struck': 752, 'within': 753, 'thousands': 754, 'risk': 755, 'fuel': 756, 'practice': 757, 'violence': 758, 'name': 759, 'recovery': 760, 'needs': 761, 'rock': 762, 'jackson': 763, 'using': 764, 'microsoft': 765, 'valley': 766, 'offers': 767, 'leaving': 768, 'olympic': 769, 'gains': 770, 'mayor': 771, 'middle': 772, 'storm': 773, 'beach': 774, 'justice': 775, 'award': 776, 'peace': 777, 'positive': 778, 'miss': 779, 'bay': 780, 'selling': 781, 'decision': 782, 'anniversary': 783, 'candidate': 784, 'festival': 785, 'claimed': 786, 'provide': 787, 'mexico': 788, 'plane': 789, 'systems': 790, 'japanese': 791, 'spending': 792, 'raised': 793, 'possible': 794, 'protection': 795, 'truck': 796, 'growing': 797, 'performance': 798, 'loan': 799, 'hotel': 800, 'losses': 801, 'ltd': 802, 'acquire': 803, 'church': 804, 'continued': 805, 'build': 806, 'list': 807, 'father': 808, 'businesses': 809, 'eastern': 810, 'officially': 811, 'travel': 812, 'flu': 813, 'worth': 814, 'mumbai': 815, 'husband': 816, 'ever': 817, 'fraud': 818, 'almost': 819, 'protest': 820, 'housing': 821, 'rally': 822, 'pressure': 823, 'joint': 824, 'declared': 825, 'sheriff': 826, 'battle': 827, 'showed': 828, 'employees': 829, 'cost': 830, 'robbery': 831, 'attacks': 832, 'owner': 833, 'administration': 834, 'captain': 835, 'legal': 836, 'act': 837, 'soldier': 838, 'changes': 839, 'alleged': 840, 'smith': 841, 'files': 842, 'daily': 843, 'democratic': 844, '40': 845, 'defense': 846, 'reserve': 847, 'UN': 848, 'soldiers': 849, 'single': 850, 'georgia': 851, 'natural': 852, 'confidence': 853, 'radio': 854, 'asked': 855, 'heavy': 856, 'land': 857, 'deputy': 858, 'television': 859, '19': 860, 'daughter': 861, 'funds': 862, 'girls': 863, 'approved': 864, 'sources': 865, 'increased': 866, 'bush': 867, 'never': 868, '9': 869, 'known': 870, 'veteran': 871, 'drive': 872, 'basketball': 873, 'mike': 874, 'asia': 875, 'survey': 876, 'falling': 877, '23': 878, 'syria': 879, 'interview': 880, 'whose': 881, 'break': 882, 'boost': 883, 'step': 884, 'lady': 885, 'serious': 886, 'williams': 887, 'less': 888, 'fiscal': 889, 'main': 890, 'stores': 891, 'facility': 892, 'point': 893, 'seen': 894, 'aid': 895, 'costs': 896, 'dr': 897, 'joe': 898, 'boston': 899, 'gets': 900, 'begin': 901, 'carolina': 902, 'calif': 903, '31': 904, 'jailed': 905, 'inflation': 906, 'common': 907, 'look': 908, 'johnson': 909, 'acquired': 910, 'rep': 911, 'returned': 912, 'teacher': 913, 'baseball': 914, 'hopes': 915, 'dropped': 916, 'nine': 917, 'warning': 918, 'defence': 919, 'armed': 920, 'de': 921, 'gay': 922, 'supply': 923, 'winter': 924, 'web': 925, 'starting': 926, 'stay': 927, 'homes': 928, 'stadium': 929, 'bond': 930, 'commercial': 931, 'futures': 932, 'injuries': 933, 'king': 934, 'highway': 935, 'digital': 936, 'popular': 937, 'fired': 938, 'book': 939, 'playing': 940, 'division': 941, 'drop': 942, 'every': 943, 'areas': 944, 'might': 945, 'projects': 946, 'met': 947, 'justin': 948, 'martin': 949, 'total': 950, 'ground': 951, 'flights': 952, 'vice': 953, 'moving': 954, 'know': 955, 'straight': 956, 'attorney': 957, 'twitter': 958, 'turned': 959, 'convicted': 960, 'winning': 961, 'super': 962, 'spring': 963, 'christmas': 964, 'recession': 965, 'find': 966, 'passed': 967, 'bring': 968, 'expand': 969, 'italian': 970, 'bomb': 971, 'striker': 972, 'suffered': 973, 'decided': 974, 'partnership': 975, 'person': 976, 'palestinian': 977, '27': 978, 'criminal': 979, 'connection': 980, 'gun': 981, 'champions': 982, 'failed': 983, 'nations': 984, '26': 985, 'earnings': 986, 'large': 987, 'appointed': 988, 'unit': 989, 'front': 990, 'term': 991, 'prince': 992, 'completed': 993, 'went': 994, 'tom': 995, 'flight': 996, 'drugs': 997, 'stars': 998, 'spain': 999, 'scheduled': 1000, 'pakistani': 1001, 'joined': 1002, 'watch': 1003, 'hits': 1004, 'paid': 1005, 'published': 1006, 'NFL': 1007, 'suspected': 1008, 'conditions': 1009, 'concerns': 1010, 'khan': 1011, 'already': 1012, 'partner': 1013, 'dog': 1014, 'create': 1015, 'efforts': 1016, 'lanka': 1017, 'reached': 1018, 'jones': 1019, 'boss': 1020, 'begins': 1021, 'operation': 1022, 'assembly': 1023, 'spokesman': 1024, 'band': 1025, 'crashed': 1026, 'added': 1027, 'CEO': 1028, 'steve': 1029, 'ohio': 1030, 'double': 1031, 'treatment': 1032, 'ryan': 1033, 'levels': 1034, 'stake': 1035, 'afghan': 1036, 'raises': 1037, 'finally': 1038, 'cooperation': 1039, 'joins': 1040, 'banking': 1041, 'started': 1042, 'supreme': 1043, 'light': 1044, 'whether': 1045, 'parts': 1046, 'ambassador': 1047, 'communications': 1048, 'goes': 1049, 'investigation': 1050, 'forced': 1051, 'revenue': 1052, 'iranian': 1053, 'improve': 1054, 'al': 1055, 'civil': 1056, 'abuse': 1057, 'senator': 1058, 'divorce': 1059, 'birth': 1060, 'access': 1061, 'attacked': 1062, 'banned': 1063, 'birthday': 1064, 'assets': 1065, 'base': 1066, 'ireland': 1067, 'caused': 1068, 'problems': 1069, 'giving': 1070, 'romney': 1071, 'patients': 1072, 'leaves': 1073, 'marriage': 1074, 'suspect': 1075, 'funding': 1076, 'caught': 1077, 'together': 1078, 'sydney': 1079, 'save': 1080, 'houston': 1081, 'michigan': 1082, 'incident': 1083, 'industrial': 1084, 'hundreds': 1085, 'seeking': 1086, 'releases': 1087, 'liverpool': 1088, 'kill': 1089, 'THE': 1090, 'reduce': 1091, 'yet': 1092, 'magazine': 1093, 'reach': 1094, 'peter': 1095, 'index': 1096, 'celebrate': 1097, 'arrived': 1098, 'equity': 1099, 'robbed': 1100, 'lawsuit': 1101, 'range': 1102, 'tony': 1103, 'personal': 1104, 'holding': 1105, 'taylor': 1106, 'perform': 1107, 'track': 1108, 'retirement': 1109, 'involved': 1110, 'corporate': 1111, 'steel': 1112, 'clinton': 1113, 'turkish': 1114, 'review': 1115, 'singapore': 1116, 'illegal': 1117, 'process': 1118, 'minor': 1119, 'tomorrow': 1120, 'marketing': 1121, 'damage': 1122, 'platform': 1123, 'available': 1124, 'cars': 1125, '500': 1126, 'unveiled': 1127, 'jury': 1128, 'producer': 1129, 'worldwide': 1130, 'egypt': 1131, 'stabbed': 1132, 'province': 1133, 'dubai': 1134, 'tournament': 1135, 'channel': 1136, 'net': 1137, '28': 1138, 'jan': 1139, 'rising': 1140, 'scott': 1141, 'independent': 1142, 'stand': 1143, 'royal': 1144, 'researchers': 1145, 'holiday': 1146, 'soccer': 1147, 'rape': 1148, 'italy': 1149, 'posted': 1150, 'spanish': 1151, 'iPhone': 1152, 'toronto': 1153, 'earthquake': 1154, 'urged': 1155, 'dividend': 1156, 'stolen': 1157, 'period': 1158, 'kim': 1159, 'minnesota': 1160, 'unemployment': 1161, 'admits': 1162, 'blue': 1163, 'proposed': 1164, 'sea': 1165, 'EU': 1166, 'crime': 1167, 'figures': 1168, 'korean': 1169, 'affairs': 1170, 'agent': 1171, 'calling': 1172, 'fashion': 1173, 'came': 1174, 'manufacturing': 1175, 'living': 1176, 'jersey': 1177, 'syrian': 1178, 'saudi': 1179, 'class': 1180, 'condition': 1181, 'taiwan': 1182, 'celebrates': 1183, 'ruled': 1184, 'broke': 1185, 'fort': 1186, 'rest': 1187, 'village': 1188, 'youth': 1189, 'americans': 1190, 'apartment': 1191, 'ceremony': 1192, 'fifth': 1193, 'comes': 1194, 'wanted': 1195, 'gulf': 1196, 'newspaper': 1197, 'rules': 1198, 'model': 1199, 'far': 1200, 'suffering': 1201, 'bridge': 1202, 'brazil': 1203, 'records': 1204, 'auto': 1205, 'technologies': 1206, 'extended': 1207, 'fresh': 1208, 'cases': 1209, 'resources': 1210, 'NATO': 1211, 'crude': 1212, 'dollars': 1213, 'concert': 1214, 'solar': 1215, '29': 1216, 'lee': 1217, 'taliban': 1218, 'think': 1219, 'ship': 1220, 'planned': 1221, 'users': 1222, 'card': 1223, 'returning': 1224, 'offered': 1225, 'quarterly': 1226, 'kansas': 1227, 'primary': 1228, 'direct': 1229, 'split': 1230, 'deficit': 1231, 'ordered': 1232, 'cause': 1233, 'operator': 1234, 'jennifer': 1235, 'disease': 1236, 'inside': 1237, 'morgan': 1238, 'brother': 1239, 'entertainment': 1240, 'threat': 1241, 'expects': 1242, 'girlfriend': 1243, 'felony': 1244, 'camp': 1245, 'played': 1246, 'helped': 1247, 'cabinet': 1248, 'massive': 1249, 'competition': 1250, 'gives': 1251, 'source': 1252, 'rises': 1253, 'hard': 1254, 'previous': 1255, 'scientists': 1256, 'challenge': 1257, 'began': 1258, 'tiger': 1259, 'midfielder': 1260, 'relations': 1261, 'strategic': 1262, 'firefighters': 1263, 'moved': 1264, 'potential': 1265, 'pregnant': 1266, 'terms': 1267, 'receives': 1268, 'female': 1269, 'chelsea': 1270, 'acquisition': 1271, '200': 1272, 'mining': 1273, 'address': 1274, 'form': 1275, 'short': 1276, 'buying': 1277, 'ali': 1278, 'boat': 1279, 'greece': 1280, 'turn': 1281, 'estate': 1282, 'institute': 1283, 'corruption': 1284, 'limited': 1285, 'queen': 1286, 'airline': 1287, 'coal': 1288, 'overnight': 1289, 'appeal': 1290, 'quality': 1291, 'seek': 1292, 'income': 1293, 'discuss': 1294, 'teen': 1295, 'programme': 1296, 'kevin': 1297, 'weak': 1298, 'orders': 1299, 'blood': 1300, 'others': 1301, 'arizona': 1302, 'product': 1303, 'appear': 1304, 'bad': 1305, 'barrel': 1306, 'scheme': 1307, 'las': 1308, 'acquires': 1309, 'bills': 1310, 'airways': 1311, 'downtown': 1312, 'investigate': 1313, 'militants': 1314, 'adding': 1315, 'poor': 1316, 'tried': 1317, 'highest': 1318, 'louis': 1319, 'stealing': 1320, 'room': 1321, 'receive': 1322, 'compared': 1323, 'colorado': 1324, 'fair': 1325, 'authority': 1326, 'average': 1327, 'doctors': 1328, 'malaysia': 1329, 'operating': 1330, 'partners': 1331, 'iowa': 1332, 'perry': 1333, 'starts': 1334, 'friends': 1335, 'leads': 1336, 'voted': 1337, 'talk': 1338, 'course': 1339, 'McCain': 1340, 'looks': 1341, 'pop': 1342, 'situation': 1343, 'heard': 1344, 'hill': 1345, 'miami': 1346, 'republic': 1347, 'ties': 1348, 'NBA': 1349, 'sells': 1350, 'parents': 1351, 'defeat': 1352, 'teachers': 1353, 'vehicles': 1354, 'charity': 1355, 'flood': 1356, 'focus': 1357, 'writer': 1358, 'losing': 1359, 'hand': 1360, 'society': 1361, 'victims': 1362, 'beating': 1363, 'view': 1364, 'groups': 1365, 'wedding': 1366, 'engaged': 1367, 'date': 1368, 'gaza': 1369, 'draft': 1370, 'farmers': 1371, 'currently': 1372, 'response': 1373, 'indicted': 1374, 'alex': 1375, 'legend': 1376, 'denied': 1377, 'committed': 1378, 'MP': 1379, 'hockey': 1380, 'jim': 1381, 'towards': 1382, 'restaurant': 1383, 'flat': 1384, 'aircraft': 1385, 'enough': 1386, 'port': 1387, 'illinois': 1388, 'madrid': 1389, 'closing': 1390, 'detroit': 1391, 'elderly': 1392, 'virginia': 1393, 'defender': 1394, 'protect': 1395, 'vegas': 1396, 'tennis': 1397, 'measures': 1398, 'rangers': 1399, 'rival': 1400, 'separate': 1401, 'libya': 1402, 'hospitalized': 1403, '60': 1404, 'worker': 1405, 'draw': 1406, 'additional': 1407, 'snow': 1408, 'cutting': 1409, 'labor': 1410, 'climate': 1411, 'allow': 1412, 'andrew': 1413, 'exports': 1414, 'lot': 1415, 'venture': 1416, 'wireless': 1417, 'friend': 1418, 'celebrity': 1419, 'controversial': 1420, 'gave': 1421, 'fatal': 1422, 'dispute': 1423, 'feb': 1424, 'fox': 1425, 'winner': 1426, 'equipment': 1427, 'azerbaijan': 1428, 'fined': 1429, 'bonds': 1430, 'voters': 1431, 'paris': 1432, 'effort': 1433, 'hurricane': 1434, 'effective': 1435, 'dallas': 1436, 'resume': 1437, 'mission': 1438, 'farm': 1439, 'van': 1440, 'different': 1441, 'swine': 1442, 'woods': 1443, 'rugby': 1444, 'rating': 1445, 'tim': 1446, 'grant': 1447, 'theft': 1448, 'memorial': 1449, 'runs': 1450, 'celebrated': 1451, 'severe': 1452, 'arrives': 1453, 'multiple': 1454, 'fame': 1455, 'knee': 1456, 'rain': 1457, 'irish': 1458, 'kelly': 1459, 'kashmir': 1460, 'organization': 1461, 'position': 1462, 'holds': 1463, 'reform': 1464, 'fighting': 1465, 'rescue': 1466, 'spot': 1467, 'aug': 1468, 'richard': 1469, 'computer': 1470, 'dec': 1471, 'matt': 1472, 'la': 1473, 'currency': 1474, 'golf': 1475, 'replace': 1476, 'rebels': 1477, 'rescued': 1478, 'william': 1479, 'claim': 1480, 'attempt': 1481, 'completes': 1482, 'boyfriend': 1483, 'hong': 1484, 'summit': 1485, 'transfer': 1486, 'critical': 1487, 'protesters': 1488, 'shut': 1489, 'families': 1490, 'francisco': 1491, 'pacific': 1492, 'custody': 1493, 'securities': 1494, 'forecast': 1495, 'boys': 1496, 'block': 1497, 'elected': 1498, 'turns': 1499, 'beginning': 1500, 'teams': 1501, 'environment': 1502, 'developer': 1503, 'reporting': 1504, 'chance': 1505, 'cloud': 1506, 'squad': 1507, 'hearing': 1508, 'introduced': 1509, 'victim': 1510, 'kills': 1511, 'hot': 1512, 'x': 1513, 'ben': 1514, 'meets': 1515, 'develop': 1516, 'cross': 1517, 'though': 1518, 'resigned': 1519, 'nov': 1520, 'academy': 1521, 'parties': 1522, 'diego': 1523, 'quarterback': 1524, 'becoming': 1525, 'lawmakers': 1526, 'lose': 1527, 'value': 1528, 'contest': 1529, 'bail': 1530, 'pirates': 1531, 'harry': 1532, 'electric': 1533, 'saw': 1534, 'moves': 1535, 'events': 1536, 'weapons': 1537, 'slightly': 1538, 'ratings': 1539, 'beijing': 1540, 'kong': 1541, 'involving': 1542, 'greek': 1543, 'motor': 1544, 'package': 1545, 'visits': 1546, 'considering': 1547, 'directors': 1548, 'broken': 1549, 'cell': 1550, 'worst': 1551, 'invest': 1552, 'benefits': 1553, 'believe': 1554, 'kate': 1555, 'launching': 1556, 'headquarters': 1557, 'loans': 1558, 'result': 1559, 'hope': 1560, 'pulled': 1561, 'millions': 1562, 'andy': 1563, 'believes': 1564, 'alliance': 1565, 'important': 1566, 'avoid': 1567, 'present': 1568, 'bringing': 1569, 'wind': 1570, 'indonesia': 1571, 'tree': 1572, 'navy': 1573, 'decline': 1574, 'gone': 1575, 'chase': 1576, 'successful': 1577, 'resign': 1578, 'crashes': 1579, 'benefit': 1580, 'indiana': 1581, 'doctor': 1582, 'ford': 1583, 'lindsay': 1584, 'atlanta': 1585, 'threatened': 1586, 'foundation': 1587, 'leadership': 1588, 'sets': 1589, 'terror': 1590, 'application': 1591, 'became': 1592, 'sir': 1593, 'effect': 1594, 'conduct': 1595, 'happy': 1596, 'entered': 1597, 'lohan': 1598, 'oct': 1599, 'forest': 1600, 'strategy': 1601, 'charlie': 1602, 'drivers': 1603, 'profits': 1604, 'seriously': 1605, 'retailer': 1606, 'version': 1607, 'huge': 1608, 'seeks': 1609, 'row': 1610, 'owners': 1611, 'township': 1612, 'tourism': 1613, 'science': 1614, 'mr': 1615, 'landing': 1616, 'retire': 1617, 'various': 1618, 'brain': 1619, '2007': 1620, 'complex': 1621, 'showing': 1622, 'via': 1623, \"n't\": 1624, 'chain': 1625, 'safe': 1626, 'labour': 1627, 'english': 1628, 'charles': 1629, 'environmental': 1630, 'milan': 1631, 'distribution': 1632, 'minutes': 1633, 'tests': 1634, 'citing': 1635, 'toyota': 1636, 'impact': 1637, 'helping': 1638, 'samsung': 1639, 'fan': 1640, 'industries': 1641, 'debate': 1642, 'films': 1643, 'problem': 1644, 'ends': 1645, 'song': 1646, 'account': 1647, 'ice': 1648, 'assistant': 1649, 'animal': 1650, 'relationship': 1651, 'raising': 1652, 'tribute': 1653, 'headed': 1654, 'ending': 1655, 'solution': 1656, 'idol': 1657, 'married': 1658, 'remained': 1659, 'rick': 1660, 'brian': 1661, 'awarded': 1662, 'zone': 1663, 'motors': 1664, 'marijuana': 1665, 'commissioner': 1666, 'passes': 1667, 'manufacturer': 1668, 'mixed': 1669, 'protests': 1670, 'causing': 1671, 'design': 1672, 'steps': 1673, 'rupee': 1674, 'progress': 1675, 'cities': 1676, 'punjab': 1677, '1000': 1678, 'transport': 1679, 'grow': 1680, 'die': 1681, 'wayne': 1682, 'ministers': 1683, 'shop': 1684, 'professional': 1685, 'needed': 1686, 'fears': 1687, 'increasing': 1688, 'story': 1689, 'disaster': 1690, 'feels': 1691, 'reality': 1692, 'brought': 1693, 'arts': 1694, 'heat': 1695, 'consumers': 1696, 'moscow': 1697, 'philadelphia': 1698, 'capacity': 1699, 'simon': 1700, 'outlook': 1701, 'scored': 1702, 'increases': 1703, 'trip': 1704, 'cameron': 1705, 'politics': 1706, 'relief': 1707, 'scotland': 1708, 'plants': 1709, 'BBC': 1710, 'art': 1711, 'poll': 1712, 'ca': 1713, 'journal': 1714, 'mitt': 1715, 'lawyer': 1716, 'cast': 1717, 'bollywood': 1718, 'carrier': 1719, 'strikes': 1720, 'santa': 1721, 'vs': 1722, 'leg': 1723, 'holdings': 1724, 'wide': 1725, 'attempted': 1726, 'experts': 1727, 'bowl': 1728, 'signing': 1729, 'missouri': 1730, 'cleared': 1731, 'things': 1732, 'allen': 1733, 'always': 1734, 'patent': 1735, 'activity': 1736, 'networks': 1737, 'quit': 1738, 'historic': 1739, 'trust': 1740, 'expecting': 1741, 'reelection': 1742, 'attend': 1743, 'swiss': 1744, 'gordon': 1745, 'candidates': 1746, 'lines': 1747, 'joining': 1748, 'recovering': 1749, 'sox': 1750, 'investor': 1751, 'jason': 1752, 'bangladesh': 1753, 'giants': 1754, 'activists': 1755, 'aimed': 1756, 'regular': 1757, 'tackle': 1758, 'struggling': 1759, 'citizens': 1760, 'prevent': 1761, 'bob': 1762, 'rare': 1763, 'USA': 1764, 'seized': 1765, 'mass': 1766, 'kardashian': 1767, 'extend': 1768, 'recall': 1769, 'appoints': 1770, 'delivery': 1771, 'box': 1772, 'embassy': 1773, 'stewart': 1774, 'defensive': 1775, 'factor': 1776, 'seattle': 1777, 'telecom': 1778, 'really': 1779, 'metro': 1780, 'arsenal': 1781, 'IT': 1782, 'kids': 1783, 'infrastructure': 1784, 'brazilian': 1785, 'content': 1786, 'ukraine': 1787, 'significant': 1788, 'ongoing': 1789, 'dutch': 1790, 'bar': 1791, 'classic': 1792, 'clear': 1793, 'cruise': 1794, 'related': 1795, 'analysts': 1796, 'pilot': 1797, 'sanctions': 1798, 'sexually': 1799, 'expansion': 1800, 'metal': 1801, 'arab': 1802, 'lives': 1803, 'activities': 1804, 'advanced': 1805, 'unveils': 1806, 'posts': 1807, 'healthcare': 1808, 'nationwide': 1809, 'immigration': 1810, 'wake': 1811, 'battery': 1812, 'associated': 1813, 'crimes': 1814, 'sony': 1815, 'square': 1816, 'cents': 1817, 'southwest': 1818, 'spend': 1819, 'standard': 1820, 'barcelona': 1821, 'jose': 1822, 'warns': 1823, 'schedule': 1824, 'jack': 1825, 'cleveland': 1826, 'majority': 1827, 'motorcycle': 1828, 'discovered': 1829, 'rule': 1830, 'placed': 1831, 'mountain': 1832, 'jessica': 1833, 'bieber': 1834, 'helicopter': 1835, '32': 1836, 'patrick': 1837, 'hamilton': 1838, 'crore': 1839, 'settlement': 1840, 'comedy': 1841, 'wisconsin': 1842, 'allegations': 1843, 'thomas': 1844, 'app': 1845, 'carrying': 1846, 'jets': 1847, 'file': 1848, 'denies': 1849, 'II': 1850, 'terrorism': 1851, 'failure': 1852, 'expands': 1853, 'apparently': 1854, 'activist': 1855, 'customer': 1856, 'tennessee': 1857, 'commerce': 1858, 'victoria': 1859, 'satellite': 1860, 'works': 1861, 'electronic': 1862, 'add': 1863, 'sarah': 1864, 'applications': 1865, 'developed': 1866, 'toward': 1867, 'stephen': 1868, 'offensive': 1869, 'breaks': 1870, 'offices': 1871, 'sharply': 1872, 'expectations': 1873, 'receiver': 1874, 'anthony': 1875, 'closer': 1876, 'send': 1877, 'avenue': 1878, '75': 1879, 'developing': 1880, 'deadly': 1881, 'homicide': 1882, 'goal': 1883, 'purchase': 1884, 'comments': 1885, 'designed': 1886, 'visited': 1887, 'declares': 1888, 'loses': 1889, 'AP': 1890, 'secret': 1891, 'voice': 1892, 'extension': 1893, 'fast': 1894, 'failing': 1895, 'BJP': 1896, 'advisory': 1897, 'disabled': 1898, 'auction': 1899, 'shopping': 1900, 'done': 1901, 'russell': 1902, 'identified': 1903, 'express': 1904, 'kentucky': 1905, 'lewis': 1906, 'approves': 1907, 'spent': 1908, 'gaga': 1909, 'olympics': 1910, 'rural': 1911, 'possession': 1912, 'destroyed': 1913, 'confirms': 1914, 'cover': 1915, 'patrol': 1916, 'able': 1917, 'polls': 1918, 'selected': 1919, 'employee': 1920, 'consider': 1921, 'detained': 1922, 'stimulus': 1923, 'concern': 1924, 'beaten': 1925, 'jet': 1926, 'serve': 1927, 'technical': 1928, 'complete': 1929, 'windows': 1930, 'forum': 1931, 'burglary': 1932, 'islamic': 1933, 'success': 1934, '35': 1935, 'parliamentary': 1936, 'zimbabwe': 1937, 'try': 1938, 'sport': 1939, 'sending': 1940, 'nick': 1941, 'enter': 1942, 'tough': 1943, 'DC': 1944, 'davis': 1945, 'setting': 1946, 'vietnam': 1947, 'fires': 1948, 'closes': 1949, 'muslim': 1950, 'reveals': 1951, 'daniel': 1952, 'throughout': 1953, 'pass': 1954, 'racing': 1955, 'seat': 1956, 'chemical': 1957, 'weekly': 1958, 'generation': 1959, 'jr': 1960, 'FC': 1961, 'taxes': 1962, 'trend': 1963, 'adds': 1964, 'melbourne': 1965, 'subsidiary': 1966, 'kennedy': 1967, 'assaulting': 1968, 'pick': 1969, 'advertising': 1970, 'fees': 1971, 'allowed': 1972, 'consecutive': 1973, 'philippines': 1974, 'dating': 1975, 'campus': 1976, 'orleans': 1977, 'promote': 1978, 'author': 1979, 'n': 1980, 'iron': 1981, 'speak': 1982, 'recovered': 1983, 'streets': 1984, 'feel': 1985, 'speech': 1986, 'golden': 1987, 'experience': 1988, 'firms': 1989, 'sentence': 1990, 'violent': 1991, 'overseas': 1992, 'founder': 1993, '70': 1994, 'oklahoma': 1995, 'treasury': 1996, 'hour': 1997, 'thought': 1998, 'numbers': 1999, 'pace': 2000, 'hills': 2001, 'pounds': 2002, 'elizabeth': 2003, 'previously': 2004, 'ten': 2005, 'let': 2006, 'supplies': 2007, 'evidence': 2008, 'granted': 2009, 'gain': 2010, 'hosting': 2011, 'theatre': 2012, 'engineering': 2013, 'cole': 2014, 'tamil': 2015, 'crew': 2016, 'ruling': 2017, 'freedom': 2018, 'amy': 2019, 'agree': 2020, 'nokia': 2021, 'christian': 2022, 'ensure': 2023, 'overall': 2024, 'changed': 2025, 'electronics': 2026, 'wales': 2027, 'michelle': 2028, 'bin': 2029, 'passenger': 2030, 'mexican': 2031, 'sept': 2032, 'prize': 2033, 'providing': 2034, 'claiming': 2035, 'agencies': 2036, 'targets': 2037, 'honored': 2038, 'democrats': 2039, 'pradesh': 2040, 'electricity': 2041, 'finds': 2042, 'engine': 2043, 'alcohol': 2044, 'appears': 2045, 'passengers': 2046, 'heading': 2047, 'brothers': 2048, 'linked': 2049, 'sun': 2050, 'statistics': 2051, 'prix': 2052, 'longer': 2053, 'units': 2054, 'refused': 2055, 'speed': 2056, 'adam': 2057, 'studio': 2058, 'stabbing': 2059, 'urges': 2060, 'counts': 2061, 'alabama': 2062, 'teenager': 2063, 'NEW': 2064, 'yahoo': 2065, 'route': 2066, 'voting': 2067, 'gary': 2068, 'hired': 2069, 'terrorist': 2070, '300': 2071, 'wild': 2072, 'frank': 2073, 'phoenix': 2074, 'decade': 2075, 'territory': 2076, 'scandal': 2077, 'hands': 2078, 'threatening': 2079, 'brad': 2080, 'sites': 2081, 'created': 2082, 'ring': 2083, 'qatar': 2084, 'introduces': 2085, 'options': 2086, 'update': 2087, 'palin': 2088, 'export': 2089, 'broadband': 2090, '80': 2091, 'nigeria': 2092, 'clash': 2093, 'bear': 2094, 'pitcher': 2095, 'panel': 2096, 'beckham': 2097, 'decades': 2098, 'silver': 2099, 'hillary': 2100, 'tech': 2101, 'appearance': 2102, 'movement': 2103, 'campbell': 2104, 'beats': 2105, 'aged': 2106, 'letter': 2107, 'el': 2108, 'ghana': 2109, 'homeless': 2110, 'venezuela': 2111, 'arabia': 2112, 'tokyo': 2113, 'yen': 2114, 'branch': 2115, 'dealers': 2116, 'surprise': 2117, 'threats': 2118, 'shareholders': 2119, 'eye': 2120, 'agriculture': 2121, 'plea': 2122, 'nelson': 2123, 'fine': 2124, 'laws': 2125, 'devices': 2126, 'collision': 2127, 'roads': 2128, 'jordan': 2129, 'rapper': 2130, 'treated': 2131, 'elementary': 2132, 'assaulted': 2133, 'investments': 2134, 'announcement': 2135, 'museum': 2136, 'mine': 2137, 'undergo': 2138, 'coalition': 2139, 'appeared': 2140, 'continuing': 2141, 'parking': 2142, 'greater': 2143, 'carbon': 2144, 'dangerous': 2145, 'crews': 2146, 'thanks': 2147, 'successfully': 2148, 'ill': 2149, 'extends': 2150, 'collection': 2151, 'clean': 2152, 'wrong': 2153, 'breaking': 2154, 'license': 2155, 'b': 2156, 'wounded': 2157, 'medal': 2158, '45': 2159, 'chapter': 2160, 'tata': 2161, 'visiting': 2162, 'iraqi': 2163, 'message': 2164, 'android': 2165, 'orange': 2166, 'prosecutors': 2167, 'serving': 2168, 'pope': 2169, 'expanding': 2170, 'storage': 2171, 'kyrgyzstan': 2172, 'powerful': 2173, 'marine': 2174, 'resigns': 2175, 'expanded': 2176, 'improved': 2177, 'stronger': 2178, 'analyst': 2179, 'rail': 2180, 'stone': 2181, 'egyptian': 2182, 'scottish': 2183, 'negative': 2184, 'northwest': 2185, 'photo': 2186, 'explosion': 2187, 'receiving': 2188, 'cocaine': 2189, '2014': 2190, 'formally': 2191, 'questions': 2192, 'duty': 2193, 'portfolio': 2194, 'foot': 2195, 'amount': 2196, 'cape': 2197, 'bailout': 2198, 'cable': 2199, 'CBS': 2200, 'bodies': 2201, 'hire': 2202, 'murray': 2203, 'jon': 2204, 'strip': 2205, 'speculation': 2206, 'note': 2207, 'palm': 2208, 'laid': 2209, 'programs': 2210, 'bought': 2211, 'goods': 2212, 'status': 2213, '400': 2214, 'lack': 2215, 'walk': 2216, 'cuba': 2217, 'proposal': 2218, 'deliver': 2219, 'legislation': 2220, 'foods': 2221, 'becomes': 2222, 'facilities': 2223, 'hurt': 2224, 'sudan': 2225, 'reaches': 2226, 'diagnosed': 2227, 'true': 2228, 'produce': 2229, 'representative': 2230, 'yemen': 2231, 'fellow': 2232, 'catholic': 2233, 'residential': 2234, '90': 2235, 'can': 2236, 'not': 2237, 'traders': 2238, 'enterprise': 2239, 'fargo': 2240, 'exercise': 2241, 'patient': 2242, 'phones': 2243, 'email': 2244, 'reuters': 2245, 'lowest': 2246, 'push': 2247, 'communities': 2248, 'massachusetts': 2249, 'twins': 2250, 'nifty': 2251, 'believed': 2252, 'certain': 2253, 'deals': 2254, 'factory': 2255, 'question': 2256, 'congressional': 2257, 'kept': 2258, 'democracy': 2259, 'finish': 2260, 'rehab': 2261, 'keeping': 2262, 'hosts': 2263, 'pattinson': 2264, 'cold': 2265, 'oscar': 2266, 'famous': 2267, 'toll': 2268, 'challenges': 2269, 'causes': 2270, 'library': 2271, 'tropical': 2272, 'device': 2273, 'pittsburgh': 2274, 'longtime': 2275, 'breast': 2276, 'shoot': 2277, 'testing': 2278, 'lebanon': 2279, 'independence': 2280, 'wells': 2281, 'religious': 2282, 'roger': 2283, 'pro': 2284, 'miller': 2285, 'mail': 2286, 'instead': 2287, 'ocean': 2288, 'harris': 2289, 'earth': 2290, 'lending': 2291, 'feature': 2292, 'newly': 2293, 'located': 2294, 'rather': 2295, 'stations': 2296, 'fully': 2297, 'stated': 2298, 'initial': 2299, 'delegation': 2300, 'sharp': 2301, 'prisoners': 2302, 'strength': 2303, 'drops': 2304, 'existing': 2305, 'interior': 2306, 'agents': 2307, 'rice': 2308, 'immediate': 2309, 'miles': 2310, 'details': 2311, 'paper': 2312, 'bulgaria': 2313, 'ABC': 2314, 'libyan': 2315, 'approval': 2316, 'spears': 2317, 'resort': 2318, 'drama': 2319, 'rihanna': 2320, 'indians': 2321, 'secure': 2322, 'austin': 2323, 'welcome': 2324, 'acting': 2325, 'rejected': 2326, 'supporters': 2327, 'journalists': 2328, 'milwaukee': 2329, 'suspicion': 2330, 'iPad': 2331, 'anna': 2332, 'tells': 2333, 'alert': 2334, 'artist': 2335, 'healthy': 2336, 'friendly': 2337, 'dance': 2338, 'sees': 2339, 'stanley': 2340, 'ron': 2341, 'moore': 2342, 'denver': 2343, 'provides': 2344, 'myanmar': 2345, 'sam': 2346, 'sixth': 2347, 'UAE': 2348, 'enters': 2349, 'ontario': 2350, 'lifted': 2351, 'hitting': 2352, 'gandhi': 2353, 'championships': 2354, 'hoping': 2355, 'weight': 2356, 'garden': 2357, 'begun': 2358, 'assistance': 2359, 'plays': 2360, 'stopped': 2361, 'formula': 2362, 'strengthen': 2363, 'katie': 2364, 'built': 2365, 'bureau': 2366, 'vancouver': 2367, 'diplomatic': 2368, 'waste': 2369, 'cancelled': 2370, 'nationals': 2371, 'repair': 2372, 'musical': 2373, 'although': 2374, 'yankees': 2375, 'monetary': 2376, 'pension': 2377, 'contracts': 2378, 'owned': 2379, 'shown': 2380, 'eurozone': 2381, 'dogs': 2382, 'buys': 2383, 'enforcement': 2384, 'spread': 2385, 'conservative': 2386, 'wilson': 2387, 'pool': 2388, 'nomination': 2389, 'cards': 2390, 'sought': 2391, 'speaker': 2392, 'tampa': 2393, 'presence': 2394, 'horse': 2395, 'sheen': 2396, 'policies': 2397, 'journalist': 2398, 'superstar': 2399, 'thailand': 2400, 'ATt': 2401, 'agrees': 2402, 'penalty': 2403, 'pair': 2404, 'abu': 2405, 'argentina': 2406, 'combat': 2407, 'sued': 2408, 'funeral': 2409, 'twice': 2410, 'aviation': 2411, 'payment': 2412, 'supports': 2413, 'dozens': 2414, 'chiefs': 2415, 'transportation': 2416, 'probation': 2417, 'malaysian': 2418, 'rio': 2419, 'oregon': 2420, 'terrorists': 2421, 'include': 2422, 'rivals': 2423, 'eric': 2424, 'recalled': 2425, 'hero': 2426, 'that': 2427, 'initiative': 2428, 'doors': 2429, 'dialogue': 2430, 'smart': 2431, 'notes': 2432, 'teenage': 2433, 'buffalo': 2434, 'arena': 2435, 'shoulder': 2436, 'pain': 2437, 'alive': 2438, 'USD': 2439, 'kicked': 2440, 'simpson': 2441, 'sabha': 2442, 'lions': 2443, 'outstanding': 2444, 'carlos': 2445, 'atlantic': 2446, 'comeback': 2447, 'apparent': 2448, 'southeast': 2449, 'counties': 2450, 'filing': 2451, 'asking': 2452, 'veterans': 2453, 'offshore': 2454, 'arms': 2455, 'probe': 2456, 'ball': 2457, 'britney': 2458, 'reduced': 2459, 'extra': 2460, 'casino': 2461, 'vowed': 2462, 'screen': 2463, 'presented': 2464, 'stable': 2465, 'asks': 2466, 'copper': 2467, 'suffers': 2468, 'jerry': 2469, 'check': 2470, 'fact': 2471, 'diamond': 2472, 'manslaughter': 2473, 'w': 2474, 'newcastle': 2475, 'felt': 2476, 'regarding': 2477, '10000': 2478, 'expert': 2479, 'spotted': 2480, 'serbia': 2481, 'commander': 2482, 'window': 2483, 'creating': 2484, 'honor': 2485, 'pennsylvania': 2486, 'tigers': 2487, 'welcomed': 2488, 'votes': 2489, 'broadway': 2490, 'removed': 2491, 'winds': 2492, 'entire': 2493, 'emerging': 2494, 'brands': 2495, 'designer': 2496, 'orlando': 2497, 'intelligence': 2498, 'fishing': 2499, 'goals': 2500, 'hospitals': 2501, 'somali': 2502, 'approximately': 2503, 'exhibition': 2504, 'places': 2505, 'ways': 2506, 'j': 2507, 'active': 2508, 'palestinians': 2509, 'highly': 2510, 'option': 2511, 'zardari': 2512, 'basis': 2513, 'tickets': 2514, 'offender': 2515, 'stroke': 2516, 'deadline': 2517, 'affected': 2518, 'putting': 2519, 'population': 2520, 'evacuated': 2521, 'junior': 2522, 'searching': 2523, 'collapsed': 2524, 'deaths': 2525, 'networking': 2526, 'ticket': 2527, 'galaxy': 2528, 'hudson': 2529, 'alaska': 2530, 'cheryl': 2531, 'utah': 2532, 'springs': 2533, 'awareness': 2534, 'shanghai': 2535, 'contact': 2536, 'employment': 2537, 'confident': 2538, 'sprint': 2539, 'sugar': 2540, 'goldman': 2541, 'virus': 2542, 'mary': 2543, 'exclusive': 2544, 'railway': 2545, 'madonna': 2546, 'reporters': 2547, 'jeff': 2548, 'welcomes': 2549, 'fatally': 2550, 'luxury': 2551, 'pull': 2552, 'floor': 2553, 'preparing': 2554, 'convention': 2555, 'carry': 2556, 'negotiations': 2557, 'resident': 2558, 'ease': 2559, 'waters': 2560, 'NCAA': 2561, 'lawyers': 2562, 'heads': 2563, 'fish': 2564, '150': 2565, 'specialist': 2566, 'kumar': 2567, '41': 2568, 'considered': 2569, 'NY': 2570, 'native': 2571, 'helps': 2572, 'illness': 2573, '62': 2574, 'katy': 2575, 'kings': 2576, 'fear': 2577, 'slow': 2578, 'sensex': 2579, 'howard': 2580, 'swedish': 2581, 'monthly': 2582, 'clinic': 2583, 'baltimore': 2584, 'anderson': 2585, 'dancing': 2586, 'discovery': 2587, 'winehouse': 2588, 'missile': 2589, 'arkansas': 2590, 'tourists': 2591, 'choice': 2592, 'edwards': 2593, 'sworn': 2594, 'false': 2595, 'jimmy': 2596, 'producers': 2597, 'fishermen': 2598, 'positions': 2599, 'pipeline': 2600, 'ray': 2601, 'matches': 2602, 'marks': 2603, 'boxing': 2604, 'touch': 2605, 'warren': 2606, 'regime': 2607, 'payments': 2608, 'persons': 2609, 'advance': 2610, 'oakland': 2611, 'turning': 2612, 'lift': 2613, 'feet': 2614, 'culture': 2615, 'edward': 2616, 'renewed': 2617, 'creek': 2618, 'accounts': 2619, 'bahrain': 2620, 'BP': 2621, 'smoke': 2622, 'queensland': 2623, 'mississippi': 2624, 'coverage': 2625, '600': 2626, 'participate': 2627, 'tell': 2628, 'recover': 2629, '5000': 2630, 'smartphone': 2631, 'drunk': 2632, 'normal': 2633, 'missed': 2634, 'invasion': 2635, 'however': 2636, 'performing': 2637, 'born': 2638, 'boeing': 2639, 'birmingham': 2640, 'mall': 2641, 'scene': 2642, 'franchise': 2643, 'judges': 2644, 'output': 2645, 'reporter': 2646, 'dakota': 2647, 'c': 2648, 'settle': 2649, '100000': 2650, 'complaint': 2651, 'congressman': 2652, 'busy': 2653, 'franklin': 2654, 'republicans': 2655, 'bilateral': 2656, 'azerbaijani': 2657, 'conducted': 2658, 'ask': 2659, 'dan': 2660, '64': 2661, '63': 2662, 'financing': 2663, 'postponed': 2664, '85': 2665, 'retired': 2666, 'sachs': 2667, 'representatives': 2668, 'NHL': 2669, '65': 2670, 'jumped': 2671, 'criticism': 2672, 'preliminary': 2673, 'celebrating': 2674, 'invited': 2675, 'sky': 2676, 'informed': 2677, 'pedestrian': 2678, 'northeast': 2679, 'delayed': 2680, 'canceled': 2681, 'rich': 2682, 'fee': 2683, 'buildings': 2684, 'kenya': 2685, 'reforms': 2686, 'properties': 2687, 'expect': 2688, 'legendary': 2689, 'restructuring': 2690, 'talent': 2691, 'troubled': 2692, 'suspends': 2693, 'antonio': 2694, 'steady': 2695, 'dark': 2696, 'GOP': 2697, 'suspension': 2698, 'inmate': 2699, 'incidents': 2700, 'promotion': 2701, 'pornography': 2702, 'chrysler': 2703, 'conflict': 2704, 'something': 2705, 'tested': 2706, 'islands': 2707, 'democrat': 2708, 'beyond': 2709, 'what': 2710, 'steven': 2711, 'ride': 2712, 'perfect': 2713, 'demands': 2714, 'NSW': 2715, 'madison': 2716, 'page': 2717, 'declined': 2718, 'residence': 2719, 'gang': 2720, 'opportunities': 2721, 'lineup': 2722, 'killer': 2723, 'asset': 2724, 'manmohan': 2725, 'henry': 2726, 'nominated': 2727, 'documents': 2728, 'edge': 2729, 'fit': 2730, 'male': 2731, 'especially': 2732, 'follow': 2733, 'columbia': 2734, 'phase': 2735, 'dream': 2736, 'drinking': 2737, 'learn': 2738, 'resolution': 2739, 'noon': 2740, 'dedicated': 2741, 'wait': 2742, 'rocket': 2743, 'e': 2744, 'switzerland': 2745, 'bull': 2746, 'fake': 2747, 'bears': 2748, 'utility': 2749, 'worked': 2750, 'escaped': 2751, 'cowell': 2752, 'czech': 2753, 'josh': 2754, 'betting': 2755, 'cancels': 2756, 'insists': 2757, 'circuit': 2758, 'display': 2759, 'nothing': 2760, 'eve': 2761, 'blast': 2762, 'movies': 2763, 'bell': 2764, 'imports': 2765, 'managed': 2766, 'sister': 2767, 'scientific': 2768, 'alan': 2769, 'responsible': 2770, 'deep': 2771, 'businessman': 2772, 'suspicious': 2773, 'ad': 2774, 'tonnes': 2775, 'recalls': 2776, 'traded': 2777, 'request': 2778, 'fallen': 2779, 'sentiment': 2780, 'stole': 2781, 'tied': 2782, 'targeting': 2783, 'cooper': 2784, 'notice': 2785, 'jewish': 2786, 'jolie': 2787, 'immediately': 2788, 'ran': 2789, 'institutions': 2790, 'biden': 2791, 'internal': 2792, 'kazakhstan': 2793, 'there': 2794, 'hamas': 2795, 'angelina': 2796, 'fitness': 2797, 'maryland': 2798, 'clients': 2799, 'bit': 2800, 'chavez': 2801, 'professor': 2802, 'learned': 2803, 'NBC': 2804, 'supplier': 2805, 'finished': 2806, 'reading': 2807, 'temporary': 2808, 'medicine': 2809, 'connecticut': 2810, 'mutual': 2811, 'supporting': 2812, 'style': 2813, 'cargo': 2814, 'defend': 2815, 'rushed': 2816, 'drowned': 2817, 'mac': 2818, 'violations': 2819, 'eagles': 2820, 'scam': 2821, '2000': 2822, 'introduce': 2823, 'tight': 2824, 'coffee': 2825, 'belarus': 2826, 'intel': 2827, 'penn': 2828, 'kristen': 2829, 'seems': 2830, 'phil': 2831, 'opener': 2832, 'jump': 2833, 'federation': 2834, 'ankle': 2835, 'standards': 2836, 'neighborhood': 2837, 'arm': 2838, 'deputies': 2839, 'pays': 2840, 'interstate': 2841, 'delivered': 2842, 'often': 2843, 'guy': 2844, 'virgin': 2845, 'disney': 2846, 'robin': 2847, 'features': 2848, 'mental': 2849, 'provincial': 2850, 'remove': 2851, 'masters': 2852, 'damaged': 2853, 'recorded': 2854, 'neil': 2855, 'books': 2856, 'matter': 2857, 'import': 2858, 'philippine': 2859, 'transit': 2860, 'raid': 2861, 'kingdom': 2862, 'engagement': 2863, 'remaining': 2864, 'centers': 2865, 'integrated': 2866, 'suspects': 2867, 'announcing': 2868, 'medvedev': 2869, 'craig': 2870, 'lankan': 2871, 'language': 2872, 'LLC': 2873, 'merger': 2874, 'approach': 2875, 'roll': 2876, 'identity': 2877, 'estimates': 2878, 'investigators': 2879, 'defends': 2880, 'modern': 2881, '42': 2882, 'crossing': 2883, 'learning': 2884, 'swimming': 2885, 'rob': 2886, 'sean': 2887, 'paying': 2888, 'delays': 2889, 'assigned': 2890, 'sends': 2891, 'burning': 2892, 'happened': 2893, 'processing': 2894, 'houses': 2895, 'bobby': 2896, '76': 2897, 'compete': 2898, 'plc': 2899, 'everything': 2900, 'johnny': 2901, 'YouTube': 2902, 'bulgarian': 2903, 'pitt': 2904, 'urban': 2905, 'figure': 2906, 'ukrainian': 2907, 'louisiana': 2908, 'demi': 2909, 'feeling': 2910, 'featuring': 2911, 'nicolas': 2912, 'IBM': 2913, 'swift': 2914, 'cyrus': 2915, 'escape': 2916, 'fighter': 2917, 'difficult': 2918, 'decide': 2919, 'trafficking': 2920, 'crown': 2921, 'proud': 2922, 'easy': 2923, 'improving': 2924, 'provided': 2925, 'carter': 2926, 'maintenance': 2927, 'marathon': 2928, 'commitment': 2929, 'wildlife': 2930, '36': 2931, 'wood': 2932, 'weaker': 2933, 'broadcast': 2934, 'threatens': 2935, 'flooding': 2936, 'restore': 2937, 'personnel': 2938, 'drew': 2939, '34': 2940, 'warner': 2941, 'tea': 2942, 'portland': 2943, 'volunteers': 2944, 'expressed': 2945, 'constitution': 2946, 'tender': 2947, 'kidnapped': 2948, 'appeals': 2949, 'whole': 2950, 'LA': 2951, 'terry': 2952, 'columbus': 2953, 'sweden': 2954, 'armenia': 2955, 'items': 2956, 'cowboys': 2957, 'battling': 2958, 'unions': 2959, 'names': 2960, 'traditional': 2961, 'armstrong': 2962, 'globe': 2963, 'direction': 2964, 'picked': 2965, 'clashes': 2966, 'prepare': 2967, 'indonesian': 2968, 'hosted': 2969, 'image': 2970, 'means': 2971, 'andre': 2972, 'fastest': 2973, 'rookie': 2974, 'maintain': 2975, 'warrant': 2976, 'dates': 2977, 'del': 2978, 'adults': 2979, 'targeted': 2980, 'material': 2981, 'jazz': 2982, 'defended': 2983, 'waiting': 2984, 'suggested': 2985, 'allowing': 2986, 'onto': 2987, 'SA': 2988, 'tons': 2989, 'registered': 2990, 'AG': 2991, '33': 2992, 'parent': 2993, 'table': 2994, 'bengal': 2995, 'reopen': 2996, 'PM': 2997, 'dinner': 2998, 'reasons': 2999, 'upon': 3000, 'legislature': 3001, 'gates': 3002, 'derby': 3003, 'playoff': 3004, 'dhabi': 3005, 'defeated': 3006, 'undisclosed': 3007, 'god': 3008, 'billy': 3009, 'registration': 3010, 'scores': 3011, 'suggests': 3012, 'influence': 3013, 'lopez': 3014, 'shots': 3015, 'edition': 3016, 'petrol': 3017, 'kicks': 3018, 'gunpoint': 3019, 'spill': 3020, 'bulls': 3021, 'similar': 3022, 'haiti': 3023, 'brings': 3024, 'civilians': 3025, 'blow': 3026, 'alexander': 3027, 'arrive': 3028, 'location': 3029, 'performed': 3030, 'tottenham': 3031, 'preseason': 3032, 'benchmark': 3033, 'nicole': 3034, 'nevada': 3035, 'reliance': 3036, 'arrests': 3037, 'retailers': 3038, 'jay': 3039, 'lawrence': 3040, 'revenues': 3041, 'regulatory': 3042, 'bars': 3043, 'shortage': 3044, 'seventh': 3045, 'probably': 3046, 'century': 3047, 'miley': 3048, 'barclays': 3049, 'vows': 3050, 'murdering': 3051, 'CNN': 3052, 'kolkata': 3053, 'YORK': 3054, 'jamie': 3055, 'slowdown': 3056, 'pitch': 3057, 'considers': 3058, 'flag': 3059, 'withdraws': 3060, 'anything': 3061, 'interim': 3062, 'reopened': 3063, 'districts': 3064, 'premiere': 3065, 'seasons': 3066, 'charter': 3067, 'actually': 3068, 'hike': 3069, 'hires': 3070, 'longterm': 3071, 'streak': 3072, 'amazon': 3073, 'taxi': 3074, 'estimated': 3075, 'sound': 3076, 'sure': 3077, 'caribbean': 3078, 'nashville': 3079, 'register': 3080, 'thing': 3081, 'delay': 3082, 'aims': 3083, 'celebration': 3084, 'meetings': 3085, 'marry': 3086, 'temporarily': 3087, 'occurred': 3088, 'ed': 3089, 'lincoln': 3090, 'balance': 3091, 'downturn': 3092, 'camera': 3093, 'pole': 3094, 'degree': 3095, 'smoking': 3096, 'word': 3097, 'talking': 3098, 'charlotte': 3099, 'gained': 3100, 'firefighter': 3101, 'shuttle': 3102, 'blamed': 3103, 'compensation': 3104, 'euros': 3105, 'upper': 3106, 'rains': 3107, 'images': 3108, 'pilots': 3109, 'trillion': 3110, 'ferguson': 3111, 'maria': 3112, 'drilling': 3113, 'ESPN': 3114, 'barbara': 3115, 'heritage': 3116, 'tourist': 3117, 'agreements': 3118, '911': 3119, 'knife': 3120, 'rafael': 3121, 'liam': 3122, 'gaming': 3123, 'downgraded': 3124, 'grew': 3125, 'dismissed': 3126, 'link': 3127, 'pictures': 3128, 'bristol': 3129, 'includes': 3130, 'accept': 3131, 'managing': 3132, 'secured': 3133, 'described': 3134, 'halt': 3135, 'quickly': 3136, 'crowd': 3137, 'bruce': 3138, 'mandela': 3139, 'organisation': 3140, 'netherlands': 3141, 'drunken': 3142, 'suit': 3143, 'fail': 3144, 'listed': 3145, 'resistance': 3146, 'casey': 3147, 'adopted': 3148, 'dealer': 3149, 'visa': 3150, 'materials': 3151, 'suing': 3152, 'arson': 3153, 'cardinals': 3154, 'unveil': 3155, 'mostly': 3156, 'verizon': 3157, 'cuban': 3158, 'regulators': 3159, 'walmart': 3160, 'shah': 3161, 'wave': 3162, 'aaron': 3163, 'automotive': 3164, 'clark': 3165, 'core': 3166, 'shortly': 3167, 'plead': 3168, 'pat': 3169, 'rand': 3170, 'thai': 3171, 'tool': 3172, 'liberal': 3173, 'chile': 3174, 'politicians': 3175, 'MAN': 3176, 'flying': 3177, 'employers': 3178, 'walker': 3179, 'older': 3180, 'organizations': 3181, '2006': 3182, 'physical': 3183, 'savings': 3184, 'permanent': 3185, 'drought': 3186, 'trophy': 3187, 'roy': 3188, 'putin': 3189, 'naval': 3190, 'HP': 3191, 'tornado': 3192, 'auckland': 3193, 'murdered': 3194, 'triple': 3195, 'maine': 3196, 'improvement': 3197, 'upgraded': 3198, 'pound': 3199, 'guns': 3200, '37': 3201, 'read': 3202, 'montreal': 3203, 'colombia': 3204, 'cultural': 3205, 'motion': 3206, 'cap': 3207, 'reason': 3208, 'prominent': 3209, '61': 3210, 'carried': 3211, 'walking': 3212, 'petroleum': 3213, 'lender': 3214, 'guide': 3215, 'kick': 3216, 'written': 3217, 'advantage': 3218, 'executives': 3219, 'conviction': 3220, 'unchanged': 3221, 'aniston': 3222, 'depression': 3223, 'speaks': 3224, 'zoo': 3225, 'villa': 3226, 'fitch': 3227, 'section': 3228, 'faced': 3229, 'master': 3230, 'sides': 3231, 'fixed': 3232, 'powers': 3233, 'kidnapping': 3234, 'threw': 3235, 'violating': 3236, 'lay': 3237, 'watson': 3238, 'coordinator': 3239, 'keen': 3240, 'cincinnati': 3241, 'door': 3242, 'opportunity': 3243, 'ricky': 3244, 'rush': 3245, 'parks': 3246, 'palace': 3247, 'responsibility': 3248, 'asif': 3249, 'enhance': 3250, 'restrictions': 3251, 'nominee': 3252, 'hiring': 3253, 'cited': 3254, 'duke': 3255, 'alternative': 3256, 'rolling': 3257, 'UFC': 3258, 'alone': 3259, 'produced': 3260, 'dick': 3261, 'poland': 3262, 'cells': 3263, 'prosecutor': 3264, 'grants': 3265, 'toddler': 3266, 'struggle': 3267, 'welfare': 3268, 'tehran': 3269, 'exploration': 3270, 'magic': 3271, 'commodity': 3272, 'risks': 3273, 'presents': 3274, 'jammu': 3275, 'increasingly': 3276, 'reid': 3277, 'roberts': 3278, 'judicial': 3279, 'dave': 3280, 'infection': 3281, 'emirates': 3282, 'landed': 3283, 'wreck': 3284, 'comedian': 3285, 'dolphins': 3286, 'malik': 3287, 'stepping': 3288, 'respect': 3289, 'NASA': 3290, 'reaching': 3291, 'AC': 3292, 'everyone': 3293, 'honda': 3294, 'wholesale': 3295, 'icon': 3296, 'moment': 3297, '250': 3298, 'milestone': 3299, 'trees': 3300, 'currencies': 3301, 'restored': 3302, 'lane': 3303, 'barry': 3304, 'hotels': 3305, 'promised': 3306, 'focused': 3307, 'episode': 3308, 'score': 3309, 'leak': 3310, 'customs': 3311, 'forthcoming': 3312, 'lightning': 3313, 'sarkozy': 3314, 'diabetes': 3315, 'mount': 3316, 'twoyear': 3317, 'lama': 3318, 'retiring': 3319, 'attention': 3320, 'collaboration': 3321, 'armenian': 3322, 'linebacker': 3323, 'chennai': 3324, 'matthew': 3325, 'honoured': 3326, 'raping': 3327, 'handed': 3328, 'greg': 3329, 'creative': 3330, 'picture': 3331, 'dodgers': 3332, 'larry': 3333, 'beauty': 3334, 'saints': 3335, 'comprehensive': 3336, 'bradley': 3337, 'sunderland': 3338, 'hedge': 3339, 'abroad': 3340, 'NASCAR': 3341, 'measure': 3342, 'lord': 3343, 'athletic': 3344, 'resolve': 3345, 'recalling': 3346, 'roster': 3347, 'patriots': 3348, 'plastic': 3349, 'strongly': 3350, 'kuwait': 3351, 'shoots': 3352, 'roof': 3353, 'gujarat': 3354, 'thinks': 3355, 'musharraf': 3356, 'condemned': 3357, 'passing': 3358, 'collapse': 3359, 'releasing': 3360, 'classes': 3361, 'fleet': 3362, 'drink': 3363, 'recording': 3364, 'idea': 3365, '10th': 3366, 'stress': 3367, 'parker': 3368, 'softball': 3369, 'endorses': 3370, 'billionaire': 3371, 'p': 3372, 'exit': 3373, 'deutsche': 3374, 'dublin': 3375, 'accidentally': 3376, 'danny': 3377, 'served': 3378, 'communication': 3379, '800': 3380, 'nepal': 3381, 'hilton': 3382, 'inter': 3383, 'checks': 3384, 'bike': 3385, 'establish': 3386, 'wearing': 3387, 'captured': 3388, 'undergoing': 3389, 'buyers': 3390, 'jonathan': 3391, 'crackdown': 3392, 'hawaii': 3393, 'nigerian': 3394, 'christina': 3395, 'athletes': 3396, 'inquiry': 3397, 'clubs': 3398, 'prepared': 3399, 'legislative': 3400, 'pushed': 3401, 'required': 3402, 'thompson': 3403, 'ashley': 3404, '43': 3405, 'emerged': 3406, 'edged': 3407, 'encounter': 3408, 'stability': 3409, 'carl': 3410, 'governments': 3411, 'sue': 3412, 'reveal': 3413, 'adult': 3414, 'dalai': 3415, 'montana': 3416, 'unexpectedly': 3417, 'royals': 3418, 'AM': 3419, 'tries': 3420, 'motorcyclist': 3421, 'kerala': 3422, 'affect': 3423, 'machine': 3424, 'ian': 3425, 'kapoor': 3426, 'crack': 3427, 'illegally': 3428, 'hunt': 3429, 'original': 3430, '3000': 3431, 'III': 3432, 'freed': 3433, 'promises': 3434, 'islamabad': 3435, 'salary': 3436, 'seize': 3437, 'AFP': 3438, 'controversy': 3439, 'municipal': 3440, 'standoff': 3441, 'latin': 3442, 'misdemeanor': 3443, 'diesel': 3444, 'fewer': 3445, 'demanded': 3446, 'ranked': 3447, 'fiji': 3448, 'warriors': 3449, 'trail': 3450, 'shore': 3451, 'takeover': 3452, 'determined': 3453, 'workforce': 3454, 'muslims': 3455, 'tie': 3456, 'quits': 3457, 'rogers': 3458, 'wear': 3459, '700': 3460, 'dow': 3461, 'visitors': 3462, 'humanitarian': 3463, 'raped': 3464, 'limit': 3465, 'principal': 3466, 'wine': 3467, 'lok': 3468, 'raiders': 3469, '38': 3470, 'intends': 3471, 'tribal': 3472, 'hunger': 3473, 'commonwealth': 3474, 'backed': 3475, 'wealth': 3476, 'puts': 3477, 'imposed': 3478, 'interested': 3479, 'PC': 3480, 'asylum': 3481, 'storms': 3482, 'fails': 3483, 'publicly': 3484, 'accepting': 3485, 'brandon': 3486, 'undergoes': 3487, 'saved': 3488, 'bird': 3489, 'shipping': 3490, 'mar': 3491, 'accepted': 3492, 'withdraw': 3493, 'liberty': 3494, 'tools': 3495, 'delta': 3496, 'kind': 3497, 'extending': 3498, 'wright': 3499, 'bigger': 3500, 'withdrawn': 3501, 'holmes': 3502, 'MTV': 3503, 'pharmaceutical': 3504, 'romania': 3505, '72': 3506, 'pub': 3507, '46': 3508, 'rallied': 3509, 'tensions': 3510, 'defending': 3511, 'marking': 3512, 'closure': 3513, 'count': 3514, 'maoists': 3515, 'keith': 3516, 'innovative': 3517, 'knight': 3518, 'upset': 3519, 'lakh': 3520, 'hampshire': 3521, 'revolution': 3522, 'hunting': 3523, 'advice': 3524, 'tower': 3525, 'thrown': 3526, 'formed': 3527, 'praised': 3528, 'pledged': 3529, 'cubs': 3530, 'solo': 3531, 'gift': 3532, 'resignation': 3533, 'plus': 3534, 'goalkeeper': 3535, 'terminal': 3536, 'hear': 3537, 'interests': 3538, 'familiar': 3539, 'indianapolis': 3540, 'publisher': 3541, 'bachchan': 3542, 'jesse': 3543, 'peak': 3544, 'pulls': 3545, 'courts': 3546, '44': 3547, 'fla': 3548, 'writes': 3549, 'injuring': 3550, 'blog': 3551, 'till': 3552, 'nebraska': 3553, 'FBI': 3554, 'regions': 3555, 'structure': 3556, 'streaming': 3557, 'finals': 3558, 'gilani': 3559, 'salman': 3560, 'renewable': 3561, 'wage': 3562, 'bans': 3563, 'highs': 3564, 'capitol': 3565, 'colombian': 3566, 'trailer': 3567, 'parade': 3568, 'allstar': 3569, '51': 3570, 'unlikely': 3571, 'standing': 3572, 'kenny': 3573, 'forecasts': 3574, 'collins': 3575, 'memphis': 3576, 'cook': 3577, 'MPs': 3578, 'conspiracy': 3579, 'bat': 3580, 'lands': 3581, 'rejects': 3582, '52': 3583, 'speaking': 3584, 'drone': 3585, 'kanye': 3586, 'analysis': 3587, 'joseph': 3588, 'earned': 3589, 'changing': 3590, 'witnesses': 3591, 'raza': 3592, 'fun': 3593, 'computers': 3594, 'outfielder': 3595, 'someone': 3596, 'included': 3597, 'ottawa': 3598, 'providers': 3599, 'established': 3600, 'variety': 3601, 'minimum': 3602, 'retires': 3603, 'nadal': 3604, 'mind': 3605, 'tanker': 3606, 'pushing': 3607, 'fields': 3608, 'studies': 3609, 'momentum': 3610, '82': 3611, 'rome': 3612, 'dry': 3613, 'militant': 3614, 'recycling': 3615, 'graham': 3616, 'universal': 3617, 'operators': 3618, 'knocked': 3619, 'competitive': 3620, 'envoy': 3621, 'McCartney': 3622, 'agricultural': 3623, 'remarks': 3624, 'poised': 3625, 'knowledge': 3626, 'backs': 3627, 'sues': 3628, '53': 3629, 'lung': 3630, 'insisted': 3631, '55': 3632, 'heavyweight': 3633, 'zuma': 3634, 'critically': 3635, 'starring': 3636, 'trucks': 3637, 'dropping': 3638, 'significantly': 3639, 'implement': 3640, 'prior': 3641, 'minority': 3642, 'practices': 3643, 'brisbane': 3644, 'temple': 3645, 'adams': 3646, 'fisher': 3647, 'era': 3648, 'motorola': 3649, 'milk': 3650, 'hughes': 3651, 'fed': 3652, 'sterling': 3653, 'tracking': 3654, 'select': 3655, 'rolled': 3656, 'attacking': 3657, 'moon': 3658, 'cyprus': 3659, 'adviser': 3660, 'lance': 3661, 'baghdad': 3662, 'NC': 3663, 'walked': 3664, 'skills': 3665, 'neck': 3666, 'hair': 3667, 'appointment': 3668, 'quite': 3669, 'witness': 3670, 'commits': 3671, 'blues': 3672, 'Twenty20': 3673, 'coaching': 3674, 'alongside': 3675, 'roman': 3676, 'proposes': 3677, 'FA': 3678, 'underwent': 3679, 'endorsed': 3680, 'guidance': 3681, 'songs': 3682, 'buried': 3683, 'uses': 3684, 'gaddafi': 3685, 'benedict': 3686, 'ross': 3687, 'entering': 3688, 'pharmaceuticals': 3689, 'crashing': 3690, 'abdullah': 3691, 'lakers': 3692, 'pet': 3693, 'dramatic': 3694, 'animals': 3695, '48': 3696, 'pleased': 3697, 'finding': 3698, 'size': 3699, 'teens': 3700, 'unique': 3701, 'qualifying': 3702, 'twin': 3703, 'complaints': 3704, 'editor': 3705, 'presidency': 3706, 'loves': 3707, 'task': 3708, 'trouble': 3709, 'surge': 3710, 'beer': 3711, 'mukherjee': 3712, 'aston': 3713, 'middleton': 3714, 'accuses': 3715, 'georgian': 3716, 'indies': 3717, 'sustained': 3718, 'individual': 3719, 'enterprises': 3720, 'sleep': 3721, 'dealing': 3722, 'chancellor': 3723, 'jerusalem': 3724, 'assignment': 3725, 'eagle': 3726, 'theater': 3727, 'potentially': 3728, 'ted': 3729, 'tablet': 3730, 'pak': 3731, 'kosovo': 3732, 'mets': 3733, 'tsunami': 3734, 'grove': 3735, 'locations': 3736, 'idaho': 3737, 'acres': 3738, '50000': 3739, 'juan': 3740, 'code': 3741, 'winger': 3742, 'citizen': 3743, 'weapon': 3744, 'spokeswoman': 3745, 'attempts': 3746, 'crucial': 3747, 'declines': 3748, 'holidays': 3749, 'metals': 3750, 'membership': 3751, 'links': 3752, 'munich': 3753, 'PTI': 3754, 'worries': 3755, 'tyler': 3756, 'restaurants': 3757, 'prospect': 3758, 'karnataka': 3759, 'costa': 3760, 'sectors': 3761, 'dell': 3762, 'virtual': 3763, 'sep': 3764, 'douglas': 3765, 'developers': 3766, 'tank': 3767, 'photos': 3768, 'managers': 3769, 'article': 3770, 'sciences': 3771, 'BlackBerry': 3772, 'discharged': 3773, 'hunter': 3774, 'monitoring': 3775, 'picks': 3776, 'resumed': 3777, 'boosted': 3778, 'limits': 3779, 'berlusconi': 3780, 'write': 3781, 'fighters': 3782, 'vladimir': 3783, 'kyle': 3784, 'shane': 3785, 'ahmadinejad': 3786, 'telling': 3787, 'corner': 3788, 'promoting': 3789, 'DUI': 3790, 'rebound': 3791, 'sporting': 3792, 'burns': 3793, 'anyone': 3794, 'reserves': 3795, 'opera': 3796, 'harper': 3797, 'demanding': 3798, 'susan': 3799, 'immigrants': 3800, 'faster': 3801, 'attempting': 3802, 'selection': 3803, 'skipper': 3804, 'slipped': 3805, 'tracks': 3806, 'rachel': 3807, 'everton': 3808, 'kerry': 3809, 'pending': 3810, 'communist': 3811, 'sponsor': 3812, 'stranded': 3813, 'pit': 3814, 'expenses': 3815, 'ore': 3816, 'sustainable': 3817, 'telecommunications': 3818, 'cat': 3819, 'oneyear': 3820, 'lebanese': 3821, 'leeds': 3822, 'effects': 3823, 'sovereign': 3824, 'string': 3825, 'allows': 3826, 'riding': 3827, 'hugo': 3828, 'routes': 3829, 'delaware': 3830, 'reduction': 3831, 'refinance': 3832, 'label': 3833, 'jeremy': 3834, 'sparked': 3835, 'ability': 3836, 'nobel': 3837, 'mahmoud': 3838, 'prepares': 3839, 'semifinal': 3840, 'upgrade': 3841, 'cancel': 3842, 'quoted': 3843, 'kidney': 3844, 'evans': 3845, 'pete': 3846, 'kent': 3847, 'saving': 3848, 'slammed': 3849, 'reducing': 3850, 'stands': 3851, 'mills': 3852, '3D': 3853, 'premium': 3854, 'lenders': 3855, 'guards': 3856, 'spencer': 3857, 'chest': 3858, 'heights': 3859, 'ken': 3860, 'julian': 3861, 'foreclosure': 3862, 'resource': 3863, 'saint': 3864, 'bomber': 3865, 'mario': 3866, 'workshop': 3867, 'possibility': 3868, 'featured': 3869, 'neutral': 3870, 'quick': 3871, 'revised': 3872, 'northwestern': 3873, 'vatican': 3874, 'prescription': 3875, 'argument': 3876, 'gap': 3877, 'entry': 3878, 'hub': 3879, 'outbreak': 3880, 'stops': 3881, 'v': 3882, 'monitor': 3883, 'marked': 3884, 'jacksonville': 3885, 'path': 3886, 'catches': 3887, 'affordable': 3888, 'berlin': 3889, 'memory': 3890, 'perth': 3891, 'stream': 3892, 'rollover': 3893, 'maharashtra': 3894, 'abbas': 3895, 'affair': 3896, 'brett': 3897, 'jacob': 3898, 'pickup': 3899, 'interactive': 3900, 'urging': 3901, 'exposure': 3902, 'brief': 3903, 'citigroup': 3904, 'hip': 3905, 'flash': 3906, 'throwing': 3907, 'coaches': 3908, 'hopeful': 3909, 'wimbledon': 3910, 'parish': 3911, 'refuses': 3912, 'category': 3913, 'BC': 3914, 'springfield': 3915, 'forms': 3916, 'emma': 3917, 'mitchell': 3918, 'midnight': 3919, 'fly': 3920, 'equities': 3921, 'innovation': 3922, '120': 3923, 'marshall': 3924, 'foster': 3925, 'regulations': 3926, 'defenseman': 3927, 'blasts': 3928, 'resumes': 3929, 'vaccine': 3930, 'jobless': 3931, 'prove': 3932, 'auburn': 3933, 'floods': 3934, 'actions': 3935, 'guest': 3936, 'promoted': 3937, 'wrote': 3938, 'shareholder': 3939, 'FIFA': 3940, 'integration': 3941, 'sons': 3942, 'remote': 3943, 'smartphones': 3944, '56': 3945, 'wheat': 3946, 'anne': 3947, 'yemeni': 3948, 'senators': 3949, 'obesity': 3950, 'wire': 3951, 'treat': 3952, 'adopt': 3953, 'innings': 3954, 'answer': 3955, 'karzai': 3956, 'mom': 3957, 'character': 3958, 'rochester': 3959, 'GM': 3960, 'kris': 3961, 'addition': 3962, 'drowns': 3963, 'celtic': 3964, 'writing': 3965, 'redskins': 3966, 'raw': 3967, 'unable': 3968, 'models': 3969, 'sessions': 3970, 'directed': 3971, 'shelter': 3972, '67': 3973, 'favourite': 3974, 'lying': 3975, 'stakes': 3976, 'subject': 3977, 'arnold': 3978, 'semifinals': 3979, 'cruelty': 3980, 'dean': 3981, 'stepped': 3982, 'assange': 3983, 'external': 3984, 'ski': 3985, 'peru': 3986, 'peaceful': 3987, 'blame': 3988, 'manage': 3989, 'crystal': 3990, 'firing': 3991, 'cliff': 3992, 'apologized': 3993, 'gunmen': 3994, 'type': 3995, 'universities': 3996, 'audience': 3997, 'landmark': 3998, 'involvement': 3999, 'rajasthan': 4000, 'bangalore': 4001, 'transaction': 4002, 'volleyball': 4003, 'qantas': 4004, 'approve': 4005, 'WikiLeaks': 4006, 'supermarket': 4007, 'text': 4008, 'supported': 4009, 'mubarak': 4010, 'mason': 4011, 'user': 4012, 'rooney': 4013, 'ranks': 4014, 'federer': 4015, 'overhaul': 4016, 'louisville': 4017, 'watching': 4018, 'montgomery': 4019, '2015': 4020, 'cameras': 4021, 'superior': 4022, 'skin': 4023, 'nursing': 4024, 'syed': 4025, 'motorists': 4026, 'beef': 4027, 'clothing': 4028, 'donated': 4029, 'photographer': 4030, 'adelaide': 4031, 'forcing': 4032, 'chamber': 4033, 'waivers': 4034, 'lucky': 4035, 'prevention': 4036, 'staterun': 4037, 'bag': 4038, 'followed': 4039, 'clinical': 4040, 'voluntary': 4041, 'worse': 4042, 'rahul': 4043, 'underway': 4044, 'pregnancy': 4045, 'spokesperson': 4046, '54': 4047, 'seats': 4048, 'privacy': 4049, 'NHS': 4050, 'eased': 4051, 'blaze': 4052, 'angry': 4053, 'conservation': 4054, 'opinion': 4055, 'papers': 4056, 'mill': 4057, 'spirit': 4058, 'keeps': 4059, 'sharks': 4060, 'faith': 4061, 'dmitry': 4062, 'cyclist': 4063, 'salt': 4064, 'ham': 4065, 'artists': 4066, 'airbus': 4067, 'roberto': 4068, 'bihar': 4069, 'wellington': 4070, 'catch': 4071, 'greatest': 4072, 'zero': 4073, 'bryant': 4074, 'portsmouth': 4075, 'carey': 4076, 'priest': 4077, 'refugees': 4078, 'consulting': 4079, '95': 4080, 'sacramento': 4081, 'cotton': 4082, 'assist': 4083, 'concluded': 4084, 'musician': 4085, 'favorite': 4086, 'studios': 4087, 'abortion': 4088, 'brooklyn': 4089, 'brussels': 4090, 'IMF': 4091, 'settled': 4092, 'apply': 4093, 'baseman': 4094, 'throws': 4095, 'identify': 4096, 'chef': 4097, 'chip': 4098, 'mugabe': 4099, 'belgium': 4100, 'words': 4101, \"'\": 4102, '49': 4103, 'cambridge': 4104, 'bone': 4105, 'BMW': 4106, 'suspend': 4107, 'driven': 4108, 'slip': 4109, 'shift': 4110, 'corps': 4111, 'seeing': 4112, 'unknown': 4113, 'branded': 4114, 'martinez': 4115, 'serial': 4116, 'ambulance': 4117, 'broad': 4118, 'abandoned': 4119, 'plunged': 4120, 'client': 4121, 'acts': 4122, 'arctic': 4123, 'gene': 4124, 'browns': 4125, 'vikings': 4126, 'attending': 4127, 'bloomberg': 4128, 'concussion': 4129, 'particularly': 4130, 'burned': 4131, 'randy': 4132, 'wish': 4133, '900': 4134, 'vodafone': 4135, 'lows': 4136, 'ferrari': 4137, 'confirm': 4138, 'honour': 4139, 'julia': 4140, 'shock': 4141, 'cinema': 4142, 'hole': 4143, 'spy': 4144, 'either': 4145, 'trapped': 4146, 'slashed': 4147, 'pastor': 4148, 'uranium': 4149, 'shops': 4150, 'performs': 4151, 'r': 4152, 'coastal': 4153, 'rodriguez': 4154, 'apologizes': 4155, 'bombing': 4156, 'fernando': 4157, 'donald': 4158, 'rental': 4159, 'sharing': 4160, 'gomez': 4161, 'weakened': 4162, 'venezuelan': 4163, 'abdul': 4164, '68': 4165, 'vessel': 4166, 'hate': 4167, 'rockets': 4168, '66': 4169, 'advised': 4170, 'solid': 4171, 'merkel': 4172, 'efficiency': 4173, 'nadu': 4174, 'bottom': 4175, 'discussed': 4176, 'economies': 4177, 'eddie': 4178, 'messages': 4179, 'scale': 4180, 'newest': 4181, 'celebrations': 4182, 'praises': 4183, 'swept': 4184, 'potter': 4185, 'replaced': 4186, 'consumption': 4187, '11th': 4188, 'xinhua': 4189, 'accusing': 4190, 'diplomats': 4191, 'attract': 4192, 'rebel': 4193, '50th': 4194, 'danger': 4195, 'oldest': 4196, 'vision': 4197, 'deer': 4198, 'drove': 4199, 'commissioners': 4200, 'possibly': 4201, 'concerned': 4202, 'tributes': 4203, 'ANC': 4204, 'sheikh': 4205, 'investigated': 4206, 'fares': 4207, 'anticipated': 4208, 'transplant': 4209, 'determine': 4210, 'rolls': 4211, 'documentary': 4212, 'phillies': 4213, 'tops': 4214, 'sacked': 4215, 'chidambaram': 4216, 'wing': 4217, 'roles': 4218, 'counterpart': 4219, 'AN': 4220, 'requirements': 4221, 'command': 4222, 'surplus': 4223, 'secondary': 4224, 'priority': 4225, 'sick': 4226, 'WWE': 4227, 'emissions': 4228, 'outdoor': 4229, 'absence': 4230, 'contractor': 4231, 'seed': 4232, 'mines': 4233, 'producing': 4234, 'earn': 4235, 'versus': 4236, 'aggravated': 4237, 'heidi': 4238, 'ownership': 4239, 'heroin': 4240, 'costar': 4241, 'childhood': 4242, 'constitutional': 4243, 'finland': 4244, 'luke': 4245, 'drawing': 4246, 'widespread': 4247, 'ronaldo': 4248, 'tommy': 4249, 'christie': 4250, 'judiciary': 4251, 'crushed': 4252, 'respond': 4253, 'websites': 4254, 'petition': 4255, 'refinery': 4256, 'channels': 4257, 'babies': 4258, 'aggressive': 4259, 'chosen': 4260, 'violation': 4261, 'maritime': 4262, 'robbie': 4263, 'titans': 4264, 'completely': 4265, 'prospects': 4266, 'lily': 4267, 'sing': 4268, 'austerity': 4269, 'filmmaker': 4270, 'temperatures': 4271, 'gross': 4272, 'condemns': 4273, 'comment': 4274, 'marc': 4275, 'nominations': 4276, 'rapids': 4277, 'fiveyear': 4278, 'karachi': 4279, 'slash': 4280, 'doubled': 4281, 'pricing': 4282, 'shell': 4283, 'DJ': 4284, 'uncertainty': 4285, 'donations': 4286, 'bayern': 4287, 'laden': 4288, 'feared': 4289, 'shed': 4290, 'NJ': 4291, 'clothes': 4292, 'oracle': 4293, 'hanging': 4294, 'thanksgiving': 4295, 'branches': 4296, 'airports': 4297, 'advances': 4298, 'bed': 4299, 'improves': 4300, 'prostitution': 4301, 'APA': 4302, 'trials': 4303, 'accidents': 4304, 'winners': 4305, 'licence': 4306, 'timberlake': 4307, 'poverty': 4308, 'census': 4309, 'grade': 4310, 'individuals': 4311, 'ravens': 4312, 'burn': 4313, 'inning': 4314, 'detention': 4315, 'diplomat': 4316, 'pink': 4317, 'cairo': 4318, 'HIV': 4319, 'nintendo': 4320, 'tendulkar': 4321, 'pizza': 4322, 'steelers': 4323, 'tobacco': 4324, 'finger': 4325, 'hailed': 4326, 'athletics': 4327, 'critics': 4328, 'warehouse': 4329, 'household': 4330, 'muhammad': 4331, '47': 4332, 'overcome': 4333, 'robinson': 4334, 'disappointing': 4335, 'predicted': 4336, 'viewers': 4337, 'proposals': 4338, '20th': 4339, 'trains': 4340, 'billions': 4341, 'flames': 4342, 'recognition': 4343, 'deposit': 4344, 'murphy': 4345, 'jays': 4346, 'civilian': 4347, 'broadcasting': 4348, 'playoffs': 4349, 'warn': 4350, 'jefferson': 4351, 'dad': 4352, 'easter': 4353, 'holy': 4354, 'glass': 4355, 'farmer': 4356, 'suffer': 4357, 'buses': 4358, 'discrimination': 4359, 'lifetime': 4360, 'nightclub': 4361, 'watchdog': 4362, 'inmates': 4363, 'bishop': 4364, 'edmonton': 4365, '71': 4366, 'slams': 4367, 'surrounding': 4368, 'fundraising': 4369, 'H1N1': 4370, 'ace': 4371, 'looked': 4372, 'portugal': 4373, 'electrical': 4374, 'basic': 4375, 'porn': 4376, 'behaviour': 4377, '77': 4378, 'switch': 4379, 'estranged': 4380, 'dairy': 4381, 'ships': 4382, 'flagship': 4383, 'ceasefire': 4384, 'phillips': 4385, 'sonia': 4386, 'makers': 4387, 'meat': 4388, '125': 4389, 'gibson': 4390, 'suzuki': 4391, 'species': 4392, 'unity': 4393, 'computing': 4394, 'apology': 4395, 'operate': 4396, 'regulator': 4397, 'jewelry': 4398, 'specialty': 4399, 'publishing': 4400, 'robber': 4401, 'ann': 4402, 'creation': 4403, 'newspapers': 4404, 'liquor': 4405, 'centres': 4406, 'refusing': 4407, 'mahindra': 4408, 'offset': 4409, 'amanda': 4410, 'broncos': 4411, 'bernanke': 4412, 'delivers': 4413, 'lawmaker': 4414, 'chances': 4415, '20yearold': 4416, 'robberies': 4417, 'pilgrims': 4418, 'attended': 4419, 'installed': 4420, 'baldwin': 4421, 'eating': 4422, 'PGA': 4423, 'colin': 4424, 'mean': 4425, 'wenger': 4426, 'volume': 4427, 'downgrades': 4428, 'cycling': 4429, 'planes': 4430, 'guitarist': 4431, 'nancy': 4432, 'freeze': 4433, 'slide': 4434, 'schwarzenegger': 4435, 'smaller': 4436, 'moss': 4437, 'younger': 4438, 'braves': 4439, 'garage': 4440, 'torch': 4441, '73': 4442, 'pentagon': 4443, 'misses': 4444, 'warming': 4445, 'necessary': 4446, 'lt': 4447, 'yes': 4448, '81': 4449, 'recognized': 4450, 'enjoy': 4451, 'quoting': 4452, 'richmond': 4453, 'frontman': 4454, 'penguins': 4455, 'honorary': 4456, 'hyderabad': 4457, 'evasion': 4458, 'cope': 4459, 'grocery': 4460, 'elbow': 4461, 'rumours': 4462, 'amendment': 4463, 'chicken': 4464, 'jesus': 4465, 'occupy': 4466, 'easily': 4467, 'default': 4468, 'sharif': 4469, 'clerk': 4470, 'endorse': 4471, 'haryana': 4472, 'scare': 4473, 'inducted': 4474, 'warm': 4475, 'shared': 4476, 'spoke': 4477, 'engineers': 4478, 'surveillance': 4479, 'suburban': 4480, 'lil': 4481, 'modi': 4482, 'aboard': 4483, 'promising': 4484, '12th': 4485, 'applied': 4486, 'administrative': 4487, 'directly': 4488, 'princess': 4489, 'whitney': 4490, 'reds': 4491, '500000': 4492, 'pioneer': 4493, 'abusing': 4494, 'actors': 4495, 'pride': 4496, 'blocked': 4497, 'threeday': 4498, 'stuck': 4499, '74': 4500, 'pranab': 4501, 'initiatives': 4502, '78': 4503, 'hostage': 4504, 'amnesty': 4505, 'prostate': 4506, 'titled': 4507, 'thieves': 4508, 'stem': 4509, 'novel': 4510, 'discussion': 4511, 'beverly': 4512, 'eighth': 4513, 'romanian': 4514, 'pervez': 4515, '83': 4516, 'rivers': 4517, 'serbian': 4518, 'rumors': 4519, 'ninth': 4520, 'nature': 4521, 'prisoner': 4522, 'threeyear': 4523, 'mystery': 4524, 'nearby': 4525, 'survive': 4526, 'slowed': 4527, 'inspired': 4528, 'aim': 4529, 'sandy': 4530, 'bolton': 4531, 'guarantee': 4532, 'ericsson': 4533, 'mars': 4534, 'alberta': 4535, 'ballot': 4536, 'trades': 4537, 'agenda': 4538, 'lion': 4539, 'volunteer': 4540, 'defeats': 4541, 'steal': 4542, 'wolves': 4543, 'vital': 4544, 'blake': 4545, 'transition': 4546, 'osbourne': 4547, 'broadcaster': 4548, 'seahawks': 4549, 'pleading': 4550, 'manhattan': 4551, 'bosses': 4552, 'xbox': 4553, 'santorum': 4554, 'automaker': 4555, 'roadside': 4556, 'unidentified': 4557, 'bombs': 4558, 'submitted': 4559, 'dumped': 4560, 'somalia': 4561, 'celtics': 4562, 'slowing': 4563, 'download': 4564, 'affiliate': 4565, 'hamid': 4566, 'disputed': 4567, 'bounce': 4568, 'sitting': 4569, 'sachin': 4570, 'doubles': 4571, 'purchases': 4572, 'robbing': 4573, 'diet': 4574, 'donates': 4575, 'professionals': 4576, 'outfit': 4577, 'designated': 4578, 'crunch': 4579, 'uttar': 4580, 'lynch': 4581, 'briefly': 4582, 'quarterfinals': 4583, 'elton': 4584, 'awardwinning': 4585, 'righthander': 4586, 'postal': 4587, 'graduate': 4588, 'insider': 4589, 'wildfire': 4590, 'locked': 4591, 'importance': 4592, 'hu': 4593, 'hybrid': 4594, 'brewers': 4595, 'posting': 4596, 'clarke': 4597, 'netanyahu': 4598, 'commodities': 4599, 'spectrum': 4600, 'ward': 4601, 'rider': 4602, 'naked': 4603, 'offences': 4604, 'athens': 4605, 'boycott': 4606, 'oak': 4607, 'hungary': 4608, 'dennis': 4609, '86': 4610, 'upgrades': 4611, 'collapses': 4612, 'owen': 4613, 'rapid': 4614, 'todd': 4615, 'diseases': 4616, 'fled': 4617, 'staying': 4618, 'CBI': 4619, 'crowned': 4620, 'unrest': 4621, '2004': 4622, 'colleges': 4623, 'piece': 4624, 'vacant': 4625, 'borrowing': 4626, 'convenience': 4627, 'values': 4628, 'WASHINGTON': 4629, 'elephant': 4630, 'parole': 4631, 'suu': 4632, 'kyi': 4633, 'collided': 4634, 'operational': 4635, 'desperate': 4636, 'twoday': 4637, 'representing': 4638, 'inquest': 4639, 'referendum': 4640, 'inaugural': 4641, 'HTC': 4642, '39': 4643, 'commit': 4644, 'observed': 4645, '1st': 4646, 'sanchez': 4647, 'definitive': 4648, 'topped': 4649, 'mel': 4650, 'wounds': 4651, 'yard': 4652, 'regulation': 4653, 'freight': 4654, 'achieve': 4655, 'unless': 4656, 'dame': 4657, 'promise': 4658, 'canadians': 4659, 'larger': 4660, 'UBS': 4661, 'remember': 4662, 'deported': 4663, 'qaeda': 4664, 'oneday': 4665, 'plot': 4666, 'lovato': 4667, 'titles': 4668, 'UEFA': 4669, 'pupils': 4670, 'hometown': 4671, 'damages': 4672, 'responded': 4673, 'PLC': 4674, 'norwegian': 4675, 'castro': 4676, 'survived': 4677, 'climbed': 4678, 'sisters': 4679, 'leon': 4680, 'disclosed': 4681, 'homeowners': 4682, 'academic': 4683, 'grid': 4684, 'oman': 4685, 'optimism': 4686, 'triplea': 4687, 'francis': 4688, 'empire': 4689, 'SUV': 4690, 'doping': 4691, 'aide': 4692, 'engineer': 4693, 'fireworks': 4694, 'shootout': 4695, 'baku': 4696, 'grave': 4697, 'sweep': 4698, 'eat': 4699, 'blair': 4700, '88': 4701, 'minute': 4702, 'coroner': 4703, 'lifestyle': 4704, 'obtained': 4705, 'sandra': 4706, 'johannesburg': 4707, '101': 4708, 'placement': 4709, 'aberdeen': 4710, 'odds': 4711, 'ridge': 4712, '1500': 4713, 'contain': 4714, 'bids': 4715, 'AFL': 4716, 'print': 4717, 'exploded': 4718, 'miners': 4719, 'selena': 4720, 'rupert': 4721, 'combined': 4722, 'audio': 4723, 'happen': 4724, 'replacing': 4725, 'manufacturers': 4726, 'gasoline': 4727, 'enable': 4728, 'simple': 4729, 'seoul': 4730, 'horses': 4731, 'decisions': 4732, 'frozen': 4733, 'tribune': 4734, 'polish': 4735, 'challenged': 4736, 'ecuador': 4737, 'conrad': 4738, 'treaty': 4739, 'educational': 4740, 'northeastern': 4741, 'norway': 4742, 'formal': 4743, 'prestigious': 4744, 'blind': 4745, '4000': 4746, 'recommended': 4747, 'investing': 4748, 'appoint': 4749, 'cisco': 4750, 'machines': 4751, 'pacquiao': 4752, 'destroys': 4753, 'reopens': 4754, 'breakfast': 4755, 'bags': 4756, 'norman': 4757, 'rebounds': 4758, 'mild': 4759, 'achieved': 4760, 'philip': 4761, 'ethnic': 4762, 'lottery': 4763, 'youths': 4764, 'completion': 4765, 'cool': 4766, '2005': 4767, 'presidentelect': 4768, 'preferred': 4769, 'signal': 4770, 'iconic': 4771, 'rod': 4772, 'races': 4773, 'decrease': 4774, 'charging': 4775, 'racist': 4776, 'floyd': 4777, 'omaha': 4778, 'mohammed': 4779, '2020': 4780, 'marcus': 4781, 'rocker': 4782, 'gambling': 4783, 'declare': 4784, 'IST': 4785, 'amitabh': 4786, 'angel': 4787, 'gathered': 4788, 'statewide': 4789, 'juventus': 4790, 'gunman': 4791, 'argentine': 4792, 'updates': 4793, 'exposed': 4794, 'throw': 4795, 'who': 4796, 'definitely': 4797, 'ultimate': 4798, 'barnes': 4799, 'gather': 4800, 'desert': 4801, 'bronze': 4802, 'mariners': 4803, 'michele': 4804, 'fix': 4805, 'sense': 4806, 'tibetan': 4807, 'medals': 4808, 'declining': 4809, 'glasgow': 4810, 'monroe': 4811, 'gallagher': 4812, 'suite': 4813, 'missiles': 4814, 'swim': 4815, 'gear': 4816, 'mad': 4817, 'pledges': 4818, 'ashes': 4819, 'jake': 4820, '21yearold': 4821, 'HSBC': 4822, 'misconduct': 4823, 'raj': 4824, 'scrap': 4825, 'denmark': 4826, 'kabul': 4827, 'drinks': 4828, 'feed': 4829, 'packers': 4830, 'aside': 4831, 'NRL': 4832, 'reviews': 4833, 'weakness': 4834, 'preparation': 4835, '200000': 4836, 'duties': 4837, 'dozen': 4838, 'farms': 4839, 'joel': 4840, 'tape': 4841, '20000': 4842, '91': 4843, 'norwich': 4844, 'politician': 4845, 'sharma': 4846, 'packaging': 4847, 'angels': 4848, '57': 4849, 'indicated': 4850, 'kicking': 4851, 'scoring': 4852, 'ahmed': 4853, 'bernard': 4854, 'ashton': 4855, 'sebastian': 4856, 'replacement': 4857, 'chad': 4858, 'escapes': 4859, 'stages': 4860, 'coleman': 4861, 'heath': 4862, 'emmy': 4863, 'easier': 4864, 'poker': 4865, 'runway': 4866, 'easing': 4867, 'boyle': 4868, 'numerous': 4869, 'grain': 4870, 'moderate': 4871, 'guru': 4872, '100th': 4873, 'apologised': 4874, 'abducted': 4875, 'pulling': 4876, 'pharmacy': 4877, 'dam': 4878, 'orioles': 4879, 'kitchen': 4880, 'largely': 4881, 'screening': 4882, 'telephone': 4883, 'burglaries': 4884, 'yields': 4885, 'austria': 4886, 'permits': 4887, 'beyonce': 4888, 'semiconductor': 4889, 'cautious': 4890, 'arbitration': 4891, 'electoral': 4892, 'extreme': 4893, 'eva': 4894, 'smuggling': 4895, 'l': 4896, 'slump': 4897, 'lived': 4898, 'bashar': 4899, 'volatile': 4900, 'responding': 4901, 'letters': 4902, 'teaching': 4903, 'reverse': 4904, 'bowling': 4905, 'inaugurated': 4906, 'backing': 4907, 'unbeaten': 4908, 'scenes': 4909, 'southeastern': 4910, 'stones': 4911, 'TMZ': 4912, 'evacuation': 4913, 'expensive': 4914, 'soul': 4915, 'apart': 4916, 'entitled': 4917, 'swap': 4918, 'slam': 4919, 'albert': 4920, 'nurse': 4921, 'staged': 4922, 'mentally': 4923, 'jane': 4924, 'differences': 4925, 'eyes': 4926, 'pollution': 4927, 'permission': 4928, 'midwest': 4929, 'lights': 4930, 'fines': 4931, 'refugee': 4932, '22yearold': 4933, 'execution': 4934, 'tesco': 4935, 'insurer': 4936, 'intervention': 4937, 'spreading': 4938, 'datuk': 4939, 'invitation': 4940, 'giffords': 4941, 'harassment': 4942, 'covering': 4943, 'capture': 4944, 'chart': 4945, 'multiyear': 4946, 'shield': 4947, 'fugitive': 4948, 'capable': 4949, 'appealing': 4950, 'beautiful': 4951, 'suggesting': 4952, 'murdoch': 4953, 'weighed': 4954, 'strain': 4955, 'pneumonia': 4956, 'developments': 4957, 'triggered': 4958, 'strengthened': 4959, 'speedway': 4960, 'shape': 4961, 'teenagers': 4962, 'PlayStation': 4963, 'selects': 4964, 'berry': 4965, 'jonas': 4966, '69': 4967, 'valentine': 4968, 'newton': 4969, 'mainly': 4970, 'calm': 4971, 'theme': 4972, '25th': 4973, 'declaration': 4974, 'atomic': 4975, 'lakes': 4976, 'views': 4977, 'levy': 4978, 'aiming': 4979, 'moody': 4980, 'amber': 4981, 'shoppers': 4982, 'pledge': 4983, 'gen': 4984, 'ferry': 4985, 'emerge': 4986, 'newman': 4987, 'ethics': 4988, 'unpaid': 4989, 'wages': 4990, 'horror': 4991, 'cheating': 4992, 'continental': 4993, 'soft': 4994, 'liver': 4995, 'manny': 4996, 'punishment': 4997, 'belgian': 4998, 'defeating': 4999, 'employer': 5000, 'bankers': 5001, 'advisor': 5002, 'opponents': 5003, 'seconds': 5004, 'marion': 5005, 'tablets': 5006, 'lease': 5007, 'ally': 5008, 'acquitted': 5009, 'birds': 5010, 'participation': 5011, 'prosecution': 5012, 'guidelines': 5013, 'damascus': 5014, 'chemicals': 5015, 'max': 5016, 'survival': 5017, 'gaining': 5018, 'doubt': 5019, 'mohammad': 5020, 'peninsula': 5021, 'alqaeda': 5022, 'valued': 5023, 'extremely': 5024, 'anchor': 5025, 'lifts': 5026, 'seniors': 5027, 'lisa': 5028, 'expo': 5029, 'dental': 5030, 'jumps': 5031, 'widely': 5032, 'governance': 5033, 'grounds': 5034, 'syracuse': 5035, 'substance': 5036, 'southwestern': 5037, 'singing': 5038, 'sp': 5039, 'emotional': 5040, 'UCLA': 5041, 'batsman': 5042, 'towns': 5043, 'deposits': 5044, 'tips': 5045, 'unprecedented': 5046, 'angela': 5047, '19yearold': 5048, 'hiding': 5049, 'XVI': 5050, 'occupied': 5051, 'trends': 5052, 'bullock': 5053, 'fundraiser': 5054, 'omar': 5055, 'simply': 5056, 'McCarthy': 5057, 'pattern': 5058, 'tens': 5059, 'worried': 5060, 'shark': 5061, 'serena': 5062, 'wings': 5063, 'hugh': 5064, 'longest': 5065, 'therapy': 5066, 'assured': 5067, 'seminar': 5068, 'booked': 5069, 'controlled': 5070, 'oscars': 5071, 'baker': 5072, 'nathan': 5073, 'siemens': 5074, 'leaked': 5075, 'skip': 5076, 'pretty': 5077, 'intersection': 5078, 'blackburn': 5079, 'borders': 5080, 'quinn': 5081, 'sensation': 5082, '1200': 5083, 'charleston': 5084, 'insurgents': 5085, 'surged': 5086, 'le': 5087, 'unanimously': 5088, 'subscribers': 5089, 'lexington': 5090, 'twilight': 5091, 'naomi': 5092, 'implementation': 5093, 'tribunal': 5094, 'qualify': 5095, 'narrowly': 5096, 'migrants': 5097, 'intent': 5098, 'compliance': 5099, 'hartford': 5100, 'nissan': 5101, 'maximum': 5102, 'statements': 5103, 'eliminate': 5104, 'cyber': 5105, 'crop': 5106, 'cruz': 5107, 'keys': 5108, 'rallies': 5109, 'renews': 5110, 'gate': 5111, 'catcher': 5112, '92': 5113, 'thackeray': 5114, 'bound': 5115, 'fat': 5116, 'offenders': 5117, 'lesbian': 5118, 'spurs': 5119, 'cofounder': 5120, 'calgary': 5121, 'ancient': 5122, 'promotions': 5123, 'recruiting': 5124, 'taipei': 5125, 'vince': 5126, 'watched': 5127, 'disorder': 5128, 'retained': 5129, 'bryan': 5130, 'roma': 5131, 'cardiac': 5132, 'bullet': 5133, 'freddie': 5134, 'indecent': 5135, 'wade': 5136, 'sierra': 5137, 'knew': 5138, 'islam': 5139, 'trainer': 5140, 'tension': 5141, 'innocent': 5142, 'k': 5143, 'blocks': 5144, 'tag': 5145, 'breach': 5146, 'exgirlfriend': 5147, 'challenging': 5148, 'sustainability': 5149, 'organised': 5150, 'severely': 5151, 'proceedings': 5152, 'concerts': 5153, 'boxer': 5154, 'ads': 5155, 'outlets': 5156, 'pact': 5157, 'pensions': 5158, 'understand': 5159, 'thriller': 5160, 'framework': 5161, 'routine': 5162, 'exwife': 5163, 'economist': 5164, 'orissa': 5165, 'clooney': 5166, 'footballer': 5167, '89': 5168, 'rehabilitation': 5169, '24yearold': 5170, 'malta': 5171, 'recruit': 5172, 'answers': 5173, 'oath': 5174, 'infant': 5175, '110': 5176, 'prompting': 5177, 'assam': 5178, 'controls': 5179, 'winnipeg': 5180, 'quebec': 5181, '2nd': 5182, 'ivory': 5183, 'wrestling': 5184, 'housewives': 5185, 'tibet': 5186, 'tours': 5187, 'LP': 5188, 'licensing': 5189, 'wigan': 5190, 'policeman': 5191, 'oprah': 5192, 'des': 5193, 'accounting': 5194, 'audit': 5195, 'archbishop': 5196, 'harbor': 5197, 'hull': 5198, 'dress': 5199, 'relay': 5200, 'disciplinary': 5201, 'trump': 5202, 'mayer': 5203, 'brady': 5204, 'explosive': 5205, 'withdrew': 5206, 'reconciliation': 5207, 'stripped': 5208, 'BHP': 5209, 'silvio': 5210, 'grammy': 5211, 'wars': 5212, 'knot': 5213, 'grace': 5214, 'layoffs': 5215, 'transferred': 5216, '25000': 5217, 'swansea': 5218, 'christchurch': 5219, 'eliminated': 5220, 'foreigners': 5221, 'fill': 5222, 'lloyd': 5223, 'monsoon': 5224, 'acquiring': 5225, 'confessed': 5226, 'nonprofit': 5227, 'striking': 5228, 'closely': 5229, 'teammate': 5230, 'badly': 5231, 'retain': 5232, 'albany': 5233, 'peterson': 5234, 'furniture': 5235, 'chargers': 5236, 'fantasy': 5237, 'destination': 5238, 'mistakes': 5239, 'arraigned': 5240, 'map': 5241, 'departments': 5242, 'honors': 5243, 'shoes': 5244, 'flow': 5245, '23yearold': 5246, 'bradford': 5247, 'substantial': 5248, 'vacation': 5249, 'maruti': 5250, 'creator': 5251, 'brush': 5252, 'rams': 5253, 'aguilera': 5254, 'tentative': 5255, 'muammar': 5256, 'airtel': 5257, 'neighbours': 5258, 'overdose': 5259, 'vermont': 5260, 'rubber': 5261, 'behalf': 5262, 'rockies': 5263, 'medicare': 5264, 'autopsy': 5265, 'concept': 5266, 'disappointed': 5267, 'merge': 5268, 'starbucks': 5269, 'swing': 5270, 'turmoil': 5271, 'dirty': 5272, 'protesting': 5273, 'glee': 5274, 'rankings': 5275, 'bolster': 5276, 'edinburgh': 5277, 'christopher': 5278, 'zambia': 5279, 'johansson': 5280, 'organized': 5281, '130': 5282, 'bath': 5283, 'rb': 5284, 'genetic': 5285, 'apr': 5286, 'warnings': 5287, 'indefinitely': 5288, 'pump': 5289, 'salem': 5290, 'delivering': 5291, '3G': 5292, 'experienced': 5293, 'ones': 5294, 'manning': 5295, 'reiterated': 5296, 'bharti': 5297, 'frontier': 5298, 'magnitude': 5299, 'silence': 5300, 'praise': 5301, 'cheney': 5302, 'indefinite': 5303, 'cuomo': 5304, 'loved': 5305, 'thinking': 5306, 'osama': 5307, 'tinto': 5308, '84': 5309, 'waived': 5310, 'depp': 5311, 'understanding': 5312, 'gillard': 5313, 'favor': 5314, 'excessive': 5315, 'remembered': 5316, 'quiet': 5317, 'inspection': 5318, 'canal': 5319, 'discover': 5320, 'lab': 5321, 'domain': 5322, 'boats': 5323, 'meters': 5324, 'silicon': 5325, 'riot': 5326, 'blacks': 5327, 'demonstration': 5328, 'equal': 5329, 'profile': 5330, 'courses': 5331, 'comic': 5332, 'focusing': 5333, 'norfolk': 5334, 'verdict': 5335, 'tragedy': 5336, 'questioned': 5337, 'jumping': 5338, 'abbott': 5339, 'thunder': 5340, 'availability': 5341, 'destroy': 5342, 'container': 5343, 'minneapolis': 5344, 'gathering': 5345, 'darren': 5346, 'cedar': 5347, 'difference': 5348, 'bench': 5349, 'licenses': 5350, 'server': 5351, 'lambert': 5352, 'handling': 5353, 'chair': 5354, 'clearing': 5355, 'institution': 5356, 'drives': 5357, 'billboard': 5358, '79': 5359, 'cycle': 5360, 'carpet': 5361, 'discount': 5362, 'extraordinary': 5363, 'sioux': 5364, 'suggest': 5365, 'citizenship': 5366, 'luis': 5367, 'apps': 5368, '350': 5369, 'nude': 5370, 'camps': 5371, 'universe': 5372, 'risen': 5373, 'rocky': 5374, 'sindh': 5375, 'torn': 5376, 'mainland': 5377, 'capabilities': 5378, 'pratt': 5379, 'mile': 5380, 'briefing': 5381, 'benjamin': 5382, '360': 5383, 'sponsorship': 5384, 'f': 5385, 'possessing': 5386, 'renew': 5387, 'underground': 5388, 'infringement': 5389, 'recovers': 5390, 'impose': 5391, 'gray': 5392, 'morris': 5393, 'logistics': 5394, 'bolt': 5395, 'readers': 5396, 'bancorp': 5397, 'knows': 5398, 'SAP': 5399, 'develops': 5400, 'donation': 5401, 'ram': 5402, 'rounds': 5403, 'vulnerable': 5404, 'platinum': 5405, 'exporters': 5406, 'checkpoint': 5407, 'boosting': 5408, 'enhanced': 5409, 'molestation': 5410, 'henderson': 5411, 'struggles': 5412, 'talked': 5413, 'detective': 5414, 'admitting': 5415, 'spiritual': 5416, 'relatives': 5417, 'walter': 5418, 'strengthening': 5419, 'privately': 5420, 'newport': 5421, 'prompted': 5422, 'wichita': 5423, 'appointments': 5424, 'represent': 5425, 'expelled': 5426, '4th': 5427, 'unconscious': 5428, 'scientist': 5429, 'ailing': 5430, 'patil': 5431, 'explore': 5432, 'distributor': 5433, \"o'brien\": 5434, 'lahore': 5435, '14th': 5436, 'portal': 5437, 'civic': 5438, 'executed': 5439, 'tractor': 5440, 'cheap': 5441, 'sudanese': 5442, 'hardware': 5443, 'kingston': 5444, 'autism': 5445, 'butler': 5446, 'sensitive': 5447, 'LG': 5448, 'bachmann': 5449, 'EUR': 5450, 'nicki': 5451, 'minaj': 5452, 'goa': 5453, 'wheel': 5454, 'richardson': 5455, 'turkmenistan': 5456, 'certification': 5457, 'sena': 5458, 'tunisia': 5459, 'correspondent': 5460, 'composer': 5461, 'carriers': 5462, 'blockbuster': 5463, 'voter': 5464, 'proved': 5465, 'a': 5466, 'complications': 5467, 'assessment': 5468, 'conn': 5469, 'iTunes': 5470, 'adrian': 5471, '87': 5472, 'chronic': 5473, 'partial': 5474, 'harrison': 5475, 'mourinho': 5476, 'manuel': 5477, 'glenn': 5478, 'kid': 5479, 'HD': 5480, 'bros': 5481, 'jean': 5482, 'fabio': 5483, '58': 5484, 'writers': 5485, 'mohamed': 5486, 'colombo': 5487, 'finnish': 5488, 'bowler': 5489, 'turner': 5490, 'danish': 5491, 'crush': 5492, 'lunch': 5493, 'capello': 5494, 'pond': 5495, 'backup': 5496, 'fights': 5497, 'navigation': 5498, 'McDonald': 5499, 'document': 5500, 'quest': 5501, 'wyoming': 5502, 'McLaren': 5503, 'christians': 5504, 'essex': 5505, 'sorry': 5506, 'curb': 5507, 'bang': 5508, 'midday': 5509, 'jamaica': 5510, 'pose': 5511, 'tulsa': 5512, 'cannabis': 5513, 'install': 5514, 'thousand': 5515, 'drill': 5516, 'vincent': 5517, 'apologises': 5518, 'secures': 5519, 'deployed': 5520, 'wickets': 5521, 'traveling': 5522, 'IPL': 5523, 'juvenile': 5524, 'maple': 5525, 'ecommerce': 5526, 'FORMER': 5527, 'brook': 5528, 'racial': 5529, '18th': 5530, 'thin': 5531, 'cemetery': 5532, 'raja': 5533, 'transmission': 5534, 'travis': 5535, 'crossed': 5536, 'alberto': 5537, 'impressive': 5538, 'fouryear': 5539, 'mega': 5540, 'reward': 5541, 'ventures': 5542, 'bonuses': 5543, 'suburb': 5544, 'romance': 5545, 'hang': 5546, 'athlete': 5547, 'AIDS': 5548, 'overturned': 5549, 'procedure': 5550, 'corn': 5551, 'cornerback': 5552, 'mountains': 5553, 'dragged': 5554, 'publication': 5555, 'accepts': 5556, 'yuan': 5557, 'manila': 5558, 'allies': 5559, 'contribution': 5560, 'originally': 5561, 'elite': 5562, 'counter': 5563, 'favour': 5564, 'hathaway': 5565, 'filled': 5566, 'lucas': 5567, 'plunge': 5568, 'cream': 5569, 'gallery': 5570, 'qualified': 5571, 'meant': 5572, 'climb': 5573, 'hijacked': 5574, 'startup': 5575, 'button': 5576, 'enjoying': 5577, '2500': 5578, 'astronaut': 5579, 'bust': 5580, 'richards': 5581, 'cooperate': 5582, 'somerset': 5583, 'margaret': 5584, 'taxpayers': 5585, 'andhra': 5586, 'belt': 5587, 'cardiff': 5588, 'rudd': 5589, 'aden': 5590, 'punched': 5591, 'fred': 5592, 'influential': 5593, 'choose': 5594, 'scarlett': 5595, 'defamation': 5596, 'pursue': 5597, 'turbine': 5598, 'parked': 5599, 'sheffield': 5600, 'lineman': 5601, 'analytics': 5602, 'herald': 5603, 'occasion': 5604, 'diving': 5605, 'socalled': 5606, 'fruit': 5607, 'speeding': 5608, 'purchased': 5609, 'singles': 5610, 'mum': 5611, 'restraining': 5612, 'swan': 5613, 'bangkok': 5614, 'glen': 5615, 'remake': 5616, 'vendor': 5617, 'rehman': 5618, 'rainfall': 5619, 'trooper': 5620, 'metropolitan': 5621, 'urge': 5622, 'resulted': 5623, 'stick': 5624, 'broker': 5625, 'extradition': 5626, 'jewellery': 5627, 'SC': 5628, '15th': 5629, 'celebrities': 5630, 'bundesliga': 5631, 'harvard': 5632, 'mounting': 5633, 'windsor': 5634, 'protected': 5635, 'require': 5636, 'provinces': 5637, 'reed': 5638, 'finale': 5639, 'slated': 5640, 'economists': 5641, 'PPP': 5642, 'planet': 5643, 'portuguese': 5644, 'bout': 5645, 'grown': 5646, 'miliband': 5647, 'vanessa': 5648, 'marlins': 5649, 'suisse': 5650, 'grows': 5651, 'ICC': 5652, 'transparency': 5653, 'organisers': 5654, 'declaring': 5655, 'yorkshire': 5656, 'likes': 5657, 'touched': 5658, 'quarterfinal': 5659, 'hikes': 5660, 'DNA': 5661, 'essential': 5662, 'chopra': 5663, 'retreat': 5664, 'prepaid': 5665, 'exactly': 5666, 'finances': 5667, 'yellow': 5668, 'mercury': 5669, 'portion': 5670, 'australians': 5671, 'cox': 5672, 'hanged': 5673, 'regrets': 5674, 'wishes': 5675, 'pack': 5676, 'fate': 5677, 'stemming': 5678, 'stretch': 5679, '13th': 5680, 'intensive': 5681, 'homeland': 5682, 'hazare': 5683, 'favre': 5684, 'rapidly': 5685, 'jharkhand': 5686, 'du': 5687, 'OPEC': 5688, 'contribute': 5689, 'travelling': 5690, 'ryanair': 5691, 'origin': 5692, 'sweet': 5693, 'magistrate': 5694, 'superintendent': 5695, 'exciting': 5696, 'torture': 5697, 'extensive': 5698, 'maintained': 5699, '05': 5700, 'welsh': 5701, 'participating': 5702, 'pretax': 5703, 'genocide': 5704, 'finishing': 5705, 'connect': 5706, 'filming': 5707, 'sit': 5708, 'arsene': 5709, 'th': 5710, 'romantic': 5711, 'hearts': 5712, 'heavily': 5713, 'stuart': 5714, 'richie': 5715, 'noel': 5716, 'religion': 5717, 'harvest': 5718, 'supermodel': 5719, 'campaigns': 5720, 'abused': 5721, 'JPMorgan': 5722, 'hacked': 5723, 'enjoyed': 5724, 'freshman': 5725, 'acquisitions': 5726, 'USbased': 5727, 'strict': 5728, 'walsh': 5729, 'patents': 5730, 'compromise': 5731, 'listing': 5732, 'boulevard': 5733, 'disputes': 5734, 'mamata': 5735, 'insisting': 5736, 'reliever': 5737, 'catherine': 5738, 'survives': 5739, 'revealing': 5740, 'doherty': 5741, 'function': 5742, 'excellent': 5743, 'creates': 5744, 'seconddegree': 5745, 'withdrawal': 5746, 'cement': 5747, 'heroes': 5748, 'nurses': 5749, 'austrian': 5750, 'personality': 5751, '7th': 5752, 'fought': 5753, 'unified': 5754, 'encourage': 5755, 'ronnie': 5756, 'barn': 5757, 'advisers': 5758, 'bennett': 5759, 'mariah': 5760, 'couples': 5761, 'cricketer': 5762, 'organic': 5763, 'beta': 5764, 'ranch': 5765, 'cues': 5766, 'WOMAN': 5767, 'stomach': 5768, '18yearold': 5769, 'betty': 5770, 'encouraged': 5771, 'strategies': 5772, 'offerings': 5773, 'lowered': 5774, 'minn': 5775, 'affecting': 5776, 'vietnamese': 5777, 'FOCUS': 5778, '94': 5779, 'rajya': 5780, 'method': 5781, 'carmaker': 5782, 'slovenia': 5783, 'hamburg': 5784, 'typhoon': 5785, 'sofia': 5786, 'willing': 5787, 'newborn': 5788, 'tripoli': 5789, 'spell': 5790, 'kiss': 5791, 'imran': 5792, 'fever': 5793, 'witherspoon': 5794, 'logo': 5795, 'surface': 5796, 'addresses': 5797, 'reduces': 5798, 'garcia': 5799, 'splits': 5800, 'thomson': 5801, 'symbol': 5802, 'newark': 5803, 'cats': 5804, 'grass': 5805, 'overweight': 5806, 'circumstances': 5807, 'riley': 5808, 'specific': 5809, 'appearing': 5810, 'explain': 5811, 'contained': 5812, 'paso': 5813, 'thief': 5814, 'zsa': 5815, 'recruitment': 5816, 'intended': 5817, 'vick': 5818, '14yearold': 5819, 'meals': 5820, 'miner': 5821, '2002': 5822, 'natalie': 5823, 'effectively': 5824, 'sentencing': 5825, 'duo': 5826, 'djokovic': 5827, 'threaten': 5828, 'optimistic': 5829, 'imported': 5830, 'lie': 5831, 'buffett': 5832, 'liquidity': 5833, 'paterson': 5834, 'derek': 5835, 'certificate': 5836, 'neighbor': 5837, 'kutcher': 5838, 'colts': 5839, 'govt': 5840, 'colleagues': 5841, 'excited': 5842, 'OS': 5843, 'boris': 5844, 'pune': 5845, 'walks': 5846, 'pierce': 5847, 'toss': 5848, 'spice': 5849, 'handle': 5850, 'picking': 5851, 'anthem': 5852, 'elect': 5853, 'owns': 5854, 'myers': 5855, 'hart': 5856, 'solve': 5857, 'else': 5858, 'LSU': 5859, 'mobility': 5860, 'ideas': 5861, 'orchestra': 5862, 'kenyan': 5863, 'dying': 5864, 'issuing': 5865, '17th': 5866, 'bright': 5867, 'autumn': 5868, 'aung': 5869, 'organizers': 5870, 'woes': 5871, 'huntington': 5872, 'carnival': 5873, '2016': 5874, 'sharon': 5875, 'ryder': 5876, 'jayz': 5877, 'tucson': 5878, 'investigations': 5879, 'projected': 5880, 'arrival': 5881, 'solidarity': 5882, 'rays': 5883, 'hammer': 5884, 'depot': 5885, 'garbage': 5886, 'firearms': 5887, 'fleeing': 5888, 'longoria': 5889, 'skype': 5890, 'tire': 5891, 'leicester': 5892, 'timothy': 5893, 'burst': 5894, 'crane': 5895, 'subway': 5896, 'panasonic': 5897, 'railways': 5898, 'contractors': 5899, 'webber': 5900, 'sharapova': 5901, 'invites': 5902, 'mosque': 5903, 'ash': 5904, 'shortfall': 5905, 'consultancy': 5906, 'outsourcing': 5907, 'headon': 5908, 'tsvangirai': 5909, 'michaels': 5910, 'vicepresident': 5911, 'segment': 5912, 'credits': 5913, 'powell': 5914, 'borough': 5915, 'miranda': 5916, '225': 5917, 'convertible': 5918, 'europa': 5919, 'GE': 5920, 'brutal': 5921, 'doug': 5922, 'jintao': 5923, 'hospitalised': 5924, 'novak': 5925, 'ports': 5926, 'proceeds': 5927, 'advocates': 5928, 'brent': 5929, 'resigning': 5930, 'format': 5931, 'sergio': 5932, 'soil': 5933, 'satellites': 5934, 'mogul': 5935, 'shootings': 5936, '30000': 5937, 'policemen': 5938, 'kobe': 5939, 'rovers': 5940, 'consensus': 5941, 'qualifier': 5942, 'hosni': 5943, 'addressing': 5944, 'arthur': 5945, 'SEC': 5946, 'radical': 5947, 'gardens': 5948, 'testify': 5949, 'cardinal': 5950, 'administrator': 5951, 'satyam': 5952, 'jaguars': 5953, 'partially': 5954, 'inappropriate': 5955, 'cruises': 5956, 'marries': 5957, 'dismisses': 5958, '28yearold': 5959, 'doubleheader': 5960, '4G': 5961, 'di': 5962, 'mate': 5963, 'pipe': 5964, 'rap': 5965, 'ave': 5966, 'seem': 5967, 'finishes': 5968, 'renowned': 5969, 'approaching': 5970, 'dawn': 5971, 'yoga': 5972, 'blagojevich': 5973, 'notre': 5974, 'plymouth': 5975, 'criminals': 5976, 'fulham': 5977, 'oscarwinning': 5978, 'uganda': 5979, 'carroll': 5980, '25yearold': 5981, 'yousuf': 5982, 'griffin': 5983, '15yearold': 5984, 'lobby': 5985, 'brawl': 5986, 'niagara': 5987, 'steam': 5988, 'NZ': 5989, 'muscle': 5990, 'megan': 5991, 'mo': 5992, 'truth': 5993, 'bitter': 5994, 'saskatchewan': 5995, 'shoe': 5996, 'canyon': 5997, 'destinations': 5998, 'winfrey': 5999, 'cage': 6000, 'laundering': 6001, 'hamstring': 6002, 'buzz': 6003, 'volkswagen': 6004, 'offense': 6005, 'holders': 6006, 'nile': 6007, 'improvements': 6008, 'containing': 6009, 'assad': 6010, 'daughters': 6011, 'congratulates': 6012, 'thunderstorm': 6013, 'castle': 6014, 'riverside': 6015, 'carlisle': 6016, 'sweeping': 6017, 'brooks': 6018, 'absolutely': 6019, 'symptoms': 6020, 'acclaimed': 6021, 'hinted': 6022, 'globally': 6023, 'hostile': 6024, 'utilities': 6025, 'batch': 6026, 'survivors': 6027, 'ranking': 6028, 'statue': 6029, 'halted': 6030, 'g': 6031, 'isle': 6032, 'resorts': 6033, 'safely': 6034, 'resulting': 6035, 'governing': 6036, 'barton': 6037, 'IPO': 6038, 'NYC': 6039, 'programmes': 6040, 'amtrak': 6041, 'mortgages': 6042, 'hornets': 6043, 'collective': 6044, 'whale': 6045, 'detected': 6046, 'neglect': 6047, 'tevez': 6048, 'toilet': 6049, 'oxford': 6050, 'margin': 6051, 'knicks': 6052, 'gilbert': 6053, 'bruins': 6054, 'floating': 6055, 'trigger': 6056, 'minogue': 6057, 'tumbled': 6058, 'diaz': 6059, 'collected': 6060, 'ET': 6061, 'activated': 6062, 'raul': 6063, 'productivity': 6064, 'robbers': 6065, 'cooperative': 6066, 'valencia': 6067, 'gabrielle': 6068, 'gifts': 6069, 'legs': 6070, 'pressures': 6071, 'holder': 6072, 'paise': 6073, 'perhaps': 6074, 'patel': 6075, 'circle': 6076, 'rd': 6077, 'throat': 6078, 'nikkei': 6079, 'builder': 6080, 'wider': 6081, 'lessons': 6082, 'tattoo': 6083, 'eds': 6084, 'priced': 6085, 'SAN': 6086, 'devastating': 6087, 'infosys': 6088, 'golfer': 6089, 'repairs': 6090, 'fierce': 6091, '300000': 6092, 'economics': 6093, 'tmobile': 6094, 'slain': 6095, 'uncertain': 6096, 'serie': 6097, 'addressed': 6098, 'hungarian': 6099, 'percentage': 6100, 'na': 6101, 'teammates': 6102, 'renault': 6103, 'boom': 6104, 'soaring': 6105, 'maps': 6106, 'mansion': 6107, 'broking': 6108, 'USC': 6109, 'geithner': 6110, 'karl': 6111, 'beatles': 6112, 'medicaid': 6113, 'settles': 6114, 'LOS': 6115, 'efficient': 6116, 'awaited': 6117, '30yearold': 6118, 'hurricanes': 6119, 'rodgers': 6120, 'journey': 6121, 'battled': 6122, 'inventories': 6123, 'billiton': 6124, 'heather': 6125, 'helicopters': 6126, 'contender': 6127, 'presidents': 6128, 'compact': 6129, 'associate': 6130, 'reception': 6131, 'questioning': 6132, 'vijay': 6133, 'secondlargest': 6134, 'regain': 6135, 'jockey': 6136, 'riders': 6137, 'acute': 6138, 'valuable': 6139, 'jakarta': 6140, 'attractive': 6141, 'courthouse': 6142, 'messaging': 6143, 'firstquarter': 6144, 'fiat': 6145, 'janata': 6146, 'iceland': 6147, 'discussions': 6148, 'warrants': 6149, 'helen': 6150, 'pointed': 6151, 'mini': 6152, 'revive': 6153, '15000': 6154, 'spin': 6155, 'clemens': 6156, 'ex': 6157, 'invitational': 6158, 'faculty': 6159, 'canucks': 6160, '59': 6161, 'crazy': 6162, 'maintains': 6163, 'kirk': 6164, 'adele': 6165, 'farewell': 6166, 'participants': 6167, 'breakthrough': 6168, 'flags': 6169, 'congratulated': 6170, 'macedonia': 6171, 'mae': 6172, 'distribute': 6173, 'providence': 6174, 'reflecting': 6175, '000': 6176, 'bribery': 6177, 'mysterious': 6178, 'engage': 6179, 'performances': 6180, 'remanded': 6181, 'brokers': 6182, 'laptop': 6183, 'debts': 6184, 'antigovernment': 6185, 'railroad': 6186, 'maintaining': 6187, 'modest': 6188, 'plate': 6189, 'croatia': 6190, 'tip': 6191, 'TWO': 6192, 'councillors': 6193, 'connected': 6194, 'sidelined': 6195, 'wallace': 6196, 'intention': 6197, 'damaging': 6198, 'luck': 6199, 'councilman': 6200, 'treasurer': 6201, 'bullish': 6202, 'dhoni': 6203, 'presenter': 6204, 'erupted': 6205, 'molesting': 6206, 'pfizer': 6207, 'palmer': 6208, 'inspector': 6209, 'suddenly': 6210, 'sanjay': 6211, 'wii': 6212, 'stevens': 6213, 'seasonal': 6214, 'cannon': 6215, 'displaced': 6216, 'seal': 6217, 'buyout': 6218, 'covered': 6219, 'chuck': 6220, 'noted': 6221, 'radiation': 6222, 'spends': 6223, 'spoken': 6224, 'victor': 6225, 'carrie': 6226, 'outage': 6227, 'falcons': 6228, 'plaza': 6229, 'ballots': 6230, 'institutional': 6231, 'comfortable': 6232, 'benitez': 6233, 'burglar': 6234, 'presentation': 6235, 'bold': 6236, 'violated': 6237, 'unusual': 6238, 'particular': 6239, 'nobody': 6240, 'harvey': 6241, 'trevor': 6242, 'ANGELES': 6243, 'spree': 6244, 'guitar': 6245, 'merrill': 6246, 'buyer': 6247, 'indie': 6248, 'felipe': 6249, 'caps': 6250, 'kyrgyz': 6251, 'burma': 6252, 'guests': 6253, 'wolf': 6254, 'dubbed': 6255, 'daytona': 6256, 'confrontation': 6257, 'covers': 6258, '3rd': 6259, 'soap': 6260, 'ladies': 6261, 'durham': 6262, 'noble': 6263, 'appealed': 6264, 'attorneys': 6265, 'transactions': 6266, 'boosts': 6267, 'degrees': 6268, 'grandmother': 6269, 'mothers': 6270, 'blasted': 6271, 'sexy': 6272, 'marines': 6273, 'strengthens': 6274, 'consequences': 6275, 'concrete': 6276, 'iOS': 6277, 'rebounded': 6278, 'tyson': 6279, 'submit': 6280, 'rough': 6281, 'ethiopia': 6282, 'astros': 6283, 'tap': 6284, 'ages': 6285, 'load': 6286, 'shocking': 6287, 'banerjee': 6288, 'bend': 6289, 'joey': 6290, 'bombings': 6291, 'wifi': 6292, 'avalanche': 6293, 'villages': 6294, 'retains': 6295, 'reynolds': 6296, 'saves': 6297, 'stanford': 6298, 'schemes': 6299, 'households': 6300, 'wonder': 6301, 'quarters': 6302, 'lyon': 6303, 'facilitate': 6304, 'etihad': 6305, 'laura': 6306, 'steep': 6307, \"o'neal\": 6308, 'lawsuits': 6309, 'slowly': 6310, 'neighbors': 6311, 'incentives': 6312, 'nato': 6313, 'AAA': 6314, 'lock': 6315, 'encouraging': 6316, 'premiership': 6317, 'TD': 6318, 'gala': 6319, '16yearold': 6320, 'subsidies': 6321, 'associates': 6322, 'brokerage': 6323, 'salaries': 6324, 'plotting': 6325, 'pelosi': 6326, 'recommendations': 6327, 'historical': 6328, 'volcano': 6329, 'endorsement': 6330, 'JP': 6331, 'lashed': 6332, 'pirate': 6333, 'mavericks': 6334, 'narendra': 6335, 'greene': 6336, 'u': 6337, 'worlds': 6338, 'kurt': 6339, 'dump': 6340, 'reese': 6341, 'gonzalez': 6342, 'brendan': 6343, 'geneva': 6344, 'rover': 6345, 'seekers': 6346, 'algeria': 6347, 'krishna': 6348, 'jun': 6349, 'anger': 6350, 'cristiano': 6351, 'stories': 6352, 'advocate': 6353, 'entrepreneurs': 6354, 'twotime': 6355, 'posed': 6356, 'repeatedly': 6357, 'tel': 6358, 'drawn': 6359, 'lays': 6360, 'mandatory': 6361, 'lanes': 6362, 'CA': 6363, 'aerospace': 6364, 'distributing': 6365, 'marco': 6366, 'diana': 6367, 'suppliers': 6368, 'rebuild': 6369, 'rossi': 6370, 'orbit': 6371, 'popularity': 6372, 'troopers': 6373, 'texans': 6374, 'bailey': 6375, 'guardian': 6376, 'pensioner': 6377, 'sudden': 6378, 'sore': 6379, 'precious': 6380, 'components': 6381, 'ellen': 6382, 'sleeping': 6383, 'alqaida': 6384, 'lionel': 6385, 'tear': 6386, '201011': 6387, 'taste': 6388, 'teach': 6389, 'invested': 6390, 'raids': 6391, 'allocation': 6392, 'fisherman': 6393, 'oppose': 6394, 'referee': 6395, 'LONDON': 6396, 'medicines': 6397, 'publish': 6398, 'succeed': 6399, 'studying': 6400, 'guinea': 6401, 'clippers': 6402, 'amazing': 6403, 'aussie': 6404, 'accusations': 6405, 'panic': 6406, 'showcase': 6407, 'edges': 6408, 'nose': 6409, 'advani': 6410, 'volatility': 6411, 'intense': 6412, 'bombers': 6413, 'bounced': 6414, 'merchant': 6415, 'stamford': 6416, 'trader': 6417, 'prefer': 6418, 'restructure': 6419, 'janet': 6420, 'lauren': 6421, 'sidelines': 6422, 'infielder': 6423, 'publicist': 6424, 'challenger': 6425, 'flyers': 6426, 'fractured': 6427, 'voluntarily': 6428, 'bottle': 6429, 'duncan': 6430, 'baptist': 6431, '6000': 6432, 'apartments': 6433, 'stoke': 6434, 'predict': 6435, 'surrender': 6436, 'angola': 6437, 'meaning': 6438, '02': 6439, 'opposite': 6440, '400000': 6441, 'snap': 6442, 'councillor': 6443, 'tumor': 6444, 'FDA': 6445, 'penalties': 6446, 'fiery': 6447, 'bingo': 6448, 'tenn': 6449, 'faulty': 6450, 'mistake': 6451, '201112': 6452, 'reelected': 6453, 'adopts': 6454, 'motel': 6455, 'cain': 6456, 'dayton': 6457, 'specifically': 6458, 'pages': 6459, 'competing': 6460, 'permit': 6461, 'firstdegree': 6462, 'sometimes': 6463, 'gazprom': 6464, 'villagers': 6465, 'nets': 6466, 'carson': 6467, 'charities': 6468, '250000': 6469, 'dragon': 6470, 'weakens': 6471, 'governors': 6472, 'shuts': 6473, 'samuel': 6474, 'alleging': 6475, 'pistorius': 6476, 'balotelli': 6477, 'stood': 6478, 'completing': 6479, 'sheet': 6480, 'dylan': 6481, 'trained': 6482, 'deciding': 6483, 'petersburg': 6484, 'laser': 6485, 'lieutenant': 6486, 'lighting': 6487, 'setback': 6488, 'reference': 6489, 'graduation': 6490, 'dhaka': 6491, 'LTTE': 6492, 'reactor': 6493, 'metres': 6494, 'marie': 6495, 'reunited': 6496, 'belfast': 6497, 'plenty': 6498, 'tougher': 6499, 'yadav': 6500, 'underage': 6501, '19th': 6502, 'counsel': 6503, 'packages': 6504, 'florence': 6505, 'forecasters': 6506, 'vehicular': 6507, 'dip': 6508, 'maiden': 6509, 'graduates': 6510, 'pig': 6511, 'pearl': 6512, 'endangered': 6513, 'stressed': 6514, 'drummer': 6515, 'combine': 6516, 'suffolk': 6517, 'dreams': 6518, 'yacht': 6519, 'prayer': 6520, 'explains': 6521, 'DVD': 6522, 'strausskahn': 6523, 'grenade': 6524, 'ponting': 6525, 'quitting': 6526, 'slows': 6527, 'invests': 6528, 'postpones': 6529, 'elements': 6530, 'integrity': 6531, 'shale': 6532, 'willie': 6533, 'hernandez': 6534, 'bhd': 6535, 'workplace': 6536, 'repeat': 6537, 'cellular': 6538, 'columnist': 6539, 'laying': 6540, 'reunion': 6541, 'hopkins': 6542, 'desire': 6543, 'pointing': 6544, 'kraft': 6545, 'tragic': 6546, 'CIA': 6547, 'rhode': 6548, 'empty': 6549, 'clayton': 6550, 'sequel': 6551, 'crosby': 6552, '40th': 6553, 'stunning': 6554, 'horizon': 6555, 'rogue': 6556, 'polling': 6557, 'ms': 6558, 'oasis': 6559, 'disrupted': 6560, 'barrels': 6561, 'hackers': 6562, 'chips': 6563, 'dominated': 6564, 'smashed': 6565, 'oliver': 6566, 'constable': 6567, 'marketplace': 6568, 'endeavour': 6569, 'adoption': 6570, 'excellence': 6571, 'nawaz': 6572, 'videos': 6573, 'addiction': 6574, 'lots': 6575, 'hunters': 6576, 'passport': 6577, 'bankrupt': 6578, 'myrtle': 6579, 'automation': 6580, 'thus': 6581, 'chocolate': 6582, 'editorial': 6583, 'mercy': 6584, 'vettel': 6585, 'beaches': 6586, 'outperform': 6587, 'sank': 6588, 'katrina': 6589, 'troy': 6590, 'hundred': 6591, 'implemented': 6592, 'georgetown': 6593, 'chaos': 6594, '93': 6595, 'consolidation': 6596, 'HBO': 6597, 'boards': 6598, 'clegg': 6599, 'moments': 6600, 'prop': 6601, 'mandate': 6602, 'malaria': 6603, 'bee': 6604, 'swings': 6605, 'uk': 6606, 'forming': 6607, 'removal': 6608, 'blew': 6609, 'exclusively': 6610, '30th': 6611, 'pursuit': 6612, 'contributions': 6613, 'reddy': 6614, 'eBay': 6615, 'amsterdam': 6616, 'removing': 6617, 'accountability': 6618, 'blackhawks': 6619, 'aware': 6620, 'replaces': 6621, 'panthers': 6622, 'burke': 6623, 'santos': 6624, 'loaded': 6625, 'flee': 6626, 'yards': 6627, 'asthma': 6628, 'stateowned': 6629, 'diamondbacks': 6630, 'payroll': 6631, 'nervous': 6632, 'restricted': 6633, 'mouth': 6634, 'checked': 6635, 'pancreatic': 6636, 'telegraph': 6637, 'introducing': 6638, 'collect': 6639, '40000': 6640, 'ellis': 6641, 'exchanges': 6642, 'wrist': 6643, 'eventually': 6644, 'IP': 6645, 'accidental': 6646, '26yearold': 6647, 'adjusted': 6648, 'fresno': 6649, 'recognize': 6650, 'interbank': 6651, '21st': 6652, 'bruno': 6653, 'folk': 6654, 'legacy': 6655, 'padres': 6656, 'incumbent': 6657, 'amidst': 6658, 'bucks': 6659, 'spray': 6660, 'creditors': 6661, 'sponsored': 6662, 'knox': 6663, 'piracy': 6664, 'nice': 6665, 'planting': 6666, 'indicates': 6667, 'doubts': 6668, 'wrap': 6669, 'queens': 6670, 'requests': 6671, 'chat': 6672, 'rig': 6673, 'deployment': 6674, 'welterweight': 6675, 'restart': 6676, 'municipality': 6677, 'istanbul': 6678, 'sparks': 6679, 'wilkinson': 6680, 'AOL': 6681, 'holland': 6682, 'wet': 6683, 'alassad': 6684, 'stance': 6685, 'rica': 6686, 'eases': 6687, 'laboratory': 6688, 'eligible': 6689, 'LTE': 6690, 'massacre': 6691, 'manitoba': 6692, '6th': 6693, 'highlights': 6694, 'accra': 6695, 'formation': 6696, 'relating': 6697, 'FOX': 6698, 'banning': 6699, 'maybe': 6700, 'disorderly': 6701, 'initially': 6702, '96': 6703, 'veto': 6704, 'immigrant': 6705, 'poisoning': 6706, 'crops': 6707, 'counterparts': 6708, 'wilmington': 6709, 'ounce': 6710, 'engines': 6711, 'protecting': 6712, 'calendar': 6713, 'relative': 6714, 'shutting': 6715, 'sting': 6716, 'donor': 6717, 'mode': 6718, 'reinstated': 6719, '160': 6720, 'crawford': 6721, 'km': 6722, 'detectives': 6723, 'swung': 6724, 'humanity': 6725, 'altercation': 6726, 'singersongwriter': 6727, 'paula': 6728, 'youngest': 6729, 'lockout': 6730, 'reaction': 6731, 'battered': 6732, 'surprised': 6733, 'consortium': 6734, 'bernie': 6735, 'apparel': 6736, 'subscription': 6737, 'opposed': 6738, 'ripped': 6739, 'abbey': 6740, 'tighten': 6741, 'reckless': 6742, 'explosives': 6743, 'halifax': 6744, 'delighted': 6745, 'pine': 6746, 'messi': 6747, 'claire': 6748, 'ejected': 6749, 'revival': 6750, 'leonardo': 6751, 'groin': 6752, 'sentences': 6753, 'zac': 6754, 'albums': 6755, 'gym': 6756, 'joy': 6757, 'cops': 6758, 'ditch': 6759, 'anonymous': 6760, 'drake': 6761, 'shipments': 6762, 'narrow': 6763, 'mix': 6764, 'administrators': 6765, 'draws': 6766, 'travelers': 6767, 'dementia': 6768, 'toys': 6769, 'rescues': 6770, 'sluggish': 6771, 'dated': 6772, 'yield': 6773, 'irene': 6774, 'UPA': 6775, 'westminster': 6776, 'aviv': 6777, 'desktop': 6778, 'dpa': 6779, 'regard': 6780, '15day': 6781, 'exhusband': 6782, 'gossip': 6783, 'aamir': 6784, '1100': 6785, 'cigarettes': 6786, 'ITV': 6787, 'humans': 6788, 'battles': 6789, 'imprisonment': 6790, 'installation': 6791, 'medium': 6792, 'painting': 6793, 'symphony': 6794, 'FTSE': 6795, 'hilary': 6796, 'loose': 6797, '12000': 6798, 'EA': 6799, 'marsh': 6800, 'lou': 6801, 'GDP': 6802, 'micro': 6803, 'hindu': 6804, 'convert': 6805, 'venue': 6806, 'MySpace': 6807, 'caution': 6808, 'coventry': 6809, 'decides': 6810, 'schumacher': 6811, 'advisors': 6812, 'gubernatorial': 6813, 'requested': 6814, 'rwanda': 6815, 'notices': 6816, 'ordinary': 6817, 'ton': 6818, 'proper': 6819, 'lehman': 6820, 'councils': 6821, 'printing': 6822, 'cocacola': 6823, 'silva': 6824, 'gunshot': 6825, 'gig': 6826, 'toxic': 6827, 'gender': 6828, 'secrets': 6829, 'instruments': 6830, 'toledo': 6831, 'underwood': 6832, 'reject': 6833, 'peoples': 6834, 'ramirez': 6835, 'lone': 6836, 'mayo': 6837, 'walt': 6838, 'compound': 6839, 'andrews': 6840, 'runner': 6841, 'respectively': 6842, 'trio': 6843, 'teeth': 6844, 'busch': 6845, 'fairfield': 6846, 'shutdown': 6847, 'commuters': 6848, 'thank': 6849, 'hails': 6850, 'earns': 6851, 'tanks': 6852, 'negotiating': 6853, 'foul': 6854, 'quake': 6855, 'spotlight': 6856, 'platforms': 6857, 'sunshine': 6858, 'h': 6859, 'gosselin': 6860, 'upbeat': 6861, 'overtime': 6862, 'stern': 6863, 'presenting': 6864, 'withdrawing': 6865, 'rukh': 6866, 'thunderstorms': 6867, 'ghost': 6868, 'aliyev': 6869, 'concerning': 6870, 'anil': 6871, 'matters': 6872, 'patch': 6873, 'nova': 6874, 'pawlenty': 6875, 'tracy': 6876, 'middleweight': 6877, 'lynn': 6878, 'animation': 6879, 'tiny': 6880, 'greenback': 6881, 'pietersen': 6882, 'axe': 6883, 'adjourned': 6884, 'exercises': 6885, 'hayden': 6886, 'da': 6887, 'preserve': 6888, 'F1': 6889, 'blames': 6890, 'bargain': 6891, 'hampton': 6892, 'repeal': 6893, 'bloody': 6894, 'lets': 6895, 'bridges': 6896, 'tunnel': 6897, 'wen': 6898, 'disabilities': 6899, 'freeway': 6900, 'liability': 6901, 'dominique': 6902, 'poses': 6903, '16th': 6904, 'portable': 6905, 'clears': 6906, 'self': 6907, 'pitches': 6908, 'indictment': 6909, 'ahmad': 6910, 'simmons': 6911, 'reorganization': 6912, 'cathedral': 6913, 'atletico': 6914, 'expresses': 6915, 'salvation': 6916, 'robertson': 6917, 'RBI': 6918, 'relationships': 6919, 'robust': 6920, 'equality': 6921, '31yearold': 6922, 'batting': 6923, 'runoff': 6924, 'hassan': 6925, '104': 6926, 'offseason': 6927, '23rd': 6928, 'behavior': 6929, 'crossborder': 6930, 'tuition': 6931, 'outages': 6932, 'generate': 6933, '17yearold': 6934, 'dominican': 6935, 'premises': 6936, 'minors': 6937, 'punk': 6938, 'chrome': 6939, 'mayweather': 6940, 'polar': 6941, 'survivor': 6942, 'avoided': 6943, 'sergeant': 6944, 'hidden': 6945, 'barrier': 6946, 'sponsors': 6947, 'predicts': 6948, 'levi': 6949, 'martial': 6950, 'lecture': 6951, 'dynamics': 6952, 'christ': 6953, 'alicia': 6954, 'stalking': 6955, 'stating': 6956, 'secondquarter': 6957, 'miguel': 6958, 'hell': 6959, 'ASEAN': 6960, 'consulate': 6961, '04': 6962, 'sprained': 6963, 'duchess': 6964, 'arriving': 6965, 'strained': 6966, 'killings': 6967, 'himachal': 6968, 'cavaliers': 6969, 'prayers': 6970, 'hoped': 6971, 'mph': 6972, 'halle': 6973, 'demolition': 6974, 'goaltender': 6975, 'broader': 6976, 'generic': 6977, 'appropriate': 6978, 'tipped': 6979, 'cyclone': 6980, 'dengue': 6981, 'assassination': 6982, 'matthews': 6983, 'audi': 6984, 'maoist': 6985, 'shahid': 6986, 'daniels': 6987, 'heels': 6988, 'biopic': 6989, 'humphries': 6990, 'intellectual': 6991, 'forbes': 6992, 'shiv': 6993, 'firmly': 6994, 'permanently': 6995, 'airlifted': 6996, 'sanford': 6997, 'zimbabwean': 6998, 'heating': 6999, 'morrison': 7000, 'surgeon': 7001, 'devastated': 7002, 'devils': 7003, 'sum': 7004, 'indoor': 7005, 'scanner': 7006, 'alarm': 7007, 'strokes': 7008, 'bombay': 7009, 'wounding': 7010, 'sidney': 7011, 'guys': 7012, 'procedures': 7013, 'smash': 7014, 'sanders': 7015, 'manner': 7016, 'testimony': 7017, 'subsidiaries': 7018, 'recreation': 7019, 'slovakia': 7020, 'minsk': 7021, 'sullivan': 7022, 'belmont': 7023, 'herman': 7024, 'lowers': 7025, 'pills': 7026, 'founding': 7027, 'booking': 7028, 'hat': 7029, '8000': 7030, 'srinagar': 7031, 'conservatives': 7032, 'bharatiya': 7033, 'jackie': 7034, 'raleigh': 7035, 'rifle': 7036, 'coral': 7037, 'filipino': 7038, 'admit': 7039, 'struggled': 7040, 'montag': 7041, 'designs': 7042, 'casinos': 7043, 'sat': 7044, 'malcolm': 7045, 'chilean': 7046, 'pepper': 7047, 'infections': 7048, 'greenhouse': 7049, 'ceiling': 7050, 'wash': 7051, 'counterfeit': 7052, 'mitsubishi': 7053, 'malawi': 7054, 'estimate': 7055, 'clay': 7056, 'inauguration': 7057, 'safer': 7058, 'multimillion': 7059, 'stamp': 7060, 'rage': 7061, 'wipro': 7062, 'croatian': 7063, 'donate': 7064, 'panels': 7065, 'hodgson': 7066, 'dutt': 7067, 'widened': 7068, 'pets': 7069, 'monument': 7070, 'hannah': 7071, 'agreeing': 7072, 'burlington': 7073, 'earl': 7074, 'exhibit': 7075, 'ledger': 7076, 'explodes': 7077, 'capsized': 7078, 'appreciation': 7079, 'informs': 7080, 'hood': 7081, 'stayed': 7082, 'proposing': 7083, 'hacking': 7084, 'plains': 7085, 'turnover': 7086, 'netflix': 7087, 'reunite': 7088, 'consideration': 7089, '2003': 7090, 'posing': 7091, 'portman': 7092, 'bathroom': 7093, 'halloween': 7094, 'programming': 7095, '180': 7096, 'kidnap': 7097, 'wellknown': 7098, 'introduction': 7099, 'mick': 7100, 'reputation': 7101, 'kingfisher': 7102, 'islanders': 7103, 'berkeley': 7104, 'triumph': 7105, 'statutory': 7106, 'secretly': 7107, 'treatments': 7108, 'mancini': 7109, 'duff': 7110, 'demonstrators': 7111, 'tebow': 7112, 'eyed': 7113, 'grey': 7114, 'brewer': 7115, 'caroline': 7116, 'proof': 7117, 'palestine': 7118, 'O2': 7119, 'stalled': 7120, 'pitching': 7121, 'cooking': 7122, 'reservation': 7123, 'flown': 7124, 'usain': 7125, 'coronation': 7126, '5th': 7127, 'epic': 7128, 'RCMP': 7129, 'insurers': 7130, 'unite': 7131, 'recommends': 7132, 'factors': 7133, 'ramp': 7134, 'ousted': 7135, 'zones': 7136, 'coup': 7137, 'disruption': 7138, 'taiwanese': 7139, 'les': 7140, 'exam': 7141, 'formerly': 7142, 'lansing': 7143, 'cleanup': 7144, 'davies': 7145, 'budgets': 7146, 'driveby': 7147, 'sweeps': 7148, 'discussing': 7149, 'preparations': 7150, 'purpose': 7151, 'represents': 7152, 'BNP': 7153, 'kamal': 7154, 'experiences': 7155, 'travellers': 7156, 'BAE': 7157, 'achievements': 7158, 'nottingham': 7159, 'dressed': 7160, 'cheaper': 7161, 'tycoon': 7162, 'kurdish': 7163, 'roots': 7164, 'ministerial': 7165, 'consultant': 7166, 'olmert': 7167, 'sailor': 7168, 'generating': 7169, 'clinched': 7170, 'opponent': 7171, 'methods': 7172, 'downs': 7173, 'swat': 7174, 'perez': 7175, 'walters': 7176, 'packed': 7177, 'repay': 7178, 'cattle': 7179, '175': 7180, 'classroom': 7181, 'bible': 7182, '97': 7183, 'qld': 7184, 'jul': 7185, 'antony': 7186, 'morocco': 7187, 'gavin': 7188, 'makeover': 7189, 'slower': 7190, 'cop': 7191, 'ashok': 7192, 'depth': 7193, 'volumes': 7194, '60th': 7195, 'nuggets': 7196, 'cigarette': 7197, 'hezbollah': 7198, 'dale': 7199, 'medication': 7200, 'hemsworth': 7201, 'PMLn': 7202, 'bands': 7203, 'criticised': 7204, 'reviewing': 7205, 'jeffrey': 7206, 'cheated': 7207, 'washed': 7208, 'profitability': 7209, 'deploy': 7210, 'example': 7211, 'surrey': 7212, 'maradona': 7213, 'amazoncom': 7214, 'alley': 7215, 'islamist': 7216, 'majors': 7217, 'famed': 7218, 'sunny': 7219, 'flew': 7220, 'bicycle': 7221, 'kunis': 7222, 'contemporary': 7223, 'zuckerberg': 7224, 'jointly': 7225, 'RIM': 7226, 'strictly': 7227, 'cohen': 7228, 'approached': 7229, 'canberra': 7230, 'endangerment': 7231, 'skating': 7232, 'puerto': 7233, 'puppy': 7234, 'mali': 7235, 'initiated': 7236, 'publishes': 7237, 'passage': 7238, 'XI': 7239, 'hiphop': 7240, 'der': 7241, 'bret': 7242, 'attendance': 7243, 'appetite': 7244, 'allrounder': 7245, 'combination': 7246, 'disappeared': 7247, 'researcher': 7248, 'harbour': 7249, '450': 7250, 'qualifiers': 7251, 'happens': 7252, 'revenge': 7253, 'followers': 7254, 'burnt': 7255, 'ike': 7256, 'acknowledged': 7257, 'kidman': 7258, 'starter': 7259, 'jorge': 7260, 'debates': 7261, 'priyanka': 7262, 'paulo': 7263, 'samantha': 7264, 'astronauts': 7265, 'chester': 7266, 'publishers': 7267, 'notorious': 7268, 'confirming': 7269, 'approaches': 7270, 'propose': 7271, 'highspeed': 7272, 'ducks': 7273, 'alonso': 7274, '2001': 7275, 'seng': 7276, 'snapped': 7277, 'commissioned': 7278, 'scholarship': 7279, 'WBC': 7280, 'redknapp': 7281, 'marginally': 7282, 'damon': 7283, 'earthquakes': 7284, 'LeBron': 7285, 'trash': 7286, 'gunfire': 7287, 'hawks': 7288, 'suns': 7289, 'chartered': 7290, 'entrepreneur': 7291, 'khalifa': 7292, 'foreclosures': 7293, 'minerals': 7294, '01': 7295, 'scrapped': 7296, 'progressive': 7297, 'inches': 7298, 'bengals': 7299, 'mila': 7300, 'happiness': 7301, 'locker': 7302, 'raymond': 7303, 'friendship': 7304, 'fourthquarter': 7305, 'sad': 7306, 'boil': 7307, 'factories': 7308, 'penny': 7309, 'consolidate': 7310, 'purdue': 7311, 'moines': 7312, 'goodwill': 7313, 'slight': 7314, 'scout': 7315, 'stays': 7316, 'poet': 7317, 'tweet': 7318, 'tweets': 7319, 'acid': 7320, 'confirmation': 7321, 'victorian': 7322, 'revolutionary': 7323, 'blogger': 7324, 'cal': 7325, 'meltdown': 7326, 'territorial': 7327, 'wrapped': 7328, 'distributed': 7329, '140': 7330, 'evaluation': 7331, 'vessels': 7332, 'incentive': 7333, 'augusta': 7334, 'bullpen': 7335, 'sitcom': 7336, 'ministries': 7337, 'funny': 7338, 'alzheimer': 7339, 'enjoys': 7340, 'roethlisberger': 7341, 'kerr': 7342, 'ambitious': 7343, 'contempt': 7344, 'shocked': 7345, 'extremists': 7346, 'indeed': 7347, 'difficulties': 7348, 'midland': 7349, 'willis': 7350, 'shortages': 7351, 'automatic': 7352, '29yearold': 7353, 'manipur': 7354, 'nationally': 7355, 'describing': 7356, 'hispanic': 7357, '49ers': 7358, 'telstra': 7359, 'legislators': 7360, 'admission': 7361, 'truly': 7362, 'halftime': 7363, 'jade': 7364, 'shaw': 7365, 'raided': 7366, 'pakistanis': 7367, 'renewal': 7368, 'uniform': 7369, 'anand': 7370, 'iPod': 7371, 'fare': 7372, 'characters': 7373, 'ralph': 7374, 'choices': 7375, 'bow': 7376, 'ICICI': 7377, 'reconstruction': 7378, 'dodge': 7379, 'mercedes': 7380, 'distance': 7381, '105': 7382, 'collections': 7383, 'alltime': 7384, 'harm': 7385, 'pratibha': 7386, 'russians': 7387, 'gabriel': 7388, 'operated': 7389, 'courtney': 7390, 'organisations': 7391, 'arrangements': 7392, 'findings': 7393, 'firmer': 7394, 'internationally': 7395, 'punch': 7396, 'gerrard': 7397, 'controller': 7398, 'champ': 7399, 'reliable': 7400, 'denise': 7401, 'sandusky': 7402, 'coma': 7403, 'deportation': 7404, 'seizure': 7405, 'tanzania': 7406, 'pains': 7407, 'dual': 7408, 'slips': 7409, 'interesting': 7410, 'clashed': 7411, 'carlo': 7412, 'shadow': 7413, 'punching': 7414, 'vale': 7415, 'albania': 7416, 'groupon': 7417, 'database': 7418, 'renovation': 7419, '03': 7420, 'ceremonies': 7421, 'cab': 7422, 'imminent': 7423, 'weakening': 7424, 'dock': 7425, 'shaun': 7426, 'conglomerate': 7427, 'vernon': 7428, 'holocaust': 7429, 'certainly': 7430, 'burton': 7431, 'chess': 7432, 'explained': 7433, 'charts': 7434, 'diane': 7435, 'establishing': 7436, 'mirza': 7437, 'monitors': 7438, 'moral': 7439, 'pyongyang': 7440, 'repeated': 7441, 'guantanamo': 7442, 'aftermath': 7443, 'describes': 7444, 'richest': 7445, 'fortune': 7446, 'respects': 7447, 'seri': 7448, 'highways': 7449, 'hazardous': 7450, 'fullback': 7451, 'requiring': 7452, 'roses': 7453, 'achievement': 7454, 'FM': 7455, 'trademark': 7456, 'parkway': 7457, 'bahamas': 7458, 'highlight': 7459, 'silent': 7460, 'touring': 7461, 'requires': 7462, 'arlington': 7463, 'curtis': 7464, 'accreditation': 7465, 'oral': 7466, 'uzbekistan': 7467, 'besides': 7468, 'dust': 7469, 'ODI': 7470, 'abduction': 7471, 'junction': 7472, 'nielsen': 7473, 'derivatives': 7474, 'bones': 7475, 'enemy': 7476, 'macau': 7477, 'bitten': 7478, 'prodemocracy': 7479, 'temperature': 7480, 'unexpected': 7481, 'crist': 7482, 'signature': 7483, 'drain': 7484, 'urgent': 7485, '27yearold': 7486, 'jermaine': 7487, 'mayoral': 7488, 'toshiba': 7489, 'judgment': 7490, 'toy': 7491, 'spectacular': 7492, 'opposes': 7493, 'citi': 7494, 'playboy': 7495, 'li': 7496, 'trustees': 7497, 'heated': 7498, '8th': 7499, 'fairfax': 7500, 'lodged': 7501, 'pushes': 7502, 'lightweight': 7503, 'waive': 7504, 'processor': 7505, 'busted': 7506, 'bonus': 7507, 'visas': 7508, 'boots': 7509, 'immunity': 7510, 'youngsters': 7511, 'climbing': 7512, 'congo': 7513, 'hussain': 7514, 'searched': 7515, 'error': 7516, 'deny': 7517, 'radcliffe': 7518, 'litre': 7519, 'novosti': 7520, 'blunt': 7521, 'upward': 7522, 'consultation': 7523, 'surcharge': 7524, 'samajwadi': 7525, 'bottles': 7526, 'nutrition': 7527, 'amateur': 7528, 'dictator': 7529, 'albion': 7530, 'afraid': 7531, 'accelerated': 7532, 'convoy': 7533, 'tradition': 7534, 'slid': 7535, 'gingrich': 7536, 'signals': 7537, 'persistent': 7538, 'dissident': 7539, 'sometime': 7540, 'conducting': 7541, 'sparking': 7542, 'openly': 7543, 'mediterranean': 7544, 'highlighting': 7545, 'surf': 7546, 'McDonnell': 7547, 'attracted': 7548, 'workout': 7549, 'lancaster': 7550, 'syndrome': 7551, 'surrendered': 7552, 'paltrow': 7553, 'laptops': 7554, 'rahman': 7555, 'daylight': 7556, 'unemployed': 7557, 'chambers': 7558, 'clearly': 7559, 'porsche': 7560, 'vitamin': 7561, 'rutgers': 7562, 'khloe': 7563, 'legends': 7564, 'infected': 7565, 'aquino': 7566, 'southampton': 7567, 'tornadoes': 7568, 'relegation': 7569, 'uprising': 7570, 'fielder': 7571, 'indexes': 7572, 'fiance': 7573, 'laurent': 7574, \"o'neill\": 7575, 'en': 7576, 'handset': 7577, 'showdown': 7578, 'upside': 7579, 'haley': 7580, 'cleaning': 7581, 'placing': 7582, 'flooded': 7583, 'resolved': 7584, 'jiabao': 7585, 'concludes': 7586, 'speeds': 7587, 'earning': 7588, 'skies': 7589, 'suspending': 7590, 'maldives': 7591, 'torres': 7592, 'brooke': 7593, 'vista': 7594, 'asiapacific': 7595, 'wed': 7596, 'ND': 7597, 'fertilizer': 7598, 'minorities': 7599, 'mercer': 7600, 'borrowers': 7601, 'klitschko': 7602, 'JD': 7603, 'shortstop': 7604, 'monica': 7605, 'mesa': 7606, 'tube': 7607, 'alec': 7608, 'vandals': 7609, 'discipline': 7610, 'nolan': 7611, 'AS': 7612, 'FedEx': 7613, 'freeagent': 7614, 'millionaire': 7615, 'colleague': 7616, 'lorry': 7617, 'javier': 7618, 'neighboring': 7619, 'johnston': 7620, 'sole': 7621, 'bracing': 7622, 'webster': 7623, 'caterpillar': 7624, 'indicating': 7625, 'facial': 7626, 'tweeted': 7627, 'dumping': 7628, 'westwood': 7629, 'departure': 7630, 'alice': 7631, 'scotia': 7632, 'atlantis': 7633, 'mentor': 7634, 'belgrade': 7635, 'highprofile': 7636, 'wound': 7637, 'par': 7638, 'unilever': 7639, 'zimmerman': 7640, 'cabin': 7641, 'brunswick': 7642, 'rev': 7643, 'criticized': 7644, 'contestant': 7645, 'treating': 7646, 'demonstrate': 7647, 'reflect': 7648, 'detect': 7649, 'preview': 7650, 'productions': 7651, 'menu': 7652, 'audiences': 7653, 'albuquerque': 7654, 'handing': 7655, 'preventing': 7656, 'businessmen': 7657, 'vienna': 7658, 'outlet': 7659, 'AB': 7660, 'frankfurt': 7661, 'durban': 7662, 'washing': 7663, 'nasdaq': 7664, 'hague': 7665, 'lowe': 7666, 'plunges': 7667, '135': 7668, 'abraham': 7669, 'prairie': 7670, 'wallabies': 7671, '99': 7672, 'injures': 7673, 'shawn': 7674, 'tightening': 7675, 'americas': 7676, 'virtually': 7677, 'erie': 7678, 'prosperity': 7679, '35yearold': 7680, 'plug': 7681, 'kindle': 7682, 'theory': 7683, 'spike': 7684, 'vandalism': 7685, 'ferdinand': 7686, 'textile': 7687, 'clinics': 7688, 'liberation': 7689, 'bloc': 7690, 'chandigarh': 7691, 'constituency': 7692, 'serves': 7693, 'undercover': 7694, 'binghamton': 7695, 'linda': 7696, 'diamonds': 7697, 'vaccines': 7698, 'deserve': 7699, 'murders': 7700, 'hurdle': 7701, 'efron': 7702, 'promotes': 7703, 'upheld': 7704, 'actively': 7705, 'patience': 7706, 'winslet': 7707, 'embattled': 7708, 'antitrust': 7709, 'annually': 7710, 'gore': 7711, '201213': 7712, 'chesapeake': 7713, 'courtroom': 7714, 'examine': 7715, 'wizards': 7716, 'detection': 7717, 'poultry': 7718, 'correctional': 7719, 'firstround': 7720, 'adventure': 7721, 'establishment': 7722, 'huffington': 7723, 'BSE': 7724, 'thirdquarter': 7725, 'ubisoft': 7726, 'jenna': 7727, 'volvo': 7728, 'exploitation': 7729, 'calf': 7730, 'notebook': 7731, 'NYSE': 7732, 'soviet': 7733, 'detainees': 7734, 'sabah': 7735, 'amir': 7736, 'parkinson': 7737, 'roughly': 7738, 'dogg': 7739, 'suburbs': 7740, 'successor': 7741, 'wembley': 7742, 'mrs': 7743, 'laureate': 7744, 'curfew': 7745, 'linking': 7746, 'cambodia': 7747, 'indices': 7748, 'banker': 7749, 'AK': 7750, 'gwyneth': 7751, 'disclosure': 7752, 'destruction': 7753, 'colon': 7754, 'vampire': 7755, 'MLS': 7756, 'ai': 7757, 'lacrosse': 7758, 'deliberately': 7759, 'scouts': 7760, 'rooms': 7761, 'mechanism': 7762, 'ibrahim': 7763, 'directing': 7764, 'coyotes': 7765, 'spare': 7766, '1300': 7767, 'sara': 7768, 'neighbouring': 7769, 'telecoms': 7770, 'rid': 7771, 'warship': 7772, 'grande': 7773, 'bias': 7774, 'GaGa': 7775, 'infamous': 7776, 'stopping': 7777, 'oval': 7778, 'height': 7779, 'apologise': 7780, 'bestselling': 7781, 'shook': 7782, '150000': 7783, 'ana': 7784, 'composite': 7785, 'bicyclist': 7786, 'purchasing': 7787, 'eden': 7788, 'hazard': 7789, 'arabian': 7790, 'riots': 7791, 'ethiopian': 7792, 'shower': 7793, 'debuts': 7794, 'jared': 7795, 'mln': 7796, 'nickel': 7797, 'glory': 7798, 'reiterates': 7799, 'psychiatric': 7800, 'reservoir': 7801, 'soared': 7802, 'rico': 7803, 'pa': 7804, 'whatever': 7805, 'butt': 7806, 'jessie': 7807, 'kourtney': 7808, 'lucknow': 7809, 'RIA': 7810, 'bread': 7811, 'restoring': 7812, 'lawn': 7813, 'prisons': 7814, 'panama': 7815, 'securing': 7816, 'attracting': 7817, '102': 7818, 'slumped': 7819, 'massa': 7820, 'rewards': 7821, 'ammunition': 7822, 'ehud': 7823, 'burden': 7824, 'transparent': 7825, '730': 7826, 'protested': 7827, 'sienna': 7828, 'cave': 7829, 'errors': 7830, 'chose': 7831, 'divisions': 7832, 'imaging': 7833, 'copyright': 7834, 'blaming': 7835, 'length': 7836, 'doctorate': 7837, 'narrowed': 7838, 'snoop': 7839, 'rai': 7840, 'disturbance': 7841, 'logan': 7842, 'evacuate': 7843, 'episodes': 7844, 'dramatically': 7845, 'founded': 7846, 'automated': 7847, 'PCs': 7848, 'QB': 7849, 'dentist': 7850, 'rajapaksa': 7851, 'jaguar': 7852, 'respiratory': 7853, 'operates': 7854, 'stint': 7855, 'tightened': 7856, 'dismissal': 7857, 'generations': 7858, 'obese': 7859, 'luther': 7860, 'galway': 7861, 'splash': 7862, 'demonstrations': 7863, 'lokpal': 7864, 'tomas': 7865, 'discusses': 7866, 'borrow': 7867, 'chevron': 7868, 'longawaited': 7869, 'belonging': 7870, 'scared': 7871, 'AirTran': 7872, 'spark': 7873, 'satisfaction': 7874, 'lengthy': 7875, 'arquette': 7876, 'corrupt': 7877, 'ensuring': 7878, 'pubs': 7879, 'flexible': 7880, 'favourites': 7881, 'dancer': 7882, 'songwriter': 7883, 'grabbed': 7884, 'bullying': 7885, 'michel': 7886, 'accessories': 7887, 'follows': 7888, 'realty': 7889, 'lehigh': 7890, 'saeed': 7891, 'awaiting': 7892, 'principle': 7893, 'recognised': 7894, 'scrutiny': 7895, 'relatively': 7896, 'attached': 7897, 'transfers': 7898, 'yearold': 7899, 'sinking': 7900, 'disability': 7901, 'delegates': 7902, 'rank': 7903, 'committing': 7904, 'certified': 7905, 'comcast': 7906, 'hindi': 7907, 'MotoGP': 7908, 'monster': 7909, 'laboratories': 7910, 'POLICE': 7911, 'habitat': 7912, 'inspectors': 7913, 'repurchase': 7914, 'smokers': 7915, 'freezing': 7916, 'outgoing': 7917, 'triggering': 7918, 'tonne': 7919, 'everywhere': 7920, 'entrance': 7921, 'bloom': 7922, 'collecting': 7923, 'breaching': 7924, 'boxes': 7925, 'emails': 7926, 'magistrates': 7927, 'nitish': 7928, 'cleric': 7929, 'bump': 7930, 'highland': 7931, 'gerard': 7932, 'sort': 7933, 'evan': 7934, 'happening': 7935, 'arrivals': 7936, 'servants': 7937, 'lagos': 7938, 'shifted': 7939, 'melissa': 7940, 'aleague': 7941, 'kickoff': 7942, 'impressed': 7943, 'oilers': 7944, 'TSX': 7945, 'attitude': 7946, 'gradually': 7947, 'rent': 7948, 'fraser': 7949, 'harsh': 7950, 'measuring': 7951, 'uruguay': 7952, 'macquarie': 7953, 'salmonella': 7954, 'auditorium': 7955, '750': 7956, 'burnley': 7957, 'nixon': 7958, 'forgery': 7959, 'nano': 7960, 'steroids': 7961, 'smallest': 7962, 'emily': 7963, 'scholarships': 7964, 'olivia': 7965, 'exporter': 7966, 'suarez': 7967, 'eliminating': 7968, 'airspace': 7969, 'attends': 7970, 'barred': 7971, 'zach': 7972, 'piers': 7973, 'cavendish': 7974, 'weigh': 7975, 'memories': 7976, 'balls': 7977, 'divided': 7978, 'cure': 7979, '9th': 7980, 'MVP': 7981, 'lies': 7982, 'beirut': 7983, 'sewer': 7984, 'sinks': 7985, 'dover': 7986, 'afford': 7987, 'baron': 7988, 'telekom': 7989, 'protestors': 7990, 'watford': 7991, 'slashes': 7992, 'hide': 7993, 'yang': 7994, 'palo': 7995, 'semi': 7996, 'relation': 7997, 'avoiding': 7998, 'fannie': 7999, '12yearold': 8000, 'bride': 8001, 'situations': 8002, 'visual': 8003, 'learnt': 8004, 'sailors': 8005, 'fifa': 8006, 'screens': 8007, 'zurich': 8008, '28th': 8009, 'disappointment': 8010, 'impossible': 8011, 'sedan': 8012, 'ArcelorMittal': 8013, 'supermarkets': 8014, 'solomon': 8015, '107': 8016, 'SP': 8017, 'remainder': 8018, 'critic': 8019, 'newt': 8020, 'denying': 8021, 'gesture': 8022, '00': 8023, 'accord': 8024, 'MGM': 8025, 'salon': 8026, 'huntsman': 8027, 'shrank': 8028, 'jenkins': 8029, 'remarkable': 8030, 'waiver': 8031, 'trent': 8032, 'havoc': 8033, 'gadhafi': 8034, 'lennon': 8035, 'promotional': 8036, 'kuwaiti': 8037, 'prefers': 8038, 'musicians': 8039, 'biel': 8040, 'downing': 8041, 'chan': 8042, 'carol': 8043, 'allied': 8044, 'subdued': 8045, 'injection': 8046, 'unfair': 8047, 'anywhere': 8048, 'contracted': 8049, 'indicate': 8050, 'daytime': 8051, 'fragile': 8052, 'observers': 8053, 'contamination': 8054, '7000': 8055, 'clinch': 8056, 'vic': 8057, 'balloon': 8058, 'ugly': 8059, 'klum': 8060, 'wildfires': 8061, 'sight': 8062, 'gloucester': 8063, 'eggs': 8064, 'shahbaz': 8065, 'rated': 8066, 'didier': 8067, 'booming': 8068, 'successive': 8069, 'ethanol': 8070, 'examiner': 8071, 'bearish': 8072, 'DiCaprio': 8073, 'paint': 8074, 'immune': 8075, 'embezzlement': 8076, 'showers': 8077, 'meth': 8078, 'pike': 8079, 'spying': 8080, 'wheelchair': 8081, 'cables': 8082, 'muamba': 8083, 'contrary': 8084, 'bolivia': 8085, 'sailing': 8086, 'bases': 8087, 'tajikistan': 8088, 'dipped': 8089, 'widens': 8090, 'injunction': 8091, 'lashes': 8092, 'shake': 8093, 'lafayette': 8094, 'gallon': 8095, 'commons': 8096, 'exceed': 8097, 'taught': 8098, '1400': 8099, 'venus': 8100, 'collide': 8101, 'eager': 8102, 'hungry': 8103, 'sultan': 8104, 'rumor': 8105, 'lover': 8106, 'choppy': 8107, 'widow': 8108, 'boot': 8109, 'builds': 8110, 'groundbreaking': 8111, 'leafs': 8112, 'ronald': 8113, 'horry': 8114, 'wachovia': 8115, 'rouge': 8116, 'thatcher': 8117, 'sussex': 8118, 'graphic': 8119, 'breakaway': 8120, 'statistical': 8121, 'undergone': 8122, 'amongst': 8123, 'stupid': 8124, 'beck': 8125, 'concord': 8126, 'basin': 8127, 'nigel': 8128, 'affirmed': 8129, 'deepening': 8130, 'pocket': 8131, 'adobe': 8132, 'hates': 8133, 'rocked': 8134, 'vendors': 8135, 'subsidy': 8136, 'biological': 8137, 'bet': 8138, 'tenants': 8139, 'wholly': 8140, 'freeman': 8141, 'experimental': 8142, 'turnout': 8143, 'closures': 8144, 'headline': 8145, 'tariffs': 8146, 'bedroom': 8147, 'mt': 8148, 'beloved': 8149, 'spreads': 8150, 'directions': 8151, 'tunisian': 8152, 'newsday': 8153, 'barrymore': 8154, 'lined': 8155, 'slim': 8156, 'marvel': 8157, 'premiums': 8158, 'commemorate': 8159, 'blackpool': 8160, 'teaming': 8161, 'shetty': 8162, 'connections': 8163, 'skilled': 8164, 'browser': 8165, 'comparison': 8166, 'flick': 8167, 'copa': 8168, 'migrant': 8169, 'letterman': 8170, 'eid': 8171, 'baba': 8172, 'forever': 8173, 'ritchie': 8174, 'hangs': 8175, 'macon': 8176, 'rory': 8177, 'felix': 8178, 'adaptation': 8179, 'pierre': 8180, 'panda': 8181, 'PayPal': 8182, 'handsets': 8183, 'refuge': 8184, 'roommate': 8185, 'provision': 8186, 'contador': 8187, 'desk': 8188, 'insight': 8189, 'amended': 8190, 'obtain': 8191, 'concessions': 8192, 'shepherd': 8193, 'hewitt': 8194, 'yeddyurappa': 8195, 'indigenous': 8196, 'boutique': 8197, 'footprint': 8198, 'flies': 8199, 'waves': 8200, 'ranbir': 8201, 'mirror': 8202, 'dawson': 8203, 'mahama': 8204, 'franco': 8205, 'blockade': 8206, 'methodist': 8207, 'piper': 8208, 'chaudhry': 8209, 'prolonged': 8210, 'refuse': 8211, 'unmanned': 8212, 'bruised': 8213, 'abdominal': 8214, 'ECB': 8215, 'amar': 8216, 'AirAsia': 8217, 'egg': 8218, 'bentley': 8219, 'paraguay': 8220, 'expense': 8221, 'hogan': 8222, 'soar': 8223, 'hepatitis': 8224, 'afghans': 8225, 'consent': 8226, 'strange': 8227, 'otherwise': 8228, 'impaired': 8229, 'mayawati': 8230, 'shannon': 8231, 'grammer': 8232, 'casting': 8233, 'interviews': 8234, 'committees': 8235, '32yearold': 8236, 'julius': 8237, 'medalist': 8238, 'manufacture': 8239, 'jindal': 8240, 'preston': 8241, 'neighbour': 8242, 'derailed': 8243, 'overwhelming': 8244, 'canterbury': 8245, 'trafford': 8246, 'surpassed': 8247, 'commitments': 8248, 'implications': 8249, 'mich': 8250, 'experiencing': 8251, 'rebecca': 8252, 'pan': 8253, 'jackpot': 8254, 'cumberland': 8255, 'bite': 8256, 'decisive': 8257, 'loud': 8258, 'quietly': 8259, '40yearold': 8260, 'arbor': 8261, 'midlands': 8262, 'physicians': 8263, 'clemson': 8264, 'marched': 8265, 'incredible': 8266, 'everybody': 8267, 'ballet': 8268, 'pleasant': 8269, 'shelves': 8270, 'debris': 8271, 'pork': 8272, 'pure': 8273, 'kilometres': 8274, 'grandfather': 8275, 'occupation': 8276, 'breathing': 8277, 'dana': 8278, 'polk': 8279, 'postpone': 8280, 'tears': 8281, 'helm': 8282, 'supervisor': 8283, 'JC': 8284, 'ANZ': 8285, 'totally': 8286, 'roddick': 8287, 'banner': 8288, 'WA': 8289, 'whip': 8290, 'ipswich': 8291, 'machinery': 8292, 'McIlroy': 8293, 'gateway': 8294, 'highlands': 8295, 'bass': 8296, 'curry': 8297, 'inventory': 8298, 'ranging': 8299, 'contaminated': 8300, 'auctions': 8301, 'dividends': 8302, 'organ': 8303, 'kodak': 8304, 'inch': 8305, 'wellness': 8306, '1600': 8307, 'casualties': 8308, 'bermuda': 8309, 'burger': 8310, 'witnessed': 8311, 'backyard': 8312, 'dealt': 8313, 'tan': 8314, 'metric': 8315, 'cohost': 8316, 'responds': 8317, 'wrongful': 8318, 'breakdown': 8319, 'alexandra': 8320, 'conjunction': 8321, 'rocks': 8322, 'deepika': 8323, 'aliens': 8324, 'joke': 8325, 'ind': 8326, 'item': 8327, 'kay': 8328, 'sevilla': 8329, 'madoff': 8330, 'holly': 8331, 'tumble': 8332, 'sections': 8333, 'monaco': 8334, 'convinced': 8335, 'icy': 8336, 'nearing': 8337, 'priorities': 8338, 'hewlettpackard': 8339, 'weaken': 8340, 'partly': 8341, 'tymoshenko': 8342, 'architecture': 8343, '98': 8344, '47yearold': 8345, 'funded': 8346, 'usual': 8347, 'alto': 8348, 'crowe': 8349, 'contention': 8350, 'gotten': 8351, 'inn': 8352, 'articles': 8353, 'martha': 8354, 'catching': 8355, 'tariff': 8356, '10year': 8357, 'seemed': 8358, 'intentionally': 8359, 'olive': 8360, 'scherzinger': 8361, 'downloads': 8362, 'blown': 8363, 'staples': 8364, 'bulk': 8365, 'absolute': 8366, 'custom': 8367, 'eugene': 8368, 'bulldogs': 8369, 'outcome': 8370, 'gutted': 8371, 'wis': 8372, 'powered': 8373, 'carries': 8374, '1970s': 8375, 'conan': 8376, 'theaters': 8377, 'LLP': 8378, 'attacker': 8379, 'concentrate': 8380, 'liberals': 8381, 'nazi': 8382, 'designate': 8383, 'leigh': 8384, 'norton': 8385, 'fletcher': 8386, 'WBO': 8387, 'yankee': 8388, 'campaigning': 8389, 'polanski': 8390, 'beverage': 8391, 'transform': 8392, '115': 8393, 'epidemic': 8394, 'libel': 8395, 'kazakh': 8396, 'provisions': 8397, 'graffiti': 8398, 'complained': 8399, 'promoter': 8400, 'freestyle': 8401, 'balochistan': 8402, 'hostages': 8403, 'controlling': 8404, 'bargaining': 8405, 'bizarre': 8406, 'sotomayor': 8407, 'vast': 8408, 'opted': 8409, 'jackets': 8410, 'wanderers': 8411, 'diverted': 8412, 'deficits': 8413, 'fisheries': 8414, 'honours': 8415, 'interviewed': 8416, 'brigade': 8417, 'anticorruption': 8418, 'snowmobile': 8419, 'purse': 8420, 'africans': 8421, 'shiite': 8422, 'buccaneers': 8423, 'spelling': 8424, 'worcester': 8425, 'mickelson': 8426, 'deeper': 8427, 'physically': 8428, 'issuer': 8429, 'surfer': 8430, 'steals': 8431, 'supervisors': 8432, 'obligations': 8433, 'guinness': 8434, 'novelist': 8435, 'tory': 8436, 'lodge': 8437, 'negotiate': 8438, 'dominate': 8439, 'imperial': 8440, 'wikileaks': 8441, 'jews': 8442, 'leone': 8443, '1960s': 8444, 'reversing': 8445, 'sounds': 8446, 'crow': 8447, \"o'malley\": 8448, 'frederick': 8449, 'leonard': 8450, 'intelligent': 8451, 'sheboygan': 8452, 'balanced': 8453, 'aviva': 8454, 'searches': 8455, 'pared': 8456, 'mineral': 8457, 'honolulu': 8458, 'clarkson': 8459, 'exploring': 8460, 'aggregate': 8461, 'honoring': 8462, 'reagan': 8463, 'array': 8464, 'reaffirmed': 8465, '9000': 8466, 'shortterm': 8467, 'commencement': 8468, 'ramdev': 8469, 'vegetables': 8470, 'seth': 8471, 'doha': 8472, 'filling': 8473, 'understands': 8474, 'bon': 8475, 'escalating': 8476, 'payne': 8477, 'crushing': 8478, 'explorer': 8479, 'greenville': 8480, 'nonstop': 8481, 'demolished': 8482, 'pot': 8483, 'nexus': 8484, '112': 8485, 'kit': 8486, 'relegated': 8487, 'landlord': 8488, 'prof': 8489, 'disorders': 8490, 'saga': 8491, 'spirits': 8492, 'touching': 8493, 'commenced': 8494, 'cafe': 8495, 'persian': 8496, 'caucus': 8497, 'processors': 8498, 'automobile': 8499, 'bullets': 8500, 'mid': 8501, 'pitched': 8502, 'math': 8503, 'hulk': 8504, 'sikh': 8505, 'autobiography': 8506, 'commence': 8507, '50yearold': 8508, 'sonic': 8509, 'payable': 8510, 'commuter': 8511, 'salisbury': 8512, 'barely': 8513, 'penney': 8514, 'akron': 8515, 'hillsborough': 8516, 'rear': 8517, 'bangladeshi': 8518, 'eli': 8519, 'bafana': 8520, '1700': 8521, 'fiber': 8522, 'psychological': 8523, 'dunn': 8524, 'sovereignty': 8525, 'undefeated': 8526, 'commissions': 8527, 'lea': 8528, '4S': 8529, 'evolution': 8530, 'unanimous': 8531, 'conceded': 8532, 'rescuers': 8533, 'katherine': 8534, 'AFC': 8535, 'cornwall': 8536, 'disasters': 8537, 'preorders': 8538, 'swimmer': 8539, 'viral': 8540, 'contacts': 8541, 'viktor': 8542, 'shipment': 8543, 'circus': 8544, 'tone': 8545, 'speakers': 8546, '3500': 8547, 'animated': 8548, 'latter': 8549, 'listen': 8550, 'grades': 8551, 'unsecured': 8552, 'astana': 8553, 'telangana': 8554, 'upstate': 8555, 'thermal': 8556, 'paterno': 8557, 'registry': 8558, 'lists': 8559, 'liz': 8560, 'hancock': 8561, 'competitors': 8562, 'invite': 8563, 'trips': 8564, 'livestock': 8565, 'none': 8566, 'sand': 8567, 'NDA': 8568, 'mainstream': 8569, 'daly': 8570, 'shia': 8571, 'patterson': 8572, 'paulson': 8573, 'captures': 8574, 'JSE': 8575, 'spacecraft': 8576, 'pharma': 8577, 'deeply': 8578, 'instructor': 8579, 'von': 8580, 'establishes': 8581, 'BART': 8582, 'consultants': 8583, 'chevrolet': 8584, 'boise': 8585, 'architect': 8586, 'ossetia': 8587, 'rodney': 8588, 'stakeholders': 8589, 'owens': 8590, 'truce': 8591, 'phillip': 8592, 'bypass': 8593, 'boating': 8594, 'canton': 8595, 'churches': 8596, 'socialist': 8597, 'straw': 8598, 'reopening': 8599, '39yearold': 8600, 'baton': 8601, 'rao': 8602, 'trauma': 8603, 'liquid': 8604, 'towers': 8605, 'pictured': 8606, 'jenny': 8607, 'wesley': 8608, 'merit': 8609, 'UKbased': 8610, 'landslide': 8611, 'sgt': 8612, 'McAfee': 8613, 'ilham': 8614, 'bikini': 8615, 'supposed': 8616, '24th': 8617, 'furious': 8618, 'types': 8619, 'dish': 8620, 'narcotics': 8621, 'benghazi': 8622, 'backdrop': 8623, 'joan': 8624, 'shriver': 8625, 'margins': 8626, 'buck': 8627, 'literature': 8628, 'corey': 8629, '07': 8630, 'downgrade': 8631, 'capitals': 8632, 'knightley': 8633, 'onevehicle': 8634, 'biotechnology': 8635, 'scratched': 8636, 'runners': 8637, 'clijsters': 8638, 'tenure': 8639, 'brave': 8640, 'uncle': 8641, 'hitachi': 8642, 'yusuf': 8643, 'raceway': 8644, 'contributed': 8645, '08': 8646, 'requirement': 8647, 'advocacy': 8648, 'MRI': 8649, 'filmed': 8650, 'sprinter': 8651, 'exboyfriend': 8652, 'abandon': 8653, 'rejoin': 8654, 'catastrophic': 8655, 'resistances': 8656, 'disqualified': 8657, 'cannes': 8658, 'isaac': 8659, 'reshuffle': 8660, 'headlines': 8661, '106': 8662, 'condemn': 8663, 'landfall': 8664, 'cheltenham': 8665, 'downward': 8666, 'peacefully': 8667, 'fourday': 8668, 'hurley': 8669, 'slugger': 8670, 'steering': 8671, 'alba': 8672, '108': 8673, 'acted': 8674, 'passion': 8675, 'assess': 8676, 'coldplay': 8677, 'leisure': 8678, 'observe': 8679, 'affiliated': 8680, 'kissing': 8681, 'bribes': 8682, 'disposal': 8683, 'intoxication': 8684, 'kg': 8685, 'saleh': 8686, 'fog': 8687, 'obsessed': 8688, 'ronson': 8689, 'cartel': 8690, 'disrupt': 8691, 'pieces': 8692, 'hospitality': 8693, '70000': 8694, 'rosa': 8695, 'xavier': 8696, 'lloyds': 8697, 'restoration': 8698, 'integrate': 8699, 'rumored': 8700, 'appalachian': 8701, 'dannii': 8702, 'hearings': 8703, 'knoxville': 8704, 'yearonyear': 8705, 'comfort': 8706, 'workshops': 8707, 'BT': 8708, 'snack': 8709, 'dismiss': 8710, 'woody': 8711, 'corrections': 8712, 'fantastic': 8713, 'elects': 8714, 'snyder': 8715, 'overturns': 8716, 'ny': 8717, 'dismal': 8718, 'breached': 8719, 'ramesh': 8720, 'ordering': 8721, 'hacker': 8722, 'languages': 8723, 'fulltime': 8724, 'monkey': 8725, 'johan': 8726, 'evil': 8727, 'donovan': 8728, 'refinancing': 8729, 'barker': 8730, 'aging': 8731, 'camden': 8732, 'khyber': 8733, 'miracle': 8734, 'overwhelmingly': 8735, '09': 8736, 'checking': 8737, 'licences': 8738, 'spots': 8739, 'separated': 8740, 'sword': 8741, 'alcoa': 8742, 'trusted': 8743, 'fault': 8744, 'dominant': 8745, 'warplanes': 8746, 'flower': 8747, 'finalist': 8748, 'peters': 8749, 'brewing': 8750, 'ankara': 8751, 'donating': 8752, 'GPS': 8753, 'physician': 8754, 'scenario': 8755, 'MD': 8756, 'carr': 8757, 'rupees': 8758, 'bismarck': 8759, 'britons': 8760, 'hints': 8761, 'honduras': 8762, 'dining': 8763, 'drowning': 8764, 'lucrative': 8765, 'historian': 8766, 'stunned': 8767, 'extradited': 8768, 'mahendra': 8769, 'leaking': 8770, 'radar': 8771, 'peruvian': 8772, 'devon': 8773, 'testified': 8774, 'spared': 8775, 'keane': 8776, 'stallone': 8777, 'gearing': 8778, 'unlawful': 8779, 'electrocuted': 8780, 'freak': 8781, 'seasonally': 8782, 'brace': 8783, 'snowfall': 8784, 'loyalty': 8785, 'PA': 8786, 'reinstate': 8787, 'dwight': 8788, 'attendant': 8789, 'strongest': 8790, 'console': 8791, 'kendra': 8792, 'heathrow': 8793, 'LPGA': 8794, 'embezzling': 8795, 'patriot': 8796, '11yearold': 8797, 'trim': 8798, 'goody': 8799, 'tense': 8800, 'aka': 8801, 'hyundai': 8802, 'q': 8803, 'lowcost': 8804, 'prom': 8805, 'continent': 8806, 'CPI': 8807, 'thrilled': 8808, 'knights': 8809, 'betterthanexpected': 8810, 'hook': 8811, 'ambush': 8812, 'therapeutics': 8813, 'killers': 8814, 'examination': 8815, 'lindsey': 8816, 'slot': 8817, 'prevented': 8818, 'worsening': 8819, 'webb': 8820, 'leighton': 8821, 'shropshire': 8822, 'cutler': 8823, 'lied': 8824, 'onetime': 8825, 'regina': 8826, 'beau': 8827, 'color': 8828, 'multinational': 8829, 'enables': 8830, 'plain': 8831, 'modestly': 8832, 'EP': 8833, 'bronx': 8834, 'dundee': 8835, 'properly': 8836, 'LED': 8837, 'intimate': 8838, 'deserves': 8839, 'MSNBC': 8840, 'pacers': 8841, 'tina': 8842, 'webcast': 8843, 'marina': 8844, 'ST': 8845, 'ulster': 8846, 'boulder': 8847, 'bald': 8848, 'donors': 8849, 'fidel': 8850, 'mouse': 8851, 'drogba': 8852, 'corning': 8853, 'julio': 8854, 'byrd': 8855, 'kuala': 8856, 'lisbon': 8857, 'alcoholic': 8858, 'sewage': 8859, 'thefts': 8860, 'afridi': 8861, 'tv': 8862, 'freezes': 8863, 'powder': 8864, 'beam': 8865, 'burglars': 8866, 'batteries': 8867, 'confidential': 8868, 'stray': 8869, 'aloud': 8870, 'icahn': 8871, 'gill': 8872, 'collides': 8873, 'climbs': 8874, 'nights': 8875, 'mickey': 8876, 'partnerships': 8877, 'wives': 8878, 'finalized': 8879, 'aground': 8880, 'dealerships': 8881, 'DWI': 8882, 'anticipation': 8883, 'locals': 8884, 'accelerate': 8885, 'oversight': 8886, 'headley': 8887, 'lit': 8888, 'knockout': 8889, 'collaborate': 8890, 'saab': 8891, 'righthanded': 8892, 'appearances': 8893, 'stormed': 8894, 'underwear': 8895, 'please': 8896, 'benson': 8897, 'wealthy': 8898, 'mob': 8899, 'facts': 8900, 'revoked': 8901, 'harlem': 8902, 'frequent': 8903, 'booker': 8904, 'keeper': 8905, 'perdue': 8906, 'revamped': 8907, 'condolences': 8908, 'improper': 8909, 'tripura': 8910, 'drones': 8911, 'flexibility': 8912, 'aishwarya': 8913, 'warships': 8914, 'asda': 8915, 'surgical': 8916, 'youngster': 8917, 'noting': 8918, 'garrett': 8919, 'keira': 8920, 'usher': 8921, 'humane': 8922, 'slapped': 8923, 'antidoping': 8924, 'personally': 8925, '13yearold': 8926, 'shrink': 8927, 'owed': 8928, 'rejecting': 8929, 'wooden': 8930, 'guarantees': 8931, 'panetta': 8932, 'livingston': 8933, 'reno': 8934, '2G': 8935, 'diva': 8936, 'premieres': 8937, 'recognizes': 8938, 'directorial': 8939, 'mounted': 8940, 'crusaders': 8941, 'wouldbe': 8942, 'jacques': 8943, 'pearson': 8944, 'multimedia': 8945, 'slaying': 8946, 'twist': 8947, 'meredith': 8948, 'va': 8949, 'capability': 8950, 'deepen': 8951, 'literacy': 8952, 'kashmiri': 8953, 'grains': 8954, 'associations': 8955, 'norms': 8956, 'delaying': 8957, 'paralympic': 8958, '45yearold': 8959, 'usage': 8960, 'sheep': 8961, 'lewd': 8962, 'CITY': 8963, 'chapel': 8964, 'jude': 8965, 'noise': 8966, 'gurgaon': 8967, 'SWAT': 8968, 'shifting': 8969, 'conferences': 8970, 'rita': 8971, 'engulfing': 8972, 'visitor': 8973, 'incorporated': 8974, 'counseling': 8975, 'substitute': 8976, 'surging': 8977, 'java': 8978, 'iftikhar': 8979, 'stephanie': 8980, 'cesar': 8981, 'ordinance': 8982, 'arroyo': 8983, 'phelps': 8984, 'murderer': 8985, 'territories': 8986, 'bali': 8987, 'nicholas': 8988, 'punish': 8989, 'rivera': 8990, 'homer': 8991, 'entirely': 8992, 'landscape': 8993, 'CNBC': 8994, 'strait': 8995, 'MT': 8996, 'leinster': 8997, 'knocks': 8998, 'belief': 8999, 'halts': 9000, 'aurora': 9001, 'pill': 9002, 'highlighted': 9003, 'voices': 9004, 'samoa': 9005, 'TI': 9006, 'mosley': 9007, 'lovers': 9008, 'surrounded': 9009, 'schalke': 9010, 'detain': 9011, 'fergie': 9012, 'applying': 9013, 'irvine': 9014, 'pretoria': 9015, 'northampton': 9016, 'firsthalf': 9017, \"o'donnell\": 9018, 'methamphetamine': 9019, 'predicting': 9020, 'enrollment': 9021, 'expression': 9022, 'paribas': 9023, 'wallet': 9024, 'osborne': 9025, 'mellon': 9026, 'IV': 9027, 'newfoundland': 9028, 'timing': 9029, 'noah': 9030, 'discounts': 9031, 'grizzlies': 9032, 'bribe': 9033, 'forests': 9034, 'goodbye': 9035, 'bahraini': 9036, 'paving': 9037, 'WBA': 9038, 'contributing': 9039, 'isolated': 9040, 'sticks': 9041, '90th': 9042, '200910': 9043, 'shoaib': 9044, 'talented': 9045, 'cork': 9046, 'automakers': 9047, 'detailed': 9048, 'tables': 9049, 'hai': 9050, 'correction': 9051, 'neither': 9052, 'carlyle': 9053, 'AJ': 9054, 'outrage': 9055, 'goodman': 9056, 'seals': 9057, 'bosnia': 9058, 'linux': 9059, 'cardiovascular': 9060, 'bal': 9061, 'wrestler': 9062, 'brutally': 9063, 'militia': 9064, 'whopping': 9065, 'displays': 9066, 'billings': 9067, 'chattanooga': 9068, 'knocking': 9069, 'aluminum': 9070, 'boca': 9071, 'nod': 9072, 'rex': 9073, 'inevitable': 9074, 'peas': 9075, 'rebate': 9076, 'rawalpindi': 9077, 'OSCE': 9078, 'chhattisgarh': 9079, 'principles': 9080, 'pearce': 9081, 'jaime': 9082, 'destroying': 9083, 'lara': 9084, 'banquet': 9085, 'arguing': 9086, 'leno': 9087, 'jurors': 9088, 'participated': 9089, 'owing': 9090, 'driveway': 9091, 'garner': 9092, 'khurshid': 9093, 'elsewhere': 9094, 'cory': 9095, 'lockheed': 9096, 'fence': 9097, 'ashore': 9098, 'interaction': 9099, 'sellers': 9100, 'twovehicle': 9101, 'debit': 9102, '38yearold': 9103, 'karunanidhi': 9104, 'realtime': 9105, 'firstever': 9106, 'chivas': 9107, 'maestro': 9108, 'polo': 9109, 'owes': 9110, 'senegal': 9111, 'huawei': 9112, 'cautioned': 9113, 'tired': 9114, 'mood': 9115, 'umpire': 9116, '22nd': 9117, 'burmese': 9118, 'thrashers': 9119, 'shirley': 9120, 'connectivity': 9121, 'ligament': 9122, 'colour': 9123, 'dixon': 9124, 'primetime': 9125, 'kylie': 9126, 'balcony': 9127, 'hoax': 9128, 'entertainer': 9129, 'candlestick': 9130, 'indication': 9131, 'halfway': 9132, 'ho': 9133, 'importing': 9134, 'ideal': 9135, 'basket': 9136, 'extremism': 9137, 'divers': 9138, 'stuff': 9139, 'marilyn': 9140, 'seizes': 9141, 'hayes': 9142, 'sack': 9143, 'RSS': 9144, 'activate': 9145, 'imposes': 9146, 'herbert': 9147, 'topeka': 9148, 'ariz': 9149, 'darling': 9150, 'aust': 9151, 'symposium': 9152, 'geo': 9153, 'motorway': 9154, 'lilly': 9155, 'relocate': 9156, 'enemies': 9157, 'wears': 9158, 'legally': 9159, 'poster': 9160, 'valuation': 9161, 'flowers': 9162, 'sears': 9163, 'harrisburg': 9164, 'paramedics': 9165, 'achieving': 9166, 'hotspur': 9167, 'MS': 9168, 'bigg': 9169, 'gabor': 9170, 'designers': 9171, 'pled': 9172, 'settlers': 9173, 'transformation': 9174, 'EST': 9175, 'mitch': 9176, 'petraeus': 9177, 'wrongly': 9178, 'chains': 9179, 'counting': 9180, 'prasad': 9181, 'expires': 9182, 'eclipse': 9183, 'licensed': 9184, 'terrible': 9185, 'dustin': 9186, 'bidding': 9187, 'elena': 9188, 'anchorage': 9189, 'mideast': 9190, 'precision': 9191, 'patrols': 9192, 'inflationary': 9193, '27th': 9194, '103': 9195, 'fraudulent': 9196, 'richter': 9197, 'cease': 9198, 'comics': 9199, 'motorist': 9200, 'twoweek': 9201, 'drag': 9202, 'qualcomm': 9203, 'xperia': 9204, 'bernardino': 9205, 'casual': 9206, 'zynga': 9207, 'akhtar': 9208, 'manufactured': 9209, 'conspiring': 9210, 'sylvester': 9211, 'bishops': 9212, 'indy': 9213, 'tortured': 9214, 'lotus': 9215, '113': 9216, 'endorsing': 9217, 'splitting': 9218, 'millennium': 9219, 'pupil': 9220, 'reductions': 9221, 'gyllenhaal': 9222, 'farmington': 9223, '10yearold': 9224, 'rotary': 9225, 'felonies': 9226, 'ajax': 9227, 'costcutting': 9228, 'reader': 9229, 'sixmonth': 9230, 'orthodox': 9231, 'servers': 9232, 'strauss': 9233, 'G20': 9234, 'spiderman': 9235, 'wore': 9236, 'petty': 9237, 'produces': 9238, 'airstrike': 9239, '850': 9240, 'disgraced': 9241, 'aluminium': 9242, 'duck': 9243, 'misleading': 9244, 'treasure': 9245, 'stamps': 9246, 'berkshire': 9247, 'namibia': 9248, 'exposing': 9249, 'builders': 9250, 'â': 9251, 'hung': 9252, 'fabrice': 9253, 'slalom': 9254, 'closet': 9255, 'graphics': 9256, 'credible': 9257, 'abuses': 9258, 'yanukovych': 9259, 'shelf': 9260, 'harder': 9261, 'jacobs': 9262, '06': 9263, 'bhutto': 9264, 'israelis': 9265, 'blocking': 9266, 'lesson': 9267, 'mozambique': 9268, 'timor': 9269, 'leona': 9270, 'rescheduled': 9271, 'consolidated': 9272, 'marvin': 9273, 'indicators': 9274, 'frontline': 9275, 'referred': 9276, 'heineken': 9277, 'starred': 9278, 'roland': 9279, 'pumps': 9280, 'identifying': 9281, 'intensify': 9282, 'hijack': 9283, 'surges': 9284, 'shrinks': 9285, 'LK': 9286, 'turnaround': 9287, 'proves': 9288, 'commentator': 9289, 'FX': 9290, 'deadliest': 9291, 'insurgent': 9292, 'stimulate': 9293, 'assists': 9294, 'threetime': 9295, 'buenos': 9296, 'aires': 9297, '42yearold': 9298, 'snowden': 9299, 'johns': 9300, 'lufthansa': 9301, 'BCCI': 9302, 'kiev': 9303, 'peers': 9304, 'ratio': 9305, 'MTN': 9306, 'topic': 9307, 'surprisingly': 9308, 'widening': 9309, 'longrunning': 9310, 'jain': 9311, 'christine': 9312, 'controllers': 9313, '37yearold': 9314, 'cult': 9315, 'elimination': 9316, 'divorced': 9317, 'budapest': 9318, 'hon': 9319, 'copenhagen': 9320, 'acceptance': 9321, 'luxembourg': 9322, 'festive': 9323, 'junk': 9324, 'gamble': 9325, 'clint': 9326, 'outskirts': 9327, 'insurgency': 9328, 'corridor': 9329, 'anxiety': 9330, 'lend': 9331, 'pools': 9332, 'flintoff': 9333, 'handful': 9334, 'hardy': 9335, 'greens': 9336, 'decreased': 9337, 'apprentice': 9338, 'carney': 9339, 'CIS': 9340, 'approvals': 9341, 'SAS': 9342, 'pursuing': 9343, 'sargsyan': 9344, 'pepsi': 9345, 'corporations': 9346, 'pianist': 9347, 'naples': 9348, 'coordination': 9349, 'modified': 9350, 'column': 9351, 'horrific': 9352, 'hottest': 9353, 'peer': 9354, 'colonel': 9355, 'patna': 9356, 'fallon': 9357, 'huckabee': 9358, 'bayer': 9359, 'colbert': 9360, 'adequate': 9361, 'weeklong': 9362, 'ahmedabad': 9363, 'spate': 9364, 'lowering': 9365, 'supervision': 9366, 'cadbury': 9367, 'continuous': 9368, 'niger': 9369, 'middlesbrough': 9370, 'irrigation': 9371, 'meal': 9372, 'USS': 9373, '111': 9374, 'enrichment': 9375, 'onboard': 9376, 'weighing': 9377, 'connecting': 9378, 'karan': 9379, 'stafford': 9380, 'elephants': 9381, 'ga': 9382, 'sands': 9383, 'finalised': 9384, 'darfur': 9385, 'affirms': 9386, '220': 9387, 'supplements': 9388, 'amendments': 9389, '2017': 9390, 'eastman': 9391, 'relieved': 9392, 'exist': 9393, 'impersonating': 9394, 'tactics': 9395, 'meter': 9396, 'honeymoon': 9397, 'upsets': 9398, 'drills': 9399, 'gloria': 9400, 'composition': 9401, 'daryl': 9402, 'handgun': 9403, 'granting': 9404, 'skier': 9405, 'GP': 9406, 'pawar': 9407, 'whales': 9408, '124': 9409, 'shields': 9410, 'soybean': 9411, '2018': 9412, 'prostitute': 9413, 'vonn': 9414, 'failures': 9415, 'schmidt': 9416, 'boone': 9417, '109': 9418, 'underlying': 9419, 'lazio': 9420, 'anfield': 9421, 'regulate': 9422, 'reply': 9423, 'playground': 9424, 'salvador': 9425, 'instant': 9426, 'tier': 9427, 'nate': 9428, 'farming': 9429, 'chairperson': 9430, 'auditor': 9431, 'kia': 9432, 'pardew': 9433, 'overtake': 9434, 'leap': 9435, 'lefthander': 9436, 'suicidal': 9437, '1800': 9438, 'jackman': 9439, 'rip': 9440, 'thermo': 9441, 'chandler': 9442, 'hitler': 9443, 'inaugurates': 9444, 'taxation': 9445, 'qb': 9446, 'evicted': 9447, 'spinal': 9448, 'primarily': 9449, 'lifeline': 9450, 'technological': 9451, 'threegame': 9452, 'ancelotti': 9453, 'sealed': 9454, 'lancashire': 9455, 'savage': 9456, 'campaigners': 9457, 'pressured': 9458, 'kelsey': 9459, 'chronicle': 9460, 'geological': 9461, 'credited': 9462, 'cherokee': 9463, 'harrington': 9464, 'meaningful': 9465, 'prolific': 9466, 'ark': 9467, '31st': 9468, 'candidacy': 9469, 'colony': 9470, '170': 9471, 'tab': 9472, 'observer': 9473, 'lunar': 9474, 'patriotic': 9475, 'sacred': 9476, 'mercantile': 9477, 'goalless': 9478, 'component': 9479, 'sania': 9480, 'brighton': 9481, 'fiction': 9482, 'vigil': 9483, 'bacteria': 9484, 'sao': 9485, 'colonial': 9486, 'spa': 9487, 'rodham': 9488, 'disappearance': 9489, 'erin': 9490, 'naming': 9491, 'float': 9492, 'paternity': 9493, 'portrait': 9494, 'swayze': 9495, 'resisting': 9496, 'ACC': 9497, 'romo': 9498, 'loyal': 9499, 'hospice': 9500, 'moose': 9501, 'wonderful': 9502, 'eyeing': 9503, 'mask': 9504, 'inform': 9505, 'sundance': 9506, 'attendants': 9507, 'memorandum': 9508, 'chooses': 9509, 'princeton': 9510, 'tide': 9511, 'obstruction': 9512, 'lure': 9513, 'outreach': 9514, 'tori': 9515, 'rabies': 9516, 'gibb': 9517, 'spokane': 9518, 'unlimited': 9519, 'keegan': 9520, 'santander': 9521, 'yy': 9522, 'mammoth': 9523, 'basu': 9524, 'regret': 9525, 'karen': 9526, 'root': 9527, 'missions': 9528, 'atop': 9529, 'affects': 9530, 'samples': 9531, '650': 9532, 'landfill': 9533, 'dissolve': 9534, 'asheville': 9535, 'smooth': 9536, 'grip': 9537, '600000': 9538, 'cialis': 9539, 'apologize': 9540, 'eleven': 9541, 'UConn': 9542, 'basement': 9543, 'sanctuary': 9544, 'patrice': 9545, 'MW': 9546, 'edwin': 9547, 'expenditure': 9548, 'letting': 9549, 'eminem': 9550, 'madden': 9551, 'impending': 9552, 'artificial': 9553, 'hudgens': 9554, 'competitiveness': 9555, 'upto': 9556, 'cody': 9557, 'jihad': 9558, 'capsizes': 9559, 'conflicts': 9560, 'caretaker': 9561, 'rings': 9562, 'focuses': 9563, 'aerial': 9564, 'auctioned': 9565, 'rides': 9566, 'apollo': 9567, 'zoning': 9568, 'precautionary': 9569, 'pedestrians': 9570, 'USled': 9571, 'limiting': 9572, 'ear': 9573, 'TNA': 9574, 'lumpur': 9575, 'exceeded': 9576, 'stepfather': 9577, 'amend': 9578, 'hiatus': 9579, 'travels': 9580, 'addict': 9581, 'iPads': 9582, 'maid': 9583, 'putnam': 9584, 'deserved': 9585, 'redistricting': 9586, 'taxpayer': 9587, '200809': 9588, 'aer': 9589, 'carla': 9590, 'concedes': 9591, 'extortion': 9592, 'appliances': 9593, 'firearm': 9594, 'turtle': 9595, 'honest': 9596, 'ramadan': 9597, 'hop': 9598, 'leaf': 9599, 'labourers': 9600, 'pensioners': 9601, 'slur': 9602, 'hoffman': 9603, 'vow': 9604, 'upholds': 9605, 'nominates': 9606, 'except': 9607, 'breaches': 9608, 'gerald': 9609, 'gupta': 9610, 'victories': 9611, 'paramount': 9612, '3yearold': 9613, 'jong': 9614, 'carnegie': 9615, 'outing': 9616, 'dynamo': 9617, 'specialists': 9618, 'consultations': 9619, '1997': 9620, 'homage': 9621, 'conversation': 9622, 'meningitis': 9623, 'achieves': 9624, 'exercised': 9625, 'waziristan': 9626, 'moratorium': 9627, 'bachelor': 9628, 'touchdown': 9629, 'conclusion': 9630, 'ole': 9631, 'underwater': 9632, 'submarine': 9633, 'chi': 9634, 'costars': 9635, 'inked': 9636, 'styles': 9637, 'cairn': 9638, 'kimoon': 9639, 'capped': 9640, 'flats': 9641, 'timberwolves': 9642, 'movements': 9643, 'frame': 9644, 'deemed': 9645, 'choosing': 9646, 'concession': 9647, 'counterterrorism': 9648, 'ISD': 9649, 'slashing': 9650, 'megastar': 9651, 'here': 9652, 'serzh': 9653, 'comply': 9654, 'knifepoint': 9655, 'guaranteed': 9656, 'ki': 9657, 'savannah': 9658, 'collapsing': 9659, 'offenses': 9660, 'roanoke': 9661, 'shilpa': 9662, 'tyre': 9663, 'kristin': 9664, 'MLB': 9665, 'negligent': 9666, 'mahinda': 9667, 'photographs': 9668, 'finalists': 9669, 'larceny': 9670, 'summoned': 9671, 'wandering': 9672, 'respective': 9673, 'threeyearold': 9674, 'imagine': 9675, 'barrett': 9676, '630': 9677, 'belarusian': 9678, 'flame': 9679, 'congestion': 9680, 'gainesville': 9681, 'NV': 9682, 'implementing': 9683, 'patriarch': 9684, 'McQueen': 9685, 'cypriot': 9686, 'confusion': 9687, 'verge': 9688, 'warfare': 9689, 'kochi': 9690, 'braced': 9691, 'OK': 9692, 'bean': 9693, 'jamaican': 9694, 'predators': 9695, 'repaired': 9696, 'module': 9697, 'conway': 9698, 'bynes': 9699, 'WTA': 9700, 'yorkbased': 9701, 'pavilion': 9702, 'gadkari': 9703, 'pray': 9704, 'luiz': 9705, 'opt': 9706, 'sunni': 9707, 'sectarian': 9708, 'hiked': 9709, 'guatemala': 9710, 'serb': 9711, 'calhoun': 9712, 'flows': 9713, 'confiscated': 9714, '550': 9715, 'jokes': 9716, 'snake': 9717, 'troubles': 9718, '33yearold': 9719, 'GCC': 9720, 'trinidad': 9721, 'aides': 9722, 'categories': 9723, 'hayward': 9724, 'allamerican': 9725, 'joyce': 9726, 'unnamed': 9727, 'listening': 9728, 'gangster': 9729, 'expired': 9730, 'ID': 9731, 'stuttgart': 9732, 'assemblyman': 9733, 'nassau': 9734, 'bloomington': 9735, 'background': 9736, 'emerges': 9737, 'wolfsburg': 9738, 'unwanted': 9739, 'reactors': 9740, 'optical': 9741, 'seymour': 9742, 'IRIS': 9743, 'speedy': 9744, 'questionable': 9745, 'motivated': 9746, 'synthetic': 9747, 'alpha': 9748, 'mentioned': 9749, 'pistons': 9750, 'persuade': 9751, 'UC': 9752, 'lithuania': 9753, 'jaipur': 9754, 'kane': 9755, 'separation': 9756, 'expressing': 9757, 'arthritis': 9758, 'porter': 9759, 'geoff': 9760, 'lautner': 9761, 'salmon': 9762, 'await': 9763, 'forestry': 9764, 'EMC': 9765, 'taser': 9766, 'vogue': 9767, 'soup': 9768, 'explosions': 9769, 'aggression': 9770, 'initiates': 9771, 'scooter': 9772, 'consistent': 9773, 'motorsports': 9774, 'therefore': 9775, 'xerox': 9776, 'selloff': 9777, 'valve': 9778, 'containers': 9779, 'warne': 9780, 'representation': 9781, 'DMK': 9782, 'denny': 9783, 'locally': 9784, 'waterfront': 9785, 'generally': 9786, 'conducts': 9787, 'rey': 9788, 'grab': 9789, 'festivals': 9790, 'downside': 9791, 'CHICAGO': 9792, 'bipartisan': 9793, 'churchill': 9794, 'casualty': 9795, 'closest': 9796, 'dolphin': 9797, 'tolerance': 9798, 'klein': 9799, 'intensified': 9800, 'tale': 9801, 'marshal': 9802, 'twoyearold': 9803, 'shrine': 9804, 'IRS': 9805, 'secretarygeneral': 9806, 'sainsbury': 9807, 'cameroon': 9808, 'benefiting': 9809, 'roshan': 9810, 'tbilisi': 9811, 'tall': 9812, 'prakash': 9813, 'prescribed': 9814, 'legion': 9815, 'rivalry': 9816, 'reads': 9817, 'madhya': 9818, 'meyer': 9819, 'sits': 9820, 'disc': 9821, 'sophie': 9822, 'ventura': 9823, 'labels': 9824, 'adverse': 9825, 'tesla': 9826, 'clara': 9827, 'memoir': 9828, 'actual': 9829, 'cooling': 9830, 'saskatoon': 9831, 'smashing': 9832, 'kara': 9833, 'regularly': 9834, 'cheese': 9835, 'AUSTRALIAN': 9836, 'harding': 9837, 'marriages': 9838, 'supplying': 9839, 'dragging': 9840, 'fingers': 9841, 'offence': 9842, 'relevant': 9843, 'embrace': 9844, 'nash': 9845, 'knowles': 9846, 'shelters': 9847, 'surfaced': 9848, 'lingerie': 9849, 'kroger': 9850, 'shotgun': 9851, 'booth': 9852, 'palermo': 9853, 'careers': 9854, 'procurement': 9855, 'emanuel': 9856, 'santana': 9857, 'autonomous': 9858, 'conditioning': 9859, 'papua': 9860, 'corbett': 9861, 'travolta': 9862, 'restive': 9863, 'SM': 9864, 'pageant': 9865, 'hindus': 9866, 'recruited': 9867, 'comprising': 9868, 'pedro': 9869, 'haitian': 9870, 'sights': 9871, 'forget': 9872, 'avery': 9873, 'fiveday': 9874, 'opposing': 9875, 'marred': 9876, 'bourse': 9877, 'Q1': 9878, 'DS': 9879, 'versions': 9880, 'everyday': 9881, 'NH': 9882, 'whilst': 9883, 'proving': 9884, 'forks': 9885, 'candy': 9886, 'giro': 9887, 'refining': 9888, 'trek': 9889, 'aquarium': 9890, 'gareth': 9891, 'log': 9892, 'haul': 9893, 'zayed': 9894, 'jubilee': 9895, 'quota': 9896, 'cellphone': 9897, 'bounces': 9898, 'nike': 9899, 'africanamerican': 9900, 'sabres': 9901, 'bassist': 9902, 'recommend': 9903, 'cosmetic': 9904, 'armenians': 9905, 'incredibly': 9906, 'asleep': 9907, 'bogus': 9908, 'tow': 9909, 'lords': 9910, 'bale': 9911, 'olympia': 9912, 'kathy': 9913, 'complaining': 9914, 'shahrukh': 9915, 'teamed': 9916, 'ghanaian': 9917, 'snapping': 9918, 'ortiz': 9919, 'vetoes': 9920, '145': 9921, 'blackberry': 9922, 'yerevan': 9923, 'ethical': 9924, 'werder': 9925, 'bremen': 9926, 'convince': 9927, 'lauderdale': 9928, 'defrauding': 9929, 'rubbish': 9930, 'intoxicated': 9931, 'investigator': 9932, 'crosses': 9933, 'bullion': 9934, 'looming': 9935, 'beds': 9936, 'lifting': 9937, 'hebron': 9938, 'apache': 9939, 'negotiators': 9940, 'vegetable': 9941, 'peso': 9942, 'CRPF': 9943, 'flour': 9944, 'journalism': 9945, 'stan': 9946, 'headquartered': 9947, 'lorenzo': 9948, 'diplomacy': 9949, 'copies': 9950, 'politically': 9951, 'havana': 9952, 'TEHRAN': 9953, 'nestle': 9954, 'element': 9955, 'stabilize': 9956, 'raft': 9957, 'holes': 9958, 'conversion': 9959, 'arrow': 9960, '155': 9961, '18000': 9962, 'flynn': 9963, 'shakes': 9964, 'settlements': 9965, 'runaway': 9966, 'carpenter': 9967, 'frequently': 9968, 'spur': 9969, 'moammar': 9970, '70s': 9971, 'triangle': 9972, 'alexandria': 9973, 'joked': 9974, 'kan': 9975, 'CSI': 9976, 'scottsdale': 9977, 'doncaster': 9978, 'nordstrom': 9979, 'vicious': 9980, 'convictions': 9981, 'ugandan': 9982, 'staging': 9983, 'cancellation': 9984, 'marketers': 9985, 'dressing': 9986, 'noida': 9987, 'tendon': 9988, 'nightmare': 9989, 'dynamic': 9990, 'fayetteville': 9991, 'caucuses': 9992, 'robs': 9993, 'avatar': 9994, 'assurance': 9995, 'bury': 9996, 'aboriginal': 9997, 'randolph': 9998, 'condoleezza': 9999}\n"
     ]
    }
   ],
   "execution_count": 33
  },
  {
   "cell_type": "markdown",
   "metadata": {
    "collapsed": false,
    "pycharm": {
     "name": "#%% md\n"
    }
   },
   "source": [
    "<a name='e4'></a>\n",
    "### Exercise 4: Bag of Words\n",
    "(1p) Here we will create the bag-of-words representation of the sentences. The function will take a single sentence (list of tokens) and return an array of size `vocab_size` with the counts of each word in the vocabulary. The\n",
    "`vocab_size` is calculated as the length of the passed `token_to_id` dictionary. The resulting array should have zeros everywhere but the indices corresponding to the words in the vocabulary where it should have the counts of the words in the sentence. For example, if the sentence is `['fox', 'and', 'deer']` and the vocabulary is `{'fox': 0, 'and': 1, 'deer': 2}`, the resulting array should be `[1, 1, 1]`. If the sentence is `['fox', 'and', 'fox', 'deer']`, the resulting array should be `[2, 1, 1]`."
   ]
  },
  {
   "cell_type": "code",
   "metadata": {
    "collapsed": false,
    "pycharm": {
     "name": "#%%\n"
    },
    "ExecuteTime": {
     "end_time": "2025-04-20T21:52:43.691463Z",
     "start_time": "2025-04-20T21:52:43.687180Z"
    }
   },
   "source": [
    "def bag_of_words(sentence, token_to_id):\n",
    "    \"\"\"\n",
    "    Creates a bag-of-words representation of the sentence\n",
    "    Args:\n",
    "        sentence: a list of tokens\n",
    "        token_to_id: a dictionary mapping each word to an index in the vocabulary\n",
    "\n",
    "    Returns:: a numpy array of size vocab_size with the counts of each word in the vocabulary\n",
    "\n",
    "    \"\"\"\n",
    "    vocab_size = len(token_to_id)\n",
    "    bow = np.zeros(vocab_size, dtype=int)\n",
    "\n",
    "    ### YOUR CODE HERE\n",
    "    # copilot used when writing the code\n",
    "    for token in sentence:\n",
    "        if token in token_to_id:\n",
    "            index = token_to_id[token]\n",
    "            bow[index] += 1\n",
    "    ### YOUR CODE ENDS HERE\n",
    "\n",
    "    return bow"
   ],
   "outputs": [],
   "execution_count": 34
  },
  {
   "cell_type": "markdown",
   "metadata": {
    "collapsed": false,
    "pycharm": {
     "name": "#%% md\n"
    }
   },
   "source": [
    "Let's see how the function works on a single sentence. The output should be a numpy array of size `vocab_size` with the counts of each word in the vocabulary."
   ]
  },
  {
   "cell_type": "code",
   "metadata": {
    "collapsed": false,
    "pycharm": {
     "name": "#%%\n"
    },
    "ExecuteTime": {
     "end_time": "2025-04-20T21:52:43.704808Z",
     "start_time": "2025-04-20T21:52:43.688716Z"
    }
   },
   "source": [
    "print('Tokenized sentence:')\n",
    "print(tokenized_sentences[0])\n",
    "sentence_bow = bag_of_words(tokenized_sentences[0], token_to_id)\n",
    "\n",
    "print('Bag of words:')\n",
    "print(sentence_bow)\n",
    "print('Type of bag of words:')\n",
    "print(type(sentence_bow))\n",
    "print('Shape of bag of words:')\n",
    "print(sentence_bow.shape)\n",
    "print('Non-zero elements in bag of words:')\n",
    "print(np.nonzero(sentence_bow)[0])"
   ],
   "outputs": [
    {
     "name": "stdout",
     "output_type": "stream",
     "text": [
      "Tokenized sentence:\n",
      "['short', 'rain', 'thunderstorm', 'also', 'expected', 'yerevan', 'mostly', 'noon']\n",
      "Bag of words:\n",
      "[0 0 0 ... 0 0 0]\n",
      "Type of bag of words:\n",
      "<class 'numpy.ndarray'>\n",
      "Shape of bag of words:\n",
      "(10000,)\n",
      "Non-zero elements in bag of words:\n",
      "[ 137  441 1276 1457 2740 3156 6013 9923]\n"
     ]
    }
   ],
   "execution_count": 35
  },
  {
   "cell_type": "markdown",
   "metadata": {
    "collapsed": false,
    "pycharm": {
     "name": "#%% md\n"
    }
   },
   "source": [
    "We can also check in detail what words and their counts are in the bag-of-words representation."
   ]
  },
  {
   "cell_type": "code",
   "metadata": {
    "collapsed": false,
    "pycharm": {
     "name": "#%%\n"
    },
    "ExecuteTime": {
     "end_time": "2025-04-20T21:52:43.707026Z",
     "start_time": "2025-04-20T21:52:43.702604Z"
    }
   },
   "source": [
    "sentence_non_zero_bow = np.nonzero(sentence_bow)[0]\n",
    "print('Non-zero elements in bag of words:')\n",
    "print(sentence_non_zero_bow)\n",
    "for i in sentence_non_zero_bow:\n",
    "    print(vocab[i][0], ':', sentence_bow[i])"
   ],
   "outputs": [
    {
     "name": "stdout",
     "output_type": "stream",
     "text": [
      "Non-zero elements in bag of words:\n",
      "[ 137  441 1276 1457 2740 3156 6013 9923]\n",
      "expected : 1\n",
      "also : 1\n",
      "short : 1\n",
      "rain : 1\n",
      "noon : 1\n",
      "mostly : 1\n",
      "thunderstorm : 1\n",
      "yerevan : 1\n"
     ]
    }
   ],
   "execution_count": 36
  },
  {
   "cell_type": "markdown",
   "metadata": {
    "collapsed": false,
    "pycharm": {
     "name": "#%% md\n"
    }
   },
   "source": [
    "The following function will apply all the steps we implemented to a single sentence. It returns a bag of words representation that we will use to calculate the similarity between different sentences."
   ]
  },
  {
   "cell_type": "code",
   "metadata": {
    "collapsed": false,
    "pycharm": {
     "name": "#%%\n"
    },
    "ExecuteTime": {
     "end_time": "2025-04-20T21:53:22.792244Z",
     "start_time": "2025-04-20T21:53:22.764373Z"
    }
   },
   "source": [
    "def embed_text(text, clean_fn, tokenize_fn, embed_fn):\n",
    "    cleaned = clean_fn(text)\n",
    "    tokens = tokenize_fn(cleaned)\n",
    "    embedding = embed_fn(tokens)\n",
    "    return embedding"
   ],
   "outputs": [],
   "execution_count": null
  },
  {
   "cell_type": "markdown",
   "metadata": {
    "collapsed": false,
    "pycharm": {
     "name": "#%% md\n"
    }
   },
   "source": [
    "<a name='e5'></a>\n",
    "### Exercise 5: Cosine Similarity between two vectors\n",
    "\n",
    "(1p) Complete the following function that given any two vectors will compute the cosine similarity. If you don't remember the formula for the cosine similarity, revisit the course material. Notice that the function receives numpy arrays and recall that you can express cosine similarity as a dot product. Use numpy functions to write an efficient implementation."
   ]
  },
  {
   "cell_type": "code",
   "metadata": {
    "collapsed": false,
    "pycharm": {
     "name": "#%%\n"
    },
    "ExecuteTime": {
     "start_time": "2025-04-20T21:53:22.765441Z"
    }
   },
   "source": [
    "def cosine_similarity(vector1, vector2):\n",
    "    \"\"\"\n",
    "    Computes the cosine similarity between two vectors\n",
    "    Args:\n",
    "        vector1: numpy array of the first vector\n",
    "        vector2: numpy array of the second vector\n",
    "\n",
    "    Returns: cosine similarity\n",
    "\n",
    "    \"\"\"\n",
    "    ### YOUR CODE HERE\n",
    "    dot_product = np.dot(vector1, vector2)\n",
    "    # square root of the sum of squares of the vector1\n",
    "    divider = np.sqrt(np.dot(vector1, vector1))*np.sqrt(np.dot(vector2, vector2))\n",
    "    if divider == 0:\n",
    "        return 0.0\n",
    "    else:\n",
    "        return dot_product / divider\n",
    "    ### YOUR CODE ENDS HERE"
   ],
   "outputs": [],
   "execution_count": null
  },
  {
   "cell_type": "code",
   "metadata": {
    "collapsed": false,
    "pycharm": {
     "name": "#%%\n"
    },
    "ExecuteTime": {
     "start_time": "2025-04-20T21:53:22.767695Z"
    }
   },
   "source": [
    "cosine_similarity(np.array([0, 1, 2]), np.array([0, 2, 4]))"
   ],
   "outputs": [],
   "execution_count": null
  },
  {
   "cell_type": "code",
   "metadata": {
    "collapsed": false,
    "pycharm": {
     "name": "#%%\n"
    },
    "ExecuteTime": {
     "start_time": "2025-04-20T21:53:22.768825Z"
    }
   },
   "source": [
    "sentences = [\n",
    "    'The quick brown fox jumps over the lazy dog.',\n",
    "    'Some interesting document containin sentences.',\n",
    "    'The quick brown fox jumps over the lazy cat and some other stuff.',\n",
    "    'Fox and deer are not friends.',\n",
    "    'Fox and deer are not friends. But this document is a lot longer than the previous one. We can add sentence by sentence and see how the embeddings change.',\n",
    "]\n",
    "embedded_sentences = [\n",
    "    embed_text(sentence, clean, tokenize, lambda x: bag_of_words(x, token_to_id))\n",
    "    for sentence in sentences\n",
    "]\n",
    "\n",
    "query = 'fox and deer'\n",
    "embedded_query = embed_text(query, clean, tokenize, lambda x: bag_of_words(x, token_to_id))\n",
    "\n",
    "cosine_similarities = [\n",
    "    cosine_similarity(embedded_query, embedded_sentence)\n",
    "    for embedded_sentence in embedded_sentences\n",
    "]\n",
    "print(f'Query: {query}')\n",
    "for sent, cos_sim in zip(sentences, cosine_similarities):\n",
    "    print(f'Cosine Similarity: {cos_sim:.4f} - Sentence: {sent}')"
   ],
   "outputs": [],
   "execution_count": null
  },
  {
   "cell_type": "markdown",
   "metadata": {
    "collapsed": false,
    "pycharm": {
     "name": "#%% md\n"
    }
   },
   "source": [
    "We will apply the function to the whole dataset. This might take a while, so be patient. The result will be stored in the `sentence_bow` and `compressed_bow` fields of the dataset."
   ]
  },
  {
   "cell_type": "code",
   "metadata": {
    "collapsed": false,
    "pycharm": {
     "name": "#%%\n"
    },
    "ExecuteTime": {
     "start_time": "2025-04-20T21:53:22.769799Z"
    }
   },
   "source": [
    "def bag_of_words_dataset(example):\n",
    "    \"\"\"\n",
    "    Creates a bag-of-words representation of the sentence and compressed sentence in the example from the Dataset\n",
    "    Args:\n",
    "        example: an example from the Dataset\n",
    "\n",
    "    Returns: updated example with 'sentence_bow' and 'compressed_bow' columns\n",
    "\n",
    "    \"\"\"\n",
    "    sentence_tokens = example['sentence_tokens']\n",
    "    compressed_tokens = example['compressed_tokens']\n",
    "\n",
    "    sentence_bow = bag_of_words(sentence_tokens, token_to_id)\n",
    "    compressed_bow = bag_of_words(compressed_tokens, token_to_id)\n",
    "\n",
    "    example['sentence_bow'] = sentence_bow\n",
    "    example['compressed_bow'] = compressed_bow\n",
    "    return example"
   ],
   "outputs": [],
   "execution_count": null
  },
  {
   "cell_type": "markdown",
   "metadata": {
    "collapsed": false,
    "pycharm": {
     "name": "#%% md\n"
    }
   },
   "source": [
    "The following cell will apply the function to the whole dataset. The result will be stored in the `sentence_bow` and `compressed_bow` fields of the dataset. We will also convert the dataset's fields `sentence_bow` and `compressed_bow` to numpy format for easier manipulation."
   ]
  },
  {
   "cell_type": "code",
   "metadata": {
    "collapsed": false,
    "pycharm": {
     "name": "#%%\n"
    },
    "ExecuteTime": {
     "start_time": "2025-04-20T21:53:22.771070Z"
    }
   },
   "source": [
    "test_ds = split_ds['test'].map(bag_of_words_dataset)\n",
    "test_ds = test_ds.with_format('np', columns=['sentence_bow', 'compressed_bow'], dtype=float)\n",
    "print(test_ds)"
   ],
   "outputs": [],
   "execution_count": null
  },
  {
   "cell_type": "markdown",
   "metadata": {
    "collapsed": false,
    "pycharm": {
     "name": "#%% md\n"
    }
   },
   "source": [
    "Let's check the results. The `sentence_bow` and `compressed_bow` fields should contain the bag-of-words representation of the sentences and compressed sentences, respectively."
   ]
  },
  {
   "cell_type": "code",
   "metadata": {
    "collapsed": false,
    "pycharm": {
     "name": "#%%\n"
    },
    "ExecuteTime": {
     "end_time": "2025-04-20T21:53:52.482921Z",
     "start_time": "2025-04-20T21:53:52.415508Z"
    }
   },
   "source": [
    "print(test_ds[0])"
   ],
   "outputs": [
    {
     "name": "stdout",
     "output_type": "stream",
     "text": [
      "{'sentence_bow': array([0., 0., 0., ..., 0., 0., 0.]), 'compressed_bow': array([0., 0., 0., ..., 0., 0., 0.])}\n"
     ]
    }
   ],
   "execution_count": 48
  },
  {
   "cell_type": "code",
   "metadata": {
    "collapsed": false,
    "pycharm": {
     "name": "#%%\n"
    },
    "ExecuteTime": {
     "end_time": "2025-04-20T21:54:16.090476Z",
     "start_time": "2025-04-20T21:53:57.729016Z"
    }
   },
   "source": [
    "sentences_bows = test_ds['sentence_bow']\n",
    "print(sentences_bows.shape)"
   ],
   "outputs": [
    {
     "name": "stdout",
     "output_type": "stream",
     "text": [
      "(36000, 10000)\n"
     ]
    }
   ],
   "execution_count": 49
  },
  {
   "cell_type": "markdown",
   "metadata": {
    "collapsed": false,
    "pycharm": {
     "name": "#%% md\n"
    }
   },
   "source": [
    "Now we can start building a retriever based on the bag of words representation. The first step is to calculate the cosine similarity between two vectors."
   ]
  },
  {
   "cell_type": "markdown",
   "metadata": {
    "collapsed": false,
    "pycharm": {
     "name": "#%% md\n"
    }
   },
   "source": [
    "<a name='e6'></a>\n",
    "### Exercise 6: Cosine Similarity between a vector and an array of vectors\n",
    "\n",
    "(2p) The next step in our retrieval system, would be to calculate the proximity of a query to our retrieval corpus (in our case that is all the sentences).\n",
    "\n",
    "Complete the following function to calculate the cosine similarity between a vector (first parameter `vector`, that will usually be the query vector) and all other vectors (second parameter `other_vectors`, that will be the sentence embeddings in our case). Note that the `other_vectors` parameter is a single numpy array of size `N x D`, where $N$ is the number of vectors and $D$ is the dimension of each vector.\n",
    "\n",
    "For maximum efficiency (we will need it) do not use loops. Try to write the implementation with numpy functions. Hint: matrix multiplication can be seen as calculating the dot product between rows and columns of the multiplied matrices."
   ]
  },
  {
   "cell_type": "code",
   "metadata": {
    "id": "LgaV2b3fpSOR",
    "pycharm": {
     "name": "#%%\n"
    },
    "ExecuteTime": {
     "end_time": "2025-04-20T22:45:39.548653Z",
     "start_time": "2025-04-20T22:45:39.507274Z"
    }
   },
   "source": [
    "def cosine_similarity_1_to_n(vector, other_vectors):\n",
    "    \"\"\"\n",
    "    Calculates the cosine similarity between a single vector and other vectors.\n",
    "    Args:\n",
    "        vector: a numpy array representing a vector of D dimensions\n",
    "        other_vectors: a 2D numpy array representing other vectors (of the size NxD, where N is the number of vectors and D is their dimension)\n",
    "\n",
    "    Returns: a 1D numpy array of size N containing the cosine similarity between the vector and all the other vectors\n",
    "\n",
    "    \"\"\"\n",
    "\n",
    "    #### YOUR CODE HERE\n",
    "    #chatGPT Prompt: Can you explain what is this exercise about so I can understand how to do it?\n",
    "    #Formula for cosine similarity\n",
    "    #The nominator being the dot product of the vector with other vectors\n",
    "    dot_products = np.dot(other_vectors, vector)\n",
    "\n",
    "    #The denominator being the product of the norms\n",
    "    norm_vector = np.linalg.norm(vector)\n",
    "    norm_others = np.linalg.norm(other_vectors, axis=1)\n",
    "\n",
    "    #chatGPT suggestion for debugging to avoid division by zero\n",
    "    norms_product = norm_vector * norm_others + 1e-10\n",
    "\n",
    "    #cosine similarity according to the formula\n",
    "    cosine_sim = dot_products / norms_product\n",
    "    return cosine_sim\n",
    "    ### YOUR CODE ENDS HERE"
   ],
   "outputs": [],
   "execution_count": 60
  },
  {
   "cell_type": "markdown",
   "metadata": {
    "collapsed": false,
    "id": "irNqAJZLpSOR",
    "pycharm": {
     "name": "#%% md\n"
    }
   },
   "source": [
    "We will use the function to calculate the similarity of all sentences in the dataset to our query."
   ]
  },
  {
   "cell_type": "code",
   "metadata": {
    "collapsed": false,
    "pycharm": {
     "name": "#%%\n"
    },
    "ExecuteTime": {
     "end_time": "2025-04-20T22:51:58.687578Z",
     "start_time": "2025-04-20T22:51:58.672738Z"
    }
   },
   "source": [
    "query = 'fox and deer'\n",
    "embedded_query = embed_text(query, clean, tokenize, lambda x: bag_of_words(x, token_to_id))"
   ],
   "outputs": [],
   "execution_count": 70
  },
  {
   "cell_type": "code",
   "metadata": {
    "id": "uD9mVAhYpSOR",
    "pycharm": {
     "name": "#%%\n"
    },
    "ExecuteTime": {
     "end_time": "2025-04-20T22:52:01.992313Z",
     "start_time": "2025-04-20T22:51:59.093239Z"
    }
   },
   "source": [
    "query_similarity = cosine_similarity_1_to_n(embedded_query, sentences_bows)\n",
    "print(query_similarity.shape)\n",
    "print(query_similarity[:10])"
   ],
   "outputs": [
    {
     "name": "stdout",
     "output_type": "stream",
     "text": [
      "(36000,)\n",
      "[0. 0. 0. 0. 0. 0. 0. 0. 0. 0.]\n"
     ]
    }
   ],
   "execution_count": 71
  },
  {
   "cell_type": "markdown",
   "metadata": {
    "collapsed": false,
    "id": "_l3erVTNpSOR",
    "pycharm": {
     "name": "#%% md\n"
    }
   },
   "source": [
    "The following cell will select the most similar sentence."
   ]
  },
  {
   "cell_type": "code",
   "metadata": {
    "id": "0wWa4AWHpSOR",
    "pycharm": {
     "name": "#%%\n"
    },
    "ExecuteTime": {
     "end_time": "2025-04-20T22:52:05.202247Z",
     "start_time": "2025-04-20T22:52:05.195550Z"
    }
   },
   "source": [
    "most_similar = int(np.argmax(query_similarity))\n",
    "print(most_similar)\n",
    "print(query_similarity[most_similar])\n",
    "print(split_ds['test'][most_similar]['set'][0])"
   ],
   "outputs": [
    {
     "name": "stdout",
     "output_type": "stream",
     "text": [
      "35353\n",
      "0.4242640687059285\n",
      "Fox News announced Friday that it has hired Herman Cain, the spirited former presidential candidate and ex-pizza CEO, as a contributor for Fox News Channel and Fox Business Network.\n"
     ]
    }
   ],
   "execution_count": 72
  },
  {
   "cell_type": "markdown",
   "metadata": {
    "collapsed": false,
    "id": "fpdJHFD1pSOR",
    "pycharm": {
     "name": "#%% md\n"
    }
   },
   "source": [
    "The following function will return the indices of the top-k elements in the array."
   ]
  },
  {
   "cell_type": "code",
   "metadata": {
    "id": "QFUNI9elpSOS",
    "pycharm": {
     "name": "#%%\n"
    },
    "ExecuteTime": {
     "end_time": "2025-04-20T22:48:42.653746Z",
     "start_time": "2025-04-20T22:48:42.633081Z"
    }
   },
   "source": [
    "def top_k_indices(array, k, sorted=True):\n",
    "    \"\"\"\n",
    "    Returns top-k indices from the 1D array. If `sorted` is `True` the returned indices are sorted in the descending order\n",
    "    Args:\n",
    "        array: a 1D numpy array\n",
    "        k: a number of top indices to return\n",
    "        sorted: if True, the returned indices are sorted in descending order\n",
    "\n",
    "    Returns: a 1D array containing top-k indices\n",
    "\n",
    "    \"\"\"\n",
    "    top_k = np.argpartition(array, -k)[-k:]\n",
    "    if sorted:\n",
    "        selected = array[top_k]\n",
    "        sorted_selected = (-selected).argsort()\n",
    "        top_k = top_k[sorted_selected]\n",
    "    return top_k"
   ],
   "outputs": [],
   "execution_count": 66
  },
  {
   "cell_type": "code",
   "metadata": {
    "id": "nY8vvJdepSOS",
    "pycharm": {
     "name": "#%%\n"
    },
    "ExecuteTime": {
     "end_time": "2025-04-20T22:48:44.245579Z",
     "start_time": "2025-04-20T22:48:44.215462Z"
    }
   },
   "source": [
    "top_indices = top_k_indices(query_similarity, k=10).tolist()\n",
    "for idx in top_indices:\n",
    "    print(split_ds['test'][idx]['set'][0])\n",
    "    print(f'similarity: {query_similarity[idx]}')"
   ],
   "outputs": [
    {
     "name": "stdout",
     "output_type": "stream",
     "text": [
      "Fox News announced Friday that it has hired Herman Cain, the spirited former presidential candidate and ex-pizza CEO, as a contributor for Fox News Channel and Fox Business Network.\n",
      "similarity: 0.4242640687059285\n",
      "The dispute between Fox and Cablevision that left 3 million cable subscribers without Fox programming over the weekend has stretched into its third day.\n",
      "similarity: 0.365148371663444\n",
      "A Deer Lodge man was shot and killed in a weekend hunting accident at a campground southeast of Deer Lodge.\n",
      "similarity: 0.365148371663444\n",
      "Fox Broadcasting announced today it has renewed its drama Fringe for a fourth season, with Fox Entertainment President Kevin Reilly crediting its fans.\n",
      "similarity: 0.365148371663444\n",
      "The Scottish Premier League will remain on Fox in the United States following the relegation of Glasgow Rangers but broadcasts will be limited to the secondary network Fox Soccer Plus and the Internet.\n",
      "similarity: 0.31622776601183794\n",
      "-Megan Fox is to play Catwoman in the next Batman film.\n",
      "similarity: 0.31622776600683794\n",
      "Police are looking for a truck, or possibly bus, that caused a diesel fuel spill on Fox Hill and Fox Hollow roads, shutting them down for several hours into early Wednesday morning.\n",
      "similarity: 0.3086066999194219\n",
      "The Red Sox today claimed Twins pitcher Matt Fox on waivers, less than a week after Fox made a strong start for Minnesota in his major league debut.\n",
      "similarity: 0.3086066999194219\n",
      "Retailer HMV CEO Simon Fox has stepped down from his position.\n",
      "similarity: 0.2886751345864796\n",
      "Blunt complained about the group, ACORN, on Fox News today.\n",
      "similarity: 0.2886751345864796\n"
     ]
    }
   ],
   "execution_count": 67
  },
  {
   "cell_type": "markdown",
   "metadata": {
    "collapsed": false,
    "id": "BuRI2JzQpSOS",
    "pycharm": {
     "name": "#%% md\n"
    }
   },
   "source": [
    "<a name='e7'></a>\n",
    "### Exercise 7: Analyzing and improving BOW search results\n",
    "\n",
    "Experiment with different queries (taking into account the nature of the dataset and your insights from the analysis so far).\n",
    "Answer the following questions:\n",
    "- (5p) Does the search perform well? When does it fail? Discuss several examples that are we get an expected but also unexpected results (find at least 3 from each category). Provide reasons for the good/bad result in each case (e.g. is there some error in the data, is there some linguistic phenomenon that we don't capture, is something wrong with our modeling with average embeddings, ...)\n",
    "- (5p) If you see problems with search, how could you improve your implementation? Change the functions above, if you think there is room for improvement. Describe your changes and how they made the search better or (in case you made no changes) explain what made the search robust enough to work well."
   ]
  },
  {
   "cell_type": "code",
   "execution_count": null,
   "metadata": {
    "id": "sEQKHAvcpSOS",
    "pycharm": {
     "name": "#%%\n"
    },
    "ExecuteTime": {
     "start_time": "2025-04-20T21:53:22.777874Z"
    }
   },
   "outputs": [],
   "source": [
    "#### YOUR CODE HERE\n",
    "\n",
    "\n",
    "\n",
    "### YOUR CODE ENDS HERE"
   ]
  },
  {
   "cell_type": "markdown",
   "metadata": {
    "id": "eiIGTfq6eFI5",
    "pycharm": {
     "name": "#%% md\n"
    }
   },
   "source": [
    "// your comments"
   ]
  },
  {
   "cell_type": "markdown",
   "metadata": {
    "collapsed": false,
    "pycharm": {
     "name": "#%% md\n"
    }
   },
   "source": [
    "## 3. Term Frequency - Inverse Document Frequency (TF-IDF)\n",
    "\n",
    "In this section we will implement the TF-IDF algorithm. While BOW is a simple way to represent the documents, it has some limitations. For example, it does not take into account the importance of each word in the document. TF-IDF representation takes into account the frequency of each word in the document and the frequency of the word in the whole dataset. It is a widely used technique in information retrieval and text mining. Refer to the lecture slides for more details."
   ]
  },
  {
   "cell_type": "markdown",
   "metadata": {
    "collapsed": false,
    "pycharm": {
     "name": "#%% md\n"
    }
   },
   "source": [
    "<a name='e8'></a>\n",
    "### Exercise 8: Inverse Document Frequency (IDF)\n",
    "(5p) In this exercise, you will implement the TF-IDF algorithm. First, calculate Inverse Document Frequency (IDF) for each word in the vocabulary. Intuitively, it is a measure of how informative a word is based on the whole dataset. Consult the lecture slides for the details. The IDF is calculated as follows:\n",
    "$$\n",
    "IDF(t) = log_{10}(N/df(t))$$\n",
    "where $N$ is the total number of documents (sentences) in the dataset and $df(t)$ is the number of documents containing the word $t$.\n"
   ]
  },
  {
   "cell_type": "code",
   "execution_count": null,
   "metadata": {
    "collapsed": false,
    "pycharm": {
     "name": "#%%\n"
    }
   },
   "outputs": [],
   "source": [
    "def calculate_idf(bows):\n",
    "    \"\"\"\n",
    "    Calculates the IDF for each word in the vocabulary\n",
    "    Args:\n",
    "        bows: numpty array of size (N x D) where N is the number of documents and D is the vocabulary size\n",
    "\n",
    "    Returns: a numpy array of size D with IDF values for each token\n",
    "    \"\"\"\n",
    "\n",
    "    ### YOUR CODE HERE\n",
    " # copilot used when writing the code\n",
    "    n = bows.shape[0]\n",
    "    dft = np.sum(bows > 0, axis=0)\n",
    "    idf = np.where(dft > 0, np.log10(n / dft), 0)\n",
    "    return idf\n",
    "\n",
    "\n",
    "    ### YOUR CODE ENDS HERE\n",
    "\n",
    "idf = calculate_idf(sentences_bows)"
   ]
  },
  {
   "cell_type": "markdown",
   "metadata": {
    "collapsed": false,
    "pycharm": {
     "name": "#%% md\n"
    }
   },
   "source": [
    "<a name='e9'></a>\n",
    "### Exercise 9: TF-IDF\n",
    "- (5p) Calculate TF-IDF on the `test` subset of the dataset.\n",
    "- (5p) Analyze the search results based on your implemented TF-IDF. Does the search perform well? When does it fail? Discuss several examples that are we get an expected but also unexpected results (find at least 3 from each category). Provide reasons for the good/bad result in each case (e.g. is there some error in the data, is there some linguistic phenomenon that we don't capture, is something wrong with our modeling with average embeddings, ...)\n",
    "- (5p) Compare the results with the ones you got with the bag-of-words representation. Discuss the differences and similarities. Do you think TF-IDF is a better representation for this task? Why or why not? Provide examples to support your arguments.\n"
   ]
  },
  {
   "cell_type": "code",
   "execution_count": null,
   "metadata": {
    "collapsed": false,
    "pycharm": {
     "name": "#%%\n"
    }
   },
   "outputs": [],
   "source": [
    "### YOUR CODE HERE\n",
    "# copilot used when writing the code\n",
    "def calculate_tfidf(bows, idf):\n",
    "    \"\"\"\n",
    "    Calculates the TF-IDF for each word in the vocabulary\n",
    "    Args:\n",
    "        bows: numpy array of size (N x D) where N is the number of documents and D is the vocabulary size\n",
    "        idf: a numpy array of size D with IDF values for each token\n",
    "\n",
    "    returns: a numpy array of size (N x D) with TF-IDF values for each token in each document\n",
    "    \"\"\"\n",
    "    tf = bows.copy()\n",
    "    tf_weighted = np.where(tf > 0, 1 + np.log10(tf), 0)\n",
    "    weights = tf_weighted * idf\n",
    "    return weights\n",
    "\n",
    "results = calculate_tfidf(sentences_bows, idf)\n",
    "# print head of the results\n",
    "\n",
    "\n",
    "\n",
    "\n",
    "\n",
    "### YOUR CODE ENDS HERE\n",
    "\n",
    "### YOU CAN ADD MORE CELLS"
   ]
  },
  {
   "cell_type": "markdown",
   "metadata": {
    "collapsed": false,
    "pycharm": {
     "name": "#%% md\n"
    }
   },
   "source": [
    "// your comments"
   ]
  },
  {
   "cell_type": "markdown",
   "metadata": {
    "collapsed": false,
    "pycharm": {
     "name": "#%% md\n"
    }
   },
   "source": [
    "## 4. Word Embeddings\n",
    "\n",
    "In this section you will load the pre-trained word embeddings model - Glove. You can read more about it [here](https://aclanthology.org/D14-1162/) ([https://aclanthology.org/D14-1162/](https://aclanthology.org/D14-1162/)). The embeddings are trained on a large corpus of text and are available in different dimensions. We will start with the dimension of 100, but later you will be asked to experiment with other dimensions.\n",
    "Gensim library maintains a storage containing some pre-trained models. You can read more about it [here](https://github.com/piskvorky/gensim-data) ([https://github.com/piskvorky/gensim-data](https://github.com/piskvorky/gensim-data)). Be sure to read the README of this repository.\n",
    "\n",
    "Let's first load the info of what models are available."
   ]
  },
  {
   "cell_type": "code",
   "execution_count": 73,
   "metadata": {
    "collapsed": false,
    "pycharm": {
     "name": "#%%\n"
    },
    "ExecuteTime": {
     "end_time": "2025-04-20T23:53:36.967354Z",
     "start_time": "2025-04-20T23:53:36.364209Z"
    }
   },
   "outputs": [
    {
     "name": "stdout",
     "output_type": "stream",
     "text": [
      "{\n",
      "  \"fasttext-wiki-news-subwords-300\": {\n",
      "    \"num_records\": 999999,\n",
      "    \"file_size\": 1005007116,\n",
      "    \"base_dataset\": \"Wikipedia 2017, UMBC webbase corpus and statmt.org news dataset (16B tokens)\",\n",
      "    \"reader_code\": \"https://github.com/RaRe-Technologies/gensim-data/releases/download/fasttext-wiki-news-subwords-300/__init__.py\",\n",
      "    \"license\": \"https://creativecommons.org/licenses/by-sa/3.0/\",\n",
      "    \"parameters\": {\n",
      "      \"dimension\": 300\n",
      "    },\n",
      "    \"description\": \"1 million word vectors trained on Wikipedia 2017, UMBC webbase corpus and statmt.org news dataset (16B tokens).\",\n",
      "    \"read_more\": [\n",
      "      \"https://fasttext.cc/docs/en/english-vectors.html\",\n",
      "      \"https://arxiv.org/abs/1712.09405\",\n",
      "      \"https://arxiv.org/abs/1607.01759\"\n",
      "    ],\n",
      "    \"checksum\": \"de2bb3a20c46ce65c9c131e1ad9a77af\",\n",
      "    \"file_name\": \"fasttext-wiki-news-subwords-300.gz\",\n",
      "    \"parts\": 1\n",
      "  },\n",
      "  \"conceptnet-numberbatch-17-06-300\": {\n",
      "    \"num_records\": 1917247,\n",
      "    \"file_size\": 1225497562,\n",
      "    \"base_dataset\": \"ConceptNet, word2vec, GloVe, and OpenSubtitles 2016\",\n",
      "    \"reader_code\": \"https://github.com/RaRe-Technologies/gensim-data/releases/download/conceptnet-numberbatch-17-06-300/__init__.py\",\n",
      "    \"license\": \"https://github.com/commonsense/conceptnet-numberbatch/blob/master/LICENSE.txt\",\n",
      "    \"parameters\": {\n",
      "      \"dimension\": 300\n",
      "    },\n",
      "    \"description\": \"ConceptNet Numberbatch consists of state-of-the-art semantic vectors (also known as word embeddings) that can be used directly as a representation of word meanings or as a starting point for further machine learning. ConceptNet Numberbatch is part of the ConceptNet open data project. ConceptNet provides lots of ways to compute with word meanings, one of which is word embeddings. ConceptNet Numberbatch is a snapshot of just the word embeddings. It is built using an ensemble that combines data from ConceptNet, word2vec, GloVe, and OpenSubtitles 2016, using a variation on retrofitting.\",\n",
      "    \"read_more\": [\n",
      "      \"http://aaai.org/ocs/index.php/AAAI/AAAI17/paper/view/14972\",\n",
      "      \"https://github.com/commonsense/conceptnet-numberbatch\",\n",
      "      \"http://conceptnet.io/\"\n",
      "    ],\n",
      "    \"checksum\": \"fd642d457adcd0ea94da0cd21b150847\",\n",
      "    \"file_name\": \"conceptnet-numberbatch-17-06-300.gz\",\n",
      "    \"parts\": 1\n",
      "  },\n",
      "  \"word2vec-ruscorpora-300\": {\n",
      "    \"num_records\": 184973,\n",
      "    \"file_size\": 208427381,\n",
      "    \"base_dataset\": \"Russian National Corpus (about 250M words)\",\n",
      "    \"reader_code\": \"https://github.com/RaRe-Technologies/gensim-data/releases/download/word2vec-ruscorpora-300/__init__.py\",\n",
      "    \"license\": \"https://creativecommons.org/licenses/by/4.0/deed.en\",\n",
      "    \"parameters\": {\n",
      "      \"dimension\": 300,\n",
      "      \"window_size\": 10\n",
      "    },\n",
      "    \"description\": \"Word2vec Continuous Skipgram vectors trained on full Russian National Corpus (about 250M words). The model contains 185K words.\",\n",
      "    \"preprocessing\": \"The corpus was lemmatized and tagged with Universal PoS\",\n",
      "    \"read_more\": [\n",
      "      \"https://www.academia.edu/24306935/WebVectors_a_Toolkit_for_Building_Web_Interfaces_for_Vector_Semantic_Models\",\n",
      "      \"http://rusvectores.org/en/\",\n",
      "      \"https://github.com/RaRe-Technologies/gensim-data/issues/3\"\n",
      "    ],\n",
      "    \"checksum\": \"9bdebdc8ae6d17d20839dd9b5af10bc4\",\n",
      "    \"file_name\": \"word2vec-ruscorpora-300.gz\",\n",
      "    \"parts\": 1\n",
      "  },\n",
      "  \"word2vec-google-news-300\": {\n",
      "    \"num_records\": 3000000,\n",
      "    \"file_size\": 1743563840,\n",
      "    \"base_dataset\": \"Google News (about 100 billion words)\",\n",
      "    \"reader_code\": \"https://github.com/RaRe-Technologies/gensim-data/releases/download/word2vec-google-news-300/__init__.py\",\n",
      "    \"license\": \"not found\",\n",
      "    \"parameters\": {\n",
      "      \"dimension\": 300\n",
      "    },\n",
      "    \"description\": \"Pre-trained vectors trained on a part of the Google News dataset (about 100 billion words). The model contains 300-dimensional vectors for 3 million words and phrases. The phrases were obtained using a simple data-driven approach described in 'Distributed Representations of Words and Phrases and their Compositionality' (https://code.google.com/archive/p/word2vec/).\",\n",
      "    \"read_more\": [\n",
      "      \"https://code.google.com/archive/p/word2vec/\",\n",
      "      \"https://arxiv.org/abs/1301.3781\",\n",
      "      \"https://arxiv.org/abs/1310.4546\",\n",
      "      \"https://www.microsoft.com/en-us/research/publication/linguistic-regularities-in-continuous-space-word-representations/?from=http%3A%2F%2Fresearch.microsoft.com%2Fpubs%2F189726%2Frvecs.pdf\"\n",
      "    ],\n",
      "    \"checksum\": \"a5e5354d40acb95f9ec66d5977d140ef\",\n",
      "    \"file_name\": \"word2vec-google-news-300.gz\",\n",
      "    \"parts\": 1\n",
      "  },\n",
      "  \"glove-wiki-gigaword-50\": {\n",
      "    \"num_records\": 400000,\n",
      "    \"file_size\": 69182535,\n",
      "    \"base_dataset\": \"Wikipedia 2014 + Gigaword 5 (6B tokens, uncased)\",\n",
      "    \"reader_code\": \"https://github.com/RaRe-Technologies/gensim-data/releases/download/glove-wiki-gigaword-50/__init__.py\",\n",
      "    \"license\": \"http://opendatacommons.org/licenses/pddl/\",\n",
      "    \"parameters\": {\n",
      "      \"dimension\": 50\n",
      "    },\n",
      "    \"description\": \"Pre-trained vectors based on Wikipedia 2014 + Gigaword, 5.6B tokens, 400K vocab, uncased (https://nlp.stanford.edu/projects/glove/).\",\n",
      "    \"preprocessing\": \"Converted to w2v format with `python -m gensim.scripts.glove2word2vec -i <fname> -o glove-wiki-gigaword-50.txt`.\",\n",
      "    \"read_more\": [\n",
      "      \"https://nlp.stanford.edu/projects/glove/\",\n",
      "      \"https://nlp.stanford.edu/pubs/glove.pdf\"\n",
      "    ],\n",
      "    \"checksum\": \"c289bc5d7f2f02c6dc9f2f9b67641813\",\n",
      "    \"file_name\": \"glove-wiki-gigaword-50.gz\",\n",
      "    \"parts\": 1\n",
      "  },\n",
      "  \"glove-wiki-gigaword-100\": {\n",
      "    \"num_records\": 400000,\n",
      "    \"file_size\": 134300434,\n",
      "    \"base_dataset\": \"Wikipedia 2014 + Gigaword 5 (6B tokens, uncased)\",\n",
      "    \"reader_code\": \"https://github.com/RaRe-Technologies/gensim-data/releases/download/glove-wiki-gigaword-100/__init__.py\",\n",
      "    \"license\": \"http://opendatacommons.org/licenses/pddl/\",\n",
      "    \"parameters\": {\n",
      "      \"dimension\": 100\n",
      "    },\n",
      "    \"description\": \"Pre-trained vectors based on Wikipedia 2014 + Gigaword 5.6B tokens, 400K vocab, uncased (https://nlp.stanford.edu/projects/glove/).\",\n",
      "    \"preprocessing\": \"Converted to w2v format with `python -m gensim.scripts.glove2word2vec -i <fname> -o glove-wiki-gigaword-100.txt`.\",\n",
      "    \"read_more\": [\n",
      "      \"https://nlp.stanford.edu/projects/glove/\",\n",
      "      \"https://nlp.stanford.edu/pubs/glove.pdf\"\n",
      "    ],\n",
      "    \"checksum\": \"40ec481866001177b8cd4cb0df92924f\",\n",
      "    \"file_name\": \"glove-wiki-gigaword-100.gz\",\n",
      "    \"parts\": 1\n",
      "  },\n",
      "  \"glove-wiki-gigaword-200\": {\n",
      "    \"num_records\": 400000,\n",
      "    \"file_size\": 264336934,\n",
      "    \"base_dataset\": \"Wikipedia 2014 + Gigaword 5 (6B tokens, uncased)\",\n",
      "    \"reader_code\": \"https://github.com/RaRe-Technologies/gensim-data/releases/download/glove-wiki-gigaword-200/__init__.py\",\n",
      "    \"license\": \"http://opendatacommons.org/licenses/pddl/\",\n",
      "    \"parameters\": {\n",
      "      \"dimension\": 200\n",
      "    },\n",
      "    \"description\": \"Pre-trained vectors based on Wikipedia 2014 + Gigaword, 5.6B tokens, 400K vocab, uncased (https://nlp.stanford.edu/projects/glove/).\",\n",
      "    \"preprocessing\": \"Converted to w2v format with `python -m gensim.scripts.glove2word2vec -i <fname> -o glove-wiki-gigaword-200.txt`.\",\n",
      "    \"read_more\": [\n",
      "      \"https://nlp.stanford.edu/projects/glove/\",\n",
      "      \"https://nlp.stanford.edu/pubs/glove.pdf\"\n",
      "    ],\n",
      "    \"checksum\": \"59652db361b7a87ee73834a6c391dfc1\",\n",
      "    \"file_name\": \"glove-wiki-gigaword-200.gz\",\n",
      "    \"parts\": 1\n",
      "  },\n",
      "  \"glove-wiki-gigaword-300\": {\n",
      "    \"num_records\": 400000,\n",
      "    \"file_size\": 394362229,\n",
      "    \"base_dataset\": \"Wikipedia 2014 + Gigaword 5 (6B tokens, uncased)\",\n",
      "    \"reader_code\": \"https://github.com/RaRe-Technologies/gensim-data/releases/download/glove-wiki-gigaword-300/__init__.py\",\n",
      "    \"license\": \"http://opendatacommons.org/licenses/pddl/\",\n",
      "    \"parameters\": {\n",
      "      \"dimension\": 300\n",
      "    },\n",
      "    \"description\": \"Pre-trained vectors based on Wikipedia 2014 + Gigaword, 5.6B tokens, 400K vocab, uncased (https://nlp.stanford.edu/projects/glove/).\",\n",
      "    \"preprocessing\": \"Converted to w2v format with `python -m gensim.scripts.glove2word2vec -i <fname> -o glove-wiki-gigaword-300.txt`.\",\n",
      "    \"read_more\": [\n",
      "      \"https://nlp.stanford.edu/projects/glove/\",\n",
      "      \"https://nlp.stanford.edu/pubs/glove.pdf\"\n",
      "    ],\n",
      "    \"checksum\": \"29e9329ac2241937d55b852e8284e89b\",\n",
      "    \"file_name\": \"glove-wiki-gigaword-300.gz\",\n",
      "    \"parts\": 1\n",
      "  },\n",
      "  \"glove-twitter-25\": {\n",
      "    \"num_records\": 1193514,\n",
      "    \"file_size\": 109885004,\n",
      "    \"base_dataset\": \"Twitter (2B tweets, 27B tokens, 1.2M vocab, uncased)\",\n",
      "    \"reader_code\": \"https://github.com/RaRe-Technologies/gensim-data/releases/download/glove-twitter-25/__init__.py\",\n",
      "    \"license\": \"http://opendatacommons.org/licenses/pddl/\",\n",
      "    \"parameters\": {\n",
      "      \"dimension\": 25\n",
      "    },\n",
      "    \"description\": \"Pre-trained vectors based on 2B tweets, 27B tokens, 1.2M vocab, uncased (https://nlp.stanford.edu/projects/glove/).\",\n",
      "    \"preprocessing\": \"Converted to w2v format with `python -m gensim.scripts.glove2word2vec -i <fname> -o glove-twitter-25.txt`.\",\n",
      "    \"read_more\": [\n",
      "      \"https://nlp.stanford.edu/projects/glove/\",\n",
      "      \"https://nlp.stanford.edu/pubs/glove.pdf\"\n",
      "    ],\n",
      "    \"checksum\": \"50db0211d7e7a2dcd362c6b774762793\",\n",
      "    \"file_name\": \"glove-twitter-25.gz\",\n",
      "    \"parts\": 1\n",
      "  },\n",
      "  \"glove-twitter-50\": {\n",
      "    \"num_records\": 1193514,\n",
      "    \"file_size\": 209216938,\n",
      "    \"base_dataset\": \"Twitter (2B tweets, 27B tokens, 1.2M vocab, uncased)\",\n",
      "    \"reader_code\": \"https://github.com/RaRe-Technologies/gensim-data/releases/download/glove-twitter-50/__init__.py\",\n",
      "    \"license\": \"http://opendatacommons.org/licenses/pddl/\",\n",
      "    \"parameters\": {\n",
      "      \"dimension\": 50\n",
      "    },\n",
      "    \"description\": \"Pre-trained vectors based on 2B tweets, 27B tokens, 1.2M vocab, uncased (https://nlp.stanford.edu/projects/glove/)\",\n",
      "    \"preprocessing\": \"Converted to w2v format with `python -m gensim.scripts.glove2word2vec -i <fname> -o glove-twitter-50.txt`.\",\n",
      "    \"read_more\": [\n",
      "      \"https://nlp.stanford.edu/projects/glove/\",\n",
      "      \"https://nlp.stanford.edu/pubs/glove.pdf\"\n",
      "    ],\n",
      "    \"checksum\": \"c168f18641f8c8a00fe30984c4799b2b\",\n",
      "    \"file_name\": \"glove-twitter-50.gz\",\n",
      "    \"parts\": 1\n",
      "  },\n",
      "  \"glove-twitter-100\": {\n",
      "    \"num_records\": 1193514,\n",
      "    \"file_size\": 405932991,\n",
      "    \"base_dataset\": \"Twitter (2B tweets, 27B tokens, 1.2M vocab, uncased)\",\n",
      "    \"reader_code\": \"https://github.com/RaRe-Technologies/gensim-data/releases/download/glove-twitter-100/__init__.py\",\n",
      "    \"license\": \"http://opendatacommons.org/licenses/pddl/\",\n",
      "    \"parameters\": {\n",
      "      \"dimension\": 100\n",
      "    },\n",
      "    \"description\": \"Pre-trained vectors based on  2B tweets, 27B tokens, 1.2M vocab, uncased (https://nlp.stanford.edu/projects/glove/)\",\n",
      "    \"preprocessing\": \"Converted to w2v format with `python -m gensim.scripts.glove2word2vec -i <fname> -o glove-twitter-100.txt`.\",\n",
      "    \"read_more\": [\n",
      "      \"https://nlp.stanford.edu/projects/glove/\",\n",
      "      \"https://nlp.stanford.edu/pubs/glove.pdf\"\n",
      "    ],\n",
      "    \"checksum\": \"b04f7bed38756d64cf55b58ce7e97b15\",\n",
      "    \"file_name\": \"glove-twitter-100.gz\",\n",
      "    \"parts\": 1\n",
      "  },\n",
      "  \"glove-twitter-200\": {\n",
      "    \"num_records\": 1193514,\n",
      "    \"file_size\": 795373100,\n",
      "    \"base_dataset\": \"Twitter (2B tweets, 27B tokens, 1.2M vocab, uncased)\",\n",
      "    \"reader_code\": \"https://github.com/RaRe-Technologies/gensim-data/releases/download/glove-twitter-200/__init__.py\",\n",
      "    \"license\": \"http://opendatacommons.org/licenses/pddl/\",\n",
      "    \"parameters\": {\n",
      "      \"dimension\": 200\n",
      "    },\n",
      "    \"description\": \"Pre-trained vectors based on 2B tweets, 27B tokens, 1.2M vocab, uncased (https://nlp.stanford.edu/projects/glove/).\",\n",
      "    \"preprocessing\": \"Converted to w2v format with `python -m gensim.scripts.glove2word2vec -i <fname> -o glove-twitter-200.txt`.\",\n",
      "    \"read_more\": [\n",
      "      \"https://nlp.stanford.edu/projects/glove/\",\n",
      "      \"https://nlp.stanford.edu/pubs/glove.pdf\"\n",
      "    ],\n",
      "    \"checksum\": \"e52e8392d1860b95d5308a525817d8f9\",\n",
      "    \"file_name\": \"glove-twitter-200.gz\",\n",
      "    \"parts\": 1\n",
      "  },\n",
      "  \"__testing_word2vec-matrix-synopsis\": {\n",
      "    \"description\": \"[THIS IS ONLY FOR TESTING] Word vecrors of the movie matrix.\",\n",
      "    \"parameters\": {\n",
      "      \"dimensions\": 50\n",
      "    },\n",
      "    \"preprocessing\": \"Converted to w2v using a preprocessed corpus. Converted to w2v format with `python3.5 -m gensim.models.word2vec -train <input_filename> -iter 50 -output <output_filename>`.\",\n",
      "    \"read_more\": [],\n",
      "    \"checksum\": \"534dcb8b56a360977a269b7bfc62d124\",\n",
      "    \"file_name\": \"__testing_word2vec-matrix-synopsis.gz\",\n",
      "    \"parts\": 1\n",
      "  }\n",
      "}\n"
     ]
    }
   ],
   "source": [
    "import json\n",
    "import gensim.downloader as api\n",
    "\n",
    "info = api.info()  # show info about available models/datasets\n",
    "print(json.dumps(info['models'], indent=2))"
   ]
  },
  {
   "cell_type": "code",
   "execution_count": 74,
   "metadata": {
    "collapsed": false,
    "pycharm": {
     "name": "#%%\n"
    },
    "ExecuteTime": {
     "end_time": "2025-04-20T23:54:20.147229Z",
     "start_time": "2025-04-20T23:53:46.743769Z"
    }
   },
   "outputs": [
    {
     "name": "stdout",
     "output_type": "stream",
     "text": [
      "[=========-----------------------------------------] 18.3% 23.4/128.1MB downloaded"
     ]
    },
    {
     "name": "stderr",
     "output_type": "stream",
     "text": [
      "IOPub message rate exceeded.\n",
      "The notebook server will temporarily stop sending output\n",
      "to the client in order to avoid crashing it.\n",
      "To change this limit, set the config variable\n",
      "`--NotebookApp.iopub_msg_rate_limit`.\n",
      "\n",
      "Current values:\n",
      "NotebookApp.iopub_msg_rate_limit=1000.0 (msgs/sec)\n",
      "NotebookApp.rate_limit_window=3.0 (secs)\n",
      "\n"
     ]
    },
    {
     "name": "stdout",
     "output_type": "stream",
     "text": [
      "[==============================--------------------] 61.9% 79.2/128.1MB downloaded"
     ]
    },
    {
     "name": "stderr",
     "output_type": "stream",
     "text": [
      "IOPub message rate exceeded.\n",
      "The notebook server will temporarily stop sending output\n",
      "to the client in order to avoid crashing it.\n",
      "To change this limit, set the config variable\n",
      "`--NotebookApp.iopub_msg_rate_limit`.\n",
      "\n",
      "Current values:\n",
      "NotebookApp.iopub_msg_rate_limit=1000.0 (msgs/sec)\n",
      "NotebookApp.rate_limit_window=3.0 (secs)\n",
      "\n"
     ]
    },
    {
     "name": "stdout",
     "output_type": "stream",
     "text": [
      "[=========================================---------] 83.9% 107.5/128.1MB downloaded"
     ]
    },
    {
     "name": "stderr",
     "output_type": "stream",
     "text": [
      "IOPub message rate exceeded.\n",
      "The notebook server will temporarily stop sending output\n",
      "to the client in order to avoid crashing it.\n",
      "To change this limit, set the config variable\n",
      "`--NotebookApp.iopub_msg_rate_limit`.\n",
      "\n",
      "Current values:\n",
      "NotebookApp.iopub_msg_rate_limit=1000.0 (msgs/sec)\n",
      "NotebookApp.rate_limit_window=3.0 (secs)\n",
      "\n"
     ]
    },
    {
     "name": "stdout",
     "output_type": "stream",
     "text": [
      "[==================================================] 100.0% 128.1/128.1MB downloaded\n"
     ]
    }
   ],
   "source": [
    "glove_model = api.load(\"glove-wiki-gigaword-100\")"
   ]
  },
  {
   "cell_type": "markdown",
   "metadata": {
    "collapsed": false,
    "pycharm": {
     "name": "#%% md\n"
    }
   },
   "source": [
    "We can use the loaded model's `key_to_index` attribute to retrieve the whole vocabulary (aka for how many words we learned embeddings for)."
   ]
  },
  {
   "cell_type": "code",
   "execution_count": 75,
   "metadata": {
    "collapsed": false,
    "pycharm": {
     "name": "#%%\n"
    },
    "ExecuteTime": {
     "end_time": "2025-04-20T23:54:20.148915Z",
     "start_time": "2025-04-20T23:54:19.850052Z"
    }
   },
   "outputs": [
    {
     "name": "stdout",
     "output_type": "stream",
     "text": [
      "400000\n"
     ]
    }
   ],
   "source": [
    "vocab = list(glove_model.key_to_index)\n",
    "print(len(vocab))"
   ]
  },
  {
   "cell_type": "markdown",
   "metadata": {
    "collapsed": false,
    "pycharm": {
     "name": "#%% md\n"
    }
   },
   "source": [
    "Let's explore a bit further the embeddings. In the following cells, the embedding of a single word is returned. Double-check the dimensions (as sanity check). This is like inspecting the `W` matrix (weights) that we discussed in the lecture."
   ]
  },
  {
   "cell_type": "code",
   "execution_count": 76,
   "metadata": {
    "collapsed": false,
    "pycharm": {
     "name": "#%%\n"
    },
    "ExecuteTime": {
     "end_time": "2025-04-20T23:54:45.045509Z",
     "start_time": "2025-04-20T23:54:45.014388Z"
    }
   },
   "outputs": [
    {
     "data": {
      "text/plain": "array([-1.5180e-01,  3.8409e-01,  8.9340e-01, -4.2421e-01, -9.2161e-01,\n        3.7988e-02, -3.2026e-01,  3.4119e-03,  2.2101e-01, -2.2045e-01,\n        1.6661e-01,  2.1956e-01,  2.5325e-01, -2.9267e-01,  1.0171e-01,\n       -7.5491e-02, -6.0406e-02,  2.8194e-01, -5.8519e-01,  4.8271e-01,\n        1.7504e-02, -1.2086e-01, -1.0990e-01, -6.9554e-01,  1.5600e-01,\n        7.0558e-02, -1.5058e-01, -8.1811e-01, -1.8535e-01, -3.6863e-01,\n        3.1650e-02,  7.6616e-01,  8.4041e-02,  2.6928e-03, -2.7440e-01,\n        2.1815e-01, -3.5157e-02,  3.2569e-01,  1.0032e-01, -6.0932e-01,\n       -7.0316e-01,  1.8299e-01,  3.3134e-01, -1.2416e-01, -9.0542e-01,\n       -3.9157e-02,  4.4719e-01, -5.7338e-01, -4.0172e-01, -8.2234e-01,\n        5.5740e-01,  1.5101e-01,  2.4598e-01,  1.0113e+00, -4.6626e-01,\n       -2.7133e+00,  4.3273e-01, -1.6314e-01,  1.5828e+00,  5.5081e-01,\n       -2.4738e-01,  1.4184e+00, -1.6867e-02, -1.9368e-01,  1.0090e+00,\n       -5.9864e-02,  9.1853e-01,  4.3022e-01, -2.0624e-01,  7.6127e-02,\n        2.1595e-01, -2.6834e-01, -3.3342e-01, -3.7151e-01,  4.5197e-01,\n       -8.2460e-02,  3.2984e-01, -5.7376e-01, -1.3042e+00,  2.7121e-01,\n        6.6277e-01, -7.9626e-02, -7.9167e-01, -5.3662e-03, -1.7916e+00,\n       -3.3298e-01, -3.0698e-01, -3.3980e-01, -5.5618e-01, -6.9471e-01,\n        2.7427e-01, -2.1898e-01, -2.6714e-01,  2.2561e-03, -5.0178e-01,\n       -3.2775e-01, -4.5670e-01, -2.7123e-01,  2.2157e-01,  9.2112e-01],\n      dtype=float32)"
     },
     "execution_count": 76,
     "metadata": {},
     "output_type": "execute_result"
    }
   ],
   "source": [
    "# vector of a particular model. note that it is 100 dimensional as specified.\n",
    "glove_model['what']"
   ]
  },
  {
   "cell_type": "markdown",
   "metadata": {
    "collapsed": false,
    "pycharm": {
     "name": "#%% md\n"
    }
   },
   "source": [
    "Gensim objects offers different methods to easily run very common tasks. For example, there are different functions to find the most similar words.\n",
    "\n",
    "Check the documentation on how [`most_similar`](https://tedboy.github.io/nlps/generated/generated/gensim.models.Word2Vec.most_similar.html) and [`similar_by_word`](https://tedboy.github.io/nlps/generated/generated/gensim.models.Word2Vec.similar_by_word.html) can be used."
   ]
  },
  {
   "cell_type": "code",
   "execution_count": 77,
   "metadata": {
    "collapsed": false,
    "pycharm": {
     "name": "#%%\n"
    },
    "ExecuteTime": {
     "end_time": "2025-04-20T23:54:48.214577Z",
     "start_time": "2025-04-20T23:54:47.993517Z"
    }
   },
   "outputs": [
    {
     "name": "stdout",
     "output_type": "stream",
     "text": [
      "[('how', 0.930321455001831), ('why', 0.9196362495422363), ('fact', 0.9069437980651855), ('know', 0.8876389861106873), ('that', 0.8810365796089172), ('think', 0.8772969841957092), ('so', 0.8753098249435425), ('even', 0.8751895427703857), ('something', 0.874744176864624), ('if', 0.8702542781829834)]\n",
      "[('play', 0.6266525387763977), ('missed', 0.608065128326416), ('she', 0.596325695514679), ('chance', 0.5839369297027588), ('tournament', 0.5722586512565613)]\n"
     ]
    }
   ],
   "source": [
    "# most similar words to a given word\n",
    "print(glove_model.most_similar('what', topn=10))\n",
    "\n",
    "# also u can use\n",
    "print(glove_model.similar_by_word('miss', topn=5))"
   ]
  },
  {
   "cell_type": "code",
   "execution_count": 78,
   "metadata": {
    "collapsed": false,
    "pycharm": {
     "name": "#%%\n"
    },
    "ExecuteTime": {
     "end_time": "2025-04-20T23:54:48.642781Z",
     "start_time": "2025-04-20T23:54:48.609452Z"
    }
   },
   "outputs": [
    {
     "name": "stdout",
     "output_type": "stream",
     "text": [
      "[('know', 0.9440940618515015), ('what', 0.9196362495422363), ('think', 0.9086559414863586), ('how', 0.9020735621452332), ('tell', 0.8923122882843018), (\"n't\", 0.8890628814697266), ('sure', 0.8870969414710999), ('thought', 0.8747684955596924), ('believe', 0.8745115995407104), ('say', 0.8730074763298035)]\n"
     ]
    }
   ],
   "source": [
    "print(glove_model.most_similar('why', topn=10))"
   ]
  },
  {
   "cell_type": "code",
   "execution_count": 79,
   "metadata": {
    "collapsed": false,
    "pycharm": {
     "name": "#%%\n"
    },
    "ExecuteTime": {
     "end_time": "2025-04-20T23:54:49.773775Z",
     "start_time": "2025-04-20T23:54:49.654073Z"
    }
   },
   "outputs": [
    {
     "name": "stdout",
     "output_type": "stream",
     "text": [
      "[('whom', 0.8642492890357971), ('he', 0.8201969861984253), ('whose', 0.8143677711486816), ('had', 0.8035845160484314), ('others', 0.7708419561386108)]\n"
     ]
    }
   ],
   "source": [
    "print(glove_model.similar_by_word('who', topn=5))"
   ]
  },
  {
   "cell_type": "markdown",
   "metadata": {
    "collapsed": false,
    "pycharm": {
     "name": "#%% md\n"
    }
   },
   "source": [
    "We can now compare our implementation with the one in the pre-trained model and confirm what we already expected."
   ]
  },
  {
   "cell_type": "code",
   "execution_count": 80,
   "metadata": {
    "collapsed": false,
    "pycharm": {
     "name": "#%%\n"
    },
    "ExecuteTime": {
     "end_time": "2025-04-20T23:55:30.419262Z",
     "start_time": "2025-04-20T23:55:30.397696Z"
    }
   },
   "outputs": [
    {
     "name": "stdout",
     "output_type": "stream",
     "text": [
      "0.15712574\n",
      "0.15712576\n"
     ]
    }
   ],
   "source": [
    "# simalarity between two words\n",
    "word1 = 'alive'\n",
    "word2 = 'biology'\n",
    "print(glove_model.similarity(word1, word2))\n",
    "print(cosine_similarity(glove_model[word1], glove_model[word2]))"
   ]
  },
  {
   "cell_type": "code",
   "execution_count": 81,
   "metadata": {
    "collapsed": false,
    "pycharm": {
     "name": "#%%\n"
    },
    "ExecuteTime": {
     "end_time": "2025-04-20T23:55:50.183589Z",
     "start_time": "2025-04-20T23:55:50.152845Z"
    }
   },
   "outputs": [
    {
     "name": "stdout",
     "output_type": "stream",
     "text": [
      "0.6400604\n",
      "0.6400604\n"
     ]
    }
   ],
   "source": [
    "# simalarity between two words. similar words\n",
    "word1 = 'alive'\n",
    "word2 = 'life'\n",
    "print(glove_model.similarity(word1, word2))\n",
    "print(cosine_similarity(glove_model[word1], glove_model[word2]))"
   ]
  },
  {
   "cell_type": "code",
   "execution_count": 82,
   "metadata": {
    "collapsed": false,
    "pycharm": {
     "name": "#%%\n"
    },
    "ExecuteTime": {
     "end_time": "2025-04-20T23:55:56.592476Z",
     "start_time": "2025-04-20T23:55:56.571881Z"
    }
   },
   "outputs": [
    {
     "name": "stdout",
     "output_type": "stream",
     "text": [
      "0.71035177\n",
      "0.71035177\n"
     ]
    }
   ],
   "source": [
    "# simalarity between two words. dissimilar words\n",
    "word1 = 'alive'\n",
    "word2 = 'dead'\n",
    "print(glove_model.similarity(word1, word2))\n",
    "print(cosine_similarity(glove_model[word1], glove_model[word2]))"
   ]
  },
  {
   "cell_type": "code",
   "execution_count": 83,
   "metadata": {
    "collapsed": false,
    "pycharm": {
     "name": "#%%\n"
    },
    "ExecuteTime": {
     "end_time": "2025-04-20T23:55:58.028181Z",
     "start_time": "2025-04-20T23:55:58.008351Z"
    }
   },
   "outputs": [
    {
     "name": "stdout",
     "output_type": "stream",
     "text": [
      "0.34625494\n",
      "0.34625494\n"
     ]
    }
   ],
   "source": [
    "# simalarity between two words. unrelated words\n",
    "word1 = 'alive'\n",
    "word2 = 'horse'\n",
    "print(glove_model.similarity(word1, word2))\n",
    "print(cosine_similarity(glove_model[word1], glove_model[word2]))"
   ]
  },
  {
   "cell_type": "code",
   "execution_count": 84,
   "metadata": {
    "collapsed": false,
    "pycharm": {
     "name": "#%%\n"
    },
    "ExecuteTime": {
     "end_time": "2025-04-20T23:55:59.310976Z",
     "start_time": "2025-04-20T23:55:59.290421Z"
    }
   },
   "outputs": [
    {
     "name": "stdout",
     "output_type": "stream",
     "text": [
      "1.0\n",
      "1.0000001\n"
     ]
    }
   ],
   "source": [
    "# simalarity between two SAME words\n",
    "glove_model.similarity('equal', 'equal')\n",
    "word1 = 'equal'\n",
    "word2 = 'equal'\n",
    "print(glove_model.similarity(word1, word2))\n",
    "print(cosine_similarity(glove_model[word1], glove_model[word2]))"
   ]
  },
  {
   "cell_type": "markdown",
   "metadata": {
    "collapsed": false,
    "pycharm": {
     "name": "#%% md\n"
    }
   },
   "source": [
    "The next function contains the code to plot a similarity matrix between multiple words (e.g. if we want to compare 10 words and their pair-wise similarities). It requires a matrix with similarities (as input) and labels (aka the words) to display in the final figure."
   ]
  },
  {
   "cell_type": "code",
   "execution_count": 85,
   "metadata": {
    "collapsed": false,
    "pycharm": {
     "name": "#%%\n"
    },
    "ExecuteTime": {
     "end_time": "2025-04-20T23:56:11.800143Z",
     "start_time": "2025-04-20T23:56:11.771240Z"
    }
   },
   "outputs": [],
   "source": [
    "def plot_similarity_matrix(matrix, labels):\n",
    "    \"\"\"\n",
    "    Displays a plot of the `matrix` of size (N x N) with the labels specified as a list of size N\n",
    "    Args:\n",
    "        matrix: a square-sized (N x N) numpy array\n",
    "        labels: a list of strings of hte size N\n",
    "    \"\"\"\n",
    "\n",
    "    fig, ax = plt.subplots()\n",
    "    im = ax.imshow(matrix)\n",
    "\n",
    "    # Show all ticks and label them with the respective list entries\n",
    "    ax.set_xticks(np.arange(len(labels)), labels=labels)\n",
    "    ax.set_yticks(np.arange(len(labels)), labels=labels)\n",
    "\n",
    "    # Rotate the tick labels and set their alignment.\n",
    "    plt.setp(ax.get_xticklabels(), rotation=45, ha=\"right\",\n",
    "             rotation_mode=\"anchor\")\n",
    "\n",
    "    # Loop over data dimensions and create text annotations.\n",
    "    for i in range(len(labels)):\n",
    "        for j in range(len(labels)):\n",
    "            text = ax.text(j, i, f'{matrix[i, j]:.2f}',\n",
    "                           ha=\"center\", va=\"center\", color=\"w\")\n",
    "\n",
    "    # ax.set_title(\"Give a title if you want\")\n",
    "    fig.tight_layout()\n",
    "    plt.show()"
   ]
  },
  {
   "cell_type": "markdown",
   "metadata": {
    "collapsed": false,
    "pycharm": {
     "name": "#%% md\n"
    }
   },
   "source": [
    "<a name='e10'></a>\n",
    "### Exercise 10: Plotting similarities between words\n",
    "\n",
    "(10p) In the following, we will explore some properties of word embeddings through some examples. We will use 6 example words for this purpose but experiment with other set of words as well. Fill in the next cell to create a similarity matrix between a list of words.\n",
    "\n",
    "Experiment with different words and their similarities plotted. Try at least 3 different sets of words of at least 6 words each. Use the `plot_similarity_matrix` function to visualize the results.\n",
    "Comment on the results. Do they make sense? Why some words are closer to each other than others? What does it mean?"
   ]
  },
  {
   "cell_type": "code",
   "execution_count": 90,
   "metadata": {
    "collapsed": false,
    "pycharm": {
     "name": "#%%\n"
    },
    "ExecuteTime": {
     "end_time": "2025-04-21T00:06:04.870076Z",
     "start_time": "2025-04-21T00:06:04.790956Z"
    }
   },
   "outputs": [
    {
     "data": {
      "text/plain": "<Figure size 640x480 with 1 Axes>",
      "image/png": "[encoded data removed]"
     },
     "metadata": {},
     "output_type": "display_data"
    }
   ],
   "source": [
    "list_of_words = ['love', 'hate', 'life', 'equal', 'alive', 'dead']\n",
    "\n",
    "similarity_matrix = np.zeros((len(list_of_words), len(list_of_words)), dtype=float)\n",
    "\n",
    "### YOUR CODE HERE\n",
    "\n",
    "for i, w1 in enumerate(list_of_words):\n",
    "    for j, w2 in enumerate(list_of_words):\n",
    "        similarity_matrix[i, j] = glove_model.similarity(w1, w2)\n",
    "\n",
    "### YOUR CODE ENDS HERE\n",
    "\n",
    "\n",
    "plot_similarity_matrix(similarity_matrix, list_of_words)"
   ]
  },
  {
   "cell_type": "code",
   "execution_count": 93,
   "metadata": {
    "collapsed": false,
    "pycharm": {
     "name": "#%%\n"
    },
    "ExecuteTime": {
     "end_time": "2025-04-21T00:24:48.819013Z",
     "start_time": "2025-04-21T00:24:48.709918Z"
    }
   },
   "outputs": [
    {
     "data": {
      "text/plain": "<Figure size 640x480 with 1 Axes>",
      "image/png": "[encoded data removed]"
     },
     "metadata": {},
     "output_type": "display_data"
    }
   ],
   "source": [
    "#### YOUR CODE HERE\n",
    "\n",
    "list_of_words = ['cat', 'dog', 'lion', 'tiger', 'wolf', 'horse']\n",
    "\n",
    "similarity_matrix = np.zeros((len(list_of_words), len(list_of_words)), dtype=float)\n",
    "\n",
    "for i, w1 in enumerate(list_of_words):\n",
    "    for j, w2 in enumerate(list_of_words):\n",
    "        similarity_matrix[i, j] = glove_model.similarity(w1, w2)\n",
    "\n",
    "plot_similarity_matrix(similarity_matrix, list_of_words)\n",
    "\n",
    "### YOUR CODE ENDS HERE"
   ]
  },
  {
   "cell_type": "markdown",
   "source": [
    "Animals\n",
    "In the animal similarity picture, the words \"cat\" and \"dog\" are the most similar, which makes sense because they often appear together as pets. \"Lion\" and \"tiger\" also show strong similarity because they are both big wild cats. \"Wolf\" is somewhere in between, linking to both dogs and wild animals since it's a relative of the dog but also a predator. \"Horse\" is a bit different from the rest, but still shares some connection with \"cat\" and \"dog\", likely because all three are mentioned in contexts like farms or animal care. The least similar pairs are \"horse\" with \"wolf\" and \"tiger\", showing that those animals don’t often appear in the same kind of discussions."
   ],
   "metadata": {
    "collapsed": false
   }
  },
  {
   "cell_type": "markdown",
   "source": [],
   "metadata": {
    "collapsed": false
   }
  },
  {
   "cell_type": "code",
   "outputs": [
    {
     "data": {
      "text/plain": "<Figure size 640x480 with 1 Axes>",
      "image/png": "[encoded data removed]"
     },
     "metadata": {},
     "output_type": "display_data"
    }
   ],
   "source": [
    "# shortened by for loop \n",
    "words_space = ['planet', 'star', 'galaxy', 'comet', 'asteroid', 'nebula']\n",
    "sim_animals = np.array([[glove_model.similarity(a, b) for b in words_space]\n",
    "                        for a in words_space])\n",
    "plot_similarity_matrix(sim_animals, words_space)"
   ],
   "metadata": {
    "collapsed": false,
    "ExecuteTime": {
     "end_time": "2025-04-21T00:26:33.915012Z",
     "start_time": "2025-04-21T00:26:33.793505Z"
    }
   },
   "execution_count": 94
  },
  {
   "cell_type": "markdown",
   "source": [
    "Space\n",
    "In the space-related chart, \"comet\" and \"asteroid\" are very close to each other, which fits since they’re both small objects in space that orbit the sun and show up in the same kinds of science news. \"Galaxy\", \"star\", and \"nebula\" also appear somewhat close because they’re deep space objects seen in astronomy. \"Planet\" is pretty neutral and connects fairly well with all the others since it's a common term in space-related topics. \"Star\" has the weakest connection with \"asteroid\" and \"comet\", showing that those words don’t usually go together even if they’re all part of space talk."
   ],
   "metadata": {
    "collapsed": false
   }
  },
  {
   "cell_type": "code",
   "outputs": [
    {
     "data": {
      "text/plain": "<Figure size 640x480 with 1 Axes>",
      "image/png": "[encoded data removed]"
     },
     "metadata": {},
     "output_type": "display_data"
    }
   ],
   "source": [
    "words_urban = ['city', 'town', 'village', 'country', 'metropolis', 'suburb']\n",
    "sim_urban = np.array([[glove_model.similarity(a, b) for b in words_urban]\n",
    "                      for a in words_urban])\n",
    "plot_similarity_matrix(sim_urban, words_urban)"
   ],
   "metadata": {
    "collapsed": false,
    "ExecuteTime": {
     "end_time": "2025-04-21T00:12:01.913114Z",
     "start_time": "2025-04-21T00:12:01.839691Z"
    }
   },
   "execution_count": 92
  },
  {
   "cell_type": "markdown",
   "source": [
    "Places to Live\n",
    "In the plot with words about places to live, \"town\" and \"village\" are the most similar, and \"city\" is also very close to \"town\", which makes sense because they describe different sizes of populated areas. \"Suburb\" is more related to \"city\" and \"town\" than to \"country\", reflecting how suburbs are closer to urban areas and not the countryside. \"Metropolis\" sounds like it should match \"city\", but it’s not as close as expected, possibly because people use it in more dramatic or fictional contexts. \"Country\" is the least connected to the others, probably because the word has two meanings—rural area and nation—which can confuse the model."
   ],
   "metadata": {
    "collapsed": false
   }
  },
  {
   "cell_type": "code",
   "outputs": [
    {
     "data": {
      "text/plain": "<Figure size 640x480 with 1 Axes>",
      "image/png": "[encoded data removed]"
     },
     "metadata": {},
     "output_type": "display_data"
    }
   ],
   "source": [
    "words_cuisine = ['pizza', 'sushi', 'taco', 'curry', 'pasta', 'burger']\n",
    "sim_cuisines = np.array([[glove_model.similarity(a, b) for b in words_cuisine]\n",
    "                      for a in words_cuisine])\n",
    "plot_similarity_matrix(sim_cuisines, words_cuisine)"
   ],
   "metadata": {
    "collapsed": false,
    "ExecuteTime": {
     "end_time": "2025-04-21T00:27:31.334681Z",
     "start_time": "2025-04-21T00:27:31.230505Z"
    }
   },
   "execution_count": 95
  },
  {
   "cell_type": "markdown",
   "source": [
    "Food\n",
    "In the food chart, the strongest similarity is between \"pizza\" and \"burger\", which makes sense since they’re both popular fast foods. \"Pizza\" is also close to \"pasta\", showing the Italian food connection, and \"burger\" links well with \"taco\", likely because they’re both common in fast-food culture. \"Sushi\" stands out as the most different, especially compared to \"curry\", because it’s from a completely different cuisine and shows up in different types of conversations. \"Curry\" is also somewhat separate from the rest, as it’s usually mentioned in more traditional or spicy food contexts. Overall, the model groups the foods based on cuisine and how they are typically eaten—whether they’re fast food or part of specific cultural dishes."
   ],
   "metadata": {
    "collapsed": false
   }
  },
  {
   "cell_type": "markdown",
   "metadata": {
    "collapsed": false,
    "pycharm": {
     "name": "#%% md\n"
    }
   },
   "source": [
    " <a name='e11'></a>\n",
    "### Exercise 11: Other pre-trained word embeddings\n",
    "(10p) For this exercise, experiment with at least one different word embedding model. You can choose Glove with different dimensions or other pre-trained models. Use the gensim library to download and use the models.\n",
    "Plot similarity matrices between sets of words you used in the previous exercise and compare the results. Are there noticeable differences? Why (not)?"
   ]
  },
  {
   "cell_type": "code",
   "execution_count": null,
   "metadata": {
    "collapsed": false,
    "pycharm": {
     "name": "#%%\n"
    }
   },
   "outputs": [],
   "source": [
    "#### YOUR CODE HERE\n",
    "\n",
    "\n",
    "\n",
    "### YOUR CODE ENDS HERE"
   ]
  },
  {
   "cell_type": "markdown",
   "metadata": {
    "collapsed": false,
    "pycharm": {
     "name": "#%% md\n"
    }
   },
   "source": [
    "// your comments"
   ]
  },
  {
   "cell_type": "markdown",
   "metadata": {
    "collapsed": false,
    "pycharm": {
     "name": "#%% md\n"
    }
   },
   "source": [
    "## 5. Sentence Embeddings by Averaging Word Embeddings\n",
    "\n",
    "Word embeddings are a powerful model for representing words and their meaning (in terms of distributional similarity). As we discussed in class, we can use them in a wide variety of tasks with more complex architectures. Word vectors offer a dense vector for each word. What if we wanted to represent a sentence (or a document) based on word vectors. How can we do that?\n",
    "\n",
    "In the course, we will see different architectures that take into account the sequence of words (by combining their vectors). A first naive but simple and sometimes (as we are going to see) quite effective approach would be to represent a sentence with an embedding vector that is the average of the word vectors that form the sentence.\n",
    "\n",
    "So formally, this is what we are aiming for:\n",
    "\n",
    "$\n",
    "\\text{Sentence_Embedding} = \\frac{1}{N} \\sum_{i=1}^{N} \\text{Word_Embedding}_i\n",
    "$\n",
    "\n",
    "where:\n",
    "* $N$ is the number of words in a sentence\n",
    "* $\\text{Word_Embedding}_i$ is the word vector for the $i$-th in the sentence.\n",
    "\n",
    "Things to note:\n",
    "* The embedding vector for the sentence will obviously have the same dimension as the word embedding.\n",
    "* This representation ignores the word order (like bag-of-words). During the course we will see how we can overcome this limitation by using sequence models."
   ]
  },
  {
   "cell_type": "markdown",
   "metadata": {
    "collapsed": false,
    "pycharm": {
     "name": "#%% md\n"
    }
   },
   "source": [
    "<a name='e12'></a>\n",
    "### Exercise 12: Sentence Embedding\n",
    "\n",
    "(10p) Complete the function below that takes as input the sentence in the form of tokens (so it's a list of words) and calculates the sentence embedding vector. First, we would need to retrieve the word embeddings for each word from our loaded model and then average the vectors.\n",
    "\n",
    "Note: There can be cases where all tokens from a sentence are out-of-vocabulary words (OOV). Think what to do in this case and make sure to discuss it in the report."
   ]
  },
  {
   "cell_type": "code",
   "execution_count": null,
   "metadata": {
    "collapsed": false,
    "pycharm": {
     "name": "#%%\n"
    }
   },
   "outputs": [],
   "source": [
    "def embed_sentence_word_model(tokens, model):\n",
    "    \"\"\"\n",
    "    Calculates the sentence embedding by averaging the embeddings of the tokens\n",
    "    Args:\n",
    "        tokens: a list of words from the sentence\n",
    "        model: a trained word embeddings model\n",
    "\n",
    "    Returns: a numpy array of the sentence embedding\n",
    "\n",
    "    \"\"\"\n",
    "    #### YOUR CODE HERE\n",
    "    #### CAUTION: be sure to cover the case where all tokens are out-of-vocabulary!!!\n",
    "\n",
    "\n",
    "\n",
    "\n",
    "    ### YOUR CODE ENDS HERE"
   ]
  },
  {
   "cell_type": "markdown",
   "metadata": {
    "collapsed": false,
    "pycharm": {
     "name": "#%% md\n"
    }
   },
   "source": [
    "Now we can apply the function to the whole dataset. Here we do it both for the sentence and the compressed version. You should know it by now, but this operation might take some time. The next cells will apply your function to the whole dataset."
   ]
  },
  {
   "cell_type": "code",
   "execution_count": null,
   "metadata": {
    "collapsed": false,
    "pycharm": {
     "name": "#%%\n"
    }
   },
   "outputs": [],
   "source": [
    "def embed_sentence_word_model_dataset(example, model):\n",
    "    \"\"\"\n",
    "    Embeds the sentence and the compressed sentence in the example from the Dataset\n",
    "    Args:\n",
    "        example: an example from the Dataset\n",
    "        model: a trained word embeddings model\n",
    "\n",
    "    Returns: updated example with 'sentence_embedding' and 'compressed_embedding' columns\n",
    "\n",
    "    \"\"\"\n",
    "    sentence_tokens = example['sentence_tokens']\n",
    "    clean_compressed = example['clean_compressed']\n",
    "    compressed_tokens = tokenize(clean_compressed)\n",
    "\n",
    "    sentence_embedding = embed_sentence_word_model(sentence_tokens, model)\n",
    "    compressed_embedding = embed_sentence_word_model(compressed_tokens, model)\n",
    "\n",
    "    example['sentence_embedding'] = sentence_embedding\n",
    "    example['compressed_embedding'] = compressed_embedding\n",
    "    return example"
   ]
  },
  {
   "cell_type": "code",
   "execution_count": null,
   "metadata": {
    "collapsed": false,
    "pycharm": {
     "name": "#%%\n"
    }
   },
   "outputs": [],
   "source": [
    "test_ds = test_ds.map(embed_sentence_word_model_dataset, fn_kwargs={'model': glove_model})\n",
    "print(test_ds)"
   ]
  },
  {
   "cell_type": "code",
   "execution_count": null,
   "metadata": {
    "collapsed": false,
    "pycharm": {
     "name": "#%%\n"
    }
   },
   "outputs": [],
   "source": [
    "for i in range(10):\n",
    "    print(test_ds[i])"
   ]
  },
  {
   "cell_type": "markdown",
   "metadata": {
    "collapsed": false,
    "pycharm": {
     "name": "#%% md\n"
    }
   },
   "source": [
    "Here you can see that the new dataset returned a single numpy array containing all sentence embeddings in our dataset. This is a lot more efficient than returning a list of arrays (which is the default behaviour). Below we check the type and the dimensionality.\n",
    "\n",
    "We will be using `text` subset from our dataset to not use too much RAM."
   ]
  },
  {
   "cell_type": "code",
   "execution_count": null,
   "metadata": {
    "collapsed": false,
    "pycharm": {
     "name": "#%%\n"
    }
   },
   "outputs": [],
   "source": [
    "sent_embedding = test_ds['sentence_embedding']\n",
    "compr_embedding = test_ds['compressed_embedding']\n",
    "print(type(sent_embedding))\n",
    "print(sent_embedding.shape)\n",
    "print(type(compr_embedding))\n",
    "print(compr_embedding.shape)"
   ]
  },
  {
   "cell_type": "markdown",
   "metadata": {
    "collapsed": false,
    "pycharm": {
     "name": "#%% md\n"
    }
   },
   "source": [
    "Next we try the condensed representatin based on a simple query. Feel free to try different queries with different words. What happens if we have OOV words in a query?"
   ]
  },
  {
   "cell_type": "code",
   "execution_count": null,
   "metadata": {
    "collapsed": false,
    "pycharm": {
     "name": "#%%\n"
    }
   },
   "outputs": [],
   "source": [
    "query = 'fox and deer'\n",
    "print(query)\n",
    "\n",
    "query_embedding = embed_text(query, clean, tokenize, lambda x: embed_sentence_word_model(x, glove_model))\n",
    "print(query_embedding.shape)\n",
    "print(query_embedding)"
   ]
  },
  {
   "cell_type": "markdown",
   "metadata": {
    "collapsed": false,
    "pycharm": {
     "name": "#%% md\n"
    }
   },
   "source": [
    "<a name='e13'></a>\n",
    "### Exercise 13: Analyze sentence embeddings\n",
    "- (5p) Calculate similarity between the word embeddings representations of the selected queries and the dataset sentences.\n",
    "- (5p) Analyze the search results. Does the search work as expected? Discuss the results.\n",
    "- (5p) Compare the results with the ones you got with the bag-of-words and TF-IDF representation. Discuss the differences and similarities."
   ]
  },
  {
   "cell_type": "code",
   "execution_count": null,
   "metadata": {
    "collapsed": false,
    "pycharm": {
     "name": "#%%\n"
    }
   },
   "outputs": [],
   "source": [
    "### YOUR CODE HERE\n",
    "\n",
    "\n",
    "\n",
    "\n",
    "### YOUR CODE ENDS HERE"
   ]
  },
  {
   "cell_type": "markdown",
   "metadata": {
    "id": "ZY2jouFmeHOg",
    "pycharm": {
     "name": "#%% md\n"
    }
   },
   "source": [
    "## 6. Evaluating Retrieval\n",
    "\n",
    "In this last section we will try to evaluate how good our sentence retrieval system is. To keep the computational resources manageable, we will use the test set for that as its size is more manageable.\n",
    "\n",
    "Recall from the lecture in IR that there are several metrics to evaluate retrieval performance by taking into account the relevance of the retrieved results to the query. We will use Recall@K here (for more metrics and more details refer to the lecture slides and the textbooks).\n",
    "\n",
    "RRecall@K is a metric used to measure the effectiveness of a search system in retrieving relevant documents within the top $K$ retrieved documents. It calculates the proportion of relevant documents retrieved within the top-$K$ results, compared to the total number of relevant documents in the collection.\n",
    "\n",
    "$\n",
    "\\text{Recall@K} = \\frac{\\text{Number of relevant documents retrieved in the top }-K}{\\text{Total number of relevant documents}}\n",
    "$\n",
    "\n",
    "In our case, we have a sentence, and it's compressed version. To test our system, we will treat compressed sentences as the queries. Each query will have only a single relevant sentence - the corresponding uncompressed sentence.\n",
    "\n",
    "Therefore, for the calculation of Recall@K we will take into account whether the correct retrieved result is contained within the first $K$ retrieved results. For example, if for a query (i.e. a compressed sentence) we retrieve 10 results and within these we see the relevant one (i.e. the full sentence), then Recall@10 = 1."
   ]
  },
  {
   "cell_type": "markdown",
   "metadata": {
    "id": "QUKPtG-uem9f",
    "pycharm": {
     "name": "#%% md\n"
    }
   },
   "source": [
    "<a name='e14'></a>\n",
    "### Exercise 14: Cosine similarity between two sets of vectors\n",
    "\n",
    "(3p) In this exercise you will revisit your implementation of the cosine similarity. Generalize it so that it can accept two arrays containing two sets of vectors (first one containing $M$ vectors and the second one $N$ vectors). Compute the cosine similarity between each pair of vectors coming from the two sets. The result should be an array of size $M x N$.\n",
    "\n",
    "Once again, try to write an efficient code. This means no loops. Remember the relation between matrix multiplication and dot product. (Depending on your implementation of the previous function calculating cosine similarity, this one can be almost the same)"
   ]
  },
  {
   "cell_type": "code",
   "execution_count": null,
   "metadata": {
    "id": "xKiHDrN9eld7",
    "pycharm": {
     "name": "#%%\n"
    }
   },
   "outputs": [],
   "source": [
    "def cosine_similarity_m_to_n(vectors, other_vectors):\n",
    "    \"\"\"\n",
    "    Calculates the cosine similarity between a multiple vectors and other vectors.\n",
    "    Args:\n",
    "        vectors: a numpy array representing M number of vectors of D dimensions (of the size MxD)\n",
    "        other_vectors: a 2D numpy array representing other vectors (of the size NxD, where N is the number of vectors and D is their dimension)\n",
    "\n",
    "    Returns: a numpy array of cosine similarity between all the vectors and all the other vectors\n",
    "\n",
    "    \"\"\"\n",
    "\n",
    "    #### YOUR CODE HERE\n",
    "\n",
    "\n",
    "\n",
    "\n",
    "    ### YOUR CODE ENDS HERE"
   ]
  },
  {
   "cell_type": "markdown",
   "metadata": {
    "id": "qQ-Yhl1Sgoka",
    "pycharm": {
     "name": "#%% md\n"
    }
   },
   "source": [
    "The following function will use your implementation to calculate Recall@K based on the similarity matrix."
   ]
  },
  {
   "cell_type": "code",
   "execution_count": null,
   "metadata": {
    "id": "z0sLS3uRCfdh",
    "pycharm": {
     "name": "#%%\n"
    }
   },
   "outputs": [],
   "source": [
    "def calculate_recall(queries, sentences, k, batch_size=1000):\n",
    "    \"\"\"\n",
    "    Calculates recall@k given the embeddings of the queries and sentences.\n",
    "    Assumes that only a single sentence with the same index as query is relevant.\n",
    "    Batching is implemented to avoid high memory usage.\n",
    "    Args:\n",
    "        queries: a numpy array with the embeddings of N queries\n",
    "        sentences: a numpy array with the embeddings of N sentences available for retrieval\n",
    "        k: number of top results to search for the relevant sentence\n",
    "        batch_size: number of queries to process at a time\n",
    "\n",
    "    Returns: calculated recall@k\n",
    "\n",
    "    \"\"\"\n",
    "    n_queries = queries.shape[0]\n",
    "    correct = np.zeros(n_queries, dtype=bool)\n",
    "\n",
    "    with tqdm.tqdm(total=n_queries) as pbar:\n",
    "        for batch_start in range(0, n_queries, batch_size):\n",
    "            batch_end = min(batch_start + batch_size, n_queries)\n",
    "            queries_batch = queries[batch_start:batch_end]\n",
    "            batch_similarity = cosine_similarity_m_to_n(queries_batch, sentences)\n",
    "\n",
    "            for i, similarity_row in enumerate(batch_similarity):\n",
    "                query_index = batch_start + i\n",
    "                top_k = top_k_indices(similarity_row, k=k, sorted=False)\n",
    "\n",
    "                if query_index in top_k:\n",
    "                    correct[query_index] = True\n",
    "\n",
    "                pbar.update(1)\n",
    "\n",
    "    recall = np.sum(correct) / n_queries\n",
    "    return recall"
   ]
  },
  {
   "cell_type": "markdown",
   "metadata": {
    "id": "3QgAgMiDgw8m",
    "pycharm": {
     "name": "#%% md\n"
    }
   },
   "source": [
    "You can use it like so:"
   ]
  },
  {
   "cell_type": "code",
   "execution_count": null,
   "metadata": {
    "id": "Yxpex7ZxHM7c",
    "pycharm": {
     "name": "#%%\n"
    }
   },
   "outputs": [],
   "source": [
    "recall_at_1 = calculate_recall(compr_embedding, sent_embedding, k=1, batch_size=1000)\n",
    "print(f'\\n{recall_at_1 * 100:.2f}%')"
   ]
  },
  {
   "cell_type": "markdown",
   "metadata": {
    "id": "zY5ZVq5ogzMI",
    "pycharm": {
     "name": "#%% md\n"
    }
   },
   "source": [
    "<a name='e15'></a>\n",
    "### Exercise 15: Evaluating retrieval methods\n",
    "\n",
    "(10p) Calculate recall for different values of $K$ for all methods:\n",
    "- BOW,\n",
    "- TF-IDF,\n",
    "- Pre-trained embeddings.\n",
    "\n",
    "Discuss the results.\n",
    "Comment on how recall changes based on the value of $K$. Are the results expected or surprising?"
   ]
  },
  {
   "cell_type": "code",
   "execution_count": null,
   "metadata": {
    "collapsed": false,
    "pycharm": {
     "name": "#%%\n"
    }
   },
   "outputs": [],
   "source": [
    "#### YOUR CODE HERE\n",
    "\n",
    "\n",
    "\n",
    "### YOUR CODE ENDS HERE"
   ]
  },
  {
   "cell_type": "markdown",
   "metadata": {
    "collapsed": false,
    "pycharm": {
     "name": "#%% md\n"
    }
   },
   "source": [
    "<a name='e16'></a>\n",
    "### Exercise 16: Improving retrieval\n",
    "\n",
    "(10p) Imagine that you work at a company and are tasked with delivering the best retrieval method. Select the most promising one and try to improve the scores (e.g. by changing the vocab size, loading different model, etc.).\n",
    "Discuss the results you achieve, even if you didn't manage to improve the scores."
   ]
  },
  {
   "cell_type": "code",
   "execution_count": null,
   "metadata": {
    "id": "YA9bEm5ehMq8",
    "pycharm": {
     "name": "#%%\n"
    }
   },
   "outputs": [],
   "source": [
    "#### YOUR CODE HERE\n",
    "\n",
    "\n",
    "\n",
    "### YOUR CODE ENDS HERE"
   ]
  },
  {
   "cell_type": "markdown",
   "metadata": {
    "collapsed": false,
    "pycharm": {
     "name": "#%% md\n"
    }
   },
   "source": [
    "// your comments"
   ]
  }
 ],
 "metadata": {
  "colab": {
   "provenance": [],
   "toc_visible": true
  },
  "kernelspec": {
   "display_name": ".venv",
   "language": "python",
   "name": "python3"
  },
  "language_info": {
   "codemirror_mode": {
    "name": "ipython",
    "version": 3
   },
   "file_extension": ".py",
   "mimetype": "text/x-python",
   "name": "python",
   "nbconvert_exporter": "python",
   "pygments_lexer": "ipython3",
   "version": "3.12.2"
  }
 },
 "nbformat": 4,
 "nbformat_minor": 0
}

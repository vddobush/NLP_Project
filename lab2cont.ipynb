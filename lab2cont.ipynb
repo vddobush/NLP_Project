{
 "cells": [
  {
   "cell_type": "markdown",
   "metadata": {
    "collapsed": false,
    "id": "od2YkWY8pSOC",
    "pycharm": {
     "name": "#%% md\n"
    }
   },
   "source": [
    "# NLP 2025\n",
    "# Lab 2: Word Vectors and Information Retrieval\n",
    "\n",
    "During the first few weeks, we discussed various ways to represent text 📝. One key question was: What should be the basic unit of representation? Words are the fundamental building blocks 🧱.\n",
    "\n",
    "In this lab, we will explore different text representation models, such as Bag-of-Words (BoW), TF-IDF and word embeddings 🔤➡️🔢. Among these, word embeddings are the most effective in terms of performance. They represent each word as a vector of numbers, where each vector captures the meaning of the word 🧠📊.\n",
    "\n",
    "These numerical representations (or weights) are learned using machine learning models 🤖. We’ll dive deeper into how these vectors are learned in the next lecture 📚.\n",
    "\n",
    "For now, we’ll focus on how different representation methods affect performance in an information retrieval task 🔍."
   ]
  },
  {
   "cell_type": "markdown",
   "metadata": {
    "collapsed": false,
    "id": "s93LS5bspSOD",
    "pycharm": {
     "name": "#%% md\n"
    }
   },
   "source": [
    "By the end of this lab, you should be able to:\n",
    "\n",
    "+ 🧼🔁 Implement and/or use built-in functions to preprocess your data (once again!)\n",
    "+ 🧱👜 Build a Bag-of-Words representation of the dataset\n",
    "+ 📊✨ Implement TF-IDF\n",
    "+ 📥🔤 Load pre-trained word embeddings\n",
    "+ 🔍🧠 Inspect and test word embedding properties\n",
    "+ 🗣️➡️📐 Use word embeddings to get sentence representations (aka sentence embeddings)\n",
    "+ 🧩🔎 Use sentence embeddings to solve more complex tasks like information retrieval\n",
    "+ 🧪📏 Design evaluation frameworks for specific NLP tasks and assess their difficulty\n",
    "\n",
    "### Score breakdown\n",
    "\n",
    "| Exercise            | Points |\n",
    "|---------------------|--------|\n",
    "| [Exercise 1](#e1)   | 1      |\n",
    "| [Exercise 2](#e2)   | 1      |\n",
    "| [Exercise 3](#e3)   | 1      |\n",
    "| [Exercise 4](#e4)   | 1      |\n",
    "| [Exercise 5](#e5)   | 1      |\n",
    "| [Exercise 6](#e6)   | 2      |\n",
    "| [Exercise 7](#e7)   | 10     |\n",
    "| [Exercise 8](#e8)   | 5      |\n",
    "| [Exercise 9](#e9)   | 15     |\n",
    "| [Exercise 10](#e10) | 10     |\n",
    "| [Exercise 11](#e11) | 10     |\n",
    "| [Exercise 12](#e12) | 5      |\n",
    "| [Exercise 13](#e13) | 15     |\n",
    "| [Exercise 14](#e14) | 3      |\n",
    "| [Exercise 15](#e15) | 10     |\n",
    "| [Exercise 16](#e16) | 10     |\n",
    "| Total               | 100    |\n",
    "\n",
    "This score will be scaled down to 1 and that will be your final lab score.\n",
    "\n",
    "### 📌 **Instructions for Delivery** (📅 **Deadline: 18/Apr 18:00**, 🎭 *wildcards possible*)\n",
    "\n",
    "✅ **Submission Requirements**\n",
    "+ 📄 You need to submit a **PDF of your report** (use the templates provided in **LaTeX** 🖋️ (*preferred*) or **Word** 📑) and a **copy of your notebook** 📓 with the code.\n",
    "+ ⚡ Make sure that **all cells are executed properly** ⚙️ and that **all figures/results/plots** 📊 you include in the report are also visible in your **executed notebook**.\n",
    "\n",
    "✅ **Collaboration & Integrity**\n",
    "+ 🗣️ While you may **discuss** the lab with others, you must **write your solutions with your group only**. If you **discuss specific tasks** with others, please **include their names** in the appendix of the report.\n",
    "+ 📜 **Honor Code applies** to this lab. For more details, check **Syllabus §7.2** ⚖️.\n",
    "+ 📢 **Mandatory Disclosure**:\n",
    "   - Any **websites** 🌐 (e.g., **Stack Overflow** 💡) or **other resources** used must be **listed and disclosed**.\n",
    "   - Any **GenAI tools** 🤖 (e.g., **ChatGPT**) used must be **explicitly mentioned**.\n",
    "   - 🚨 **Failure to disclose these resources is a violation of academic integrity**. See **Syllabus §7.3** for details."
   ]
  },
  {
   "cell_type": "markdown",
   "metadata": {
    "collapsed": false,
    "id": "aHYGq5RUpSOD",
    "pycharm": {
     "name": "#%% md\n"
    }
   },
   "source": [
    "## 0. Setup\n",
    "\n",
    "As in the last lab, we will be using huggingface datasets library ([https://huggingface.co/datasets](https://huggingface.co/datasets)). You can find the detailed documentation and tutorials here: [https://huggingface.co/docs/datasets/en/index](https://huggingface.co/docs/datasets/en/index)\n",
    "\n",
    "If you don't have it installed you can run the code below or install it via `pip` in your terminal. If you are using Google Colab, you can uncomment and run the code below in a code cell. Restarting of the runtime may be required after installation (Runtime/Restart session)."
   ]
  },
  {
   "cell_type": "code",
   "metadata": {
    "id": "rhEG8hKrpSOE",
    "pycharm": {
     "name": "#%%\n"
    },
    "ExecuteTime": {
     "end_time": "2025-04-22T19:02:50.916514Z",
     "start_time": "2025-04-22T19:02:50.912826Z"
    }
   },
   "source": [
    "#! pip install -U datasets~=3.5.0\n",
    "#! pip install -U gensim\n",
    "#! python -m pip install -U matplotlib\n",
    "#! pip install nltk\n",
    "#! pip install -U scikit-learn"
   ],
   "outputs": [],
   "execution_count": 1
  },
  {
   "cell_type": "markdown",
   "metadata": {
    "collapsed": false,
    "pycharm": {
     "name": "#%% md\n"
    }
   },
   "source": [
    "Previously installed datasets library version of 3.2.0 had an error when combined with numpy version >2. If you encounter an error at some point it might require to update the datasets library to the newer version. You can do that by running the code below. If you are using Google Colab, you can run the code below in a code cell. If you are using Jupyter Notebook, you can run the code below in a code cell or in a terminal."
   ]
  },
  {
   "cell_type": "code",
   "metadata": {
    "collapsed": false,
    "pycharm": {
     "name": "#%%\n"
    },
    "ExecuteTime": {
     "end_time": "2025-04-22T19:02:50.930760Z",
     "start_time": "2025-04-22T19:02:50.927931Z"
    }
   },
   "source": [
    "# ! pip install --upgrade --force-reinstall datasets\n",
    "# ! pip install --upgrade bottleneck // pandas requires bottleneck v1,3,6 or newer"
   ],
   "outputs": [],
   "execution_count": 2
  },
  {
   "cell_type": "markdown",
   "metadata": {
    "collapsed": false,
    "id": "5CCI1TPJpSOF",
    "pycharm": {
     "name": "#%% md\n"
    }
   },
   "source": [
    "As usual, we start by importing some essential Python libraries and we will be using. Apart from `gensim` (which is going to be used for word embeddings), we have already seen the others."
   ]
  },
  {
   "cell_type": "code",
   "metadata": {
    "id": "CRe8W4hKpSOF",
    "pycharm": {
     "name": "#%%\n"
    },
    "ExecuteTime": {
     "end_time": "2025-04-22T19:02:55.259626Z",
     "start_time": "2025-04-22T19:02:51.013158Z"
    }
   },
   "source": [
    "import re\n",
    "\n",
    "import numpy as np\n",
    "import matplotlib.pyplot as plt\n",
    "import datasets\n",
    "import nltk\n",
    "import tqdm\n",
    "import gensim\n",
    "from nltk.corpus import stopwords\n",
    "#\n",
    "# nltk.download('punkt_tab')punkt_tab\n",
    "nltk.download('stopwords')"
   ],
   "outputs": [
    {
     "name": "stderr",
     "output_type": "stream",
     "text": [
      "[nltk_data] Downloading package stopwords to /Users/apple/nltk_data...\n",
      "[nltk_data]   Package stopwords is already up-to-date!\n"
     ]
    },
    {
     "data": {
      "text/plain": [
       "True"
      ]
     },
     "execution_count": 3,
     "metadata": {},
     "output_type": "execute_result"
    }
   ],
   "execution_count": 3
  },
  {
   "cell_type": "markdown",
   "metadata": {
    "collapsed": false,
    "id": "NXy-1KiCpSOF",
    "pycharm": {
     "name": "#%% md\n"
    }
   },
   "source": [
    "## 1. Load and Preprocess Data\n",
    "\n",
    "*Sentence compression* involves rephrasing sentences to make them shorter while still retaining the original meaning. A reliable compression system would be valuable for mobile devices and could also serve as a component in an extractive summarization system.\n",
    "\n",
    "The dataset we are going to use can be found on [Huggingface](https://huggingface.co/datasets/embedding-data/sentence-compression). It concerns a set of 180,000 pairs of sentences, aka it is a parallel corpus of sentences and their equivalent compressions. It has been collected by harvesting news articles from the Internet where the headline appears to be similar to the first sentence and that property is used to find an \"extractive\" compression of the sentence.\n",
    "\n",
    "For example, for the sentence\n",
    "\n",
    "`\"Regulators Friday shut down a small Florida bank, bringing to 119 the number of US bank failures this year amid mounting loan defaults\"`\n",
    "\n",
    "the compressed equivalent (based on the dataset) is:\n",
    "\n",
    "`\"Regulators shut down small Florida bank\"`.\n",
    "\n",
    "\n",
    "For more information you can read the original paper (from Google) [here](https://aclanthology.org/D13-1155.pdf). We strongly recommend going over the paper to gain further insights. Notice that the paper is from 2013, therefore word embeddings have not been widely introduced yet in NLP tasks, meaning that the methods applied were based on the traditional NLP pipeline (feature extraction + ML)."
   ]
  },
  {
   "cell_type": "markdown",
   "metadata": {
    "collapsed": false,
    "id": "ztJX2GRVpSOF",
    "pycharm": {
     "name": "#%% md\n"
    }
   },
   "source": [
    "### 1.1 Loading the Dataset\n",
    "\n",
    "The dataset will be loaded as a Pandas DataFrame. This may take a few minutes because of the large size of the data.\n",
    "\n",
    "Make sure to inspect the dataset and make sure it is imported properly."
   ]
  },
  {
   "cell_type": "code",
   "metadata": {
    "id": "tay2NXPTpSOG",
    "pycharm": {
     "name": "#%%\n"
    },
    "ExecuteTime": {
     "end_time": "2025-04-22T19:02:58.680998Z",
     "start_time": "2025-04-22T19:02:55.278382Z"
    }
   },
   "source": [
    "import nltk.corpus\n",
    "\n",
    "ds = datasets.load_dataset('embedding-data/sentence-compression')\n",
    "print(ds)"
   ],
   "outputs": [
    {
     "name": "stdout",
     "output_type": "stream",
     "text": [
      "DatasetDict({\n",
      "    train: Dataset({\n",
      "        features: ['set'],\n",
      "        num_rows: 180000\n",
      "    })\n",
      "})\n"
     ]
    }
   ],
   "execution_count": 4
  },
  {
   "cell_type": "code",
   "metadata": {
    "id": "bUud3eZVpSOH",
    "pycharm": {
     "name": "#%%\n"
    },
    "ExecuteTime": {
     "end_time": "2025-04-22T19:02:58.766032Z",
     "start_time": "2025-04-22T19:02:58.755336Z"
    }
   },
   "source": [
    "for i in range(10):\n",
    "    print(ds['train'][i])"
   ],
   "outputs": [
    {
     "name": "stdout",
     "output_type": "stream",
     "text": [
      "{'set': [\"The USHL completed an expansion draft on Monday as 10 players who were on the rosters of USHL teams during the 2009-10 season were selected by the League's two newest entries, the Muskegon Lumberjacks and Dubuque Fighting Saints.\", 'USHL completes expansion draft']}\n",
      "{'set': ['Major League Baseball Commissioner Bud Selig will be speaking at St. Norbert College next month.', 'Bud Selig to speak at St. Norbert College']}\n",
      "{'set': [\"It's fresh cherry time in Michigan and the best time to enjoy this delicious and nutritious fruit.\", \"It's cherry time\"]}\n",
      "{'set': ['An Evesham man is facing charges in Pennsylvania after he allegedly dragged his girlfriend from the side of his pickup truck on the campus of Kutztown University in the early morning hours of Dec. 5, police said.', 'Evesham man faces charges for Pa.']}\n",
      "{'set': [\"NRT LLC, one of the nation's largest residential real estate brokerage companies, announced several executive appointments within its Coldwell Banker Residential Brokerage operations in Southern California.\", 'NRT announces executive appointments at its Coldwell Banker operations in Southern California']}\n",
      "{'set': ['THE JSE kept toying with an all time high by midday today as resources continued to fuel the bourse.', 'JSE keeps toying with all time high']}\n",
      "{'set': ['The government is defending the latest police crime statistics despite a worrying rise in the recorded amount of violent offending.', 'Government defends crime statistics']}\n",
      "{'set': ['The renovated Marappalam bridge, which had been opened for two-wheelers last week, was opened for other vehicles also on Friday.', 'Marappalam bridge opened']}\n",
      "{'set': ['A new survey shows 30 percent of Californians use Twitter, and more and more of us are using our smart phones to go online.', 'Survey: 30 percent of Californians use Twitter']}\n",
      "{'set': ['Brightpoint ,a provider of logistic services to the mobile industry, has started operations in the Turkish market.', 'Brightpoint starts operations on Turkish market']}\n"
     ]
    }
   ],
   "execution_count": 5
  },
  {
   "cell_type": "markdown",
   "metadata": {
    "collapsed": false,
    "id": "HfJSiWxrpSOH",
    "pycharm": {
     "name": "#%% md\n"
    }
   },
   "source": [
    "The dataset comes with only the `train` split so we will have to split it ourselves."
   ]
  },
  {
   "cell_type": "code",
   "metadata": {
    "id": "tATL53MWpSOH",
    "pycharm": {
     "name": "#%%\n"
    },
    "ExecuteTime": {
     "end_time": "2025-04-22T19:02:59.076755Z",
     "start_time": "2025-04-22T19:02:59.001761Z"
    }
   },
   "source": [
    "split_ds = ds['train'].train_test_split(test_size=0.2)\n",
    "print(split_ds)"
   ],
   "outputs": [
    {
     "name": "stdout",
     "output_type": "stream",
     "text": [
      "DatasetDict({\n",
      "    train: Dataset({\n",
      "        features: ['set'],\n",
      "        num_rows: 144000\n",
      "    })\n",
      "    test: Dataset({\n",
      "        features: ['set'],\n",
      "        num_rows: 36000\n",
      "    })\n",
      "})\n"
     ]
    }
   ],
   "execution_count": 6
  },
  {
   "cell_type": "markdown",
   "metadata": {
    "collapsed": false,
    "id": "L133t3CqpSOH",
    "pycharm": {
     "name": "#%% md\n"
    }
   },
   "source": [
    "### 1.2 Preprocessing the dataset\n",
    "In this section we will prepare the dataset, aka clean the sentences and tokenize.\n",
    "\n",
    "First, let's write the function to clean the text. It can be similar to the one from the previous lab (Lab1) but make sure that it makes sense for this dataset and task.\n",
    "\n",
    "More specifically, think about lower-casing, punctuation, stop-words and lemmatization/stemming and the impact it might have on the dataset. Also reflect on the fact that with word embeddings we want to uncover semantic relationships between words, whereas with bag-of-words we were trying to capture different morphological variations."
   ]
  },
  {
   "cell_type": "markdown",
   "metadata": {
    "collapsed": false,
    "id": "mQszN6GNpSOH",
    "pycharm": {
     "name": "#%% md\n"
    }
   },
   "source": [
    "<a name='e1'></a>\n",
    "### Exercise 1: Clean function\n",
    "(1p) Fill in the following function ot clean the dataset. Implement at least 3 different steps."
   ]
  },
  {
   "cell_type": "code",
   "metadata": {
    "id": "TxjfLQj6pSOH",
    "pycharm": {
     "name": "#%%\n"
    },
    "ExecuteTime": {
     "end_time": "2025-04-22T19:02:59.376732Z",
     "start_time": "2025-04-22T19:02:59.371062Z"
    }
   },
   "source": [
    "def clean(text):\n",
    "    \"\"\"\n",
    "    Cleans the given text\n",
    "    Args:\n",
    "        text: a str with the text to clean\n",
    "\n",
    "    Returns: a str with the cleaned text\n",
    "\n",
    "    \"\"\"\n",
    "\n",
    "    # Empty text\n",
    "    if text == '':\n",
    "        return text\n",
    "\n",
    "    # 'text' from the example can be of type numpy.str_, let's convert it to a python str\n",
    "    text = str(text)\n",
    "\n",
    "    #you might need more\n",
    "    #add them here\n",
    "\n",
    "    ### YOUR CODE HERE\n",
    "    #those functions delete all uppercase letters but without multiple Capital letters like CNN US.\n",
    "\n",
    "    text = re.sub(r'\\b([A-Z][a-z]+)\\b', lambda m: m.group(1).lower(), text)\n",
    "    text = re.sub(r'\\b([A-Z])(?![A-Z])\\b', lambda m: m.group(1).lower(), text)\n",
    "\n",
    "    #keeps only letters and numbers BUT keeps ' if its between two letters like in the word don't\n",
    "    text = re.sub(r\"(?<!\\w)'|'(?!\\w)\", \"\", text)\n",
    "\n",
    "    #gets rid of all special characters but numbers letters and apostrophes\n",
    "    text = re.sub(r\"[^\\w\\s']\", \"\", text)\n",
    "\n",
    "    #Question to a friend: How did you do the stopping words part? (Caetano Allesie)\n",
    "    #written with help of copilot\n",
    "    stop_words =  set(nltk.corpus.stopwords.words('english'))\n",
    "    words = text.split()\n",
    "    stop_words_words = []\n",
    "    for word in words:\n",
    "        if word not in stop_words:\n",
    "            stop_words_words.append(word)\n",
    "    text =\" \".join(stop_words_words)\n",
    "    ### YOUR CODE ENDS HERE\n",
    "\n",
    "    text = text.strip()\n",
    "\n",
    "    # Update the example with the cleaned text\n",
    "    return text"
   ],
   "outputs": [],
   "execution_count": 7
  },
  {
   "cell_type": "markdown",
   "metadata": {
    "collapsed": false,
    "id": "gAqf1AoupSOJ",
    "pycharm": {
     "name": "#%% md\n"
    }
   },
   "source": [
    "The following function will apply the function (sic) you just wrote to the whole dataset. More specifically, it takes the first entry (`sentence`) from the set of uncompressed/compressed pairs, applies the `clean` function and saves the processed sentence in the field `clean_sentence`. The same is dome for the compressed version of the sentence (saved as `clean_compressed`)."
   ]
  },
  {
   "metadata": {
    "ExecuteTime": {
     "end_time": "2025-04-22T19:02:59.667257Z",
     "start_time": "2025-04-22T19:02:59.661979Z"
    }
   },
   "cell_type": "code",
   "source": [
    "print(clean(\"'Hers' amunition don't 'aint yay!!!$%# \"))"
   ],
   "outputs": [
    {
     "name": "stdout",
     "output_type": "stream",
     "text": [
      "amunition aint yay\n"
     ]
    }
   ],
   "execution_count": 8
  },
  {
   "cell_type": "code",
   "metadata": {
    "id": "WZn-M4_vpSOJ",
    "pycharm": {
     "name": "#%%\n"
    },
    "ExecuteTime": {
     "end_time": "2025-04-22T19:02:59.812881Z",
     "start_time": "2025-04-22T19:02:59.809703Z"
    }
   },
   "source": [
    "def clean_dataset(example):\n",
    "    \"\"\"\n",
    "    Cleans the sentence and compressed sentence in the example from the Dataset\n",
    "    Args:\n",
    "        example: an example from the Dataset\n",
    "\n",
    "    Returns: updated example with 'clean_sentence' and 'clean_compressed' cleaned\n",
    "\n",
    "    \"\"\"\n",
    "    sentence, compressed = example['set']\n",
    "    clean_sentence = clean(sentence)\n",
    "    clean_compressed = clean(compressed)\n",
    "    example['clean_sentence'] = clean_sentence\n",
    "    example['clean_compressed'] = clean_compressed\n",
    "    return example"
   ],
   "outputs": [],
   "execution_count": 9
  },
  {
   "cell_type": "markdown",
   "metadata": {
    "collapsed": false,
    "id": "_KVujosKpSOJ",
    "pycharm": {
     "name": "#%% md\n"
    }
   },
   "source": [
    "Below we apply the function to the whole dataset (using `map`) and we can also inspect the result."
   ]
  },
  {
   "cell_type": "code",
   "metadata": {
    "id": "NBS1JbISpSOJ",
    "pycharm": {
     "name": "#%%\n"
    },
    "ExecuteTime": {
     "end_time": "2025-04-22T19:04:14.962969Z",
     "start_time": "2025-04-22T19:02:59.928830Z"
    }
   },
   "source": [
    "split_ds = split_ds.map(clean_dataset)\n",
    "print(split_ds)"
   ],
   "outputs": [
    {
     "data": {
      "text/plain": [
       "Map:   0%|          | 0/144000 [00:00<?, ? examples/s]"
      ],
      "application/vnd.jupyter.widget-view+json": {
       "version_major": 2,
       "version_minor": 0,
       "model_id": "2eb53e47023642dc9dc7b8cd3d37c450"
      }
     },
     "metadata": {},
     "output_type": "display_data"
    },
    {
     "data": {
      "text/plain": [
       "Map:   0%|          | 0/36000 [00:00<?, ? examples/s]"
      ],
      "application/vnd.jupyter.widget-view+json": {
       "version_major": 2,
       "version_minor": 0,
       "model_id": "8242d03db20e4c20a529c9ce808775a6"
      }
     },
     "metadata": {},
     "output_type": "display_data"
    },
    {
     "name": "stdout",
     "output_type": "stream",
     "text": [
      "DatasetDict({\n",
      "    train: Dataset({\n",
      "        features: ['set', 'clean_sentence', 'clean_compressed'],\n",
      "        num_rows: 144000\n",
      "    })\n",
      "    test: Dataset({\n",
      "        features: ['set', 'clean_sentence', 'clean_compressed'],\n",
      "        num_rows: 36000\n",
      "    })\n",
      "})\n"
     ]
    }
   ],
   "execution_count": 10
  },
  {
   "cell_type": "markdown",
   "metadata": {
    "collapsed": false,
    "id": "X_ThE9H-pSOJ",
    "pycharm": {
     "name": "#%% md\n"
    }
   },
   "source": [
    "Let's examine some examples from the dataset and make sure that we got the results we wanted. At this step, it might be necessary to revisit some pre-processing steps if you are not happy with the results."
   ]
  },
  {
   "cell_type": "code",
   "metadata": {
    "id": "hP-qOPijpSOJ",
    "pycharm": {
     "name": "#%%\n"
    },
    "ExecuteTime": {
     "end_time": "2025-04-22T19:04:14.986749Z",
     "start_time": "2025-04-22T19:04:14.981216Z"
    }
   },
   "source": [
    "for i in range(10):\n",
    "    print(split_ds['train'][i])"
   ],
   "outputs": [
    {
     "name": "stdout",
     "output_type": "stream",
     "text": [
      "{'set': [\"Samsung Electronics Co. promoted its chairman's only son to vice chairman, putting the 44-year-old closer to the top leadership position at the world's largest maker of memory chips, mobile phones and TVs.\", \"Samsung promotes chairman's son to vice chairman\"], 'clean_sentence': \"samsung electronics co promoted chairman's son vice chairman putting 44yearold closer top leadership position world's largest maker memory chips mobile phones TVs\", 'clean_compressed': \"samsung promotes chairman's son vice chairman\"}\n",
      "{'set': ['Traditional money transfer systems are reported to be losing out as Kenyans turn to mobile phone transfer platforms that offer instant cash movement, enhanced security and low transaction fees.', 'Traditional money transfer systems lose out as Kenyans turn to mobile phone transfer:'], 'clean_sentence': 'traditional money transfer systems reported losing kenyans turn mobile phone transfer platforms offer instant cash movement enhanced security low transaction fees', 'clean_compressed': 'traditional money transfer systems lose kenyans turn mobile phone transfer'}\n",
      "{'set': ['Kate and Gerry McCann are due to give evidence today to the Leveson Inquiry about their experiences of the media after their daughter Madeleine went missing.', 'Kate and Gerry McCann give evidence at Leveson Inquiry'], 'clean_sentence': 'kate gerry McCann due give evidence today leveson inquiry experiences media daughter madeleine went missing', 'clean_compressed': 'kate gerry McCann give evidence leveson inquiry'}\n",
      "{'set': ['Former State Sen. James Marzilli pleaded guilty today to resisting arrest, disorderly conduct, and accosting four women.', 'Marzilli pleads guilty'], 'clean_sentence': 'former state sen james marzilli pleaded guilty today resisting arrest disorderly conduct accosting four women', 'clean_compressed': 'marzilli pleads guilty'}\n",
      "{'set': ['McCarran has shut down the tram to its D gates.', 'McCarran shuts down tram'], 'clean_sentence': 'McCarran shut tram gates', 'clean_compressed': 'McCarran shuts tram'}\n",
      "{'set': ['HAMBURG, NY An overnight fire destroyed a cottage on South Shore Drive in Hamburg.', 'Fire destroys cottage in Hamburg'], 'clean_sentence': 'HAMBURG NY overnight fire destroyed cottage south shore drive hamburg', 'clean_compressed': 'fire destroys cottage hamburg'}\n",
      "{'set': ['A CRPF jawan hailing from Maranalloor near Malayinkeezhu here killed himself after shooting two of his colleagues at Silpara camp in West Midnapore.', 'Jawan kills himself after shooting colleagues'], 'clean_sentence': 'CRPF jawan hailing maranalloor near malayinkeezhu killed shooting two colleagues silpara camp west midnapore', 'clean_compressed': 'jawan kills shooting colleagues'}\n",
      "{'set': ['Casey Anthony reportedly hid out in New York following her acquittal of charges she murdered her little girl Caylee Anthony.', 'Casey Anthony hid in New York following acquittal'], 'clean_sentence': 'casey anthony reportedly hid new york following acquittal charges murdered little girl caylee anthony', 'clean_compressed': 'casey anthony hid new york following acquittal'}\n",
      "{'set': ['Essex skipper Mark Pettini has assured he will be fit for the new season after undergoing a groin operation.', 'Pettini will be fit for the new season'], 'clean_sentence': 'essex skipper mark pettini assured fit new season undergoing groin operation', 'clean_compressed': 'pettini fit new season'}\n",
      "{'set': [\"Refac has launched a fully costed, comprehensive 'Reach Only Representative Service'.\", \"Refac launches 'Only Representative' service\"], 'clean_sentence': 'refac launched fully costed comprehensive reach representative service', 'clean_compressed': 'refac launches representative service'}\n"
     ]
    }
   ],
   "execution_count": 11
  },
  {
   "cell_type": "markdown",
   "metadata": {
    "collapsed": false,
    "id": "7LI2KlfypSOJ",
    "pycharm": {
     "name": "#%% md\n"
    }
   },
   "source": [
    "<a name='e2'></a>\n",
    "### Exercise 2: Tokenize function\n",
    "\n",
    "(1p) As always, we will need to tokenize the dataset in order to create bat-of-words and TF-IDF representations in the next sections. We will use the [Natural Language Toolkit (NLTK) library]([https://www.nltk.org/]) (https://www.nltk.org/). Complete the following function to split the text into tokens using the `word_tokenize()` function. Check the [documentation](https://www.nltk.org/api/nltk.tokenize.word_tokenize.html?highlight=word_tokenize) first.\n",
    "Note that there are different tokenizers e.g. `RegexpTokenizer` where you can enter your own regexp, `WhitespaceTokenizer` (similar to Python's string.split()) and `BlanklineTokenizer`."
   ]
  },
  {
   "cell_type": "code",
   "metadata": {
    "id": "sb-M3V6ApSOK",
    "pycharm": {
     "name": "#%%\n"
    },
    "ExecuteTime": {
     "end_time": "2025-04-22T19:04:15.118120Z",
     "start_time": "2025-04-22T19:04:15.115353Z"
    }
   },
   "source": [
    "def tokenize(text):\n",
    "    \"\"\"\n",
    "    Tokenizes the `text` parameter using nltk library\n",
    "    Args:\n",
    "        text: a string representing a sentence to be tokenized\n",
    "\n",
    "    Returns: a list of tokens (strings)\n",
    "\n",
    "    \"\"\"\n",
    "\n",
    "    ### YOUR CODE HERE\n",
    "    tokens = nltk.word_tokenize(text)\n",
    "    ### YOUR CODE ENDS HERE\n",
    "    return tokens"
   ],
   "outputs": [],
   "execution_count": 12
  },
  {
   "cell_type": "markdown",
   "metadata": {
    "collapsed": false,
    "id": "gwsHqZc9pSOK",
    "pycharm": {
     "name": "#%% md\n"
    }
   },
   "source": [
    "Next, the function will be applied to the whole dataset (as we did with the pre-processing) and `sentence_tokens` field will be created to store the result."
   ]
  },
  {
   "cell_type": "code",
   "metadata": {
    "id": "6sTX-AcTpSOK",
    "pycharm": {
     "name": "#%%\n"
    },
    "ExecuteTime": {
     "end_time": "2025-04-22T19:04:15.166241Z",
     "start_time": "2025-04-22T19:04:15.161856Z"
    }
   },
   "source": [
    "def tokenize_dataset(example):\n",
    "    \"\"\"\n",
    "    Tokenizes 'clean_sentence' columns in the example from the Dataset\n",
    "    Args:\n",
    "        example: an example from the Dataset\n",
    "\n",
    "    Returns: updated example with 'sentence_tokens' columns\n",
    "\n",
    "    \"\"\"\n",
    "    example['sentence_tokens'] = tokenize(example['clean_sentence'])\n",
    "    example['compressed_tokens'] = tokenize(example['clean_compressed'])\n",
    "    return example"
   ],
   "outputs": [],
   "execution_count": 13
  },
  {
   "cell_type": "code",
   "metadata": {
    "id": "jvwmXLj2pSOK",
    "pycharm": {
     "name": "#%%\n"
    },
    "ExecuteTime": {
     "end_time": "2025-04-22T19:04:58.707808Z",
     "start_time": "2025-04-22T19:04:15.179169Z"
    }
   },
   "source": [
    "split_ds = split_ds.map(tokenize_dataset)"
   ],
   "outputs": [
    {
     "data": {
      "text/plain": [
       "Map:   0%|          | 0/144000 [00:00<?, ? examples/s]"
      ],
      "application/vnd.jupyter.widget-view+json": {
       "version_major": 2,
       "version_minor": 0,
       "model_id": "ec7f2b9049b3407db8385d57527aff72"
      }
     },
     "metadata": {},
     "output_type": "display_data"
    },
    {
     "data": {
      "text/plain": [
       "Map:   0%|          | 0/36000 [00:00<?, ? examples/s]"
      ],
      "application/vnd.jupyter.widget-view+json": {
       "version_major": 2,
       "version_minor": 0,
       "model_id": "f2dfaaf4cf884848ab172ee024cb04fc"
      }
     },
     "metadata": {},
     "output_type": "display_data"
    }
   ],
   "execution_count": 14
  },
  {
   "cell_type": "code",
   "metadata": {
    "id": "yXnje31SpSOK",
    "pycharm": {
     "name": "#%%\n"
    },
    "ExecuteTime": {
     "end_time": "2025-04-22T19:04:58.729525Z",
     "start_time": "2025-04-22T19:04:58.720906Z"
    }
   },
   "source": [
    "for i in range(10):\n",
    "    print(split_ds['train'][i])"
   ],
   "outputs": [
    {
     "name": "stdout",
     "output_type": "stream",
     "text": [
      "{'set': [\"Samsung Electronics Co. promoted its chairman's only son to vice chairman, putting the 44-year-old closer to the top leadership position at the world's largest maker of memory chips, mobile phones and TVs.\", \"Samsung promotes chairman's son to vice chairman\"], 'clean_sentence': \"samsung electronics co promoted chairman's son vice chairman putting 44yearold closer top leadership position world's largest maker memory chips mobile phones TVs\", 'clean_compressed': \"samsung promotes chairman's son vice chairman\", 'sentence_tokens': ['samsung', 'electronics', 'co', 'promoted', 'chairman', \"'s\", 'son', 'vice', 'chairman', 'putting', '44yearold', 'closer', 'top', 'leadership', 'position', 'world', \"'s\", 'largest', 'maker', 'memory', 'chips', 'mobile', 'phones', 'TVs'], 'compressed_tokens': ['samsung', 'promotes', 'chairman', \"'s\", 'son', 'vice', 'chairman']}\n",
      "{'set': ['Traditional money transfer systems are reported to be losing out as Kenyans turn to mobile phone transfer platforms that offer instant cash movement, enhanced security and low transaction fees.', 'Traditional money transfer systems lose out as Kenyans turn to mobile phone transfer:'], 'clean_sentence': 'traditional money transfer systems reported losing kenyans turn mobile phone transfer platforms offer instant cash movement enhanced security low transaction fees', 'clean_compressed': 'traditional money transfer systems lose kenyans turn mobile phone transfer', 'sentence_tokens': ['traditional', 'money', 'transfer', 'systems', 'reported', 'losing', 'kenyans', 'turn', 'mobile', 'phone', 'transfer', 'platforms', 'offer', 'instant', 'cash', 'movement', 'enhanced', 'security', 'low', 'transaction', 'fees'], 'compressed_tokens': ['traditional', 'money', 'transfer', 'systems', 'lose', 'kenyans', 'turn', 'mobile', 'phone', 'transfer']}\n",
      "{'set': ['Kate and Gerry McCann are due to give evidence today to the Leveson Inquiry about their experiences of the media after their daughter Madeleine went missing.', 'Kate and Gerry McCann give evidence at Leveson Inquiry'], 'clean_sentence': 'kate gerry McCann due give evidence today leveson inquiry experiences media daughter madeleine went missing', 'clean_compressed': 'kate gerry McCann give evidence leveson inquiry', 'sentence_tokens': ['kate', 'gerry', 'McCann', 'due', 'give', 'evidence', 'today', 'leveson', 'inquiry', 'experiences', 'media', 'daughter', 'madeleine', 'went', 'missing'], 'compressed_tokens': ['kate', 'gerry', 'McCann', 'give', 'evidence', 'leveson', 'inquiry']}\n",
      "{'set': ['Former State Sen. James Marzilli pleaded guilty today to resisting arrest, disorderly conduct, and accosting four women.', 'Marzilli pleads guilty'], 'clean_sentence': 'former state sen james marzilli pleaded guilty today resisting arrest disorderly conduct accosting four women', 'clean_compressed': 'marzilli pleads guilty', 'sentence_tokens': ['former', 'state', 'sen', 'james', 'marzilli', 'pleaded', 'guilty', 'today', 'resisting', 'arrest', 'disorderly', 'conduct', 'accosting', 'four', 'women'], 'compressed_tokens': ['marzilli', 'pleads', 'guilty']}\n",
      "{'set': ['McCarran has shut down the tram to its D gates.', 'McCarran shuts down tram'], 'clean_sentence': 'McCarran shut tram gates', 'clean_compressed': 'McCarran shuts tram', 'sentence_tokens': ['McCarran', 'shut', 'tram', 'gates'], 'compressed_tokens': ['McCarran', 'shuts', 'tram']}\n",
      "{'set': ['HAMBURG, NY An overnight fire destroyed a cottage on South Shore Drive in Hamburg.', 'Fire destroys cottage in Hamburg'], 'clean_sentence': 'HAMBURG NY overnight fire destroyed cottage south shore drive hamburg', 'clean_compressed': 'fire destroys cottage hamburg', 'sentence_tokens': ['HAMBURG', 'NY', 'overnight', 'fire', 'destroyed', 'cottage', 'south', 'shore', 'drive', 'hamburg'], 'compressed_tokens': ['fire', 'destroys', 'cottage', 'hamburg']}\n",
      "{'set': ['A CRPF jawan hailing from Maranalloor near Malayinkeezhu here killed himself after shooting two of his colleagues at Silpara camp in West Midnapore.', 'Jawan kills himself after shooting colleagues'], 'clean_sentence': 'CRPF jawan hailing maranalloor near malayinkeezhu killed shooting two colleagues silpara camp west midnapore', 'clean_compressed': 'jawan kills shooting colleagues', 'sentence_tokens': ['CRPF', 'jawan', 'hailing', 'maranalloor', 'near', 'malayinkeezhu', 'killed', 'shooting', 'two', 'colleagues', 'silpara', 'camp', 'west', 'midnapore'], 'compressed_tokens': ['jawan', 'kills', 'shooting', 'colleagues']}\n",
      "{'set': ['Casey Anthony reportedly hid out in New York following her acquittal of charges she murdered her little girl Caylee Anthony.', 'Casey Anthony hid in New York following acquittal'], 'clean_sentence': 'casey anthony reportedly hid new york following acquittal charges murdered little girl caylee anthony', 'clean_compressed': 'casey anthony hid new york following acquittal', 'sentence_tokens': ['casey', 'anthony', 'reportedly', 'hid', 'new', 'york', 'following', 'acquittal', 'charges', 'murdered', 'little', 'girl', 'caylee', 'anthony'], 'compressed_tokens': ['casey', 'anthony', 'hid', 'new', 'york', 'following', 'acquittal']}\n",
      "{'set': ['Essex skipper Mark Pettini has assured he will be fit for the new season after undergoing a groin operation.', 'Pettini will be fit for the new season'], 'clean_sentence': 'essex skipper mark pettini assured fit new season undergoing groin operation', 'clean_compressed': 'pettini fit new season', 'sentence_tokens': ['essex', 'skipper', 'mark', 'pettini', 'assured', 'fit', 'new', 'season', 'undergoing', 'groin', 'operation'], 'compressed_tokens': ['pettini', 'fit', 'new', 'season']}\n",
      "{'set': [\"Refac has launched a fully costed, comprehensive 'Reach Only Representative Service'.\", \"Refac launches 'Only Representative' service\"], 'clean_sentence': 'refac launched fully costed comprehensive reach representative service', 'clean_compressed': 'refac launches representative service', 'sentence_tokens': ['refac', 'launched', 'fully', 'costed', 'comprehensive', 'reach', 'representative', 'service'], 'compressed_tokens': ['refac', 'launches', 'representative', 'service']}\n"
     ]
    }
   ],
   "execution_count": 15
  },
  {
   "cell_type": "markdown",
   "metadata": {
    "collapsed": false,
    "id": "FeF0wFd0pSOL",
    "pycharm": {
     "name": "#%% md\n"
    }
   },
   "source": [
    "Since we will need the tokenized sentences, we can use the following statement to extract them from the `train` split of our dataset."
   ]
  },
  {
   "cell_type": "code",
   "metadata": {
    "id": "qYKfXFxQpSOL",
    "pycharm": {
     "name": "#%%\n"
    },
    "ExecuteTime": {
     "end_time": "2025-04-22T19:05:02.280435Z",
     "start_time": "2025-04-22T19:04:58.788930Z"
    }
   },
   "source": [
    "tokenized_sentences = split_ds['train']['sentence_tokens']\n",
    "print(len(tokenized_sentences))\n",
    "print(tokenized_sentences[:10])"
   ],
   "outputs": [
    {
     "name": "stdout",
     "output_type": "stream",
     "text": [
      "144000\n",
      "[['samsung', 'electronics', 'co', 'promoted', 'chairman', \"'s\", 'son', 'vice', 'chairman', 'putting', '44yearold', 'closer', 'top', 'leadership', 'position', 'world', \"'s\", 'largest', 'maker', 'memory', 'chips', 'mobile', 'phones', 'TVs'], ['traditional', 'money', 'transfer', 'systems', 'reported', 'losing', 'kenyans', 'turn', 'mobile', 'phone', 'transfer', 'platforms', 'offer', 'instant', 'cash', 'movement', 'enhanced', 'security', 'low', 'transaction', 'fees'], ['kate', 'gerry', 'McCann', 'due', 'give', 'evidence', 'today', 'leveson', 'inquiry', 'experiences', 'media', 'daughter', 'madeleine', 'went', 'missing'], ['former', 'state', 'sen', 'james', 'marzilli', 'pleaded', 'guilty', 'today', 'resisting', 'arrest', 'disorderly', 'conduct', 'accosting', 'four', 'women'], ['McCarran', 'shut', 'tram', 'gates'], ['HAMBURG', 'NY', 'overnight', 'fire', 'destroyed', 'cottage', 'south', 'shore', 'drive', 'hamburg'], ['CRPF', 'jawan', 'hailing', 'maranalloor', 'near', 'malayinkeezhu', 'killed', 'shooting', 'two', 'colleagues', 'silpara', 'camp', 'west', 'midnapore'], ['casey', 'anthony', 'reportedly', 'hid', 'new', 'york', 'following', 'acquittal', 'charges', 'murdered', 'little', 'girl', 'caylee', 'anthony'], ['essex', 'skipper', 'mark', 'pettini', 'assured', 'fit', 'new', 'season', 'undergoing', 'groin', 'operation'], ['refac', 'launched', 'fully', 'costed', 'comprehensive', 'reach', 'representative', 'service']]\n"
     ]
    }
   ],
   "execution_count": 16
  },
  {
   "cell_type": "code",
   "metadata": {
    "collapsed": false,
    "pycharm": {
     "name": "#%%\n"
    },
    "ExecuteTime": {
     "end_time": "2025-04-22T19:05:03.433051Z",
     "start_time": "2025-04-22T19:05:02.296315Z"
    }
   },
   "source": [
    "tokenized_compressed = split_ds['train']['compressed_tokens']\n",
    "print(len(tokenized_compressed))\n",
    "print(tokenized_compressed[:10])"
   ],
   "outputs": [
    {
     "name": "stdout",
     "output_type": "stream",
     "text": [
      "144000\n",
      "[['samsung', 'promotes', 'chairman', \"'s\", 'son', 'vice', 'chairman'], ['traditional', 'money', 'transfer', 'systems', 'lose', 'kenyans', 'turn', 'mobile', 'phone', 'transfer'], ['kate', 'gerry', 'McCann', 'give', 'evidence', 'leveson', 'inquiry'], ['marzilli', 'pleads', 'guilty'], ['McCarran', 'shuts', 'tram'], ['fire', 'destroys', 'cottage', 'hamburg'], ['jawan', 'kills', 'shooting', 'colleagues'], ['casey', 'anthony', 'hid', 'new', 'york', 'following', 'acquittal'], ['pettini', 'fit', 'new', 'season'], ['refac', 'launches', 'representative', 'service']]\n"
     ]
    }
   ],
   "execution_count": 17
  },
  {
   "cell_type": "markdown",
   "metadata": {
    "id": "ZDGwEiZeCA5U",
    "pycharm": {
     "name": "#%% md\n"
    }
   },
   "source": [
    "Notice the difference in the types of the different structures we use. Run the following cell to check the types. Do they make sense to you?"
   ]
  },
  {
   "cell_type": "code",
   "metadata": {
    "id": "wKrkFmcZCtOd",
    "pycharm": {
     "name": "#%%\n"
    },
    "ExecuteTime": {
     "end_time": "2025-04-22T19:05:08.734174Z",
     "start_time": "2025-04-22T19:05:03.443819Z"
    }
   },
   "source": [
    "#type of original dataset\n",
    "print(type(split_ds))\n",
    "print(\"--\")\n",
    "#type of original sentence\n",
    "print(split_ds['train'][1])\n",
    "print(type(split_ds['train'][1]))\n",
    "print(\"--\")\n",
    "#type of pre-proceesed sentence\n",
    "print(split_ds['train']['clean_sentence'][1])\n",
    "print(type(split_ds['train']['clean_sentence'][1]))\n",
    "print(\"--\")\n",
    "#type of tokenized sentence\n",
    "print(split_ds['train']['sentence_tokens'][1])\n",
    "print(type(split_ds['train']['sentence_tokens'][1]))\n",
    "print(\"--\")"
   ],
   "outputs": [
    {
     "name": "stdout",
     "output_type": "stream",
     "text": [
      "<class 'datasets.dataset_dict.DatasetDict'>\n",
      "--\n",
      "{'set': ['Traditional money transfer systems are reported to be losing out as Kenyans turn to mobile phone transfer platforms that offer instant cash movement, enhanced security and low transaction fees.', 'Traditional money transfer systems lose out as Kenyans turn to mobile phone transfer:'], 'clean_sentence': 'traditional money transfer systems reported losing kenyans turn mobile phone transfer platforms offer instant cash movement enhanced security low transaction fees', 'clean_compressed': 'traditional money transfer systems lose kenyans turn mobile phone transfer', 'sentence_tokens': ['traditional', 'money', 'transfer', 'systems', 'reported', 'losing', 'kenyans', 'turn', 'mobile', 'phone', 'transfer', 'platforms', 'offer', 'instant', 'cash', 'movement', 'enhanced', 'security', 'low', 'transaction', 'fees'], 'compressed_tokens': ['traditional', 'money', 'transfer', 'systems', 'lose', 'kenyans', 'turn', 'mobile', 'phone', 'transfer']}\n",
      "<class 'dict'>\n",
      "--\n",
      "traditional money transfer systems reported losing kenyans turn mobile phone transfer platforms offer instant cash movement enhanced security low transaction fees\n",
      "<class 'str'>\n",
      "--\n",
      "['traditional', 'money', 'transfer', 'systems', 'reported', 'losing', 'kenyans', 'turn', 'mobile', 'phone', 'transfer', 'platforms', 'offer', 'instant', 'cash', 'movement', 'enhanced', 'security', 'low', 'transaction', 'fees']\n",
      "<class 'list'>\n",
      "--\n"
     ]
    }
   ],
   "execution_count": 18
  },
  {
   "cell_type": "markdown",
   "metadata": {
    "collapsed": false,
    "pycharm": {
     "name": "#%% md\n"
    }
   },
   "source": [
    "## 2. Bag of Words\n",
    "In this section you will built a bag-of-words representation of the dataset. We will use numpy arrays to store the results. The bag-of-words representation is a simple and effective way to represent text data. It involves creating a vocabulary of unique words from the dataset and representing each sentence as a vector of word counts. We first need the vocabulary, which we will build from both the full sentences and the compressed sentences. Similar to the first lab, the vocabulary will be a list of unique words from the dataset."
   ]
  },
  {
   "cell_type": "markdown",
   "metadata": {
    "collapsed": false,
    "pycharm": {
     "name": "#%% md\n"
    }
   },
   "source": [
    "<a name='e3'></a>\n",
    "### Exercise 3: Extracting vocabulary counts\n",
    "\n",
    "(1p) In the following cell, you will implement a function that takes a list of tokenized sentences and returns a dictionary with the counts of each word in the vocabulary. The dictionary should be of the form {word: count}. As in previous lab, you will use the `Counter` class from the `collections` module to do this."
   ]
  },
  {
   "cell_type": "code",
   "metadata": {
    "collapsed": false,
    "pycharm": {
     "name": "#%%\n"
    },
    "ExecuteTime": {
     "end_time": "2025-04-22T19:05:08.747318Z",
     "start_time": "2025-04-22T19:05:08.743906Z"
    }
   },
   "source": [
    "from collections import Counter\n",
    "\n",
    "\n",
    "def extract_vocabulary_counts(tokenized_sentences):\n",
    "    \"\"\"\n",
    "    Extracts the vocabulary from the tokenized sentences\n",
    "    Args:\n",
    "        tokenized_sentences: a list of lists of tokens\n",
    "\n",
    "    Returns: a Counter object with the counts of each word in the vocabulary\n",
    "    \"\"\"\n",
    "\n",
    "    ### YOUR CODE HERE\n",
    "    # copilot used when writing the code\n",
    "    counter = Counter()\n",
    "    for sentence in tokenized_sentences:\n",
    "        counter.update(sentence)\n",
    "    return counter\n",
    "    ### YOUR CODE ENDS HERE"
   ],
   "outputs": [],
   "execution_count": 19
  },
  {
   "cell_type": "code",
   "metadata": {
    "collapsed": false,
    "pycharm": {
     "name": "#%%\n"
    },
    "ExecuteTime": {
     "end_time": "2025-04-22T19:05:09.598321Z",
     "start_time": "2025-04-22T19:05:08.793082Z"
    }
   },
   "source": [
    "vocab_counter = extract_vocabulary_counts(tokenized_sentences + tokenized_compressed)\n",
    "print(len(vocab_counter))\n",
    "print(vocab_counter.most_common(10))"
   ],
   "outputs": [
    {
     "name": "stdout",
     "output_type": "stream",
     "text": [
      "122733\n",
      "[(\"'s\", 28820), ('new', 19955), ('said', 19914), ('man', 12059), ('US', 10655), ('today', 10059), ('police', 9734), ('two', 9202), ('first', 8066), ('announced', 7728)]\n"
     ]
    }
   ],
   "execution_count": 20
  },
  {
   "cell_type": "markdown",
   "metadata": {
    "collapsed": false,
    "pycharm": {
     "name": "#%% md\n"
    }
   },
   "source": [
    "As you can see the size of the vocabulary is quite large. Like the last time, we will limit the vocabulary to the most frequent words. The next cell will create a dictionary that maps each word to an index in the vocabulary. This will be used to create the bag-of-words representation of the sentences."
   ]
  },
  {
   "cell_type": "code",
   "metadata": {
    "collapsed": false,
    "pycharm": {
     "name": "#%%\n"
    },
    "ExecuteTime": {
     "end_time": "2025-04-22T19:05:09.920659Z",
     "start_time": "2025-04-22T19:05:09.607915Z"
    }
   },
   "source": [
    "vocab_size = 10_000\n",
    "vocab = vocab_counter.most_common(vocab_size)\n",
    "token_to_id = {word: i for i, (word, _) in enumerate(vocab)}\n",
    "print(token_to_id)"
   ],
   "outputs": [
    {
     "name": "stdout",
     "output_type": "stream",
     "text": [
      "{\"'s\": 0, 'new': 1, 'said': 2, 'man': 3, 'US': 4, 'today': 5, 'police': 6, 'two': 7, 'first': 8, 'announced': 9, 'tuesday': 10, 'year': 11, 'wednesday': 12, 'state': 13, 'thursday': 14, 'monday': 15, 'friday': 16, 'president': 17, 'former': 18, 'says': 19, 'world': 20, 'one': 21, 'million': 22, 'city': 23, 'according': 24, 'last': 25, 'county': 26, 'saturday': 27, 'may': 28, 'woman': 29, 'week': 30, 'government': 31, 'minister': 32, 'years': 33, 'sunday': 34, 'company': 35, 'three': 36, 'people': 37, 'home': 38, 'night': 39, 'india': 40, 'time': 41, 'bank': 42, 'killed': 43, 'national': 44, 'day': 45, 'south': 46, 'next': 47, 'arrested': 48, 'court': 49, 'morning': 50, 'found': 51, 'died': 52, 'set': 53, 'country': 54, 'charged': 55, 'school': 56, 'obama': 57, 'second': 58, 'would': 59, 'could': 60, 'group': 61, 'back': 62, 'reported': 63, 'market': 64, 'international': 65, 'fire': 66, 'china': 67, 'business': 68, 'team': 69, 'open': 70, 'season': 71, 'oil': 72, 'house': 73, 'charges': 74, 'service': 75, 'early': 76, 'reports': 77, 'north': 78, 'star': 79, 'car': 80, 'news': 81, 'prices': 82, 'inc': 83, 'united': 84, 'high': 85, 'month': 86, 'plans': 87, 'officials': 88, 'global': 89, 'four': 90, 'dies': 91, 'hospital': 92, 'guilty': 93, 'following': 94, 'public': 95, 'report': 96, 'billion': 97, 'death': 98, 'yesterday': 99, 'services': 100, 'american': 101, 'released': 102, 'chief': 103, 'league': 104, 'health': 105, 'federal': 106, 'office': 107, 'say': 108, 'near': 109, 'hit': 110, 'show': 111, 'help': 112, 'west': 113, 'pakistan': 114, 'end': 115, 'york': 116, 'made': 117, 'game': 118, '2012': 119, '10': 120, 'make': 121, 'financial': 122, 'months': 123, 'security': 124, 'percent': 125, 'accused': 126, 'take': 127, 'indian': 128, 'coach': 129, 'five': 130, 'another': 131, 'economic': 132, 'per': 133, 'play': 134, 'top': 135, 'john': 136, 'local': 137, 'women': 138, 'announces': 139, 'jobs': 140, 'life': 141, 'launched': 142, 'official': 143, 'expected': 144, 'third': 145, 'european': 146, 'center': 147, 'british': 148, 'work': 149, 'dead': 150, 'power': 151, 'major': 152, 'part': 153, 'energy': 154, 'university': 155, 'record': 156, 'launches': 157, 'cup': 158, 'deal': 159, 'trade': 160, 'win': 161, 'party': 162, 'leader': 163, 'general': 164, 'officer': 165, 'told': 166, 'crash': 167, 'shot': 168, 'cut': 169, 'held': 170, 'UK': 171, 'march': 172, '1': 173, 'left': 174, 'get': 175, 'media': 176, 'gas': 177, 'return': 178, 'men': 179, 'states': 180, 'due': 181, 'stocks': 182, 'close': 183, 'support': 184, '2010': 185, 'days': 186, 'air': 187, 'department': 188, 'street': 189, 'club': 190, 'children': 191, 'online': 192, 'free': 193, 'foreign': 194, 'child': 195, 'six': 196, 'since': 197, 'area': 198, 'central': 199, 'economy': 200, 'head': 201, 'launch': 202, 'sales': 203, 'district': 204, 'family': 205, 'bill': 206, 'weekend': 207, 'capital': 208, 'release': 209, 'still': 210, 'called': 211, 'injured': 212, 'drug': 213, 'start': 214, 'visit': 215, '2011': 216, 'including': 217, 'london': 218, 'road': 219, 'prime': 220, 'face': 221, 'mobile': 222, 'series': 223, 'afternoon': 224, 'quarter': 225, 'shares': 226, 'board': 227, 'military': 228, 'june': 229, 'dollar': 230, 'best': 231, 'tax': 232, '2': 233, 'australia': 234, 'attack': 235, 'park': 236, 'system': 237, 'students': 238, 'st': 239, 'industry': 240, 'tour': 241, 'david': 242, 'iran': 243, 'fall': 244, '20': 245, 'development': 246, 'despite': 247, 'signed': 248, 'final': 249, 'campaign': 250, 'stock': 251, 'april': 252, 'like': 253, 'markets': 254, 'australian': 255, 'data': 256, 'fell': 257, 'across': 258, 'football': 259, '11': 260, 'film': 261, 'cancer': 262, 'east': 263, 'wins': 264, 'barack': 265, 'sentenced': 266, 'water': 267, 'meeting': 268, 'big': 269, 'go': 270, 'growth': 271, 'corp': 272, 'way': 273, 'afghanistan': 274, 'manager': 275, 'plan': 276, 'council': 277, 'talks': 278, '2009': 279, 'contract': 280, 'around': 281, 'management': 282, 'pay': 283, '2013': 284, 'research': 285, 'gold': 286, 'agency': 287, 'law': 288, 'leading': 289, 'late': 290, 'england': 291, 'washington': 292, 'buy': 293, '30': 294, 'actor': 295, 'move': 296, 'revealed': 297, 'authorities': 298, 'food': 299, 'money': 300, 'director': 301, 'chinese': 302, 'allegedly': 303, 'run': 304, 'price': 305, 'rate': 306, 'prison': 307, 'case': 308, 'games': 309, 'host': 310, 'confirmed': 311, 'largest': 312, 'program': 313, '15': 314, 'test': 315, 'michael': 316, 'annual': 317, 'conference': 318, 'several': 319, '3': 320, 'political': 321, 'increase': 322, 'russia': 323, 'agreement': 324, 'white': 325, 'america': 326, 'san': 327, 'music': 328, 'union': 329, 'medical': 330, 'private': 331, 'wants': 332, 'crisis': 333, 'town': 334, 'murder': 335, 'number': 336, 'firm': 337, 'network': 338, '12': 339, 'japan': 340, 'technology': 341, 'investment': 342, 'community': 343, 'canada': 344, 'hold': 345, 'saying': 346, 'closed': 347, 'higher': 348, 'girl': 349, 'budget': 350, 'recent': 351, 'july': 352, 'TV': 353, 'young': 354, 'press': 355, 'latest': 356, 'share': 357, 'companies': 358, 'workers': 359, 'use': 360, 'recently': 361, 'demand': 362, 'college': 363, 'continue': 364, 'good': 365, 'surgery': 366, 'wife': 367, 'lead': 368, 'red': 369, 'right': 370, 'provider': 371, 'nearly': 372, 'actress': 373, 'many': 374, 'rise': 375, 'taking': 376, 'secretary': 377, 'shooting': 378, 'offer': 379, 'live': 380, 'study': 381, 'rose': 382, 'senior': 383, 'line': 384, 'sex': 385, 'place': 386, 'well': 387, 'making': 388, 'age': 389, 'rights': 390, 'away': 391, '5': 392, 'election': 393, 'named': 394, 'special': 395, 'french': 396, 'become': 397, 'trial': 398, 'credit': 399, 'war': 400, 'assault': 401, 'lower': 402, 'likely': 403, 'production': 404, 'opened': 405, 'sign': 406, 'southern': 407, 'baby': 408, 'korea': 409, 'care': 410, 'senate': 411, 'body': 412, 'long': 413, 'cent': 414, 'going': 415, 'video': 416, 'action': 417, 'texas': 418, 'israel': 419, 'store': 420, 'january': 421, 'fight': 422, 'meet': 423, 'judge': 424, 'social': 425, 'signs': 426, 'trading': 427, 'updated': 428, 'debt': 429, 'ahead': 430, 'facing': 431, 'forces': 432, 'region': 433, 'congress': 434, 'rates': 435, 'loss': 436, 'los': 437, 'presidential': 438, 'centre': 439, 'faces': 440, 'weeks': 441, 'singer': 442, 'information': 443, 'charge': 444, 'accident': 445, 'mark': 446, 'africa': 447, 'russian': 448, 'opens': 449, '2008': 450, 'hours': 451, 'investors': 452, 'also': 453, 'members': 454, 'grand': 455, 'europe': 456, 'emergency': 457, 'paul': 458, 'points': 459, 'fund': 460, 'real': 461, 'premier': 462, 'coast': 463, 'building': 464, 'title': 465, '100': 466, 'google': 467, 'governor': 468, 'nation': 469, 'plant': 470, 'strong': 471, 'apple': 472, 'ministry': 473, 'even': 474, 'profit': 475, 'players': 476, 'least': 477, 'past': 478, 'amid': 479, 'working': 480, 'small': 481, 'project': 482, 'ago': 483, 'rs': 484, 'filed': 485, 'calls': 486, 'pleaded': 487, 'banks': 488, 'products': 489, 'times': 490, 'nuclear': 491, 'results': 492, 'student': 493, 'interest': 494, 'february': 495, 'executive': 496, 'angeles': 497, 'september': 498, 'summer': 499, 'california': 500, '25': 501, '4': 502, 'boy': 503, 'player': 504, 'german': 505, 'force': 506, 'issued': 507, 'without': 508, 'side': 509, 'pleads': 510, 'cash': 511, 'future': 512, 'race': 513, 'fourth': 514, 'leaders': 515, 'falls': 516, 'beat': 517, 'france': 518, 'army': 519, 'delhi': 520, 'heart': 521, 'chairman': 522, 'order': 523, 'took': 524, 'software': 525, 'reportedly': 526, 'site': 527, 'earlier': 528, 'call': 529, 'change': 530, 'corporation': 531, 'old': 532, 'exchange': 533, 'agreed': 534, 'taken': 535, 'november': 536, 'seven': 537, 'claims': 538, 'driver': 539, 'half': 540, 'leave': 541, 'northern': 542, 'residents': 543, 'traffic': 544, 'sell': 545, 'makes': 546, 'bus': 547, 'lost': 548, 'forward': 549, 'injury': 550, 'florida': 551, 'coming': 552, 'asian': 553, 'pm': 554, 'role': 555, 'victory': 556, 'airlines': 557, 'human': 558, 'october': 559, 'us': 560, 'canadian': 561, 'looking': 562, 'need': 563, 'returns': 564, 'education': 565, 'issues': 566, 'control': 567, 'james': 568, 'republican': 569, 'operations': 570, 'internet': 571, '14': 572, 'great': 573, 'schools': 574, '13': 575, 'stop': 576, 'come': 577, 'opening': 578, '21': 579, 'sector': 580, 'suspended': 581, 'insurance': 582, 'cuts': 583, 'gov': 584, 'jail': 585, 'key': 586, 'policy': 587, 'parliament': 588, 'station': 589, 'fans': 590, '18': 591, 'chris': 592, 'training': 593, 'bid': 594, 'december': 595, 'round': 596, 'planning': 597, 'job': 598, 'website': 599, 'co': 600, 'match': 601, 'brown': 602, 'river': 603, 'continues': 604, 'evening': 605, 'israeli': 606, 'issue': 607, 'hall': 608, 'strike': 609, 'george': 610, 'killing': 611, 'raise': 612, 'sports': 613, 'august': 614, 'countries': 615, 'manchester': 616, '16': 617, 'association': 618, 'remain': 619, 'much': 620, 'green': 621, 'missing': 622, 'airport': 623, 'domestic': 624, 'driving': 625, 'got': 626, 'lake': 627, 'used': 628, 'arrest': 629, 'offering': 630, 'keep': 631, 'soon': 632, 'must': 633, 'troops': 634, 'album': 635, '50': 636, 'vehicle': 637, 'better': 638, 'biggest': 639, 'britain': 640, 'sale': 641, 'property': 642, 'guard': 643, 'takes': 644, 'consumer': 645, 'commission': 646, 'remains': 647, 'ready': 648, 'robert': 649, 'put': 650, 'black': 651, 'running': 652, 'shows': 653, 'mother': 654, 'full': 655, 'join': 656, 'trying': 657, 'customers': 658, 'construction': 659, 'island': 660, 'bankruptcy': 661, 'train': 662, 'received': 663, 'committee': 664, 'member': 665, 'led': 666, '7': 667, 'getting': 668, 'african': 669, '6': 670, 'brand': 671, 'current': 672, 'ended': 673, 'giant': 674, 'iraq': 675, 'investigating': 676, 'chicago': 677, 'euro': 678, 'facebook': 679, 'see': 680, 'officers': 681, 'want': 682, 'vote': 683, '17': 684, 'low': 685, 'sexual': 686, 'event': 687, 'weather': 688, 'session': 689, '8': 690, 'son': 691, 'safety': 692, 'give': 693, 'eight': 694, 'cricket': 695, 'retail': 696, 'among': 697, 'movie': 698, 'elections': 699, 'statement': 700, 'turkey': 701, 'hollywood': 702, 'post': 703, 'sold': 704, 'announce': 705, 'western': 706, 'level': 707, 'tonight': 708, 'search': 709, 'stage': 710, 'regional': 711, 'jackson': 712, 'sen': 713, 'champion': 714, 'career': 715, 'behind': 716, '24': 717, 'opposition': 718, 'little': 719, 'singh': 720, 'upcoming': 721, 'solutions': 722, 'outside': 723, 'couple': 724, 'target': 725, 'germany': 726, 'finance': 727, 'staff': 728, 'sri': 729, 'miss': 730, '22': 731, 'justice': 732, 'along': 733, 'space': 734, 'field': 735, 'border': 736, 'mortgage': 737, 'debut': 738, 'thousands': 739, 'history': 740, 'admitted': 741, 'later': 742, 'mayor': 743, 'gains': 744, 'suicide': 745, 'storm': 746, 'phone': 747, 'zealand': 748, 'championship': 749, 'warned': 750, 'struck': 751, 'selling': 752, 'love': 753, 'ban': 754, 'offers': 755, 'violence': 756, 'peace': 757, 'systems': 758, 'using': 759, 'based': 760, 'flu': 761, 'name': 762, 'candidate': 763, 'wall': 764, 'valley': 765, 'needs': 766, 'positive': 767, 'bay': 768, 'fuel': 769, 'within': 770, 'awards': 771, 'mexico': 772, 'maker': 773, 'middle': 774, 'growing': 775, 'anniversary': 776, 'olympic': 777, 'sent': 778, 'rock': 779, 'recovery': 780, 'risk': 781, 'leaving': 782, 'claimed': 783, 'soldiers': 784, 'protection': 785, 'raised': 786, 'attacks': 787, 'hotel': 788, 'festival': 789, 'mumbai': 790, 'practice': 791, 'spending': 792, 'protest': 793, 'almost': 794, 'given': 795, 'acquire': 796, 'loan': 797, 'list': 798, 'losses': 799, 'travel': 800, 'funds': 801, 'captain': 802, 'award': 803, 'cost': 804, 'plane': 805, 'beach': 806, 'build': 807, 'alleged': 808, 'provide': 809, 'microsoft': 810, 'williams': 811, 'television': 812, 'decision': 813, 'fraud': 814, 'asia': 815, 'performance': 816, 'eastern': 817, 'officially': 818, 'church': 819, 'confidence': 820, 'truck': 821, 'ltd': 822, 'housing': 823, 'changes': 824, 'johnson': 825, 'declared': 826, 'showed': 827, 'joint': 828, 'worth': 829, 'japanese': 830, 'land': 831, 'legal': 832, 'robbery': 833, 'employees': 834, 'UN': 835, 'battle': 836, 'smith': 837, 'drive': 838, 'administration': 839, 'act': 840, 'businesses': 841, 'georgia': 842, 'natural': 843, 'break': 844, 'democratic': 845, 'sheriff': 846, 'pressure': 847, 'less': 848, 'husband': 849, 'ever': 850, 'single': 851, 'owner': 852, 'father': 853, 'daily': 854, 'files': 855, '9': 856, 'possible': 857, 'approved': 858, 'highway': 859, 'step': 860, 'supply': 861, 'serious': 862, 'sources': 863, 'girls': 864, 'reserve': 865, 'deputy': 866, 'survey': 867, 'bush': 868, 'stay': 869, 'veteran': 870, 'radio': 871, 'rally': 872, 'interview': 873, 'known': 874, 'basketball': 875, 'asked': 876, 'defense': 877, '40': 878, 'joe': 879, '19': 880, 'attorney': 881, '31': 882, 'carolina': 883, 'inflation': 884, 'jailed': 885, 'daughter': 886, 'boost': 887, 'rep': 888, 'dr': 889, 'costs': 890, 'soldier': 891, 'acquired': 892, 'nine': 893, '23': 894, 'italian': 895, 'point': 896, 'seen': 897, 'fired': 898, 'increased': 899, 'web': 900, 'baseball': 901, 'mike': 902, 'heavy': 903, 'aid': 904, 'gay': 905, 'lady': 906, 'continued': 907, 'met': 908, 'stores': 909, 'armed': 910, 'king': 911, 'starting': 912, 'hopes': 913, 'returned': 914, 'injuries': 915, 'bond': 916, 'convicted': 917, 'whose': 918, 'syria': 919, 'fiscal': 920, 'never': 921, 'dropped': 922, 'digital': 923, 'justin': 924, 'boston': 925, 'areas': 926, 'popular': 927, 'defence': 928, 'facility': 929, 'division': 930, 'spring': 931, 'striker': 932, 'stadium': 933, 'main': 934, 'champions': 935, 'vice': 936, 'khan': 937, 'teacher': 938, 'drop': 939, 'book': 940, 'martin': 941, 'commercial': 942, 'de': 943, 'palestinian': 944, 'might': 945, 'futures': 946, 'know': 947, 'projects': 948, 'gets': 949, 'appointed': 950, 'falling': 951, 'straight': 952, 'went': 953, 'homes': 954, 'total': 955, 'completed': 956, 'christmas': 957, 'warning': 958, '26': 959, 'jones': 960, 'tom': 961, 'pakistani': 962, 'moving': 963, 'investigation': 964, 'joined': 965, 'spokesman': 966, 'gun': 967, 'flights': 968, 'begin': 969, 'boss': 970, 'turned': 971, 'partnership': 972, 'calif': 973, 'recession': 974, 'partner': 975, 'decided': 976, 'playing': 977, 'nations': 978, 'bomb': 979, 'look': 980, 'reached': 981, 'common': 982, 'passed': 983, 'stars': 984, 'every': 985, 'winter': 986, 'create': 987, 'prince': 988, 'bring': 989, 'ryan': 990, 'connection': 991, 'person': 992, 'NFL': 993, 'super': 994, 'failed': 995, 'front': 996, 'ohio': 997, 'dog': 998, 'al': 999, 'large': 1000, 'criminal': 1001, 'giving': 1002, 'civil': 1003, 'suffered': 1004, 'concerns': 1005, 'paid': 1006, 'term': 1007, 'band': 1008, 'drugs': 1009, 'ground': 1010, 'winning': 1011, 'supreme': 1012, 'steve': 1013, 'spain': 1014, 'started': 1015, 'hits': 1016, 'unit': 1017, 'raises': 1018, 'earnings': 1019, 'conditions': 1020, 'seeking': 1021, 'abuse': 1022, 'flight': 1023, 'efforts': 1024, 'birth': 1025, '27': 1026, 'crashed': 1027, 'communications': 1028, 'parts': 1029, 'caught': 1030, 'THE': 1031, 'twitter': 1032, 'yet': 1033, 'forced': 1034, 'find': 1035, 'watch': 1036, 'leaves': 1037, 'problems': 1038, 'suspected': 1039, '28': 1040, 'treatment': 1041, 'together': 1042, 'celebrate': 1043, 'double': 1044, 'suspect': 1045, 'michigan': 1046, 'scheduled': 1047, 'already': 1048, 'funding': 1049, 'finally': 1050, 'expand': 1051, 'operation': 1052, 'goes': 1053, 'published': 1054, 'begins': 1055, 'stake': 1056, 'afghan': 1057, 'banking': 1058, 'assembly': 1059, 'unemployment': 1060, 'CEO': 1061, 'involved': 1062, 'joins': 1063, 'lawsuit': 1064, 'attacked': 1065, 'improve': 1066, 'personal': 1067, 'cooperation': 1068, 'jury': 1069, 'camp': 1070, 'robbed': 1071, 'turkish': 1072, 'holding': 1073, 'caused': 1074, 'access': 1075, 'levels': 1076, 'earthquake': 1077, 'sydney': 1078, 'hundreds': 1079, 'taylor': 1080, 'perform': 1081, 'unveiled': 1082, 'whether': 1083, 'kill': 1084, 'added': 1085, 'marriage': 1086, 'reduce': 1087, 'peter': 1088, 'lanka': 1089, 'lee': 1090, 'banned': 1091, 'save': 1092, 'retirement': 1093, 'light': 1094, 'posted': 1095, 'steel': 1096, 'index': 1097, 'revenue': 1098, 'houston': 1099, 'iranian': 1100, 'base': 1101, 'corporate': 1102, 'senator': 1103, 'kim': 1104, 'process': 1105, 'fashion': 1106, 'liverpool': 1107, 'egypt': 1108, 'arrived': 1109, 'romney': 1110, 'clinton': 1111, 'ambassador': 1112, 'rising': 1113, 'releases': 1114, 'range': 1115, 'tomorrow': 1116, 'urged': 1117, 'producer': 1118, 'minnesota': 1119, 'incident': 1120, 'italy': 1121, 'soccer': 1122, 'magazine': 1123, 'rules': 1124, 'cases': 1125, 'ireland': 1126, 'syrian': 1127, 'equity': 1128, 'scott': 1129, 'village': 1130, 'dividend': 1131, 'cars': 1132, 'minor': 1133, 'royal': 1134, 'industrial': 1135, 'assets': 1136, 'class': 1137, 'track': 1138, 'platform': 1139, 'patients': 1140, 'net': 1141, 'holiday': 1142, 'living': 1143, 'spanish': 1144, 'jan': 1145, 'iPhone': 1146, 'stabbed': 1147, 'dubai': 1148, 'province': 1149, 'saudi': 1150, 'tournament': 1151, 'calling': 1152, 'solar': 1153, 'users': 1154, 'crude': 1155, 'illegal': 1156, 'marketing': 1157, 'reach': 1158, 'gulf': 1159, 'rest': 1160, 'proposed': 1161, 'available': 1162, 'broke': 1163, 'sea': 1164, 'wanted': 1165, 'primary': 1166, 'model': 1167, 'stolen': 1168, 'review': 1169, 'returning': 1170, 'admits': 1171, 'toronto': 1172, 'condition': 1173, 'comes': 1174, 'concert': 1175, 'quarterly': 1176, 'EU': 1177, 'period': 1178, 'relations': 1179, 'records': 1180, '500': 1181, 'independent': 1182, 'birthday': 1183, 'cabinet': 1184, 'rape': 1185, 'crime': 1186, 'worldwide': 1187, 'midfielder': 1188, 'ceremony': 1189, 'stand': 1190, 'channel': 1191, 'ruled': 1192, 'think': 1193, 'entertainment': 1194, 'hard': 1195, 'girlfriend': 1196, 'chelsea': 1197, 'appeal': 1198, 'dollars': 1199, 'card': 1200, 'ordered': 1201, 'extended': 1202, 'manufacturing': 1203, 'direct': 1204, 'competition': 1205, 'auto': 1206, 'fifth': 1207, 'bridge': 1208, 'resources': 1209, 'far': 1210, 'jennifer': 1211, 'disease': 1212, 'corruption': 1213, 'potential': 1214, 'fort': 1215, 'divorce': 1216, 'affairs': 1217, 'rises': 1218, 'threat': 1219, 'tony': 1220, 'figures': 1221, 'gives': 1222, 'technologies': 1223, 'youth': 1224, 'jersey': 1225, 'suffering': 1226, 'damage': 1227, 'institute': 1228, 'NBA': 1229, 'came': 1230, 'helped': 1231, 'blue': 1232, 'americans': 1233, 'felony': 1234, 'fresh': 1235, 'estate': 1236, 'stealing': 1237, 'taiwan': 1238, 'moved': 1239, 'singapore': 1240, 'operator': 1241, 'korean': 1242, 'kevin': 1243, 'celebrates': 1244, 'seek': 1245, 'receive': 1246, 'agent': 1247, 'turn': 1248, 'product': 1249, 'split': 1250, 'others': 1251, 'newspaper': 1252, 'tiger': 1253, 'indicted': 1254, 'greece': 1255, 'brazil': 1256, 'acquisition': 1257, 'apartment': 1258, 'overnight': 1259, 'inside': 1260, 'barrel': 1261, 'ship': 1262, 'partners': 1263, 'planned': 1264, 'previous': 1265, 'source': 1266, 'scientists': 1267, 'strategic': 1268, 'taliban': 1269, 'ali': 1270, 'weak': 1271, 'played': 1272, 'programme': 1273, 'deficit': 1274, 'kansas': 1275, 'short': 1276, 'militants': 1277, 'pop': 1278, 'morgan': 1279, 'brother': 1280, 'female': 1281, 'airline': 1282, 'limited': 1283, 'massive': 1284, 'gaza': 1285, 'quality': 1286, 'writer': 1287, 'downtown': 1288, '29': 1289, '200': 1290, 'colorado': 1291, 'NATO': 1292, 'researchers': 1293, 'appear': 1294, 'louis': 1295, 'room': 1296, 'bad': 1297, 'buying': 1298, 'cause': 1299, 'charity': 1300, 'las': 1301, 'expects': 1302, 'queen': 1303, 'form': 1304, 'mining': 1305, 'highest': 1306, 'arizona': 1307, 'pregnant': 1308, 'ties': 1309, 'scheme': 1310, 'offered': 1311, 'society': 1312, 'teachers': 1313, 'challenge': 1314, 'acquires': 1315, 'address': 1316, 'boat': 1317, 'paris': 1318, 'talk': 1319, 'victims': 1320, 'parents': 1321, 'orders': 1322, 'winner': 1323, 'receives': 1324, 'perry': 1325, 'friends': 1326, 'authority': 1327, 'draft': 1328, 'fair': 1329, 'fox': 1330, 'controversial': 1331, 'losing': 1332, 'firefighters': 1333, 'hospitalized': 1334, 'adding': 1335, 'focus': 1336, 'wedding': 1337, 'groups': 1338, 'vehicles': 1339, 'aircraft': 1340, 'swine': 1341, 'voted': 1342, '60': 1343, 'malaysia': 1344, 'looks': 1345, 'illinois': 1346, 'virginia': 1347, 'memorial': 1348, 'course': 1349, 'heard': 1350, 'coal': 1351, 'towards': 1352, 'terms': 1353, 'teen': 1354, 'discuss': 1355, 'leads': 1356, 'airways': 1357, 'iowa': 1358, 'flat': 1359, 'began': 1360, 'date': 1361, 'climate': 1362, 'operating': 1363, 'income': 1364, 'fame': 1365, 'andrew': 1366, 'draw': 1367, 'jim': 1368, 'vegas': 1369, 'tried': 1370, 'doctors': 1371, 'restaurant': 1372, 'voters': 1373, 'response': 1374, 'republic': 1375, 'average': 1376, 'reform': 1377, 'measures': 1378, 'situation': 1379, 'libya': 1380, 'rating': 1381, 'fighting': 1382, 'beating': 1383, 'cutting': 1384, 'McCain': 1385, 'enough': 1386, 'hand': 1387, 'effort': 1388, 'investigate': 1389, 'friend': 1390, 'defender': 1391, 'miami': 1392, 'claim': 1393, 'worker': 1394, 'tennis': 1395, 'currently': 1396, 'lot': 1397, 'port': 1398, 'defeat': 1399, 'hill': 1400, 'denied': 1401, 'meets': 1402, 'bail': 1403, 'snow': 1404, 'developer': 1405, 'fatal': 1406, 'labor': 1407, 'blood': 1408, 'bills': 1409, 'academy': 1410, 'allow': 1411, 'hurricane': 1412, 'fined': 1413, 'mission': 1414, 'farmers': 1415, 'sells': 1416, 'legend': 1417, 'committed': 1418, 'starts': 1419, 'celebrity': 1420, 'flood': 1421, 'rival': 1422, 'gave': 1423, 'elected': 1424, 'forecast': 1425, 'MP': 1426, 'compared': 1427, 'van': 1428, 'lose': 1429, 'diego': 1430, 'irish': 1431, 'theft': 1432, 'moves': 1433, 'rangers': 1434, 'kelly': 1435, 'harry': 1436, 'teams': 1437, 'engaged': 1438, 'wireless': 1439, 'critical': 1440, 'considering': 1441, 'environment': 1442, 'closing': 1443, 'rain': 1444, 'detroit': 1445, 'protesters': 1446, 'completes': 1447, 'additional': 1448, 'reporting': 1449, 'view': 1450, 'hockey': 1451, 'turns': 1452, 'rescue': 1453, 'greek': 1454, 'worst': 1455, 'william': 1456, 'shut': 1457, 'woods': 1458, 'currency': 1459, 'organization': 1460, 'retire': 1461, 'elderly': 1462, 'alex': 1463, 'rugby': 1464, 'contest': 1465, 'introduced': 1466, 'though': 1467, 'exports': 1468, 'dec': 1469, 'grant': 1470, 'knee': 1471, 'rebels': 1472, 'x': 1473, 'different': 1474, 'victim': 1475, 'replace': 1476, 'benefits': 1477, 'madrid': 1478, 'attempt': 1479, 'dallas': 1480, 'loans': 1481, 'navy': 1482, 'summit': 1483, 'feb': 1484, 'custody': 1485, 'hearing': 1486, 'rescued': 1487, 'dispute': 1488, 'ben': 1489, 'electric': 1490, 'poor': 1491, 'securities': 1492, 'pirates': 1493, 'runs': 1494, 'farm': 1495, 'effective': 1496, 'becoming': 1497, 'lawmakers': 1498, 'motor': 1499, 'threatened': 1500, 'position': 1501, 'events': 1502, 'separate': 1503, 'holds': 1504, 'pacific': 1505, 'celebrated': 1506, 'believe': 1507, 'nov': 1508, 'resigned': 1509, 'boys': 1510, 'arrives': 1511, 'aug': 1512, 'venture': 1513, 'squad': 1514, 'boyfriend': 1515, 'francisco': 1516, 'azerbaijan': 1517, 'matt': 1518, 'andy': 1519, 'believes': 1520, 'wind': 1521, 'saw': 1522, 'ford': 1523, 'computer': 1524, 'headed': 1525, 'golf': 1526, 'charlie': 1527, 'successful': 1528, 'cell': 1529, 'transfer': 1530, 'seriously': 1531, 'hong': 1532, 'protect': 1533, 'spot': 1534, 'wayne': 1535, 'broken': 1536, 'indonesia': 1537, 'visits': 1538, 'present': 1539, 'pulled': 1540, 'hot': 1541, 'kardashian': 1542, 'mixed': 1543, 'resume': 1544, 'mr': 1545, 'beginning': 1546, 'tourism': 1547, 'resign': 1548, 'block': 1549, 'bollywood': 1550, 'atlanta': 1551, 'result': 1552, 'equipment': 1553, 'films': 1554, 'lohan': 1555, 'involving': 1556, 'headquarters': 1557, 'multiple': 1558, 'bonds': 1559, 'families': 1560, 'owners': 1561, 'chance': 1562, 'industries': 1563, 'forest': 1564, 'millions': 1565, 'weapons': 1566, 'la': 1567, 'ends': 1568, 'decline': 1569, 'kashmir': 1570, 'kills': 1571, 'severe': 1572, 'avoid': 1573, 'tim': 1574, 'citizens': 1575, 'bringing': 1576, 'brought': 1577, 'slightly': 1578, 'various': 1579, 'zone': 1580, 'indiana': 1581, 'beijing': 1582, 'directors': 1583, 'toyota': 1584, 'launching': 1585, 'richard': 1586, 'brain': 1587, 'lindsay': 1588, 'retailer': 1589, 'showing': 1590, 'ending': 1591, 'value': 1592, 'sets': 1593, 'cloud': 1594, 'giants': 1595, 'kong': 1596, 'shop': 1597, 'package': 1598, 'quit': 1599, 'drivers': 1600, 'hope': 1601, 'kate': 1602, 'carrier': 1603, 'problem': 1604, 'entered': 1605, 'effect': 1606, 'develop': 1607, 'kids': 1608, 'complex': 1609, 'invest': 1610, 'fears': 1611, 'chase': 1612, 'heat': 1613, 'foundation': 1614, 'quarterback': 1615, 'cities': 1616, 'consumers': 1617, 'doctor': 1618, 'manufacturer': 1619, 'tests': 1620, 'commissioner': 1621, 'conduct': 1622, 'missouri': 1623, 'version': 1624, 'cross': 1625, 'classic': 1626, 'married': 1627, 'alliance': 1628, 'landing': 1629, 'application': 1630, 'account': 1631, 'tribute': 1632, 'trust': 1633, 'english': 1634, 'crashes': 1635, 'stewart': 1636, 'distribution': 1637, 'professional': 1638, 'environmental': 1639, 'tree': 1640, 'trip': 1641, 'row': 1642, 'song': 1643, 'parties': 1644, 'poll': 1645, 'oct': 1646, 'huge': 1647, 'reelection': 1648, 'related': 1649, 'township': 1650, 'raising': 1651, 'jason': 1652, 'die': 1653, 'design': 1654, 'associated': 1655, 'activity': 1656, 'grow': 1657, 'impact': 1658, 'jack': 1659, 'bowl': 1660, 'seeks': 1661, 'sir': 1662, 'samsung': 1663, 'increases': 1664, 'things': 1665, 'recovering': 1666, 'expansion': 1667, 'crimes': 1668, 'gone': 1669, 'progress': 1670, 'minutes': 1671, 'solution': 1672, 'became': 1673, 'citing': 1674, 'cleared': 1675, 'wisconsin': 1676, 'passes': 1677, 'simon': 1678, 'ice': 1679, 'debate': 1680, 'bangladesh': 1681, 'ukraine': 1682, 'awarded': 1683, 'safe': 1684, 'terror': 1685, 'cameron': 1686, 'journal': 1687, 'reality': 1688, 'labour': 1689, 'helping': 1690, 'fan': 1691, 'square': 1692, 'sanctions': 1693, 'important': 1694, 'metal': 1695, 'content': 1696, 'strikes': 1697, 'advanced': 1698, 'aimed': 1699, 'capacity': 1700, 'benefit': 1701, 'assistant': 1702, 'scored': 1703, 'extend': 1704, 'rupee': 1705, '2007': 1706, 'ratings': 1707, 'protests': 1708, 'transport': 1709, 'needed': 1710, \"n't\": 1711, 'arts': 1712, 'politics': 1713, 'strategy': 1714, 'rick': 1715, 'causing': 1716, 'increasing': 1717, 'leadership': 1718, 'feels': 1719, 'ministers': 1720, 'allen': 1721, 'chain': 1722, 'holdings': 1723, 'BBC': 1724, 'motors': 1725, 'remained': 1726, 'unveils': 1727, 'sexually': 1728, 'mass': 1729, 'patent': 1730, 'steps': 1731, 'motorcycle': 1732, 'attempted': 1733, 'profits': 1734, 'sharply': 1735, 'employee': 1736, 'breaks': 1737, 'via': 1738, 'cast': 1739, 'mountain': 1740, 'bob': 1741, 'really': 1742, 'investor': 1743, 'carrying': 1744, 'sony': 1745, 'lives': 1746, 'USA': 1747, 'relief': 1748, 'animal': 1749, 'lines': 1750, 'wide': 1751, 'disaster': 1752, 'signing': 1753, 'philadelphia': 1754, 'regular': 1755, 'box': 1756, 'idol': 1757, 'science': 1758, 'lawyer': 1759, 'ca': 1760, 'stephen': 1761, 'milan': 1762, 'joining': 1763, 'seattle': 1764, 'barcelona': 1765, 'relationship': 1766, 'helicopter': 1767, 'art': 1768, 'sox': 1769, 'recall': 1770, 'firms': 1771, 'failing': 1772, 'metro': 1773, 'always': 1774, 'disabled': 1775, 'story': 1776, 'vs': 1777, 'nationwide': 1778, 'moscow': 1779, 'struggling': 1780, 'mitt': 1781, 'thomas': 1782, 'marijuana': 1783, 'historic': 1784, 'toward': 1785, 'attend': 1786, 'bieber': 1787, 'expecting': 1788, 'send': 1789, 'swiss': 1790, 'tennessee': 1791, 'prevent': 1792, 'goal': 1793, 'brian': 1794, 'applications': 1795, 'tackle': 1796, 'concern': 1797, 'punjab': 1798, 'works': 1799, 'closes': 1800, 'fast': 1801, 'II': 1802, 'spend': 1803, 'file': 1804, 'arab': 1805, 'comments': 1806, 'significant': 1807, 'able': 1808, 'enter': 1809, 'islamic': 1810, '1000': 1811, 'outlook': 1812, 'appoints': 1813, 'happy': 1814, 'healthcare': 1815, 'fires': 1816, 'detained': 1817, 'clear': 1818, 'ongoing': 1819, 'polls': 1820, 'BJP': 1821, 'activists': 1822, 'anthony': 1823, 'electronic': 1824, 'networks': 1825, 'crore': 1826, 'placed': 1827, 'leg': 1828, 'hamilton': 1829, 'cents': 1830, 'plants': 1831, 'auction': 1832, 'defensive': 1833, 'denies': 1834, 'pilot': 1835, 'developing': 1836, 'southwest': 1837, 'satellite': 1838, 'advisory': 1839, 'embassy': 1840, '35': 1841, 'spent': 1842, 'visited': 1843, 'arsenal': 1844, 'gain': 1845, 'patrick': 1846, 'warns': 1847, 'gordon': 1848, 'analysts': 1849, 'extension': 1850, '32': 1851, 'complete': 1852, 'battery': 1853, 'majority': 1854, 'bar': 1855, 'declares': 1856, 'delivery': 1857, 'throughout': 1858, 'customer': 1859, 'homicide': 1860, 'charles': 1861, 'approves': 1862, 'closer': 1863, 'shopping': 1864, 'ten': 1865, 'infrastructure': 1866, 'candidates': 1867, 'experts': 1868, 'activities': 1869, 'orleans': 1870, 'expectations': 1871, 'jets': 1872, 'posts': 1873, 'cleveland': 1874, 'telecom': 1875, 'zimbabwe': 1876, 'brazilian': 1877, 'trend': 1878, 'scotland': 1879, 'schedule': 1880, 'voice': 1881, 'cruise': 1882, 'settlement': 1883, 'experience': 1884, 'receiver': 1885, 'allowed': 1886, 'gaga': 1887, 'developed': 1888, 'clash': 1889, 'discovered': 1890, 'commerce': 1891, 'comedy': 1892, 'seized': 1893, 'factor': 1894, 'secret': 1895, 'avenue': 1896, 'rule': 1897, 'deadly': 1898, 'allegations': 1899, 'olympics': 1900, 'add': 1901, 'app': 1902, 'elizabeth': 1903, 'rare': 1904, 'IT': 1905, 'santa': 1906, 'qatar': 1907, 'identified': 1908, 'consecutive': 1909, 'victoria': 1910, 'advertising': 1911, 'AP': 1912, 'dutch': 1913, 'linked': 1914, 'consider': 1915, 'iron': 1916, 'kentucky': 1917, 'offensive': 1918, 'activist': 1919, 'technical': 1920, 'windows': 1921, 'designed': 1922, 'crew': 1923, 'jr': 1924, 'loses': 1925, 'patrol': 1926, 'FC': 1927, 'failure': 1928, 'honored': 1929, 'brad': 1930, 'seat': 1931, 'russell': 1932, 'cole': 1933, 'offices': 1934, 'muslim': 1935, '70': 1936, 'jessica': 1937, 'kennedy': 1938, 'yahoo': 1939, '300': 1940, 'arabia': 1941, 'sarah': 1942, 'try': 1943, 'violent': 1944, 'beckham': 1945, 'selected': 1946, 'counts': 1947, 'pick': 1948, 'created': 1949, 'democrats': 1950, 'thought': 1951, 'purchase': 1952, 'hosting': 1953, 'sending': 1954, 'author': 1955, 'agree': 1956, 'weekly': 1957, 'terrorism': 1958, 'serve': 1959, 'reveals': 1960, 'speed': 1961, 'rural': 1962, 'assaulting': 1963, 'immigration': 1964, 'let': 1965, 'subsidiary': 1966, '75': 1967, 'tough': 1968, 'gary': 1969, 'daniel': 1970, 'generation': 1971, 'stimulus': 1972, 'dealers': 1973, 'melbourne': 1974, 'nick': 1975, 'pass': 1976, 'wake': 1977, 'jose': 1978, 'providing': 1979, 'brothers': 1980, 'agencies': 1981, 'destroyed': 1982, 'sentence': 1983, 'golden': 1984, 'route': 1985, 'express': 1986, 'sun': 1987, 'laws': 1988, 'export': 1989, 'beats': 1990, 'evidence': 1991, 'setting': 1992, 'previously': 1993, 'chapter': 1994, 'apparently': 1995, 'forum': 1996, 'campbell': 1997, 'scandal': 1998, 'davis': 1999, 'promote': 2000, 'philippines': 2001, 'overseas': 2002, 'refused': 2003, 'parliamentary': 2004, 'bin': 2005, 'prix': 2006, 'theatre': 2007, 'units': 2008, 'mexican': 2009, 'stabbing': 2010, 'speech': 2011, 'jet': 2012, 'nokia': 2013, 'DC': 2014, 'possession': 2015, 'pradesh': 2016, 'engineering': 2017, 'cover': 2018, 'overall': 2019, 'hour': 2020, 'tech': 2021, 'continuing': 2022, 'founder': 2023, 'kyrgyzstan': 2024, 'frank': 2025, 'racing': 2026, 'hired': 2027, 'longer': 2028, 'standard': 2029, 'photo': 2030, 'hands': 2031, 'ensure': 2032, 'statistics': 2033, 'carbon': 2034, 'pitcher': 2035, 'surprise': 2036, 'done': 2037, 'sept': 2038, 'introduces': 2039, 'breaking': 2040, 'dating': 2041, 'hills': 2042, 'success': 2043, 'mine': 2044, 'electronics': 2045, 'teenager': 2046, 'beaten': 2047, 'streets': 2048, 'jordan': 2049, 'burglary': 2050, 'wild': 2051, 'numbers': 2052, 'confirms': 2053, 'christian': 2054, 'appears': 2055, 'amy': 2056, 'ring': 2057, 'adds': 2058, 'alcohol': 2059, 'update': 2060, 'feel': 2061, 'campus': 2062, 'agriculture': 2063, 'freedom': 2064, 'panel': 2065, 'wales': 2066, 'studio': 2067, 'cold': 2068, 'phoenix': 2069, 'electricity': 2070, 'lewis': 2071, 'supplies': 2072, 'expands': 2073, 'oklahoma': 2074, 'NEW': 2075, 'serving': 2076, 'hosts': 2077, 'strip': 2078, 'diagnosed': 2079, 'parking': 2080, 'recovered': 2081, 'threatening': 2082, 'negative': 2083, 'adam': 2084, 'finds': 2085, 'sport': 2086, 'granted': 2087, 'voting': 2088, 'speak': 2089, 'fees': 2090, 'claiming': 2091, 'treasury': 2092, 'prize': 2093, 'pounds': 2094, 'hillary': 2095, 'cable': 2096, 'moore': 2097, 'email': 2098, 'pace': 2099, 'ruling': 2100, 'pattinson': 2101, 'changed': 2102, 'prosecutors': 2103, 'palin': 2104, 'toll': 2105, 'devices': 2106, 'nigeria': 2107, '80': 2108, 'undergo': 2109, 'letter': 2110, 'fine': 2111, 'broadband': 2112, 'wrong': 2113, 'el': 2114, '90': 2115, 'decades': 2116, 'taxes': 2117, 'paper': 2118, 'heading': 2119, 'venezuela': 2120, 'friendly': 2121, 'successfully': 2122, 'decade': 2123, 'question': 2124, 'territory': 2125, 'can': 2126, 'not': 2127, 'fargo': 2128, 'coalition': 2129, 'cape': 2130, 'appearance': 2131, 'chemical': 2132, 'tropical': 2133, 'ghana': 2134, 'urges': 2135, 'passengers': 2136, 'northwest': 2137, 'android': 2138, 'approval': 2139, 'indians': 2140, 'expanding': 2141, 'egyptian': 2142, 'orange': 2143, 'murray': 2144, 'foods': 2145, 'receiving': 2146, 'lowest': 2147, 'storage': 2148, 'cuba': 2149, 'phones': 2150, 'aged': 2151, 'investments': 2152, 'engine': 2153, 'wilson': 2154, 'vietnam': 2155, 'n': 2156, 'enterprise': 2157, 'movement': 2158, 'ill': 2159, 'amount': 2160, 'announcement': 2161, 'assaulted': 2162, 'improved': 2163, 'stone': 2164, 'shoot': 2165, 'agents': 2166, 'collection': 2167, 'artist': 2168, 'rehab': 2169, 'lebanon': 2170, 'portfolio': 2171, 'foot': 2172, 'tata': 2173, 'rapper': 2174, 'hurt': 2175, 'laid': 2176, 'passenger': 2177, 'collision': 2178, 'lack': 2179, 'license': 2180, 'silver': 2181, 'tamil': 2182, 'wounded': 2183, 'iraqi': 2184, 'ocean': 2185, 'nelson': 2186, 'alabama': 2187, 'terrorist': 2188, 'b': 2189, 'speculation': 2190, 'clean': 2191, 'thanks': 2192, 'visiting': 2193, 'questions': 2194, 'reuters': 2195, 'sites': 2196, 'analyst': 2197, 'threats': 2198, 'michelle': 2199, 'plea': 2200, 'proposal': 2201, 'extends': 2202, 'shareholders': 2203, 'targets': 2204, 'denver': 2205, 'traders': 2206, 'deliver': 2207, 'twins': 2208, 'walk': 2209, 'bodies': 2210, 'cocaine': 2211, 'alive': 2212, 'fellow': 2213, 'anna': 2214, 'breast': 2215, 'options': 2216, 'wells': 2217, '2014': 2218, 'greater': 2219, 'appeared': 2220, 'bought': 2221, 'stated': 2222, 'roads': 2223, 'goods': 2224, 'resigns': 2225, 'expanded': 2226, 'yemen': 2227, 'earth': 2228, 'branch': 2229, 'miles': 2230, 'tokyo': 2231, 'supporters': 2232, 'device': 2233, 'supports': 2234, 'rail': 2235, 'kept': 2236, 'true': 2237, 'scottish': 2238, 'formula': 2239, 'note': 2240, 'UAE': 2241, 'homeless': 2242, 'push': 2243, 'longtime': 2244, 'message': 2245, 'miller': 2246, 'alert': 2247, 'oscar': 2248, 'democracy': 2249, 'arms': 2250, 'bulgaria': 2251, 'challenges': 2252, 'facilities': 2253, 'sheen': 2254, 'legislation': 2255, 'jon': 2256, 'produce': 2257, 'library': 2258, 'details': 2259, 'fully': 2260, 'powerful': 2261, 'factory': 2262, 'libyan': 2263, 'yen': 2264, 'believed': 2265, 'shoulder': 2266, 'tickets': 2267, 'reaches': 2268, 'buys': 2269, 'bureau': 2270, 'keeping': 2271, 'provides': 2272, 'rather': 2273, 'built': 2274, 'although': 2275, 'medal': 2276, 'rejected': 2277, 'dogs': 2278, 'duty': 2279, 'assistance': 2280, 'programs': 2281, 'deals': 2282, 'lending': 2283, 'elementary': 2284, 'milwaukee': 2285, '400': 2286, 'rice': 2287, 'hire': 2288, 'residential': 2289, 'sees': 2290, 'feature': 2291, 'CBS': 2292, 'twice': 2293, 'iPad': 2294, 'massachusetts': 2295, 'suspicion': 2296, 'nifty': 2297, '45': 2298, 'located': 2299, 'roger': 2300, 'pension': 2301, 'causes': 2302, 'delegation': 2303, 'championships': 2304, 'sued': 2305, 'bear': 2306, 'drops': 2307, 'rihanna': 2308, 'interior': 2309, 'weight': 2310, 'dangerous': 2311, 'journalist': 2312, 'newly': 2313, 'instead': 2314, 'sixth': 2315, 'treated': 2316, 'initial': 2317, 'pope': 2318, 'enforcement': 2319, 'begun': 2320, 'becomes': 2321, 'pittsburgh': 2322, 'jerry': 2323, 'religious': 2324, 'stopped': 2325, 'extra': 2326, 'stronger': 2327, 'payment': 2328, 'putting': 2329, 'yankees': 2330, 'pool': 2331, 'stations': 2332, 'copper': 2333, 'prisoners': 2334, 'stable': 2335, 'apparent': 2336, 'teenage': 2337, 'intelligence': 2338, 'myanmar': 2339, 'sensex': 2340, 'formally': 2341, 'sudan': 2342, 'ontario': 2343, 'status': 2344, 'spread': 2345, 'ATt': 2346, 'harris': 2347, 'contracts': 2348, 'include': 2349, 'marine': 2350, 'catholic': 2351, 'finish': 2352, 'crews': 2353, 'museum': 2354, 'sam': 2355, 'monetary': 2356, 'communities': 2357, 'shown': 2358, 'exercise': 2359, 'strengthen': 2360, 'journalists': 2361, 'funeral': 2362, 'eye': 2363, 'palm': 2364, 'pennsylvania': 2365, 'certain': 2366, 'somali': 2367, 'enters': 2368, 'sharp': 2369, 'strength': 2370, 'option': 2371, 'cards': 2372, 'mail': 2373, 'musical': 2374, 'famous': 2375, 'representative': 2376, 'stanley': 2377, 'screen': 2378, 'existing': 2379, 'owned': 2380, 'lifted': 2381, 'spears': 2382, 'utah': 2383, 'hero': 2384, 'welcome': 2385, 'missed': 2386, 'patient': 2387, 'arena': 2388, 'superstar': 2389, 'conservative': 2390, 'plays': 2391, 'broadway': 2392, 'independence': 2393, 'removed': 2394, 'hitting': 2395, 'lions': 2396, 'drama': 2397, '150': 2398, 'cancelled': 2399, 'dozens': 2400, 'rivals': 2401, 'explosion': 2402, 'acting': 2403, 'tells': 2404, 'preliminary': 2405, 'smart': 2406, 'ABC': 2407, 'waste': 2408, 'networking': 2409, 'notes': 2410, 'madonna': 2411, 'austin': 2412, 'cheryl': 2413, 'comeback': 2414, 'garden': 2415, 'suffers': 2416, 'ball': 2417, 'congressional': 2418, 'diplomatic': 2419, 'check': 2420, 'malaysian': 2421, 'eurozone': 2422, 'chiefs': 2423, 'palestinians': 2424, 'policies': 2425, 'legendary': 2426, 'dialogue': 2427, 'kumar': 2428, 'oregon': 2429, 'turning': 2430, 'tourists': 2431, 'native': 2432, 'repair': 2433, 'spotted': 2434, 'votes': 2435, 'approximately': 2436, 'offender': 2437, 'testing': 2438, 'combat': 2439, 'hoping': 2440, 'financing': 2441, 'affected': 2442, 'USD': 2443, 'jeff': 2444, 'mississippi': 2445, 'doors': 2446, 'nomination': 2447, 'contact': 2448, 'tigers': 2449, 'healthy': 2450, 'basis': 2451, 'diamond': 2452, 'window': 2453, 'pro': 2454, 'invited': 2455, 'immediate': 2456, 'deadline': 2457, 'bailout': 2458, 'atlantic': 2459, 'honor': 2460, 'reduced': 2461, 'resort': 2462, 'nationals': 2463, 'carlos': 2464, 'offshore': 2465, 'mary': 2466, 'that': 2467, 'secure': 2468, 'sought': 2469, '65': 2470, 'creating': 2471, 'southeast': 2472, 'employment': 2473, 'vancouver': 2474, 'speaker': 2475, 'dance': 2476, 'simpson': 2477, 'presented': 2478, 'zardari': 2479, 'discovery': 2480, 'resident': 2481, 'abu': 2482, 'buildings': 2483, 'kicked': 2484, 'initiative': 2485, 'aviation': 2486, 'britney': 2487, 'demi': 2488, 'asking': 2489, 'rio': 2490, 'recalled': 2491, 'newcastle': 2492, 'output': 2493, 'j': 2494, 'junior': 2495, 'celebrating': 2496, 'missile': 2497, 'designer': 2498, 'warren': 2499, 'vowed': 2500, 'baltimore': 2501, 'expert': 2502, 'talent': 2503, 'birmingham': 2504, 'what': 2505, 'casino': 2506, 'w': 2507, 'dancing': 2508, 'exclusive': 2509, 'springs': 2510, 'jolie': 2511, 'gandhi': 2512, 'sprint': 2513, 'edwards': 2514, 'veterans': 2515, 'recover': 2516, 'preparing': 2517, 'population': 2518, 'lawyers': 2519, 'demands': 2520, 'exhibition': 2521, 'culture': 2522, 'collapsed': 2523, 'eric': 2524, 'evacuated': 2525, 'fit': 2526, 'reporter': 2527, 'bahrain': 2528, 'phil': 2529, 'boxing': 2530, 'horse': 2531, 'NBC': 2532, 'angelina': 2533, 'buffalo': 2534, 'nothing': 2535, 'howard': 2536, 'standards': 2537, 'agrees': 2538, 'regarding': 2539, 'virus': 2540, 'mall': 2541, 'slow': 2542, 'madison': 2543, 'galaxy': 2544, 'hudson': 2545, 'drunk': 2546, 'waters': 2547, 'monthly': 2548, 'goldman': 2549, 'movies': 2550, 'edward': 2551, 'pair': 2552, 'ticket': 2553, 'page': 2554, 'hospitals': 2555, '600': 2556, 'stroke': 2557, 'oakland': 2558, 'places': 2559, 'emerging': 2560, 'winds': 2561, 'reporters': 2562, 'ways': 2563, 'sky': 2564, 'conducted': 2565, 'columbus': 2566, 'kings': 2567, 'fatally': 2568, 'entire': 2569, 'confident': 2570, 'franchise': 2571, 'probe': 2572, 'thailand': 2573, 'argentina': 2574, 'advance': 2575, 'serbia': 2576, 'illness': 2577, 'delayed': 2578, 'payments': 2579, 'asks': 2580, 'gang': 2581, 'sabha': 2582, 'producers': 2583, 'especially': 2584, 'properties': 2585, 'anderson': 2586, 'settle': 2587, 'recalls': 2588, 'katy': 2589, 'asset': 2590, 'terrorists': 2591, 'traded': 2592, 'dream': 2593, 'deaths': 2594, 'matches': 2595, 'railway': 2596, 'presence': 2597, 'manslaughter': 2598, 'ron': 2599, 'immediately': 2600, 'betting': 2601, 'brands': 2602, 'felt': 2603, 'dakota': 2604, 'fact': 2605, 'tampa': 2606, 'counties': 2607, 'katie': 2608, 'restructuring': 2609, 'sugar': 2610, 'penn': 2611, 'filing': 2612, 'fishing': 2613, 'connecticut': 2614, 'awareness': 2615, 'rich': 2616, 'drinking': 2617, 'pain': 2618, 'judges': 2619, 'queensland': 2620, 'transportation': 2621, 'floor': 2622, 'winehouse': 2623, 'regime': 2624, 'penalty': 2625, 'invasion': 2626, 'fish': 2627, 'suspends': 2628, 'commander': 2629, 'welcomed': 2630, 'participate': 2631, 'rocket': 2632, 'however': 2633, 'temporary': 2634, 'congressman': 2635, 'heads': 2636, 'representatives': 2637, 'active': 2638, 'northeast': 2639, 'creek': 2640, '64': 2641, 'henry': 2642, 'goals': 2643, 'killer': 2644, 'GOP': 2645, 'coverage': 2646, 'utility': 2647, 'accounts': 2648, '5000': 2649, 'luxury': 2650, 'biden': 2651, 'probation': 2652, 'matter': 2653, 'chrysler': 2654, 'troubled': 2655, 'benchmark': 2656, 'fitness': 2657, 'chavez': 2658, 'mutual': 2659, 'pays': 2660, 'steady': 2661, 'performing': 2662, 'czech': 2663, 'worked': 2664, 'clients': 2665, 'outstanding': 2666, 'BP': 2667, 'smartphone': 2668, 'targeting': 2669, 'expect': 2670, 'retired': 2671, 'disney': 2672, 'feet': 2673, 'helps': 2674, 'notice': 2675, 'steven': 2676, 'republicans': 2677, 'ray': 2678, 'request': 2679, 'kazakhstan': 2680, 'born': 2681, 'NHL': 2682, 'pipeline': 2683, 'arkansas': 2684, 'businessman': 2685, '41': 2686, 'NCAA': 2687, 'orlando': 2688, 'postponed': 2689, 'franklin': 2690, 'NY': 2691, 'false': 2692, 'ankle': 2693, 'busy': 2694, 'arm': 2695, 'sachs': 2696, '33': 2697, 'ease': 2698, 'canceled': 2699, 'insists': 2700, 'kenya': 2701, 'choice': 2702, 'normal': 2703, 'bilateral': 2704, 'documents': 2705, 'jimmy': 2706, 'responsible': 2707, 'sean': 2708, 'considered': 2709, 'negotiations': 2710, 'circuit': 2711, 'opportunities': 2712, 'medicine': 2713, 'e': 2714, 'azerbaijani': 2715, 'fake': 2716, 'cargo': 2717, 'scientific': 2718, 'conflict': 2719, 'kidnapped': 2720, 'fishermen': 2721, 'touch': 2722, 'craig': 2723, 'jumped': 2724, 'c': 2725, 'mac': 2726, 'pedestrian': 2727, 'edge': 2728, 'searching': 2729, '62': 2730, 'LLC': 2731, 'ask': 2732, 'raid': 2733, 'professor': 2734, 'masters': 2735, 'NSW': 2736, 'suspicious': 2737, 'welcomes': 2738, 'positions': 2739, 'phase': 2740, 'highly': 2741, '42': 2742, 'kristen': 2743, 'swedish': 2744, 'import': 2745, 'announcing': 2746, '10000': 2747, 'promotion': 2748, 'alaska': 2749, '2000': 2750, 'supplier': 2751, '63': 2752, 'dedicated': 2753, 'pornography': 2754, 'louisiana': 2755, 'rushed': 2756, 'andre': 2757, 'pull': 2758, 'residence': 2759, 'edition': 2760, 'democrat': 2761, 'crossing': 2762, '85': 2763, 'learn': 2764, 'ad': 2765, 'hamas': 2766, 'tested': 2767, 'deep': 2768, 'pitt': 2769, 'aims': 2770, 'tonnes': 2771, 'escaped': 2772, 'onto': 2773, 'declined': 2774, 'visa': 2775, '100000': 2776, 'modern': 2777, 'means': 2778, 'noon': 2779, 'renewed': 2780, 'maryland': 2781, 'clinic': 2782, 'suspects': 2783, 'scene': 2784, 'figure': 2785, 'fighter': 2786, 'items': 2787, 'male': 2788, 'lineup': 2789, 'complaint': 2790, 'recorded': 2791, 'decide': 2792, 'imports': 2793, 'specialist': 2794, 'jewish': 2795, 'learned': 2796, 'incidents': 2797, 'something': 2798, 'portland': 2799, 'commitment': 2800, 'federation': 2801, 'carry': 2802, 'there': 2803, 'delay': 2804, 'bell': 2805, 'appeals': 2806, 'merger': 2807, 'seems': 2808, 'arrive': 2809, 'terry': 2810, 'persons': 2811, 'unions': 2812, 'wood': 2813, 'virgin': 2814, 'reforms': 2815, 'fee': 2816, 'expressed': 2817, 'tell': 2818, 'philippine': 2819, 'swimming': 2820, 'criticism': 2821, 'sworn': 2822, 'threatens': 2823, 'often': 2824, 'integrated': 2825, 'switzerland': 2826, 'guy': 2827, 'shanghai': 2828, 'columbia': 2829, 'cowell': 2830, 'petrol': 2831, 'manmohan': 2832, 'delays': 2833, 'opener': 2834, 'managed': 2835, 'approach': 2836, 'cooper': 2837, 'scam': 2838, 'stole': 2839, 'antonio': 2840, 'ran': 2841, 'improving': 2842, 'features': 2843, 'defend': 2844, 'waiting': 2845, 'marathon': 2846, 'AG': 2847, 'coffee': 2848, 'savings': 2849, 'estimates': 2850, 'deputies': 2851, 'ride': 2852, 'derby': 2853, 'robin': 2854, 'trophy': 2855, 'cyrus': 2856, 'alan': 2857, 'identity': 2858, 'fallen': 2859, 'dark': 2860, 'provided': 2861, 'broadcast': 2862, 'neil': 2863, 'smoke': 2864, 'lift': 2865, 'lankan': 2866, 'defends': 2867, 'bulls': 2868, 'sends': 2869, 'cancels': 2870, 'ukrainian': 2871, 'shortage': 2872, 'language': 2873, 'mount': 2874, 'flag': 2875, 'tottenham': 2876, 'core': 2877, 'clashes': 2878, 'johnny': 2879, 'marks': 2880, 'aniston': 2881, 'dan': 2882, 'finished': 2883, 'institutions': 2884, 'wave': 2885, 'opportunity': 2886, 'sentiment': 2887, 'display': 2888, 'weaker': 2889, 'cardinals': 2890, 'indonesian': 2891, 'armenia': 2892, 'fear': 2893, 'suggested': 2894, 'preseason': 2895, 'personnel': 2896, 'paying': 2897, 'haiti': 2898, 'assigned': 2899, 'bruce': 2900, 'plc': 2901, 'everything': 2902, 'sister': 2903, 'neighborhood': 2904, 'suspension': 2905, 'nominated': 2906, 'escape': 2907, 'remove': 2908, 'pitch': 2909, 'internal': 2910, 'thing': 2911, 'lincoln': 2912, 'pound': 2913, 'belarus': 2914, 'playoff': 2915, 'warrant': 2916, 'bradley': 2917, 'undisclosed': 2918, 'shots': 2919, 'bears': 2920, 'civilians': 2921, 'burning': 2922, 'century': 2923, 'marry': 2924, 'tied': 2925, 'swift': 2926, 'targeted': 2927, 'del': 2928, 'danny': 2929, 'districts': 2930, 'ferguson': 2931, 'defended': 2932, 'perfect': 2933, 'petroleum': 2934, 'proud': 2935, 'kingdom': 2936, 'globe': 2937, 'roll': 2938, 'tight': 2939, 'boeing': 2940, 'alexander': 2941, 'islands': 2942, 'informed': 2943, 'eve': 2944, 'premiere': 2945, 'investigators': 2946, 'inmate': 2947, 'engagement': 2948, 'wildlife': 2949, 'traditional': 2950, 'IBM': 2951, 'revenues': 2952, 'registered': 2953, 'convention': 2954, 'firefighter': 2955, 'includes': 2956, 'tea': 2957, 'josh': 2958, 'books': 2959, 'lawrence': 2960, 'euros': 2961, 'compete': 2962, 'image': 2963, 'cuban': 2964, 'learning': 2965, 'CNN': 2966, 'featuring': 2967, 'drew': 2968, 'wait': 2969, 'hawaii': 2970, 'beyond': 2971, 'meetings': 2972, 'miley': 2973, 'nicole': 2974, 'hike': 2975, 'bit': 2976, 'billy': 2977, 'estimated': 2978, 'damaged': 2979, 'spill': 2980, 'amazon': 2981, 'dates': 2982, 'blast': 2983, 'dismissed': 2984, 'suggests': 2985, 'crown': 2986, 'secured': 2987, 'YouTube': 2988, 'threw': 2989, 'jump': 2990, 'reasons': 2991, 'hosted': 2992, 'happened': 2993, 'provincial': 2994, 'SA': 2995, 'rafael': 2996, 'prepare': 2997, 'shah': 2998, 'unexpectedly': 2999, 'drowned': 3000, 'parent': 3001, 'difficult': 3002, 'rob': 3003, 'sweden': 3004, 'maintain': 3005, 'LA': 3006, 'mental': 3007, 'blow': 3008, 'materials': 3009, 'shortly': 3010, 'bulgarian': 3011, 'interim': 3012, 'seasons': 3013, 'charter': 3014, 'introduce': 3015, 'walmart': 3016, 'taxi': 3017, 'reopen': 3018, 'bobby': 3019, 'bristol': 3020, 'tornado': 3021, 'PM': 3022, 'anything': 3023, 'direction': 3024, 'houses': 3025, 'hilton': 3026, 'battling': 3027, 'urban': 3028, 'compensation': 3029, 'halt': 3030, 'picked': 3031, 'reading': 3032, 'gunpoint': 3033, 'tourist': 3034, 'pictures': 3035, 'adopted': 3036, 'follow': 3037, 'tons': 3038, 'arrests': 3039, 'streak': 3040, 'murdered': 3041, 'adults': 3042, 'YORK': 3043, 'feeling': 3044, 'villa': 3045, 'fail': 3046, 'trees': 3047, 'remaining': 3048, 'smoking': 3049, 'armstrong': 3050, 'restore': 3051, 'cultural': 3052, 'upon': 3053, '76': 3054, 'camera': 3055, 'crowd': 3056, 'exploration': 3057, 'charlotte': 3058, 'verizon': 3059, 'interstate': 3060, 'naval': 3061, 'intel': 3062, 'names': 3063, 'managing': 3064, 'reliance': 3065, 'ed': 3066, 'bull': 3067, 'murdering': 3068, 'alternative': 3069, 'brings': 3070, 'eagles': 3071, 'material': 3072, 'whole': 3073, 'violations': 3074, 'god': 3075, 'musharraf': 3076, 'maintenance': 3077, 'cincinnati': 3078, 'balance': 3079, 'word': 3080, 'jay': 3081, 'kicks': 3082, 'speaks': 3083, 'flooding': 3084, 'warner': 3085, 'processing': 3086, 'tender': 3087, 'NASA': 3088, 'barclays': 3089, 'supporting': 3090, 'reid': 3091, 'register': 3092, 'roy': 3093, 'style': 3094, 'upgraded': 3095, 'legislature': 3096, '911': 3097, 'allowing': 3098, 'upper': 3099, 'barbara': 3100, 'regulatory': 3101, 'suit': 3102, 'influence': 3103, 'diabetes': 3104, 'bars': 3105, 'gates': 3106, 'carried': 3107, 'section': 3108, 'longterm': 3109, 'depression': 3110, 'organizations': 3111, 'rookie': 3112, '34': 3113, '36': 3114, 'promised': 3115, 'montreal': 3116, 'violating': 3117, 'transit': 3118, 'constitution': 3119, 'moment': 3120, 'retailers': 3121, 'written': 3122, 'permanent': 3123, 'jamie': 3124, 'images': 3125, 'gaming': 3126, 'tehran': 3127, 'bengal': 3128, 'everyone': 3129, 'pushed': 3130, 'colombia': 3131, 'joseph': 3132, 'trafficking': 3133, 'caribbean': 3134, 'scores': 3135, 'attention': 3136, 'nashville': 3137, 'improvement': 3138, 'blamed': 3139, 'landed': 3140, 'volunteers': 3141, 'actually': 3142, 'performed': 3143, 'maria': 3144, 'kapoor': 3145, 'retiring': 3146, 'walker': 3147, 'FBI': 3148, 'defeated': 3149, 'judicial': 3150, 'master': 3151, 'resolution': 3152, 'lightning': 3153, 'faced': 3154, 'cited': 3155, 'till': 3156, '800': 3157, 'fastest': 3158, 'exit': 3159, 'pilots': 3160, 'responsibility': 3161, 'shuttle': 3162, 'arson': 3163, 'undergoing': 3164, 'liam': 3165, 'ricky': 3166, 'dinner': 3167, 'watson': 3168, 'lay': 3169, 'gujarat': 3170, 'nicolas': 3171, 'dhabi': 3172, 'described': 3173, 'flying': 3174, 'MAN': 3175, 'vows': 3176, 'centers': 3177, 'matthew': 3178, '10th': 3179, 'rush': 3180, 'AM': 3181, 'sure': 3182, 'location': 3183, 'reason': 3184, 'physical': 3185, 'prominent': 3186, 'warriors': 3187, 'politicians': 3188, 'netherlands': 3189, 'talking': 3190, 'carter': 3191, 'heritage': 3192, 'downgraded': 3193, 'takeover': 3194, 'seventh': 3195, 'hires': 3196, 'sound': 3197, 'thinks': 3198, 'read': 3199, 'maoists': 3200, 'roberts': 3201, 'recording': 3202, 'captured': 3203, 'withdraws': 3204, '250': 3205, '37': 3206, 'raped': 3207, 'gained': 3208, 'accept': 3209, 'nepal': 3210, 'table': 3211, 'thai': 3212, 'lane': 3213, 'resistance': 3214, 'slowdown': 3215, 'delivered': 3216, 'coordinator': 3217, 'pat': 3218, 'forthcoming': 3219, 'easy': 3220, 'emirates': 3221, 'hedge': 3222, 'considers': 3223, 'shoots': 3224, 'UFC': 3225, 'nominee': 3226, 'dodgers': 3227, 'softball': 3228, 'jazz': 3229, 'cap': 3230, 'wearing': 3231, 'drilling': 3232, 'door': 3233, 'larry': 3234, 'cook': 3235, 'pole': 3236, 'patriots': 3237, 'quickly': 3238, 'accidentally': 3239, 'shipping': 3240, 'employers': 3241, 'parks': 3242, 'occurred': 3243, 'reopened': 3244, 'trillion': 3245, 'suing': 3246, 'delta': 3247, 'infection': 3248, 'lopez': 3249, 'stepping': 3250, 'enhance': 3251, 'backed': 3252, 'comprehensive': 3253, 'recalling': 3254, 'alone': 3255, 'episode': 3256, 'dramatic': 3257, 'idea': 3258, 'ian': 3259, 'triple': 3260, 'worries': 3261, 'jammu': 3262, 'advantage': 3263, 'plead': 3264, 'deutsche': 3265, 'celebration': 3266, 'guide': 3267, 'similar': 3268, 'operators': 3269, 'probably': 3270, 'HP': 3271, 'commodity': 3272, 'parker': 3273, 'restored': 3274, 'inquiry': 3275, 'milestone': 3276, 'wear': 3277, 'marking': 3278, 'p': 3279, '2006': 3280, 'palace': 3281, 'knowledge': 3282, 'lord': 3283, 'armenian': 3284, 'leak': 3285, 'pub': 3286, 'drought': 3287, 'dick': 3288, 'rolling': 3289, 'roster': 3290, 'diesel': 3291, 'regions': 3292, 'municipal': 3293, 'cowboys': 3294, 'registration': 3295, 'mandela': 3296, 'nevada': 3297, 'executives': 3298, 'organisation': 3299, 'rand': 3300, 'standoff': 3301, 'communication': 3302, 'dublin': 3303, 'hair': 3304, 'creative': 3305, 'nadal': 3306, 'brandon': 3307, 'kuwait': 3308, 'picture': 3309, 'NASCAR': 3310, '3000': 3311, 'aaron': 3312, 'checks': 3313, 'emerged': 3314, 'mostly': 3315, 'fleet': 3316, 'bird': 3317, 'athletes': 3318, 'temporarily': 3319, 'lama': 3320, 'knife': 3321, 'competitive': 3322, 'liberal': 3323, 'witnesses': 3324, 'walking': 3325, 'restrictions': 3326, 'kolkata': 3327, 'barry': 3328, 'dave': 3329, 'salman': 3330, 'virtual': 3331, 'medvedev': 3332, 'kidnapping': 3333, 'individual': 3334, '48': 3335, 'kind': 3336, 'task': 3337, 'trail': 3338, 'link': 3339, 'establish': 3340, 'buyers': 3341, 'tools': 3342, 'struggle': 3343, 'established': 3344, 'tool': 3345, 'wreck': 3346, 'poland': 3347, 'produced': 3348, 'auckland': 3349, 'adult': 3350, 'agreements': 3351, 'unchanged': 3352, 'maine': 3353, 'asif': 3354, 'score': 3355, 'someone': 3356, 'clubs': 3357, 'regulators': 3358, 'drunken': 3359, 'plastic': 3360, 'conviction': 3361, 'crack': 3362, 'saved': 3363, 'hampshire': 3364, 'rains': 3365, 'fewer': 3366, 'cyprus': 3367, 'unveil': 3368, 'classes': 3369, 'honda': 3370, 'older': 3371, 'handed': 3372, 'casey': 3373, 'heavyweight': 3374, 'fixed': 3375, 'lender': 3376, 'carl': 3377, 'zoo': 3378, 'automotive': 3379, 'category': 3380, 'bike': 3381, 'accepted': 3382, 'hiring': 3383, 'kanye': 3384, 'tower': 3385, 'toddler': 3386, 'saints': 3387, 'ranked': 3388, 'collapse': 3389, 'innovative': 3390, 'passing': 3391, 'sides': 3392, 'chennai': 3393, 'seize': 3394, 'clark': 3395, 'strongly': 3396, 'condemned': 3397, 'dalai': 3398, 'raiders': 3399, 'ESPN': 3400, 'fiji': 3401, '43': 3402, 'demanded': 3403, 'dow': 3404, 'capitol': 3405, 'listed': 3406, 'keith': 3407, 'twin': 3408, 'comedian': 3409, 'skills': 3410, 'trucks': 3411, 'hughes': 3412, 'included': 3413, 'misdemeanor': 3414, 'sunderland': 3415, 'tyler': 3416, 'lenders': 3417, 'collins': 3418, 'raping': 3419, 'extending': 3420, 'roof': 3421, 'sterling': 3422, 'latin': 3423, 'tie': 3424, 'resignation': 3425, 'formed': 3426, 'interested': 3427, 'grants': 3428, 'currencies': 3429, 'restaurants': 3430, 'lakh': 3431, 'quits': 3432, 'prosecutor': 3433, 'georgian': 3434, 'encounter': 3435, 'starring': 3436, 'machine': 3437, 'ahmadinejad': 3438, 'cubs': 3439, 'icon': 3440, 'honoured': 3441, 'hugo': 3442, 'dolphins': 3443, 'principal': 3444, 'endorses': 3445, 'gift': 3446, 'dry': 3447, 'plus': 3448, 'remarks': 3449, 'metals': 3450, 'fields': 3451, 'malik': 3452, 'billionaire': 3453, 'graham': 3454, 'collaboration': 3455, 'hear': 3456, 'withdraw': 3457, 'puts': 3458, 'greg': 3459, 'downturn': 3460, 'jesse': 3461, '61': 3462, 'publicly': 3463, 'cells': 3464, 'outfielder': 3465, 'beauty': 3466, 'served': 3467, '82': 3468, 'effects': 3469, 'hotels': 3470, 'minimum': 3471, 'fitch': 3472, 'wealth': 3473, 'coaching': 3474, 'dealer': 3475, 'legislative': 3476, 'linebacker': 3477, 'neck': 3478, 'wholesale': 3479, 'nebraska': 3480, 'illegally': 3481, 'ashley': 3482, 'lakers': 3483, 'backs': 3484, 'grew': 3485, 'reveal': 3486, 'resolve': 3487, 'label': 3488, 'drone': 3489, 'stability': 3490, 'drink': 3491, 'agricultural': 3492, 'parade': 3493, 'pak': 3494, 'duke': 3495, 'asylum': 3496, 'mets': 3497, 'benedict': 3498, 'salary': 3499, 'withdrawn': 3500, 'praised': 3501, 'attacking': 3502, 'keen': 3503, 'temple': 3504, 'sustained': 3505, 'streaming': 3506, 'minority': 3507, 'required': 3508, 'jeremy': 3509, 'reaching': 3510, 'forcing': 3511, 'edged': 3512, 'fails': 3513, 'tensions': 3514, 'guns': 3515, 'workforce': 3516, 'prepared': 3517, 'photos': 3518, 'colombian': 3519, 'editor': 3520, 'stands': 3521, 'McCartney': 3522, 'citizen': 3523, 'fed': 3524, 'respect': 3525, 'motion': 3526, 'risks': 3527, 'degree': 3528, '52': 3529, 'abroad': 3530, 'changing': 3531, 'poised': 3532, 'songs': 3533, 'AC': 3534, 'tries': 3535, 'weapon': 3536, 'foreclosure': 3537, 'nigerian': 3538, 'selection': 3539, 'welfare': 3540, 'lands': 3541, 'undergoes': 3542, 'accepting': 3543, 'humanitarian': 3544, 'lebanese': 3545, 'ross': 3546, 'animals': 3547, 'lok': 3548, 'sparked': 3549, 'original': 3550, '72': 3551, 'stress': 3552, 'blog': 3553, 'montana': 3554, 'fly': 3555, 'sue': 3556, 'chile': 3557, 'retires': 3558, 'routes': 3559, 'computers': 3560, 'goalkeeper': 3561, 'defending': 3562, 'sectors': 3563, 'familiar': 3564, 'code': 3565, 'earned': 3566, '55': 3567, '38': 3568, 'guidance': 3569, 'fla': 3570, 'practices': 3571, 'pushing': 3572, 'muslims': 3573, 'kenny': 3574, 'size': 3575, 'guards': 3576, 'courts': 3577, 'hunger': 3578, 'christina': 3579, 'rallied': 3580, 'marshall': 3581, 'rejects': 3582, 'liberty': 3583, 'article': 3584, 'entry': 3585, 'kerala': 3586, 'putin': 3587, 'providers': 3588, 'baghdad': 3589, 'renewable': 3590, 'prescription': 3591, '700': 3592, 'tribal': 3593, 'quite': 3594, 'kick': 3595, 'controversy': 3596, 'bigger': 3597, 'affect': 3598, 'determined': 3599, 'ranks': 3600, 'hunting': 3601, 'writes': 3602, 'throwing': 3603, 'celtic': 3604, 'shore': 3605, 'islamabad': 3606, 'stranded': 3607, '46': 3608, 'upset': 3609, 'romania': 3610, 'managers': 3611, 'directed': 3612, 'increasingly': 3613, 'intends': 3614, 'freed': 3615, '44': 3616, 'winger': 3617, 'magic': 3618, 'prior': 3619, 'storms': 3620, 'tanker': 3621, 'insisted': 3622, 'mar': 3623, 'moon': 3624, 'structure': 3625, 'finals': 3626, 'shane': 3627, 'highs': 3628, 'delaware': 3629, 'MTV': 3630, 'recycling': 3631, 'opera': 3632, 'rollover': 3633, 'royals': 3634, 'powers': 3635, 'waivers': 3636, 'dropping': 3637, 'customs': 3638, 'entering': 3639, 'sleep': 3640, 'pulls': 3641, 'motorola': 3642, 'memory': 3643, 'twoyear': 3644, 'injuring': 3645, 'FA': 3646, 'speaking': 3647, 'douglas': 3648, 'kerry': 3649, 'allstar': 3650, 'wine': 3651, 'walked': 3652, 'forecasts': 3653, 'interests': 3654, 'finding': 3655, 'dell': 3656, 'brisbane': 3657, 'cat': 3658, 'prove': 3659, 'bat': 3660, 'rebound': 3661, 'crackdown': 3662, 'thrown': 3663, 'presents': 3664, 'ore': 3665, 'trailer': 3666, 'accuses': 3667, 'dealing': 3668, 'promoted': 3669, 'focused': 3670, 'interactive': 3671, '53': 3672, 'promises': 3673, 'tablet': 3674, 'abdullah': 3675, 'indianapolis': 3676, 'gap': 3677, 'analysis': 3678, 'PTI': 3679, 'quoted': 3680, 'solo': 3681, 'ottawa': 3682, 'athletic': 3683, 'gunmen': 3684, 'developers': 3685, 'advice': 3686, 'lance': 3687, 'refuses': 3688, 'sues': 3689, 'Twenty20': 3690, 'potentially': 3691, 'ted': 3692, 'standing': 3693, 'PC': 3694, 'closure': 3695, 'burns': 3696, 'select': 3697, 'trouble': 3698, 'revolution': 3699, '50000': 3700, 'buried': 3701, 'teens': 3702, 'idaho': 3703, 'enterprises': 3704, 'thompson': 3705, 'sustainable': 3706, 'evans': 3707, 'surge': 3708, 'mahmoud': 3709, 'aston': 3710, 'motorcyclist': 3711, 'adviser': 3712, 'endorsed': 3713, 'porn': 3714, 'rachel': 3715, 'oneyear': 3716, 'spokeswoman': 3717, 'tracks': 3718, 'inter': 3719, 'knocked': 3720, '3D': 3721, 'alongside': 3722, 'visitors': 3723, 'mill': 3724, 'raza': 3725, 'rogers': 3726, 'saving': 3727, 'significantly': 3728, 'remote': 3729, 'sharks': 3730, 'AFP': 3731, 'rome': 3732, 'tank': 3733, 'unique': 3734, 'worse': 3735, 'wheat': 3736, 'jerusalem': 3737, 'semifinal': 3738, 'hunt': 3739, 'chosen': 3740, 'bomber': 3741, 'eddie': 3742, 'proposes': 3743, 'wright': 3744, 'burned': 3745, 'cairo': 3746, 'limits': 3747, 'reduction': 3748, 'releasing': 3749, 'measure': 3750, 'adopt': 3751, 'jacksonville': 3752, 'knight': 3753, 'refinance': 3754, 'sarkozy': 3755, 'appointment': 3756, 'lung': 3757, 'militant': 3758, 'redskins': 3759, 'transaction': 3760, 'julian': 3761, 'rolled': 3762, 'studios': 3763, 'mukherjee': 3764, 'innovation': 3765, 'momentum': 3766, 'vision': 3767, 'complaints': 3768, 'citigroup': 3769, 'NHS': 3770, 'costa': 3771, '51': 3772, 'coaches': 3773, 'loves': 3774, 'somalia': 3775, 'pharmaceutical': 3776, 'wage': 3777, 'MPs': 3778, 'write': 3779, 'critically': 3780, 'BC': 3781, 'resumes': 3782, 'favourite': 3783, 'prospect': 3784, 'mind': 3785, 'ability': 3786, 'kidney': 3787, 'vikings': 3788, 'wimbledon': 3789, 'theater': 3790, 'corps': 3791, 'skin': 3792, 'resumed': 3793, 'anyone': 3794, 'actions': 3795, 'commonwealth': 3796, 'sciences': 3797, 'acres': 3798, 'milk': 3799, 'neutral': 3800, 'bihar': 3801, 'refugees': 3802, 'allows': 3803, 'urging': 3804, 'floods': 3805, 'firing': 3806, 'skipper': 3807, 'scale': 3808, 'affair': 3809, 'opinion': 3810, 'studies': 3811, 'unlikely': 3812, 'monitoring': 3813, 'integration': 3814, 'karnataka': 3815, 'gaddafi': 3816, 'jobless': 3817, 'wrote': 3818, 'telecommunications': 3819, 'manage': 3820, 'kyle': 3821, 'fun': 3822, 'qualifying': 3823, 'adams': 3824, 'tracking': 3825, 'attempting': 3826, 'character': 3827, 'gilani': 3828, 'kent': 3829, 'hub': 3830, 'rooney': 3831, 'consulting': 3832, 'conspiracy': 3833, 'prospects': 3834, 'zuma': 3835, 'promoting': 3836, 'underwent': 3837, 'jefferson': 3838, 'poverty': 3839, 'count': 3840, 'zero': 3841, 'berlusconi': 3842, 'limit': 3843, 'pit': 3844, 'terminal': 3845, 'contractor': 3846, 'BlackBerry': 3847, 'pleased': 3848, 'either': 3849, 'text': 3850, 'dean': 3851, 'smartphones': 3852, 'type': 3853, 'pending': 3854, 'path': 3855, 'outbreak': 3856, 'locations': 3857, 'motorists': 3858, 'ronaldo': 3859, 'crucial': 3860, 'semifinals': 3861, 'berlin': 3862, 'volleyball': 3863, 'NC': 3864, 'harper': 3865, 'airbus': 3866, 'forms': 3867, 'grove': 3868, 'lily': 3869, 'picks': 3870, 'universal': 3871, 'memphis': 3872, 'demanding': 3873, 'pledged': 3874, 'throws': 3875, 'stream': 3876, 'faster': 3877, 'watching': 3878, 'telling': 3879, 'affordable': 3880, 'innings': 3881, 'tsunami': 3882, 'seats': 3883, 'julia': 3884, 'eagle': 3885, 'words': 3886, 'trapped': 3887, 'donald': 3888, 'crystal': 3889, 'thieves': 3890, 'aggravated': 3891, 'carey': 3892, 'vaccine': 3893, 'prepares': 3894, 'inducted': 3895, 'chancellor': 3896, 'variety': 3897, 'superior': 3898, 'witness': 3899, 'treat': 3900, 'involvement': 3901, 'surplus': 3902, 'shock': 3903, 'unknown': 3904, 'producing': 3905, 'temperatures': 3906, 'everton': 3907, 'III': 3908, 'leeds': 3909, 'commits': 3910, 'completely': 3911, 'vodafone': 3912, 'assange': 3913, 'holidays': 3914, 'phillies': 3915, 'karzai': 3916, 'conservation': 3917, 'settled': 3918, 'lying': 3919, 'blame': 3920, 'sovereign': 3921, 'voluntary': 3922, 'trials': 3923, 'mills': 3924, 'ham': 3925, 'bachchan': 3926, 'haryana': 3927, 'venezuelan': 3928, 'featured': 3929, 'catch': 3930, 'era': 3931, 'WikiLeaks': 3932, 'pet': 3933, 'pete': 3934, 'pregnancy': 3935, 'maharashtra': 3936, 'publisher': 3937, 'implement': 3938, 'rodriguez': 3939, 'rochester': 3940, 'marked': 3941, 'springfield': 3942, 'blaze': 3943, 'weakened': 3944, 'fighters': 3945, 'attempts': 3946, 'emma': 3947, '2015': 3948, 'arnold': 3949, 'solid': 3950, 'brett': 3951, 'user': 3952, 'governments': 3953, 'string': 3954, 'boosted': 3955, 'modi': 3956, 'discharged': 3957, 'hopeful': 3958, 'mason': 3959, 'middleton': 3960, 'perth': 3961, 'FIFA': 3962, 'foster': 3963, 'catches': 3964, 'auburn': 3965, 'bans': 3966, 'equities': 3967, 'addition': 3968, 'wing': 3969, 'refinery': 3970, 'sep': 3971, 'AFL': 3972, '67': 3973, 'envoy': 3974, 'immigrants': 3975, 'newest': 3976, 'versus': 3977, 'northwestern': 3978, 'spokesperson': 3979, 'mario': 3980, 'uses': 3981, 'wellington': 3982, 'defenseman': 3983, 'communist': 3984, 'angry': 3985, 'upgrade': 3986, 'GM': 3987, 'saint': 3988, 'shareholder': 3989, '56': 3990, 'stepped': 3991, 'economies': 3992, 'slip': 3993, 'vladimir': 3994, 'resource': 3995, 'answer': 3996, '120': 3997, 'clinical': 3998, 'slammed': 3999, 'ravens': 4000, 'hanging': 4001, 'corner': 4002, 'licence': 4003, 'supported': 4004, 'workshop': 4005, 'links': 4006, 'assignment': 4007, 'premium': 4008, 'stops': 4009, 'nobel': 4010, 'prostate': 4011, 'mom': 4012, 'clothing': 4013, 'declines': 4014, 'emissions': 4015, 'pizza': 4016, 'murphy': 4017, 'rockets': 4018, 'landmark': 4019, 'pharmaceuticals': 4020, 'crashing': 4021, 'driven': 4022, 'external': 4023, 'spencer': 4024, 'celebrations': 4025, '50th': 4026, 'universities': 4027, 'filmmaker': 4028, 'ken': 4029, 'lucky': 4030, 'kris': 4031, 'rajasthan': 4032, 'keeps': 4033, 'cruelty': 4034, 'presidency': 4035, '54': 4036, 'argument': 4037, 'sacramento': 4038, 'r': 4039, 'holmes': 4040, 'chidambaram': 4041, 'publishing': 4042, 'nursing': 4043, 'bombing': 4044, 'outdoor': 4045, 'midnight': 4046, 'tendulkar': 4047, 'qantas': 4048, 'anne': 4049, 'vatican': 4050, 'fisher': 4051, 'privacy': 4052, 'austerity': 4053, 'confirm': 4054, 'beer': 4055, 'hip': 4056, 'burn': 4057, 'salt': 4058, 'slash': 4059, 'sessions': 4060, 'blues': 4061, 'easter': 4062, 'babies': 4063, 'reducing': 4064, 'DUI': 4065, 'refusing': 4066, 'faith': 4067, 'mines': 4068, 'proposals': 4069, 'heidi': 4070, 'cotton': 4071, 'braves': 4072, 'greatest': 4073, 'raw': 4074, 'jonathan': 4075, 'approve': 4076, 'followed': 4077, 'sing': 4078, 'underway': 4079, 'photographer': 4080, 'revised': 4081, 'shops': 4082, 'baseman': 4083, 'naked': 4084, 'regulations': 4085, 'sponsor': 4086, 'concluded': 4087, 'rebel': 4088, 'imposed': 4089, 'oldest': 4090, 'affiliate': 4091, 'supermarket': 4092, 'parish': 4093, 'fernando': 4094, 'reserves': 4095, 'cancel': 4096, 'lil': 4097, 'roman': 4098, 'plunged': 4099, 'bangalore': 4100, 'ambulance': 4101, 'reds': 4102, 'mean': 4103, 'upgrades': 4104, '39': 4105, 'offences': 4106, 'bone': 4107, 'discussed': 4108, 'surrounding': 4109, 'pickup': 4110, 'WWE': 4111, 'assist': 4112, 'gibson': 4113, 'drove': 4114, 'cliff': 4115, 'danger': 4116, 'species': 4117, 'expenses': 4118, 'IMF': 4119, 'concerned': 4120, 'indies': 4121, 'vessel': 4122, 'priority': 4123, 'occupy': 4124, 'musician': 4125, 'susan': 4126, 'apply': 4127, 'robbie': 4128, 'gomez': 4129, 'yemeni': 4130, 'prostitution': 4131, 'rahul': 4132, 'investigated': 4133, 'tommy': 4134, 'ace': 4135, 'phillips': 4136, 'brewers': 4137, 'maritime': 4138, 'suspend': 4139, 'jacob': 4140, 'computing': 4141, 'messages': 4142, 'discrimination': 4143, 'concussion': 4144, 'widespread': 4145, 'kosovo': 4146, 'recognition': 4147, 'membership': 4148, 'artists': 4149, 'crushed': 4150, 'petition': 4151, 'efficiency': 4152, 'sporting': 4153, 'munich': 4154, 'unity': 4155, 'cameras': 4156, 'actors': 4157, 'apologizes': 4158, 'lawmaker': 4159, 'absence': 4160, 'hole': 4161, 'hostage': 4162, 'mubarak': 4163, 'xinhua': 4164, 'trains': 4165, 'abusing': 4166, 'seeing': 4167, 'chef': 4168, 'audience': 4169, 'possibility': 4170, 'unable': 4171, 'gross': 4172, 'ownership': 4173, 'drowns': 4174, 'spirit': 4175, 'shed': 4176, 'donated': 4177, 'AN': 4178, 'alberta': 4179, '95': 4180, 'judiciary': 4181, 'attract': 4182, 'sons': 4183, 'warn': 4184, 'peak': 4185, 'abbas': 4186, 'slashed': 4187, 'cinema': 4188, '11th': 4189, 'juan': 4190, 'polish': 4191, 'sharif': 4192, 'possibly': 4193, 'novel': 4194, 'models': 4195, 'staterun': 4196, 'tops': 4197, 'chamber': 4198, 'rental': 4199, 'BMW': 4200, 'flash': 4201, 'stakes': 4202, 'cyclist': 4203, 'heights': 4204, 'warehouse': 4205, 'fares': 4206, 'anticipated': 4207, 'evasion': 4208, 'transplant': 4209, 'norway': 4210, 'schwarzenegger': 4211, 'acts': 4212, 'fiveyear': 4213, 'honorary': 4214, 'earn': 4215, 'celtics': 4216, 'brief': 4217, 'meat': 4218, 'v': 4219, 'hailed': 4220, 'writing': 4221, 'netanyahu': 4222, 'bryant': 4223, 'pastor': 4224, 'elbow': 4225, 'requirements': 4226, 'sacked': 4227, 'robinson': 4228, 'grade': 4229, 'regulator': 4230, 'feared': 4231, 'switch': 4232, 'christie': 4233, 'bishop': 4234, 'richmond': 4235, 'abortion': 4236, 'randy': 4237, 'lovato': 4238, 'recognized': 4239, 'favorite': 4240, 'sitting': 4241, 'broncos': 4242, 'monitor': 4243, 'secondary': 4244, 'overhaul': 4245, 'senators': 4246, 'mitchell': 4247, 'postal': 4248, 'operate': 4249, 'chest': 4250, 'muhammad': 4251, '68': 4252, 'counterpart': 4253, 'mugabe': 4254, 'subject': 4255, 'overcome': 4256, 'commissioners': 4257, 'ANC': 4258, 'bag': 4259, 'potter': 4260, 'sheikh': 4261, 'bottom': 4262, 'trades': 4263, 'hu': 4264, 'tape': 4265, 'uncertainty': 4266, 'volume': 4267, 'blasts': 4268, 'pink': 4269, 'shelter': 4270, 'federer': 4271, 'eased': 4272, 'bloomberg': 4273, 'throw': 4274, 'winners': 4275, 'initiatives': 4276, 'glass': 4277, 'jesus': 4278, 'roberto': 4279, 'misses': 4280, 'reopens': 4281, 'apologized': 4282, 'liquor': 4283, 'guest': 4284, '73': 4285, 'spoke': 4286, 'topped': 4287, 'browns': 4288, 'nintendo': 4289, '71': 4290, 'HIV': 4291, 'monroe': 4292, 'prevention': 4293, 'louisville': 4294, 'gathered': 4295, 'particularly': 4296, 'applied': 4297, 'broad': 4298, 'portsmouth': 4299, 'seed': 4300, 'inspired': 4301, 'abdul': 4302, 'consumption': 4303, 'documentary': 4304, 'quick': 4305, '83': 4306, 'merkel': 4307, 'obesity': 4308, 'prisoner': 4309, 'accusing': 4310, '74': 4311, '20yearold': 4312, 'steelers': 4313, 'mel': 4314, 'holy': 4315, 'eighth': 4316, 'billions': 4317, 'grocery': 4318, 'karachi': 4319, 'ski': 4320, 'advised': 4321, 'ballot': 4322, 'unidentified': 4323, 'shell': 4324, 'races': 4325, 'hometown': 4326, 'costar': 4327, 'surveillance': 4328, 'hunter': 4329, 'cambridge': 4330, 'aim': 4331, 'commodities': 4332, 'titans': 4333, 'finger': 4334, 'behaviour': 4335, 'unrest': 4336, 'lows': 4337, 'HTC': 4338, 'wildfire': 4339, 'peaceful': 4340, 'guarantee': 4341, 'clothes': 4342, 'diet': 4343, 'rapid': 4344, 'easing': 4345, 'wish': 4346, 'ward': 4347, 'timberlake': 4348, 'survived': 4349, 'definitive': 4350, 'suggesting': 4351, \"'\": 4352, 'adelaide': 4353, 'maximum': 4354, 'peru': 4355, 'laden': 4356, 'papers': 4357, 'colleges': 4358, 'dad': 4359, 'ships': 4360, 'belgium': 4361, 'slowed': 4362, 'torch': 4363, 'viewers': 4364, 'fireworks': 4365, 'advances': 4366, 'inmates': 4367, '47': 4368, 'deposit': 4369, 'lion': 4370, '77': 4371, 'freeze': 4372, 'sisters': 4373, 'athletics': 4374, 'ashton': 4375, 'blake': 4376, 'discussion': 4377, 'centres': 4378, 'cycling': 4379, 'rapids': 4380, 'nissan': 4381, 'looked': 4382, 'selena': 4383, 'refugee': 4384, 'mars': 4385, 'replaced': 4386, 'duties': 4387, 'condemns': 4388, 'syed': 4389, 'screening': 4390, 'abandoned': 4391, 'wolves': 4392, 'hate': 4393, 'miners': 4394, 'jonas': 4395, 'dumped': 4396, 'DJ': 4397, 'portugal': 4398, 'bernanke': 4399, 'diplomat': 4400, 'fundraising': 4401, 'critics': 4402, 'branches': 4403, '78': 4404, 'broadcaster': 4405, 'smaller': 4406, 'nightclub': 4407, 'gasoline': 4408, 'dennis': 4409, 'lifetime': 4410, 'piece': 4411, 'constitutional': 4412, 'creation': 4413, 'slams': 4414, 'pride': 4415, 'attending': 4416, 'briefly': 4417, 'brooklyn': 4418, 'scrap': 4419, 'broadcasting': 4420, 'beef': 4421, 'frozen': 4422, 'damages': 4423, 'rumors': 4424, 'dozen': 4425, 'serbian': 4426, 'administrative': 4427, 'slide': 4428, 'praises': 4429, 'robberies': 4430, 'newton': 4431, 'suffer': 4432, 'rolls': 4433, 'lt': 4434, 'tribune': 4435, 'decisions': 4436, 'brussels': 4437, 'gallagher': 4438, 'respond': 4439, 'shift': 4440, '81': 4441, '20th': 4442, 'sharing': 4443, 'youths': 4444, 'steal': 4445, 'rumours': 4446, 'client': 4447, 'watchdog': 4448, 'websites': 4449, '66': 4450, 'predicted': 4451, 'slipped': 4452, 'threeyear': 4453, 'baldwin': 4454, 'osbourne': 4455, 'fled': 4456, 'orioles': 4457, 'finland': 4458, 'warming': 4459, '86': 4460, 'castro': 4461, 'performs': 4462, 'gene': 4463, 'marc': 4464, 'farmer': 4465, 'vacant': 4466, 'dmitry': 4467, 'uranium': 4468, 'sandy': 4469, 'ferrari': 4470, 'heroin': 4471, 'montgomery': 4472, 'pilgrims': 4473, 'ninth': 4474, 'manufacturers': 4475, 'exposure': 4476, 'furniture': 4477, 'riding': 4478, 'nearby': 4479, 'awardwinning': 4480, 'martinez': 4481, 'CBI': 4482, 'nancy': 4483, 'robbing': 4484, 'purchases': 4485, 'investing': 4486, 'NJ': 4487, 'installed': 4488, 'boycott': 4489, 'inning': 4490, 'individuals': 4491, 'omaha': 4492, 'beverly': 4493, 'suburban': 4494, 'playoffs': 4495, 'ethnic': 4496, 'hungary': 4497, 'agenda': 4498, 'priest': 4499, 'nature': 4500, 'sachin': 4501, 'luke': 4502, 'chicken': 4503, 'oracle': 4504, 'wire': 4505, 'remember': 4506, 'garage': 4507, 'albert': 4508, 'chip': 4509, 'roles': 4510, 'shared': 4511, 'roadside': 4512, 'yes': 4513, 'abducted': 4514, 'bolton': 4515, 'bayern': 4516, 'airports': 4517, 'posting': 4518, 'exploded': 4519, 'homeowners': 4520, 'promising': 4521, 'suzuki': 4522, 'guru': 4523, 'detention': 4524, 'formal': 4525, 'flames': 4526, 'honour': 4527, 'argentine': 4528, 'nominations': 4529, 'lottery': 4530, 'northeastern': 4531, 'scoring': 4532, 'outfit': 4533, 'twoday': 4534, 'nadu': 4535, 'observed': 4536, 'ashes': 4537, 'berry': 4538, 'comment': 4539, 'submitted': 4540, 'bed': 4541, 'eat': 4542, 'seahawks': 4543, 'endorse': 4544, 'necessary': 4545, 'locked': 4546, 'theme': 4547, 'contain': 4548, 'automaker': 4549, 'eliminate': 4550, '900': 4551, 'twilight': 4552, 'multiyear': 4553, 'sonia': 4554, 'quinn': 4555, 'childhood': 4556, 'skip': 4557, 'pervez': 4558, 'improves': 4559, 'staying': 4560, 'dental': 4561, '49': 4562, 'jays': 4563, 'ceasefire': 4564, 'disappointing': 4565, 'rocker': 4566, 'tributes': 4567, 'defeats': 4568, 'grain': 4569, 'collapses': 4570, 'volunteer': 4571, 'coastal': 4572, 'manhattan': 4573, 'tibetan': 4574, 'coroner': 4575, 'levy': 4576, 'replacement': 4577, 'guitarist': 4578, 'audio': 4579, 'branded': 4580, 'swept': 4581, 'transition': 4582, 'mystery': 4583, '125': 4584, 'survive': 4585, 'warm': 4586, 'commit': 4587, 'quoting': 4588, 'midwest': 4589, 'kitchen': 4590, 'household': 4591, 'amanda': 4592, 'todd': 4593, 'permits': 4594, 'H1N1': 4595, '12th': 4596, 'command': 4597, 'capture': 4598, 'reviews': 4599, 'stones': 4600, 'enjoy': 4601, 'mild': 4602, 'professionals': 4603, '20000': 4604, 'channels': 4605, 'mahindra': 4606, 'importance': 4607, 'APA': 4608, 'joel': 4609, 'norman': 4610, 'insider': 4611, 'eating': 4612, 'offset': 4613, 'bids': 4614, 'watched': 4615, 'desperate': 4616, 'inquest': 4617, 'charging': 4618, 'doubled': 4619, 'electrical': 4620, '500000': 4621, 'PLC': 4622, 'vital': 4623, 'righthander': 4624, 'cyber': 4625, 'drawing': 4626, 'scare': 4627, 'permission': 4628, 'rupert': 4629, 'denmark': 4630, 'disputed': 4631, 'graduate': 4632, 'bernard': 4633, 'ecuador': 4634, 'seminar': 4635, 'makers': 4636, 'obtained': 4637, 'optimism': 4638, 'pranab': 4639, 'recruiting': 4640, 'occupied': 4641, 'frontman': 4642, 'aide': 4643, 'enable': 4644, 'easily': 4645, 'butler': 4646, 'machines': 4647, 'values': 4648, 'planes': 4649, 'plot': 4650, 'norwegian': 4651, 'identify': 4652, 'elephant': 4653, 'tobacco': 4654, 'cofounder': 4655, 'feed': 4656, 'uttar': 4657, 'murdoch': 4658, 'southeastern': 4659, 'bags': 4660, 'arctic': 4661, 'ultimate': 4662, 'doubles': 4663, 'ericsson': 4664, 'teaching': 4665, 'gillard': 4666, 'escapes': 4667, 'johannesburg': 4668, 'titles': 4669, 'alqaeda': 4670, 'barnes': 4671, 'leon': 4672, 'violation': 4673, 'gambling': 4674, 'civilian': 4675, 'oneday': 4676, '4000': 4677, 'sense': 4678, 'rod': 4679, 'unanimously': 4680, 'whitney': 4681, 'designated': 4682, 'discount': 4683, 'spectrum': 4684, 'owen': 4685, 'serial': 4686, 'pentagon': 4687, 'sick': 4688, 'grid': 4689, 'xbox': 4690, 'odds': 4691, 'ads': 4692, 'qaeda': 4693, 'mentally': 4694, 'aggressive': 4695, 'extreme': 4696, 'boyle': 4697, 'academic': 4698, 'minute': 4699, 'poker': 4700, 'PGA': 4701, 'delivers': 4702, 'oscars': 4703, 'younger': 4704, 'directly': 4705, 'indicated': 4706, 'stripped': 4707, 'crowned': 4708, 'gear': 4709, 'governance': 4710, 'grammy': 4711, 'specialty': 4712, 'princess': 4713, 'default': 4714, 'clarke': 4715, 'scenes': 4716, 'austria': 4717, 'flagship': 4718, 'shark': 4719, 'ann': 4720, 'implementation': 4721, 'le': 4722, 'pleading': 4723, 'pneumonia': 4724, 'slump': 4725, 'apart': 4726, '21yearold': 4727, 'fill': 4728, 'moderate': 4729, 'wenger': 4730, 'angel': 4731, 'jake': 4732, 'destroys': 4733, 'yields': 4734, 'chances': 4735, 'acquitted': 4736, 'glee': 4737, 'convenience': 4738, 'estranged': 4739, 'print': 4740, 'borrowing': 4741, 'declining': 4742, 'apology': 4743, 'hamid': 4744, 'crunch': 4745, 'census': 4746, 'silence': 4747, 'basic': 4748, 'dairy': 4749, 'bashar': 4750, 'advisor': 4751, 'clerk': 4752, 'elton': 4753, 'proceedings': 4754, 'lease': 4755, 'cisco': 4756, 'morris': 4757, 'iconic': 4758, 'determine': 4759, 'rivers': 4760, 'angels': 4761, 'misconduct': 4762, 'luis': 4763, 'downgrades': 4764, 'jewelry': 4765, 'edmonton': 4766, 'achieved': 4767, 'remembered': 4768, 'chart': 4769, 'gather': 4770, 'unprecedented': 4771, 'harassment': 4772, 'SUV': 4773, 'datuk': 4774, 'sweep': 4775, 'slam': 4776, 'blind': 4777, 'differences': 4778, '130': 4779, 'entitled': 4780, 'seoul': 4781, 'pollution': 4782, 'educational': 4783, 'l': 4784, 'semiconductor': 4785, 'norwich': 4786, 'completion': 4787, 'accidents': 4788, '200000': 4789, 'amendment': 4790, 'treaty': 4791, '87': 4792, 'francis': 4793, 'disclosed': 4794, 'donates': 4795, 'operational': 4796, 'brady': 4797, '69': 4798, 'threeday': 4799, 'freight': 4800, 'colin': 4801, 'shoppers': 4802, 'dame': 4803, 'amnesty': 4804, 'pharmacy': 4805, 'aberdeen': 4806, 'taipei': 4807, 'ridge': 4808, 'inaugurated': 4809, 'WASHINGTON': 4810, 'unless': 4811, 'marion': 4812, 'engineers': 4813, 'regulation': 4814, 'fat': 4815, 'mounting': 4816, 'penguins': 4817, 'closely': 4818, 'stem': 4819, 'recommended': 4820, 'signal': 4821, 'responded': 4822, 'blair': 4823, '2005': 4824, '101': 4825, '57': 4826, 'missiles': 4827, 'representing': 4828, 'canadians': 4829, 'sioux': 4830, 'collided': 4831, 'destination': 4832, 'letters': 4833, 'newman': 4834, 'fugitive': 4835, 'stuck': 4836, 'hull': 4837, 'blackburn': 4838, 'mohammed': 4839, 'gunman': 4840, '84': 4841, 'diplomats': 4842, 'spy': 4843, 'burglaries': 4844, 'inaugural': 4845, 'robber': 4846, 'evacuation': 4847, 'juventus': 4848, 'XVI': 4849, '79': 4850, 'southwestern': 4851, 'harrison': 4852, 'combined': 4853, 'presidentelect': 4854, 'parole': 4855, 'sebastian': 4856, 'yard': 4857, 'views': 4858, 'raj': 4859, '1500': 4860, 'strengthened': 4861, 'hybrid': 4862, 'dress': 4863, '1st': 4864, 'fred': 4865, 'amber': 4866, 'lloyd': 4867, 'desert': 4868, 'kicking': 4869, 'packaging': 4870, 'floyd': 4871, 'lakes': 4872, 'eva': 4873, 'buses': 4874, 'philip': 4875, 'gaining': 4876, 'weakness': 4877, 'eyes': 4878, 'qualify': 4879, 'electoral': 4880, 'definitely': 4881, 'decrease': 4882, 'allies': 4883, 'bounce': 4884, 'transferred': 4885, 'pioneer': 4886, 'declaration': 4887, 'prompting': 4888, 'widely': 4889, 'cruz': 4890, 'titled': 4891, 'pacquiao': 4892, 'statewide': 4893, 'amitabh': 4894, 'valued': 4895, 'extremely': 4896, 'chad': 4897, 'ones': 4898, 'promise': 4899, 'fundraiser': 4900, 'pulling': 4901, 'loved': 4902, 'lynch': 4903, 'heath': 4904, 'slowing': 4905, 'bosses': 4906, 'climbed': 4907, 'corn': 4908, 'controlled': 4909, 'spurs': 4910, 'deer': 4911, 'UBS': 4912, 'albany': 4913, 'departments': 4914, 'quiet': 4915, 'arbitration': 4916, 'wickets': 4917, 'telephone': 4918, 'disciplinary': 4919, 'rebounds': 4920, 'athens': 4921, 'tribunal': 4922, 'infant': 4923, 'oak': 4924, 'blocked': 4925, 'who': 4926, 'unpaid': 4927, 'suu': 4928, 'kyi': 4929, 'turmoil': 4930, 'knows': 4931, 'migrants': 4932, 'staged': 4933, 'survival': 4934, 'wages': 4935, 'liver': 4936, 'quarterfinals': 4937, 'blocks': 4938, 'michele': 4939, 'bradford': 4940, 'cardiff': 4941, 'insurer': 4942, 'navigation': 4943, 'swing': 4944, 'shape': 4945, 'lifestyle': 4946, 'clooney': 4947, 'grave': 4948, 'apologised': 4949, 'punishment': 4950, 'atomic': 4951, 'attended': 4952, 'challenging': 4953, 'hearts': 4954, 'medals': 4955, 'rallies': 4956, 'explosive': 4957, 'bolt': 4958, 'unbeaten': 4959, 'freddie': 4960, 'smuggling': 4961, 'rb': 4962, 'glasgow': 4963, 'minneapolis': 4964, 'tag': 4965, 'verdict': 4966, 'teenagers': 4967, 'crop': 4968, 'employer': 4969, 'racist': 4970, 'expensive': 4971, 'seconds': 4972, 'cope': 4973, 'siemens': 4974, 'syracuse': 4975, 'lisa': 4976, 'executed': 4977, 'referendum': 4978, '2004': 4979, 'declare': 4980, 'dam': 4981, '91': 4982, 'horses': 4983, 'moss': 4984, 'andhra': 4985, 'substance': 4986, 'pose': 4987, 'christchurch': 4988, 'HSBC': 4989, 'deposits': 4990, 'pensions': 4991, 'diseases': 4992, 'teammate': 4993, 'beyonce': 4994, 'archbishop': 4995, 'apps': 4996, 'chemicals': 4997, 'swim': 4998, 'swap': 4999, 'heavily': 5000, 'blacks': 5001, 'politician': 5002, 'emotional': 5003, 'brush': 5004, 'horror': 5005, 'baku': 5006, 'islam': 5007, 'boxer': 5008, 'bound': 5009, 'empire': 5010, 'easier': 5011, 'carriers': 5012, 'spell': 5013, 'understanding': 5014, 'mariners': 5015, 'manning': 5016, 'thinking': 5017, 'appointments': 5018, 'certification': 5019, 'santorum': 5020, 'cautious': 5021, 'nathan': 5022, 'appealing': 5023, 'trooper': 5024, 'pump': 5025, 'torn': 5026, 'underground': 5027, 'keys': 5028, 'oath': 5029, 'ferry': 5030, 'angela': 5031, 'speedway': 5032, 'accepts': 5033, 'ICC': 5034, 'farms': 5035, 'PlayStation': 5036, 'largely': 5037, '110': 5038, '89': 5039, 'prestigious': 5040, 'larger': 5041, 'tours': 5042, 'broker': 5043, 'pricing': 5044, 'carpet': 5045, 'cool': 5046, 'winnipeg': 5047, 'invitation': 5048, '2nd': 5049, 'distributor': 5050, 'emerge': 5051, 'download': 5052, 'oman': 5053, 'tentative': 5054, 'silvio': 5055, 'manny': 5056, 'outlets': 5057, '92': 5058, 'TMZ': 5059, 'drill': 5060, 'pupils': 5061, 'demonstration': 5062, 'hyderabad': 5063, 'sensation': 5064, 'marcus': 5065, 'beautiful': 5066, 'max': 5067, 'calgary': 5068, 'baker': 5069, 'rider': 5070, 'numerous': 5071, 'exgirlfriend': 5072, 'hathaway': 5073, 'recruit': 5074, 'jumps': 5075, 'LG': 5076, 'hugh': 5077, 'NRL': 5078, 'frontier': 5079, 'organised': 5080, 'ahmed': 5081, 'covering': 5082, 'wounds': 5083, 'cox': 5084, 'routine': 5085, 'filming': 5086, 'compliance': 5087, 'swansea': 5088, 'kutcher': 5089, 'bowler': 5090, 'mayer': 5091, 'inspection': 5092, 'tips': 5093, 'ally': 5094, 'mohammad': 5095, 'bombs': 5096, 'relay': 5097, 'mad': 5098, 'crossed': 5099, 'christopher': 5100, 'simple': 5101, 'responding': 5102, 'cardiac': 5103, 'backing': 5104, 'belgian': 5105, 'sanchez': 5106, 'triplea': 5107, 'insurgents': 5108, 'lifts': 5109, 'indefinitely': 5110, 'selects': 5111, 'document': 5112, 'thomson': 5113, 'shootout': 5114, 'modest': 5115, 'lived': 5116, 'ancient': 5117, 'longest': 5118, 'leaked': 5119, 'policemen': 5120, 'fought': 5121, 'SAP': 5122, 'favor': 5123, 'knew': 5124, 'defeating': 5125, 'surged': 5126, 'mainly': 5127, 'developments': 5128, 'composer': 5129, 'autism': 5130, 'cycle': 5131, 'edinburgh': 5132, 'rehabilitation': 5133, 'struggles': 5134, 'wrestling': 5135, 'thanksgiving': 5136, 'borders': 5137, 'UEFA': 5138, 'IST': 5139, 'reed': 5140, 'choose': 5141, 'coleman': 5142, 'sandra': 5143, 'runway': 5144, 'packers': 5145, 'occasion': 5146, 'depp': 5147, 'statements': 5148, 'disorder': 5149, 'restraining': 5150, 'striking': 5151, 'guidelines': 5152, 'nude': 5153, 'worried': 5154, '18th': 5155, 'institution': 5156, 'batsman': 5157, 'vermont': 5158, 'damascus': 5159, 'salem': 5160, 'curb': 5161, 'suite': 5162, 'bowling': 5163, 'wichita': 5164, 'doping': 5165, 'pretty': 5166, 'achieve': 5167, 'weighed': 5168, 'layoffs': 5169, 'sp': 5170, 'warnings': 5171, 'donations': 5172, '100th': 5173, 'pledge': 5174, 'sindh': 5175, 'monsoon': 5176, 'intersection': 5177, 'towns': 5178, 'fix': 5179, '88': 5180, 'pursue': 5181, 'boats': 5182, 'acquiring': 5183, 'wars': 5184, 'riot': 5185, 'ram': 5186, 'creator': 5187, 'aboard': 5188, 'hiding': 5189, 'ethics': 5190, 'vacation': 5191, 'soul': 5192, '19yearold': 5193, 'newspapers': 5194, 'bruins': 5195, '2020': 5196, 'lambert': 5197, 'lineman': 5198, 'excessive': 5199, 'genetic': 5200, 'placement': 5201, 'EUR': 5202, 'delivering': 5203, 'voter': 5204, 'suisse': 5205, 'platinum': 5206, 'opponents': 5207, 'licensing': 5208, 'medicare': 5209, 'finnish': 5210, 'preferred': 5211, 'mile': 5212, 'lesbian': 5213, 'cheating': 5214, 'gallery': 5215, 'framework': 5216, 'bolster': 5217, 'harbor': 5218, 'vulnerable': 5219, 'omar': 5220, 'difference': 5221, 'button': 5222, 'sierra': 5223, 'capable': 5224, 'calm': 5225, '24yearold': 5226, 'kenyan': 5227, 'gate': 5228, 'romance': 5229, 'wings': 5230, 'k': 5231, 'welsh': 5232, 'severely': 5233, 'sustainability': 5234, 'wigan': 5235, 'expelled': 5236, 'continental': 5237, 'correspondent': 5238, 'buffett': 5239, 'tragedy': 5240, 'wheel': 5241, 'lunch': 5242, 'cemetery': 5243, 'arrival': 5244, '25th': 5245, 'nonprofit': 5246, 'gen': 5247, 'grounds': 5248, 'regrets': 5249, 'safely': 5250, 'birds': 5251, 'serena': 5252, 'confessed': 5253, 'footballer': 5254, 'renews': 5255, 'wyoming': 5256, 'replacing': 5257, 'valentine': 5258, 'catcher': 5259, 'rudd': 5260, 'cheney': 5261, 'grass': 5262, '360': 5263, 'exwife': 5264, 'lexington': 5265, 'challenged': 5266, 'bankers': 5267, 'singing': 5268, 'execution': 5269, 'bath': 5270, 'breach': 5271, 'scientist': 5272, 'reverse': 5273, 'throat': 5274, 'shield': 5275, 'civic': 5276, 'billboard': 5277, 'affecting': 5278, 'happen': 5279, 'bronze': 5280, 'organized': 5281, 'vince': 5282, 'updates': 5283, 'enhanced': 5284, 'reconciliation': 5285, 'peninsula': 5286, 'tens': 5287, 'tesco': 5288, 'logistics': 5289, 'athlete': 5290, 'merge': 5291, 'portal': 5292, 'pattern': 5293, 'DNA': 5294, 'originally': 5295, 'moody': 5296, '22yearold': 5297, 'reiterated': 5298, 'admitting': 5299, 'bang': 5300, 'rocky': 5301, 'turner': 5302, 'IPL': 5303, 'socalled': 5304, 'aside': 5305, 'naomi': 5306, 'tire': 5307, 'f': 5308, 'relatives': 5309, '350': 5310, '25000': 5311, 'romanian': 5312, 'ivory': 5313, 'tibet': 5314, 'maruti': 5315, 'insisting': 5316, 'liquidity': 5317, 'planet': 5318, 'retain': 5319, 'christians': 5320, 'volatile': 5321, 'exposed': 5322, 'trainer': 5323, 'assam': 5324, 'substantial': 5325, 'mariah': 5326, '17th': 5327, 'lights': 5328, 'McCarthy': 5329, 'secures': 5330, '3G': 5331, 'FOCUS': 5332, 'flow': 5333, 'climb': 5334, 'booked': 5335, 'ventures': 5336, 'kabul': 5337, 'canal': 5338, 'emmy': 5339, 'jintao': 5340, 'quebec': 5341, 'yuan': 5342, 'complications': 5343, 'tension': 5344, 'LP': 5345, 'hartford': 5346, 'sorry': 5347, 'intent': 5348, 'citizenship': 5349, \"o'brien\": 5350, 'audit': 5351, 'server': 5352, 'likes': 5353, 'genocide': 5354, 'wade': 5355, 'trump': 5356, 'drinks': 5357, 'colleagues': 5358, 'noel': 5359, 'imported': 5360, 'tulsa': 5361, 'stemming': 5362, 'magnitude': 5363, 'protesting': 5364, 'appoint': 5365, 'mamata': 5366, 'gray': 5367, 'strain': 5368, 'hardware': 5369, 'vanessa': 5370, 'acquisitions': 5371, 'malta': 5372, 'aiming': 5373, 'readers': 5374, 'boosting': 5375, 'foreigners': 5376, 'th': 5377, 'retained': 5378, 'thackeray': 5379, 'fantasy': 5380, 'bench': 5381, 'accounting': 5382, 'simply': 5383, 'austrian': 5384, 'glenn': 5385, 'chopra': 5386, 'willing': 5387, 'OPEC': 5388, 'buzz': 5389, 'muammar': 5390, 'hazare': 5391, 'focusing': 5392, 'bharti': 5393, 'benjamin': 5394, 'JPMorgan': 5395, 'triggered': 5396, 'rubber': 5397, 'policeman': 5398, 'cedar': 5399, 'assured': 5400, 'questioned': 5401, 'rovers': 5402, 'pledges': 5403, 'fines': 5404, 'privately': 5405, '000': 5406, 'circle': 5407, 'ecommerce': 5408, 'jamaica': 5409, 'imran': 5410, 'McLaren': 5411, 'suburb': 5412, 'fleeing': 5413, 'charleston': 5414, 'startup': 5415, 'pack': 5416, 'yellow': 5417, 'harvest': 5418, 'maple': 5419, 'explore': 5420, 'strategies': 5421, 'clearing': 5422, 'profile': 5423, 'sena': 5424, 'indefinite': 5425, 'camps': 5426, 'chair': 5427, 'compromise': 5428, 'defamation': 5429, 'finances': 5430, 'niagara': 5431, 'recruitment': 5432, 'des': 5433, 'neighbor': 5434, 'cooperate': 5435, 'eliminated': 5436, 'discover': 5437, 'sharma': 5438, 'strengthening': 5439, 'FORMER': 5440, 'map': 5441, 'extraordinary': 5442, 'diaz': 5443, 'mainland': 5444, 'represent': 5445, 'owns': 5446, 'molestation': 5447, 'jewellery': 5448, 'develops': 5449, 'install': 5450, 'railways': 5451, 'fabio': 5452, 'withdrew': 5453, 'risen': 5454, 'impressive': 5455, 'talked': 5456, 'concept': 5457, '23yearold': 5458, 'checkpoint': 5459, 'suggest': 5460, 'shoes': 5461, 'overdose': 5462, 'spiritual': 5463, 'colombo': 5464, 'giffords': 5465, 'appearing': 5466, 'knot': 5467, '13th': 5468, 'sit': 5469, 'deported': 5470, 'badly': 5471, 'HD': 5472, 'publication': 5473, 'expo': 5474, 'parked': 5475, 'economist': 5476, 'rams': 5477, 'engineer': 5478, 'preparation': 5479, 'overweight': 5480, 'mo': 5481, 'holder': 5482, 'logo': 5483, 'torture': 5484, 'stages': 5485, 'abbott': 5486, 'UCLA': 5487, 'apr': 5488, 'darren': 5489, 'sensitive': 5490, 'firearms': 5491, 'colts': 5492, 'comic': 5493, 'thriller': 5494, 'somerset': 5495, 'woes': 5496, 'vendor': 5497, 'participation': 5498, 'heroes': 5499, 'innocent': 5500, '18yearold': 5501, 'referee': 5502, 'mercury': 5503, 'unconscious': 5504, '14th': 5505, 'boulevard': 5506, 'reduces': 5507, 'knicks': 5508, 'narendra': 5509, 'cornerback': 5510, 'duo': 5511, 'explain': 5512, '1200': 5513, 'marketplace': 5514, '25yearold': 5515, 'LSU': 5516, 'subscribers': 5517, 'thunder': 5518, 'grace': 5519, 'romantic': 5520, 'procedure': 5521, 'creates': 5522, 'paso': 5523, 'discussions': 5524, 'noble': 5525, 'grown': 5526, 'chargers': 5527, 'statue': 5528, 'tractor': 5529, 'extensive': 5530, 'tablets': 5531, 'function': 5532, 'trends': 5533, 'backup': 5534, 'cues': 5535, 'singles': 5536, 'racial': 5537, 'holders': 5538, 'rankings': 5539, 'maintained': 5540, 'dirty': 5541, 'jaguars': 5542, 'overturned': 5543, 'teammates': 5544, 'margin': 5545, 'exciting': 5546, 'renew': 5547, 'plenty': 5548, 'domain': 5549, 'capabilities': 5550, 'conrad': 5551, 'acclaimed': 5552, 'lab': 5553, 'canyon': 5554, 'toss': 5555, 'devastating': 5556, 'reliever': 5557, 'anchor': 5558, 'writers': 5559, 'travis': 5560, 'connect': 5561, 'tunisia': 5562, 'contribution': 5563, 'turkmenistan': 5564, 'stevens': 5565, 'exactly': 5566, 'mistakes': 5567, 'picking': 5568, '58': 5569, 'silicon': 5570, 'nurses': 5571, 'rockies': 5572, 'recovers': 5573, 'mogul': 5574, 'controls': 5575, 'richards': 5576, 'urge': 5577, 'panasonic': 5578, 'transmission': 5579, 'manila': 5580, 'behalf': 5581, 'effectively': 5582, 'margaret': 5583, 'contribute': 5584, 'jumping': 5585, 'dawn': 5586, 'antigovernment': 5587, 'bancorp': 5588, 'understand': 5589, 'seniors': 5590, 'breakfast': 5591, 'tougher': 5592, 'walks': 5593, 'gardens': 5594, 'tattoo': 5595, 'swan': 5596, 'vick': 5597, 'spreading': 5598, 'elect': 5599, 'catherine': 5600, 'contractors': 5601, 'splits': 5602, 'bullock': 5603, 'offenders': 5604, 'palmer': 5605, 'fulham': 5606, 'nurse': 5607, 'derek': 5608, 'helen': 5609, 'experienced': 5610, 'influential': 5611, 'cricketer': 5612, 'personality': 5613, 'plunge': 5614, 'threaten': 5615, 'providence': 5616, 'windsor': 5617, 'kid': 5618, 'shootings': 5619, 'minn': 5620, 'collective': 5621, 'intervention': 5622, 'speeding': 5623, 'hang': 5624, 'oprah': 5625, 'michaels': 5626, 'vincent': 5627, 'reynolds': 5628, 'infringement': 5629, 'prompted': 5630, 'superintendent': 5631, 'fruit': 5632, '4th': 5633, 'specific': 5634, 'nicki': 5635, 'minaj': 5636, 'supermodel': 5637, 'couples': 5638, 'walter': 5639, 'orissa': 5640, 'excited': 5641, 'optimistic': 5642, 'boris': 5643, 'cooperative': 5644, 'availability': 5645, 'bottle': 5646, 'provinces': 5647, 'witherspoon': 5648, 'courses': 5649, 'miner': 5650, 'cristiano': 5651, 'soft': 5652, 'sheffield': 5653, 'councillor': 5654, 'narrowly': 5655, 'hijacked': 5656, 'counter': 5657, 'bust': 5658, 'pratt': 5659, 'finale': 5660, 'concerts': 5661, 'filled': 5662, 'reward': 5663, 'SC': 5664, 'zambia': 5665, 'jane': 5666, 'jakarta': 5667, 'osama': 5668, 'handle': 5669, 'BHP': 5670, 'degrees': 5671, 'powell': 5672, 'qualifier': 5673, 'durham': 5674, 'doherty': 5675, 'handling': 5676, 'capello': 5677, 'tmobile': 5678, 'apologises': 5679, '30000': 5680, '59': 5681, 'dragged': 5682, 'therapy': 5683, 'richie': 5684, 'herald': 5685, '05': 5686, 'sudanese': 5687, 'components': 5688, 'housewives': 5689, 'vicepresident': 5690, 'ellen': 5691, 'neighbours': 5692, 'destroy': 5693, 'miranda': 5694, 'invites': 5695, 'doubleheader': 5696, 'rough': 5697, 'assad': 5698, 'drives': 5699, 'marlins': 5700, 'exporters': 5701, 'chronic': 5702, 'norfolk': 5703, 'historical': 5704, 'mohamed': 5705, 'percentage': 5706, 'starbucks': 5707, 'possessing': 5708, 'equal': 5709, 'encourage': 5710, 'newport': 5711, 'paise': 5712, 'harvard': 5713, 'battled': 5714, 'remake': 5715, 'wonder': 5716, 'ailing': 5717, 'survives': 5718, 'skype': 5719, 'carroll': 5720, 'addresses': 5721, 'touched': 5722, 'detective': 5723, 'honors': 5724, 'natalie': 5725, 'essex': 5726, 'dhoni': 5727, 'councillors': 5728, '94': 5729, 'ave': 5730, 'enjoyed': 5731, 'bullet': 5732, 'universe': 5733, 'doubt': 5734, 'cream': 5735, 'bombings': 5736, 'seem': 5737, 'stoke': 5738, 'OS': 5739, 'answers': 5740, 'stick': 5741, 'myers': 5742, 'wallace': 5743, 'newborn': 5744, 'hanged': 5745, 'intensive': 5746, 'finishing': 5747, '28yearold': 5748, 'yoga': 5749, 'renowned': 5750, 'donation': 5751, 'foul': 5752, 'midday': 5753, 'rehman': 5754, 'resulting': 5755, 'bennett': 5756, 'taxpayers': 5757, 'patents': 5758, 'solve': 5759, 'proved': 5760, 'newark': 5761, 'conn': 5762, 'sudden': 5763, 'bryan': 5764, 'containing': 5765, 'mini': 5766, 'bachmann': 5767, 'arthur': 5768, 'essential': 5769, 'tsvangirai': 5770, 'fouryear': 5771, 'hospitalised': 5772, 'airtel': 5773, 'require': 5774, 'diving': 5775, 'laundering': 5776, 'mega': 5777, 'portuguese': 5778, 'fights': 5779, 'borough': 5780, 'timothy': 5781, 'swings': 5782, 'donate': 5783, '15th': 5784, 'gathering': 5785, 'resulted': 5786, 'slated': 5787, 'goa': 5788, 'indecent': 5789, 'tucson': 5790, 'paterson': 5791, 'aguilera': 5792, 'LONDON': 5793, 'renault': 5794, 'arraigned': 5795, 'suddenly': 5796, 'seconddegree': 5797, 'beatles': 5798, 'whale': 5799, 'kiss': 5800, 'thousand': 5801, 'banerjee': 5802, 'enjoying': 5803, 'nile': 5804, 'rukh': 5805, '7th': 5806, 'australians': 5807, 'iTunes': 5808, 'economics': 5809, 'burglar': 5810, 'economists': 5811, 'walsh': 5812, 'turbine': 5813, 'protected': 5814, 'ash': 5815, 'barn': 5816, 'crush': 5817, 'meters': 5818, 'associate': 5819, 'pond': 5820, 'premiership': 5821, 'mortgages': 5822, 'fever': 5823, 'miliband': 5824, 'rounds': 5825, 'mosque': 5826, 'encouraged': 5827, 'intended': 5828, 'saves': 5829, 'pact': 5830, 'orchestra': 5831, 'carmaker': 5832, 'kobe': 5833, 'survivors': 5834, 'djokovic': 5835, 'symbol': 5836, 'beta': 5837, '6000': 5838, 'repairs': 5839, 'tripoli': 5840, 'satyam': 5841, 'bonuses': 5842, 'cement': 5843, 'cats': 5844, 'ryanair': 5845, 'marries': 5846, 'golfer': 5847, 'impose': 5848, 'riverside': 5849, 'celebrities': 5850, 'cheap': 5851, 'approached': 5852, 'winfrey': 5853, 'astronaut': 5854, 'rapidly': 5855, 'garcia': 5856, 'ronnie': 5857, 'absolutely': 5858, 'quest': 5859, 'brent': 5860, 'finishes': 5861, 'henderson': 5862, 'courthouse': 5863, 'hornets': 5864, 'ladies': 5865, 'blagojevich': 5866, 'belt': 5867, 'participants': 5868, 'stomach': 5869, 'cannon': 5870, 'subway': 5871, 'NYC': 5872, 'bundesliga': 5873, 'praise': 5874, 'oscarwinning': 5875, 'disappointed': 5876, 'briefing': 5877, 'rap': 5878, '2002': 5879, 'farewell': 5880, 'religion': 5881, 'lucas': 5882, 'format': 5883, 'griffin': 5884, 'ranch': 5885, 'moments': 5886, 'criminals': 5887, 'longoria': 5888, 'crane': 5889, 'lie': 5890, 'pune': 5891, 'veto': 5892, 'roma': 5893, 'dismisses': 5894, 'grows': 5895, 'johansson': 5896, 'attractive': 5897, 'declaring': 5898, 'fate': 5899, 'McDonald': 5900, 'else': 5901, 'amtrak': 5902, 'resigning': 5903, 'sergio': 5904, 'ages': 5905, 'reception': 5906, 'meant': 5907, 'jun': 5908, 'depot': 5909, 'istanbul': 5910, 'alberto': 5911, 'blockbuster': 5912, 'sentencing': 5913, 'adele': 5914, 'bros': 5915, 'lyon': 5916, 'deployed': 5917, 'cuomo': 5918, 'DVD': 5919, 'withdrawal': 5920, 'abused': 5921, 'muscle': 5922, 'extradition': 5923, '225': 5924, 'lock': 5925, 'contained': 5926, 'alleging': 5927, 'shoe': 5928, 'inventories': 5929, 'laura': 5930, 'boom': 5931, 'adrian': 5932, 'addressing': 5933, 'hosni': 5934, 'iOS': 5935, 'presenter': 5936, 'danish': 5937, 'cain': 5938, 'tumor': 5939, 'prosecution': 5940, 'marines': 5941, 'leicester': 5942, 'swung': 5943, 'slovenia': 5944, '4G': 5945, 'encouraging': 5946, 'bangkok': 5947, 'thief': 5948, 'connected': 5949, 'partially': 5950, 'tap': 5951, 'cage': 5952, 'listing': 5953, 'mountains': 5954, 'ET': 5955, 'freshman': 5956, 'molesting': 5957, 'favre': 5958, 'g': 5959, 'qualified': 5960, 'addressed': 5961, 'lowered': 5962, 'waived': 5963, 'stern': 5964, 'vehicular': 5965, 'barton': 5966, 'WOMAN': 5967, 'seasonal': 5968, 'karl': 5969, 'burst': 5970, 'improvements': 5971, 'radiation': 5972, 'hindu': 5973, 'purchased': 5974, 'gifts': 5975, 'sharon': 5976, 'performances': 5977, 'credits': 5978, 'sanford': 5979, 'radical': 5980, 'uk': 5981, 'tumbled': 5982, 'aerospace': 5983, 'legs': 5984, 'advocates': 5985, 'partial': 5986, 'USbased': 5987, 'showcase': 5988, 'helicopters': 5989, 'TWO': 5990, 'ranking': 5991, 'warrants': 5992, '21st': 5993, 'spin': 5994, 'strausskahn': 5995, 'campaigns': 5996, 'issuing': 5997, 'pretax': 5998, 'yorkshire': 5999, 'journey': 6000, 'mavericks': 6001, 'solidarity': 6002, 'FDA': 6003, 'medicaid': 6004, 'outsourcing': 6005, 'jharkhand': 6006, 'valuable': 6007, 'revealing': 6008, 'GE': 6009, 'container': 6010, 'implemented': 6011, 'appealed': 6012, '400000': 6013, 'LOS': 6014, 'lahore': 6015, 'hinted': 6016, 'assessment': 6017, 'IPO': 6018, 'transparency': 6019, 'settles': 6020, 'tinto': 6021, 'di': 6022, 'guests': 6023, 'uganda': 6024, 'organizers': 6025, 'punched': 6026, 'promotions': 6027, 'violated': 6028, 'carlisle': 6029, 'rebounded': 6030, 'shuts': 6031, 'manuel': 6032, 'maintains': 6033, 'explosives': 6034, 'valencia': 6035, 'concrete': 6036, 'popularity': 6037, 'invested': 6038, 'belfast': 6039, 'quitting': 6040, 'troy': 6041, 'lawsuits': 6042, 'noted': 6043, 'riley': 6044, 'hopkins': 6045, 'ditch': 6046, 'consultancy': 6047, 'damaging': 6048, 'administrator': 6049, 'brokers': 6050, 'pipe': 6051, 'prayer': 6052, 'metres': 6053, 'webber': 6054, 'favour': 6055, 'trigger': 6056, 'reese': 6057, 'UPA': 6058, 'oxford': 6059, 'fierce': 6060, 'thank': 6061, 'bend': 6062, 'endorsement': 6063, 'coyotes': 6064, 'forming': 6065, 'ryder': 6066, 'betty': 6067, 'ports': 6068, 'debts': 6069, 'pierce': 6070, 'mourinho': 6071, 'geithner': 6072, 'outage': 6073, 'yousuf': 6074, '40th': 6075, 'activated': 6076, 'arsene': 6077, 'satellites': 6078, 'tyson': 6079, 'tel': 6080, 'perez': 6081, 'laser': 6082, 'rainfall': 6083, 'organisers': 6084, 'metropolitan': 6085, 'plate': 6086, 'na': 6087, 'bernie': 6088, 'covered': 6089, 'traveling': 6090, 'magistrate': 6091, 'exercises': 6092, 'truth': 6093, 'europa': 6094, 'stretch': 6095, 'travelling': 6096, 'lessons': 6097, 'permanently': 6098, 'meals': 6099, 'convertible': 6100, 'lieutenant': 6101, 'lobby': 6102, 'sofia': 6103, 'plotting': 6104, 'addiction': 6105, 'combine': 6106, 'exchanges': 6107, 'stressed': 6108, 'schemes': 6109, 'excellent': 6110, 'pitches': 6111, 'ethiopia': 6112, 'elite': 6113, 'disputes': 6114, 'ideas': 6115, 'utilities': 6116, 'neighbors': 6117, 'hikes': 6118, 'advani': 6119, 'precious': 6120, 'unified': 6121, 'sponsorship': 6122, 'laboratory': 6123, 'licenses': 6124, 'mothers': 6125, 'algeria': 6126, 'wishes': 6127, 'slain': 6128, 'offerings': 6129, 'merrill': 6130, 'stunning': 6131, 'proper': 6132, 'priced': 6133, 'patil': 6134, 'aden': 6135, 'brokerage': 6136, 'recognize': 6137, 'soaring': 6138, 'glen': 6139, 'globally': 6140, 'portion': 6141, 'engage': 6142, '30yearold': 6143, 'salaries': 6144, 'organic': 6145, 'sidelined': 6146, \"o'neal\": 6147, 'rajya': 6148, 'joy': 6149, 'vietnamese': 6150, 'tevez': 6151, 'hails': 6152, 'alqaida': 6153, 'questioning': 6154, 'distribute': 6155, 'daughters': 6156, 'thin': 6157, 'oliver': 6158, 'retreat': 6159, 'mansion': 6160, 'myrtle': 6161, 'erupted': 6162, 'builder': 6163, 'astros': 6164, 'saskatchewan': 6165, 'huntington': 6166, 'destinations': 6167, 'cannabis': 6168, 'kirk': 6169, 'spree': 6170, 'spends': 6171, 'horizon': 6172, 'faculty': 6173, 'burlington': 6174, 'sidelines': 6175, 'acute': 6176, 'vijay': 6177, 'cardinal': 6178, 'quarterfinal': 6179, 'shortfall': 6180, 'rays': 6181, 'deciding': 6182, 'efficient': 6183, 'rover': 6184, 'gym': 6185, 'projected': 6186, 'janata': 6187, 'stateowned': 6188, 'bitter': 6189, 'opposite': 6190, 'detected': 6191, '15yearold': 6192, 'halted': 6193, 'duncan': 6194, 'testify': 6195, 'caps': 6196, 'checked': 6197, 'spice': 6198, 'analytics': 6199, 'bright': 6200, 'flyers': 6201, 'soap': 6202, '14yearold': 6203, 'secrets': 6204, 'gilbert': 6205, 'nose': 6206, 'proceeds': 6207, 'repeatedly': 6208, 'anthem': 6209, 'dementia': 6210, 'SEC': 6211, 'chat': 6212, 'juvenile': 6213, 'repeal': 6214, 'novak': 6215, 'aamir': 6216, 'consolidation': 6217, 'rhode': 6218, 'richardson': 6219, 'strict': 6220, 'tear': 6221, 'NZ': 6222, 'weakens': 6223, 'villages': 6224, 'ex': 6225, 'sweet': 6226, 'autopsy': 6227, 'brawl': 6228, 'sharapova': 6229, 'circumstances': 6230, 'CA': 6231, 'offense': 6232, 'clemens': 6233, 'volatility': 6234, 'remanded': 6235, 'bout': 6236, 'volcano': 6237, 'infosys': 6238, 'AOL': 6239, 'investigations': 6240, 'pelosi': 6241, 'challenger': 6242, 'participating': 6243, 'presidents': 6244, 'GDP': 6245, 'kraft': 6246, 'brutal': 6247, 'awaited': 6248, 'iceland': 6249, 'avalanche': 6250, 'hawks': 6251, 'thunderstorm': 6252, 'raja': 6253, 'endeavour': 6254, 'pointed': 6255, 'cruises': 6256, 'fractured': 6257, 'guitar': 6258, 'opposed': 6259, 'heating': 6260, 'a': 6261, 'nikkei': 6262, 'zsa': 6263, 'publish': 6264, 'AIDS': 6265, 'carnival': 6266, 'hart': 6267, 'du': 6268, 'scarlett': 6269, 'edges': 6270, 'disorderly': 6271, 'hamburg': 6272, 'laptop': 6273, 'medium': 6274, 'segment': 6275, 'atletico': 6276, '175': 6277, 'krishna': 6278, 'rebuild': 6279, 'surrender': 6280, 'productivity': 6281, 'mysterious': 6282, 'headon': 6283, 'gonzalez': 6284, '2016': 6285, 'wii': 6286, 'puerto': 6287, 'macedonia': 6288, 'heather': 6289, 'messaging': 6290, 'anil': 6291, 'worlds': 6292, '160': 6293, '16yearold': 6294, 'advocate': 6295, 'halloween': 6296, 'inappropriate': 6297, 'castle': 6298, 'breakthrough': 6299, 'orbit': 6300, 'sometimes': 6301, 'stanford': 6302, 'institutional': 6303, 'kyrgyz': 6304, 'regain': 6305, 'angola': 6306, 'megan': 6307, 'minogue': 6308, 'batch': 6309, 'buyout': 6310, 'perhaps': 6311, 'boosts': 6312, 'cellular': 6313, 'greenhouse': 6314, 'greene': 6315, 'mobility': 6316, 'sweeping': 6317, 'surcharge': 6318, 'ANGELES': 6319, 'hamstring': 6320, 'hurricanes': 6321, 'mate': 6322, 'peterson': 6323, 'intellectual': 6324, 'notre': 6325, 'mum': 6326, 'broking': 6327, 'dragon': 6328, 'fiat': 6329, 'requested': 6330, 'evacuate': 6331, 'croatia': 6332, 'counterparts': 6333, 'flags': 6334, 'garbage': 6335, 'consensus': 6336, 'columnist': 6337, 'ferdinand': 6338, 'retains': 6339, 'postpones': 6340, 'particular': 6341, 'stood': 6342, 'suppliers': 6343, 'benitez': 6344, 'homeland': 6345, 'chaos': 6346, 'revival': 6347, 'fresno': 6348, 'drummer': 6349, 'petersburg': 6350, 'jayz': 6351, 'plaza': 6352, 'shipments': 6353, 'aung': 6354, 'congratulated': 6355, '300000': 6356, 'nawaz': 6357, 'submit': 6358, 'videos': 6359, 'origin': 6360, 'intense': 6361, 'arlington': 6362, 'contender': 6363, 'carson': 6364, '23rd': 6365, 'brook': 6366, 'progressive': 6367, 'compact': 6368, '15000': 6369, 'crazy': 6370, 'vernon': 6371, 'bhd': 6372, 'faulty': 6373, 'engines': 6374, 'PPP': 6375, 'lighting': 6376, 'collected': 6377, 'tip': 6378, 'dressed': 6379, 'procedures': 6380, 'pills': 6381, 'presentation': 6382, 'tuition': 6383, 'penalties': 6384, 'geneva': 6385, 'joey': 6386, 'reelected': 6387, 'mae': 6388, 'maiden': 6389, 'aussie': 6390, 'robbers': 6391, 'schumacher': 6392, 'alassad': 6393, 'spoken': 6394, 'hackers': 6395, 'alicia': 6396, 'brooks': 6397, 'sluggish': 6398, 'advisers': 6399, 'earthquakes': 6400, 'incumbent': 6401, 'counterfeit': 6402, 'repay': 6403, 'herman': 6404, 'jockey': 6405, 'riders': 6406, 'prepaid': 6407, 'knox': 6408, 'canucks': 6409, 'bingo': 6410, 'congratulates': 6411, 'secondlargest': 6412, 'mistake': 6413, 'restricted': 6414, 'steam': 6415, 'hacked': 6416, 'interbank': 6417, 'approaching': 6418, 'sore': 6419, 'amazoncom': 6420, 'RBI': 6421, 'foreclosures': 6422, 'trader': 6423, 'leonardo': 6424, 'sanjay': 6425, 'sank': 6426, 'runner': 6427, 'explains': 6428, '04': 6429, 'bengals': 6430, 'dominique': 6431, 'dip': 6432, 'removing': 6433, 'seal': 6434, 'dying': 6435, 'completing': 6436, 'batting': 6437, 'predict': 6438, 'firstquarter': 6439, 'lehman': 6440, 'JP': 6441, 'asthma': 6442, '2500': 6443, 'revive': 6444, 'surprised': 6445, 'ballots': 6446, 'coral': 6447, 'puppy': 6448, 'tracy': 6449, 'doug': 6450, 'load': 6451, 'slowly': 6452, 'imprisonment': 6453, 'spotlight': 6454, 'planting': 6455, 'falcons': 6456, 'teeth': 6457, 'self': 6458, 'h': 6459, 'blew': 6460, 'treasurer': 6461, 'blames': 6462, 'bruno': 6463, 'consequences': 6464, 'peoples': 6465, 'unusual': 6466, 'wilmington': 6467, 'smashed': 6468, 'permit': 6469, 'territorial': 6470, 'rig': 6471, 'bailey': 6472, 'santos': 6473, 'victor': 6474, 'yards': 6475, 'dubbed': 6476, 'inspector': 6477, 'miguel': 6478, 'rodgers': 6479, 'queens': 6480, 'sleeping': 6481, 'invests': 6482, 'grenade': 6483, 'ms': 6484, 'janet': 6485, 'households': 6486, 'governing': 6487, 'resorts': 6488, 'intention': 6489, 'imminent': 6490, 'spray': 6491, 'subsidiaries': 6492, 'deployment': 6493, 'medicines': 6494, 'bounced': 6495, 'calendar': 6496, 'specifically': 6497, 'eds': 6498, 'vettel': 6499, 'busch': 6500, 'hammer': 6501, 'shutting': 6502, 'designs': 6503, 'patel': 6504, 'surface': 6505, 'chuck': 6506, 'governors': 6507, 'twotime': 6508, 'isle': 6509, 'burma': 6510, 'multimillion': 6511, 'marco': 6512, 'mandate': 6513, 'holland': 6514, 'creditors': 6515, 'HBO': 6516, 'pensioner': 6517, 'sting': 6518, 'dreams': 6519, 'matters': 6520, 'texans': 6521, 'facilitate': 6522, 'purdue': 6523, 'cheated': 6524, 'maintaining': 6525, 'firstdegree': 6526, 'distributed': 6527, 'decides': 6528, 'recommendations': 6529, 'jean': 6530, 'reviewing': 6531, 'nuggets': 6532, 'dominican': 6533, 'struggled': 6534, '93': 6535, 'climbing': 6536, 'nervous': 6537, 'collect': 6538, 'pressures': 6539, 'wrist': 6540, 'ahmad': 6541, 'uncertain': 6542, 'cigarette': 6543, 'upbeat': 6544, 'seekers': 6545, 'sparks': 6546, 'malawi': 6547, 'strengthens': 6548, 'serie': 6549, 'aviv': 6550, 'telekom': 6551, '3rd': 6552, 'billiton': 6553, '250000': 6554, 'volkswagen': 6555, 'snap': 6556, 'fisherman': 6557, 'maps': 6558, 'lawn': 6559, 'covers': 6560, '140': 6561, 'lashed': 6562, 'reject': 6563, 'concerning': 6564, 'setback': 6565, 'stories': 6566, 'singersongwriter': 6567, 'formation': 6568, 'dogg': 6569, 'diamondbacks': 6570, 'trevor': 6571, 'tenn': 6572, 'toxic': 6573, 'exhusband': 6574, 'workplace': 6575, 'hassan': 6576, 'youngest': 6577, 'nice': 6578, 'khloe': 6579, 'infielder': 6580, 'gabrielle': 6581, 'mph': 6582, 'associates': 6583, 'stayed': 6584, 'humphries': 6585, 'floating': 6586, 'massacre': 6587, 'automation': 6588, 'stamford': 6589, 'battered': 6590, 'stuart': 6591, 'equality': 6592, 'mandatory': 6593, 'raids': 6594, 'tweet': 6595, 'method': 6596, 'taiwanese': 6597, 'nobody': 6598, 'printing': 6599, 'compound': 6600, 'walt': 6601, 'disrupted': 6602, 'paltrow': 6603, 'crawford': 6604, 'punch': 6605, 'apartments': 6606, 'passport': 6607, 'hell': 6608, 'reflecting': 6609, 'scouts': 6610, 'succeed': 6611, 'shocking': 6612, 'bee': 6613, 'hundred': 6614, 'merchant': 6615, 'raul': 6616, 'programmes': 6617, 'achievement': 6618, 'gosselin': 6619, 'cooking': 6620, 'slight': 6621, 'ponting': 6622, 'typhoon': 6623, 'aliyev': 6624, 'subsidies': 6625, 'underage': 6626, 'alarm': 6627, 'clears': 6628, 'marie': 6629, 'rossi': 6630, 'guinea': 6631, 'kingston': 6632, 'SAN': 6633, '96': 6634, 'gender': 6635, 'wifi': 6636, 'shocked': 6637, 'panthers': 6638, 'autumn': 6639, 'rifle': 6640, 'relative': 6641, 'bullpen': 6642, 'soil': 6643, 'mick': 6644, 'mercedes': 6645, 'regard': 6646, 'banning': 6647, 'patch': 6648, 'scotia': 6649, 'touring': 6650, 'playboy': 6651, 'halifax': 6652, 'guardian': 6653, 'cyclone': 6654, 'sponsored': 6655, 'suffolk': 6656, 'ITV': 6657, 'abbey': 6658, 'polling': 6659, 'gazprom': 6660, 'publicist': 6661, 'arrangements': 6662, '2001': 6663, 'boil': 6664, 'pointing': 6665, 'generate': 6666, 'nets': 6667, 'comfortable': 6668, 'rogue': 6669, 'restructure': 6670, 'seizure': 6671, 'anger': 6672, 'expresses': 6673, 'ordinary': 6674, 'nato': 6675, 'wolf': 6676, 'daytona': 6677, 'damon': 6678, 'altercation': 6679, 'legislators': 6680, 'stance': 6681, 'EA': 6682, 'rica': 6683, 'lockout': 6684, 'mouth': 6685, 'USC': 6686, 'lays': 6687, 'thunderstorms': 6688, 'pursuit': 6689, 'desktop': 6690, 'sentences': 6691, 'empty': 6692, 'heels': 6693, 'oppose': 6694, 'ousted': 6695, 'morocco': 6696, 'bribery': 6697, 'barrels': 6698, 'gunshot': 6699, 'samantha': 6700, 'lets': 6701, 'dhaka': 6702, 'dayton': 6703, 'indigenous': 6704, 'khalifa': 6705, 'willis': 6706, 'palestine': 6707, 'invitational': 6708, 'removal': 6709, 'integrity': 6710, 'preserve': 6711, '02': 6712, 'secretly': 6713, 'sheet': 6714, 'voluntarily': 6715, 'gala': 6716, 'jade': 6717, 'attorneys': 6718, 'reliable': 6719, 'panels': 6720, 'incentives': 6721, 'certificate': 6722, 'studying': 6723, 'micro': 6724, 'travelers': 6725, 'amazing': 6726, 'bold': 6727, 'ounce': 6728, 'toys': 6729, 'preston': 6730, 'transactions': 6731, 'humans': 6732, 'minors': 6733, 'tanzania': 6734, 'broader': 6735, 'combination': 6736, 'municipality': 6737, 'dengue': 6738, 'jackie': 6739, 'gwyneth': 6740, 'toy': 6741, 'avoided': 6742, 'airlifted': 6743, 'flown': 6744, 'hayden': 6745, 'legacy': 6746, 'constable': 6747, 'firmly': 6748, 'ambitious': 6749, 'FOX': 6750, 'clegg': 6751, 'quarters': 6752, 'shortstop': 6753, 'adoption': 6754, 'brendan': 6755, 'TD': 6756, 'harvey': 6757, 'propose': 6758, 'detectives': 6759, 'lowers': 6760, 'earns': 6761, 'les': 6762, 'shiv': 6763, 'sullivan': 6764, 'boards': 6765, 'hat': 6766, '15day': 6767, 'admission': 6768, 'desire': 6769, 'maradona': 6770, 'halle': 6771, 'biopic': 6772, '16th': 6773, '30th': 6774, 'blackhawks': 6775, 'MySpace': 6776, 'usain': 6777, 'seri': 6778, 'roots': 6779, 'fiery': 6780, 'allrounder': 6781, 'willie': 6782, 'klitschko': 6783, 'revenge': 6784, 'assassination': 6785, 'middleweight': 6786, 'florence': 6787, 'facial': 6788, 'hiphop': 6789, 'contributions': 6790, 'jorge': 6791, 'devils': 6792, 'ducks': 6793, 'reckless': 6794, 'tipped': 6795, 'goodwill': 6796, 'relating': 6797, 'drawn': 6798, 'toledo': 6799, 'minerals': 6800, 'confrontation': 6801, 'congo': 6802, 'steep': 6803, 'clippers': 6804, 'clashed': 6805, 'railroad': 6806, 'astronauts': 6807, 'motel': 6808, 'govt': 6809, 'reputation': 6810, 'jointly': 6811, 'animation': 6812, 'nitish': 6813, 'baptist': 6814, 'symptoms': 6815, 'caution': 6816, 'appreciation': 6817, 'bridges': 6818, 'rwanda': 6819, 'etihad': 6820, 'blackpool': 6821, 'coma': 6822, 'platforms': 6823, 'indie': 6824, 'forecasters': 6825, 'folk': 6826, 'poses': 6827, 'findings': 6828, 'wrap': 6829, 'cops': 6830, 'hispanic': 6831, 'confirming': 6832, 'prefer': 6833, 'redknapp': 6834, 'wheelchair': 6835, 'yadav': 6836, 'dominated': 6837, 'shale': 6838, 'organisations': 6839, 'trio': 6840, 'wellknown': 6841, 'negotiating': 6842, 'showdown': 6843, 'introducing': 6844, 'disabilities': 6845, 'jeffrey': 6846, 'wash': 6847, 'unite': 6848, 'reddy': 6849, 'halftime': 6850, 'sometime': 6851, '17yearold': 6852, 'lauren': 6853, 'paulo': 6854, 'unexpected': 6855, 'ripped': 6856, 'katrina': 6857, '6th': 6858, 'coventry': 6859, 'curtis': 6860, 'hernandez': 6861, 'tradition': 6862, 'meaning': 6863, 'simmons': 6864, 'posed': 6865, 'hidden': 6866, 'nova': 6867, 'downs': 6868, 'consolidate': 6869, 'gubernatorial': 6870, 'laying': 6871, 'stalking': 6872, 'salvation': 6873, 'islanders': 6874, 'requires': 6875, 'roughly': 6876, 'venue': 6877, 'anonymous': 6878, 'bullish': 6879, 'eligible': 6880, 'u': 6881, 'albums': 6882, 'exclusively': 6883, 'kingfisher': 6884, 'oval': 6885, 'profitability': 6886, 'pets': 6887, 'kidnap': 6888, 'LeBron': 6889, 'demolition': 6890, 'pistorius': 6891, 'shaun': 6892, 'graduates': 6893, 'bicycle': 6894, 'rescues': 6895, 'plymouth': 6896, 'deploy': 6897, 'explodes': 6898, 'slows': 6899, 'groin': 6900, 'excellence': 6901, 'overtime': 6902, 'loaded': 6903, 'killings': 6904, 'amsterdam': 6905, 'franco': 6906, 'reconstruction': 6907, 'recreation': 6908, 'draws': 6909, 'dpa': 6910, 'AAA': 6911, 'O2': 6912, '26yearold': 6913, 'snoop': 6914, 'citi': 6915, 'ramp': 6916, 'carlo': 6917, 'programming': 6918, 'afraid': 6919, 'estimate': 6920, 'difficulties': 6921, 'tragic': 6922, 'reinstated': 6923, 'researcher': 6924, 'blasted': 6925, 'surrendered': 6926, 'hostile': 6927, 'rev': 6928, 'trustees': 6929, 'battles': 6930, 'flee': 6931, 'claire': 6932, 'neglect': 6933, 'indeed': 6934, 'walters': 6935, 'consultation': 6936, 'tebow': 6937, 'gig': 6938, 'rd': 6939, 'priyanka': 6940, 'troopers': 6941, 'purpose': 6942, 'sitcom': 6943, '104': 6944, 'offseason': 6945, 'deny': 6946, 'taste': 6947, 'cathedral': 6948, 'AFC': 6949, 'zones': 6950, 'WBC': 6951, 'councilman': 6952, 'murders': 6953, 'widened': 6954, 'padres': 6955, '201112': 6956, 'accidental': 6957, 'lansing': 6958, 'pig': 6959, 'panic': 6960, 'guys': 6961, 'packages': 6962, 'evan': 6963, 'skating': 6964, 'da': 6965, '19th': 6966, 'chocolate': 6967, 'stays': 6968, 'sweeps': 6969, 'manner': 6970, 'victorian': 6971, 'stating': 6972, 'daniels': 6973, 'piracy': 6974, 'consideration': 6975, 'moral': 6976, 'croatian': 6977, 'eventually': 6978, '32yearold': 6979, 'DiCaprio': 6980, 'malaria': 6981, 'flew': 6982, 'ethanol': 6983, 'tighten': 6984, 'infections': 6985, 'samuel': 6986, 'respectively': 6987, 'rent': 6988, 'instruments': 6989, 'installation': 6990, 'pancreatic': 6991, 'ghost': 6992, 'requests': 6993, 'agreeing': 6994, 'allocation': 6995, 'pine': 6996, 'hewitt': 6997, 'eyed': 6998, 'anand': 6999, 'donor': 7000, 'sailor': 7001, 'arquette': 7002, 'jul': 7003, 'lone': 7004, 'behavior': 7005, 'lanes': 7006, '1100': 7007, 'lou': 7008, 'li': 7009, 'famed': 7010, 'friendship': 7011, 'collections': 7012, 'shortages': 7013, 'zimbabwean': 7014, 'dock': 7015, 'certainly': 7016, 'malcolm': 7017, 'councils': 7018, 'relegation': 7019, 'initially': 7020, 'butt': 7021, 'burnt': 7022, 'lancaster': 7023, 'apparel': 7024, 'proposing': 7025, 'poisoning': 7026, 'freeway': 7027, 'moines': 7028, 'buyer': 7029, 'grandmother': 7030, 'corrupt': 7031, 'inn': 7032, 'symphony': 7033, 'wipro': 7034, 'drake': 7035, 'distributing': 7036, 'repeat': 7037, 'nexus': 7038, 'exam': 7039, 'endangerment': 7040, 'publishes': 7041, 'carrie': 7042, 'wet': 7043, 'promotes': 7044, 'replaces': 7045, 'outperform': 7046, 'administrators': 7047, 'oasis': 7048, 'chrome': 7049, 'fertilizer': 7050, 'ministerial': 7051, 'liability': 7052, 'iPod': 7053, 'yacht': 7054, 'restart': 7055, 'bones': 7056, 'gadhafi': 7057, 'olmert': 7058, 'eases': 7059, 'beaches': 7060, 'adopts': 7061, 'chips': 7062, 'ellis': 7063, 'hoped': 7064, 'disappeared': 7065, '180': 7066, 'sanders': 7067, 'firstround': 7068, 'ministries': 7069, 'MLS': 7070, 'bret': 7071, 'attendance': 7072, 'opponent': 7073, '97': 7074, 'consultant': 7075, 'der': 7076, 'reaction': 7077, 'diana': 7078, 'lover': 7079, 'tunnel': 7080, 'generic': 7081, 'wilkinson': 7082, 'cal': 7083, 'adaptation': 7084, 'clinics': 7085, 'establishment': 7086, 'IP': 7087, 'washed': 7088, 'visas': 7089, 'entrepreneurs': 7090, 'adjourned': 7091, 'vessels': 7092, 'shaw': 7093, 'ejected': 7094, 'reunited': 7095, '201213': 7096, 'scout': 7097, 'kidman': 7098, 'transfers': 7099, 'axe': 7100, 'filipino': 7101, 'nielsen': 7102, 'hacking': 7103, 'consent': 7104, 'marginally': 7105, 'nixon': 7106, 'commissioned': 7107, 'martial': 7108, 'nutrition': 7109, 'suns': 7110, 'johnston': 7111, 'indoor': 7112, 'greenback': 7113, 'cavaliers': 7114, 'yield': 7115, 'bombers': 7116, 'cigarettes': 7117, 'dutt': 7118, 'graduation': 7119, 'medication': 7120, 'apologise': 7121, '99': 7122, 'zuckerberg': 7123, 'charities': 7124, 'reference': 7125, 'delighted': 7126, 'watford': 7127, 'sandusky': 7128, 'depth': 7129, 'andrews': 7130, 'sequel': 7131, 'youngsters': 7132, '2003': 7133, 'jenkins': 7134, 'dylan': 7135, 'textile': 7136, 'subscription': 7137, 'aware': 7138, 'indicates': 7139, 'methods': 7140, 'rewards': 7141, 'songwriter': 7142, 'pages': 7143, 'introduction': 7144, 'blogger': 7145, 'upheld': 7146, 'signature': 7147, 'sergeant': 7148, 'openly': 7149, 'fullback': 7150, 'founding': 7151, 'robust': 7152, 'gossip': 7153, 'thus': 7154, 'indices': 7155, 'handset': 7156, 'grey': 7157, 'manitoba': 7158, 'nottingham': 7159, 'ethiopian': 7160, '01': 7161, 'michel': 7162, 'revolutionary': 7163, 'mali': 7164, 'operated': 7165, 'debates': 7166, '5th': 7167, 'epic': 7168, 'madoff': 7169, 'controller': 7170, 'sparking': 7171, 'mode': 7172, 'consulate': 7173, 'packed': 7174, 'cop': 7175, 'highprofile': 7176, 'midland': 7177, 'cabin': 7178, 'bargain': 7179, 'yang': 7180, 'kerr': 7181, 'surgeon': 7182, 'cheaper': 7183, 'initiated': 7184, 'katherine': 7185, 'departure': 7186, 'appropriate': 7187, 'kurt': 7188, 'protecting': 7189, 'painting': 7190, 'immigrant': 7191, 'acid': 7192, 'runoff': 7193, 'narrow': 7194, 'erie': 7195, 'sexy': 7196, 'luck': 7197, 'klum': 7198, 'rage': 7199, 'tanks': 7200, 'monitors': 7201, 'publishers': 7202, 'counsel': 7203, 'hunters': 7204, 'gingrich': 7205, 'pepper': 7206, 'barrier': 7207, 'toilet': 7208, 'nolan': 7209, 'paula': 7210, 'bombay': 7211, 'telecoms': 7212, 'zac': 7213, 'reunite': 7214, 'reiterates': 7215, 'coronation': 7216, 'portman': 7217, 'insurers': 7218, 'booking': 7219, 'recommends': 7220, 'mt': 7221, 'daylight': 7222, 'suspending': 7223, 'dynamics': 7224, 'torres': 7225, 'earning': 7226, 'balls': 7227, 'certified': 7228, 'ND': 7229, 'relationships': 7230, '49ers': 7231, 'discussing': 7232, '03': 7233, 'attendant': 7234, 'notices': 7235, 'signals': 7236, 'hannah': 7237, 'formerly': 7238, 'irene': 7239, 'travellers': 7240, 'NYSE': 7241, 'humanity': 7242, 'tan': 7243, 'lightweight': 7244, 'rico': 7245, 'augusta': 7246, 'caroline': 7247, 'nasdaq': 7248, 'telegraph': 7249, 'indicating': 7250, 'fare': 7251, 'strictly': 7252, 'weakening': 7253, 'disruption': 7254, 'mayweather': 7255, 'felix': 7256, 'grande': 7257, 'clayton': 7258, 'monica': 7259, 'informs': 7260, 'scanner': 7261, 'bitten': 7262, 'survivor': 7263, 'elements': 7264, 'secondquarter': 7265, 'accusations': 7266, 'locker': 7267, 'passage': 7268, 'telstra': 7269, 'purchasing': 7270, 'himachal': 7271, '105': 7272, 'eli': 7273, 'uprising': 7274, 'clinched': 7275, 'criticized': 7276, 'srinagar': 7277, 'grandfather': 7278, 'thefts': 7279, 'tiny': 7280, 'GaGa': 7281, 'chilean': 7282, 'predicts': 7283, 'prop': 7284, 'placing': 7285, 'vale': 7286, 'bankrupt': 7287, 'bible': 7288, 'businessmen': 7289, 'displaced': 7290, 'levi': 7291, 'CIA': 7292, 'busted': 7293, 'hodgson': 7294, 'morrison': 7295, 'sailing': 7296, 'mirza': 7297, 'baba': 7298, 'javier': 7299, '450': 7300, 'newt': 7301, 'ralph': 7302, 'shutdown': 7303, 'doubts': 7304, 'enemy': 7305, 'hampton': 7306, 'americas': 7307, 'boise': 7308, 'imaging': 7309, 'silent': 7310, 'withdrawing': 7311, 'shahid': 7312, 'winslet': 7313, 'notorious': 7314, 'shadow': 7315, 'lionel': 7316, 'convert': 7317, 'pushes': 7318, 'posing': 7319, 'ceiling': 7320, 'maldives': 7321, 'restoration': 7322, 'mancini': 7323, 'hungarian': 7324, 'editorial': 7325, 'brewer': 7326, 'whatever': 7327, 'freeagent': 7328, 'aquino': 7329, 'disorders': 7330, 'charts': 7331, 'slower': 7332, 'bermuda': 7333, 'distance': 7334, 'stalled': 7335, 'chester': 7336, 'highspeed': 7337, 'reunion': 7338, 'uncle': 7339, 'sewer': 7340, 'belonging': 7341, 'characters': 7342, 'brave': 7343, 'saeed': 7344, 'prayers': 7345, 'disasters': 7346, 'competing': 7347, 'scholarship': 7348, 'marsh': 7349, 'amidst': 7350, 'usual': 7351, 'shook': 7352, 'bentley': 7353, 'bands': 7354, 'thirdquarter': 7355, 'welterweight': 7356, 'neighbouring': 7357, 'splitting': 7358, 'pyongyang': 7359, 'spare': 7360, 'F1': 7361, 'entrepreneur': 7362, 'clemson': 7363, 'detection': 7364, 'browser': 7365, 'junction': 7366, 'waves': 7367, 'accreditation': 7368, 'eid': 7369, 'dated': 7370, 'bloody': 7371, 'admit': 7372, 'semi': 7373, 'eBay': 7374, 'huffington': 7375, 'diane': 7376, 'error': 7377, 'injection': 7378, 'lots': 7379, 'inauguration': 7380, 'statutory': 7381, 'nickel': 7382, 'automatic': 7383, 'raymond': 7384, 'chevrolet': 7385, 'maybe': 7386, '00': 7387, 'strokes': 7388, 'LLP': 7389, 'teach': 7390, 'requirement': 7391, 'chose': 7392, 'ind': 7393, '12000': 7394, 'triumph': 7395, 'pietersen': 7396, 'bathroom': 7397, 'destruction': 7398, 'earl': 7399, 'XI': 7400, 'renewal': 7401, 'smash': 7402, 'mesa': 7403, 'injures': 7404, 'reservation': 7405, 'productions': 7406, 'pakistanis': 7407, 'generating': 7408, 'neighbour': 7409, 'sovereignty': 7410, 'achievements': 7411, 'fourthquarter': 7412, 'grabbed': 7413, 'safer': 7414, 'evaluation': 7415, '29yearold': 7416, 'wed': 7417, 'funny': 7418, 'driveby': 7419, 'hood': 7420, 'LTE': 7421, 'fragile': 7422, 'radcliffe': 7423, 'samajwadi': 7424, 'ibrahim': 7425, 'interesting': 7426, 'cocacola': 7427, 'mediterranean': 7428, 'hyundai': 7429, 'consortium': 7430, 'berkeley': 7431, 'unfair': 7432, 'doha': 7433, 'length': 7434, 'sum': 7435, 'litre': 7436, 'crops': 7437, 'correctional': 7438, 'accelerated': 7439, 'canterbury': 7440, 'burton': 7441, 'bases': 7442, 'observers': 7443, 'outages': 7444, 'renovation': 7445, 'zach': 7446, 'gerard': 7447, 'rocks': 7448, 'tightened': 7449, 'embattled': 7450, 'westminster': 7451, 'devastated': 7452, 'vandals': 7453, 'strained': 7454, 'SP': 7455, 'embezzlement': 7456, 'McDonnell': 7457, 'poet': 7458, 'portable': 7459, 'makeover': 7460, 'parkway': 7461, 'christ': 7462, 'belmont': 7463, 'demonstrators': 7464, 'vienna': 7465, 'conducting': 7466, 'knoxville': 7467, 'factories': 7468, 'speeds': 7469, 'highlights': 7470, 'felipe': 7471, 'leonard': 7472, 'monster': 7473, 'stopping': 7474, 'AS': 7475, '98': 7476, 'highlight': 7477, 'persistent': 7478, 'panama': 7479, 'reno': 7480, 'daytime': 7481, 'balanced': 7482, '8000': 7483, 'toshiba': 7484, 'requiring': 7485, 'accra': 7486, 'afford': 7487, 'messi': 7488, 'balotelli': 7489, 'ehud': 7490, 'sara': 7491, \"o'neill\": 7492, 'opposes': 7493, 'LTTE': 7494, 'plunges': 7495, 'annually': 7496, 'polar': 7497, 'aurora': 7498, 'operates': 7499, 'explained': 7500, 'uruguay': 7501, 'peacefully': 7502, 'cure': 7503, 'prairie': 7504, 'jews': 7505, 'tunisian': 7506, 'heated': 7507, 'urgent': 7508, 'gallon': 7509, 'parkinson': 7510, 'proof': 7511, 'hates': 7512, 'adventure': 7513, 'wallabies': 7514, 'pearl': 7515, 'punching': 7516, '35yearold': 7517, 'sat': 7518, 'commencement': 7519, 'ECB': 7520, 'linking': 7521, 'minsk': 7522, 'ASEAN': 7523, 'harm': 7524, 'tycoon': 7525, 'plains': 7526, 'bharatiya': 7527, 'hezbollah': 7528, 'courtroom': 7529, 'contemporary': 7530, 'immunity': 7531, 'budgets': 7532, 'champ': 7533, 'trademark': 7534, 'pawlenty': 7535, 'POLICE': 7536, 'gerrard': 7537, 'rocked': 7538, 'pot': 7539, 'webb': 7540, 'deportation': 7541, 'tweets': 7542, 'sidney': 7543, 'uniform': 7544, 'RCMP': 7545, 'tumble': 7546, 'volumes': 7547, 'bucks': 7548, 'afghans': 7549, 'legends': 7550, 'manipur': 7551, 'copyright': 7552, 'scrapped': 7553, 'macau': 7554, 'cleanup': 7555, 'laboratories': 7556, 'maoist': 7557, 'muamba': 7558, 'sunshine': 7559, 'ICICI': 7560, 'awaiting': 7561, 'syndrome': 7562, 'westwood': 7563, 'yearold': 7564, 'wounding': 7565, 'dipped': 7566, 'constituency': 7567, 'menu': 7568, 'clay': 7569, 'mercy': 7570, 'example': 7571, 'pirate': 7572, 'crosby': 7573, 'handsets': 7574, 'contamination': 7575, 'happens': 7576, 'millionaire': 7577, 'boutique': 7578, 'haley': 7579, 'rutgers': 7580, 'repeated': 7581, 'cease': 7582, 'contempt': 7583, 'burden': 7584, 'closures': 7585, 'attitude': 7586, 'leafs': 7587, 'brooke': 7588, 'bonus': 7589, 'antony': 7590, 'crist': 7591, 'trash': 7592, 'AB': 7593, 'villagers': 7594, 'mln': 7595, 'deliberately': 7596, 'trained': 7597, 'firmer': 7598, 'hemsworth': 7599, 'inches': 7600, 'principle': 7601, 'gabriel': 7602, 'calf': 7603, 'seng': 7604, 'kindle': 7605, 'qualifiers': 7606, 'exploitation': 7607, 'nearing': 7608, 'islamist': 7609, 'yeddyurappa': 7610, 'alexandra': 7611, 'namibia': 7612, 'scared': 7613, 'balloon': 7614, 'marvel': 7615, 'libel': 7616, 'hindi': 7617, 'rajapaksa': 7618, 'approaches': 7619, '135': 7620, 'successor': 7621, 'classroom': 7622, 'disappointment': 7623, 'conglomerate': 7624, 'remarkable': 7625, 'tornadoes': 7626, 'banner': 7627, 'montag': 7628, 'mainstream': 7629, 'pfizer': 7630, 'serves': 7631, 'harsh': 7632, 'wider': 7633, 'highlighting': 7634, 'adjusted': 7635, 'prosperity': 7636, 'discusses': 7637, 'oral': 7638, 'pubs': 7639, 'transparent': 7640, 'touching': 7641, 'raided': 7642, 'cohen': 7643, 'ODI': 7644, 'capsized': 7645, 'mix': 7646, 'gearing': 7647, 'negotiate': 7648, 'derivatives': 7649, 'bulk': 7650, 'fannie': 7651, 'literacy': 7652, 'rated': 7653, 'lokpal': 7654, 'virtually': 7655, 'sole': 7656, 'par': 7657, 'borrowers': 7658, 'spectacular': 7659, 'deserve': 7660, 'doctorate': 7661, 'jermaine': 7662, 'presenting': 7663, 'highways': 7664, 'thatcher': 7665, 'tube': 7666, 'wanderers': 7667, 'chandigarh': 7668, 'brunswick': 7669, 'huntsman': 7670, 'pitching': 7671, 'swat': 7672, 'conferences': 7673, 'worsening': 7674, 'abandon': 7675, 'treatments': 7676, 'quake': 7677, 'fairfield': 7678, 'laureate': 7679, 'PayPal': 7680, 'carol': 7681, 'enjoys': 7682, 'cleric': 7683, 'silva': 7684, 'flooded': 7685, 'extremists': 7686, 'activate': 7687, 'spirits': 7688, 'occupation': 7689, 'sprained': 7690, 'surrey': 7691, 'confirmation': 7692, 'strange': 7693, 'exporter': 7694, 'appearances': 7695, 'km': 7696, 'attracted': 7697, 'sailors': 7698, 'premises': 7699, 'bangladeshi': 7700, 'kamal': 7701, 'vista': 7702, 'trent': 7703, 'arriving': 7704, 'catching': 7705, 'happiness': 7706, 'collecting': 7707, 'reservoir': 7708, 'crossborder': 7709, 'en': 7710, 'servants': 7711, 'kit': 7712, 'richest': 7713, 'kourtney': 7714, 'frankfurt': 7715, 'RIM': 7716, 'height': 7717, 'dentist': 7718, 'founded': 7719, 'workout': 7720, 'PMLn': 7721, 'dismissal': 7722, 'shannon': 7723, 'nationally': 7724, 'hide': 7725, 'ike': 7726, '31yearold': 7727, 'headline': 7728, 'baron': 7729, 'directing': 7730, 'nazi': 7731, 'tonne': 7732, 'LED': 7733, 'reorganization': 7734, 'lengthy': 7735, 'ranbir': 7736, 'aftermath': 7737, 'holocaust': 7738, 'dealt': 7739, 'supervisor': 7740, 'honours': 7741, 'vandalism': 7742, 'ashok': 7743, 'monument': 7744, 'dictator': 7745, 'MSNBC': 7746, 'reactor': 7747, 'cambodia': 7748, 'subdued': 7749, 'tweeted': 7750, 'infamous': 7751, 'payroll': 7752, 'fraser': 7753, 'penny': 7754, 'attracting': 7755, 'albuquerque': 7756, 'bracing': 7757, 'preparations': 7758, 'MVP': 7759, 'cannes': 7760, 'dodge': 7761, 'ramdev': 7762, 'macon': 7763, 'robertson': 7764, 'attacker': 7765, 'roethlisberger': 7766, 'goody': 7767, 'aground': 7768, 'bump': 7769, 'tory': 7770, 'vampire': 7771, 'kilometres': 7772, 'accord': 7773, 'denise': 7774, 'diva': 7775, 'represents': 7776, 'albion': 7777, 'slid': 7778, 'exceed': 7779, 'dominate': 7780, 'mob': 7781, 'cavendish': 7782, 'indictment': 7783, '1600': 7784, 'lacrosse': 7785, 'bet': 7786, 'appetite': 7787, 'alltime': 7788, 'preview': 7789, 'egg': 7790, 'tears': 7791, 'unemployed': 7792, 'kodak': 7793, 'lucknow': 7794, 'slashes': 7795, 'slim': 7796, 'eclipse': 7797, 'havoc': 7798, '40000': 7799, 'alley': 7800, 'sheboygan': 7801, 'cattle': 7802, 'contestant': 7803, 'fielder': 7804, 'mercer': 7805, 'beirut': 7806, 'conservatives': 7807, 'allied': 7808, 'establishing': 7809, 'bloc': 7810, 'vast': 7811, 'joan': 7812, 'disturbance': 7813, 'satisfaction': 7814, 'sevilla': 7815, 'goaltender': 7816, 'listen': 7817, 'dawson': 7818, 'ton': 7819, '38yearold': 7820, 'boots': 7821, 'demonstrate': 7822, 'steroids': 7823, 'respects': 7824, 'BSE': 7825, '102': 7826, 'describing': 7827, 'shawn': 7828, 'sand': 7829, 'rescuers': 7830, 'pray': 7831, 'conan': 7832, 'advisors': 7833, 'tymoshenko': 7834, 'assess': 7835, 'impaired': 7836, 'travolta': 7837, 'statistical': 7838, 'vic': 7839, 'JD': 7840, 'complained': 7841, 'PCs': 7842, 'paterno': 7843, 'downloads': 7844, 'committing': 7845, 'tomas': 7846, 'lynn': 7847, 'inspectors': 7848, 'mitsubishi': 7849, 'bhutto': 7850, 'ceremonies': 7851, 'followers': 7852, 'starter': 7853, 'fortune': 7854, 'suburbs': 7855, 'jackpot': 7856, '7000': 7857, 'screens': 7858, 'actively': 7859, 'hillsborough': 7860, 'shahbaz': 7861, 'automobile': 7862, 'gloucester': 7863, 'prefers': 7864, 'learnt': 7865, 'undercover': 7866, 'jenna': 7867, 'wrapped': 7868, 'luther': 7869, 'obese': 7870, 'besides': 7871, 'wembley': 7872, 'snapped': 7873, 'lorry': 7874, 'divisions': 7875, 'cleaning': 7876, 'harbour': 7877, '07': 7878, 'temperature': 7879, 'pains': 7880, 'allamerican': 7881, 'barred': 7882, 'punk': 7883, 'sponsors': 7884, 'mich': 7885, 'BNP': 7886, 'ugly': 7887, '750': 7888, 'amateur': 7889, 'stint': 7890, 'truly': 7891, 'narrowed': 7892, 'alzheimer': 7893, 'von': 7894, 'turnout': 7895, 'venus': 7896, 'pleasant': 7897, 'netflix': 7898, 'waive': 7899, 'dump': 7900, 'vaccines': 7901, 'zimmerman': 7902, 'widens': 7903, 'instant': 7904, 'experiences': 7905, 'matthews': 7906, 'binghamton': 7907, 'putnam': 7908, 'everybody': 7909, 'impossible': 7910, 'patience': 7911, 'AK': 7912, 'invite': 7913, 'neighboring': 7914, 'coup': 7915, 'reflect': 7916, 'biel': 7917, 'powered': 7918, 'processor': 7919, 'freak': 7920, 'sunny': 7921, 'blaming': 7922, 'ronson': 7923, 'critic': 7924, 'novosti': 7925, 'durban': 7926, 'cab': 7927, 'incentive': 7928, 'entrance': 7929, 'upside': 7930, 'landlord': 7931, 'FTSE': 7932, 'lafayette': 7933, 'acknowledged': 7934, 'BAE': 7935, 'shriver': 7936, 'majors': 7937, 'mila': 7938, 'taught': 7939, 'commuters': 7940, 'detainees': 7941, 'factors': 7942, 'diamonds': 7943, 'preventing': 7944, 'plug': 7945, 'boulder': 7946, 'drain': 7947, 'lure': 7948, '27yearold': 7949, 'payne': 7950, 'dover': 7951, 'resistances': 7952, 'wizards': 7953, 'dana': 7954, 'experiencing': 7955, 'fairfax': 7956, 'donors': 7957, 'vegetables': 7958, 'sad': 7959, 'lodged': 7960, 'impersonating': 7961, 'lowe': 7962, '201011': 7963, 'sight': 7964, 'lies': 7965, 'prolonged': 7966, 'notebook': 7967, 'owens': 7968, '115': 7969, 'mayoral': 7970, 'laurent': 7971, 'resolved': 7972, 'seth': 7973, 'deeply': 7974, 'modified': 7975, 'clarkson': 7976, 'glory': 7977, 'ana': 7978, 'lehigh': 7979, 'pa': 7980, 'logan': 7981, 'incorporated': 7982, 'indexes': 7983, 'mrs': 7984, 'scholarships': 7985, '103': 7986, 'tone': 7987, '8th': 7988, 'commuter': 7989, 'marched': 7990, 'qld': 7991, 'pictured': 7992, 'arguing': 7993, 'scratched': 7994, 'lists': 7995, 'chartered': 7996, 'dale': 7997, 'lennon': 7998, 'soviet': 7999, 'rory': 8000, 'yy': 8001, 'languages': 8002, 'courtney': 8003, 'obligations': 8004, 'ritchie': 8005, 'testimony': 8006, 'volvo': 8007, 'panda': 8008, 'sounds': 8009, 'loose': 8010, '150000': 8011, 'bias': 8012, 'FM': 8013, 'salisbury': 8014, 'aging': 8015, 'trim': 8016, 'shower': 8017, 'infected': 8018, 'ledger': 8019, 'elects': 8020, 'soared': 8021, 'inventory': 8022, 'arabian': 8023, 'oilers': 8024, 'escalating': 8025, 'lowcost': 8026, 'bargaining': 8027, 'campaigning': 8028, 'asiapacific': 8029, 'organ': 8030, 'wildfires': 8031, 'peers': 8032, 'uzbekistan': 8033, 'rank': 8034, 'multinational': 8035, 'psychiatric': 8036, 'russians': 8037, 'sabah': 8038, 'fifa': 8039, 'obsessed': 8040, 'mechanism': 8041, 'overwhelming': 8042, 'stamp': 8043, 'landslide': 8044, 'aloud': 8045, 'slovakia': 8046, 'eugene': 8047, 'forever': 8048, 'instructor': 8049, 'letting': 8050, 'fiance': 8051, '1300': 8052, 'vitamin': 8053, 'curfew': 8054, 'comfort': 8055, 'clearly': 8056, 'mentor': 8057, 'trafford': 8058, 'lecture': 8059, 'bruised': 8060, 'clinch': 8061, 'criticised': 8062, 'MotoGP': 8063, 'optical': 8064, '50yearold': 8065, 'poultry': 8066, 'turnover': 8067, 'batteries': 8068, 'item': 8069, 'denying': 8070, 'tightening': 8071, 'pharma': 8072, 'desk': 8073, 'relation': 8074, 'auctions': 8075, 'jude': 8076, '1400': 8077, 'pedro': 8078, 'QB': 8079, 'downing': 8080, 'guantanamo': 8081, 'medalist': 8082, 'rebecca': 8083, 'treating': 8084, 'gunfire': 8085, 'endangered': 8086, 'ramirez': 8087, 'hilary': 8088, 'pieces': 8089, 'meth': 8090, 'handing': 8091, 'physicians': 8092, 'spike': 8093, 'rooms': 8094, 'prodemocracy': 8095, 'cheltenham': 8096, 'rid': 8097, 'jaguar': 8098, 'avoiding': 8099, 'demonstrations': 8100, 'slashing': 8101, 'southampton': 8102, 'drowning': 8103, 'ga': 8104, 'hangs': 8105, 'rao': 8106, 'disability': 8107, 'alonso': 8108, 'jared': 8109, 'basket': 8110, 'hazard': 8111, 'sword': 8112, 'georgetown': 8113, 'slumped': 8114, 'carr': 8115, 'underwood': 8116, 'johan': 8117, 'errors': 8118, 'antitrust': 8119, 'lea': 8120, 'paralympic': 8121, 'visual': 8122, 'freeman': 8123, 'abraham': 8124, 'casting': 8125, 'wound': 8126, 'collaborate': 8127, 'establishes': 8128, 'DWI': 8129, 'slips': 8130, 'meltdown': 8131, 'canberra': 8132, 'ossetia': 8133, 'anywhere': 8134, 'letterman': 8135, 'jamaican': 8136, 'relatively': 8137, 'casinos': 8138, 'johns': 8139, 'disgraced': 8140, 'motorist': 8141, 'amir': 8142, 'bulldogs': 8143, 'chess': 8144, 'balochistan': 8145, 'remainder': 8146, 'linda': 8147, 'negligent': 8148, 'laptops': 8149, 'crow': 8150, 'stunned': 8151, 'onetime': 8152, 'kunis': 8153, 'surpassed': 8154, 'settlers': 8155, 'impressed': 8156, 'upward': 8157, 'cave': 8158, 'frequent': 8159, 'akhtar': 8160, 'minorities': 8161, 'mirror': 8162, 'bestselling': 8163, 'smokers': 8164, 'furious': 8165, 'experimental': 8166, 'articles': 8167, 'bottles': 8168, 'arrivals': 8169, 'bismarck': 8170, 'runners': 8171, 'provision': 8172, 'lagos': 8173, 'searched': 8174, 'dissident': 8175, 'churches': 8176, 'concludes': 8177, 'reaffirmed': 8178, 'peters': 8179, 'undergone': 8180, 'mozambique': 8181, '106': 8182, 'isolated': 8183, 'weaken': 8184, 'shrink': 8185, 'forestry': 8186, 'groupon': 8187, 'shahrukh': 8188, 'commons': 8189, 'freestyle': 8190, 'kay': 8191, 'colon': 8192, 'defrauding': 8193, 'accountability': 8194, 'kurdish': 8195, 'isaac': 8196, \"o'malley\": 8197, 'deepening': 8198, 'theaters': 8199, '60th': 8200, 'supervisors': 8201, 'shrank': 8202, 'saga': 8203, 'brighton': 8204, 'roddick': 8205, 'gore': 8206, 'bafana': 8207, 'breakdown': 8208, 'shia': 8209, 'aggregate': 8210, 'brewing': 8211, 'pierre': 8212, 'flowers': 8213, 'pork': 8214, '12yearold': 8215, 'nassau': 8216, 'breakaway': 8217, 'towers': 8218, 'davies': 8219, 'eggs': 8220, 'bolivia': 8221, 'capitals': 8222, 'lautner': 8223, 'WA': 8224, 'lashes': 8225, 'mineral': 8226, 'animated': 8227, 'reinstate': 8228, 'exhibit': 8229, 'wesley': 8230, 'lotus': 8231, 'showers': 8232, 'hurdle': 8233, 'AirTran': 8234, 'flexible': 8235, 'belgrade': 8236, 'spared': 8237, 'fiber': 8238, 'livestock': 8239, 'timor': 8240, 'roommate': 8241, 'ilham': 8242, 'warship': 8243, 'byrd': 8244, 'sophomore': 8245, 'affirmed': 8246, 'issuer': 8247, 'booming': 8248, 'bypass': 8249, 'wachovia': 8250, 'caucus': 8251, 'hotspur': 8252, 'dundee': 8253, 'premiums': 8254, 'JSE': 8255, 'backyard': 8256, 'millennium': 8257, 'sultan': 8258, 'fantastic': 8259, 'shifted': 8260, 'kuala': 8261, 'chambers': 8262, 'committees': 8263, 'drag': 8264, 'heineken': 8265, 'concentrate': 8266, 'accessories': 8267, 'intentionally': 8268, 'ranging': 8269, 'umpire': 8270, 'zurich': 8271, 'brigade': 8272, 'nights': 8273, 'pill': 8274, 'riots': 8275, 'bearish': 8276, '28th': 8277, 'examination': 8278, 'fog': 8279, 'mayo': 8280, 'lined': 8281, 'rouge': 8282, 'sienna': 8283, 'peruvian': 8284, 'dramatically': 8285, 'coldplay': 8286, 'apollo': 8287, 'disrupt': 8288, 'lindsey': 8289, 'discipline': 8290, 'cables': 8291, 'MRI': 8292, 'entertainer': 8293, 'shelves': 8294, 'biotechnology': 8295, 'loud': 8296, 'weighing': 8297, 'gesture': 8298, 'tenants': 8299, 'otherwise': 8300, 'novelist': 8301, 'snowmobile': 8302, 'eminem': 8303, 'moratorium': 8304, 'explorer': 8305, 'hussain': 8306, 'dual': 8307, 'repurchase': 8308, 'lovers': 8309, 'olive': 8310, 'steals': 8311, 'ai': 8312, 'killers': 8313, 'outgoing': 8314, 'bread': 8315, 'jindal': 8316, 'realty': 8317, 'protested': 8318, 'cardiovascular': 8319, 'slapped': 8320, 'offenses': 8321, 'MT': 8322, 'skies': 8323, 'spiderman': 8324, 'hitachi': 8325, 'generations': 8326, 'abduction': 8327, 'color': 8328, 'expense': 8329, 'concessions': 8330, 'MW': 8331, 'efron': 8332, 'burnley': 8333, 'downward': 8334, 'bullying': 8335, 'garrett': 8336, 'immune': 8337, 'pensioners': 8338, 'responds': 8339, 'salon': 8340, 'attached': 8341, 'deepika': 8342, 'hospitality': 8343, 'telangana': 8344, 'root': 8345, 'hudgens': 8346, 'spreads': 8347, 'automated': 8348, 'chandler': 8349, 'blunt': 8350, 'treasure': 8351, 'protestors': 8352, 'MGM': 8353, 'describes': 8354, 'aust': 8355, 'builds': 8356, 'filling': 8357, 'hook': 8358, 'tariffs': 8359, 'habitat': 8360, 'chaudhry': 8361, 'jessie': 8362, 'conflicts': 8363, 'sections': 8364, 'extradited': 8365, 'delegates': 8366, 'outlet': 8367, 'spate': 8368, 'purse': 8369, 'CPI': 8370, 'RIA': 8371, 'pitched': 8372, 'margins': 8373, 'washing': 8374, 'casualties': 8375, 'here': 8376, 'marilyn': 8377, 'incredible': 8378, 'stray': 8379, 'albania': 8380, 'decisive': 8381, 'strauss': 8382, 'goodbye': 8383, 'cory': 8384, 'TSX': 8385, 'pure': 8386, 'ammunition': 8387, 'nano': 8388, '108': 8389, 'debris': 8390, 'nonstop': 8391, 'harlem': 8392, 'witnessed': 8393, 'corridor': 8394, 'achieving': 8395, 'magistrates': 8396, 'relegated': 8397, 'bass': 8398, 'consultations': 8399, 'senegal': 8400, 'eleven': 8401, 'phillip': 8402, 'respiratory': 8403, 'strongest': 8404, 'inner': 8405, 'milton': 8406, 'gateway': 8407, 'rear': 8408, 'splash': 8409, 'reopening': 8410, 'implications': 8411, 'salmonella': 8412, 'shirley': 8413, 'bride': 8414, 'therapeutics': 8415, 'hostages': 8416, 'rupees': 8417, 'conjunction': 8418, 'bow': 8419, 'bigg': 8420, 'dancer': 8421, 'colleague': 8422, 'wholly': 8423, '13yearold': 8424, 'hewlettpackard': 8425, 'bite': 8426, 'spelling': 8427, 'chesapeake': 8428, 'boxes': 8429, 'merit': 8430, 'disclosure': 8431, 'fletcher': 8432, 'column': 8433, 'cameroon': 8434, 'dumping': 8435, 'catastrophic': 8436, 'database': 8437, '9th': 8438, 'duchess': 8439, 'flame': 8440, 'palo': 8441, 'epidemic': 8442, 'rahman': 8443, 'registry': 8444, 'connections': 8445, 'webster': 8446, 'wrongful': 8447, 'McIlroy': 8448, 'knights': 8449, 'interviewed': 8450, 'savannah': 8451, 'cumberland': 8452, '2018': 8453, 'scherzinger': 8454, 'comparison': 8455, 'shepherd': 8456, 'unilever': 8457, 'eden': 8458, 'insight': 8459, 'hague': 8460, 'soar': 8461, 'barrymore': 8462, 'judgment': 8463, 'tv': 8464, 'hancock': 8465, 'sinks': 8466, 'beloved': 8467, 'mouse': 8468, 'lewd': 8469, 'raleigh': 8470, 'alcoa': 8471, 'musicians': 8472, 'intoxication': 8473, 'graphics': 8474, 'tenure': 8475, 'array': 8476, 'please': 8477, 'derailed': 8478, 'monaco': 8479, 'integrate': 8480, 'wis': 8481, 'overwhelmingly': 8482, 'partnerships': 8483, '24th': 8484, 'colbert': 8485, 'biological': 8486, 'basu': 8487, 'sussex': 8488, 'ligament': 8489, 'fulltime': 8490, '1960s': 8491, 'snowfall': 8492, 'sao': 8493, 'piers': 8494, 'lap': 8495, 'internationally': 8496, 'contador': 8497, 'julio': 8498, 'warships': 8499, 'ear': 8500, 'marina': 8501, 'duck': 8502, 'opted': 8503, 'amongst': 8504, 'prisons': 8505, 'pratibha': 8506, 'vendors': 8507, 'karan': 8508, 'bikini': 8509, 'fault': 8510, 'transform': 8511, 'baton': 8512, 'attends': 8513, 'convoy': 8514, 'territories': 8515, 'lifting': 8516, 'chevron': 8517, 'crushing': 8518, 'onevehicle': 8519, 'shelton': 8520, 'commitments': 8521, 'wen': 8522, 'aides': 8523, 'burke': 8524, 'ramesh': 8525, 'sack': 8526, 'grab': 8527, 'seemed': 8528, 'stallone': 8529, 'bosnia': 8530, 'eager': 8531, 'bahraini': 8532, 'flick': 8533, 'evolution': 8534, 'freezing': 8535, 'paint': 8536, 'bluray': 8537, 'disposal': 8538, 'monte': 8539, 'expires': 8540, 'math': 8541, \"o'donnell\": 8542, 'boot': 8543, 'alice': 8544, 'asda': 8545, 'burger': 8546, 'provisions': 8547, 'underlying': 8548, 'continent': 8549, 'patrols': 8550, 'snyder': 8551, 'rawalpindi': 8552, 'kuwaiti': 8553, 'saskatoon': 8554, 'highlands': 8555, 'geological': 8556, 'breached': 8557, 'olivia': 8558, 'recognised': 8559, 'piper': 8560, 'stuff': 8561, 'cooling': 8562, 'builders': 8563, 'exboyfriend': 8564, 'roland': 8565, 'inform': 8566, 'audi': 8567, 'physically': 8568, 'galway': 8569, 'gavin': 8570, 'jackets': 8571, 'dust': 8572, 'interviews': 8573, 'pan': 8574, 'embezzling': 8575, 'measuring': 8576, 'guinness': 8577, 'securing': 8578, 'wikileaks': 8579, 'duff': 8580, 'bahamas': 8581, 'mickelson': 8582, 'labourers': 8583, 'expired': 8584, 'gurgaon': 8585, 'discounts': 8586, 'joke': 8587, 'shortterm': 8588, 'fisheries': 8589, 'righthanded': 8590, 'impending': 8591, 'berkshire': 8592, 'hepatitis': 8593, 'patterson': 8594, 'hacker': 8595, 'fourday': 8596, 'examiner': 8597, '730': 8598, 'DeGeneres': 8599, 'competitors': 8600, 'CNBC': 8601, 'jaime': 8602, 'pleas': 8603, 'lesson': 8604, 'ubisoft': 8605, 'homer': 8606, 'expression': 8607, 'ariz': 8608, 'owes': 8609, 'fidel': 8610, 'nate': 8611, 'donating': 8612, 'ArcelorMittal': 8613, 'intensified': 8614, 'airspace': 8615, 'ordinance': 8616, 'norton': 8617, 'perdue': 8618, 'situations': 8619, '630': 8620, 'consultants': 8621, 'substitute': 8622, 'accelerate': 8623, 'contracted': 8624, 'highland': 8625, 'artificial': 8626, 'gradually': 8627, 'halfway': 8628, 'choices': 8629, 'eastman': 8630, 'drills': 8631, '111': 8632, 'fence': 8633, 'bicyclist': 8634, 'yusuf': 8635, 'narcotics': 8636, 'beau': 8637, 'abdominal': 8638, 'forgery': 8639, 'imagine': 8640, 'indicate': 8641, 'foray': 8642, 'conspiring': 8643, 'successive': 8644, 'collapsing': 8645, 'primetime': 8646, 'prof': 8647, 'condolences': 8648, 'barely': 8649, 'supposed': 8650, 'observe': 8651, 'chasing': 8652, 'hungry': 8653, 'demolished': 8654, 'deserves': 8655, 'literature': 8656, 'widow': 8657, 'kg': 8658, 'postpone': 8659, 'thermal': 8660, 'UKbased': 8661, 'bribes': 8662, 'ahmedabad': 8663, 'vegetable': 8664, 'pumps': 8665, '4S': 8666, 'schmidt': 8667, 'kazakh': 8668, 'collide': 8669, 'fraudulent': 8670, 'banker': 8671, 'gotten': 8672, 'ambush': 8673, 'caterpillar': 8674, 'shropshire': 8675, 'amar': 8676, 'conversation': 8677, 'contributed': 8678, 'flies': 8679, 'pacers': 8680, 'africans': 8681, 'knocks': 8682, 'blockade': 8683, 'samoa': 8684, 'gutted': 8685, 'bedroom': 8686, 'farming': 8687, 'breaching': 8688, 'halts': 8689, 'ny': 8690, 'spokane': 8691, '08': 8692, 'mickey': 8693, 'promotional': 8694, 'happening': 8695, 'alec': 8696, 'properly': 8697, 'longawaited': 8698, 'JC': 8699, 'outcome': 8700, 'dominant': 8701, 'spark': 8702, 'emily': 8703, 'burglars': 8704, 'fingers': 8705, 'martha': 8706, 'colonial': 8707, 'hogan': 8708, 'stupid': 8709, 'touchdown': 8710, 'lumpur': 8711, 'arbor': 8712, 'autobiography': 8713, 'pursuing': 8714, 'batman': 8715, '22nd': 8716, 'liquid': 8717, 'lucrative': 8718, 'cry': 8719, 'everywhere': 8720, 'AJ': 8721, 'shrine': 8722, 'WBA': 8723, 'spacecraft': 8724, 'emails': 8725, 'convinced': 8726, 'FX': 8727, 'gill': 8728, 'lend': 8729, 'FedEx': 8730, 'forests': 8731, 'aluminum': 8732, 'AirAsia': 8733, 'hurley': 8734, 'festive': 8735, '31st': 8736, 'comcast': 8737, 'directions': 8738, 'flintoff': 8739, 'intelligent': 8740, 'deeper': 8741, 'lilly': 8742, 'mercantile': 8743, 'liberation': 8744, 'benson': 8745, 'guild': 8746, 'caretaker': 8747, '1700': 8748, '200910': 8749, 'luncheon': 8750, 'deemed': 8751, 'indication': 8752, 'bizarre': 8753, 'erin': 8754, 'youngster': 8755, 'payable': 8756, 'ajay': 8757, 'saab': 8758, 'types': 8759, 'detect': 8760, 'va': 8761, 'loyal': 8762, 'guatemala': 8763, 'brace': 8764, 'havana': 8765, 'reversing': 8766, 'clint': 8767, 'triggering': 8768, 'injunction': 8769, 'USS': 8770, 'frederick': 8771, '39yearold': 8772, 'workshops': 8773, 'bayer': 8774, 'PA': 8775, 'hints': 8776, 'talented': 8777, 'audiences': 8778, 'chhattisgarh': 8779, 'conditioning': 8780, 'kissing': 8781, 'footprint': 8782, 'gerald': 8783, 'viewing': 8784, 'owed': 8785, 'basin': 8786, 'belarusian': 8787, 'shiite': 8788, 'anchorage': 8789, '145': 8790, 'hazardous': 8791, 'alpha': 8792, 'weeklong': 8793, 'approvals': 8794, 'divided': 8795, 'climbs': 8796, 'SBI': 8797, 'ulster': 8798, 'debuts': 8799, 'unsecured': 8800, 'bachelor': 8801, 'auditorium': 8802, 'reader': 8803, 'focuses': 8804, 'subsidy': 8805, 'conway': 8806, 'motorway': 8807, 'tables': 8808, 'straw': 8809, 'grammer': 8810, 'MLB': 8811, 'massa': 8812, 'seafood': 8813, 'elimination': 8814, 'lorenzo': 8815, 'diversified': 8816, 'blown': 8817, 'grip': 8818, 'bloom': 8819, 'theory': 8820, 'borrow': 8821, 'acted': 8822, 'upsets': 8823, 'sears': 8824, 'freezes': 8825, 'divorced': 8826, 'protocol': 8827, 'metric': 8828, 'radar': 8829, 'MTN': 8830, 'socialist': 8831, 'apprentice': 8832, 'upholds': 8833, 'khyber': 8834, 'G20': 8835, '45yearold': 8836, 'knocking': 8837, 'calvin': 8838, 'xavier': 8839, '107': 8840, 'guarantees': 8841, 'multimedia': 8842, 'alexandria': 8843, 'akron': 8844, '600000': 8845, 'leone': 8846, 'promoter': 8847, 'financially': 8848, 'aer': 8849, 'cartel': 8850, 'ole': 8851, 'iPads': 8852, 'psychological': 8853, 'understands': 8854, 'EST': 8855, 'cheese': 8856, 'testified': 8857, 'midlands': 8858, 'ho': 8859, 'expenditure': 8860, 'snake': 8861, 'penelope': 8862, 'liz': 8863, 'beverage': 8864, 'melissa': 8865, 'yearonyear': 8866, 'skilled': 8867, 'mounted': 8868, 'leisure': 8869, 'santana': 8870, 'booker': 8871, 'RSS': 8872, 'contrary': 8873, 'voices': 8874, 'frame': 8875, 'filmed': 8876, 'exploring': 8877, 'lancashire': 8878, 'keegan': 8879, 'benghazi': 8880, 'curry': 8881, 'hai': 8882, 'alba': 8883, 'none': 8884, 'sands': 8885, 'worry': 8886, 'shrinks': 8887, 'buenos': 8888, 'aires': 8889, 'costcutting': 8890, '27th': 8891, 'cutler': 8892, 'dustin': 8893, 'persian': 8894, 'rejoin': 8895, 'keeper': 8896, 'java': 8897, 'fallon': 8898, 'grades': 8899, 'avery': 8900, 'ballet': 8901, 'auctioned': 8902, 'breathing': 8903, 'reshuffle': 8904, 'closet': 8905, 'memoir': 8906, 'ronald': 8907, '550': 8908, 'dismiss': 8909, 'finalist': 8910, 'zynga': 8911, 'teaming': 8912, 'GPS': 8913, 'barker': 8914, 'sundance': 8915, 'cautioned': 8916, 'heathrow': 8917, 'cialis': 8918, 'punish': 8919, 'icahn': 8920, 'misleading': 8921, 'yankee': 8922, 'steering': 8923, 'sort': 8924, 'bidding': 8925, 'shake': 8926, 'capped': 8927, 'longrunning': 8928, 'technological': 8929, 'comply': 8930, 'hardy': 8931, 'goalless': 8932, 'partly': 8933, 'ACC': 8934, 'firsthalf': 8935, 'destroying': 8936, 'favourites': 8937, 'adobe': 8938, 'libraries': 8939, 'leaking': 8940, 'oversight': 8941, 'helm': 8942, 'mideast': 8943, 'hindus': 8944, 'conceded': 8945, 'bullets': 8946, 'braced': 8947, 'blocking': 8948, 'lefthander': 8949, 'sotomayor': 8950, 'webcast': 8951, 'tariff': 8952, 'slalom': 8953, 'concord': 8954, 'knifepoint': 8955, 'captures': 8956, 'detain': 8957, 'surf': 8958, '650': 8959, 'harder': 8960, 'pawar': 8961, 'porsche': 8962, 'handgun': 8963, 'pike': 8964, 'sinking': 8965, 'passion': 8966, 'penney': 8967, 'manufactured': 8968, 'obtain': 8969, 'unlawful': 8970, 'upto': 8971, 'dining': 8972, 'shetty': 8973, 'controlling': 8974, '11yearold': 8975, 'surrounded': 8976, 'woody': 8977, 'BT': 8978, 'shoplifting': 8979, 'enrollment': 8980, 'entirely': 8981, 'lifeline': 8982, 'sonny': 8983, '1800': 8984, 'seacrest': 8985, 'corning': 8986, 'associations': 8987, 'smallest': 8988, 'sixmonth': 8989, 'CITY': 8990, 'marred': 8991, 'verge': 8992, 'UC': 8993, 'cows': 8994, 'darfur': 8995, 'newsday': 8996, 'confidential': 8997, 'except': 8998, 'migration': 8999, 'stormed': 9000, 'shoaib': 9001, 'irvine': 9002, 'surprisingly': 9003, 'quietly': 9004, 'rodney': 9005, 'SWAT': 9006, 'roses': 9007, 'saleh': 9008, 'roanoke': 9009, 'hayes': 9010, 'follows': 9011, 'bean': 9012, 'gibb': 9013, 'meal': 9014, 'dealerships': 9015, 'sheep': 9016, 'locals': 9017, 'obstruction': 9018, 'lloyds': 9019, 'predicting': 9020, 'enables': 9021, 'lockheed': 9022, 'stephanie': 9023, 'thrilled': 9024, '06': 9025, 'lunar': 9026, 'deliveries': 9027, 'cousins': 9028, 'copies': 9029, 'contaminated': 9030, 'mirren': 9031, 'starred': 9032, 'reactors': 9033, 'scrutiny': 9034, 'trainers': 9035, 'cow': 9036, 'viktor': 9037, 'peas': 9038, 'carries': 9039, 'headlines': 9040, 'waiver': 9041, '70000': 9042, \"o'connor\": 9043, 'graffiti': 9044, 'fabrice': 9045, 'totally': 9046, 'vogue': 9047, 'northampton': 9048, 'disappearance': 9049, 'snowden': 9050, 'cafe': 9051, 'soybean': 9052, 'mitch': 9053, 'credible': 9054, 'carlyle': 9055, 'copa': 9056, 'booth': 9057, 'aviva': 9058, 'sellers': 9059, 'atlantis': 9060, 'reagan': 9061, 'tide': 9062, 'jenny': 9063, 'hearings': 9064, 'adequate': 9065, 'elena': 9066, 'forbes': 9067, 'napoli': 9068, 'alto': 9069, 'eliminating': 9070, 'controllers': 9071, 'lithuania': 9072, 'fontana': 9073, 'intimate': 9074, 'transformation': 9075, 'careers': 9076, 'fibre': 9077, 'rings': 9078, 'lodge': 9079, 'rex': 9080, 'condemn': 9081, 'EMC': 9082, 'truce': 9083, 'balcony': 9084, 'shelf': 9085, 'explosions': 9086, 'delaying': 9087, 'christine': 9088, 'paramount': 9089, 'lieberman': 9090, 'precision': 9091, 'principles': 9092, 'evil': 9093, 'clijsters': 9094, 'indy': 9095, 'aleague': 9096, 'ACT': 9097, 'phelps': 9098, 'greenville': 9099, 'sights': 9100, 'mid': 9101, 'corrections': 9102, 'karunanidhi': 9103, 'larceny': 9104, 'enemies': 9105, 'honduras': 9106, 'weigh': 9107, 'junk': 9108, 'opt': 9109, 'schalke': 9110, 'brutally': 9111, 'noting': 9112, 'daly': 9113, 'carpenter': 9114, 'sutherland': 9115, 'overturns': 9116, 'EP': 9117, 'naples': 9118, 'affirms': 9119, 'divers': 9120, 'jokes': 9121, 'ambassadors': 9122, 'â': 9123, 'dangers': 9124, 'pile': 9125, 'restoring': 9126, 'priorities': 9127, 'facts': 9128, 'poison': 9129, 'madden': 9130, 'powder': 9131, 'vocal': 9132, 'decreased': 9133, 'moammar': 9134, 'outskirts': 9135, 'consolidated': 9136, 'relevant': 9137, 'huawei': 9138, 'comprising': 9139, 'rumored': 9140, '230': 9141, 'finalized': 9142, 'kochi': 9143, 'movements': 9144, 'chronicle': 9145, 'slugger': 9146, 'caucasus': 9147, 'examine': 9148, 'spotify': 9149, 'candy': 9150, 'conclusion': 9151, '9000': 9152, 'hottest': 9153, 'aka': 9154, 'automakers': 9155, 'ethical': 9156, 'competitiveness': 9157, 'thoughts': 9158, 'granting': 9159, 'bal': 9160, 'aquarium': 9161, 'banquet': 9162, 'firearm': 9163, 'module': 9164, 'OK': 9165, 'canadiens': 9166, 'restive': 9167, 'ST': 9168, 'checking': 9169, 'valuation': 9170, 'speedy': 9171, 'bynes': 9172, 'airstrike': 9173, 'hon': 9174, 'grizzlies': 9175, 'LK': 9176, 'surfer': 9177, 'kandahar': 9178, 'revamped': 9179, 'prolific': 9180, 'leinster': 9181, 'motivated': 9182, 'licences': 9183, 'xperia': 9184, 'comics': 9185, 'hawke': 9186, 'canton': 9187, 'revoked': 9188, 'bipartisan': 9189, 'monoxide': 9190, 'shakes': 9191, 'importing': 9192, 'hung': 9193, 'rides': 9194, 'mosquito': 9195, 'inch': 9196, 'composition': 9197, 'finalised': 9198, 'chan': 9199, 'bribe': 9200, 'rubbish': 9201, 'appliances': 9202, 'ATP': 9203, 'dannii': 9204, 'osborne': 9205, 'stakeholders': 9206, 'darling': 9207, 'employed': 9208, 'honolulu': 9209, 'staples': 9210, 'alcoholic': 9211, 'flexibility': 9212, 'modestly': 9213, 'switching': 9214, 'bald': 9215, 'methodist': 9216, 'hiked': 9217, 'anaheim': 9218, 'holly': 9219, 'coordination': 9220, 'crowe': 9221, 'categories': 9222, 'leona': 9223, 'sacred': 9224, 'connectivity': 9225, 'soup': 9226, 'supermarkets': 9227, 'calhoun': 9228, 'thrashers': 9229, 'dev': 9230, 'garner': 9231, 'waterloo': 9232, 'machinery': 9233, 'secretarygeneral': 9234, 'commenced': 9235, 'mood': 9236, 'julius': 9237, 'taxation': 9238, 'wellness': 9239, 'prostitute': 9240, 'ipswich': 9241, 'slot': 9242, 'stun': 9243, 'historian': 9244, 'afridi': 9245, 'versions': 9246, 'underwear': 9247, 'raceway': 9248, 'pianist': 9249, 'buck': 9250, 'brit': 9251, '90th': 9252, 'didier': 9253, 'diverted': 9254, 'prasad': 9255, 'ANZ': 9256, 'solomon': 9257, 'extremism': 9258, 'stimulate': 9259, 'paulson': 9260, 'marvin': 9261, 'marseille': 9262, 'defenceman': 9263, 'usage': 9264, 'complaining': 9265, 'rampage': 9266, 'pepsi': 9267, 'devon': 9268, 'IV': 9269, 'refuse': 9270, 'carrey': 9271, 'ashore': 9272, 'doncaster': 9273, 'counseling': 9274, 'tier': 9275, 'livingston': 9276, 'twenty': 9277, 'blizzard': 9278, 'richter': 9279, 'sealed': 9280, 'norms': 9281, '10year': 9282, 'backdrop': 9283, 'scenario': 9284, 'capsule': 9285, 'dynamo': 9286, 'elvis': 9287, 'amended': 9288, 'intoxicated': 9289, 'processors': 9290, 'extortion': 9291, 'syrians': 9292, 'visitor': 9293, 'landscape': 9294, 'cult': 9295, 'lords': 9296, 'switched': 9297, 'hospice': 9298, 'meyer': 9299, 'owing': 9300, 'warne': 9301, 'jaipur': 9302, 'extinction': 9303, 'episodes': 9304, 'tumour': 9305, 'copenhagen': 9306, 'detailed': 9307, 'troubles': 9308, '40yearold': 9309, 'marriages': 9310, 'goodman': 9311, 'grains': 9312, 'leach': 9313, 'participated': 9314, 'hobbit': 9315, 'ramadan': 9316, 'boone': 9317, 'funded': 9318, 'gupta': 9319, 'unlimited': 9320, 'hoax': 9321, 'hitler': 9322, 'vigil': 9323, 'firstever': 9324, 'courteney': 9325, 'jubilee': 9326, 'migrant': 9327, 'regulate': 9328, 'exceeded': 9329, 'memorandum': 9330, 'engulfing': 9331, 'ideal': 9332, 'peyton': 9333, 'robot': 9334, 'crocodile': 9335, 'twelve': 9336, 'wondering': 9337, 'bajaj': 9338, 'fundamental': 9339, 'terrible': 9340, 'separated': 9341, 'ballistic': 9342, 'autonomous': 9343, 'reply': 9344, 'NV': 9345, 'kylie': 9346, 'advocacy': 9347, '1999': 9348, 'provisional': 9349, 'dismal': 9350, 'assurance': 9351, 'McQueen': 9352, 'jacques': 9353, 'stafford': 9354, 'produces': 9355, '60000': 9356, 'kiev': 9357, 'surprising': 9358, 'fastgrowing': 9359, 'peacekeepers': 9360, 'cheat': 9361, '09': 9362, 'synthetic': 9363, 'pad': 9364, 'gamble': 9365, 'rodham': 9366, 'submarine': 9367, 'deepen': 9368, 'bassist': 9369, 'sgt': 9370, 'selloff': 9371, 'elsewhere': 9372, 'congestion': 9373, 'sticks': 9374, 'collides': 9375, 'nordstrom': 9376, 'kickoff': 9377, 'kaif': 9378, 'rumor': 9379, 'vow': 9380, 'amarnath': 9381, 'fixture': 9382, 'slipping': 9383, 'pocket': 9384, 'neither': 9385, 'float': 9386, 'campaigners': 9387, 'danielle': 9388, 'topeka': 9389, 'regret': 9390, 'spying': 9391, 'ensuring': 9392, 'courtesy': 9393, 'component': 9394, 'architect': 9395, 'surgical': 9396, 'installs': 9397, 'threetime': 9398, 'searches': 9399, 'lowering': 9400, 'timing': 9401, 'knightley': 9402, 'pearce': 9403, 'chivas': 9404, 'sergei': 9405, 'exist': 9406, 'jurors': 9407, 'philips': 9408, 'headquartered': 9409, 'leigh': 9410, 'flynn': 9411, 'mourning': 9412, 'weisz': 9413, 'bronx': 9414, 'lucie': 9415, 'crusaders': 9416, 'colour': 9417, 'settlements': 9418, 'dish': 9419, 'specialists': 9420, 'pretoria': 9421, 'carney': 9422, 'whip': 9423, 'memories': 9424, 'gangster': 9425, 'liberals': 9426, 'consistent': 9427, 'bursa': 9428, 'mellon': 9429, 'reviewed': 9430, 'premieres': 9431, 'chooses': 9432, 'herbert': 9433, 'VMware': 9434, 'swimmers': 9435, 'lauderdale': 9436, 'quota': 9437, 'deserved': 9438, 'q': 9439, 'anticipation': 9440, 'dynamic': 9441, 'inflationary': 9442, 'disqualified': 9443, 'choppy': 9444, 'BART': 9445, 'ventura': 9446, 'emerges': 9447, 'spots': 9448, 'MS': 9449, 'credited': 9450, 'averages': 9451, 'wrestler': 9452, 'nightmare': 9453, 'sectarian': 9454, 'presley': 9455, 'chairperson': 9456, 'abuses': 9457, 'sprinter': 9458, 'bon': 9459, 'kara': 9460, 'manufacture': 9461, 'debit': 9462, 'najib': 9463, 'assemblyman': 9464, 'realtime': 9465, 'contributing': 9466, 'treasuries': 9467, 'enrichment': 9468, 'surviving': 9469, 'lingus': 9470, 'headley': 9471, 'pageant': 9472, 'harrington': 9473, 'counting': 9474, 'gareth': 9475, '1997': 9476, 'respective': 9477, 'highlevel': 9478, 'observer': 9479, 'TI': 9480, 'improper': 9481, 'worcester': 9482, 'styles': 9483, 'twoweek': 9484, 'mahama': 9485, 'pilgrim': 9486, 'boyd': 9487, '2G': 9488, 'closest': 9489, 'groundbreaking': 9490, 'inevitable': 9491, 'donovan': 9492, 'spinal': 9493, 'seller': 9494, 'candlestick': 9495, 'THREE': 9496, 'widening': 9497, 'greens': 9498, 'classified': 9499, 'dalglish': 9500, 'ordering': 9501, 'limiting': 9502, 'anfield': 9503, 'indicators': 9504, 'habits': 9505, 'BCCI': 9506, 'bullion': 9507, 'emission': 9508, 'keane': 9509, 'lin': 9510, 'meter': 9511, 'lisbon': 9512, 'highlighted': 9513, 'outreach': 9514, 'runaway': 9515, 'pressed': 9516, 'QPR': 9517, 'daryl': 9518, 'delicious': 9519, 'vonn': 9520, 'preorders': 9521, 'sliding': 9522, 'twovehicle': 9523, 'commence': 9524, 'regularly': 9525, 'arroyo': 9526, 'driveway': 9527, 'jiabao': 9528, 'console': 9529, 'affleck': 9530, 'custom': 9531, 'berth': 9532, 'usher': 9533, 'forks': 9534, 'surfaced': 9535, '112': 9536, 'homage': 9537, '155': 9538, 'buccaneers': 9539, 'sylvester': 9540, 'paraguay': 9541, 'kristin': 9542, 'barrett': 9543, 'capability': 9544, 'shifting': 9545, 'sainsbury': 9546, 'methamphetamine': 9547, 'recommend': 9548, 'politically': 9549, 'cindy': 9550, 'leno': 9551, 'lied': 9552, 'nordic': 9553, 'renaissance': 9554, 'slept': 9555, 'maori': 9556, 'institutes': 9557, 'endorsing': 9558, 'bacteria': 9559, 'disc': 9560, 'petraeus': 9561, 'gardner': 9562, 'felonies': 9563, 'fullyear': 9564, 'concession': 9565, 'moose': 9566, 'relocate': 9567, 'maestro': 9568, 'cohost': 9569, 'NDA': 9570, 'dividends': 9571, 'unanimous': 9572, 'seals': 9573, 'penske': 9574, 'jeter': 9575, 'wears': 9576, 'rosa': 9577, 'tackling': 9578, 'dwight': 9579, 'stab': 9580, 'patriot': 9581, 'betterthanexpected': 9582, 'cherokee': 9583, 'mueller': 9584, 'suarez': 9585, 'negligence': 9586, 'undefeated': 9587, 'desmond': 9588, 'tactics': 9589, 'fragrance': 9590, 'eyeing': 9591, 'sewage': 9592, 'rabies': 9593, 'bites': 9594, '170': 9595, 'pedestrians': 9596, 'byrne': 9597, 'touches': 9598, 'narrows': 9599, 'vita': 9600, 'gases': 9601, 'welcoming': 9602, 'iftikhar': 9603, 'shifts': 9604, 'looming': 9605, 'mongolia': 9606, 'bishops': 9607, 'react': 9608, 'hop': 9609, 'aluminium': 9610, 'polk': 9611, 'duet': 9612, 'PARIS': 9613, 'craigslist': 9614, 'spector': 9615, '200809': 9616, 'feelings': 9617, 'twist': 9618, 'albans': 9619, 'televised': 9620, 'shakespeare': 9621, 'harold': 9622, 'kareena': 9623, 'patna': 9624, 'tune': 9625, 'pandemic': 9626, 'bosnian': 9627, 'bash': 9628, 'steele': 9629, '70th': 9630, 'cautiously': 9631, 'uttarakhand': 9632, 'nod': 9633, 'fiveday': 9634, 'exchanged': 9635, 'purple': 9636, 'sedan': 9637, 'sunset': 9638, 'icy': 9639, 'sexiest': 9640, 'jenson': 9641, 'billing': 9642, 'tense': 9643, 'aliens': 9644, 'corey': 9645, 'lille': 9646, 'GP': 9647, 'moldova': 9648, 'sustain': 9649, 'commentator': 9650, 'separation': 9651, 'certificates': 9652, 'lamar': 9653, 'influenza': 9654, 'honeymoon': 9655, 'antidoping': 9656, 'bravo': 9657, 'connecting': 9658, 'composite': 9659, 'unnamed': 9660, 'premature': 9661, 'camden': 9662, 'shelters': 9663, 'kia': 9664, 'wolfsburg': 9665, 'aretha': 9666, 'latter': 9667, 'missions': 9668, 'tina': 9669, 'varsity': 9670, 'legally': 9671, 'loyalty': 9672, 'reversed': 9673, 'viral': 9674, 'nephew': 9675, 'polo': 9676, 'rai': 9677, 'belief': 9678, 'kashmiri': 9679, 'wealthy': 9680, '18000': 9681, 'anticorruption': 9682, 'applying': 9683, 'atop': 9684, 'karen': 9685, 'tesla': 9686, 'ark': 9687, 'arrow': 9688, 'exposing': 9689, 'handful': 9690, 'nitin': 9691, 'footage': 9692, 'quincy': 9693, 'petty': 9694, 'maid': 9695, 'edwin': 9696, 'prom': 9697, 'ratio': 9698, 'interface': 9699, 'outing': 9700, 'keynote': 9701, 'rip': 9702, 'refuge': 9703, 'architecture': 9704, 'drones': 9705, 'aggression': 9706, 'dion': 9707, 'staging': 9708, 'costing': 9709, '14000': 9710, 'emmanuel': 9711, 'rotary': 9712, 'fremont': 9713, 'fixing': 9714, 'eni': 9715, 'missoula': 9716, 'gosling': 9717, 'flows': 9718, 'sufficient': 9719, 'profitable': 9720, 'surging': 9721, 'jerome': 9722, 'dressing': 9723, 'fielding': 9724, 'chemistry': 9725, 'meningitis': 9726, 'armenians': 9727, 'porter': 9728, 'africanamerican': 9729, 'fairbanks': 9730, 'background': 9731, 'ruler': 9732, 'displays': 9733, 'zoning': 9734, 'espionage': 9735, 'frontline': 9736, 'investigator': 9737, 'samples': 9738, 'chi': 9739, 'concedes': 9740, 'assaults': 9741, 'graeme': 9742, 'lara': 9743, 'kyiv': 9744, 'anton': 9745, 'snack': 9746, 'redmond': 9747, 'imperial': 9748, 'dissent': 9749, 'containers': 9750, 'beck': 9751, 'surrenders': 9752, 'mulls': 9753, 'IRIS': 9754, 'vetoes': 9755, 'surpasses': 9756, 'robs': 9757, 'knockout': 9758, '33yearold': 9759, 'dresses': 9760, 'kane': 9761, 'imposing': 9762, 'fatigue': 9763, 'therefore': 9764, 'hoffman': 9765, 'beam': 9766, 'wallet': 9767, 'affects': 9768, 'racket': 9769, 'rancho': 9770, 'directorial': 9771, 'apache': 9772, 'antigay': 9773, 'physician': 9774, 'virtualization': 9775, 'jain': 9776, 'paving': 9777, 'andrea': 9778, 'peer': 9779, 'boca': 9780, 'euronext': 9781, 'WBO': 9782, 'sheryl': 9783, 'literally': 9784, 'swayze': 9785, 'timberwolves': 9786, 'OSCE': 9787, 'miracle': 9788, 'patriotic': 9789, 'jong': 9790, 'francois': 9791, 'overshadowed': 9792, 'savage': 9793, 'aerial': 9794, 'grandson': 9795, 'everyday': 9796, 'cornwall': 9797, 'opposing': 9798, 'supervision': 9799, 'designers': 9800, 'CIS': 9801, 'asheville': 9802, 'implementing': 9803, 'seas': 9804, 'dixon': 9805, 'swimmer': 9806, 'tyre': 9807, 'waited': 9808, 'cypriot': 9809, 'precautionary': 9810, 'servers': 9811, 'IM': 9812, 'mistress': 9813, 'gloria': 9814, 'threeyearold': 9815, 'madhya': 9816, 'forged': 9817, 'salvador': 9818, 'confederation': 9819, 'harding': 9820, 'tired': 9821, 'shipyard': 9822, 'SAS': 9823, 'liga': 9824, '100m': 9825, 'procurement': 9826, 'grim': 9827, 'jacobs': 9828, 'vetoed': 9829, 'demonstrated': 9830, 'affiliated': 9831, 'unacceptable': 9832, 'perspective': 9833, 'wonderful': 9834, 'gangs': 9835, 'inspections': 9836, 'gadkari': 9837, 'jam': 9838, 'snooki': 9839, 'bethlehem': 9840, 'shaking': 9841, 'ugandan': 9842, 'ravi': 9843, 'evicted': 9844, 'fellowship': 9845, 'kendra': 9846, 'mask': 9847, 'honoring': 9848, 'USled': 9849, 'grounded': 9850, 'mayawati': 9851, 'holes': 9852, 'separatist': 9853, 'CFO': 9854, 'MD': 9855, 'quentin': 9856, 'fayetteville': 9857, 'spinner': 9858, 'gabor': 9859, '47yearold': 9860, 'keira': 9861, 'commemorate': 9862, 'harare': 9863, 'longstanding': 9864, 'slaying': 9865, 'peshawar': 9866, 'paternity': 9867, 'leighton': 9868, 'UConn': 9869, 'cruces': 9870, 'onboard': 9871, 'mistakenly': 9872, 'stockholders': 9873, 'cartoon': 9874, 'graphic': 9875, 'liberia': 9876, 'jo': 9877, 'shields': 9878, 'kelsey': 9879, 'militia': 9880, 'sonic': 9881, 'haitian': 9882, 'mammoth': 9883, 'competent': 9884, 'polanski': 9885, 'monkeys': 9886, 'reluctant': 9887, 'unwanted': 9888, 'knock': 9889, 'casual': 9890, 'pearson': 9891, 'outer': 9892, 'resumption': 9893, '117': 9894, 'rita': 9895, 'negotiators': 9896, 'leaf': 9897, 'refinancing': 9898, 'whales': 9899, 'PR': 9900, 'congresswoman': 9901, 'achieves': 9902, 'nominates': 9903, 'commissions': 9904, '42yearold': 9905, 'summoned': 9906, 'kathy': 9907, 'pistol': 9908, 'deficits': 9909, 'igor': 9910, 'referred': 9911, 'log': 9912, 'romeo': 9913, 'prevented': 9914, 'ajax': 9915, 'amendments': 9916, 'raft': 9917, 'drum': 9918, 'topic': 9919, 'trinamool': 9920, 'BS': 9921, 'rivalry': 9922, 'whilst': 9923, 'airplane': 9924, 'waziristan': 9925, 'colonel': 9926, 'aboriginal': 9927, 'aired': 9928, 'diwali': 9929, 'vanderbilt': 9930, 'anymore': 9931, 'safeguard': 9932, 'globes': 9933, 'trips': 9934, 'honest': 9935, 'reads': 9936, 'accompanied': 9937, 'locally': 9938, 'dirt': 9939, 'granite': 9940, 'recruits': 9941, 'pavilion': 9942, 'ignored': 9943, '41yearold': 9944, 'bug': 9945, 'amounts': 9946, '220': 9947, 'maxwell': 9948, '113': 9949, 'represented': 9950, 'stamps': 9951, 'LNG': 9952, 'continuous': 9953, 'hurting': 9954, 'papua': 9955, 'bikes': 9956, 'shipment': 9957, 'loop': 9958, 'stan': 9959, 'dunn': 9960, '10yearold': 9961, 'absolute': 9962, 'wore': 9963, 'guided': 9964, 'submits': 9965, 'santander': 9966, 'apologize': 9967, 'processes': 9968, 'limelight': 9969, 'cancellation': 9970, 'homophobic': 9971, 'LPGA': 9972, 'bryce': 9973, 'impairment': 9974, 'marshal': 9975, 'unmanned': 9976, 'vicious': 9977, 'claude': 9978, 'ruth': 9979, 'answered': 9980, 'nairobi': 9981, 'secretariat': 9982, 'voiced': 9983, 'cairn': 9984, 'shores': 9985, 'downgrade': 9986, 'incredibly': 9987, 'snapping': 9988, 'tori': 9989, 'personally': 9990, 'cambodian': 9991, 'thirdlargest': 9992, 'circus': 9993, 'diversity': 9994, 'broward': 9995, 'vandalized': 9996, 'farmington': 9997, 'rescheduled': 9998, 'RBS': 9999}\n"
     ]
    }
   ],
   "execution_count": 21
  },
  {
   "cell_type": "markdown",
   "metadata": {
    "collapsed": false,
    "pycharm": {
     "name": "#%% md\n"
    }
   },
   "source": [
    "<a name='e4'></a>\n",
    "### Exercise 4: Bag of Words\n",
    "(1p) Here we will create the bag-of-words representation of the sentences. The function will take a single sentence (list of tokens) and return an array of size `vocab_size` with the counts of each word in the vocabulary. The\n",
    "`vocab_size` is calculated as the length of the passed `token_to_id` dictionary. The resulting array should have zeros everywhere but the indices corresponding to the words in the vocabulary where it should have the counts of the words in the sentence. For example, if the sentence is `['fox', 'and', 'deer']` and the vocabulary is `{'fox': 0, 'and': 1, 'deer': 2}`, the resulting array should be `[1, 1, 1]`. If the sentence is `['fox', 'and', 'fox', 'deer']`, the resulting array should be `[2, 1, 1]`."
   ]
  },
  {
   "cell_type": "code",
   "metadata": {
    "collapsed": false,
    "pycharm": {
     "name": "#%%\n"
    },
    "ExecuteTime": {
     "end_time": "2025-04-22T19:05:10.216638Z",
     "start_time": "2025-04-22T19:05:10.212736Z"
    }
   },
   "source": [
    "def bag_of_words(sentence, token_to_id):\n",
    "    \"\"\"\n",
    "    Creates a bag-of-words representation of the sentence\n",
    "    Args:\n",
    "        sentence: a list of tokens\n",
    "        token_to_id: a dictionary mapping each word to an index in the vocabulary\n",
    "\n",
    "    Returns:: a numpy array of size vocab_size with the counts of each word in the vocabulary\n",
    "\n",
    "    \"\"\"\n",
    "    vocab_size = len(token_to_id)\n",
    "    bow = np.zeros(vocab_size, dtype=int)\n",
    "\n",
    "    ### YOUR CODE HERE\n",
    "    # copilot used when writing the code\n",
    "    for token in sentence:\n",
    "        if token in token_to_id:\n",
    "            index = token_to_id[token]\n",
    "            bow[index] += 1\n",
    "    ### YOUR CODE ENDS HERE\n",
    "\n",
    "    return bow"
   ],
   "outputs": [],
   "execution_count": 22
  },
  {
   "cell_type": "markdown",
   "metadata": {
    "collapsed": false,
    "pycharm": {
     "name": "#%% md\n"
    }
   },
   "source": [
    "Let's see how the function works on a single sentence. The output should be a numpy array of size `vocab_size` with the counts of each word in the vocabulary."
   ]
  },
  {
   "cell_type": "code",
   "metadata": {
    "collapsed": false,
    "pycharm": {
     "name": "#%%\n"
    },
    "ExecuteTime": {
     "end_time": "2025-04-22T19:05:10.234079Z",
     "start_time": "2025-04-22T19:05:10.228243Z"
    }
   },
   "source": [
    "print('Tokenized sentence:')\n",
    "print(tokenized_sentences[0])\n",
    "sentence_bow = bag_of_words(tokenized_sentences[0], token_to_id)\n",
    "\n",
    "print('Bag of words:')\n",
    "print(sentence_bow)\n",
    "print('Type of bag of words:')\n",
    "print(type(sentence_bow))\n",
    "print('Shape of bag of words:')\n",
    "print(sentence_bow.shape)\n",
    "print('Non-zero elements in bag of words:')\n",
    "print(np.nonzero(sentence_bow)[0])"
   ],
   "outputs": [
    {
     "name": "stdout",
     "output_type": "stream",
     "text": [
      "Tokenized sentence:\n",
      "['samsung', 'electronics', 'co', 'promoted', 'chairman', \"'s\", 'son', 'vice', 'chairman', 'putting', '44yearold', 'closer', 'top', 'leadership', 'position', 'world', \"'s\", 'largest', 'maker', 'memory', 'chips', 'mobile', 'phones', 'TVs']\n",
      "Bag of words:\n",
      "[2 0 0 ... 0 0 0]\n",
      "Type of bag of words:\n",
      "<class 'numpy.ndarray'>\n",
      "Shape of bag of words:\n",
      "(10000,)\n",
      "Non-zero elements in bag of words:\n",
      "[   0   20  135  222  312  522  600  691  773  936 1501 1663 1718 1863\n",
      " 2045 2150 2329 3643 3669 7062]\n"
     ]
    }
   ],
   "execution_count": 23
  },
  {
   "cell_type": "markdown",
   "metadata": {
    "collapsed": false,
    "pycharm": {
     "name": "#%% md\n"
    }
   },
   "source": [
    "We can also check in detail what words and their counts are in the bag-of-words representation."
   ]
  },
  {
   "cell_type": "code",
   "metadata": {
    "collapsed": false,
    "pycharm": {
     "name": "#%%\n"
    },
    "ExecuteTime": {
     "end_time": "2025-04-22T19:05:10.394035Z",
     "start_time": "2025-04-22T19:05:10.388652Z"
    }
   },
   "source": [
    "sentence_non_zero_bow = np.nonzero(sentence_bow)[0]\n",
    "print('Non-zero elements in bag of words:')\n",
    "print(sentence_non_zero_bow)\n",
    "for i in sentence_non_zero_bow:\n",
    "    print(vocab[i][0], ':', sentence_bow[i])"
   ],
   "outputs": [
    {
     "name": "stdout",
     "output_type": "stream",
     "text": [
      "Non-zero elements in bag of words:\n",
      "[   0   20  135  222  312  522  600  691  773  936 1501 1663 1718 1863\n",
      " 2045 2150 2329 3643 3669 7062]\n",
      "'s : 2\n",
      "world : 1\n",
      "top : 1\n",
      "mobile : 1\n",
      "largest : 1\n",
      "chairman : 2\n",
      "co : 1\n",
      "son : 1\n",
      "maker : 1\n",
      "vice : 1\n",
      "position : 1\n",
      "samsung : 1\n",
      "leadership : 1\n",
      "closer : 1\n",
      "electronics : 1\n",
      "phones : 1\n",
      "putting : 1\n",
      "memory : 1\n",
      "promoted : 1\n",
      "chips : 1\n"
     ]
    }
   ],
   "execution_count": 24
  },
  {
   "cell_type": "markdown",
   "metadata": {
    "collapsed": false,
    "pycharm": {
     "name": "#%% md\n"
    }
   },
   "source": [
    "The following function will apply all the steps we implemented to a single sentence. It returns a bag of words representation that we will use to calculate the similarity between different sentences."
   ]
  },
  {
   "cell_type": "code",
   "metadata": {
    "collapsed": false,
    "pycharm": {
     "name": "#%%\n"
    },
    "ExecuteTime": {
     "end_time": "2025-04-22T19:05:10.695448Z",
     "start_time": "2025-04-22T19:05:10.692227Z"
    }
   },
   "source": [
    "def embed_text(text, clean_fn, tokenize_fn, embed_fn):\n",
    "    cleaned = clean_fn(text)\n",
    "    tokens = tokenize_fn(cleaned)\n",
    "    embedding = embed_fn(tokens)\n",
    "    return embedding"
   ],
   "outputs": [],
   "execution_count": 25
  },
  {
   "cell_type": "markdown",
   "metadata": {
    "collapsed": false,
    "pycharm": {
     "name": "#%% md\n"
    }
   },
   "source": [
    "<a name='e5'></a>\n",
    "### Exercise 5: Cosine Similarity between two vectors\n",
    "\n",
    "(1p) Complete the following function that given any two vectors will compute the cosine similarity. If you don't remember the formula for the cosine similarity, revisit the course material. Notice that the function receives numpy arrays and recall that you can express cosine similarity as a dot product. Use numpy functions to write an efficient implementation."
   ]
  },
  {
   "cell_type": "code",
   "metadata": {
    "collapsed": false,
    "pycharm": {
     "name": "#%%\n"
    },
    "ExecuteTime": {
     "end_time": "2025-04-22T19:05:10.703972Z",
     "start_time": "2025-04-22T19:05:10.700253Z"
    }
   },
   "source": [
    "def cosine_similarity(vector1, vector2):\n",
    "    \"\"\"\n",
    "    Computes the cosine similarity between two vectors\n",
    "    Args:\n",
    "        vector1: numpy array of the first vector\n",
    "        vector2: numpy array of the second vector\n",
    "\n",
    "    Returns: cosine similarity\n",
    "\n",
    "    \"\"\"\n",
    "    ### YOUR CODE HERE\n",
    "    dot_product = np.dot(vector1, vector2)\n",
    "    # square root of the sum of squares of the vector1\n",
    "    divider = np.sqrt(np.dot(vector1, vector1))*np.sqrt(np.dot(vector2, vector2))\n",
    "    if divider == 0:\n",
    "        return 0.0\n",
    "    else:\n",
    "        return dot_product / divider\n",
    "    ### YOUR CODE ENDS HERE"
   ],
   "outputs": [],
   "execution_count": 26
  },
  {
   "cell_type": "code",
   "metadata": {
    "collapsed": false,
    "pycharm": {
     "name": "#%%\n"
    },
    "ExecuteTime": {
     "end_time": "2025-04-22T19:05:10.850113Z",
     "start_time": "2025-04-22T19:05:10.844089Z"
    }
   },
   "source": [
    "cosine_similarity(np.array([0, 1, 2]), np.array([0, 2, 4]))"
   ],
   "outputs": [
    {
     "data": {
      "text/plain": [
       "0.9999999999999998"
      ]
     },
     "execution_count": 27,
     "metadata": {},
     "output_type": "execute_result"
    }
   ],
   "execution_count": 27
  },
  {
   "cell_type": "code",
   "metadata": {
    "collapsed": false,
    "pycharm": {
     "name": "#%%\n"
    },
    "ExecuteTime": {
     "end_time": "2025-04-22T19:05:11.008848Z",
     "start_time": "2025-04-22T19:05:10.999942Z"
    }
   },
   "source": [
    "sentences = [\n",
    "    'The quick brown fox jumps over the lazy dog.',\n",
    "    'Some interesting document containin sentences.',\n",
    "    'The quick brown fox jumps over the lazy cat and some other stuff.',\n",
    "    'Fox and deer are not friends.',\n",
    "    'Fox and deer are not friends. But this document is a lot longer than the previous one. We can add sentence by sentence and see how the embeddings change.',\n",
    "]\n",
    "embedded_sentences = [\n",
    "    embed_text(sentence, clean, tokenize, lambda x: bag_of_words(x, token_to_id))\n",
    "    for sentence in sentences\n",
    "]\n",
    "\n",
    "query = 'fox and deer'\n",
    "embedded_query = embed_text(query, clean, tokenize, lambda x: bag_of_words(x, token_to_id))\n",
    "\n",
    "cosine_similarities = [\n",
    "    cosine_similarity(embedded_query, embedded_sentence)\n",
    "    for embedded_sentence in embedded_sentences\n",
    "]\n",
    "print(f'Query: {query}')\n",
    "for sent, cos_sim in zip(sentences, cosine_similarities):\n",
    "    print(f'Cosine Similarity: {cos_sim:.4f} - Sentence: {sent}')"
   ],
   "outputs": [
    {
     "name": "stdout",
     "output_type": "stream",
     "text": [
      "Query: fox and deer\n",
      "Cosine Similarity: 0.3162 - Sentence: The quick brown fox jumps over the lazy dog.\n",
      "Cosine Similarity: 0.0000 - Sentence: Some interesting document containin sentences.\n",
      "Cosine Similarity: 0.2887 - Sentence: The quick brown fox jumps over the lazy cat and some other stuff.\n",
      "Cosine Similarity: 0.8165 - Sentence: Fox and deer are not friends.\n",
      "Cosine Similarity: 0.3651 - Sentence: Fox and deer are not friends. But this document is a lot longer than the previous one. We can add sentence by sentence and see how the embeddings change.\n"
     ]
    }
   ],
   "execution_count": 28
  },
  {
   "cell_type": "markdown",
   "metadata": {
    "collapsed": false,
    "pycharm": {
     "name": "#%% md\n"
    }
   },
   "source": [
    "We will apply the function to the whole dataset. This might take a while, so be patient. The result will be stored in the `sentence_bow` and `compressed_bow` fields of the dataset."
   ]
  },
  {
   "cell_type": "code",
   "metadata": {
    "collapsed": false,
    "pycharm": {
     "name": "#%%\n"
    },
    "ExecuteTime": {
     "end_time": "2025-04-22T19:05:11.183424Z",
     "start_time": "2025-04-22T19:05:11.179026Z"
    }
   },
   "source": [
    "def bag_of_words_dataset(example):\n",
    "    \"\"\"\n",
    "    Creates a bag-of-words representation of the sentence and compressed sentence in the example from the Dataset\n",
    "    Args:\n",
    "        example: an example from the Dataset\n",
    "\n",
    "    Returns: updated example with 'sentence_bow' and 'compressed_bow' columns\n",
    "\n",
    "    \"\"\"\n",
    "    sentence_tokens = example['sentence_tokens']\n",
    "    compressed_tokens = example['compressed_tokens']\n",
    "\n",
    "    sentence_bow = bag_of_words(sentence_tokens, token_to_id)\n",
    "    compressed_bow = bag_of_words(compressed_tokens, token_to_id)\n",
    "\n",
    "    example['sentence_bow'] = sentence_bow\n",
    "    example['compressed_bow'] = compressed_bow\n",
    "    return example"
   ],
   "outputs": [],
   "execution_count": 29
  },
  {
   "cell_type": "markdown",
   "metadata": {
    "collapsed": false,
    "pycharm": {
     "name": "#%% md\n"
    }
   },
   "source": [
    "The following cell will apply the function to the whole dataset. The result will be stored in the `sentence_bow` and `compressed_bow` fields of the dataset. We will also convert the dataset's fields `sentence_bow` and `compressed_bow` to numpy format for easier manipulation."
   ]
  },
  {
   "cell_type": "code",
   "metadata": {
    "collapsed": false,
    "pycharm": {
     "name": "#%%\n"
    },
    "ExecuteTime": {
     "end_time": "2025-04-22T19:05:50.817083Z",
     "start_time": "2025-04-22T19:05:11.484882Z"
    }
   },
   "source": [
    "test_ds = split_ds['test'].map(bag_of_words_dataset)\n",
    "test_ds = test_ds.with_format('np', columns=['sentence_bow', 'compressed_bow'], dtype=float)\n",
    "print(test_ds)"
   ],
   "outputs": [
    {
     "data": {
      "text/plain": [
       "Map:   0%|          | 0/36000 [00:00<?, ? examples/s]"
      ],
      "application/vnd.jupyter.widget-view+json": {
       "version_major": 2,
       "version_minor": 0,
       "model_id": "83b3e044ff95439caed7a83ec487b6cc"
      }
     },
     "metadata": {},
     "output_type": "display_data"
    },
    {
     "name": "stdout",
     "output_type": "stream",
     "text": [
      "Dataset({\n",
      "    features: ['set', 'clean_sentence', 'clean_compressed', 'sentence_tokens', 'compressed_tokens', 'sentence_bow', 'compressed_bow'],\n",
      "    num_rows: 36000\n",
      "})\n"
     ]
    }
   ],
   "execution_count": 30
  },
  {
   "cell_type": "markdown",
   "metadata": {
    "collapsed": false,
    "pycharm": {
     "name": "#%% md\n"
    }
   },
   "source": [
    "Let's check the results. The `sentence_bow` and `compressed_bow` fields should contain the bag-of-words representation of the sentences and compressed sentences, respectively."
   ]
  },
  {
   "cell_type": "code",
   "metadata": {
    "collapsed": false,
    "pycharm": {
     "name": "#%%\n"
    },
    "ExecuteTime": {
     "end_time": "2025-04-22T19:05:50.838442Z",
     "start_time": "2025-04-22T19:05:50.828309Z"
    }
   },
   "source": [
    "print(test_ds[0])"
   ],
   "outputs": [
    {
     "name": "stdout",
     "output_type": "stream",
     "text": [
      "{'sentence_bow': array([0., 0., 0., ..., 0., 0., 0.]), 'compressed_bow': array([0., 0., 0., ..., 0., 0., 0.])}\n"
     ]
    }
   ],
   "execution_count": 31
  },
  {
   "cell_type": "code",
   "metadata": {
    "collapsed": false,
    "pycharm": {
     "name": "#%%\n"
    },
    "ExecuteTime": {
     "end_time": "2025-04-22T19:06:15.007732Z",
     "start_time": "2025-04-22T19:05:51.018434Z"
    }
   },
   "source": [
    "sentences_bows = test_ds['sentence_bow']\n",
    "print(sentences_bows.shape)"
   ],
   "outputs": [
    {
     "name": "stdout",
     "output_type": "stream",
     "text": [
      "(36000, 10000)\n"
     ]
    }
   ],
   "execution_count": 32
  },
  {
   "cell_type": "markdown",
   "metadata": {
    "collapsed": false,
    "pycharm": {
     "name": "#%% md\n"
    }
   },
   "source": [
    "Now we can start building a retriever based on the bag of words representation. The first step is to calculate the cosine similarity between two vectors."
   ]
  },
  {
   "cell_type": "markdown",
   "metadata": {
    "collapsed": false,
    "pycharm": {
     "name": "#%% md\n"
    }
   },
   "source": [
    "<a name='e6'></a>\n",
    "### Exercise 6: Cosine Similarity between a vector and an array of vectors\n",
    "\n",
    "(2p) The next step in our retrieval system, would be to calculate the proximity of a query to our retrieval corpus (in our case that is all the sentences).\n",
    "\n",
    "Complete the following function to calculate the cosine similarity between a vector (first parameter `vector`, that will usually be the query vector) and all other vectors (second parameter `other_vectors`, that will be the sentence embeddings in our case). Note that the `other_vectors` parameter is a single numpy array of size `N x D`, where $N$ is the number of vectors and $D$ is the dimension of each vector.\n",
    "\n",
    "For maximum efficiency (we will need it) do not use loops. Try to write the implementation with numpy functions. Hint: matrix multiplication can be seen as calculating the dot product between rows and columns of the multiplied matrices."
   ]
  },
  {
   "cell_type": "code",
   "metadata": {
    "id": "LgaV2b3fpSOR",
    "pycharm": {
     "name": "#%%\n"
    },
    "ExecuteTime": {
     "end_time": "2025-04-22T19:06:15.360828Z",
     "start_time": "2025-04-22T19:06:15.355943Z"
    }
   },
   "source": [
    "def cosine_similarity_1_to_n(vector, other_vectors):\n",
    "    \"\"\"\n",
    "    Calculates the cosine similarity between a single vector and other vectors.\n",
    "    Args:\n",
    "        vector: a numpy array representing a vector of D dimensions\n",
    "        other_vectors: a 2D numpy array representing other vectors (of the size NxD, where N is the number of vectors and D is their dimension)\n",
    "\n",
    "    Returns: a 1D numpy array of size N containing the cosine similarity between the vector and all the other vectors\n",
    "\n",
    "    \"\"\"\n",
    "\n",
    "    #### YOUR CODE HERE\n",
    "    #chatGPT Prompt: Can you explain what is this exercise about so I can understand how to do it?\n",
    "    #Formula for cosine similarity\n",
    "    #The nominator being the dot product of the vector with other vectors\n",
    "    dot_products = np.dot(other_vectors, vector)\n",
    "\n",
    "    #The denominator being the product of the norms\n",
    "    norm_vector = np.linalg.norm(vector)\n",
    "    norm_others = np.linalg.norm(other_vectors, axis=1)\n",
    "\n",
    "    #chatGPT suggestion for debugging to avoid division by zero\n",
    "    norms_product = norm_vector * norm_others + 1e-10\n",
    "\n",
    "    #cosine similarity according to the formula\n",
    "    cosine_sim = dot_products / norms_product\n",
    "    return cosine_sim\n",
    "    ### YOUR CODE ENDS HERE"
   ],
   "outputs": [],
   "execution_count": 33
  },
  {
   "cell_type": "markdown",
   "metadata": {
    "collapsed": false,
    "id": "irNqAJZLpSOR",
    "pycharm": {
     "name": "#%% md\n"
    }
   },
   "source": [
    "We will use the function to calculate the similarity of all sentences in the dataset to our query."
   ]
  },
  {
   "cell_type": "code",
   "metadata": {
    "collapsed": false,
    "pycharm": {
     "name": "#%%\n"
    },
    "ExecuteTime": {
     "end_time": "2025-04-22T19:06:15.372879Z",
     "start_time": "2025-04-22T19:06:15.369183Z"
    }
   },
   "source": [
    "query = 'fox and deer'\n",
    "embedded_query = embed_text(query, clean, tokenize, lambda x: bag_of_words(x, token_to_id))"
   ],
   "outputs": [],
   "execution_count": 34
  },
  {
   "cell_type": "code",
   "metadata": {
    "id": "uD9mVAhYpSOR",
    "pycharm": {
     "name": "#%%\n"
    },
    "ExecuteTime": {
     "end_time": "2025-04-22T19:06:18.796573Z",
     "start_time": "2025-04-22T19:06:15.498656Z"
    }
   },
   "source": [
    "query_similarity = cosine_similarity_1_to_n(embedded_query, sentences_bows)\n",
    "print(query_similarity.shape)\n",
    "print(query_similarity[:10])"
   ],
   "outputs": [
    {
     "name": "stdout",
     "output_type": "stream",
     "text": [
      "(36000,)\n",
      "[0. 0. 0. 0. 0. 0. 0. 0. 0. 0.]\n"
     ]
    }
   ],
   "execution_count": 35
  },
  {
   "cell_type": "markdown",
   "metadata": {
    "collapsed": false,
    "id": "_l3erVTNpSOR",
    "pycharm": {
     "name": "#%% md\n"
    }
   },
   "source": [
    "The following cell will select the most similar sentence."
   ]
  },
  {
   "cell_type": "code",
   "metadata": {
    "id": "0wWa4AWHpSOR",
    "pycharm": {
     "name": "#%%\n"
    },
    "ExecuteTime": {
     "end_time": "2025-04-22T19:06:19.094768Z",
     "start_time": "2025-04-22T19:06:19.086483Z"
    }
   },
   "source": [
    "most_similar = int(np.argmax(query_similarity))\n",
    "print(most_similar)\n",
    "print(query_similarity[most_similar])\n",
    "print(split_ds['test'][most_similar]['set'][0])"
   ],
   "outputs": [
    {
     "name": "stdout",
     "output_type": "stream",
     "text": [
      "17945\n",
      "0.4242640687059285\n",
      "Fox News announced Friday that it has hired Herman Cain, the spirited former presidential candidate and ex-pizza CEO, as a contributor for Fox News Channel and Fox Business Network.\n"
     ]
    }
   ],
   "execution_count": 36
  },
  {
   "cell_type": "markdown",
   "metadata": {
    "collapsed": false,
    "id": "fpdJHFD1pSOR",
    "pycharm": {
     "name": "#%% md\n"
    }
   },
   "source": [
    "The following function will return the indices of the top-k elements in the array."
   ]
  },
  {
   "cell_type": "code",
   "metadata": {
    "id": "QFUNI9elpSOS",
    "pycharm": {
     "name": "#%%\n"
    },
    "ExecuteTime": {
     "end_time": "2025-04-22T19:06:19.106700Z",
     "start_time": "2025-04-22T19:06:19.102859Z"
    }
   },
   "source": [
    "def top_k_indices(array, k, sorted=True):\n",
    "    \"\"\"\n",
    "    Returns top-k indices from the 1D array. If `sorted` is `True` the returned indices are sorted in the descending order\n",
    "    Args:\n",
    "        array: a 1D numpy array\n",
    "        k: a number of top indices to return\n",
    "        sorted: if True, the returned indices are sorted in descending order\n",
    "\n",
    "    Returns: a 1D array containing top-k indices\n",
    "\n",
    "    \"\"\"\n",
    "    top_k = np.argpartition(array, -k)[-k:]\n",
    "    if sorted:\n",
    "        selected = array[top_k]\n",
    "        sorted_selected = (-selected).argsort()\n",
    "        top_k = top_k[sorted_selected]\n",
    "    return top_k"
   ],
   "outputs": [],
   "execution_count": 37
  },
  {
   "cell_type": "code",
   "metadata": {
    "id": "nY8vvJdepSOS",
    "pycharm": {
     "name": "#%%\n"
    },
    "ExecuteTime": {
     "end_time": "2025-04-22T19:06:19.414570Z",
     "start_time": "2025-04-22T19:06:19.407111Z"
    }
   },
   "source": [
    "top_indices = top_k_indices(query_similarity, k=10).tolist()\n",
    "for idx in top_indices:\n",
    "    print(split_ds['test'][idx]['set'][0])\n",
    "    print(f'similarity: {query_similarity[idx]}')"
   ],
   "outputs": [
    {
     "name": "stdout",
     "output_type": "stream",
     "text": [
      "Fox News announced Friday that it has hired Herman Cain, the spirited former presidential candidate and ex-pizza CEO, as a contributor for Fox News Channel and Fox Business Network.\n",
      "similarity: 0.4242640687059285\n",
      "A Deer Lodge man was shot and killed in a weekend hunting accident at a campground southeast of Deer Lodge.\n",
      "similarity: 0.365148371663444\n",
      "The Scottish Premier League will remain on Fox in the United States following the relegation of Glasgow Rangers but broadcasts will be limited to the secondary network Fox Soccer Plus and the Internet.\n",
      "similarity: 0.31622776601183794\n",
      "Jack Bell of the New York Times reported last Thursday that Fox has finally reached an agreement with Comcast to broadcast Fox Soccer Channel in High Definition.\n",
      "similarity: 0.31622776601183794\n",
      "An aggressive fox bit two people and a dog in Pittsfield.\n",
      "similarity: 0.2886751345864796\n",
      "Blunt complained about the group, ACORN, on Fox News today.\n",
      "similarity: 0.2886751345864796\n",
      "Retailer HMV CEO Simon Fox has stepped down from his position.\n",
      "similarity: 0.2886751345864796\n",
      "Megan Fox finds it ``easy'' to control men.\n",
      "similarity: 0.2886751345864796\n",
      "CBS won the final Thursday of the November sweeps by 10 percent, becoming the first network besides Fox to win a Thursday this month as Fox's ``The X Factor'' fell to a new low.\n",
      "similarity: 0.27735009810876843\n",
      "DL Hughley stops by Fox 10 before he performs at CityScape in downtown Phoenix this weekend.\n",
      "similarity: 0.2672612419052815\n"
     ]
    }
   ],
   "execution_count": 38
  },
  {
   "cell_type": "markdown",
   "metadata": {
    "collapsed": false,
    "id": "BuRI2JzQpSOS",
    "pycharm": {
     "name": "#%% md\n"
    }
   },
   "source": [
    "<a name='e7'></a>\n",
    "### Exercise 7: Analyzing and improving BOW search results\n",
    "\n",
    "Experiment with different queries (taking into account the nature of the dataset and your insights from the analysis so far).\n",
    "Answer the following questions:\n",
    "- (5p) Does the search perform well? When does it fail? Discuss several examples that are we get an expected but also unexpected results (find at least 3 from each category). Provide reasons for the good/bad result in each case (e.g. is there some error in the data, is there some linguistic phenomenon that we don't capture, is something wrong with our modeling with average embeddings, ...)\n",
    "- (5p) If you see problems with search, how could you improve your implementation? Change the functions above, if you think there is room for improvement. Describe your changes and how they made the search better or (in case you made no changes) explain what made the search robust enough to work well."
   ]
  },
  {
   "cell_type": "code",
   "metadata": {
    "id": "sEQKHAvcpSOS",
    "pycharm": {
     "name": "#%%\n"
    },
    "ExecuteTime": {
     "end_time": "2025-04-22T19:06:19.426086Z",
     "start_time": "2025-04-22T19:06:19.422338Z"
    }
   },
   "source": [
    "#### YOUR CODE HERE\n",
    "#Yes the initial query contains word 'and' The fact that the most similar results we got contained fox multiple times 'fox' or 'deer' means that the stop-words cleaning function worked well and did not take the word 'the' included in the initial query into addition.\n",
    "\n",
    "#At the beggining our result indeed included sentence with multiple 'the' but after quick clean it started to match sentences excluding stop-words.\n",
    "#We tested multiple queries like 'Artificial Intelligence at the park' to include some filler words and none of the matches included AI - possibly because its old newspapers when the topic was not that 'hot'.\n",
    "\n",
    "#To test if the function does care about word order we tested two queries 1)poachers killed another rhino (resulting:0.6324555320136759) and 2)killed rhino another poachers (resulting:0.6324555320136759) and since the similarity turned to be exactly the same our function does not care about order of the words.\n",
    "\n",
    "#Another thing worth mentioning is the fact that multiple sentences including the word 'park' twice had different similarity - that might be caused because they include different number of filler words do the similarity differs. example would be, for the query 'park' sentence 'park park I love park' has bigger similarity than 'park park I love park so so much'\n",
    "\n",
    "#We also tested query: 'On Saturday, poachers killed another rhino at Kaziranga National Park and chopped off its horn.' for the sentence we knew existed to check if the similarity is extremely high and the result was 0.99999 and the output was the exact same sentence as the most similar one.\n",
    "\n",
    "#Lastly we decided to check if the system finds synonyms using the query \"car\" and k=1000 (so we can check a wide range of sentences. the lowest similarity had a very log sentence that included the word car but that means that our function does not take into addition synonyms like 'vehicle' which could be a significant improvement.\n",
    "\n",
    "### YOUR CODE ENDS HERE"
   ],
   "outputs": [],
   "execution_count": 39
  },
  {
   "cell_type": "markdown",
   "metadata": {
    "id": "eiIGTfq6eFI5",
    "pycharm": {
     "name": "#%% md\n"
    }
   },
   "source": [
    "// your comments"
   ]
  },
  {
   "cell_type": "markdown",
   "metadata": {
    "collapsed": false,
    "pycharm": {
     "name": "#%% md\n"
    }
   },
   "source": [
    "## 3. Term Frequency - Inverse Document Frequency (TF-IDF)\n",
    "\n",
    "In this section we will implement the TF-IDF algorithm. While BOW is a simple way to represent the documents, it has some limitations. For example, it does not take into account the importance of each word in the document. TF-IDF representation takes into account the frequency of each word in the document and the frequency of the word in the whole dataset. It is a widely used technique in information retrieval and text mining. Refer to the lecture slides for more details."
   ]
  },
  {
   "cell_type": "markdown",
   "metadata": {
    "collapsed": false,
    "pycharm": {
     "name": "#%% md\n"
    }
   },
   "source": [
    "<a name='e8'></a>\n",
    "### Exercise 8: Inverse Document Frequency (IDF)\n",
    "(5p) In this exercise, you will implement the TF-IDF algorithm. First, calculate Inverse Document Frequency (IDF) for each word in the vocabulary. Intuitively, it is a measure of how informative a word is based on the whole dataset. Consult the lecture slides for the details. The IDF is calculated as follows:\n",
    "$$\n",
    "IDF(t) = log_{10}(N/df(t))$$\n",
    "where $N$ is the total number of documents (sentences) in the dataset and $df(t)$ is the number of documents containing the word $t$.\n"
   ]
  },
  {
   "cell_type": "code",
   "metadata": {
    "collapsed": false,
    "pycharm": {
     "name": "#%%\n"
    },
    "ExecuteTime": {
     "end_time": "2025-04-22T19:06:20.350805Z",
     "start_time": "2025-04-22T19:06:19.567147Z"
    }
   },
   "source": [
    "def calculate_idf(bows):\n",
    "    \"\"\"\n",
    "    Calculates the IDF for each word in the vocabulary\n",
    "    Args:\n",
    "        bows: numpty array of size (N x D) where N is the number of documents and D is the vocabulary size\n",
    "\n",
    "    Returns: a numpy array of size D with IDF values for each token\n",
    "    \"\"\"\n",
    "\n",
    "    ### YOUR CODE HERE\n",
    " # copilot used when writing the code\n",
    "    n = bows.shape[0]\n",
    "    dft = np.sum(bows > 0, axis=0)\n",
    "    #changed that line because of division by zero being possible\n",
    "    #idf = np.where(dft > 0, np.log10(n / dft), 0)\n",
    "    idf = np.log10(n / (dft + 1))\n",
    "    return idf\n",
    "\n",
    "\n",
    "    ### YOUR CODE ENDS HERE\n",
    "\n",
    "idf = calculate_idf(sentences_bows)"
   ],
   "outputs": [],
   "execution_count": 40
  },
  {
   "cell_type": "markdown",
   "metadata": {
    "collapsed": false,
    "pycharm": {
     "name": "#%% md\n"
    }
   },
   "source": [
    "<a name='e9'></a>\n",
    "### Exercise 9: TF-IDF\n",
    "- (5p) Calculate TF-IDF on the `test` subset of the dataset.\n",
    "- (5p) Analyze the search results based on your implemented TF-IDF. Does the search perform well? When does it fail? Discuss several examples that are we get an expected but also unexpected results (find at least 3 from each category). Provide reasons for the good/bad result in each case (e.g. is there some error in the data, is there some linguistic phenomenon that we don't capture, is something wrong with our modeling with average embeddings, ...)\n",
    "- (5p) Compare the results with the ones you got with the bag-of-words representation. Discuss the differences and similarities. Do you think TF-IDF is a better representation for this task? Why or why not? Provide examples to support your arguments.\n"
   ]
  },
  {
   "cell_type": "code",
   "metadata": {
    "collapsed": false,
    "pycharm": {
     "name": "#%%\n"
    },
    "ExecuteTime": {
     "end_time": "2025-04-22T19:06:49.520626Z",
     "start_time": "2025-04-22T19:06:20.469309Z"
    }
   },
   "source": [
    "### YOUR CODE HERE\n",
    "# copilot used when writing the code\n",
    "def calculate_tfidf(bows, idf):\n",
    "    \"\"\"\n",
    "    Calculates the TF-IDF for each word in the vocabulary\n",
    "    Args:\n",
    "        bows: numpy array of size (N x D) where N is the number of documents and D is the vocabulary size\n",
    "        idf: a numpy array of size D with IDF values for each token\n",
    "\n",
    "    returns: a numpy array of size (N x D) with TF-IDF values for each token in each document\n",
    "    \"\"\"\n",
    "    tf = bows.copy()\n",
    "    #This line was debugged by ChatGPT to avoid deletion by zero\n",
    "    #tf_weighted = np.where(tf > 0, 1 + np.log10(tf), 0)\n",
    "    tf_safe = np.where(tf > 0, tf, 1)  # Replace zeros with 1 just for safe log\n",
    "    tf_weighted = np.where(tf > 0, 1 + np.log10(tf_safe), 0)\n",
    "    weights = tf_weighted * idf\n",
    "    return weights\n",
    "\n",
    "results = calculate_tfidf(sentences_bows, idf)\n",
    "# print head of the results\n",
    "\n",
    "\n",
    "\n",
    "\n",
    "\n",
    "### YOUR CODE ENDS HERE\n",
    "\n",
    "### YOU CAN ADD MORE CELLS"
   ],
   "outputs": [],
   "execution_count": 41
  },
  {
   "cell_type": "markdown",
   "metadata": {
    "collapsed": false,
    "pycharm": {
     "name": "#%% md\n"
    }
   },
   "source": [
    "// your comments"
   ]
  },
  {
   "cell_type": "markdown",
   "metadata": {
    "collapsed": false,
    "pycharm": {
     "name": "#%% md\n"
    }
   },
   "source": [
    "## 4. Word Embeddings\n",
    "\n",
    "In this section you will load the pre-trained word embeddings model - Glove. You can read more about it [here](https://aclanthology.org/D14-1162/) ([https://aclanthology.org/D14-1162/](https://aclanthology.org/D14-1162/)). The embeddings are trained on a large corpus of text and are available in different dimensions. We will start with the dimension of 100, but later you will be asked to experiment with other dimensions.\n",
    "Gensim library maintains a storage containing some pre-trained models. You can read more about it [here](https://github.com/piskvorky/gensim-data) ([https://github.com/piskvorky/gensim-data](https://github.com/piskvorky/gensim-data)). Be sure to read the README of this repository.\n",
    "\n",
    "Let's first load the info of what models are available."
   ]
  },
  {
   "cell_type": "code",
   "metadata": {
    "collapsed": false,
    "pycharm": {
     "name": "#%%\n"
    },
    "ExecuteTime": {
     "end_time": "2025-04-22T19:06:50.184560Z",
     "start_time": "2025-04-22T19:06:49.967383Z"
    }
   },
   "source": [
    "import json\n",
    "import gensim.downloader as api\n",
    "\n",
    "info = api.info()  # show info about available models/datasets\n",
    "print(json.dumps(info['models'], indent=2))"
   ],
   "outputs": [
    {
     "name": "stdout",
     "output_type": "stream",
     "text": [
      "{\n",
      "  \"fasttext-wiki-news-subwords-300\": {\n",
      "    \"num_records\": 999999,\n",
      "    \"file_size\": 1005007116,\n",
      "    \"base_dataset\": \"Wikipedia 2017, UMBC webbase corpus and statmt.org news dataset (16B tokens)\",\n",
      "    \"reader_code\": \"https://github.com/RaRe-Technologies/gensim-data/releases/download/fasttext-wiki-news-subwords-300/__init__.py\",\n",
      "    \"license\": \"https://creativecommons.org/licenses/by-sa/3.0/\",\n",
      "    \"parameters\": {\n",
      "      \"dimension\": 300\n",
      "    },\n",
      "    \"description\": \"1 million word vectors trained on Wikipedia 2017, UMBC webbase corpus and statmt.org news dataset (16B tokens).\",\n",
      "    \"read_more\": [\n",
      "      \"https://fasttext.cc/docs/en/english-vectors.html\",\n",
      "      \"https://arxiv.org/abs/1712.09405\",\n",
      "      \"https://arxiv.org/abs/1607.01759\"\n",
      "    ],\n",
      "    \"checksum\": \"de2bb3a20c46ce65c9c131e1ad9a77af\",\n",
      "    \"file_name\": \"fasttext-wiki-news-subwords-300.gz\",\n",
      "    \"parts\": 1\n",
      "  },\n",
      "  \"conceptnet-numberbatch-17-06-300\": {\n",
      "    \"num_records\": 1917247,\n",
      "    \"file_size\": 1225497562,\n",
      "    \"base_dataset\": \"ConceptNet, word2vec, GloVe, and OpenSubtitles 2016\",\n",
      "    \"reader_code\": \"https://github.com/RaRe-Technologies/gensim-data/releases/download/conceptnet-numberbatch-17-06-300/__init__.py\",\n",
      "    \"license\": \"https://github.com/commonsense/conceptnet-numberbatch/blob/master/LICENSE.txt\",\n",
      "    \"parameters\": {\n",
      "      \"dimension\": 300\n",
      "    },\n",
      "    \"description\": \"ConceptNet Numberbatch consists of state-of-the-art semantic vectors (also known as word embeddings) that can be used directly as a representation of word meanings or as a starting point for further machine learning. ConceptNet Numberbatch is part of the ConceptNet open data project. ConceptNet provides lots of ways to compute with word meanings, one of which is word embeddings. ConceptNet Numberbatch is a snapshot of just the word embeddings. It is built using an ensemble that combines data from ConceptNet, word2vec, GloVe, and OpenSubtitles 2016, using a variation on retrofitting.\",\n",
      "    \"read_more\": [\n",
      "      \"http://aaai.org/ocs/index.php/AAAI/AAAI17/paper/view/14972\",\n",
      "      \"https://github.com/commonsense/conceptnet-numberbatch\",\n",
      "      \"http://conceptnet.io/\"\n",
      "    ],\n",
      "    \"checksum\": \"fd642d457adcd0ea94da0cd21b150847\",\n",
      "    \"file_name\": \"conceptnet-numberbatch-17-06-300.gz\",\n",
      "    \"parts\": 1\n",
      "  },\n",
      "  \"word2vec-ruscorpora-300\": {\n",
      "    \"num_records\": 184973,\n",
      "    \"file_size\": 208427381,\n",
      "    \"base_dataset\": \"Russian National Corpus (about 250M words)\",\n",
      "    \"reader_code\": \"https://github.com/RaRe-Technologies/gensim-data/releases/download/word2vec-ruscorpora-300/__init__.py\",\n",
      "    \"license\": \"https://creativecommons.org/licenses/by/4.0/deed.en\",\n",
      "    \"parameters\": {\n",
      "      \"dimension\": 300,\n",
      "      \"window_size\": 10\n",
      "    },\n",
      "    \"description\": \"Word2vec Continuous Skipgram vectors trained on full Russian National Corpus (about 250M words). The model contains 185K words.\",\n",
      "    \"preprocessing\": \"The corpus was lemmatized and tagged with Universal PoS\",\n",
      "    \"read_more\": [\n",
      "      \"https://www.academia.edu/24306935/WebVectors_a_Toolkit_for_Building_Web_Interfaces_for_Vector_Semantic_Models\",\n",
      "      \"http://rusvectores.org/en/\",\n",
      "      \"https://github.com/RaRe-Technologies/gensim-data/issues/3\"\n",
      "    ],\n",
      "    \"checksum\": \"9bdebdc8ae6d17d20839dd9b5af10bc4\",\n",
      "    \"file_name\": \"word2vec-ruscorpora-300.gz\",\n",
      "    \"parts\": 1\n",
      "  },\n",
      "  \"word2vec-google-news-300\": {\n",
      "    \"num_records\": 3000000,\n",
      "    \"file_size\": 1743563840,\n",
      "    \"base_dataset\": \"Google News (about 100 billion words)\",\n",
      "    \"reader_code\": \"https://github.com/RaRe-Technologies/gensim-data/releases/download/word2vec-google-news-300/__init__.py\",\n",
      "    \"license\": \"not found\",\n",
      "    \"parameters\": {\n",
      "      \"dimension\": 300\n",
      "    },\n",
      "    \"description\": \"Pre-trained vectors trained on a part of the Google News dataset (about 100 billion words). The model contains 300-dimensional vectors for 3 million words and phrases. The phrases were obtained using a simple data-driven approach described in 'Distributed Representations of Words and Phrases and their Compositionality' (https://code.google.com/archive/p/word2vec/).\",\n",
      "    \"read_more\": [\n",
      "      \"https://code.google.com/archive/p/word2vec/\",\n",
      "      \"https://arxiv.org/abs/1301.3781\",\n",
      "      \"https://arxiv.org/abs/1310.4546\",\n",
      "      \"https://www.microsoft.com/en-us/research/publication/linguistic-regularities-in-continuous-space-word-representations/?from=http%3A%2F%2Fresearch.microsoft.com%2Fpubs%2F189726%2Frvecs.pdf\"\n",
      "    ],\n",
      "    \"checksum\": \"a5e5354d40acb95f9ec66d5977d140ef\",\n",
      "    \"file_name\": \"word2vec-google-news-300.gz\",\n",
      "    \"parts\": 1\n",
      "  },\n",
      "  \"glove-wiki-gigaword-50\": {\n",
      "    \"num_records\": 400000,\n",
      "    \"file_size\": 69182535,\n",
      "    \"base_dataset\": \"Wikipedia 2014 + Gigaword 5 (6B tokens, uncased)\",\n",
      "    \"reader_code\": \"https://github.com/RaRe-Technologies/gensim-data/releases/download/glove-wiki-gigaword-50/__init__.py\",\n",
      "    \"license\": \"http://opendatacommons.org/licenses/pddl/\",\n",
      "    \"parameters\": {\n",
      "      \"dimension\": 50\n",
      "    },\n",
      "    \"description\": \"Pre-trained vectors based on Wikipedia 2014 + Gigaword, 5.6B tokens, 400K vocab, uncased (https://nlp.stanford.edu/projects/glove/).\",\n",
      "    \"preprocessing\": \"Converted to w2v format with `python -m gensim.scripts.glove2word2vec -i <fname> -o glove-wiki-gigaword-50.txt`.\",\n",
      "    \"read_more\": [\n",
      "      \"https://nlp.stanford.edu/projects/glove/\",\n",
      "      \"https://nlp.stanford.edu/pubs/glove.pdf\"\n",
      "    ],\n",
      "    \"checksum\": \"c289bc5d7f2f02c6dc9f2f9b67641813\",\n",
      "    \"file_name\": \"glove-wiki-gigaword-50.gz\",\n",
      "    \"parts\": 1\n",
      "  },\n",
      "  \"glove-wiki-gigaword-100\": {\n",
      "    \"num_records\": 400000,\n",
      "    \"file_size\": 134300434,\n",
      "    \"base_dataset\": \"Wikipedia 2014 + Gigaword 5 (6B tokens, uncased)\",\n",
      "    \"reader_code\": \"https://github.com/RaRe-Technologies/gensim-data/releases/download/glove-wiki-gigaword-100/__init__.py\",\n",
      "    \"license\": \"http://opendatacommons.org/licenses/pddl/\",\n",
      "    \"parameters\": {\n",
      "      \"dimension\": 100\n",
      "    },\n",
      "    \"description\": \"Pre-trained vectors based on Wikipedia 2014 + Gigaword 5.6B tokens, 400K vocab, uncased (https://nlp.stanford.edu/projects/glove/).\",\n",
      "    \"preprocessing\": \"Converted to w2v format with `python -m gensim.scripts.glove2word2vec -i <fname> -o glove-wiki-gigaword-100.txt`.\",\n",
      "    \"read_more\": [\n",
      "      \"https://nlp.stanford.edu/projects/glove/\",\n",
      "      \"https://nlp.stanford.edu/pubs/glove.pdf\"\n",
      "    ],\n",
      "    \"checksum\": \"40ec481866001177b8cd4cb0df92924f\",\n",
      "    \"file_name\": \"glove-wiki-gigaword-100.gz\",\n",
      "    \"parts\": 1\n",
      "  },\n",
      "  \"glove-wiki-gigaword-200\": {\n",
      "    \"num_records\": 400000,\n",
      "    \"file_size\": 264336934,\n",
      "    \"base_dataset\": \"Wikipedia 2014 + Gigaword 5 (6B tokens, uncased)\",\n",
      "    \"reader_code\": \"https://github.com/RaRe-Technologies/gensim-data/releases/download/glove-wiki-gigaword-200/__init__.py\",\n",
      "    \"license\": \"http://opendatacommons.org/licenses/pddl/\",\n",
      "    \"parameters\": {\n",
      "      \"dimension\": 200\n",
      "    },\n",
      "    \"description\": \"Pre-trained vectors based on Wikipedia 2014 + Gigaword, 5.6B tokens, 400K vocab, uncased (https://nlp.stanford.edu/projects/glove/).\",\n",
      "    \"preprocessing\": \"Converted to w2v format with `python -m gensim.scripts.glove2word2vec -i <fname> -o glove-wiki-gigaword-200.txt`.\",\n",
      "    \"read_more\": [\n",
      "      \"https://nlp.stanford.edu/projects/glove/\",\n",
      "      \"https://nlp.stanford.edu/pubs/glove.pdf\"\n",
      "    ],\n",
      "    \"checksum\": \"59652db361b7a87ee73834a6c391dfc1\",\n",
      "    \"file_name\": \"glove-wiki-gigaword-200.gz\",\n",
      "    \"parts\": 1\n",
      "  },\n",
      "  \"glove-wiki-gigaword-300\": {\n",
      "    \"num_records\": 400000,\n",
      "    \"file_size\": 394362229,\n",
      "    \"base_dataset\": \"Wikipedia 2014 + Gigaword 5 (6B tokens, uncased)\",\n",
      "    \"reader_code\": \"https://github.com/RaRe-Technologies/gensim-data/releases/download/glove-wiki-gigaword-300/__init__.py\",\n",
      "    \"license\": \"http://opendatacommons.org/licenses/pddl/\",\n",
      "    \"parameters\": {\n",
      "      \"dimension\": 300\n",
      "    },\n",
      "    \"description\": \"Pre-trained vectors based on Wikipedia 2014 + Gigaword, 5.6B tokens, 400K vocab, uncased (https://nlp.stanford.edu/projects/glove/).\",\n",
      "    \"preprocessing\": \"Converted to w2v format with `python -m gensim.scripts.glove2word2vec -i <fname> -o glove-wiki-gigaword-300.txt`.\",\n",
      "    \"read_more\": [\n",
      "      \"https://nlp.stanford.edu/projects/glove/\",\n",
      "      \"https://nlp.stanford.edu/pubs/glove.pdf\"\n",
      "    ],\n",
      "    \"checksum\": \"29e9329ac2241937d55b852e8284e89b\",\n",
      "    \"file_name\": \"glove-wiki-gigaword-300.gz\",\n",
      "    \"parts\": 1\n",
      "  },\n",
      "  \"glove-twitter-25\": {\n",
      "    \"num_records\": 1193514,\n",
      "    \"file_size\": 109885004,\n",
      "    \"base_dataset\": \"Twitter (2B tweets, 27B tokens, 1.2M vocab, uncased)\",\n",
      "    \"reader_code\": \"https://github.com/RaRe-Technologies/gensim-data/releases/download/glove-twitter-25/__init__.py\",\n",
      "    \"license\": \"http://opendatacommons.org/licenses/pddl/\",\n",
      "    \"parameters\": {\n",
      "      \"dimension\": 25\n",
      "    },\n",
      "    \"description\": \"Pre-trained vectors based on 2B tweets, 27B tokens, 1.2M vocab, uncased (https://nlp.stanford.edu/projects/glove/).\",\n",
      "    \"preprocessing\": \"Converted to w2v format with `python -m gensim.scripts.glove2word2vec -i <fname> -o glove-twitter-25.txt`.\",\n",
      "    \"read_more\": [\n",
      "      \"https://nlp.stanford.edu/projects/glove/\",\n",
      "      \"https://nlp.stanford.edu/pubs/glove.pdf\"\n",
      "    ],\n",
      "    \"checksum\": \"50db0211d7e7a2dcd362c6b774762793\",\n",
      "    \"file_name\": \"glove-twitter-25.gz\",\n",
      "    \"parts\": 1\n",
      "  },\n",
      "  \"glove-twitter-50\": {\n",
      "    \"num_records\": 1193514,\n",
      "    \"file_size\": 209216938,\n",
      "    \"base_dataset\": \"Twitter (2B tweets, 27B tokens, 1.2M vocab, uncased)\",\n",
      "    \"reader_code\": \"https://github.com/RaRe-Technologies/gensim-data/releases/download/glove-twitter-50/__init__.py\",\n",
      "    \"license\": \"http://opendatacommons.org/licenses/pddl/\",\n",
      "    \"parameters\": {\n",
      "      \"dimension\": 50\n",
      "    },\n",
      "    \"description\": \"Pre-trained vectors based on 2B tweets, 27B tokens, 1.2M vocab, uncased (https://nlp.stanford.edu/projects/glove/)\",\n",
      "    \"preprocessing\": \"Converted to w2v format with `python -m gensim.scripts.glove2word2vec -i <fname> -o glove-twitter-50.txt`.\",\n",
      "    \"read_more\": [\n",
      "      \"https://nlp.stanford.edu/projects/glove/\",\n",
      "      \"https://nlp.stanford.edu/pubs/glove.pdf\"\n",
      "    ],\n",
      "    \"checksum\": \"c168f18641f8c8a00fe30984c4799b2b\",\n",
      "    \"file_name\": \"glove-twitter-50.gz\",\n",
      "    \"parts\": 1\n",
      "  },\n",
      "  \"glove-twitter-100\": {\n",
      "    \"num_records\": 1193514,\n",
      "    \"file_size\": 405932991,\n",
      "    \"base_dataset\": \"Twitter (2B tweets, 27B tokens, 1.2M vocab, uncased)\",\n",
      "    \"reader_code\": \"https://github.com/RaRe-Technologies/gensim-data/releases/download/glove-twitter-100/__init__.py\",\n",
      "    \"license\": \"http://opendatacommons.org/licenses/pddl/\",\n",
      "    \"parameters\": {\n",
      "      \"dimension\": 100\n",
      "    },\n",
      "    \"description\": \"Pre-trained vectors based on  2B tweets, 27B tokens, 1.2M vocab, uncased (https://nlp.stanford.edu/projects/glove/)\",\n",
      "    \"preprocessing\": \"Converted to w2v format with `python -m gensim.scripts.glove2word2vec -i <fname> -o glove-twitter-100.txt`.\",\n",
      "    \"read_more\": [\n",
      "      \"https://nlp.stanford.edu/projects/glove/\",\n",
      "      \"https://nlp.stanford.edu/pubs/glove.pdf\"\n",
      "    ],\n",
      "    \"checksum\": \"b04f7bed38756d64cf55b58ce7e97b15\",\n",
      "    \"file_name\": \"glove-twitter-100.gz\",\n",
      "    \"parts\": 1\n",
      "  },\n",
      "  \"glove-twitter-200\": {\n",
      "    \"num_records\": 1193514,\n",
      "    \"file_size\": 795373100,\n",
      "    \"base_dataset\": \"Twitter (2B tweets, 27B tokens, 1.2M vocab, uncased)\",\n",
      "    \"reader_code\": \"https://github.com/RaRe-Technologies/gensim-data/releases/download/glove-twitter-200/__init__.py\",\n",
      "    \"license\": \"http://opendatacommons.org/licenses/pddl/\",\n",
      "    \"parameters\": {\n",
      "      \"dimension\": 200\n",
      "    },\n",
      "    \"description\": \"Pre-trained vectors based on 2B tweets, 27B tokens, 1.2M vocab, uncased (https://nlp.stanford.edu/projects/glove/).\",\n",
      "    \"preprocessing\": \"Converted to w2v format with `python -m gensim.scripts.glove2word2vec -i <fname> -o glove-twitter-200.txt`.\",\n",
      "    \"read_more\": [\n",
      "      \"https://nlp.stanford.edu/projects/glove/\",\n",
      "      \"https://nlp.stanford.edu/pubs/glove.pdf\"\n",
      "    ],\n",
      "    \"checksum\": \"e52e8392d1860b95d5308a525817d8f9\",\n",
      "    \"file_name\": \"glove-twitter-200.gz\",\n",
      "    \"parts\": 1\n",
      "  },\n",
      "  \"__testing_word2vec-matrix-synopsis\": {\n",
      "    \"description\": \"[THIS IS ONLY FOR TESTING] Word vecrors of the movie matrix.\",\n",
      "    \"parameters\": {\n",
      "      \"dimensions\": 50\n",
      "    },\n",
      "    \"preprocessing\": \"Converted to w2v using a preprocessed corpus. Converted to w2v format with `python3.5 -m gensim.models.word2vec -train <input_filename> -iter 50 -output <output_filename>`.\",\n",
      "    \"read_more\": [],\n",
      "    \"checksum\": \"534dcb8b56a360977a269b7bfc62d124\",\n",
      "    \"file_name\": \"__testing_word2vec-matrix-synopsis.gz\",\n",
      "    \"parts\": 1\n",
      "  }\n",
      "}\n"
     ]
    }
   ],
   "execution_count": 42
  },
  {
   "cell_type": "code",
   "metadata": {
    "collapsed": false,
    "pycharm": {
     "name": "#%%\n"
    },
    "ExecuteTime": {
     "end_time": "2025-04-22T19:07:14.338066Z",
     "start_time": "2025-04-22T19:06:50.327747Z"
    }
   },
   "source": [
    "glove_model = api.load(\"glove-wiki-gigaword-100\")"
   ],
   "outputs": [],
   "execution_count": 43
  },
  {
   "cell_type": "markdown",
   "metadata": {
    "collapsed": false,
    "pycharm": {
     "name": "#%% md\n"
    }
   },
   "source": [
    "We can use the loaded model's `key_to_index` attribute to retrieve the whole vocabulary (aka for how many words we learned embeddings for)."
   ]
  },
  {
   "cell_type": "code",
   "metadata": {
    "collapsed": false,
    "pycharm": {
     "name": "#%%\n"
    },
    "ExecuteTime": {
     "end_time": "2025-04-22T19:07:14.506712Z",
     "start_time": "2025-04-22T19:07:14.497184Z"
    }
   },
   "source": [
    "vocab = list(glove_model.key_to_index)\n",
    "print(len(vocab))"
   ],
   "outputs": [
    {
     "name": "stdout",
     "output_type": "stream",
     "text": [
      "400000\n"
     ]
    }
   ],
   "execution_count": 44
  },
  {
   "cell_type": "markdown",
   "metadata": {
    "collapsed": false,
    "pycharm": {
     "name": "#%% md\n"
    }
   },
   "source": [
    "Let's explore a bit further the embeddings. In the following cells, the embedding of a single word is returned. Double-check the dimensions (as sanity check). This is like inspecting the `W` matrix (weights) that we discussed in the lecture."
   ]
  },
  {
   "cell_type": "code",
   "metadata": {
    "collapsed": false,
    "pycharm": {
     "name": "#%%\n"
    },
    "ExecuteTime": {
     "end_time": "2025-04-22T19:07:14.674107Z",
     "start_time": "2025-04-22T19:07:14.662806Z"
    }
   },
   "source": [
    "# vector of a particular model. note that it is 100 dimensional as specified.\n",
    "glove_model['what']"
   ],
   "outputs": [
    {
     "data": {
      "text/plain": [
       "array([-1.5180e-01,  3.8409e-01,  8.9340e-01, -4.2421e-01, -9.2161e-01,\n",
       "        3.7988e-02, -3.2026e-01,  3.4119e-03,  2.2101e-01, -2.2045e-01,\n",
       "        1.6661e-01,  2.1956e-01,  2.5325e-01, -2.9267e-01,  1.0171e-01,\n",
       "       -7.5491e-02, -6.0406e-02,  2.8194e-01, -5.8519e-01,  4.8271e-01,\n",
       "        1.7504e-02, -1.2086e-01, -1.0990e-01, -6.9554e-01,  1.5600e-01,\n",
       "        7.0558e-02, -1.5058e-01, -8.1811e-01, -1.8535e-01, -3.6863e-01,\n",
       "        3.1650e-02,  7.6616e-01,  8.4041e-02,  2.6928e-03, -2.7440e-01,\n",
       "        2.1815e-01, -3.5157e-02,  3.2569e-01,  1.0032e-01, -6.0932e-01,\n",
       "       -7.0316e-01,  1.8299e-01,  3.3134e-01, -1.2416e-01, -9.0542e-01,\n",
       "       -3.9157e-02,  4.4719e-01, -5.7338e-01, -4.0172e-01, -8.2234e-01,\n",
       "        5.5740e-01,  1.5101e-01,  2.4598e-01,  1.0113e+00, -4.6626e-01,\n",
       "       -2.7133e+00,  4.3273e-01, -1.6314e-01,  1.5828e+00,  5.5081e-01,\n",
       "       -2.4738e-01,  1.4184e+00, -1.6867e-02, -1.9368e-01,  1.0090e+00,\n",
       "       -5.9864e-02,  9.1853e-01,  4.3022e-01, -2.0624e-01,  7.6127e-02,\n",
       "        2.1595e-01, -2.6834e-01, -3.3342e-01, -3.7151e-01,  4.5197e-01,\n",
       "       -8.2460e-02,  3.2984e-01, -5.7376e-01, -1.3042e+00,  2.7121e-01,\n",
       "        6.6277e-01, -7.9626e-02, -7.9167e-01, -5.3662e-03, -1.7916e+00,\n",
       "       -3.3298e-01, -3.0698e-01, -3.3980e-01, -5.5618e-01, -6.9471e-01,\n",
       "        2.7427e-01, -2.1898e-01, -2.6714e-01,  2.2561e-03, -5.0178e-01,\n",
       "       -3.2775e-01, -4.5670e-01, -2.7123e-01,  2.2157e-01,  9.2112e-01],\n",
       "      dtype=float32)"
      ]
     },
     "execution_count": 45,
     "metadata": {},
     "output_type": "execute_result"
    }
   ],
   "execution_count": 45
  },
  {
   "cell_type": "markdown",
   "metadata": {
    "collapsed": false,
    "pycharm": {
     "name": "#%% md\n"
    }
   },
   "source": [
    "Gensim objects offers different methods to easily run very common tasks. For example, there are different functions to find the most similar words.\n",
    "\n",
    "Check the documentation on how [`most_similar`](https://tedboy.github.io/nlps/generated/generated/gensim.models.Word2Vec.most_similar.html) and [`similar_by_word`](https://tedboy.github.io/nlps/generated/generated/gensim.models.Word2Vec.similar_by_word.html) can be used."
   ]
  },
  {
   "cell_type": "code",
   "metadata": {
    "collapsed": false,
    "pycharm": {
     "name": "#%%\n"
    },
    "ExecuteTime": {
     "end_time": "2025-04-22T19:07:14.979966Z",
     "start_time": "2025-04-22T19:07:14.827336Z"
    }
   },
   "source": [
    "# most similar words to a given word\n",
    "print(glove_model.most_similar('what', topn=10))\n",
    "\n",
    "# also u can use\n",
    "print(glove_model.similar_by_word('miss', topn=5))"
   ],
   "outputs": [
    {
     "name": "stdout",
     "output_type": "stream",
     "text": [
      "[('how', 0.9303215742111206), ('why', 0.9196363091468811), ('fact', 0.906943678855896), ('know', 0.8876389265060425), ('that', 0.8810365796089172), ('think', 0.8772969841957092), ('so', 0.8753098249435425), ('even', 0.8751895427703857), ('something', 0.874744176864624), ('if', 0.8702542781829834)]\n",
      "[('play', 0.6266524791717529), ('missed', 0.608065128326416), ('she', 0.596325695514679), ('chance', 0.5839369297027588), ('tournament', 0.572258710861206)]\n"
     ]
    }
   ],
   "execution_count": 46
  },
  {
   "cell_type": "code",
   "metadata": {
    "collapsed": false,
    "pycharm": {
     "name": "#%%\n"
    },
    "ExecuteTime": {
     "end_time": "2025-04-22T19:07:15.151410Z",
     "start_time": "2025-04-22T19:07:15.134646Z"
    }
   },
   "source": [
    "print(glove_model.most_similar('why', topn=10))"
   ],
   "outputs": [
    {
     "name": "stdout",
     "output_type": "stream",
     "text": [
      "[('know', 0.944094181060791), ('what', 0.9196362495422363), ('think', 0.9086559414863586), ('how', 0.9020735621452332), ('tell', 0.8923122882843018), (\"n't\", 0.8890628814697266), ('sure', 0.8870969414710999), ('thought', 0.8747684955596924), ('believe', 0.8745115399360657), ('say', 0.8730075359344482)]\n"
     ]
    }
   ],
   "execution_count": 47
  },
  {
   "cell_type": "code",
   "metadata": {
    "collapsed": false,
    "pycharm": {
     "name": "#%%\n"
    },
    "ExecuteTime": {
     "end_time": "2025-04-22T19:07:15.321478Z",
     "start_time": "2025-04-22T19:07:15.306023Z"
    }
   },
   "source": [
    "print(glove_model.similar_by_word('who', topn=5))"
   ],
   "outputs": [
    {
     "name": "stdout",
     "output_type": "stream",
     "text": [
      "[('whom', 0.8642492890357971), ('he', 0.8201969861984253), ('whose', 0.8143677711486816), ('had', 0.8035843968391418), ('others', 0.7708418965339661)]\n"
     ]
    }
   ],
   "execution_count": 48
  },
  {
   "cell_type": "markdown",
   "metadata": {
    "collapsed": false,
    "pycharm": {
     "name": "#%% md\n"
    }
   },
   "source": [
    "We can now compare our implementation with the one in the pre-trained model and confirm what we already expected."
   ]
  },
  {
   "cell_type": "code",
   "metadata": {
    "collapsed": false,
    "pycharm": {
     "name": "#%%\n"
    },
    "ExecuteTime": {
     "end_time": "2025-04-22T19:07:15.483465Z",
     "start_time": "2025-04-22T19:07:15.478758Z"
    }
   },
   "source": [
    "# simalarity between two words\n",
    "word1 = 'alive'\n",
    "word2 = 'biology'\n",
    "print(glove_model.similarity(word1, word2))\n",
    "print(cosine_similarity(glove_model[word1], glove_model[word2]))"
   ],
   "outputs": [
    {
     "name": "stdout",
     "output_type": "stream",
     "text": [
      "0.15712576\n",
      "0.15712577\n"
     ]
    }
   ],
   "execution_count": 49
  },
  {
   "cell_type": "code",
   "metadata": {
    "collapsed": false,
    "pycharm": {
     "name": "#%%\n"
    },
    "ExecuteTime": {
     "end_time": "2025-04-22T19:07:15.652724Z",
     "start_time": "2025-04-22T19:07:15.648964Z"
    }
   },
   "source": [
    "# simalarity between two words. similar words\n",
    "word1 = 'alive'\n",
    "word2 = 'life'\n",
    "print(glove_model.similarity(word1, word2))\n",
    "print(cosine_similarity(glove_model[word1], glove_model[word2]))"
   ],
   "outputs": [
    {
     "name": "stdout",
     "output_type": "stream",
     "text": [
      "0.6400605\n",
      "0.6400605\n"
     ]
    }
   ],
   "execution_count": 50
  },
  {
   "cell_type": "code",
   "metadata": {
    "collapsed": false,
    "pycharm": {
     "name": "#%%\n"
    },
    "ExecuteTime": {
     "end_time": "2025-04-22T19:07:16.027179Z",
     "start_time": "2025-04-22T19:07:16.021810Z"
    }
   },
   "source": [
    "# simalarity between two words. dissimilar words\n",
    "word1 = 'alive'\n",
    "word2 = 'dead'\n",
    "print(glove_model.similarity(word1, word2))\n",
    "print(cosine_similarity(glove_model[word1], glove_model[word2]))"
   ],
   "outputs": [
    {
     "name": "stdout",
     "output_type": "stream",
     "text": [
      "0.7103517\n",
      "0.71035177\n"
     ]
    }
   ],
   "execution_count": 51
  },
  {
   "cell_type": "code",
   "metadata": {
    "collapsed": false,
    "pycharm": {
     "name": "#%%\n"
    },
    "ExecuteTime": {
     "end_time": "2025-04-22T19:07:16.051578Z",
     "start_time": "2025-04-22T19:07:16.045732Z"
    }
   },
   "source": [
    "# simalarity between two words. unrelated words\n",
    "word1 = 'alive'\n",
    "word2 = 'horse'\n",
    "print(glove_model.similarity(word1, word2))\n",
    "print(cosine_similarity(glove_model[word1], glove_model[word2]))"
   ],
   "outputs": [
    {
     "name": "stdout",
     "output_type": "stream",
     "text": [
      "0.34625494\n",
      "0.34625497\n"
     ]
    }
   ],
   "execution_count": 52
  },
  {
   "cell_type": "code",
   "metadata": {
    "collapsed": false,
    "pycharm": {
     "name": "#%%\n"
    },
    "ExecuteTime": {
     "end_time": "2025-04-22T19:07:16.251265Z",
     "start_time": "2025-04-22T19:07:16.244618Z"
    }
   },
   "source": [
    "# simalarity between two SAME words\n",
    "glove_model.similarity('equal', 'equal')\n",
    "word1 = 'equal'\n",
    "word2 = 'equal'\n",
    "print(glove_model.similarity(word1, word2))\n",
    "print(cosine_similarity(glove_model[word1], glove_model[word2]))"
   ],
   "outputs": [
    {
     "name": "stdout",
     "output_type": "stream",
     "text": [
      "1.0\n",
      "1.0000001\n"
     ]
    }
   ],
   "execution_count": 53
  },
  {
   "cell_type": "markdown",
   "metadata": {
    "collapsed": false,
    "pycharm": {
     "name": "#%% md\n"
    }
   },
   "source": [
    "The next function contains the code to plot a similarity matrix between multiple words (e.g. if we want to compare 10 words and their pair-wise similarities). It requires a matrix with similarities (as input) and labels (aka the words) to display in the final figure."
   ]
  },
  {
   "cell_type": "code",
   "metadata": {
    "collapsed": false,
    "pycharm": {
     "name": "#%%\n"
    },
    "ExecuteTime": {
     "end_time": "2025-04-22T19:07:16.431517Z",
     "start_time": "2025-04-22T19:07:16.423185Z"
    }
   },
   "source": [
    "def plot_similarity_matrix(matrix, labels):\n",
    "    \"\"\"\n",
    "    Displays a plot of the `matrix` of size (N x N) with the labels specified as a list of size N\n",
    "    Args:\n",
    "        matrix: a square-sized (N x N) numpy array\n",
    "        labels: a list of strings of hte size N\n",
    "    \"\"\"\n",
    "\n",
    "    fig, ax = plt.subplots()\n",
    "    im = ax.imshow(matrix)\n",
    "\n",
    "    # Show all ticks and label them with the respective list entries\n",
    "    ax.set_xticks(np.arange(len(labels)), labels=labels)\n",
    "    ax.set_yticks(np.arange(len(labels)), labels=labels)\n",
    "\n",
    "    # Rotate the tick labels and set their alignment.\n",
    "    plt.setp(ax.get_xticklabels(), rotation=45, ha=\"right\",\n",
    "             rotation_mode=\"anchor\")\n",
    "\n",
    "    # Loop over data dimensions and create text annotations.\n",
    "    for i in range(len(labels)):\n",
    "        for j in range(len(labels)):\n",
    "            text = ax.text(j, i, f'{matrix[i, j]:.2f}',\n",
    "                           ha=\"center\", va=\"center\", color=\"w\")\n",
    "\n",
    "    # ax.set_title(\"Give a title if you want\")\n",
    "    fig.tight_layout()\n",
    "    plt.show()"
   ],
   "outputs": [],
   "execution_count": 54
  },
  {
   "cell_type": "markdown",
   "metadata": {
    "collapsed": false,
    "pycharm": {
     "name": "#%% md\n"
    }
   },
   "source": [
    "<a name='e10'></a>\n",
    "### Exercise 10: Plotting similarities between words\n",
    "\n",
    "(10p) In the following, we will explore some properties of word embeddings through some examples. We will use 6 example words for this purpose but experiment with other set of words as well. Fill in the next cell to create a similarity matrix between a list of words.\n",
    "\n",
    "Experiment with different words and their similarities plotted. Try at least 3 different sets of words of at least 6 words each. Use the `plot_similarity_matrix` function to visualize the results.\n",
    "Comment on the results. Do they make sense? Why some words are closer to each other than others? What does it mean?"
   ]
  },
  {
   "cell_type": "code",
   "metadata": {
    "collapsed": false,
    "pycharm": {
     "name": "#%%\n"
    },
    "ExecuteTime": {
     "end_time": "2025-04-22T19:07:17.005668Z",
     "start_time": "2025-04-22T19:07:16.738498Z"
    }
   },
   "source": [
    "list_of_words = ['love', 'hate', 'life', 'equal', 'alive', 'dead']\n",
    "\n",
    "similarity_matrix = np.zeros((len(list_of_words), len(list_of_words)), dtype=float)\n",
    "\n",
    "### YOUR CODE HERE\n",
    "\n",
    "for i, w1 in enumerate(list_of_words):\n",
    "    for j, w2 in enumerate(list_of_words):\n",
    "        similarity_matrix[i, j] = glove_model.similarity(w1, w2)\n",
    "\n",
    "### YOUR CODE ENDS HERE\n",
    "\n",
    "\n",
    "plot_similarity_matrix(similarity_matrix, list_of_words)"
   ],
   "outputs": [
    {
     "data": {
      "text/plain": [
       "<Figure size 640x480 with 1 Axes>"
      ],
      "image/png": "[encoded data removed]"
     },
     "metadata": {},
     "output_type": "display_data"
    }
   ],
   "execution_count": 55
  },
  {
   "cell_type": "code",
   "metadata": {
    "collapsed": false,
    "pycharm": {
     "name": "#%%\n"
    },
    "ExecuteTime": {
     "end_time": "2025-04-22T19:07:17.318806Z",
     "start_time": "2025-04-22T19:07:17.158877Z"
    }
   },
   "source": [
    "#### YOUR CODE HERE\n",
    "\n",
    "list_of_words = ['cat', 'dog', 'lion', 'tiger', 'wolf', 'horse']\n",
    "\n",
    "similarity_matrix = np.zeros((len(list_of_words), len(list_of_words)), dtype=float)\n",
    "\n",
    "for i, w1 in enumerate(list_of_words):\n",
    "    for j, w2 in enumerate(list_of_words):\n",
    "        similarity_matrix[i, j] = glove_model.similarity(w1, w2)\n",
    "\n",
    "plot_similarity_matrix(similarity_matrix, list_of_words)\n",
    "\n",
    "### YOUR CODE ENDS HERE"
   ],
   "outputs": [
    {
     "data": {
      "text/plain": [
       "<Figure size 640x480 with 1 Axes>"
      ],
      "image/png": "[encoded data removed]"
     },
     "metadata": {},
     "output_type": "display_data"
    }
   ],
   "execution_count": 56
  },
  {
   "cell_type": "markdown",
   "source": [
    "Animals\n",
    "In the animal similarity picture, the words \"cat\" and \"dog\" are the most similar, which makes sense because they often appear together as pets. \"Lion\" and \"tiger\" also show strong similarity because they are both big wild cats. \"Wolf\" is somewhere in between, linking to both dogs and wild animals since it's a relative of the dog but also a predator. \"Horse\" is a bit different from the rest, but still shares some connection with \"cat\" and \"dog\", likely because all three are mentioned in contexts like farms or animal care. The least similar pairs are \"horse\" with \"wolf\" and \"tiger\", showing that those animals don’t often appear in the same kind of discussions."
   ],
   "metadata": {
    "collapsed": false
   }
  },
  {
   "cell_type": "markdown",
   "source": [],
   "metadata": {
    "collapsed": false
   }
  },
  {
   "cell_type": "code",
   "source": [
    "# shortened by for loop \n",
    "words_space = ['planet', 'star', 'galaxy', 'comet', 'asteroid', 'nebula']\n",
    "sim_animals = np.array([[glove_model.similarity(a, b) for b in words_space]\n",
    "                        for a in words_space])\n",
    "plot_similarity_matrix(sim_animals, words_space)"
   ],
   "metadata": {
    "collapsed": false,
    "ExecuteTime": {
     "end_time": "2025-04-22T19:12:50.987148Z",
     "start_time": "2025-04-22T19:07:17.330953Z"
    }
   },
   "outputs": [
    {
     "data": {
      "text/plain": [
       "<Figure size 640x480 with 1 Axes>"
      ],
      "image/png": "[encoded data removed]"
     },
     "metadata": {},
     "output_type": "display_data"
    }
   ],
   "execution_count": 57
  },
  {
   "cell_type": "markdown",
   "source": [
    "Space\n",
    "In the space-related chart, \"comet\" and \"asteroid\" are very close to each other, which fits since they’re both small objects in space that orbit the sun and show up in the same kinds of science news. \"Galaxy\", \"star\", and \"nebula\" also appear somewhat close because they’re deep space objects seen in astronomy. \"Planet\" is pretty neutral and connects fairly well with all the others since it's a common term in space-related topics. \"Star\" has the weakest connection with \"asteroid\" and \"comet\", showing that those words don’t usually go together even if they’re all part of space talk."
   ],
   "metadata": {
    "collapsed": false
   }
  },
  {
   "cell_type": "code",
   "source": [
    "words_urban = ['city', 'town', 'village', 'country', 'metropolis', 'suburb']\n",
    "sim_urban = np.array([[glove_model.similarity(a, b) for b in words_urban]\n",
    "                      for a in words_urban])\n",
    "plot_similarity_matrix(sim_urban, words_urban)"
   ],
   "metadata": {
    "collapsed": false,
    "ExecuteTime": {
     "end_time": "2025-04-22T19:07:17.767586Z",
     "start_time": "2025-04-22T19:07:17.636219Z"
    }
   },
   "outputs": [
    {
     "data": {
      "text/plain": [
       "<Figure size 640x480 with 1 Axes>"
      ],
      "image/png": "[encoded data removed]"
     },
     "metadata": {},
     "output_type": "display_data"
    }
   ],
   "execution_count": 58
  },
  {
   "cell_type": "markdown",
   "source": [
    "Places to Live\n",
    "In the plot with words about places to live, \"town\" and \"village\" are the most similar, and \"city\" is also very close to \"town\", which makes sense because they describe different sizes of populated areas. \"Suburb\" is more related to \"city\" and \"town\" than to \"country\", reflecting how suburbs are closer to urban areas and not the countryside. \"Metropolis\" sounds like it should match \"city\", but it’s not as close as expected, possibly because people use it in more dramatic or fictional contexts. \"Country\" is the least connected to the others, probably because the word has two meanings—rural area and nation—which can confuse the model."
   ],
   "metadata": {
    "collapsed": false
   }
  },
  {
   "cell_type": "code",
   "source": [
    "words_cuisine = ['pizza', 'sushi', 'taco', 'curry', 'pasta', 'burger']\n",
    "sim_cuisines = np.array([[glove_model.similarity(a, b) for b in words_cuisine]\n",
    "                      for a in words_cuisine])\n",
    "plot_similarity_matrix(sim_cuisines, words_cuisine)"
   ],
   "metadata": {
    "collapsed": false,
    "ExecuteTime": {
     "end_time": "2025-04-22T19:07:18.076251Z",
     "start_time": "2025-04-22T19:07:17.925090Z"
    }
   },
   "outputs": [
    {
     "data": {
      "text/plain": [
       "<Figure size 640x480 with 1 Axes>"
      ],
      "image/png": "[encoded data removed]"
     },
     "metadata": {},
     "output_type": "display_data"
    }
   ],
   "execution_count": 59
  },
  {
   "cell_type": "markdown",
   "source": [
    "Food\n",
    "In the food chart, the strongest similarity is between \"pizza\" and \"burger\", which makes sense since they’re both popular fast foods. \"Pizza\" is also close to \"pasta\", showing the Italian food connection, and \"burger\" links well with \"taco\", likely because they’re both common in fast-food culture. \"Sushi\" stands out as the most different, especially compared to \"curry\", because it’s from a completely different cuisine and shows up in different types of conversations. \"Curry\" is also somewhat separate from the rest, as it’s usually mentioned in more traditional or spicy food contexts. Overall, the model groups the foods based on cuisine and how they are typically eaten—whether they’re fast food or part of specific cultural dishes."
   ],
   "metadata": {
    "collapsed": false
   }
  },
  {
   "cell_type": "markdown",
   "metadata": {
    "collapsed": false,
    "pycharm": {
     "name": "#%% md\n"
    }
   },
   "source": [
    " <a name='e11'></a>\n",
    "### Exercise 11: Other pre-trained word embeddings\n",
    "(10p) For this exercise, experiment with at least one different word embedding model. You can choose Glove with different dimensions or other pre-trained models. Use the gensim library to download and use the models.\n",
    "Plot similarity matrices between sets of words you used in the previous exercise and compare the results. Are there noticeable differences? Why (not)?"
   ]
  },
  {
   "cell_type": "code",
   "metadata": {
    "collapsed": false,
    "pycharm": {
     "name": "#%%\n"
    },
    "ExecuteTime": {
     "end_time": "2025-04-22T19:12:28.200705Z",
     "start_time": "2025-04-22T19:07:18.221176Z"
    }
   },
   "source": [
    "#### YOUR CODE HERE\n",
    "# Asked GPT to propose me anpther model\n",
    "\n",
    "# FastText embeddings\n",
    "fasttext = api.load(\"fasttext-wiki-news-subwords-300\")\n",
    "\n",
    "words_space = ['planet', 'star', 'galaxy', 'comet', 'asteroid', 'nebula']\n",
    "sim_animals = np.array([[fasttext.similarity(a, b) for b in words_space]\n",
    "                        for a in words_space])\n",
    "plot_similarity_matrix(sim_animals, words_space)\n",
    "### YOUR CODE ENDS HERE"
   ],
   "outputs": [
    {
     "name": "stdout",
     "output_type": "stream",
     "text": [
      "[==------------------------------------------------] 4.6% 43.9/958.4MB downloaded"
     ]
    },
    {
     "name": "stderr",
     "output_type": "stream",
     "text": [
      "IOPub message rate exceeded.\n",
      "The Jupyter server will temporarily stop sending output\n",
      "to the client in order to avoid crashing it.\n",
      "To change this limit, set the config variable\n",
      "`--ServerApp.iopub_msg_rate_limit`.\n",
      "\n",
      "Current values:\n",
      "ServerApp.iopub_msg_rate_limit=1000.0 (msgs/sec)\n",
      "ServerApp.rate_limit_window=3.0 (secs)\n",
      "\n"
     ]
    },
    {
     "name": "stdout",
     "output_type": "stream",
     "text": [
      "[====----------------------------------------------] 9.7% 93.0/958.4MB downloaded"
     ]
    },
    {
     "name": "stderr",
     "output_type": "stream",
     "text": [
      "IOPub message rate exceeded.\n",
      "The Jupyter server will temporarily stop sending output\n",
      "to the client in order to avoid crashing it.\n",
      "To change this limit, set the config variable\n",
      "`--ServerApp.iopub_msg_rate_limit`.\n",
      "\n",
      "Current values:\n",
      "ServerApp.iopub_msg_rate_limit=1000.0 (msgs/sec)\n",
      "ServerApp.rate_limit_window=3.0 (secs)\n",
      "\n"
     ]
    },
    {
     "name": "stdout",
     "output_type": "stream",
     "text": [
      "[======--------------------------------------------] 12.6% 120.3/958.4MB downloaded"
     ]
    },
    {
     "name": "stderr",
     "output_type": "stream",
     "text": [
      "IOPub message rate exceeded.\n",
      "The Jupyter server will temporarily stop sending output\n",
      "to the client in order to avoid crashing it.\n",
      "To change this limit, set the config variable\n",
      "`--ServerApp.iopub_msg_rate_limit`.\n",
      "\n",
      "Current values:\n",
      "ServerApp.iopub_msg_rate_limit=1000.0 (msgs/sec)\n",
      "ServerApp.rate_limit_window=3.0 (secs)\n",
      "\n"
     ]
    },
    {
     "name": "stdout",
     "output_type": "stream",
     "text": [
      "[========------------------------------------------] 16.0% 153.6/958.4MB downloaded"
     ]
    },
    {
     "name": "stderr",
     "output_type": "stream",
     "text": [
      "IOPub message rate exceeded.\n",
      "The Jupyter server will temporarily stop sending output\n",
      "to the client in order to avoid crashing it.\n",
      "To change this limit, set the config variable\n",
      "`--ServerApp.iopub_msg_rate_limit`.\n",
      "\n",
      "Current values:\n",
      "ServerApp.iopub_msg_rate_limit=1000.0 (msgs/sec)\n",
      "ServerApp.rate_limit_window=3.0 (secs)\n",
      "\n"
     ]
    },
    {
     "name": "stdout",
     "output_type": "stream",
     "text": [
      "[=========-----------------------------------------] 19.0% 182.2/958.4MB downloaded"
     ]
    },
    {
     "name": "stderr",
     "output_type": "stream",
     "text": [
      "IOPub message rate exceeded.\n",
      "The Jupyter server will temporarily stop sending output\n",
      "to the client in order to avoid crashing it.\n",
      "To change this limit, set the config variable\n",
      "`--ServerApp.iopub_msg_rate_limit`.\n",
      "\n",
      "Current values:\n",
      "ServerApp.iopub_msg_rate_limit=1000.0 (msgs/sec)\n",
      "ServerApp.rate_limit_window=3.0 (secs)\n",
      "\n"
     ]
    },
    {
     "name": "stdout",
     "output_type": "stream",
     "text": [
      "[===========---------------------------------------] 22.1% 211.5/958.4MB downloaded"
     ]
    },
    {
     "name": "stderr",
     "output_type": "stream",
     "text": [
      "IOPub message rate exceeded.\n",
      "The Jupyter server will temporarily stop sending output\n",
      "to the client in order to avoid crashing it.\n",
      "To change this limit, set the config variable\n",
      "`--ServerApp.iopub_msg_rate_limit`.\n",
      "\n",
      "Current values:\n",
      "ServerApp.iopub_msg_rate_limit=1000.0 (msgs/sec)\n",
      "ServerApp.rate_limit_window=3.0 (secs)\n",
      "\n"
     ]
    },
    {
     "name": "stdout",
     "output_type": "stream",
     "text": [
      "[=============-------------------------------------] 26.4% 253.2/958.4MB downloaded"
     ]
    },
    {
     "name": "stderr",
     "output_type": "stream",
     "text": [
      "IOPub message rate exceeded.\n",
      "The Jupyter server will temporarily stop sending output\n",
      "to the client in order to avoid crashing it.\n",
      "To change this limit, set the config variable\n",
      "`--ServerApp.iopub_msg_rate_limit`.\n",
      "\n",
      "Current values:\n",
      "ServerApp.iopub_msg_rate_limit=1000.0 (msgs/sec)\n",
      "ServerApp.rate_limit_window=3.0 (secs)\n",
      "\n"
     ]
    },
    {
     "name": "stdout",
     "output_type": "stream",
     "text": [
      "[==============------------------------------------] 29.6% 284.1/958.4MB downloaded"
     ]
    },
    {
     "name": "stderr",
     "output_type": "stream",
     "text": [
      "IOPub message rate exceeded.\n",
      "The Jupyter server will temporarily stop sending output\n",
      "to the client in order to avoid crashing it.\n",
      "To change this limit, set the config variable\n",
      "`--ServerApp.iopub_msg_rate_limit`.\n",
      "\n",
      "Current values:\n",
      "ServerApp.iopub_msg_rate_limit=1000.0 (msgs/sec)\n",
      "ServerApp.rate_limit_window=3.0 (secs)\n",
      "\n"
     ]
    },
    {
     "name": "stdout",
     "output_type": "stream",
     "text": [
      "[================----------------------------------] 32.7% 313.4/958.4MB downloaded"
     ]
    },
    {
     "name": "stderr",
     "output_type": "stream",
     "text": [
      "IOPub message rate exceeded.\n",
      "The Jupyter server will temporarily stop sending output\n",
      "to the client in order to avoid crashing it.\n",
      "To change this limit, set the config variable\n",
      "`--ServerApp.iopub_msg_rate_limit`.\n",
      "\n",
      "Current values:\n",
      "ServerApp.iopub_msg_rate_limit=1000.0 (msgs/sec)\n",
      "ServerApp.rate_limit_window=3.0 (secs)\n",
      "\n"
     ]
    },
    {
     "name": "stdout",
     "output_type": "stream",
     "text": [
      "[=================---------------------------------] 35.7% 341.9/958.4MB downloaded"
     ]
    },
    {
     "name": "stderr",
     "output_type": "stream",
     "text": [
      "IOPub message rate exceeded.\n",
      "The Jupyter server will temporarily stop sending output\n",
      "to the client in order to avoid crashing it.\n",
      "To change this limit, set the config variable\n",
      "`--ServerApp.iopub_msg_rate_limit`.\n",
      "\n",
      "Current values:\n",
      "ServerApp.iopub_msg_rate_limit=1000.0 (msgs/sec)\n",
      "ServerApp.rate_limit_window=3.0 (secs)\n",
      "\n"
     ]
    },
    {
     "name": "stdout",
     "output_type": "stream",
     "text": [
      "[===================-------------------------------] 39.0% 374.0/958.4MB downloaded"
     ]
    },
    {
     "name": "stderr",
     "output_type": "stream",
     "text": [
      "IOPub message rate exceeded.\n",
      "The Jupyter server will temporarily stop sending output\n",
      "to the client in order to avoid crashing it.\n",
      "To change this limit, set the config variable\n",
      "`--ServerApp.iopub_msg_rate_limit`.\n",
      "\n",
      "Current values:\n",
      "ServerApp.iopub_msg_rate_limit=1000.0 (msgs/sec)\n",
      "ServerApp.rate_limit_window=3.0 (secs)\n",
      "\n"
     ]
    },
    {
     "name": "stdout",
     "output_type": "stream",
     "text": [
      "[=====================-----------------------------] 43.1% 413.5/958.4MB downloaded"
     ]
    },
    {
     "name": "stderr",
     "output_type": "stream",
     "text": [
      "IOPub message rate exceeded.\n",
      "The Jupyter server will temporarily stop sending output\n",
      "to the client in order to avoid crashing it.\n",
      "To change this limit, set the config variable\n",
      "`--ServerApp.iopub_msg_rate_limit`.\n",
      "\n",
      "Current values:\n",
      "ServerApp.iopub_msg_rate_limit=1000.0 (msgs/sec)\n",
      "ServerApp.rate_limit_window=3.0 (secs)\n",
      "\n"
     ]
    },
    {
     "name": "stdout",
     "output_type": "stream",
     "text": [
      "[=========================-------------------------] 50.4% 482.7/958.4MB downloaded"
     ]
    },
    {
     "name": "stderr",
     "output_type": "stream",
     "text": [
      "IOPub message rate exceeded.\n",
      "The Jupyter server will temporarily stop sending output\n",
      "to the client in order to avoid crashing it.\n",
      "To change this limit, set the config variable\n",
      "`--ServerApp.iopub_msg_rate_limit`.\n",
      "\n",
      "Current values:\n",
      "ServerApp.iopub_msg_rate_limit=1000.0 (msgs/sec)\n",
      "ServerApp.rate_limit_window=3.0 (secs)\n",
      "\n"
     ]
    },
    {
     "name": "stdout",
     "output_type": "stream",
     "text": [
      "[==========================------------------------] 53.3% 510.6/958.4MB downloaded"
     ]
    },
    {
     "name": "stderr",
     "output_type": "stream",
     "text": [
      "IOPub message rate exceeded.\n",
      "The Jupyter server will temporarily stop sending output\n",
      "to the client in order to avoid crashing it.\n",
      "To change this limit, set the config variable\n",
      "`--ServerApp.iopub_msg_rate_limit`.\n",
      "\n",
      "Current values:\n",
      "ServerApp.iopub_msg_rate_limit=1000.0 (msgs/sec)\n",
      "ServerApp.rate_limit_window=3.0 (secs)\n",
      "\n"
     ]
    },
    {
     "name": "stdout",
     "output_type": "stream",
     "text": [
      "[============================----------------------] 56.3% 539.1/958.4MB downloaded"
     ]
    },
    {
     "name": "stderr",
     "output_type": "stream",
     "text": [
      "IOPub message rate exceeded.\n",
      "The Jupyter server will temporarily stop sending output\n",
      "to the client in order to avoid crashing it.\n",
      "To change this limit, set the config variable\n",
      "`--ServerApp.iopub_msg_rate_limit`.\n",
      "\n",
      "Current values:\n",
      "ServerApp.iopub_msg_rate_limit=1000.0 (msgs/sec)\n",
      "ServerApp.rate_limit_window=3.0 (secs)\n",
      "\n"
     ]
    },
    {
     "name": "stdout",
     "output_type": "stream",
     "text": [
      "[==============================--------------------] 61.0% 585.0/958.4MB downloaded"
     ]
    },
    {
     "name": "stderr",
     "output_type": "stream",
     "text": [
      "IOPub message rate exceeded.\n",
      "The Jupyter server will temporarily stop sending output\n",
      "to the client in order to avoid crashing it.\n",
      "To change this limit, set the config variable\n",
      "`--ServerApp.iopub_msg_rate_limit`.\n",
      "\n",
      "Current values:\n",
      "ServerApp.iopub_msg_rate_limit=1000.0 (msgs/sec)\n",
      "ServerApp.rate_limit_window=3.0 (secs)\n",
      "\n"
     ]
    },
    {
     "name": "stdout",
     "output_type": "stream",
     "text": [
      "[=================================-----------------] 66.8% 640.2/958.4MB downloaded"
     ]
    },
    {
     "name": "stderr",
     "output_type": "stream",
     "text": [
      "IOPub message rate exceeded.\n",
      "The Jupyter server will temporarily stop sending output\n",
      "to the client in order to avoid crashing it.\n",
      "To change this limit, set the config variable\n",
      "`--ServerApp.iopub_msg_rate_limit`.\n",
      "\n",
      "Current values:\n",
      "ServerApp.iopub_msg_rate_limit=1000.0 (msgs/sec)\n",
      "ServerApp.rate_limit_window=3.0 (secs)\n",
      "\n"
     ]
    },
    {
     "name": "stdout",
     "output_type": "stream",
     "text": [
      "[=======================================-----------] 79.8% 764.6/958.4MB downloaded"
     ]
    },
    {
     "name": "stderr",
     "output_type": "stream",
     "text": [
      "IOPub message rate exceeded.\n",
      "The Jupyter server will temporarily stop sending output\n",
      "to the client in order to avoid crashing it.\n",
      "To change this limit, set the config variable\n",
      "`--ServerApp.iopub_msg_rate_limit`.\n",
      "\n",
      "Current values:\n",
      "ServerApp.iopub_msg_rate_limit=1000.0 (msgs/sec)\n",
      "ServerApp.rate_limit_window=3.0 (secs)\n",
      "\n"
     ]
    },
    {
     "name": "stdout",
     "output_type": "stream",
     "text": [
      "[===============================================---] 94.4% 904.3/958.4MB downloaded"
     ]
    },
    {
     "name": "stderr",
     "output_type": "stream",
     "text": [
      "IOPub message rate exceeded.\n",
      "The Jupyter server will temporarily stop sending output\n",
      "to the client in order to avoid crashing it.\n",
      "To change this limit, set the config variable\n",
      "`--ServerApp.iopub_msg_rate_limit`.\n",
      "\n",
      "Current values:\n",
      "ServerApp.iopub_msg_rate_limit=1000.0 (msgs/sec)\n",
      "ServerApp.rate_limit_window=3.0 (secs)\n",
      "\n"
     ]
    },
    {
     "name": "stdout",
     "output_type": "stream",
     "text": [
      "[==================================================] 100.0% 958.5/958.4MB downloaded\n"
     ]
    },
    {
     "data": {
      "text/plain": [
       "<Figure size 640x480 with 1 Axes>"
      ],
      "image/png": "[encoded data removed]"
     },
     "metadata": {},
     "output_type": "display_data"
    }
   ],
   "execution_count": 60
  },
  {
   "cell_type": "markdown",
   "source": [
    "In the GloVe chart, \"comet\" and \"asteroid\" were clearly the most similar, while \"galaxy\", \"star\", and \"nebula\" showed weaker connections across the board. The model struggled to meaningfully link rare terms like “nebula” and gave quite low values between unrelated space concepts.\n",
    "\n",
    "In contrast, the FastText chart showed more balanced similarity values. \"Galaxy\" and \"nebula\" were now more strongly connected (0.67), and \"planet\" had high similarity with \"galaxy\" (0.69) and \"asteroid\" (0.61). Probably this caused by bigger amount of training data and bigger size of the vocab which used by FastText model. \"glove-wiki-gigaword-100\" model contains only 400 000 records and 6B tokens while \"fasttext-wiki-news-subwords-300\" uses 999 999 records and 16B of tokens"
   ],
   "metadata": {
    "collapsed": false
   }
  },
  {
   "cell_type": "code",
   "source": [
    "words_urban = ['city', 'town', 'village', 'country', 'metropolis', 'suburb']\n",
    "sim_animals = np.array([[fasttext.similarity(a, b) for b in words_urban]\n",
    "                        for a in words_urban])\n",
    "plot_similarity_matrix(sim_animals, words_urban)"
   ],
   "metadata": {
    "collapsed": false,
    "ExecuteTime": {
     "end_time": "2025-04-22T19:12:29.319578Z",
     "start_time": "2025-04-22T19:12:28.497500Z"
    }
   },
   "outputs": [
    {
     "data": {
      "text/plain": [
       "<Figure size 640x480 with 1 Axes>"
      ],
      "image/png": "[encoded data removed]"
     },
     "metadata": {},
     "output_type": "display_data"
    }
   ],
   "execution_count": 61
  },
  {
   "cell_type": "markdown",
   "source": [
    "In the GloVe chart, the strongest similarities were between \"village\", \"town\", and \"city\". \"Suburb\" was well connected to \"city\" but more distant from \"country\". \"Metropolis\" didn’t score highly with any other word, even though it should be similar to \"city\".\n",
    "\n",
    "FastText fixed this. It showed a clear connection between \"city\" and \"metropolis\" (0.74), and overall lifted the lower scores for \"country\" and \"suburb\", placing them more logically within the space. The connections between \"town\" and \"village\" remained strong, but the whole map became more semantically rich. Analogically with previous comparison, the difference may be caused by bigger corpus that is used by FastText model"
   ],
   "metadata": {
    "collapsed": false
   }
  },
  {
   "cell_type": "code",
   "source": [
    "words_cuisine = ['pizza', 'sushi', 'taco', 'curry', 'pasta', 'burger']\n",
    "sim_cuisines = np.array([[fasttext.similarity(a, b) for b in words_urban]\n",
    "                        for a in words_urban])\n",
    "plot_similarity_matrix(sim_cuisines, words_cuisine)"
   ],
   "metadata": {
    "collapsed": false,
    "ExecuteTime": {
     "end_time": "2025-04-22T19:12:29.618991Z",
     "start_time": "2025-04-22T19:12:29.477068Z"
    }
   },
   "outputs": [
    {
     "data": {
      "text/plain": [
       "<Figure size 640x480 with 1 Axes>"
      ],
      "image/png": "[encoded data removed]"
     },
     "metadata": {},
     "output_type": "display_data"
    }
   ],
   "execution_count": 62
  },
  {
   "cell_type": "markdown",
   "source": [
    "In GloVe, \"pizza\", \"burger\", and \"pasta\" had good connections, but \"curry\" and \"sushi\" were very poorly connected to the rest, especially \"curry\" (as low as 0.25 with sushi).\n",
    "\n",
    "When we use the FastText, \"Pizza\", \"sushi\", and \"taco\" all have an extremely high similarity scores (over 0.80). Even \"curry\" became far more connected to the group (around 0.50 with most). This shows that FastText understands these words better because of the mentioned reasons"
   ],
   "metadata": {
    "collapsed": false
   }
  },
  {
   "cell_type": "markdown",
   "metadata": {
    "collapsed": false,
    "pycharm": {
     "name": "#%% md\n"
    }
   },
   "source": [
    "## 5. Sentence Embeddings by Averaging Word Embeddings\n",
    "\n",
    "Word embeddings are a powerful model for representing words and their meaning (in terms of distributional similarity). As we discussed in class, we can use them in a wide variety of tasks with more complex architectures. Word vectors offer a dense vector for each word. What if we wanted to represent a sentence (or a document) based on word vectors. How can we do that?\n",
    "\n",
    "In the course, we will see different architectures that take into account the sequence of words (by combining their vectors). A first naive but simple and sometimes (as we are going to see) quite effective approach would be to represent a sentence with an embedding vector that is the average of the word vectors that form the sentence.\n",
    "\n",
    "So formally, this is what we are aiming for:\n",
    "\n",
    "$\n",
    "\\text{Sentence_Embedding} = \\frac{1}{N} \\sum_{i=1}^{N} \\text{Word_Embedding}_i\n",
    "$\n",
    "\n",
    "where:\n",
    "* $N$ is the number of words in a sentence\n",
    "* $\\text{Word_Embedding}_i$ is the word vector for the $i$-th in the sentence.\n",
    "\n",
    "Things to note:\n",
    "* The embedding vector for the sentence will obviously have the same dimension as the word embedding.\n",
    "* This representation ignores the word order (like bag-of-words). During the course we will see how we can overcome this limitation by using sequence models."
   ]
  },
  {
   "cell_type": "markdown",
   "metadata": {
    "collapsed": false,
    "pycharm": {
     "name": "#%% md\n"
    }
   },
   "source": [
    "<a name='e12'></a>\n",
    "### Exercise 12: Sentence Embedding\n",
    "\n",
    "(10p) Complete the function below that takes as input the sentence in the form of tokens (so it's a list of words) and calculates the sentence embedding vector. First, we would need to retrieve the word embeddings for each word from our loaded model and then average the vectors.\n",
    "\n",
    "Note: There can be cases where all tokens from a sentence are out-of-vocabulary words (OOV). Think what to do in this case and make sure to discuss it in the report."
   ]
  },
  {
   "cell_type": "code",
   "metadata": {
    "collapsed": false,
    "pycharm": {
     "name": "#%%\n"
    },
    "ExecuteTime": {
     "end_time": "2025-04-22T19:12:29.626330Z",
     "start_time": "2025-04-22T19:12:29.623646Z"
    }
   },
   "source": [
    "# def embed_sentence_word_model(tokens, model):\n",
    "#     \"\"\"\n",
    "#     Calculates the sentence embedding by averaging the embeddings of the tokens\n",
    "#     Args:\n",
    "#         tokens: a list of words from the sentence\n",
    "#         model: a trained word embeddings model\n",
    "# \n",
    "#     Returns: a numpy array of the sentence embedding\n",
    "# \n",
    "#     \"\"\"\n",
    "#     #### YOUR CODE HERE\n",
    "#     #### CAUTION: be sure to cover the case where all tokens are out-of-vocabulary!!!\n",
    "#     # Here we want to collect the embeddings for tokens present in the model's vocabulary\n",
    "#     embeddings = []\n",
    "#     for token in tokens:\n",
    "#         # check if there is such token in the vocabulary\n",
    "#         if token in model:\n",
    "#             embeddings.append(model[token])\n",
    "# \n",
    "#     if embeddings:\n",
    "#         # If at least one token embedding was found, return their mean\n",
    "#         return np.mean(embeddings, axis=0)\n",
    "#     else:\n",
    "#         # If A\\all tokens are out-of-vocabulary, return a zero vector of the appropriate dimension\n",
    "#         D = model.vector_size if hasattr(model, 'vector_size') else model.vectors.shape[1]\n",
    "#         return np.zeros(D)\n",
    "#     ### YOUR CODE ENDS HERE"
   ],
   "outputs": [],
   "execution_count": 63
  },
  {
   "cell_type": "code",
   "source": [
    "def embed_sentence_word_model(tokens, model):\n",
    "    \"\"\"\n",
    "    Calculates the sentence embedding by averaging the embeddings of the tokens\n",
    "    Args:\n",
    "        tokens: a list of words from the sentence\n",
    "        model: a trained word embeddings model\n",
    "\n",
    "    Returns: a numpy array of the sentence embedding\n",
    "\n",
    "    \"\"\" \n",
    "    if tokens is None or len(tokens) == 0:\n",
    "        return np.zeros(model.vector_size, dtype=np.float32)\n",
    "    embeddings = []\n",
    "    for token in tokens:\n",
    "        if token in model:\n",
    "            vector = model[token]\n",
    "            if isinstance(vector, np.ndarray):\n",
    "                embeddings.append(vector)\n",
    "                \n",
    "    if len(embeddings) == 0:\n",
    "        return np.zeros(model.vector_size, dtype=np.float32)\n",
    "    \n",
    "    return np.mean(embeddings,axis=0).astype(np.float32)\n",
    "    \n",
    "    "
   ],
   "metadata": {
    "collapsed": false,
    "ExecuteTime": {
     "end_time": "2025-04-22T19:12:30.080759Z",
     "start_time": "2025-04-22T19:12:30.076550Z"
    }
   },
   "outputs": [],
   "execution_count": 65
  },
  {
   "cell_type": "markdown",
   "metadata": {
    "collapsed": false,
    "pycharm": {
     "name": "#%% md\n"
    }
   },
   "source": [
    "Now we can apply the function to the whole dataset. Here we do it both for the sentence and the compressed version. You should know it by now, but this operation might take some time. The next cells will apply your function to the whole dataset."
   ]
  },
  {
   "cell_type": "code",
   "source": [
    "# original code\n",
    "def embed_sentence_word_model_dataset(example, model):\n",
    "    \"\"\"\n",
    "    Embeds the sentence and the compressed sentence in the example from the Dataset\n",
    "    Args:\n",
    "        example: an example from the Dataset\n",
    "        model: a trained word embeddings model\n",
    "\n",
    "    Returns: updated example with 'sentence_embedding' and 'compressed_embedding' columns\n",
    "\n",
    "    \"\"\"\n",
    "    sentence_tokens = example['sentence_tokens']\n",
    "    clean_compressed = example['clean_compressed']\n",
    "    compressed_tokens = tokenize(clean_compressed)\n",
    "\n",
    "    sentence_embedding = embed_sentence_word_model(sentence_tokens, model).astype(np.float32)\n",
    "    compressed_embedding = embed_sentence_word_model(compressed_tokens, model).astype(np.float32)\n",
    "\n",
    "    example['sentence_embedding'] = sentence_embedding\n",
    "    example['compressed_embedding'] = compressed_embedding\n",
    "    return example"
   ],
   "metadata": {
    "collapsed": false,
    "ExecuteTime": {
     "end_time": "2025-04-22T19:12:30.095800Z",
     "start_time": "2025-04-22T19:12:30.091835Z"
    }
   },
   "outputs": [],
   "execution_count": 66
  },
  {
   "cell_type": "code",
   "metadata": {
    "collapsed": false,
    "pycharm": {
     "name": "#%%\n"
    },
    "ExecuteTime": {
     "end_time": "2025-04-22T19:12:30.402472Z",
     "start_time": "2025-04-22T19:12:30.398982Z"
    }
   },
   "source": [
    "# def embed_sentence_word_model_dataset(example, model):\n",
    "#     \"\"\"\n",
    "#     Embeds the sentence and the compressed sentence in the example from the Dataset\n",
    "#     Args:\n",
    "#         example: an example from the Dataset\n",
    "#         model: a trained word embeddings model\n",
    "# \n",
    "#     Returns: updated example with 'sentence_embedding' and 'compressed_embedding' columns\n",
    "# \n",
    "#     \"\"\"\n",
    "#     # example['sentence_tokens'] = example.get('sentence_tokens') or \"\"\n",
    "#     # example['clean_compressed']   = example.get('clean_compressed')   or \"\"\n",
    "#     sentence_tokens = example['sentence_tokens']\n",
    "#     clean_compressed = example['clean_compressed']\n",
    "#     compressed_tokens = tokenize(clean_compressed)\n",
    "#     # here we try to remove all null values as they cause errors during mapping\n",
    "#     example['compressed_tokens'] = example.get('compressed_tokens') or \"\"\n",
    "#     example['clean_sentence']   = example.get('clean_sentence')   or \"\"\n",
    "# \n",
    "#     # added .astype(np.float32) because next cell were giving the error because somewhere were Double values\n",
    "#     sentence_embedding = embed_sentence_word_model(sentence_tokens, model).astype(np.float32)\n",
    "#     compressed_embedding = embed_sentence_word_model(compressed_tokens, model).astype(np.float32)\n",
    "# \n",
    "#     example['sentence_embedding'] = sentence_embedding\n",
    "#     example['compressed_embedding'] = compressed_embedding\n",
    "#     # Added this to avoid nulls\n",
    "#     # example['clean_compressed'] = example.get('clean_compressed') or \"\"\n",
    "#     return example"
   ],
   "outputs": [],
   "execution_count": 67
  },
  {
   "cell_type": "code",
   "source": [
    "# def embed_sentence_word_model_dataset(example, model):\n",
    "#     \"\"\"\n",
    "#     Embeds the sentence and the compressed sentence in the example from the Dataset\n",
    "#     Args:\n",
    "#         example: an example from the Dataset\n",
    "#         model: a trained word embeddings model\n",
    "# \n",
    "#     Returns: updated example with 'sentence_embedding' and 'compressed_embedding' columns\n",
    "# \n",
    "#     \"\"\"\n",
    "#     sentence_tokens = example['sentence_tokens']\n",
    "#     clean_compressed = example['clean_compressed']\n",
    "#     compressed_tokens = tokenize(clean_compressed)\n",
    "# \n",
    "#     sentence_embedding = embed_sentence_word_model(sentence_tokens, model)\n",
    "#     compressed_embedding = embed_sentence_word_model(compressed_tokens, model)\n",
    "# \n",
    "#     example['sentence_embedding'] = sentence_embedding\n",
    "#     example['compressed_embedding'] = compressed_embedding\n",
    "#     return example"
   ],
   "metadata": {
    "collapsed": false,
    "ExecuteTime": {
     "end_time": "2025-04-22T19:12:30.417272Z",
     "start_time": "2025-04-22T19:12:30.414272Z"
    }
   },
   "outputs": [],
   "execution_count": 68
  },
  {
   "cell_type": "code",
   "source": [
    "# print(test_ds['clean_compressed'][15999])\n",
    "# print(test_ds['compressed_tokens'][15999])\n",
    "# print(np.nonzero(test_ds['sentence_bow'][15999]))\n",
    "# print(test_ds['compressed_bow'][15999])\n",
    "# test_ds[15999]\n",
    "test_ds.features"
   ],
   "metadata": {
    "collapsed": false,
    "ExecuteTime": {
     "end_time": "2025-04-22T19:12:30.570842Z",
     "start_time": "2025-04-22T19:12:30.565861Z"
    }
   },
   "outputs": [
    {
     "data": {
      "text/plain": [
       "{'set': Sequence(feature=Value(dtype='string', id=None), length=-1, id=None),\n",
       " 'clean_sentence': Value(dtype='string', id=None),\n",
       " 'clean_compressed': Value(dtype='string', id=None),\n",
       " 'sentence_tokens': Sequence(feature=Value(dtype='string', id=None), length=-1, id=None),\n",
       " 'compressed_tokens': Sequence(feature=Value(dtype='string', id=None), length=-1, id=None),\n",
       " 'sentence_bow': Sequence(feature=Value(dtype='int64', id=None), length=-1, id=None),\n",
       " 'compressed_bow': Sequence(feature=Value(dtype='int64', id=None), length=-1, id=None)}"
      ]
     },
     "execution_count": 69,
     "metadata": {},
     "output_type": "execute_result"
    }
   ],
   "execution_count": 69
  },
  {
   "cell_type": "code",
   "source": [
    "test_ds.features"
   ],
   "metadata": {
    "collapsed": false,
    "ExecuteTime": {
     "end_time": "2025-04-22T19:12:30.738812Z",
     "start_time": "2025-04-22T19:12:30.733523Z"
    }
   },
   "outputs": [
    {
     "data": {
      "text/plain": [
       "{'set': Sequence(feature=Value(dtype='string', id=None), length=-1, id=None),\n",
       " 'clean_sentence': Value(dtype='string', id=None),\n",
       " 'clean_compressed': Value(dtype='string', id=None),\n",
       " 'sentence_tokens': Sequence(feature=Value(dtype='string', id=None), length=-1, id=None),\n",
       " 'compressed_tokens': Sequence(feature=Value(dtype='string', id=None), length=-1, id=None),\n",
       " 'sentence_bow': Sequence(feature=Value(dtype='int64', id=None), length=-1, id=None),\n",
       " 'compressed_bow': Sequence(feature=Value(dtype='int64', id=None), length=-1, id=None)}"
      ]
     },
     "execution_count": 70,
     "metadata": {},
     "output_type": "execute_result"
    }
   ],
   "execution_count": 70
  },
  {
   "cell_type": "code",
   "metadata": {
    "collapsed": false,
    "pycharm": {
     "name": "#%%\n"
    },
    "ExecuteTime": {
     "end_time": "2025-04-22T19:12:51.221438Z",
     "start_time": "2025-04-22T19:12:51.216932Z"
    }
   },
   "source": [
    "# test_ds = test_ds.map(embed_sentence_word_model_dataset, fn_kwargs={'model': glove_model})\n",
    "# print(test_ds)"
   ],
   "outputs": [],
   "execution_count": 72
  },
  {
   "cell_type": "code",
   "source": [
    "# because the map function was giving errors (for example:\n",
    "# \"ArrowInvalid: arrays to be concatenated must be identically typed, but string and null were encountered.\")\n",
    "# we decided to find out another way to go through each element and count embeddings, so we decided to do it iteratively. We used tqdm which is mentioned in the calculate_recall function further.\n",
    "# ChatGPT: \"what is tqdm and how to reformat dataset into it?\"\n",
    "\n",
    "from tqdm import tqdm\n",
    "sentence_embeddings = []\n",
    "compressed_embeddings = []\n",
    "test_ds = test_ds.with_format('np', columns=['sentence_tokens', 'compressed_tokens', 'sentence_bow', 'compressed_bow', 'clean_sentence', 'clean_compressed'], dtype=float)\n",
    "\n",
    "for example in tqdm(test_ds):\n",
    "    # Here is a code from embed_sentence_word_model_dataset(example, model) function. We replaced it into the \n",
    "    sentence_tokens = example['sentence_tokens']\n",
    "    clean_compressed = example['clean_compressed']\n",
    "    compressed_tokens = tokenize(clean_compressed)\n",
    "    \n",
    "    sentence_emb_temp = embed_sentence_word_model(sentence_tokens, glove_model)\n",
    "    compressed_emb_temp = embed_sentence_word_model(compressed_tokens, glove_model)\n",
    "    \n",
    "    sentence_embeddings.append(sentence_emb_temp)\n",
    "    compressed_embeddings.append(compressed_emb_temp)\n",
    "    \n",
    "    \n",
    "test_ds = test_ds.add_column(\"sentence_embedding\", sentence_embeddings)\n",
    "test_ds = test_ds.add_column(\"compressed_embedding\", compressed_embeddings)\n"
   ],
   "metadata": {
    "collapsed": false,
    "ExecuteTime": {
     "end_time": "2025-04-22T19:13:52.761620Z",
     "start_time": "2025-04-22T19:12:54.725668Z"
    }
   },
   "outputs": [
    {
     "name": "stderr",
     "output_type": "stream",
     "text": [
      "100%|██████████| 36000/36000 [00:54<00:00, 658.56it/s]\n"
     ]
    }
   ],
   "execution_count": 73
  },
  {
   "cell_type": "code",
   "metadata": {
    "collapsed": false,
    "pycharm": {
     "name": "#%%\n"
    },
    "ExecuteTime": {
     "end_time": "2025-04-22T19:14:08.499778Z",
     "start_time": "2025-04-22T19:14:08.454587Z"
    }
   },
   "source": [
    "for i in range(10):\n",
    "    print(test_ds[i])"
   ],
   "outputs": [
    {
     "name": "stdout",
     "output_type": "stream",
     "text": [
      "{'clean_sentence': 'VIOLENT crime rise 20000 police jobs axed savage spending cuts MPs warned today', 'clean_compressed': 'violent crime rise police jobs axed', 'sentence_tokens': array(['VIOLENT', 'crime', 'rise', '20000', 'police', 'jobs', 'axed',\n",
      "       'savage', 'spending', 'cuts', 'MPs', 'warned', 'today'],\n",
      "      dtype=object), 'compressed_tokens': array(['violent', 'crime', 'rise', 'police', 'jobs', 'axed'], dtype=object), 'sentence_bow': array([0., 0., 0., ..., 0., 0., 0.]), 'compressed_bow': array([0., 0., 0., ..., 0., 0., 0.]), 'sentence_embedding': array([ 8.83478485e-03,  4.94373590e-02,  8.58256370e-02, -2.55432725e-01,\n",
      "       -6.57166317e-02, -1.22426383e-01, -4.31689084e-01,  2.32971907e-01,\n",
      "        7.03093484e-02,  1.40097007e-01, -1.17063053e-01,  4.70172726e-02,\n",
      "       -1.07721813e-01, -1.29641548e-01, -2.72179414e-02, -1.12501733e-01,\n",
      "       -5.55500872e-02,  5.26568713e-03, -3.59338462e-01,  1.96129844e-01,\n",
      "        5.89631855e-01, -1.36483386e-01, -5.46930693e-02,  9.46592614e-02,\n",
      "       -3.33455479e-04, -3.21030945e-01,  2.66651865e-02, -2.97361553e-01,\n",
      "       -2.48681545e-01, -1.49410546e-01,  1.62370905e-01,  9.37038958e-02,\n",
      "       -3.29232574e-01, -1.13976888e-01, -1.70171455e-01,  8.26847330e-02,\n",
      "       -1.31695807e-01, -3.04568082e-01,  5.45448810e-02,  1.12066291e-01,\n",
      "       -4.24936175e-01, -1.52709350e-01, -1.07214458e-01,  2.03289211e-01,\n",
      "        8.74227360e-02,  8.33628178e-02,  2.55735040e-01, -2.69374937e-01,\n",
      "       -1.00627244e-02, -6.02141798e-01,  1.54770792e-01, -4.10057753e-01,\n",
      "       -2.25044101e-01,  8.40705514e-01, -1.20835178e-01, -1.36835814e+00,\n",
      "        9.04745460e-02, -1.28419623e-01,  1.04422998e+00,  2.85294175e-01,\n",
      "        6.29102886e-02,  2.28691801e-01, -3.60686153e-01, -3.97154123e-01,\n",
      "        3.72616768e-01, -7.41899712e-03,  1.80239737e-01,  1.20814450e-01,\n",
      "        6.46094620e-01, -5.63390963e-02,  2.21814170e-01, -2.52174526e-01,\n",
      "       -4.71507281e-01, -3.77727188e-02,  1.28159732e-01, -2.20921859e-02,\n",
      "        6.02281727e-02,  3.37226987e-01, -5.91683626e-01,  1.52588621e-01,\n",
      "        5.84399998e-01, -7.97930881e-02, -2.39144370e-01, -1.58284456e-01,\n",
      "       -9.23464537e-01, -4.96069074e-01, -2.99059171e-02, -2.20296271e-02,\n",
      "       -2.70651519e-01, -1.63541809e-01,  1.93384275e-01, -1.38030544e-01,\n",
      "       -1.37547910e-01, -4.06591743e-02, -5.62343478e-01, -3.30919176e-02,\n",
      "        1.13249108e-01,  1.71155989e-01,  4.52919960e-01, -2.04316810e-01]), 'compressed_embedding': array([ 0.31025001, -0.03086651, -0.10072666, -0.40999499, -0.09317216,\n",
      "        0.19087835, -0.46526334,  0.23108484,  0.20175934,  0.60609502,\n",
      "       -0.23430751,  0.11030332, -0.00304533, -0.03698284,  0.18672867,\n",
      "        0.02058519, -0.06375501, -0.2155249 , -0.33122   ,  0.36261299,\n",
      "        1.00501835, -0.38751498,  0.31213501, -0.00382634, -0.05109933,\n",
      "       -0.61332995,  0.18593119, -0.27252838, -0.11690116, -0.09061584,\n",
      "        0.25847867, -0.09707549, -0.34759068, -0.04531883, -0.15140332,\n",
      "       -0.158363  , -0.10101498, -0.44210485,  0.09970234,  0.13125899,\n",
      "       -0.45132002,  0.01540283, -0.02950451, -0.01482766,  0.28243169,\n",
      "        0.20784415,  0.33415571, -0.10792892,  0.10465   , -0.70782328,\n",
      "        0.09307167, -0.52609164, -0.29637167,  1.17179   , -0.05507233,\n",
      "       -1.39104331, -0.12735501, -0.00489   ,  1.29868996,  0.20437883,\n",
      "       -0.20957117,  0.46777833, -0.32137799, -0.47569203,  0.58434999,\n",
      "        0.02560767,  0.35215101, -0.06319999,  0.89686841,  0.17691334,\n",
      "        0.24514766, -0.40481997, -0.50535667, -0.12246499,  0.16205317,\n",
      "       -0.0702645 , -0.00309052,  0.25157699, -0.54991335,  0.05958982,\n",
      "        0.71443993,  0.04022433, -0.14894606, -0.16538368, -1.13018012,\n",
      "       -0.57542384, -0.09821583,  0.07192815, -0.32228997, -0.30680165,\n",
      "        0.18537199, -0.18852167, -0.19302201, -0.05362533, -0.29347801,\n",
      "       -0.0905185 ,  0.09883834,  0.14128399,  0.49454999, -0.31808016])}\n",
      "{'clean_sentence': 'canadian homebuilder mattamy homes recently acquired 100 newhome sites kelly pointe nocatee st johns county saying begin construction two model homes immediately', 'clean_compressed': 'canadian homebuilder acquires 100 sites nocatee', 'sentence_tokens': array(['canadian', 'homebuilder', 'mattamy', 'homes', 'recently',\n",
      "       'acquired', '100', 'newhome', 'sites', 'kelly', 'pointe',\n",
      "       'nocatee', 'st', 'johns', 'county', 'saying', 'begin',\n",
      "       'construction', 'two', 'model', 'homes', 'immediately'],\n",
      "      dtype=object), 'compressed_tokens': array(['canadian', 'homebuilder', 'acquires', '100', 'sites', 'nocatee'],\n",
      "      dtype=object), 'sentence_bow': array([0., 0., 0., ..., 0., 0., 0.]), 'compressed_bow': array([0., 0., 0., ..., 0., 0., 0.]), 'sentence_embedding': array([ 6.97593093e-02,  1.60880581e-01, -6.42159060e-02,  4.32666801e-02,\n",
      "        1.11974515e-01, -5.76747395e-02,  9.60821062e-02,  2.91783392e-01,\n",
      "        1.29278926e-02,  1.07558891e-01,  9.08508524e-02,  4.51445878e-02,\n",
      "        3.40475172e-01,  7.42387474e-02,  4.51615117e-02, -4.02185827e-01,\n",
      "        3.38965654e-01,  1.21188365e-01, -4.56927359e-01,  2.98387349e-01,\n",
      "        1.77953124e-01,  1.41423807e-01,  2.85789698e-01,  1.22818798e-01,\n",
      "        3.34095769e-02, -3.66345793e-01,  7.11410046e-02, -3.30781490e-01,\n",
      "       -2.62271881e-01,  1.60933524e-01,  1.01140074e-01,  1.61000103e-01,\n",
      "       -4.77100499e-02,  1.74921542e-01,  7.65368342e-02,  9.96121019e-03,\n",
      "        4.15330529e-02, -2.06573717e-02, -6.96664825e-02, -7.31408671e-02,\n",
      "       -2.32487530e-01, -2.27055192e-01, -1.47436991e-01, -1.13735661e-01,\n",
      "        2.11008146e-01,  1.35244414e-01, -1.12718403e-01, -2.30484709e-01,\n",
      "        1.76115796e-01, -4.12023932e-01, -7.17710517e-03, -1.18389271e-01,\n",
      "        5.66610545e-02,  4.42947984e-01, -8.70643780e-02, -1.71135485e+00,\n",
      "       -2.59683490e-01, -2.44743571e-01,  1.22166836e+00,  3.24036330e-01,\n",
      "       -1.21820413e-01,  3.52919698e-01,  1.11782096e-01,  1.72534004e-01,\n",
      "        3.35508913e-01,  2.09265636e-04,  1.53446853e-01,  3.76090318e-01,\n",
      "        5.00328839e-02,  1.76184297e-01, -2.77866125e-01,  4.98409793e-02,\n",
      "       -2.58626997e-01, -2.73565501e-01,  3.38197738e-01, -2.26822738e-02,\n",
      "        3.42156976e-01,  3.69778961e-01, -7.22500622e-01, -5.16283028e-02,\n",
      "        3.95070255e-01,  1.12567887e-01, -1.14793003e-01,  1.73142895e-01,\n",
      "       -6.75395787e-01, -8.10152143e-02,  1.25886992e-01, -2.51268506e-01,\n",
      "        2.04896778e-02, -6.45123646e-02,  7.54741160e-03, -2.61913210e-01,\n",
      "        1.70308501e-02,  9.31739733e-02, -7.26233065e-01,  1.49963096e-01,\n",
      "       -1.14061631e-01, -1.16955359e-02,  5.76450527e-01, -1.01445198e-01]), 'compressed_embedding': array([-4.95420098e-02,  4.85662311e-01,  3.10550004e-01,  5.01279943e-02,\n",
      "        3.53726000e-01, -1.89407989e-01, -1.98579997e-01, -2.83800602e-01,\n",
      "        7.49400863e-03,  1.64195806e-01,  2.64449984e-01,  2.49192007e-02,\n",
      "        2.72644609e-01, -3.77759993e-01, -2.59006202e-01,  1.39893983e-02,\n",
      "        2.55849421e-01, -1.45659208e-01, -3.07474613e-01,  5.80403984e-01,\n",
      "        2.85943002e-01,  1.93970799e-01,  2.11119980e-01,  9.57963914e-02,\n",
      "        1.14000437e-03, -3.58020991e-01,  4.35203373e-01, -4.97139804e-02,\n",
      "       -2.33254001e-01, -1.80420037e-02,  1.95950389e-01,  2.89851993e-01,\n",
      "       -3.22004378e-01,  2.94016421e-01,  2.08739802e-01, -8.21560025e-02,\n",
      "       -1.19055197e-01, -7.80498013e-02, -2.56592214e-01, -1.04874827e-01,\n",
      "        2.23857373e-01,  4.44234200e-02, -8.40956047e-02, -4.99820001e-02,\n",
      "        1.82849005e-01,  1.70747980e-01, -2.95056790e-01, -1.68283015e-01,\n",
      "       -6.64136037e-02, -3.47783983e-01, -8.07900447e-03,  1.19900011e-01,\n",
      "        5.42989187e-02,  7.36743957e-02, -1.24095991e-01, -9.71000373e-01,\n",
      "       -3.32254410e-01, -2.73208559e-01,  1.26417923e+00,  2.47685999e-01,\n",
      "        2.57448018e-01,  1.60513997e-01,  2.68786013e-01,  1.58749998e-01,\n",
      "        1.81996003e-01,  3.10185999e-01,  3.81319895e-02,  1.59488589e-01,\n",
      "        2.93617994e-01,  1.91146418e-01, -2.48661235e-01, -7.60853887e-02,\n",
      "       -2.16165990e-01,  1.83210000e-01,  1.41441986e-01,  2.78989971e-01,\n",
      "        3.59937966e-01, -8.48528072e-02, -6.31906390e-01, -1.01492599e-01,\n",
      "        3.73123795e-01,  3.11700050e-02, -6.35140166e-02,  3.82972002e-01,\n",
      "       -1.58184007e-01, -1.11855984e-01,  3.68195981e-01, -2.30077192e-01,\n",
      "        2.19554394e-01,  8.52599964e-02,  6.48517907e-02, -2.61699948e-02,\n",
      "        2.00065210e-01, -1.91774592e-01, -7.21793175e-01,  2.38222003e-01,\n",
      "        1.35739921e-02, -1.37273997e-01,  4.88384396e-01,  1.33448198e-01])}\n",
      "{'clean_sentence': 'sarus conservation suffered setback nests eggs chicks sighted ongoing breeding season', 'clean_compressed': 'sarus conservation suffers setback', 'sentence_tokens': array(['sarus', 'conservation', 'suffered', 'setback', 'nests', 'eggs',\n",
      "       'chicks', 'sighted', 'ongoing', 'breeding', 'season'], dtype=object), 'compressed_tokens': array(['sarus', 'conservation', 'suffers', 'setback'], dtype=object), 'sentence_bow': array([0., 0., 0., ..., 0., 0., 0.]), 'compressed_bow': array([0., 0., 0., ..., 0., 0., 0.]), 'sentence_embedding': array([-0.28217939,  0.25479662, -0.18599735, -0.25005797, -0.36291999,\n",
      "       -0.11038182,  0.26648048, -0.01303846, -0.10605927, -0.28395125,\n",
      "       -0.13919863,  0.30232689,  0.47494289, -0.06542999,  0.13144445,\n",
      "        0.01242158, -0.03971985,  0.04207546, -0.00827836,  0.1552261 ,\n",
      "       -0.09198081,  0.11728273, -0.01560699,  0.15519419,  0.28288272,\n",
      "        0.24908572, -0.2507745 , -0.04771318, -0.17865962,  0.17836773,\n",
      "       -0.26109067,  0.12329049,  0.1843739 ,  0.13557293,  0.04737482,\n",
      "       -0.1184079 , -0.22437802,  0.14076927, -0.14790301, -0.15209226,\n",
      "       -0.17943162, -0.25503084, -0.12931573,  0.12649328,  0.47247818,\n",
      "        0.03232227,  0.35655907,  0.00377482, -0.17891528, -0.38636455,\n",
      "       -0.12924817, -0.33732867, -0.14569102,  0.68745458,  0.0872139 ,\n",
      "       -0.82913154,  0.11867291, -0.39127606,  0.54651302,  0.30394316,\n",
      "       -0.290351  ,  0.50787276,  0.16879907,  0.18020691,  0.63541096,\n",
      "        0.20487775, -0.35464692, -0.24912773,  0.17215163, -0.33128583,\n",
      "       -0.1631961 , -0.1389309 , -0.22339009,  0.07319592,  0.05400993,\n",
      "       -0.0482562 , -0.33040619,  0.03351363, -0.54719728,  0.26812002,\n",
      "        0.36184335,  0.25936699, -0.17415546,  0.40030745, -0.44121364,\n",
      "       -0.25298637,  0.25575802,  0.05336677, -0.04574246,  0.23129497,\n",
      "       -0.1426291 , -0.11761612,  0.0900519 ,  0.07323409, -0.21831383,\n",
      "       -0.11814137, -0.58946359,  0.05938092,  0.40753898, -0.12701625]), 'compressed_embedding': array([-0.15159826,  0.43599325,  0.1064875 , -0.04104432, -0.01779999,\n",
      "       -0.38672701, -0.14040625,  0.0326675 ,  0.14395499, -0.30672625,\n",
      "       -0.5018425 , -0.11911625,  0.06791362, -0.29447746, -0.15276426,\n",
      "        0.16025825, -0.008985  , -0.016805  ,  0.06346001,  0.34451026,\n",
      "       -0.13599671, -0.1437425 , -0.21430901,  0.17179   ,  0.19796625,\n",
      "        0.17222326, -0.3473925 , -0.0687875 , -0.18232   , -0.07347623,\n",
      "       -0.1117055 ,  0.14057077, -0.19777249,  0.23206002, -0.15004   ,\n",
      "       -0.25000501, -0.1242225 , -0.02232875, -0.0115    ,  0.07802626,\n",
      "       -0.32790148,  0.10092423,  0.24603425, -0.0518675 ,  0.2957775 ,\n",
      "        0.08163375,  0.50313997,  0.44973502, -0.38380602, -0.03775251,\n",
      "        0.07901751, -0.25128877,  0.09416   ,  0.38027   ,  0.41659749,\n",
      "       -0.593135  ,  0.19936624, -0.29001901,  0.45561278,  0.06938501,\n",
      "       -0.00348075, -0.13989124,  0.05170025,  0.031557  ,  0.19627   ,\n",
      "        0.199368  , -0.26910251, -0.17679174,  0.15896504, -0.0973525 ,\n",
      "       -0.09029175,  0.112225  , -0.187639  ,  0.07618251,  0.44211501,\n",
      "       -0.21536675, -0.28803501,  0.22555749, -0.37962753,  0.3447375 ,\n",
      "        0.43807548, -0.0329375 , -0.0486475 ,  0.1077955 , -0.34634325,\n",
      "       -0.047635  , -0.068938  , -0.12528251, -0.24164575,  0.03165001,\n",
      "        0.31727999, -0.40435451,  0.0157325 ,  0.31142876,  0.25165749,\n",
      "        0.37007001,  0.16262001, -0.303895  ,  0.22480962, -0.22438216])}\n",
      "{'clean_sentence': \"striker aaron wilbraham returns MK dons squad faces tough task oust ali gerba roberto di matteo's starting XI tranmere\", 'clean_compressed': 'wilbraham returns dons squad', 'sentence_tokens': array(['striker', 'aaron', 'wilbraham', 'returns', 'MK', 'dons', 'squad',\n",
      "       'faces', 'tough', 'task', 'oust', 'ali', 'gerba', 'roberto', 'di',\n",
      "       'matteo', \"'s\", 'starting', 'XI', 'tranmere'], dtype=object), 'compressed_tokens': array(['wilbraham', 'returns', 'dons', 'squad'], dtype=object), 'sentence_bow': array([1., 0., 0., ..., 0., 0., 0.]), 'compressed_bow': array([0., 0., 0., ..., 0., 0., 0.]), 'sentence_embedding': array([ 0.15116522, -0.10398561,  0.02394255, -0.34744146, -0.04850639,\n",
      "        0.11429187, -0.06962261,  0.02540539, -0.33158123,  0.13846329,\n",
      "        0.28256595, -0.29300833, -0.18565264,  0.03149475,  0.07621527,\n",
      "       -0.07693914,  0.2809746 , -0.04281034, -0.15069212,  0.3013736 ,\n",
      "       -0.01124982, -0.0334795 ,  0.1653626 ,  0.26225781, -0.06627688,\n",
      "        0.15144815, -0.14960401, -0.24638993,  0.07989366,  0.043107  ,\n",
      "       -0.3303946 ,  0.14818434,  0.00889333,  0.0701609 ,  0.12583578,\n",
      "       -0.05761245, -0.16557114,  0.18478656, -0.22383039,  0.01366938,\n",
      "        0.04681797,  0.00461084,  0.64267993, -0.18244515,  0.06117021,\n",
      "        0.05680891,  0.03237538, -0.0880595 ,  0.34280619, -0.01463499,\n",
      "        0.14926867, -0.14488745, -0.24746081,  0.74514371, -0.12848711,\n",
      "       -1.26657557, -0.35095885, -0.00984101,  0.14578629,  0.32784736,\n",
      "       -0.16548242,  0.21291977, -0.12079334, -0.09137978,  0.18621948,\n",
      "       -0.12903281,  0.11225523,  0.39782271, -0.28132027, -0.01012961,\n",
      "        0.28166902,  0.11288117, -0.14460577, -0.34412649,  0.19347602,\n",
      "       -0.15525757, -0.34303504,  0.00568111, -0.13443618,  0.03084256,\n",
      "        0.57449561,  0.07941332, -0.40832588, -0.127114  , -0.42565402,\n",
      "       -0.35955054, -0.17699517,  0.27409309,  0.13472523, -0.36678505,\n",
      "       -0.02838429,  0.11353466, -0.1373366 ,  0.3366878 , -0.1501428 ,\n",
      "       -0.07705284, -0.06528159,  0.15681723, -0.03955816, -0.26184884]), 'compressed_embedding': array([ 0.12534775,  0.070989  ,  0.21921875, -0.56056499, -0.20798576,\n",
      "        0.11255001,  0.06920001,  0.2117075 , -0.5240975 , -0.05897748,\n",
      "       -0.10854324, -0.02129001, -0.2235225 ,  0.31476113,  0.1871935 ,\n",
      "       -0.0139685 ,  0.56727999,  0.08398   ,  0.1188175 ,  0.44134   ,\n",
      "       -0.23114249, -0.24178252, -0.06112187,  0.13098025, -0.19944349,\n",
      "        0.2593509 , -0.08990199, -0.03498175,  0.115325  ,  0.19367251,\n",
      "       -0.19536999,  0.1260425 , -0.38606751, -0.027516  ,  0.1720275 ,\n",
      "       -0.0656725 , -0.47158727, -0.02361403, -0.24178499,  0.03851751,\n",
      "        0.17614381, -0.18381722,  0.34904999, -0.0324825 ,  0.14323948,\n",
      "       -0.00623499,  0.30299002,  0.063043  ,  0.68789494, -0.125145  ,\n",
      "       -0.09754124, -0.19078502, -0.01016749,  0.52310252, -0.27976   ,\n",
      "       -0.96334505, -0.41018248, -0.28899351, -0.0520675 ,  0.20296749,\n",
      "       -0.31534249, -0.03331609, -0.1558325 ,  0.23176649,  0.04489125,\n",
      "       -0.18678525, -0.24225549,  0.11161249, -0.20732626,  0.0686025 ,\n",
      "        0.39664322, -0.27381974, -0.0681925 , -0.24798   ,  0.04838001,\n",
      "        0.07288199, -0.101522  , -0.32448253, -0.06987675, -0.1903155 ,\n",
      "        0.54346752,  0.69297254, -0.30061749, -0.21661501, -0.23396499,\n",
      "       -0.46032998, -0.1880675 , -0.019105  ,  0.18544999,  0.050855  ,\n",
      "       -0.26094002,  0.0134875 ,  0.28091201,  0.285382  , -0.00479998,\n",
      "       -0.20756501, -0.06417625,  0.57875252, -0.21471497, -0.04144175])}\n",
      "{'clean_sentence': 'microwave radiation emanating cellphones damage brains sense organs human beings', 'clean_compressed': 'radiation cellphones damage brains', 'sentence_tokens': array(['microwave', 'radiation', 'emanating', 'cellphones', 'damage',\n",
      "       'brains', 'sense', 'organs', 'human', 'beings'], dtype=object), 'compressed_tokens': array(['radiation', 'cellphones', 'damage', 'brains'], dtype=object), 'sentence_bow': array([0., 0., 0., ..., 0., 0., 0.]), 'compressed_bow': array([0., 0., 0., ..., 0., 0., 0.]), 'sentence_embedding': array([ 0.17385499,  0.41604701,  0.43749261, -0.2382215 ,  0.0321644 ,\n",
      "        0.14539   ,  0.0047152 , -0.28026801,  0.32898742,  0.19325027,\n",
      "       -0.21963601, -0.0080383 ,  0.52024901,  0.33866611,  0.23886712,\n",
      "       -0.20153436, -0.3067514 ,  0.47462469,  0.00596663, -0.01243022,\n",
      "       -0.1519127 , -0.2561304 ,  0.02393441, -0.2631405 ,  0.14823511,\n",
      "        0.42029899,  0.17486779,  0.06601511,  0.1081963 ,  0.171702  ,\n",
      "        0.49185738, -0.0441338 , -0.3146084 ,  0.2548295 , -0.00831501,\n",
      "       -0.29528159, -0.1826556 ,  0.35815799, -0.06804991, -0.0953712 ,\n",
      "       -0.14577779, -0.24222386, -0.50577372, -0.23342478, -0.26409179,\n",
      "        0.0259416 ,  0.3425521 ,  0.18658049, -0.31918103, -0.39544865,\n",
      "        0.45186901,  0.12665863, -0.017537  ,  0.56039882,  0.12361979,\n",
      "       -0.76844501,  0.231304  , -0.13424042,  0.73503792,  0.23581401,\n",
      "        0.11148745,  0.816589  ,  0.02863971,  0.02112359,  0.41794699,\n",
      "        0.42509085,  0.03902171, -0.32909709,  0.2769171 , -0.34117979,\n",
      "        0.15009899, -0.13603529,  0.56066906, -0.0642375 ,  0.20655699,\n",
      "       -0.05221865,  0.1609782 , -0.37879246, -0.34547797,  0.3153007 ,\n",
      "        0.48386201,  0.13702661, -0.3293606 ,  0.57012886, -1.28163505,\n",
      "        0.38686591,  0.57077461,  0.25701708, -0.24691097, -0.28180632,\n",
      "        0.1538147 , -0.0590513 ,  0.16069475, -0.02953069, -0.15807471,\n",
      "       -0.13848481, -0.21260519, -0.63734901,  0.46666652, -0.23188102]), 'compressed_embedding': array([-0.0061425 ,  0.31369501,  0.19848575, -0.3456645 , -0.3501175 ,\n",
      "       -0.06537502,  0.17184524, -0.224815  ,  0.42914751,  0.51153749,\n",
      "        0.07644749,  0.13214999,  0.30068249,  0.35947376,  0.298825  ,\n",
      "       -0.29605499, -0.34814599,  0.33602351,  0.290371  , -0.01834249,\n",
      "       -0.11099675, -0.33301997, -0.06974249,  0.12218802,  0.0287125 ,\n",
      "        0.47503248,  0.040242  ,  0.07534625,  0.133477  , -0.0228775 ,\n",
      "        0.6791625 ,  0.0027925 , -0.28267747,  0.50484502,  0.00729949,\n",
      "       -0.45485997, -0.22003999,  0.29431   , -0.1241075 ,  0.19572699,\n",
      "       -0.03444251, -0.2259175 , -0.497529  , -0.1165995 , -0.3758595 ,\n",
      "        0.24586751,  0.44679251,  0.321255  , -0.1913825 , -0.42109501,\n",
      "        0.44229501,  0.05456558, -0.08585925,  0.38838714,  0.19232501,\n",
      "       -0.71272498,  0.06535751, -0.26918375,  0.64733744,  0.24259749,\n",
      "        0.089215  ,  1.13736498,  0.114725  ,  0.1954125 ,  0.2339225 ,\n",
      "        0.71087748,  0.03480501, -0.428498  ,  0.36633998, -0.2692695 ,\n",
      "        0.0293825 , -0.02924249,  0.76096499,  0.04198249,  0.07859499,\n",
      "       -0.09493175,  0.46597749, -0.22948116, -0.25277567,  0.36576423,\n",
      "        0.94218999, -0.09460951, -0.52056473,  0.411915  , -1.28514755,\n",
      "        0.2256635 ,  0.68251902,  0.29644752, -0.52752   , -0.18178076,\n",
      "        0.18668523,  0.075775  ,  0.36789876, -0.0523425 , -0.184654  ,\n",
      "       -0.03114749, -0.08117748, -0.40321499,  0.6165725 , -0.65606999])}\n",
      "{'clean_sentence': \"spain announced cutbacks tax increases thursday aimed saving 50 billion budget next year europe's fourthlargest economy struggles avoid larger bailout neighbors\", 'clean_compressed': 'spain announces cutbacks tax increases', 'sentence_tokens': array(['spain', 'announced', 'cutbacks', 'tax', 'increases', 'thursday',\n",
      "       'aimed', 'saving', '50', 'billion', 'budget', 'next', 'year',\n",
      "       'europe', \"'s\", 'fourthlargest', 'economy', 'struggles', 'avoid',\n",
      "       'larger', 'bailout', 'neighbors'], dtype=object), 'compressed_tokens': array(['spain', 'announces', 'cutbacks', 'tax', 'increases'], dtype=object), 'sentence_bow': array([1., 0., 0., ..., 0., 0., 0.]), 'compressed_bow': array([0., 0., 0., ..., 0., 0., 0.]), 'sentence_embedding': array([ 0.02985209,  0.29740521,  0.38538951, -0.04407745,  0.14640634,\n",
      "       -0.31050679, -0.39405543,  0.16612148, -0.05603511,  0.0725458 ,\n",
      "        0.05088485,  0.11527985, -0.2459524 , -0.02114   , -0.09125165,\n",
      "       -0.25934976, -0.05717359, -0.08028273, -0.14517021,  0.08026177,\n",
      "        0.2068169 ,  0.02754329, -0.04177064,  0.43752998, -0.03648385,\n",
      "       -0.22524574, -0.22203156, -0.25334975, -0.15372312, -0.16109394,\n",
      "        0.00662953,  0.29941925, -0.17539117, -0.20055437, -0.05667667,\n",
      "        0.26691979,  0.20185648, -0.21488966, -0.29358423,  0.06042447,\n",
      "       -0.29932505, -0.45013383,  0.21027933,  0.19037867, -0.01964133,\n",
      "       -0.06985839,  0.21326126, -0.2480969 , -0.15169027, -0.69628286,\n",
      "       -0.03726657, -0.17529815, -0.01946443,  0.96478915, -0.19442943,\n",
      "       -2.03896737,  0.02461476, -0.36060032,  1.4248271 ,  0.49003819,\n",
      "        0.01362195,  0.19262153, -0.18678959, -0.08712401,  0.35032612,\n",
      "        0.08718386, -0.303644  ,  0.17612332,  0.44128141, -0.39488566,\n",
      "        0.30253121, -0.24638502, -0.53454638, -0.13563043,  0.02331105,\n",
      "        0.02603124, -0.18313968,  0.12869181, -0.93532807,  0.29082575,\n",
      "        0.62064809,  0.01107086, -0.19989309, -0.0350699 , -1.03833294,\n",
      "       -0.2703262 , -0.01324963, -0.09122272, -0.29424438, -0.37937474,\n",
      "        0.13708213,  0.09061143, -0.19833192, -0.21854632, -0.7027753 ,\n",
      "        0.20840727,  0.2237744 ,  0.05270229,  0.74726617, -0.23023579]), 'compressed_embedding': array([-0.01169   ,  0.222718  ,  0.19068941, -0.05751999,  0.28285   ,\n",
      "       -0.47973204, -0.721618  ,  0.45867196, -0.12442076,  0.1671634 ,\n",
      "       -0.0558098 ,  0.22632542, -0.53842604,  0.18380761,  0.0424026 ,\n",
      "        0.0083438 , -0.25191063,  0.04258   ,  0.08440199,  0.4840354 ,\n",
      "        0.04701   , -0.0869982 , -0.28182399,  0.82046604, -0.27170458,\n",
      "       -0.21902502, -0.09711   , -0.40002021, -0.108868  , -0.494982  ,\n",
      "       -0.050826  ,  0.3676452 , -0.21165621, -0.31373   , -0.10900161,\n",
      "        0.33886582, -0.01610965, -0.52880001, -0.40649599,  0.044831  ,\n",
      "       -0.0949112 , -0.44534001,  0.25775599,  0.206484  ,  0.0956382 ,\n",
      "       -0.2413758 ,  0.33552599, -0.1667006 , -0.08215702, -0.62662202,\n",
      "        0.18720081, -0.009084  , -0.30977303,  0.74701995, -0.27049601,\n",
      "       -1.29848194,  0.41555461, -0.38022837,  1.20678008,  0.47575203,\n",
      "        0.31943798, -0.28773397, -0.01318879, -0.25038141,  0.49291   ,\n",
      "       -0.06012481, -0.50845242, -0.168768  ,  0.51850998, -0.336638  ,\n",
      "        0.557486  , -0.31428999, -0.50575   , -0.02429961,  0.1146338 ,\n",
      "       -0.00961024,  0.14675739, -0.1534594 , -0.60845202,  0.24624197,\n",
      "        0.57328397, -0.442828  , -0.12470601, -0.22686796, -0.77650595,\n",
      "       -0.65884602,  0.02469801, -0.20497599, -0.35687399, -0.48653001,\n",
      "       -0.02820401, -0.23489198, -0.42167655, -0.2182028 , -0.68568993,\n",
      "        0.16257119,  0.457618  ,  0.0208752 ,  0.65911603, -0.56626594])}\n",
      "{'clean_sentence': \"rain eases threat vic grassfire updated 0927 tuesday february 19 2013 welcome rain reduced threat donnybrook grassfire burning melbourne's northern outskirts\", 'clean_compressed': 'rain eases threat vic grassfire', 'sentence_tokens': array(['rain', 'eases', 'threat', 'vic', 'grassfire', 'updated', '0927',\n",
      "       'tuesday', 'february', '19', '2013', 'welcome', 'rain', 'reduced',\n",
      "       'threat', 'donnybrook', 'grassfire', 'burning', 'melbourne', \"'s\",\n",
      "       'northern', 'outskirts'], dtype=object), 'compressed_tokens': array(['rain', 'eases', 'threat', 'vic', 'grassfire'], dtype=object), 'sentence_bow': array([1., 0., 0., ..., 0., 0., 0.]), 'compressed_bow': array([0., 0., 0., ..., 0., 0., 0.]), 'sentence_embedding': array([-1.45651460e-01, -8.20237324e-02,  3.59330118e-01, -1.36756569e-01,\n",
      "        1.23632319e-01,  4.35128920e-02, -1.59413666e-01,  3.53347391e-01,\n",
      "       -2.32139304e-01,  1.08018301e-01, -9.26961526e-02,  1.33169964e-02,\n",
      "        5.98056875e-02, -1.54377930e-02,  1.27832606e-01, -1.08785167e-01,\n",
      "        3.24663110e-02, -1.06199212e-01, -2.38890946e-01,  9.89988446e-02,\n",
      "        3.60625327e-01, -1.30827099e-01,  3.30380917e-01,  3.64600748e-01,\n",
      "        1.11074507e-01,  7.53578022e-02, -4.39271256e-02, -1.10834621e-01,\n",
      "        1.89353060e-02,  1.25373267e-02, -2.15802163e-01, -8.81124754e-03,\n",
      "        6.18604682e-02,  3.22520025e-02, -2.02892751e-01,  3.93697359e-02,\n",
      "        2.56352518e-02, -6.34941086e-02, -2.78533995e-01,  7.39712939e-02,\n",
      "       -4.14686233e-01, -2.35242009e-01,  1.93269789e-01, -1.03572488e-01,\n",
      "        4.91078585e-01, -3.79234664e-02,  1.26469016e-01, -2.04415277e-01,\n",
      "        2.50257194e-01, -5.36158741e-01,  9.61104184e-02, -1.01867996e-01,\n",
      "        1.34681672e-01,  6.87401593e-01, -1.49509043e-01, -1.76703227e+00,\n",
      "       -2.35028550e-01, -1.35918647e-01,  9.80588317e-01,  2.27312595e-01,\n",
      "       -1.55605450e-01,  3.93856615e-01, -3.29877049e-01,  5.52791345e-04,\n",
      "        3.08145016e-01,  7.80842900e-02, -1.51543096e-01, -4.79443148e-02,\n",
      "        1.07949637e-01, -4.06130552e-02, -4.13760059e-02, -3.12512785e-01,\n",
      "       -9.21869874e-02, -1.86934218e-01,  8.69839862e-02,  6.53593615e-02,\n",
      "        3.68669599e-01,  2.68904194e-02, -5.20639956e-01,  1.59633756e-01,\n",
      "        4.23808843e-01, -2.33189479e-01, -3.42903972e-01,  1.25874415e-01,\n",
      "       -4.99919951e-01, -1.86463520e-01,  3.02405804e-02,  6.33405671e-02,\n",
      "       -1.23247923e-02,  2.84793675e-01,  2.09074304e-01, -1.47959903e-01,\n",
      "       -2.12698206e-01,  3.63950968e-01, -4.26708132e-01,  2.43212044e-01,\n",
      "       -1.54430550e-02,  2.06909627e-01,  4.45495695e-01, -4.18617427e-02]), 'compressed_embedding': array([-0.06108499, -0.00618099,  0.59655696, -0.38981026, -0.02414775,\n",
      "       -0.23563001, -0.61131752,  0.13483   , -0.18110502, -0.15380959,\n",
      "       -0.3707675 ,  0.21131524, -0.18576074,  0.08246376,  0.16369957,\n",
      "        0.0900175 , -0.37380201, -0.14149499, -0.069525  ,  0.17592251,\n",
      "        0.19730002, -0.089392  ,  0.21077801,  0.30275178,  0.17428924,\n",
      "        0.47782001, -0.19080599, -0.45888996,  0.05103   , -0.25162959,\n",
      "       -0.39190823, -0.0283175 ,  0.0091945 ,  0.17185649, -0.40479749,\n",
      "       -0.016315  , -0.04162176, -0.36921248,  0.10299   ,  0.09148999,\n",
      "       -0.57081747, -0.12163   ,  0.0692675 , -0.07536603,  0.65480578,\n",
      "       -0.10620625,  0.17933427, -0.01376501,  0.23127002, -0.68462998,\n",
      "        0.110105  ,  0.15653142,  0.19469924,  0.55066001,  0.21991959,\n",
      "       -1.32834756,  0.0361625 ,  0.11643749,  0.41703001,  0.15158501,\n",
      "        0.20347999,  0.2096425 , -0.01583001,  0.12312001,  0.12472565,\n",
      "        0.15711501,  0.07728751, -0.35179725,  0.16440201, -0.08148901,\n",
      "        0.01250099, -0.53558254, -0.162255  , -0.05961501,  0.32157749,\n",
      "       -0.008587  ,  0.206958  , -0.0421745 , -0.2565375 ,  0.46346751,\n",
      "        0.53393227, -0.63048249, -0.60338324,  0.15349676, -0.41975248,\n",
      "        0.04904325, -0.0315005 ,  0.17192474,  0.0756975 ,  0.201575  ,\n",
      "       -0.15911001, -0.05434025, -0.27456924,  0.14977825,  0.03519501,\n",
      "        0.29233253,  0.13087499,  0.26580748,  0.16230975, -0.07581951])}\n",
      "{'clean_sentence': \"police carried random radar checks todmorden town's accident prevention council called motorists slow\", 'clean_compressed': 'police carry radar checks', 'sentence_tokens': array(['police', 'carried', 'random', 'radar', 'checks', 'todmorden',\n",
      "       'town', \"'s\", 'accident', 'prevention', 'council', 'called',\n",
      "       'motorists', 'slow'], dtype=object), 'compressed_tokens': array(['police', 'carry', 'radar', 'checks'], dtype=object), 'sentence_bow': array([1., 0., 0., ..., 0., 0., 0.]), 'compressed_bow': array([0., 0., 0., ..., 0., 0., 0.]), 'sentence_embedding': array([-0.07822291, -0.20687878,  0.03235394, -0.28115019,  0.00847763,\n",
      "        0.27656299, -0.21356486,  0.5979138 ,  0.03811862,  0.24607356,\n",
      "       -0.1154685 , -0.07724299,  0.15044212,  0.03594158,  0.19137016,\n",
      "       -0.06219164,  0.31145096, -0.10246929, -0.28580564,  0.09211314,\n",
      "        0.28273752, -0.13883899,  0.10134643, -0.23697869, -0.12955476,\n",
      "       -0.0503732 , -0.09971071, -0.02534707, -0.11173658,  0.02366892,\n",
      "       -0.05137986,  0.12362557,  0.00940865,  0.28477708,  0.01581099,\n",
      "       -0.17459317,  0.04179722, -0.08178184,  0.20480394,  0.04743186,\n",
      "       -0.42267469, -0.06682857,  0.05523642, -0.1856565 , -0.00420986,\n",
      "        0.00217178,  0.14466111, -0.12840676, -0.03434115, -0.41579294,\n",
      "        0.33738533, -0.00668415, -0.05843635,  0.82574457, -0.15363143,\n",
      "       -1.48219228, -0.1307525 , -0.05036936,  1.26454353,  0.34917921,\n",
      "        0.02538214,  0.35700673,  0.11281899,  0.1551545 ,  0.47179773,\n",
      "        0.08301585, -0.04389957,  0.05429035,  0.30234152,  0.05894479,\n",
      "       -0.21851245, -0.33976132,  0.13104852, -0.22874577,  0.32365841,\n",
      "        0.0436297 ,  0.26439399,  0.2544679 , -0.81380045, -0.16271193,\n",
      "        0.66985381,  0.14602999, -0.24329051,  0.07841921, -0.96567774,\n",
      "       -0.05743893,  0.16200757, -0.13440613, -0.28738382, -0.02864337,\n",
      "        0.06875764,  0.0377822 , -0.18916428,  0.16726151, -0.34020859,\n",
      "        0.22681235, -0.06638408, -0.01272328,  0.35730001, -0.09339408]), 'compressed_embedding': array([-0.22466201, -0.32411399, -0.06284251, -0.51585752, -0.00329274,\n",
      "        0.35953376, -0.20146   ,  0.42922747,  0.05537125,  0.82299751,\n",
      "        0.18450524,  0.06007251,  0.1589025 ,  0.43090999,  0.33130625,\n",
      "       -0.30400825,  0.55036998,  0.18391326, -0.24931251, -0.01257078,\n",
      "        0.14737751, -0.19985999, -0.12988725, -0.3734825 , -0.112904  ,\n",
      "       -0.4072465 , -0.04188749, -0.13149375,  0.12060475, -0.18242951,\n",
      "        0.08563624, -0.023435  , -0.11415875,  0.52375025,  0.41337252,\n",
      "       -0.40644473,  0.13879326, -0.53327978,  0.366505  ,  0.17223997,\n",
      "       -0.14472124, -0.33995751,  0.14262973,  0.0639175 , -0.0804975 ,\n",
      "       -0.09693   , -0.02505501, -0.31986701,  0.01876175, -0.53426254,\n",
      "        0.70538247,  0.30509251, -0.087385  ,  1.09434247,  0.02604001,\n",
      "       -1.16921246,  0.09995999, -0.07622001,  1.9087249 ,  0.26846275,\n",
      "        0.1412155 ,  0.73595244,  0.13319664,  0.4051525 ,  0.27976999,\n",
      "        0.26744753, -0.214854  ,  0.13499725,  0.29888153,  0.490255  ,\n",
      "       -0.202369  , -0.6784125 ,  0.47016001, -0.35547197,  0.26797274,\n",
      "        0.1488675 ,  0.12659974,  0.28441051, -0.77286565, -0.003816  ,\n",
      "        1.25699246, -0.17012726, -0.164969  , -0.14576   , -1.0734601 ,\n",
      "       -0.0436525 ,  0.5680365 ,  0.20455   , -0.45930001,  0.19282076,\n",
      "       -0.0760125 ,  0.08578251,  0.00441   , -0.371095  , -0.2334075 ,\n",
      "        0.32581502, -0.14691526, -0.023959  ,  0.09759501, -0.07152375])}\n",
      "{'clean_sentence': 'house approved pair budget bills tuesday including 359 million agriculture natural resources programs 418 million economic development programs', 'clean_compressed': 'house approves pair budget bills', 'sentence_tokens': array(['house', 'approved', 'pair', 'budget', 'bills', 'tuesday',\n",
      "       'including', '359', 'million', 'agriculture', 'natural',\n",
      "       'resources', 'programs', '418', 'million', 'economic',\n",
      "       'development', 'programs'], dtype=object), 'compressed_tokens': array(['house', 'approves', 'pair', 'budget', 'bills'], dtype=object), 'sentence_bow': array([0., 0., 0., ..., 0., 0., 0.]), 'compressed_bow': array([0., 0., 0., ..., 0., 0., 0.]), 'sentence_embedding': array([ 0.18469022,  0.5661025 ,  0.33702052, -0.07560878,  0.34434512,\n",
      "       -0.30984226, -0.10806138,  0.42184564, -0.2298978 ,  0.02251872,\n",
      "        0.06983154, -0.10108116, -0.03094094,  0.01872816,  0.03065833,\n",
      "       -0.26373482,  0.15222815,  0.054417  , -0.41331977,  0.12468706,\n",
      "        0.04291211, -0.01783055,  0.1536606 ,  0.25589812, -0.17148444,\n",
      "       -0.23044522,  0.10753052, -0.07751416, -0.60868365, -0.01403415,\n",
      "       -0.0210957 ,  0.35045218, -0.26646018, -0.06582978, -0.17962627,\n",
      "        0.28475657, -0.06466255,  0.03667922, -0.34537324,  0.30729046,\n",
      "       -0.18458554, -0.5155347 , -0.00540411,  0.06941348,  0.14022823,\n",
      "       -0.17034851, -0.15240285, -0.29529613, -0.41190338, -0.43703258,\n",
      "       -0.10196304, -0.18110162,  0.18485183,  0.78499895, -0.07295477,\n",
      "       -1.67439318,  0.13369372, -0.42019331,  1.4705205 ,  0.30004513,\n",
      "       -0.09810712,  0.08857577, -0.0506175 , -0.07518956,  0.40271494,\n",
      "        0.08692428,  0.09251822,  0.28333375,  0.72458446, -0.28743023,\n",
      "        0.18996011, -0.09992429, -0.25257644, -0.18710056, -0.06064593,\n",
      "        0.06916235, -0.43780962,  0.49636698, -0.93939805,  0.17217799,\n",
      "        0.44233444,  0.12732826, -0.12500677, -0.03265168, -1.10646009,\n",
      "        0.15924242,  0.29496038, -0.16171247, -0.16469218, -0.31905448,\n",
      "        0.26096964, -0.05770199, -0.17277986, -0.13524996, -0.68179059,\n",
      "        0.19462149, -0.10289916, -0.09620507,  0.840065  , -0.36109269]), 'compressed_embedding': array([-1.49998009e-01,  2.49083400e-01,  6.26902223e-01, -1.98919192e-01,\n",
      "        5.64035997e-02,  6.55959994e-02, -5.96916020e-01,  4.55608189e-01,\n",
      "       -2.06811786e-01, -8.85785967e-02,  2.17497975e-01,  7.64183998e-02,\n",
      "       -2.97596008e-01,  4.44694996e-01, -3.09848011e-01,  1.10845253e-01,\n",
      "       -9.57265943e-02,  1.90232605e-01,  7.50427991e-02, -2.35146001e-01,\n",
      "       -1.50523990e-01, -3.24397981e-01,  1.64380129e-02, -2.17351951e-02,\n",
      "       -9.34399962e-02, -2.83938795e-01, -4.90083605e-01, -5.20460010e-01,\n",
      "       -5.90656757e-01, -1.34805113e-01,  2.69753218e-01,  5.21247983e-01,\n",
      "       -3.36599983e-02, -1.56294003e-01, -4.37793918e-02,  3.01305979e-01,\n",
      "       -2.04647586e-01, -3.38578016e-01,  8.14344063e-02,  3.60502005e-01,\n",
      "        1.48203999e-01, -6.02532029e-01,  3.44965219e-01,  7.10010529e-04,\n",
      "       -1.13842405e-01, -2.71676004e-01, -5.14809966e-01, -2.23620608e-01,\n",
      "       -2.77779941e-02, -3.59643251e-01,  2.35943004e-01, -2.37584203e-01,\n",
      "        2.48694211e-01,  6.95958972e-01, -1.36627987e-01, -1.84545004e+00,\n",
      "        2.67812014e-01, -1.37674913e-01,  1.14473414e+00,  5.12185574e-01,\n",
      "       -5.13400026e-02,  7.58295879e-02,  1.23333015e-01,  1.06415987e-01,\n",
      "        5.20839989e-01, -8.95844027e-02, -3.72479483e-03,  6.94231987e-01,\n",
      "        1.75312012e-01, -4.36463773e-01,  4.16069984e-01, -2.29414627e-01,\n",
      "       -4.14269984e-01, -4.72674072e-02, -2.08565995e-01,  9.54678431e-02,\n",
      "       -6.08559251e-01,  3.37669194e-01, -8.65839005e-01, -1.26501799e-01,\n",
      "        7.88400024e-02, -9.61758122e-02,  1.86796397e-01, -4.76687998e-01,\n",
      "       -8.92399967e-01, -3.12646210e-01,  5.05096614e-01, -1.83054805e-01,\n",
      "       -5.71588092e-02, -2.21479982e-01,  3.19018185e-01,  3.71863134e-02,\n",
      "       -2.36431509e-01, -6.29400164e-02, -7.23188579e-01,  9.25903171e-02,\n",
      "        6.52900189e-02,  2.00805992e-01,  8.04757953e-01, -6.76537991e-01])}\n",
      "{'clean_sentence': 'ben carson says radio show white liberals racist', 'clean_compressed': 'ben carson says white liberals racist', 'sentence_tokens': array(['ben', 'carson', 'says', 'radio', 'show', 'white', 'liberals',\n",
      "       'racist'], dtype=object), 'compressed_tokens': array(['ben', 'carson', 'says', 'white', 'liberals', 'racist'],\n",
      "      dtype=object), 'sentence_bow': array([0., 0., 0., ..., 0., 0., 0.]), 'compressed_bow': array([0., 0., 0., ..., 0., 0., 0.]), 'sentence_embedding': array([-0.09339002, -0.12209998,  0.12257025, -0.74647999, -0.07767925,\n",
      "        0.16193199, -0.00326851,  0.07395063, -0.11237688, -0.11074498,\n",
      "       -0.16300526, -0.317121  , -0.28792003,  0.27837202,  0.32847625,\n",
      "       -0.06194237,  0.168717  , -0.21410188, -0.11939325,  0.32721636,\n",
      "        0.33028114, -0.02636875, -0.042586  , -0.44147378,  0.22642189,\n",
      "       -0.21325836,  0.1538    , -0.45720702,  0.22673438,  0.09642377,\n",
      "        0.21954036,  0.65731877,  0.05693962,  0.43501088,  0.13867211,\n",
      "        0.21654123, -0.02360775,  0.22154501, -0.07860001,  0.16708288,\n",
      "       -0.55281222, -0.1156747 , -0.10806249,  0.30680129, -0.29395923,\n",
      "       -0.290279  , -0.05023952, -0.12618548, -0.06757338, -0.58635378,\n",
      "        0.03080275, -0.07855876,  0.28339159,  0.54522002, -0.17591313,\n",
      "       -1.86406386, -0.1262805 ,  0.26631582,  0.73757255,  0.36011624,\n",
      "        0.18821219,  0.35333973, -0.05878436, -0.27737623,  0.7962988 ,\n",
      "       -0.03836913,  0.67439622,  0.38376683, -0.03020922,  0.2585946 ,\n",
      "        0.08971213, -0.07715712, -0.44407746, -0.35193384, -0.17129126,\n",
      "        0.12043786,  0.35362375,  0.26309064, -0.5523991 ,  0.09751463,\n",
      "        0.14440139, -0.25820312,  0.03823163, -0.16510314, -0.8013612 ,\n",
      "       -0.26317623, -0.13091651,  0.28419873,  0.00777249, -0.08585462,\n",
      "        0.19577874, -0.36836401, -0.043781  ,  0.22556663, -0.51967126,\n",
      "        0.02899374, -0.3698875 , -0.1856665 ,  0.24411626,  0.18972339]), 'compressed_embedding': array([-0.07377668,  0.02800502,  0.19309266, -0.82383996, -0.16236717,\n",
      "        0.20162599, -0.12914518, -0.08187917, -0.11626732, -0.09692999,\n",
      "       -0.19642033, -0.31235465, -0.34901667,  0.34794602,  0.37645999,\n",
      "        0.00234016,  0.06133265, -0.18292582, -0.22250932,  0.25156683,\n",
      "        0.40758482,  0.02494   , -0.05695117, -0.32929   ,  0.10387417,\n",
      "       -0.12634616, -0.11472166, -0.70904565,  0.07219584,  0.03022167,\n",
      "        0.33320332,  0.64778   ,  0.07708284,  0.13452785,  0.13195483,\n",
      "        0.14145835,  0.002853  ,  0.34821999, -0.02870501,  0.34877381,\n",
      "       -0.69031936, -0.22284265,  0.14317167,  0.17159502, -0.28103232,\n",
      "       -0.19656867, -0.01177999,  0.077091  , -0.15842117, -0.50065666,\n",
      "        0.18631367, -0.22014166,  0.20091717,  0.50329667, -0.27856669,\n",
      "       -1.62035167,  0.00878267,  0.30263832,  0.52288002,  0.19509999,\n",
      "        0.1444086 ,  0.26245999,  0.08657751, -0.21867664,  0.74907166,\n",
      "       -0.07513168,  0.80888504,  0.47617364, -0.07793812,  0.16276278,\n",
      "        0.0849205 , -0.02071116, -0.59409827, -0.42743847, -0.29519001,\n",
      "        0.11494615,  0.22160834,  0.24630718, -0.45444885,  0.14295633,\n",
      "        0.12126684, -0.17051117, -0.03271999, -0.19862752, -0.58229834,\n",
      "       -0.22525166, -0.11384168,  0.15399499,  0.03558832, -0.09734616,\n",
      "        0.13492167, -0.55926067, -0.08868466,  0.23000436, -0.40677166,\n",
      "        0.07705333, -0.33546832, -0.14264368, -0.00279333,  0.10925285])}\n"
     ]
    }
   ],
   "execution_count": 74
  },
  {
   "cell_type": "markdown",
   "metadata": {
    "collapsed": false,
    "pycharm": {
     "name": "#%% md\n"
    }
   },
   "source": [
    "Here you can see that the new dataset returned a single numpy array containing all sentence embeddings in our dataset. This is a lot more efficient than returning a list of arrays (which is the default behaviour). Below we check the type and the dimensionality.\n",
    "\n",
    "We will be using `text` subset from our dataset to not use too much RAM."
   ]
  },
  {
   "cell_type": "code",
   "metadata": {
    "collapsed": false,
    "pycharm": {
     "name": "#%%\n"
    },
    "ExecuteTime": {
     "end_time": "2025-04-22T19:14:10.777148Z",
     "start_time": "2025-04-22T19:14:10.647720Z"
    }
   },
   "source": [
    "sent_embedding = test_ds['sentence_embedding']\n",
    "compr_embedding = test_ds['compressed_embedding']\n",
    "print(type(sent_embedding))\n",
    "print(sent_embedding.shape)\n",
    "print(type(compr_embedding))\n",
    "print(compr_embedding.shape)"
   ],
   "outputs": [
    {
     "name": "stdout",
     "output_type": "stream",
     "text": [
      "<class 'numpy.ndarray'>\n",
      "(36000, 100)\n",
      "<class 'numpy.ndarray'>\n",
      "(36000, 100)\n"
     ]
    }
   ],
   "execution_count": 75
  },
  {
   "cell_type": "markdown",
   "metadata": {
    "collapsed": false,
    "pycharm": {
     "name": "#%% md\n"
    }
   },
   "source": [
    "Next we try the condensed representatin based on a simple query. Feel free to try different queries with different words. What happens if we have OOV words in a query?"
   ]
  },
  {
   "cell_type": "code",
   "metadata": {
    "collapsed": false,
    "pycharm": {
     "name": "#%%\n"
    },
    "ExecuteTime": {
     "end_time": "2025-04-22T19:14:12.532125Z",
     "start_time": "2025-04-22T19:14:12.525625Z"
    }
   },
   "source": [
    "query = 'fox and deer'\n",
    "print(query)\n",
    "\n",
    "query_embedding = embed_text(query, clean, tokenize, lambda x: embed_sentence_word_model(x, glove_model))\n",
    "print(query_embedding.shape)\n",
    "print(query_embedding)"
   ],
   "outputs": [
    {
     "name": "stdout",
     "output_type": "stream",
     "text": [
      "fox and deer\n",
      "(100,)\n",
      "[-0.083385   -0.63719     0.254075   -0.65408504 -0.12458149 -0.57695\n",
      "  0.1151895   0.47937998 -0.05304    -1.16922    -0.479265   -0.117604\n",
      "  0.67665505 -0.2181845   0.86132     0.46395     0.149115    0.352275\n",
      " -0.00642499  0.42123    -0.108593    0.51331     0.1666895  -0.19212\n",
      "  0.552625    0.777605   -0.17123    -0.00441501 -0.62225     0.180445\n",
      "  0.263865    0.50187397  0.22722     0.504755    0.49651998  0.29571\n",
      " -0.273479    0.186705    0.66161     0.42644    -0.10568     0.00512\n",
      " -0.715195    0.4271345  -0.19899699  0.007035    0.217155   -0.270865\n",
      " -0.20389499 -0.205845   -0.847275   -0.370445    0.102978    0.56117\n",
      " -0.4170775  -1.50664    -0.1817145   0.170645    0.528605    0.030635\n",
      "  0.0378895   0.82403004  0.55395997 -0.18147999  1.257       0.539876\n",
      "  0.069414   -0.21291    -0.002545    1.04205    -0.26154    -0.20421065\n",
      " -0.1738185  -0.096082   -0.14954099 -0.209345   -0.749255    0.131181\n",
      " -0.7742      0.45635498  0.2506     -0.2636805  -0.01942    -0.479955\n",
      " -0.233609    0.10405    -0.441785    0.35395798  0.71454     0.4964\n",
      " -0.123225   -1.070775    0.348805   -0.19064    -1.2590001  -0.74045503\n",
      " -0.618595   -0.032615    0.564905   -0.28883   ]\n"
     ]
    }
   ],
   "execution_count": 76
  },
  {
   "cell_type": "markdown",
   "metadata": {
    "collapsed": false,
    "pycharm": {
     "name": "#%% md\n"
    }
   },
   "source": [
    "<a name='e13'></a>\n",
    "### Exercise 13: Analyze sentence embeddings\n",
    "- (5p) Calculate similarity between the word embeddings representations of the selected queries and the dataset sentences.\n",
    "- (5p) Analyze the search results. Does the search work as expected? Discuss the results.\n",
    "- (5p) Compare the results with the ones you got with the bag-of-words and TF-IDF representation. Discuss the differences and similarities."
   ]
  },
  {
   "cell_type": "code",
   "metadata": {
    "collapsed": false,
    "pycharm": {
     "name": "#%%\n"
    },
    "ExecuteTime": {
     "end_time": "2025-04-22T19:14:15.963097Z",
     "start_time": "2025-04-22T19:14:14.415189Z"
    }
   },
   "source": [
    "### YOUR CODE HERE\n",
    "queries = [\n",
    "    \"fox and deer\",\n",
    "    \"three great horned owls released back\",\n",
    "    \"city skyline at sunset\",\n",
    "    \"marine life in coral reef\",\n",
    "    \"ancient ruins discovered\"\n",
    "]\n",
    "texts = test_ds['clean_sentence']\n",
    "# 2) for each query, embed it, compute cosine vs. all sentences, and print top-5\n",
    "for query in queries:\n",
    "    # clean & tokenize\n",
    "    qc = clean(query)\n",
    "    qtoks = tokenize(qc)\n",
    "    # embed by averaging GloVe word vectors\n",
    "    q_emb = embed_sentence_word_model(qtoks, glove_model)\n",
    "\n",
    "    # compute similarity to every sentence embedding\n",
    "    sims = [cosine_similarity(q_emb, sent_emb) for sent_emb in sent_embedding]\n",
    "\n",
    "    # get top-5 indices (highest cosine)\n",
    "    top5 = np.argsort(sims)[::-1][:5]\n",
    "\n",
    "    print(f\"\\nQuery: “{query}”\")\n",
    "    for rank, idx in enumerate(top5, start=1):\n",
    "        sent = texts[idx]    # direct indexing works for both pd.Series and np.ndarray\n",
    "        print(f\" {rank}. [{sims[idx]:.4f}] {sent}\")\n",
    "### YOUR CODE ENDS HERE"
   ],
   "outputs": [
    {
     "name": "stdout",
     "output_type": "stream",
     "text": [
      "\n",
      "Query: “fox and deer”\n",
      " 1. [0.6836] deer lodge man shot killed weekend hunting accident campground southeast deer lodge\n",
      " 2. [0.6721] actor kyle chandler rescued newborn deer found caught cactus patch texas ranch\n",
      " 3. [0.6708] baby squirrel adopted park ranger apparently mistaking daddy squirrel\n",
      " 4. [0.6474] officials montana fish wildlife parks say surplus nonresident big game elk combination hunting licenses sold\n",
      " 5. [0.6332] warm autumn weather asset detriment deer elk hunters seeking fill licenses season\n",
      "\n",
      "Query: “three great horned owls released back”\n",
      " 1. [0.8518] weaver probably best known 100 yard twotouchdown performance last season niners talks several teams supposedly left money table sign eagles one year 175 million\n",
      " 2. [0.8512] like blue valve released update game seen one literally years\n",
      " 3. [0.8490] reared payton kemp karl name zollie volchok might ring bells zollie volchok passed away sunday night integral part early days sonic history also played important role championship years well\n",
      " 4. [0.8466] blue devils loaded another strong season one surprised\n",
      " 5. [0.8463] arkansas held first practice full pads saturday even coaches saw razorbacks little tentative making hits\n",
      "\n",
      "Query: “city skyline at sunset”\n",
      " 1. [0.7505] fire destroyed home near eldorado woodstock east springfield city limits\n",
      " 2. [0.7446] grand style fashion tropic air inaugurated new san pedro town terminal saturday night\n",
      " 3. [0.7425] struggling crowne plaza hotel downtown hartford getting new name\n",
      " 4. [0.7383] dallas arts district continues grow reshape northern downtown dallas new dallas marriott city center introduces centric latest addition restaurant scene hotspot within walking distance ATt performing arts center meyerson symphony center dallas museum art\n",
      " 5. [0.7257] latitudes 35 w church street downtown orlando giving away pallet corona corona light weekend\n",
      "\n",
      "Query: “marine life in coral reef”\n",
      " 1. [0.7767] sea turtles followed marine biologists learn protect threatened endangered species\n",
      " 2. [0.7404] beach jekyll island 100 sea turtle nests year\n",
      " 3. [0.7254] seems one go instance fish help coral reefs recover cyclones predators\n",
      " 4. [0.7179] diver swims alonside manta ray photographed near san benedicto islands pacific ocean\n",
      " 5. [0.7112] officials marine mammal stranding center confirmed adult male harp seal found along delaware river shore elsinboro township tuesday\n",
      "\n",
      "Query: “ancient ruins discovered”\n",
      " 1. [0.8391] ancient roman ship discovered italy\n",
      " 2. [0.7787] archeologists unearthed 57 ancient egyptian tombs hold ornately painted wooden sarcophagus mummy inside egypt's supreme council antiquities said sunday\n",
      " 3. [0.7581] team archaeologists discovered tomb bulgarian princess northern bulgarian town veliko turnovo bulgarias medieval capital\n",
      " 4. [0.7535] ancient buddhist statue nazi expedition brought back tibet shortly world war two carved meteorite crashed earth thousands years ago\n",
      " 5. [0.7273] artefacts found archeological dig peakirk earlier year featured film\n"
     ]
    }
   ],
   "execution_count": 77
  },
  {
   "metadata": {},
   "cell_type": "markdown",
   "source": [
    "Query: “fox and deer”: the results are showing only sentences with 'deer' word, except the fifth sentence which does not contain any words from a query.\n",
    "\n",
    "Query: “three great horned owls released back”: the results are almost all unrelated to wildlife rescue: a quarterback anecdote, sharks, and various sports‐team stories. So, rare or multi‑word expressions (“great horned owls”) get lost in the average\n",
    "\n",
    "Query: “city skyline at sunset”. The results shows that model connect city with \"London\", addresses and words that correlated with \"city\": \"downtown\", \"promenade\". But no one result contain \"sunset\" or words correlated with it.\n",
    "\n",
    "Query: “marine life in coral reef”. In the result all terms appeared, embedding averages do a great job pulling relevant sentences. All sentences are connected to sea-relative field.\n",
    "\n",
    "\n",
    "Query: “ancient ruins discovered”. The results shows us the mentions “ancient” + an archaeological discovery (“pyramid tomb,” “burial site,” “Peruvian tomb,” etc. We suppose that it is happens because each keyword is common enough in your data, embeddings give us both precision."
   ]
  },
  {
   "cell_type": "markdown",
   "metadata": {
    "id": "ZY2jouFmeHOg",
    "pycharm": {
     "name": "#%% md\n"
    }
   },
   "source": [
    "## 6. Evaluating Retrieval\n",
    "\n",
    "In this last section we will try to evaluate how good our sentence retrieval system is. To keep the computational resources manageable, we will use the test set for that as its size is more manageable.\n",
    "\n",
    "Recall from the lecture in IR that there are several metrics to evaluate retrieval performance by taking into account the relevance of the retrieved results to the query. We will use Recall@K here (for more metrics and more details refer to the lecture slides and the textbooks).\n",
    "\n",
    "RRecall@K is a metric used to measure the effectiveness of a search system in retrieving relevant documents within the top $K$ retrieved documents. It calculates the proportion of relevant documents retrieved within the top-$K$ results, compared to the total number of relevant documents in the collection.\n",
    "\n",
    "$\n",
    "\\text{Recall@K} = \\frac{\\text{Number of relevant documents retrieved in the top }-K}{\\text{Total number of relevant documents}}\n",
    "$\n",
    "\n",
    "In our case, we have a sentence, and it's compressed version. To test our system, we will treat compressed sentences as the queries. Each query will have only a single relevant sentence - the corresponding uncompressed sentence.\n",
    "\n",
    "Therefore, for the calculation of Recall@K we will take into account whether the correct retrieved result is contained within the first $K$ retrieved results. For example, if for a query (i.e. a compressed sentence) we retrieve 10 results and within these we see the relevant one (i.e. the full sentence), then Recall@10 = 1."
   ]
  },
  {
   "cell_type": "markdown",
   "metadata": {
    "id": "QUKPtG-uem9f",
    "pycharm": {
     "name": "#%% md\n"
    }
   },
   "source": [
    "<a name='e14'></a>\n",
    "### Exercise 14: Cosine similarity between two sets of vectors\n",
    "\n",
    "(3p) In this exercise you will revisit your implementation of the cosine similarity. Generalize it so that it can accept two arrays containing two sets of vectors (first one containing $M$ vectors and the second one $N$ vectors). Compute the cosine similarity between each pair of vectors coming from the two sets. The result should be an array of size $M x N$.\n",
    "\n",
    "Once again, try to write an efficient code. This means no loops. Remember the relation between matrix multiplication and dot product. (Depending on your implementation of the previous function calculating cosine similarity, this one can be almost the same)"
   ]
  },
  {
   "cell_type": "code",
   "metadata": {
    "id": "xKiHDrN9eld7",
    "pycharm": {
     "name": "#%%\n"
    },
    "ExecuteTime": {
     "end_time": "2025-04-22T19:14:33.798010Z",
     "start_time": "2025-04-22T19:14:33.792405Z"
    }
   },
   "source": [
    "def cosine_similarity_m_to_n(vectors, other_vectors):\n",
    "    \"\"\"\n",
    "    Calculates the cosine similarity between a multiple vectors and other vectors.\n",
    "    Args:\n",
    "        vectors: a numpy array representing M number of vectors of D dimensions (of the size MxD)\n",
    "        other_vectors: a 2D numpy array representing other vectors (of the size NxD, where N is the number of vectors and D is their dimension)\n",
    "\n",
    "    Returns: a numpy array of cosine similarity between all the vectors and all the other vectors\n",
    "\n",
    "    \"\"\"\n",
    "\n",
    "    #### YOUR CODE HERE\n",
    "    # Here we compute L2 norms for each set of vectors\n",
    "    vec_norms = np.linalg.norm(vectors, axis=1, keepdims=True)\n",
    "    other_norms = np.linalg.norm(other_vectors, axis=1, keepdims=True)\n",
    "\n",
    "    # to avoid division by zero we replaced zeros with ones\n",
    "    vec_norms[vec_norms == 0] = 1\n",
    "    other_norms[other_norms == 0] = 1\n",
    "\n",
    "    # Normalize the vectors\n",
    "    normed_vectors = vectors / vec_norms\n",
    "    normed_other = other_vectors / other_norms\n",
    "\n",
    "    # Compute cosine similarity matrix: (M x D) dot (D x N) -> M x N\n",
    "    similarity_matrix = np.dot(normed_vectors, normed_other.T)\n",
    "    return similarity_matrix\n",
    "    ### YOUR CODE ENDS HERE"
   ],
   "outputs": [],
   "execution_count": 78
  },
  {
   "cell_type": "markdown",
   "metadata": {
    "id": "qQ-Yhl1Sgoka",
    "pycharm": {
     "name": "#%% md\n"
    }
   },
   "source": [
    "The following function will use your implementation to calculate Recall@K based on the similarity matrix."
   ]
  },
  {
   "cell_type": "code",
   "metadata": {
    "id": "z0sLS3uRCfdh",
    "pycharm": {
     "name": "#%%\n"
    },
    "ExecuteTime": {
     "end_time": "2025-04-22T19:14:38.873865Z",
     "start_time": "2025-04-22T19:14:38.869039Z"
    }
   },
   "source": [
    "def calculate_recall(queries, sentences, k, batch_size=1000):\n",
    "    \"\"\"\n",
    "    Calculates recall@k given the embeddings of the queries and sentences.\n",
    "    Assumes that only a single sentence with the same index as query is relevant.\n",
    "    Batching is implemented to avoid high memory usage.\n",
    "    Args:\n",
    "        queries: a numpy array with the embeddings of N queries\n",
    "        sentences: a numpy array with the embeddings of N sentences available for retrieval\n",
    "        k: number of top results to search for the relevant sentence\n",
    "        batch_size: number of queries to process at a time\n",
    "\n",
    "    Returns: calculated recall@k\n",
    "\n",
    "    \"\"\"\n",
    "    n_queries = queries.shape[0]\n",
    "    correct = np.zeros(n_queries, dtype=bool)\n",
    "\n",
    "    with tqdm(total=n_queries) as pbar:\n",
    "        for batch_start in range(0, n_queries, batch_size):\n",
    "            batch_end = min(batch_start + batch_size, n_queries)\n",
    "            queries_batch = queries[batch_start:batch_end]\n",
    "            batch_similarity = cosine_similarity_m_to_n(queries_batch, sentences)\n",
    "\n",
    "            for i, similarity_row in enumerate(batch_similarity):\n",
    "                query_index = batch_start + i\n",
    "                top_k = top_k_indices(similarity_row, k=k, sorted=False)\n",
    "\n",
    "                if query_index in top_k:\n",
    "                    correct[query_index] = True\n",
    "\n",
    "                pbar.update(1)\n",
    "\n",
    "    recall = np.sum(correct) / n_queries\n",
    "    return recall"
   ],
   "outputs": [],
   "execution_count": 79
  },
  {
   "cell_type": "markdown",
   "metadata": {
    "id": "3QgAgMiDgw8m",
    "pycharm": {
     "name": "#%% md\n"
    }
   },
   "source": [
    "You can use it like so:"
   ]
  },
  {
   "cell_type": "code",
   "metadata": {
    "id": "Yxpex7ZxHM7c",
    "pycharm": {
     "name": "#%%\n"
    },
    "ExecuteTime": {
     "end_time": "2025-04-22T19:14:54.185857Z",
     "start_time": "2025-04-22T19:14:42.088910Z"
    }
   },
   "source": [
    "recall_at_1 = calculate_recall(compr_embedding, sent_embedding, k=1, batch_size=1000)\n",
    "print(f'\\n{recall_at_1 * 100:.2f}%')"
   ],
   "outputs": [
    {
     "name": "stderr",
     "output_type": "stream",
     "text": [
      "100%|██████████| 36000/36000 [00:12<00:00, 2981.88it/s]"
     ]
    },
    {
     "name": "stdout",
     "output_type": "stream",
     "text": [
      "\n",
      "61.41%\n"
     ]
    },
    {
     "name": "stderr",
     "output_type": "stream",
     "text": [
      "\n"
     ]
    }
   ],
   "execution_count": 80
  },
  {
   "cell_type": "markdown",
   "metadata": {
    "id": "zY5ZVq5ogzMI",
    "pycharm": {
     "name": "#%% md\n"
    }
   },
   "source": [
    "<a name='e15'></a>\n",
    "### Exercise 15: Evaluating retrieval methods\n",
    "\n",
    "(10p) Calculate recall for different values of $K$ for all methods:\n",
    "- BOW,\n",
    "- TF-IDF,\n",
    "- Pre-trained embeddings.\n",
    "\n",
    "Discuss the results.\n",
    "Comment on how recall changes based on the value of $K$. Are the results expected or surprising?"
   ]
  },
  {
   "cell_type": "code",
   "execution_count": null,
   "metadata": {
    "collapsed": false,
    "pycharm": {
     "name": "#%%\n"
    },
    "ExecuteTime": {
     "end_time": "2025-04-22T19:12:50.982535Z",
     "start_time": "2025-04-22T15:50:34.678457Z"
    }
   },
   "outputs": [],
   "source": [
    "#### YOUR CODE HERE\n",
    "\n",
    "\n",
    "\n",
    "### YOUR CODE ENDS HERE"
   ]
  },
  {
   "cell_type": "markdown",
   "metadata": {
    "collapsed": false,
    "pycharm": {
     "name": "#%% md\n"
    }
   },
   "source": [
    "<a name='e16'></a>\n",
    "### Exercise 16: Improving retrieval\n",
    "\n",
    "(10p) Imagine that you work at a company and are tasked with delivering the best retrieval method. Select the most promising one and try to improve the scores (e.g. by changing the vocab size, loading different model, etc.).\n",
    "Discuss the results you achieve, even if you didn't manage to improve the scores."
   ]
  },
  {
   "cell_type": "code",
   "execution_count": null,
   "metadata": {
    "id": "YA9bEm5ehMq8",
    "pycharm": {
     "name": "#%%\n"
    },
    "ExecuteTime": {
     "end_time": "2025-04-22T19:12:50.983306Z",
     "start_time": "2025-04-22T15:50:34.678524Z"
    }
   },
   "outputs": [],
   "source": [
    "#### YOUR CODE HERE\n",
    "\n",
    "\n",
    "\n",
    "### YOUR CODE ENDS HERE"
   ]
  },
  {
   "cell_type": "markdown",
   "metadata": {
    "collapsed": false,
    "pycharm": {
     "name": "#%% md\n"
    }
   },
   "source": [
    "// your comments"
   ]
  },
  {
   "metadata": {},
   "cell_type": "code",
   "outputs": [],
   "execution_count": null,
   "source": ""
  }
 ],
 "metadata": {
  "colab": {
   "provenance": [],
   "toc_visible": true
  },
  "kernelspec": {
   "display_name": ".venv",
   "language": "python",
   "name": "python3"
  },
  "language_info": {
   "codemirror_mode": {
    "name": "ipython",
    "version": 3
   },
   "file_extension": ".py",
   "mimetype": "text/x-python",
   "name": "python",
   "nbconvert_exporter": "python",
   "pygments_lexer": "ipython3",
   "version": "3.12.2"
  }
 },
 "nbformat": 4,
 "nbformat_minor": 0
}

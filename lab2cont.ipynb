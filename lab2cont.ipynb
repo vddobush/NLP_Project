{
 "cells": [
  {
   "cell_type": "markdown",
   "metadata": {
    "collapsed": false,
    "id": "od2YkWY8pSOC",
    "pycharm": {
     "name": "#%% md\n"
    }
   },
   "source": [
    "# NLP 2025\n",
    "# Lab 2: Word Vectors and Information Retrieval\n",
    "\n",
    "During the first few weeks, we discussed various ways to represent text 📝. One key question was: What should be the basic unit of representation? Words are the fundamental building blocks 🧱.\n",
    "\n",
    "In this lab, we will explore different text representation models, such as Bag-of-Words (BoW), TF-IDF and word embeddings 🔤➡️🔢. Among these, word embeddings are the most effective in terms of performance. They represent each word as a vector of numbers, where each vector captures the meaning of the word 🧠📊.\n",
    "\n",
    "These numerical representations (or weights) are learned using machine learning models 🤖. We’ll dive deeper into how these vectors are learned in the next lecture 📚.\n",
    "\n",
    "For now, we’ll focus on how different representation methods affect performance in an information retrieval task 🔍."
   ]
  },
  {
   "cell_type": "markdown",
   "metadata": {
    "collapsed": false,
    "id": "s93LS5bspSOD",
    "pycharm": {
     "name": "#%% md\n"
    }
   },
   "source": [
    "By the end of this lab, you should be able to:\n",
    "\n",
    "+ 🧼🔁 Implement and/or use built-in functions to preprocess your data (once again!)\n",
    "+ 🧱👜 Build a Bag-of-Words representation of the dataset\n",
    "+ 📊✨ Implement TF-IDF\n",
    "+ 📥🔤 Load pre-trained word embeddings\n",
    "+ 🔍🧠 Inspect and test word embedding properties\n",
    "+ 🗣️➡️📐 Use word embeddings to get sentence representations (aka sentence embeddings)\n",
    "+ 🧩🔎 Use sentence embeddings to solve more complex tasks like information retrieval\n",
    "+ 🧪📏 Design evaluation frameworks for specific NLP tasks and assess their difficulty\n",
    "\n",
    "### Score breakdown\n",
    "\n",
    "| Exercise            | Points |\n",
    "|---------------------|--------|\n",
    "| [Exercise 1](#e1)   | 1      |\n",
    "| [Exercise 2](#e2)   | 1      |\n",
    "| [Exercise 3](#e3)   | 1      |\n",
    "| [Exercise 4](#e4)   | 1      |\n",
    "| [Exercise 5](#e5)   | 1      |\n",
    "| [Exercise 6](#e6)   | 2      |\n",
    "| [Exercise 7](#e7)   | 10     |\n",
    "| [Exercise 8](#e8)   | 5      |\n",
    "| [Exercise 9](#e9)   | 15     |\n",
    "| [Exercise 10](#e10) | 10     |\n",
    "| [Exercise 11](#e11) | 10     |\n",
    "| [Exercise 12](#e12) | 5      |\n",
    "| [Exercise 13](#e13) | 15     |\n",
    "| [Exercise 14](#e14) | 3      |\n",
    "| [Exercise 15](#e15) | 10     |\n",
    "| [Exercise 16](#e16) | 10     |\n",
    "| Total               | 100    |\n",
    "\n",
    "This score will be scaled down to 1 and that will be your final lab score.\n",
    "\n",
    "### 📌 **Instructions for Delivery** (📅 **Deadline: 18/Apr 18:00**, 🎭 *wildcards possible*)\n",
    "\n",
    "✅ **Submission Requirements**\n",
    "+ 📄 You need to submit a **PDF of your report** (use the templates provided in **LaTeX** 🖋️ (*preferred*) or **Word** 📑) and a **copy of your notebook** 📓 with the code.\n",
    "+ ⚡ Make sure that **all cells are executed properly** ⚙️ and that **all figures/results/plots** 📊 you include in the report are also visible in your **executed notebook**.\n",
    "\n",
    "✅ **Collaboration & Integrity**\n",
    "+ 🗣️ While you may **discuss** the lab with others, you must **write your solutions with your group only**. If you **discuss specific tasks** with others, please **include their names** in the appendix of the report.\n",
    "+ 📜 **Honor Code applies** to this lab. For more details, check **Syllabus §7.2** ⚖️.\n",
    "+ 📢 **Mandatory Disclosure**:\n",
    "   - Any **websites** 🌐 (e.g., **Stack Overflow** 💡) or **other resources** used must be **listed and disclosed**.\n",
    "   - Any **GenAI tools** 🤖 (e.g., **ChatGPT**) used must be **explicitly mentioned**.\n",
    "   - 🚨 **Failure to disclose these resources is a violation of academic integrity**. See **Syllabus §7.3** for details."
   ]
  },
  {
   "cell_type": "markdown",
   "metadata": {
    "collapsed": false,
    "id": "aHYGq5RUpSOD",
    "pycharm": {
     "name": "#%% md\n"
    }
   },
   "source": [
    "## 0. Setup\n",
    "\n",
    "As in the last lab, we will be using huggingface datasets library ([https://huggingface.co/datasets](https://huggingface.co/datasets)). You can find the detailed documentation and tutorials here: [https://huggingface.co/docs/datasets/en/index](https://huggingface.co/docs/datasets/en/index)\n",
    "\n",
    "If you don't have it installed you can run the code below or install it via `pip` in your terminal. If you are using Google Colab, you can uncomment and run the code below in a code cell. Restarting of the runtime may be required after installation (Runtime/Restart session)."
   ]
  },
  {
   "cell_type": "code",
   "metadata": {
    "id": "rhEG8hKrpSOE",
    "pycharm": {
     "name": "#%%\n"
    },
    "ExecuteTime": {
     "end_time": "2025-04-22T15:47:21.131662Z",
     "start_time": "2025-04-22T15:47:21.087002Z"
    }
   },
   "source": [
    "#! pip install -U datasets~=3.5.0\n",
    "#! pip install -U gensim\n",
    "#! python -m pip install -U matplotlib\n",
    "#! pip install nltk\n",
    "#! pip install -U scikit-learn"
   ],
   "outputs": [],
   "execution_count": 1
  },
  {
   "cell_type": "markdown",
   "metadata": {
    "collapsed": false,
    "pycharm": {
     "name": "#%% md\n"
    }
   },
   "source": [
    "Previously installed datasets library version of 3.2.0 had an error when combined with numpy version >2. If you encounter an error at some point it might require to update the datasets library to the newer version. You can do that by running the code below. If you are using Google Colab, you can run the code below in a code cell. If you are using Jupyter Notebook, you can run the code below in a code cell or in a terminal."
   ]
  },
  {
   "cell_type": "code",
   "metadata": {
    "collapsed": false,
    "pycharm": {
     "name": "#%%\n"
    },
    "ExecuteTime": {
     "end_time": "2025-04-22T15:47:21.269886Z",
     "start_time": "2025-04-22T15:47:21.128212Z"
    }
   },
   "source": [
    "# ! pip install --upgrade --force-reinstall datasets\n",
    "# ! pip install --upgrade bottleneck // pandas requires bottleneck v1,3,6 or newer"
   ],
   "outputs": [],
   "execution_count": 2
  },
  {
   "cell_type": "markdown",
   "metadata": {
    "collapsed": false,
    "id": "5CCI1TPJpSOF",
    "pycharm": {
     "name": "#%% md\n"
    }
   },
   "source": [
    "As usual, we start by importing some essential Python libraries and we will be using. Apart from `gensim` (which is going to be used for word embeddings), we have already seen the others."
   ]
  },
  {
   "cell_type": "code",
   "metadata": {
    "id": "CRe8W4hKpSOF",
    "pycharm": {
     "name": "#%%\n"
    },
    "ExecuteTime": {
     "end_time": "2025-04-22T15:47:24.237070Z",
     "start_time": "2025-04-22T15:47:21.224639Z"
    }
   },
   "source": [
    "import re\n",
    "\n",
    "import numpy as np\n",
    "import matplotlib.pyplot as plt\n",
    "import datasets\n",
    "import nltk\n",
    "import tqdm\n",
    "import gensim\n",
    "from nltk.corpus import stopwords\n",
    "#\n",
    "# nltk.download('punkt_tab')punkt_tab\n",
    "nltk.download('stopwords')"
   ],
   "outputs": [
    {
     "name": "stderr",
     "output_type": "stream",
     "text": [
      "[nltk_data] Downloading package stopwords to /Users/vd/nltk_data...\n",
      "[nltk_data]   Package stopwords is already up-to-date!\n"
     ]
    },
    {
     "data": {
      "text/plain": "True"
     },
     "execution_count": 3,
     "metadata": {},
     "output_type": "execute_result"
    }
   ],
   "execution_count": 3
  },
  {
   "cell_type": "markdown",
   "metadata": {
    "collapsed": false,
    "id": "NXy-1KiCpSOF",
    "pycharm": {
     "name": "#%% md\n"
    }
   },
   "source": [
    "## 1. Load and Preprocess Data\n",
    "\n",
    "*Sentence compression* involves rephrasing sentences to make them shorter while still retaining the original meaning. A reliable compression system would be valuable for mobile devices and could also serve as a component in an extractive summarization system.\n",
    "\n",
    "The dataset we are going to use can be found on [Huggingface](https://huggingface.co/datasets/embedding-data/sentence-compression). It concerns a set of 180,000 pairs of sentences, aka it is a parallel corpus of sentences and their equivalent compressions. It has been collected by harvesting news articles from the Internet where the headline appears to be similar to the first sentence and that property is used to find an \"extractive\" compression of the sentence.\n",
    "\n",
    "For example, for the sentence\n",
    "\n",
    "`\"Regulators Friday shut down a small Florida bank, bringing to 119 the number of US bank failures this year amid mounting loan defaults\"`\n",
    "\n",
    "the compressed equivalent (based on the dataset) is:\n",
    "\n",
    "`\"Regulators shut down small Florida bank\"`.\n",
    "\n",
    "\n",
    "For more information you can read the original paper (from Google) [here](https://aclanthology.org/D13-1155.pdf). We strongly recommend going over the paper to gain further insights. Notice that the paper is from 2013, therefore word embeddings have not been widely introduced yet in NLP tasks, meaning that the methods applied were based on the traditional NLP pipeline (feature extraction + ML)."
   ]
  },
  {
   "cell_type": "markdown",
   "metadata": {
    "collapsed": false,
    "id": "ztJX2GRVpSOF",
    "pycharm": {
     "name": "#%% md\n"
    }
   },
   "source": [
    "### 1.1 Loading the Dataset\n",
    "\n",
    "The dataset will be loaded as a Pandas DataFrame. This may take a few minutes because of the large size of the data.\n",
    "\n",
    "Make sure to inspect the dataset and make sure it is imported properly."
   ]
  },
  {
   "cell_type": "code",
   "metadata": {
    "id": "tay2NXPTpSOG",
    "pycharm": {
     "name": "#%%\n"
    },
    "ExecuteTime": {
     "end_time": "2025-04-22T15:47:26.480356Z",
     "start_time": "2025-04-22T15:47:24.224247Z"
    }
   },
   "source": [
    "import nltk.corpus\n",
    "\n",
    "ds = datasets.load_dataset('embedding-data/sentence-compression')\n",
    "print(ds)"
   ],
   "outputs": [
    {
     "name": "stdout",
     "output_type": "stream",
     "text": [
      "DatasetDict({\n",
      "    train: Dataset({\n",
      "        features: ['set'],\n",
      "        num_rows: 180000\n",
      "    })\n",
      "})\n"
     ]
    }
   ],
   "execution_count": 4
  },
  {
   "cell_type": "code",
   "metadata": {
    "id": "bUud3eZVpSOH",
    "pycharm": {
     "name": "#%%\n"
    },
    "ExecuteTime": {
     "end_time": "2025-04-22T15:47:26.499880Z",
     "start_time": "2025-04-22T15:47:26.478564Z"
    }
   },
   "source": [
    "for i in range(10):\n",
    "    print(ds['train'][i])"
   ],
   "outputs": [
    {
     "name": "stdout",
     "output_type": "stream",
     "text": [
      "{'set': [\"The USHL completed an expansion draft on Monday as 10 players who were on the rosters of USHL teams during the 2009-10 season were selected by the League's two newest entries, the Muskegon Lumberjacks and Dubuque Fighting Saints.\", 'USHL completes expansion draft']}\n",
      "{'set': ['Major League Baseball Commissioner Bud Selig will be speaking at St. Norbert College next month.', 'Bud Selig to speak at St. Norbert College']}\n",
      "{'set': [\"It's fresh cherry time in Michigan and the best time to enjoy this delicious and nutritious fruit.\", \"It's cherry time\"]}\n",
      "{'set': ['An Evesham man is facing charges in Pennsylvania after he allegedly dragged his girlfriend from the side of his pickup truck on the campus of Kutztown University in the early morning hours of Dec. 5, police said.', 'Evesham man faces charges for Pa.']}\n",
      "{'set': [\"NRT LLC, one of the nation's largest residential real estate brokerage companies, announced several executive appointments within its Coldwell Banker Residential Brokerage operations in Southern California.\", 'NRT announces executive appointments at its Coldwell Banker operations in Southern California']}\n",
      "{'set': ['THE JSE kept toying with an all time high by midday today as resources continued to fuel the bourse.', 'JSE keeps toying with all time high']}\n",
      "{'set': ['The government is defending the latest police crime statistics despite a worrying rise in the recorded amount of violent offending.', 'Government defends crime statistics']}\n",
      "{'set': ['The renovated Marappalam bridge, which had been opened for two-wheelers last week, was opened for other vehicles also on Friday.', 'Marappalam bridge opened']}\n",
      "{'set': ['A new survey shows 30 percent of Californians use Twitter, and more and more of us are using our smart phones to go online.', 'Survey: 30 percent of Californians use Twitter']}\n",
      "{'set': ['Brightpoint ,a provider of logistic services to the mobile industry, has started operations in the Turkish market.', 'Brightpoint starts operations on Turkish market']}\n"
     ]
    }
   ],
   "execution_count": 5
  },
  {
   "cell_type": "markdown",
   "metadata": {
    "collapsed": false,
    "id": "HfJSiWxrpSOH",
    "pycharm": {
     "name": "#%% md\n"
    }
   },
   "source": [
    "The dataset comes with only the `train` split so we will have to split it ourselves."
   ]
  },
  {
   "cell_type": "code",
   "metadata": {
    "id": "tATL53MWpSOH",
    "pycharm": {
     "name": "#%%\n"
    },
    "ExecuteTime": {
     "end_time": "2025-04-22T15:47:26.633847Z",
     "start_time": "2025-04-22T15:47:26.520324Z"
    }
   },
   "source": [
    "split_ds = ds['train'].train_test_split(test_size=0.2)\n",
    "print(split_ds)"
   ],
   "outputs": [
    {
     "name": "stdout",
     "output_type": "stream",
     "text": [
      "DatasetDict({\n",
      "    train: Dataset({\n",
      "        features: ['set'],\n",
      "        num_rows: 144000\n",
      "    })\n",
      "    test: Dataset({\n",
      "        features: ['set'],\n",
      "        num_rows: 36000\n",
      "    })\n",
      "})\n"
     ]
    }
   ],
   "execution_count": 6
  },
  {
   "cell_type": "markdown",
   "metadata": {
    "collapsed": false,
    "id": "L133t3CqpSOH",
    "pycharm": {
     "name": "#%% md\n"
    }
   },
   "source": [
    "### 1.2 Preprocessing the dataset\n",
    "In this section we will prepare the dataset, aka clean the sentences and tokenize.\n",
    "\n",
    "First, let's write the function to clean the text. It can be similar to the one from the previous lab (Lab1) but make sure that it makes sense for this dataset and task.\n",
    "\n",
    "More specifically, think about lower-casing, punctuation, stop-words and lemmatization/stemming and the impact it might have on the dataset. Also reflect on the fact that with word embeddings we want to uncover semantic relationships between words, whereas with bag-of-words we were trying to capture different morphological variations."
   ]
  },
  {
   "cell_type": "markdown",
   "metadata": {
    "collapsed": false,
    "id": "mQszN6GNpSOH",
    "pycharm": {
     "name": "#%% md\n"
    }
   },
   "source": [
    "<a name='e1'></a>\n",
    "### Exercise 1: Clean function\n",
    "(1p) Fill in the following function ot clean the dataset. Implement at least 3 different steps."
   ]
  },
  {
   "cell_type": "code",
   "metadata": {
    "id": "TxjfLQj6pSOH",
    "pycharm": {
     "name": "#%%\n"
    },
    "ExecuteTime": {
     "end_time": "2025-04-22T15:47:26.637010Z",
     "start_time": "2025-04-22T15:47:26.598648Z"
    }
   },
   "source": [
    "def clean(text):\n",
    "    \"\"\"\n",
    "    Cleans the given text\n",
    "    Args:\n",
    "        text: a str with the text to clean\n",
    "\n",
    "    Returns: a str with the cleaned text\n",
    "\n",
    "    \"\"\"\n",
    "\n",
    "    # Empty text\n",
    "    if text == '':\n",
    "        return text\n",
    "\n",
    "    # 'text' from the example can be of type numpy.str_, let's convert it to a python str\n",
    "    text = str(text)\n",
    "\n",
    "    #you might need more\n",
    "    #add them here\n",
    "\n",
    "    ### YOUR CODE HERE\n",
    "#those functions delete all uppercase letters but without multiple Capital letters like CNN US.\n",
    "\n",
    "    text = re.sub(r'\\b([A-Z][a-z]+)\\b', lambda m: m.group(1).lower(), text)\n",
    "    text = re.sub(r'\\b([A-Z])(?![A-Z])\\b', lambda m: m.group(1).lower(), text)\n",
    "\n",
    "    #keeps only letters and numbers BUT keeps ' if its between two letters like in the word don't\n",
    "    text = re.sub(r\"(?<!\\w)'|'(?!\\w)\", \"\", text)\n",
    "\n",
    "    #gets rid of all special characters but numbers letters and apostrophes\n",
    "    text = re.sub(r\"[^\\w\\s']\", \"\", text)\n",
    "\n",
    "    #Question to a friend: How did you do the stopping words part? (Caetano Allesie)\n",
    "    #written with help of copilot\n",
    "    stop_words =  set(nltk.corpus.stopwords.words('english'))\n",
    "    words = text.split()\n",
    "    stop_words_words = []\n",
    "    for word in words:\n",
    "        if word not in stop_words:\n",
    "            stop_words_words.append(word)\n",
    "    text =\" \".join(stop_words_words)\n",
    "    ### YOUR CODE ENDS HERE\n",
    "\n",
    "    text = text.strip()\n",
    "\n",
    "    # Update the example with the cleaned text\n",
    "    return text"
   ],
   "outputs": [],
   "execution_count": 7
  },
  {
   "cell_type": "markdown",
   "metadata": {
    "collapsed": false,
    "id": "gAqf1AoupSOJ",
    "pycharm": {
     "name": "#%% md\n"
    }
   },
   "source": [
    "The following function will apply the function (sic) you just wrote to the whole dataset. More specifically, it takes the first entry (`sentence`) from the set of uncompressed/compressed pairs, applies the `clean` function and saves the processed sentence in the field `clean_sentence`. The same is dome for the compressed version of the sentence (saved as `clean_compressed`)."
   ]
  },
  {
   "metadata": {
    "ExecuteTime": {
     "end_time": "2025-04-22T15:47:26.649173Z",
     "start_time": "2025-04-22T15:47:26.602385Z"
    }
   },
   "cell_type": "code",
   "source": [
    "print(clean(\"'Hers' amunition don't 'aint yay!!!$%# \"))"
   ],
   "outputs": [
    {
     "name": "stdout",
     "output_type": "stream",
     "text": [
      "amunition aint yay\n"
     ]
    }
   ],
   "execution_count": 8
  },
  {
   "cell_type": "code",
   "metadata": {
    "id": "WZn-M4_vpSOJ",
    "pycharm": {
     "name": "#%%\n"
    },
    "ExecuteTime": {
     "end_time": "2025-04-22T15:47:26.651917Z",
     "start_time": "2025-04-22T15:47:26.608223Z"
    }
   },
   "source": [
    "def clean_dataset(example):\n",
    "    \"\"\"\n",
    "    Cleans the sentence and compressed sentence in the example from the Dataset\n",
    "    Args:\n",
    "        example: an example from the Dataset\n",
    "\n",
    "    Returns: updated example with 'clean_sentence' and 'clean_compressed' cleaned\n",
    "\n",
    "    \"\"\"\n",
    "    sentence, compressed = example['set']\n",
    "    clean_sentence = clean(sentence)\n",
    "    clean_compressed = clean(compressed)\n",
    "    example['clean_sentence'] = clean_sentence\n",
    "    example['clean_compressed'] = clean_compressed\n",
    "    return example"
   ],
   "outputs": [],
   "execution_count": 9
  },
  {
   "cell_type": "markdown",
   "metadata": {
    "collapsed": false,
    "id": "_KVujosKpSOJ",
    "pycharm": {
     "name": "#%% md\n"
    }
   },
   "source": [
    "Below we apply the function to the whole dataset (using `map`) and we can also inspect the result."
   ]
  },
  {
   "cell_type": "code",
   "metadata": {
    "id": "NBS1JbISpSOJ",
    "pycharm": {
     "name": "#%%\n"
    },
    "ExecuteTime": {
     "end_time": "2025-04-22T15:47:51.492848Z",
     "start_time": "2025-04-22T15:47:26.618229Z"
    }
   },
   "source": [
    "split_ds = split_ds.map(clean_dataset)\n",
    "print(split_ds)"
   ],
   "outputs": [
    {
     "data": {
      "text/plain": "Map:   0%|          | 0/144000 [00:00<?, ? examples/s]",
      "application/vnd.jupyter.widget-view+json": {
       "version_major": 2,
       "version_minor": 0,
       "model_id": "9345205c3acd4742962159364449f353"
      }
     },
     "metadata": {},
     "output_type": "display_data"
    },
    {
     "data": {
      "text/plain": "Map:   0%|          | 0/36000 [00:00<?, ? examples/s]",
      "application/vnd.jupyter.widget-view+json": {
       "version_major": 2,
       "version_minor": 0,
       "model_id": "165e18cbd2e54e56a5371f4ff34715d6"
      }
     },
     "metadata": {},
     "output_type": "display_data"
    },
    {
     "name": "stdout",
     "output_type": "stream",
     "text": [
      "DatasetDict({\n",
      "    train: Dataset({\n",
      "        features: ['set', 'clean_sentence', 'clean_compressed'],\n",
      "        num_rows: 144000\n",
      "    })\n",
      "    test: Dataset({\n",
      "        features: ['set', 'clean_sentence', 'clean_compressed'],\n",
      "        num_rows: 36000\n",
      "    })\n",
      "})\n"
     ]
    }
   ],
   "execution_count": 10
  },
  {
   "cell_type": "markdown",
   "metadata": {
    "collapsed": false,
    "id": "X_ThE9H-pSOJ",
    "pycharm": {
     "name": "#%% md\n"
    }
   },
   "source": [
    "Let's examine some examples from the dataset and make sure that we got the results we wanted. At this step, it might be necessary to revisit some pre-processing steps if you are not happy with the results."
   ]
  },
  {
   "cell_type": "code",
   "metadata": {
    "id": "hP-qOPijpSOJ",
    "pycharm": {
     "name": "#%%\n"
    },
    "ExecuteTime": {
     "end_time": "2025-04-22T15:47:51.502672Z",
     "start_time": "2025-04-22T15:47:51.491511Z"
    }
   },
   "source": [
    "for i in range(10):\n",
    "    print(split_ds['train'][i])"
   ],
   "outputs": [
    {
     "name": "stdout",
     "output_type": "stream",
     "text": [
      "{'set': ['Three great horned owls were released back into the wild this afternoon in Corpus Christi.', 'Great horned owls released into the wild'], 'clean_sentence': 'three great horned owls released back wild afternoon corpus christi', 'clean_compressed': 'great horned owls released wild'}\n",
      "{'set': ['A fund has been set up for a family whose home caught fire Monday night.', 'Fund set up for family whose home caught on fire'], 'clean_sentence': 'fund set family whose home caught fire monday night', 'clean_compressed': 'fund set family whose home caught fire'}\n",
      "{'set': [\"Chesapeake Energy says it's cutting oil and natural gas production about seven percent due to declining prices.\", 'Chesapeake Energy cutting oil and gas production'], 'clean_sentence': 'chesapeake energy says cutting oil natural gas production seven percent due declining prices', 'clean_compressed': 'chesapeake energy cutting oil gas production'}\n",
      "{'set': ['A former Kirkwood College student is accused of taking photos of women in a campus bathroom.', 'Former student accused of taking photos in bathroom'], 'clean_sentence': 'former kirkwood college student accused taking photos women campus bathroom', 'clean_compressed': 'former student accused taking photos bathroom'}\n",
      "{'set': [\"The ECB cut its key lending rate by a quarter of a percentage point to 0.75%, taking it below 1% for the first time in the central bank's history.\", 'ECB cuts rates;'], 'clean_sentence': \"ECB cut key lending rate quarter percentage point 075 taking 1 first time central bank's history\", 'clean_compressed': 'ECB cuts rates'}\n",
      "{'set': ['Detroit Tigers left fielder Delmon Young was arrested Friday on a hate crime harassment charge after police said he got into a fight with a group of men and yelled anti-Semitic epithets.', 'Detroit Tigers outfielder Delmon Young arrested on hate crime harassment charge'], 'clean_sentence': 'detroit tigers left fielder delmon young arrested friday hate crime harassment charge police said got fight group men yelled antisemitic epithets', 'clean_compressed': 'detroit tigers outfielder delmon young arrested hate crime harassment charge'}\n",
      "{'set': [\"Former Wales captain Gwyn Jones believes that Gavin Henson may have ``blown'' his chance at getting his career back on track.\", \"Gwyn Jones: 'Gavin Henson has blown his chance'\"], 'clean_sentence': 'former wales captain gwyn jones believes gavin henson may blown chance getting career back track', 'clean_compressed': 'gwyn jones gavin henson blown chance'}\n",
      "{'set': [\"Skype made its debut Tuesday on PlayStation Vita, making its leading Internet video or voice calling service available on Sony's sophisticated videogame handset.\", 'Skype debuts on PlayStation Vita'], 'clean_sentence': \"skype made debut tuesday PlayStation vita making leading internet video voice calling service available sony's sophisticated videogame handset\", 'clean_compressed': 'skype debuts PlayStation vita'}\n",
      "{'set': [\"Former UFC heavyweight champion Andrei Arlovski has signed a 16 month, multi-fight deal with Strikeforce according to Arlovski's website.\", 'Andrei Arlovski signs with Strikeforce'], 'clean_sentence': \"former UFC heavyweight champion andrei arlovski signed 16 month multifight deal strikeforce according arlovski's website\", 'clean_compressed': 'andrei arlovski signs strikeforce'}\n",
      "{'set': ['Police now believe a Langley Park teen whose body was found brutally stabbed in a Gaithersburg park last week was killed in Montgomery County.', 'Langley Park teen was killed in Montgomery'], 'clean_sentence': 'police believe langley park teen whose body found brutally stabbed gaithersburg park last week killed montgomery county', 'clean_compressed': 'langley park teen killed montgomery'}\n"
     ]
    }
   ],
   "execution_count": 11
  },
  {
   "cell_type": "markdown",
   "metadata": {
    "collapsed": false,
    "id": "7LI2KlfypSOJ",
    "pycharm": {
     "name": "#%% md\n"
    }
   },
   "source": [
    "<a name='e2'></a>\n",
    "### Exercise 2: Tokenize function\n",
    "\n",
    "(1p) As always, we will need to tokenize the dataset in order to create bat-of-words and TF-IDF representations in the next sections. We will use the [Natural Language Toolkit (NLTK) library]([https://www.nltk.org/]) (https://www.nltk.org/). Complete the following function to split the text into tokens using the `word_tokenize()` function. Check the [documentation](https://www.nltk.org/api/nltk.tokenize.word_tokenize.html?highlight=word_tokenize) first.\n",
    "Note that there are different tokenizers e.g. `RegexpTokenizer` where you can enter your own regexp, `WhitespaceTokenizer` (similar to Python's string.split()) and `BlanklineTokenizer`."
   ]
  },
  {
   "cell_type": "code",
   "metadata": {
    "id": "sb-M3V6ApSOK",
    "pycharm": {
     "name": "#%%\n"
    },
    "ExecuteTime": {
     "end_time": "2025-04-22T15:47:51.509017Z",
     "start_time": "2025-04-22T15:47:51.504188Z"
    }
   },
   "source": [
    "def tokenize(text):\n",
    "    \"\"\"\n",
    "    Tokenizes the `text` parameter using nltk library\n",
    "    Args:\n",
    "        text: a string representing a sentence to be tokenized\n",
    "\n",
    "    Returns: a list of tokens (strings)\n",
    "\n",
    "    \"\"\"\n",
    "\n",
    "    ### YOUR CODE HERE\n",
    "    tokens = nltk.word_tokenize(text)\n",
    "    ### YOUR CODE ENDS HERE\n",
    "    return tokens"
   ],
   "outputs": [],
   "execution_count": 12
  },
  {
   "cell_type": "markdown",
   "metadata": {
    "collapsed": false,
    "id": "gwsHqZc9pSOK",
    "pycharm": {
     "name": "#%% md\n"
    }
   },
   "source": [
    "Next, the function will be applied to the whole dataset (as we did with the pre-processing) and `sentence_tokens` field will be created to store the result."
   ]
  },
  {
   "cell_type": "code",
   "metadata": {
    "id": "6sTX-AcTpSOK",
    "pycharm": {
     "name": "#%%\n"
    },
    "ExecuteTime": {
     "end_time": "2025-04-22T15:47:51.514717Z",
     "start_time": "2025-04-22T15:47:51.506412Z"
    }
   },
   "source": [
    "def tokenize_dataset(example):\n",
    "    \"\"\"\n",
    "    Tokenizes 'clean_sentence' columns in the example from the Dataset\n",
    "    Args:\n",
    "        example: an example from the Dataset\n",
    "\n",
    "    Returns: updated example with 'sentence_tokens' columns\n",
    "\n",
    "    \"\"\"\n",
    "    example['sentence_tokens'] = tokenize(example['clean_sentence'])\n",
    "    example['compressed_tokens'] = tokenize(example['clean_compressed'])\n",
    "    return example"
   ],
   "outputs": [],
   "execution_count": 13
  },
  {
   "cell_type": "code",
   "metadata": {
    "id": "jvwmXLj2pSOK",
    "pycharm": {
     "name": "#%%\n"
    },
    "ExecuteTime": {
     "end_time": "2025-04-22T15:48:09.350253Z",
     "start_time": "2025-04-22T15:47:51.509567Z"
    }
   },
   "source": [
    "split_ds = split_ds.map(tokenize_dataset)"
   ],
   "outputs": [
    {
     "data": {
      "text/plain": "Map:   0%|          | 0/144000 [00:00<?, ? examples/s]",
      "application/vnd.jupyter.widget-view+json": {
       "version_major": 2,
       "version_minor": 0,
       "model_id": "bd4c0c27ec2740c58d7ce85b1b3d6a3c"
      }
     },
     "metadata": {},
     "output_type": "display_data"
    },
    {
     "data": {
      "text/plain": "Map:   0%|          | 0/36000 [00:00<?, ? examples/s]",
      "application/vnd.jupyter.widget-view+json": {
       "version_major": 2,
       "version_minor": 0,
       "model_id": "88acc853a9444a8d97db6c1a86ddfd01"
      }
     },
     "metadata": {},
     "output_type": "display_data"
    }
   ],
   "execution_count": 14
  },
  {
   "cell_type": "code",
   "metadata": {
    "id": "yXnje31SpSOK",
    "pycharm": {
     "name": "#%%\n"
    },
    "ExecuteTime": {
     "end_time": "2025-04-22T15:48:09.362823Z",
     "start_time": "2025-04-22T15:48:09.359200Z"
    }
   },
   "source": [
    "for i in range(10):\n",
    "    print(split_ds['train'][i])"
   ],
   "outputs": [
    {
     "name": "stdout",
     "output_type": "stream",
     "text": [
      "{'set': ['Three great horned owls were released back into the wild this afternoon in Corpus Christi.', 'Great horned owls released into the wild'], 'clean_sentence': 'three great horned owls released back wild afternoon corpus christi', 'clean_compressed': 'great horned owls released wild', 'sentence_tokens': ['three', 'great', 'horned', 'owls', 'released', 'back', 'wild', 'afternoon', 'corpus', 'christi'], 'compressed_tokens': ['great', 'horned', 'owls', 'released', 'wild']}\n",
      "{'set': ['A fund has been set up for a family whose home caught fire Monday night.', 'Fund set up for family whose home caught on fire'], 'clean_sentence': 'fund set family whose home caught fire monday night', 'clean_compressed': 'fund set family whose home caught fire', 'sentence_tokens': ['fund', 'set', 'family', 'whose', 'home', 'caught', 'fire', 'monday', 'night'], 'compressed_tokens': ['fund', 'set', 'family', 'whose', 'home', 'caught', 'fire']}\n",
      "{'set': [\"Chesapeake Energy says it's cutting oil and natural gas production about seven percent due to declining prices.\", 'Chesapeake Energy cutting oil and gas production'], 'clean_sentence': 'chesapeake energy says cutting oil natural gas production seven percent due declining prices', 'clean_compressed': 'chesapeake energy cutting oil gas production', 'sentence_tokens': ['chesapeake', 'energy', 'says', 'cutting', 'oil', 'natural', 'gas', 'production', 'seven', 'percent', 'due', 'declining', 'prices'], 'compressed_tokens': ['chesapeake', 'energy', 'cutting', 'oil', 'gas', 'production']}\n",
      "{'set': ['A former Kirkwood College student is accused of taking photos of women in a campus bathroom.', 'Former student accused of taking photos in bathroom'], 'clean_sentence': 'former kirkwood college student accused taking photos women campus bathroom', 'clean_compressed': 'former student accused taking photos bathroom', 'sentence_tokens': ['former', 'kirkwood', 'college', 'student', 'accused', 'taking', 'photos', 'women', 'campus', 'bathroom'], 'compressed_tokens': ['former', 'student', 'accused', 'taking', 'photos', 'bathroom']}\n",
      "{'set': [\"The ECB cut its key lending rate by a quarter of a percentage point to 0.75%, taking it below 1% for the first time in the central bank's history.\", 'ECB cuts rates;'], 'clean_sentence': \"ECB cut key lending rate quarter percentage point 075 taking 1 first time central bank's history\", 'clean_compressed': 'ECB cuts rates', 'sentence_tokens': ['ECB', 'cut', 'key', 'lending', 'rate', 'quarter', 'percentage', 'point', '075', 'taking', '1', 'first', 'time', 'central', 'bank', \"'s\", 'history'], 'compressed_tokens': ['ECB', 'cuts', 'rates']}\n",
      "{'set': ['Detroit Tigers left fielder Delmon Young was arrested Friday on a hate crime harassment charge after police said he got into a fight with a group of men and yelled anti-Semitic epithets.', 'Detroit Tigers outfielder Delmon Young arrested on hate crime harassment charge'], 'clean_sentence': 'detroit tigers left fielder delmon young arrested friday hate crime harassment charge police said got fight group men yelled antisemitic epithets', 'clean_compressed': 'detroit tigers outfielder delmon young arrested hate crime harassment charge', 'sentence_tokens': ['detroit', 'tigers', 'left', 'fielder', 'delmon', 'young', 'arrested', 'friday', 'hate', 'crime', 'harassment', 'charge', 'police', 'said', 'got', 'fight', 'group', 'men', 'yelled', 'antisemitic', 'epithets'], 'compressed_tokens': ['detroit', 'tigers', 'outfielder', 'delmon', 'young', 'arrested', 'hate', 'crime', 'harassment', 'charge']}\n",
      "{'set': [\"Former Wales captain Gwyn Jones believes that Gavin Henson may have ``blown'' his chance at getting his career back on track.\", \"Gwyn Jones: 'Gavin Henson has blown his chance'\"], 'clean_sentence': 'former wales captain gwyn jones believes gavin henson may blown chance getting career back track', 'clean_compressed': 'gwyn jones gavin henson blown chance', 'sentence_tokens': ['former', 'wales', 'captain', 'gwyn', 'jones', 'believes', 'gavin', 'henson', 'may', 'blown', 'chance', 'getting', 'career', 'back', 'track'], 'compressed_tokens': ['gwyn', 'jones', 'gavin', 'henson', 'blown', 'chance']}\n",
      "{'set': [\"Skype made its debut Tuesday on PlayStation Vita, making its leading Internet video or voice calling service available on Sony's sophisticated videogame handset.\", 'Skype debuts on PlayStation Vita'], 'clean_sentence': \"skype made debut tuesday PlayStation vita making leading internet video voice calling service available sony's sophisticated videogame handset\", 'clean_compressed': 'skype debuts PlayStation vita', 'sentence_tokens': ['skype', 'made', 'debut', 'tuesday', 'PlayStation', 'vita', 'making', 'leading', 'internet', 'video', 'voice', 'calling', 'service', 'available', 'sony', \"'s\", 'sophisticated', 'videogame', 'handset'], 'compressed_tokens': ['skype', 'debuts', 'PlayStation', 'vita']}\n",
      "{'set': [\"Former UFC heavyweight champion Andrei Arlovski has signed a 16 month, multi-fight deal with Strikeforce according to Arlovski's website.\", 'Andrei Arlovski signs with Strikeforce'], 'clean_sentence': \"former UFC heavyweight champion andrei arlovski signed 16 month multifight deal strikeforce according arlovski's website\", 'clean_compressed': 'andrei arlovski signs strikeforce', 'sentence_tokens': ['former', 'UFC', 'heavyweight', 'champion', 'andrei', 'arlovski', 'signed', '16', 'month', 'multifight', 'deal', 'strikeforce', 'according', 'arlovski', \"'s\", 'website'], 'compressed_tokens': ['andrei', 'arlovski', 'signs', 'strikeforce']}\n",
      "{'set': ['Police now believe a Langley Park teen whose body was found brutally stabbed in a Gaithersburg park last week was killed in Montgomery County.', 'Langley Park teen was killed in Montgomery'], 'clean_sentence': 'police believe langley park teen whose body found brutally stabbed gaithersburg park last week killed montgomery county', 'clean_compressed': 'langley park teen killed montgomery', 'sentence_tokens': ['police', 'believe', 'langley', 'park', 'teen', 'whose', 'body', 'found', 'brutally', 'stabbed', 'gaithersburg', 'park', 'last', 'week', 'killed', 'montgomery', 'county'], 'compressed_tokens': ['langley', 'park', 'teen', 'killed', 'montgomery']}\n"
     ]
    }
   ],
   "execution_count": 15
  },
  {
   "cell_type": "markdown",
   "metadata": {
    "collapsed": false,
    "id": "FeF0wFd0pSOL",
    "pycharm": {
     "name": "#%% md\n"
    }
   },
   "source": [
    "Since we will need the tokenized sentences, we can use the following statement to extract them from the `train` split of our dataset."
   ]
  },
  {
   "cell_type": "code",
   "metadata": {
    "id": "qYKfXFxQpSOL",
    "pycharm": {
     "name": "#%%\n"
    },
    "ExecuteTime": {
     "end_time": "2025-04-22T15:48:10.572918Z",
     "start_time": "2025-04-22T15:48:09.362300Z"
    }
   },
   "source": [
    "tokenized_sentences = split_ds['train']['sentence_tokens']\n",
    "print(len(tokenized_sentences))\n",
    "print(tokenized_sentences[:10])"
   ],
   "outputs": [
    {
     "name": "stdout",
     "output_type": "stream",
     "text": [
      "144000\n",
      "[['three', 'great', 'horned', 'owls', 'released', 'back', 'wild', 'afternoon', 'corpus', 'christi'], ['fund', 'set', 'family', 'whose', 'home', 'caught', 'fire', 'monday', 'night'], ['chesapeake', 'energy', 'says', 'cutting', 'oil', 'natural', 'gas', 'production', 'seven', 'percent', 'due', 'declining', 'prices'], ['former', 'kirkwood', 'college', 'student', 'accused', 'taking', 'photos', 'women', 'campus', 'bathroom'], ['ECB', 'cut', 'key', 'lending', 'rate', 'quarter', 'percentage', 'point', '075', 'taking', '1', 'first', 'time', 'central', 'bank', \"'s\", 'history'], ['detroit', 'tigers', 'left', 'fielder', 'delmon', 'young', 'arrested', 'friday', 'hate', 'crime', 'harassment', 'charge', 'police', 'said', 'got', 'fight', 'group', 'men', 'yelled', 'antisemitic', 'epithets'], ['former', 'wales', 'captain', 'gwyn', 'jones', 'believes', 'gavin', 'henson', 'may', 'blown', 'chance', 'getting', 'career', 'back', 'track'], ['skype', 'made', 'debut', 'tuesday', 'PlayStation', 'vita', 'making', 'leading', 'internet', 'video', 'voice', 'calling', 'service', 'available', 'sony', \"'s\", 'sophisticated', 'videogame', 'handset'], ['former', 'UFC', 'heavyweight', 'champion', 'andrei', 'arlovski', 'signed', '16', 'month', 'multifight', 'deal', 'strikeforce', 'according', 'arlovski', \"'s\", 'website'], ['police', 'believe', 'langley', 'park', 'teen', 'whose', 'body', 'found', 'brutally', 'stabbed', 'gaithersburg', 'park', 'last', 'week', 'killed', 'montgomery', 'county']]\n"
     ]
    }
   ],
   "execution_count": 16
  },
  {
   "cell_type": "code",
   "metadata": {
    "collapsed": false,
    "pycharm": {
     "name": "#%%\n"
    },
    "ExecuteTime": {
     "end_time": "2025-04-22T15:48:11.143544Z",
     "start_time": "2025-04-22T15:48:11.138230Z"
    }
   },
   "source": [
    "tokenized_compressed = split_ds['train']['compressed_tokens']\n",
    "print(len(tokenized_compressed))\n",
    "print(tokenized_compressed[:10])"
   ],
   "outputs": [
    {
     "name": "stdout",
     "output_type": "stream",
     "text": [
      "144000\n",
      "[['great', 'horned', 'owls', 'released', 'wild'], ['fund', 'set', 'family', 'whose', 'home', 'caught', 'fire'], ['chesapeake', 'energy', 'cutting', 'oil', 'gas', 'production'], ['former', 'student', 'accused', 'taking', 'photos', 'bathroom'], ['ECB', 'cuts', 'rates'], ['detroit', 'tigers', 'outfielder', 'delmon', 'young', 'arrested', 'hate', 'crime', 'harassment', 'charge'], ['gwyn', 'jones', 'gavin', 'henson', 'blown', 'chance'], ['skype', 'debuts', 'PlayStation', 'vita'], ['andrei', 'arlovski', 'signs', 'strikeforce'], ['langley', 'park', 'teen', 'killed', 'montgomery']]\n"
     ]
    }
   ],
   "execution_count": 17
  },
  {
   "cell_type": "markdown",
   "metadata": {
    "id": "ZDGwEiZeCA5U",
    "pycharm": {
     "name": "#%% md\n"
    }
   },
   "source": [
    "Notice the difference in the types of the different structures we use. Run the following cell to check the types. Do they make sense to you?"
   ]
  },
  {
   "cell_type": "code",
   "metadata": {
    "id": "wKrkFmcZCtOd",
    "pycharm": {
     "name": "#%%\n"
    },
    "ExecuteTime": {
     "end_time": "2025-04-22T15:48:13.627159Z",
     "start_time": "2025-04-22T15:48:11.141100Z"
    }
   },
   "source": [
    "#type of original dataset\n",
    "print(type(split_ds))\n",
    "print(\"--\")\n",
    "#type of original sentence\n",
    "print(split_ds['train'][1])\n",
    "print(type(split_ds['train'][1]))\n",
    "print(\"--\")\n",
    "#type of pre-proceesed sentence\n",
    "print(split_ds['train']['clean_sentence'][1])\n",
    "print(type(split_ds['train']['clean_sentence'][1]))\n",
    "print(\"--\")\n",
    "#type of tokenized sentence\n",
    "print(split_ds['train']['sentence_tokens'][1])\n",
    "print(type(split_ds['train']['sentence_tokens'][1]))\n",
    "print(\"--\")"
   ],
   "outputs": [
    {
     "name": "stdout",
     "output_type": "stream",
     "text": [
      "<class 'datasets.dataset_dict.DatasetDict'>\n",
      "--\n",
      "{'set': ['A fund has been set up for a family whose home caught fire Monday night.', 'Fund set up for family whose home caught on fire'], 'clean_sentence': 'fund set family whose home caught fire monday night', 'clean_compressed': 'fund set family whose home caught fire', 'sentence_tokens': ['fund', 'set', 'family', 'whose', 'home', 'caught', 'fire', 'monday', 'night'], 'compressed_tokens': ['fund', 'set', 'family', 'whose', 'home', 'caught', 'fire']}\n",
      "<class 'dict'>\n",
      "--\n",
      "fund set family whose home caught fire monday night\n",
      "<class 'str'>\n",
      "--\n",
      "['fund', 'set', 'family', 'whose', 'home', 'caught', 'fire', 'monday', 'night']\n",
      "<class 'list'>\n",
      "--\n"
     ]
    }
   ],
   "execution_count": 18
  },
  {
   "cell_type": "markdown",
   "metadata": {
    "collapsed": false,
    "pycharm": {
     "name": "#%% md\n"
    }
   },
   "source": [
    "## 2. Bag of Words\n",
    "In this section you will built a bag-of-words representation of the dataset. We will use numpy arrays to store the results. The bag-of-words representation is a simple and effective way to represent text data. It involves creating a vocabulary of unique words from the dataset and representing each sentence as a vector of word counts. We first need the vocabulary, which we will build from both the full sentences and the compressed sentences. Similar to the first lab, the vocabulary will be a list of unique words from the dataset."
   ]
  },
  {
   "cell_type": "markdown",
   "metadata": {
    "collapsed": false,
    "pycharm": {
     "name": "#%% md\n"
    }
   },
   "source": [
    "<a name='e3'></a>\n",
    "### Exercise 3: Extracting vocabulary counts\n",
    "\n",
    "(1p) In the following cell, you will implement a function that takes a list of tokenized sentences and returns a dictionary with the counts of each word in the vocabulary. The dictionary should be of the form {word: count}. As in previous lab, you will use the `Counter` class from the `collections` module to do this."
   ]
  },
  {
   "cell_type": "code",
   "metadata": {
    "collapsed": false,
    "pycharm": {
     "name": "#%%\n"
    },
    "ExecuteTime": {
     "end_time": "2025-04-22T15:48:13.637240Z",
     "start_time": "2025-04-22T15:48:13.627458Z"
    }
   },
   "source": [
    "from collections import Counter\n",
    "\n",
    "\n",
    "def extract_vocabulary_counts(tokenized_sentences):\n",
    "    \"\"\"\n",
    "    Extracts the vocabulary from the tokenized sentences\n",
    "    Args:\n",
    "        tokenized_sentences: a list of lists of tokens\n",
    "\n",
    "    Returns: a Counter object with the counts of each word in the vocabulary\n",
    "    \"\"\"\n",
    "\n",
    "    ### YOUR CODE HERE\n",
    "    # copilot used when writing the code\n",
    "    counter = Counter()\n",
    "    for sentence in tokenized_sentences:\n",
    "        counter.update(sentence)\n",
    "    return counter\n",
    "    ### YOUR CODE ENDS HERE"
   ],
   "outputs": [],
   "execution_count": 19
  },
  {
   "cell_type": "code",
   "metadata": {
    "collapsed": false,
    "pycharm": {
     "name": "#%%\n"
    },
    "ExecuteTime": {
     "end_time": "2025-04-22T15:48:13.918881Z",
     "start_time": "2025-04-22T15:48:13.646942Z"
    }
   },
   "source": [
    "vocab_counter = extract_vocabulary_counts(tokenized_sentences + tokenized_compressed)\n",
    "print(len(vocab_counter))\n",
    "print(vocab_counter.most_common(10))"
   ],
   "outputs": [
    {
     "name": "stdout",
     "output_type": "stream",
     "text": [
      "122688\n",
      "[(\"'s\", 28863), ('new', 19985), ('said', 19900), ('man', 11965), ('US', 10712), ('today', 10050), ('police', 9766), ('two', 9285), ('first', 8052), ('announced', 7596)]\n"
     ]
    }
   ],
   "execution_count": 20
  },
  {
   "cell_type": "markdown",
   "metadata": {
    "collapsed": false,
    "pycharm": {
     "name": "#%% md\n"
    }
   },
   "source": [
    "As you can see the size of the vocabulary is quite large. Like the last time, we will limit the vocabulary to the most frequent words. The next cell will create a dictionary that maps each word to an index in the vocabulary. This will be used to create the bag-of-words representation of the sentences."
   ]
  },
  {
   "cell_type": "code",
   "metadata": {
    "collapsed": false,
    "pycharm": {
     "name": "#%%\n"
    },
    "ExecuteTime": {
     "end_time": "2025-04-22T15:48:13.984751Z",
     "start_time": "2025-04-22T15:48:13.939088Z"
    }
   },
   "source": [
    "vocab_size = 10_000\n",
    "vocab = vocab_counter.most_common(vocab_size)\n",
    "token_to_id = {word: i for i, (word, _) in enumerate(vocab)}\n",
    "print(token_to_id)"
   ],
   "outputs": [
    {
     "name": "stdout",
     "output_type": "stream",
     "text": [
      "{\"'s\": 0, 'new': 1, 'said': 2, 'man': 3, 'US': 4, 'today': 5, 'police': 6, 'two': 7, 'first': 8, 'announced': 9, 'tuesday': 10, 'year': 11, 'wednesday': 12, 'monday': 13, 'thursday': 14, 'state': 15, 'friday': 16, 'president': 17, 'says': 18, 'former': 19, 'world': 20, 'one': 21, 'million': 22, 'city': 23, 'last': 24, 'according': 25, 'county': 26, 'may': 27, 'saturday': 28, 'woman': 29, 'week': 30, 'sunday': 31, 'government': 32, 'minister': 33, 'company': 34, 'years': 35, 'people': 36, 'three': 37, 'home': 38, 'india': 39, 'night': 40, 'time': 41, 'killed': 42, 'bank': 43, 'national': 44, 'day': 45, 'south': 46, 'next': 47, 'court': 48, 'found': 49, 'morning': 50, 'arrested': 51, 'died': 52, 'country': 53, 'set': 54, 'school': 55, 'obama': 56, 'charged': 57, 'second': 58, 'would': 59, 'back': 60, 'could': 61, 'reported': 62, 'group': 63, 'market': 64, 'fire': 65, 'china': 66, 'international': 67, 'team': 68, 'open': 69, 'season': 70, 'business': 71, 'house': 72, 'oil': 73, 'service': 74, 'reports': 75, 'north': 76, 'car': 77, 'news': 78, 'early': 79, 'high': 80, 'charges': 81, 'star': 82, 'inc': 83, 'month': 84, 'united': 85, 'prices': 86, 'global': 87, 'plans': 88, 'four': 89, 'hospital': 90, 'officials': 91, 'dies': 92, 'public': 93, 'guilty': 94, 'report': 95, 'following': 96, 'death': 97, 'billion': 98, 'yesterday': 99, 'services': 100, 'american': 101, 'health': 102, 'released': 103, 'near': 104, 'league': 105, 'federal': 106, 'chief': 107, 'say': 108, 'hit': 109, 'pakistan': 110, 'help': 111, 'york': 112, 'office': 113, 'end': 114, 'show': 115, 'west': 116, 'made': 117, 'game': 118, 'security': 119, 'financial': 120, '2012': 121, 'make': 122, 'months': 123, 'take': 124, 'indian': 125, '10': 126, 'five': 127, 'economic': 128, 'percent': 129, 'per': 130, 'accused': 131, 'another': 132, 'coach': 133, 'local': 134, 'women': 135, 'top': 136, 'play': 137, 'launched': 138, 'john': 139, 'life': 140, 'expected': 141, 'british': 142, 'jobs': 143, 'dead': 144, 'official': 145, 'third': 146, 'european': 147, 'power': 148, 'announces': 149, 'part': 150, 'major': 151, 'work': 152, 'energy': 153, 'launches': 154, 'center': 155, 'university': 156, 'record': 157, 'deal': 158, 'trade': 159, 'party': 160, 'crash': 161, 'cut': 162, 'cup': 163, 'win': 164, 'general': 165, 'leader': 166, '1': 167, 'told': 168, 'march': 169, 'UK': 170, 'media': 171, 'shot': 172, 'support': 173, 'left': 174, 'held': 175, 'stocks': 176, 'get': 177, 'return': 178, 'officer': 179, 'men': 180, 'days': 181, 'close': 182, 'due': 183, 'air': 184, 'states': 185, 'since': 186, 'street': 187, 'online': 188, 'bill': 189, 'department': 190, '2010': 191, 'gas': 192, 'economy': 193, 'children': 194, 'child': 195, 'free': 196, 'foreign': 197, 'injured': 198, 'weekend': 199, 'head': 200, 'capital': 201, 'club': 202, 'area': 203, 'sales': 204, 'launch': 205, 'still': 206, 'series': 207, 'prime': 208, 'london': 209, 'release': 210, 'district': 211, 'family': 212, 'six': 213, '2011': 214, 'central': 215, 'mobile': 216, 'including': 217, 'called': 218, 'visit': 219, 'drug': 220, 'shares': 221, 'start': 222, 'road': 223, 'afternoon': 224, 'face': 225, '2': 226, 'dollar': 227, 'military': 228, 'industry': 229, 'fall': 230, 'stock': 231, 'tour': 232, 'june': 233, 'st': 234, 'david': 235, 'quarter': 236, 'campaign': 237, 'board': 238, 'iran': 239, 'australia': 240, 'tax': 241, 'attack': 242, 'april': 243, '20': 244, 'despite': 245, 'park': 246, 'final': 247, 'film': 248, 'development': 249, 'system': 250, 'like': 251, 'best': 252, 'students': 253, 'signed': 254, 'east': 255, 'data': 256, 'australian': 257, 'sentenced': 258, 'markets': 259, 'fell': 260, 'wins': 261, 'big': 262, 'across': 263, 'football': 264, 'cancer': 265, 'water': 266, 'way': 267, 'barack': 268, 'go': 269, 'manager': 270, '2009': 271, '11': 272, 'growth': 273, 'corp': 274, 'meeting': 275, 'talks': 276, 'council': 277, 'afghanistan': 278, 'around': 279, 'run': 280, 'gold': 281, 'research': 282, 'pay': 283, 'plan': 284, 'revealed': 285, '2013': 286, 'management': 287, 'host': 288, 'case': 289, 'price': 290, 'leading': 291, 'prison': 292, 'washington': 293, 'agency': 294, 'chinese': 295, 'food': 296, 'largest': 297, 'law': 298, '30': 299, 'actor': 300, 'authorities': 301, 'contract': 302, 'england': 303, 'money': 304, 'buy': 305, 'games': 306, 'move': 307, 'program': 308, 'director': 309, 'music': 310, 'confirmed': 311, 'late': 312, 'conference': 313, 'allegedly': 314, 'network': 315, '3': 316, 'medical': 317, 'wants': 318, 'annual': 319, 'increase': 320, 'crisis': 321, 'union': 322, 'america': 323, 'white': 324, 'rate': 325, 'san': 326, 'murder': 327, '15': 328, 'several': 329, 'number': 330, 'firm': 331, 'political': 332, '12': 333, 'agreement': 334, 'town': 335, 'community': 336, 'michael': 337, 'private': 338, 'closed': 339, 'july': 340, 'technology': 341, 'recently': 342, 'hold': 343, 'saying': 344, 'girl': 345, 'higher': 346, 'good': 347, 'canada': 348, 'test': 349, 'budget': 350, 'recent': 351, 'russia': 352, 'press': 353, 'investment': 354, 'use': 355, 'japan': 356, 'companies': 357, 'workers': 358, 'actress': 359, 'surgery': 360, 'college': 361, 'latest': 362, 'young': 363, 'share': 364, 'special': 365, 'cent': 366, 'many': 367, 'continue': 368, 'shooting': 369, 'study': 370, 'lead': 371, 'well': 372, 'wife': 373, 'TV': 374, 'rise': 375, 'become': 376, 'korea': 377, 'provider': 378, 'rose': 379, 'offer': 380, 'right': 381, '5': 382, 'live': 383, 'demand': 384, 'secretary': 385, 'age': 386, 'opened': 387, 'taking': 388, 'making': 389, 'away': 390, 'southern': 391, 'place': 392, 'care': 393, 'sex': 394, 'red': 395, 'body': 396, 'rights': 397, 'french': 398, 'action': 399, 'senior': 400, 'judge': 401, 'store': 402, 'election': 403, 'lower': 404, 'nearly': 405, 'senate': 406, 'centre': 407, 'texas': 408, 'going': 409, 'trial': 410, 'fight': 411, 'assault': 412, 'accident': 413, 'likely': 414, 'meet': 415, 'production': 416, 'rates': 417, 'long': 418, 'january': 419, 'line': 420, 'weeks': 421, 'forces': 422, 'sign': 423, 'war': 424, 'updated': 425, 'region': 426, 'congress': 427, 'also': 428, 'ahead': 429, 'europe': 430, 'coast': 431, '2008': 432, 'investors': 433, 'credit': 434, 'named': 435, 'opens': 436, 'signs': 437, 'israel': 438, 'times': 439, 'faces': 440, 'google': 441, 'los': 442, 'debt': 443, 'baby': 444, 'rs': 445, 'trading': 446, 'strong': 447, 'singer': 448, 'points': 449, '100': 450, 'mark': 451, 'emergency': 452, 'building': 453, 'presidential': 454, 'hours': 455, 'members': 456, 'small': 457, 'africa': 458, 'social': 459, 'loss': 460, 'governor': 461, 'title': 462, 'facing': 463, 'nation': 464, 'apple': 465, 'video': 466, 'information': 467, 'premier': 468, 'russian': 469, 'banks': 470, 'profit': 471, 'february': 472, 'paul': 473, 'fund': 474, 'even': 475, 'grand': 476, 'charge': 477, 'past': 478, 'issued': 479, 'project': 480, 'filed': 481, 'results': 482, 'california': 483, 'ministry': 484, 'ago': 485, 'call': 486, 'calls': 487, 'driver': 488, 'future': 489, 'student': 490, 'real': 491, 'without': 492, 'players': 493, 'least': 494, 'nuclear': 495, 'amid': 496, 'delhi': 497, 'boy': 498, 'plant': 499, 'pleaded': 500, 'interest': 501, 'angeles': 502, 'september': 503, 'working': 504, 'chairman': 505, '25': 506, 'coming': 507, '4': 508, 'player': 509, 'german': 510, 'race': 511, 'executive': 512, 'army': 513, 'pleads': 514, 'florida': 515, 'cash': 516, 'reportedly': 517, 'bus': 518, 'order': 519, 'products': 520, 'heart': 521, 'residents': 522, 'fourth': 523, 'taken': 524, 'leaders': 525, 'force': 526, 'beat': 527, 'agreed': 528, 'side': 529, 'france': 530, 'old': 531, 'asian': 532, 'software': 533, 'summer': 534, 'earlier': 535, 'exchange': 536, 'took': 537, 'seven': 538, 'makes': 539, 'site': 540, 'pm': 541, 'corporation': 542, 'lost': 543, 'traffic': 544, 'james': 545, 'leave': 546, 'falls': 547, 'sell': 548, 'northern': 549, 'change': 550, 'stop': 551, 'november': 552, 'sector': 553, 'policy': 554, 'airlines': 555, '14': 556, 'half': 557, 'human': 558, 'injury': 559, 'internet': 560, 'education': 561, 'returns': 562, 'issues': 563, 'republican': 564, 'schools': 565, 'operations': 566, 'claims': 567, 'forward': 568, 'need': 569, 'come': 570, 'planning': 571, 'station': 572, 'canadian': 573, '50': 574, 'opening': 575, 'looking': 576, 'lake': 577, 'control': 578, '13': 579, 'suspended': 580, 'job': 581, 'gov': 582, 'role': 583, 'bid': 584, 'cuts': 585, 'river': 586, 'october': 587, '21': 588, 'round': 589, 'december': 590, 'parliament': 591, 'co': 592, 'evening': 593, 'victory': 594, 'jail': 595, '18': 596, 'chris': 597, 'key': 598, 'george': 599, 'missing': 600, 'must': 601, 'website': 602, 'strike': 603, 'august': 604, 'us': 605, 'continues': 606, 'association': 607, 'album': 608, 'much': 609, 'match': 610, 'great': 611, '16': 612, 'better': 613, 'insurance': 614, 'issue': 615, 'killing': 616, 'domestic': 617, 'training': 618, 'keep': 619, 'offering': 620, 'brown': 621, 'driving': 622, 'israeli': 623, 'fans': 624, 'biggest': 625, 'guard': 626, 'commission': 627, 'airport': 628, 'running': 629, 'put': 630, 'countries': 631, 'hall': 632, 'sports': 633, 'raise': 634, 'sale': 635, 'remain': 636, 'property': 637, 'got': 638, 'black': 639, 'consumer': 640, 'join': 641, 'mother': 642, 'used': 643, 'construction': 644, 'train': 645, 'see': 646, 'event': 647, 'giant': 648, 'arrest': 649, 'trying': 650, 'getting': 651, 'manchester': 652, 'green': 653, 'britain': 654, 'remains': 655, 'takes': 656, '7': 657, 'session': 658, 'soon': 659, 'troops': 660, 'brand': 661, 'shows': 662, '6': 663, 'low': 664, 'african': 665, 'western': 666, 'island': 667, 'want': 668, 'ready': 669, 'euro': 670, 'vote': 671, 'current': 672, 'received': 673, 'facebook': 674, 'customers': 675, 'committee': 676, 'full': 677, 'search': 678, 'ended': 679, 'post': 680, 'led': 681, 'vehicle': 682, 'son': 683, 'chicago': 684, 'weather': 685, 'member': 686, 'robert': 687, 'bankruptcy': 688, '24': 689, 'investigating': 690, 'among': 691, 'little': 692, 'sold': 693, 'level': 694, 'champion': 695, 'safety': 696, 'sen': 697, 'eight': 698, 'love': 699, 'give': 700, '22': 701, 'border': 702, 'officers': 703, 'couple': 704, 'finance': 705, '8': 706, 'tonight': 707, 'movie': 708, '17': 709, 'turkey': 710, 'ban': 711, 'sexual': 712, 'cricket': 713, 'statement': 714, 'mortgage': 715, 'outside': 716, 'fuel': 717, 'behind': 718, 'sri': 719, 'retail': 720, 'field': 721, 'career': 722, 'debut': 723, 'announce': 724, 'opposition': 725, 'along': 726, 'elections': 727, 'regional': 728, 'awards': 729, 'hollywood': 730, 'stage': 731, 'iraq': 732, 'staff': 733, 'space': 734, 'rock': 735, 'singh': 736, 'mayor': 737, 'solutions': 738, 'championship': 739, 'phone': 740, 'target': 741, 'upcoming': 742, 'history': 743, 'later': 744, 'violence': 745, 'zealand': 746, 'within': 747, 'gains': 748, 'thousands': 749, 'warned': 750, 'germany': 751, 'bay': 752, 'offers': 753, 'positive': 754, 'struck': 755, 'storm': 756, 'suicide': 757, 'jackson': 758, 'admitted': 759, 'sent': 760, 'justice': 761, 'practice': 762, 'valley': 763, 'candidate': 764, 'claimed': 765, 'award': 766, 'selling': 767, 'recovery': 768, 'wall': 769, 'peace': 770, 'miss': 771, 'maker': 772, 'mexico': 773, 'anniversary': 774, 'needs': 775, 'housing': 776, 'performance': 777, 'based': 778, 'risk': 779, 'olympic': 780, 'festival': 781, 'flu': 782, 'using': 783, 'given': 784, 'ltd': 785, 'systems': 786, 'protest': 787, 'leaving': 788, 'travel': 789, 'raised': 790, 'protection': 791, 'name': 792, 'cost': 793, 'middle': 794, 'beach': 795, 'list': 796, 'almost': 797, 'attacks': 798, 'growing': 799, 'provide': 800, 'soldiers': 801, 'spending': 802, 'build': 803, 'microsoft': 804, 'father': 805, 'plane': 806, 'ever': 807, 'acquire': 808, 'loan': 809, 'japanese': 810, 'possible': 811, 'truck': 812, 'employees': 813, 'decision': 814, 'officially': 815, 'funds': 816, 'mumbai': 817, 'worth': 818, 'confidence': 819, 'sheriff': 820, 'husband': 821, 'legal': 822, 'rally': 823, 'hotel': 824, 'church': 825, 'continued': 826, 'reserve': 827, 'democratic': 828, 'pressure': 829, 'losses': 830, 'williams': 831, 'showed': 832, 'alleged': 833, 'battle': 834, 'television': 835, 'joint': 836, 'declared': 837, 'businesses': 838, 'eastern': 839, 'single': 840, 'owner': 841, 'changes': 842, 'asia': 843, 'break': 844, 'administration': 845, 'bush': 846, '9': 847, 'act': 848, 'carolina': 849, 'costs': 850, 'fraud': 851, 'UN': 852, 'basketball': 853, 'survey': 854, 'radio': 855, 'drive': 856, 'files': 857, 'hopes': 858, 'approved': 859, 'serious': 860, 'step': 861, 'known': 862, 'johnson': 863, 'robbery': 864, 'increased': 865, 'georgia': 866, 'captain': 867, 'less': 868, '40': 869, 'defense': 870, 'daily': 871, 'veteran': 872, 'sources': 873, 'starting': 874, 'natural': 875, 'inflation': 876, 'never': 877, 'asked': 878, 'returned': 879, 'syria': 880, 'girls': 881, 'daughter': 882, '19': 883, 'fiscal': 884, '31': 885, 'look': 886, 'dr': 887, 'heavy': 888, 'facility': 889, 'winter': 890, 'boost': 891, 'deputy': 892, 'point': 893, 'interview': 894, 'stay': 895, 'warning': 896, 'whose': 897, 'smith': 898, 'seen': 899, 'champions': 900, 'baseball': 901, 'soldier': 902, 'web': 903, 'land': 904, 'nine': 905, 'homes': 906, 'division': 907, 'highway': 908, 'falling': 909, 'mike': 910, 'stores': 911, 'begin': 912, 'attorney': 913, 'aid': 914, 'digital': 915, 'joe': 916, 'lady': 917, 'justin': 918, 'vice': 919, 'main': 920, 'gay': 921, '23': 922, 'common': 923, 'armed': 924, 'book': 925, 'futures': 926, 'supply': 927, 'acquired': 928, 'de': 929, 'boston': 930, 'failed': 931, 'gets': 932, 'might': 933, 'convicted': 934, 'injuries': 935, 'fired': 936, 'flights': 937, 'teacher': 938, 'drop': 939, 'commercial': 940, 'dropped': 941, 'jailed': 942, 'king': 943, 'popular': 944, 'met': 945, 'bond': 946, 'christmas': 947, 'italian': 948, 'projects': 949, 'partner': 950, 'stadium': 951, 'defence': 952, 'nations': 953, 'calif': 954, 'front': 955, 'suffered': 956, 'went': 957, 'total': 958, 'rep': 959, 'find': 960, 'completed': 961, 'areas': 962, 'gun': 963, 'joined': 964, 'palestinian': 965, 'decided': 966, 'watch': 967, 'supreme': 968, 'straight': 969, 'large': 970, 'expand': 971, 'appointed': 972, '26': 973, 'jones': 974, 'efforts': 975, 'super': 976, 'pakistani': 977, 'connection': 978, 'every': 979, 'stars': 980, 'spring': 981, 'begins': 982, 'playing': 983, 'turkish': 984, 'concerns': 985, 'spain': 986, 'khan': 987, 'turned': 988, 'published': 989, 'create': 990, 'investigation': 991, 'ground': 992, 'civil': 993, 'reached': 994, 'know': 995, 'drugs': 996, 'conditions': 997, 'term': 998, 'tom': 999, 'moving': 1000, 'suspected': 1001, 'passed': 1002, 'scheduled': 1003, 'winning': 1004, '27': 1005, 'stabbed': 1006, 'earnings': 1007, 'person': 1008, 'light': 1009, 'spokesman': 1010, 'twitter': 1011, 'finally': 1012, 'martin': 1013, 'parts': 1014, 'raises': 1015, 'banned': 1016, 'striker': 1017, 'partnership': 1018, 'hits': 1019, 'CEO': 1020, 'bring': 1021, 'giving': 1022, 'steve': 1023, 'recession': 1024, 'flight': 1025, 'forced': 1026, 'paid': 1027, 'prince': 1028, 'problems': 1029, 'birth': 1030, 'holding': 1031, 'ohio': 1032, 'NFL': 1033, 'dog': 1034, 'double': 1035, 'bomb': 1036, 'treatment': 1037, 'lawsuit': 1038, 'incident': 1039, 'boss': 1040, 'already': 1041, 'crashed': 1042, 'yet': 1043, 'access': 1044, 'houston': 1045, 'started': 1046, 'together': 1047, 'criminal': 1048, '500': 1049, 'levels': 1050, 'operation': 1051, 'unit': 1052, 'stake': 1053, 'taylor': 1054, 'ryan': 1055, 'abuse': 1056, 'afghan': 1057, 'al': 1058, 'banking': 1059, 'celebrate': 1060, 'ambassador': 1061, 'band': 1062, 'lanka': 1063, 'involved': 1064, 'magazine': 1065, '28': 1066, 'leaves': 1067, 'hundreds': 1068, 'sydney': 1069, 'seeking': 1070, 'goes': 1071, 'save': 1072, 'added': 1073, 'senator': 1074, 'track': 1075, 'personal': 1076, 'fashion': 1077, 'process': 1078, 'jury': 1079, 'available': 1080, 'index': 1081, 'reach': 1082, 'cooperation': 1083, 'improve': 1084, 'retirement': 1085, 'marriage': 1086, 'funding': 1087, 'releases': 1088, 'communications': 1089, 'patients': 1090, 'assets': 1091, 'producer': 1092, 'crime': 1093, 'caused': 1094, 'joins': 1095, 'syrian': 1096, 'cars': 1097, 'assembly': 1098, 'romney': 1099, 'THE': 1100, 'rising': 1101, 'suspect': 1102, 'birthday': 1103, 'earthquake': 1104, 'whether': 1105, 'robbed': 1106, 'arrived': 1107, 'reduce': 1108, 'revenue': 1109, 'tournament': 1110, 'industrial': 1111, 'peter': 1112, 'marketing': 1113, 'gulf': 1114, 'direct': 1115, 'illegal': 1116, 'caught': 1117, 'liverpool': 1118, 'kill': 1119, 'minor': 1120, 'camp': 1121, 'independent': 1122, 'province': 1123, 'iranian': 1124, 'ruled': 1125, 'steel': 1126, 'platform': 1127, 'living': 1128, 'scott': 1129, 'range': 1130, 'wanted': 1131, 'cases': 1132, 'posted': 1133, 'ireland': 1134, 'attacked': 1135, 'tony': 1136, 'holiday': 1137, 'unemployment': 1138, 'sea': 1139, 'corporate': 1140, 'village': 1141, 'rest': 1142, 'relations': 1143, 'egypt': 1144, 'condition': 1145, 'stolen': 1146, 'kansas': 1147, 'rules': 1148, 'kim': 1149, 'soccer': 1150, 'base': 1151, 'damage': 1152, 'unveiled': 1153, 'lee': 1154, 'crude': 1155, 'channel': 1156, 'blue': 1157, 'italy': 1158, 'saudi': 1159, 'midfielder': 1160, 'stand': 1161, 'celebrates': 1162, 'perform': 1163, 'think': 1164, 'tomorrow': 1165, 'records': 1166, 'urged': 1167, 'period': 1168, 'manufacturing': 1169, 'net': 1170, 'jennifer': 1171, 'figures': 1172, 'dubai': 1173, 'iPhone': 1174, 'spanish': 1175, 'stealing': 1176, 'primary': 1177, 'operator': 1178, 'michigan': 1179, 'equity': 1180, 'comes': 1181, 'calling': 1182, 'proposed': 1183, 'solar': 1184, 'divorce': 1185, 'minnesota': 1186, 'model': 1187, 'dollars': 1188, 'royal': 1189, 'girlfriend': 1190, 'apartment': 1191, 'korean': 1192, 'youth': 1193, 'dividend': 1194, 'seek': 1195, 'review': 1196, 'class': 1197, 'expects': 1198, 'toronto': 1199, 'far': 1200, 'auto': 1201, 'institute': 1202, 'appeal': 1203, 'jan': 1204, 'admits': 1205, 'began': 1206, 'technologies': 1207, 'ordered': 1208, 'discuss': 1209, 'bridge': 1210, 'ship': 1211, 'competition': 1212, 'rape': 1213, 'affairs': 1214, 'americans': 1215, 'suffering': 1216, 'agent': 1217, 'came': 1218, 'singapore': 1219, 'worldwide': 1220, 'disease': 1221, 'card': 1222, 'jersey': 1223, 'source': 1224, 'taiwan': 1225, 'overnight': 1226, 'EU': 1227, 'receive': 1228, 'cabinet': 1229, 'taliban': 1230, 'short': 1231, 'concert': 1232, 'broke': 1233, 'corruption': 1234, '29': 1235, 'queen': 1236, 'female': 1237, 'users': 1238, 'clinton': 1239, 'split': 1240, 'others': 1241, 'turn': 1242, '200': 1243, 'deficit': 1244, 'ali': 1245, 'fort': 1246, 'hard': 1247, 'threat': 1248, 'blood': 1249, 'ceremony': 1250, 'challenge': 1251, 'newspaper': 1252, 'form': 1253, 'massive': 1254, 'inside': 1255, 'entertainment': 1256, 'resources': 1257, 'helped': 1258, 'downtown': 1259, 'chelsea': 1260, 'researchers': 1261, 'brother': 1262, 'kevin': 1263, 'coal': 1264, 'limited': 1265, 'strategic': 1266, 'highest': 1267, 'planned': 1268, 'quarterly': 1269, 'morgan': 1270, 'brazil': 1271, 'teen': 1272, 'offered': 1273, 'NBA': 1274, 'played': 1275, 'gives': 1276, 'buying': 1277, 'cause': 1278, 'rises': 1279, 'virginia': 1280, 'bad': 1281, 'partners': 1282, 'airline': 1283, 'extended': 1284, 'returning': 1285, 'quality': 1286, 'voted': 1287, 'losing': 1288, 'appear': 1289, 'aircraft': 1290, 'mining': 1291, 'fresh': 1292, 'potential': 1293, 'product': 1294, 'fifth': 1295, 'average': 1296, 'boat': 1297, 'pregnant': 1298, 'parents': 1299, 'NATO': 1300, 'scientists': 1301, 'previous': 1302, 'tiger': 1303, 'charity': 1304, 'pop': 1305, 'ties': 1306, 'iowa': 1307, 'terms': 1308, 'towards': 1309, 'gaza': 1310, 'scheme': 1311, 'greece': 1312, 'controversial': 1313, 'looks': 1314, 'moved': 1315, 'programme': 1316, 'receives': 1317, 'militants': 1318, 'firefighters': 1319, 'teachers': 1320, 'operating': 1321, 'vehicles': 1322, 'friends': 1323, 'weak': 1324, 'orders': 1325, 'income': 1326, 'victims': 1327, 'fair': 1328, 'las': 1329, 'situation': 1330, 'focus': 1331, 'society': 1332, 'acquires': 1333, 'writer': 1334, 'paris': 1335, 'doctors': 1336, 'louis': 1337, 'colorado': 1338, 'acquisition': 1339, 'hand': 1340, 'view': 1341, 'fox': 1342, 'felony': 1343, 'perry': 1344, 'room': 1345, 'airways': 1346, 'address': 1347, 'wedding': 1348, 'talk': 1349, 'tried': 1350, 'malaysia': 1351, 'compared': 1352, 'authority': 1353, 'draw': 1354, 'detroit': 1355, 'academy': 1356, 'estate': 1357, 'barrel': 1358, 'mission': 1359, 'celebrity': 1360, 'draft': 1361, 'flood': 1362, 'labor': 1363, 'flat': 1364, 'bills': 1365, 'illinois': 1366, 'engaged': 1367, 'adding': 1368, '60': 1369, 'protect': 1370, 'legend': 1371, 'memorial': 1372, 'rating': 1373, 'custody': 1374, 'arizona': 1375, 'allow': 1376, 'libya': 1377, 'miami': 1378, 'hospitalized': 1379, 'azerbaijan': 1380, 'bail': 1381, 'heard': 1382, 'teams': 1383, 'closing': 1384, 'winner': 1385, 'starts': 1386, 'farmers': 1387, 'sells': 1388, 'effort': 1389, 'dec': 1390, 'fined': 1391, 'investigate': 1392, 'defeat': 1393, 'course': 1394, 'leads': 1395, 'fatal': 1396, 'vegas': 1397, 'port': 1398, 'exports': 1399, 'theft': 1400, 'measures': 1401, 'worker': 1402, 'cutting': 1403, 'rival': 1404, 'climate': 1405, 'indicted': 1406, 'restaurant': 1407, 'fighting': 1408, 'poor': 1409, 'gave': 1410, 'denied': 1411, 'grant': 1412, 'lot': 1413, 'groups': 1414, 'committed': 1415, 'feb': 1416, 'tennis': 1417, 'republic': 1418, 'response': 1419, 'reform': 1420, 'squad': 1421, 'organization': 1422, 'enough': 1423, 'snow': 1424, 'MP': 1425, 'claim': 1426, 'date': 1427, 'currency': 1428, 'dallas': 1429, 'wireless': 1430, 'hurricane': 1431, 'dispute': 1432, 'package': 1433, 'position': 1434, 'voters': 1435, 'fame': 1436, 'knee': 1437, 'kelly': 1438, 'completes': 1439, 'currently': 1440, 'hockey': 1441, 'hill': 1442, 'tim': 1443, 'venture': 1444, 'swine': 1445, 'madrid': 1446, 'considering': 1447, 'arrives': 1448, 'introduced': 1449, 'jim': 1450, 'van': 1451, 'McCain': 1452, 'computer': 1453, 'attempt': 1454, 'celebrated': 1455, 'beating': 1456, 'protesters': 1457, 'replace': 1458, 'woods': 1459, 'present': 1460, 'friend': 1461, 'alex': 1462, 'diego': 1463, 'richard': 1464, 'boys': 1465, 'rangers': 1466, 'critical': 1467, 'events': 1468, 'benefits': 1469, 'environment': 1470, 'lohan': 1471, 'andrew': 1472, 'irish': 1473, 'rescued': 1474, 'boyfriend': 1475, 'holds': 1476, 'spot': 1477, 'reporting': 1478, 'loans': 1479, 'lawmakers': 1480, 'lose': 1481, 'francisco': 1482, 'retire': 1483, 'wind': 1484, 'forecast': 1485, 'defender': 1486, 'motor': 1487, 'chase': 1488, 'contest': 1489, 'summit': 1490, 'hong': 1491, 'millions': 1492, 'avoid': 1493, 'families': 1494, 'develop': 1495, 'separate': 1496, 'securities': 1497, 'lindsay': 1498, 'developer': 1499, 'nov': 1500, 'pacific': 1501, 'elderly': 1502, 'meets': 1503, 'though': 1504, 'matt': 1505, 'equipment': 1506, 'beijing': 1507, 'navy': 1508, 'hearing': 1509, 'la': 1510, 'beginning': 1511, 'rebels': 1512, 'tourism': 1513, 'william': 1514, 'different': 1515, 'worst': 1516, 'saw': 1517, 'moves': 1518, 'rescue': 1519, 'x': 1520, 'mixed': 1521, 'slightly': 1522, 'electric': 1523, 'cell': 1524, 'bonds': 1525, 'successful': 1526, 'farm': 1527, 'greek': 1528, 'kills': 1529, 'problem': 1530, 'becoming': 1531, 'doctor': 1532, 'runs': 1533, 'charlie': 1534, 'additional': 1535, 'transfer': 1536, 'kong': 1537, 'sets': 1538, 'pulled': 1539, 'believe': 1540, 'bringing': 1541, 'tree': 1542, 'block': 1543, 'invest': 1544, 'drivers': 1545, 'believes': 1546, 'harry': 1547, 'resume': 1548, 'severe': 1549, 'solution': 1550, 'threatened': 1551, 'science': 1552, 'version': 1553, 'rain': 1554, 'pirates': 1555, 'visits': 1556, 'broken': 1557, 'progress': 1558, 'films': 1559, 'shut': 1560, 'simon': 1561, 'consumers': 1562, 'brain': 1563, 'decline': 1564, 'owners': 1565, 'golf': 1566, 'victim': 1567, 'samsung': 1568, 'rugby': 1569, 'involving': 1570, 'ford': 1571, 'ends': 1572, 'ben': 1573, 'ratings': 1574, 'kashmir': 1575, 'cross': 1576, 'chance': 1577, 'parties': 1578, 'effective': 1579, 'tests': 1580, 'headed': 1581, 'atlanta': 1582, 'elected': 1583, 'showing': 1584, 'huge': 1585, 'kardashian': 1586, 'became': 1587, 'gone': 1588, 'aug': 1589, 'seriously': 1590, 'headquarters': 1591, 'via': 1592, 'ministers': 1593, 'indiana': 1594, 'complex': 1595, 'important': 1596, 'bollywood': 1597, 'zone': 1598, 'township': 1599, 'disaster': 1600, 'directors': 1601, 'entered': 1602, 'forest': 1603, 'profits': 1604, 'attempted': 1605, 'industries': 1606, 'chain': 1607, \"n't\": 1608, 'application': 1609, 'resigned': 1610, 'wayne': 1611, 'trust': 1612, 'retailer': 1613, 'turns': 1614, 'effect': 1615, 'multiple': 1616, 'raising': 1617, 'helping': 1618, 'manufacturer': 1619, 'debate': 1620, 'alliance': 1621, 'andy': 1622, 'design': 1623, 'capacity': 1624, 'cloud': 1625, 'kate': 1626, 'seeks': 1627, 'conduct': 1628, 'carrier': 1629, 'resign': 1630, 'weapons': 1631, 'hot': 1632, 'result': 1633, 'hope': 1634, 'value': 1635, 'strikes': 1636, 'brought': 1637, 'mr': 1638, 'missouri': 1639, 'ending': 1640, 'commissioner': 1641, 'sir': 1642, 'animal': 1643, 'marijuana': 1644, 'launching': 1645, 'fan': 1646, 'strategy': 1647, 'citizens': 1648, 'married': 1649, 'safe': 1650, 'various': 1651, 'art': 1652, 'indonesia': 1653, 'milan': 1654, 'quarterback': 1655, 'professional': 1656, 'allen': 1657, 'journal': 1658, 'english': 1659, 'row': 1660, 'fears': 1661, 'remained': 1662, 'feels': 1663, 'recovering': 1664, 'assistant': 1665, 'jack': 1666, 'metal': 1667, 'steps': 1668, 'environmental': 1669, 'jason': 1670, 'shop': 1671, 'impact': 1672, 'minutes': 1673, 'brian': 1674, 'cities': 1675, 'healthcare': 1676, 'increasing': 1677, 'advanced': 1678, 'investor': 1679, 'cameron': 1680, 'account': 1681, 'kids': 1682, 'classic': 1683, 'square': 1684, 'increases': 1685, 'passes': 1686, 'bob': 1687, 'politics': 1688, 'ca': 1689, 'rupee': 1690, 'protests': 1691, 'awarded': 1692, 'needed': 1693, 'grow': 1694, 'cast': 1695, 'pilot': 1696, 'always': 1697, 'die': 1698, 'crimes': 1699, 'related': 1700, 'story': 1701, 'poll': 1702, 'song': 1703, '2007': 1704, 'causing': 1705, 'bangladesh': 1706, 'reelection': 1707, 'activity': 1708, 'stewart': 1709, 'motors': 1710, 'oct': 1711, 'terror': 1712, 'quit': 1713, 'signing': 1714, 'heat': 1715, 'sox': 1716, 'trip': 1717, 'recall': 1718, 'relationship': 1719, 'sexually': 1720, 'telecom': 1721, 'bar': 1722, 'landing': 1723, 'experts': 1724, 'cleared': 1725, 'joining': 1726, 'ongoing': 1727, 'distribution': 1728, '1000': 1729, 'sanctions': 1730, 'networks': 1731, 'citing': 1732, 'content': 1733, 'motorcycle': 1734, 'reality': 1735, 'wisconsin': 1736, 'ice': 1737, 'wide': 1738, 'outlook': 1739, 'happy': 1740, 'expecting': 1741, 'labour': 1742, 'barcelona': 1743, 'benefit': 1744, 'rick': 1745, 'charles': 1746, 'crashes': 1747, 'battery': 1748, 'giants': 1749, 'lives': 1750, 'leadership': 1751, 'mountain': 1752, 'satellite': 1753, 'spend': 1754, 'BBC': 1755, 'regular': 1756, 'cleveland': 1757, 'struggling': 1758, 'santa': 1759, 'bowl': 1760, 'infrastructure': 1761, 'lawyer': 1762, 'able': 1763, 'factor': 1764, 'candidates': 1765, 'nationwide': 1766, 'scored': 1767, 'bieber': 1768, 'tribute': 1769, 'file': 1770, 'associated': 1771, 'employee': 1772, 'arts': 1773, 'auction': 1774, 'foundation': 1775, 'delivery': 1776, 'tennessee': 1777, 'seat': 1778, 'box': 1779, 'disabled': 1780, 'prevent': 1781, 'mitt': 1782, 'analysts': 1783, 'arab': 1784, 'II': 1785, 'stephen': 1786, 'breaks': 1787, 'unveils': 1788, 'significant': 1789, 'rule': 1790, 'mass': 1791, 'patent': 1792, 'expectations': 1793, 'relief': 1794, 'toyota': 1795, 'expansion': 1796, 'placed': 1797, 'holdings': 1798, 'lines': 1799, 'historic': 1800, 'send': 1801, 'app': 1802, 'plants': 1803, 'things': 1804, 'homicide': 1805, 'USA': 1806, 'moscow': 1807, 'gain': 1808, 'transport': 1809, 'embassy': 1810, 'offensive': 1811, 'swiss': 1812, 'leg': 1813, 'appoints': 1814, 'closes': 1815, 'fast': 1816, 'complete': 1817, 'jets': 1818, 'wake': 1819, 'philadelphia': 1820, 'arsenal': 1821, 'gordon': 1822, 'idol': 1823, 'seattle': 1824, 'clear': 1825, 'crore': 1826, 'cruise': 1827, 'vs': 1828, 'toward': 1829, 'denies': 1830, 'punjab': 1831, 'aimed': 1832, 'commerce': 1833, 'qatar': 1834, 'ukraine': 1835, 'tackle': 1836, 'rural': 1837, '35': 1838, 'terrorism': 1839, 'majority': 1840, 'customer': 1841, 'golden': 1842, 'allegations': 1843, 'thomas': 1844, 'comments': 1845, 'add': 1846, 'works': 1847, 'fires': 1848, 'cents': 1849, 'hamilton': 1850, 'activists': 1851, 'kennedy': 1852, 'loses': 1853, 'IT': 1854, 'concern': 1855, 'advertising': 1856, 'carrying': 1857, 'brad': 1858, 'extend': 1859, 'immigration': 1860, 'advisory': 1861, 'assaulting': 1862, 'melbourne': 1863, 'failure': 1864, 'sony': 1865, 'kentucky': 1866, 'firms': 1867, 'jessica': 1868, 'sending': 1869, 'declares': 1870, 'approves': 1871, 'setting': 1872, 'really': 1873, 'try': 1874, 'deadly': 1875, 'settlement': 1876, 'victoria': 1877, 'expands': 1878, 'attend': 1879, 'visited': 1880, 'orleans': 1881, 'olympics': 1882, 'created': 1883, 'possession': 1884, 'helicopter': 1885, 'pick': 1886, 'rare': 1887, '75': 1888, 'metro': 1889, 'voice': 1890, 'sharply': 1891, 'dating': 1892, 'broadband': 1893, 'standard': 1894, 'avenue': 1895, 'stimulus': 1896, 'parliamentary': 1897, 'sarah': 1898, 'anthony': 1899, 'express': 1900, 'schedule': 1901, 'warns': 1902, 'identified': 1903, 'electricity': 1904, 'allowed': 1905, 'alcohol': 1906, 'BJP': 1907, 'tech': 1908, 'oklahoma': 1909, 'receiver': 1910, 'detained': 1911, 'failing': 1912, 'success': 1913, 'burglary': 1914, 'cover': 1915, 'jr': 1916, 'weekly': 1917, 'secret': 1918, 'patrol': 1919, 'developing': 1920, 'destroyed': 1921, 'extension': 1922, 'closer': 1923, 'campus': 1924, 'cole': 1925, 'elizabeth': 1926, 'discovered': 1927, 'enter': 1928, 'apparently': 1929, 'goal': 1930, 'purchase': 1931, 'scotland': 1932, 'pace': 1933, 'forum': 1934, 'technical': 1935, 'shopping': 1936, 'gaga': 1937, 'electronic': 1938, 'overseas': 1939, 'n': 1940, 'activities': 1941, 'posts': 1942, 'sentence': 1943, 'iron': 1944, 'comedy': 1945, 'clash': 1946, 'thought': 1947, 'promote': 1948, 'throughout': 1949, 'developed': 1950, 'author': 1951, 'designed': 1952, 'gary': 1953, 'beckham': 1954, 'defensive': 1955, 'mexican': 1956, 'daniel': 1957, 'subsidiary': 1958, 'zimbabwe': 1959, 'pounds': 1960, 'speech': 1961, '32': 1962, 'patrick': 1963, 'applications': 1964, 'offices': 1965, 'southwest': 1966, 'dutch': 1967, 'brazilian': 1968, 'AP': 1969, 'trend': 1970, 'agree': 1971, 'muslim': 1972, 'let': 1973, 'violent': 1974, 'northwest': 1975, 'appears': 1976, 'democrats': 1977, 'arabia': 1978, 'tough': 1979, 'DC': 1980, 'hosting': 1981, 'crew': 1982, 'pass': 1983, 'jose': 1984, 'wales': 1985, 'sport': 1986, 'seized': 1987, 'consecutive': 1988, 'founder': 1989, 'territory': 1990, 'successfully': 1991, 'jordan': 1992, 'done': 1993, 'providing': 1994, 'christian': 1995, 'jet': 1996, 'bin': 1997, 'spent': 1998, 'previously': 1999, 'ten': 2000, 'strip': 2001, 'finds': 2002, 'ring': 2003, 'deliver': 2004, 'philippines': 2005, 'selected': 2006, 'experience': 2007, 'update': 2008, 'yahoo': 2009, 'theatre': 2010, 'alabama': 2011, 'polls': 2012, 'ruling': 2013, 'stabbing': 2014, 'continuing': 2015, 'passenger': 2016, 'introduces': 2017, 'hour': 2018, 'ensure': 2019, 'reveals': 2020, 'nigeria': 2021, 'counts': 2022, 'sites': 2023, '300': 2024, 'granted': 2025, 'davis': 2026, 'serve': 2027, 'evidence': 2028, 'scandal': 2029, 'amy': 2030, 'passengers': 2031, 'mine': 2032, 'FC': 2033, 'adds': 2034, 'recovered': 2035, 'export': 2036, 'pradesh': 2037, 'expanding': 2038, 'racing': 2039, 'prize': 2040, 'windows': 2041, 'longer': 2042, 'feel': 2043, 'studio': 2044, 'wrong': 2045, 'hurt': 2046, 'route': 2047, 'speak': 2048, 'numbers': 2049, 'hills': 2050, 'breaking': 2051, 'islamic': 2052, 'brothers': 2053, 'threats': 2054, 'hosts': 2055, 'engineering': 2056, 'activist': 2057, 'lewis': 2058, 'el': 2059, 'freedom': 2060, 'treasury': 2061, 'announcement': 2062, 'fees': 2063, 'honored': 2064, 'rejected': 2065, 'phoenix': 2066, 'beaten': 2067, 'silver': 2068, 'negative': 2069, 'shareholders': 2070, 'indians': 2071, 'confirms': 2072, 'wild': 2073, 'teenager': 2074, 'b': 2075, 'chapter': 2076, 'linked': 2077, 'changed': 2078, 'email': 2079, 'decades': 2080, 'units': 2081, 'russell': 2082, 'wounded': 2083, 'statistics': 2084, 'refused': 2085, 'kyrgyzstan': 2086, 'hired': 2087, 'vietnam': 2088, 'cuba': 2089, 'dangerous': 2090, 'sept': 2091, 'undergo': 2092, 'analyst': 2093, 'photo': 2094, '70': 2095, 'streets': 2096, 'agencies': 2097, 'consider': 2098, 'egyptian': 2099, 'decade': 2100, 'investments': 2101, 'generation': 2102, 'panel': 2103, 'marine': 2104, 'treated': 2105, 'targets': 2106, 'expanded': 2107, 'urges': 2108, '45': 2109, 'clean': 2110, 'carbon': 2111, 'overall': 2112, 'assaulted': 2113, 'iPad': 2114, 'friendly': 2115, 'supplies': 2116, 'ocean': 2117, 'rail': 2118, 'pitcher': 2119, 'license': 2120, 'appearance': 2121, 'threatening': 2122, 'palin': 2123, 'facilities': 2124, 'laws': 2125, 'venezuela': 2126, 'alert': 2127, 'nokia': 2128, 'ghana': 2129, '80': 2130, 'electronics': 2131, 'coalition': 2132, 'movement': 2133, 'improved': 2134, 'heading': 2135, 'frank': 2136, 'receiving': 2137, 'speed': 2138, 'can': 2139, 'not': 2140, 'prosecutors': 2141, 'pattinson': 2142, '2014': 2143, 'tropical': 2144, 'cable': 2145, 'engine': 2146, 'taxes': 2147, 'claiming': 2148, 'devices': 2149, 'chemical': 2150, 'beats': 2151, 'enterprise': 2152, 'NEW': 2153, 'dealers': 2154, 'surprise': 2155, 'tamil': 2156, 'serving': 2157, 'sun': 2158, 'terrorist': 2159, 'ill': 2160, 'adam': 2161, 'fine': 2162, 'sixth': 2163, 'nick': 2164, 'iraqi': 2165, 'drama': 2166, 'diagnosed': 2167, 'reuters': 2168, 'collision': 2169, 'branch': 2170, 'laid': 2171, 'rapper': 2172, 'lowest': 2173, 'questions': 2174, 'visiting': 2175, 'hands': 2176, 'plea': 2177, 'resigns': 2178, 'feature': 2179, 'CBS': 2180, 'yen': 2181, 'parking': 2182, 'democracy': 2183, 'note': 2184, 'cocaine': 2185, 'museum': 2186, 'extends': 2187, 'keeping': 2188, 'campbell': 2189, 'tata': 2190, 'thanks': 2191, 'michelle': 2192, 'push': 2193, 'device': 2194, 'homeless': 2195, 'traders': 2196, 'championships': 2197, 'palm': 2198, 'shoot': 2199, 'stone': 2200, 'longtime': 2201, 'paper': 2202, '90': 2203, 'dogs': 2204, 'appeared': 2205, 'options': 2206, 'walk': 2207, 'portfolio': 2208, 'sensex': 2209, 'scottish': 2210, 'ontario': 2211, 'milwaukee': 2212, 'sued': 2213, 'roads': 2214, 'finish': 2215, 'built': 2216, 'stated': 2217, 'duty': 2218, 'prix': 2219, 'agriculture': 2220, 'speculation': 2221, 'approval': 2222, 'nifty': 2223, 'interior': 2224, 'android': 2225, 'tokyo': 2226, 'true': 2227, 'phones': 2228, 'status': 2229, 'votes': 2230, 'famous': 2231, 'wilson': 2232, 'legislation': 2233, 'lebanon': 2234, 'denver': 2235, 'twins': 2236, 'cards': 2237, 'orange': 2238, 'elementary': 2239, 'medal': 2240, 'payment': 2241, '400': 2242, 'residential': 2243, 'murray': 2244, 'programs': 2245, 'moore': 2246, 'foods': 2247, 'bought': 2248, 'miles': 2249, 'question': 2250, 'artist': 2251, 'voting': 2252, 'bulgaria': 2253, 'kept': 2254, 'lending': 2255, 'cancelled': 2256, 'musical': 2257, 'communities': 2258, 'toll': 2259, 'bailout': 2260, 'factory': 2261, 'wells': 2262, 'breast': 2263, 'hire': 2264, 'letter': 2265, 'located': 2266, 'pro': 2267, 'weight': 2268, 'greater': 2269, 'aged': 2270, 'nelson': 2271, 'alive': 2272, 'fargo': 2273, 'supporters': 2274, 'jon': 2275, 'existing': 2276, 'provides': 2277, 'religious': 2278, 'amount': 2279, 'bodies': 2280, 'recover': 2281, 'owned': 2282, 'monetary': 2283, 'foot': 2284, 'sheen': 2285, 'rihanna': 2286, 'supports': 2287, 'produce': 2288, 'sees': 2289, 'deals': 2290, 'pittsburgh': 2291, 'agents': 2292, 'shoulder': 2293, 'massachusetts': 2294, 'rehab': 2295, 'cape': 2296, 'bear': 2297, 'proposal': 2298, 'although': 2299, 'stopped': 2300, 'simpson': 2301, 'chiefs': 2302, 'crews': 2303, 'lack': 2304, 'goods': 2305, 'oscar': 2306, 'resort': 2307, 'strength': 2308, 'cold': 2309, 'USD': 2310, 'austin': 2311, 'lifted': 2312, 'believed': 2313, 'hillary': 2314, 'gandhi': 2315, 'message': 2316, 'katie': 2317, 'sudan': 2318, 'begun': 2319, 'stable': 2320, 'kicked': 2321, 'libyan': 2322, 'becomes': 2323, 'plays': 2324, 'pope': 2325, 'rather': 2326, 'details': 2327, 'arms': 2328, 'storage': 2329, 'myanmar': 2330, 'formula': 2331, 'patient': 2332, 'causes': 2333, 'sam': 2334, 'dance': 2335, 'assistance': 2336, 'tickets': 2337, 'roger': 2338, 'reaches': 2339, 'ABC': 2340, 'include': 2341, 'yemen': 2342, 'ATt': 2343, 'formally': 2344, 'anna': 2345, 'immediate': 2346, 'catholic': 2347, 'journalist': 2348, 'transportation': 2349, 'policies': 2350, 'honor': 2351, 'combat': 2352, 'yankees': 2353, 'earth': 2354, 'ball': 2355, 'horse': 2356, 'testing': 2357, 'dancing': 2358, 'suspicion': 2359, 'twice': 2360, 'howard': 2361, 'oregon': 2362, 'galaxy': 2363, 'jerry': 2364, 'smart': 2365, 'newly': 2366, 'independence': 2367, 'tells': 2368, 'nationals': 2369, 'eric': 2370, 'eye': 2371, 'representative': 2372, 'challenges': 2373, 'sabha': 2374, 'welcome': 2375, 'spread': 2376, 'explosion': 2377, 'affected': 2378, 'abu': 2379, 'superstar': 2380, 'instead': 2381, 'mail': 2382, 'enforcement': 2383, 'UAE': 2384, 'utah': 2385, 'pool': 2386, 'goals': 2387, 'stronger': 2388, 'palestinians': 2389, 'fellow': 2390, 'healthy': 2391, 'buys': 2392, 'contracts': 2393, 'hero': 2394, 'option': 2395, 'prisoners': 2396, 'rice': 2397, 'collection': 2398, 'fully': 2399, 'dozens': 2400, 'copper': 2401, 'offshore': 2402, 'drops': 2403, 'journalists': 2404, 'speaker': 2405, 'conservative': 2406, 'vancouver': 2407, 'certain': 2408, 'waste': 2409, 'harris': 2410, 'recalled': 2411, 'comeback': 2412, 'enters': 2413, 'stanley': 2414, 'bureau': 2415, 'sharp': 2416, 'library': 2417, 'miller': 2418, 'offender': 2419, 'powerful': 2420, 'strengthen': 2421, 'shown': 2422, 'presented': 2423, 'fishing': 2424, 'zardari': 2425, 'missed': 2426, 'hitting': 2427, 'stations': 2428, 'dialogue': 2429, 'spotted': 2430, 'reporter': 2431, 'apparent': 2432, 'suffers': 2433, 'approximately': 2434, '150': 2435, 'diplomatic': 2436, 'madonna': 2437, 'basis': 2438, 'spears': 2439, 'exclusive': 2440, 'thailand': 2441, 'eurozone': 2442, 'cheryl': 2443, 'initial': 2444, 'putting': 2445, 'teenage': 2446, 'reduced': 2447, 'buffalo': 2448, 'terrorists': 2449, 'culture': 2450, 'funeral': 2451, 'nothing': 2452, 'ticket': 2453, 'sought': 2454, 'notes': 2455, 'hospitals': 2456, 'railway': 2457, 'somali': 2458, 'delegation': 2459, 'window': 2460, 'ways': 2461, 'springs': 2462, 'aviation': 2463, 'that': 2464, 'initiative': 2465, 'veterans': 2466, 'stroke': 2467, 'discovery': 2468, 'tigers': 2469, 'southeast': 2470, 'vowed': 2471, 'rivals': 2472, 'tampa': 2473, 'employment': 2474, 'extra': 2475, 'congressional': 2476, 'BP': 2477, 'filing': 2478, 'nomination': 2479, 'deaths': 2480, 'presence': 2481, 'sprint': 2482, 'expert': 2483, 'hoping': 2484, 'output': 2485, 'britney': 2486, 'tourists': 2487, 'franchise': 2488, 'broadway': 2489, 'newcastle': 2490, 'clinic': 2491, 'considered': 2492, 'screen': 2493, 'garden': 2494, 'dream': 2495, 'virus': 2496, 'arena': 2497, 'pennsylvania': 2498, 'pension': 2499, 'standards': 2500, 'mississippi': 2501, 'lions': 2502, 'contact': 2503, 'NSW': 2504, 'probation': 2505, 'networking': 2506, 'brands': 2507, 'doors': 2508, 'demands': 2509, 'atlantic': 2510, 'check': 2511, '65': 2512, 'payments': 2513, 'removed': 2514, 'winds': 2515, 'counties': 2516, 'exercise': 2517, 'what': 2518, 'serbia': 2519, 'NBC': 2520, 'henry': 2521, 'fish': 2522, 'penalty': 2523, 'carlos': 2524, 'luxury': 2525, 'oakland': 2526, 'fear': 2527, 'mary': 2528, 'anderson': 2529, 'preparing': 2530, 'boxing': 2531, 'financing': 2532, 'felt': 2533, 'welcomed': 2534, 'traded': 2535, '100000': 2536, 'kings': 2537, 'invited': 2538, 'searching': 2539, 'j': 2540, 'rio': 2541, 'monthly': 2542, 'talent': 2543, 'coverage': 2544, 'jumped': 2545, 'resident': 2546, 'outstanding': 2547, 'junior': 2548, 'winehouse': 2549, 'designer': 2550, 'creating': 2551, 'places': 2552, 'hudson': 2553, 'congressman': 2554, 'secure': 2555, 'buildings': 2556, 'preliminary': 2557, 'population': 2558, 'w': 2559, 'highly': 2560, 'slow': 2561, 'tested': 2562, 'illness': 2563, 'NCAA': 2564, 'intelligence': 2565, 'diamond': 2566, 'born': 2567, 'page': 2568, 'missile': 2569, 'scene': 2570, 'pornography': 2571, 'edwards': 2572, 'ray': 2573, 'asks': 2574, 'pull': 2575, 'declined': 2576, 'mall': 2577, 'helps': 2578, '10000': 2579, 'repair': 2580, 'entire': 2581, 'azerbaijani': 2582, 'specialist': 2583, 'expect': 2584, 'legendary': 2585, 'temporary': 2586, 'argentina': 2587, 'birmingham': 2588, 'ron': 2589, 'emerging': 2590, 'choice': 2591, 'agrees': 2592, 'conducted': 2593, 'franklin': 2594, 'regarding': 2595, 'kazakhstan': 2596, 'fact': 2597, 'touch': 2598, 'turning': 2599, 'lawyers': 2600, 'killer': 2601, 'negotiations': 2602, 'orlando': 2603, 'businessman': 2604, 'reporters': 2605, 'sugar': 2606, 'asking': 2607, 'retired': 2608, 'delayed': 2609, 'katy': 2610, 'angelina': 2611, 'floor': 2612, 'madison': 2613, 'persons': 2614, 'troubled': 2615, 'confident': 2616, 'opportunities': 2617, 'feet': 2618, 'waters': 2619, 'awareness': 2620, 'native': 2621, 'imports': 2622, 'connecticut': 2623, 'heads': 2624, 'creek': 2625, '64': 2626, 'complaint': 2627, 'busy': 2628, 'bilateral': 2629, 'drunk': 2630, 'lift': 2631, 'renewed': 2632, 'learned': 2633, 'jeff': 2634, 'ad': 2635, 'manslaughter': 2636, 'modern': 2637, 'smartphone': 2638, 'NY': 2639, 'c': 2640, 'edward': 2641, 'welcomes': 2642, 'fatally': 2643, 'matches': 2644, 'movies': 2645, 'cowell': 2646, 'jolie': 2647, 'columbus': 2648, 'bahrain': 2649, 'reforms': 2650, 'drinking': 2651, 'disney': 2652, 'documents': 2653, 'sentiment': 2654, 'identity': 2655, 'managed': 2656, 'evacuated': 2657, 'acting': 2658, 'warren': 2659, 'however': 2660, 'conflict': 2661, 'incidents': 2662, 'boeing': 2663, 'czech': 2664, 'canceled': 2665, 'celebrating': 2666, 'active': 2667, 'tonnes': 2668, 'targeting': 2669, 'pipeline': 2670, 'restructuring': 2671, 'exhibition': 2672, 'representatives': 2673, 'mac': 2674, 'phil': 2675, 'fee': 2676, 'pain': 2677, 'informed': 2678, 'recalls': 2679, 'unions': 2680, 'clients': 2681, 'advance': 2682, 'introduce': 2683, 'resolution': 2684, 'regime': 2685, 'properties': 2686, 'dark': 2687, 'blast': 2688, 'baltimore': 2689, 'collapsed': 2690, 'suspends': 2691, 'display': 2692, 'remove': 2693, 'fighter': 2694, 'ease': 2695, 'accounts': 2696, 'malaysian': 2697, 'defend': 2698, 'figure': 2699, 'stole': 2700, 'settle': 2701, 'request': 2702, 'insists': 2703, 'opener': 2704, 'shanghai': 2705, 'fishermen': 2706, 'GOP': 2707, 'utility': 2708, 'craig': 2709, 'kumar': 2710, 'commander': 2711, 'alaska': 2712, 'guy': 2713, 'arm': 2714, 'false': 2715, 'cargo': 2716, 'probe': 2717, 'cooper': 2718, 'positions': 2719, 'savings': 2720, 'promotion': 2721, 'chavez': 2722, 'edition': 2723, 'ask': 2724, 'finished': 2725, 'circuit': 2726, 'notice': 2727, 'hamas': 2728, 'antonio': 2729, 'suspicious': 2730, 'residence': 2731, 'deadline': 2732, 'trophy': 2733, 'postponed': 2734, 'personnel': 2735, 'manmohan': 2736, 'normal': 2737, '600': 2738, 'escaped': 2739, 'democrat': 2740, 'andre': 2741, 'shortage': 2742, 'merger': 2743, '62': 2744, 'style': 2745, 'marks': 2746, 'tied': 2747, 'jimmy': 2748, 'judges': 2749, 'rich': 2750, 'ankle': 2751, 'nominated': 2752, 'announcing': 2753, 'biden': 2754, 'steven': 2755, 'especially': 2756, 'invasion': 2757, 'northeast': 2758, 'battling': 2759, 'queensland': 2760, 'deep': 2761, '2000': 2762, 'taxi': 2763, 'cyrus': 2764, 'waiting': 2765, 'supplier': 2766, 'professor': 2767, 'carry': 2768, 'columbia': 2769, '63': 2770, '42': 2771, 'pedestrian': 2772, 'louisiana': 2773, 'engagement': 2774, 'ferguson': 2775, 'producers': 2776, 'dedicated': 2777, 'josh': 2778, 'century': 2779, 'learn': 2780, 'belarus': 2781, 'matter': 2782, 'male': 2783, 'noon': 2784, 'swedish': 2785, 'participate': 2786, 'steady': 2787, 'pair': 2788, 'euros': 2789, 'sister': 2790, 'smoking': 2791, 'coffee': 2792, 'armstrong': 2793, 'bell': 2794, 'paying': 2795, 'NHL': 2796, 'aniston': 2797, 'smoke': 2798, 'lankan': 2799, 'raid': 2800, 'demi': 2801, 'estimates': 2802, 'gang': 2803, 'targeted': 2804, 'casino': 2805, 'proud': 2806, 'phase': 2807, 'inmate': 2808, 'alan': 2809, 'scam': 2810, 'immediately': 2811, 'there': 2812, '41': 2813, 'delays': 2814, 'medicine': 2815, 'import': 2816, 'wait': 2817, 'benchmark': 2818, 'mental': 2819, 'volunteers': 2820, 'kristen': 2821, 'deputies': 2822, '5000': 2823, 'virgin': 2824, 'pays': 2825, 'mutual': 2826, 'arkansas': 2827, 'flag': 2828, 'lineup': 2829, 'features': 2830, 'often': 2831, 'e': 2832, 'worked': 2833, 'scientific': 2834, 'sky': 2835, 'compete': 2836, 'switzerland': 2837, 'something': 2838, 'tea': 2839, 'means': 2840, 'wildlife': 2841, 'derby': 2842, 'institutions': 2843, 'tornado': 2844, 'beyond': 2845, 'convention': 2846, 'wood': 2847, 'charter': 2848, 'pound': 2849, 'suspects': 2850, 'rocket': 2851, 'escape': 2852, 'sweden': 2853, 'damaged': 2854, 'republicans': 2855, 'recorded': 2856, 'performing': 2857, 'image': 2858, 'suspension': 2859, 'internal': 2860, 'shots': 2861, 'ride': 2862, 'dakota': 2863, 'asset': 2864, 'centers': 2865, 'flying': 2866, 'pitt': 2867, 'tender': 2868, 'cancels': 2869, 'tell': 2870, 'nicole': 2871, 'AG': 2872, 'expressed': 2873, 'neighborhood': 2874, 'tight': 2875, 'fitness': 2876, 'follow': 2877, 'items': 2878, 'haiti': 2879, 'hosted': 2880, 'sends': 2881, 'warner': 2882, 'registered': 2883, 'dan': 2884, 'onto': 2885, 'portland': 2886, 'swimming': 2887, 'eve': 2888, 'cultural': 2889, 'bears': 2890, 'fit': 2891, 'drew': 2892, 'fallen': 2893, 'perfect': 2894, 'goldman': 2895, 'includes': 2896, 'islands': 2897, 'mount': 2898, '33': 2899, 'seems': 2900, 'reopen': 2901, 'thing': 2902, 'everything': 2903, 'jewish': 2904, 'investigators': 2905, 'featuring': 2906, 'lawrence': 2907, 'spill': 2908, 'responsible': 2909, 'language': 2910, 'crossing': 2911, 'cowboys': 2912, 'suggests': 2913, 'rushed': 2914, 'compensation': 2915, 'YouTube': 2916, 'edge': 2917, 'marathon': 2918, 'managing': 2919, 'LLC': 2920, 'meetings': 2921, '85': 2922, 'tourist': 2923, 'defends': 2924, 'improving': 2925, 'reading': 2926, 'gunpoint': 2927, 'supporting': 2928, 'crown': 2929, 'bit': 2930, 'difficult': 2931, 'colombia': 2932, 'rob': 2933, 'chrysler': 2934, 'fake': 2935, 'roll': 2936, 'ran': 2937, 'premiere': 2938, 'drilling': 2939, 'federation': 2940, 'defended': 2941, 'defeated': 2942, '34': 2943, 'easy': 2944, 'eagles': 2945, 'maryland': 2946, 'neil': 2947, 'commitment': 2948, 'plc': 2949, 'arson': 2950, 'PM': 2951, 'transit': 2952, 'violations': 2953, 'jump': 2954, 'bruce': 2955, 'pitch': 2956, 'decide': 2957, 'miley': 2958, 'kenya': 2959, 'bulgarian': 2960, 'masters': 2961, 'adults': 2962, 'globe': 2963, 'marry': 2964, 'dhabi': 2965, 'philippine': 2966, 'honoured': 2967, 'brings': 2968, 'penn': 2969, 'barbara': 2970, 'billy': 2971, 'reliance': 2972, 'secured': 2973, 'walmart': 2974, 'criticism': 2975, 'provided': 2976, 'betting': 2977, 'sean': 2978, 'cardinals': 2979, 'sworn': 2980, 'interim': 2981, 'broadcast': 2982, 'clashes': 2983, 'legislature': 2984, 'delay': 2985, 'kingdom': 2986, 'IBM': 2987, 'johnny': 2988, 'images': 2989, 'trillion': 2990, 'nepal': 2991, 'petrol': 2992, 'kidnapped': 2993, 'hike': 2994, 'UFC': 2995, 'undisclosed': 2996, 'swift': 2997, 'integrated': 2998, 'flooding': 2999, 'allowing': 3000, 'armenian': 3001, 'lopez': 3002, 'feeling': 3003, 'tottenham': 3004, 'lincoln': 3005, 'dismissed': 3006, 'pilots': 3007, 'carried': 3008, 'maintenance': 3009, 'remaining': 3010, 'SA': 3011, 'gates': 3012, 'picked': 3013, 'intel': 3014, 'core': 3015, 'parent': 3016, 'arrests': 3017, 'organizations': 3018, 'physical': 3019, 'processing': 3020, 'CNN': 3021, 'slowdown': 3022, 'del': 3023, 'wave': 3024, 'upgraded': 3025, 'visa': 3026, '10th': 3027, 'sachs': 3028, 'NASCAR': 3029, 'bulls': 3030, 'fail': 3031, 'influence': 3032, 'reasons': 3033, 'performed': 3034, 'netherlands': 3035, 'halt': 3036, 'tons': 3037, 'happened': 3038, 'roy': 3039, 'petroleum': 3040, 'blow': 3041, 'drowned': 3042, 'accept': 3043, 'dates': 3044, 'threatens': 3045, 'barclays': 3046, 'materials': 3047, 'seasons': 3048, 'pictures': 3049, 'burning': 3050, 'playoff': 3051, 'armenia': 3052, 'preseason': 3053, 'maintain': 3054, 'anything': 3055, 'verizon': 3056, 'constitution': 3057, 'softball': 3058, 'diabetes': 3059, 'weaker': 3060, 'kidnapping': 3061, 'longterm': 3062, 'alexander': 3063, 'bradley': 3064, 'episode': 3065, 'suggested': 3066, 'brandon': 3067, 'watson': 3068, 'chennai': 3069, 'indonesian': 3070, '76': 3071, 'naval': 3072, 'jay': 3073, 'musharraf': 3074, 'prepare': 3075, 'liam': 3076, 'provincial': 3077, 'warrant': 3078, 'firefighter': 3079, 'assigned': 3080, 'appeals': 3081, 'actually': 3082, 'balance': 3083, 'approach': 3084, 'recalling': 3085, 'heritage': 3086, 'faced': 3087, 'rafael': 3088, 'amazon': 3089, 'aims': 3090, 'bars': 3091, 'gained': 3092, 'resistance': 3093, 'mostly': 3094, 'listed': 3095, 'learning': 3096, 'clubs': 3097, 'medvedev': 3098, 'delivered': 3099, 'regulators': 3100, 'suing': 3101, 'direction': 3102, 'threw': 3103, 'pole': 3104, 'regulatory': 3105, 'ricky': 3106, 'emerged': 3107, '911': 3108, 'streak': 3109, 'table': 3110, 'charlotte': 3111, 'everyone': 3112, 'YORK': 3113, 'villa': 3114, 'bobby': 3115, 'athletes': 3116, 'alternative': 3117, 'knife': 3118, 'parker': 3119, 'shah': 3120, 'lay': 3121, 'civilians': 3122, 'houses': 3123, 'crowd': 3124, 'jazz': 3125, 'restore': 3126, 'arrive': 3127, 'hedge': 3128, 'murdered': 3129, 'MAN': 3130, 'traditional': 3131, 'nicolas': 3132, 'stepping': 3133, 'kapoor': 3134, 'books': 3135, 'fitch': 3136, 'opportunity': 3137, 'advantage': 3138, 'lama': 3139, 'suit': 3140, 'rush': 3141, 'interstate': 3142, 'honda': 3143, 'whole': 3144, 'accidentally': 3145, 'vows': 3146, 'upon': 3147, 'kicks': 3148, 'bull': 3149, 'rains': 3150, 'rookie': 3151, 'caribbean': 3152, 'robin': 3153, 'shoots': 3154, 'grants': 3155, 'shortly': 3156, 'barry': 3157, 'trees': 3158, 'hiring': 3159, 'mandela': 3160, 'revenues': 3161, 'material': 3162, 'cap': 3163, 'lane': 3164, 'degree': 3165, 'kanye': 3166, 'clark': 3167, 'saints': 3168, 'comedian': 3169, 'prosecutor': 3170, 'palace': 3171, 'upper': 3172, 'wearing': 3173, 'ukrainian': 3174, 'dinner': 3175, 'comprehensive': 3176, 'condemned': 3177, 'bristol': 3178, 'fastest': 3179, 'terry': 3180, 'described': 3181, 'automotive': 3182, 'temporarily': 3183, 'raiders': 3184, 'guns': 3185, 'retailers': 3186, 'estimated': 3187, 'seventh': 3188, 'montreal': 3189, 'matthew': 3190, '43': 3191, 'link': 3192, 'hawaii': 3193, 'nashville': 3194, 'thinks': 3195, 'deutsche': 3196, 'violating': 3197, 'NASA': 3198, 'roster': 3199, 'asif': 3200, 'murdering': 3201, 'section': 3202, 'downgraded': 3203, 'enhance': 3204, 'LA': 3205, 'cincinnati': 3206, 'fleet': 3207, 'promised': 3208, 'camera': 3209, 'carter': 3210, 'jamie': 3211, 'judicial': 3212, 'captured': 3213, 'dalai': 3214, 'picture': 3215, 'door': 3216, 'hires': 3217, 'roberts': 3218, 'ESPN': 3219, 'fewer': 3220, 'joseph': 3221, 'god': 3222, 'gujarat': 3223, 'thai': 3224, 'till': 3225, 'word': 3226, 'jammu': 3227, 'urban': 3228, 'scores': 3229, 'trafficking': 3230, 'cyprus': 3231, 'withdraws': 3232, 'districts': 3233, 'establish': 3234, '36': 3235, 'improvement': 3236, 'ed': 3237, 'kolkata': 3238, 'occurred': 3239, 'accepted': 3240, 'emirates': 3241, 'cuban': 3242, 'walker': 3243, 'talking': 3244, 'undergoing': 3245, 'aaron': 3246, 'pat': 3247, 'downturn': 3248, 'similar': 3249, 'virtual': 3250, 'maria': 3251, 'prominent': 3252, 'cited': 3253, 'encounter': 3254, 'trail': 3255, 'depression': 3256, 'permanent': 3257, 'liberal': 3258, 'reopened': 3259, '37': 3260, 'alone': 3261, 'forthcoming': 3262, 'adopted': 3263, 'registration': 3264, 'speaks': 3265, 'agreements': 3266, 'reid': 3267, 'names': 3268, 'greg': 3269, 'danny': 3270, 'unexpectedly': 3271, 'politicians': 3272, 'strongly': 3273, 'abroad': 3274, 'cook': 3275, 'twin': 3276, 'coordinator': 3277, 'hilton': 3278, 'plus': 3279, 'bird': 3280, 'produced': 3281, 'nominee': 3282, 'rand': 3283, 'sustained': 3284, 'speaking': 3285, 'McCartney': 3286, 'lightning': 3287, 'original': 3288, 'interested': 3289, 'p': 3290, 'dodgers': 3291, 'dealer': 3292, 'recording': 3293, 'tribal': 3294, 'bike': 3295, 'FBI': 3296, 'collins': 3297, 'celebration': 3298, '700': 3299, 'master': 3300, 'drunken': 3301, 'restored': 3302, 'nigerian': 3303, 'lender': 3304, 'parks': 3305, 'responsibility': 3306, 'entering': 3307, 'lok': 3308, 'shuttle': 3309, 'regions': 3310, 'shore': 3311, 'endorses': 3312, 'poland': 3313, 'graham': 3314, 'beauty': 3315, '3000': 3316, 'struggle': 3317, 'jesse': 3318, 'sound': 3319, 'backed': 3320, '2006': 3321, 'duke': 3322, 'commodity': 3323, 'raped': 3324, 'considers': 3325, 'resolve': 3326, 'revolution': 3327, 'nevada': 3328, 'humanitarian': 3329, 'dave': 3330, 'knowledge': 3331, 'malik': 3332, 'nadal': 3333, 'raping': 3334, 'ashley': 3335, 'pak': 3336, 'casey': 3337, 'AC': 3338, 'dick': 3339, 'passing': 3340, 'athletic': 3341, '250': 3342, 'tablet': 3343, 'municipal': 3344, 'sides': 3345, 'sure': 3346, 'sunderland': 3347, 'tehran': 3348, 'motion': 3349, 'hotels': 3350, 'quickly': 3351, 'creative': 3352, 'bengal': 3353, 'quits': 3354, 'indianapolis': 3355, 'restaurants': 3356, 'hugo': 3357, 'legislative': 3358, 'location': 3359, 'lord': 3360, 'someone': 3361, 'nebraska': 3362, '44': 3363, 'attention': 3364, 'tries': 3365, '51': 3366, 'register': 3367, 'innovative': 3368, 'delta': 3369, 'competitive': 3370, 'collapse': 3371, 'idea': 3372, 'zoo': 3373, 'leak': 3374, 'dow': 3375, 'tower': 3376, 'kuwait': 3377, 'risks': 3378, 'earned': 3379, 'practices': 3380, 'tensions': 3381, 'handed': 3382, 'welfare': 3383, 'resignation': 3384, 'parade': 3385, 'presents': 3386, 'rolling': 3387, 'infection': 3388, 'heavyweight': 3389, '61': 3390, 'romania': 3391, 'classes': 3392, 'kerry': 3393, 'milestone': 3394, 'lenders': 3395, 'blamed': 3396, 'moment': 3397, 'count': 3398, 'tool': 3399, 'maoists': 3400, 'tie': 3401, 'diesel': 3402, 'collaboration': 3403, 'saved': 3404, 'pharmaceutical': 3405, 'forecasts': 3406, 'wear': 3407, 'inquiry': 3408, 'standoff': 3409, 'fails': 3410, 'freed': 3411, 'sparked': 3412, 'hair': 3413, 'providers': 3414, 'bachchan': 3415, 'montana': 3416, 'probably': 3417, 'pushed': 3418, 'bat': 3419, 'outfielder': 3420, 'rejects': 3421, 'magic': 3422, 'storms': 3423, 'required': 3424, 'plastic': 3425, 'entry': 3426, 'restrictions': 3427, 'putin': 3428, 'salary': 3429, 'exit': 3430, 'written': 3431, 'currencies': 3432, 'demanded': 3433, 'shipping': 3434, 'reaching': 3435, 'AM': 3436, 'powers': 3437, 'affect': 3438, 'PC': 3439, '800': 3440, 'unique': 3441, 'anyone': 3442, 'exploration': 3443, 'mets': 3444, 'plead': 3445, 'accuses': 3446, 'latin': 3447, 'undergoes': 3448, 'capitol': 3449, 'MTV': 3450, 'fly': 3451, 'cells': 3452, 'drink': 3453, 'mukherjee': 3454, 'stress': 3455, 'roof': 3456, 'employers': 3457, 'executives': 3458, 'coaching': 3459, 'principal': 3460, 'cat': 3461, 'lance': 3462, 'kris': 3463, 'upset': 3464, 'salman': 3465, 'fed': 3466, 'hughes': 3467, 'older': 3468, 'shane': 3469, 'wreck': 3470, 'unlikely': 3471, 'commonwealth': 3472, 'stability': 3473, 'fisher': 3474, 'label': 3475, 'kosovo': 3476, 'berlusconi': 3477, 'organisation': 3478, 'kick': 3479, 'determined': 3480, 'gaming': 3481, 'dublin': 3482, 'ian': 3483, 'checks': 3484, 'kind': 3485, 'drought': 3486, 'withdraw': 3487, 'maine': 3488, 'code': 3489, 'inter': 3490, 'pushing': 3491, 'cubs': 3492, 'citizen': 3493, 'demanding': 3494, 'thompson': 3495, 'marking': 3496, 'muslims': 3497, 'dealing': 3498, 'hear': 3499, 'poised': 3500, 'skipper': 3501, 'skills': 3502, 'innovation': 3503, 'intends': 3504, 'wright': 3505, 'read': 3506, 'AFP': 3507, 'upgrade': 3508, 'customs': 3509, 'resumed': 3510, 'conviction': 3511, 'injuring': 3512, 'defending': 3513, 'conspiracy': 3514, 'fixed': 3515, 'extending': 3516, 'twoyear': 3517, 'settled': 3518, '38': 3519, 'grew': 3520, 'underwent': 3521, 'douglas': 3522, 'icon': 3523, 'prior': 3524, 'category': 3525, 'burned': 3526, 'adult': 3527, 'ore': 3528, 'milk': 3529, 'proposes': 3530, 'ranks': 3531, 'witnesses': 3532, 'finding': 3533, 'benedict': 3534, 'auckland': 3535, 'fields': 3536, 'jeremy': 3537, 'billionaire': 3538, 'familiar': 3539, 'fla': 3540, 'crack': 3541, 'firing': 3542, 'linebacker': 3543, 'blues': 3544, 'dry': 3545, 'retiring': 3546, 'illegally': 3547, 'seize': 3548, 'georgian': 3549, 'operators': 3550, '55': 3551, 'prepared': 3552, 'holmes': 3553, 'trucks': 3554, 'served': 3555, 'focused': 3556, 'tools': 3557, 'ranked': 3558, 'walking': 3559, 'pet': 3560, 'significantly': 3561, 'lebanese': 3562, 'mar': 3563, 'tyler': 3564, 'blog': 3565, 'perth': 3566, 'increasingly': 3567, '48': 3568, 'opera': 3569, 'ottawa': 3570, 'courts': 3571, 'buyers': 3572, 'respect': 3573, 'knight': 3574, 'insisted': 3575, 'individual': 3576, 'vikings': 3577, 'fiji': 3578, 'patriots': 3579, 'sterling': 3580, 'temple': 3581, 'workforce': 3582, 'sciences': 3583, 'edged': 3584, 'tanker': 3585, 'praised': 3586, 'minority': 3587, 'visitors': 3588, 'aston': 3589, 'pub': 3590, 'hampshire': 3591, 'potentially': 3592, 'motorola': 3593, 'weapon': 3594, 'finals': 3595, 'qantas': 3596, 'hunger': 3597, 'islamabad': 3598, 'drone': 3599, 'kerala': 3600, 'unveil': 3601, 'remarks': 3602, 'publisher': 3603, 'christina': 3604, 'dramatic': 3605, 'rome': 3606, 'heights': 3607, 'renewable': 3608, 'prospect': 3609, 'limit': 3610, 'streaming': 3611, 'puts': 3612, 'measure': 3613, 'Twenty20': 3614, 'bigger': 3615, 'landed': 3616, 'endorsed': 3617, 'controversy': 3618, 'prove': 3619, 'formed': 3620, 'sarkozy': 3621, 'triple': 3622, 'marshall': 3623, 'gap': 3624, 'kyle': 3625, 'score': 3626, 'colombian': 3627, 'misdemeanor': 3628, 'routes': 3629, 'critically': 3630, 'kenny': 3631, 'sue': 3632, 'reveal': 3633, 'possibility': 3634, 'lakers': 3635, 'guide': 3636, 'promises': 3637, 'thrown': 3638, 'rachel': 3639, 'quite': 3640, 'prepares': 3641, 'crackdown': 3642, 'sues': 3643, 'FIFA': 3644, 'size': 3645, 'withdrawn': 3646, 'rollover': 3647, 'agricultural': 3648, 'resumes': 3649, 'rallied': 3650, 'minimum': 3651, 'zuma': 3652, 'goalkeeper': 3653, 'acres': 3654, 'hip': 3655, '53': 3656, 'standing': 3657, 'BlackBerry': 3658, 'HP': 3659, 'kidney': 3660, 'motorists': 3661, 'communication': 3662, 'burns': 3663, 'memory': 3664, 'selection': 3665, 'included': 3666, 'terminal': 3667, 'refuses': 3668, 'universal': 3669, 'brisbane': 3670, 'crucial': 3671, 'releasing': 3672, 'royals': 3673, 'indies': 3674, 'backs': 3675, 'era': 3676, 'limits': 3677, 'gaddafi': 3678, 'structure': 3679, 'article': 3680, 'reason': 3681, 'moon': 3682, 'celtic': 3683, 'equities': 3684, 'ross': 3685, 'foreclosure': 3686, 'hunting': 3687, 'publicly': 3688, 'chile': 3689, 'interactive': 3690, 'treat': 3691, 'manage': 3692, 'imposed': 3693, 'surge': 3694, 'harper': 3695, 'rochester': 3696, 'lakh': 3697, 'membership': 3698, '46': 3699, 'grove': 3700, '50000': 3701, 'pharmaceuticals': 3702, 'enterprises': 3703, '72': 3704, 'rogers': 3705, 'crashing': 3706, 'spokeswoman': 3707, 'neck': 3708, 'animals': 3709, 'guidance': 3710, 'managers': 3711, 'mill': 3712, 'buried': 3713, 'variety': 3714, 'carl': 3715, 'metals': 3716, 'jobless': 3717, 'solo': 3718, 'roman': 3719, 'tank': 3720, 'bans': 3721, 'analysis': 3722, 'affordable': 3723, 'pleased': 3724, 'forcing': 3725, 'tsunami': 3726, 'task': 3727, 'established': 3728, 'gilani': 3729, 'eddie': 3730, 'worries': 3731, 'pending': 3732, 'urging': 3733, 'attacking': 3734, 'parish': 3735, 'III': 3736, 'telling': 3737, 'loves': 3738, 'toddler': 3739, 'baghdad': 3740, 'envoy': 3741, 'pulls': 3742, 'starring': 3743, 'warriors': 3744, 'raza': 3745, 'mahmoud': 3746, 'modi': 3747, 'favourite': 3748, 'writes': 3749, 'reduction': 3750, 'throwing': 3751, 'jonathan': 3752, 'walked': 3753, 'wholesale': 3754, 'innings': 3755, 'studies': 3756, 'watching': 3757, 'retires': 3758, 'rolled': 3759, 'attempting': 3760, 'cairo': 3761, 'character': 3762, 'pete': 3763, 'FA': 3764, 'user': 3765, 'keen': 3766, 'marked': 3767, 'alongside': 3768, 'skin': 3769, 'songs': 3770, 'PTI': 3771, 'machine': 3772, 'advice': 3773, 'rockets': 3774, 'MPs': 3775, 'dolphins': 3776, 'unchanged': 3777, 'ted': 3778, 'wine': 3779, 'refinance': 3780, 'string': 3781, 'winger': 3782, 'links': 3783, 'wealth': 3784, 'sons': 3785, 'lands': 3786, 'wheat': 3787, 'mills': 3788, 'trapped': 3789, 'path': 3790, 'NHS': 3791, 'effects': 3792, 'monitoring': 3793, 'oneyear': 3794, 'scale': 3795, 'saving': 3796, 'highs': 3797, 'addition': 3798, 'hunt': 3799, 'prospects': 3800, 'springfield': 3801, '52': 3802, 'takeover': 3803, 'photographer': 3804, '2015': 3805, 'sacramento': 3806, '11th': 3807, '82': 3808, 'proposals': 3809, 'dropping': 3810, 'prostate': 3811, 'mason': 3812, 'ahmadinejad': 3813, 'keith': 3814, 'governments': 3815, 'momentum': 3816, 'adams': 3817, 'eagle': 3818, 'attempts': 3819, 'northwestern': 3820, 'sep': 3821, 'larry': 3822, 'teens': 3823, 'sectors': 3824, 'shareholder': 3825, 'pledged': 3826, 'fun': 3827, 'beer': 3828, 'evans': 3829, 'GM': 3830, 'accepting': 3831, 'photos': 3832, 'transaction': 3833, 'seats': 3834, 'faster': 3835, 'karnataka': 3836, 'newest': 3837, 'chancellor': 3838, 'appointment': 3839, 'ability': 3840, 'trailer': 3841, 'telecommunications': 3842, '3D': 3843, 'closure': 3844, 'trouble': 3845, 'reserves': 3846, 'gift': 3847, 'allstar': 3848, 'semifinals': 3849, 'peaceful': 3850, 'declines': 3851, 'vladimir': 3852, 'BC': 3853, 'babies': 3854, 'implement': 3855, 'apply': 3856, 'tracking': 3857, 'changing': 3858, 'answer': 3859, 'universities': 3860, 'NC': 3861, 'peak': 3862, 'motorcyclist': 3863, 'voluntary': 3864, 'worse': 3865, 'wage': 3866, 'julian': 3867, 'mom': 3868, 'stranded': 3869, 'featured': 3870, 'BMW': 3871, 'slip': 3872, 'beef': 3873, 'smartphones': 3874, 'rebound': 3875, 'directed': 3876, 'consulting': 3877, 'sleep': 3878, 'bag': 3879, 'raw': 3880, 'lucky': 3881, 'sporting': 3882, 'rahul': 3883, 'spokesperson': 3884, 'maharashtra': 3885, 'qualifying': 3886, 'munich': 3887, 'kent': 3888, 'sponsor': 3889, 'sustainable': 3890, 'carey': 3891, 'theater': 3892, 'reducing': 3893, 'hunter': 3894, 'slammed': 3895, 'broncos': 3896, 'julia': 3897, 'adopt': 3898, 'superior': 3899, 'asylum': 3900, 'actions': 3901, 'presidency': 3902, 'bihar': 3903, 'foster': 3904, 'militant': 3905, 'computers': 3906, 'interests': 3907, 'ambulance': 3908, 'memphis': 3909, 'gomez': 3910, 'disappointing': 3911, 'bomber': 3912, 'jacob': 3913, 'abdullah': 3914, 'saint': 3915, 'idaho': 3916, 'temperatures': 3917, 'corps': 3918, 'donated': 3919, 'coaches': 3920, '54': 3921, 'brief': 3922, 'picks': 3923, 'chamber': 3924, 'adviser': 3925, 'involvement': 3926, 'stops': 3927, 'commits': 3928, 'montgomery': 3929, 'boosted': 3930, 'pickup': 3931, 'quick': 3932, 'sovereign': 3933, 'chosen': 3934, 'citigroup': 3935, 'refinery': 3936, 'producing': 3937, 'spencer': 3938, 'pit': 3939, 'mario': 3940, 'venezuelan': 3941, 'inducted': 3942, 'donald': 3943, 'blaze': 3944, 'replaced': 3945, 'somalia': 3946, 'cinema': 3947, 'tracks': 3948, 'vaccine': 3949, 'abortion': 3950, 'rooney': 3951, 'shelter': 3952, 'unknown': 3953, '67': 3954, 'studios': 3955, 'senators': 3956, 'serial': 3957, 'locations': 3958, 'premium': 3959, 'catch': 3960, 'dell': 3961, 'either': 3962, 'guest': 3963, 'argument': 3964, 'cyclist': 3965, 'cameras': 3966, 'stands': 3967, 'opinion': 3968, 'airbus': 3969, 'rodriguez': 3970, 'lung': 3971, 'text': 3972, 'advised': 3973, 'discharged': 3974, 'flash': 3975, 'semifinal': 3976, 'wimbledon': 3977, 'discussed': 3978, 'vessel': 3979, 'assange': 3980, 'greatest': 3981, 'words': 3982, 'apologizes': 3983, 'priority': 3984, 'blame': 3985, 'murphy': 3986, 'crystal': 3987, 'write': 3988, 'grade': 3989, 'adelaide': 3990, 'cancel': 3991, 'wellington': 3992, 'bloomberg': 3993, 'wrote': 3994, 'slipped': 3995, 'supported': 3996, 'emma': 3997, 'knocked': 3998, 'allows': 3999, 'wing': 4000, 'remote': 4001, 'clothing': 4002, 'plunged': 4003, 'witness': 4004, 'surplus': 4005, 'waivers': 4006, 'timberlake': 4007, 'solid': 4008, 'ronaldo': 4009, 'pregnancy': 4010, 'identify': 4011, 'assignment': 4012, 'messages': 4013, 'tops': 4014, 'riding': 4015, 'tendulkar': 4016, 'chest': 4017, 'branches': 4018, 'writing': 4019, 'approve': 4020, 'pentagon': 4021, 'revised': 4022, 'emissions': 4023, 'external': 4024, 'bone': 4025, 'lily': 4026, 'floods': 4027, 'heidi': 4028, 'sessions': 4029, 'norway': 4030, 'efficiency': 4031, 'bangalore': 4032, 'robinson': 4033, 'jerusalem': 4034, 'liberty': 4035, 'lying': 4036, 'recognition': 4037, 'concerned': 4038, 'promoting': 4039, 'audience': 4040, 'tommy': 4041, 'surrounding': 4042, 'sing': 4043, 'winners': 4044, 'zero': 4045, 'guards': 4046, 'affiliate': 4047, 'susan': 4048, 'integration': 4049, 'haryana': 4050, 'vatican': 4051, 'corner': 4052, 'comment': 4053, 'resource': 4054, 'holidays': 4055, 'gene': 4056, 'economies': 4057, 'ferrari': 4058, 'developers': 4059, 'communist': 4060, 'immigrants': 4061, 'eighth': 4062, 'delaware': 4063, 'angry': 4064, 'recognized': 4065, '125': 4066, 'clinical': 4067, 'mubarak': 4068, 'naked': 4069, 'wish': 4070, 'papers': 4071, 'catches': 4072, 'completely': 4073, 'editor': 4074, '120': 4075, 'spirit': 4076, 'followed': 4077, 'tribune': 4078, 'accusing': 4079, 'tributes': 4080, 'costar': 4081, 'species': 4082, 'landmark': 4083, 'musician': 4084, 'select': 4085, 'vision': 4086, 'uranium': 4087, 'gunmen': 4088, 'sharks': 4089, '47': 4090, 'quoted': 4091, 'weakened': 4092, 'chidambaram': 4093, 'sandy': 4094, '900': 4095, 'stepped': 4096, 'hub': 4097, 'thieves': 4098, 'keeps': 4099, 'hanging': 4100, 'garage': 4101, 'driven': 4102, 'yemeni': 4103, 'counterpart': 4104, 'roberto': 4105, 'affair': 4106, 'alberta': 4107, 'recycling': 4108, 'drawing': 4109, 'DUI': 4110, 'baku': 4111, 'sacked': 4112, 'poverty': 4113, 'hole': 4114, 'contractor': 4115, 'bishop': 4116, 'athens': 4117, 'maritime': 4118, 'hopeful': 4119, 'bottom': 4120, 'DJ': 4121, 'staterun': 4122, 'mind': 4123, 'uses': 4124, 'refusing': 4125, 'apologized': 4126, 'assist': 4127, 'ward': 4128, 'investigated': 4129, 'hate': 4130, 'confirm': 4131, 'drove': 4132, 'AN': 4133, 'shock': 4134, 'fighters': 4135, 'berlin': 4136, 'filmmaker': 4137, 'blasts': 4138, 'prevention': 4139, 'leeds': 4140, 'brussels': 4141, 'defenseman': 4142, 'browns': 4143, 'muhammad': 4144, 'prostitution': 4145, 'constitutional': 4146, 'viewers': 4147, 'v': 4148, 'lottery': 4149, 'concluded': 4150, 'sharif': 4151, 'favorite': 4152, 'shops': 4153, 'brett': 4154, 'exposure': 4155, 'performs': 4156, 'dmitry': 4157, 'liquor': 4158, 'chef': 4159, 'trades': 4160, 'phillies': 4161, 'prescription': 4162, 'disputed': 4163, 'conservation': 4164, 'honorary': 4165, 'holy': 4166, 'WikiLeaks': 4167, 'r': 4168, 'throws': 4169, 'supermarket': 4170, 'seed': 4171, 'broadcasting': 4172, 'steelers': 4173, 'arnold': 4174, 'trains': 4175, 'IMF': 4176, 'federer': 4177, 'karzai': 4178, 'rolls': 4179, 'pricing': 4180, 'suspend': 4181, '95': 4182, 'stream': 4183, 'outbreak': 4184, 'bombing': 4185, 'swept': 4186, 'refugees': 4187, 'laden': 4188, 'baseman': 4189, 'obesity': 4190, 'models': 4191, 'fernando': 4192, 'abbas': 4193, 'attract': 4194, 'chip': 4195, 'petition': 4196, 'type': 4197, 'everton': 4198, 'improves': 4199, 'concussion': 4200, 'damages': 4201, 'juan': 4202, 'oldest': 4203, 'critics': 4204, 'braves': 4205, 'earn': 4206, 'slash': 4207, 'pizza': 4208, 'ANC': 4209, 'forms': 4210, 'unity': 4211, 'rapids': 4212, 'syed': 4213, 'cruelty': 4214, 'guitarist': 4215, 'websites': 4216, 'ownership': 4217, 'amanda': 4218, 'athletics': 4219, 'promoted': 4220, 'lt': 4221, 'commodities': 4222, 'xinhua': 4223, 'nature': 4224, 'transplant': 4225, 'jacksonville': 4226, 'ravens': 4227, 'deposit': 4228, 'vodafone': 4229, 'switch': 4230, 'farmer': 4231, 'bed': 4232, 'aggravated': 4233, 'priest': 4234, 'pink': 4235, 'spy': 4236, 'costa': 4237, 'gibson': 4238, 'volume': 4239, 'austerity': 4240, 'predicted': 4241, 'fundraising': 4242, 'pranab': 4243, 'flames': 4244, '71': 4245, 'hailed': 4246, 'regulations': 4247, 'commissioners': 4248, 'tape': 4249, 'sisters': 4250, 'attending': 4251, 'violation': 4252, 'brooklyn': 4253, 'particularly': 4254, 'ski': 4255, 'trials': 4256, 'auburn': 4257, 'unable': 4258, 'spoke': 4259, 'subject': 4260, 'upgrades': 4261, 'privacy': 4262, 'eased': 4263, 'anne': 4264, 'titans': 4265, 'wildfire': 4266, 'bryant': 4267, 'throw': 4268, '68': 4269, 'workshop': 4270, 'versus': 4271, 'volleyball': 4272, 'cycling': 4273, '20yearold': 4274, 'estranged': 4275, 'automaker': 4276, 'lifetime': 4277, 'abusing': 4278, 'ceasefire': 4279, 'actors': 4280, 'robbie': 4281, 'operate': 4282, 'stakes': 4283, '66': 4284, 'command': 4285, 'centres': 4286, 'HIV': 4287, 'bolton': 4288, 'feared': 4289, 'fares': 4290, 'neutral': 4291, 'postal': 4292, 'rebel': 4293, 'diplomat': 4294, 'belgium': 4295, 'jefferson': 4296, 'underway': 4297, 'polish': 4298, 'possibly': 4299, 'individuals': 4300, 'determine': 4301, 'shift': 4302, 'porn': 4303, 'pervez': 4304, 'slashed': 4305, 'nobel': 4306, 'middleton': 4307, 'academic': 4308, 'acts': 4309, 'condemns': 4310, 'rajasthan': 4311, 'dozen': 4312, 'licence': 4313, 'complaints': 4314, 'billions': 4315, 'nightclub': 4316, 'celebrations': 4317, 'formal': 4318, 'midnight': 4319, 'wire': 4320, '74': 4321, 'selena': 4322, '50th': 4323, 'portsmouth': 4324, 'richmond': 4325, 'bayern': 4326, 'PGA': 4327, 'survived': 4328, 'danger': 4329, 'behaviour': 4330, 'airports': 4331, 'mean': 4332, 'slams': 4333, 'advances': 4334, 'heroin': 4335, 'ken': 4336, 'frozen': 4337, 'monitor': 4338, 'praises': 4339, 'permits': 4340, 'drowns': 4341, 'blocked': 4342, 'elton': 4343, 'makers': 4344, 'sharing': 4345, 'offences': 4346, 'creation': 4347, 'uttar': 4348, 'anticipated': 4349, 'lows': 4350, 'clothes': 4351, 'nancy': 4352, 'finland': 4353, 'vacant': 4354, 'detention': 4355, 'multiyear': 4356, 'lion': 4357, 'CBI': 4358, 'piece': 4359, 'jays': 4360, 'louisville': 4361, 'definitive': 4362, 'faith': 4363, 'installed': 4364, 'mines': 4365, 'sonia': 4366, 'redskins': 4367, 'hostage': 4368, 'prisoner': 4369, 'sachin': 4370, 'engineers': 4371, 'eating': 4372, 'consumption': 4373, 'dad': 4374, 'importance': 4375, 'nominations': 4376, 'christie': 4377, 'murdoch': 4378, 'print': 4379, 'regulator': 4380, 'burn': 4381, 'mitchell': 4382, 'hu': 4383, 'accidents': 4384, 'pride': 4385, 'miners': 4386, 'unidentified': 4387, 'overcome': 4388, 'awardwinning': 4389, 'vital': 4390, 'warming': 4391, 'smaller': 4392, 'lil': 4393, 'schwarzenegger': 4394, 'discrimination': 4395, 'cisco': 4396, 'ashton': 4397, 'sick': 4398, 'coroner': 4399, 'scare': 4400, 'owen': 4401, 'abdul': 4402, 'threeday': 4403, 'missiles': 4404, 'overhaul': 4405, 'phillips': 4406, 'bags': 4407, 'heath': 4408, 'luke': 4409, 'shell': 4410, 'torch': 4411, '56': 4412, 'seeing': 4413, 'glass': 4414, 'quinn': 4415, 'statewide': 4416, 'doubled': 4417, 'evasion': 4418, 'widespread': 4419, '83': 4420, 'marc': 4421, 'homeowners': 4422, 'mugabe': 4423, 'lawmaker': 4424, 'scrap': 4425, 'mentally': 4426, 'slide': 4427, 'freight': 4428, 'gross': 4429, 'warehouse': 4430, 'meat': 4431, \"'\": 4432, 'deer': 4433, 'investing': 4434, 'wenger': 4435, 'rivers': 4436, 'posting': 4437, 'expenses': 4438, 'suburban': 4439, 'ham': 4440, 'robberies': 4441, 'client': 4442, 'salt': 4443, 'outdoor': 4444, 'canadians': 4445, 'transition': 4446, 'martinez': 4447, 'slump': 4448, 'osbourne': 4449, 'finger': 4450, 'delivers': 4451, 'achieved': 4452, 'aggressive': 4453, 'newton': 4454, 'warn': 4455, 'APA': 4456, 'blake': 4457, 'AFL': 4458, 'ace': 4459, 'whitney': 4460, 'suzuki': 4461, 'johannesburg': 4462, 'sitting': 4463, 'survive': 4464, 'titled': 4465, 'ships': 4466, 'karachi': 4467, 'youths': 4468, 'documentary': 4469, 'rumors': 4470, '500000': 4471, 'parole': 4472, 'differences': 4473, 'absence': 4474, '20th': 4475, 'cyber': 4476, 'boycott': 4477, 'ann': 4478, 'pastor': 4479, 'dean': 4480, 'mahindra': 4481, 'romanian': 4482, '20000': 4483, 'misses': 4484, '1500': 4485, 'threeyear': 4486, 'HTC': 4487, 'jesus': 4488, 'playoffs': 4489, 'extreme': 4490, 'potter': 4491, 'specialty': 4492, 'lloyd': 4493, 'rupert': 4494, 'remember': 4495, 'cambridge': 4496, 'attended': 4497, 'oneday': 4498, 'NJ': 4499, 'shed': 4500, 'fiveyear': 4501, 'gasoline': 4502, 'orioles': 4503, 'decisions': 4504, 'observed': 4505, 'feed': 4506, 'fled': 4507, 'mariners': 4508, 'inspired': 4509, 'robbing': 4510, 'capture': 4511, '73': 4512, 'channels': 4513, 'guru': 4514, 'completion': 4515, 'peru': 4516, 'electrical': 4517, '21yearold': 4518, 'offset': 4519, 'topped': 4520, 'civilian': 4521, 'necessary': 4522, 'PLC': 4523, 'applied': 4524, 'beverly': 4525, 'hometown': 4526, 'marcus': 4527, 'verdict': 4528, 'looked': 4529, 'cotton': 4530, 'cliff': 4531, 'slowed': 4532, 'agenda': 4533, 'duties': 4534, 'baker': 4535, 'ballot': 4536, 'elbow': 4537, 'WWE': 4538, 'dairy': 4539, 'brewers': 4540, 'sweep': 4541, 'chicken': 4542, 'amendment': 4543, '81': 4544, 'census': 4545, 'hyderabad': 4546, 'randy': 4547, 'computing': 4548, 'stem': 4549, '57': 4550, 'easily': 4551, 'convenience': 4552, 'audio': 4553, 'values': 4554, 'download': 4555, 'cheating': 4556, 'lights': 4557, 'rebounds': 4558, 'amber': 4559, 'eliminate': 4560, 'rallies': 4561, 'jumps': 4562, 'merkel': 4563, 'netanyahu': 4564, 'surveillance': 4565, 'swim': 4566, 'H1N1': 4567, 'destination': 4568, 'seahawks': 4569, 'nursing': 4570, 'donations': 4571, 'yes': 4572, '2005': 4573, 'broad': 4574, 'presidentelect': 4575, 'colleges': 4576, 'flagship': 4577, 'spectrum': 4578, 'thanksgiving': 4579, 'permission': 4580, 'rider': 4581, 'collided': 4582, 'grain': 4583, 'gallagher': 4584, 'nissan': 4585, 'edmonton': 4586, 'rapid': 4587, 'honour': 4588, 'diet': 4589, 'outfit': 4590, 'telephone': 4591, 'angel': 4592, 'pilgrims': 4593, 'poker': 4594, 'locked': 4595, 'islam': 4596, 'maximum': 4597, 'secondary': 4598, 'frontman': 4599, 'suggesting': 4600, 'coastal': 4601, 'evacuation': 4602, 'aim': 4603, 'blocks': 4604, 'max': 4605, 'freeze': 4606, 'donates': 4607, 'reds': 4608, 'abandoned': 4609, 'gather': 4610, 'destroys': 4611, 'declining': 4612, 'promise': 4613, 'le': 4614, 'stuck': 4615, 'teenagers': 4616, 'chart': 4617, 'alqaeda': 4618, 'sense': 4619, 'uncertainty': 4620, 'guarantee': 4621, 'stripped': 4622, 'hugh': 4623, 'eat': 4624, 'slowing': 4625, 'watched': 4626, 'replacing': 4627, 'quarterfinals': 4628, 'omaha': 4629, 'WASHINGTON': 4630, 'submitted': 4631, 'contain': 4632, 'todd': 4633, 'medals': 4634, 'inning': 4635, 'monroe': 4636, 'planes': 4637, 'enjoy': 4638, 'reopens': 4639, '1st': 4640, 'publishing': 4641, 'southeastern': 4642, 'quoting': 4643, 'purchases': 4644, 'damascus': 4645, 'household': 4646, 'combined': 4647, 'twoday': 4648, 'wages': 4649, 'volunteer': 4650, 'easter': 4651, 'amitabh': 4652, 'professionals': 4653, 'sheikh': 4654, 'lifestyle': 4655, 'unpaid': 4656, 'wolves': 4657, 'initiatives': 4658, 'respond': 4659, 'blair': 4660, 'dumped': 4661, 'bolt': 4662, 'beautiful': 4663, 'novel': 4664, 'gunman': 4665, 'occupied': 4666, 'moss': 4667, 'manhattan': 4668, 'clerk': 4669, 'seoul': 4670, 'chances': 4671, 'selects': 4672, 'rental': 4673, 'pulling': 4674, 'francis': 4675, 'leon': 4676, '78': 4677, 'audit': 4678, 'ninth': 4679, 'bernanke': 4680, 'screening': 4681, 'rod': 4682, 'easing': 4683, 'blackburn': 4684, 'requirements': 4685, 'decrease': 4686, 'gathered': 4687, 'NRL': 4688, 'directly': 4689, 'robber': 4690, 'doubles': 4691, 'simple': 4692, 'replacement': 4693, 'continental': 4694, 'scenes': 4695, 'luis': 4696, 'fireworks': 4697, 'pneumonia': 4698, 'discussion': 4699, 'occupy': 4700, 'levy': 4701, 'lovato': 4702, 'colin': 4703, 'speedway': 4704, 'titles': 4705, 'clarke': 4706, 'christopher': 4707, 'marion': 4708, 'berry': 4709, 'surged': 4710, 'freddie': 4711, 'nintendo': 4712, 'collapses': 4713, 'obtained': 4714, 'portugal': 4715, 'basic': 4716, 'kitchen': 4717, 'twilight': 4718, 'lakes': 4719, 'closely': 4720, 'moderate': 4721, 'diseases': 4722, 'iconic': 4723, 'nadu': 4724, 'jonas': 4725, 'crop': 4726, 'silvio': 4727, 'suite': 4728, 'ericsson': 4729, 'understanding': 4730, 'borders': 4731, 'unless': 4732, 'serbian': 4733, 'crowned': 4734, 'cool': 4735, 'watchdog': 4736, 'rocker': 4737, 'referendum': 4738, 'righthander': 4739, 'scoring': 4740, 'dennis': 4741, 'charging': 4742, 'signal': 4743, 'yard': 4744, 'princess': 4745, '86': 4746, '49': 4747, 'artists': 4748, 'defeats': 4749, 'philip': 4750, 'grid': 4751, 'outlets': 4752, '2004': 4753, 'mel': 4754, 'fill': 4755, '130': 4756, 'ferry': 4757, 'broadcaster': 4758, 'denmark': 4759, 'newspapers': 4760, 'diplomats': 4761, 'default': 4762, 'unanimously': 4763, 'aboard': 4764, 'manufacturers': 4765, 'judiciary': 4766, 'declare': 4767, 'bounce': 4768, 'childhood': 4769, 'abducted': 4770, 'fundraiser': 4771, 'theme': 4772, 'inaugural': 4773, 'dame': 4774, 'cardiff': 4775, 'wars': 4776, 'knew': 4777, 'nearby': 4778, 'crushed': 4779, 'floyd': 4780, 'horror': 4781, 'tobacco': 4782, 'odds': 4783, 'siemens': 4784, 'sandra': 4785, 'seminar': 4786, 'downgrades': 4787, 'apology': 4788, 'placement': 4789, '12th': 4790, 'compliance': 4791, 'younger': 4792, 'tribunal': 4793, 'mad': 4794, 'drinks': 4795, 'skip': 4796, 'glee': 4797, 'commit': 4798, 'tibetan': 4799, 'desperate': 4800, '89': 4801, 'cautious': 4802, 'teaching': 4803, 'shoppers': 4804, 'celtics': 4805, 'plot': 4806, 'challenging': 4807, 'cofounder': 4808, 'keys': 4809, 'empire': 4810, 'spurs': 4811, 'pioneer': 4812, 'furniture': 4813, '88': 4814, 'glasgow': 4815, 'gen': 4816, 'striking': 4817, 'arctic': 4818, 'infant': 4819, 'mars': 4820, '39': 4821, 'castro': 4822, 'suffer': 4823, 'baldwin': 4824, 'achieve': 4825, 'graduate': 4826, 'reviews': 4827, 'implementation': 4828, 'bowling': 4829, 'unrest': 4830, 'deposits': 4831, 'climbed': 4832, 'pleading': 4833, 'definitely': 4834, 'breakfast': 4835, 'inmates': 4836, 'severely': 4837, 'chad': 4838, 'briefly': 4839, 'designated': 4840, 'steal': 4841, 'sebastian': 4842, 'hull': 4843, 'grocery': 4844, 'grammy': 4845, '100th': 4846, 'hamid': 4847, 'capabilities': 4848, 'disclosed': 4849, 'advisor': 4850, 'bids': 4851, 'restraining': 4852, 'weakness': 4853, '91': 4854, 'oscars': 4855, 'staying': 4856, 'norwegian': 4857, 'oman': 4858, 'argentine': 4859, 'accepts': 4860, 'discount': 4861, 'warnings': 4862, 'who': 4863, 'yields': 4864, 'apart': 4865, 'tens': 4866, 'pretty': 4867, 'ashes': 4868, 'treaty': 4869, 'optimism': 4870, 'juventus': 4871, 'bronze': 4872, 'preferred': 4873, 'triplea': 4874, 'regulation': 4875, '77': 4876, 'minute': 4877, 'ecuador': 4878, 'amnesty': 4879, 'dam': 4880, 'packaging': 4881, 'oak': 4882, 'grave': 4883, 'escapes': 4884, '2020': 4885, 'liver': 4886, 'ethnic': 4887, 'bashar': 4888, 'bosses': 4889, 'proceedings': 4890, 'jake': 4891, 'crunch': 4892, 'roadside': 4893, 'serena': 4894, 'warm': 4895, 'qaeda': 4896, 'roles': 4897, '25000': 4898, 'norwich': 4899, 'inquest': 4900, 'rumours': 4901, '79': 4902, 'happen': 4903, 'aside': 4904, 'cruz': 4905, 'packers': 4906, 'northeastern': 4907, 'disappointed': 4908, 'norman': 4909, 'races': 4910, 'easier': 4911, 'administrative': 4912, 'norfolk': 4913, 'racist': 4914, 'preparation': 4915, 'underground': 4916, 'intervention': 4917, 'shared': 4918, 'largely': 4919, 'fat': 4920, 'ads': 4921, 'christchurch': 4922, 'volatile': 4923, '4000': 4924, 'cemetery': 4925, '200000': 4926, 'borrowing': 4927, '19yearold': 4928, 'kabul': 4929, 'aide': 4930, 'understand': 4931, 'narrowly': 4932, 'exploded': 4933, 'wrestling': 4934, 'fugitive': 4935, 'farms': 4936, 'datuk': 4937, 'trump': 4938, 'executed': 4939, 'endorse': 4940, 'ultimate': 4941, 'buses': 4942, 'nathan': 4943, 'albany': 4944, 'jewelry': 4945, 'McDonald': 4946, 'abbott': 4947, 'ethics': 4948, 'lifts': 4949, 'mild': 4950, 'harassment': 4951, 'PlayStation': 4952, 'bernard': 4953, 'employer': 4954, 'pharmacy': 4955, 'numerous': 4956, 'acquiring': 4957, 'licensing': 4958, 'unbeaten': 4959, 'defeating': 4960, 'prestigious': 4961, 'fix': 4962, 'invitation': 4963, 'southwestern': 4964, 'badly': 4965, 'batsman': 4966, 'michele': 4967, 'mystery': 4968, 'xbox': 4969, 'midwest': 4970, 'enable': 4971, 'controlled': 4972, 'questioned': 4973, 'subscribers': 4974, 'backing': 4975, 'challenged': 4976, 'cox': 4977, '360': 4978, 'oracle': 4979, 'harrison': 4980, 'albert': 4981, 'swap': 4982, 'pupils': 4983, 'smuggling': 4984, 'birds': 4985, 'SUV': 4986, 'opponents': 4987, 'blind': 4988, 'pattern': 4989, 'eyes': 4990, 'drill': 4991, 'governance': 4992, 'ICC': 4993, 'tablets': 4994, 'gear': 4995, 'butler': 4996, 'bullock': 4997, 'barnes': 4998, 'bench': 4999, 'FOCUS': 5000, 'declaration': 5001, 'prompting': 5002, 'gambling': 5003, 'operational': 5004, 'doping': 5005, 'cope': 5006, 'atomic': 5007, 'osama': 5008, 'acquitted': 5009, '84': 5010, 'grounds': 5011, 'therapy': 5012, 'worried': 5013, 'institution': 5014, 'originally': 5015, 'appealing': 5016, 'jane': 5017, 'gaining': 5018, 'engineer': 5019, 'recruiting': 5020, 'lesbian': 5021, 'unprecedented': 5022, 'educational': 5023, 'HSBC': 5024, 'boxer': 5025, 'organised': 5026, 'burglaries': 5027, 'knot': 5028, 'angels': 5029, 'brady': 5030, 'tragedy': 5031, 'hearts': 5032, 'peninsula': 5033, 'letters': 5034, 'dental': 5035, 'widely': 5036, 'triggered': 5037, 'strengthened': 5038, 'gallery': 5039, 'cardiac': 5040, 'qualify': 5041, '3G': 5042, 'mortgages': 5043, 'promising': 5044, 'machines': 5045, 'affecting': 5046, 'transferred': 5047, 'ahmed': 5048, 'calm': 5049, 'sensation': 5050, 'beyonce': 5051, 'representing': 5052, 'boyle': 5053, 'arbitration': 5054, 'sharma': 5055, 'lynch': 5056, 'angela': 5057, 'fred': 5058, 'economist': 5059, 'singing': 5060, 'shape': 5061, 'withdrew': 5062, 'fulham': 5063, 'harbor': 5064, 'eva': 5065, 'updates': 5066, 'gillard': 5067, 'athlete': 5068, 'desert': 5069, 'execution': 5070, 'syracuse': 5071, 'insurer': 5072, 'deported': 5073, 'lease': 5074, 'wichita': 5075, 'magnitude': 5076, 'jewellery': 5077, 'teammate': 5078, 'prosecution': 5079, 'austria': 5080, 'retained': 5081, 'reward': 5082, '69': 5083, 'substance': 5084, 'UEFA': 5085, 'developments': 5086, 'sheffield': 5087, 'lunch': 5088, 'emmy': 5089, 'contribution': 5090, 'valued': 5091, 'joel': 5092, '92': 5093, 'LP': 5094, 'weighed': 5095, 'staged': 5096, 'sanchez': 5097, 'l': 5098, 'larger': 5099, 'rehabilitation': 5100, 'tips': 5101, 'controls': 5102, 'exposed': 5103, 'capable': 5104, 'recruit': 5105, 'herald': 5106, 'renew': 5107, 'answers': 5108, 'penguins': 5109, 'policeman': 5110, '2nd': 5111, 'minneapolis': 5112, 'apr': 5113, 'raj': 5114, 'ram': 5115, '101': 5116, 'brush': 5117, 'trends': 5118, 'aberdeen': 5119, 'responding': 5120, 'entitled': 5121, 'moody': 5122, 'bombs': 5123, 'scientist': 5124, 'citizenship': 5125, 'IST': 5126, 'andhra': 5127, 'beta': 5128, 'indicated': 5129, 'calgary': 5130, 'branded': 5131, 'bath': 5132, 'planet': 5133, 'newman': 5134, 'thunder': 5135, 'seniors': 5136, 'document': 5137, 'hybrid': 5138, 'politician': 5139, 'comic': 5140, '110': 5141, 'misconduct': 5142, 'distributor': 5143, 'pump': 5144, 'platinum': 5145, 'carriers': 5146, 'appointments': 5147, 'secures': 5148, 'reverse': 5149, 'admitting': 5150, 'XVI': 5151, 'insider': 5152, 'genocide': 5153, 'insurgents': 5154, 'apologised': 5155, 'participation': 5156, 'pacquiao': 5157, 'discussions': 5158, 'jamaica': 5159, 'relay': 5160, 'boats': 5161, 'detective': 5162, 'racial': 5163, 'nurse': 5164, 'creator': 5165, 'responded': 5166, 'inaugurated': 5167, 'suu': 5168, 'kyi': 5169, 'dress': 5170, 'mariah': 5171, 'rudd': 5172, 'thousand': 5173, 'turmoil': 5174, 'appoint': 5175, 'guidelines': 5176, 'archbishop': 5177, 'ones': 5178, 'nonprofit': 5179, 'tag': 5180, 'bankers': 5181, 'suisse': 5182, 'UBS': 5183, 'recommended': 5184, '13th': 5185, 'mile': 5186, 'inspection': 5187, 'kutcher': 5188, 'wigan': 5189, 'pledge': 5190, 'buffett': 5191, 'renews': 5192, 'settles': 5193, 'impressive': 5194, 'navigation': 5195, 'airtel': 5196, 'taipei': 5197, 'christians': 5198, 'finnish': 5199, 'emotional': 5200, 'soft': 5201, 'quiet': 5202, 'reed': 5203, 'vanessa': 5204, 'expo': 5205, 'hungary': 5206, '350': 5207, 'demonstration': 5208, 'belgian': 5209, '25th': 5210, 'mohammed': 5211, 'sp': 5212, 'stages': 5213, 'dawn': 5214, 'trainer': 5215, 'newport': 5216, 'explosive': 5217, 'electoral': 5218, 'enhanced': 5219, 'cheney': 5220, 'leaked': 5221, 'darren': 5222, 'mayer': 5223, '24yearold': 5224, 'elephant': 5225, 'dirty': 5226, 'santorum': 5227, 'charleston': 5228, 'ally': 5229, 'cycle': 5230, 'urge': 5231, 'TMZ': 5232, 'sustainability': 5233, 'salem': 5234, 'swing': 5235, 'tentative': 5236, 'chemicals': 5237, 'newborn': 5238, 'soul': 5239, 'kicking': 5240, 'LG': 5241, 'survival': 5242, 'writers': 5243, 'newark': 5244, 'thriller': 5245, 'vermont': 5246, 'vince': 5247, 'fought': 5248, 'FORMER': 5249, '58': 5250, 'disorder': 5251, 'autism': 5252, 'cooperate': 5253, 'layoffs': 5254, 'loved': 5255, 'tunisia': 5256, 'stones': 5257, 'extremely': 5258, 'hazare': 5259, 'edinburgh': 5260, 'lived': 5261, 'oprah': 5262, 'manning': 5263, 'EUR': 5264, 'starbucks': 5265, 'procedure': 5266, 'remake': 5267, 'aiming': 5268, 'mohamed': 5269, 'climb': 5270, 'assured': 5271, 'turkmenistan': 5272, '87': 5273, 'billboard': 5274, 'bang': 5275, 'manny': 5276, 'shootout': 5277, 'substantial': 5278, 'innocent': 5279, 'punishment': 5280, 'runway': 5281, 'g': 5282, 'vulnerable': 5283, 'railways': 5284, 'views': 5285, 'neighbours': 5286, 'wyoming': 5287, 'favor': 5288, 'difference': 5289, 'slam': 5290, 'hiding': 5291, 'campaigns': 5292, 'excessive': 5293, 'refugee': 5294, 'taxpayers': 5295, 'allies': 5296, 'oath': 5297, 'extradition': 5298, 'filming': 5299, 'eliminated': 5300, 'shoes': 5301, 'seconds': 5302, 'superintendent': 5303, 'mistakes': 5304, 'overdose': 5305, 'intersection': 5306, 'lab': 5307, 'splits': 5308, 'readers': 5309, 'ridge': 5310, 'genetic': 5311, 'lahore': 5312, 'sanjay': 5313, 'availability': 5314, 'grace': 5315, 'struggles': 5316, 'heavily': 5317, 'corn': 5318, 'likes': 5319, 'exwife': 5320, 'mega': 5321, 'quebec': 5322, 'thinking': 5323, 'canal': 5324, 'indefinitely': 5325, 'meters': 5326, 'reconciliation': 5327, 'finances': 5328, 'paterson': 5329, 'prepaid': 5330, 'mainly': 5331, 'experienced': 5332, 'departments': 5333, 'coleman': 5334, 'extensive': 5335, 'shootings': 5336, 'intent': 5337, 'wheel': 5338, 'rocky': 5339, 'hathaway': 5340, 'wickets': 5341, 'hang': 5342, 'tours': 5343, 'breach': 5344, 'expensive': 5345, 'k': 5346, 'covering': 5347, 'ryanair': 5348, 'harvest': 5349, 'yuan': 5350, 'crossed': 5351, 'indecent': 5352, 'metropolitan': 5353, 'privately': 5354, 'riot': 5355, 'narendra': 5356, 'DNA': 5357, 'curb': 5358, 'maruti': 5359, 'belt': 5360, 'suburb': 5361, 'explain': 5362, 'insisting': 5363, 'depp': 5364, 'tulsa': 5365, 'PPP': 5366, 'lisa': 5367, 'pledges': 5368, 'roma': 5369, 'throat': 5370, 'apps': 5371, 'anchor': 5372, 'migrants': 5373, 'modest': 5374, 'turner': 5375, 'reliever': 5376, 'jean': 5377, 'wounds': 5378, 'richardson': 5379, 'gate': 5380, 'sentencing': 5381, 'thomson': 5382, 'bullet': 5383, 'BHP': 5384, 'certification': 5385, 'thief': 5386, 'suggest': 5387, \"o'brien\": 5388, 'encouraged': 5389, 'correspondent': 5390, 'spiritual': 5391, 'exgirlfriend': 5392, 'mounting': 5393, 'cuomo': 5394, 'choose': 5395, 'framework': 5396, 'grows': 5397, 'reiterated': 5398, 'destroy': 5399, 'JPMorgan': 5400, 'wishes': 5401, 'SAP': 5402, 'prompted': 5403, 'pursue': 5404, 'foreigners': 5405, 'offenders': 5406, 'delivering': 5407, 'composer': 5408, 'jintao': 5409, 'lineman': 5410, 'vacation': 5411, 'muammar': 5412, 'firearms': 5413, 'stoke': 5414, 'assam': 5415, 'sudanese': 5416, 'rankings': 5417, 'bradford': 5418, 'frontier': 5419, 'tesco': 5420, 'chair': 5421, 'ecommerce': 5422, 'adrian': 5423, 'overturned': 5424, 'risen': 5425, 'conn': 5426, 'exporters': 5427, 'mae': 5428, 'brent': 5429, 'flow': 5430, 'attractive': 5431, 'creates': 5432, 'silence': 5433, '30000': 5434, 'swansea': 5435, '23yearold': 5436, 'bharti': 5437, 'longest': 5438, 'OPEC': 5439, 'mohammad': 5440, 'economists': 5441, 'torture': 5442, 'golfer': 5443, 'retain': 5444, 'pollution': 5445, 'des': 5446, 'molesting': 5447, 'neighbor': 5448, 'civic': 5449, 'strategies': 5450, 'socalled': 5451, 'willing': 5452, 'devastating': 5453, 'silicon': 5454, '05': 5455, 'maintains': 5456, 'wings': 5457, 'accounting': 5458, 'derek': 5459, 'overweight': 5460, 'nicki': 5461, 'minaj': 5462, 'concept': 5463, 'performances': 5464, 'statements': 5465, 'hardware': 5466, 'install': 5467, 'profile': 5468, 'iTunes': 5469, 'lexington': 5470, 'colts': 5471, 'torn': 5472, 'defamation': 5473, 'speeding': 5474, 'knows': 5475, 'disciplinary': 5476, 'arsene': 5477, 'personality': 5478, 'advisers': 5479, 'woes': 5480, 'rubber': 5481, 'strain': 5482, 'grown': 5483, 'cues': 5484, 'raja': 5485, 'recruitment': 5486, 'appearing': 5487, 'routine': 5488, 'supermodel': 5489, 'expelled': 5490, 'rams': 5491, 'drives': 5492, 'button': 5493, 'f': 5494, 'handling': 5495, 'complications': 5496, 'broker': 5497, 'talked': 5498, 'organized': 5499, 'cement': 5500, 'startup': 5501, 'rockies': 5502, 'plate': 5503, 'footballer': 5504, 'mercury': 5505, 'wade': 5506, 'clearing': 5507, 'cats': 5508, 'solve': 5509, 'chronic': 5510, 'lambert': 5511, 'rovers': 5512, 'bound': 5513, 'logistics': 5514, 'peterson': 5515, 'jumping': 5516, 'publication': 5517, 'bruins': 5518, 'fines': 5519, 'honors': 5520, 'ranch': 5521, 'AIDS': 5522, 'doubt': 5523, 'crush': 5524, 'invites': 5525, 'omar': 5526, 'cedar': 5527, 'giffords': 5528, 'chargers': 5529, 'orissa': 5530, 'infringement': 5531, 'influential': 5532, 'doubleheader': 5533, 'regrets': 5534, 'th': 5535, 'conrad': 5536, 'encourage': 5537, 'rb': 5538, 'bolster': 5539, 'mogul': 5540, 'winnipeg': 5541, 'reduces': 5542, 'indefinite': 5543, 'lock': 5544, 'donation': 5545, 'tibet': 5546, 'rapidly': 5547, 'essex': 5548, 'criminals': 5549, 'maintained': 5550, 'eds': 5551, 'towns': 5552, 'miliband': 5553, 'bust': 5554, 'capello': 5555, 'bennett': 5556, 'IPL': 5557, 'tyson': 5558, 'hamstring': 5559, 'vicepresident': 5560, 'contribute': 5561, 'ivory': 5562, 'manuel': 5563, 'sharapova': 5564, 'develops': 5565, 'gathering': 5566, 'medicare': 5567, 'liquidity': 5568, '000': 5569, 'fabio': 5570, 'gray': 5571, 'salaries': 5572, 'praise': 5573, 'mosque': 5574, 'zambia': 5575, 'mountains': 5576, 'survives': 5577, 'apologises': 5578, 'marries': 5579, 'bowler': 5580, 'proved': 5581, 'alberto': 5582, 'HD': 5583, 'canyon': 5584, 'filled': 5585, 'extraordinary': 5586, 'molestation': 5587, '4G': 5588, 'ET': 5589, 'convertible': 5590, 'activated': 5591, 'myers': 5592, 'glenn': 5593, 'ancient': 5594, 'simply': 5595, 'vendor': 5596, 'valentine': 5597, 'zsa': 5598, 'waived': 5599, 'projected': 5600, 'carpet': 5601, 'WOMAN': 5602, 'singles': 5603, 'focusing': 5604, 'emerge': 5605, 'pond': 5606, '14th': 5607, 'connect': 5608, 'panasonic': 5609, 'favour': 5610, 'slovenia': 5611, 'recovers': 5612, 'holder': 5613, 'renowned': 5614, 'daytona': 5615, 'autopsy': 5616, 'licenses': 5617, 'remembered': 5618, '15th': 5619, 'johansson': 5620, 'wallace': 5621, 'trooper': 5622, 'stomach': 5623, 'pose': 5624, 'intensive': 5625, 'nile': 5626, 'enjoying': 5627, 'midday': 5628, 'cornerback': 5629, 'stern': 5630, 'colleagues': 5631, 'shield': 5632, 'pipe': 5633, 'quest': 5634, 'warrants': 5635, 'headon': 5636, 'shark': 5637, 'promotions': 5638, 'tattoo': 5639, 'europa': 5640, 'colombo': 5641, 'gifts': 5642, 'McLaren': 5643, 'universe': 5644, 'finishing': 5645, 'monsoon': 5646, 'pensions': 5647, 'vincent': 5648, '1200': 5649, 'addresses': 5650, 'sierra': 5651, 'bryan': 5652, 'merge': 5653, '18th': 5654, '17th': 5655, 'ailing': 5656, 'SEC': 5657, 'thackeray': 5658, 'counter': 5659, 'discover': 5660, 'else': 5661, 'laura': 5662, 'daughters': 5663, 'tractor': 5664, 'rays': 5665, 'bullish': 5666, 'neighbors': 5667, 'sofia': 5668, 'portal': 5669, 'yellow': 5670, 'ave': 5671, 'jharkhand': 5672, 'container': 5673, 'hartford': 5674, 'rehman': 5675, 'consensus': 5676, 'nude': 5677, 'du': 5678, 'harvard': 5679, 'austrian': 5680, 'surprised': 5681, '22yearold': 5682, 'walter': 5683, 'partial': 5684, 'holders': 5685, 'lie': 5686, 'rajya': 5687, 'explore': 5688, 'sidelines': 5689, 'battled': 5690, 'vietnamese': 5691, 'sharon': 5692, 'represent': 5693, 'fever': 5694, 'juvenile': 5695, 'pratt': 5696, 'booked': 5697, 'dhoni': 5698, 'catcher': 5699, 'resigning': 5700, 'djokovic': 5701, 'mainland': 5702, 'require': 5703, 'catherine': 5704, 'clooney': 5705, 'essential': 5706, 'humphries': 5707, 'protesting': 5708, 'unconscious': 5709, 'somerset': 5710, 'romance': 5711, 'exciting': 5712, 'carrie': 5713, 'circle': 5714, 'spreading': 5715, 'diaz': 5716, 'ventures': 5717, 'betty': 5718, 'mini': 5719, 'semiconductor': 5720, 'violated': 5721, 'plunge': 5722, 'policemen': 5723, '15000': 5724, 'bout': 5725, 'transparency': 5726, 'picking': 5727, 'deployed': 5728, 'finale': 5729, 'occasion': 5730, 'bachmann': 5731, 'diving': 5732, 'miner': 5733, 'blockbuster': 5734, 'ash': 5735, 'hijacked': 5736, 'riley': 5737, 'radical': 5738, 'toss': 5739, 'margin': 5740, 'camps': 5741, 'collective': 5742, 'resulted': 5743, 'tension': 5744, 'australians': 5745, 'breakthrough': 5746, 'possessing': 5747, 'heroes': 5748, 'sweet': 5749, 'map': 5750, 'pune': 5751, 'cristiano': 5752, 'engines': 5753, 'pack': 5754, 'benjamin': 5755, 'paso': 5756, 'bancorp': 5757, '59': 5758, 'plaza': 5759, 'goa': 5760, 'kingston': 5761, '4th': 5762, 'horses': 5763, 'lowered': 5764, 'welsh': 5765, 'exactly': 5766, 'marlins': 5767, 'backup': 5768, 'duo': 5769, 'blacks': 5770, 'natalie': 5771, 'SC': 5772, 'behalf': 5773, 'confessed': 5774, 'owns': 5775, 'hacked': 5776, 'istanbul': 5777, 'elite': 5778, 'blagojevich': 5779, 'naomi': 5780, 'specific': 5781, 'function': 5782, 'sindh': 5783, 'handle': 5784, 'cruises': 5785, 'shoe': 5786, 'excellent': 5787, 'improvements': 5788, 'boosting': 5789, 'rounds': 5790, 'TWO': 5791, 'travelling': 5792, 'fruit': 5793, 'reception': 5794, 'morris': 5795, 'brutal': 5796, '7th': 5797, 'henderson': 5798, 'sioux': 5799, 'traveling': 5800, 'legs': 5801, 'swan': 5802, 'OS': 5803, 'imported': 5804, 'chopra': 5805, 'strengthening': 5806, 'optimistic': 5807, 'gender': 5808, 'tinto': 5809, 'analytics': 5810, 'abused': 5811, 'effectively': 5812, 'tripoli': 5813, 'intended': 5814, 'absolutely': 5815, 'autumn': 5816, 'doherty': 5817, 'malta': 5818, 'bonuses': 5819, 'provinces': 5820, 'relatives': 5821, 'tire': 5822, 'CA': 5823, 'pact': 5824, 'magistrate': 5825, 'helen': 5826, 'acquisitions': 5827, 'favre': 5828, 'cardinal': 5829, 'adoption': 5830, 'hosni': 5831, 'priced': 5832, 'sorry': 5833, 'depot': 5834, 'couples': 5835, 'uganda': 5836, 'issuing': 5837, 'SAN': 5838, 'hanged': 5839, 'McCarthy': 5840, 'threaten': 5841, 'excited': 5842, 'walks': 5843, 'revealing': 5844, 'arraigned': 5845, '40th': 5846, 'di': 5847, 'wonder': 5848, 'meant': 5849, 'tsvangirai': 5850, 'baptist': 5851, 'cooperative': 5852, 'assad': 5853, 'participating': 5854, 'soaring': 5855, 'riders': 5856, 'sit': 5857, 'travis': 5858, 'encouraging': 5859, 'cage': 5860, 'equal': 5861, 'hungarian': 5862, 'server': 5863, 'helicopters': 5864, 'addressing': 5865, 'volkswagen': 5866, 'punched': 5867, '2016': 5868, 'finishes': 5869, 'solidarity': 5870, 'aguilera': 5871, 'LONDON': 5872, 'vehicular': 5873, 'romantic': 5874, 'ideas': 5875, 'donate': 5876, 'satyam': 5877, 'voter': 5878, 'checkpoint': 5879, 'sluggish': 5880, 'imran': 5881, 'thin': 5882, 'aden': 5883, 'ports': 5884, 'mamata': 5885, 'marco': 5886, 'grass': 5887, 'homeland': 5888, 'surface': 5889, 'remanded': 5890, 'cain': 5891, 'cellular': 5892, 'sensitive': 5893, 'mo': 5894, 'percentage': 5895, 'durham': 5896, 'load': 5897, 'boulevard': 5898, 'stretch': 5899, 'gardens': 5900, 'quitting': 5901, '18yearold': 5902, 'consultancy': 5903, 'brook': 5904, 'patil': 5905, 'kid': 5906, 'UCLA': 5907, 'repairs': 5908, 'debts': 5909, 'withdrawal': 5910, 'housewives': 5911, 'offerings': 5912, 'foul': 5913, 'fantasy': 5914, 'USbased': 5915, 'shipments': 5916, 'seasonal': 5917, 'stemming': 5918, '25yearold': 5919, 'credits': 5920, 'minn': 5921, 'domain': 5922, 'brokerage': 5923, 'janata': 5924, 'margaret': 5925, 'cannabis': 5926, 'dying': 5927, 'acclaimed': 5928, 'niagara': 5929, 'scarlett': 5930, 'bitter': 5931, 'repeatedly': 5932, 'mothers': 5933, 'associate': 5934, 'barton': 5935, 'sponsorship': 5936, 'hurricanes': 5937, 'mourinho': 5938, 'nurses': 5939, 'hikes': 5940, 'LSU': 5941, 'orchestra': 5942, 'lessons': 5943, 'spell': 5944, 'boom': 5945, 'retreat': 5946, 'origin': 5947, 'wifi': 5948, 'FDA': 5949, 'transmission': 5950, 'battered': 5951, 'crazy': 5952, 'revive': 5953, 'novak': 5954, 'pointed': 5955, 'qualified': 5956, 'concerts': 5957, 'collected': 5958, '2500': 5959, 'webber': 5960, 'DVD': 5961, 'maple': 5962, 'penalties': 5963, 'deciding': 5964, 'CIA': 5965, 'kenyan': 5966, 'bros': 5967, 'unusual': 5968, 'greene': 5969, 'administrator': 5970, 'plenty': 5971, '2002': 5972, 'hammer': 5973, 'adele': 5974, 'blew': 5975, 'implemented': 5976, 'reelected': 5977, 'sena': 5978, 'ryder': 5979, 'leicester': 5980, 'timothy': 5981, 'symptoms': 5982, '6000': 5983, 'endorsement': 5984, 'cricketer': 5985, 'contained': 5986, 'covers': 5987, 'LOS': 5988, 'resorts': 5989, 'HBO': 5990, 'stevens': 5991, 'yorkshire': 5992, 'knicks': 5993, 'whale': 5994, 'weakens': 5995, 'dragged': 5996, 'restructure': 5997, 'brendan': 5998, 'displaced': 5999, 'participants': 6000, 'contractors': 6001, 'windsor': 6002, 'yousuf': 6003, 'councillors': 6004, 'organizers': 6005, 'assessment': 6006, 'mobility': 6007, 'consolidation': 6008, 'videos': 6009, 'presenter': 6010, 'boris': 6011, 'garbage': 6012, 'hinted': 6013, 'associates': 6014, 'moments': 6015, 'portion': 6016, 'courses': 6017, 'croatia': 6018, 'petersburg': 6019, 'excellence': 6020, 'presidents': 6021, 'arrival': 6022, 'containing': 6023, 'religion': 6024, 'appealed': 6025, 'jayz': 6026, 'matters': 6027, 'tel': 6028, 'cheap': 6029, 'stuart': 6030, 'impose': 6031, 'bailey': 6032, 'wolf': 6033, 'oxford': 6034, 'segment': 6035, 'mansion': 6036, 'particular': 6037, 'fleeing': 6038, 'amtrak': 6039, 'surcharge': 6040, 'logo': 6041, 'marketplace': 6042, 'carson': 6043, 'addressed': 6044, 'certificate': 6045, 'minogue': 6046, 'vijay': 6047, 'precious': 6048, 'saskatchewan': 6049, 'elect': 6050, 'soil': 6051, 'duncan': 6052, 'retains': 6053, 'GDP': 6054, 'dragon': 6055, '3rd': 6056, 'aerospace': 6057, 'utilities': 6058, 'clayton': 6059, '28yearold': 6060, 'strict': 6061, '19th': 6062, 'portuguese': 6063, 'ellen': 6064, 'perhaps': 6065, 'tumbled': 6066, 'circumstances': 6067, 'buyout': 6068, 'cannon': 6069, 'survivors': 6070, 'antigovernment': 6071, 'huntington': 6072, 'seem': 6073, 'treasurer': 6074, 'carmaker': 6075, 'infosys': 6076, 'renault': 6077, 'villages': 6078, 'symbol': 6079, 'aussie': 6080, 'maps': 6081, 'touched': 6082, 'ronnie': 6083, 'providence': 6084, 'carlisle': 6085, 'investigations': 6086, 'noted': 6087, 'stick': 6088, 'spice': 6089, 'valuable': 6090, 'resulting': 6091, 'aamir': 6092, 'robbers': 6093, 'seconddegree': 6094, 'compromise': 6095, 'alleging': 6096, 'organisers': 6097, 'barn': 6098, 'explains': 6099, 'rainfall': 6100, 'burst': 6101, 'danish': 6102, 'questioning': 6103, 'richie': 6104, 'protecting': 6105, 'voluntarily': 6106, '14yearold': 6107, 'arthur': 6108, 'popularity': 6109, 'declaring': 6110, 'eBay': 6111, 'gym': 6112, 'polling': 6113, 'qualifier': 6114, 'bangkok': 6115, 'explosives': 6116, 'amazoncom': 6117, 'katrina': 6118, 'satellites': 6119, 'humans': 6120, 'rap': 6121, 'rd': 6122, 'imprisonment': 6123, '225': 6124, 'burma': 6125, 'cream': 6126, 'burglar': 6127, 'safely': 6128, 'tucson': 6129, 'medicaid': 6130, 'fouryear': 6131, 'alicia': 6132, 'beatles': 6133, 'twotime': 6134, 'broking': 6135, 'noble': 6136, 'ages': 6137, 'slated': 6138, 'stateowned': 6139, 'publicist': 6140, 'palmer': 6141, 'acute': 6142, 'carroll': 6143, 'concrete': 6144, 'astros': 6145, 'turbine': 6146, 'compact': 6147, 'muscle': 6148, 'disputes': 6149, 'fights': 6150, 'burlington': 6151, 'teammates': 6152, 'hart': 6153, 'anthem': 6154, 'hunters': 6155, 'heather': 6156, 'dismisses': 6157, 'lays': 6158, 'kobe': 6159, 'uncertain': 6160, 'submit': 6161, 'serie': 6162, 'governing': 6163, 'dhaka': 6164, 'rossi': 6165, 'wii': 6166, 'kirk': 6167, 'completing': 6168, 'briefing': 6169, 'joey': 6170, 'noel': 6171, 'listing': 6172, 'veto': 6173, 'puppy': 6174, 'mate': 6175, '400000': 6176, 'accusations': 6177, 'programmes': 6178, 'hornets': 6179, 'castle': 6180, 'poisoning': 6181, 'covered': 6182, 'reunited': 6183, 'productivity': 6184, 'awaited': 6185, 'multimillion': 6186, 'slowly': 6187, 'cocacola': 6188, 'suffolk': 6189, '30yearold': 6190, 'components': 6191, 'lucas': 6192, 'degrees': 6193, 'flags': 6194, 'jakarta': 6195, 'amazing': 6196, 'jaguars': 6197, '93': 6198, 'destinations': 6199, 'fate': 6200, 'tweet': 6201, 'underwood': 6202, 'deployment': 6203, 'advocates': 6204, 'sexy': 6205, 'longoria': 6206, 'sergio': 6207, 'coyotes': 6208, 'protected': 6209, 'govt': 6210, 'banerjee': 6211, 'unified': 6212, 'kiss': 6213, 'glen': 6214, 'skype': 6215, 'brawl': 6216, 'greenhouse': 6217, 'a': 6218, 'counterparts': 6219, 'method': 6220, 'manila': 6221, 'faculty': 6222, 'detectives': 6223, 'ponting': 6224, 'journey': 6225, 'bribery': 6226, 'riverside': 6227, 'brokers': 6228, 'fierce': 6229, 'stressed': 6230, 'borough': 6231, 'orbit': 6232, 'karl': 6233, 'buzz': 6234, 'powell': 6235, 'decides': 6236, 'organic': 6237, 'notre': 6238, 'oscarwinning': 6239, 'counsel': 6240, 'contributions': 6241, 'historical': 6242, 'bounced': 6243, 'avalanche': 6244, 'brooks': 6245, 'ex': 6246, 'invested': 6247, 'biopic': 6248, 'yacht': 6249, 'economics': 6250, 'yoga': 6251, 'slain': 6252, 'institutional': 6253, 'nawaz': 6254, 'paise': 6255, 'chilean': 6256, 'valencia': 6257, 'addiction': 6258, 'dayton': 6259, 'buyer': 6260, 'winfrey': 6261, 'fresno': 6262, 'purchased': 6263, 'ethiopia': 6264, 'ANGELES': 6265, 'parked': 6266, '300000': 6267, 'snap': 6268, 'farewell': 6269, 'etihad': 6270, 'IPO': 6271, 'detected': 6272, 'equality': 6273, 'zac': 6274, 'hindu': 6275, 'caps': 6276, 'astronaut': 6277, 'GE': 6278, 'underage': 6279, 'councillor': 6280, 'gala': 6281, 'pensioner': 6282, 'sudden': 6283, 'passport': 6284, 'bottle': 6285, 'stayed': 6286, 'ballots': 6287, 'bombings': 6288, 'damaging': 6289, 'concerning': 6290, 'outsourcing': 6291, 'offseason': 6292, 'tear': 6293, 'legislators': 6294, 'gig': 6295, 'airlifted': 6296, 'jun': 6297, 'jackie': 6298, 'apartments': 6299, 'pretax': 6300, 'griffin': 6301, 'spray': 6302, 'hundred': 6303, 'knox': 6304, 'stories': 6305, 'disabilities': 6306, 'shocking': 6307, 'padres': 6308, 'predict': 6309, 'symphony': 6310, 'kyrgyz': 6311, 'permit': 6312, 'rhode': 6313, 'swings': 6314, 'reject': 6315, 'tmobile': 6316, 'horizon': 6317, 'harvey': 6318, 'bright': 6319, 'flown': 6320, 'usain': 6321, 'tumor': 6322, 'inventories': 6323, 'gonzalez': 6324, 'dengue': 6325, 'enjoyed': 6326, 'allocation': 6327, 'subway': 6328, 'trigger': 6329, 'eligible': 6330, 'flyers': 6331, 'efficient': 6332, 'seal': 6333, 'billiton': 6334, 'algeria': 6335, 'iOS': 6336, 'rev': 6337, 'schemes': 6338, 'corrupt': 6339, 'gazprom': 6340, 'studying': 6341, 'floating': 6342, 'invests': 6343, 'hails': 6344, 'shuts': 6345, 'uk': 6346, 'inspector': 6347, 'workplace': 6348, 'checked': 6349, 'AOL': 6350, 'dominican': 6351, 'garcia': 6352, 'stunning': 6353, 'dutt': 6354, 'barrels': 6355, 'fiery': 6356, 'globally': 6357, '15yearold': 6358, 'sweeping': 6359, 'interbank': 6360, '21st': 6361, 'sank': 6362, 'intense': 6363, 'caution': 6364, 'gosselin': 6365, 'celebrities': 6366, 'marines': 6367, 'stood': 6368, 'statue': 6369, 'boards': 6370, 'exclusively': 6371, 'proper': 6372, 'introducing': 6373, '12000': 6374, 'sleeping': 6375, 'wilmington': 6376, 'cigarettes': 6377, '30th': 6378, 'toys': 6379, 'citi': 6380, 'sponsored': 6381, 'rwanda': 6382, 'erupted': 6383, 'nato': 6384, 'geneva': 6385, 'partially': 6386, 'perez': 6387, 'chat': 6388, 'macedonia': 6389, 'raids': 6390, 'pfizer': 6391, 'canucks': 6392, 'scouts': 6393, 'carnival': 6394, 'panthers': 6395, 'megan': 6396, 'sheet': 6397, '16yearold': 6398, 'rebounded': 6399, 'witherspoon': 6400, 'hewitt': 6401, 'peoples': 6402, 'testify': 6403, 'infielder': 6404, '02': 6405, 'thus': 6406, 'courthouse': 6407, '160': 6408, 'engage': 6409, 'rig': 6410, 'patel': 6411, 'raymond': 6412, 'drawn': 6413, 'rogue': 6414, 'walsh': 6415, 'steep': 6416, 'tanks': 6417, 'facilitate': 6418, 'contender': 6419, 'plotting': 6420, 'hospitalised': 6421, 'competing': 6422, 'patents': 6423, 'hackers': 6424, 'regain': 6425, 'worlds': 6426, 'subsidies': 6427, 'laundering': 6428, 'elements': 6429, 'bankrupt': 6430, 'jockey': 6431, 'typhoon': 6432, 'suddenly': 6433, 'epic': 6434, 'guardian': 6435, 'outperform': 6436, 'palestine': 6437, 'indie': 6438, 'puerto': 6439, 'banning': 6440, 'beaches': 6441, 'troy': 6442, 'bend': 6443, 'mysterious': 6444, 'boosts': 6445, 'aviv': 6446, 'lowers': 6447, 'lieutenant': 6448, 'mum': 6449, 'batch': 6450, 'rough': 6451, 'distribute': 6452, 'pitches': 6453, 'halifax': 6454, 'lyon': 6455, 'herman': 6456, 'presentation': 6457, 'arlington': 6458, 'boil': 6459, 'mistake': 6460, 'geithner': 6461, 'fisherman': 6462, 'packages': 6463, 'confrontation': 6464, 'erie': 6465, 'belfast': 6466, 'walt': 6467, 'guinea': 6468, 'strausskahn': 6469, 'pistorius': 6470, 'NYC': 6471, 'krishna': 6472, 'crane': 6473, 'oliver': 6474, 'postpones': 6475, 'lionel': 6476, 'richards': 6477, 'anger': 6478, 'premiership': 6479, 'mouth': 6480, 'restricted': 6481, 'demonstrators': 6482, 'opposed': 6483, 'struggled': 6484, 'format': 6485, 'suppliers': 6486, '04': 6487, 'forming': 6488, 'lashed': 6489, 'harbour': 6490, 'janet': 6491, 'publish': 6492, 'sanford': 6493, 'revenge': 6494, 'laboratory': 6495, 'guests': 6496, 'intellectual': 6497, 'ledger': 6498, 'anand': 6499, 'recognize': 6500, 'rukh': 6501, 'soap': 6502, 'UPA': 6503, 'aung': 6504, 'repeal': 6505, 'abbey': 6506, 'generic': 6507, 'miranda': 6508, 'meals': 6509, 'gilbert': 6510, 'tip': 6511, 'swung': 6512, 'santos': 6513, 'sidelined': 6514, 'tap': 6515, 'moral': 6516, 'volcano': 6517, 'courtney': 6518, 'michaels': 6519, 'shale': 6520, 'sparks': 6521, 'guitar': 6522, 'setback': 6523, 'trevor': 6524, 'joy': 6525, 'territorial': 6526, 'offense': 6527, 'proceeds': 6528, 'earthquakes': 6529, 'massacre': 6530, 'hassan': 6531, 'crawford': 6532, 'platforms': 6533, 'reese': 6534, 'expresses': 6535, 'halle': 6536, 'connected': 6537, 'forecasters': 6538, 'cops': 6539, 'thank': 6540, 'rebuild': 6541, 'myrtle': 6542, 'vick': 6543, 'JP': 6544, 'TD': 6545, 'intention': 6546, 'attorneys': 6547, 'posing': 6548, 'friendship': 6549, 'XI': 6550, 'rodgers': 6551, 'medicines': 6552, 'miguel': 6553, 'sore': 6554, 'schumacher': 6555, 'exhusband': 6556, 'medium': 6557, 'calendar': 6558, 'nobody': 6559, 'mandatory': 6560, 'hawks': 6561, 'municipality': 6562, 'gubernatorial': 6563, 'propose': 6564, 'inappropriate': 6565, 'lauren': 6566, 'households': 6567, 'succeed': 6568, 'dressed': 6569, 'volatility': 6570, 'unexpected': 6571, 'bundesliga': 6572, 'AAA': 6573, 'tevez': 6574, 'lobby': 6575, 'bold': 6576, 'tenn': 6577, 'preserve': 6578, 'halloween': 6579, 'ranking': 6580, 'grandmother': 6581, 'recommendations': 6582, 'marie': 6583, 'removal': 6584, 'revival': 6585, 'sole': 6586, 'steam': 6587, 'dreams': 6588, 'radiation': 6589, 'diamondbacks': 6590, 'approaches': 6591, 'posed': 6592, '17yearold': 6593, 'reinstated': 6594, 'approaching': 6595, 'christ': 6596, 'heels': 6597, 'tougher': 6598, 'preston': 6599, 'metres': 6600, 'saves': 6601, 'aliyev': 6602, 'fiat': 6603, 'spin': 6604, 'pointing': 6605, 'apparel': 6606, 'chips': 6607, 'hat': 6608, 'nuggets': 6609, 'alarm': 6610, 'broader': 6611, 'truth': 6612, 'congratulated': 6613, 'plymouth': 6614, 'railroad': 6615, 'blackhawks': 6616, 'ms': 6617, 'falcons': 6618, 'constable': 6619, 'merchant': 6620, 'graduation': 6621, 'dump': 6622, 'dominique': 6623, 'shortfall': 6624, 'ITV': 6625, 'USC': 6626, 'freshman': 6627, 'na': 6628, 'texans': 6629, 'exercises': 6630, 'adopts': 6631, 'edges': 6632, 'sweeps': 6633, 'earns': 6634, 'desire': 6635, 'rifle': 6636, 'coma': 6637, 'requested': 6638, 'arrangements': 6639, 'relating': 6640, 'ahmad': 6641, 'dementia': 6642, 'planting': 6643, 'bhd': 6644, 'opposite': 6645, 'wrist': 6646, 'yards': 6647, 'distributed': 6648, 'mavericks': 6649, 'slows': 6650, 'incumbent': 6651, 'anil': 6652, 'regard': 6653, 'requiring': 6654, '23rd': 6655, 'altercation': 6656, 'endeavour': 6657, 'lanes': 6658, 'eventually': 6659, 'prayer': 6660, 'quarterfinal': 6661, 'ramirez': 6662, 'monica': 6663, 'pawlenty': 6664, 'monument': 6665, 'formation': 6666, 'meaning': 6667, 'damon': 6668, 'hostile': 6669, 'showcase': 6670, 'foreclosures': 6671, 'outage': 6672, 'diana': 6673, 'hemsworth': 6674, 'adjourned': 6675, 'MySpace': 6676, 'singersongwriter': 6677, 'andrews': 6678, 'automation': 6679, 'chrome': 6680, 'challenger': 6681, 'faulty': 6682, 'repeat': 6683, 'tuition': 6684, 'nova': 6685, 'narrow': 6686, 'reactor': 6687, 'toilet': 6688, 'tighten': 6689, 'teach': 6690, 'desktop': 6691, 'holland': 6692, 'hernandez': 6693, 'congratulates': 6694, 'contempt': 6695, 'netflix': 6696, 'wellknown': 6697, 'mercy': 6698, 'drake': 6699, 'queens': 6700, 'aware': 6701, 'self': 6702, 'arriving': 6703, 'barrier': 6704, 'WBC': 6705, 'subscription': 6706, 'alassad': 6707, 'endangered': 6708, 'ambitious': 6709, 'administrators': 6710, 'wider': 6711, 'halted': 6712, 'advani': 6713, 'ditch': 6714, 'generate': 6715, 'maintaining': 6716, 'simmons': 6717, 'printing': 6718, 'toy': 6719, 'F1': 6720, 'sting': 6721, 'combine': 6722, 'advocate': 6723, 'dominated': 6724, 'invitational': 6725, 'combination': 6726, '26yearold': 6727, 'maiden': 6728, 'blasted': 6729, 'hispanic': 6730, 'unite': 6731, 'findings': 6732, 'felipe': 6733, 'reynolds': 6734, 'shortstop': 6735, '15day': 6736, 'atletico': 6737, 'pierce': 6738, 'willis': 6739, 'ellis': 6740, 'clippers': 6741, 'clashed': 6742, 'repay': 6743, 'ladies': 6744, 'batting': 6745, 'convert': 6746, 'travellers': 6747, 'stamford': 6748, 'strained': 6749, 'immigrant': 6750, 'mode': 6751, 'disrupted': 6752, 'mercedes': 6753, 'bombay': 6754, 'spoken': 6755, 'progressive': 6756, 'fannie': 6757, 'neglect': 6758, 'fractured': 6759, 'secrets': 6760, 'governors': 6761, 'nice': 6762, 'vettel': 6763, 'hell': 6764, 'admit': 6765, 'researcher': 6766, 'drummer': 6767, 'u': 6768, 'laptop': 6769, 'alonso': 6770, 'nikkei': 6771, 'vale': 6772, 'reliable': 6773, 'loose': 6774, 'anonymous': 6775, 'incentives': 6776, 'columnist': 6777, 'snapped': 6778, 'runner': 6779, 'venue': 6780, 'grenade': 6781, 'sometime': 6782, 'stanford': 6783, 'IP': 6784, 'filipino': 6785, 'initiated': 6786, 'spends': 6787, 'demolition': 6788, 'trademark': 6789, 'achievement': 6790, 'editorial': 6791, 'morrison': 6792, 'balotelli': 6793, 'benitez': 6794, 'bruno': 6795, 'croatian': 6796, 'raul': 6797, 'firstquarter': 6798, 'inauguration': 6799, 'flew': 6800, 'runoff': 6801, 'sometimes': 6802, 'capsized': 6803, 'pancreatic': 6804, 'criticized': 6805, \"o'neal\": 6806, 'commissioned': 6807, 'samantha': 6808, 'ton': 6809, 'smashed': 6810, 'cyclone': 6811, 'km': 6812, 'allrounder': 6813, 'panic': 6814, 'lighting': 6815, 'driveby': 6816, 'imaging': 6817, 'teeth': 6818, 'speeds': 6819, 'removing': 6820, 'nielsen': 6821, 'mancini': 6822, 'secondlargest': 6823, 'punch': 6824, 'clemens': 6825, 'ejected': 6826, 'patch': 6827, 'paula': 6828, 'RBI': 6829, 'doubts': 6830, 'pages': 6831, 'spree': 6832, 'priyanka': 6833, 'hopkins': 6834, 'spotlight': 6835, 'toxic': 6836, 'clinics': 6837, 'signals': 6838, 'strengthens': 6839, 'eases': 6840, 'silva': 6841, 'integrity': 6842, 'gabrielle': 6843, 'tycoon': 6844, 'permanently': 6845, 'comfortable': 6846, 'wen': 6847, 'reputation': 6848, 'kurdish': 6849, 'earning': 6850, 'reunite': 6851, 'adventure': 6852, 'soared': 6853, 'vernon': 6854, 'goodwill': 6855, 'irene': 6856, 'sunny': 6857, 'piracy': 6858, 'commuters': 6859, 'li': 6860, 'prop': 6861, 'appropriate': 6862, 'travelers': 6863, 'telegraph': 6864, 'specifically': 6865, 'facial': 6866, 'reviewing': 6867, '250000': 6868, 'welterweight': 6869, 'FTSE': 6870, 'firstdegree': 6871, 'consolidate': 6872, 'rover': 6873, 'manitoba': 6874, 'kingfisher': 6875, 'chuck': 6876, 'mali': 6877, '96': 6878, 'iPod': 6879, 'builder': 6880, 'trustees': 6881, '175': 6882, 'flee': 6883, 'bridges': 6884, 'referee': 6885, 'victor': 6886, 'bones': 6887, 'robust': 6888, 'mix': 6889, 'doug': 6890, 'motel': 6891, 'requests': 6892, 'hezbollah': 6893, 'stays': 6894, 'claire': 6895, 'micro': 6896, 'tebow': 6897, 'shutdown': 6898, 'ministries': 6899, 'imminent': 6900, 'bloody': 6901, 'lawsuits': 6902, 'survivor': 6903, 'resolved': 6904, '40000': 6905, 'messi': 6906, 'kraft': 6907, 'michel': 6908, 'founding': 6909, 'climbing': 6910, '2001': 6911, 'donor': 6912, 'trained': 6913, 'albums': 6914, 'transactions': 6915, 'respectively': 6916, 'indicates': 6917, 'MLS': 6918, 'shortages': 6919, 'coral': 6920, 'mayo': 6921, '94': 6922, 'villagers': 6923, 'approached': 6924, 'klum': 6925, 'signature': 6926, 'sum': 6927, 'blames': 6928, 'disorderly': 6929, 'entrepreneurs': 6930, 'oppose': 6931, 'kurt': 6932, 'laser': 6933, 'battles': 6934, 'assassination': 6935, 'angola': 6936, 'openly': 6937, 'shiv': 6938, 'pills': 6939, 'cooking': 6940, 'indexes': 6941, 'chocolate': 6942, '135': 6943, 'pearl': 6944, 'tragic': 6945, 'dated': 6946, 'reflecting': 6947, 'leonardo': 6948, 'replaces': 6949, 'highprofile': 6950, 'PMLn': 6951, 'councils': 6952, 'prairie': 6953, 'slight': 6954, 'nose': 6955, 'POLICE': 6956, 'reckless': 6957, 'groin': 6958, 'pressures': 6959, 'subsidiaries': 6960, 'presenting': 6961, 'accessories': 6962, 'stance': 6963, 'reorganization': 6964, 'conducting': 6965, 'lots': 6966, 'mandate': 6967, 'O2': 6968, 'laying': 6969, 'deploy': 6970, 'scanner': 6971, '201011': 6972, 'bullpen': 6973, 'fourthquarter': 6974, 'notices': 6975, 'bernie': 6976, 'surrender': 6977, 'ripped': 6978, 'burke': 6979, 'dylan': 6980, 'canberra': 6981, 'consequences': 6982, 'rescues': 6983, 'ICICI': 6984, \"o'neill\": 6985, 'parkway': 6986, 'lehman': 6987, 'gabriel': 6988, 'plunges': 6989, 'ECB': 6990, 'handset': 6991, 'jorge': 6992, 'criticised': 6993, 'taiwanese': 6994, 'legacy': 6995, 'messaging': 6996, 'departure': 6997, 'hoped': 6998, 'wounding': 6999, 'grandfather': 7000, 'slovakia': 7001, 'skies': 7002, 'opposes': 7003, 'uniform': 7004, 'dismissal': 7005, 'jul': 7006, 'burden': 7007, 'renovation': 7008, 'hayden': 7009, 'grey': 7010, 'famed': 7011, 'hamburg': 7012, 'disorders': 7013, 'telecoms': 7014, 'indictment': 7015, 'dogg': 7016, 'youngest': 7017, 'busted': 7018, 'cathedral': 7019, 'budgets': 7020, 'tracy': 7021, 'acid': 7022, 'turnover': 7023, 'hacking': 7024, 'ghost': 7025, 'wipro': 7026, 'difficulties': 7027, 'pieces': 7028, 'surrendered': 7029, 'nottingham': 7030, 'telekom': 7031, '6th': 7032, 'jeffrey': 7033, 'russians': 7034, 'youngsters': 7035, 'bombers': 7036, 'coronation': 7037, 'seizure': 7038, 'kidnap': 7039, 'observers': 7040, 'shahid': 7041, 'dock': 7042, 'jade': 7043, 'goaltender': 7044, 'exchanges': 7045, 'merrill': 7046, 'FOX': 7047, 'theory': 7048, 'thunderstorm': 7049, 'instruments': 7050, 'stating': 7051, 'kidman': 7052, 'chester': 7053, 'laurent': 7054, 'vandalism': 7055, 'reunion': 7056, 'poses': 7057, 'chaos': 7058, 'draws': 7059, 'insurers': 7060, 'MRI': 7061, 'depth': 7062, 'gavin': 7063, 'successor': 7064, 'rory': 7065, 'ethiopian': 7066, 'councilman': 7067, 'clemson': 7068, 'rica': 7069, 'sabah': 7070, 'porsche': 7071, '16th': 7072, 'procedures': 7073, '140': 7074, 'wed': 7075, 'oasis': 7076, 'cheated': 7077, 'sanders': 7078, 'shutting': 7079, 'dpa': 7080, 'relative': 7081, 'ODI': 7082, 'daniels': 7083, 'purpose': 7084, 'booking': 7085, 'reference': 7086, 'robertson': 7087, 'devils': 7088, 'washed': 7089, 'katherine': 7090, 'glory': 7091, 'yadav': 7092, 'zuckerberg': 7093, 'length': 7094, 'loaded': 7095, 'reservation': 7096, 'pepper': 7097, 'tanzania': 7098, 'gunshot': 7099, 'highlight': 7100, 'bee': 7101, 'tradition': 7102, 'crossborder': 7103, 'florence': 7104, 'consultant': 7105, 'programming': 7106, 'designs': 7107, 'installation': 7108, 'admission': 7109, 'ducks': 7110, 'chartered': 7111, 'NZ': 7112, 'opponent': 7113, 'LeBron': 7114, 'arquette': 7115, 'minors': 7116, 'blogger': 7117, 'klitschko': 7118, 'maybe': 7119, 'delighted': 7120, 'uzbekistan': 7121, 'quake': 7122, 'dubbed': 7123, 'slid': 7124, 'busch': 7125, 'sara': 7126, 'ronson': 7127, 'pine': 7128, 'crops': 7129, 'yang': 7130, 'trader': 7131, 'pelosi': 7132, 'maoist': 7133, 'ramp': 7134, 'automobile': 7135, 'prosperity': 7136, 'secretly': 7137, 'manner': 7138, 'compound': 7139, 'wizards': 7140, 'samuel': 7141, 'alley': 7142, 'inspectors': 7143, 'da': 7144, 'pursuit': 7145, 'panama': 7146, 'quarters': 7147, 'coventry': 7148, 'behavior': 7149, 'jointly': 7150, 'zones': 7151, 'highlights': 7152, 'scotia': 7153, 'aquino': 7154, 'indigenous': 7155, 'der': 7156, 'creditors': 7157, 'disappeared': 7158, 'punk': 7159, '201112': 7160, 'textile': 7161, 'establishment': 7162, 'initially': 7163, '2003': 7164, 'brunswick': 7165, 'humanity': 7166, 'proposing': 7167, 'huffington': 7168, 'sitcom': 7169, 'sunshine': 7170, 'logan': 7171, 'notorious': 7172, 'fullback': 7173, 'wrap': 7174, 'shook': 7175, 'nets': 7176, 'gingrich': 7177, 'shocked': 7178, 'liability': 7179, 'vienna': 7180, 'alqaida': 7181, 'agreeing': 7182, 'proof': 7183, 'islanders': 7184, 'informs': 7185, 'guys': 7186, 'publishes': 7187, 'freeway': 7188, 'packed': 7189, 'johnston': 7190, 'mechanism': 7191, 'middleweight': 7192, 'monster': 7193, 'georgetown': 7194, 'sand': 7195, 'coup': 7196, 'volumes': 7197, 'overtime': 7198, 'pets': 7199, 'maradona': 7200, 'telstra': 7201, 'highways': 7202, 'riots': 7203, 'happiness': 7204, 'carlo': 7205, 'bengals': 7206, 'burger': 7207, 'debuts': 7208, 'annually': 7209, 'scout': 7210, 'afraid': 7211, 'withdrawing': 7212, 'vandals': 7213, 'obligations': 7214, 'vampire': 7215, 'exam': 7216, 'deny': 7217, 'touring': 7218, 'lokpal': 7219, 'ethanol': 7220, 'requirement': 7221, 'clears': 7222, 'factories': 7223, 'explained': 7224, 'scrapped': 7225, '49ers': 7226, 'abduction': 7227, 'libel': 7228, 'requires': 7229, 'olmert': 7230, 'isle': 7231, 'pig': 7232, 'minsk': 7233, 'mayweather': 7234, 'litre': 7235, 'distributing': 7236, 'midland': 7237, '8000': 7238, 'explodes': 7239, 'hilary': 7240, 'urgent': 7241, 'treating': 7242, 'strictly': 7243, 'pirate': 7244, 'courtroom': 7245, 'hidden': 7246, 'qualifiers': 7247, 'winslet': 7248, '31yearold': 7249, 'clinched': 7250, 'blackpool': 7251, 'NYSE': 7252, 'LTTE': 7253, 'redknapp': 7254, 'ounce': 7255, 'weakening': 7256, 'sat': 7257, 'errors': 7258, 'jackpot': 7259, 'killings': 7260, 'reconstruction': 7261, 'ordinary': 7262, 'ralph': 7263, 'AB': 7264, 'graduates': 7265, 'moines': 7266, '1100': 7267, 'relegation': 7268, 'dodge': 7269, 'tightened': 7270, 'pietersen': 7271, 'dynamics': 7272, 'lancaster': 7273, 'poet': 7274, 'americas': 7275, 'LTE': 7276, 'bicycle': 7277, 'bharatiya': 7278, 'linking': 7279, 'nickel': 7280, 'clay': 7281, 'secondquarter': 7282, 'livestock': 7283, 'flooded': 7284, 'lou': 7285, 'folk': 7286, 'roughly': 7287, 'relationships': 7288, 'undercover': 7289, 'rico': 7290, 'isaac': 7291, 'sailor': 7292, 'purdue': 7293, 'tweets': 7294, 'brewer': 7295, 'rocked': 7296, 'poultry': 7297, 'accelerated': 7298, 'marginally': 7299, 'spare': 7300, 'highspeed': 7301, 'indoor': 7302, 'burnt': 7303, 'lone': 7304, 'accra': 7305, 'cheaper': 7306, 'gerrard': 7307, 'pains': 7308, 'les': 7309, 'counterfeit': 7310, 'panels': 7311, 'mick': 7312, 'safer': 7313, 'shaw': 7314, 'victorian': 7315, 'zimmerman': 7316, 'cambodia': 7317, 'efron': 7318, 'scholarship': 7319, 'accreditation': 7320, 'animation': 7321, 'AFC': 7322, 'headline': 7323, 'prefer': 7324, 'mph': 7325, 'seng': 7326, 'volvo': 7327, 'murders': 7328, 'entrepreneur': 7329, 'mayoral': 7330, 'attendance': 7331, 'RIM': 7332, 'boise': 7333, 'sponsors': 7334, 'recommends': 7335, 'cattle': 7336, 'slips': 7337, 'fielder': 7338, 'pyongyang': 7339, 'fraser': 7340, 'outages': 7341, 'cannes': 7342, 'tunnel': 7343, 'exhibit': 7344, 'generating': 7345, 'ferdinand': 7346, 'discussing': 7347, 'profitability': 7348, 'makeover': 7349, 'whatever': 7350, 'debates': 7351, 'EA': 7352, '5th': 7353, 'downs': 7354, 'islamist': 7355, 'eyed': 7356, 'mentor': 7357, 'introduction': 7358, 'entrance': 7359, '29yearold': 7360, 'eden': 7361, 'javier': 7362, 'pubs': 7363, 'physically': 7364, 'lodged': 7365, 'gunfire': 7366, 'confirming': 7367, 'reddy': 7368, 'empty': 7369, 'disruption': 7370, 'characters': 7371, '201213': 7372, 'mesa': 7373, 'BSE': 7374, 'indicating': 7375, 'appreciation': 7376, 'heating': 7377, 'hampton': 7378, 'hussain': 7379, 'westminster': 7380, 'duchess': 7381, 'organisations': 7382, 'drain': 7383, 'minerals': 7384, 'freeagent': 7385, 'evan': 7386, 'yield': 7387, 'worsening': 7388, 'toledo': 7389, 'placing': 7390, 'adjusted': 7391, 'bucks': 7392, 'seekers': 7393, 'raleigh': 7394, 'upheld': 7395, 'embattled': 7396, 'truly': 7397, 'ike': 7398, 'hannah': 7399, 'locker': 7400, 'albuquerque': 7401, 'automatic': 7402, 'evacuate': 7403, 'hazardous': 7404, 'accountability': 7405, 'cure': 7406, 'yearold': 7407, 'wash': 7408, 'lets': 7409, 'asthma': 7410, 'longawaited': 7411, 'malawi': 7412, 'deserve': 7413, 'alice': 7414, 'rank': 7415, 'infections': 7416, 'widened': 7417, 'oval': 7418, 'luck': 7419, 'semi': 7420, 'chesapeake': 7421, 'nervous': 7422, 'wilkinson': 7423, 'methods': 7424, 'operated': 7425, 'describing': 7426, 'JD': 7427, 'nitish': 7428, 'balanced': 7429, 'indeed': 7430, 'chose': 7431, 'recognised': 7432, 'landslide': 7433, 'interesting': 7434, 'MotoGP': 7435, 'belmont': 7436, 'mln': 7437, 'deepening': 7438, 'morocco': 7439, 'conservatives': 7440, 'thunderstorms': 7441, 'hiphop': 7442, 'ind': 7443, 'consortium': 7444, 'payroll': 7445, 'butt': 7446, 'resistances': 7447, 'fiance': 7448, 'handing': 7449, 'canterbury': 7450, 'snoop': 7451, 'contestant': 7452, 'shadow': 7453, 'zimbabwean': 7454, 'penny': 7455, 'gadhafi': 7456, 'seri': 7457, 'wet': 7458, 'salvation': 7459, '01': 7460, '97': 7461, 'greenback': 7462, 'BNP': 7463, 'millionaire': 7464, 'reno': 7465, 'rent': 7466, 'MSNBC': 7467, 'swat': 7468, 'pa': 7469, 'cigarette': 7470, 'astronauts': 7471, 'McDonnell': 7472, 'turnout': 7473, 'tan': 7474, 'error': 7475, 'happens': 7476, 'internationally': 7477, 'ceremonies': 7478, 'bargain': 7479, 'hyundai': 7480, 'visas': 7481, 'oral': 7482, 'charts': 7483, 'prayers': 7484, 'congo': 7485, 'hogan': 7486, 'sovereignty': 7487, 'dale': 7488, 'dip': 7489, 'accidental': 7490, 'restart': 7491, 'nasdaq': 7492, 'peacefully': 7493, 'gloucester': 7494, 'matthews': 7495, 'indices': 7496, 'nexus': 7497, 'acknowledged': 7498, 'webb': 7499, 'lockout': 7500, 'amidst': 7501, 'remainder': 7502, 'martial': 7503, 'dual': 7504, 'tonne': 7505, 'firmly': 7506, 'tumble': 7507, 'smash': 7508, 'shaun': 7509, 'aleague': 7510, 'contemporary': 7511, 'torres': 7512, 'exploitation': 7513, 'cleaning': 7514, 'jiabao': 7515, 'tube': 7516, 'relation': 7517, 'distance': 7518, 'newt': 7519, 'chevrolet': 7520, 'liberals': 7521, 'blunt': 7522, 'ceiling': 7523, 'outlet': 7524, 'treasure': 7525, 'sailing': 7526, 'gearing': 7527, 'estimate': 7528, 'himachal': 7529, 'funny': 7530, 'persistent': 7531, 'albania': 7532, 'stalking': 7533, 'jared': 7534, 'paulo': 7535, 'saga': 7536, 'browser': 7537, 'uprising': 7538, 'collect': 7539, 'lecture': 7540, 'database': 7541, 'rated': 7542, 'sentences': 7543, 'certainly': 7544, 'cleanup': 7545, 'ND': 7546, 'discusses': 7547, 'pitching': 7548, 'surgeon': 7549, 'warship': 7550, 'starter': 7551, 'letterman': 7552, '60th': 7553, 'experiencing': 7554, 'iceland': 7555, 'silent': 7556, 'charities': 7557, 'payne': 7558, 'macau': 7559, 'sequel': 7560, 'graphic': 7561, '150000': 7562, 'troopers': 7563, 'impaired': 7564, 'allied': 7565, 'abraham': 7566, 'crosby': 7567, 'brooke': 7568, 'evaluation': 7569, 'SP': 7570, 'tweeted': 7571, 'barred': 7572, 'JSE': 7573, 'injection': 7574, 'unemployed': 7575, 'sewer': 7576, 'holocaust': 7577, 'ASEAN': 7578, 'classroom': 7579, 'repeated': 7580, 'baba': 7581, 'trio': 7582, 'nolan': 7583, 'consultation': 7584, 'audi': 7585, 'controller': 7586, 'devastated': 7587, 'jenkins': 7588, 'piper': 7589, 'infected': 7590, 'enemy': 7591, 'huntsman': 7592, 'bedroom': 7593, 'vaccines': 7594, 'daylight': 7595, 'tory': 7596, 'borrowers': 7597, 'joan': 7598, 'suburbs': 7599, 'showdown': 7600, 'portable': 7601, 'loud': 7602, 'khloe': 7603, 'tornadoes': 7604, 'AS': 7605, 'arrivals': 7606, 'songwriter': 7607, 'detection': 7608, 'preparations': 7609, 'securing': 7610, 'recreation': 7611, 'example': 7612, 'mercer': 7613, 'bet': 7614, 'AK': 7615, 'statistical': 7616, 'businessmen': 7617, 'wallabies': 7618, 'walters': 7619, 'catching': 7620, 'describes': 7621, 'processor': 7622, 'firmer': 7623, 'formerly': 7624, 'bias': 7625, 'appetite': 7626, 'skating': 7627, 'lined': 7628, 'fortune': 7629, 'prolonged': 7630, 'firstround': 7631, 'stalled': 7632, 'laptops': 7633, 'bump': 7634, 'constituency': 7635, 'slower': 7636, 'expense': 7637, 'avoided': 7638, 'balls': 7639, '102': 7640, 'sprained': 7641, 'disasters': 7642, 'beirut': 7643, 'kodak': 7644, 'guantanamo': 7645, '105': 7646, 'emily': 7647, 'spectacular': 7648, 'temperature': 7649, 'carr': 7650, 'adaptation': 7651, 'ashok': 7652, 'bicyclist': 7653, 'mickey': 7654, '450': 7655, 'kamal': 7656, 'taste': 7657, 'champ': 7658, 'larceny': 7659, 'rage': 7660, 'sandusky': 7661, 'promotes': 7662, 'aust': 7663, '98': 7664, 'rid': 7665, 'eugene': 7666, 'amsterdam': 7667, 'uruguay': 7668, 'ministerial': 7669, 'spike': 7670, 'majors': 7671, 'bhutto': 7672, 'forever': 7673, 'amateur': 7674, 'collide': 7675, 'macquarie': 7676, 'pushes': 7677, 'scholarships': 7678, 'reiterates': 7679, 'bathroom': 7680, 'passage': 7681, 'contador': 7682, 'protestors': 7683, 'raided': 7684, 'highlighting': 7685, 'psychiatric': 7686, 'casting': 7687, 'radcliffe': 7688, 'bayer': 7689, 'disturbance': 7690, 'auctions': 7691, 'correctional': 7692, 'marsh': 7693, 'satisfaction': 7694, 'committees': 7695, 'augusta': 7696, 'skilled': 7697, 'westwood': 7698, 'hide': 7699, 'escalating': 7700, 'destruction': 7701, 'polar': 7702, 'stamp': 7703, 'samajwadi': 7704, 'biel': 7705, 'jews': 7706, 'maldives': 7707, '35yearold': 7708, 'continent': 7709, 'collections': 7710, 'pharma': 7711, '106': 7712, 'banker': 7713, 'lithuania': 7714, 'cabin': 7715, 'supervisors': 7716, 'basin': 7717, 'suspending': 7718, 'absolute': 7719, 'searched': 7720, 'sinking': 7721, 'hook': 7722, 'caucus': 7723, '27yearold': 7724, 'plug': 7725, 'richest': 7726, 'comparison': 7727, 'punching': 7728, 'closures': 7729, 'committing': 7730, 'bracing': 7731, 'bret': 7732, 'besides': 7733, 'hodgson': 7734, 'aggregate': 7735, 'junction': 7736, '13yearold': 7737, 'vessels': 7738, 'thermal': 7739, 'berkeley': 7740, 'margins': 7741, 'awaiting': 7742, 'peters': 7743, 'wound': 7744, 'lover': 7745, 'lists': 7746, 'marched': 7747, 'knoxville': 7748, 'arabian': 7749, '104': 7750, 'subdued': 7751, 'sussex': 7752, 'denise': 7753, 'realty': 7754, '650': 7755, 'toshiba': 7756, 'enjoys': 7757, 'vegetables': 7758, 'laboratories': 7759, 'divided': 7760, 'plains': 7761, 'taught': 7762, 'desk': 7763, 'denying': 7764, 'bestselling': 7765, 'publishers': 7766, 'lansing': 7767, 'malcolm': 7768, 'calf': 7769, 'productions': 7770, 'playboy': 7771, 'wesley': 7772, 'tiny': 7773, 'bingo': 7774, 'khalifa': 7775, 'manipur': 7776, 'mitsubishi': 7777, 'consent': 7778, 'haley': 7779, 'madoff': 7780, 'blockade': 7781, 'BT': 7782, 'statutory': 7783, 'bentley': 7784, 'activate': 7785, 'elects': 7786, 'sinks': 7787, 'helm': 7788, 'kuwaiti': 7789, 'commuter': 7790, 'concessions': 7791, 'lodge': 7792, 'sparking': 7793, 'strange': 7794, 'fragile': 7795, 'harm': 7796, 'inventory': 7797, 'alltime': 7798, 'casualties': 7799, 'widow': 7800, 'ritchie': 7801, 'splash': 7802, 'directing': 7803, 'borrow': 7804, 'neighbour': 7805, 'shrink': 7806, 'remarkable': 7807, 'carol': 7808, 'wembley': 7809, 'upside': 7810, 'bible': 7811, 'earl': 7812, 'sailors': 7813, 'bottles': 7814, 'auctioned': 7815, 'outcome': 7816, 'sight': 7817, 'splitting': 7818, 'derailed': 7819, 'fare': 7820, 'honduras': 7821, 'provisions': 7822, 'sheboygan': 7823, 'tymoshenko': 7824, 'novosti': 7825, 'binghamton': 7826, 'chandigarh': 7827, 'detailed': 7828, '00': 7829, 'conglomerate': 7830, 'handsets': 7831, 'certified': 7832, 'doctorate': 7833, 'kerr': 7834, 'breathing': 7835, '1600': 7836, '32yearold': 7837, 'reaction': 7838, 'tone': 7839, 'anywhere': 7840, 'rocks': 7841, 'usual': 7842, 'rebecca': 7843, 'rear': 7844, 'soar': 7845, 'syndrome': 7846, 'eli': 7847, 'waive': 7848, 'seemed': 7849, 'menu': 7850, 'counting': 7851, 'rouge': 7852, 'shawn': 7853, 'outgoing': 7854, 'sad': 7855, 'hague': 7856, 'extradited': 7857, 'eminem': 7858, 'connections': 7859, 'rupees': 7860, 'demonstrations': 7861, 'bloc': 7862, 'consideration': 7863, 'cab': 7864, 'malaria': 7865, 'critic': 7866, 'oilers': 7867, 'roots': 7868, 'waves': 7869, 'nutrition': 7870, 'conway': 7871, 'hospitality': 7872, 'servants': 7873, 'meth': 7874, 'jenna': 7875, 'advisors': 7876, 'arguing': 7877, 'conferences': 7878, 'lafayette': 7879, 'articles': 7880, 'eggs': 7881, 'unilever': 7882, 'heated': 7883, 'paterno': 7884, 'boots': 7885, 'curtis': 7886, 'slashes': 7887, 'alec': 7888, 'unfair': 7889, 'derivatives': 7890, 'von': 7891, 'founded': 7892, 'gateway': 7893, 'revolutionary': 7894, 'partly': 7895, 'mayawati': 7896, 'attacker': 7897, 'debris': 7898, 'screens': 7899, 'freeman': 7900, 'balloon': 7901, 'colleague': 7902, 'tipped': 7903, 'pictured': 7904, 'rescuers': 7905, 'salon': 7906, 'upbeat': 7907, 'otherwise': 7908, 'confirmation': 7909, 'flexible': 7910, 'sounds': 7911, 'bread': 7912, 'pike': 7913, '180': 7914, 'levi': 7915, 'notebook': 7916, 'examiner': 7917, 'complained': 7918, 'scared': 7919, 'reversing': 7920, 'pakistanis': 7921, 'newsday': 7922, 'trash': 7923, 'nazi': 7924, 'antony': 7925, 'capitals': 7926, 'opted': 7927, 'consulate': 7928, 'daly': 7929, 'focuses': 7930, 'meltdown': 7931, 'repurchase': 7932, 'kay': 7933, 'weigh': 7934, 'marina': 7935, 'clegg': 7936, 'reflect': 7937, 'wrapped': 7938, 'impersonating': 7939, 'AJ': 7940, 'tariff': 7941, 'snack': 7942, 'cal': 7943, 'davies': 7944, 'dipped': 7945, 'par': 7946, 'pierre': 7947, 'radar': 7948, 'fairfax': 7949, 'showers': 7950, 'lacrosse': 7951, 'wanderers': 7952, 'triumph': 7953, 'dover': 7954, 'curfew': 7955, 'lawn': 7956, 'lashes': 7957, 'ousted': 7958, 'vendors': 7959, 'kindle': 7960, 'lightweight': 7961, 'amir': 7962, 'vast': 7963, 'kissing': 7964, 'fairfield': 7965, 'chambers': 7966, 'vic': 7967, 'minorities': 7968, 'crist': 7969, 'gerard': 7970, 'embezzling': 7971, 'promoter': 7972, 'tired': 7973, 'bands': 7974, 'incentive': 7975, 'operates': 7976, 'caroline': 7977, 'stupid': 7978, 'sienna': 7979, 'hangs': 7980, 'basu': 7981, 'lifting': 7982, 'mediterranean': 7983, 'filling': 7984, 'soviet': 7985, 'jackets': 7986, 'ai': 7987, '1300': 7988, 'surrey': 7989, 'duff': 7990, 'burton': 7991, 'rajapaksa': 7992, 'highlands': 7993, 'epidemic': 7994, 'grabbed': 7995, 'comfort': 7996, 'experiences': 7997, 'shifted': 7998, 'underwear': 7999, 'disappointment': 8000, 'knockout': 8001, 'straw': 8002, 'steroids': 8003, 'hurley': 8004, '107': 8005, 'WA': 8006, 'breakdown': 8007, 'attracted': 8008, 'impossible': 8009, 'jessie': 8010, 'knights': 8011, 'bahamas': 8012, 'paltrow': 8013, 'entertainer': 8014, 'va': 8015, 'spirits': 8016, 'infamous': 8017, '1800': 8018, 'albion': 8019, 'everywhere': 8020, 'actively': 8021, 'pray': 8022, 'tunisian': 8023, 'treatments': 8024, 'southampton': 8025, 'blaming': 8026, 'obese': 8027, 'bonus': 8028, 'abandon': 8029, 'mob': 8030, 'auditorium': 8031, 'halftime': 8032, 'clarkson': 8033, 'linda': 8034, 'clearly': 8035, 'venus': 8036, 'DiCaprio': 8037, 'onevehicle': 8038, 'lowe': 8039, 'lagos': 8040, 'shetty': 8041, 'pork': 8042, 'devon': 8043, 'undergone': 8044, 'occupation': 8045, 'finalist': 8046, 'lynn': 8047, '2G': 8048, 'campaigning': 8049, 'attracting': 8050, 'premises': 8051, 'rewards': 8052, 'array': 8053, 'inches': 8054, 'QB': 8055, 'thefts': 8056, 'kickoff': 8057, 'predicts': 8058, 'gallon': 8059, 'mich': 8060, 'incorporated': 8061, 'height': 8062, 'brave': 8063, 'en': 8064, 'endangerment': 8065, 'reopening': 8066, '1400': 8067, 'negotiate': 8068, 'phillip': 8069, '03': 8070, 'narrowed': 8071, 'jude': 8072, 'respiratory': 8073, 'ramdev': 8074, 'experimental': 8075, 'roommate': 8076, 'aftermath': 8077, 'implications': 8078, 'dentist': 8079, 'sergeant': 8080, 'casinos': 8081, 'pill': 8082, 'zurich': 8083, 'northampton': 8084, 'bow': 8085, 'honolulu': 8086, 'visual': 8087, 'harsh': 8088, 'melissa': 8089, 'bitten': 8090, 'instructor': 8091, 'detainees': 8092, 'eid': 8093, 'restoration': 8094, 'habitat': 8095, 'bolivia': 8096, 'qld': 8097, 'blown': 8098, 'rahman': 8099, 'eager': 8100, '07': 8101, 'didier': 8102, 'jindal': 8103, 'instant': 8104, 'bullets': 8105, 'panda': 8106, 'leigh': 8107, '39yearold': 8108, 'ear': 8109, 'hindi': 8110, 'watford': 8111, 'uncle': 8112, 'bargaining': 8113, 'nigel': 8114, 'episodes': 8115, 'rubbish': 8116, 'enemies': 8117, 'serves': 8118, 'grammer': 8119, 'cumberland': 8120, 'sullivan': 8121, 'lehigh': 8122, 'learnt': 8123, 'moratorium': 8124, 'webster': 8125, 'intoxication': 8126, 'RIA': 8127, 'holly': 8128, 'affects': 8129, 'lengthy': 8130, 'srinagar': 8131, 'fog': 8132, 'nationally': 8133, 'gossip': 8134, 'backyard': 8135, 'roethlisberger': 8136, 'cavaliers': 8137, 'bean': 8138, 'booming': 8139, 'thatcher': 8140, 'legends': 8141, 'follows': 8142, 'thirdquarter': 8143, 'dominate': 8144, 'trim': 8145, 'axe': 8146, 'touching': 8147, 'delegates': 8148, 'daytime': 8149, 'asiapacific': 8150, 'macon': 8151, 'eliminating': 8152, 'protested': 8153, 'shrank': 8154, 'mt': 8155, 'kilometres': 8156, 'rawalpindi': 8157, 'sotomayor': 8158, 'muamba': 8159, 'ilham': 8160, 'mellon': 8161, 'felix': 8162, 'letting': 8163, 'hitachi': 8164, 'purchasing': 8165, 'virtually': 8166, 'FedEx': 8167, 'lautner': 8168, 'belonging': 8169, 'dustin': 8170, 'preview': 8171, 'landlord': 8172, 'bass': 8173, '12yearold': 8174, 'builds': 8175, 'strokes': 8176, 'chaudhry': 8177, 'discipline': 8178, 'freezing': 8179, '9000': 8180, 'testimony': 8181, 'hepatitis': 8182, 'workout': 8183, 'killers': 8184, 'pedro': 8185, 'renewal': 8186, 'lindsey': 8187, 'paralympic': 8188, 'stopping': 8189, 'wholly': 8190, '50yearold': 8191, 'vitamin': 8192, 'biological': 8193, 'gradually': 8194, 'affiliated': 8195, 'salmonella': 8196, 'brewing': 8197, 'pan': 8198, \"o'malley\": 8199, 'DWI': 8200, 'comcast': 8201, 'color': 8202, 'steals': 8203, 'transformation': 8204, 'negotiating': 8205, 'GP': 8206, 'flick': 8207, 'consultations': 8208, 'widens': 8209, 'contrary': 8210, 'ny': 8211, 'honours': 8212, 'physicians': 8213, 'factors': 8214, 'unsecured': 8215, 'peers': 8216, '40yearold': 8217, 'examination': 8218, 'PCs': 8219, 'PayPal': 8220, 'achievements': 8221, 'cavendish': 8222, 'hurdle': 8223, 'joke': 8224, 'scherzinger': 8225, 'exceeded': 8226, 'successive': 8227, '99': 8228, 'nights': 8229, 'measuring': 8230, 'CPI': 8231, 'forgery': 8232, 'diane': 8233, 'divisions': 8234, 'dunn': 8235, 'stunned': 8236, 'metric': 8237, 'durban': 8238, 'spreads': 8239, 'trent': 8240, 'scenario': 8241, 'saeed': 8242, 'webcast': 8243, '112': 8244, 'mirza': 8245, 'competitors': 8246, 'establishing': 8247, 'gwyneth': 8248, 'relatively': 8249, 'shower': 8250, 'beverage': 8251, 'palo': 8252, 'monaco': 8253, 'lorry': 8254, 'groundbreaking': 8255, 'mozambique': 8256, 'laureate': 8257, 'relevant': 8258, 'luther': 8259, 'undefeated': 8260, 'deportation': 8261, 'automated': 8262, 'downing': 8263, 'burnley': 8264, 'h': 8265, 'petraeus': 8266, 'spark': 8267, 'fergie': 8268, '103': 8269, 'corey': 8270, 'kit': 8271, 'spying': 8272, 'rutgers': 8273, 'stray': 8274, 'gill': 8275, 'tesla': 8276, 'arbor': 8277, 'yearonyear': 8278, 'cairn': 8279, 'deliberately': 8280, 'concentrate': 8281, 'portman': 8282, 'atlantis': 8283, 'shifting': 8284, 'batteries': 8285, 'havoc': 8286, 'spate': 8287, 'bearish': 8288, 'drills': 8289, 'camden': 8290, 'upward': 8291, 'preventing': 8292, 'suns': 8293, 'shepherd': 8294, 'harlem': 8295, 'pleasant': 8296, 'boxes': 8297, 'dissident': 8298, 'prefers': 8299, 'mainstream': 8300, 'gotten': 8301, 'hazard': 8302, 'liquid': 8303, 'decisive': 8304, 'concludes': 8305, 'crow': 8306, 'MTN': 8307, 'schalke': 8308, 'fiber': 8309, 'patriot': 8310, 'amongst': 8311, 'barrymore': 8312, \"o'donnell\": 8313, 'immunity': 8314, 'surpassed': 8315, 'mirror': 8316, 'sidney': 8317, 'dealt': 8318, 'yeddyurappa': 8319, 'revamped': 8320, 'defrauding': 8321, 'rescheduled': 8322, 'heineken': 8323, 'transparent': 8324, 'liberation': 8325, 'boulder': 8326, 'registry': 8327, 'cohen': 8328, 'item': 8329, 'predators': 8330, 'tomas': 8331, 'hoax': 8332, 'savannah': 8333, 'dundee': 8334, 'autobiography': 8335, 'accord': 8336, 'piers': 8337, 'overwhelming': 8338, 'extremists': 8339, 'chess': 8340, 'wheelchair': 8341, 'protocol': 8342, 'antitrust': 8343, 'issuer': 8344, 'tenants': 8345, 'flies': 8346, 'nixon': 8347, 'afford': 8348, 'cleric': 8349, 'neighboring': 8350, 'neighbouring': 8351, 'ensuring': 8352, 'bases': 8353, 'priorities': 8354, 'tajikistan': 8355, 'pure': 8356, 'woody': 8357, 'dawson': 8358, 'beloved': 8359, 'stint': 8360, 'diamonds': 8361, 'lucknow': 8362, 'grains': 8363, 'connectivity': 8364, 'represents': 8365, 'beck': 8366, 'tier': 8367, 'interviews': 8368, 'exporter': 8369, 'situations': 8370, 'montag': 8371, 'AirAsia': 8372, 'freak': 8373, 'geological': 8374, 'rodney': 8375, 'reagan': 8376, 'cease': 8377, 'jubilee': 8378, 'flowers': 8379, 'disclosure': 8380, 'injunction': 8381, 'kaif': 8382, 'bangladeshi': 8383, 'PepsiCo': 8384, 'harder': 8385, 'coldplay': 8386, 'bizarre': 8387, 'inn': 8388, 'surging': 8389, 'LLP': 8390, 'literature': 8391, 'shake': 8392, 'ideal': 8393, 'amended': 8394, 'hood': 8395, 'attitude': 8396, 'delaying': 8397, 'commencement': 8398, 'principles': 8399, 'attendant': 8400, 'suarez': 8401, 'cohost': 8402, 'bikini': 8403, 'responds': 8404, 'shelves': 8405, 'mrs': 8406, 'emails': 8407, 'cables': 8408, 'methodist': 8409, 'sack': 8410, 'gore': 8411, 'avoiding': 8412, 'yankee': 8413, 'socialist': 8414, 'fulltime': 8415, 'RCMP': 8416, 'accelerate': 8417, 'choices': 8418, 'lies': 8419, 'aurora': 8420, 'wildfires': 8421, 'sprinter': 8422, 'goody': 8423, 'quincy': 8424, 'lure': 8425, 'sections': 8426, 'postpone': 8427, 'relegated': 8428, 'greens': 8429, 'commitments': 8430, 'chhattisgarh': 8431, 'favourites': 8432, 'composite': 8433, 'mid': 8434, 'junk': 8435, '1960s': 8436, 'downloads': 8437, 'ehud': 8438, 'impressed': 8439, 'circus': 8440, 'acted': 8441, 'grades': 8442, 'slumped': 8443, 'baton': 8444, 'breaching': 8445, 'adequate': 8446, 'reservoir': 8447, 'vista': 8448, 'massa': 8449, '09': 8450, 'roddick': 8451, 'unmanned': 8452, 'bahraini': 8453, 'egg': 8454, 'workshops': 8455, 'forbes': 8456, 'shahbaz': 8457, 'bacteria': 8458, 'contaminated': 8459, 'astana': 8460, 'bachelor': 8461, 'hates': 8462, 'dwight': 8463, 'captures': 8464, 'freezes': 8465, 'umpire': 8466, 'conceded': 8467, 'finalized': 8468, 'lennon': 8469, 'everybody': 8470, 'ANZ': 8471, '1700': 8472, 'chandler': 8473, 'commons': 8474, 'triggering': 8475, 'disrupt': 8476, 'MW': 8477, 'highlighted': 8478, 'shortterm': 8479, 'upto': 8480, 'controlling': 8481, 'clinch': 8482, 'nearing': 8483, 'samoa': 8484, 'rumor': 8485, 'landfall': 8486, 'braced': 8487, 'locals': 8488, 'owens': 8489, 'lea': 8490, 'totally': 8491, 'condemn': 8492, 'bald': 8493, 'refuge': 8494, 'multinational': 8495, 'testified': 8496, 'gesture': 8497, 'righthanded': 8498, 'lovers': 8499, 'supposed': 8500, 'hawke': 8501, 'midlands': 8502, 'GaGa': 8503, 'boutique': 8504, 'pot': 8505, 'peruvian': 8506, 'afghans': 8507, 'settlers': 8508, 'furious': 8509, 'guinness': 8510, 'cows': 8511, 'leone': 8512, 'respects': 8513, 'heathrow': 8514, 'ossetia': 8515, 'owes': 8516, 'conjunction': 8517, 'collecting': 8518, 'leonard': 8519, '06': 8520, 'strongest': 8521, 'rai': 8522, 'wooden': 8523, 'attends': 8524, 'affirmed': 8525, 'topeka': 8526, '8th': 8527, 'polanski': 8528, 'detect': 8529, 'negligent': 8530, 'pacers': 8531, 'spokane': 8532, 'crushing': 8533, 'attached': 8534, 'hungry': 8535, 'embezzlement': 8536, 'catastrophic': 8537, 'modestly': 8538, 'starred': 8539, 'fence': 8540, 'alzheimer': 8541, 'lunar': 8542, 'smokers': 8543, 'valuation': 8544, 'candidacy': 8545, 'cop': 8546, 'wachovia': 8547, 'ranbir': 8548, 'deserves': 8549, 'USS': 8550, 'OK': 8551, 'roses': 8552, 'magistrates': 8553, 'ibrahim': 8554, 'exist': 8555, 'supermarkets': 8556, 'hillsborough': 8557, 'bite': 8558, 'candlestick': 8559, 'colon': 8560, 'commenced': 8561, 'comply': 8562, 'afridi': 8563, 'vonn': 8564, 'olivia': 8565, 'MVP': 8566, 'stallone': 8567, 'contributed': 8568, 'graphics': 8569, 'manufacture': 8570, 'ordinance': 8571, 'WBA': 8572, 'RSS': 8573, 'immune': 8574, 'mood': 8575, 'payable': 8576, 'diversified': 8577, 'fletcher': 8578, 'schmidt': 8579, 'tariffs': 8580, 'dividends': 8581, 'McIlroy': 8582, 'putnam': 8583, 'shannon': 8584, 'highland': 8585, 'obsessed': 8586, 'ramesh': 8587, 'establishes': 8588, 'weighing': 8589, 'capped': 8590, 'trafford': 8591, 'multimedia': 8592, 'biotechnology': 8593, 'julius': 8594, '750': 8595, 'machinery': 8596, 'TSX': 8597, 'cork': 8598, 'slugger': 8599, 'pratibha': 8600, 'gamble': 8601, 'leafs': 8602, 'caterpillar': 8603, 'restoring': 8604, 'noting': 8605, 'warne': 8606, 'aka': 8607, 'aging': 8608, 'directions': 8609, 'wrongful': 8610, 'followers': 8611, 'verge': 8612, 'modified': 8613, 'monte': 8614, 'categories': 8615, 'cornwall': 8616, 'sikh': 8617, 'rampage': 8618, 'slapped': 8619, 'zach': 8620, 'incredible': 8621, 'integrate': 8622, 'leaking': 8623, 'owed': 8624, 'snyder': 8625, 'whip': 8626, 'africans': 8627, 'livingston': 8628, 'aliens': 8629, 'corridor': 8630, 'kazakh': 8631, 'hai': 8632, 'headlines': 8633, 'karan': 8634, 'observe': 8635, 'nonstop': 8636, 'powered': 8637, 'fantastic': 8638, 'teaming': 8639, 'dining': 8640, 'berkshire': 8641, 'commence': 8642, 'nano': 8643, 'zynga': 8644, 'colbert': 8645, 'cameroon': 8646, 'AirTran': 8647, 'bypass': 8648, 'supplying': 8649, 'judgment': 8650, 'dust': 8651, 'johns': 8652, 'dynamo': 8653, 'ugly': 8654, 'contamination': 8655, 'lucrative': 8656, 'CITY': 8657, 'expires': 8658, 'freestyle': 8659, 'pearson': 8660, 'hulk': 8661, 'snowmobile': 8662, 'memories': 8663, 'dancer': 8664, 'unanimous': 8665, 'conflicts': 8666, 'please': 8667, 'pepsi': 8668, 'appearances': 8669, 'apprentice': 8670, 'irvine': 8671, 'engulfing': 8672, 'carpenter': 8673, 'artificial': 8674, 'gareth': 8675, 'rooms': 8676, 'garrett': 8677, 'churches': 8678, 'wis': 8679, 'sticks': 8680, 'honoring': 8681, 'booker': 8682, 'memoir': 8683, 'byrd': 8684, 'condolences': 8685, 'FM': 8686, 'carla': 8687, 'dramatically': 8688, 'electrocuted': 8689, 'nash': 8690, 'alexandra': 8691, 'bosnia': 8692, 'dana': 8693, 'keane': 8694, 'ole': 8695, 'apollo': 8696, 'convinced': 8697, 'sultan': 8698, 'competitiveness': 8699, 'ST': 8700, 'PA': 8701, 'lucie': 8702, 'frederick': 8703, 'snowfall': 8704, 'keegan': 8705, 'anticorruption': 8706, 'mammoth': 8707, 'invite': 8708, 'hostages': 8709, 'transfers': 8710, 'paddy': 8711, 'penske': 8712, 'injures': 8713, 'generations': 8714, 'intentionally': 8715, 'shriver': 8716, 'bride': 8717, 'filmed': 8718, 'downward': 8719, 'deepika': 8720, 'seth': 8721, 'demolished': 8722, 'quietly': 8723, 'copies': 8724, 'telangana': 8725, 'mounted': 8726, 'achieving': 8727, 'pavilion': 8728, 'refinancing': 8729, 'worcester': 8730, 'breached': 8731, 'animated': 8732, '22nd': 8733, 'truce': 8734, 'backdrop': 8735, 'appliances': 8736, 'prostitute': 8737, 'porter': 8738, 'cory': 8739, 'lowcost': 8740, 'intoxicated': 8741, 'UKbased': 8742, 'upstate': 8743, 'supervision': 8744, 'footprint': 8745, 'approvals': 8746, 'pared': 8747, 'visitor': 8748, 'kelsey': 8749, 'travolta': 8750, 'architecture': 8751, 'mercantile': 8752, 'evil': 8753, 'abdominal': 8754, 'root': 8755, 'fisheries': 8756, 'libraries': 8757, '27th': 8758, 'warships': 8759, 'duck': 8760, 'boot': 8761, 'types': 8762, 'territories': 8763, 'cave': 8764, 'lefthander': 8765, 'architect': 8766, 'paribas': 8767, 'dangers': 8768, 'latter': 8769, '9th': 8770, 'obtain': 8771, 'petty': 8772, 'finalised': 8773, 'novelist': 8774, 'imperial': 8775, 'julio': 8776, 'venues': 8777, 'exceed': 8778, 'pretoria': 8779, 'paraguay': 8780, 'dictator': 8781, 'bronx': 8782, 'johan': 8783, 'promotional': 8784, 'ligament': 8785, 'theaters': 8786, 'demonstrate': 8787, 'chevron': 8788, 'participated': 8789, 'perdue': 8790, 'understands': 8791, 'rejecting': 8792, 'akron': 8793, 'math': 8794, 'solomon': 8795, 'bulldogs': 8796, 'choppy': 8797, 'surrounded': 8798, 'onetime': 8799, 'witnessed': 8800, 'eastman': 8801, 'enables': 8802, 'darling': 8803, 'reaffirmed': 8804, 'sevilla': 8805, 'liga': 8806, 'ambush': 8807, 'jermaine': 8808, 'dixon': 8809, 'prodemocracy': 8810, 'respective': 8811, 'vegetable': 8812, 'ana': 8813, 'contracted': 8814, 'viral': 8815, 'lancashire': 8816, 'hon': 8817, 'insight': 8818, 'elimination': 8819, 'panetta': 8820, 'firsthalf': 8821, '28th': 8822, 'bermuda': 8823, 'weeklong': 8824, 'supervisor': 8825, 'guarantees': 8826, 'milton': 8827, 'monitors': 8828, '24th': 8829, 'patterson': 8830, 'advocacy': 8831, 'reinstate': 8832, 'hiked': 8833, 'trauma': 8834, 'bulk': 8835, 'spacecraft': 8836, 'pitched': 8837, 'ratio': 8838, 'fourday': 8839, 'handful': 8840, 'apologise': 8841, 'shia': 8842, 'comics': 8843, 'lap': 8844, 'migration': 8845, 'lilly': 8846, 'principle': 8847, 'assess': 8848, 'copa': 8849, 'funded': 8850, 'painting': 8851, 'ashore': 8852, 'salisbury': 8853, 'runaway': 8854, 'audiences': 8855, 'airspace': 8856, 'frankfurt': 8857, 'meal': 8858, 'lotus': 8859, 'strait': 8860, 'drowning': 8861, 'collaborate': 8862, 'GPS': 8863, 'chan': 8864, 'corning': 8865, 'upsets': 8866, 'grizzlies': 8867, 'horry': 8868, 'weaken': 8869, 'jill': 8870, 'salvador': 8871, 'ballistic': 8872, 'terrible': 8873, 'bruised': 8874, 'balochistan': 8875, 'assurance': 8876, 'sort': 8877, 'diva': 8878, 'bigg': 8879, 'bullying': 8880, 'breakaway': 8881, 'chapel': 8882, 'hudgens': 8883, 'dumping': 8884, 'kourtney': 8885, 'prisons': 8886, 'sears': 8887, '115': 8888, 'surf': 8889, 'pursuing': 8890, 'gabor': 8891, 'belief': 8892, 'firearm': 8893, 'reductions': 8894, 'tbilisi': 8895, 'endorsing': 8896, 'synthetic': 8897, 'therefore': 8898, '2018': 8899, 'paving': 8900, 'motorist': 8901, '108': 8902, 'lesson': 8903, 'fundamental': 8904, 'colour': 8905, 'barrett': 8906, 'doha': 8907, 'journalism': 8908, 'alto': 8909, 'homer': 8910, 'ariz': 8911, 'unlawful': 8912, 'servers': 8913, 'groupon': 8914, 'rosa': 8915, 'loyal': 8916, 'yusuf': 8917, 'tv': 8918, 'ahmedabad': 8919, 'ATP': 8920, 'steering': 8921, 'predicting': 8922, 'literacy': 8923, 'searches': 8924, 'investigator': 8925, 'hearings': 8926, 'destroying': 8927, 'sands': 8928, '10year': 8929, 'shiite': 8930, 'dominant': 8931, 'appalachian': 8932, 'tripura': 8933, 'medication': 8934, 'grande': 8935, 'ranging': 8936, 'havana': 8937, 'osborne': 8938, 'longrunning': 8939, 'indicate': 8940, 'ramadan': 8941, 'wikileaks': 8942, 'eleven': 8943, 'herbert': 8944, 'shirley': 8945, 'premiums': 8946, '1970s': 8947, 'maestro': 8948, 'ga': 8949, '90th': 8950, 'correction': 8951, 'builders': 8952, 'spector': 8953, 'BAE': 8954, 'expression': 8955, 'grip': 8956, 'physician': 8957, 'ubisoft': 8958, 'blocking': 8959, 'underlying': 8960, 'polk': 8961, 'labourers': 8962, '111': 8963, 'MLB': 8964, 'restive': 8965, 'icy': 8966, 'khyber': 8967, 'conspiring': 8968, 'cherokee': 8969, 'asda': 8970, 'copyright': 8971, 'cafe': 8972, 'FX': 8973, 'psychological': 8974, 'speakers': 8975, 'wrestler': 8976, 'donating': 8977, 'regulate': 8978, 'separated': 8979, 'exploring': 8980, 'intimate': 8981, 'stun': 8982, 'jaguar': 8983, 'galway': 8984, 'banner': 8985, 'patriotic': 8986, '200809': 8987, 'upholds': 8988, 'kristin': 8989, 'warplanes': 8990, 'hints': 8991, 'fifa': 8992, 'swayze': 8993, 'karen': 8994, 'achieves': 8995, 'collides': 8996, 'OJ': 8997, 'tortured': 8998, 'influenza': 8999, '38yearold': 9000, 'donovan': 9001, 'examine': 9002, 'cheltenham': 9003, 'tab': 9004, 'eclipse': 9005, 'tyre': 9006, 'foray': 9007, 'interface': 9008, 'speedy': 9009, 'unlimited': 9010, 'belong': 9011, 'senegal': 9012, 'twovehicle': 9013, 'crowds': 9014, 'spa': 9015, 'misleading': 9016, 'fidel': 9017, 'stamps': 9018, 'rita': 9019, 'touchdown': 9020, 'poster': 9021, '109': 9022, 'slim': 9023, 'sealed': 9024, 'NH': 9025, 'SWAT': 9026, 'batman': 9027, 'humane': 9028, '230': 9029, 'mahendra': 9030, 'column': 9031, 'byrne': 9032, 'VMware': 9033, 'conclusion': 9034, 'martha': 9035, 'decreased': 9036, 'thoughts': 9037, '4S': 9038, 'surgical': 9039, 'attendants': 9040, 'kashmiri': 9041, 'partnerships': 9042, 'secretarygeneral': 9043, 'MGM': 9044, 'timing': 9045, 'belarusian': 9046, 'hewlettpackard': 9047, 'tenure': 9048, 'inflationary': 9049, 'talented': 9050, 'bishops': 9051, 'shahrukh': 9052, 'forget': 9053, 'personally': 9054, 'moose': 9055, 'harrington': 9056, 'switching': 9057, 'transform': 9058, 'shipment': 9059, 'landscape': 9060, 'bethlehem': 9061, 'booth': 9062, '47yearold': 9063, 'willie': 9064, 'divorced': 9065, 'therapeutics': 9066, 'musicians': 9067, 'inner': 9068, 'correct': 9069, 'conan': 9070, 'conditioning': 9071, 'pensioners': 9072, 'smallest': 9073, 'namibia': 9074, 'ballet': 9075, 'q': 9076, 'kunis': 9077, 'knocking': 9078, 'strauss': 9079, 'liz': 9080, 'enrichment': 9081, 'israelis': 9082, 'frame': 9083, 'coordination': 9084, 'shrine': 9085, 'extremism': 9086, 'snake': 9087, 'jaime': 9088, 'walgreens': 9089, 'elena': 9090, 'kylie': 9091, 'lloyds': 9092, 'soybean': 9093, 'middlesbrough': 9094, 'fraudulent': 9095, 'separation': 9096, 'scottsdale': 9097, 'tense': 9098, 'olive': 9099, 'bash': 9100, 'franco': 9101, 'sainsbury': 9102, 'barely': 9103, 'drones': 9104, 'dannii': 9105, 'hung': 9106, 'marvel': 9107, 'brighton': 9108, 'EMC': 9109, 'NDA': 9110, 'frequent': 9111, 'deserved': 9112, 'pleas': 9113, 'vacancies': 9114, 'taxation': 9115, 'daryl': 9116, 'historian': 9117, 'jamaican': 9118, 'inevitable': 9119, 'affirms': 9120, 'beam': 9121, 'boone': 9122, '730': 9123, 'patience': 9124, 'ethical': 9125, 'scratched': 9126, 'keeper': 9127, 'mirren': 9128, 'organ': 9129, 'waiver': 9130, 'donors': 9131, 'stimulate': 9132, 'surges': 9133, 'narcotics': 9134, 'budapest': 9135, 'cult': 9136, 'bloom': 9137, 'dismiss': 9138, 'overturns': 9139, 'whales': 9140, 'scrutiny': 9141, 'huckabee': 9142, 'chooses': 9143, 'casual': 9144, 'guatemala': 9145, 'bynes': 9146, 'punish': 9147, 'contacts': 9148, 'deeply': 9149, 'stan': 9150, 'legion': 9151, 'ignoring': 9152, 'rings': 9153, 'lingering': 9154, 'improper': 9155, 'anchorage': 9156, 'intelligent': 9157, 'collapsing': 9158, 'relocate': 9159, 'disgraced': 9160, 'yorkbased': 9161, 'brigade': 9162, 'richter': 9163, 'neither': 9164, 'aquarium': 9165, 'downhill': 9166, 'forestry': 9167, 'towers': 9168, 'bubble': 9169, '100m': 9170, 'jacobs': 9171, 'kandahar': 9172, 'dev': 9173, 'seals': 9174, 'harare': 9175, 'onboard': 9176, 'malibu': 9177, 'madden': 9178, 'memorandum': 9179, 'mineral': 9180, 'amendments': 9181, 'threetime': 9182, 'bloomington': 9183, 'slalom': 9184, 'shropshire': 9185, 'aggression': 9186, 'bal': 9187, '3500': 9188, 'twoweek': 9189, '31st': 9190, 'candy': 9191, 'garner': 9192, 'subsidy': 9193, 'twelve': 9194, 'legally': 9195, 'protective': 9196, 'courteney': 9197, 'wealthy': 9198, 'dane': 9199, 'carlyle': 9200, 'colony': 9201, '08': 9202, 'prasad': 9203, 'maori': 9204, 'touches': 9205, 'ultimately': 9206, 'commentator': 9207, 'mideast': 9208, 'wondering': 9209, 'MD': 9210, 'sixmonth': 9211, 'inaugurates': 9212, 'hardy': 9213, 'debit': 9214, 'rodham': 9215, 'sophomore': 9216, 'complaining': 9217, 'pawar': 9218, 'auditor': 9219, 'drogba': 9220, 'pearce': 9221, 'headley': 9222, 'wore': 9223, 'designers': 9224, 'happening': 9225, 'prom': 9226, 'sargsyan': 9227, 'ACC': 9228, 'provision': 9229, '200m': 9230, 'militia': 9231, 'nightmare': 9232, 'nephew': 9233, 'medalist': 9234, 'paint': 9235, 'G20': 9236, 'shoplifting': 9237, 'lockheed': 9238, 'gurgaon': 9239, 'LED': 9240, 'convoy': 9241, 'ordering': 9242, 'jackman': 9243, 'oversight': 9244, 'benghazi': 9245, 'bon': 9246, 'chattanooga': 9247, 'lend': 9248, 'anticipation': 9249, 'mila': 9250, 'deeper': 9251, 'canton': 9252, 'properly': 9253, 'jenner': 9254, 'gangster': 9255, 'enabling': 9256, 'footage': 9257, 'slipping': 9258, 'credible': 9259, 'kia': 9260, 'paulson': 9261, 'marilyn': 9262, 'adobe': 9263, 'graffiti': 9264, '630': 9265, 'methamphetamine': 9266, 'crowe': 9267, 'importing': 9268, 'aerial': 9269, 'lifeline': 9270, 'switched': 9271, 'fiction': 9272, 'spots': 9273, 'mouse': 9274, 'fertilizer': 9275, 'hacker': 9276, 'penney': 9277, 'fellowship': 9278, 'optical': 9279, 'controllers': 9280, 'phelps': 9281, 'climbs': 9282, 'slot': 9283, 'ankara': 9284, 'diverted': 9285, 'initiates': 9286, 'alba': 9287, 'driveway': 9288, 'designate': 9289, 'halts': 9290, 'seizes': 9291, 'rainbow': 9292, 'portrait': 9293, 'prof': 9294, 'caretaker': 9295, 'disqualified': 9296, 'hospice': 9297, 'marseille': 9298, 'kane': 9299, 'cindy': 9300, '42yearold': 9301, 'facts': 9302, 'conversation': 9303, 'looming': 9304, 'meaningful': 9305, 'mastectomy': 9306, 'obstruction': 9307, 'pumps': 9308, 'steele': 9309, 'churchill': 9310, 'migrant': 9311, 'listen': 9312, 'marshal': 9313, 'kuala': 9314, 'concord': 9315, 'interviewed': 9316, 'conversion': 9317, 'practicing': 9318, '550': 9319, 'ronald': 9320, 'downgrade': 9321, 'kara': 9322, 'kan': 9323, 'indy': 9324, 'precision': 9325, 'custom': 9326, 'refuse': 9327, 'loyalty': 9328, 'allamerican': 9329, 'EP': 9330, 'ammunition': 9331, 'ulster': 9332, 'stormed': 9333, 'exported': 9334, 'shifts': 9335, 'gupta': 9336, 'dismal': 9337, 'LNG': 9338, 'troubles': 9339, 'disposal': 9340, 'uttarakhand': 9341, 'counseling': 9342, 'here': 9343, 'assemblyman': 9344, 'cardiovascular': 9345, '45yearold': 9346, 'contributing': 9347, 'perspective': 9348, 'polo': 9349, 'carrey': 9350, 'widening': 9351, 'wee': 9352, 'residency': 9353, 'TI': 9354, 'balcony': 9355, 'wardrobe': 9356, 'landfill': 9357, 'airplane': 9358, 'intensified': 9359, 'darfur': 9360, '600000': 9361, 'canadiens': 9362, 'â': 9363, 'whopping': 9364, 'weisz': 9365, 'shelters': 9366, 'rwandan': 9367, 'snowden': 9368, 'WTA': 9369, 'lucy': 9370, 'antiterrorism': 9371, 'barker': 9372, 'DeGeneres': 9373, 'betterthanexpected': 9374, 'campaigners': 9375, 'qualcomm': 9376, 'hayes': 9377, '170': 9378, 'fiveday': 9379, 'paternity': 9380, 'locally': 9381, 'meter': 9382, 'timor': 9383, 'tightening': 9384, 'cooling': 9385, 'norms': 9386, 'bribes': 9387, 'RBS': 9388, 'indication': 9389, 'vogue': 9390, 'associations': 9391, 'iftikhar': 9392, 'surfaced': 9393, 'certificates': 9394, 'edwin': 9395, 'roland': 9396, 'niger': 9397, 'tactics': 9398, 'sao': 9399, '1997': 9400, 'deadliest': 9401, 'deficits': 9402, 'slur': 9403, 'ventura': 9404, 'granting': 9405, 'preorders': 9406, 'cheat': 9407, 'brace': 9408, 'drag': 9409, 'buccaneers': 9410, 'symposium': 9411, 'console': 9412, 'engulfed': 9413, 'goodman': 9414, 'brit': 9415, 'enrollment': 9416, 'cesar': 9417, 'monkey': 9418, '1999': 9419, 'kg': 9420, 'monoxide': 9421, 'leno': 9422, 'cheese': 9423, 'newell': 9424, 'dragons': 9425, 'deck': 9426, 'blackberry': 9427, 'powder': 9428, 'inspections': 9429, 'gutted': 9430, 'pocket': 9431, '7000': 9432, 'marvin': 9433, 'commissions': 9434, 'JC': 9435, 'penelope': 9436, 'forests': 9437, 'wears': 9438, 'bosnian': 9439, 'crusaders': 9440, 'ACT': 9441, 'mahama': 9442, 'grab': 9443, 'leaf': 9444, 'bafana': 9445, 'greenville': 9446, 'cambodian': 9447, 'recruits': 9448, 'alligator': 9449, 'billings': 9450, 'shrinks': 9451, 'cautioned': 9452, 'fullyear': 9453, 'breaches': 9454, 'khurshid': 9455, 'sectarian': 9456, 'primetime': 9457, 'EST': 9458, 'reader': 9459, 'billing': 9460, 'selloff': 9461, 'antidoping': 9462, 'whilst': 9463, 'inform': 9464, 'falcon': 9465, 'farming': 9466, 'boca': 9467, 'react': 9468, 'fragrance': 9469, 'evicted': 9470, 'mock': 9471, 'lumpur': 9472, '145': 9473, 'ajay': 9474, 'emission': 9475, 'thermo': 9476, 'peer': 9477, 'disability': 9478, 'grandson': 9479, 'component': 9480, 'hottest': 9481, 'fayetteville': 9482, 'frontline': 9483, 'connecting': 9484, 'CIS': 9485, 'McQueen': 9486, 'jain': 9487, 'buck': 9488, 'boyd': 9489, 'checking': 9490, 'elk': 9491, 'malayalam': 9492, 'erin': 9493, 'abuses': 9494, 'luncheon': 9495, 'opt': 9496, 'alpha': 9497, 'stuttgart': 9498, 'murderer': 9499, 'threegame': 9500, 'stuff': 9501, 'elsewhere': 9502, 'leona': 9503, 'consultants': 9504, 'syrians': 9505, 'alcoa': 9506, 'halfway': 9507, 'malfunction': 9508, 'plain': 9509, 'stephanie': 9510, 'aishwarya': 9511, 'aboriginal': 9512, 'persian': 9513, 'dominic': 9514, 'proving': 9515, 'skiing': 9516, 'passion': 9517, 'aloud': 9518, 'fabrice': 9519, 'expenditure': 9520, 'smashing': 9521, 'caucasus': 9522, \"o'reilly\": 9523, 'shelf': 9524, 'patrols': 9525, 'peyton': 9526, 'fontana': 9527, 'exams': 9528, 'equivalent': 9529, 'aH1N1': 9530, 'rejoin': 9531, 'intercontinental': 9532, 'lied': 9533, 'abhishek': 9534, 'fallon': 9535, 'curry': 9536, 'roanoke': 9537, 'wonderful': 9538, 'module': 9539, 'rebate': 9540, 'cutler': 9541, 'victories': 9542, 'tide': 9543, 'alcoholic': 9544, 'reactors': 9545, 'meningitis': 9546, 'referred': 9547, 'CNBC': 9548, 'spotify': 9549, 'beau': 9550, 'petrochemical': 9551, 'sylvester': 9552, 'outing': 9553, 'observer': 9554, 'scooter': 9555, 'WBO': 9556, 'sunni': 9557, 'leinster': 9558, 'sellers': 9559, 'extinction': 9560, 'liberia': 9561, 'pad': 9562, 'pardon': 9563, 'amar': 9564, 'deemed': 9565, 'tina': 9566, 'pulitzer': 9567, 'continuous': 9568, 'luxembourg': 9569, '11yearold': 9570, 'nod': 9571, 'ID': 9572, 'globes': 9573, 'sewage': 9574, 'espionage': 9575, 'aides': 9576, 'virtualization': 9577, 'rides': 9578, 'clinches': 9579, 'huawei': 9580, 'ArcelorMittal': 9581, 'fremont': 9582, 'flows': 9583, 'sights': 9584, 'explosions': 9585, 'armenians': 9586, 'marred': 9587, 'zinc': 9588, 'hancock': 9589, 'jenny': 9590, 'timberwolves': 9591, 'saleh': 9592, 'deere': 9593, 'yy': 9594, 'concedes': 9595, 'hatch': 9596, 'shakes': 9597, 'emerges': 9598, 'fingers': 9599, 'usually': 9600, 'powerball': 9601, 'carney': 9602, 'cousins': 9603, 'rabies': 9604, 'acceptance': 9605, 'rao': 9606, 'nicholas': 9607, 'condoleezza': 9608, 'styles': 9609, 'aretha': 9610, 'embrace': 9611, 'surprising': 9612, 'mistress': 9613, 'background': 9614, 'hiatus': 9615, 'atmosphere': 9616, 'jihad': 9617, 'otago': 9618, 'headquartered': 9619, 'finalists': 9620, 'purse': 9621, 'haul': 9622, 'IRIS': 9623, 'raft': 9624, 'gases': 9625, 'except': 9626, 'saskatoon': 9627, 'advancing': 9628, 'hijack': 9629, 'subprime': 9630, 'lingerie': 9631, 'xperia': 9632, 'twenty': 9633, 'iPads': 9634, 'millennium': 9635, 'algerian': 9636, 'branding': 9637, 'BART': 9638, 'wellness': 9639, 'vow': 9640, '200th': 9641, 'blade': 9642, 'lowering': 9643, 'belgrade': 9644, 'pled': 9645, 'educators': 9646, 'amend': 9647, 'nate': 9648, 'ramsay': 9649, 'flame': 9650, 'atop': 9651, 'trusted': 9652, 'farmington': 9653, 'overtake': 9654, 'tendon': 9655, 'discounts': 9656, '33yearold': 9657, 'ivan': 9658, 'automakers': 9659, 'cartoon': 9660, 'regularly': 9661, 'actual': 9662, 'restrict': 9663, 'sanctuary': 9664, 'overwhelmingly': 9665, 'guaranteed': 9666, 'rumored': 9667, 'hulu': 9668, 'santana': 9669, 'viewing': 9670, 'shelton': 9671, 'aer': 9672, 'seasonally': 9673, 'knocks': 9674, 'dioxide': 9675, 'A380': 9676, 'precautionary': 9677, 'tale': 9678, 'staging': 9679, 'asheville': 9680, 'thrilled': 9681, 'offenses': 9682, 'sonny': 9683, 'waited': 9684, 'bidding': 9685, 'feelings': 9686, 'moreno': 9687, 'languages': 9688, 'kiev': 9689, 'seacrest': 9690, 'gardner': 9691, 'branson': 9692, 'sheep': 9693, 'incredibly': 9694, 'naples': 9695, '190': 9696, 'informal': 9697, 'lufthansa': 9698, 'ringgit': 9699, 'worry': 9700, 'bikes': 9701, 'scope': 9702, 'everyday': 9703, 'youngster': 9704, 'substitute': 9705, 'airstrike': 9706, 'miracle': 9707, 'bismarck': 9708, 'twist': 9709, 'limelight': 9710, 'reversed': 9711, 'fenway': 9712, 'felonies': 9713, 'deliveries': 9714, 'supplied': 9715, 'UC': 9716, 'homage': 9717, 'sgt': 9718, 'tongue': 9719, 'burglars': 9720, 'mask': 9721, 'fractures': 9722, 'outskirts': 9723, 'NV': 9724, 'estonia': 9725, 'moammar': 9726, 'shooter': 9727, 'gerald': 9728, 'reviewed': 9729, 'hurting': 9730, '200910': 9731, 'surviving': 9732, 'fukushima': 9733, 'uncomfortable': 9734, 'baron': 9735, 'corrections': 9736, 'spiderman': 9737, 'diagnostic': 9738, 'wrongly': 9739, 'blizzard': 9740, 'campuses': 9741, 'stockton': 9742, 'dolphin': 9743, 'expel': 9744, 'bajaj': 9745, '14000': 9746, 'leach': 9747, 'parkinson': 9748, 'dalglish': 9749, 'winston': 9750, 'cosmetic': 9751, 'sahara': 9752, 'pendleton': 9753, 'detain': 9754, 'motorway': 9755, 'assaults': 9756, 'busiest': 9757, 'slept': 9758, 'explorer': 9759, 'limerick': 9760, 'growers': 9761, 'akhtar': 9762, 'prolific': 9763, 'arrow': 9764, 'expressing': 9765, 'regret': 9766, 'impending': 9767, 'emmanuel': 9768, 'gangs': 9769, 'standout': 9770, 'euronext': 9771, 'irrigation': 9772, 'bites': 9773, 'photography': 9774, 'spur': 9775, 'hotspur': 9776, 'pupil': 9777, 'skier': 9778, 'pile': 9779, 'schoolgirl': 9780, 'polio': 9781, 'implementing': 9782, 'capability': 9783, 'sits': 9784, 'licensed': 9785, 'submarine': 9786, 'directorial': 9787, 'safeguard': 9788, 'redistricting': 9789, 'LK': 9790, 'pianist': 9791, 'lobbying': 9792, 'isolated': 9793, 'qureshi': 9794, '220': 9795, 'troop': 9796, 'exchanged': 9797, 'barney': 9798, 'scuffle': 9799, 'sword': 9800, 'TNA': 9801, 'sania': 9802, 'tacoma': 9803, 'hitler': 9804, 'orthodox': 9805, 'distributors': 9806, 'shipyard': 9807, 'taxpayer': 9808, 'tend': 9809, 'seafood': 9810, 'swimmer': 9811, 'apologize': 9812, 'cocoa': 9813, 'embarrassing': 9814, 'viktor': 9815, 'pamela': 9816, 'recognizes': 9817, 'karunanidhi': 9818, 'inch': 9819, 'lieberman': 9820, 'iPhones': 9821, 'tears': 9822, 'concession': 9823, 'divers': 9824, 'superhero': 9825, 'denounced': 9826, 'copenhagen': 9827, 'haye': 9828, 'expired': 9829, 'trails': 9830, 'opposing': 9831, 'McAfee': 9832, 'ho': 9833, 'carjacking': 9834, 'sergei': 9835, 'disappearance': 9836, 'costing': 9837, 'evangelist': 9838, 'realtime': 9839, 'shilpa': 9840, 'photographers': 9841, 'missions': 9842, 'thirdlargest': 9843, 'usher': 9844, 'specialists': 9845, 'pep': 9846, 'peas': 9847, 'jeter': 9848, 'hobbit': 9849, 'tall': 9850, 'choosing': 9851, 'excise': 9852, 'financially': 9853, 'dive': 9854, 'buoyed': 9855, 'landlords': 9856, 'profitable': 9857, 'sail': 9858, 'flintoff': 9859, 'colonial': 9860, 'runners': 9861, 'andrea': 9862, 'politically': 9863, 'solicitor': 9864, 'sonic': 9865, 'pressing': 9866, 'eligibility': 9867, 'serzh': 9868, 'yerevan': 9869, 'imposes': 9870, 'revoked': 9871, 'carries': 9872, 'threeyearold': 9873, 'jerome': 9874, 'identification': 9875, 'aspects': 9876, 'commemorate': 9877, 'spelling': 9878, 'partnered': 9879, 'confiscated': 9880, 'duet': 9881, '60000': 9882, 'klein': 9883, 'festivals': 9884, 'communal': 9885, 'produces': 9886, 'prevented': 9887, 'holden': 9888, 'exboyfriend': 9889, 'careers': 9890, 'bourse': 9891, 'newfoundland': 9892, 'hydrogen': 9893, 'lewd': 9894, 'credited': 9895, 'unveiling': 9896, 'sutherland': 9897, 'adverse': 9898, 'trips': 9899, 'jokes': 9900, 'VAT': 9901, 'lamar': 9902, 'SM': 9903, 'booze': 9904, 'chemistry': 9905, 'litigation': 9906, 'processors': 9907, '41yearold': 9908, 'courtesy': 9909, 'avery': 9910, 'applying': 9911, 'norton': 9912, 'xavier': 9913, 'movements': 9914, 'reads': 9915, 'avatar': 9916, 'goodbye': 9917, 'lisbon': 9918, 'peterborough': 9919, 'naming': 9920, 'insurgency': 9921, 'davidson': 9922, '13000': 9923, 'trek': 9924, 'telugu': 9925, 'gears': 9926, '124': 9927, 'switches': 9928, 'cellphone': 9929, 'rubio': 9930, 'nepali': 9931, 'mound': 9932, 'grim': 9933, 'maid': 9934, 'lorenzo': 9935, 'mulls': 9936, 'ancelotti': 9937, 'installs': 9938, 'IV': 9939, 'judy': 9940, 'stepfather': 9941, 'derry': 9942, 'negligence': 9943, 'mistakenly': 9944, 'avril': 9945, 'vaccination': 9946, 'holes': 9947, 'failures': 9948, 'extortion': 9949, 'performanceenhancing': 9950, '149': 9951, 'mongolia': 9952, 'pontiac': 9953, 'rein': 9954, '113': 9955, 'resisting': 9956, 'blazers': 9957, 'chains': 9958, 'aluminum': 9959, 'bellevue': 9960, 'fibre': 9961, 'painful': 9962, 'interaction': 9963, 'FCC': 9964, 'carnegie': 9965, 'christine': 9966, 'turnaround': 9967, 'keynote': 9968, 'pre': 9969, 'primarily': 9970, 'tore': 9971, 'akbar': 9972, 'raceway': 9973, 'highend': 9974, 'LPGA': 9975, 'burmese': 9976, 'listening': 9977, 'motivated': 9978, 'gunned': 9979, 'timber': 9980, 'weighs': 9981, 'backlash': 9982, 'knifepoint': 9983, 'determination': 9984, 'najib': 9985, 'pistons': 9986, 'colonel': 9987, 'fastgrowing': 9988, 'televised': 9989, 'smooth': 9990, 'eskom': 9991, 'Beyoncé': 9992, 'peso': 9993, 'technological': 9994, 'favorites': 9995, 'donna': 9996, 'jam': 9997, 'chi': 9998, 'elephants': 9999}\n"
     ]
    }
   ],
   "execution_count": 21
  },
  {
   "cell_type": "markdown",
   "metadata": {
    "collapsed": false,
    "pycharm": {
     "name": "#%% md\n"
    }
   },
   "source": [
    "<a name='e4'></a>\n",
    "### Exercise 4: Bag of Words\n",
    "(1p) Here we will create the bag-of-words representation of the sentences. The function will take a single sentence (list of tokens) and return an array of size `vocab_size` with the counts of each word in the vocabulary. The\n",
    "`vocab_size` is calculated as the length of the passed `token_to_id` dictionary. The resulting array should have zeros everywhere but the indices corresponding to the words in the vocabulary where it should have the counts of the words in the sentence. For example, if the sentence is `['fox', 'and', 'deer']` and the vocabulary is `{'fox': 0, 'and': 1, 'deer': 2}`, the resulting array should be `[1, 1, 1]`. If the sentence is `['fox', 'and', 'fox', 'deer']`, the resulting array should be `[2, 1, 1]`."
   ]
  },
  {
   "cell_type": "code",
   "metadata": {
    "collapsed": false,
    "pycharm": {
     "name": "#%%\n"
    },
    "ExecuteTime": {
     "end_time": "2025-04-22T15:48:13.987495Z",
     "start_time": "2025-04-22T15:48:13.948696Z"
    }
   },
   "source": [
    "def bag_of_words(sentence, token_to_id):\n",
    "    \"\"\"\n",
    "    Creates a bag-of-words representation of the sentence\n",
    "    Args:\n",
    "        sentence: a list of tokens\n",
    "        token_to_id: a dictionary mapping each word to an index in the vocabulary\n",
    "\n",
    "    Returns:: a numpy array of size vocab_size with the counts of each word in the vocabulary\n",
    "\n",
    "    \"\"\"\n",
    "    vocab_size = len(token_to_id)\n",
    "    bow = np.zeros(vocab_size, dtype=int)\n",
    "\n",
    "    ### YOUR CODE HERE\n",
    "    # copilot used when writing the code\n",
    "    for token in sentence:\n",
    "        if token in token_to_id:\n",
    "            index = token_to_id[token]\n",
    "            bow[index] += 1\n",
    "    ### YOUR CODE ENDS HERE\n",
    "\n",
    "    return bow"
   ],
   "outputs": [],
   "execution_count": 22
  },
  {
   "cell_type": "markdown",
   "metadata": {
    "collapsed": false,
    "pycharm": {
     "name": "#%% md\n"
    }
   },
   "source": [
    "Let's see how the function works on a single sentence. The output should be a numpy array of size `vocab_size` with the counts of each word in the vocabulary."
   ]
  },
  {
   "cell_type": "code",
   "metadata": {
    "collapsed": false,
    "pycharm": {
     "name": "#%%\n"
    },
    "ExecuteTime": {
     "end_time": "2025-04-22T15:48:14.010040Z",
     "start_time": "2025-04-22T15:48:13.951849Z"
    }
   },
   "source": [
    "print('Tokenized sentence:')\n",
    "print(tokenized_sentences[0])\n",
    "sentence_bow = bag_of_words(tokenized_sentences[0], token_to_id)\n",
    "\n",
    "print('Bag of words:')\n",
    "print(sentence_bow)\n",
    "print('Type of bag of words:')\n",
    "print(type(sentence_bow))\n",
    "print('Shape of bag of words:')\n",
    "print(sentence_bow.shape)\n",
    "print('Non-zero elements in bag of words:')\n",
    "print(np.nonzero(sentence_bow)[0])"
   ],
   "outputs": [
    {
     "name": "stdout",
     "output_type": "stream",
     "text": [
      "Tokenized sentence:\n",
      "['three', 'great', 'horned', 'owls', 'released', 'back', 'wild', 'afternoon', 'corpus', 'christi']\n",
      "Bag of words:\n",
      "[0 0 0 ... 0 0 0]\n",
      "Type of bag of words:\n",
      "<class 'numpy.ndarray'>\n",
      "Shape of bag of words:\n",
      "(10000,)\n",
      "Non-zero elements in bag of words:\n",
      "[  37   60  103  224  611 2073]\n"
     ]
    }
   ],
   "execution_count": 23
  },
  {
   "cell_type": "markdown",
   "metadata": {
    "collapsed": false,
    "pycharm": {
     "name": "#%% md\n"
    }
   },
   "source": [
    "We can also check in detail what words and their counts are in the bag-of-words representation."
   ]
  },
  {
   "cell_type": "code",
   "metadata": {
    "collapsed": false,
    "pycharm": {
     "name": "#%%\n"
    },
    "ExecuteTime": {
     "end_time": "2025-04-22T15:48:14.012777Z",
     "start_time": "2025-04-22T15:48:13.954812Z"
    }
   },
   "source": [
    "sentence_non_zero_bow = np.nonzero(sentence_bow)[0]\n",
    "print('Non-zero elements in bag of words:')\n",
    "print(sentence_non_zero_bow)\n",
    "for i in sentence_non_zero_bow:\n",
    "    print(vocab[i][0], ':', sentence_bow[i])"
   ],
   "outputs": [
    {
     "name": "stdout",
     "output_type": "stream",
     "text": [
      "Non-zero elements in bag of words:\n",
      "[  37   60  103  224  611 2073]\n",
      "three : 1\n",
      "back : 1\n",
      "released : 1\n",
      "afternoon : 1\n",
      "great : 1\n",
      "wild : 1\n"
     ]
    }
   ],
   "execution_count": 24
  },
  {
   "cell_type": "markdown",
   "metadata": {
    "collapsed": false,
    "pycharm": {
     "name": "#%% md\n"
    }
   },
   "source": [
    "The following function will apply all the steps we implemented to a single sentence. It returns a bag of words representation that we will use to calculate the similarity between different sentences."
   ]
  },
  {
   "cell_type": "code",
   "metadata": {
    "collapsed": false,
    "pycharm": {
     "name": "#%%\n"
    },
    "ExecuteTime": {
     "end_time": "2025-04-22T15:48:14.015013Z",
     "start_time": "2025-04-22T15:48:13.956955Z"
    }
   },
   "source": [
    "def embed_text(text, clean_fn, tokenize_fn, embed_fn):\n",
    "    cleaned = clean_fn(text)\n",
    "    tokens = tokenize_fn(cleaned)\n",
    "    embedding = embed_fn(tokens)\n",
    "    return embedding"
   ],
   "outputs": [],
   "execution_count": 25
  },
  {
   "cell_type": "markdown",
   "metadata": {
    "collapsed": false,
    "pycharm": {
     "name": "#%% md\n"
    }
   },
   "source": [
    "<a name='e5'></a>\n",
    "### Exercise 5: Cosine Similarity between two vectors\n",
    "\n",
    "(1p) Complete the following function that given any two vectors will compute the cosine similarity. If you don't remember the formula for the cosine similarity, revisit the course material. Notice that the function receives numpy arrays and recall that you can express cosine similarity as a dot product. Use numpy functions to write an efficient implementation."
   ]
  },
  {
   "cell_type": "code",
   "metadata": {
    "collapsed": false,
    "pycharm": {
     "name": "#%%\n"
    },
    "ExecuteTime": {
     "end_time": "2025-04-22T15:48:14.206416Z",
     "start_time": "2025-04-22T15:48:13.959415Z"
    }
   },
   "source": [
    "def cosine_similarity(vector1, vector2):\n",
    "    \"\"\"\n",
    "    Computes the cosine similarity between two vectors\n",
    "    Args:\n",
    "        vector1: numpy array of the first vector\n",
    "        vector2: numpy array of the second vector\n",
    "\n",
    "    Returns: cosine similarity\n",
    "\n",
    "    \"\"\"\n",
    "    ### YOUR CODE HERE\n",
    "    dot_product = np.dot(vector1, vector2)\n",
    "    # square root of the sum of squares of the vector1\n",
    "    divider = np.sqrt(np.dot(vector1, vector1))*np.sqrt(np.dot(vector2, vector2))\n",
    "    if divider == 0:\n",
    "        return 0.0\n",
    "    else:\n",
    "        return dot_product / divider\n",
    "    ### YOUR CODE ENDS HERE"
   ],
   "outputs": [],
   "execution_count": 26
  },
  {
   "cell_type": "code",
   "metadata": {
    "collapsed": false,
    "pycharm": {
     "name": "#%%\n"
    },
    "ExecuteTime": {
     "end_time": "2025-04-22T15:48:14.240083Z",
     "start_time": "2025-04-22T15:48:13.962787Z"
    }
   },
   "source": [
    "cosine_similarity(np.array([0, 1, 2]), np.array([0, 2, 4]))"
   ],
   "outputs": [
    {
     "data": {
      "text/plain": "0.9999999999999998"
     },
     "execution_count": 27,
     "metadata": {},
     "output_type": "execute_result"
    }
   ],
   "execution_count": 27
  },
  {
   "cell_type": "code",
   "metadata": {
    "collapsed": false,
    "pycharm": {
     "name": "#%%\n"
    },
    "ExecuteTime": {
     "end_time": "2025-04-22T15:48:14.242569Z",
     "start_time": "2025-04-22T15:48:13.966947Z"
    }
   },
   "source": [
    "sentences = [\n",
    "    'The quick brown fox jumps over the lazy dog.',\n",
    "    'Some interesting document containin sentences.',\n",
    "    'The quick brown fox jumps over the lazy cat and some other stuff.',\n",
    "    'Fox and deer are not friends.',\n",
    "    'Fox and deer are not friends. But this document is a lot longer than the previous one. We can add sentence by sentence and see how the embeddings change.',\n",
    "]\n",
    "embedded_sentences = [\n",
    "    embed_text(sentence, clean, tokenize, lambda x: bag_of_words(x, token_to_id))\n",
    "    for sentence in sentences\n",
    "]\n",
    "\n",
    "query = 'fox and deer'\n",
    "embedded_query = embed_text(query, clean, tokenize, lambda x: bag_of_words(x, token_to_id))\n",
    "\n",
    "cosine_similarities = [\n",
    "    cosine_similarity(embedded_query, embedded_sentence)\n",
    "    for embedded_sentence in embedded_sentences\n",
    "]\n",
    "print(f'Query: {query}')\n",
    "for sent, cos_sim in zip(sentences, cosine_similarities):\n",
    "    print(f'Cosine Similarity: {cos_sim:.4f} - Sentence: {sent}')"
   ],
   "outputs": [
    {
     "name": "stdout",
     "output_type": "stream",
     "text": [
      "Query: fox and deer\n",
      "Cosine Similarity: 0.3162 - Sentence: The quick brown fox jumps over the lazy dog.\n",
      "Cosine Similarity: 0.0000 - Sentence: Some interesting document containin sentences.\n",
      "Cosine Similarity: 0.2887 - Sentence: The quick brown fox jumps over the lazy cat and some other stuff.\n",
      "Cosine Similarity: 0.8165 - Sentence: Fox and deer are not friends.\n",
      "Cosine Similarity: 0.3651 - Sentence: Fox and deer are not friends. But this document is a lot longer than the previous one. We can add sentence by sentence and see how the embeddings change.\n"
     ]
    }
   ],
   "execution_count": 28
  },
  {
   "cell_type": "markdown",
   "metadata": {
    "collapsed": false,
    "pycharm": {
     "name": "#%% md\n"
    }
   },
   "source": [
    "We will apply the function to the whole dataset. This might take a while, so be patient. The result will be stored in the `sentence_bow` and `compressed_bow` fields of the dataset."
   ]
  },
  {
   "cell_type": "code",
   "metadata": {
    "collapsed": false,
    "pycharm": {
     "name": "#%%\n"
    },
    "ExecuteTime": {
     "end_time": "2025-04-22T15:48:14.249343Z",
     "start_time": "2025-04-22T15:48:13.970881Z"
    }
   },
   "source": [
    "def bag_of_words_dataset(example):\n",
    "    \"\"\"\n",
    "    Creates a bag-of-words representation of the sentence and compressed sentence in the example from the Dataset\n",
    "    Args:\n",
    "        example: an example from the Dataset\n",
    "\n",
    "    Returns: updated example with 'sentence_bow' and 'compressed_bow' columns\n",
    "\n",
    "    \"\"\"\n",
    "    sentence_tokens = example['sentence_tokens']\n",
    "    compressed_tokens = example['compressed_tokens']\n",
    "\n",
    "    sentence_bow = bag_of_words(sentence_tokens, token_to_id)\n",
    "    compressed_bow = bag_of_words(compressed_tokens, token_to_id)\n",
    "\n",
    "    example['sentence_bow'] = sentence_bow\n",
    "    example['compressed_bow'] = compressed_bow\n",
    "    return example"
   ],
   "outputs": [],
   "execution_count": 29
  },
  {
   "cell_type": "markdown",
   "metadata": {
    "collapsed": false,
    "pycharm": {
     "name": "#%% md\n"
    }
   },
   "source": [
    "The following cell will apply the function to the whole dataset. The result will be stored in the `sentence_bow` and `compressed_bow` fields of the dataset. We will also convert the dataset's fields `sentence_bow` and `compressed_bow` to numpy format for easier manipulation."
   ]
  },
  {
   "cell_type": "code",
   "metadata": {
    "collapsed": false,
    "pycharm": {
     "name": "#%%\n"
    },
    "ExecuteTime": {
     "end_time": "2025-04-22T15:48:33.269329Z",
     "start_time": "2025-04-22T15:48:13.983309Z"
    }
   },
   "source": [
    "test_ds = split_ds['test'].map(bag_of_words_dataset)\n",
    "test_ds = test_ds.with_format('np', columns=['sentence_bow', 'compressed_bow'], dtype=float)\n",
    "print(test_ds)"
   ],
   "outputs": [
    {
     "data": {
      "text/plain": "Map:   0%|          | 0/36000 [00:00<?, ? examples/s]",
      "application/vnd.jupyter.widget-view+json": {
       "version_major": 2,
       "version_minor": 0,
       "model_id": "ebbf74fa885d4573802c2dfe3d9e3935"
      }
     },
     "metadata": {},
     "output_type": "display_data"
    },
    {
     "name": "stdout",
     "output_type": "stream",
     "text": [
      "Dataset({\n",
      "    features: ['set', 'clean_sentence', 'clean_compressed', 'sentence_tokens', 'compressed_tokens', 'sentence_bow', 'compressed_bow'],\n",
      "    num_rows: 36000\n",
      "})\n"
     ]
    }
   ],
   "execution_count": 30
  },
  {
   "cell_type": "markdown",
   "metadata": {
    "collapsed": false,
    "pycharm": {
     "name": "#%% md\n"
    }
   },
   "source": [
    "Let's check the results. The `sentence_bow` and `compressed_bow` fields should contain the bag-of-words representation of the sentences and compressed sentences, respectively."
   ]
  },
  {
   "cell_type": "code",
   "metadata": {
    "collapsed": false,
    "pycharm": {
     "name": "#%%\n"
    },
    "ExecuteTime": {
     "end_time": "2025-04-22T15:48:33.302654Z",
     "start_time": "2025-04-22T15:48:33.272222Z"
    }
   },
   "source": [
    "print(test_ds[0])"
   ],
   "outputs": [
    {
     "name": "stdout",
     "output_type": "stream",
     "text": [
      "{'sentence_bow': array([0., 0., 0., ..., 0., 0., 0.]), 'compressed_bow': array([0., 0., 0., ..., 0., 0., 0.])}\n"
     ]
    }
   ],
   "execution_count": 31
  },
  {
   "cell_type": "code",
   "metadata": {
    "collapsed": false,
    "pycharm": {
     "name": "#%%\n"
    },
    "ExecuteTime": {
     "end_time": "2025-04-22T15:48:43.027697Z",
     "start_time": "2025-04-22T15:48:33.282045Z"
    }
   },
   "source": [
    "sentences_bows = test_ds['sentence_bow']\n",
    "print(sentences_bows.shape)"
   ],
   "outputs": [
    {
     "name": "stdout",
     "output_type": "stream",
     "text": [
      "(36000, 10000)\n"
     ]
    }
   ],
   "execution_count": 32
  },
  {
   "cell_type": "markdown",
   "metadata": {
    "collapsed": false,
    "pycharm": {
     "name": "#%% md\n"
    }
   },
   "source": [
    "Now we can start building a retriever based on the bag of words representation. The first step is to calculate the cosine similarity between two vectors."
   ]
  },
  {
   "cell_type": "markdown",
   "metadata": {
    "collapsed": false,
    "pycharm": {
     "name": "#%% md\n"
    }
   },
   "source": [
    "<a name='e6'></a>\n",
    "### Exercise 6: Cosine Similarity between a vector and an array of vectors\n",
    "\n",
    "(2p) The next step in our retrieval system, would be to calculate the proximity of a query to our retrieval corpus (in our case that is all the sentences).\n",
    "\n",
    "Complete the following function to calculate the cosine similarity between a vector (first parameter `vector`, that will usually be the query vector) and all other vectors (second parameter `other_vectors`, that will be the sentence embeddings in our case). Note that the `other_vectors` parameter is a single numpy array of size `N x D`, where $N$ is the number of vectors and $D$ is the dimension of each vector.\n",
    "\n",
    "For maximum efficiency (we will need it) do not use loops. Try to write the implementation with numpy functions. Hint: matrix multiplication can be seen as calculating the dot product between rows and columns of the multiplied matrices."
   ]
  },
  {
   "cell_type": "code",
   "metadata": {
    "id": "LgaV2b3fpSOR",
    "pycharm": {
     "name": "#%%\n"
    },
    "ExecuteTime": {
     "end_time": "2025-04-22T15:48:43.034293Z",
     "start_time": "2025-04-22T15:48:43.025514Z"
    }
   },
   "source": [
    "def cosine_similarity_1_to_n(vector, other_vectors):\n",
    "    \"\"\"\n",
    "    Calculates the cosine similarity between a single vector and other vectors.\n",
    "    Args:\n",
    "        vector: a numpy array representing a vector of D dimensions\n",
    "        other_vectors: a 2D numpy array representing other vectors (of the size NxD, where N is the number of vectors and D is their dimension)\n",
    "\n",
    "    Returns: a 1D numpy array of size N containing the cosine similarity between the vector and all the other vectors\n",
    "\n",
    "    \"\"\"\n",
    "\n",
    "    #### YOUR CODE HERE\n",
    "    #chatGPT Prompt: Can you explain what is this exercise about so I can understand how to do it?\n",
    "    #Formula for cosine similarity\n",
    "    #The nominator being the dot product of the vector with other vectors\n",
    "    dot_products = np.dot(other_vectors, vector)\n",
    "\n",
    "    #The denominator being the product of the norms\n",
    "    norm_vector = np.linalg.norm(vector)\n",
    "    norm_others = np.linalg.norm(other_vectors, axis=1)\n",
    "\n",
    "    #chatGPT suggestion for debugging to avoid division by zero\n",
    "    norms_product = norm_vector * norm_others + 1e-10\n",
    "\n",
    "    #cosine similarity according to the formula\n",
    "    cosine_sim = dot_products / norms_product\n",
    "    return cosine_sim\n",
    "    ### YOUR CODE ENDS HERE"
   ],
   "outputs": [],
   "execution_count": 33
  },
  {
   "cell_type": "markdown",
   "metadata": {
    "collapsed": false,
    "id": "irNqAJZLpSOR",
    "pycharm": {
     "name": "#%% md\n"
    }
   },
   "source": [
    "We will use the function to calculate the similarity of all sentences in the dataset to our query."
   ]
  },
  {
   "cell_type": "code",
   "metadata": {
    "collapsed": false,
    "pycharm": {
     "name": "#%%\n"
    },
    "ExecuteTime": {
     "end_time": "2025-04-22T15:48:43.054454Z",
     "start_time": "2025-04-22T15:48:43.027489Z"
    }
   },
   "source": [
    "query = 'fox and deer'\n",
    "embedded_query = embed_text(query, clean, tokenize, lambda x: bag_of_words(x, token_to_id))"
   ],
   "outputs": [],
   "execution_count": 34
  },
  {
   "cell_type": "code",
   "metadata": {
    "id": "uD9mVAhYpSOR",
    "pycharm": {
     "name": "#%%\n"
    },
    "ExecuteTime": {
     "end_time": "2025-04-22T15:48:45.144814Z",
     "start_time": "2025-04-22T15:48:43.032078Z"
    }
   },
   "source": [
    "query_similarity = cosine_similarity_1_to_n(embedded_query, sentences_bows)\n",
    "print(query_similarity.shape)\n",
    "print(query_similarity[:10])"
   ],
   "outputs": [
    {
     "name": "stdout",
     "output_type": "stream",
     "text": [
      "(36000,)\n",
      "[0. 0. 0. 0. 0. 0. 0. 0. 0. 0.]\n"
     ]
    }
   ],
   "execution_count": 35
  },
  {
   "cell_type": "markdown",
   "metadata": {
    "collapsed": false,
    "id": "_l3erVTNpSOR",
    "pycharm": {
     "name": "#%% md\n"
    }
   },
   "source": [
    "The following cell will select the most similar sentence."
   ]
  },
  {
   "cell_type": "code",
   "metadata": {
    "id": "0wWa4AWHpSOR",
    "pycharm": {
     "name": "#%%\n"
    },
    "ExecuteTime": {
     "end_time": "2025-04-22T15:48:45.188966Z",
     "start_time": "2025-04-22T15:48:45.145948Z"
    }
   },
   "source": [
    "most_similar = int(np.argmax(query_similarity))\n",
    "print(most_similar)\n",
    "print(query_similarity[most_similar])\n",
    "print(split_ds['test'][most_similar]['set'][0])"
   ],
   "outputs": [
    {
     "name": "stdout",
     "output_type": "stream",
     "text": [
      "22310\n",
      "0.4242640687059285\n",
      "Fox News announced Friday that it has hired Herman Cain, the spirited former presidential candidate and ex-pizza CEO, as a contributor for Fox News Channel and Fox Business Network.\n"
     ]
    }
   ],
   "execution_count": 36
  },
  {
   "cell_type": "markdown",
   "metadata": {
    "collapsed": false,
    "id": "fpdJHFD1pSOR",
    "pycharm": {
     "name": "#%% md\n"
    }
   },
   "source": [
    "The following function will return the indices of the top-k elements in the array."
   ]
  },
  {
   "cell_type": "code",
   "metadata": {
    "id": "QFUNI9elpSOS",
    "pycharm": {
     "name": "#%%\n"
    },
    "ExecuteTime": {
     "end_time": "2025-04-22T15:48:45.193021Z",
     "start_time": "2025-04-22T15:48:45.149110Z"
    }
   },
   "source": [
    "def top_k_indices(array, k, sorted=True):\n",
    "    \"\"\"\n",
    "    Returns top-k indices from the 1D array. If `sorted` is `True` the returned indices are sorted in the descending order\n",
    "    Args:\n",
    "        array: a 1D numpy array\n",
    "        k: a number of top indices to return\n",
    "        sorted: if True, the returned indices are sorted in descending order\n",
    "\n",
    "    Returns: a 1D array containing top-k indices\n",
    "\n",
    "    \"\"\"\n",
    "    top_k = np.argpartition(array, -k)[-k:]\n",
    "    if sorted:\n",
    "        selected = array[top_k]\n",
    "        sorted_selected = (-selected).argsort()\n",
    "        top_k = top_k[sorted_selected]\n",
    "    return top_k"
   ],
   "outputs": [],
   "execution_count": 37
  },
  {
   "cell_type": "code",
   "metadata": {
    "id": "nY8vvJdepSOS",
    "pycharm": {
     "name": "#%%\n"
    },
    "ExecuteTime": {
     "end_time": "2025-04-22T15:48:45.307484Z",
     "start_time": "2025-04-22T15:48:45.152138Z"
    }
   },
   "source": [
    "top_indices = top_k_indices(query_similarity, k=10).tolist()\n",
    "for idx in top_indices:\n",
    "    print(split_ds['test'][idx]['set'][0])\n",
    "    print(f'similarity: {query_similarity[idx]}')"
   ],
   "outputs": [
    {
     "name": "stdout",
     "output_type": "stream",
     "text": [
      "Fox News announced Friday that it has hired Herman Cain, the spirited former presidential candidate and ex-pizza CEO, as a contributor for Fox News Channel and Fox Business Network.\n",
      "similarity: 0.4242640687059285\n",
      "Deer ticks are apparently on the rise.\n",
      "similarity: 0.4082482904471963\n",
      "The tough winter in northcentral Montana is taking a toll on mule deer.\n",
      "similarity: 0.2886751345864796\n",
      "Megan Fox finds it ``easy'' to control men.\n",
      "similarity: 0.2886751345864796\n",
      "-Megan Fox is to play Catwoman in the next Batman film.\n",
      "similarity: 0.2886751345864796\n",
      "DL Hughley stops by Fox 10 before he performs at CityScape in downtown Phoenix this weekend.\n",
      "similarity: 0.2672612419052815\n",
      "Waukesha police say a jogger found a body floating in the Fox River.\n",
      "similarity: 0.2672612419052815\n",
      "Fox Searchlight claims it never employed the two 'Black Swan' interns who are suing them.\n",
      "similarity: 0.2672612419052815\n",
      "``Lindsay does drugs because she's bored,'' Fox News quoted a pal of the actress as saying.\n",
      "similarity: 0.2672612419052815\n",
      "By Emily Fox SEVEN adorable pandas cubs have been born in China after a long procedure to artificially inseminate their parents.\n",
      "similarity: 0.24999999999374994\n"
     ]
    }
   ],
   "execution_count": 38
  },
  {
   "cell_type": "markdown",
   "metadata": {
    "collapsed": false,
    "id": "BuRI2JzQpSOS",
    "pycharm": {
     "name": "#%% md\n"
    }
   },
   "source": [
    "<a name='e7'></a>\n",
    "### Exercise 7: Analyzing and improving BOW search results\n",
    "\n",
    "Experiment with different queries (taking into account the nature of the dataset and your insights from the analysis so far).\n",
    "Answer the following questions:\n",
    "- (5p) Does the search perform well? When does it fail? Discuss several examples that are we get an expected but also unexpected results (find at least 3 from each category). Provide reasons for the good/bad result in each case (e.g. is there some error in the data, is there some linguistic phenomenon that we don't capture, is something wrong with our modeling with average embeddings, ...)\n",
    "- (5p) If you see problems with search, how could you improve your implementation? Change the functions above, if you think there is room for improvement. Describe your changes and how they made the search better or (in case you made no changes) explain what made the search robust enough to work well."
   ]
  },
  {
   "cell_type": "code",
   "execution_count": 39,
   "metadata": {
    "id": "sEQKHAvcpSOS",
    "pycharm": {
     "name": "#%%\n"
    },
    "ExecuteTime": {
     "end_time": "2025-04-22T15:48:45.347454Z",
     "start_time": "2025-04-22T15:48:45.166186Z"
    }
   },
   "outputs": [],
   "source": [
    "#### YOUR CODE HERE\n",
    "#Yes the initial query contains word 'and' The fact that the most similar results we got contained fox multiple times 'fox' or 'deer' means that the stop-words cleaning function worked well and did not take the word 'the' included in the initial query into addition.\n",
    "\n",
    "#At the beggining our result indeed included sentence with multiple 'the' but after quick clean it started to match sentences excluding stop-words.\n",
    "#We tested multiple queries like 'Artificial Intelligence at the park' to include some filler words and none of the matches included AI - possibly because its old newspapers when the topic was not that 'hot'.\n",
    "\n",
    "#To test if the function does care about word order we tested two queries 1)poachers killed another rhino (resulting:0.6324555320136759) and 2)killed rhino another poachers (resulting:0.6324555320136759) and since the similarity turned to be exactly the same our function does not care about order of the words.\n",
    "\n",
    "#Another thing worth mentioning is the fact that multiple sentences including the word 'park' twice had different similarity - that might be caused because they include different number of filler words do the similarity differs. example would be, for the query 'park' sentence 'park park I love park' has bigger similarity than 'park park I love park so so much'\n",
    "\n",
    "#We also tested query: 'On Saturday, poachers killed another rhino at Kaziranga National Park and chopped off its horn.' for the sentence we knew existed to check if the similarity is extremely high and the result was 0.99999 and the output was the exact same sentence as the most similar one.\n",
    "\n",
    "#Lastly we decided to check if the system finds synonyms using the query \"car\" and k=1000 (so we can check a wide range of sentences. the lowest similarity had a very log sentence that included the word car but that means that our function does not take into addition synonyms like 'vehicle' which could be a significant improvement.\n",
    "\n",
    "### YOUR CODE ENDS HERE"
   ]
  },
  {
   "cell_type": "markdown",
   "metadata": {
    "id": "eiIGTfq6eFI5",
    "pycharm": {
     "name": "#%% md\n"
    }
   },
   "source": [
    "// your comments"
   ]
  },
  {
   "cell_type": "markdown",
   "metadata": {
    "collapsed": false,
    "pycharm": {
     "name": "#%% md\n"
    }
   },
   "source": [
    "## 3. Term Frequency - Inverse Document Frequency (TF-IDF)\n",
    "\n",
    "In this section we will implement the TF-IDF algorithm. While BOW is a simple way to represent the documents, it has some limitations. For example, it does not take into account the importance of each word in the document. TF-IDF representation takes into account the frequency of each word in the document and the frequency of the word in the whole dataset. It is a widely used technique in information retrieval and text mining. Refer to the lecture slides for more details."
   ]
  },
  {
   "cell_type": "markdown",
   "metadata": {
    "collapsed": false,
    "pycharm": {
     "name": "#%% md\n"
    }
   },
   "source": [
    "<a name='e8'></a>\n",
    "### Exercise 8: Inverse Document Frequency (IDF)\n",
    "(5p) In this exercise, you will implement the TF-IDF algorithm. First, calculate Inverse Document Frequency (IDF) for each word in the vocabulary. Intuitively, it is a measure of how informative a word is based on the whole dataset. Consult the lecture slides for the details. The IDF is calculated as follows:\n",
    "$$\n",
    "IDF(t) = log_{10}(N/df(t))$$\n",
    "where $N$ is the total number of documents (sentences) in the dataset and $df(t)$ is the number of documents containing the word $t$.\n"
   ]
  },
  {
   "cell_type": "code",
   "execution_count": 40,
   "metadata": {
    "collapsed": false,
    "pycharm": {
     "name": "#%%\n"
    },
    "ExecuteTime": {
     "end_time": "2025-04-22T15:48:46.105992Z",
     "start_time": "2025-04-22T15:48:45.169206Z"
    }
   },
   "outputs": [],
   "source": [
    "def calculate_idf(bows):\n",
    "    \"\"\"\n",
    "    Calculates the IDF for each word in the vocabulary\n",
    "    Args:\n",
    "        bows: numpty array of size (N x D) where N is the number of documents and D is the vocabulary size\n",
    "\n",
    "    Returns: a numpy array of size D with IDF values for each token\n",
    "    \"\"\"\n",
    "\n",
    "    ### YOUR CODE HERE\n",
    " # copilot used when writing the code\n",
    "    n = bows.shape[0]\n",
    "    dft = np.sum(bows > 0, axis=0)\n",
    "    #changed that line because of division by zero being possible\n",
    "    #idf = np.where(dft > 0, np.log10(n / dft), 0)\n",
    "    idf = np.log10(n / (dft + 1))\n",
    "    return idf\n",
    "\n",
    "\n",
    "    ### YOUR CODE ENDS HERE\n",
    "\n",
    "idf = calculate_idf(sentences_bows)"
   ]
  },
  {
   "cell_type": "markdown",
   "metadata": {
    "collapsed": false,
    "pycharm": {
     "name": "#%% md\n"
    }
   },
   "source": [
    "<a name='e9'></a>\n",
    "### Exercise 9: TF-IDF\n",
    "- (5p) Calculate TF-IDF on the `test` subset of the dataset.\n",
    "- (5p) Analyze the search results based on your implemented TF-IDF. Does the search perform well? When does it fail? Discuss several examples that are we get an expected but also unexpected results (find at least 3 from each category). Provide reasons for the good/bad result in each case (e.g. is there some error in the data, is there some linguistic phenomenon that we don't capture, is something wrong with our modeling with average embeddings, ...)\n",
    "- (5p) Compare the results with the ones you got with the bag-of-words representation. Discuss the differences and similarities. Do you think TF-IDF is a better representation for this task? Why or why not? Provide examples to support your arguments.\n"
   ]
  },
  {
   "cell_type": "code",
   "execution_count": 41,
   "metadata": {
    "collapsed": false,
    "pycharm": {
     "name": "#%%\n"
    },
    "ExecuteTime": {
     "end_time": "2025-04-22T15:48:54.758960Z",
     "start_time": "2025-04-22T15:48:46.105059Z"
    }
   },
   "outputs": [],
   "source": [
    "### YOUR CODE HERE\n",
    "# copilot used when writing the code\n",
    "def calculate_tfidf(bows, idf):\n",
    "    \"\"\"\n",
    "    Calculates the TF-IDF for each word in the vocabulary\n",
    "    Args:\n",
    "        bows: numpy array of size (N x D) where N is the number of documents and D is the vocabulary size\n",
    "        idf: a numpy array of size D with IDF values for each token\n",
    "\n",
    "    returns: a numpy array of size (N x D) with TF-IDF values for each token in each document\n",
    "    \"\"\"\n",
    "    tf = bows.copy()\n",
    "    #This line was debugged by ChatGPT to avoid deletion by zero\n",
    "    #tf_weighted = np.where(tf > 0, 1 + np.log10(tf), 0)\n",
    "    tf_safe = np.where(tf > 0, tf, 1)  # Replace zeros with 1 just for safe log\n",
    "    tf_weighted = np.where(tf > 0, 1 + np.log10(tf_safe), 0)\n",
    "    weights = tf_weighted * idf\n",
    "    return weights\n",
    "\n",
    "results = calculate_tfidf(sentences_bows, idf)\n",
    "# print head of the results\n",
    "\n",
    "\n",
    "\n",
    "\n",
    "\n",
    "### YOUR CODE ENDS HERE\n",
    "\n",
    "### YOU CAN ADD MORE CELLS"
   ]
  },
  {
   "cell_type": "markdown",
   "metadata": {
    "collapsed": false,
    "pycharm": {
     "name": "#%% md\n"
    }
   },
   "source": [
    "// your comments"
   ]
  },
  {
   "cell_type": "markdown",
   "metadata": {
    "collapsed": false,
    "pycharm": {
     "name": "#%% md\n"
    }
   },
   "source": [
    "## 4. Word Embeddings\n",
    "\n",
    "In this section you will load the pre-trained word embeddings model - Glove. You can read more about it [here](https://aclanthology.org/D14-1162/) ([https://aclanthology.org/D14-1162/](https://aclanthology.org/D14-1162/)). The embeddings are trained on a large corpus of text and are available in different dimensions. We will start with the dimension of 100, but later you will be asked to experiment with other dimensions.\n",
    "Gensim library maintains a storage containing some pre-trained models. You can read more about it [here](https://github.com/piskvorky/gensim-data) ([https://github.com/piskvorky/gensim-data](https://github.com/piskvorky/gensim-data)). Be sure to read the README of this repository.\n",
    "\n",
    "Let's first load the info of what models are available."
   ]
  },
  {
   "cell_type": "code",
   "execution_count": 42,
   "metadata": {
    "collapsed": false,
    "pycharm": {
     "name": "#%%\n"
    },
    "ExecuteTime": {
     "end_time": "2025-04-22T15:48:54.846112Z",
     "start_time": "2025-04-22T15:48:54.757893Z"
    }
   },
   "outputs": [
    {
     "name": "stdout",
     "output_type": "stream",
     "text": [
      "{\n",
      "  \"fasttext-wiki-news-subwords-300\": {\n",
      "    \"num_records\": 999999,\n",
      "    \"file_size\": 1005007116,\n",
      "    \"base_dataset\": \"Wikipedia 2017, UMBC webbase corpus and statmt.org news dataset (16B tokens)\",\n",
      "    \"reader_code\": \"https://github.com/RaRe-Technologies/gensim-data/releases/download/fasttext-wiki-news-subwords-300/__init__.py\",\n",
      "    \"license\": \"https://creativecommons.org/licenses/by-sa/3.0/\",\n",
      "    \"parameters\": {\n",
      "      \"dimension\": 300\n",
      "    },\n",
      "    \"description\": \"1 million word vectors trained on Wikipedia 2017, UMBC webbase corpus and statmt.org news dataset (16B tokens).\",\n",
      "    \"read_more\": [\n",
      "      \"https://fasttext.cc/docs/en/english-vectors.html\",\n",
      "      \"https://arxiv.org/abs/1712.09405\",\n",
      "      \"https://arxiv.org/abs/1607.01759\"\n",
      "    ],\n",
      "    \"checksum\": \"de2bb3a20c46ce65c9c131e1ad9a77af\",\n",
      "    \"file_name\": \"fasttext-wiki-news-subwords-300.gz\",\n",
      "    \"parts\": 1\n",
      "  },\n",
      "  \"conceptnet-numberbatch-17-06-300\": {\n",
      "    \"num_records\": 1917247,\n",
      "    \"file_size\": 1225497562,\n",
      "    \"base_dataset\": \"ConceptNet, word2vec, GloVe, and OpenSubtitles 2016\",\n",
      "    \"reader_code\": \"https://github.com/RaRe-Technologies/gensim-data/releases/download/conceptnet-numberbatch-17-06-300/__init__.py\",\n",
      "    \"license\": \"https://github.com/commonsense/conceptnet-numberbatch/blob/master/LICENSE.txt\",\n",
      "    \"parameters\": {\n",
      "      \"dimension\": 300\n",
      "    },\n",
      "    \"description\": \"ConceptNet Numberbatch consists of state-of-the-art semantic vectors (also known as word embeddings) that can be used directly as a representation of word meanings or as a starting point for further machine learning. ConceptNet Numberbatch is part of the ConceptNet open data project. ConceptNet provides lots of ways to compute with word meanings, one of which is word embeddings. ConceptNet Numberbatch is a snapshot of just the word embeddings. It is built using an ensemble that combines data from ConceptNet, word2vec, GloVe, and OpenSubtitles 2016, using a variation on retrofitting.\",\n",
      "    \"read_more\": [\n",
      "      \"http://aaai.org/ocs/index.php/AAAI/AAAI17/paper/view/14972\",\n",
      "      \"https://github.com/commonsense/conceptnet-numberbatch\",\n",
      "      \"http://conceptnet.io/\"\n",
      "    ],\n",
      "    \"checksum\": \"fd642d457adcd0ea94da0cd21b150847\",\n",
      "    \"file_name\": \"conceptnet-numberbatch-17-06-300.gz\",\n",
      "    \"parts\": 1\n",
      "  },\n",
      "  \"word2vec-ruscorpora-300\": {\n",
      "    \"num_records\": 184973,\n",
      "    \"file_size\": 208427381,\n",
      "    \"base_dataset\": \"Russian National Corpus (about 250M words)\",\n",
      "    \"reader_code\": \"https://github.com/RaRe-Technologies/gensim-data/releases/download/word2vec-ruscorpora-300/__init__.py\",\n",
      "    \"license\": \"https://creativecommons.org/licenses/by/4.0/deed.en\",\n",
      "    \"parameters\": {\n",
      "      \"dimension\": 300,\n",
      "      \"window_size\": 10\n",
      "    },\n",
      "    \"description\": \"Word2vec Continuous Skipgram vectors trained on full Russian National Corpus (about 250M words). The model contains 185K words.\",\n",
      "    \"preprocessing\": \"The corpus was lemmatized and tagged with Universal PoS\",\n",
      "    \"read_more\": [\n",
      "      \"https://www.academia.edu/24306935/WebVectors_a_Toolkit_for_Building_Web_Interfaces_for_Vector_Semantic_Models\",\n",
      "      \"http://rusvectores.org/en/\",\n",
      "      \"https://github.com/RaRe-Technologies/gensim-data/issues/3\"\n",
      "    ],\n",
      "    \"checksum\": \"9bdebdc8ae6d17d20839dd9b5af10bc4\",\n",
      "    \"file_name\": \"word2vec-ruscorpora-300.gz\",\n",
      "    \"parts\": 1\n",
      "  },\n",
      "  \"word2vec-google-news-300\": {\n",
      "    \"num_records\": 3000000,\n",
      "    \"file_size\": 1743563840,\n",
      "    \"base_dataset\": \"Google News (about 100 billion words)\",\n",
      "    \"reader_code\": \"https://github.com/RaRe-Technologies/gensim-data/releases/download/word2vec-google-news-300/__init__.py\",\n",
      "    \"license\": \"not found\",\n",
      "    \"parameters\": {\n",
      "      \"dimension\": 300\n",
      "    },\n",
      "    \"description\": \"Pre-trained vectors trained on a part of the Google News dataset (about 100 billion words). The model contains 300-dimensional vectors for 3 million words and phrases. The phrases were obtained using a simple data-driven approach described in 'Distributed Representations of Words and Phrases and their Compositionality' (https://code.google.com/archive/p/word2vec/).\",\n",
      "    \"read_more\": [\n",
      "      \"https://code.google.com/archive/p/word2vec/\",\n",
      "      \"https://arxiv.org/abs/1301.3781\",\n",
      "      \"https://arxiv.org/abs/1310.4546\",\n",
      "      \"https://www.microsoft.com/en-us/research/publication/linguistic-regularities-in-continuous-space-word-representations/?from=http%3A%2F%2Fresearch.microsoft.com%2Fpubs%2F189726%2Frvecs.pdf\"\n",
      "    ],\n",
      "    \"checksum\": \"a5e5354d40acb95f9ec66d5977d140ef\",\n",
      "    \"file_name\": \"word2vec-google-news-300.gz\",\n",
      "    \"parts\": 1\n",
      "  },\n",
      "  \"glove-wiki-gigaword-50\": {\n",
      "    \"num_records\": 400000,\n",
      "    \"file_size\": 69182535,\n",
      "    \"base_dataset\": \"Wikipedia 2014 + Gigaword 5 (6B tokens, uncased)\",\n",
      "    \"reader_code\": \"https://github.com/RaRe-Technologies/gensim-data/releases/download/glove-wiki-gigaword-50/__init__.py\",\n",
      "    \"license\": \"http://opendatacommons.org/licenses/pddl/\",\n",
      "    \"parameters\": {\n",
      "      \"dimension\": 50\n",
      "    },\n",
      "    \"description\": \"Pre-trained vectors based on Wikipedia 2014 + Gigaword, 5.6B tokens, 400K vocab, uncased (https://nlp.stanford.edu/projects/glove/).\",\n",
      "    \"preprocessing\": \"Converted to w2v format with `python -m gensim.scripts.glove2word2vec -i <fname> -o glove-wiki-gigaword-50.txt`.\",\n",
      "    \"read_more\": [\n",
      "      \"https://nlp.stanford.edu/projects/glove/\",\n",
      "      \"https://nlp.stanford.edu/pubs/glove.pdf\"\n",
      "    ],\n",
      "    \"checksum\": \"c289bc5d7f2f02c6dc9f2f9b67641813\",\n",
      "    \"file_name\": \"glove-wiki-gigaword-50.gz\",\n",
      "    \"parts\": 1\n",
      "  },\n",
      "  \"glove-wiki-gigaword-100\": {\n",
      "    \"num_records\": 400000,\n",
      "    \"file_size\": 134300434,\n",
      "    \"base_dataset\": \"Wikipedia 2014 + Gigaword 5 (6B tokens, uncased)\",\n",
      "    \"reader_code\": \"https://github.com/RaRe-Technologies/gensim-data/releases/download/glove-wiki-gigaword-100/__init__.py\",\n",
      "    \"license\": \"http://opendatacommons.org/licenses/pddl/\",\n",
      "    \"parameters\": {\n",
      "      \"dimension\": 100\n",
      "    },\n",
      "    \"description\": \"Pre-trained vectors based on Wikipedia 2014 + Gigaword 5.6B tokens, 400K vocab, uncased (https://nlp.stanford.edu/projects/glove/).\",\n",
      "    \"preprocessing\": \"Converted to w2v format with `python -m gensim.scripts.glove2word2vec -i <fname> -o glove-wiki-gigaword-100.txt`.\",\n",
      "    \"read_more\": [\n",
      "      \"https://nlp.stanford.edu/projects/glove/\",\n",
      "      \"https://nlp.stanford.edu/pubs/glove.pdf\"\n",
      "    ],\n",
      "    \"checksum\": \"40ec481866001177b8cd4cb0df92924f\",\n",
      "    \"file_name\": \"glove-wiki-gigaword-100.gz\",\n",
      "    \"parts\": 1\n",
      "  },\n",
      "  \"glove-wiki-gigaword-200\": {\n",
      "    \"num_records\": 400000,\n",
      "    \"file_size\": 264336934,\n",
      "    \"base_dataset\": \"Wikipedia 2014 + Gigaword 5 (6B tokens, uncased)\",\n",
      "    \"reader_code\": \"https://github.com/RaRe-Technologies/gensim-data/releases/download/glove-wiki-gigaword-200/__init__.py\",\n",
      "    \"license\": \"http://opendatacommons.org/licenses/pddl/\",\n",
      "    \"parameters\": {\n",
      "      \"dimension\": 200\n",
      "    },\n",
      "    \"description\": \"Pre-trained vectors based on Wikipedia 2014 + Gigaword, 5.6B tokens, 400K vocab, uncased (https://nlp.stanford.edu/projects/glove/).\",\n",
      "    \"preprocessing\": \"Converted to w2v format with `python -m gensim.scripts.glove2word2vec -i <fname> -o glove-wiki-gigaword-200.txt`.\",\n",
      "    \"read_more\": [\n",
      "      \"https://nlp.stanford.edu/projects/glove/\",\n",
      "      \"https://nlp.stanford.edu/pubs/glove.pdf\"\n",
      "    ],\n",
      "    \"checksum\": \"59652db361b7a87ee73834a6c391dfc1\",\n",
      "    \"file_name\": \"glove-wiki-gigaword-200.gz\",\n",
      "    \"parts\": 1\n",
      "  },\n",
      "  \"glove-wiki-gigaword-300\": {\n",
      "    \"num_records\": 400000,\n",
      "    \"file_size\": 394362229,\n",
      "    \"base_dataset\": \"Wikipedia 2014 + Gigaword 5 (6B tokens, uncased)\",\n",
      "    \"reader_code\": \"https://github.com/RaRe-Technologies/gensim-data/releases/download/glove-wiki-gigaword-300/__init__.py\",\n",
      "    \"license\": \"http://opendatacommons.org/licenses/pddl/\",\n",
      "    \"parameters\": {\n",
      "      \"dimension\": 300\n",
      "    },\n",
      "    \"description\": \"Pre-trained vectors based on Wikipedia 2014 + Gigaword, 5.6B tokens, 400K vocab, uncased (https://nlp.stanford.edu/projects/glove/).\",\n",
      "    \"preprocessing\": \"Converted to w2v format with `python -m gensim.scripts.glove2word2vec -i <fname> -o glove-wiki-gigaword-300.txt`.\",\n",
      "    \"read_more\": [\n",
      "      \"https://nlp.stanford.edu/projects/glove/\",\n",
      "      \"https://nlp.stanford.edu/pubs/glove.pdf\"\n",
      "    ],\n",
      "    \"checksum\": \"29e9329ac2241937d55b852e8284e89b\",\n",
      "    \"file_name\": \"glove-wiki-gigaword-300.gz\",\n",
      "    \"parts\": 1\n",
      "  },\n",
      "  \"glove-twitter-25\": {\n",
      "    \"num_records\": 1193514,\n",
      "    \"file_size\": 109885004,\n",
      "    \"base_dataset\": \"Twitter (2B tweets, 27B tokens, 1.2M vocab, uncased)\",\n",
      "    \"reader_code\": \"https://github.com/RaRe-Technologies/gensim-data/releases/download/glove-twitter-25/__init__.py\",\n",
      "    \"license\": \"http://opendatacommons.org/licenses/pddl/\",\n",
      "    \"parameters\": {\n",
      "      \"dimension\": 25\n",
      "    },\n",
      "    \"description\": \"Pre-trained vectors based on 2B tweets, 27B tokens, 1.2M vocab, uncased (https://nlp.stanford.edu/projects/glove/).\",\n",
      "    \"preprocessing\": \"Converted to w2v format with `python -m gensim.scripts.glove2word2vec -i <fname> -o glove-twitter-25.txt`.\",\n",
      "    \"read_more\": [\n",
      "      \"https://nlp.stanford.edu/projects/glove/\",\n",
      "      \"https://nlp.stanford.edu/pubs/glove.pdf\"\n",
      "    ],\n",
      "    \"checksum\": \"50db0211d7e7a2dcd362c6b774762793\",\n",
      "    \"file_name\": \"glove-twitter-25.gz\",\n",
      "    \"parts\": 1\n",
      "  },\n",
      "  \"glove-twitter-50\": {\n",
      "    \"num_records\": 1193514,\n",
      "    \"file_size\": 209216938,\n",
      "    \"base_dataset\": \"Twitter (2B tweets, 27B tokens, 1.2M vocab, uncased)\",\n",
      "    \"reader_code\": \"https://github.com/RaRe-Technologies/gensim-data/releases/download/glove-twitter-50/__init__.py\",\n",
      "    \"license\": \"http://opendatacommons.org/licenses/pddl/\",\n",
      "    \"parameters\": {\n",
      "      \"dimension\": 50\n",
      "    },\n",
      "    \"description\": \"Pre-trained vectors based on 2B tweets, 27B tokens, 1.2M vocab, uncased (https://nlp.stanford.edu/projects/glove/)\",\n",
      "    \"preprocessing\": \"Converted to w2v format with `python -m gensim.scripts.glove2word2vec -i <fname> -o glove-twitter-50.txt`.\",\n",
      "    \"read_more\": [\n",
      "      \"https://nlp.stanford.edu/projects/glove/\",\n",
      "      \"https://nlp.stanford.edu/pubs/glove.pdf\"\n",
      "    ],\n",
      "    \"checksum\": \"c168f18641f8c8a00fe30984c4799b2b\",\n",
      "    \"file_name\": \"glove-twitter-50.gz\",\n",
      "    \"parts\": 1\n",
      "  },\n",
      "  \"glove-twitter-100\": {\n",
      "    \"num_records\": 1193514,\n",
      "    \"file_size\": 405932991,\n",
      "    \"base_dataset\": \"Twitter (2B tweets, 27B tokens, 1.2M vocab, uncased)\",\n",
      "    \"reader_code\": \"https://github.com/RaRe-Technologies/gensim-data/releases/download/glove-twitter-100/__init__.py\",\n",
      "    \"license\": \"http://opendatacommons.org/licenses/pddl/\",\n",
      "    \"parameters\": {\n",
      "      \"dimension\": 100\n",
      "    },\n",
      "    \"description\": \"Pre-trained vectors based on  2B tweets, 27B tokens, 1.2M vocab, uncased (https://nlp.stanford.edu/projects/glove/)\",\n",
      "    \"preprocessing\": \"Converted to w2v format with `python -m gensim.scripts.glove2word2vec -i <fname> -o glove-twitter-100.txt`.\",\n",
      "    \"read_more\": [\n",
      "      \"https://nlp.stanford.edu/projects/glove/\",\n",
      "      \"https://nlp.stanford.edu/pubs/glove.pdf\"\n",
      "    ],\n",
      "    \"checksum\": \"b04f7bed38756d64cf55b58ce7e97b15\",\n",
      "    \"file_name\": \"glove-twitter-100.gz\",\n",
      "    \"parts\": 1\n",
      "  },\n",
      "  \"glove-twitter-200\": {\n",
      "    \"num_records\": 1193514,\n",
      "    \"file_size\": 795373100,\n",
      "    \"base_dataset\": \"Twitter (2B tweets, 27B tokens, 1.2M vocab, uncased)\",\n",
      "    \"reader_code\": \"https://github.com/RaRe-Technologies/gensim-data/releases/download/glove-twitter-200/__init__.py\",\n",
      "    \"license\": \"http://opendatacommons.org/licenses/pddl/\",\n",
      "    \"parameters\": {\n",
      "      \"dimension\": 200\n",
      "    },\n",
      "    \"description\": \"Pre-trained vectors based on 2B tweets, 27B tokens, 1.2M vocab, uncased (https://nlp.stanford.edu/projects/glove/).\",\n",
      "    \"preprocessing\": \"Converted to w2v format with `python -m gensim.scripts.glove2word2vec -i <fname> -o glove-twitter-200.txt`.\",\n",
      "    \"read_more\": [\n",
      "      \"https://nlp.stanford.edu/projects/glove/\",\n",
      "      \"https://nlp.stanford.edu/pubs/glove.pdf\"\n",
      "    ],\n",
      "    \"checksum\": \"e52e8392d1860b95d5308a525817d8f9\",\n",
      "    \"file_name\": \"glove-twitter-200.gz\",\n",
      "    \"parts\": 1\n",
      "  },\n",
      "  \"__testing_word2vec-matrix-synopsis\": {\n",
      "    \"description\": \"[THIS IS ONLY FOR TESTING] Word vecrors of the movie matrix.\",\n",
      "    \"parameters\": {\n",
      "      \"dimensions\": 50\n",
      "    },\n",
      "    \"preprocessing\": \"Converted to w2v using a preprocessed corpus. Converted to w2v format with `python3.5 -m gensim.models.word2vec -train <input_filename> -iter 50 -output <output_filename>`.\",\n",
      "    \"read_more\": [],\n",
      "    \"checksum\": \"534dcb8b56a360977a269b7bfc62d124\",\n",
      "    \"file_name\": \"__testing_word2vec-matrix-synopsis.gz\",\n",
      "    \"parts\": 1\n",
      "  }\n",
      "}\n"
     ]
    }
   ],
   "source": [
    "import json\n",
    "import gensim.downloader as api\n",
    "\n",
    "info = api.info()  # show info about available models/datasets\n",
    "print(json.dumps(info['models'], indent=2))"
   ]
  },
  {
   "cell_type": "code",
   "execution_count": 43,
   "metadata": {
    "collapsed": false,
    "pycharm": {
     "name": "#%%\n"
    },
    "ExecuteTime": {
     "end_time": "2025-04-22T15:49:05.975863Z",
     "start_time": "2025-04-22T15:48:54.844171Z"
    }
   },
   "outputs": [],
   "source": [
    "glove_model = api.load(\"glove-wiki-gigaword-100\")"
   ]
  },
  {
   "cell_type": "markdown",
   "metadata": {
    "collapsed": false,
    "pycharm": {
     "name": "#%% md\n"
    }
   },
   "source": [
    "We can use the loaded model's `key_to_index` attribute to retrieve the whole vocabulary (aka for how many words we learned embeddings for)."
   ]
  },
  {
   "cell_type": "code",
   "execution_count": 44,
   "metadata": {
    "collapsed": false,
    "pycharm": {
     "name": "#%%\n"
    },
    "ExecuteTime": {
     "end_time": "2025-04-22T15:49:06.005305Z",
     "start_time": "2025-04-22T15:49:05.992193Z"
    }
   },
   "outputs": [
    {
     "name": "stdout",
     "output_type": "stream",
     "text": [
      "400000\n"
     ]
    }
   ],
   "source": [
    "vocab = list(glove_model.key_to_index)\n",
    "print(len(vocab))"
   ]
  },
  {
   "cell_type": "markdown",
   "metadata": {
    "collapsed": false,
    "pycharm": {
     "name": "#%% md\n"
    }
   },
   "source": [
    "Let's explore a bit further the embeddings. In the following cells, the embedding of a single word is returned. Double-check the dimensions (as sanity check). This is like inspecting the `W` matrix (weights) that we discussed in the lecture."
   ]
  },
  {
   "cell_type": "code",
   "execution_count": 45,
   "metadata": {
    "collapsed": false,
    "pycharm": {
     "name": "#%%\n"
    },
    "ExecuteTime": {
     "end_time": "2025-04-22T15:49:06.048474Z",
     "start_time": "2025-04-22T15:49:05.997716Z"
    }
   },
   "outputs": [
    {
     "data": {
      "text/plain": "array([-1.5180e-01,  3.8409e-01,  8.9340e-01, -4.2421e-01, -9.2161e-01,\n        3.7988e-02, -3.2026e-01,  3.4119e-03,  2.2101e-01, -2.2045e-01,\n        1.6661e-01,  2.1956e-01,  2.5325e-01, -2.9267e-01,  1.0171e-01,\n       -7.5491e-02, -6.0406e-02,  2.8194e-01, -5.8519e-01,  4.8271e-01,\n        1.7504e-02, -1.2086e-01, -1.0990e-01, -6.9554e-01,  1.5600e-01,\n        7.0558e-02, -1.5058e-01, -8.1811e-01, -1.8535e-01, -3.6863e-01,\n        3.1650e-02,  7.6616e-01,  8.4041e-02,  2.6928e-03, -2.7440e-01,\n        2.1815e-01, -3.5157e-02,  3.2569e-01,  1.0032e-01, -6.0932e-01,\n       -7.0316e-01,  1.8299e-01,  3.3134e-01, -1.2416e-01, -9.0542e-01,\n       -3.9157e-02,  4.4719e-01, -5.7338e-01, -4.0172e-01, -8.2234e-01,\n        5.5740e-01,  1.5101e-01,  2.4598e-01,  1.0113e+00, -4.6626e-01,\n       -2.7133e+00,  4.3273e-01, -1.6314e-01,  1.5828e+00,  5.5081e-01,\n       -2.4738e-01,  1.4184e+00, -1.6867e-02, -1.9368e-01,  1.0090e+00,\n       -5.9864e-02,  9.1853e-01,  4.3022e-01, -2.0624e-01,  7.6127e-02,\n        2.1595e-01, -2.6834e-01, -3.3342e-01, -3.7151e-01,  4.5197e-01,\n       -8.2460e-02,  3.2984e-01, -5.7376e-01, -1.3042e+00,  2.7121e-01,\n        6.6277e-01, -7.9626e-02, -7.9167e-01, -5.3662e-03, -1.7916e+00,\n       -3.3298e-01, -3.0698e-01, -3.3980e-01, -5.5618e-01, -6.9471e-01,\n        2.7427e-01, -2.1898e-01, -2.6714e-01,  2.2561e-03, -5.0178e-01,\n       -3.2775e-01, -4.5670e-01, -2.7123e-01,  2.2157e-01,  9.2112e-01],\n      dtype=float32)"
     },
     "execution_count": 45,
     "metadata": {},
     "output_type": "execute_result"
    }
   ],
   "source": [
    "# vector of a particular model. note that it is 100 dimensional as specified.\n",
    "glove_model['what']"
   ]
  },
  {
   "cell_type": "markdown",
   "metadata": {
    "collapsed": false,
    "pycharm": {
     "name": "#%% md\n"
    }
   },
   "source": [
    "Gensim objects offers different methods to easily run very common tasks. For example, there are different functions to find the most similar words.\n",
    "\n",
    "Check the documentation on how [`most_similar`](https://tedboy.github.io/nlps/generated/generated/gensim.models.Word2Vec.most_similar.html) and [`similar_by_word`](https://tedboy.github.io/nlps/generated/generated/gensim.models.Word2Vec.similar_by_word.html) can be used."
   ]
  },
  {
   "cell_type": "code",
   "execution_count": 46,
   "metadata": {
    "collapsed": false,
    "pycharm": {
     "name": "#%%\n"
    },
    "ExecuteTime": {
     "end_time": "2025-04-22T15:49:06.222334Z",
     "start_time": "2025-04-22T15:49:06.000881Z"
    }
   },
   "outputs": [
    {
     "name": "stdout",
     "output_type": "stream",
     "text": [
      "[('how', 0.930321455001831), ('why', 0.9196362495422363), ('fact', 0.9069437980651855), ('know', 0.8876389861106873), ('that', 0.8810365796089172), ('think', 0.8772969841957092), ('so', 0.8753098249435425), ('even', 0.8751895427703857), ('something', 0.874744176864624), ('if', 0.8702542781829834)]\n",
      "[('play', 0.6266525387763977), ('missed', 0.608065128326416), ('she', 0.596325695514679), ('chance', 0.5839369297027588), ('tournament', 0.5722586512565613)]\n"
     ]
    }
   ],
   "source": [
    "# most similar words to a given word\n",
    "print(glove_model.most_similar('what', topn=10))\n",
    "\n",
    "# also u can use\n",
    "print(glove_model.similar_by_word('miss', topn=5))"
   ]
  },
  {
   "cell_type": "code",
   "execution_count": 47,
   "metadata": {
    "collapsed": false,
    "pycharm": {
     "name": "#%%\n"
    },
    "ExecuteTime": {
     "end_time": "2025-04-22T15:49:06.283945Z",
     "start_time": "2025-04-22T15:49:06.126748Z"
    }
   },
   "outputs": [
    {
     "name": "stdout",
     "output_type": "stream",
     "text": [
      "[('know', 0.9440940618515015), ('what', 0.9196362495422363), ('think', 0.9086559414863586), ('how', 0.9020735621452332), ('tell', 0.8923122882843018), (\"n't\", 0.8890628814697266), ('sure', 0.8870969414710999), ('thought', 0.8747684955596924), ('believe', 0.8745115995407104), ('say', 0.8730074763298035)]\n"
     ]
    }
   ],
   "source": [
    "print(glove_model.most_similar('why', topn=10))"
   ]
  },
  {
   "cell_type": "code",
   "execution_count": 48,
   "metadata": {
    "collapsed": false,
    "pycharm": {
     "name": "#%%\n"
    },
    "ExecuteTime": {
     "end_time": "2025-04-22T15:49:06.286475Z",
     "start_time": "2025-04-22T15:49:06.151385Z"
    }
   },
   "outputs": [
    {
     "name": "stdout",
     "output_type": "stream",
     "text": [
      "[('whom', 0.8642492890357971), ('he', 0.8201969861984253), ('whose', 0.8143677711486816), ('had', 0.8035845160484314), ('others', 0.7708419561386108)]\n"
     ]
    }
   ],
   "source": [
    "print(glove_model.similar_by_word('who', topn=5))"
   ]
  },
  {
   "cell_type": "markdown",
   "metadata": {
    "collapsed": false,
    "pycharm": {
     "name": "#%% md\n"
    }
   },
   "source": [
    "We can now compare our implementation with the one in the pre-trained model and confirm what we already expected."
   ]
  },
  {
   "cell_type": "code",
   "execution_count": 49,
   "metadata": {
    "collapsed": false,
    "pycharm": {
     "name": "#%%\n"
    },
    "ExecuteTime": {
     "end_time": "2025-04-22T15:49:06.296515Z",
     "start_time": "2025-04-22T15:49:06.175157Z"
    }
   },
   "outputs": [
    {
     "name": "stdout",
     "output_type": "stream",
     "text": [
      "0.15712574\n",
      "0.15712576\n"
     ]
    }
   ],
   "source": [
    "# simalarity between two words\n",
    "word1 = 'alive'\n",
    "word2 = 'biology'\n",
    "print(glove_model.similarity(word1, word2))\n",
    "print(cosine_similarity(glove_model[word1], glove_model[word2]))"
   ]
  },
  {
   "cell_type": "code",
   "execution_count": 50,
   "metadata": {
    "collapsed": false,
    "pycharm": {
     "name": "#%%\n"
    },
    "ExecuteTime": {
     "end_time": "2025-04-22T15:49:06.299731Z",
     "start_time": "2025-04-22T15:49:06.179578Z"
    }
   },
   "outputs": [
    {
     "name": "stdout",
     "output_type": "stream",
     "text": [
      "0.6400604\n",
      "0.6400604\n"
     ]
    }
   ],
   "source": [
    "# simalarity between two words. similar words\n",
    "word1 = 'alive'\n",
    "word2 = 'life'\n",
    "print(glove_model.similarity(word1, word2))\n",
    "print(cosine_similarity(glove_model[word1], glove_model[word2]))"
   ]
  },
  {
   "cell_type": "code",
   "execution_count": 51,
   "metadata": {
    "collapsed": false,
    "pycharm": {
     "name": "#%%\n"
    },
    "ExecuteTime": {
     "end_time": "2025-04-22T15:49:06.306337Z",
     "start_time": "2025-04-22T15:49:06.188076Z"
    }
   },
   "outputs": [
    {
     "name": "stdout",
     "output_type": "stream",
     "text": [
      "0.71035177\n",
      "0.71035177\n"
     ]
    }
   ],
   "source": [
    "# simalarity between two words. dissimilar words\n",
    "word1 = 'alive'\n",
    "word2 = 'dead'\n",
    "print(glove_model.similarity(word1, word2))\n",
    "print(cosine_similarity(glove_model[word1], glove_model[word2]))"
   ]
  },
  {
   "cell_type": "code",
   "execution_count": 52,
   "metadata": {
    "collapsed": false,
    "pycharm": {
     "name": "#%%\n"
    },
    "ExecuteTime": {
     "end_time": "2025-04-22T15:49:06.315076Z",
     "start_time": "2025-04-22T15:49:06.191805Z"
    }
   },
   "outputs": [
    {
     "name": "stdout",
     "output_type": "stream",
     "text": [
      "0.34625494\n",
      "0.34625494\n"
     ]
    }
   ],
   "source": [
    "# simalarity between two words. unrelated words\n",
    "word1 = 'alive'\n",
    "word2 = 'horse'\n",
    "print(glove_model.similarity(word1, word2))\n",
    "print(cosine_similarity(glove_model[word1], glove_model[word2]))"
   ]
  },
  {
   "cell_type": "code",
   "execution_count": 53,
   "metadata": {
    "collapsed": false,
    "pycharm": {
     "name": "#%%\n"
    },
    "ExecuteTime": {
     "end_time": "2025-04-22T15:49:06.318895Z",
     "start_time": "2025-04-22T15:49:06.199540Z"
    }
   },
   "outputs": [
    {
     "name": "stdout",
     "output_type": "stream",
     "text": [
      "1.0\n",
      "1.0000001\n"
     ]
    }
   ],
   "source": [
    "# simalarity between two SAME words\n",
    "glove_model.similarity('equal', 'equal')\n",
    "word1 = 'equal'\n",
    "word2 = 'equal'\n",
    "print(glove_model.similarity(word1, word2))\n",
    "print(cosine_similarity(glove_model[word1], glove_model[word2]))"
   ]
  },
  {
   "cell_type": "markdown",
   "metadata": {
    "collapsed": false,
    "pycharm": {
     "name": "#%% md\n"
    }
   },
   "source": [
    "The next function contains the code to plot a similarity matrix between multiple words (e.g. if we want to compare 10 words and their pair-wise similarities). It requires a matrix with similarities (as input) and labels (aka the words) to display in the final figure."
   ]
  },
  {
   "cell_type": "code",
   "execution_count": 54,
   "metadata": {
    "collapsed": false,
    "pycharm": {
     "name": "#%%\n"
    },
    "ExecuteTime": {
     "end_time": "2025-04-22T15:49:06.339527Z",
     "start_time": "2025-04-22T15:49:06.204447Z"
    }
   },
   "outputs": [],
   "source": [
    "def plot_similarity_matrix(matrix, labels):\n",
    "    \"\"\"\n",
    "    Displays a plot of the `matrix` of size (N x N) with the labels specified as a list of size N\n",
    "    Args:\n",
    "        matrix: a square-sized (N x N) numpy array\n",
    "        labels: a list of strings of hte size N\n",
    "    \"\"\"\n",
    "\n",
    "    fig, ax = plt.subplots()\n",
    "    im = ax.imshow(matrix)\n",
    "\n",
    "    # Show all ticks and label them with the respective list entries\n",
    "    ax.set_xticks(np.arange(len(labels)), labels=labels)\n",
    "    ax.set_yticks(np.arange(len(labels)), labels=labels)\n",
    "\n",
    "    # Rotate the tick labels and set their alignment.\n",
    "    plt.setp(ax.get_xticklabels(), rotation=45, ha=\"right\",\n",
    "             rotation_mode=\"anchor\")\n",
    "\n",
    "    # Loop over data dimensions and create text annotations.\n",
    "    for i in range(len(labels)):\n",
    "        for j in range(len(labels)):\n",
    "            text = ax.text(j, i, f'{matrix[i, j]:.2f}',\n",
    "                           ha=\"center\", va=\"center\", color=\"w\")\n",
    "\n",
    "    # ax.set_title(\"Give a title if you want\")\n",
    "    fig.tight_layout()\n",
    "    plt.show()"
   ]
  },
  {
   "cell_type": "markdown",
   "metadata": {
    "collapsed": false,
    "pycharm": {
     "name": "#%% md\n"
    }
   },
   "source": [
    "<a name='e10'></a>\n",
    "### Exercise 10: Plotting similarities between words\n",
    "\n",
    "(10p) In the following, we will explore some properties of word embeddings through some examples. We will use 6 example words for this purpose but experiment with other set of words as well. Fill in the next cell to create a similarity matrix between a list of words.\n",
    "\n",
    "Experiment with different words and their similarities plotted. Try at least 3 different sets of words of at least 6 words each. Use the `plot_similarity_matrix` function to visualize the results.\n",
    "Comment on the results. Do they make sense? Why some words are closer to each other than others? What does it mean?"
   ]
  },
  {
   "cell_type": "code",
   "execution_count": 55,
   "metadata": {
    "collapsed": false,
    "pycharm": {
     "name": "#%%\n"
    },
    "ExecuteTime": {
     "end_time": "2025-04-22T15:49:06.624288Z",
     "start_time": "2025-04-22T15:49:06.209236Z"
    }
   },
   "outputs": [
    {
     "data": {
      "text/plain": "<Figure size 640x480 with 1 Axes>",
      "image/png": "[encoded data removed]"
     },
     "metadata": {},
     "output_type": "display_data"
    }
   ],
   "source": [
    "list_of_words = ['love', 'hate', 'life', 'equal', 'alive', 'dead']\n",
    "\n",
    "similarity_matrix = np.zeros((len(list_of_words), len(list_of_words)), dtype=float)\n",
    "\n",
    "### YOUR CODE HERE\n",
    "\n",
    "for i, w1 in enumerate(list_of_words):\n",
    "    for j, w2 in enumerate(list_of_words):\n",
    "        similarity_matrix[i, j] = glove_model.similarity(w1, w2)\n",
    "\n",
    "### YOUR CODE ENDS HERE\n",
    "\n",
    "\n",
    "plot_similarity_matrix(similarity_matrix, list_of_words)"
   ]
  },
  {
   "cell_type": "code",
   "execution_count": 56,
   "metadata": {
    "collapsed": false,
    "pycharm": {
     "name": "#%%\n"
    },
    "ExecuteTime": {
     "end_time": "2025-04-22T15:49:06.744811Z",
     "start_time": "2025-04-22T15:49:06.449798Z"
    }
   },
   "outputs": [
    {
     "data": {
      "text/plain": "<Figure size 640x480 with 1 Axes>",
      "image/png": "[encoded data removed]"
     },
     "metadata": {},
     "output_type": "display_data"
    }
   ],
   "source": [
    "#### YOUR CODE HERE\n",
    "\n",
    "list_of_words = ['cat', 'dog', 'lion', 'tiger', 'wolf', 'horse']\n",
    "\n",
    "similarity_matrix = np.zeros((len(list_of_words), len(list_of_words)), dtype=float)\n",
    "\n",
    "for i, w1 in enumerate(list_of_words):\n",
    "    for j, w2 in enumerate(list_of_words):\n",
    "        similarity_matrix[i, j] = glove_model.similarity(w1, w2)\n",
    "\n",
    "plot_similarity_matrix(similarity_matrix, list_of_words)\n",
    "\n",
    "### YOUR CODE ENDS HERE"
   ]
  },
  {
   "cell_type": "markdown",
   "source": [
    "Animals\n",
    "In the animal similarity picture, the words \"cat\" and \"dog\" are the most similar, which makes sense because they often appear together as pets. \"Lion\" and \"tiger\" also show strong similarity because they are both big wild cats. \"Wolf\" is somewhere in between, linking to both dogs and wild animals since it's a relative of the dog but also a predator. \"Horse\" is a bit different from the rest, but still shares some connection with \"cat\" and \"dog\", likely because all three are mentioned in contexts like farms or animal care. The least similar pairs are \"horse\" with \"wolf\" and \"tiger\", showing that those animals don’t often appear in the same kind of discussions."
   ],
   "metadata": {
    "collapsed": false
   }
  },
  {
   "cell_type": "markdown",
   "source": [],
   "metadata": {
    "collapsed": false
   }
  },
  {
   "cell_type": "code",
   "outputs": [
    {
     "data": {
      "text/plain": "<Figure size 640x480 with 1 Axes>",
      "image/png": "[encoded data removed]"
     },
     "metadata": {},
     "output_type": "display_data"
    }
   ],
   "source": [
    "# shortened by for loop \n",
    "words_space = ['planet', 'star', 'galaxy', 'comet', 'asteroid', 'nebula']\n",
    "sim_animals = np.array([[glove_model.similarity(a, b) for b in words_space]\n",
    "                        for a in words_space])\n",
    "plot_similarity_matrix(sim_animals, words_space)"
   ],
   "metadata": {
    "collapsed": false,
    "ExecuteTime": {
     "end_time": "2025-04-22T15:49:06.747439Z",
     "start_time": "2025-04-22T15:49:06.500461Z"
    }
   },
   "execution_count": 57
  },
  {
   "cell_type": "markdown",
   "source": [
    "Space\n",
    "In the space-related chart, \"comet\" and \"asteroid\" are very close to each other, which fits since they’re both small objects in space that orbit the sun and show up in the same kinds of science news. \"Galaxy\", \"star\", and \"nebula\" also appear somewhat close because they’re deep space objects seen in astronomy. \"Planet\" is pretty neutral and connects fairly well with all the others since it's a common term in space-related topics. \"Star\" has the weakest connection with \"asteroid\" and \"comet\", showing that those words don’t usually go together even if they’re all part of space talk."
   ],
   "metadata": {
    "collapsed": false
   }
  },
  {
   "cell_type": "code",
   "outputs": [
    {
     "data": {
      "text/plain": "<Figure size 640x480 with 1 Axes>",
      "image/png": "[encoded data removed]"
     },
     "metadata": {},
     "output_type": "display_data"
    }
   ],
   "source": [
    "words_urban = ['city', 'town', 'village', 'country', 'metropolis', 'suburb']\n",
    "sim_urban = np.array([[glove_model.similarity(a, b) for b in words_urban]\n",
    "                      for a in words_urban])\n",
    "plot_similarity_matrix(sim_urban, words_urban)"
   ],
   "metadata": {
    "collapsed": false,
    "ExecuteTime": {
     "end_time": "2025-04-22T15:49:06.795927Z",
     "start_time": "2025-04-22T15:49:06.560295Z"
    }
   },
   "execution_count": 58
  },
  {
   "cell_type": "markdown",
   "source": [
    "Places to Live\n",
    "In the plot with words about places to live, \"town\" and \"village\" are the most similar, and \"city\" is also very close to \"town\", which makes sense because they describe different sizes of populated areas. \"Suburb\" is more related to \"city\" and \"town\" than to \"country\", reflecting how suburbs are closer to urban areas and not the countryside. \"Metropolis\" sounds like it should match \"city\", but it’s not as close as expected, possibly because people use it in more dramatic or fictional contexts. \"Country\" is the least connected to the others, probably because the word has two meanings—rural area and nation—which can confuse the model."
   ],
   "metadata": {
    "collapsed": false
   }
  },
  {
   "cell_type": "code",
   "outputs": [
    {
     "data": {
      "text/plain": "<Figure size 640x480 with 1 Axes>",
      "image/png": "[encoded data removed]"
     },
     "metadata": {},
     "output_type": "display_data"
    }
   ],
   "source": [
    "words_cuisine = ['pizza', 'sushi', 'taco', 'curry', 'pasta', 'burger']\n",
    "sim_cuisines = np.array([[glove_model.similarity(a, b) for b in words_cuisine]\n",
    "                      for a in words_cuisine])\n",
    "plot_similarity_matrix(sim_cuisines, words_cuisine)"
   ],
   "metadata": {
    "collapsed": false,
    "ExecuteTime": {
     "end_time": "2025-04-22T15:49:06.953742Z",
     "start_time": "2025-04-22T15:49:06.632391Z"
    }
   },
   "execution_count": 59
  },
  {
   "cell_type": "markdown",
   "source": [
    "Food\n",
    "In the food chart, the strongest similarity is between \"pizza\" and \"burger\", which makes sense since they’re both popular fast foods. \"Pizza\" is also close to \"pasta\", showing the Italian food connection, and \"burger\" links well with \"taco\", likely because they’re both common in fast-food culture. \"Sushi\" stands out as the most different, especially compared to \"curry\", because it’s from a completely different cuisine and shows up in different types of conversations. \"Curry\" is also somewhat separate from the rest, as it’s usually mentioned in more traditional or spicy food contexts. Overall, the model groups the foods based on cuisine and how they are typically eaten—whether they’re fast food or part of specific cultural dishes."
   ],
   "metadata": {
    "collapsed": false
   }
  },
  {
   "cell_type": "markdown",
   "metadata": {
    "collapsed": false,
    "pycharm": {
     "name": "#%% md\n"
    }
   },
   "source": [
    " <a name='e11'></a>\n",
    "### Exercise 11: Other pre-trained word embeddings\n",
    "(10p) For this exercise, experiment with at least one different word embedding model. You can choose Glove with different dimensions or other pre-trained models. Use the gensim library to download and use the models.\n",
    "Plot similarity matrices between sets of words you used in the previous exercise and compare the results. Are there noticeable differences? Why (not)?"
   ]
  },
  {
   "cell_type": "code",
   "execution_count": 60,
   "metadata": {
    "collapsed": false,
    "pycharm": {
     "name": "#%%\n"
    },
    "ExecuteTime": {
     "end_time": "2025-04-22T15:50:22.723774Z",
     "start_time": "2025-04-22T15:49:06.711494Z"
    }
   },
   "outputs": [
    {
     "data": {
      "text/plain": "<Figure size 640x480 with 1 Axes>",
      "image/png": "[encoded data removed]"
     },
     "metadata": {},
     "output_type": "display_data"
    }
   ],
   "source": [
    "#### YOUR CODE HERE\n",
    "# Asked GPT to propose me anpther model\n",
    "\n",
    "# FastText embeddings\n",
    "fasttext = api.load(\"fasttext-wiki-news-subwords-300\")\n",
    "\n",
    "words_space = ['planet', 'star', 'galaxy', 'comet', 'asteroid', 'nebula']\n",
    "sim_animals = np.array([[fasttext.similarity(a, b) for b in words_space]\n",
    "                        for a in words_space])\n",
    "plot_similarity_matrix(sim_animals, words_space)\n",
    "### YOUR CODE ENDS HERE"
   ]
  },
  {
   "cell_type": "markdown",
   "source": [
    "In the GloVe chart, \"comet\" and \"asteroid\" were clearly the most similar, while \"galaxy\", \"star\", and \"nebula\" showed weaker connections across the board. The model struggled to meaningfully link rare terms like “nebula” and gave quite low values between unrelated space concepts.\n",
    "\n",
    "In contrast, the FastText chart showed more balanced similarity values. \"Galaxy\" and \"nebula\" were now more strongly connected (0.67), and \"planet\" had high similarity with \"galaxy\" (0.69) and \"asteroid\" (0.61). Probably this caused by bigger amount of training data and bigger size of the vocab which used by FastText model. \"glove-wiki-gigaword-100\" model contains only 400 000 records and 6B tokens while \"fasttext-wiki-news-subwords-300\" uses 999 999 records and 16B of tokens"
   ],
   "metadata": {
    "collapsed": false
   }
  },
  {
   "cell_type": "code",
   "outputs": [
    {
     "data": {
      "text/plain": "<Figure size 640x480 with 1 Axes>",
      "image/png": "[encoded data removed]"
     },
     "metadata": {},
     "output_type": "display_data"
    }
   ],
   "source": [
    "words_urban = ['city', 'town', 'village', 'country', 'metropolis', 'suburb']\n",
    "sim_animals = np.array([[fasttext.similarity(a, b) for b in words_urban]\n",
    "                        for a in words_urban])\n",
    "plot_similarity_matrix(sim_animals, words_urban)"
   ],
   "metadata": {
    "collapsed": false,
    "ExecuteTime": {
     "end_time": "2025-04-22T15:50:22.851792Z",
     "start_time": "2025-04-22T15:50:22.721501Z"
    }
   },
   "execution_count": 61
  },
  {
   "cell_type": "markdown",
   "source": [
    "In the GloVe chart, the strongest similarities were between \"village\", \"town\", and \"city\". \"Suburb\" was well connected to \"city\" but more distant from \"country\". \"Metropolis\" didn’t score highly with any other word, even though it should be similar to \"city\".\n",
    "\n",
    "FastText fixed this. It showed a clear connection between \"city\" and \"metropolis\" (0.74), and overall lifted the lower scores for \"country\" and \"suburb\", placing them more logically within the space. The connections between \"town\" and \"village\" remained strong, but the whole map became more semantically rich. Analogically with previous comparison, the difference may be caused by bigger corpus that is used by FastText model"
   ],
   "metadata": {
    "collapsed": false
   }
  },
  {
   "cell_type": "code",
   "outputs": [
    {
     "data": {
      "text/plain": "<Figure size 640x480 with 1 Axes>",
      "image/png": "[encoded data removed]"
     },
     "metadata": {},
     "output_type": "display_data"
    }
   ],
   "source": [
    "words_cuisine = ['pizza', 'sushi', 'taco', 'curry', 'pasta', 'burger']\n",
    "sim_cuisines = np.array([[fasttext.similarity(a, b) for b in words_urban]\n",
    "                        for a in words_urban])\n",
    "plot_similarity_matrix(sim_cuisines, words_cuisine)"
   ],
   "metadata": {
    "collapsed": false,
    "ExecuteTime": {
     "end_time": "2025-04-22T15:50:22.992762Z",
     "start_time": "2025-04-22T15:50:22.807342Z"
    }
   },
   "execution_count": 62
  },
  {
   "cell_type": "markdown",
   "source": [
    "In GloVe, \"pizza\", \"burger\", and \"pasta\" had good connections, but \"curry\" and \"sushi\" were very poorly connected to the rest, especially \"curry\" (as low as 0.25 with sushi).\n",
    "\n",
    "When we use the FastText, \"Pizza\", \"sushi\", and \"taco\" all have an extremely high similarity scores (over 0.80). Even \"curry\" became far more connected to the group (around 0.50 with most). This shows that FastText understands these words better because of the mentioned reasons"
   ],
   "metadata": {
    "collapsed": false
   }
  },
  {
   "cell_type": "markdown",
   "metadata": {
    "collapsed": false,
    "pycharm": {
     "name": "#%% md\n"
    }
   },
   "source": [
    "## 5. Sentence Embeddings by Averaging Word Embeddings\n",
    "\n",
    "Word embeddings are a powerful model for representing words and their meaning (in terms of distributional similarity). As we discussed in class, we can use them in a wide variety of tasks with more complex architectures. Word vectors offer a dense vector for each word. What if we wanted to represent a sentence (or a document) based on word vectors. How can we do that?\n",
    "\n",
    "In the course, we will see different architectures that take into account the sequence of words (by combining their vectors). A first naive but simple and sometimes (as we are going to see) quite effective approach would be to represent a sentence with an embedding vector that is the average of the word vectors that form the sentence.\n",
    "\n",
    "So formally, this is what we are aiming for:\n",
    "\n",
    "$\n",
    "\\text{Sentence_Embedding} = \\frac{1}{N} \\sum_{i=1}^{N} \\text{Word_Embedding}_i\n",
    "$\n",
    "\n",
    "where:\n",
    "* $N$ is the number of words in a sentence\n",
    "* $\\text{Word_Embedding}_i$ is the word vector for the $i$-th in the sentence.\n",
    "\n",
    "Things to note:\n",
    "* The embedding vector for the sentence will obviously have the same dimension as the word embedding.\n",
    "* This representation ignores the word order (like bag-of-words). During the course we will see how we can overcome this limitation by using sequence models."
   ]
  },
  {
   "cell_type": "markdown",
   "metadata": {
    "collapsed": false,
    "pycharm": {
     "name": "#%% md\n"
    }
   },
   "source": [
    "<a name='e12'></a>\n",
    "### Exercise 12: Sentence Embedding\n",
    "\n",
    "(10p) Complete the function below that takes as input the sentence in the form of tokens (so it's a list of words) and calculates the sentence embedding vector. First, we would need to retrieve the word embeddings for each word from our loaded model and then average the vectors.\n",
    "\n",
    "Note: There can be cases where all tokens from a sentence are out-of-vocabulary words (OOV). Think what to do in this case and make sure to discuss it in the report."
   ]
  },
  {
   "cell_type": "code",
   "execution_count": 99,
   "metadata": {
    "collapsed": false,
    "pycharm": {
     "name": "#%%\n"
    },
    "ExecuteTime": {
     "end_time": "2025-04-22T16:40:39.074370Z",
     "start_time": "2025-04-22T16:40:39.052057Z"
    }
   },
   "outputs": [],
   "source": [
    "# def embed_sentence_word_model(tokens, model):\n",
    "#     \"\"\"\n",
    "#     Calculates the sentence embedding by averaging the embeddings of the tokens\n",
    "#     Args:\n",
    "#         tokens: a list of words from the sentence\n",
    "#         model: a trained word embeddings model\n",
    "# \n",
    "#     Returns: a numpy array of the sentence embedding\n",
    "# \n",
    "#     \"\"\"\n",
    "#     #### YOUR CODE HERE\n",
    "#     #### CAUTION: be sure to cover the case where all tokens are out-of-vocabulary!!!\n",
    "#     # Here we want to collect the embeddings for tokens present in the model's vocabulary\n",
    "#     embeddings = []\n",
    "#     for token in tokens:\n",
    "#         # check if there is such token in the vocabulary\n",
    "#         if token in model:\n",
    "#             embeddings.append(model[token])\n",
    "# \n",
    "#     if embeddings:\n",
    "#         # If at least one token embedding was found, return their mean\n",
    "#         return np.mean(embeddings, axis=0)\n",
    "#     else:\n",
    "#         # If A\\all tokens are out-of-vocabulary, return a zero vector of the appropriate dimension\n",
    "#         D = model.vector_size if hasattr(model, 'vector_size') else model.vectors.shape[1]\n",
    "#         return np.zeros(D)\n",
    "#     ### YOUR CODE ENDS HERE"
   ]
  },
  {
   "cell_type": "code",
   "outputs": [],
   "source": [
    "# def embed_sentence_word_model(tokens, model):\n",
    "#     \"\"\"\n",
    "#     Calculates the sentence embedding by averaging the embeddings of the tokens\n",
    "#     Args:\n",
    "#         tokens: a list of words from the sentence\n",
    "#         model: a trained word embeddings model\n",
    "# \n",
    "#     Returns: a numpy array of the sentence embedding\n",
    "# \n",
    "#     \"\"\"  \n",
    "#     vecs = []\n",
    "#     for t in tokens:\n",
    "#         if t in model.key_to_index:\n",
    "#             vecs.append(model[t])\n",
    "# \n",
    "#     if not vecs:\n",
    "#         return np.zeros(model.vector_size, dtype=float)\n",
    "# \n",
    "#     return np.mean(np.stack(vecs, axis=0), axis=0)\n"
   ],
   "metadata": {
    "collapsed": false,
    "ExecuteTime": {
     "end_time": "2025-04-22T16:40:39.559399Z",
     "start_time": "2025-04-22T16:40:39.527076Z"
    }
   },
   "execution_count": 100
  },
  {
   "cell_type": "code",
   "outputs": [],
   "source": [
    "def embed_sentence_word_model(tokens, model):\n",
    "    \"\"\"\n",
    "    Calculates the sentence embedding by averaging the embeddings of the tokens\n",
    "    Args:\n",
    "        tokens: a list of words from the sentence\n",
    "        model: a trained word embeddings model\n",
    "\n",
    "    Returns: a numpy array of the sentence embedding\n",
    "\n",
    "    \"\"\" \n",
    "    if tokens is None or len(tokens) == 0:\n",
    "        return np.zeros(model.vector_size, dtype=np.float32)\n",
    "    embeddings = []\n",
    "    for token in tokens:\n",
    "        if token in model:\n",
    "            vector = model[token]\n",
    "            if isinstance(vector, np.ndarray):\n",
    "                embeddings.append(vector)\n",
    "                \n",
    "    if len(embeddings) == 0:\n",
    "        return np.zeros(model.vector_size, dtype=np.float32)\n",
    "    \n",
    "    return np.mean(embeddings,axis=0).astype(np.float32)\n",
    "    \n",
    "    "
   ],
   "metadata": {
    "collapsed": false,
    "ExecuteTime": {
     "end_time": "2025-04-22T17:06:24.869046Z",
     "start_time": "2025-04-22T17:06:24.792238Z"
    }
   },
   "execution_count": 127
  },
  {
   "cell_type": "markdown",
   "metadata": {
    "collapsed": false,
    "pycharm": {
     "name": "#%% md\n"
    }
   },
   "source": [
    "Now we can apply the function to the whole dataset. Here we do it both for the sentence and the compressed version. You should know it by now, but this operation might take some time. The next cells will apply your function to the whole dataset."
   ]
  },
  {
   "cell_type": "code",
   "outputs": [],
   "source": [
    "# original code\n",
    "def embed_sentence_word_model_dataset(example, model):\n",
    "    \"\"\"\n",
    "    Embeds the sentence and the compressed sentence in the example from the Dataset\n",
    "    Args:\n",
    "        example: an example from the Dataset\n",
    "        model: a trained word embeddings model\n",
    "\n",
    "    Returns: updated example with 'sentence_embedding' and 'compressed_embedding' columns\n",
    "\n",
    "    \"\"\"\n",
    "    sentence_tokens = example['sentence_tokens']\n",
    "    clean_compressed = example['clean_compressed']\n",
    "    compressed_tokens = tokenize(clean_compressed)\n",
    "\n",
    "    sentence_embedding = embed_sentence_word_model(sentence_tokens, model).astype(np.float32)\n",
    "    compressed_embedding = embed_sentence_word_model(compressed_tokens, model).astype(np.float32)\n",
    "\n",
    "    example['sentence_embedding'] = sentence_embedding\n",
    "    example['compressed_embedding'] = compressed_embedding\n",
    "    return example"
   ],
   "metadata": {
    "collapsed": false,
    "ExecuteTime": {
     "end_time": "2025-04-22T17:06:25.287020Z",
     "start_time": "2025-04-22T17:06:25.257127Z"
    }
   },
   "execution_count": 128
  },
  {
   "cell_type": "code",
   "execution_count": 129,
   "metadata": {
    "collapsed": false,
    "pycharm": {
     "name": "#%%\n"
    },
    "ExecuteTime": {
     "end_time": "2025-04-22T17:06:25.630586Z",
     "start_time": "2025-04-22T17:06:25.590934Z"
    }
   },
   "outputs": [],
   "source": [
    "# def embed_sentence_word_model_dataset(example, model):\n",
    "#     \"\"\"\n",
    "#     Embeds the sentence and the compressed sentence in the example from the Dataset\n",
    "#     Args:\n",
    "#         example: an example from the Dataset\n",
    "#         model: a trained word embeddings model\n",
    "# \n",
    "#     Returns: updated example with 'sentence_embedding' and 'compressed_embedding' columns\n",
    "# \n",
    "#     \"\"\"\n",
    "#     # example['sentence_tokens'] = example.get('sentence_tokens') or \"\"\n",
    "#     # example['clean_compressed']   = example.get('clean_compressed')   or \"\"\n",
    "#     sentence_tokens = example['sentence_tokens']\n",
    "#     clean_compressed = example['clean_compressed']\n",
    "#     compressed_tokens = tokenize(clean_compressed)\n",
    "#     # here we try to remove all null values as they cause errors during mapping\n",
    "#     example['compressed_tokens'] = example.get('compressed_tokens') or \"\"\n",
    "#     example['clean_sentence']   = example.get('clean_sentence')   or \"\"\n",
    "# \n",
    "#     # added .astype(np.float32) because next cell were giving the error because somewhere were Double values\n",
    "#     sentence_embedding = embed_sentence_word_model(sentence_tokens, model).astype(np.float32)\n",
    "#     compressed_embedding = embed_sentence_word_model(compressed_tokens, model).astype(np.float32)\n",
    "# \n",
    "#     example['sentence_embedding'] = sentence_embedding\n",
    "#     example['compressed_embedding'] = compressed_embedding\n",
    "#     # Added this to avoid nulls\n",
    "#     # example['clean_compressed'] = example.get('clean_compressed') or \"\"\n",
    "#     return example"
   ]
  },
  {
   "cell_type": "code",
   "outputs": [],
   "source": [
    "# def embed_sentence_word_model_dataset(example, model):\n",
    "#     \"\"\"\n",
    "#     Embeds the sentence and the compressed sentence in the example from the Dataset\n",
    "#     Args:\n",
    "#         example: an example from the Dataset\n",
    "#         model: a trained word embeddings model\n",
    "# \n",
    "#     Returns: updated example with 'sentence_embedding' and 'compressed_embedding' columns\n",
    "# \n",
    "#     \"\"\"\n",
    "#     sentence_tokens = example['sentence_tokens']\n",
    "#     clean_compressed = example['clean_compressed']\n",
    "#     compressed_tokens = tokenize(clean_compressed)\n",
    "# \n",
    "#     sentence_embedding = embed_sentence_word_model(sentence_tokens, model)\n",
    "#     compressed_embedding = embed_sentence_word_model(compressed_tokens, model)\n",
    "# \n",
    "#     example['sentence_embedding'] = sentence_embedding\n",
    "#     example['compressed_embedding'] = compressed_embedding\n",
    "#     return example"
   ],
   "metadata": {
    "collapsed": false,
    "ExecuteTime": {
     "end_time": "2025-04-22T17:06:25.923112Z",
     "start_time": "2025-04-22T17:06:25.892852Z"
    }
   },
   "execution_count": 130
  },
  {
   "cell_type": "code",
   "outputs": [
    {
     "data": {
      "text/plain": "{'set': Sequence(feature=Value(dtype='string', id=None), length=-1, id=None),\n 'clean_sentence': Value(dtype='string', id=None),\n 'clean_compressed': Value(dtype='string', id=None),\n 'sentence_tokens': Sequence(feature=Value(dtype='string', id=None), length=-1, id=None),\n 'compressed_tokens': Sequence(feature=Value(dtype='string', id=None), length=-1, id=None),\n 'sentence_bow': Sequence(feature=Value(dtype='int64', id=None), length=-1, id=None),\n 'compressed_bow': Sequence(feature=Value(dtype='int64', id=None), length=-1, id=None)}"
     },
     "execution_count": 131,
     "metadata": {},
     "output_type": "execute_result"
    }
   ],
   "source": [
    "# print(test_ds['clean_compressed'][15999])\n",
    "# print(test_ds['compressed_tokens'][15999])\n",
    "# print(np.nonzero(test_ds['sentence_bow'][15999]))\n",
    "# print(test_ds['compressed_bow'][15999])\n",
    "# test_ds[15999]\n",
    "test_ds.features"
   ],
   "metadata": {
    "collapsed": false,
    "ExecuteTime": {
     "end_time": "2025-04-22T17:06:26.244610Z",
     "start_time": "2025-04-22T17:06:26.205552Z"
    }
   },
   "execution_count": 131
  },
  {
   "cell_type": "code",
   "outputs": [
    {
     "data": {
      "text/plain": "{'set': Sequence(feature=Value(dtype='string', id=None), length=-1, id=None),\n 'clean_sentence': Value(dtype='string', id=None),\n 'clean_compressed': Value(dtype='string', id=None),\n 'sentence_tokens': Sequence(feature=Value(dtype='string', id=None), length=-1, id=None),\n 'compressed_tokens': Sequence(feature=Value(dtype='string', id=None), length=-1, id=None),\n 'sentence_bow': Sequence(feature=Value(dtype='int64', id=None), length=-1, id=None),\n 'compressed_bow': Sequence(feature=Value(dtype='int64', id=None), length=-1, id=None)}"
     },
     "execution_count": 132,
     "metadata": {},
     "output_type": "execute_result"
    }
   ],
   "source": [
    "test_ds.features"
   ],
   "metadata": {
    "collapsed": false,
    "ExecuteTime": {
     "end_time": "2025-04-22T17:06:26.932378Z",
     "start_time": "2025-04-22T17:06:26.920254Z"
    }
   },
   "execution_count": 132
  },
  {
   "cell_type": "code",
   "execution_count": 133,
   "metadata": {
    "collapsed": false,
    "pycharm": {
     "name": "#%%\n"
    },
    "ExecuteTime": {
     "end_time": "2025-04-22T17:06:43.846999Z",
     "start_time": "2025-04-22T17:06:27.378526Z"
    }
   },
   "outputs": [
    {
     "data": {
      "text/plain": "Map:   0%|          | 0/36000 [00:00<?, ? examples/s]",
      "application/vnd.jupyter.widget-view+json": {
       "version_major": 2,
       "version_minor": 0,
       "model_id": "fb6d3474efb4451dabceab2cf7afd800"
      }
     },
     "metadata": {},
     "output_type": "display_data"
    },
    {
     "ename": "ArrowInvalid",
     "evalue": "arrays to be concatenated must be identically typed, but string and null were encountered.",
     "output_type": "error",
     "traceback": [
      "\u001B[0;31m---------------------------------------------------------------------------\u001B[0m",
      "\u001B[0;31mArrowInvalid\u001B[0m                              Traceback (most recent call last)",
      "File \u001B[0;32m~/anaconda3/lib/python3.11/site-packages/datasets/arrow_dataset.py:3508\u001B[0m, in \u001B[0;36mDataset._map_single\u001B[0;34m(shard, function, with_indices, with_rank, input_columns, batched, batch_size, drop_last_batch, remove_columns, keep_in_memory, cache_file_name, writer_batch_size, features, disable_nullable, fn_kwargs, new_fingerprint, rank, offset)\u001B[0m\n\u001B[1;32m   3507\u001B[0m     \u001B[38;5;28;01melse\u001B[39;00m:\n\u001B[0;32m-> 3508\u001B[0m         writer\u001B[38;5;241m.\u001B[39mwrite(example)\n\u001B[1;32m   3509\u001B[0m num_examples_progress_update \u001B[38;5;241m+\u001B[39m\u001B[38;5;241m=\u001B[39m \u001B[38;5;241m1\u001B[39m\n",
      "File \u001B[0;32m~/anaconda3/lib/python3.11/site-packages/datasets/arrow_writer.py:538\u001B[0m, in \u001B[0;36mArrowWriter.write\u001B[0;34m(self, example, key, writer_batch_size)\u001B[0m\n\u001B[1;32m    536\u001B[0m     \u001B[38;5;28mself\u001B[39m\u001B[38;5;241m.\u001B[39mhkey_record \u001B[38;5;241m=\u001B[39m []\n\u001B[0;32m--> 538\u001B[0m \u001B[38;5;28mself\u001B[39m\u001B[38;5;241m.\u001B[39mwrite_examples_on_file()\n",
      "File \u001B[0;32m~/anaconda3/lib/python3.11/site-packages/datasets/arrow_writer.py:496\u001B[0m, in \u001B[0;36mArrowWriter.write_examples_on_file\u001B[0;34m(self)\u001B[0m\n\u001B[1;32m    492\u001B[0m         batch_examples[col] \u001B[38;5;241m=\u001B[39m [\n\u001B[1;32m    493\u001B[0m             row[\u001B[38;5;241m0\u001B[39m][col]\u001B[38;5;241m.\u001B[39mto_pylist()[\u001B[38;5;241m0\u001B[39m] \u001B[38;5;28;01mif\u001B[39;00m \u001B[38;5;28misinstance\u001B[39m(row[\u001B[38;5;241m0\u001B[39m][col], (pa\u001B[38;5;241m.\u001B[39mArray, pa\u001B[38;5;241m.\u001B[39mChunkedArray)) \u001B[38;5;28;01melse\u001B[39;00m row[\u001B[38;5;241m0\u001B[39m][col]\n\u001B[1;32m    494\u001B[0m             \u001B[38;5;28;01mfor\u001B[39;00m row \u001B[38;5;129;01min\u001B[39;00m \u001B[38;5;28mself\u001B[39m\u001B[38;5;241m.\u001B[39mcurrent_examples\n\u001B[1;32m    495\u001B[0m         ]\n\u001B[0;32m--> 496\u001B[0m \u001B[38;5;28mself\u001B[39m\u001B[38;5;241m.\u001B[39mwrite_batch(batch_examples\u001B[38;5;241m=\u001B[39mbatch_examples)\n\u001B[1;32m    497\u001B[0m \u001B[38;5;28mself\u001B[39m\u001B[38;5;241m.\u001B[39mcurrent_examples \u001B[38;5;241m=\u001B[39m []\n",
      "File \u001B[0;32m~/anaconda3/lib/python3.11/site-packages/datasets/arrow_writer.py:606\u001B[0m, in \u001B[0;36mArrowWriter.write_batch\u001B[0;34m(self, batch_examples, writer_batch_size)\u001B[0m\n\u001B[1;32m    605\u001B[0m typed_sequence \u001B[38;5;241m=\u001B[39m OptimizedTypedSequence(col_values, \u001B[38;5;28mtype\u001B[39m\u001B[38;5;241m=\u001B[39mcol_type, try_type\u001B[38;5;241m=\u001B[39mcol_try_type, col\u001B[38;5;241m=\u001B[39mcol)\n\u001B[0;32m--> 606\u001B[0m arrays\u001B[38;5;241m.\u001B[39mappend(pa\u001B[38;5;241m.\u001B[39marray(typed_sequence))\n\u001B[1;32m    607\u001B[0m inferred_features[col] \u001B[38;5;241m=\u001B[39m typed_sequence\u001B[38;5;241m.\u001B[39mget_inferred_type()\n",
      "File \u001B[0;32m~/anaconda3/lib/python3.11/site-packages/pyarrow/array.pxi:252\u001B[0m, in \u001B[0;36mpyarrow.lib.array\u001B[0;34m()\u001B[0m\n",
      "File \u001B[0;32m~/anaconda3/lib/python3.11/site-packages/pyarrow/array.pxi:114\u001B[0m, in \u001B[0;36mpyarrow.lib._handle_arrow_array_protocol\u001B[0;34m()\u001B[0m\n",
      "File \u001B[0;32m~/anaconda3/lib/python3.11/site-packages/datasets/arrow_writer.py:226\u001B[0m, in \u001B[0;36mTypedSequence.__arrow_array__\u001B[0;34m(self, type)\u001B[0m\n\u001B[1;32m    225\u001B[0m \u001B[38;5;28;01melif\u001B[39;00m \u001B[38;5;28misinstance\u001B[39m(data, \u001B[38;5;28mlist\u001B[39m) \u001B[38;5;129;01mand\u001B[39;00m data \u001B[38;5;129;01mand\u001B[39;00m \u001B[38;5;28misinstance\u001B[39m(first_non_null_value(data)[\u001B[38;5;241m1\u001B[39m], np\u001B[38;5;241m.\u001B[39mndarray):\n\u001B[0;32m--> 226\u001B[0m     out \u001B[38;5;241m=\u001B[39m list_of_np_array_to_pyarrow_listarray(data)\n\u001B[1;32m    227\u001B[0m \u001B[38;5;28;01melse\u001B[39;00m:\n",
      "File \u001B[0;32m~/anaconda3/lib/python3.11/site-packages/datasets/features/features.py:1541\u001B[0m, in \u001B[0;36mlist_of_np_array_to_pyarrow_listarray\u001B[0;34m(l_arr, type)\u001B[0m\n\u001B[1;32m   1540\u001B[0m \u001B[38;5;28;01mif\u001B[39;00m \u001B[38;5;28mlen\u001B[39m(l_arr) \u001B[38;5;241m>\u001B[39m \u001B[38;5;241m0\u001B[39m:\n\u001B[0;32m-> 1541\u001B[0m     \u001B[38;5;28;01mreturn\u001B[39;00m list_of_pa_arrays_to_pyarrow_listarray(\n\u001B[1;32m   1542\u001B[0m         [numpy_to_pyarrow_listarray(arr, \u001B[38;5;28mtype\u001B[39m\u001B[38;5;241m=\u001B[39m\u001B[38;5;28mtype\u001B[39m) \u001B[38;5;28;01mif\u001B[39;00m arr \u001B[38;5;129;01mis\u001B[39;00m \u001B[38;5;129;01mnot\u001B[39;00m \u001B[38;5;28;01mNone\u001B[39;00m \u001B[38;5;28;01melse\u001B[39;00m \u001B[38;5;28;01mNone\u001B[39;00m \u001B[38;5;28;01mfor\u001B[39;00m arr \u001B[38;5;129;01min\u001B[39;00m l_arr]\n\u001B[1;32m   1543\u001B[0m     )\n\u001B[1;32m   1544\u001B[0m \u001B[38;5;28;01melse\u001B[39;00m:\n",
      "File \u001B[0;32m~/anaconda3/lib/python3.11/site-packages/datasets/features/features.py:1534\u001B[0m, in \u001B[0;36mlist_of_pa_arrays_to_pyarrow_listarray\u001B[0;34m(l_arr)\u001B[0m\n\u001B[1;32m   1533\u001B[0m offsets \u001B[38;5;241m=\u001B[39m pa\u001B[38;5;241m.\u001B[39marray(offsets, \u001B[38;5;28mtype\u001B[39m\u001B[38;5;241m=\u001B[39mpa\u001B[38;5;241m.\u001B[39mint32())\n\u001B[0;32m-> 1534\u001B[0m values \u001B[38;5;241m=\u001B[39m pa\u001B[38;5;241m.\u001B[39mconcat_arrays(l_arr)\n\u001B[1;32m   1535\u001B[0m \u001B[38;5;28;01mreturn\u001B[39;00m pa\u001B[38;5;241m.\u001B[39mListArray\u001B[38;5;241m.\u001B[39mfrom_arrays(offsets, values)\n",
      "File \u001B[0;32m~/anaconda3/lib/python3.11/site-packages/pyarrow/array.pxi:4822\u001B[0m, in \u001B[0;36mpyarrow.lib.concat_arrays\u001B[0;34m()\u001B[0m\n",
      "File \u001B[0;32m~/anaconda3/lib/python3.11/site-packages/pyarrow/error.pxi:155\u001B[0m, in \u001B[0;36mpyarrow.lib.pyarrow_internal_check_status\u001B[0;34m()\u001B[0m\n",
      "File \u001B[0;32m~/anaconda3/lib/python3.11/site-packages/pyarrow/error.pxi:92\u001B[0m, in \u001B[0;36mpyarrow.lib.check_status\u001B[0;34m()\u001B[0m\n",
      "\u001B[0;31mArrowInvalid\u001B[0m: arrays to be concatenated must be identically typed, but string and null were encountered.",
      "\nDuring handling of the above exception, another exception occurred:\n",
      "\u001B[0;31mArrowInvalid\u001B[0m                              Traceback (most recent call last)",
      "Cell \u001B[0;32mIn[133], line 1\u001B[0m\n\u001B[0;32m----> 1\u001B[0m test_ds \u001B[38;5;241m=\u001B[39m test_ds\u001B[38;5;241m.\u001B[39mmap(embed_sentence_word_model_dataset, fn_kwargs\u001B[38;5;241m=\u001B[39m{\u001B[38;5;124m'\u001B[39m\u001B[38;5;124mmodel\u001B[39m\u001B[38;5;124m'\u001B[39m: glove_model})\n\u001B[1;32m      2\u001B[0m \u001B[38;5;28mprint\u001B[39m(test_ds)\n",
      "File \u001B[0;32m~/anaconda3/lib/python3.11/site-packages/datasets/arrow_dataset.py:557\u001B[0m, in \u001B[0;36mtransmit_format.<locals>.wrapper\u001B[0;34m(*args, **kwargs)\u001B[0m\n\u001B[1;32m    550\u001B[0m self_format \u001B[38;5;241m=\u001B[39m {\n\u001B[1;32m    551\u001B[0m     \u001B[38;5;124m\"\u001B[39m\u001B[38;5;124mtype\u001B[39m\u001B[38;5;124m\"\u001B[39m: \u001B[38;5;28mself\u001B[39m\u001B[38;5;241m.\u001B[39m_format_type,\n\u001B[1;32m    552\u001B[0m     \u001B[38;5;124m\"\u001B[39m\u001B[38;5;124mformat_kwargs\u001B[39m\u001B[38;5;124m\"\u001B[39m: \u001B[38;5;28mself\u001B[39m\u001B[38;5;241m.\u001B[39m_format_kwargs,\n\u001B[1;32m    553\u001B[0m     \u001B[38;5;124m\"\u001B[39m\u001B[38;5;124mcolumns\u001B[39m\u001B[38;5;124m\"\u001B[39m: \u001B[38;5;28mself\u001B[39m\u001B[38;5;241m.\u001B[39m_format_columns,\n\u001B[1;32m    554\u001B[0m     \u001B[38;5;124m\"\u001B[39m\u001B[38;5;124moutput_all_columns\u001B[39m\u001B[38;5;124m\"\u001B[39m: \u001B[38;5;28mself\u001B[39m\u001B[38;5;241m.\u001B[39m_output_all_columns,\n\u001B[1;32m    555\u001B[0m }\n\u001B[1;32m    556\u001B[0m \u001B[38;5;66;03m# apply actual function\u001B[39;00m\n\u001B[0;32m--> 557\u001B[0m out: Union[\u001B[38;5;124m\"\u001B[39m\u001B[38;5;124mDataset\u001B[39m\u001B[38;5;124m\"\u001B[39m, \u001B[38;5;124m\"\u001B[39m\u001B[38;5;124mDatasetDict\u001B[39m\u001B[38;5;124m\"\u001B[39m] \u001B[38;5;241m=\u001B[39m func(\u001B[38;5;28mself\u001B[39m, \u001B[38;5;241m*\u001B[39margs, \u001B[38;5;241m*\u001B[39m\u001B[38;5;241m*\u001B[39mkwargs)\n\u001B[1;32m    558\u001B[0m datasets: \u001B[38;5;28mlist\u001B[39m[\u001B[38;5;124m\"\u001B[39m\u001B[38;5;124mDataset\u001B[39m\u001B[38;5;124m\"\u001B[39m] \u001B[38;5;241m=\u001B[39m \u001B[38;5;28mlist\u001B[39m(out\u001B[38;5;241m.\u001B[39mvalues()) \u001B[38;5;28;01mif\u001B[39;00m \u001B[38;5;28misinstance\u001B[39m(out, \u001B[38;5;28mdict\u001B[39m) \u001B[38;5;28;01melse\u001B[39;00m [out]\n\u001B[1;32m    559\u001B[0m \u001B[38;5;66;03m# re-apply format to the output\u001B[39;00m\n",
      "File \u001B[0;32m~/anaconda3/lib/python3.11/site-packages/datasets/arrow_dataset.py:3074\u001B[0m, in \u001B[0;36mDataset.map\u001B[0;34m(self, function, with_indices, with_rank, input_columns, batched, batch_size, drop_last_batch, remove_columns, keep_in_memory, load_from_cache_file, cache_file_name, writer_batch_size, features, disable_nullable, fn_kwargs, num_proc, suffix_template, new_fingerprint, desc)\u001B[0m\n\u001B[1;32m   3068\u001B[0m \u001B[38;5;28;01mif\u001B[39;00m transformed_dataset \u001B[38;5;129;01mis\u001B[39;00m \u001B[38;5;28;01mNone\u001B[39;00m:\n\u001B[1;32m   3069\u001B[0m     \u001B[38;5;28;01mwith\u001B[39;00m hf_tqdm(\n\u001B[1;32m   3070\u001B[0m         unit\u001B[38;5;241m=\u001B[39m\u001B[38;5;124m\"\u001B[39m\u001B[38;5;124m examples\u001B[39m\u001B[38;5;124m\"\u001B[39m,\n\u001B[1;32m   3071\u001B[0m         total\u001B[38;5;241m=\u001B[39mpbar_total,\n\u001B[1;32m   3072\u001B[0m         desc\u001B[38;5;241m=\u001B[39mdesc \u001B[38;5;129;01mor\u001B[39;00m \u001B[38;5;124m\"\u001B[39m\u001B[38;5;124mMap\u001B[39m\u001B[38;5;124m\"\u001B[39m,\n\u001B[1;32m   3073\u001B[0m     ) \u001B[38;5;28;01mas\u001B[39;00m pbar:\n\u001B[0;32m-> 3074\u001B[0m         \u001B[38;5;28;01mfor\u001B[39;00m rank, done, content \u001B[38;5;129;01min\u001B[39;00m Dataset\u001B[38;5;241m.\u001B[39m_map_single(\u001B[38;5;241m*\u001B[39m\u001B[38;5;241m*\u001B[39mdataset_kwargs):\n\u001B[1;32m   3075\u001B[0m             \u001B[38;5;28;01mif\u001B[39;00m done:\n\u001B[1;32m   3076\u001B[0m                 shards_done \u001B[38;5;241m+\u001B[39m\u001B[38;5;241m=\u001B[39m \u001B[38;5;241m1\u001B[39m\n",
      "File \u001B[0;32m~/anaconda3/lib/python3.11/site-packages/datasets/arrow_dataset.py:3543\u001B[0m, in \u001B[0;36mDataset._map_single\u001B[0;34m(shard, function, with_indices, with_rank, input_columns, batched, batch_size, drop_last_batch, remove_columns, keep_in_memory, cache_file_name, writer_batch_size, features, disable_nullable, fn_kwargs, new_fingerprint, rank, offset)\u001B[0m\n\u001B[1;32m   3541\u001B[0m \u001B[38;5;28;01mif\u001B[39;00m update_data:\n\u001B[1;32m   3542\u001B[0m     \u001B[38;5;28;01mif\u001B[39;00m writer \u001B[38;5;129;01mis\u001B[39;00m \u001B[38;5;129;01mnot\u001B[39;00m \u001B[38;5;28;01mNone\u001B[39;00m:\n\u001B[0;32m-> 3543\u001B[0m         writer\u001B[38;5;241m.\u001B[39mfinalize()\n\u001B[1;32m   3544\u001B[0m     \u001B[38;5;28;01mif\u001B[39;00m tmp_file \u001B[38;5;129;01mis\u001B[39;00m \u001B[38;5;129;01mnot\u001B[39;00m \u001B[38;5;28;01mNone\u001B[39;00m:\n\u001B[1;32m   3545\u001B[0m         tmp_file\u001B[38;5;241m.\u001B[39mclose()\n",
      "File \u001B[0;32m~/anaconda3/lib/python3.11/site-packages/datasets/arrow_writer.py:637\u001B[0m, in \u001B[0;36mArrowWriter.finalize\u001B[0;34m(self, close_stream)\u001B[0m\n\u001B[1;32m    635\u001B[0m     \u001B[38;5;66;03m# Re-intializing to empty list for next batch\u001B[39;00m\n\u001B[1;32m    636\u001B[0m     \u001B[38;5;28mself\u001B[39m\u001B[38;5;241m.\u001B[39mhkey_record \u001B[38;5;241m=\u001B[39m []\n\u001B[0;32m--> 637\u001B[0m \u001B[38;5;28mself\u001B[39m\u001B[38;5;241m.\u001B[39mwrite_examples_on_file()\n\u001B[1;32m    638\u001B[0m \u001B[38;5;66;03m# If schema is known, infer features even if no examples were written\u001B[39;00m\n\u001B[1;32m    639\u001B[0m \u001B[38;5;28;01mif\u001B[39;00m \u001B[38;5;28mself\u001B[39m\u001B[38;5;241m.\u001B[39mpa_writer \u001B[38;5;129;01mis\u001B[39;00m \u001B[38;5;28;01mNone\u001B[39;00m \u001B[38;5;129;01mand\u001B[39;00m \u001B[38;5;28mself\u001B[39m\u001B[38;5;241m.\u001B[39mschema:\n",
      "File \u001B[0;32m~/anaconda3/lib/python3.11/site-packages/datasets/arrow_writer.py:496\u001B[0m, in \u001B[0;36mArrowWriter.write_examples_on_file\u001B[0;34m(self)\u001B[0m\n\u001B[1;32m    491\u001B[0m     \u001B[38;5;28;01melse\u001B[39;00m:\n\u001B[1;32m    492\u001B[0m         batch_examples[col] \u001B[38;5;241m=\u001B[39m [\n\u001B[1;32m    493\u001B[0m             row[\u001B[38;5;241m0\u001B[39m][col]\u001B[38;5;241m.\u001B[39mto_pylist()[\u001B[38;5;241m0\u001B[39m] \u001B[38;5;28;01mif\u001B[39;00m \u001B[38;5;28misinstance\u001B[39m(row[\u001B[38;5;241m0\u001B[39m][col], (pa\u001B[38;5;241m.\u001B[39mArray, pa\u001B[38;5;241m.\u001B[39mChunkedArray)) \u001B[38;5;28;01melse\u001B[39;00m row[\u001B[38;5;241m0\u001B[39m][col]\n\u001B[1;32m    494\u001B[0m             \u001B[38;5;28;01mfor\u001B[39;00m row \u001B[38;5;129;01min\u001B[39;00m \u001B[38;5;28mself\u001B[39m\u001B[38;5;241m.\u001B[39mcurrent_examples\n\u001B[1;32m    495\u001B[0m         ]\n\u001B[0;32m--> 496\u001B[0m \u001B[38;5;28mself\u001B[39m\u001B[38;5;241m.\u001B[39mwrite_batch(batch_examples\u001B[38;5;241m=\u001B[39mbatch_examples)\n\u001B[1;32m    497\u001B[0m \u001B[38;5;28mself\u001B[39m\u001B[38;5;241m.\u001B[39mcurrent_examples \u001B[38;5;241m=\u001B[39m []\n",
      "File \u001B[0;32m~/anaconda3/lib/python3.11/site-packages/datasets/arrow_writer.py:606\u001B[0m, in \u001B[0;36mArrowWriter.write_batch\u001B[0;34m(self, batch_examples, writer_batch_size)\u001B[0m\n\u001B[1;32m    604\u001B[0m         col_try_type \u001B[38;5;241m=\u001B[39m try_features[col] \u001B[38;5;28;01mif\u001B[39;00m try_features \u001B[38;5;129;01mis\u001B[39;00m \u001B[38;5;129;01mnot\u001B[39;00m \u001B[38;5;28;01mNone\u001B[39;00m \u001B[38;5;129;01mand\u001B[39;00m col \u001B[38;5;129;01min\u001B[39;00m try_features \u001B[38;5;28;01melse\u001B[39;00m \u001B[38;5;28;01mNone\u001B[39;00m\n\u001B[1;32m    605\u001B[0m         typed_sequence \u001B[38;5;241m=\u001B[39m OptimizedTypedSequence(col_values, \u001B[38;5;28mtype\u001B[39m\u001B[38;5;241m=\u001B[39mcol_type, try_type\u001B[38;5;241m=\u001B[39mcol_try_type, col\u001B[38;5;241m=\u001B[39mcol)\n\u001B[0;32m--> 606\u001B[0m         arrays\u001B[38;5;241m.\u001B[39mappend(pa\u001B[38;5;241m.\u001B[39marray(typed_sequence))\n\u001B[1;32m    607\u001B[0m         inferred_features[col] \u001B[38;5;241m=\u001B[39m typed_sequence\u001B[38;5;241m.\u001B[39mget_inferred_type()\n\u001B[1;32m    608\u001B[0m schema \u001B[38;5;241m=\u001B[39m inferred_features\u001B[38;5;241m.\u001B[39marrow_schema \u001B[38;5;28;01mif\u001B[39;00m \u001B[38;5;28mself\u001B[39m\u001B[38;5;241m.\u001B[39mpa_writer \u001B[38;5;129;01mis\u001B[39;00m \u001B[38;5;28;01mNone\u001B[39;00m \u001B[38;5;28;01melse\u001B[39;00m \u001B[38;5;28mself\u001B[39m\u001B[38;5;241m.\u001B[39mschema\n",
      "File \u001B[0;32m~/anaconda3/lib/python3.11/site-packages/pyarrow/array.pxi:252\u001B[0m, in \u001B[0;36mpyarrow.lib.array\u001B[0;34m()\u001B[0m\n",
      "File \u001B[0;32m~/anaconda3/lib/python3.11/site-packages/pyarrow/array.pxi:114\u001B[0m, in \u001B[0;36mpyarrow.lib._handle_arrow_array_protocol\u001B[0;34m()\u001B[0m\n",
      "File \u001B[0;32m~/anaconda3/lib/python3.11/site-packages/datasets/arrow_writer.py:226\u001B[0m, in \u001B[0;36mTypedSequence.__arrow_array__\u001B[0;34m(self, type)\u001B[0m\n\u001B[1;32m    224\u001B[0m     out \u001B[38;5;241m=\u001B[39m numpy_to_pyarrow_listarray(data)\n\u001B[1;32m    225\u001B[0m \u001B[38;5;28;01melif\u001B[39;00m \u001B[38;5;28misinstance\u001B[39m(data, \u001B[38;5;28mlist\u001B[39m) \u001B[38;5;129;01mand\u001B[39;00m data \u001B[38;5;129;01mand\u001B[39;00m \u001B[38;5;28misinstance\u001B[39m(first_non_null_value(data)[\u001B[38;5;241m1\u001B[39m], np\u001B[38;5;241m.\u001B[39mndarray):\n\u001B[0;32m--> 226\u001B[0m     out \u001B[38;5;241m=\u001B[39m list_of_np_array_to_pyarrow_listarray(data)\n\u001B[1;32m    227\u001B[0m \u001B[38;5;28;01melse\u001B[39;00m:\n\u001B[1;32m    228\u001B[0m     trying_cast_to_python_objects \u001B[38;5;241m=\u001B[39m \u001B[38;5;28;01mTrue\u001B[39;00m\n",
      "File \u001B[0;32m~/anaconda3/lib/python3.11/site-packages/datasets/features/features.py:1541\u001B[0m, in \u001B[0;36mlist_of_np_array_to_pyarrow_listarray\u001B[0;34m(l_arr, type)\u001B[0m\n\u001B[1;32m   1539\u001B[0m \u001B[38;5;250m\u001B[39m\u001B[38;5;124;03m\"\"\"Build a PyArrow ListArray from a possibly nested list of NumPy arrays\"\"\"\u001B[39;00m\n\u001B[1;32m   1540\u001B[0m \u001B[38;5;28;01mif\u001B[39;00m \u001B[38;5;28mlen\u001B[39m(l_arr) \u001B[38;5;241m>\u001B[39m \u001B[38;5;241m0\u001B[39m:\n\u001B[0;32m-> 1541\u001B[0m     \u001B[38;5;28;01mreturn\u001B[39;00m list_of_pa_arrays_to_pyarrow_listarray(\n\u001B[1;32m   1542\u001B[0m         [numpy_to_pyarrow_listarray(arr, \u001B[38;5;28mtype\u001B[39m\u001B[38;5;241m=\u001B[39m\u001B[38;5;28mtype\u001B[39m) \u001B[38;5;28;01mif\u001B[39;00m arr \u001B[38;5;129;01mis\u001B[39;00m \u001B[38;5;129;01mnot\u001B[39;00m \u001B[38;5;28;01mNone\u001B[39;00m \u001B[38;5;28;01melse\u001B[39;00m \u001B[38;5;28;01mNone\u001B[39;00m \u001B[38;5;28;01mfor\u001B[39;00m arr \u001B[38;5;129;01min\u001B[39;00m l_arr]\n\u001B[1;32m   1543\u001B[0m     )\n\u001B[1;32m   1544\u001B[0m \u001B[38;5;28;01melse\u001B[39;00m:\n\u001B[1;32m   1545\u001B[0m     \u001B[38;5;28;01mreturn\u001B[39;00m pa\u001B[38;5;241m.\u001B[39marray([], \u001B[38;5;28mtype\u001B[39m\u001B[38;5;241m=\u001B[39m\u001B[38;5;28mtype\u001B[39m)\n",
      "File \u001B[0;32m~/anaconda3/lib/python3.11/site-packages/datasets/features/features.py:1534\u001B[0m, in \u001B[0;36mlist_of_pa_arrays_to_pyarrow_listarray\u001B[0;34m(l_arr)\u001B[0m\n\u001B[1;32m   1532\u001B[0m offsets \u001B[38;5;241m=\u001B[39m np\u001B[38;5;241m.\u001B[39minsert(offsets, null_indices, \u001B[38;5;28;01mNone\u001B[39;00m)\n\u001B[1;32m   1533\u001B[0m offsets \u001B[38;5;241m=\u001B[39m pa\u001B[38;5;241m.\u001B[39marray(offsets, \u001B[38;5;28mtype\u001B[39m\u001B[38;5;241m=\u001B[39mpa\u001B[38;5;241m.\u001B[39mint32())\n\u001B[0;32m-> 1534\u001B[0m values \u001B[38;5;241m=\u001B[39m pa\u001B[38;5;241m.\u001B[39mconcat_arrays(l_arr)\n\u001B[1;32m   1535\u001B[0m \u001B[38;5;28;01mreturn\u001B[39;00m pa\u001B[38;5;241m.\u001B[39mListArray\u001B[38;5;241m.\u001B[39mfrom_arrays(offsets, values)\n",
      "File \u001B[0;32m~/anaconda3/lib/python3.11/site-packages/pyarrow/array.pxi:4822\u001B[0m, in \u001B[0;36mpyarrow.lib.concat_arrays\u001B[0;34m()\u001B[0m\n",
      "File \u001B[0;32m~/anaconda3/lib/python3.11/site-packages/pyarrow/error.pxi:155\u001B[0m, in \u001B[0;36mpyarrow.lib.pyarrow_internal_check_status\u001B[0;34m()\u001B[0m\n",
      "File \u001B[0;32m~/anaconda3/lib/python3.11/site-packages/pyarrow/error.pxi:92\u001B[0m, in \u001B[0;36mpyarrow.lib.check_status\u001B[0;34m()\u001B[0m\n",
      "\u001B[0;31mArrowInvalid\u001B[0m: arrays to be concatenated must be identically typed, but string and null were encountered."
     ]
    }
   ],
   "source": [
    "test_ds = test_ds.map(embed_sentence_word_model_dataset, fn_kwargs={'model': glove_model})\n",
    "print(test_ds)"
   ]
  },
  {
   "cell_type": "code",
   "outputs": [
    {
     "name": "stderr",
     "output_type": "stream",
     "text": [
      "100%|██████████| 36000/36000 [00:32<00:00, 1121.47it/s]\n"
     ]
    }
   ],
   "source": [
    "# because the map function was giving errors (for example:\n",
    "# \"ArrowInvalid: arrays to be concatenated must be identically typed, but string and null were encountered.\")\n",
    "# we decided to find out another way to go through each element and count embeddings, so we decided to do it iteratively. We used tqdm which is mentioned in the calculate_recall function further.\n",
    "# ChatGPT: \"what is tqdm and how to reformat dataset into it?\"\n",
    "\n",
    "from tqdm import tqdm\n",
    "sentence_embeddings = []\n",
    "compressed_embeddings = []\n",
    "test_ds = test_ds.with_format('np', columns=['sentence_tokens', 'compressed_tokens', 'sentence_bow', 'compressed_bow', 'clean_sentence', 'clean_compressed'], dtype=float)\n",
    "\n",
    "for example in tqdm(test_ds):\n",
    "    # Here is a code from embed_sentence_word_model_dataset(example, model) function. We replaced it into the \n",
    "    sentence_tokens = example['sentence_tokens']\n",
    "    clean_compressed = example['clean_compressed']\n",
    "    compressed_tokens = tokenize(clean_compressed)\n",
    "    \n",
    "    sentence_emb_temp = embed_sentence_word_model(sentence_tokens, glove_model)\n",
    "    compressed_emb_temp = embed_sentence_word_model(compressed_tokens, glove_model)\n",
    "    \n",
    "    sentence_embeddings.append(sentence_emb_temp)\n",
    "    compressed_embeddings.append(compressed_emb_temp)\n",
    "    \n",
    "    \n",
    "test_ds = test_ds.add_column(\"sentence_embedding\", sentence_embeddings)\n",
    "test_ds = test_ds.add_column(\"compressed_embedding\", compressed_embeddings)\n"
   ],
   "metadata": {
    "collapsed": false,
    "ExecuteTime": {
     "end_time": "2025-04-22T17:22:48.332779Z",
     "start_time": "2025-04-22T17:22:12.901171Z"
    }
   },
   "execution_count": 137
  },
  {
   "cell_type": "code",
   "execution_count": 138,
   "metadata": {
    "collapsed": false,
    "pycharm": {
     "name": "#%%\n"
    },
    "ExecuteTime": {
     "end_time": "2025-04-22T17:22:48.401232Z",
     "start_time": "2025-04-22T17:22:48.336454Z"
    }
   },
   "outputs": [
    {
     "name": "stdout",
     "output_type": "stream",
     "text": [
      "{'clean_sentence': 'legislature thursday night approved 276 billion budget bill released 24 hours earlier conference committee', 'clean_compressed': 'legislature approves 276 billion budget', 'sentence_tokens': array(['legislature', 'thursday', 'night', 'approved', '276', 'billion',\n",
      "       'budget', 'bill', 'released', '24', 'hours', 'earlier',\n",
      "       'conference', 'committee'], dtype=object), 'compressed_tokens': array(['legislature', 'approves', '276', 'billion', 'budget'],\n",
      "      dtype=object), 'sentence_bow': array([0., 0., 0., ..., 0., 0., 0.]), 'compressed_bow': array([0., 0., 0., ..., 0., 0., 0.]), 'sentence_embedding': array([ 0.04711042, -0.02267788,  0.45211935, -0.2437845 ,  0.23959596,\n",
      "        0.06518614,  0.03959543,  0.62074035, -0.33076698, -0.14044531,\n",
      "        0.25771391, -0.02712986, -0.07150073, -0.20894654,  0.01658821,\n",
      "       -0.23384836,  0.03350363, -0.10891528, -0.57999557, -0.20207885,\n",
      "        0.27668998, -0.17452244,  0.02149574,  0.25651792, -0.16251186,\n",
      "       -0.31300402,  0.07958349, -0.073071  , -0.14685081, -0.04483907,\n",
      "        0.10562162,  0.28027695, -0.13756278, -0.07787013, -0.28634983,\n",
      "        0.32474998, -0.02181293, -0.05619277, -0.19431369,  0.2808983 ,\n",
      "       -0.34325212, -0.51575708,  0.3448697 ,  0.17762271, -0.0562712 ,\n",
      "       -0.33992359, -0.34114575, -0.60487854, -0.18491529, -0.62287712,\n",
      "        0.06305872, -0.45027205,  0.41937679,  0.75688869, -0.38378304,\n",
      "       -2.06671762, -0.06539836, -0.25030372,  1.47798347,  0.66701502,\n",
      "       -0.28760114,  0.21585436, -0.15156057, -0.1350763 ,  0.11749257,\n",
      "        0.04767085, -0.12142809,  0.59786522,  0.18441994, -0.18045747,\n",
      "        0.16496643, -0.27020124, -0.33670402, -0.04655593, -0.15888114,\n",
      "        0.28502125, -0.44906959,  0.1547941 , -1.11408007, -0.08517999,\n",
      "        0.27591991, -0.27254558, -0.01071922, -0.15683793, -0.99825066,\n",
      "       -0.08195413,  0.42456913, -0.06669364, -0.07361429, -0.01139058,\n",
      "        0.38041398, -0.09682535, -0.42193037,  0.30000225, -0.63246185,\n",
      "        0.41074207,  0.1270618 ,  0.10869264,  0.6655907 , -0.461914  ]), 'compressed_embedding': array([ 0.12402799,  0.42961001,  0.94134808,  0.02035941,  0.14576159,\n",
      "        0.02947199, -0.55585796,  0.48550397, -0.07265999, -0.002706  ,\n",
      "        0.31994   ,  0.2346544 , -0.33498198, -0.1625542 , -0.24753042,\n",
      "       -0.22556961,  0.01163856, -0.0223644 , -0.06870361, -0.023798  ,\n",
      "        0.177958  , -0.22335799, -0.036698  ,  0.22144699, -0.43317956,\n",
      "       -0.42641601,  0.14134601, -0.19759598, -0.41608801, -0.53747559,\n",
      "        0.15074521,  0.74632001, -0.186912  , -0.435848  , -0.33810341,\n",
      "        0.295982  , -0.011681  , -0.56231004, -0.31987342,  0.55301589,\n",
      "        0.03162399, -0.62538606,  0.34175321,  0.282516  , -0.104424  ,\n",
      "       -0.18955199, -0.44091457, -0.56613195, -0.57323617, -0.42136002,\n",
      "       -0.14883   , -0.44067821,  0.52517861,  0.45937902, -0.65594995,\n",
      "       -1.40003514,  0.41827202, -0.43772087,  1.13055193,  0.19348159,\n",
      "        0.08497999, -0.37614641, -0.01722399,  0.18442   , -0.09913401,\n",
      "        0.1226532 , -0.41154799,  0.43872017,  0.2099082 , -0.3848058 ,\n",
      "        0.63939399, -0.15609738, -0.55953759,  0.2373708 , -0.1609598 ,\n",
      "       -0.01138796, -0.88397807,  0.491366  , -1.03797603, -0.055504  ,\n",
      "        0.18117601, -0.21434   ,  0.03849899, -0.07294799, -0.60302198,\n",
      "        0.044765  ,  0.59704798, -0.3835488 ,  0.03078859, -0.129448  ,\n",
      "        0.4438692 ,  0.17401001, -0.64316201, -0.19814141, -0.61924469,\n",
      "        0.41777372,  0.56554806,  0.0214682 ,  0.70189393, -0.85553008])}\n",
      "{'clean_sentence': 'suratbased KARP recently launched three diamond jewelry collections FengHuang grandeur TRIA drawing inspiration different direction', 'clean_compressed': 'KARP launches diamond jewelry collections', 'sentence_tokens': array(['suratbased', 'KARP', 'recently', 'launched', 'three', 'diamond',\n",
      "       'jewelry', 'collections', 'FengHuang', 'grandeur', 'TRIA',\n",
      "       'drawing', 'inspiration', 'different', 'direction'], dtype=object), 'compressed_tokens': array(['KARP', 'launches', 'diamond', 'jewelry', 'collections'],\n",
      "      dtype=object), 'sentence_bow': array([0., 0., 0., ..., 0., 0., 0.]), 'compressed_bow': array([0., 0., 0., ..., 0., 0., 0.]), 'sentence_embedding': array([ 0.21046101,  0.2961691 , -0.07536954,  0.09309745,  0.62660021,\n",
      "       -0.01200818, -0.0678889 ,  0.25490129, -0.25096855,  0.18743064,\n",
      "       -0.02144818, -0.24835272,  0.26551154,  0.09508181, -0.01704739,\n",
      "        0.10764618,  0.14683709,  0.11262333, -0.18244749,  0.13146545,\n",
      "        0.21720418, -0.11172752,  0.02891232, -0.15842681,  0.2685658 ,\n",
      "       -0.04874545,  0.12161272, -0.20736164, -0.06893636, -0.28997809,\n",
      "       -0.01489528, -0.0725191 , -0.24605727, -0.09348696,  0.11501274,\n",
      "        0.05424163,  0.03517936, -0.03512855, -0.24854726, -0.24539103,\n",
      "       -0.02341726, -0.24161182, -0.01193064,  0.04807973, -0.05975255,\n",
      "       -0.02152245,  0.01966081, -0.10042247,  0.23441412, -0.24153896,\n",
      "        0.00452272,  0.08924837,  0.20477954,  0.66171998,  0.00474954,\n",
      "       -1.7173301 , -0.17326003, -0.047042  ,  1.04959631,  0.26758665,\n",
      "       -0.02760372,  0.91116369, -0.12108508,  0.28164607,  0.3423982 ,\n",
      "       -0.18500599,  0.159521  ,  0.12904409,  0.29257071, -0.03181028,\n",
      "        0.10671919,  0.16052336, -0.03928446, -0.19993056,  0.06218702,\n",
      "       -0.03216301, -0.03782379,  0.05880872, -0.67560714,  0.02238581,\n",
      "        0.34733999,  0.13523582, -0.121236  , -0.08241252, -0.82651633,\n",
      "       -0.0293109 , -0.08045818, -0.37741834, -0.17896634, -0.28831911,\n",
      "       -0.01825836, -0.009431  ,  0.0940291 , -0.1106581 , -0.45426759,\n",
      "       -0.05675727, -0.62964684, -0.22468092,  0.43868926,  0.2856169 ]), 'compressed_embedding': array([ 0.20597999,  0.43708998, -0.36175999, -0.03803749,  0.81097502,\n",
      "       -0.359225  , -0.07844225,  0.63898748, -0.0794925 ,  0.19272974,\n",
      "       -0.0277545 , -0.24996749,  0.25165749,  0.41758749, -0.365529  ,\n",
      "        0.66053998,  0.63900751,  0.2453275 ,  0.21511184,  0.0980525 ,\n",
      "        0.0998975 , -0.0854025 ,  0.0450561 ,  0.01341124,  0.36607051,\n",
      "        0.47704747,  0.215685  , -0.31220999, -0.13230251, -0.45783749,\n",
      "       -0.09992751, -0.30701751, -0.19465999, -0.10191025,  0.41021502,\n",
      "       -0.00178099, -0.0866925 , -0.13862675, -0.26990002, -0.36846   ,\n",
      "        0.37390751, -0.2275475 , -0.14155249,  0.07025501, -0.14814   ,\n",
      "        0.098011  , -0.06670024, -0.02899425,  0.32359302, -0.197335  ,\n",
      "        0.14697751,  0.39109251,  0.29292724,  0.04687249, -0.12148582,\n",
      "       -1.14142752, -0.62912399, -0.06685276,  1.09185243, -0.019363  ,\n",
      "       -0.22419526,  0.57730377,  0.05133451,  0.52638549,  0.00328751,\n",
      "       -0.203852  ,  0.32931501,  0.17453194,  0.54713702, -0.31580877,\n",
      "        0.38204503,  0.05611226,  0.0621975 ,  0.147228  ,  0.08183675,\n",
      "       -0.19826351, -0.0095925 ,  0.32488999, -0.96477997,  0.11585601,\n",
      "        0.72872001,  0.2830925 ,  0.37222999,  0.0701275 , -0.43359226,\n",
      "       -0.23254001, -0.05132751, -0.50369251,  0.03033499, -0.12279376,\n",
      "        0.22923474,  0.31091499,  0.6395725 , -0.56093252, -0.46195   ,\n",
      "       -0.0182275 , -0.48731276, -0.21514401,  0.50705749,  0.074165  ])}\n",
      "{'clean_sentence': 'energy minister shobha karandlaje said state purchase 990 MW power meet demand summer', 'clean_compressed': 'state purchase 990 MW power', 'sentence_tokens': array(['energy', 'minister', 'shobha', 'karandlaje', 'said', 'state',\n",
      "       'purchase', '990', 'MW', 'power', 'meet', 'demand', 'summer'],\n",
      "      dtype=object), 'compressed_tokens': array(['state', 'purchase', '990', 'MW', 'power'], dtype=object), 'sentence_bow': array([0., 0., 1., ..., 0., 0., 0.]), 'compressed_bow': array([0., 0., 0., ..., 0., 0., 0.]), 'sentence_embedding': array([-0.05066686, -0.04668619,  0.41602966,  0.02266246,  0.06110692,\n",
      "       -0.58110368, -0.27250537,  0.38814691, -0.12311509,  0.17515355,\n",
      "       -0.05632765, -0.06756999,  0.03725455,  0.09810391, -0.15484327,\n",
      "       -0.43808088, -0.05643517,  0.12902993, -0.34179938, -0.01032619,\n",
      "        0.03305909, -0.18885836,  0.14768079,  0.22056636, -0.10158055,\n",
      "       -0.05353744, -0.02358481, -0.17096473,  0.08875781,  0.08128819,\n",
      "       -0.05590073,  0.38367748, -0.20921126, -0.11911745, -0.30875182,\n",
      "        0.27495608,  0.27295309,  0.16035201, -0.130762  , -0.14220017,\n",
      "       -0.23815273, -0.32998633,  0.12205099, -0.19621588,  0.09208313,\n",
      "       -0.1169415 ,  0.00402646, -0.38332665,  0.01200454, -0.45256546,\n",
      "        0.08537593, -0.18623473,  0.31202701,  0.7034964 ,  0.11456359,\n",
      "       -1.68519258, -0.12820046,  0.10029381,  1.34321094,  0.27633536,\n",
      "        0.11952872, -0.04043007, -0.06746364, -0.13836199,  0.46872637,\n",
      "        0.15754184,  0.32174775,  0.18653275,  0.47595185, -0.18969272,\n",
      "        0.18590556, -0.42247438, -0.14141209, -0.38779303,  0.07384045,\n",
      "        0.14217801, -0.10264117,  0.08451845, -0.87531912,  0.00993064,\n",
      "        0.72552681, -0.07896273, -0.33645451, -0.13185628, -0.64902186,\n",
      "       -0.15317662,  0.25095809,  0.09981845,  0.02394755, -0.53872782,\n",
      "        0.17438553, -0.14603229, -0.26862365,  0.10361056, -0.7663427 ,\n",
      "        0.10044191,  0.04797582, -0.17729019,  0.48949137, -0.20208283]), 'compressed_embedding': array([ 3.58640134e-01, -5.98145016e-02,  6.54591799e-01, -7.05157518e-02,\n",
      "        5.76158240e-02, -1.05500221e-03, -1.18650012e-02,  2.92919010e-01,\n",
      "       -2.31641501e-01,  2.91472495e-01,  2.04819083e-01,  2.74330765e-01,\n",
      "        3.34824994e-02,  1.08505022e-02, -1.46450013e-01, -6.32825017e-01,\n",
      "        4.41245288e-01,  2.19980001e-01,  4.10395078e-02, -3.57722491e-02,\n",
      "        2.37969995e-01,  7.57250190e-03,  2.72993267e-01,  8.23175013e-02,\n",
      "       -2.00500190e-02, -4.65115011e-01,  1.32933259e-01,  8.27849954e-02,\n",
      "       -9.00790095e-02, -3.29400003e-02,  2.50847995e-01,  7.31572509e-01,\n",
      "       -2.87767500e-01, -1.71294987e-01, -4.21677470e-01,  1.10590972e-01,\n",
      "        9.66825038e-02, -8.29325020e-02, -5.26024997e-02, -4.71124947e-02,\n",
      "       -1.14699900e-02, -4.46280003e-01, -1.10505253e-01, -3.31660002e-01,\n",
      "       -2.31433406e-01, -2.04731282e-02,  2.20102489e-01, -4.60020006e-01,\n",
      "       -4.15225029e-02, -3.01400006e-01, -1.20217502e-01,  1.70800999e-01,\n",
      "        4.39400256e-01,  6.67964995e-01,  1.06079191e-01, -1.50456762e+00,\n",
      "        2.53946245e-01, -2.36516997e-01,  1.63582742e+00,  7.19522536e-02,\n",
      "        9.58449990e-02, -1.37107491e-01,  2.43432492e-01, -3.23151052e-03,\n",
      "        4.58997518e-01,  9.20424908e-02,  1.06517494e-01,  1.03320003e-01,\n",
      "        2.55798012e-01, -2.27574930e-02, -4.31682505e-02, -4.52787519e-01,\n",
      "        1.12192445e-02, -1.21803246e-01,  1.40426248e-01, -2.56542489e-02,\n",
      "       -9.13649946e-02,  2.36142516e-01, -1.10075259e+00,  2.40642503e-01,\n",
      "        6.42544985e-01, -1.96282506e-01, -1.90742493e-01, -1.38654500e-01,\n",
      "       -5.22452474e-01,  2.95409262e-01,  4.16595012e-01, -2.35010013e-01,\n",
      "        1.98715001e-01, -4.09088969e-01, -4.26449962e-02, -1.59902498e-01,\n",
      "       -5.27312517e-01, -3.24904993e-02, -8.25562596e-01, -2.49974951e-02,\n",
      "        1.51699260e-01, -2.83286482e-01,  6.48625016e-01, -4.56402272e-01])}\n",
      "{'clean_sentence': \"milwaukee WI marquette coach buzz williams accepted 1 game suspension part school's selfimposed sanctions related violations report submitted NCAA\", 'clean_compressed': 'marquette coach williams accepts 1game suspension', 'sentence_tokens': array(['milwaukee', 'WI', 'marquette', 'coach', 'buzz', 'williams',\n",
      "       'accepted', '1', 'game', 'suspension', 'part', 'school', \"'s\",\n",
      "       'selfimposed', 'sanctions', 'related', 'violations', 'report',\n",
      "       'submitted', 'NCAA'], dtype=object), 'compressed_tokens': array(['marquette', 'coach', 'williams', 'accepts', '1game', 'suspension'],\n",
      "      dtype=object), 'sentence_bow': array([1., 0., 0., ..., 0., 0., 0.]), 'compressed_bow': array([0., 0., 0., ..., 0., 0., 0.]), 'sentence_embedding': array([ 0.17923377, -0.01698047,  0.23826109, -0.3795473 , -0.07693068,\n",
      "       -0.00317112,  0.23948543,  0.31215116, -0.31217891,  0.02806142,\n",
      "       -0.05639447, -0.10638525,  0.05909941,  0.09092123, -0.05150982,\n",
      "        0.01127693,  0.24715847,  0.14861059, -0.54918712,  0.20128733,\n",
      "       -0.09220236,  0.0186169 , -0.01488501,  0.31729379,  0.26347962,\n",
      "       -0.16436777, -0.06101934, -0.29377803, -0.02991576,  0.15374435,\n",
      "       -0.16760138,  0.42968294, -0.11831623,  0.07004118, -0.39450908,\n",
      "        0.11260929, -0.00246195,  0.03895625, -0.45348853,  0.00508369,\n",
      "       -0.30209327, -0.20612636,  0.23926115, -0.18562022,  0.02639809,\n",
      "        0.05170915,  0.1862808 , -0.34526944,  0.16747452, -0.55157179,\n",
      "        0.29593042, -0.11230718, -0.10368741,  0.50738895, -0.18605025,\n",
      "       -1.72802126,  0.02398382, -0.16758007,  1.23428774,  0.41059712,\n",
      "       -0.19442658,  0.1328537 , -0.20034261,  0.04779106,  0.52217156,\n",
      "       -0.29938942,  0.17033824,  0.4082334 , -0.12751116,  0.34337679,\n",
      "       -0.12631668, -0.11353463, -0.24866696, -0.07493079,  0.14103098,\n",
      "        0.14818625,  0.00683518,  0.15445271, -0.77446228,  0.085636  ,\n",
      "        0.43523639, -0.07129589, -0.39668357, -0.12066202, -0.98401415,\n",
      "       -0.08645933, -0.00768519, -0.19516371,  0.08380583, -0.141945  ,\n",
      "       -0.22277388, -0.02255858, -0.32727057,  0.21503511, -0.21616794,\n",
      "        0.1973418 , -0.29066536, -0.07187147,  0.61448592,  0.01046011]), 'compressed_embedding': array([ 4.19236600e-01,  4.04020026e-02,  2.99595416e-01, -5.12952030e-01,\n",
      "       -3.33811194e-01,  3.90000339e-03,  3.98758024e-01,  5.47543824e-01,\n",
      "       -4.40452009e-01, -1.72468185e-01, -2.10309595e-01,  6.59694076e-02,\n",
      "        6.35073930e-02,  2.90254623e-01,  9.04845968e-02, -2.06580997e-01,\n",
      "        9.43856016e-02,  1.31220609e-01, -5.53684115e-01,  4.64763969e-01,\n",
      "       -4.05185997e-01,  1.52901977e-01, -3.80874038e-01,  3.32897395e-01,\n",
      "        6.75077736e-01, -1.14970013e-01, -2.94444412e-01, -5.42641997e-01,\n",
      "        4.45569992e-01,  1.69449747e-01, -3.75198424e-01,  7.09837377e-01,\n",
      "       -3.60286802e-01, -9.07837972e-02, -4.06916380e-01, -3.01736034e-02,\n",
      "       -2.25971073e-01, -1.02600455e-03, -4.79028046e-01, -7.75660053e-02,\n",
      "       -2.29846001e-01, -1.49952441e-01,  5.79663992e-01, -1.98962003e-01,\n",
      "       -1.78463981e-01,  4.73678023e-01,  2.61112601e-01, -2.83368796e-01,\n",
      "        3.99511993e-01, -3.24842006e-01,  3.18924010e-01, -9.24239978e-02,\n",
      "       -1.30592003e-01,  1.94392413e-01,  3.51859964e-02, -1.32377005e+00,\n",
      "        5.17599285e-03,  6.31520003e-02,  6.08572006e-01,  3.36088985e-01,\n",
      "        4.08933870e-02, -4.28638220e-01,  1.55906007e-02,  1.32575989e-01,\n",
      "        3.27971995e-01, -3.88265997e-01,  2.35254005e-01,  5.66103995e-01,\n",
      "       -5.80273986e-01,  4.94602054e-01, -8.92108157e-02, -8.01572055e-02,\n",
      "       -1.31857395e-01, -2.08809897e-01,  4.25105989e-01,  7.42642060e-02,\n",
      "        2.39502400e-01,  2.05476001e-01, -1.02039993e-01, -6.21726029e-02,\n",
      "        4.19697821e-01, -2.15854600e-01, -5.02558589e-01, -2.53426611e-01,\n",
      "       -4.12291586e-01, -1.10955015e-01, -7.21104592e-02, -3.25439945e-02,\n",
      "        1.66680411e-01, -2.36857384e-01, -2.88286805e-01, -2.73447987e-02,\n",
      "       -4.03376013e-01,  4.23474014e-01, -4.61223945e-02,  1.29903197e-01,\n",
      "       -4.11799997e-01,  1.03246391e-01,  5.18476009e-01,  1.08598188e-01])}\n",
      "{'clean_sentence': \"MALE medics banned labour theatres bahrain's maternity hospitals controversial legislation approved MPs yesterday\", 'clean_compressed': 'male medics ban labour theatres', 'sentence_tokens': array(['MALE', 'medics', 'banned', 'labour', 'theatres', 'bahrain', \"'s\",\n",
      "       'maternity', 'hospitals', 'controversial', 'legislation',\n",
      "       'approved', 'MPs', 'yesterday'], dtype=object), 'compressed_tokens': array(['male', 'medics', 'ban', 'labour', 'theatres'], dtype=object), 'sentence_bow': array([1., 0., 0., ..., 0., 0., 0.]), 'compressed_bow': array([0., 0., 0., ..., 0., 0., 0.]), 'sentence_embedding': array([ 0.23197919,  0.03646958, -0.14577124,  0.00665917,  0.05105342,\n",
      "        0.01833206, -0.47444761,  0.35630667, -0.1588216 ,  0.02521632,\n",
      "       -0.15981033, -0.17228581,  0.06606542,  0.11218248, -0.02682622,\n",
      "       -0.02651025,  0.26328051, -0.14172433, -0.17917705, -0.03722708,\n",
      "        0.35100666, -0.08201156,  0.2188832 , -0.03414842, -0.235725  ,\n",
      "       -0.26214775,  0.0435831 , -0.32970724, -0.13542032,  0.28197524,\n",
      "        0.14554699,  0.20105302, -0.1640913 ,  0.08623008, -0.20061649,\n",
      "        0.42908755, -0.1075606 ,  0.18644418, -0.68378407, -0.06517334,\n",
      "       -0.22897418,  0.02316859,  0.33191797, -0.07654225,  0.13792932,\n",
      "       -0.084911  ,  0.11788549,  0.06509167,  0.07534817, -0.31687549,\n",
      "        0.09840225,  0.00461151,  0.03237933,  0.78273886, -0.42105356,\n",
      "       -1.17116344, -0.05127168, -0.21433342,  1.0957998 ,  0.44358504,\n",
      "       -0.13151093, -0.06115317,  0.20561409,  0.04736373,  0.45343414,\n",
      "        0.23609203, -0.0519575 ,  0.34172583, -0.01211059, -0.08216685,\n",
      "        0.11076722, -0.2668601 , -0.23040651, -0.01243575,  0.07110465,\n",
      "        0.10964656, -0.10583367,  0.14028318, -0.82839918, -0.16538873,\n",
      "        0.45323908, -0.22525482,  0.07198416,  0.17973268, -1.08893931,\n",
      "       -0.08553008,  0.27637684,  0.13338183, -0.18050158, -0.02169809,\n",
      "        0.32951424, -0.37621498, -0.13472624,  0.11835784, -0.53814906,\n",
      "        0.41033241,  0.21842134,  0.12255457,  0.52774066, -0.16825117]), 'compressed_embedding': array([ 0.24735804,  0.10634001, -0.09917559,  0.20314941, -0.06018999,\n",
      "        0.1759302 , -0.36336938,  0.15834799, -0.209566  , -0.01244401,\n",
      "       -0.49315882, -0.25603217,  0.42997998,  0.29766539,  0.18214381,\n",
      "       -0.01553401,  0.248964  , -0.18252601, -0.11514932,  0.12711719,\n",
      "        0.4569191 , -0.15565014,  0.2388716 , -0.332266  ,  0.135456  ,\n",
      "       -0.11807402,  0.08073465, -0.42432681,  0.20007399,  0.23239939,\n",
      "        0.1857428 , -0.03185225, -0.26098898, -0.09525581,  0.1219684 ,\n",
      "        0.203244  , -0.11132   ,  0.40050721, -0.60259998,  0.14041199,\n",
      "       -0.41148996,  0.0771574 , -0.02245001, -0.002316  ,  0.59245598,\n",
      "       -0.3769156 , -0.0839932 , -0.08033   , -0.1578536 , -0.07334   ,\n",
      "       -0.20793641, -0.2807996 , -0.17852901,  0.9574092 , -0.15864761,\n",
      "       -0.799218  , -0.47657004, -0.34962541,  0.78347528,  0.440162  ,\n",
      "       -0.011681  , -0.12581001,  0.0184058 ,  0.28870457,  0.61017597,\n",
      "        0.43646598,  0.09483208,  0.025948  ,  0.05159   , -0.0280596 ,\n",
      "        0.11987945, -0.27149802, -0.1200868 , -0.013384  ,  0.00508079,\n",
      "        0.15233797, -0.1156098 ,  0.05783141, -0.56740397, -0.42239398,\n",
      "        0.30431399, -0.42194399,  0.31024602,  0.2689544 , -1.24328804,\n",
      "       -0.17666659,  0.16223402,  0.10525201,  0.104074  ,  0.07045279,\n",
      "        0.302522  , -0.37849218,  0.0301918 ,  0.0718772 , -0.16799578,\n",
      "        0.17118201, -0.20725398,  0.289222  ,  0.65222001, -0.16711339])}\n",
      "{'clean_sentence': 'rb star r kelly facing foreclosure chicago illinois mansion defaulting mortgage', 'clean_compressed': 'r kelly faces foreclosure', 'sentence_tokens': array(['rb', 'star', 'r', 'kelly', 'facing', 'foreclosure', 'chicago',\n",
      "       'illinois', 'mansion', 'defaulting', 'mortgage'], dtype=object), 'compressed_tokens': array(['r', 'kelly', 'faces', 'foreclosure'], dtype=object), 'sentence_bow': array([0., 0., 0., ..., 0., 0., 0.]), 'compressed_bow': array([0., 0., 0., ..., 0., 0., 0.]), 'sentence_embedding': array([ 1.62420020e-01, -1.94616187e-02,  3.73883724e-01, -3.73297244e-01,\n",
      "       -4.92462739e-02,  9.79100019e-02, -8.93862918e-02, -8.01069066e-02,\n",
      "       -2.21090540e-01,  9.85002741e-02,  2.12140471e-01, -8.01031962e-02,\n",
      "       -3.63738894e-01,  1.84330046e-01, -7.35191703e-02, -2.66672820e-01,\n",
      "        2.30129093e-01,  2.07834527e-01, -2.97945421e-02,  9.81600955e-02,\n",
      "       -7.24788159e-02,  3.26670885e-01, -5.78523614e-02,  2.35528901e-01,\n",
      "        1.97600834e-02, -5.67179918e-03, -2.15404555e-01, -4.08209115e-01,\n",
      "       -3.80165100e-01,  1.16109915e-01,  2.17591092e-01,  1.72367916e-01,\n",
      "        2.47933626e-01,  3.21558088e-01, -1.11493729e-01, -1.73254628e-02,\n",
      "       -1.55186234e-03, -1.89464554e-01,  1.61230817e-01,  1.66872755e-01,\n",
      "        1.51398763e-01, -2.85258114e-01, -7.94861838e-02, -6.38261735e-02,\n",
      "        1.51569992e-01,  5.51870093e-02, -1.20905228e-01, -1.35888532e-01,\n",
      "        2.48095736e-01, -3.68005455e-01, -1.99132726e-01, -2.96633929e-01,\n",
      "        1.08819276e-01,  1.13212347e-01,  1.34358168e-01, -1.37335086e+00,\n",
      "       -5.05004749e-02, -4.50885475e-01,  6.47886872e-01,  4.63089466e-01,\n",
      "       -3.27556551e-01,  1.91818178e-01,  5.73860034e-02, -1.45235732e-01,\n",
      "        4.65081811e-01, -3.44090834e-02,  4.85365987e-01,  5.63503146e-01,\n",
      "       -4.15493809e-02,  2.07847685e-01, -3.99499059e-01,  1.05465263e-01,\n",
      "       -6.61519945e-01, -4.29622792e-02,  2.43645608e-01, -2.52865940e-01,\n",
      "       -4.84472737e-02,  1.23601817e-01, -6.10538185e-01, -3.81260872e-01,\n",
      "        2.75829285e-01,  5.12948185e-02, -1.93366349e-01, -1.02994636e-01,\n",
      "       -2.41522372e-01, -1.91570342e-01, -8.27435479e-02, -3.43748152e-01,\n",
      "       -1.31559074e-02, -4.21356946e-01, -3.16978723e-01, -3.72721377e-04,\n",
      "       -6.71899598e-03,  1.28345966e-01, -2.95905918e-01,  1.23702914e-01,\n",
      "        2.58859992e-01,  2.58264523e-02,  5.82501829e-01, -3.69046569e-01]), 'compressed_embedding': array([-1.15132496e-01, -1.32987767e-01,  2.60640502e-01, -5.05872488e-01,\n",
      "        2.06826493e-01,  1.42760992e-01, -2.15985239e-01,  5.64845055e-02,\n",
      "       -2.34849006e-01,  1.21664748e-01,  1.22061498e-01, -2.20842659e-02,\n",
      "       -6.02522731e-01,  2.64623493e-01, -1.28275026e-02, -8.96842554e-02,\n",
      "       -4.32162583e-02,  5.08372486e-01, -5.60125113e-02,  1.40237510e-01,\n",
      "        2.44510174e-02,  1.65597245e-01,  3.39792490e-01,  3.54257494e-01,\n",
      "       -1.19187497e-01,  3.88610005e-01,  7.25524947e-02, -1.85230002e-01,\n",
      "       -4.93649483e-01, -1.33678257e-01,  3.65272492e-01,  4.28275019e-02,\n",
      "        2.05017507e-01,  2.25164756e-01,  2.69915015e-01, -1.12850219e-03,\n",
      "        2.56420076e-02, -2.77892530e-01,  3.34701002e-01,  2.61229992e-01,\n",
      "       -2.26994634e-01, -3.81358027e-01,  1.23163998e-01, -2.84644991e-01,\n",
      "       -1.45713300e-01,  1.67589992e-01, -2.94379979e-01, -2.07970738e-01,\n",
      "        1.99865133e-01, -3.98770034e-01,  2.44042516e-01, -6.37837470e-01,\n",
      "        4.54037637e-02,  2.18550235e-01,  2.89599985e-01, -1.46980500e+00,\n",
      "        6.28395006e-02, -4.59010005e-01,  6.80757523e-01,  6.27827525e-01,\n",
      "       -1.79082453e-02,  1.58535004e-01,  3.95474955e-02, -4.26890016e-01,\n",
      "        6.24107480e-01,  3.04625034e-02,  6.84554994e-01,  7.87337482e-01,\n",
      "       -1.39752999e-01,  3.29740196e-02, -2.08807498e-01,  2.54345000e-01,\n",
      "       -8.78154993e-01,  8.70215073e-02,  6.86192513e-01, -6.43707365e-02,\n",
      "       -2.13345006e-01,  2.57449895e-02, -6.14699960e-01, -4.55815017e-01,\n",
      "        3.05534989e-01, -3.13777506e-01,  3.78875211e-02, -2.16527492e-01,\n",
      "       -5.89677513e-01, -2.78040022e-01, -3.27842474e-01, -3.21617007e-01,\n",
      "       -1.45019501e-01, -3.32200497e-01, -2.45335996e-01,  1.48420006e-01,\n",
      "        3.61955017e-02,  3.51549745e-01, -5.57749718e-03,  1.05152503e-02,\n",
      "        1.83251753e-01,  2.83934921e-02,  4.50622499e-01, -5.55989981e-01])}\n",
      "{'clean_sentence': 'duval street college avenue west park avenue closed weekend beginning friday evening', 'clean_compressed': 'duval street closed weekend', 'sentence_tokens': array(['duval', 'street', 'college', 'avenue', 'west', 'park', 'avenue',\n",
      "       'closed', 'weekend', 'beginning', 'friday', 'evening'],\n",
      "      dtype=object), 'compressed_tokens': array(['duval', 'street', 'closed', 'weekend'], dtype=object), 'sentence_bow': array([0., 0., 0., ..., 0., 0., 0.]), 'compressed_bow': array([0., 0., 0., ..., 0., 0., 0.]), 'sentence_embedding': array([ 2.37250686e-01, -1.91201344e-01,  1.10631652e-01,  1.41141176e-01,\n",
      "        1.41437605e-01,  2.03665078e-01,  2.14416340e-01,  7.61764228e-01,\n",
      "       -3.31241637e-01, -2.32381165e-01, -9.41678882e-05,  8.45831707e-02,\n",
      "        3.47338319e-02, -1.32192895e-01,  1.90824166e-01, -3.24046686e-02,\n",
      "        2.40897179e-01, -2.59617474e-02, -4.35159326e-01, -2.09232494e-01,\n",
      "        4.61993843e-01,  1.17769577e-01,  3.05055469e-01, -7.43424967e-02,\n",
      "        2.07276002e-01, -1.20599657e-01, -1.70687493e-02, -3.69306654e-01,\n",
      "        6.06781654e-02, -1.74554996e-02, -3.19241673e-01,  2.86106676e-01,\n",
      "        1.70948520e-01,  1.82169899e-01, -6.39591664e-02,  1.95039168e-01,\n",
      "       -1.74991906e-01, -1.53307170e-01,  1.25187173e-01,  1.27446070e-01,\n",
      "       -2.49228850e-01, -3.35633159e-01, -3.10455058e-02, -6.39756098e-02,\n",
      "        2.37729326e-01,  5.69299161e-02,  2.58233756e-01, -1.74515899e-02,\n",
      "        4.78754997e-01, -3.62213492e-01, -6.54365048e-02, -5.61655819e-01,\n",
      "        9.90783274e-02,  3.46644163e-01, -4.80282307e-01, -2.38791060e+00,\n",
      "       -4.11142677e-01, -1.49453327e-01,  1.26705086e+00,  3.05347502e-01,\n",
      "       -6.80580795e-01,  5.60422361e-01,  1.38582334e-01,  7.55883241e-03,\n",
      "        1.56311080e-01, -1.88406423e-01,  3.34727079e-01,  1.96655929e-01,\n",
      "        1.60562098e-01,  1.13334179e-01, -3.88299942e-01, -1.55589268e-01,\n",
      "       -3.38708758e-01, -6.80557430e-01,  1.80513218e-01, -6.79317564e-02,\n",
      "        4.39204097e-01,  4.48191643e-01, -4.23879653e-01, -1.89772472e-01,\n",
      "        1.54558748e-01, -3.03395838e-02, -2.40499988e-01,  2.98333261e-02,\n",
      "       -5.55337369e-01, -1.69605747e-01, -4.41566914e-01, -2.96663791e-01,\n",
      "        3.54062885e-01,  1.56538919e-01,  4.90731979e-03, -2.70791680e-01,\n",
      "       -1.41482428e-01,  4.02303010e-01, -1.12199008e+00,  2.36958757e-01,\n",
      "        3.53784770e-01,  5.56760021e-02,  6.27458274e-01,  3.75649184e-01]), 'compressed_embedding': array([ 0.08922751, -0.14930649,  0.02074999, -0.094449  ,  0.05207548,\n",
      "        0.33180749,  0.12501499,  0.60040021, -0.31084999, -0.58253503,\n",
      "        0.10161   ,  0.324772  ,  0.072745  , -0.23250251,  0.0932375 ,\n",
      "        0.40209499, -0.2448785 , -0.03910025, -0.13602799, -0.0214725 ,\n",
      "        0.64013726,  0.12889625,  0.3837375 ,  0.10158999,  0.18344776,\n",
      "       -0.42588001,  0.043865  , -0.35955998,  0.09025575, -0.1494925 ,\n",
      "       -0.124235  ,  0.03462748,  0.10490676,  0.21101476,  0.22069752,\n",
      "        0.3553825 , -0.1059475 , -0.28220952,  0.375     ,  0.13239324,\n",
      "       -0.2390115 , -0.48795503,  0.23115501,  0.07212   ,  0.08225849,\n",
      "        0.01397125,  0.12906131, -0.09656024,  0.4992525 , -0.92265999,\n",
      "       -0.26050803, -0.59473497, -0.04054452,  0.30373499, -0.53374225,\n",
      "       -2.15280724, -0.36776048,  0.12816726,  1.1625576 ,  0.45367998,\n",
      "       -0.64786494,  0.37788701,  0.02296199,  0.35579002, -0.13174629,\n",
      "       -0.14805749,  0.30129251,  0.10544001,  0.2296955 ,  0.12195501,\n",
      "       -0.54734254, -0.03167476, -0.33671999, -0.39074248, -0.013955  ,\n",
      "       -0.10875501,  0.45548499,  0.39785498, -0.516774  ,  0.07137   ,\n",
      "        0.32232875, -0.08655251, -0.31398252,  0.24897251, -0.6088233 ,\n",
      "       -0.29583478, -0.51874751,  0.011135  ,  0.10607   ,  0.11753   ,\n",
      "       -0.16604275, -0.1339125 , -0.2452825 ,  0.34361148, -0.84165502,\n",
      "        0.34589303,  0.65614998,  0.157453  ,  0.38855499,  0.41657749])}\n",
      "{'clean_sentence': 'deputy prime minister silvan shalom met UN secretarygeneral ban kimoon monday asked pressure palestinian authority agree direct talks israel', 'clean_compressed': 'silvan shalom meets UN chief ban kimoon', 'sentence_tokens': array(['deputy', 'prime', 'minister', 'silvan', 'shalom', 'met', 'UN',\n",
      "       'secretarygeneral', 'ban', 'kimoon', 'monday', 'asked', 'pressure',\n",
      "       'palestinian', 'authority', 'agree', 'direct', 'talks', 'israel'],\n",
      "      dtype=object), 'compressed_tokens': array(['silvan', 'shalom', 'meets', 'UN', 'chief', 'ban', 'kimoon'],\n",
      "      dtype=object), 'sentence_bow': array([0., 0., 0., ..., 0., 0., 0.]), 'compressed_bow': array([0., 0., 0., ..., 0., 0., 0.]), 'sentence_embedding': array([-0.49430302, -0.62782812,  0.13118444,  0.3616873 ,  0.09197918,\n",
      "       -0.36109436, -0.22195375,  0.23834543,  0.287541  , -0.04589613,\n",
      "       -0.43854675, -0.0502585 ,  0.21490788,  0.49892408,  0.11078712,\n",
      "       -0.3112759 , -0.33341148, -0.37399265, -0.90928805, -0.05089175,\n",
      "        0.0391975 , -0.11706619, -0.12493017, -0.11598382, -0.10341537,\n",
      "       -0.21485519,  0.0671569 , -0.35153264,  0.30613056,  0.09716218,\n",
      "       -0.06623518,  0.32930467, -0.24600175,  0.2107923 , -0.23087656,\n",
      "        0.23349388,  0.24977043,  0.17584434, -0.28979069,  0.03590869,\n",
      "       -0.66023624, -0.07157386,  0.67611766,  0.0725455 ,  0.26431561,\n",
      "       -0.30628887, -0.12676212, -0.0182657 , -0.19293451, -0.45598748,\n",
      "        0.29023582, -0.13837856,  0.53994173,  0.92024565, -0.28014213,\n",
      "       -1.6482451 , -0.20829937,  0.23947164,  1.11903751,  0.52602816,\n",
      "        0.0237815 , -0.11448651,  0.06415894, -0.2665053 ,  0.50464952,\n",
      "        0.26428238,  0.23172633,  0.69951904, -0.06186518, -0.28821427,\n",
      "        0.21157314, -0.66037655, -0.27658689, -0.81787181, -0.1677803 ,\n",
      "        0.25307855, -0.31668025,  0.16429183, -0.93120927, -0.11724101,\n",
      "        0.82320815, -0.11157037, -0.01348187, -0.18305224, -0.84724671,\n",
      "       -0.035243  ,  0.12743169,  0.54182631,  0.23476677, -0.43661523,\n",
      "        0.23637535, -0.12542878, -0.45152077,  0.24508451, -0.52266133,\n",
      "        0.30230725,  0.14548057,  0.03446825,  0.52983981,  0.14365631]), 'compressed_embedding': array([-0.49525803, -0.86896598,  0.45506841,  0.0503024 ,  0.21728602,\n",
      "       -0.43132025, -0.1476074 ,  0.412476  ,  0.23908   , -0.2246654 ,\n",
      "       -0.56266004,  0.066453  , -0.02194399,  0.76845342,  0.097188  ,\n",
      "       -0.23320799, -0.05731601, -0.19022062, -0.79319   , -0.0876862 ,\n",
      "       -0.034004  , -0.02567   , -0.3689822 ,  0.17003599, -0.097204  ,\n",
      "        0.12663358,  0.12204858, -0.61955005,  0.04917779,  0.1767962 ,\n",
      "       -0.3149592 ,  0.28835577, -0.282893  ,  0.1322062 , -0.126468  ,\n",
      "        0.33802599,  0.13811199,  0.40365005, -0.15495341,  0.121002  ,\n",
      "       -0.56213796, -0.09959179,  0.544806  ,  0.25392202,  0.37006399,\n",
      "       -0.23874798, -0.34817842, -0.007009  , -0.32877359, -0.05560601,\n",
      "        0.18142819, -0.33280081,  0.486444  ,  0.29204798, -0.57311201,\n",
      "       -1.10660398, -0.36991459,  0.50253522,  0.46779996,  0.26424661,\n",
      "        0.29916698, -0.17173401,  0.64714354, -0.1249174 ,  0.01298982,\n",
      "        0.159776  ,  0.2195901 ,  0.580208  ,  0.1441634 , -0.33496824,\n",
      "        0.262532  , -0.78211004, -0.25583601, -0.73259598, -0.358116  ,\n",
      "        0.21988878, -0.15440281,  0.08666398, -0.4209362 , -0.09504918,\n",
      "        0.66700804, -0.45954323,  0.1033918 , -0.12608719, -0.5594312 ,\n",
      "        0.05133539, -0.1494464 ,  0.42427602,  0.520518  , -0.0632292 ,\n",
      "        0.27769521,  0.2361664 , -0.336418  ,  0.56247234, -0.06656619,\n",
      "        0.19629709,  0.21614599, -0.1792932 ,  0.32077789,  0.32506797])}\n",
      "{'clean_sentence': 'madison voters madison expected decide tonight whether put adult entertainment ordinance books one could put stop proposed strip club', 'clean_compressed': 'madison voters decide adult entertainment ordinance', 'sentence_tokens': array(['madison', 'voters', 'madison', 'expected', 'decide', 'tonight',\n",
      "       'whether', 'put', 'adult', 'entertainment', 'ordinance', 'books',\n",
      "       'one', 'could', 'put', 'stop', 'proposed', 'strip', 'club'],\n",
      "      dtype=object), 'compressed_tokens': array(['madison', 'voters', 'decide', 'adult', 'entertainment',\n",
      "       'ordinance'], dtype=object), 'sentence_bow': array([0., 0., 0., ..., 0., 0., 0.]), 'compressed_bow': array([0., 0., 0., ..., 0., 0., 0.]), 'sentence_embedding': array([ 0.15408267, -0.06922078,  0.20923865, -0.20416223,  0.02251206,\n",
      "        0.29304108,  0.00937235,  0.32770595, -0.04517417, -0.136594  ,\n",
      "        0.04220299, -0.0544591 , -0.03913563, -0.27806881, -0.03521968,\n",
      "       -0.1828496 ,  0.37965181,  0.24059308, -0.3770586 ,  0.08013853,\n",
      "        0.22928637, -0.10898254,  0.04232186, -0.20175336,  0.08848273,\n",
      "       -0.12279775,  0.06913191, -0.43387845, -0.13087399,  0.04358942,\n",
      "        0.06542383,  0.47566128,  0.12000394,  0.06173168, -0.03012542,\n",
      "        0.19939578,  0.01720453, -0.01756016, -0.24516638, -0.14523999,\n",
      "       -0.30680734, -0.223784  , -0.02019785, -0.33289284, -0.18409464,\n",
      "       -0.13153906, -0.0803839 , -0.25732914, -0.00586853, -0.49419427,\n",
      "        0.06548905, -0.15464766,  0.0958598 ,  0.71142685, -0.06523878,\n",
      "       -1.97757304,  0.01849368, -0.22798538,  1.33712316,  0.46167579,\n",
      "       -0.18398099,  0.58152735, -0.11995647, -0.06721045,  0.70976788,\n",
      "        0.10062251,  0.2707943 ,  0.48739249, -0.12548649, -0.23681079,\n",
      "        0.00441468, -0.31592187, -0.22349592, -0.22740369, -0.054962  ,\n",
      "       -0.02075468, -0.04971199,  0.05743573, -0.63973314, -0.04851085,\n",
      "        0.32131636, -0.22080307, -0.24533896, -0.08140284, -1.00992   ,\n",
      "       -0.3055208 ,  0.04602378, -0.0537607 ,  0.04434068, -0.14928867,\n",
      "       -0.0485531 , -0.07998715, -0.07205111, -0.09421819, -0.55614454,\n",
      "        0.10521315,  0.01630696,  0.07988827,  0.68405515,  0.10068201]), 'compressed_embedding': array([ 0.44602498, -0.094495  ,  0.38204333, -0.23462117,  0.01751284,\n",
      "        0.60023183, -0.01168217,  0.31311116,  0.1231995 , -0.12289084,\n",
      "       -0.10284718, -0.33116302, -0.17628801, -0.49517167,  0.13134669,\n",
      "       -0.32498485,  0.61934   ,  0.33706069, -0.34373879,  0.16300835,\n",
      "        0.05404666, -0.18145001,  0.14791569, -0.46123838, -0.10510335,\n",
      "       -0.0844005 ,  0.44374335, -0.33863667, -0.31258833,  0.19649999,\n",
      "        0.36787501,  0.50026399,  0.32452333,  0.03677   ,  0.00688833,\n",
      "        0.03145334,  0.103461  , -0.09683001, -0.31401315, -0.14640667,\n",
      "       -0.21805286, -0.23986435, -0.25292501, -0.372684  , -0.34114635,\n",
      "       -0.41800681, -0.18045567, -0.19134669, -0.02160499, -0.32004333,\n",
      "       -0.07743767, -0.41617167,  0.04096817,  0.41383004,  0.12300567,\n",
      "       -1.42881405,  0.22331166, -0.28193668,  1.35060167,  0.24311668,\n",
      "       -0.20670001,  0.40433666,  0.06342665, -0.14397167,  0.64915162,\n",
      "        0.14321151,  0.095849  ,  0.27669436, -0.01088118, -0.14372684,\n",
      "       -0.06521167, -0.30642167, -0.27642667,  0.01587665, -0.22341983,\n",
      "        0.00322916, -0.18879284, -0.00311917, -0.43934333, -0.38343787,\n",
      "        0.00545417, -0.2790525 ,  0.06531167,  0.04242533, -0.8986184 ,\n",
      "       -0.42922199,  0.05689998, -0.142555  ,  0.13977683, -0.10223866,\n",
      "        0.01852684, -0.08553833,  0.02482883, -0.02587334, -0.39494917,\n",
      "        0.2336055 , -0.13360216,  0.05486351,  0.68924809, -0.01961983])}\n",
      "{'clean_sentence': \"israel's prime minister benjamin netanyahu said monday israel must remain master fate opened talks US president barack obama issues including potential nuclear threats iran\", 'clean_compressed': 'israel must remain master fate', 'sentence_tokens': array(['israel', \"'s\", 'prime', 'minister', 'benjamin', 'netanyahu',\n",
      "       'said', 'monday', 'israel', 'must', 'remain', 'master', 'fate',\n",
      "       'opened', 'talks', 'US', 'president', 'barack', 'obama', 'issues',\n",
      "       'including', 'potential', 'nuclear', 'threats', 'iran'],\n",
      "      dtype=object), 'compressed_tokens': array(['israel', 'must', 'remain', 'master', 'fate'], dtype=object), 'sentence_bow': array([1., 0., 1., ..., 0., 0., 0.]), 'compressed_bow': array([0., 0., 0., ..., 0., 0., 0.]), 'sentence_embedding': array([-2.04625800e-01, -9.19993892e-02,  3.79378110e-01,  1.83963850e-01,\n",
      "        1.81674719e-01, -5.66312313e-01, -1.37210056e-01,  8.66219103e-02,\n",
      "        7.33590359e-03,  1.78790092e-01, -1.65505886e-01, -3.40859070e-02,\n",
      "        1.72140226e-01,  2.61974573e-01, -4.85254973e-02, -1.94833919e-01,\n",
      "       -9.01954547e-02, -2.06530645e-01, -7.43991077e-01, -9.28324461e-02,\n",
      "        1.12617135e-01, -2.70764679e-01,  1.89913094e-01, -2.47318763e-02,\n",
      "       -2.49274094e-02, -1.37800351e-01, -1.05558939e-01, -1.10239208e-01,\n",
      "        2.55784780e-01,  7.80225396e-02,  1.31596380e-03,  3.71852070e-01,\n",
      "       -1.57485157e-01,  3.35818976e-01, -1.45114481e-01,  2.18404517e-01,\n",
      "        2.39974961e-01, -1.00837730e-01, -3.37131888e-01,  4.90450077e-02,\n",
      "       -7.49342382e-01, -2.09163368e-01,  6.89647853e-01, -2.85677519e-02,\n",
      "        3.12400032e-02, -3.25853318e-01,  7.02974573e-02,  1.04860753e-01,\n",
      "       -2.35900164e-01, -4.47673053e-01,  3.85186285e-01, -1.62610874e-01,\n",
      "        3.37002486e-01,  1.12226033e+00, -1.62393257e-01, -1.98037064e+00,\n",
      "       -1.09113390e-02, -3.77858095e-02,  1.14371407e+00,  4.80259687e-01,\n",
      "       -1.46930590e-01,  2.08209887e-01, -3.35466675e-03, -3.26785475e-01,\n",
      "        7.34941244e-01,  2.25250497e-01,  4.18678373e-01,  7.22315490e-01,\n",
      "       -2.97495481e-02, -1.11898147e-01,  1.24781758e-01, -3.94045621e-01,\n",
      "       -4.41445351e-01, -5.48661888e-01, -2.23725885e-02,  1.73323691e-01,\n",
      "       -1.03037208e-01,  1.78383783e-01, -9.58647728e-01, -7.73992622e-03,\n",
      "        8.66381168e-01, -3.94816659e-02, -1.22364707e-01, -1.73493754e-02,\n",
      "       -9.81139362e-01, -1.71727240e-01,  3.50139067e-02,  3.41202587e-01,\n",
      "        1.26681045e-01, -6.57880664e-01,  4.29732092e-02,  3.03211231e-02,\n",
      "       -1.80292025e-01,  2.36775279e-01, -7.26170480e-01,  2.87935168e-01,\n",
      "        8.10710117e-02, -1.22089893e-01,  5.39295971e-01,  1.99929759e-01]), 'compressed_embedding': array([-0.045614  , -0.12077   ,  0.35042197,  0.07631801,  0.03741   ,\n",
      "       -0.1642154 , -0.06635119, -0.012596  ,  0.10766999,  0.09612601,\n",
      "       -0.0632512 ,  0.37360799,  0.637806  ,  0.33808079, -0.46113998,\n",
      "       -0.421496  ,  0.1532242 ,  0.03023219, -0.69896317,  0.28525764,\n",
      "        0.0289006 , -0.3023358 ,  0.0957178 , -0.24787803,  0.151236  ,\n",
      "       -0.366108  , -0.0514206 , -0.48168984,  0.34175563, -0.13513839,\n",
      "       -0.19028179,  0.20973799, -0.50667399,  0.23884161,  0.016368  ,\n",
      "        0.17589602,  0.20897798, -0.16851141, -0.032583  , -0.484294  ,\n",
      "       -0.59734595, -0.18219581,  0.53924197, -0.171792  ,  0.13841601,\n",
      "       -0.38047484,  0.2132308 ,  0.48704419, -0.218954  , -0.47170123,\n",
      "        0.39815202, -0.21403798,  0.2712346 ,  1.23007405,  0.03068899,\n",
      "       -1.73370004,  0.23903222, -0.38520783,  1.21516013,  0.4318698 ,\n",
      "        0.126681  ,  0.50327623, -0.22659603, -0.40613002,  0.90574801,\n",
      "        0.23406997,  0.128644  ,  0.59140801, -0.37009001, -0.28328401,\n",
      "        0.11182199, -0.3449032 , -0.22279401, -0.10703361,  0.1272112 ,\n",
      "        0.02893859, -0.25227821, -0.02075374, -0.60617381, -0.114076  ,\n",
      "        0.73303795,  0.099628  , -0.44311541,  0.14539799, -1.0706079 ,\n",
      "        0.11963   ,  0.067191  , -0.04913359,  0.28553939, -0.2554546 ,\n",
      "       -0.29199439,  0.0678978 ,  0.110154  ,  0.11929339, -0.59094399,\n",
      "        0.188908  ,  0.16199167, -0.25612801,  0.40680999,  0.14800879])}\n"
     ]
    }
   ],
   "source": [
    "for i in range(10):\n",
    "    print(test_ds[i])"
   ]
  },
  {
   "cell_type": "markdown",
   "metadata": {
    "collapsed": false,
    "pycharm": {
     "name": "#%% md\n"
    }
   },
   "source": [
    "Here you can see that the new dataset returned a single numpy array containing all sentence embeddings in our dataset. This is a lot more efficient than returning a list of arrays (which is the default behaviour). Below we check the type and the dimensionality.\n",
    "\n",
    "We will be using `text` subset from our dataset to not use too much RAM."
   ]
  },
  {
   "cell_type": "code",
   "execution_count": 139,
   "metadata": {
    "collapsed": false,
    "pycharm": {
     "name": "#%%\n"
    },
    "ExecuteTime": {
     "end_time": "2025-04-22T17:22:48.531987Z",
     "start_time": "2025-04-22T17:22:48.370347Z"
    }
   },
   "outputs": [
    {
     "name": "stdout",
     "output_type": "stream",
     "text": [
      "<class 'numpy.ndarray'>\n",
      "(36000, 100)\n",
      "<class 'numpy.ndarray'>\n",
      "(36000, 100)\n"
     ]
    }
   ],
   "source": [
    "sent_embedding = test_ds['sentence_embedding']\n",
    "compr_embedding = test_ds['compressed_embedding']\n",
    "print(type(sent_embedding))\n",
    "print(sent_embedding.shape)\n",
    "print(type(compr_embedding))\n",
    "print(compr_embedding.shape)"
   ]
  },
  {
   "cell_type": "markdown",
   "metadata": {
    "collapsed": false,
    "pycharm": {
     "name": "#%% md\n"
    }
   },
   "source": [
    "Next we try the condensed representatin based on a simple query. Feel free to try different queries with different words. What happens if we have OOV words in a query?"
   ]
  },
  {
   "cell_type": "code",
   "execution_count": 140,
   "metadata": {
    "collapsed": false,
    "pycharm": {
     "name": "#%%\n"
    },
    "ExecuteTime": {
     "end_time": "2025-04-22T17:22:48.654985Z",
     "start_time": "2025-04-22T17:22:48.412138Z"
    }
   },
   "outputs": [
    {
     "name": "stdout",
     "output_type": "stream",
     "text": [
      "fox and deer\n",
      "(100,)\n",
      "[-0.083385   -0.63719     0.254075   -0.65408504 -0.12458149 -0.57695\n",
      "  0.1151895   0.47937998 -0.05304    -1.16922    -0.479265   -0.117604\n",
      "  0.67665505 -0.2181845   0.86132     0.46395     0.149115    0.352275\n",
      " -0.00642499  0.42123    -0.108593    0.51331     0.1666895  -0.19212\n",
      "  0.552625    0.777605   -0.17123    -0.00441501 -0.62225     0.180445\n",
      "  0.263865    0.50187397  0.22722     0.504755    0.49651998  0.29571\n",
      " -0.273479    0.186705    0.66161     0.42644    -0.10568     0.00512\n",
      " -0.715195    0.4271345  -0.19899699  0.007035    0.217155   -0.270865\n",
      " -0.20389499 -0.205845   -0.847275   -0.370445    0.102978    0.56117\n",
      " -0.4170775  -1.50664    -0.1817145   0.170645    0.528605    0.030635\n",
      "  0.0378895   0.82403004  0.55395997 -0.18147999  1.257       0.539876\n",
      "  0.069414   -0.21291    -0.002545    1.04205    -0.26154    -0.20421065\n",
      " -0.1738185  -0.096082   -0.14954099 -0.209345   -0.749255    0.131181\n",
      " -0.7742      0.45635498  0.2506     -0.2636805  -0.01942    -0.479955\n",
      " -0.233609    0.10405    -0.441785    0.35395798  0.71454     0.4964\n",
      " -0.123225   -1.070775    0.348805   -0.19064    -1.2590001  -0.74045503\n",
      " -0.618595   -0.032615    0.564905   -0.28883   ]\n"
     ]
    }
   ],
   "source": [
    "query = 'fox and deer'\n",
    "print(query)\n",
    "\n",
    "query_embedding = embed_text(query, clean, tokenize, lambda x: embed_sentence_word_model(x, glove_model))\n",
    "print(query_embedding.shape)\n",
    "print(query_embedding)"
   ]
  },
  {
   "cell_type": "markdown",
   "metadata": {
    "collapsed": false,
    "pycharm": {
     "name": "#%% md\n"
    }
   },
   "source": [
    "<a name='e13'></a>\n",
    "### Exercise 13: Analyze sentence embeddings\n",
    "- (5p) Calculate similarity between the word embeddings representations of the selected queries and the dataset sentences.\n",
    "- (5p) Analyze the search results. Does the search work as expected? Discuss the results.\n",
    "- (5p) Compare the results with the ones you got with the bag-of-words and TF-IDF representation. Discuss the differences and similarities."
   ]
  },
  {
   "cell_type": "code",
   "execution_count": null,
   "metadata": {
    "collapsed": false,
    "pycharm": {
     "name": "#%%\n"
    },
    "ExecuteTime": {
     "start_time": "2025-04-22T15:50:34.677917Z"
    }
   },
   "outputs": [],
   "source": [
    "### YOUR CODE HERE\n",
    "\n",
    "\n",
    "\n",
    "\n",
    "### YOUR CODE ENDS HERE"
   ]
  },
  {
   "cell_type": "markdown",
   "metadata": {
    "id": "ZY2jouFmeHOg",
    "pycharm": {
     "name": "#%% md\n"
    }
   },
   "source": [
    "## 6. Evaluating Retrieval\n",
    "\n",
    "In this last section we will try to evaluate how good our sentence retrieval system is. To keep the computational resources manageable, we will use the test set for that as its size is more manageable.\n",
    "\n",
    "Recall from the lecture in IR that there are several metrics to evaluate retrieval performance by taking into account the relevance of the retrieved results to the query. We will use Recall@K here (for more metrics and more details refer to the lecture slides and the textbooks).\n",
    "\n",
    "RRecall@K is a metric used to measure the effectiveness of a search system in retrieving relevant documents within the top $K$ retrieved documents. It calculates the proportion of relevant documents retrieved within the top-$K$ results, compared to the total number of relevant documents in the collection.\n",
    "\n",
    "$\n",
    "\\text{Recall@K} = \\frac{\\text{Number of relevant documents retrieved in the top }-K}{\\text{Total number of relevant documents}}\n",
    "$\n",
    "\n",
    "In our case, we have a sentence, and it's compressed version. To test our system, we will treat compressed sentences as the queries. Each query will have only a single relevant sentence - the corresponding uncompressed sentence.\n",
    "\n",
    "Therefore, for the calculation of Recall@K we will take into account whether the correct retrieved result is contained within the first $K$ retrieved results. For example, if for a query (i.e. a compressed sentence) we retrieve 10 results and within these we see the relevant one (i.e. the full sentence), then Recall@10 = 1."
   ]
  },
  {
   "cell_type": "markdown",
   "metadata": {
    "id": "QUKPtG-uem9f",
    "pycharm": {
     "name": "#%% md\n"
    }
   },
   "source": [
    "<a name='e14'></a>\n",
    "### Exercise 14: Cosine similarity between two sets of vectors\n",
    "\n",
    "(3p) In this exercise you will revisit your implementation of the cosine similarity. Generalize it so that it can accept two arrays containing two sets of vectors (first one containing $M$ vectors and the second one $N$ vectors). Compute the cosine similarity between each pair of vectors coming from the two sets. The result should be an array of size $M x N$.\n",
    "\n",
    "Once again, try to write an efficient code. This means no loops. Remember the relation between matrix multiplication and dot product. (Depending on your implementation of the previous function calculating cosine similarity, this one can be almost the same)"
   ]
  },
  {
   "cell_type": "code",
   "execution_count": 141,
   "metadata": {
    "id": "xKiHDrN9eld7",
    "pycharm": {
     "name": "#%%\n"
    },
    "ExecuteTime": {
     "end_time": "2025-04-22T17:24:04.445629Z",
     "start_time": "2025-04-22T17:24:04.428762Z"
    }
   },
   "outputs": [],
   "source": [
    "def cosine_similarity_m_to_n(vectors, other_vectors):\n",
    "    \"\"\"\n",
    "    Calculates the cosine similarity between a multiple vectors and other vectors.\n",
    "    Args:\n",
    "        vectors: a numpy array representing M number of vectors of D dimensions (of the size MxD)\n",
    "        other_vectors: a 2D numpy array representing other vectors (of the size NxD, where N is the number of vectors and D is their dimension)\n",
    "\n",
    "    Returns: a numpy array of cosine similarity between all the vectors and all the other vectors\n",
    "\n",
    "    \"\"\"\n",
    "\n",
    "    #### YOUR CODE HERE\n",
    "    # Here we compute L2 norms for each set of vectors\n",
    "    vec_norms = np.linalg.norm(vectors, axis=1, keepdims=True)\n",
    "    other_norms = np.linalg.norm(other_vectors, axis=1, keepdims=True)\n",
    "\n",
    "    # to avoid division by zero we replaced zeros with ones\n",
    "    vec_norms[vec_norms == 0] = 1\n",
    "    other_norms[other_norms == 0] = 1\n",
    "\n",
    "    # Normalize the vectors\n",
    "    normed_vectors = vectors / vec_norms\n",
    "    normed_other = other_vectors / other_norms\n",
    "\n",
    "    # Compute cosine similarity matrix: (M x D) dot (D x N) -> M x N\n",
    "    similarity_matrix = np.dot(normed_vectors, normed_other.T)\n",
    "    return similarity_matrix\n",
    "    ### YOUR CODE ENDS HERE"
   ]
  },
  {
   "cell_type": "markdown",
   "metadata": {
    "id": "qQ-Yhl1Sgoka",
    "pycharm": {
     "name": "#%% md\n"
    }
   },
   "source": [
    "The following function will use your implementation to calculate Recall@K based on the similarity matrix."
   ]
  },
  {
   "cell_type": "code",
   "execution_count": 144,
   "metadata": {
    "id": "z0sLS3uRCfdh",
    "pycharm": {
     "name": "#%%\n"
    },
    "ExecuteTime": {
     "end_time": "2025-04-22T17:24:52.885539Z",
     "start_time": "2025-04-22T17:24:52.796647Z"
    }
   },
   "outputs": [],
   "source": [
    "def calculate_recall(queries, sentences, k, batch_size=1000):\n",
    "    \"\"\"\n",
    "    Calculates recall@k given the embeddings of the queries and sentences.\n",
    "    Assumes that only a single sentence with the same index as query is relevant.\n",
    "    Batching is implemented to avoid high memory usage.\n",
    "    Args:\n",
    "        queries: a numpy array with the embeddings of N queries\n",
    "        sentences: a numpy array with the embeddings of N sentences available for retrieval\n",
    "        k: number of top results to search for the relevant sentence\n",
    "        batch_size: number of queries to process at a time\n",
    "\n",
    "    Returns: calculated recall@k\n",
    "\n",
    "    \"\"\"\n",
    "    n_queries = queries.shape[0]\n",
    "    correct = np.zeros(n_queries, dtype=bool)\n",
    "\n",
    "    with tqdm(total=n_queries) as pbar:\n",
    "        for batch_start in range(0, n_queries, batch_size):\n",
    "            batch_end = min(batch_start + batch_size, n_queries)\n",
    "            queries_batch = queries[batch_start:batch_end]\n",
    "            batch_similarity = cosine_similarity_m_to_n(queries_batch, sentences)\n",
    "\n",
    "            for i, similarity_row in enumerate(batch_similarity):\n",
    "                query_index = batch_start + i\n",
    "                top_k = top_k_indices(similarity_row, k=k, sorted=False)\n",
    "\n",
    "                if query_index in top_k:\n",
    "                    correct[query_index] = True\n",
    "\n",
    "                pbar.update(1)\n",
    "\n",
    "    recall = np.sum(correct) / n_queries\n",
    "    return recall"
   ]
  },
  {
   "cell_type": "markdown",
   "metadata": {
    "id": "3QgAgMiDgw8m",
    "pycharm": {
     "name": "#%% md\n"
    }
   },
   "source": [
    "You can use it like so:"
   ]
  },
  {
   "cell_type": "code",
   "execution_count": 145,
   "metadata": {
    "id": "Yxpex7ZxHM7c",
    "pycharm": {
     "name": "#%%\n"
    },
    "ExecuteTime": {
     "end_time": "2025-04-22T17:25:08.542089Z",
     "start_time": "2025-04-22T17:24:53.734942Z"
    }
   },
   "outputs": [
    {
     "name": "stderr",
     "output_type": "stream",
     "text": [
      "100%|██████████| 36000/36000 [00:14<00:00, 2433.45it/s]"
     ]
    },
    {
     "name": "stdout",
     "output_type": "stream",
     "text": [
      "\n",
      "61.01%\n"
     ]
    },
    {
     "name": "stderr",
     "output_type": "stream",
     "text": [
      "\n"
     ]
    }
   ],
   "source": [
    "recall_at_1 = calculate_recall(compr_embedding, sent_embedding, k=1, batch_size=1000)\n",
    "print(f'\\n{recall_at_1 * 100:.2f}%')"
   ]
  },
  {
   "cell_type": "markdown",
   "metadata": {
    "id": "zY5ZVq5ogzMI",
    "pycharm": {
     "name": "#%% md\n"
    }
   },
   "source": [
    "<a name='e15'></a>\n",
    "### Exercise 15: Evaluating retrieval methods\n",
    "\n",
    "(10p) Calculate recall for different values of $K$ for all methods:\n",
    "- BOW,\n",
    "- TF-IDF,\n",
    "- Pre-trained embeddings.\n",
    "\n",
    "Discuss the results.\n",
    "Comment on how recall changes based on the value of $K$. Are the results expected or surprising?"
   ]
  },
  {
   "cell_type": "code",
   "execution_count": null,
   "metadata": {
    "collapsed": false,
    "pycharm": {
     "name": "#%%\n"
    },
    "ExecuteTime": {
     "start_time": "2025-04-22T15:50:34.678457Z"
    }
   },
   "outputs": [],
   "source": [
    "#### YOUR CODE HERE\n",
    "\n",
    "\n",
    "\n",
    "### YOUR CODE ENDS HERE"
   ]
  },
  {
   "cell_type": "markdown",
   "metadata": {
    "collapsed": false,
    "pycharm": {
     "name": "#%% md\n"
    }
   },
   "source": [
    "<a name='e16'></a>\n",
    "### Exercise 16: Improving retrieval\n",
    "\n",
    "(10p) Imagine that you work at a company and are tasked with delivering the best retrieval method. Select the most promising one and try to improve the scores (e.g. by changing the vocab size, loading different model, etc.).\n",
    "Discuss the results you achieve, even if you didn't manage to improve the scores."
   ]
  },
  {
   "cell_type": "code",
   "execution_count": null,
   "metadata": {
    "id": "YA9bEm5ehMq8",
    "pycharm": {
     "name": "#%%\n"
    },
    "ExecuteTime": {
     "start_time": "2025-04-22T15:50:34.678524Z"
    }
   },
   "outputs": [],
   "source": [
    "#### YOUR CODE HERE\n",
    "\n",
    "\n",
    "\n",
    "### YOUR CODE ENDS HERE"
   ]
  },
  {
   "cell_type": "markdown",
   "metadata": {
    "collapsed": false,
    "pycharm": {
     "name": "#%% md\n"
    }
   },
   "source": [
    "// your comments"
   ]
  }
 ],
 "metadata": {
  "colab": {
   "provenance": [],
   "toc_visible": true
  },
  "kernelspec": {
   "display_name": ".venv",
   "language": "python",
   "name": "python3"
  },
  "language_info": {
   "codemirror_mode": {
    "name": "ipython",
    "version": 3
   },
   "file_extension": ".py",
   "mimetype": "text/x-python",
   "name": "python",
   "nbconvert_exporter": "python",
   "pygments_lexer": "ipython3",
   "version": "3.12.2"
  }
 },
 "nbformat": 4,
 "nbformat_minor": 0
}

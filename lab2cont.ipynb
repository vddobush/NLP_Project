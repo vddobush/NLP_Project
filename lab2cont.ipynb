{
 "cells": [
  {
   "cell_type": "markdown",
   "metadata": {
    "collapsed": false,
    "id": "od2YkWY8pSOC",
    "pycharm": {
     "name": "#%% md\n"
    }
   },
   "source": [
    "# NLP 2025\n",
    "# Lab 2: Word Vectors and Information Retrieval\n",
    "\n",
    "During the first few weeks, we discussed various ways to represent text 📝. One key question was: What should be the basic unit of representation? Words are the fundamental building blocks 🧱.\n",
    "\n",
    "In this lab, we will explore different text representation models, such as Bag-of-Words (BoW), TF-IDF and word embeddings 🔤➡️🔢. Among these, word embeddings are the most effective in terms of performance. They represent each word as a vector of numbers, where each vector captures the meaning of the word 🧠📊.\n",
    "\n",
    "These numerical representations (or weights) are learned using machine learning models 🤖. We’ll dive deeper into how these vectors are learned in the next lecture 📚.\n",
    "\n",
    "For now, we’ll focus on how different representation methods affect performance in an information retrieval task 🔍."
   ]
  },
  {
   "cell_type": "markdown",
   "metadata": {
    "collapsed": false,
    "id": "s93LS5bspSOD",
    "pycharm": {
     "name": "#%% md\n"
    }
   },
   "source": [
    "By the end of this lab, you should be able to:\n",
    "\n",
    "+ 🧼🔁 Implement and/or use built-in functions to preprocess your data (once again!)\n",
    "+ 🧱👜 Build a Bag-of-Words representation of the dataset\n",
    "+ 📊✨ Implement TF-IDF\n",
    "+ 📥🔤 Load pre-trained word embeddings\n",
    "+ 🔍🧠 Inspect and test word embedding properties\n",
    "+ 🗣️➡️📐 Use word embeddings to get sentence representations (aka sentence embeddings)\n",
    "+ 🧩🔎 Use sentence embeddings to solve more complex tasks like information retrieval\n",
    "+ 🧪📏 Design evaluation frameworks for specific NLP tasks and assess their difficulty\n",
    "\n",
    "### Score breakdown\n",
    "\n",
    "| Exercise            | Points |\n",
    "|---------------------|--------|\n",
    "| [Exercise 1](#e1)   | 1      |\n",
    "| [Exercise 2](#e2)   | 1      |\n",
    "| [Exercise 3](#e3)   | 1      |\n",
    "| [Exercise 4](#e4)   | 1      |\n",
    "| [Exercise 5](#e5)   | 1      |\n",
    "| [Exercise 6](#e6)   | 2      |\n",
    "| [Exercise 7](#e7)   | 10     |\n",
    "| [Exercise 8](#e8)   | 5      |\n",
    "| [Exercise 9](#e9)   | 15     |\n",
    "| [Exercise 10](#e10) | 10     |\n",
    "| [Exercise 11](#e11) | 10     |\n",
    "| [Exercise 12](#e12) | 5      |\n",
    "| [Exercise 13](#e13) | 15     |\n",
    "| [Exercise 14](#e14) | 3      |\n",
    "| [Exercise 15](#e15) | 10     |\n",
    "| [Exercise 16](#e16) | 10     |\n",
    "| Total               | 100    |\n",
    "\n",
    "This score will be scaled down to 1 and that will be your final lab score.\n",
    "\n",
    "### 📌 **Instructions for Delivery** (📅 **Deadline: 18/Apr 18:00**, 🎭 *wildcards possible*)\n",
    "\n",
    "✅ **Submission Requirements**\n",
    "+ 📄 You need to submit a **PDF of your report** (use the templates provided in **LaTeX** 🖋️ (*preferred*) or **Word** 📑) and a **copy of your notebook** 📓 with the code.\n",
    "+ ⚡ Make sure that **all cells are executed properly** ⚙️ and that **all figures/results/plots** 📊 you include in the report are also visible in your **executed notebook**.\n",
    "\n",
    "✅ **Collaboration & Integrity**\n",
    "+ 🗣️ While you may **discuss** the lab with others, you must **write your solutions with your group only**. If you **discuss specific tasks** with others, please **include their names** in the appendix of the report.\n",
    "+ 📜 **Honor Code applies** to this lab. For more details, check **Syllabus §7.2** ⚖️.\n",
    "+ 📢 **Mandatory Disclosure**:\n",
    "   - Any **websites** 🌐 (e.g., **Stack Overflow** 💡) or **other resources** used must be **listed and disclosed**.\n",
    "   - Any **GenAI tools** 🤖 (e.g., **ChatGPT**) used must be **explicitly mentioned**.\n",
    "   - 🚨 **Failure to disclose these resources is a violation of academic integrity**. See **Syllabus §7.3** for details."
   ]
  },
  {
   "cell_type": "markdown",
   "metadata": {
    "collapsed": false,
    "id": "aHYGq5RUpSOD",
    "pycharm": {
     "name": "#%% md\n"
    }
   },
   "source": [
    "## 0. Setup\n",
    "\n",
    "As in the last lab, we will be using huggingface datasets library ([https://huggingface.co/datasets](https://huggingface.co/datasets)). You can find the detailed documentation and tutorials here: [https://huggingface.co/docs/datasets/en/index](https://huggingface.co/docs/datasets/en/index)\n",
    "\n",
    "If you don't have it installed you can run the code below or install it via `pip` in your terminal. If you are using Google Colab, you can uncomment and run the code below in a code cell. Restarting of the runtime may be required after installation (Runtime/Restart session)."
   ]
  },
  {
   "cell_type": "code",
   "metadata": {
    "id": "rhEG8hKrpSOE",
    "pycharm": {
     "name": "#%%\n"
    },
    "ExecuteTime": {
     "end_time": "2025-04-20T20:50:25.612155Z",
     "start_time": "2025-04-20T20:50:15.122634Z"
    }
   },
   "source": [
    "#! pip install -U datasets~=3.5.0\n",
    "#! pip install -U gensim\n",
    "#! python -m pip install -U matplotlib\n",
    "#! pip install nltk\n",
    "#! pip install -U scikit-learn"
   ],
   "outputs": [
    {
     "name": "stdout",
     "output_type": "stream",
     "text": [
      "Requirement already satisfied: datasets~=3.5.0 in /opt/anaconda3/lib/python3.12/site-packages (3.5.0)\r\n",
      "Requirement already satisfied: filelock in /opt/anaconda3/lib/python3.12/site-packages (from datasets~=3.5.0) (3.18.0)\r\n",
      "Requirement already satisfied: numpy>=1.17 in /opt/anaconda3/lib/python3.12/site-packages (from datasets~=3.5.0) (1.26.4)\r\n",
      "Requirement already satisfied: pyarrow>=15.0.0 in /opt/anaconda3/lib/python3.12/site-packages (from datasets~=3.5.0) (19.0.1)\r\n",
      "Requirement already satisfied: dill<0.3.9,>=0.3.0 in /opt/anaconda3/lib/python3.12/site-packages (from datasets~=3.5.0) (0.3.8)\r\n",
      "Requirement already satisfied: pandas in /opt/anaconda3/lib/python3.12/site-packages (from datasets~=3.5.0) (2.2.3)\r\n",
      "Requirement already satisfied: requests>=2.32.2 in /opt/anaconda3/lib/python3.12/site-packages (from datasets~=3.5.0) (2.32.3)\r\n",
      "Requirement already satisfied: tqdm>=4.66.3 in /opt/anaconda3/lib/python3.12/site-packages (from datasets~=3.5.0) (4.67.1)\r\n",
      "Requirement already satisfied: xxhash in /opt/anaconda3/lib/python3.12/site-packages (from datasets~=3.5.0) (3.5.0)\r\n",
      "Requirement already satisfied: multiprocess<0.70.17 in /opt/anaconda3/lib/python3.12/site-packages (from datasets~=3.5.0) (0.70.16)\r\n",
      "Requirement already satisfied: fsspec<=2024.12.0,>=2023.1.0 in /opt/anaconda3/lib/python3.12/site-packages (from fsspec[http]<=2024.12.0,>=2023.1.0->datasets~=3.5.0) (2024.12.0)\r\n",
      "Requirement already satisfied: aiohttp in /opt/anaconda3/lib/python3.12/site-packages (from datasets~=3.5.0) (3.11.17)\r\n",
      "Requirement already satisfied: huggingface-hub>=0.24.0 in /opt/anaconda3/lib/python3.12/site-packages (from datasets~=3.5.0) (0.30.2)\r\n",
      "Requirement already satisfied: packaging in /opt/anaconda3/lib/python3.12/site-packages (from datasets~=3.5.0) (25.0)\r\n",
      "Requirement already satisfied: pyyaml>=5.1 in /opt/anaconda3/lib/python3.12/site-packages (from datasets~=3.5.0) (6.0.2)\r\n",
      "Requirement already satisfied: aiohappyeyeballs>=2.3.0 in /opt/anaconda3/lib/python3.12/site-packages (from aiohttp->datasets~=3.5.0) (2.6.1)\r\n",
      "Requirement already satisfied: aiosignal>=1.1.2 in /opt/anaconda3/lib/python3.12/site-packages (from aiohttp->datasets~=3.5.0) (1.3.2)\r\n",
      "Requirement already satisfied: attrs>=17.3.0 in /opt/anaconda3/lib/python3.12/site-packages (from aiohttp->datasets~=3.5.0) (25.3.0)\r\n",
      "Requirement already satisfied: frozenlist>=1.1.1 in /opt/anaconda3/lib/python3.12/site-packages (from aiohttp->datasets~=3.5.0) (1.6.0)\r\n",
      "Requirement already satisfied: multidict<7.0,>=4.5 in /opt/anaconda3/lib/python3.12/site-packages (from aiohttp->datasets~=3.5.0) (6.4.3)\r\n",
      "Requirement already satisfied: propcache>=0.2.0 in /opt/anaconda3/lib/python3.12/site-packages (from aiohttp->datasets~=3.5.0) (0.3.1)\r\n",
      "Requirement already satisfied: yarl<2.0,>=1.17.0 in /opt/anaconda3/lib/python3.12/site-packages (from aiohttp->datasets~=3.5.0) (1.20.0)\r\n",
      "Requirement already satisfied: typing-extensions>=3.7.4.3 in /opt/anaconda3/lib/python3.12/site-packages (from huggingface-hub>=0.24.0->datasets~=3.5.0) (4.13.2)\r\n",
      "Requirement already satisfied: charset-normalizer<4,>=2 in /opt/anaconda3/lib/python3.12/site-packages (from requests>=2.32.2->datasets~=3.5.0) (3.4.1)\r\n",
      "Requirement already satisfied: idna<4,>=2.5 in /opt/anaconda3/lib/python3.12/site-packages (from requests>=2.32.2->datasets~=3.5.0) (3.10)\r\n",
      "Requirement already satisfied: urllib3<3,>=1.21.1 in /opt/anaconda3/lib/python3.12/site-packages (from requests>=2.32.2->datasets~=3.5.0) (2.4.0)\r\n",
      "Requirement already satisfied: certifi>=2017.4.17 in /opt/anaconda3/lib/python3.12/site-packages (from requests>=2.32.2->datasets~=3.5.0) (2025.1.31)\r\n",
      "Requirement already satisfied: python-dateutil>=2.8.2 in /opt/anaconda3/lib/python3.12/site-packages (from pandas->datasets~=3.5.0) (2.9.0.post0)\r\n",
      "Requirement already satisfied: pytz>=2020.1 in /opt/anaconda3/lib/python3.12/site-packages (from pandas->datasets~=3.5.0) (2025.2)\r\n",
      "Requirement already satisfied: tzdata>=2022.7 in /opt/anaconda3/lib/python3.12/site-packages (from pandas->datasets~=3.5.0) (2025.2)\r\n",
      "Requirement already satisfied: six>=1.5 in /opt/anaconda3/lib/python3.12/site-packages (from python-dateutil>=2.8.2->pandas->datasets~=3.5.0) (1.17.0)\r\n",
      "Requirement already satisfied: gensim in /opt/anaconda3/lib/python3.12/site-packages (4.3.3)\r\n",
      "Requirement already satisfied: numpy<2.0,>=1.18.5 in /opt/anaconda3/lib/python3.12/site-packages (from gensim) (1.26.4)\r\n",
      "Requirement already satisfied: scipy<1.14.0,>=1.7.0 in /opt/anaconda3/lib/python3.12/site-packages (from gensim) (1.13.1)\r\n",
      "Requirement already satisfied: smart-open>=1.8.1 in /opt/anaconda3/lib/python3.12/site-packages (from gensim) (5.2.1)\r\n",
      "Requirement already satisfied: matplotlib in /opt/anaconda3/lib/python3.12/site-packages (3.10.1)\r\n",
      "Requirement already satisfied: contourpy>=1.0.1 in /opt/anaconda3/lib/python3.12/site-packages (from matplotlib) (1.2.0)\r\n",
      "Requirement already satisfied: cycler>=0.10 in /opt/anaconda3/lib/python3.12/site-packages (from matplotlib) (0.11.0)\r\n",
      "Requirement already satisfied: fonttools>=4.22.0 in /opt/anaconda3/lib/python3.12/site-packages (from matplotlib) (4.51.0)\r\n",
      "Requirement already satisfied: kiwisolver>=1.3.1 in /opt/anaconda3/lib/python3.12/site-packages (from matplotlib) (1.4.4)\r\n",
      "Requirement already satisfied: numpy>=1.23 in /opt/anaconda3/lib/python3.12/site-packages (from matplotlib) (1.26.4)\r\n",
      "Requirement already satisfied: packaging>=20.0 in /opt/anaconda3/lib/python3.12/site-packages (from matplotlib) (25.0)\r\n",
      "Requirement already satisfied: pillow>=8 in /opt/anaconda3/lib/python3.12/site-packages (from matplotlib) (10.4.0)\r\n",
      "Requirement already satisfied: pyparsing>=2.3.1 in /opt/anaconda3/lib/python3.12/site-packages (from matplotlib) (3.1.2)\r\n",
      "Requirement already satisfied: python-dateutil>=2.7 in /opt/anaconda3/lib/python3.12/site-packages (from matplotlib) (2.9.0.post0)\r\n",
      "Requirement already satisfied: six>=1.5 in /opt/anaconda3/lib/python3.12/site-packages (from python-dateutil>=2.7->matplotlib) (1.17.0)\r\n",
      "Requirement already satisfied: nltk in /opt/anaconda3/lib/python3.12/site-packages (3.9.1)\r\n",
      "Requirement already satisfied: click in /opt/anaconda3/lib/python3.12/site-packages (from nltk) (8.1.7)\r\n",
      "Requirement already satisfied: joblib in /opt/anaconda3/lib/python3.12/site-packages (from nltk) (1.4.2)\r\n",
      "Requirement already satisfied: regex>=2021.8.3 in /opt/anaconda3/lib/python3.12/site-packages (from nltk) (2024.9.11)\r\n",
      "Requirement already satisfied: tqdm in /opt/anaconda3/lib/python3.12/site-packages (from nltk) (4.67.1)\r\n",
      "Requirement already satisfied: scikit-learn in /opt/anaconda3/lib/python3.12/site-packages (1.6.1)\r\n",
      "Requirement already satisfied: numpy>=1.19.5 in /opt/anaconda3/lib/python3.12/site-packages (from scikit-learn) (1.26.4)\r\n",
      "Requirement already satisfied: scipy>=1.6.0 in /opt/anaconda3/lib/python3.12/site-packages (from scikit-learn) (1.13.1)\r\n",
      "Requirement already satisfied: joblib>=1.2.0 in /opt/anaconda3/lib/python3.12/site-packages (from scikit-learn) (1.4.2)\r\n",
      "Requirement already satisfied: threadpoolctl>=3.1.0 in /opt/anaconda3/lib/python3.12/site-packages (from scikit-learn) (3.5.0)\r\n"
     ]
    }
   ],
   "execution_count": 35
  },
  {
   "cell_type": "markdown",
   "metadata": {
    "collapsed": false,
    "pycharm": {
     "name": "#%% md\n"
    }
   },
   "source": [
    "Previously installed datasets library version of 3.2.0 had an error when combined with numpy version >2. If you encounter an error at some point it might require to update the datasets library to the newer version. You can do that by running the code below. If you are using Google Colab, you can run the code below in a code cell. If you are using Jupyter Notebook, you can run the code below in a code cell or in a terminal."
   ]
  },
  {
   "cell_type": "code",
   "metadata": {
    "collapsed": false,
    "pycharm": {
     "name": "#%%\n"
    },
    "ExecuteTime": {
     "end_time": "2025-04-20T20:50:25.628782Z",
     "start_time": "2025-04-20T20:50:25.623802Z"
    }
   },
   "source": [
    "# ! pip install --upgrade --force-reinstall datasets"
   ],
   "outputs": [],
   "execution_count": 36
  },
  {
   "cell_type": "markdown",
   "metadata": {
    "collapsed": false,
    "id": "5CCI1TPJpSOF",
    "pycharm": {
     "name": "#%% md\n"
    }
   },
   "source": [
    "As usual, we start by importing some essential Python libraries and we will be using. Apart from `gensim` (which is going to be used for word embeddings), we have already seen the others."
   ]
  },
  {
   "cell_type": "code",
   "metadata": {
    "id": "CRe8W4hKpSOF",
    "pycharm": {
     "name": "#%%\n"
    },
    "ExecuteTime": {
     "end_time": "2025-04-20T21:03:43.642310Z",
     "start_time": "2025-04-20T21:03:43.627904Z"
    }
   },
   "source": [
    "# import re\n",
    "#\n",
    "# import numpy as np\n",
    "# import matplotlib.pyplot as plt\n",
    "# import datasets\n",
    "# import nltk\n",
    "# import tqdm\n",
    "# import gensim\n",
    "#\n",
    "# nltk.download('punkt_tab')punkt_tab"
   ],
   "outputs": [
    {
     "name": "stderr",
     "output_type": "stream",
     "text": [
      "[nltk_data] Downloading package punkt_tab to /Users/apple/nltk_data...\n",
      "[nltk_data]   Package punkt_tab is already up-to-date!\n"
     ]
    },
    {
     "data": {
      "text/plain": [
       "True"
      ]
     },
     "execution_count": 70,
     "metadata": {},
     "output_type": "execute_result"
    }
   ],
   "execution_count": 70
  },
  {
   "cell_type": "markdown",
   "metadata": {
    "collapsed": false,
    "id": "NXy-1KiCpSOF",
    "pycharm": {
     "name": "#%% md\n"
    }
   },
   "source": [
    "## 1. Load and Preprocess Data\n",
    "\n",
    "*Sentence compression* involves rephrasing sentences to make them shorter while still retaining the original meaning. A reliable compression system would be valuable for mobile devices and could also serve as a component in an extractive summarization system.\n",
    "\n",
    "The dataset we are going to use can be found on [Huggingface](https://huggingface.co/datasets/embedding-data/sentence-compression). It concerns a set of 180,000 pairs of sentences, aka it is a parallel corpus of sentences and their equivalent compressions. It has been collected by harvesting news articles from the Internet where the headline appears to be similar to the first sentence and that property is used to find an \"extractive\" compression of the sentence.\n",
    "\n",
    "For example, for the sentence\n",
    "\n",
    "`\"Regulators Friday shut down a small Florida bank, bringing to 119 the number of US bank failures this year amid mounting loan defaults\"`\n",
    "\n",
    "the compressed equivalent (based on the dataset) is:\n",
    "\n",
    "`\"Regulators shut down small Florida bank\"`.\n",
    "\n",
    "\n",
    "For more information you can read the original paper (from Google) [here](https://aclanthology.org/D13-1155.pdf). We strongly recommend going over the paper to gain further insights. Notice that the paper is from 2013, therefore word embeddings have not been widely introduced yet in NLP tasks, meaning that the methods applied were based on the traditional NLP pipeline (feature extraction + ML)."
   ]
  },
  {
   "cell_type": "markdown",
   "metadata": {
    "collapsed": false,
    "id": "ztJX2GRVpSOF",
    "pycharm": {
     "name": "#%% md\n"
    }
   },
   "source": [
    "### 1.1 Loading the Dataset\n",
    "\n",
    "The dataset will be loaded as a Pandas DataFrame. This may take a few minutes because of the large size of the data.\n",
    "\n",
    "Make sure to inspect the dataset and make sure it is imported properly."
   ]
  },
  {
   "cell_type": "code",
   "metadata": {
    "id": "tay2NXPTpSOG",
    "pycharm": {
     "name": "#%%\n"
    },
    "ExecuteTime": {
     "end_time": "2025-04-20T20:50:27.697073Z",
     "start_time": "2025-04-20T20:50:26.394450Z"
    }
   },
   "source": [
    "import nltk.corpus\n",
    "\n",
    "ds = datasets.load_dataset('embedding-data/sentence-compression')\n",
    "print(ds)"
   ],
   "outputs": [
    {
     "name": "stdout",
     "output_type": "stream",
     "text": [
      "DatasetDict({\n",
      "    train: Dataset({\n",
      "        features: ['set'],\n",
      "        num_rows: 180000\n",
      "    })\n",
      "})\n"
     ]
    }
   ],
   "execution_count": 38
  },
  {
   "cell_type": "code",
   "metadata": {
    "id": "bUud3eZVpSOH",
    "pycharm": {
     "name": "#%%\n"
    },
    "ExecuteTime": {
     "end_time": "2025-04-20T20:50:27.885768Z",
     "start_time": "2025-04-20T20:50:27.877878Z"
    }
   },
   "source": [
    "for i in range(10):\n",
    "    print(ds['train'][i])"
   ],
   "outputs": [
    {
     "name": "stdout",
     "output_type": "stream",
     "text": [
      "{'set': [\"The USHL completed an expansion draft on Monday as 10 players who were on the rosters of USHL teams during the 2009-10 season were selected by the League's two newest entries, the Muskegon Lumberjacks and Dubuque Fighting Saints.\", 'USHL completes expansion draft']}\n",
      "{'set': ['Major League Baseball Commissioner Bud Selig will be speaking at St. Norbert College next month.', 'Bud Selig to speak at St. Norbert College']}\n",
      "{'set': [\"It's fresh cherry time in Michigan and the best time to enjoy this delicious and nutritious fruit.\", \"It's cherry time\"]}\n",
      "{'set': ['An Evesham man is facing charges in Pennsylvania after he allegedly dragged his girlfriend from the side of his pickup truck on the campus of Kutztown University in the early morning hours of Dec. 5, police said.', 'Evesham man faces charges for Pa.']}\n",
      "{'set': [\"NRT LLC, one of the nation's largest residential real estate brokerage companies, announced several executive appointments within its Coldwell Banker Residential Brokerage operations in Southern California.\", 'NRT announces executive appointments at its Coldwell Banker operations in Southern California']}\n",
      "{'set': ['THE JSE kept toying with an all time high by midday today as resources continued to fuel the bourse.', 'JSE keeps toying with all time high']}\n",
      "{'set': ['The government is defending the latest police crime statistics despite a worrying rise in the recorded amount of violent offending.', 'Government defends crime statistics']}\n",
      "{'set': ['The renovated Marappalam bridge, which had been opened for two-wheelers last week, was opened for other vehicles also on Friday.', 'Marappalam bridge opened']}\n",
      "{'set': ['A new survey shows 30 percent of Californians use Twitter, and more and more of us are using our smart phones to go online.', 'Survey: 30 percent of Californians use Twitter']}\n",
      "{'set': ['Brightpoint ,a provider of logistic services to the mobile industry, has started operations in the Turkish market.', 'Brightpoint starts operations on Turkish market']}\n"
     ]
    }
   ],
   "execution_count": 39
  },
  {
   "cell_type": "markdown",
   "metadata": {
    "collapsed": false,
    "id": "HfJSiWxrpSOH",
    "pycharm": {
     "name": "#%% md\n"
    }
   },
   "source": [
    "The dataset comes with only the `train` split so we will have to split it ourselves."
   ]
  },
  {
   "cell_type": "code",
   "metadata": {
    "id": "tATL53MWpSOH",
    "pycharm": {
     "name": "#%%\n"
    },
    "ExecuteTime": {
     "end_time": "2025-04-20T20:50:28.069092Z",
     "start_time": "2025-04-20T20:50:27.959129Z"
    }
   },
   "source": [
    "split_ds = ds['train'].train_test_split(test_size=0.2)\n",
    "print(split_ds)"
   ],
   "outputs": [
    {
     "name": "stdout",
     "output_type": "stream",
     "text": [
      "DatasetDict({\n",
      "    train: Dataset({\n",
      "        features: ['set'],\n",
      "        num_rows: 144000\n",
      "    })\n",
      "    test: Dataset({\n",
      "        features: ['set'],\n",
      "        num_rows: 36000\n",
      "    })\n",
      "})\n"
     ]
    }
   ],
   "execution_count": 40
  },
  {
   "cell_type": "markdown",
   "metadata": {
    "collapsed": false,
    "id": "L133t3CqpSOH",
    "pycharm": {
     "name": "#%% md\n"
    }
   },
   "source": [
    "### 1.2 Preprocessing the dataset\n",
    "In this section we will prepare the dataset, aka clean the sentences and tokenize.\n",
    "\n",
    "First, let's write the function to clean the text. It can be similar to the one from the previous lab (Lab1) but make sure that it makes sense for this dataset and task.\n",
    "\n",
    "More specifically, think about lower-casing, punctuation, stop-words and lemmatization/stemming and the impact it might have on the dataset. Also reflect on the fact that with word embeddings we want to uncover semantic relationships between words, whereas with bag-of-words we were trying to capture different morphological variations."
   ]
  },
  {
   "cell_type": "markdown",
   "metadata": {
    "collapsed": false,
    "id": "mQszN6GNpSOH",
    "pycharm": {
     "name": "#%% md\n"
    }
   },
   "source": [
    "<a name='e1'></a>\n",
    "### Exercise 1: Clean function\n",
    "(1p) Fill in the following function ot clean the dataset. Implement at least 3 different steps."
   ]
  },
  {
   "cell_type": "code",
   "metadata": {
    "id": "TxjfLQj6pSOH",
    "pycharm": {
     "name": "#%%\n"
    },
    "ExecuteTime": {
     "end_time": "2025-04-20T20:50:28.266392Z",
     "start_time": "2025-04-20T20:50:28.254624Z"
    }
   },
   "source": [
    "def clean(text):\n",
    "    \"\"\"\n",
    "    Cleans the given text\n",
    "    Args:\n",
    "        text: a str with the text to clean\n",
    "\n",
    "    Returns: a str with the cleaned text\n",
    "\n",
    "    \"\"\"\n",
    "\n",
    "    # Empty text\n",
    "    if text == '':\n",
    "        return text\n",
    "\n",
    "    # 'text' from the example can be of type numpy.str_, let's convert it to a python str\n",
    "    text = str(text)\n",
    "\n",
    "    #you might need more\n",
    "    #add them here\n",
    "\n",
    "    ### YOUR CODE HERE\n",
    "#those functions delete all uppercase letters but without multiple Capital letters like CNN US.\n",
    "\n",
    "    text = re.sub(r'\\b([A-Z][a-z]+)\\b', lambda m: m.group(1).lower(), text)\n",
    "    text = re.sub(r'\\b([A-Z])(?![A-Z])\\b', lambda m: m.group(1).lower(), text)\n",
    "\n",
    "    #keeps only letters and numbers BUT keeps ' if its between two letters like in the word don't\n",
    "    text = re.sub(r\"(?<!\\w)'|'(?!\\w)\", \"\", text)\n",
    "\n",
    "    #gets rid of all special characters but numbers letters and apostrophes\n",
    "    text = re.sub(r\"[^\\w\\s']\", \"\", text)\n",
    "\n",
    "    #Question to a friend: How did you do the stopping words part? (Caetano Allesie)\n",
    "    #written with help of copilot\n",
    "    stop_words =  set(nltk.corpus.stopwords.words('english'))\n",
    "    words = text.split()\n",
    "    stop_words_words = []\n",
    "    for word in words:\n",
    "        if word not in stop_words:\n",
    "            stop_words_words.append(word)\n",
    "    text =\" \".join(stop_words_words)\n",
    "    ### YOUR CODE ENDS HERE\n",
    "\n",
    "    text = text.strip()\n",
    "\n",
    "    # Update the example with the cleaned text\n",
    "    return text"
   ],
   "outputs": [],
   "execution_count": 41
  },
  {
   "cell_type": "markdown",
   "metadata": {
    "collapsed": false,
    "id": "gAqf1AoupSOJ",
    "pycharm": {
     "name": "#%% md\n"
    }
   },
   "source": [
    "The following function will apply the function (sic) you just wrote to the whole dataset. More specifically, it takes the first entry (`sentence`) from the set of uncompressed/compressed pairs, applies the `clean` function and saves the processed sentence in the field `clean_sentence`. The same is dome for the compressed version of the sentence (saved as `clean_compressed`)."
   ]
  },
  {
   "metadata": {
    "ExecuteTime": {
     "end_time": "2025-04-20T20:50:28.581969Z",
     "start_time": "2025-04-20T20:50:28.577182Z"
    }
   },
   "cell_type": "code",
   "source": "print(clean(\"'Hers' amunition don't 'aint yay!!!$%# \"))",
   "outputs": [
    {
     "name": "stdout",
     "output_type": "stream",
     "text": [
      "hers amunition don't aint yay\n"
     ]
    }
   ],
   "execution_count": 42
  },
  {
   "cell_type": "code",
   "metadata": {
    "id": "WZn-M4_vpSOJ",
    "pycharm": {
     "name": "#%%\n"
    },
    "ExecuteTime": {
     "end_time": "2025-04-20T20:50:28.672773Z",
     "start_time": "2025-04-20T20:50:28.667133Z"
    }
   },
   "source": [
    "def clean_dataset(example):\n",
    "    \"\"\"\n",
    "    Cleans the sentence and compressed sentence in the example from the Dataset\n",
    "    Args:\n",
    "        example: an example from the Dataset\n",
    "\n",
    "    Returns: updated example with 'clean_sentence' and 'clean_compressed' cleaned\n",
    "\n",
    "    \"\"\"\n",
    "    sentence, compressed = example['set']\n",
    "    clean_sentence = clean(sentence)\n",
    "    clean_compressed = clean(compressed)\n",
    "    example['clean_sentence'] = clean_sentence\n",
    "    example['clean_compressed'] = clean_compressed\n",
    "    return example"
   ],
   "outputs": [],
   "execution_count": 43
  },
  {
   "cell_type": "markdown",
   "metadata": {
    "collapsed": false,
    "id": "_KVujosKpSOJ",
    "pycharm": {
     "name": "#%% md\n"
    }
   },
   "source": [
    "Below we apply the function to the whole dataset (using `map`) and we can also inspect the result."
   ]
  },
  {
   "cell_type": "code",
   "metadata": {
    "id": "NBS1JbISpSOJ",
    "pycharm": {
     "name": "#%%\n"
    },
    "ExecuteTime": {
     "end_time": "2025-04-20T20:50:56.604567Z",
     "start_time": "2025-04-20T20:50:29.026946Z"
    }
   },
   "source": [
    "split_ds = split_ds.map(clean_dataset)\n",
    "print(split_ds)"
   ],
   "outputs": [
    {
     "data": {
      "text/plain": [
       "Map:   0%|          | 0/144000 [00:00<?, ? examples/s]"
      ],
      "application/vnd.jupyter.widget-view+json": {
       "version_major": 2,
       "version_minor": 0,
       "model_id": "abb962fe08204483bd015ecf68912cc1"
      }
     },
     "metadata": {},
     "output_type": "display_data"
    },
    {
     "data": {
      "text/plain": [
       "Map:   0%|          | 0/36000 [00:00<?, ? examples/s]"
      ],
      "application/vnd.jupyter.widget-view+json": {
       "version_major": 2,
       "version_minor": 0,
       "model_id": "580bc43659ad4248af95851d9d685a54"
      }
     },
     "metadata": {},
     "output_type": "display_data"
    },
    {
     "name": "stdout",
     "output_type": "stream",
     "text": [
      "DatasetDict({\n",
      "    train: Dataset({\n",
      "        features: ['set', 'clean_sentence', 'clean_compressed'],\n",
      "        num_rows: 144000\n",
      "    })\n",
      "    test: Dataset({\n",
      "        features: ['set', 'clean_sentence', 'clean_compressed'],\n",
      "        num_rows: 36000\n",
      "    })\n",
      "})\n"
     ]
    }
   ],
   "execution_count": 44
  },
  {
   "cell_type": "markdown",
   "metadata": {
    "collapsed": false,
    "id": "X_ThE9H-pSOJ",
    "pycharm": {
     "name": "#%% md\n"
    }
   },
   "source": [
    "Let's examine some examples from the dataset and make sure that we got the results we wanted. At this step, it might be necessary to revisit some pre-processing steps if you are not happy with the results."
   ]
  },
  {
   "cell_type": "code",
   "metadata": {
    "id": "hP-qOPijpSOJ",
    "pycharm": {
     "name": "#%%\n"
    },
    "ExecuteTime": {
     "end_time": "2025-04-20T20:50:56.633206Z",
     "start_time": "2025-04-20T20:50:56.626278Z"
    }
   },
   "source": [
    "for i in range(10):\n",
    "    print(split_ds['train'][i])"
   ],
   "outputs": [
    {
     "name": "stdout",
     "output_type": "stream",
     "text": [
      "{'set': ['The Internet of Everything is expected to enable global private sector businesses to generate at least US$613bn in global profits in 2013, according to the IoE Value Index study released by Cisco.', 'Internet of everything expected to generate US$613bn in profits in 2013'], 'clean_sentence': 'the internet of everything is expected to enable global private sector businesses to generate at least US613bn in global profits in 2013 according to the IoE value index study released by cisco', 'clean_compressed': 'internet of everything expected to generate US613bn in profits in 2013'}\n",
      "{'set': ['Melissa St. Vil was allegedly attacked by Roger Mayweather , the uncle and head trainer of Floyd Mayweather, Jr. He was charged with coercion with force and battery strangulation this weekend in Las Vegas.', 'Melissa St. Vil attacked by Roger Mayweather'], 'clean_sentence': 'melissa st vil was allegedly attacked by roger mayweather  the uncle and head trainer of floyd mayweather jr he was charged with coercion with force and battery strangulation this weekend in las vegas', 'clean_compressed': 'melissa st vil attacked by roger mayweather'}\n",
      "{'set': ['Alan Pardew will meet Demba Ba this week in an attempt to assure the striker his remains a key part of the Newcastle project.', 'Alan Pardew to meet Demba Ba'], 'clean_sentence': 'alan pardew will meet demba ba this week in an attempt to assure the striker his remains a key part of the newcastle project', 'clean_compressed': 'alan pardew to meet demba ba'}\n",
      "{'set': ['Police are appealing for public assistance following a brawl at a smash repairer in western Sydney this afternoon.nnAbout 4pm police were called to Toongabbie Road, Girraween, after a group of up to 20 males attended the premises and were involved in a brawl with staff.nnDuring the incident a six males were assaulted.', 'Police appeal for public assistance following brawl --'], 'clean_sentence': 'police are appealing for public assistance following a brawl at a smash repairer in western sydney this afternoonnnAbout 4pm police were called to toongabbie road girraween after a group of up to 20 males attended the premises and were involved in a brawl with staffnnDuring the incident a six males were assaulted', 'clean_compressed': 'police appeal for public assistance following brawl'}\n",
      "{'set': ['A former Rossville youth minister and coach was sentenced to 15 years in prison for abusing a teenage boy.', 'Former minister sentenced to 15 years'], 'clean_sentence': 'a former rossville youth minister and coach was sentenced to 15 years in prison for abusing a teenage boy', 'clean_compressed': 'former minister sentenced to 15 years'}\n",
      "{'set': ['In 2010, Ukraine is expected to increase maize sowing areas.', 'Ukraine to increase maize sowing areas'], 'clean_sentence': 'in 2010 ukraine is expected to increase maize sowing areas', 'clean_compressed': 'ukraine to increase maize sowing areas'}\n",
      "{'set': ['With the NDP forming another majority government, farmers can expect more of the same when it comes to agricultural policy at a provincial level, according to the president of Keystone Agricultural Producers.', 'Farmers expect more of the same:'], 'clean_sentence': 'with the NDP forming another majority government farmers can expect more of the same when it comes to agricultural policy at a provincial level according to the president of keystone agricultural producers', 'clean_compressed': 'farmers expect more of the same'}\n",
      "{'set': ['The Aditya Birla group will invest more than Rs 400 crore in growing its apparel retail business under group company Aditya Birla Nuvo, as the conglomerate shapes up its plan to shift the garments business from wholesale to a retail-oriented play.', 'Aditya Birla group to invest More than Rs 400 crore in apparel retail business'], 'clean_sentence': 'the aditya birla group will invest more than rs 400 crore in growing its apparel retail business under group company aditya birla nuvo as the conglomerate shapes up its plan to shift the garments business from wholesale to a retailoriented play', 'clean_compressed': 'aditya birla group to invest more than rs 400 crore in apparel retail business'}\n",
      "{'set': ['Jo Daviess County Sheriff Leo Hefel reports that his office received information that a possible lottery scam was attempted in Jo Daviess County.', 'Scam attempted in Jo Daviess County'], 'clean_sentence': 'jo daviess county sheriff leo hefel reports that his office received information that a possible lottery scam was attempted in jo daviess county', 'clean_compressed': 'scam attempted in jo daviess county'}\n",
      "{'set': ['Indian companies can no longer count on dollar credit as a cheap funding alternative to expensive domestic borrowings.', 'Indian companies no longer count on dollar credit'], 'clean_sentence': 'indian companies can no longer count on dollar credit as a cheap funding alternative to expensive domestic borrowings', 'clean_compressed': 'indian companies no longer count on dollar credit'}\n"
     ]
    }
   ],
   "execution_count": 45
  },
  {
   "cell_type": "markdown",
   "metadata": {
    "collapsed": false,
    "id": "7LI2KlfypSOJ",
    "pycharm": {
     "name": "#%% md\n"
    }
   },
   "source": [
    "<a name='e2'></a>\n",
    "### Exercise 2: Tokenize function\n",
    "\n",
    "(1p) As always, we will need to tokenize the dataset in order to create bat-of-words and TF-IDF representations in the next sections. We will use the [Natural Language Toolkit (NLTK) library]([https://www.nltk.org/]) (https://www.nltk.org/). Complete the following function to split the text into tokens using the `word_tokenize()` function. Check the [documentation](https://www.nltk.org/api/nltk.tokenize.word_tokenize.html?highlight=word_tokenize) first.\n",
    "Note that there are different tokenizers e.g. `RegexpTokenizer` where you can enter your own regexp, `WhitespaceTokenizer` (similar to Python's string.split()) and `BlanklineTokenizer`."
   ]
  },
  {
   "cell_type": "code",
   "metadata": {
    "id": "sb-M3V6ApSOK",
    "pycharm": {
     "name": "#%%\n"
    },
    "ExecuteTime": {
     "end_time": "2025-04-20T20:50:56.811117Z",
     "start_time": "2025-04-20T20:50:56.806290Z"
    }
   },
   "source": [
    "def tokenize(text):\n",
    "    \"\"\"\n",
    "    Tokenizes the `text` parameter using nltk library\n",
    "    Args:\n",
    "        text: a string representing a sentence to be tokenized\n",
    "\n",
    "    Returns: a list of tokens (strings)\n",
    "\n",
    "    \"\"\"\n",
    "\n",
    "    ### YOUR CODE HERE\n",
    "    tokens = nltk.word_tokenize(text)\n",
    "    ### YOUR CODE ENDS HERE\n",
    "    return tokens"
   ],
   "outputs": [],
   "execution_count": 46
  },
  {
   "cell_type": "markdown",
   "metadata": {
    "collapsed": false,
    "id": "gwsHqZc9pSOK",
    "pycharm": {
     "name": "#%% md\n"
    }
   },
   "source": [
    "Next, the function will be applied to the whole dataset (as we did with the pre-processing) and `sentence_tokens` field will be created to store the result."
   ]
  },
  {
   "cell_type": "code",
   "metadata": {
    "id": "6sTX-AcTpSOK",
    "pycharm": {
     "name": "#%%\n"
    },
    "ExecuteTime": {
     "end_time": "2025-04-20T20:50:56.958968Z",
     "start_time": "2025-04-20T20:50:56.955391Z"
    }
   },
   "source": [
    "def tokenize_dataset(example):\n",
    "    \"\"\"\n",
    "    Tokenizes 'clean_sentence' columns in the example from the Dataset\n",
    "    Args:\n",
    "        example: an example from the Dataset\n",
    "\n",
    "    Returns: updated example with 'sentence_tokens' columns\n",
    "\n",
    "    \"\"\"\n",
    "    example['sentence_tokens'] = tokenize(example['clean_sentence'])\n",
    "    example['compressed_tokens'] = tokenize(example['clean_compressed'])\n",
    "    return example"
   ],
   "outputs": [],
   "execution_count": 47
  },
  {
   "cell_type": "code",
   "metadata": {
    "id": "jvwmXLj2pSOK",
    "pycharm": {
     "name": "#%%\n"
    },
    "ExecuteTime": {
     "end_time": "2025-04-20T20:51:39.238303Z",
     "start_time": "2025-04-20T20:50:57.104425Z"
    }
   },
   "source": [
    "split_ds = split_ds.map(tokenize_dataset)"
   ],
   "outputs": [
    {
     "data": {
      "text/plain": [
       "Map:   0%|          | 0/144000 [00:00<?, ? examples/s]"
      ],
      "application/vnd.jupyter.widget-view+json": {
       "version_major": 2,
       "version_minor": 0,
       "model_id": "0a8a480011cf4ae481749ec6b63c7265"
      }
     },
     "metadata": {},
     "output_type": "display_data"
    },
    {
     "data": {
      "text/plain": [
       "Map:   0%|          | 0/36000 [00:00<?, ? examples/s]"
      ],
      "application/vnd.jupyter.widget-view+json": {
       "version_major": 2,
       "version_minor": 0,
       "model_id": "7863d684e2d74e03b342f5702d5d57e2"
      }
     },
     "metadata": {},
     "output_type": "display_data"
    }
   ],
   "execution_count": 48
  },
  {
   "cell_type": "code",
   "metadata": {
    "id": "yXnje31SpSOK",
    "pycharm": {
     "name": "#%%\n"
    },
    "ExecuteTime": {
     "end_time": "2025-04-20T20:51:39.366808Z",
     "start_time": "2025-04-20T20:51:39.358551Z"
    }
   },
   "source": [
    "for i in range(10):\n",
    "    print(split_ds['train'][i])"
   ],
   "outputs": [
    {
     "name": "stdout",
     "output_type": "stream",
     "text": [
      "{'set': ['The Internet of Everything is expected to enable global private sector businesses to generate at least US$613bn in global profits in 2013, according to the IoE Value Index study released by Cisco.', 'Internet of everything expected to generate US$613bn in profits in 2013'], 'clean_sentence': 'the internet of everything is expected to enable global private sector businesses to generate at least US613bn in global profits in 2013 according to the IoE value index study released by cisco', 'clean_compressed': 'internet of everything expected to generate US613bn in profits in 2013', 'sentence_tokens': ['the', 'internet', 'of', 'everything', 'is', 'expected', 'to', 'enable', 'global', 'private', 'sector', 'businesses', 'to', 'generate', 'at', 'least', 'US613bn', 'in', 'global', 'profits', 'in', '2013', 'according', 'to', 'the', 'IoE', 'value', 'index', 'study', 'released', 'by', 'cisco'], 'compressed_tokens': ['internet', 'of', 'everything', 'expected', 'to', 'generate', 'US613bn', 'in', 'profits', 'in', '2013']}\n",
      "{'set': ['Melissa St. Vil was allegedly attacked by Roger Mayweather , the uncle and head trainer of Floyd Mayweather, Jr. He was charged with coercion with force and battery strangulation this weekend in Las Vegas.', 'Melissa St. Vil attacked by Roger Mayweather'], 'clean_sentence': 'melissa st vil was allegedly attacked by roger mayweather  the uncle and head trainer of floyd mayweather jr he was charged with coercion with force and battery strangulation this weekend in las vegas', 'clean_compressed': 'melissa st vil attacked by roger mayweather', 'sentence_tokens': ['melissa', 'st', 'vil', 'was', 'allegedly', 'attacked', 'by', 'roger', 'mayweather', 'the', 'uncle', 'and', 'head', 'trainer', 'of', 'floyd', 'mayweather', 'jr', 'he', 'was', 'charged', 'with', 'coercion', 'with', 'force', 'and', 'battery', 'strangulation', 'this', 'weekend', 'in', 'las', 'vegas'], 'compressed_tokens': ['melissa', 'st', 'vil', 'attacked', 'by', 'roger', 'mayweather']}\n",
      "{'set': ['Alan Pardew will meet Demba Ba this week in an attempt to assure the striker his remains a key part of the Newcastle project.', 'Alan Pardew to meet Demba Ba'], 'clean_sentence': 'alan pardew will meet demba ba this week in an attempt to assure the striker his remains a key part of the newcastle project', 'clean_compressed': 'alan pardew to meet demba ba', 'sentence_tokens': ['alan', 'pardew', 'will', 'meet', 'demba', 'ba', 'this', 'week', 'in', 'an', 'attempt', 'to', 'assure', 'the', 'striker', 'his', 'remains', 'a', 'key', 'part', 'of', 'the', 'newcastle', 'project'], 'compressed_tokens': ['alan', 'pardew', 'to', 'meet', 'demba', 'ba']}\n",
      "{'set': ['Police are appealing for public assistance following a brawl at a smash repairer in western Sydney this afternoon.nnAbout 4pm police were called to Toongabbie Road, Girraween, after a group of up to 20 males attended the premises and were involved in a brawl with staff.nnDuring the incident a six males were assaulted.', 'Police appeal for public assistance following brawl --'], 'clean_sentence': 'police are appealing for public assistance following a brawl at a smash repairer in western sydney this afternoonnnAbout 4pm police were called to toongabbie road girraween after a group of up to 20 males attended the premises and were involved in a brawl with staffnnDuring the incident a six males were assaulted', 'clean_compressed': 'police appeal for public assistance following brawl', 'sentence_tokens': ['police', 'are', 'appealing', 'for', 'public', 'assistance', 'following', 'a', 'brawl', 'at', 'a', 'smash', 'repairer', 'in', 'western', 'sydney', 'this', 'afternoonnnAbout', '4pm', 'police', 'were', 'called', 'to', 'toongabbie', 'road', 'girraween', 'after', 'a', 'group', 'of', 'up', 'to', '20', 'males', 'attended', 'the', 'premises', 'and', 'were', 'involved', 'in', 'a', 'brawl', 'with', 'staffnnDuring', 'the', 'incident', 'a', 'six', 'males', 'were', 'assaulted'], 'compressed_tokens': ['police', 'appeal', 'for', 'public', 'assistance', 'following', 'brawl']}\n",
      "{'set': ['A former Rossville youth minister and coach was sentenced to 15 years in prison for abusing a teenage boy.', 'Former minister sentenced to 15 years'], 'clean_sentence': 'a former rossville youth minister and coach was sentenced to 15 years in prison for abusing a teenage boy', 'clean_compressed': 'former minister sentenced to 15 years', 'sentence_tokens': ['a', 'former', 'rossville', 'youth', 'minister', 'and', 'coach', 'was', 'sentenced', 'to', '15', 'years', 'in', 'prison', 'for', 'abusing', 'a', 'teenage', 'boy'], 'compressed_tokens': ['former', 'minister', 'sentenced', 'to', '15', 'years']}\n",
      "{'set': ['In 2010, Ukraine is expected to increase maize sowing areas.', 'Ukraine to increase maize sowing areas'], 'clean_sentence': 'in 2010 ukraine is expected to increase maize sowing areas', 'clean_compressed': 'ukraine to increase maize sowing areas', 'sentence_tokens': ['in', '2010', 'ukraine', 'is', 'expected', 'to', 'increase', 'maize', 'sowing', 'areas'], 'compressed_tokens': ['ukraine', 'to', 'increase', 'maize', 'sowing', 'areas']}\n",
      "{'set': ['With the NDP forming another majority government, farmers can expect more of the same when it comes to agricultural policy at a provincial level, according to the president of Keystone Agricultural Producers.', 'Farmers expect more of the same:'], 'clean_sentence': 'with the NDP forming another majority government farmers can expect more of the same when it comes to agricultural policy at a provincial level according to the president of keystone agricultural producers', 'clean_compressed': 'farmers expect more of the same', 'sentence_tokens': ['with', 'the', 'NDP', 'forming', 'another', 'majority', 'government', 'farmers', 'can', 'expect', 'more', 'of', 'the', 'same', 'when', 'it', 'comes', 'to', 'agricultural', 'policy', 'at', 'a', 'provincial', 'level', 'according', 'to', 'the', 'president', 'of', 'keystone', 'agricultural', 'producers'], 'compressed_tokens': ['farmers', 'expect', 'more', 'of', 'the', 'same']}\n",
      "{'set': ['The Aditya Birla group will invest more than Rs 400 crore in growing its apparel retail business under group company Aditya Birla Nuvo, as the conglomerate shapes up its plan to shift the garments business from wholesale to a retail-oriented play.', 'Aditya Birla group to invest More than Rs 400 crore in apparel retail business'], 'clean_sentence': 'the aditya birla group will invest more than rs 400 crore in growing its apparel retail business under group company aditya birla nuvo as the conglomerate shapes up its plan to shift the garments business from wholesale to a retailoriented play', 'clean_compressed': 'aditya birla group to invest more than rs 400 crore in apparel retail business', 'sentence_tokens': ['the', 'aditya', 'birla', 'group', 'will', 'invest', 'more', 'than', 'rs', '400', 'crore', 'in', 'growing', 'its', 'apparel', 'retail', 'business', 'under', 'group', 'company', 'aditya', 'birla', 'nuvo', 'as', 'the', 'conglomerate', 'shapes', 'up', 'its', 'plan', 'to', 'shift', 'the', 'garments', 'business', 'from', 'wholesale', 'to', 'a', 'retailoriented', 'play'], 'compressed_tokens': ['aditya', 'birla', 'group', 'to', 'invest', 'more', 'than', 'rs', '400', 'crore', 'in', 'apparel', 'retail', 'business']}\n",
      "{'set': ['Jo Daviess County Sheriff Leo Hefel reports that his office received information that a possible lottery scam was attempted in Jo Daviess County.', 'Scam attempted in Jo Daviess County'], 'clean_sentence': 'jo daviess county sheriff leo hefel reports that his office received information that a possible lottery scam was attempted in jo daviess county', 'clean_compressed': 'scam attempted in jo daviess county', 'sentence_tokens': ['jo', 'daviess', 'county', 'sheriff', 'leo', 'hefel', 'reports', 'that', 'his', 'office', 'received', 'information', 'that', 'a', 'possible', 'lottery', 'scam', 'was', 'attempted', 'in', 'jo', 'daviess', 'county'], 'compressed_tokens': ['scam', 'attempted', 'in', 'jo', 'daviess', 'county']}\n",
      "{'set': ['Indian companies can no longer count on dollar credit as a cheap funding alternative to expensive domestic borrowings.', 'Indian companies no longer count on dollar credit'], 'clean_sentence': 'indian companies can no longer count on dollar credit as a cheap funding alternative to expensive domestic borrowings', 'clean_compressed': 'indian companies no longer count on dollar credit', 'sentence_tokens': ['indian', 'companies', 'can', 'no', 'longer', 'count', 'on', 'dollar', 'credit', 'as', 'a', 'cheap', 'funding', 'alternative', 'to', 'expensive', 'domestic', 'borrowings'], 'compressed_tokens': ['indian', 'companies', 'no', 'longer', 'count', 'on', 'dollar', 'credit']}\n"
     ]
    }
   ],
   "execution_count": 49
  },
  {
   "cell_type": "markdown",
   "metadata": {
    "collapsed": false,
    "id": "FeF0wFd0pSOL",
    "pycharm": {
     "name": "#%% md\n"
    }
   },
   "source": [
    "Since we will need the tokenized sentences, we can use the following statement to extract them from the `train` split of our dataset."
   ]
  },
  {
   "cell_type": "code",
   "metadata": {
    "id": "qYKfXFxQpSOL",
    "pycharm": {
     "name": "#%%\n"
    },
    "ExecuteTime": {
     "end_time": "2025-04-20T20:51:42.887463Z",
     "start_time": "2025-04-20T20:51:39.481668Z"
    }
   },
   "source": [
    "tokenized_sentences = split_ds['train']['sentence_tokens']\n",
    "print(len(tokenized_sentences))\n",
    "print(tokenized_sentences[:10])"
   ],
   "outputs": [
    {
     "name": "stdout",
     "output_type": "stream",
     "text": [
      "144000\n",
      "[['the', 'internet', 'of', 'everything', 'is', 'expected', 'to', 'enable', 'global', 'private', 'sector', 'businesses', 'to', 'generate', 'at', 'least', 'US613bn', 'in', 'global', 'profits', 'in', '2013', 'according', 'to', 'the', 'IoE', 'value', 'index', 'study', 'released', 'by', 'cisco'], ['melissa', 'st', 'vil', 'was', 'allegedly', 'attacked', 'by', 'roger', 'mayweather', 'the', 'uncle', 'and', 'head', 'trainer', 'of', 'floyd', 'mayweather', 'jr', 'he', 'was', 'charged', 'with', 'coercion', 'with', 'force', 'and', 'battery', 'strangulation', 'this', 'weekend', 'in', 'las', 'vegas'], ['alan', 'pardew', 'will', 'meet', 'demba', 'ba', 'this', 'week', 'in', 'an', 'attempt', 'to', 'assure', 'the', 'striker', 'his', 'remains', 'a', 'key', 'part', 'of', 'the', 'newcastle', 'project'], ['police', 'are', 'appealing', 'for', 'public', 'assistance', 'following', 'a', 'brawl', 'at', 'a', 'smash', 'repairer', 'in', 'western', 'sydney', 'this', 'afternoonnnAbout', '4pm', 'police', 'were', 'called', 'to', 'toongabbie', 'road', 'girraween', 'after', 'a', 'group', 'of', 'up', 'to', '20', 'males', 'attended', 'the', 'premises', 'and', 'were', 'involved', 'in', 'a', 'brawl', 'with', 'staffnnDuring', 'the', 'incident', 'a', 'six', 'males', 'were', 'assaulted'], ['a', 'former', 'rossville', 'youth', 'minister', 'and', 'coach', 'was', 'sentenced', 'to', '15', 'years', 'in', 'prison', 'for', 'abusing', 'a', 'teenage', 'boy'], ['in', '2010', 'ukraine', 'is', 'expected', 'to', 'increase', 'maize', 'sowing', 'areas'], ['with', 'the', 'NDP', 'forming', 'another', 'majority', 'government', 'farmers', 'can', 'expect', 'more', 'of', 'the', 'same', 'when', 'it', 'comes', 'to', 'agricultural', 'policy', 'at', 'a', 'provincial', 'level', 'according', 'to', 'the', 'president', 'of', 'keystone', 'agricultural', 'producers'], ['the', 'aditya', 'birla', 'group', 'will', 'invest', 'more', 'than', 'rs', '400', 'crore', 'in', 'growing', 'its', 'apparel', 'retail', 'business', 'under', 'group', 'company', 'aditya', 'birla', 'nuvo', 'as', 'the', 'conglomerate', 'shapes', 'up', 'its', 'plan', 'to', 'shift', 'the', 'garments', 'business', 'from', 'wholesale', 'to', 'a', 'retailoriented', 'play'], ['jo', 'daviess', 'county', 'sheriff', 'leo', 'hefel', 'reports', 'that', 'his', 'office', 'received', 'information', 'that', 'a', 'possible', 'lottery', 'scam', 'was', 'attempted', 'in', 'jo', 'daviess', 'county'], ['indian', 'companies', 'can', 'no', 'longer', 'count', 'on', 'dollar', 'credit', 'as', 'a', 'cheap', 'funding', 'alternative', 'to', 'expensive', 'domestic', 'borrowings']]\n"
     ]
    }
   ],
   "execution_count": 50
  },
  {
   "cell_type": "code",
   "metadata": {
    "collapsed": false,
    "pycharm": {
     "name": "#%%\n"
    },
    "ExecuteTime": {
     "end_time": "2025-04-20T20:51:44.095351Z",
     "start_time": "2025-04-20T20:51:43.000513Z"
    }
   },
   "source": [
    "tokenized_compressed = split_ds['train']['compressed_tokens']\n",
    "print(len(tokenized_compressed))\n",
    "print(tokenized_compressed[:10])"
   ],
   "outputs": [
    {
     "name": "stdout",
     "output_type": "stream",
     "text": [
      "144000\n",
      "[['internet', 'of', 'everything', 'expected', 'to', 'generate', 'US613bn', 'in', 'profits', 'in', '2013'], ['melissa', 'st', 'vil', 'attacked', 'by', 'roger', 'mayweather'], ['alan', 'pardew', 'to', 'meet', 'demba', 'ba'], ['police', 'appeal', 'for', 'public', 'assistance', 'following', 'brawl'], ['former', 'minister', 'sentenced', 'to', '15', 'years'], ['ukraine', 'to', 'increase', 'maize', 'sowing', 'areas'], ['farmers', 'expect', 'more', 'of', 'the', 'same'], ['aditya', 'birla', 'group', 'to', 'invest', 'more', 'than', 'rs', '400', 'crore', 'in', 'apparel', 'retail', 'business'], ['scam', 'attempted', 'in', 'jo', 'daviess', 'county'], ['indian', 'companies', 'no', 'longer', 'count', 'on', 'dollar', 'credit']]\n"
     ]
    }
   ],
   "execution_count": 51
  },
  {
   "cell_type": "markdown",
   "metadata": {
    "id": "ZDGwEiZeCA5U",
    "pycharm": {
     "name": "#%% md\n"
    }
   },
   "source": [
    "Notice the difference in the types of the different structures we use. Run the following cell to check the types. Do they make sense to you?"
   ]
  },
  {
   "cell_type": "code",
   "metadata": {
    "id": "wKrkFmcZCtOd",
    "pycharm": {
     "name": "#%%\n"
    },
    "ExecuteTime": {
     "end_time": "2025-04-20T20:51:50.748905Z",
     "start_time": "2025-04-20T20:51:44.212416Z"
    }
   },
   "source": [
    "#type of original dataset\n",
    "print(type(split_ds))\n",
    "print(\"--\")\n",
    "#type of original sentence\n",
    "print(split_ds['train'][1])\n",
    "print(type(split_ds['train'][1]))\n",
    "print(\"--\")\n",
    "#type of pre-proceesed sentence\n",
    "print(split_ds['train']['clean_sentence'][1])\n",
    "print(type(split_ds['train']['clean_sentence'][1]))\n",
    "print(\"--\")\n",
    "#type of tokenized sentence\n",
    "print(split_ds['train']['sentence_tokens'][1])\n",
    "print(type(split_ds['train']['sentence_tokens'][1]))\n",
    "print(\"--\")"
   ],
   "outputs": [
    {
     "name": "stdout",
     "output_type": "stream",
     "text": [
      "<class 'datasets.dataset_dict.DatasetDict'>\n",
      "--\n",
      "{'set': ['Melissa St. Vil was allegedly attacked by Roger Mayweather , the uncle and head trainer of Floyd Mayweather, Jr. He was charged with coercion with force and battery strangulation this weekend in Las Vegas.', 'Melissa St. Vil attacked by Roger Mayweather'], 'clean_sentence': 'melissa st vil was allegedly attacked by roger mayweather  the uncle and head trainer of floyd mayweather jr he was charged with coercion with force and battery strangulation this weekend in las vegas', 'clean_compressed': 'melissa st vil attacked by roger mayweather', 'sentence_tokens': ['melissa', 'st', 'vil', 'was', 'allegedly', 'attacked', 'by', 'roger', 'mayweather', 'the', 'uncle', 'and', 'head', 'trainer', 'of', 'floyd', 'mayweather', 'jr', 'he', 'was', 'charged', 'with', 'coercion', 'with', 'force', 'and', 'battery', 'strangulation', 'this', 'weekend', 'in', 'las', 'vegas'], 'compressed_tokens': ['melissa', 'st', 'vil', 'attacked', 'by', 'roger', 'mayweather']}\n",
      "<class 'dict'>\n",
      "--\n",
      "melissa st vil was allegedly attacked by roger mayweather  the uncle and head trainer of floyd mayweather jr he was charged with coercion with force and battery strangulation this weekend in las vegas\n",
      "<class 'str'>\n",
      "--\n",
      "['melissa', 'st', 'vil', 'was', 'allegedly', 'attacked', 'by', 'roger', 'mayweather', 'the', 'uncle', 'and', 'head', 'trainer', 'of', 'floyd', 'mayweather', 'jr', 'he', 'was', 'charged', 'with', 'coercion', 'with', 'force', 'and', 'battery', 'strangulation', 'this', 'weekend', 'in', 'las', 'vegas']\n",
      "<class 'list'>\n",
      "--\n"
     ]
    }
   ],
   "execution_count": 52
  },
  {
   "cell_type": "markdown",
   "metadata": {
    "collapsed": false,
    "pycharm": {
     "name": "#%% md\n"
    }
   },
   "source": [
    "## 2. Bag of Words\n",
    "In this section you will built a bag-of-words representation of the dataset. We will use numpy arrays to store the results. The bag-of-words representation is a simple and effective way to represent text data. It involves creating a vocabulary of unique words from the dataset and representing each sentence as a vector of word counts. We first need the vocabulary, which we will build from both the full sentences and the compressed sentences. Similar to the first lab, the vocabulary will be a list of unique words from the dataset."
   ]
  },
  {
   "cell_type": "markdown",
   "metadata": {
    "collapsed": false,
    "pycharm": {
     "name": "#%% md\n"
    }
   },
   "source": [
    "<a name='e3'></a>\n",
    "### Exercise 3: Extracting vocabulary counts\n",
    "\n",
    "(1p) In the following cell, you will implement a function that takes a list of tokenized sentences and returns a dictionary with the counts of each word in the vocabulary. The dictionary should be of the form {word: count}. As in previous lab, you will use the `Counter` class from the `collections` module to do this."
   ]
  },
  {
   "cell_type": "code",
   "metadata": {
    "collapsed": false,
    "pycharm": {
     "name": "#%%\n"
    },
    "ExecuteTime": {
     "end_time": "2025-04-20T20:51:50.872719Z",
     "start_time": "2025-04-20T20:51:50.868603Z"
    }
   },
   "source": [
    "from collections import Counter\n",
    "\n",
    "\n",
    "def extract_vocabulary_counts(tokenized_sentences):\n",
    "    \"\"\"\n",
    "    Extracts the vocabulary from the tokenized sentences\n",
    "    Args:\n",
    "        tokenized_sentences: a list of lists of tokens\n",
    "\n",
    "    Returns: a Counter object with the counts of each word in the vocabulary\n",
    "    \"\"\"\n",
    "\n",
    "    ### YOUR CODE HERE\n",
    "    # copilot used when writing the code\n",
    "    counter = Counter()\n",
    "    for sentence in tokenized_sentences:\n",
    "        counter.update(sentence)\n",
    "    return counter\n",
    "    ### YOUR CODE ENDS HERE"
   ],
   "outputs": [],
   "execution_count": 53
  },
  {
   "cell_type": "code",
   "metadata": {
    "collapsed": false,
    "pycharm": {
     "name": "#%%\n"
    },
    "ExecuteTime": {
     "end_time": "2025-04-20T20:51:51.813497Z",
     "start_time": "2025-04-20T20:51:50.990884Z"
    }
   },
   "source": [
    "vocab_counter = extract_vocabulary_counts(tokenized_sentences + tokenized_compressed)\n",
    "print(len(vocab_counter))\n",
    "print(vocab_counter.most_common(10))"
   ],
   "outputs": [
    {
     "name": "stdout",
     "output_type": "stream",
     "text": [
      "122779\n",
      "[('the', 182439), ('to', 130401), ('a', 116795), ('in', 112845), ('of', 100533), ('and', 68441), ('on', 56427), ('for', 52015), ('has', 39346), ('with', 31861)]\n"
     ]
    }
   ],
   "execution_count": 54
  },
  {
   "cell_type": "markdown",
   "metadata": {
    "collapsed": false,
    "pycharm": {
     "name": "#%% md\n"
    }
   },
   "source": [
    "As you can see the size of the vocabulary is quite large. Like the last time, we will limit the vocabulary to the most frequent words. The next cell will create a dictionary that maps each word to an index in the vocabulary. This will be used to create the bag-of-words representation of the sentences."
   ]
  },
  {
   "cell_type": "code",
   "metadata": {
    "collapsed": false,
    "pycharm": {
     "name": "#%%\n"
    },
    "ExecuteTime": {
     "end_time": "2025-04-20T20:51:52.387269Z",
     "start_time": "2025-04-20T20:51:52.087416Z"
    }
   },
   "source": [
    "vocab_size = 10_000\n",
    "vocab = vocab_counter.most_common(vocab_size)\n",
    "token_to_id = {word: i for i, (word, _) in enumerate(vocab)}\n",
    "print(token_to_id)"
   ],
   "outputs": [
    {
     "name": "stdout",
     "output_type": "stream",
     "text": [
      "{'the': 0, 'to': 1, 'a': 2, 'in': 3, 'of': 4, 'and': 5, 'on': 6, 'for': 7, 'has': 8, 'with': 9, \"'s\": 10, 'is': 11, 'at': 12, 'that': 13, 'from': 14, 'by': 15, 'as': 16, 'will': 17, 'new': 18, 'said': 19, 'after': 20, 'his': 21, 'its': 22, 'was': 23, 'an': 24, 'it': 25, 'be': 26, 'he': 27, 'have': 28, 'man': 29, 'are': 30, 'been': 31, 'US': 32, 'today': 33, 'police': 34, 'this': 35, 'two': 36, 'their': 37, 'her': 38, 'who': 39, 'first': 40, 'over': 41, 'announced': 42, 'up': 43, 'year': 44, 'tuesday': 45, 'not': 46, 'more': 47, 'against': 48, 'wednesday': 49, 'monday': 50, 'thursday': 51, 'state': 52, 'friday': 53, 'out': 54, 'president': 55, 'former': 56, 'says': 57, 'into': 58, 'world': 59, 'one': 60, 'million': 61, 'city': 62, 'which': 63, 'last': 64, 'according': 65, 'were': 66, 'county': 67, 'woman': 68, 'may': 69, 'saturday': 70, 'about': 71, 'week': 72, 'than': 73, 'sunday': 74, 'years': 75, 'home': 76, 'minister': 77, 'government': 78, 'company': 79, 'three': 80, 'i': 81, 'people': 82, 'she': 83, 'during': 84, 'but': 85, 'they': 86, 'india': 87, 'night': 88, 'when': 89, 'time': 90, 'off': 91, 'killed': 92, 'all': 93, 'bank': 94, 'being': 95, 'day': 96, 'national': 97, 'south': 98, 'next': 99, 'arrested': 100, 'court': 101, 'morning': 102, 'found': 103, 'died': 104, 'had': 105, 'set': 106, 'charged': 107, 'country': 108, 'would': 109, 'school': 110, 'obama': 111, 'could': 112, 'second': 113, 'no': 114, 'back': 115, 'reported': 116, 'market': 117, 'group': 118, 'down': 119, 'international': 120, 'china': 121, 'fire': 122, 'can': 123, 'season': 124, 'team': 125, 'business': 126, 'open': 127, \"n't\": 128, 'while': 129, 'oil': 130, 'house': 131, 'car': 132, 'north': 133, 'news': 134, 'star': 135, 'early': 136, 'prices': 137, 'inc': 138, 'charges': 139, 'high': 140, 'united': 141, 'service': 142, 'reports': 143, 'month': 144, 'now': 145, 'or': 146, 'officials': 147, 'global': 148, 'plans': 149, 'dies': 150, 'following': 151, 'hospital': 152, 'four': 153, 'public': 154, 'some': 155, 'report': 156, 'death': 157, 'guilty': 158, 'billion': 159, 'him': 160, 'american': 161, 'yesterday': 162, 'released': 163, 'services': 164, 'health': 165, 'chief': 166, 'league': 167, 'near': 168, 'office': 169, 'hit': 170, 'pakistan': 171, 'york': 172, 'show': 173, 'end': 174, 'help': 175, 'say': 176, 'west': 177, 'federal': 178, 'under': 179, 'just': 180, 'made': 181, 'most': 182, 'through': 183, 'other': 184, 'financial': 185, 'security': 186, '2012': 187, 'game': 188, 'make': 189, '10': 190, 'take': 191, 'percent': 192, 'economic': 193, 'months': 194, 'accused': 195, 'play': 196, 'indian': 197, 'you': 198, 'five': 199, 'before': 200, 'coach': 201, 'per': 202, 'what': 203, 'another': 204, 'top': 205, 'john': 206, 'life': 207, 'we': 208, 'local': 209, 'launched': 210, 'women': 211, 'official': 212, 'announces': 213, 'should': 214, 'jobs': 215, 'between': 216, 'expected': 217, 'here': 218, 'part': 219, 'work': 220, 'if': 221, 'british': 222, 'dead': 223, 'power': 224, 'party': 225, 'european': 226, 'launches': 227, '1': 228, 'center': 229, 'third': 230, 'university': 231, 'energy': 232, 'deal': 233, 'major': 234, 'general': 235, 'cup': 236, 'trade': 237, 'record': 238, 'crash': 239, 'men': 240, 'shot': 241, 'leader': 242, 'left': 243, 'march': 244, 'officer': 245, 'because': 246, 'UK': 247, 'cut': 248, 'held': 249, 'win': 250, 'return': 251, 'told': 252, 'media': 253, 'get': 254, 'support': 255, 'due': 256, 'stocks': 257, 'close': 258, 'children': 259, 'do': 260, 'days': 261, '2010': 262, 'states': 263, 'club': 264, 'gas': 265, 'air': 266, 'free': 267, 'department': 268, 'street': 269, 'since': 270, 'child': 271, 'online': 272, 'there': 273, 'area': 274, 'head': 275, 'sales': 276, 'economy': 277, 'weekend': 278, 'launch': 279, 'injured': 280, 'london': 281, 'six': 282, 'bill': 283, '2011': 284, 'family': 285, 'series': 286, 'still': 287, 'foreign': 288, 'capital': 289, 'road': 290, 'won': 291, 'release': 292, 'prime': 293, 'mobile': 294, 'visit': 295, 'drug': 296, 'central': 297, 'district': 298, 'start': 299, 'afternoon': 300, 'including': 301, 'shares': 302, 'face': 303, '2': 304, 'military': 305, 'called': 306, 'how': 307, 'where': 308, 'dollar': 309, 'campaign': 310, 'attack': 311, 'quarter': 312, '20': 313, 'board': 314, 'best': 315, 'st': 316, 'students': 317, 'fall': 318, 'them': 319, 'april': 320, 'park': 321, 'tour': 322, 'tax': 323, 'industry': 324, 'june': 325, 'iran': 326, 'david': 327, 'system': 328, 'australia': 329, 'cancer': 330, 'like': 331, 'signed': 332, 'film': 333, 'development': 334, 'stock': 335, 'despite': 336, 'final': 337, 'way': 338, 'across': 339, 'east': 340, 'fell': 341, 'football': 342, 'big': 343, 'data': 344, '11': 345, 'wins': 346, 'markets': 347, 'water': 348, 'council': 349, 'sentenced': 350, 'australian': 351, 'afghanistan': 352, 'pay': 353, 'barack': 354, 'go': 355, 'meeting': 356, 'growth': 357, '2013': 358, 'management': 359, 'leading': 360, 'corp': 361, 'revealed': 362, 'manager': 363, '2009': 364, 'actor': 365, 'so': 366, 'talks': 367, 'contract': 368, 'gold': 369, 'research': 370, 'england': 371, 'around': 372, 'run': 373, 'case': 374, '30': 375, 'plan': 376, 'washington': 377, 'price': 378, 'agency': 379, 'authorities': 380, 'allegedly': 381, 'largest': 382, 'prison': 383, 'food': 384, 'buy': 385, 'director': 386, 'late': 387, 'san': 388, 'move': 389, 'money': 390, 'again': 391, 'host': 392, 'test': 393, 'program': 394, 'firm': 395, 'only': 396, 'wants': 397, 'confirmed': 398, 'number': 399, 'chinese': 400, 'games': 401, '3': 402, 'conference': 403, 'town': 404, 'america': 405, 'crisis': 406, 'private': 407, 'law': 408, 'russia': 409, 'rate': 410, 'michael': 411, 'higher': 412, 'white': 413, 'annual': 414, 'union': 415, 'several': 416, 'increase': 417, 'budget': 418, '12': 419, 'july': 420, 'murder': 421, 'political': 422, '15': 423, 'medical': 424, 'agreement': 425, 'technology': 426, 'network': 427, 'closed': 428, 'good': 429, 'music': 430, 'saying': 431, 'japan': 432, 'workers': 433, 'girl': 434, 'investment': 435, 'young': 436, 'any': 437, 'community': 438, 'lead': 439, 'press': 440, 'actress': 441, 'continue': 442, 'hold': 443, 'share': 444, 'recent': 445, 'college': 446, 'recently': 447, 'canada': 448, 'surgery': 449, 'wife': 450, 'my': 451, 'TV': 452, 'latest': 453, 'nearly': 454, 'provider': 455, 'study': 456, 'right': 457, 'demand': 458, 'taking': 459, 'making': 460, 'companies': 461, 'senior': 462, 'assault': 463, 'well': 464, 'secretary': 465, 'age': 466, 'body': 467, 'shooting': 468, 'live': 469, 'away': 470, 'trial': 471, 'place': 472, 'rose': 473, 'red': 474, 'fight': 475, 'election': 476, 'cent': 477, 'become': 478, 'use': 479, 'sex': 480, 'senate': 481, 'texas': 482, 'rise': 483, '5': 484, 'centre': 485, 'lower': 486, 'special': 487, 'opened': 488, 'production': 489, 'offer': 490, 'southern': 491, 'many': 492, 'baby': 493, 'action': 494, 'french': 495, 'korea': 496, 'care': 497, 'rights': 498, 'january': 499, 'congress': 500, 'going': 501, 'debt': 502, 'war': 503, 'line': 504, 'long': 505, 'meet': 506, 'likely': 507, 'sign': 508, 'store': 509, 'own': 510, 'presidential': 511, 'investors': 512, 'opens': 513, 'forces': 514, 'judge': 515, 'accident': 516, 'named': 517, 'europe': 518, 'signs': 519, 'updated': 520, 'region': 521, 'credit': 522, 'weeks': 523, 'trading': 524, 'rates': 525, 'mark': 526, 'coast': 527, 'facing': 528, 'los': 529, 'singer': 530, 'loss': 531, 'also': 532, 'social': 533, 'video': 534, 'emergency': 535, 'paul': 536, 'israel': 537, 'ahead': 538, 'charge': 539, 'apple': 540, 'building': 541, 'information': 542, 'members': 543, '2008': 544, 'faces': 545, 'california': 546, 'times': 547, 'google': 548, 'points': 549, 'fund': 550, 'both': 551, 'boy': 552, '100': 553, 'strong': 554, 'profit': 555, 'premier': 556, 'governor': 557, 'nuclear': 558, '4': 559, 'russian': 560, 'title': 561, 'nation': 562, 'rs': 563, 'real': 564, 'driver': 565, 'even': 566, 'delhi': 567, 'hours': 568, 'grand': 569, 'least': 570, 'amid': 571, 'german': 572, 'summer': 573, 'filed': 574, 'ago': 575, 'ministry': 576, 'project': 577, 'without': 578, 'plant': 579, 'small': 580, 'products': 581, 'february': 582, 'results': 583, 'banks': 584, 'does': 585, 'call': 586, 'africa': 587, 'future': 588, 'angeles': 589, 'am': 590, 'old': 591, 'working': 592, 'pleaded': 593, 'side': 594, 'past': 595, 'agreed': 596, 'leaders': 597, 'players': 598, 'reportedly': 599, 'army': 600, 'force': 601, 'chairman': 602, 'player': 603, 'student': 604, 'executive': 605, 'took': 606, 'pm': 607, 'heart': 608, 'issued': 609, 'falls': 610, 'calls': 611, 'coming': 612, 'september': 613, 'order': 614, 'interest': 615, 'cash': 616, 'race': 617, 'stop': 618, '25': 619, 'pleads': 620, 'software': 621, 'fourth': 622, 'florida': 623, 'france': 624, 'earlier': 625, 'change': 626, 'bus': 627, 'asian': 628, 'makes': 629, 'northern': 630, 'our': 631, 'beat': 632, 'november': 633, 'seven': 634, 'sell': 635, 'sector': 636, 'site': 637, 'taken': 638, 'human': 639, 'opening': 640, 'leave': 641, 'claims': 642, 'come': 643, 'residents': 644, 'us': 645, 'further': 646, 'victory': 647, 'forward': 648, '14': 649, 'exchange': 650, 'cuts': 651, 'lost': 652, 'role': 653, 'canadian': 654, 'did': 655, 'injury': 656, 'traffic': 657, 'looking': 658, 'education': 659, 'corporation': 660, 'returns': 661, 'need': 662, 'website': 663, 'internet': 664, 'schools': 665, 'republican': 666, 'issue': 667, 'operations': 668, 'bid': 669, 'river': 670, 'your': 671, '13': 672, 'control': 673, 'continues': 674, '21': 675, 'airlines': 676, 'station': 677, 'december': 678, 'planning': 679, 'gov': 680, 'chris': 681, 'half': 682, 'great': 683, 'lake': 684, 'october': 685, 'job': 686, 'israeli': 687, 'killing': 688, 'running': 689, 'brown': 690, 'jail': 691, 'association': 692, 'james': 693, 'issues': 694, '50': 695, 'keep': 696, 'round': 697, 'match': 698, 'policy': 699, 'evening': 700, 'offering': 701, 'sports': 702, 'training': 703, 'fans': 704, 'domestic': 705, '16': 706, 'george': 707, 'august': 708, 'guard': 709, 'suspended': 710, 'raise': 711, 'airport': 712, 'insurance': 713, 'album': 714, 'countries': 715, 'strike': 716, 'co': 717, 'parliament': 718, 'much': 719, 'arrest': 720, '18': 721, 'missing': 722, 'hall': 723, 'key': 724, 'driving': 725, 'island': 726, 'black': 727, 'remains': 728, 'consumer': 729, 'remain': 730, 'put': 731, 'very': 732, 'better': 733, 'vote': 734, 'got': 735, 'train': 736, 'mother': 737, 'must': 738, 'shows': 739, 'ready': 740, 'used': 741, 'full': 742, 'britain': 743, 'property': 744, 'construction': 745, 'vehicle': 746, 'soon': 747, 'biggest': 748, 'commission': 749, 'manchester': 750, 'takes': 751, 'led': 752, '6': 753, 'troops': 754, 'facebook': 755, 'brand': 756, 'trying': 757, 'green': 758, 'getting': 759, 'join': 760, 'current': 761, 'giant': 762, 'son': 763, 'see': 764, 'movie': 765, 'having': 766, 'himself': 767, 'event': 768, 'member': 769, 'eight': 770, 'committee': 771, 'african': 772, 'customers': 773, 'weather': 774, 'western': 775, 'received': 776, 'ended': 777, 'announce': 778, 'bankruptcy': 779, 'low': 780, 'level': 781, 'post': 782, 'sale': 783, 'investigating': 784, 'sold': 785, 'safety': 786, 'turkey': 787, 'robert': 788, 'give': 789, 'stage': 790, 'want': 791, 'officers': 792, 'sexual': 793, 'euro': 794, 'champion': 795, 'statement': 796, 'career': 797, '8': 798, 'tonight': 799, 'elections': 800, 'debut': 801, 'germany': 802, 'finance': 803, '7': 804, 'sri': 805, 'field': 806, 'chicago': 807, '24': 808, 'regional': 809, 'search': 810, 'space': 811, '17': 812, '22': 813, 'among': 814, 'mortgage': 815, 'retail': 816, 'session': 817, 'border': 818, 'hollywood': 819, 'staff': 820, 'iraq': 821, 'ban': 822, 'couple': 823, 'cricket': 824, 'admitted': 825, 'miss': 826, 'solutions': 827, 'behind': 828, 'sen': 829, 'outside': 830, 'awards': 831, 'love': 832, 'suicide': 833, 'violence': 834, 'little': 835, 'opposition': 836, 'history': 837, 'needs': 838, 'jackson': 839, 'warned': 840, 'championship': 841, 'name': 842, 'singh': 843, 'thousands': 844, 'until': 845, 'peace': 846, 'wall': 847, 'along': 848, 'target': 849, 'anniversary': 850, 'justice': 851, 'such': 852, 'recovery': 853, 'later': 854, 'storm': 855, 'valley': 856, 'maker': 857, 'risk': 858, 'fuel': 859, 'microsoft': 860, 'gains': 861, 'provide': 862, 'rock': 863, 'candidate': 864, 'zealand': 865, 'upcoming': 866, 'festival': 867, 'bay': 868, 'offers': 869, 'based': 870, 'loan': 871, 'eastern': 872, 'phone': 873, 'almost': 874, 'struck': 875, 'truck': 876, 'mayor': 877, 'practice': 878, 'within': 879, 'middle': 880, 'beach': 881, 'sent': 882, 'confidence': 883, 'systems': 884, 'selling': 885, 'mexico': 886, 'mumbai': 887, 'using': 888, 'same': 889, 'raised': 890, 'list': 891, 'claimed': 892, 'attacks': 893, 'decision': 894, 'given': 895, 'spending': 896, 'protection': 897, 'olympic': 898, 'protest': 899, 'battle': 900, 'joint': 901, 'award': 902, 'hotel': 903, 'worth': 904, 'growing': 905, 'performance': 906, 'japanese': 907, 'employees': 908, 'ltd': 909, 'church': 910, 'losses': 911, 'officially': 912, 'flu': 913, 'leaving': 914, 'travel': 915, 'positive': 916, 'rally': 917, 'captain': 918, 'husband': 919, 'soldiers': 920, \"'m\": 921, 'ever': 922, 'me': 923, 'funds': 924, 'plane': 925, 'asia': 926, 'those': 927, 'less': 928, 'few': 929, 'build': 930, 'father': 931, 'survey': 932, 'files': 933, 'declared': 934, 'businesses': 935, 'housing': 936, 'acquire': 937, 'reserve': 938, 'serious': 939, 'fraud': 940, 'pressure': 941, 'sheriff': 942, 'owner': 943, 'showed': 944, 'basketball': 945, 'known': 946, 'democratic': 947, 'television': 948, 'administration': 949, 'break': 950, 'alleged': 951, 'boost': 952, '9': 953, 'stay': 954, 'williams': 955, 'cost': 956, 'continued': 957, 'costs': 958, 'robbery': 959, '31': 960, 'too': 961, 'land': 962, 'johnson': 963, '40': 964, '19': 965, 'girls': 966, 'georgia': 967, 'possible': 968, 'asked': 969, 'bush': 970, 'changes': 971, 'boston': 972, 'natural': 973, 'UN': 974, 'sources': 975, 'legal': 976, 'deputy': 977, 'whose': 978, 'interview': 979, 'veteran': 980, 'step': 981, '23': 982, 'defense': 983, 'rep': 984, 'approved': 985, 'act': 986, 'single': 987, 'never': 988, 'joe': 989, 'daily': 990, 'smith': 991, 'returned': 992, 'soldier': 993, 'heavy': 994, 'radio': 995, 'point': 996, 'king': 997, 'attorney': 998, 'daughter': 999, 'supply': 1000, 'begin': 1001, 'lady': 1002, 'why': 1003, 'fired': 1004, 'falling': 1005, 'highway': 1006, 'increased': 1007, 'armed': 1008, 'starting': 1009, 'drive': 1010, 'seen': 1011, 'aid': 1012, 'facility': 1013, 'carolina': 1014, 'mike': 1015, 'hopes': 1016, 'met': 1017, 'champions': 1018, 'futures': 1019, 'de': 1020, 'dr': 1021, 'dropped': 1022, 'main': 1023, 'flights': 1024, 'fiscal': 1025, 'might': 1026, 'inflation': 1027, 'syria': 1028, 'teacher': 1029, 'acquired': 1030, 'gun': 1031, 'failed': 1032, 'commercial': 1033, 'winter': 1034, 'stadium': 1035, 'common': 1036, 'look': 1037, 'unit': 1038, 'stores': 1039, 'convicted': 1040, 'web': 1041, 'martin': 1042, 'every': 1043, 'stars': 1044, 'gets': 1045, 'turned': 1046, 'bond': 1047, 'digital': 1048, 'nine': 1049, 'jailed': 1050, 'justin': 1051, 'total': 1052, 'vice': 1053, 'division': 1054, 'italian': 1055, 'gay': 1056, 'khan': 1057, 'popular': 1058, 'each': 1059, 'baseball': 1060, 'calif': 1061, 'drop': 1062, 'areas': 1063, 'homes': 1064, 'defence': 1065, 'bring': 1066, 'christmas': 1067, 'spring': 1068, 'warning': 1069, 'injuries': 1070, 'find': 1071, 'completed': 1072, '26': 1073, 'efforts': 1074, 'reached': 1075, '27': 1076, 'person': 1077, 'went': 1078, 'front': 1079, 'appointed': 1080, 'decided': 1081, 'nations': 1082, 'scheduled': 1083, 'moving': 1084, 'suffered': 1085, 'spokesman': 1086, 'super': 1087, 'earnings': 1088, 'playing': 1089, 'paid': 1090, 'winning': 1091, 'al': 1092, 'drugs': 1093, 'partnership': 1094, 'bomb': 1095, 'joined': 1096, 'problems': 1097, 'spain': 1098, 'wo': 1099, 'book': 1100, 'investigation': 1101, 'palestinian': 1102, 'raises': 1103, 'large': 1104, 'concerns': 1105, 'begins': 1106, 'term': 1107, 'finally': 1108, 'expand': 1109, 'birth': 1110, 'civil': 1111, 'watch': 1112, 'started': 1113, 'double': 1114, 'conditions': 1115, 'NFL': 1116, 'boss': 1117, 'lanka': 1118, 'jones': 1119, 'connection': 1120, 'passed': 1121, 'tom': 1122, 'ohio': 1123, 'light': 1124, 'hits': 1125, 'treatment': 1126, 'ryan': 1127, 'striker': 1128, 'operation': 1129, 'pakistani': 1130, 'THE': 1131, 'goes': 1132, 'know': 1133, 'index': 1134, 'supreme': 1135, 'projects': 1136, 'once': 1137, 'levels': 1138, 'flight': 1139, 'forced': 1140, 'suspected': 1141, 'steve': 1142, 'published': 1143, 'already': 1144, 'lawsuit': 1145, 'twitter': 1146, 'range': 1147, 'dog': 1148, 'recession': 1149, 'retirement': 1150, 'suspect': 1151, 'ground': 1152, 'criminal': 1153, 'parts': 1154, 'CEO': 1155, 'partner': 1156, 'straight': 1157, 'afghan': 1158, 'yet': 1159, 'cooperation': 1160, 'assets': 1161, 'access': 1162, 'celebrate': 1163, 'band': 1164, 'leaves': 1165, 'banned': 1166, 'ireland': 1167, '500': 1168, 'magazine': 1169, 'involved': 1170, 'michigan': 1171, 'giving': 1172, 'steel': 1173, 'attacked': 1174, 'funding': 1175, 'added': 1176, 'stake': 1177, 'corporate': 1178, 'communications': 1179, 'create': 1180, 'together': 1181, 'assembly': 1182, 'houston': 1183, 'ambassador': 1184, 'sydney': 1185, 'releases': 1186, 'unveiled': 1187, 'turkish': 1188, 'revenue': 1189, 'incident': 1190, 'abuse': 1191, 'fashion': 1192, 'egypt': 1193, 'seeking': 1194, 'jury': 1195, 'net': 1196, 'joins': 1197, 'marriage': 1198, 'reach': 1199, 'patients': 1200, 'peter': 1201, 'saudi': 1202, 'taylor': 1203, 'banking': 1204, 'available': 1205, 'hundreds': 1206, 'personal': 1207, 'reduce': 1208, 'robbed': 1209, 'track': 1210, 'caused': 1211, '28': 1212, 'kill': 1213, 'camp': 1214, 'unemployment': 1215, 'equity': 1216, 'base': 1217, 'liverpool': 1218, 'caught': 1219, 'holiday': 1220, 'romney': 1221, 'industrial': 1222, 'senator': 1223, 'process': 1224, 'living': 1225, 'prince': 1226, 'divorce': 1227, 'condition': 1228, 'gulf': 1229, 'earthquake': 1230, 'improve': 1231, 'kim': 1232, 'marketing': 1233, 'crashed': 1234, 'stabbed': 1235, 'midfielder': 1236, 'sea': 1237, 'celebrates': 1238, 'scott': 1239, 'royal': 1240, 'ruled': 1241, 'wanted': 1242, 'rape': 1243, 'rest': 1244, 'cars': 1245, 'class': 1246, 'worldwide': 1247, 'clinton': 1248, 'posted': 1249, 'solar': 1250, 'perform': 1251, 'jan': 1252, 'tony': 1253, 'tournament': 1254, 'taliban': 1255, 'producer': 1256, 'spanish': 1257, 'arrived': 1258, 'province': 1259, 'platform': 1260, 'birthday': 1261, 'above': 1262, 'village': 1263, 'independent': 1264, 'crime': 1265, 'minor': 1266, 'figures': 1267, 'dubai': 1268, 'minnesota': 1269, 'holding': 1270, 'relations': 1271, 'whether': 1272, 'appeal': 1273, 'syrian': 1274, 'ship': 1275, 'entertainment': 1276, 'disease': 1277, 'channel': 1278, 'korean': 1279, 'blue': 1280, 'manufacturing': 1281, 'damage': 1282, 'proposed': 1283, 'dividend': 1284, 'records': 1285, 'italy': 1286, 'iranian': 1287, 'toronto': 1288, 'below': 1289, 'lee': 1290, 'taiwan': 1291, 'rising': 1292, 'comes': 1293, 'NATO': 1294, 'expects': 1295, 'agent': 1296, 'kansas': 1297, 'came': 1298, 'review': 1299, 'singapore': 1300, 'turn': 1301, 'tomorrow': 1302, 'affairs': 1303, 'broke': 1304, 'rules': 1305, 'massive': 1306, 'fort': 1307, 'stolen': 1308, 'period': 1309, 'far': 1310, 'save': 1311, 'fifth': 1312, 'illegal': 1313, 'inside': 1314, 'admits': 1315, 'youth': 1316, 'split': 1317, 'corruption': 1318, 'gives': 1319, 'chelsea': 1320, 'resources': 1321, 'crude': 1322, 'think': 1323, 'soccer': 1324, 'jersey': 1325, 'direct': 1326, 'ceremony': 1327, 'newspaper': 1328, 'calling': 1329, '29': 1330, 'cases': 1331, 'female': 1332, 'downtown': 1333, 'iPhone': 1334, 'bridge': 1335, 'model': 1336, 'stand': 1337, 'technologies': 1338, 'returning': 1339, 'EU': 1340, 'ordered': 1341, 'primary': 1342, 'institute': 1343, 'operator': 1344, 'urged': 1345, 'moved': 1346, 'threat': 1347, 'fresh': 1348, 'competition': 1349, 'brazil': 1350, 'began': 1351, 'suffering': 1352, 'card': 1353, 'users': 1354, 'kevin': 1355, 'quarterly': 1356, 'concert': 1357, 'then': 1358, 'cause': 1359, 'partners': 1360, 'stealing': 1361, 'helped': 1362, 'planned': 1363, 'others': 1364, 'acquisition': 1365, 'challenge': 1366, 'highest': 1367, 'queen': 1368, 'dollars': 1369, 'extended': 1370, 'researchers': 1371, '200': 1372, 'income': 1373, 'programme': 1374, 'apartment': 1375, 'jennifer': 1376, 'hard': 1377, 'played': 1378, 'appear': 1379, 'coal': 1380, 'las': 1381, 'airline': 1382, 'americans': 1383, 'rises': 1384, 'talk': 1385, 'ties': 1386, 'friends': 1387, 'NBA': 1388, 'source': 1389, 'deficit': 1390, 'ali': 1391, 'fox': 1392, 'iowa': 1393, 'militants': 1394, 'brother': 1395, 'malaysia': 1396, 'short': 1397, 'strategic': 1398, 'gaza': 1399, 'estate': 1400, 'barrel': 1401, 'cabinet': 1402, 'losing': 1403, 'felony': 1404, 'blood': 1405, 'discuss': 1406, 'greece': 1407, 'auto': 1408, 'buying': 1409, 'morgan': 1410, 'previous': 1411, 'potential': 1412, 'louis': 1413, 'seek': 1414, 'address': 1415, 'denied': 1416, \"'re\": 1417, 'product': 1418, 'receive': 1419, 'form': 1420, 'firefighters': 1421, 'boat': 1422, 'compared': 1423, 'weak': 1424, 'bail': 1425, 'perry': 1426, 'towards': 1427, 'voted': 1428, 'vehicles': 1429, 'teachers': 1430, 'limited': 1431, 'girlfriend': 1432, 'focus': 1433, 'overnight': 1434, 'fair': 1435, 'scientists': 1436, '60': 1437, 'acquires': 1438, 'pregnant': 1439, 'groups': 1440, 'parents': 1441, 'adding': 1442, 'offered': 1443, 'tiger': 1444, 'room': 1445, 'pop': 1446, 'hand': 1447, 'scheme': 1448, 'heard': 1449, 'committed': 1450, 'quality': 1451, 'gave': 1452, 'leads': 1453, 'vegas': 1454, 'view': 1455, 'mining': 1456, 'wedding': 1457, 'charity': 1458, 'orders': 1459, 'miami': 1460, 'average': 1461, 'terms': 1462, 'victims': 1463, 'closing': 1464, 'colorado': 1465, 'aircraft': 1466, 'virginia': 1467, 'doctors': 1468, 'bad': 1469, 'starts': 1470, 'indicted': 1471, 'labor': 1472, 'defeat': 1473, 'controversial': 1474, 'port': 1475, 'snow': 1476, 'society': 1477, 'receives': 1478, 'arizona': 1479, 'libya': 1480, 'tried': 1481, 'alex': 1482, 'course': 1483, 'irish': 1484, 'separate': 1485, 'defender': 1486, \"'ll\": 1487, 'friend': 1488, 'writer': 1489, 'authority': 1490, 'protect': 1491, 'operating': 1492, 'academy': 1493, 'cutting': 1494, 'draft': 1495, 'legend': 1496, 'MP': 1497, 'rangers': 1498, 'date': 1499, 'winner': 1500, 'detroit': 1501, 'feb': 1502, 'allow': 1503, 'looks': 1504, 'response': 1505, 'illinois': 1506, 'paris': 1507, 's': 1508, 'teen': 1509, 'boyfriend': 1510, 'sells': 1511, 'jim': 1512, 'rating': 1513, 'andrew': 1514, 'airways': 1515, 'introduced': 1516, 'investigate': 1517, 'different': 1518, 'celebrity': 1519, 'bills': 1520, 'fighting': 1521, 'swine': 1522, 'flat': 1523, 'knee': 1524, 'protesters': 1525, 'memorial': 1526, 'republic': 1527, 'fame': 1528, 'measures': 1529, 'worker': 1530, 'diego': 1531, 'beating': 1532, 'rain': 1533, 'situation': 1534, 'developer': 1535, 'lot': 1536, 'tennis': 1537, 'climate': 1538, 'reform': 1539, 'dec': 1540, 'pirates': 1541, 'exports': 1542, 'fatal': 1543, 'attempt': 1544, 'position': 1545, 'rival': 1546, 'currently': 1547, 'hurricane': 1548, 'dispute': 1549, 'draw': 1550, 'benefits': 1551, 'environment': 1552, 'lose': 1553, 'tim': 1554, 'restaurant': 1555, 'farmers': 1556, 'additional': 1557, 'flood': 1558, \"'ve\": 1559, 'claim': 1560, 'hospitalized': 1561, 'events': 1562, 'completes': 1563, 'grant': 1564, 'teams': 1565, 'electric': 1566, 'poor': 1567, 'rescued': 1568, 'farm': 1569, 'effective': 1570, 'engaged': 1571, 'broken': 1572, 'celebrated': 1573, 'boys': 1574, 'chase': 1575, 'shut': 1576, 'wind': 1577, 'organization': 1578, 'hong': 1579, 'x': 1580, 'worst': 1581, 'madrid': 1582, 'mission': 1583, 'moves': 1584, 'venture': 1585, 'package': 1586, 'effort': 1587, 'hill': 1588, 'rebels': 1589, 'meets': 1590, 'rescue': 1591, 'greek': 1592, 'retire': 1593, 'becoming': 1594, 'decline': 1595, 'turns': 1596, 'hockey': 1597, 'custody': 1598, 'replace': 1599, 'fined': 1600, 'wireless': 1601, 'block': 1602, 'motor': 1603, 'millions': 1604, 'forecast': 1605, 'loans': 1606, 'resigned': 1607, 'dallas': 1608, 'la': 1609, 'squad': 1610, 'victim': 1611, 'beijing': 1612, 'theft': 1613, 'pulled': 1614, 'believes': 1615, 'voters': 1616, 'enough': 1617, 'hearing': 1618, 'kong': 1619, 'saw': 1620, 'golf': 1621, 'azerbaijan': 1622, 'beginning': 1623, 'McCain': 1624, 'conduct': 1625, 'reporting': 1626, 'considering': 1627, 'kelly': 1628, 'critical': 1629, 'kills': 1630, 'pacific': 1631, 'doing': 1632, 'indonesia': 1633, 'slightly': 1634, 'rugby': 1635, 'elected': 1636, 'van': 1637, 'threatened': 1638, 'involving': 1639, 'elderly': 1640, 'though': 1641, 'andy': 1642, 'cell': 1643, 'charlie': 1644, 'believe': 1645, 'mixed': 1646, 'woods': 1647, 'equipment': 1648, 'zone': 1649, 'aug': 1650, 'hope': 1651, 'currency': 1652, 'ends': 1653, 'films': 1654, 'navy': 1655, 'francisco': 1656, 'avoid': 1657, 'gone': 1658, 'important': 1659, 'multiple': 1660, 'resume': 1661, 'cloud': 1662, 'brain': 1663, 'cities': 1664, 'atlanta': 1665, 'ben': 1666, 'successful': 1667, 'runs': 1668, 'summit': 1669, 'arrives': 1670, 'quarterback': 1671, 'sets': 1672, 'resign': 1673, 'lohan': 1674, 'chance': 1675, 'transfer': 1676, 'kardashian': 1677, 'lawmakers': 1678, 'contest': 1679, 'matt': 1680, 'launching': 1681, 'progress': 1682, 'row': 1683, 'bonds': 1684, 'securities': 1685, 'tests': 1686, 'lindsay': 1687, 'holds': 1688, 'english': 1689, 'weapons': 1690, 'environmental': 1691, 'effect': 1692, 'spot': 1693, 'nov': 1694, 'kashmir': 1695, 'industries': 1696, 'oct': 1697, 'computer': 1698, 'tourism': 1699, 'reality': 1700, 'hot': 1701, 'directors': 1702, 'drivers': 1703, 'solution': 1704, 'married': 1705, 'ford': 1706, 'protests': 1707, 'doctor': 1708, 'richard': 1709, 'tribute': 1710, 'terror': 1711, 'headed': 1712, 'harry': 1713, 'trip': 1714, 'kate': 1715, 'version': 1716, 'problem': 1717, 'families': 1718, 'ending': 1719, 'strikes': 1720, 'visits': 1721, 'huge': 1722, 'animal': 1723, 'missouri': 1724, 'ice': 1725, 'ministers': 1726, 'mr': 1727, 'journal': 1728, 'citizens': 1729, 'fears': 1730, 'bringing': 1731, 'forest': 1732, 'trust': 1733, 'seattle': 1734, 'account': 1735, 'impact': 1736, 'develop': 1737, 'foundation': 1738, 'present': 1739, 'raising': 1740, 'parties': 1741, 'severe': 1742, 'showing': 1743, 'headquarters': 1744, 'value': 1745, 'invest': 1746, 'retailer': 1747, 'motors': 1748, 'brought': 1749, 'safe': 1750, 'steps': 1751, 'charles': 1752, 'kids': 1753, 'song': 1754, 'science': 1755, 'manufacturer': 1756, 'sexually': 1757, 'capacity': 1758, 'alliance': 1759, 'township': 1760, 'causing': 1761, 'consumers': 1762, 'seeks': 1763, 'disaster': 1764, 'relationship': 1765, 'cross': 1766, 'seriously': 1767, 'cameron': 1768, 'cleared': 1769, 'remained': 1770, 'ca': 1771, 'became': 1772, 'die': 1773, 'bollywood': 1774, 'minutes': 1775, 'william': 1776, 'result': 1777, 'mass': 1778, 'assistant': 1779, 'rupee': 1780, 'chain': 1781, 'complex': 1782, 'application': 1783, 'sir': 1784, 'arts': 1785, 'professional': 1786, '2007': 1787, 'via': 1788, 'awarded': 1789, 'jack': 1790, 'heat': 1791, 'debate': 1792, 'citing': 1793, 'increasing': 1794, 'recovering': 1795, 'landing': 1796, 'carrier': 1797, 'transport': 1798, 'profits': 1799, 'crimes': 1800, 'ratings': 1801, 'tree': 1802, 'always': 1803, 'quit': 1804, 'activity': 1805, 'scored': 1806, 'simon': 1807, 'leadership': 1808, 'indiana': 1809, 'passes': 1810, 'brian': 1811, 'investor': 1812, 'reelection': 1813, 'barcelona': 1814, 'bob': 1815, 'strategy': 1816, 'bowl': 1817, 'poll': 1818, 'extend': 1819, 'fan': 1820, 'marijuana': 1821, 'metal': 1822, 'increases': 1823, 'milan': 1824, 'associated': 1825, 'attempted': 1826, 'design': 1827, 'distribution': 1828, 'entered': 1829, 'santa': 1830, 'shop': 1831, 'fast': 1832, 'labour': 1833, 'commissioner': 1834, 'expansion': 1835, 'owners': 1836, 'wisconsin': 1837, 'historic': 1838, 'classic': 1839, 'outlook': 1840, 'lawyer': 1841, 'recall': 1842, 'detained': 1843, 'bangladesh': 1844, 'aimed': 1845, 'wayne': 1846, 'expecting': 1847, 'BJP': 1848, 'toyota': 1849, 'cleveland': 1850, 'unveils': 1851, 'auction': 1852, 'schedule': 1853, 'various': 1854, 'needed': 1855, 'art': 1856, 'grow': 1857, 'ongoing': 1858, 'experts': 1859, 'clear': 1860, 'stephen': 1861, 'feels': 1862, 'holdings': 1863, 'stewart': 1864, 'sox': 1865, 'BBC': 1866, 'story': 1867, 'idol': 1868, 'lines': 1869, 'analysts': 1870, 'closes': 1871, 'healthcare': 1872, 'patrick': 1873, 'wide': 1874, 'relief': 1875, 'giants': 1876, 'signing': 1877, 'employee': 1878, 'related': 1879, 'placed': 1880, 'punjab': 1881, 'infrastructure': 1882, 'mountain': 1883, 'carrying': 1884, 'IT': 1885, 'motorcycle': 1886, 'things': 1887, 'denies': 1888, 'candidates': 1889, '1000': 1890, 'lives': 1891, 'allegations': 1892, 'patent': 1893, 'vs': 1894, 'jason': 1895, 'appoints': 1896, 'arsenal': 1897, 'seized': 1898, 'square': 1899, 'helping': 1900, 'spend': 1901, 'happy': 1902, 'thomas': 1903, 'benefit': 1904, 'throughout': 1905, 'telecom': 1906, 'USA': 1907, 'cruise': 1908, 'sony': 1909, 'joining': 1910, 'rick': 1911, 'closer': 1912, 'really': 1913, 'ukraine': 1914, 'struggling': 1915, 'weekly': 1916, 'file': 1917, 'nationwide': 1918, 'moscow': 1919, 'delivery': 1920, 'significant': 1921, 'shopping': 1922, 'terrorism': 1923, 'content': 1924, 'philadelphia': 1925, 'wake': 1926, 'breaks': 1927, 'allen': 1928, 'islamic': 1929, 'expectations': 1930, 'sanctions': 1931, 'attend': 1932, 'embassy': 1933, 'avenue': 1934, 'offices': 1935, 'cast': 1936, 'plants': 1937, 'metro': 1938, 'crashes': 1939, 'II': 1940, 'advanced': 1941, 'cents': 1942, 'orleans': 1943, 'rule': 1944, 'factor': 1945, 'bar': 1946, 'seat': 1947, 'olympics': 1948, 'arab': 1949, 'sarah': 1950, 'declares': 1951, 'kentucky': 1952, 'mitt': 1953, 'regular': 1954, 'swiss': 1955, '32': 1956, 'box': 1957, 'anthony': 1958, 'concern': 1959, 'jessica': 1960, 'disabled': 1961, 'bieber': 1962, 'subsidiary': 1963, 'voice': 1964, 'activities': 1965, 'prevent': 1966, 'works': 1967, 'jets': 1968, 'express': 1969, 'fires': 1970, 'able': 1971, 'developing': 1972, 'scotland': 1973, 'jose': 1974, 'toward': 1975, 'parliamentary': 1976, 'discovered': 1977, 'hosting': 1978, 'app': 1979, 'brazilian': 1980, 'theatre': 1981, 'applications': 1982, 'leg': 1983, 'gordon': 1984, 'pilot': 1985, 'majority': 1986, 'gary': 1987, 'burglary': 1988, 'samsung': 1989, 'ten': 1990, 'enter': 1991, 'apparently': 1992, 'designed': 1993, 'reveals': 1994, 'sentence': 1995, 'sending': 1996, 'DC': 1997, 'standard': 1998, 'offensive': 1999, 'allowed': 2000, 'add': 2001, 'violent': 2002, 'southwest': 2003, 'politics': 2004, 'commerce': 2005, 'created': 2006, 'receiver': 2007, 'secret': 2008, 'try': 2009, 'rare': 2010, 'failing': 2011, 'defensive': 2012, 'davis': 2013, 'complete': 2014, 'rural': 2015, 'patrol': 2016, 'assaulting': 2017, 'dutch': 2018, 'homicide': 2019, 'comedy': 2020, 'spent': 2021, 'cole': 2022, 'windows': 2023, 'battery': 2024, 'polls': 2025, 'extension': 2026, 'purchase': 2027, 'posts': 2028, 'customer': 2029, 'sharply': 2030, 'stimulus': 2031, 'chemical': 2032, 'deadly': 2033, '35': 2034, 'jr': 2035, 'promote': 2036, 'failure': 2037, 'loses': 2038, 'tennessee': 2039, 'visited': 2040, 'coalition': 2041, 'golden': 2042, 'dating': 2043, 'networks': 2044, 'warns': 2045, 'pradesh': 2046, 'immigration': 2047, 'granted': 2048, '75': 2049, 'setting': 2050, 'speech': 2051, 'settlement': 2052, 'confirms': 2053, 'stabbing': 2054, 'advisory': 2055, 'consecutive': 2056, 'helicopter': 2057, 'these': 2058, 'finds': 2059, 'thought': 2060, 'victoria': 2061, 'expands': 2062, 'serve': 2063, 'gain': 2064, 'russell': 2065, 'vietnam': 2066, 'racing': 2067, 'longer': 2068, '300': 2069, 'gaga': 2070, 'technical': 2071, 'iron': 2072, 'send': 2073, 'introduces': 2074, 'melbourne': 2075, 'elizabeth': 2076, 'pick': 2077, 'broadband': 2078, 'experience': 2079, 'pass': 2080, 'arabia': 2081, 'adds': 2082, 'destroyed': 2083, 'serving': 2084, 'developed': 2085, 'heading': 2086, 'satellite': 2087, 'freedom': 2088, 'crew': 2089, 'electronics': 2090, 'speed': 2091, 'passenger': 2092, 'jordan': 2093, 'passengers': 2094, 'recovered': 2095, 'electronic': 2096, 'goal': 2097, 'qatar': 2098, 'kennedy': 2099, 'identified': 2100, 'announcement': 2101, 'possession': 2102, 'forum': 2103, 'hamilton': 2104, 'daniel': 2105, 'supplies': 2106, 'speak': 2107, 'overall': 2108, 'beaten': 2109, 'cover': 2110, 'trend': 2111, 'fine': 2112, 'appearance': 2113, 'comments': 2114, 'success': 2115, 'continuing': 2116, 'previously': 2117, 'phoenix': 2118, 'firms': 2119, 'ring': 2120, 'activists': 2121, 'clash': 2122, 'export': 2123, 'FC': 2124, 'decade': 2125, 'hired': 2126, 'update': 2127, 'alcohol': 2128, 'campus': 2129, 'prix': 2130, 'feel': 2131, 'approves': 2132, 'numbers': 2133, 'strip': 2134, 'christian': 2135, 'sport': 2136, 'activist': 2137, 'tech': 2138, 'appears': 2139, 'nick': 2140, 'advertising': 2141, 'prize': 2142, 'tackle': 2143, 'streets': 2144, 'AP': 2145, 'pace': 2146, 'selected': 2147, 'yahoo': 2148, 'mexican': 2149, 'chapter': 2150, 'wales': 2151, 'providing': 2152, 'electricity': 2153, 'brad': 2154, 'amy': 2155, 'parking': 2156, 'hurt': 2157, 'claiming': 2158, 'palin': 2159, 'kyrgyzstan': 2160, 'sun': 2161, 'sept': 2162, 'hills': 2163, 'evidence': 2164, 'engineering': 2165, 'sites': 2166, 'let': 2167, 'consider': 2168, 'crore': 2169, 'northwest': 2170, 'agriculture': 2171, 'counts': 2172, 'pounds': 2173, 'jet': 2174, 'devices': 2175, 'threats': 2176, 'dangerous': 2177, 'foot': 2178, 'oklahoma': 2179, 'refused': 2180, 'shareholders': 2181, 'democrats': 2182, 'deliver': 2183, 'photo': 2184, 'silver': 2185, 'hour': 2186, 'author': 2187, 'bin': 2188, 'linked': 2189, 'founder': 2190, 'studio': 2191, 'territory': 2192, 'overseas': 2193, 'wounded': 2194, 'wild': 2195, 'threatening': 2196, 'ensure': 2197, 'elementary': 2198, 'enterprise': 2199, 'ruling': 2200, 'dealers': 2201, 'agree': 2202, 'generation': 2203, 'fees': 2204, 'wrong': 2205, 'agencies': 2206, 'honored': 2207, 'formula': 2208, 'assaulted': 2209, 'wilson': 2210, 'improved': 2211, 'palm': 2212, 'n': 2213, 'diagnosed': 2214, 'changed': 2215, 'receiving': 2216, '80': 2217, 'campbell': 2218, 'surprise': 2219, 'frank': 2220, 'successfully': 2221, 'panel': 2222, 'friendly': 2223, 'NEW': 2224, 'zimbabwe': 2225, 'murray': 2226, 'tough': 2227, 'beats': 2228, '70': 2229, 'route': 2230, 'email': 2231, 'decades': 2232, 'cuba': 2233, 'beckham': 2234, 'alabama': 2235, 'teenager': 2236, 'bodies': 2237, 'lewis': 2238, 'muslim': 2239, 'approval': 2240, 'hands': 2241, 'resigns': 2242, 'statistics': 2243, 'carbon': 2244, 'voting': 2245, 'tata': 2246, 'greater': 2247, 'nigeria': 2248, 'aged': 2249, 'philippines': 2250, 'library': 2251, 'rejected': 2252, 'clean': 2253, 'toll': 2254, 'laid': 2255, 'question': 2256, 'expanding': 2257, 'extends': 2258, 'done': 2259, 'goods': 2260, 'indians': 2261, 'hosts': 2262, 'scandal': 2263, 'bought': 2264, 'el': 2265, 'ghana': 2266, 'hillary': 2267, 'cable': 2268, 'rail': 2269, 'engine': 2270, 'facilities': 2271, 'nokia': 2272, 'negative': 2273, 'adam': 2274, 'nelson': 2275, 'mine': 2276, 'breast': 2277, 'expanded': 2278, 'roads': 2279, 'sixth': 2280, 'b': 2281, 'treated': 2282, 'android': 2283, 'michelle': 2284, '2014': 2285, 'targets': 2286, 'undergo': 2287, 'stone': 2288, 'twins': 2289, 'terrorist': 2290, 'laws': 2291, 'cold': 2292, 'phones': 2293, 'license': 2294, 'artist': 2295, 'kept': 2296, 'analyst': 2297, 'democracy': 2298, 'homeless': 2299, 'moore': 2300, 'treasury': 2301, 'miles': 2302, 'brothers': 2303, 'CBS': 2304, 'breaking': 2305, 'thanks': 2306, 'earth': 2307, 'prosecutors': 2308, 'marine': 2309, 'rapper': 2310, 'cape': 2311, 'push': 2312, 'eye': 2313, 'taxes': 2314, 'egyptian': 2315, 'portfolio': 2316, 'investments': 2317, 'lack': 2318, 'sees': 2319, 'letter': 2320, 'itself': 2321, 'speculation': 2322, 'bear': 2323, 'device': 2324, 'lowest': 2325, 'units': 2326, 'paper': 2327, 'foods': 2328, 'believed': 2329, 'keeping': 2330, 'movement': 2331, 'fargo': 2332, '45': 2333, 'appeared': 2334, 'suspicion': 2335, 'dogs': 2336, 'representative': 2337, 'catholic': 2338, 'supporters': 2339, 'iraqi': 2340, 'factory': 2341, 'alert': 2342, 'crews': 2343, 'tamil': 2344, 'visiting': 2345, 'message': 2346, 'medal': 2347, 'status': 2348, 'yemen': 2349, 'prisoners': 2350, 'pitcher': 2351, 'legislation': 2352, 'urges': 2353, 'reuters': 2354, 'programs': 2355, 'iPad': 2356, 'yen': 2357, 'rehab': 2358, 'tropical': 2359, 'deals': 2360, 'yankees': 2361, 'pittsburgh': 2362, 'oscar': 2363, 'tokyo': 2364, 'collision': 2365, 'sam': 2366, 'reaches': 2367, 'anna': 2368, 'although': 2369, 'stated': 2370, 'plea': 2371, 'collection': 2372, 'built': 2373, 'wells': 2374, 'pope': 2375, 'stronger': 2376, 'venezuela': 2377, 'storage': 2378, 'proposal': 2379, 'lebanon': 2380, 'dance': 2381, 'ocean': 2382, 'harris': 2383, '150': 2384, 'votes': 2385, 'stanley': 2386, 'fellow': 2387, 'walk': 2388, 'newly': 2389, 'miller': 2390, 'hire': 2391, 'communities': 2392, 'shoot': 2393, 'ontario': 2394, 'cocaine': 2395, 'formally': 2396, 'ill': 2397, 'museum': 2398, 'removed': 2399, 'sheen': 2400, 'stations': 2401, 'jon': 2402, 'true': 2403, 'explosion': 2404, 'located': 2405, 'independence': 2406, 'longtime': 2407, 'extra': 2408, 'spread': 2409, 'hoping': 2410, 'arms': 2411, 'journalist': 2412, 'lending': 2413, 'acting': 2414, 'bureau': 2415, 'weight': 2416, 'myanmar': 2417, 'drama': 2418, 'libyan': 2419, '90': 2420, 'speaker': 2421, 'interior': 2422, 'owned': 2423, 'musical': 2424, 'delegation': 2425, 'agents': 2426, 'utah': 2427, 'gandhi': 2428, 'finish': 2429, 'pro': 2430, 'monetary': 2431, 'hitting': 2432, 'assistance': 2433, 'residential': 2434, 'designer': 2435, 'note': 2436, 'questions': 2437, 'sued': 2438, 'twice': 2439, 'rather': 2440, 'cards': 2441, 'provides': 2442, 'sudan': 2443, 'garden': 2444, 'dancing': 2445, 'check': 2446, 'congressional': 2447, 'pension': 2448, 'healthy': 2449, 'details': 2450, 'spears': 2451, 'ABC': 2452, 'waste': 2453, 'include': 2454, 'resort': 2455, 'pool': 2456, 'pattinson': 2457, 'options': 2458, 'orange': 2459, 'kicked': 2460, 'amount': 2461, 'simpson': 2462, 'clinic': 2463, 'branch': 2464, 'malaysian': 2465, 'missed': 2466, 'UAE': 2467, 'shoulder': 2468, 'horse': 2469, 'testing': 2470, 'famous': 2471, 'rice': 2472, 'strength': 2473, 'fully': 2474, 'certain': 2475, 'oregon': 2476, 'eric': 2477, 'begun': 2478, 'duty': 2479, 'payment': 2480, 'sharp': 2481, 'comeback': 2482, 'bailout': 2483, 'shown': 2484, 'secure': 2485, 'filing': 2486, 'traders': 2487, 'stable': 2488, 'causes': 2489, 'agrees': 2490, 'becomes': 2491, 'rihanna': 2492, 'financing': 2493, 'enforcement': 2494, 'bulgaria': 2495, 'journalists': 2496, 'jerry': 2497, 'honor': 2498, 'broadway': 2499, 'vowed': 2500, 'instead': 2501, 'preparing': 2502, 'drops': 2503, 'roger': 2504, 'herself': 2505, 'produce': 2506, 'eurozone': 2507, 'buffalo': 2508, 'combat': 2509, 'spotted': 2510, 'talent': 2511, 'welcome': 2512, 'diplomatic': 2513, 'strengthen': 2514, 'recalled': 2515, 'patient': 2516, 'discovery': 2517, 'buys': 2518, 'suffers': 2519, 'chiefs': 2520, 'winds': 2521, 'scottish': 2522, 'massachusetts': 2523, 'southeast': 2524, 'powerful': 2525, 'thailand': 2526, 'religious': 2527, 'apparent': 2528, 'railway': 2529, 'copper': 2530, 'window': 2531, 'enters': 2532, 'serbia': 2533, 'challenges': 2534, 'existing': 2535, 'immediate': 2536, 'USD': 2537, 'commander': 2538, 'initial': 2539, 'newcastle': 2540, 'teenage': 2541, 'stopped': 2542, 'dialogue': 2543, 'properties': 2544, 'austin': 2545, 'ball': 2546, 'britney': 2547, 'offender': 2548, 'stroke': 2549, 'katie': 2550, 'penalty': 2551, 'tigers': 2552, 'denver': 2553, 'sought': 2554, 'exercise': 2555, 'feature': 2556, 'putting': 2557, 'championships': 2558, 'goals': 2559, 'howard': 2560, 'transportation': 2561, 'exclusive': 2562, 'basis': 2563, 'NBC': 2564, 'ticket': 2565, 'arena': 2566, 'offshore': 2567, 'superstar': 2568, 'lifted': 2569, 'policies': 2570, 'nomination': 2571, 'tickets': 2572, 'smart': 2573, 'milwaukee': 2574, 'lions': 2575, 'entire': 2576, 'dozens': 2577, 'plays': 2578, 'rivals': 2579, 'approximately': 2580, 'sabha': 2581, 'carlos': 2582, 'regarding': 2583, 'nifty': 2584, 'cheryl': 2585, 'palestinians': 2586, 'deaths': 2587, 'contracts': 2588, '400': 2589, 'ron': 2590, 'notes': 2591, 'funeral': 2592, 'culture': 2593, 'nationals': 2594, 'fact': 2595, 'somali': 2596, 'asks': 2597, 'collapsed': 2598, 'affected': 2599, 'birmingham': 2600, 'celebrating': 2601, 'brands': 2602, 'fear': 2603, 'cancelled': 2604, 'sprint': 2605, 'intelligence': 2606, 'reduced': 2607, 'tells': 2608, 'supports': 2609, 'option': 2610, 'creating': 2611, 'reporter': 2612, 'argentina': 2613, 'ways': 2614, 'opportunities': 2615, 'output': 2616, 'kumar': 2617, 'franchise': 2618, 'hudson': 2619, 'anderson': 2620, 'repair': 2621, 'veterans': 2622, 'recover': 2623, 'movies': 2624, 'dream': 2625, 'shanghai': 2626, 'baltimore': 2627, '10000': 2628, 'feet': 2629, 'madison': 2630, 'fish': 2631, 'page': 2632, 'oakland': 2633, 'abu': 2634, 'w': 2635, 'highly': 2636, 'buildings': 2637, 'diamond': 2638, 'tourists': 2639, 'born': 2640, 'edwards': 2641, 'aviation': 2642, 'presence': 2643, 'alive': 2644, 'kings': 2645, 'presented': 2646, 'creek': 2647, 'conducted': 2648, 'missile': 2649, 'killer': 2650, 'dakota': 2651, 'warren': 2652, 'katy': 2653, 'monthly': 2654, 'northeast': 2655, 'expert': 2656, 'alaska': 2657, 'boxing': 2658, 'demands': 2659, 'mall': 2660, 'welcomed': 2661, 'drinking': 2662, 'confident': 2663, 'exhibition': 2664, 'tonnes': 2665, 'terrorists': 2666, 'resident': 2667, 'invited': 2668, 'deadline': 2669, 'BP': 2670, 'winehouse': 2671, 'nothing': 2672, 'mary': 2673, 'luxury': 2674, 'awareness': 2675, 'touch': 2676, 'NY': 2677, 'ATt': 2678, 'probation': 2679, 'outstanding': 2680, 'native': 2681, 'felt': 2682, 'producers': 2683, 'tampa': 2684, 'heads': 2685, 'complaint': 2686, 'zardari': 2687, 'delayed': 2688, 'rich': 2689, 'searching': 2690, 'recalls': 2691, 'postponed': 2692, 'legendary': 2693, 'andre': 2694, 'junior': 2695, 'springs': 2696, 'madonna': 2697, 'bahrain': 2698, 'employment': 2699, 'pornography': 2700, 'negotiations': 2701, 'lawyers': 2702, 'henry': 2703, 'cargo': 2704, 'matches': 2705, 'virus': 2706, 'performing': 2707, 'vancouver': 2708, 'contact': 2709, 'considered': 2710, 'queensland': 2711, 'jeff': 2712, 'residence': 2713, 'circuit': 2714, 'czech': 2715, 'asking': 2716, 'turning': 2717, 'jumped': 2718, 'regime': 2719, 'learned': 2720, 'fit': 2721, 'screen': 2722, 'hamas': 2723, 'renewed': 2724, 'insists': 2725, 'mississippi': 2726, 'waters': 2727, 'conservative': 2728, 'places': 2729, '64': 2730, 'galaxy': 2731, 'slow': 2732, 'demi': 2733, 'arkansas': 2734, '600': 2735, 'pull': 2736, 'however': 2737, 'angelina': 2738, 'advance': 2739, 'smoke': 2740, 'judges': 2741, 'active': 2742, 'ease': 2743, 'busy': 2744, 'incidents': 2745, 'c': 2746, 'biden': 2747, 'specialist': 2748, 'traded': 2749, 'introduce': 2750, 'doors': 2751, 'pain': 2752, 'canceled': 2753, 'fatally': 2754, 'columbia': 2755, 'atlantic': 2756, 'probe': 2757, 'announcing': 2758, 'reporters': 2759, 'helps': 2760, 'ray': 2761, 'mail': 2762, 'scene': 2763, 'jolie': 2764, 'kazakhstan': 2765, 'managed': 2766, 'sky': 2767, 'j': 2768, 'themselves': 2769, 'goldman': 2770, 'sugar': 2771, 'positions': 2772, 'stole': 2773, 'troubled': 2774, 'escaped': 2775, 'dedicated': 2776, 'emerging': 2777, 'e': 2778, 'illness': 2779, '62': 2780, 'targeting': 2781, 'NSW': 2782, 'phil': 2783, 'finished': 2784, 'asset': 2785, 'edward': 2786, 'manslaughter': 2787, 'hero': 2788, 'representatives': 2789, 'casino': 2790, 'betting': 2791, 'opener': 2792, 'orlando': 2793, 'inmate': 2794, 'tested': 2795, 'democrat': 2796, 'disney': 2797, 'restructuring': 2798, '65': 2799, 'ankle': 2800, 'jimmy': 2801, 'congressman': 2802, 'clients': 2803, 'boeing': 2804, 'modern': 2805, 'population': 2806, 'benchmark': 2807, 'ad': 2808, 'sweden': 2809, 'drunk': 2810, 'pair': 2811, 'tea': 2812, 'dan': 2813, 'false': 2814, 'convention': 2815, 'swedish': 2816, 'documents': 2817, 'remove': 2818, 'especially': 2819, 'welcomes': 2820, 'networking': 2821, 'columbus': 2822, 'preliminary': 2823, 'counties': 2824, 'manmohan': 2825, 'chavez': 2826, 'suspects': 2827, 'raid': 2828, 'standards': 2829, 'fee': 2830, 'blast': 2831, 'connecticut': 2832, 'cooper': 2833, 'temporary': 2834, 'm': 2835, 'coverage': 2836, 'hosted': 2837, 'paying': 2838, 'imports': 2839, 'means': 2840, 'steven': 2841, 'declined': 2842, 'utility': 2843, 'edition': 2844, 'invasion': 2845, 'smartphone': 2846, 'mutual': 2847, 'arm': 2848, '100000': 2849, 'ask': 2850, 'lineup': 2851, 'sensex': 2852, 'rio': 2853, 'features': 2854, 'immediately': 2855, 'follow': 2856, 'everything': 2857, 'expect': 2858, 'initiative': 2859, 'josh': 2860, 'azerbaijani': 2861, 'bilateral': 2862, 'pays': 2863, 'gang': 2864, 'sentiment': 2865, '2000': 2866, 'pipeline': 2867, 'deep': 2868, 'GOP': 2869, 'scam': 2870, 'decide': 2871, 'persons': 2872, 'unions': 2873, 'retired': 2874, 'businessman': 2875, 'pennsylvania': 2876, 'waiting': 2877, 'medicine': 2878, 'antonio': 2879, 'provided': 2880, 'delay': 2881, 'franklin': 2882, 'image': 2883, '85': 2884, 'lift': 2885, 'centers': 2886, 'republicans': 2887, 'participate': 2888, 'threatens': 2889, 'conflict': 2890, 'coffee': 2891, 'resolution': 2892, 'phase': 2893, 'guy': 2894, 'sachs': 2895, 'male': 2896, 'johnny': 2897, 'fishing': 2898, 'fitness': 2899, 'choice': 2900, 'scientific': 2901, 'suspicious': 2902, '41': 2903, 'edge': 2904, 'ferguson': 2905, 'NCAA': 2906, 'beyond': 2907, 'tell': 2908, 'interim': 2909, 'evacuated': 2910, 'style': 2911, 'cancels': 2912, 'suspends': 2913, 'onto': 2914, 'accounts': 2915, 'ride': 2916, 'figure': 2917, 'hospitals': 2918, 'steady': 2919, 'kingdom': 2920, 'SA': 2921, 'portland': 2922, 'fishermen': 2923, 'century': 2924, 'kicks': 2925, 'floor': 2926, 'payments': 2927, 'mental': 2928, 'warner': 2929, 'parent': 2930, 'bears': 2931, 'reasons': 2932, 'tight': 2933, 'neighborhood': 2934, 'cyrus': 2935, 'notice': 2936, 'federation': 2937, 'identity': 2938, 'escape': 2939, '42': 2940, 'alan': 2941, 'wait': 2942, 'criticism': 2943, 'NHL': 2944, 'settle': 2945, 'premiere': 2946, 'plc': 2947, 'craig': 2948, 'seems': 2949, 'masters': 2950, 'drowned': 2951, 'supplier': 2952, 'swimming': 2953, 'lankan': 2954, 'expressed': 2955, 'perfect': 2956, 'eve': 2957, 'dark': 2958, 'defends': 2959, 'jewish': 2960, 'defend': 2961, 'eagles': 2962, 'arrive': 2963, 'fallen': 2964, 'difficult': 2965, 'learn': 2966, 'commitment': 2967, 'fake': 2968, 'reading': 2969, 'marathon': 2970, 'sean': 2971, 'haiti': 2972, 'bull': 2973, 'virgin': 2974, 'merger': 2975, 'tied': 2976, 'kenya': 2977, 'penn': 2978, 'pedestrian': 2979, 'promotion': 2980, 'personnel': 2981, 'maryland': 2982, 'reforms': 2983, 'reopen': 2984, 'defended': 2985, 'deputies': 2986, 'engagement': 2987, 'noon': 2988, 'compete': 2989, 'shah': 2990, 'import': 2991, 'informed': 2992, 'cowell': 2993, 'dealer': 2994, 'tottenham': 2995, 'marry': 2996, 'roll': 2997, 'kidnapped': 2998, 'estimates': 2999, 'derby': 3000, 'nominated': 3001, 'registered': 3002, 'indonesian': 3003, 'something': 3004, 'carry': 3005, '33': 3006, 'marks': 3007, 'streak': 3008, 'IBM': 3009, 'sister': 3010, 'tons': 3011, 'pound': 3012, 'suggests': 3013, 'lawrence': 3014, 'terry': 3015, 'brings': 3016, 'images': 3017, 'responsible': 3018, 'display': 3019, 'maintain': 3020, 'delays': 3021, 'honda': 3022, 'jay': 3023, 'internal': 3024, 'don': 3025, 'drew': 3026, 'preseason': 3027, 'battling': 3028, 'civilians': 3029, 'normal': 3030, 'featuring': 3031, 'philippine': 3032, 'managing': 3033, 'investigators': 3034, 'worked': 3035, 'actually': 3036, 'YouTube': 3037, 'rushed': 3038, 'sends': 3039, 'trophy': 3040, 'amazon': 3041, 'traditional': 3042, 'rookie': 3043, 'shuttle': 3044, 'bell': 3045, 'kristen': 3046, 'tourist': 3047, 'learning': 3048, 'matter': 3049, 'seasons': 3050, 'items': 3051, 'appeals': 3052, 'shots': 3053, 'arrests': 3054, 'thing': 3055, 'warrant': 3056, 'tender': 3057, 'rocket': 3058, 'billy': 3059, 'picked': 3060, 'neil': 3061, 'integrated': 3062, 'happened': 3063, 'CNN': 3064, 'targeted': 3065, 'professor': 3066, 'globe': 3067, 'mount': 3068, 'spill': 3069, 'constitution': 3070, 'chrysler': 3071, 'includes': 3072, 'fighter': 3073, 'LLC': 3074, 'UFC': 3075, 'pictures': 3076, 'assigned': 3077, 'nicolas': 3078, 'weaker': 3079, 'clashes': 3080, 'halt': 3081, 'cuban': 3082, 'taxi': 3083, 'request': 3084, 'supporting': 3085, 'whole': 3086, '63': 3087, 'approach': 3088, 'institutions': 3089, 'crown': 3090, 'pitt': 3091, 'lay': 3092, 'cardinals': 3093, 'provincial': 3094, 'recorded': 3095, 'belarus': 3096, 'volunteers': 3097, 'physical': 3098, 'armenia': 3099, 'kolkata': 3100, 'visa': 3101, 'charter': 3102, 'upper': 3103, 'bulgarian': 3104, 'louisiana': 3105, 'shortage': 3106, 'miley': 3107, 'alternative': 3108, 'wood': 3109, 'location': 3110, 'pole': 3111, 'mac': 3112, 'bit': 3113, 'murdering': 3114, 'flag': 3115, 'suggested': 3116, 'transit': 3117, 'euros': 3118, 'jump': 3119, 'flying': 3120, 'hawaii': 3121, 'core': 3122, 'tornado': 3123, 'swift': 3124, 'vows': 3125, '5000': 3126, 'allowing': 3127, 'often': 3128, 'suspension': 3129, 'damaged': 3130, 'arson': 3131, 'blow': 3132, 'books': 3133, '10th': 3134, 'pitch': 3135, 'feeling': 3136, 'playoff': 3137, 'bruce': 3138, 'murdered': 3139, 'cultural': 3140, 'liberal': 3141, 'adults': 3142, 'ukrainian': 3143, 'hike': 3144, 'smoking': 3145, 'aims': 3146, 'nicole': 3147, 'everyone': 3148, 'armstrong': 3149, 'ran': 3150, 'verizon': 3151, 'districts': 3152, 'interstate': 3153, 'easy': 3154, 'del': 3155, 'older': 3156, 'classes': 3157, 'alexander': 3158, 'cited': 3159, 'carter': 3160, 'flooding': 3161, 'produced': 3162, 'suit': 3163, 'names': 3164, 'PM': 3165, 'crossing': 3166, 'adopted': 3167, 'violations': 3168, 'compensation': 3169, 'rafael': 3170, 'fail': 3171, 'burning': 3172, 'firefighter': 3173, 'barclays': 3174, 'remaining': 3175, 'charlotte': 3176, 'restore': 3177, 'netherlands': 3178, 'wildlife': 3179, 'NASCAR': 3180, 'trillion': 3181, 'improvement': 3182, 'AG': 3183, 'section': 3184, 'forthcoming': 3185, 'scores': 3186, 'sworn': 3187, 'bradley': 3188, 'robin': 3189, 'meetings': 3190, 'performed': 3191, 'camera': 3192, 'opportunity': 3193, 'cowboys': 3194, 'promised': 3195, 'upgraded': 3196, 'switzerland': 3197, 'wave': 3198, 'estimated': 3199, 'processing': 3200, 'influence': 3201, 'pilots': 3202, 'naval': 3203, 'crowd': 3204, 'similar': 3205, 'improving': 3206, 'islands': 3207, 'sure': 3208, 'employers': 3209, 'bars': 3210, 'responsibility': 3211, 'medvedev': 3212, 'savings': 3213, 'revenues': 3214, 'withdraws': 3215, 'hires': 3216, 'carried': 3217, 'heritage': 3218, 'roy': 3219, 'language': 3220, 'undergoing': 3221, 'motion': 3222, 'bengal': 3223, 'petrol': 3224, 'bobby': 3225, 'hiring': 3226, 'advantage': 3227, 'threw': 3228, 'direction': 3229, 'ricky': 3230, 'dates': 3231, 'reliance': 3232, 'secured': 3233, 'zoo': 3234, 'enhance': 3235, 'material': 3236, 'slowdown': 3237, 'undisclosed': 3238, 'fleet': 3239, 'defeated': 3240, 'shoots': 3241, 'cincinnati': 3242, 'organizations': 3243, 'blamed': 3244, 'upon': 3245, 'celebration': 3246, 'petroleum': 3247, 'balance': 3248, 'nigerian': 3249, 'downturn': 3250, 'broadcast': 3251, 'villa': 3252, 'houses': 3253, 'maria': 3254, 'episode': 3255, 'kidnapping': 3256, 'clubs': 3257, '76': 3258, 'lincoln': 3259, 'door': 3260, 'gunpoint': 3261, 'delivered': 3262, 'barbara': 3263, 'legislature': 3264, 'roberts': 3265, 'intel': 3266, 'tehran': 3267, 'diabetes': 3268, 'p': 3269, 'god': 3270, 'bulls': 3271, 'longterm': 3272, 'urban': 3273, 'rob': 3274, 'NASA': 3275, '911': 3276, 'parker': 3277, 'word': 3278, 'nepal': 3279, 'accept': 3280, 'violating': 3281, 'maintenance': 3282, 'speaks': 3283, 'chennai': 3284, 'fitch': 3285, 'accidentally': 3286, 'gained': 3287, 'walmart': 3288, 'hedge': 3289, 'lender': 3290, 'comprehensive': 3291, 'trees': 3292, 'colombia': 3293, 'kick': 3294, 'resistance': 3295, 'lopez': 3296, 'described': 3297, 'gujarat': 3298, 'jazz': 3299, 'musharraf': 3300, 'joseph': 3301, 'prominent': 3302, 'trafficking': 3303, 'YORK': 3304, 'judicial': 3305, 'landed': 3306, 'table': 3307, 'registration': 3308, 'walker': 3309, 'master': 3310, 'reid': 3311, 'sound': 3312, 'checks': 3313, 'prepare': 3314, 'proud': 3315, 'palace': 3316, 'roster': 3317, 'mandela': 3318, 'kapoor': 3319, 'anything': 3320, 'regulatory': 3321, 'dow': 3322, 'emerged': 3323, 'commodity': 3324, 'downgraded': 3325, 'dhabi': 3326, 'rains': 3327, 'restored': 3328, 'dismissed': 3329, 'bristol': 3330, 'reopened': 3331, 'goalkeeper': 3332, 'considers': 3333, 'shortly': 3334, 'unveil': 3335, 'raiders': 3336, \"'d\": 3337, 'exit': 3338, 'parks': 3339, 'cap': 3340, 'pat': 3341, '34': 3342, 'hotels': 3343, 'retailers': 3344, 'wearing': 3345, '36': 3346, 'suing': 3347, 'HP': 3348, 'gates': 3349, 'executives': 3350, 'raped': 3351, 'aniston': 3352, 'defending': 3353, 'duke': 3354, 'trail': 3355, 'LA': 3356, 'politicians': 3357, 'recalling': 3358, 'exploration': 3359, 'picture': 3360, 'raping': 3361, 'takeover': 3362, 'pushed': 3363, 'malik': 3364, 'ed': 3365, 'depression': 3366, 'mets': 3367, 'original': 3368, 'competitive': 3369, 'regulators': 3370, 'hilton': 3371, 'unexpectedly': 3372, 'link': 3373, 'plastic': 3374, 'knocked': 3375, 'rand': 3376, 'unchanged': 3377, 'faced': 3378, 'collapse': 3379, '700': 3380, 'permanent': 3381, 'indianapolis': 3382, 'knife': 3383, 'chile': 3384, 'montreal': 3385, 'demanded': 3386, 'nashville': 3387, 'degree': 3388, 'thinks': 3389, 'establish': 3390, 'prosecutor': 3391, 'nevada': 3392, 'watson': 3393, 'roof': 3394, 'alone': 3395, 'quickly': 3396, 'nebraska': 3397, 'abroad': 3398, 'stability': 3399, 'retiring': 3400, 'ESPN': 3401, 'talking': 3402, 'shipping': 3403, 'register': 3404, 'delta': 3405, '37': 3406, 'reason': 3407, 'grants': 3408, 'occurred': 3409, 'attention': 3410, 'aaron': 3411, 'idea': 3412, 'buyers': 3413, 'read': 3414, 'walking': 3415, 'focused': 3416, 'muslims': 3417, 'linebacker': 3418, 'risks': 3419, 'withdraw': 3420, 'kind': 3421, 'backed': 3422, 'clark': 3423, 'sue': 3424, 'creative': 3425, 'lakers': 3426, 'plead': 3427, 'lord': 3428, 'collins': 3429, 'listed': 3430, 'presents': 3431, 'mostly': 3432, 'minority': 3433, 'MAN': 3434, 'tie': 3435, 'lane': 3436, 'cook': 3437, 'drunken': 3438, 'tower': 3439, 'limit': 3440, 'saved': 3441, 'sunderland': 3442, 'collaboration': 3443, '43': 3444, 'hunger': 3445, 'softball': 3446, 'fails': 3447, 'pak': 3448, 'condemned': 3449, 'cyprus': 3450, 'comedian': 3451, 'ross': 3452, 'FBI': 3453, 'patriots': 3454, 'temporarily': 3455, 'stepping': 3456, 'armenian': 3457, 'larry': 3458, 'athletes': 3459, 'thai': 3460, '2006': 3461, 'written': 3462, 'witnesses': 3463, 'strongly': 3464, 'asif': 3465, 'rush': 3466, 'lama': 3467, 'respect': 3468, 'restrictions': 3469, 'deutsche': 3470, 'hughes': 3471, 'matthew': 3472, 'tribal': 3473, 'shore': 3474, 'inter': 3475, 'tablet': 3476, 'tensions': 3477, 'resignation': 3478, 'greg': 3479, 'till': 3480, 'carl': 3481, 'dramatic': 3482, 'score': 3483, 'seventh': 3484, 'ranks': 3485, 'sarkozy': 3486, 'nominee': 3487, 'latin': 3488, 'benedict': 3489, 'freed': 3490, 'warriors': 3491, 'moment': 3492, 'reveal': 3493, 'hugo': 3494, 'bigger': 3495, 'materials': 3496, 'triple': 3497, 'barry': 3498, 'grew': 3499, 'diesel': 3500, 'innovative': 3501, 'drilling': 3502, 'captured': 3503, 'rolling': 3504, '48': 3505, 'lightning': 3506, 'danny': 3507, 'jamie': 3508, '72': 3509, 'solo': 3510, 'anyone': 3511, 'recording': 3512, 'motorola': 3513, 'twoyear': 3514, 'lenders': 3515, 'sustained': 3516, 'jesse': 3517, 'machine': 3518, 'remarks': 3519, 'hip': 3520, 'hair': 3521, 'AM': 3522, 'animals': 3523, 'icon': 3524, 'probably': 3525, 'hunt': 3526, 'fastest': 3527, 'powers': 3528, 'dublin': 3529, 'ian': 3530, 'tool': 3531, 'principal': 3532, 'fed': 3533, 'endorses': 3534, 'wreck': 3535, 'restaurants': 3536, 'PTI': 3537, 'cubs': 3538, 'municipal': 3539, 'dick': 3540, 'humanitarian': 3541, 'fiji': 3542, 'lok': 3543, 'MTV': 3544, 'dalai': 3545, 'casey': 3546, '61': 3547, 'caribbean': 3548, 'virtual': 3549, '250': 3550, 'task': 3551, 'automotive': 3552, 'revolution': 3553, 'poland': 3554, 'putin': 3555, 'guns': 3556, 'agreements': 3557, 'billionaire': 3558, 'organisation': 3559, '3000': 3560, 'established': 3561, 'dinner': 3562, 'dry': 3563, 'drink': 3564, 'injuring': 3565, 'communication': 3566, 'misdemeanor': 3567, 'liam': 3568, 'magic': 3569, 'jammu': 3570, 'keith': 3571, 'commonwealth': 3572, 'entering': 3573, 'saints': 3574, 'rollover': 3575, 'gaming': 3576, 'beauty': 3577, 'backs': 3578, 'keen': 3579, '38': 3580, 'plus': 3581, 'potentially': 3582, 'worries': 3583, 'upset': 3584, 'drought': 3585, 'ranked': 3586, 'tries': 3587, 'salman': 3588, 'passing': 3589, 'thompson': 3590, 'sides': 3591, 'ashley': 3592, 'kidney': 3593, 'speaking': 3594, 'maine': 3595, 'brandon': 3596, 'leak': 3597, '55': 3598, 'kanye': 3599, 'honoured': 3600, 'struggle': 3601, 'changing': 3602, 'maoists': 3603, 'fly': 3604, 'cells': 3605, 'earned': 3606, 'infection': 3607, 'imposed': 3608, 'forecasts': 3609, 'resolve': 3610, 'montana': 3611, 'heavyweight': 3612, 'athletic': 3613, 'bike': 3614, 'blog': 3615, 'reaching': 3616, 'tyler': 3617, 'hear': 3618, 'practices': 3619, 'twin': 3620, 'regions': 3621, 'PC': 3622, 'wear': 3623, 'jonathan': 3624, 'nadal': 3625, 'gap': 3626, 'withdrawn': 3627, 'rallied': 3628, 'emirates': 3629, '52': 3630, 'graham': 3631, 'clothing': 3632, 'conviction': 3633, 'prepared': 3634, 'quite': 3635, 'fewer': 3636, 'guide': 3637, 'marking': 3638, 'stands': 3639, 'zuma': 3640, 'code': 3641, 'praised': 3642, 'McCartney': 3643, 'skills': 3644, 'lands': 3645, 'BlackBerry': 3646, 'storms': 3647, 'karnataka': 3648, 'interested': 3649, 'fla': 3650, 'fixed': 3651, 'formed': 3652, 'envoy': 3653, 'publisher': 3654, 'dave': 3655, 'toddler': 3656, 'AC': 3657, 'aston': 3658, 'opera': 3659, 'pete': 3660, 'size': 3661, 'fisher': 3662, 'asylum': 3663, '800': 3664, 'encounter': 3665, 'pledged': 3666, 'bird': 3667, 'III': 3668, 'included': 3669, 'rachel': 3670, 'highs': 3671, 'stress': 3672, 'label': 3673, 'tools': 3674, 'knight': 3675, 'significantly': 3676, 'trucks': 3677, 'individual': 3678, 'computers': 3679, 'declines': 3680, 'unique': 3681, 'prepares': 3682, 'quits': 3683, 'crackdown': 3684, 'adviser': 3685, 'parade': 3686, 'limits': 3687, 'reduction': 3688, 'evans': 3689, 'coordinator': 3690, 'harper': 3691, 'currencies': 3692, 'pub': 3693, 'streaming': 3694, 'entry': 3695, 'crashing': 3696, 'enterprises': 3697, 'royals': 3698, 'workforce': 3699, 'welfare': 3700, 'islamabad': 3701, 'dolphins': 3702, 'pushing': 3703, 'standoff': 3704, 'starring': 3705, 'd': 3706, 'christina': 3707, 'drone': 3708, 'berlin': 3709, 'gift': 3710, 'select': 3711, 'someone': 3712, 'milestone': 3713, 'undergoes': 3714, 'outfielder': 3715, 'adult': 3716, 'AFP': 3717, 'handed': 3718, 'cairo': 3719, 'customs': 3720, 'managers': 3721, 'weapon': 3722, 'capitol': 3723, 'rogers': 3724, 'words': 3725, 'marked': 3726, 'wine': 3727, 'refuses': 3728, 'sparked': 3729, 'required': 3730, 'kerala': 3731, 'gaddafi': 3732, 'georgian': 3733, 'familiar': 3734, 'promises': 3735, 'releasing': 3736, 'wealth': 3737, 'tracks': 3738, 'rebound': 3739, 'seize': 3740, 'measure': 3741, 'loves': 3742, 'neck': 3743, 'tanker': 3744, 'studios': 3745, 'era': 3746, 'minimum': 3747, 'mar': 3748, '82': 3749, 'writes': 3750, 'illegally': 3751, 'auckland': 3752, 'visitors': 3753, 'guidance': 3754, 'vikings': 3755, 'selection': 3756, 'publicly': 3757, 'burns': 3758, 'marshall': 3759, 'conspiracy': 3760, 'douglas': 3761, 'puts': 3762, 'commits': 3763, 'wholesale': 3764, 'raza': 3765, 'kris': 3766, 'extending': 3767, 'operators': 3768, 'standing': 3769, 'coaching': 3770, 'endorsed': 3771, 'critically': 3772, 'pleased': 3773, 'dodgers': 3774, 'resumed': 3775, 'ore': 3776, 'intends': 3777, 'hampshire': 3778, 'motorcyclist': 3779, 'pulls': 3780, 'bans': 3781, 'inquiry': 3782, 'lakh': 3783, 'accepted': 3784, 'mills': 3785, 'kyle': 3786, 'gilani': 3787, 'salary': 3788, 'prior': 3789, 'possibility': 3790, 'determined': 3791, 'telling': 3792, 'brisbane': 3793, 'celtic': 3794, 'winger': 3795, 'pit': 3796, 'FIFA': 3797, 'finals': 3798, 'interests': 3799, 'colombian': 3800, 'holmes': 3801, 'proposes': 3802, 'accuses': 3803, 'path': 3804, 'foreclosure': 3805, 'idaho': 3806, 'julia': 3807, 'rome': 3808, 'kosovo': 3809, 'promoted': 3810, 'dealing': 3811, 'memory': 3812, 'article': 3813, 'metals': 3814, 'pet': 3815, 'julian': 3816, 'surge': 3817, 'unlikely': 3818, 'insisted': 3819, 'ahmadinejad': 3820, 'fun': 3821, 'theater': 3822, 'jeremy': 3823, 'increasingly': 3824, 'buried': 3825, 'spokeswoman': 3826, '50000': 3827, 'affect': 3828, 'lebanese': 3829, 'fields': 3830, 'prove': 3831, 'poised': 3832, 'controversy': 3833, 'served': 3834, 'advice': 3835, 'accepting': 3836, 'forcing': 3837, 'mukherjee': 3838, 'skipper': 3839, 'routes': 3840, 'acres': 3841, 'FA': 3842, 'dropping': 3843, 'rejects': 3844, 'qantas': 3845, '44': 3846, 'throws': 3847, 'ottawa': 3848, 'replaced': 3849, 'temple': 3850, 'photos': 3851, 'directed': 3852, 'pharmaceutical': 3853, 'songs': 3854, 'innovation': 3855, 'alongside': 3856, 'shareholder': 3857, 'citizen': 3858, 'sciences': 3859, 'brett': 3860, 'leeds': 3861, 'baghdad': 3862, 'mind': 3863, 'temperatures': 3864, 'venezuelan': 3865, 'berlusconi': 3866, 'contractor': 3867, 'photographer': 3868, 'count': 3869, 'perth': 3870, 'prescription': 3871, 'liberty': 3872, 'transaction': 3873, 'tsunami': 3874, 'vatican': 3875, 'maharashtra': 3876, 'memphis': 3877, 'BC': 3878, '2015': 3879, 'militant': 3880, 'burned': 3881, 'resumes': 3882, 'structure': 3883, 'bachchan': 3884, 'crack': 3885, 'walked': 3886, 'attacking': 3887, 'wrote': 3888, 'retires': 3889, 'gunmen': 3890, '53': 3891, 'lance': 3892, 'indies': 3893, 'assange': 3894, 'studies': 3895, 'presidency': 3896, 'rockets': 3897, 'variety': 3898, 'knowledge': 3899, 'lung': 3900, 'outbreak': 3901, 'saint': 3902, 'bat': 3903, 'wheat': 3904, 'category': 3905, '51': 3906, 'interactive': 3907, 'shane': 3908, 'dell': 3909, 'rooney': 3910, '46': 3911, 'grove': 3912, 'renewable': 3913, 'settled': 3914, 'ability': 3915, 'editor': 3916, 'conservation': 3917, 'wright': 3918, 'effects': 3919, 'finding': 3920, 'faster': 3921, 'integration': 3922, 'stops': 3923, 'discrimination': 3924, 'analysis': 3925, 'kerry': 3926, 'sponsor': 3927, 'angry': 3928, 'legislative': 3929, 'sterling': 3930, 'discharged': 3931, 'hunting': 3932, 'scale': 3933, 'demanding': 3934, 'terminal': 3935, 'edged': 3936, 'pickup': 3937, 'susan': 3938, 'models': 3939, 'affordable': 3940, 'qualifying': 3941, 'allstar': 3942, '3D': 3943, 'momentum': 3944, 'appointment': 3945, 'costa': 3946, 'rolled': 3947, 'firing': 3948, 'bihar': 3949, 'slipped': 3950, 'proposals': 3951, 'wage': 3952, 'brief': 3953, 'thrown': 3954, 'bomber': 3955, 'driven': 3956, 'airbus': 3957, 'munich': 3958, 'holidays': 3959, 'blame': 3960, 'underwent': 3961, 'prospect': 3962, 'actions': 3963, 'moon': 3964, 'universal': 3965, 'cameras': 3966, 'prostate': 3967, 'innings': 3968, 'telecommunications': 3969, 'sons': 3970, 'modi': 3971, 'citigroup': 3972, 'sleep': 3973, 'supported': 3974, 'mom': 3975, 'pending': 3976, 'GM': 3977, 'sessions': 3978, 'write': 3979, 'springfield': 3980, 'sectors': 3981, 'shock': 3982, 'jacob': 3983, 'assist': 3984, 'refinance': 3985, 'tracking': 3986, 'BMW': 3987, 'greatest': 3988, 'DUI': 3989, 'bag': 3990, 'membership': 3991, 'courts': 3992, 'spirit': 3993, 'cat': 3994, 'sustainable': 3995, 'stepped': 3996, 'redskins': 3997, 'flash': 3998, 'everton': 3999, 'followed': 4000, 'complaints': 4001, 'attempting': 4002, 'upgrade': 4003, 'producing': 4004, 'blues': 4005, 'nursing': 4006, 'pharmaceuticals': 4007, 'affair': 4008, 'coaches': 4009, 'links': 4010, 'character': 4011, 'suspend': 4012, 'abortion': 4013, 'adelaide': 4014, 'approve': 4015, 'jobless': 4016, 'involvement': 4017, 'providers': 4018, 'spokesperson': 4019, 'addition': 4020, 'ted': 4021, 'either': 4022, 'external': 4023, 'corps': 4024, 'mill': 4025, 'agricultural': 4026, 'ferrari': 4027, 'rochester': 4028, 'sep': 4029, 'inducted': 4030, 'prospects': 4031, 'governments': 4032, 'milk': 4033, 'trailer': 4034, 'karzai': 4035, 'kenny': 4036, 'seats': 4037, 'mahmoud': 4038, 'nobel': 4039, 'Twenty20': 4040, 'motorists': 4041, '95': 4042, 'text': 4043, 'wing': 4044, 'ken': 4045, 'chidambaram': 4046, 'romania': 4047, 'crystal': 4048, 'mubarak': 4049, 'zero': 4050, 'hopeful': 4051, 'trapped': 4052, 'bombing': 4053, 'cancel': 4054, 'hanging': 4055, 'v': 4056, 'throwing': 4057, 'superior': 4058, 'fighters': 4059, 'voluntary': 4060, 'carey': 4061, 'clothes': 4062, 'teens': 4063, 'NC': 4064, 'allows': 4065, 'treat': 4066, 'shelter': 4067, 'answer': 4068, 'WikiLeaks': 4069, 'closure': 4070, 'arnold': 4071, 'slammed': 4072, 'eagle': 4073, 'NHS': 4074, 'quoted': 4075, 'implement': 4076, 'heights': 4077, 'sharks': 4078, 'reducing': 4079, 'sonia': 4080, 'IMF': 4081, '57': 4082, 'attempts': 4083, 'boosted': 4084, 'trouble': 4085, 'ANC': 4086, 'semifinals': 4087, 'adopt': 4088, 'mason': 4089, 'ambulance': 4090, 'emissions': 4091, 'immigrants': 4092, 'faith': 4093, 'foster': 4094, 'delaware': 4095, 'spencer': 4096, 'sues': 4097, 'guards': 4098, 'consulting': 4099, 'solid': 4100, 'favourite': 4101, 'messages': 4102, 'skin': 4103, 'blaze': 4104, 'tendulkar': 4105, 'corner': 4106, 'monitoring': 4107, 'fernando': 4108, 'drove': 4109, 'sacramento': 4110, 'lawmaker': 4111, 'featured': 4112, 'vladimir': 4113, 'sandy': 4114, 'gomez': 4115, 'somalia': 4116, 'auburn': 4117, 'riding': 4118, 'cruelty': 4119, 'chancellor': 4120, 'sporting': 4121, 'writing': 4122, 'peak': 4123, '54': 4124, 'vision': 4125, 'crucial': 4126, 'remote': 4127, 'unknown': 4128, 'norway': 4129, 'economies': 4130, 'slip': 4131, 'abdullah': 4132, 'reserves': 4133, 'communist': 4134, 'concluded': 4135, 'clarke': 4136, 'babies': 4137, 'sovereign': 4138, 'bangalore': 4139, 'danger': 4140, 'worse': 4141, 'locations': 4142, 'wellington': 4143, 'manage': 4144, 'mario': 4145, 'hunter': 4146, 'string': 4147, 'shed': 4148, 'kuwait': 4149, 'recycling': 4150, 'slash': 4151, 'opinion': 4152, 'plunged': 4153, 'resource': 4154, 'donald': 4155, 'uranium': 4156, 'saving': 4157, 'semifinal': 4158, 'chosen': 4159, 'porn': 4160, 'equities': 4161, 'promoting': 4162, 'midnight': 4163, 'heidi': 4164, 'tank': 4165, 'floods': 4166, 'witness': 4167, 'uncertainty': 4168, 'picks': 4169, 'cyclist': 4170, 'outdoor': 4171, 'landmark': 4172, 'montgomery': 4173, 'apply': 4174, 'lucky': 4175, 'donated': 4176, 'baseman': 4177, 'waivers': 4178, 'neutral': 4179, 'species': 4180, 'ham': 4181, 'concerned': 4182, 'shops': 4183, 'bishop': 4184, 'athens': 4185, 'nightclub': 4186, 'volleyball': 4187, 'catch': 4188, 'misses': 4189, 'refusing': 4190, 'eddie': 4191, 'privacy': 4192, 'abusing': 4193, 'investigated': 4194, 'seeing': 4195, 'comment': 4196, 'celtics': 4197, 'roman': 4198, 'lily': 4199, 'musician': 4200, 'publishing': 4201, 'MPs': 4202, 'oneyear': 4203, 'spoke': 4204, 'trains': 4205, 'improves': 4206, 'anticipated': 4207, 'stranded': 4208, 'watching': 4209, 'newest': 4210, 'weakened': 4211, 'celebrations': 4212, 'wimbledon': 4213, 'mean': 4214, 'dean': 4215, 'pregnancy': 4216, 'bed': 4217, 'christie': 4218, 'acts': 4219, 'winners': 4220, 'regulator': 4221, 'accusing': 4222, 'rapid': 4223, 'browns': 4224, 'prevention': 4225, 'abandoned': 4226, 'premium': 4227, 'jerusalem': 4228, 'steelers': 4229, 'youths': 4230, 'rajasthan': 4231, 'CBI': 4232, 'guest': 4233, 'louisville': 4234, 'uttar': 4235, 'uses': 4236, 'developers': 4237, 'juan': 4238, 'apologized': 4239, 'particularly': 4240, 'argument': 4241, 'quick': 4242, 'jefferson': 4243, 'urging': 4244, '67': 4245, 'refugees': 4246, 'volume': 4247, 'regulations': 4248, 'fiveyear': 4249, 'transplant': 4250, 'chamber': 4251, 'poverty': 4252, 'brooklyn': 4253, 'switch': 4254, 'audience': 4255, 'broncos': 4256, 'favorite': 4257, 'r': 4258, 'muhammad': 4259, 'sharif': 4260, 'filmmaker': 4261, 'assignment': 4262, 'possibly': 4263, 'vaccine': 4264, 'schwarzenegger': 4265, 'bryant': 4266, 'vessel': 4267, 'drowns': 4268, 'exposure': 4269, 'forms': 4270, 'holy': 4271, 'stream': 4272, 'watchdog': 4273, 'marc': 4274, 'apologizes': 4275, 'supermarket': 4276, 'blasts': 4277, 'performs': 4278, 'disappointing': 4279, 'pizza': 4280, '47': 4281, 'hub': 4282, 'eating': 4283, 'farmer': 4284, 'kent': 4285, 'discussed': 4286, 'gross': 4287, '50th': 4288, 'cambridge': 4289, 'roberto': 4290, '120': 4291, 'prostitution': 4292, 'mahindra': 4293, 'predicted': 4294, 'adams': 4295, 'torch': 4296, 'completely': 4297, 'earn': 4298, 'evasion': 4299, 'priority': 4300, 'rivers': 4301, 'unity': 4302, 'thieves': 4303, 'murphy': 4304, 'grade': 4305, 'catches': 4306, 'affiliate': 4307, 'tommy': 4308, '20yearold': 4309, 'sachin': 4310, 'anne': 4311, 'aggressive': 4312, 'middleton': 4313, 'syed': 4314, 'baldwin': 4315, 'eighth': 4316, 'computing': 4317, 'moss': 4318, 'laden': 4319, 'amanda': 4320, 'drawing': 4321, 'easing': 4322, 'artists': 4323, 'mitchell': 4324, '11th': 4325, 'ward': 4326, 'hostage': 4327, 'swept': 4328, 'ravens': 4329, 'staterun': 4330, 'cinema': 4331, 'condemns': 4332, 'praises': 4333, 'attract': 4334, 'salt': 4335, 'universities': 4336, '71': 4337, 'critics': 4338, 'rahul': 4339, 'efficiency': 4340, 'bayern': 4341, 'beer': 4342, 'lil': 4343, 'overcome': 4344, 'smaller': 4345, 'guitarist': 4346, 'dmitry': 4347, 'martinez': 4348, 'ski': 4349, 'sisters': 4350, 'burn': 4351, 'yemeni': 4352, 'cotton': 4353, 'phillies': 4354, 'trades': 4355, 'concussion': 4356, 'reds': 4357, 'mugabe': 4358, 'haven': 4359, 'subject': 4360, 'sick': 4361, 'maritime': 4362, 'licence': 4363, 'monroe': 4364, 'gibson': 4365, 'robinson': 4366, 'osbourne': 4367, 'requirements': 4368, 'deer': 4369, 'sing': 4370, 'rodriguez': 4371, 'constitutional': 4372, 'emma': 4373, 'senators': 4374, 'seed': 4375, 'monitor': 4376, 'rental': 4377, 'brussels': 4378, 'northwestern': 4379, 'defenseman': 4380, 'inspired': 4381, 'surrounding': 4382, 'finger': 4383, 'novel': 4384, 'user': 4385, '125': 4386, 'portsmouth': 4387, 'cliff': 4388, 'websites': 4389, '74': 4390, 'xinhua': 4391, 'jacksonville': 4392, 'discussion': 4393, 'potter': 4394, 'creation': 4395, 'piece': 4396, '68': 4397, 'rumors': 4398, '56': 4399, 'trials': 4400, 'keeps': 4401, 'races': 4402, 'parish': 4403, 'expenses': 4404, 'serial': 4405, 'merkel': 4406, 'refinery': 4407, 'widespread': 4408, 'electrical': 4409, 'haryana': 4410, 'lynch': 4411, 'papers': 4412, 'AFL': 4413, 'academic': 4414, 'wenger': 4415, 'jesus': 4416, 'frozen': 4417, 'nancy': 4418, 'ericsson': 4419, 'luke': 4420, 'portugal': 4421, 'ronaldo': 4422, 'WWE': 4423, 'overhaul': 4424, 'operate': 4425, '500000': 4426, 'lying': 4427, 'castro': 4428, \"'\": 4429, 'whitney': 4430, 'arctic': 4431, 'type': 4432, 'dad': 4433, 'aggravated': 4434, 'nintendo': 4435, 'unrest': 4436, 'flagship': 4437, 'eased': 4438, 'bottom': 4439, 'vital': 4440, 'lifetime': 4441, 'advised': 4442, 'robber': 4443, 'liquor': 4444, 'easily': 4445, 'sheikh': 4446, 'occupy': 4447, 'nature': 4448, 'versus': 4449, 'gene': 4450, 'pentagon': 4451, 'oldest': 4452, 'underway': 4453, 'postal': 4454, 'slump': 4455, 'volunteer': 4456, 'karachi': 4457, 'bone': 4458, 'randy': 4459, 'lovato': 4460, 'playoffs': 4461, 'AN': 4462, 'hungary': 4463, 'behaviour': 4464, 'pink': 4465, 'colin': 4466, 'counterpart': 4467, 'vodafone': 4468, 'stakes': 4469, 'oracle': 4470, 'screening': 4471, 'seahawks': 4472, 'slide': 4473, 'ships': 4474, 'dairy': 4475, 'homeowners': 4476, 'priest': 4477, 'importance': 4478, 'awardwinning': 4479, 'titans': 4480, '20th': 4481, 'omaha': 4482, 'richmond': 4483, 'client': 4484, 'suffer': 4485, 'briefly': 4486, 'ashton': 4487, 'todd': 4488, 'recognized': 4489, 'amendment': 4490, 'identify': 4491, 'reopens': 4492, 'accidents': 4493, 'colleges': 4494, 'offences': 4495, 'workshop': 4496, 'hailed': 4497, 'secondary': 4498, 'commodities': 4499, 'baku': 4500, 'robbie': 4501, 'detention': 4502, 'hate': 4503, 'diplomat': 4504, 'tobacco': 4505, 'wire': 4506, 'johannesburg': 4507, 'judiciary': 4508, 'glass': 4509, 'clinical': 4510, 'chest': 4511, 'HTC': 4512, 'unable': 4513, 'grocery': 4514, 'feared': 4515, 'remember': 4516, 'beef': 4517, 'peru': 4518, 'confirm': 4519, 'thanksgiving': 4520, 'swim': 4521, 'shift': 4522, 'bloomberg': 4523, 'surveillance': 4524, 'manhattan': 4525, '81': 4526, 'threeday': 4527, 'raw': 4528, 'eat': 4529, 'chef': 4530, 'audit': 4531, 'observed': 4532, 'promising': 4533, 'enjoy': 4534, 'determine': 4535, 'bernanke': 4536, 'hu': 4537, 'wish': 4538, 'smartphones': 4539, 'mel': 4540, 'petition': 4541, 'bernard': 4542, 'finland': 4543, 'mines': 4544, 'recognition': 4545, 'centres': 4546, 'dennis': 4547, 'gunman': 4548, 'tops': 4549, 'mars': 4550, 'attended': 4551, 'alberta': 4552, 'childhood': 4553, 'gillard': 4554, 'exploded': 4555, 'topped': 4556, 'borrowing': 4557, 'census': 4558, 'slams': 4559, 'viewers': 4560, 'lion': 4561, 'aside': 4562, 'tape': 4563, 'rapids': 4564, 'survive': 4565, 'individuals': 4566, 'PGA': 4567, 'broad': 4568, 'commit': 4569, 'wildfire': 4570, 'basic': 4571, 'throw': 4572, 'surplus': 4573, 'roles': 4574, 'cycling': 4575, 'survived': 4576, '83': 4577, 'warn': 4578, '49': 4579, 'nominations': 4580, 'federer': 4581, 'documentary': 4582, 'maximum': 4583, 'billions': 4584, 'peaceful': 4585, 'oscars': 4586, 'hole': 4587, 'tribune': 4588, 'staying': 4589, 'broadcaster': 4590, 'pastor': 4591, 'mentally': 4592, 'blocked': 4593, 'scrap': 4594, 'chip': 4595, 'sharing': 4596, 'automaker': 4597, 'dozen': 4598, 'suzuki': 4599, 'initiatives': 4600, 'qaeda': 4601, 'heroin': 4602, 'shared': 4603, 'abdul': 4604, 'revised': 4605, 'fireworks': 4606, 'beverly': 4607, 'lows': 4608, 'brady': 4609, 'edmonton': 4610, 'sense': 4611, 'engineers': 4612, 'airports': 4613, 'branded': 4614, 'dame': 4615, 'dumped': 4616, 'fares': 4617, '12th': 4618, 'multiyear': 4619, '73': 4620, 'inning': 4621, 'selena': 4622, 'lottery': 4623, 'disclosed': 4624, 'tributes': 4625, 'capture': 4626, 'robberies': 4627, 'warehouse': 4628, 'chances': 4629, 'hometown': 4630, 'attending': 4631, 'WASHINGTON': 4632, 'placement': 4633, 'yes': 4634, 'transition': 4635, 'slashed': 4636, '66': 4637, 'default': 4638, 'serbian': 4639, '86': 4640, 'buses': 4641, 'austerity': 4642, 'braves': 4643, 'steal': 4644, 'upgrades': 4645, 'actors': 4646, 'purchases': 4647, 'planes': 4648, 'floyd': 4649, 'netanyahu': 4650, 'pervez': 4651, 'jays': 4652, 'command': 4653, 'obesity': 4654, 'estranged': 4655, 'respond': 4656, 'pricing': 4657, '1500': 4658, 'freight': 4659, 'newton': 4660, 'meat': 4661, 'commissioners': 4662, 'ninth': 4663, 'aboard': 4664, 'elbow': 4665, 'ann': 4666, 'honour': 4667, 'pacquiao': 4668, 'diplomats': 4669, 'DJ': 4670, 'chad': 4671, 'crushed': 4672, 'francis': 4673, 'vacant': 4674, 'warming': 4675, 'freeze': 4676, 'beyonce': 4677, 'formal': 4678, 'seminar': 4679, 'HIV': 4680, 'costar': 4681, 'bolton': 4682, 'rallies': 4683, 'unbeaten': 4684, 'pioneer': 4685, 'spectrum': 4686, 'aim': 4687, 'sweep': 4688, 'defeats': 4689, 'cisco': 4690, 'newspapers': 4691, '21yearold': 4692, 'murdoch': 4693, 'seoul': 4694, 'gasoline': 4695, 'civilian': 4696, 'coroner': 4697, 'controls': 4698, '77': 4699, 'empire': 4700, 'sitting': 4701, 'ethnic': 4702, 'watched': 4703, 'suburban': 4704, 'donations': 4705, 'bids': 4706, 'guarantee': 4707, 'UBS': 4708, 'odds': 4709, 'sacked': 4710, 'pranab': 4711, 'necessary': 4712, 'marcus': 4713, 'prisoner': 4714, 'apart': 4715, 'fundraiser': 4716, '78': 4717, 'print': 4718, 'easter': 4719, 'insider': 4720, 'delivers': 4721, 'doubled': 4722, 'larger': 4723, 'ownership': 4724, 'diet': 4725, 'clerk': 4726, 'manufacturers': 4727, 'rebounds': 4728, 'flames': 4729, 'differences': 4730, 'hamid': 4731, 'trump': 4732, 'gathered': 4733, 'replacement': 4734, 'shell': 4735, 'broadcasting': 4736, 'timberlake': 4737, 'plot': 4738, 'professionals': 4739, 'investing': 4740, '2005': 4741, 'eva': 4742, 'oneday': 4743, 'infant': 4744, 'rider': 4745, 'acquitted': 4746, '900': 4747, 'household': 4748, 'poker': 4749, 'slowed': 4750, 'quoting': 4751, 'elton': 4752, 'pride': 4753, 'honorary': 4754, 'teaching': 4755, 'max': 4756, 'migrants': 4757, 'collapses': 4758, 'canadians': 4759, 'sebastian': 4760, 'ballot': 4761, 'dam': 4762, 'threeyear': 4763, 'apology': 4764, 'cheating': 4765, 'smuggling': 4766, 'agenda': 4767, 'xbox': 4768, 'makers': 4769, 'norwich': 4770, 'athletics': 4771, 'nissan': 4772, 'hybrid': 4773, 'directly': 4774, 'chicken': 4775, 'duties': 4776, 'garage': 4777, 'staged': 4778, 'wages': 4779, 'blake': 4780, 'lakes': 4781, '39': 4782, 'southeastern': 4783, 'unidentified': 4784, 'escapes': 4785, 'simple': 4786, 'decisions': 4787, 'pilgrims': 4788, 'rolls': 4789, 'boycott': 4790, 'barnes': 4791, 'inaugurated': 4792, 'UEFA': 4793, 'leon': 4794, 'ceasefire': 4795, 'telephone': 4796, 'medals': 4797, 'donates': 4798, 'nearby': 4799, 'racist': 4800, 'permits': 4801, 'aide': 4802, 'charging': 4803, 'younger': 4804, 'scoring': 4805, 'inquest': 4806, 'argentine': 4807, 'representing': 4808, 'grid': 4809, 'northeastern': 4810, 'berry': 4811, 'oak': 4812, 'bosses': 4813, 'convenience': 4814, 'phillips': 4815, 'naked': 4816, 'gather': 4817, 'posting': 4818, 'feed': 4819, 'deposit': 4820, 'austria': 4821, 'applied': 4822, 'disputed': 4823, 'referendum': 4824, 'frontman': 4825, 'consumption': 4826, 'titled': 4827, 'reviews': 4828, 'mystery': 4829, 'packers': 4830, 'bags': 4831, 'challenging': 4832, 'nadu': 4833, 'newman': 4834, 'evacuation': 4835, 'administrative': 4836, 'channels': 4837, 'cope': 4838, 'surged': 4839, 'IST': 4840, 'rod': 4841, 'missiles': 4842, 'grain': 4843, 'fled': 4844, 'download': 4845, 'APA': 4846, 'designated': 4847, 'mild': 4848, 'machines': 4849, 'owen': 4850, 'scenes': 4851, 'locked': 4852, 'diseases': 4853, 'rupert': 4854, 'signal': 4855, 'optimism': 4856, 'midwest': 4857, 'collided': 4858, 'moderate': 4859, 'abbas': 4860, 'siemens': 4861, 'blair': 4862, 'HSBC': 4863, 'SUV': 4864, 'kabul': 4865, 'twoday': 4866, 'statewide': 4867, 'coastal': 4868, 'dress': 4869, 'fix': 4870, 'hyderabad': 4871, 'warm': 4872, 'abbott': 4873, 'mariners': 4874, 'polish': 4875, 'violation': 4876, 'advances': 4877, 'installed': 4878, 'lloyd': 4879, 'furniture': 4880, 'refugee': 4881, 'packaging': 4882, 'fat': 4883, 'suggesting': 4884, 'grave': 4885, 'ace': 4886, 'emotional': 4887, 'backing': 4888, 'promise': 4889, 'insurer': 4890, 'specialty': 4891, 'rebel': 4892, 'offset': 4893, 'unanimously': 4894, 'damages': 4895, 'elephant': 4896, 'looked': 4897, 'bound': 4898, 'gambling': 4899, 'scare': 4900, 'branches': 4901, 'iconic': 4902, 'absence': 4903, 'PlayStation': 4904, 'manny': 4905, 'cofounder': 4906, 'denmark': 4907, 'happen': 4908, 'jake': 4909, 'doubles': 4910, 'rocker': 4911, 'whom': 4912, 'atomic': 4913, 'destination': 4914, 'contain': 4915, 'jonas': 4916, 'completion': 4917, 'pharmacy': 4918, 'christopher': 4919, 'roadside': 4920, 'presidentelect': 4921, 'suu': 4922, 'kyi': 4923, 'marion': 4924, 'medicare': 4925, 'graduate': 4926, 'levy': 4927, 'chart': 4928, 'jewelry': 4929, 'endorse': 4930, 'jumps': 4931, 'expensive': 4932, 'mega': 4933, 'theme': 4934, 'philip': 4935, 'ridge': 4936, 'ram': 4937, 'expo': 4938, 'yields': 4939, 'gen': 4940, 'values': 4941, 'wyoming': 4942, 'tibetan': 4943, 'declare': 4944, 'curb': 4945, '89': 4946, 'cardiff': 4947, 'inaugural': 4948, 'pneumonia': 4949, 'slowing': 4950, '88': 4951, 'fundraising': 4952, 'restraining': 4953, 'twilight': 4954, 'compliance': 4955, 'advisor': 4956, 'striking': 4957, 'hugh': 4958, '1st': 4959, 'islam': 4960, 'permission': 4961, '100th': 4962, 'brewers': 4963, '25th': 4964, 'ferry': 4965, 'NRL': 4966, 'datuk': 4967, 'chemicals': 4968, 'doping': 4969, 'strengthened': 4970, 'teammate': 4971, 'amitabh': 4972, 'shoppers': 4973, 'abducted': 4974, 'deposits': 4975, 'alqaeda': 4976, 'operational': 4977, 'inspection': 4978, 'crop': 4979, 'politician': 4980, 'achieved': 4981, 'pulling': 4982, 'juventus': 4983, 'rb': 4984, 'declaration': 4985, 'PLC': 4986, 'desperate': 4987, 'closely': 4988, 'unless': 4989, 'brush': 4990, 'prestigious': 4991, 'understand': 4992, 'titles': 4993, 'educational': 4994, 'jane': 4995, 'indefinitely': 4996, 'boyle': 4997, 'cool': 4998, 'replacing': 4999, 'lunch': 5000, 'easier': 5001, 'decrease': 5002, '101': 5003, 'outfit': 5004, 'blocks': 5005, 'letters': 5006, 'princess': 5007, 'butler': 5008, 'LP': 5009, 'occupied': 5010, 'miners': 5011, 'lt': 5012, 'preferred': 5013, 'indicated': 5014, 'norwegian': 5015, 'downgrades': 5016, 'beautiful': 5017, 'angel': 5018, 'coleman': 5019, 'lisa': 5020, 'definitive': 5021, 'lesbian': 5022, 'shape': 5023, 'emmy': 5024, 'mohammed': 5025, 'harassment': 5026, 'stages': 5027, 'dental': 5028, 'quebec': 5029, 'therapy': 5030, 'righthander': 5031, 'tesco': 5032, 'swap': 5033, 'boats': 5034, 'quinn': 5035, 'wichita': 5036, 'fines': 5037, 'ICC': 5038, 'renew': 5039, 'inmates': 5040, 'bounce': 5041, 'unpaid': 5042, 'horror': 5043, 'enable': 5044, 'readers': 5045, 'heath': 5046, '2004': 5047, 'farms': 5048, 'yard': 5049, 'ethics': 5050, 'jewellery': 5051, 'ventures': 5052, 'extreme': 5053, 'aberdeen': 5054, 'eyes': 5055, 'delivering': 5056, 'belgium': 5057, 'crowned': 5058, 'weakness': 5059, 'pretty': 5060, 'OPEC': 5061, 'teenagers': 5062, 'hearts': 5063, 'guru': 5064, 'norman': 5065, 'speedway': 5066, 'orioles': 5067, 'tips': 5068, 'appealing': 5069, 'largely': 5070, 'departments': 5071, 'gear': 5072, 'bashar': 5073, 'batsman': 5074, '20000': 5075, 'invitation': 5076, 'southwestern': 5077, 'spy': 5078, 'flow': 5079, '2020': 5080, 'wars': 5081, 'cardiac': 5082, 'lifestyle': 5083, 'grammy': 5084, 'citizenship': 5085, 'minneapolis': 5086, 'swing': 5087, 'fought': 5088, 'magnitude': 5089, 'arbitration': 5090, 'FORMER': 5091, 'cruz': 5092, 'tag': 5093, 'belgian': 5094, 'crunch': 5095, 'regulation': 5096, 'glee': 5097, '84': 5098, 'stripped': 5099, 'merge': 5100, 'clooney': 5101, 'ahmed': 5102, 'nathan': 5103, 'angels': 5104, 'vince': 5105, 'rumours': 5106, 'glasgow': 5107, 'joel': 5108, 'ecuador': 5109, 'destroys': 5110, 'difference': 5111, 'kicking': 5112, 'NJ': 5113, 'institution': 5114, '25000': 5115, 'quiet': 5116, 'breakfast': 5117, 'le': 5118, 'discount': 5119, 'tribunal': 5120, 'damascus': 5121, 'entitled': 5122, 'parole': 5123, 'declining': 5124, 'warnings': 5125, 'depp': 5126, 'unprecedented': 5127, 'lights': 5128, 'ultimate': 5129, 'nurse': 5130, 'seconds': 5131, 'H1N1': 5132, 'runway': 5133, 'document': 5134, 'fill': 5135, 'prosecution': 5136, 'sp': 5137, 'governance': 5138, 'slam': 5139, 'silvio': 5140, 'proceedings': 5141, 'oprah': 5142, 'wolves': 5143, 'broker': 5144, 'treaty': 5145, 'shootout': 5146, 'demonstration': 5147, 'transferred': 5148, 'understanding': 5149, 'responded': 5150, 'bankers': 5151, 'achieve': 5152, 'leaked': 5153, 'trooper': 5154, 'extremely': 5155, 'intervention': 5156, 'implementation': 5157, 'recruiting': 5158, 'economist': 5159, 'disappointed': 5160, 'borders': 5161, 'lexington': 5162, 'stem': 5163, 'bombs': 5164, 'spreading': 5165, 'enhanced': 5166, 'ashes': 5167, 'triplea': 5168, 'conrad': 5169, 'comic': 5170, 'recruitment': 5171, 'liver': 5172, 'tibet': 5173, 'employer': 5174, 'osama': 5175, 'cox': 5176, 'insurgents': 5177, 'exwife': 5178, 'affecting': 5179, 'narrowly': 5180, 'corn': 5181, 'mohamed': 5182, 'soul': 5183, 'bench': 5184, 'ads': 5185, 'tentative': 5186, 'server': 5187, 'eliminate': 5188, 'outlets': 5189, 'hull': 5190, 'pledge': 5191, 'naomi': 5192, 'silence': 5193, 'prompting': 5194, \"o'brien\": 5195, 'responding': 5196, 'moody': 5197, 'mad': 5198, '69': 5199, 'albert': 5200, 'misconduct': 5201, 'audio': 5202, 'trainer': 5203, 'worried': 5204, 'mayer': 5205, 'continental': 5206, 'submitted': 5207, 'shield': 5208, 'raj': 5209, 'lived': 5210, 'sharma': 5211, 'yuan': 5212, 'boxer': 5213, 'amnesty': 5214, 'widely': 5215, 'civic': 5216, 'capable': 5217, 'bradford': 5218, 'orissa': 5219, 'bronze': 5220, 'nude': 5221, 'finnish': 5222, 'sandra': 5223, 'organised': 5224, 'survival': 5225, 'kitchen': 5226, 'wings': 5227, '87': 5228, 'racial': 5229, 'punishment': 5230, 'giffords': 5231, 'recommended': 5232, 'obtained': 5233, 'longest': 5234, 'covering': 5235, 'romanian': 5236, 'definitely': 5237, 'o': 5238, 'detective': 5239, 'stones': 5240, 'lifts': 5241, 'eliminated': 5242, '110': 5243, 'originally': 5244, 'climbed': 5245, 'syracuse': 5246, 'spurs': 5247, 'skip': 5248, 'navigation': 5249, 'waived': 5250, 'accounting': 5251, 'luis': 5252, 'reverse': 5253, 'mogul': 5254, 'birds': 5255, 'minute': 5256, 'quarterfinals': 5257, 'apr': 5258, 'darren': 5259, 'remembered': 5260, 'gallagher': 5261, 'bruins': 5262, 'sanchez': 5263, 'volatile': 5264, 'defeating': 5265, 'silicon': 5266, 'thousand': 5267, 'autism': 5268, 'discussions': 5269, 'janata': 5270, 'selects': 5271, 'FOCUS': 5272, 'preparation': 5273, 'TMZ': 5274, 'wounds': 5275, '24yearold': 5276, 'concept': 5277, 'bowling': 5278, 'suite': 5279, 'creator': 5280, 'substance': 5281, 'exgirlfriend': 5282, 'robbing': 5283, 'capabilities': 5284, 'knot': 5285, '2nd': 5286, 'chronic': 5287, 'edinburgh': 5288, 'harrison': 5289, 'execution': 5290, 'keys': 5291, 'th': 5292, 'combined': 5293, 'tablets': 5294, 'brook': 5295, 'jumping': 5296, 'gate': 5297, 'pact': 5298, 'colombo': 5299, 'reconciliation': 5300, 'weighed': 5301, 'fugitive': 5302, 'calgary': 5303, 'winnipeg': 5304, 'catcher': 5305, '91': 5306, 'mainly': 5307, 'underground': 5308, 'recruit': 5309, 'harbor': 5310, 'amber': 5311, 'shoes': 5312, 'engineer': 5313, 'reiterated': 5314, 'accepts': 5315, 'verdict': 5316, '22yearold': 5317, 'soft': 5318, 'peterson': 5319, 'lambert': 5320, 'exporters': 5321, 'apologised': 5322, 'tours': 5323, 'disorder': 5324, 'admitting': 5325, 'DNA': 5326, 'assured': 5327, 'windsor': 5328, 'numerous': 5329, 'cyber': 5330, 'creates': 5331, 'footballer': 5332, 'taipei': 5333, 'yellow': 5334, 'k': 5335, '79': 5336, 'triggered': 5337, 'tension': 5338, 'hang': 5339, 'blackburn': 5340, 'organized': 5341, 'christchurch': 5342, '23yearold': 5343, 'jean': 5344, 'participation': 5345, 'EUR': 5346, 'singing': 5347, 'bryan': 5348, 'oath': 5349, 'buffett': 5350, 'assam': 5351, 'retained': 5352, 'extradition': 5353, 'extraordinary': 5354, 'bolster': 5355, 'pensions': 5356, 'intent': 5357, '1200': 5358, 'updates': 5359, 'wigan': 5360, '18th': 5361, 'retain': 5362, '360': 5363, 'finances': 5364, 'overturned': 5365, 'suisse': 5366, 'domain': 5367, 'romantic': 5368, 'renews': 5369, 'calm': 5370, 'cautious': 5371, 'crossed': 5372, 'fights': 5373, 'newark': 5374, 'routine': 5375, 'mariah': 5376, 'appointments': 5377, 'mortgages': 5378, 'ancient': 5379, 'shark': 5380, 'wrestling': 5381, 'roma': 5382, 'IPL': 5383, 'newport': 5384, 'certification': 5385, 'guidelines': 5386, 'bharti': 5387, 'XVI': 5388, '4000': 5389, 'severely': 5390, 'archbishop': 5391, 'albany': 5392, '92': 5393, 'charleston': 5394, 'penguins': 5395, 'seniors': 5396, 'cycle': 5397, 'billboard': 5398, 'badly': 5399, 'kutcher': 5400, 'railways': 5401, 'pollution': 5402, 'hartford': 5403, 'counter': 5404, 'cooperate': 5405, 'bullock': 5406, 'pledges': 5407, 'maintained': 5408, 'policeman': 5409, 'statements': 5410, 'andhra': 5411, 'pleading': 5412, 'encouraged': 5413, 'baker': 5414, 'swansea': 5415, 'doubt': 5416, 'lease': 5417, '19yearold': 5418, 'acquiring': 5419, 'wheel': 5420, 'genocide': 5421, 'chair': 5422, 'heavily': 5423, 'occasion': 5424, 'turmoil': 5425, 'pump': 5426, 'install': 5427, 'valued': 5428, 'woes': 5429, 'cuomo': 5430, 'writers': 5431, 'favour': 5432, 'developments': 5433, 'quest': 5434, 'cornerback': 5435, 'carriers': 5436, 'trends': 5437, 'vanessa': 5438, 'reed': 5439, 'blockbuster': 5440, 'desert': 5441, 'herald': 5442, 'holder': 5443, 'semiconductor': 5444, 'disciplinary': 5445, 'ally': 5446, 'drill': 5447, 'executed': 5448, 'offenders': 5449, 'contribute': 5450, 'wade': 5451, 'appearing': 5452, 'margaret': 5453, 'rocky': 5454, 'breach': 5455, 'zambia': 5456, 'slovenia': 5457, 'bullet': 5458, 'splits': 5459, 'manning': 5460, 'nonprofit': 5461, 'ivory': 5462, 'meters': 5463, 'frontier': 5464, 'freddie': 5465, 'explosive': 5466, 'indecent': 5467, 'riot': 5468, 'availability': 5469, 'stuck': 5470, 'peninsula': 5471, 'bowler': 5472, 'tens': 5473, 'button': 5474, 'maruti': 5475, 'distributor': 5476, 'oman': 5477, 'burglaries': 5478, 'thinking': 5479, 'dirty': 5480, 'vulnerable': 5481, 'michele': 5482, 'hazare': 5483, 'richards': 5484, 'fred': 5485, 'grace': 5486, 'tragedy': 5487, 'beta': 5488, 'rubber': 5489, 'manuel': 5490, 'HD': 5491, 'rehabilitation': 5492, 'sustainability': 5493, 'magistrate': 5494, 'sensation': 5495, 'filming': 5496, 'opponents': 5497, 'pupils': 5498, 'angela': 5499, 'gathering': 5500, 'bros': 5501, 'niagara': 5502, 'wickets': 5503, 'morris': 5504, 'supermodel': 5505, 'thriller': 5506, 'mamata': 5507, 'bath': 5508, 'rams': 5509, 'canal': 5510, 'ave': 5511, 'arsene': 5512, '58': 5513, 'socalled': 5514, 'jayz': 5515, 'relatives': 5516, 'athlete': 5517, 'unconscious': 5518, 'clearing': 5519, 'proved': 5520, 'somerset': 5521, 'struggles': 5522, 'substantial': 5523, 'ethiopia': 5524, 'cemetery': 5525, 'gaining': 5526, 'blagojevich': 5527, 'genetic': 5528, 'urge': 5529, 'knew': 5530, 'l': 5531, 'donate': 5532, 'valentine': 5533, 'strain': 5534, 'AIDS': 5535, 'shoe': 5536, 'survives': 5537, 'sudanese': 5538, 'chopra': 5539, 'fantasy': 5540, 'mile': 5541, 'vermont': 5542, 'sioux': 5543, 'settles': 5544, 'superintendent': 5545, 'throat': 5546, 'spell': 5547, 'rudd': 5548, 'logo': 5549, '130': 5550, 'loved': 5551, 'towns': 5552, 'fulham': 5553, 'circle': 5554, 'correspondent': 5555, 'cedar': 5556, 'drinks': 5557, 'serena': 5558, 'neighbor': 5559, 'deported': 5560, 'wishes': 5561, 'exciting': 5562, 'excessive': 5563, 'anchor': 5564, 'BHP': 5565, 'torn': 5566, 'religion': 5567, 'withdrew': 5568, 'thomson': 5569, 'allies': 5570, 'vendor': 5571, 'f': 5572, 'scientist': 5573, 'filled': 5574, 'McLaren': 5575, 'rainfall': 5576, 'panasonic': 5577, 'recovers': 5578, 'cheney': 5579, 'pratt': 5580, 'experienced': 5581, 'diaz': 5582, 'travis': 5583, 'christians': 5584, 'turner': 5585, '30000': 5586, '7th': 5587, 'insisting': 5588, 'richardson': 5589, 'subscribers': 5590, 'monsoon': 5591, 'violated': 5592, 'santorum': 5593, 'hathaway': 5594, 'reward': 5595, 'portal': 5596, 'exposed': 5597, 'favre': 5598, 'sensitive': 5599, 'miner': 5600, 'behalf': 5601, 'secures': 5602, 'knows': 5603, 'relay': 5604, 'doubleheader': 5605, 'answers': 5606, 'profile': 5607, 'suburb': 5608, 'aiming': 5609, 'muammar': 5610, 'paso': 5611, 'aguilera': 5612, 'mohammad': 5613, 'boulevard': 5614, '200000': 5615, 'impressive': 5616, 'licensing': 5617, 'cricketer': 5618, 'McCarthy': 5619, 'pose': 5620, 'SAP': 5621, 'gardens': 5622, 'drives': 5623, 'choose': 5624, 'logistics': 5625, 'benjamin': 5626, 'lineman': 5627, 'mosque': 5628, 'challenged': 5629, 'personality': 5630, 'cooperative': 5631, 'ailing': 5632, 'midday': 5633, 'map': 5634, 'assessment': 5635, 'questioned': 5636, 'format': 5637, 'mounting': 5638, 'omar': 5639, 'resigning': 5640, 'journey': 5641, 'seconddegree': 5642, 'SC': 5643, 'McDonald': 5644, 'startup': 5645, 'jintao': 5646, 'convertible': 5647, 'airtel': 5648, 'margin': 5649, 'container': 5650, 'electoral': 5651, 'views': 5652, 'jamaica': 5653, 'explain': 5654, 'carpet': 5655, 'partial': 5656, 'europa': 5657, 'reliever': 5658, 'arrival': 5659, 'maple': 5660, '14th': 5661, 'intersection': 5662, 'rehman': 5663, 'hornets': 5664, 'patil': 5665, 'indefinite': 5666, 'elect': 5667, 'vacation': 5668, '13th': 5669, 'vincent': 5670, 'resulting': 5671, 'tunisia': 5672, 'johansson': 5673, 'betty': 5674, 'grown': 5675, 'yorkshire': 5676, 'sofia': 5677, 'privately': 5678, 'narendra': 5679, 'talked': 5680, 'vicepresident': 5681, 'resulted': 5682, 'sena': 5683, 'ecommerce': 5684, 'firearms': 5685, 'spiritual': 5686, 'safely': 5687, 'favor': 5688, 'destroy': 5689, 'doherty': 5690, 'pipe': 5691, 'tire': 5692, 'sponsorship': 5693, 'stevens': 5694, 'cues': 5695, 'booked': 5696, 'couples': 5697, 'qualify': 5698, 'planet': 5699, '05': 5700, 'cement': 5701, 'composer': 5702, 'briefing': 5703, 'des': 5704, 'juvenile': 5705, 'require': 5706, 'horses': 5707, 'emerge': 5708, 'austrian': 5709, 'robbers': 5710, 'marketplace': 5711, 'goa': 5712, 'newborn': 5713, 'purchased': 5714, 'ryanair': 5715, 'danish': 5716, 'prepaid': 5717, '350': 5718, 'starbucks': 5719, 'molestation': 5720, 'sindh': 5721, 'stemming': 5722, 'blacks': 5723, 'shootings': 5724, 'belt': 5725, 'rockies': 5726, 'rankings': 5727, 'tripoli': 5728, 'infringement': 5729, 'historical': 5730, 'contribution': 5731, 'GDP': 5732, 'harvest': 5733, 'conn': 5734, '3G': 5735, 'speeding': 5736, 'transmission': 5737, 'load': 5738, 'bancorp': 5739, 'cats': 5740, 'layoffs': 5741, 'bennett': 5742, 'JPMorgan': 5743, 'UCLA': 5744, 'govt': 5745, 'norfolk': 5746, 'michaels': 5747, 'breakthrough': 5748, 'longoria': 5749, 'antigovernment': 5750, 'salem': 5751, 'hardware': 5752, '15th': 5753, 'g': 5754, 'economists': 5755, 'neighbours': 5756, 'likes': 5757, 'contractors': 5758, 'jakarta': 5759, 'arraigned': 5760, 'protesting': 5761, 'picking': 5762, 'OS': 5763, 'bonuses': 5764, 'SEC': 5765, 'licenses': 5766, 'discover': 5767, 'cage': 5768, 'restructure': 5769, 'bolt': 5770, 'explore': 5771, 'cheap': 5772, 'seem': 5773, '28yearold': 5774, 'buyout': 5775, 'revealing': 5776, 'PPP': 5777, 'administrator': 5778, 'traveling': 5779, 'grounds': 5780, 'encourage': 5781, 'boris': 5782, 'welsh': 5783, 'wallace': 5784, 'publication': 5785, 'essex': 5786, 'mercury': 5787, 'mistakes': 5788, 'bust': 5789, 'lessons': 5790, 'ones': 5791, 'checkpoint': 5792, 'riley': 5793, 'tmobile': 5794, 'represent': 5795, 'crush': 5796, 'kid': 5797, 'oxford': 5798, 'criminals': 5799, 'bout': 5800, 'foreigners': 5801, 'sentencing': 5802, 'dawn': 5803, 'campaigns': 5804, 'mum': 5805, 'marlins': 5806, 'risen': 5807, 'solve': 5808, 'punched': 5809, 'duo': 5810, 'lahore': 5811, 'advisers': 5812, 'innocent': 5813, 'regrets': 5814, 'focusing': 5815, 'hungarian': 5816, 'turkmenistan': 5817, 'declaring': 5818, 'canyon': 5819, 'procedure': 5820, 'fleeing': 5821, 'depot': 5822, 'compact': 5823, 'durham': 5824, 'extensive': 5825, 'bang': 5826, 'pack': 5827, 'assad': 5828, 'heroes': 5829, 'derek': 5830, 'thunder': 5831, 'kenyan': 5832, 'raja': 5833, 'mo': 5834, 'grass': 5835, 'rapidly': 5836, 'glenn': 5837, 'analytics': 5838, '30yearold': 5839, 'hiding': 5840, 'sheffield': 5841, 'bridges': 5842, 'timothy': 5843, 'salaries': 5844, 'brent': 5845, 'renowned': 5846, 'outage': 5847, 'surface': 5848, 'qualified': 5849, 'satyam': 5850, 'connect': 5851, 'orchestra': 5852, 'gallery': 5853, 'associate': 5854, '25yearold': 5855, 'modest': 5856, 'sweet': 5857, 'reception': 5858, 'threaten': 5859, 'uk': 5860, 'apologises': 5861, 'carnival': 5862, '2002': 5863, 'bitter': 5864, 'fouryear': 5865, 'investigations': 5866, 'willing': 5867, 'prompted': 5868, 'nile': 5869, 'garbage': 5870, 'jharkhand': 5871, 'flags': 5872, 'turbine': 5873, 'remanded': 5874, 'pretax': 5875, 'confessed': 5876, 'concerts': 5877, 'kingston': 5878, 'retreat': 5879, 'apps': 5880, 'slated': 5881, 'acquisitions': 5882, 'associates': 5883, 'function': 5884, '17th': 5885, 'hosni': 5886, 'tucson': 5887, 'bold': 5888, 'meant': 5889, 'palmer': 5890, 'taxpayers': 5891, 'concrete': 5892, 'qualifier': 5893, 'plenty': 5894, 'boosting': 5895, 'kirk': 5896, 'winfrey': 5897, 'leicester': 5898, 'hart': 5899, 'praise': 5900, 'richie': 5901, 'renault': 5902, 'touched': 5903, 'climb': 5904, 'minogue': 5905, 'walsh': 5906, 'australians': 5907, 'cannabis': 5908, 'advocates': 5909, 'walter': 5910, 'honors': 5911, 'marries': 5912, 'metropolitan': 5913, 'wii': 5914, 'offense': 5915, 'backup': 5916, 'geneva': 5917, 'nicki': 5918, 'minaj': 5919, 'sweeping': 5920, 'controlled': 5921, 'appoint': 5922, 'yousuf': 5923, 'petersburg': 5924, 'statue': 5925, 'promotions': 5926, 'powell': 5927, 'spice': 5928, 'liquidity': 5929, 'colts': 5930, 'ports': 5931, 'excited': 5932, 'lab': 5933, 'helen': 5934, 'participating': 5935, 'camps': 5936, 'ideas': 5937, 'parked': 5938, 'disputes': 5939, 'blew': 5940, 'withdrawal': 5941, 'essential': 5942, 'toss': 5943, 'sorry': 5944, 'WOMAN': 5945, 'mini': 5946, 'tulsa': 5947, 'ash': 5948, 'bright': 5949, 'endorsement': 5950, 'radical': 5951, 'expelled': 5952, 'minn': 5953, 'romance': 5954, 'stick': 5955, 'stoke': 5956, 'gray': 5957, '2016': 5958, 'manila': 5959, 'owns': 5960, 'tsvangirai': 5961, 'pursue': 5962, 'policemen': 5963, 'bangkok': 5964, 'hijacked': 5965, 'voter': 5966, 'rovers': 5967, 'else': 5968, 'vietnamese': 5969, 'molesting': 5970, 'plate': 5971, 'imran': 5972, 'blind': 5973, 'finishes': 5974, 'percentage': 5975, 'collective': 5976, 'credits': 5977, 'checked': 5978, 'approached': 5979, 'possessing': 5980, 'optimistic': 5981, 'dragged': 5982, 'adele': 5983, 'overweight': 5984, 'treasurer': 5985, 'crane': 5986, 'HBO': 5987, 'skype': 5988, 'strengthening': 5989, 'diving': 5990, 'overdose': 5991, 'debts': 5992, 'mae': 5993, 'banerjee': 5994, 'invites': 5995, 'platinum': 5996, 'plunge': 5997, 'sleeping': 5998, 'megan': 5999, 'unified': 6000, 'grandmother': 6001, 'beatles': 6002, 'travelling': 6003, 'components': 6004, 'celebrities': 6005, 'specific': 6006, 'devastating': 6007, 'universe': 6008, 'sit': 6009, 'surprised': 6010, 'dying': 6011, 'elite': 6012, 'nurses': 6013, 'warrants': 6014, 'unusual': 6015, 'remake': 6016, 'fever': 6017, 'scarlett': 6018, 'hacked': 6019, 'nets': 6020, 'autopsy': 6021, 'dismisses': 6022, 'consultancy': 6023, 'plaza': 6024, 'colleagues': 6025, 'listing': 6026, 'laboratory': 6027, 'flyers': 6028, 'strict': 6029, 'soaring': 6030, 'intensive': 6031, 'golfer': 6032, 'vijay': 6033, 'doug': 6034, 'laura': 6035, 'equality': 6036, 'simply': 6037, 'awaited': 6038, 'catherine': 6039, 'abused': 6040, 'handling': 6041, 'guests': 6042, 'sergio': 6043, 'thin': 6044, 'framework': 6045, 'joey': 6046, 'stanford': 6047, 'premiership': 6048, 'inappropriate': 6049, 'amtrak': 6050, 'pond': 6051, 'rajya': 6052, 'heather': 6053, 'pune': 6054, '3rd': 6055, '4th': 6056, 'cream': 6057, 'neglect': 6058, 'attractive': 6059, 'alberto': 6060, 'stuart': 6061, 'encouraging': 6062, 'miranda': 6063, 'reduces': 6064, 'underage': 6065, 'rays': 6066, 'thackeray': 6067, 'DVD': 6068, 'villages': 6069, 'suggest': 6070, 'rebounded': 6071, 'improvements': 6072, 'cannon': 6073, 'malta': 6074, 'riverside': 6075, 'regain': 6076, 'stood': 6077, 'guitar': 6078, 'posed': 6079, 'mountains': 6080, '000': 6081, 'councillors': 6082, 'slain': 6083, 'brutal': 6084, 'hospitalised': 6085, 'detectives': 6086, 'lowered': 6087, 'USbased': 6088, 'sudden': 6089, 'portion': 6090, 'chargers': 6091, 'publicist': 6092, 'knicks': 6093, 'complications': 6094, 'activated': 6095, 'reynolds': 6096, 'bachmann': 6097, 'plymouth': 6098, '400000': 6099, 'adoption': 6100, 'aden': 6101, 'referee': 6102, 'carroll': 6103, 'kobe': 6104, 'paterson': 6105, 'TWO': 6106, 'defamation': 6107, 'revive': 6108, 'pattern': 6109, 'brawl': 6110, 'suddenly': 6111, 'marco': 6112, 'addresses': 6113, 'hamstring': 6114, 'alleging': 6115, 'eds': 6116, 'ranking': 6117, 'strategies': 6118, 'organizers': 6119, 'rap': 6120, 'sharon': 6121, 'stomach': 6122, 'provinces': 6123, 'stressed': 6124, 'damaging': 6125, 'protected': 6126, '04': 6127, 'buzz': 6128, 'proper': 6129, 'tear': 6130, 'providence': 6131, 'prayer': 6132, 'torture': 6133, 'mobility': 6134, 'tweet': 6135, 'mainland': 6136, 'guinea': 6137, 'subway': 6138, 'influential': 6139, 'circumstances': 6140, 'partially': 6141, '59': 6142, 'portuguese': 6143, 'lie': 6144, 'outsourcing': 6145, 'spin': 6146, 'massacre': 6147, 'marines': 6148, 'pierce': 6149, 'cristiano': 6150, 'iOS': 6151, 'lieutenant': 6152, 'geithner': 6153, 'proceeds': 6154, 'addressing': 6155, 'autumn': 6156, 'quarterfinal': 6157, 'uganda': 6158, 'rukh': 6159, 'mistake': 6160, '4G': 6161, 'webber': 6162, 'segment': 6163, 'LONDON': 6164, 'brooks': 6165, 'requested': 6166, 'mourinho': 6167, 'brokerage': 6168, 'myers': 6169, 'radiation': 6170, 'volkswagen': 6171, 'efficient': 6172, 'swings': 6173, 'mayweather': 6174, 'mavericks': 6175, 'origin': 6176, 'advani': 6177, 'saves': 6178, 'fresno': 6179, 'stretch': 6180, 'jun': 6181, 'printing': 6182, 'acclaimed': 6183, 'cain': 6184, 'ellen': 6185, 'degrees': 6186, 'hinted': 6187, 'trigger': 6188, 'multimillion': 6189, 'suppliers': 6190, 'sluggish': 6191, 'precious': 6192, 'submit': 6193, 'repairs': 6194, 'effectively': 6195, 'hindu': 6196, 'medicaid': 6197, 'glen': 6198, 'TD': 6199, '15yearold': 6200, 'garcia': 6201, 'battled': 6202, 'rounds': 6203, 'AOL': 6204, 'GE': 6205, 'krishna': 6206, 'noel': 6207, 'contender': 6208, 'coyotes': 6209, 'carmaker': 6210, 'notre': 6211, 'shipments': 6212, 'cruises': 6213, 'di': 6214, 'oscarwinning': 6215, 'maintains': 6216, 'rd': 6217, 'rhode': 6218, 'LOS': 6219, 'jaguars': 6220, 'bingo': 6221, 'maintaining': 6222, 'fabio': 6223, 'contained': 6224, 'gilbert': 6225, 'wolf': 6226, 'contributions': 6227, 'attorneys': 6228, 'gala': 6229, 'perhaps': 6230, 'floating': 6231, 'schumacher': 6232, 'enjoying': 6233, 'intention': 6234, 'iTunes': 6235, 'holders': 6236, 'reckless': 6237, 'symptoms': 6238, 'gifts': 6239, 'intended': 6240, 'CA': 6241, 'boom': 6242, 'stateowned': 6243, 'satellites': 6244, 'popularity': 6245, 'tumbled': 6246, 'inspector': 6247, 'thief': 6248, 'secondlargest': 6249, 'consolidation': 6250, 'gonzalez': 6251, 'fierce': 6252, 'griffin': 6253, 'truth': 6254, 'equal': 6255, 'automation': 6256, 'presentation': 6257, 'performances': 6258, 'noted': 6259, 'sidelines': 6260, 'offerings': 6261, 'finishing': 6262, 'LG': 6263, 'burma': 6264, 'u': 6265, 'organisers': 6266, 'etihad': 6267, 'invested': 6268, 'valencia': 6269, 'CIA': 6270, 'greenhouse': 6271, 'teeth': 6272, 'karl': 6273, 'donation': 6274, 'passport': 6275, 'sierra': 6276, 'astros': 6277, 'borough': 6278, 'brokers': 6279, 'implemented': 6280, 'priced': 6281, 'tractor': 6282, '6000': 6283, 'collected': 6284, 'hikes': 6285, 'projected': 6286, 'neighbors': 6287, 'uncertain': 6288, 'gym': 6289, 'deployed': 6290, '225': 6291, 'bend': 6292, 'AAA': 6293, 'cardinal': 6294, 'impose': 6295, 'humphries': 6296, 'uniform': 6297, 'mansion': 6298, 'quitting': 6299, 'burglar': 6300, 'tap': 6301, 'whale': 6302, 'walks': 6303, 'farewell': 6304, 'retains': 6305, 'postpones': 6306, 'fate': 6307, 'reputation': 6308, 'victor': 6309, 'compromise': 6310, 'dip': 6311, 'soil': 6312, 'huntington': 6313, 'utilities': 6314, 'ladies': 6315, 'barton': 6316, '250000': 6317, 'courthouse': 6318, 'hamburg': 6319, 'bundesliga': 6320, 'hanged': 6321, 'swan': 6322, 'presidents': 6323, 'erupted': 6324, 'IPO': 6325, 'survivors': 6326, 'deployment': 6327, 'penalties': 6328, 'dhoni': 6329, 'barn': 6330, '94': 6331, 'deciding': 6332, 'snap': 6333, 'mothers': 6334, 'riders': 6335, 'testify': 6336, '19th': 6337, 'wider': 6338, 'nervous': 6339, 'videos': 6340, 'slowly': 6341, 'alqaida': 6342, 'inventories': 6343, 'challenger': 6344, 'absolutely': 6345, 'istanbul': 6346, 'baptist': 6347, 'addressed': 6348, 'courses': 6349, 'du': 6350, 'steep': 6351, 'arthur': 6352, 'miliband': 6353, 'shortfall': 6354, 'sharapova': 6355, 'yoga': 6356, 'capello': 6357, 'swung': 6358, 'removal': 6359, 'graduates': 6360, 'lockout': 6361, 'nuggets': 6362, 'welterweight': 6363, 'alicia': 6364, '300000': 6365, 'benitez': 6366, 'vick': 6367, 'shuts': 6368, 'O2': 6369, 'halted': 6370, 'paise': 6371, 'exactly': 6372, 'UPA': 6373, 'tuition': 6374, 'disabilities': 6375, 'addiction': 6376, 'matters': 6377, 'symbol': 6378, 'excellent': 6379, 'bailey': 6380, 'duncan': 6381, 'daytona': 6382, 'wilmington': 6383, 'accusations': 6384, 'serie': 6385, 'excellence': 6386, '15000': 6387, 'consensus': 6388, 'formation': 6389, 'singles': 6390, 'preston': 6391, 'greene': 6392, 'caps': 6393, 'boards': 6394, 'rough': 6395, 'participants': 6396, 'publish': 6397, 'aamir': 6398, 'prairie': 6399, 'vettel': 6400, 'na': 6401, 'ET': 6402, 'meals': 6403, 'lucas': 6404, 'RBI': 6405, 'nawaz': 6406, 'permit': 6407, 'raul': 6408, 'housewives': 6409, 'adrian': 6410, 'lighting': 6411, 'batch': 6412, 'daughters': 6413, 'meaning': 6414, 'workplace': 6415, 'aung': 6416, 'strausskahn': 6417, 'crazy': 6418, 'tumor': 6419, 'natalie': 6420, 'teammates': 6421, 'NYC': 6422, 'hawks': 6423, 'silva': 6424, 'kyrgyz': 6425, 'organic': 6426, 'exchanges': 6427, 'dayton': 6428, 'reelected': 6429, 'governing': 6430, 'scholarship': 6431, 'faculty': 6432, 'tyson': 6433, 'zsa': 6434, 'pitches': 6435, 'stern': 6436, 'ranch': 6437, 'grows': 6438, 'plains': 6439, 'handle': 6440, 'burst': 6441, 'intense': 6442, 'astronaut': 6443, 'downs': 6444, 'revenge': 6445, 'eligible': 6446, 'pills': 6447, 'vehicular': 6448, 'merrill': 6449, 'firstdegree': 6450, 'panic': 6451, 'suffolk': 6452, 'patel': 6453, 'ages': 6454, 'worlds': 6455, 'gazprom': 6456, '21st': 6457, 'institutional': 6458, 'appealed': 6459, 'distribute': 6460, 'gabrielle': 6461, 'troy': 6462, 'SAN': 6463, 'dominican': 6464, 'harvey': 6465, 'sting': 6466, 'disorderly': 6467, 'twotime': 6468, 'jockey': 6469, 'volcano': 6470, 'finale': 6471, 'boosts': 6472, 'transactions': 6473, 'halloween': 6474, 'behavior': 6475, 'rebuild': 6476, 'enjoyed': 6477, 'showcase': 6478, 'wrist': 6479, 'mouth': 6480, 'aussie': 6481, 'globally': 6482, '201112': 6483, 'barrels': 6484, 'reunited': 6485, 'pirate': 6486, 'falcons': 6487, 'hammer': 6488, 'toys': 6489, 'batting': 6490, 'wonder': 6491, 'quarters': 6492, 'veto': 6493, 'katrina': 6494, 'solidarity': 6495, 'hostile': 6496, 'presenter': 6497, 'anil': 6498, 'economics': 6499, 'spray': 6500, 'bruno': 6501, 'ex': 6502, 'gosselin': 6503, \"o'neal\": 6504, 'metres': 6505, 'tevez': 6506, 'trevor': 6507, 'infielder': 6508, 'sometimes': 6509, 'singersongwriter': 6510, 'legs': 6511, 'administrators': 6512, '18yearold': 6513, 'youngest': 6514, 'develops': 6515, 'carson': 6516, 'disrupted': 6517, 'ellis': 6518, 'halle': 6519, 'earthquakes': 6520, 'thank': 6521, 'moments': 6522, 'wash': 6523, 'cellular': 6524, '16th': 6525, 'tattoo': 6526, 'bottle': 6527, 'wet': 6528, 'reflecting': 6529, 'method': 6530, 'relegation': 6531, 'harvard': 6532, 'cooking': 6533, 'invitational': 6534, 'prefer': 6535, 'surrender': 6536, 'claire': 6537, 'hundred': 6538, 'halifax': 6539, 'covered': 6540, 'councilman': 6541, 'stunning': 6542, 'carlisle': 6543, 'transparency': 6544, 'governors': 6545, 'ANGELES': 6546, 'henderson': 6547, 'rogue': 6548, 'muscle': 6549, 'seal': 6550, 'fruit': 6551, 'councillor': 6552, 'padres': 6553, 'aerospace': 6554, 'devils': 6555, 'covers': 6556, 'approaching': 6557, 'belfast': 6558, 'subsidies': 6559, 'witherspoon': 6560, 'shutdown': 6561, 'bharatiya': 6562, 'strengthens': 6563, 'rover': 6564, 'nato': 6565, 'weakens': 6566, 'edges': 6567, 'generate': 6568, 'raids': 6569, 'avalanche': 6570, 'interbank': 6571, 'mate': 6572, 'ms': 6573, 'spoken': 6574, 'sheet': 6575, 'valuable': 6576, 'freshman': 6577, 'stories': 6578, 'stance': 6579, 'herman': 6580, 'maps': 6581, 'shaun': 6582, 'pointed': 6583, 'yadav': 6584, 'djokovic': 6585, 'headon': 6586, 'bhd': 6587, 'JP': 6588, 'exhusband': 6589, 'restricted': 6590, 'engines': 6591, 'reunion': 6592, 'blasted': 6593, 'chips': 6594, 'panthers': 6595, 'heels': 6596, 'puerto': 6597, 'unexpected': 6598, 'bombings': 6599, 'endeavour': 6600, 'destinations': 6601, 'lobby': 6602, 'pressures': 6603, 'relating': 6604, 'nose': 6605, 'wipro': 6606, 'spree': 6607, 'demonstrators': 6608, 'incumbent': 6609, 'issuing': 6610, 't': 6611, 'gender': 6612, 'railroad': 6613, 'nobody': 6614, 'ronnie': 6615, 'containing': 6616, 'joy': 6617, 'succeed': 6618, 'hayden': 6619, 'intellectual': 6620, 'pursuit': 6621, 'questioning': 6622, 'banning': 6623, 'drawn': 6624, 'outperform': 6625, 'beaches': 6626, 'decides': 6627, 'trained': 6628, 'crawford': 6629, 'subsidiaries': 6630, 'iceland': 6631, '93': 6632, 'earns': 6633, 'playboy': 6634, 'crossborder': 6635, 'shocking': 6636, 'handset': 6637, 'castle': 6638, 'sank': 6639, 'lawn': 6640, 'tanks': 6641, 'prosperity': 6642, 'lashed': 6643, 'volatility': 6644, 'cops': 6645, 'constable': 6646, 'assassination': 6647, 'concerning': 6648, 'creditors': 6649, 'lauren': 6650, 'isle': 6651, 'completing': 6652, 'connected': 6653, 'messaging': 6654, 'netflix': 6655, 'voluntarily': 6656, 'schemes': 6657, 'blackpool': 6658, 'billiton': 6659, 'operated': 6660, 'infosys': 6661, 'bargain': 6662, 'damon': 6663, 'pearl': 6664, 'leonardo': 6665, 'ambitious': 6666, 'amazing': 6667, 'criticized': 6668, 'revival': 6669, 'introduction': 6670, 'pig': 6671, 'amsterdam': 6672, 'imported': 6673, 'chuck': 6674, 'mysterious': 6675, 'patents': 6676, 'reinstated': 6677, 'marie': 6678, '6th': 6679, 'exclusively': 6680, 'USC': 6681, 'epic': 6682, 'legacy': 6683, 'queens': 6684, 'fiat': 6685, 'helicopters': 6686, 'noble': 6687, 'tinto': 6688, 'troopers': 6689, 'hails': 6690, 'eases': 6691, 'consequences': 6692, 'platforms': 6693, 'cocacola': 6694, 'MySpace': 6695, 'anger': 6696, 'patch': 6697, 'algeria': 6698, 'confrontation': 6699, 'merchant': 6700, 'travelers': 6701, 'battles': 6702, 'smashed': 6703, 'trio': 6704, 'anonymous': 6705, 'hackers': 6706, 'certificate': 6707, 'hopkins': 6708, 'opposed': 6709, 'novak': 6710, 'dreams': 6711, 'fiery': 6712, 'rossi': 6713, 'carrie': 6714, 'charities': 6715, 'yield': 6716, 'broking': 6717, 'luck': 6718, 'spends': 6719, 'sexy': 6720, 'studying': 6721, 'lets': 6722, 'tougher': 6723, 'tel': 6724, 'clemens': 6725, 'reaction': 6726, 'packed': 6727, 'pointing': 6728, 'reject': 6729, 'eventually': 6730, 'stamford': 6731, 'arriving': 6732, 'laundering': 6733, 'FDA': 6734, 'brendan': 6735, 'repeal': 6736, 'reference': 6737, 'detected': 6738, 'narrow': 6739, 'macedonia': 6740, 'croatia': 6741, 'toilet': 6742, 'deny': 6743, 'secrets': 6744, 'texans': 6745, 'hidden': 6746, 'exam': 6747, 'dengue': 6748, 'harbour': 6749, 'lays': 6750, 'reactor': 6751, 'dubbed': 6752, 'amazoncom': 6753, 'delighted': 6754, 'cathedral': 6755, 'moral': 6756, 'myself': 6757, 'priyanka': 6758, 'gossip': 6759, 'lou': 6760, 'upbeat': 6761, 'sanjay': 6762, 'snapped': 6763, 'walt': 6764, '40th': 6765, 'LSU': 6766, 'capsized': 6767, 'grey': 6768, 'friendship': 6769, 'unfair': 6770, 'toxic': 6771, 'respectively': 6772, 'replaces': 6773, 'combine': 6774, 'myrtle': 6775, 'laying': 6776, 'exercises': 6777, 'repeatedly': 6778, 'engage': 6779, 'generic': 6780, 'regard': 6781, 'faulty': 6782, 'battered': 6783, 'relative': 6784, 'distributed': 6785, 'sara': 6786, 'tip': 6787, 'shale': 6788, 'plotting': 6789, 'medium': 6790, 'foul': 6791, 'cal': 6792, 'scouts': 6793, 'signature': 6794, 'flew': 6795, 'ahmad': 6796, '30th': 6797, 'counsel': 6798, 'bankrupt': 6799, 'displaced': 6800, 'runoff': 6801, 'drummer': 6802, 'hell': 6803, 'coventry': 6804, 'murders': 6805, 'volvo': 6806, 'fisherman': 6807, 'ballots': 6808, '02': 6809, 'NZ': 6810, 'filipino': 6811, '14yearold': 6812, 'factories': 6813, 'IP': 6814, 'mirza': 6815, 'poses': 6816, 'bounced': 6817, 'ditch': 6818, 'reese': 6819, 'eBay': 6820, 'chat': 6821, 'congratulates': 6822, 'sweeps': 6823, 'seekers': 6824, 'wilkinson': 6825, 'rifle': 6826, 'bicycle': 6827, 'municipality': 6828, 'venue': 6829, '2001': 6830, 'households': 6831, 'protecting': 6832, 'barrier': 6833, 'arlington': 6834, 'holland': 6835, 'polling': 6836, 'li': 6837, 'WBC': 6838, 'self': 6839, 'mix': 6840, '5th': 6841, 'packages': 6842, 'clayton': 6843, 'undercover': 6844, 'maoist': 6845, 'adjusted': 6846, 'khalifa': 6847, 'adjourned': 6848, 'florence': 6849, 'flown': 6850, 'cigarettes': 6851, 'saskatchewan': 6852, 'rage': 6853, 'slower': 6854, 'piracy': 6855, 'lyon': 6856, 'lock': 6857, 'ripped': 6858, 'anthem': 6859, 'jackie': 6860, 'consultation': 6861, 'dhaka': 6862, 'evacuate': 6863, 'guardian': 6864, 'specifically': 6865, 'attendance': 6866, 'departure': 6867, 'freeway': 6868, 'oliver': 6869, 'poisoning': 6870, 'instruments': 6871, 'humans': 6872, 'dominique': 6873, 'blames': 6874, 'drake': 6875, 'graduation': 6876, 'shahid': 6877, 'kidnap': 6878, 'pfizer': 6879, 'aware': 6880, 'dpa': 6881, 'approaches': 6882, 'sponsored': 6883, 'shocked': 6884, 'coma': 6885, 'afraid': 6886, 'biopic': 6887, 'knox': 6888, 'hurricanes': 6889, 'allocation': 6890, 'der': 6891, '23rd': 6892, 'runner': 6893, 'burlington': 6894, 'abbey': 6895, 'ASEAN': 6896, 'explodes': 6897, 'vernon': 6898, 'indicates': 6899, 'ethiopian': 6900, 'sullivan': 6901, 'grenade': 6902, 'broader': 6903, 'bribery': 6904, 'rig': 6905, 'peoples': 6906, 'rodgers': 6907, 'kindle': 6908, 'starter': 6909, 'productivity': 6910, 'programmes': 6911, 'oppose': 6912, 'surcharge': 6913, 'buyer': 6914, 'particular': 6915, 'consolidate': 6916, 'loaded': 6917, 'rwanda': 6918, 'demolition': 6919, 'portable': 6920, 'inn': 6921, 'panels': 6922, 'empty': 6923, 'malawi': 6924, 'conducting': 6925, 'clashed': 6926, 'climbing': 6927, 'slid': 6928, 'indie': 6929, 'aliyev': 6930, 'mode': 6931, 'bible': 6932, 'resolved': 6933, 'loose': 6934, 'nice': 6935, 'bucks': 6936, 'pistorius': 6937, 'lionel': 6938, 'widened': 6939, 'diana': 6940, 'dylan': 6941, 'victorian': 6942, 'laptop': 6943, 'adopts': 6944, '135': 6945, 'trader': 6946, 'hiphop': 6947, 'testimony': 6948, 'propose': 6949, 'altercation': 6950, 'irene': 6951, 'placing': 6952, 'competing': 6953, 'dressed': 6954, 'restart': 6955, 'offseason': 6956, 'hernandez': 6957, 'hezbollah': 6958, 'firstquarter': 6959, 'counterparts': 6960, 'busch': 6961, 'consulate': 6962, 'councils': 6963, 'slight': 6964, 'angola': 6965, 'nova': 6966, '8000': 6967, 'washed': 6968, 'uzbekistan': 6969, 'goodwill': 6970, 'ryder': 6971, 'surrey': 6972, 'sequel': 6973, 'dogg': 6974, 'kiss': 6975, 'hewitt': 6976, 'EA': 6977, 'apparel': 6978, 'desktop': 6979, 'criticised': 6980, 'goaltender': 6981, 'famed': 6982, 'greenback': 6983, 'caution': 6984, 'tenn': 6985, 'reddy': 6986, 'overtime': 6987, 'olmert': 6988, 'kurdish': 6989, 'donor': 6990, 'collect': 6991, 'reviewing': 6992, 'bullish': 6993, 'cheated': 6994, 'marginally': 6995, 'quake': 6996, 'roots': 6997, 'bombers': 6998, 'struggled': 6999, 'felipe': 7000, '01': 7001, 'workout': 7002, 'stalled': 7003, 'asthma': 7004, 'cavaliers': 7005, 'temperature': 7006, 'reliable': 7007, 'tighten': 7008, 'axe': 7009, 'legislators': 7010, 'silent': 7011, 'pages': 7012, '140': 7013, 'dodge': 7014, 'explains': 7015, 'opposite': 7016, 'predicts': 7017, 'santos': 7018, 'typhoon': 7019, 'eli': 7020, 'sparks': 7021, 'pancreatic': 7022, 'heating': 7023, 'JD': 7024, 'gunshot': 7025, 'blackhawks': 7026, 'punch': 7027, 'marsh': 7028, '17yearold': 7029, 'allrounder': 7030, 'mali': 7031, 'cab': 7032, 'consultant': 7033, 'clears': 7034, 'islamist': 7035, 'fractured': 7036, 'findings': 7037, 'maybe': 7038, '2003': 7039, 'error': 7040, 'compound': 7041, 'mph': 7042, 'folk': 7043, 'symphony': 7044, 'chester': 7045, 'manitoba': 7046, 'puppy': 7047, 'ledger': 7048, 'croatian': 7049, 'gig': 7050, 'rev': 7051, 'forming': 7052, 'abduction': 7053, 'revolutionary': 7054, 'recognize': 7055, 'introducing': 7056, 'shaw': 7057, 'tiny': 7058, 'imprisonment': 7059, 'bump': 7060, 'outages': 7061, 'jenkins': 7062, 'reconstruction': 7063, 'bernie': 7064, 'ITV': 7065, '16yearold': 7066, 'homeland': 7067, 'lanes': 7068, 'statutory': 7069, 'seng': 7070, 'endangered': 7071, 'oasis': 7072, 'gubernatorial': 7073, 'cattle': 7074, 'facial': 7075, 'tipped': 7076, 'agreeing': 7077, 'chaos': 7078, 'disruption': 7079, 'orbit': 7080, 'hunters': 7081, 'anand': 7082, 'sitcom': 7083, 'wifi': 7084, 'willie': 7085, 'jul': 7086, 'inauguration': 7087, 'pietersen': 7088, 'notorious': 7089, 'leafs': 7090, 'canucks': 7091, 'reorganization': 7092, 'kidman': 7093, 'hussain': 7094, 'apartments': 7095, 'initiated': 7096, 'indoor': 7097, 'redknapp': 7098, 'zac': 7099, 'jade': 7100, 'les': 7101, 'makeover': 7102, 'kraft': 7103, 'withdrawing': 7104, 'AB': 7105, 'GaGa': 7106, 'samuel': 7107, 'LTE': 7108, '49ers': 7109, 'glory': 7110, 'chocolate': 7111, 'steam': 7112, 'maiden': 7113, 'publishes': 7114, '102': 7115, 'dragon': 7116, 'surgeon': 7117, 'hassan': 7118, 'slips': 7119, 'invests': 7120, 'purpose': 7121, 'teach': 7122, 'designs': 7123, 'procedures': 7124, 'secondquarter': 7125, 'yards': 7126, 'erie': 7127, 'h': 7128, 'happens': 7129, 'posing': 7130, 'madoff': 7131, 'vessels': 7132, 'telegraph': 7133, 'mancini': 7134, 'congratulated': 7135, 'daniels': 7136, 'manner': 7137, 'deserve': 7138, 'kurt': 7139, 'butt': 7140, 'lawsuits': 7141, 'repeat': 7142, 'profitability': 7143, 'mandatory': 7144, 'matthews': 7145, 'thus': 7146, 'roethlisberger': 7147, 'commissioned': 7148, 'motel': 7149, 'laser': 7150, 'clippers': 7151, 'pine': 7152, 'hampton': 7153, 'zones': 7154, 'hat': 7155, 'founding': 7156, 'km': 7157, 'AFC': 7158, 'requests': 7159, 'winslet': 7160, 'citi': 7161, 'happiness': 7162, 'doubts': 7163, 'imminent': 7164, 'payroll': 7165, 'pelosi': 7166, 'obsessed': 7167, 'permanently': 7168, 'messi': 7169, 're': 7170, 'desire': 7171, 'advocate': 7172, 'initially': 7173, 'tebow': 7174, 'fullback': 7175, 'zimbabwean': 7176, 'medicines': 7177, 'hispanic': 7178, 'earning': 7179, 'sidelined': 7180, '2500': 7181, 'incentives': 7182, 'monica': 7183, 'builder': 7184, 'tunnel': 7185, 'congo': 7186, 'sore': 7187, 'ethanol': 7188, 'toledo': 7189, 'dump': 7190, 'scrapped': 7191, 'underwood': 7192, 'dementia': 7193, 'reiterates': 7194, 'presenting': 7195, 'coral': 7196, 'abraham': 7197, 'kamal': 7198, 'smash': 7199, 'deploy': 7200, 'ceiling': 7201, 'negotiating': 7202, 'setback': 7203, 'maldives': 7204, 'alonso': 7205, 'vista': 7206, 'yacht': 7207, 'tragic': 7208, '99': 7209, 'searched': 7210, 'stalking': 7211, 'ashok': 7212, 'fannie': 7213, 'achievement': 7214, 'usual': 7215, 'sunshine': 7216, 'combination': 7217, 'bones': 7218, 'territorial': 7219, 'suns': 7220, 'wellknown': 7221, 'villagers': 7222, 'vienna': 7223, 'clegg': 7224, 'foreclosures': 7225, 'hazardous': 7226, '1100': 7227, 'amidst': 7228, 'ICICI': 7229, 'survivor': 7230, 'resorts': 7231, 'harm': 7232, 'burnt': 7233, 'bands': 7234, 'rent': 7235, 'shook': 7236, 'mitsubishi': 7237, 'annually': 7238, 'sentences': 7239, 'accessories': 7240, 'earl': 7241, 'integrity': 7242, 'clay': 7243, 'coup': 7244, 'taiwanese': 7245, 'forecasters': 7246, 'sometime': 7247, 'bullpen': 7248, 'planting': 7249, 'georgetown': 7250, 'parkway': 7251, 'ghost': 7252, 'letterman': 7253, 'arquette': 7254, 'editorial': 7255, 'corrupt': 7256, 'columnist': 7257, 'montag': 7258, 'atletico': 7259, 'showdown': 7260, 'morocco': 7261, 'progressive': 7262, '175': 7263, 'facilitate': 7264, 'reunite': 7265, 'speeds': 7266, 'vale': 7267, 'nexus': 7268, 'openly': 7269, 'gadhafi': 7270, 'sunny': 7271, 'unemployed': 7272, 'wizards': 7273, 'negotiate': 7274, 'bret': 7275, 'soap': 7276, 'expresses': 7277, 'nitish': 7278, 'halftime': 7279, 'painting': 7280, 'waves': 7281, 'rank': 7282, 'alassad': 7283, 'pepper': 7284, '29yearold': 7285, 'successor': 7286, 'ferdinand': 7287, 'alarm': 7288, 'removing': 7289, 'bombay': 7290, 'repeated': 7291, '31yearold': 7292, 'preserve': 7293, 'accra': 7294, 'spike': 7295, 'calendar': 7296, 'signals': 7297, 'sprained': 7298, 'ND': 7299, 'canberra': 7300, 'dominated': 7301, 'dated': 7302, 'satisfaction': 7303, 'stayed': 7304, 'aviv': 7305, 'shutting': 7306, 'experiences': 7307, 'pensioner': 7308, 'wed': 7309, 'consent': 7310, 'hodgson': 7311, 'ducks': 7312, 'riots': 7313, 'ramp': 7314, 'jared': 7315, 'mesa': 7316, 'proof': 7317, '1600': 7318, 'upward': 7319, 'jointly': 7320, 'andrews': 7321, 'sabah': 7322, 'bengals': 7323, 'recommendations': 7324, 'minorities': 7325, 'example': 7326, 'janet': 7327, 'maradona': 7328, 'martial': 7329, 'imaging': 7330, 'micro': 7331, 'baba': 7332, 'linking': 7333, 'lots': 7334, '104': 7335, 'carlo': 7336, 'toy': 7337, 'salvation': 7338, 'clinics': 7339, 'cavendish': 7340, 'describing': 7341, '160': 7342, 'highprofile': 7343, 'telstra': 7344, 'bitten': 7345, 'cyclone': 7346, 'ralph': 7347, 'ike': 7348, 'treatments': 7349, 'airlifted': 7350, 'fourthquarter': 7351, 'roughly': 7352, 'da': 7353, 'researcher': 7354, 'seasonal': 7355, 'thunderstorm': 7356, 'eyed': 7357, 'contempt': 7358, 'dock': 7359, 'chrome': 7360, 'belmont': 7361, 'driveby': 7362, 'remainder': 7363, 'rescues': 7364, 'mln': 7365, 'waive': 7366, 'urgent': 7367, 'pushes': 7368, 'diamondbacks': 7369, 'abandon': 7370, 'strained': 7371, 'LTTE': 7372, 'followers': 7373, 'mandate': 7374, 'hacking': 7375, 'uprising': 7376, 'pawlenty': 7377, 'chesapeake': 7378, 'contemporary': 7379, 'notices': 7380, 'lecture': 7381, 'gingrich': 7382, 'reno': 7383, '26yearold': 7384, 'balotelli': 7385, 'sergeant': 7386, '201011': 7387, 'recreation': 7388, 'eggs': 7389, 'difficulties': 7390, 'wrap': 7391, 'iPod': 7392, 'midland': 7393, 'paula': 7394, 'humanity': 7395, 'subscription': 7396, 'productions': 7397, 'amir': 7398, 'logan': 7399, 'eden': 7400, '105': 7401, 'lowers': 7402, 'paltrow': 7403, 'tracy': 7404, 'shortstop': 7405, 'robust': 7406, 'havoc': 7407, 'programming': 7408, 'debris': 7409, 'fraser': 7410, 'establishment': 7411, 'balanced': 7412, 'publishers': 7413, 'principle': 7414, 'certainly': 7415, 'lansing': 7416, 'cambodia': 7417, 'explosives': 7418, 'rocked': 7419, 'gerard': 7420, 'disappeared': 7421, 'tornadoes': 7422, '03': 7423, 'unite': 7424, 'hindi': 7425, 'elements': 7426, 'chevrolet': 7427, 'DiCaprio': 7428, 'tradition': 7429, 'BNP': 7430, 'devastated': 7431, 'cabin': 7432, 'stating': 7433, 'ordinary': 7434, 'middleweight': 7435, 'showers': 7436, 'sailing': 7437, 'khloe': 7438, 'consortium': 7439, 'denise': 7440, 'lynn': 7441, 'F1': 7442, 'adobe': 7443, 'RIM': 7444, 'franco': 7445, 'wounding': 7446, 'ejected': 7447, 'diane': 7448, 'internationally': 7449, 'burton': 7450, 'scout': 7451, 'fairfield': 7452, 'atlantis': 7453, 'draws': 7454, 'morrison': 7455, 'qualifiers': 7456, 'operates': 7457, '8th': 7458, 'youngsters': 7459, 'klum': 7460, 'luther': 7461, 'mercedes': 7462, 'christ': 7463, 'weakening': 7464, 'counterfeit': 7465, 'repay': 7466, 'highlighting': 7467, 'rica': 7468, 'chilean': 7469, 'arabian': 7470, 'taste': 7471, 'plunges': 7472, 'yeddyurappa': 7473, 'hood': 7474, 'WA': 7475, 'seri': 7476, 'pyongyang': 7477, 'skies': 7478, 'attacker': 7479, 'consideration': 7480, 'horizon': 7481, 'length': 7482, 'theory': 7483, 'bloc': 7484, 'renovation': 7485, 'prop': 7486, 'ounce': 7487, 'rory': 7488, 'mercy': 7489, 'shawn': 7490, 'discusses': 7491, 'tycoon': 7492, 'rescuers': 7493, 'hilary': 7494, 'arrangements': 7495, '97': 7496, 'derivatives': 7497, 'arrivals': 7498, 'mechanism': 7499, 'fairfax': 7500, 'gwyneth': 7501, 'guantanamo': 7502, 'convert': 7503, 'seizure': 7504, 'debates': 7505, 'tymoshenko': 7506, 'telekom': 7507, 'commuters': 7508, 'virtually': 7509, 'highspeed': 7510, 'ousted': 7511, 'collections': 7512, 'purdue': 7513, 'sultan': 7514, 'indeed': 7515, 'proposing': 7516, 'nottingham': 7517, 'firstround': 7518, 'vitamin': 7519, 'michel': 7520, 'nazi': 7521, 'protestors': 7522, 'depth': 7523, 'laurent': 7524, 'afghans': 7525, 'treating': 7526, 'caroline': 7527, 'POLICE': 7528, 'nationally': 7529, 'casinos': 7530, 'statistical': 7531, 'burden': 7532, '40000': 7533, 'barrymore': 7534, 'safer': 7535, 'alec': 7536, 'tanzania': 7537, 'informs': 7538, 'soared': 7539, 'jeffrey': 7540, 'controller': 7541, 'fiance': 7542, 'ponting': 7543, 'embattled': 7544, 'acute': 7545, 'raymond': 7546, 'factors': 7547, 'crops': 7548, 'passage': 7549, 'triumph': 7550, 'ton': 7551, 'airspace': 7552, 'accreditation': 7553, 'admit': 7554, 'promotes': 7555, 'travellers': 7556, 'examiner': 7557, 'astronauts': 7558, 'islanders': 7559, 'audi': 7560, 'dynamics': 7561, 'describes': 7562, 'simmons': 7563, 'champ': 7564, 'slows': 7565, 'conglomerate': 7566, 'crosby': 7567, 'javier': 7568, 'newt': 7569, 'yearold': 7570, 'ehud': 7571, 'bloody': 7572, 'westwood': 7573, 'monitors': 7574, 'hague': 7575, 'blockade': 7576, 'cop': 7577, 'shiv': 7578, 'dipped': 7579, 'laboratories': 7580, 'characters': 7581, 'indictment': 7582, 'exploitation': 7583, 'qld': 7584, '450': 7585, 'dividends': 7586, 'sat': 7587, 'peacefully': 7588, 'stopping': 7589, 'legends': 7590, 'ArcelorMittal': 7591, '27yearold': 7592, 'endangerment': 7593, 'jermaine': 7594, 'minors': 7595, 'hoped': 7596, 'thirdquarter': 7597, 'sandusky': 7598, 'FTSE': 7599, 'funny': 7600, 'restoration': 7601, 'lightweight': 7602, 'landlord': 7603, 'upheld': 7604, 'swat': 7605, 'indicating': 7606, 'alley': 7607, 'mob': 7608, 'alzheimer': 7609, 'honours': 7610, 'infected': 7611, 'millionaire': 7612, 'groin': 7613, '150000': 7614, 'ana': 7615, 'brunswick': 7616, 'medication': 7617, 'chartered': 7618, 'touring': 7619, 'ramirez': 7620, 'albums': 7621, 'duff': 7622, 'nielsen': 7623, 'sussex': 7624, 'thunderstorms': 7625, 'burke': 7626, 'ramdev': 7627, 'hostages': 7628, 'fertilizer': 7629, 'sailor': 7630, 'blogger': 7631, 'appropriate': 7632, 'americas': 7633, 'clearly': 7634, 'zimmerman': 7635, 'sanford': 7636, 'automatic': 7637, 'preparations': 7638, '7000': 7639, 'felix': 7640, 'chandigarh': 7641, 'nikkei': 7642, 'lover': 7643, 'forever': 7644, 'highlights': 7645, 'unilever': 7646, 'fortune': 7647, 'epidemic': 7648, 'samantha': 7649, 'ceremonies': 7650, 'insurers': 7651, 'strictly': 7652, 'mick': 7653, 'remarkable': 7654, 'robertson': 7655, 'boots': 7656, 'stays': 7657, 'killings': 7658, 'courtney': 7659, 'BAE': 7660, 'nasdaq': 7661, 'opposes': 7662, 'antony': 7663, 'trent': 7664, 'entrepreneur': 7665, 'penny': 7666, 'ODI': 7667, 'albuquerque': 7668, 'sad': 7669, 'perez': 7670, 'fog': 7671, 'amongst': 7672, 'watford': 7673, 'minerals': 7674, 'SP': 7675, 'committees': 7676, 'minsk': 7677, 'booking': 7678, 'classroom': 7679, 'commuter': 7680, 'spotlight': 7681, 'chess': 7682, 'shadow': 7683, 'organisations': 7684, 'piper': 7685, 'thermal': 7686, 'turnover': 7687, 'bulk': 7688, 'escalating': 7689, 'discussing': 7690, 'enjoys': 7691, 'palestine': 7692, 'dale': 7693, 'curtis': 7694, 'highways': 7695, 'sevilla': 7696, 'RCMP': 7697, 'immigrant': 7698, 'warship': 7699, 'aftermath': 7700, 'nolan': 7701, 'headline': 7702, 'borrowers': 7703, 'kingfisher': 7704, 'requirement': 7705, 'predict': 7706, 'flexible': 7707, 'FOX': 7708, 'respiratory': 7709, 'vampire': 7710, 'boil': 7711, 'clemson': 7712, 'actively': 7713, 'hide': 7714, 'kodak': 7715, 'flooded': 7716, 'vandalism': 7717, 'pitching': 7718, 'gloucester': 7719, 'bee': 7720, 'efron': 7721, 'stamp': 7722, 'turnout': 7723, 'carol': 7724, 'literacy': 7725, 'responds': 7726, 'correctional': 7727, 'willis': 7728, 'fielder': 7729, 'colon': 7730, 'occupation': 7731, 'strange': 7732, 'installation': 7733, 'usain': 7734, 'polar': 7735, '96': 7736, 'opponent': 7737, 'snoop': 7738, 'accidental': 7739, 'roses': 7740, 'exceed': 7741, 'AS': 7742, '1400': 7743, 'washing': 7744, 'tumble': 7745, 'conan': 7746, 'malaria': 7747, 'injures': 7748, 'boutique': 7749, '32yearold': 7750, 'denying': 7751, 'nearing': 7752, 'cheaper': 7753, 'blunt': 7754, 'sparking': 7755, 'wachovia': 7756, 'katherine': 7757, 'novosti': 7758, 'scared': 7759, 'highlight': 7760, 'testified': 7761, 'samajwadi': 7762, 'copyright': 7763, 'plug': 7764, 'mayo': 7765, 'oral': 7766, 'distance': 7767, 'dealt': 7768, 'midlands': 7769, 'macquarie': 7770, 'impossible': 7771, 'appreciation': 7772, 'roommate': 7773, 'accelerated': 7774, 'prolonged': 7775, '15day': 7776, 'trademark': 7777, 'whatever': 7778, 'daytime': 7779, 'subdued': 7780, 'acid': 7781, 'forbes': 7782, 'belonging': 7783, \"o'neill\": 7784, 'jorge': 7785, 'coronation': 7786, 'bhutto': 7787, 'tweeted': 7788, 'clinched': 7789, 'zuckerberg': 7790, 'prayers': 7791, 'aquino': 7792, 'appearances': 7793, 'canterbury': 7794, 'cigarette': 7795, 'songwriter': 7796, 'freeagent': 7797, 'trafford': 7798, 'conway': 7799, 'learnt': 7800, 'malcolm': 7801, 'courtroom': 7802, 'reservation': 7803, 'inventory': 7804, 'albion': 7805, 'shifted': 7806, 'requires': 7807, 'porsche': 7808, 'lies': 7809, 'wen': 7810, 'bonus': 7811, 'lorry': 7812, 'amateur': 7813, 'himachal': 7814, 'liquid': 7815, 'QB': 7816, 'mayoral': 7817, 'snyder': 7818, 'lancaster': 7819, 'aggregate': 7820, 'alice': 7821, 'daylight': 7822, 'scotia': 7823, 'PCs': 7824, 'animation': 7825, 'appetite': 7826, 'renewal': 7827, 'adventure': 7828, 'pubs': 7829, 'marvel': 7830, 'estimate': 7831, 'raleigh': 7832, 'lafayette': 7833, 'boise': 7834, '98': 7835, 'hepatitis': 7836, 'chose': 7837, 'knoxville': 7838, 'curfew': 7839, 'melissa': 7840, 'uncle': 7841, 'provisions': 7842, 'locker': 7843, 'nickel': 7844, 'trustees': 7845, 'lucknow': 7846, 'margins': 7847, 'kit': 7848, 'donors': 7849, 'dutt': 7850, 'berkeley': 7851, 'charts': 7852, '111': 7853, 'dismissal': 7854, 'klitschko': 7855, 'widow': 7856, 'destruction': 7857, 'catching': 7858, 'wheelchair': 7859, 'slumped': 7860, 'NYSE': 7861, 'freestyle': 7862, 'committing': 7863, 'constituency': 7864, 'AK': 7865, 'holocaust': 7866, 'firmer': 7867, 'requiring': 7868, 'paulo': 7869, 'pieces': 7870, 'russians': 7871, 'critic': 7872, 'prodemocracy': 7873, 'automobile': 7874, 'tightened': 7875, 'wound': 7876, 'burger': 7877, 'truly': 7878, 'beirut': 7879, 'textile': 7880, 'acknowledged': 7881, 'shannon': 7882, 'secretly': 7883, 'reagan': 7884, '50yearold': 7885, 'clinch': 7886, 'dust': 7887, 'ranbir': 7888, 'inspectors': 7889, 'walters': 7890, 'breaching': 7891, 'sanders': 7892, 'yang': 7893, 'discipline': 7894, 'miguel': 7895, 'FM': 7896, 'recognised': 7897, 'servants': 7898, 'bedroom': 7899, 'blaming': 7900, 'otherwise': 7901, 'lehigh': 7902, 'vandals': 7903, 'worsening': 7904, 'certified': 7905, 'admission': 7906, 'linda': 7907, 'apologise': 7908, 'brewer': 7909, 'stallone': 7910, 'borrow': 7911, 'tina': 7912, 'pray': 7913, 'serves': 7914, 'sponsors': 7915, 'augusta': 7916, 'skating': 7917, 'comparison': 7918, 'meltdown': 7919, 'breakdown': 7920, 'slim': 7921, 'kerr': 7922, 'webb': 7923, 'schalke': 7924, 'gateway': 7925, 'shortages': 7926, 'visual': 7927, 'banker': 7928, 'bases': 7929, 'dover': 7930, 'divisions': 7931, 'dentist': 7932, 'enemy': 7933, 'diamonds': 7934, 'ensuring': 7935, 'formerly': 7936, 'portman': 7937, '60th': 7938, 'observers': 7939, 'brave': 7940, 'attendant': 7941, 'pets': 7942, 'sum': 7943, 'trash': 7944, 'represents': 7945, 'tonne': 7946, 'flame': 7947, '12000': 7948, 'lowe': 7949, 'attracted': 7950, 'gavin': 7951, 'hannah': 7952, 'lodge': 7953, 'campaigning': 7954, 'freezing': 7955, 'delegates': 7956, 'wildfires': 7957, 'casualties': 7958, 'vegetables': 7959, 'emails': 7960, 'lehman': 7961, 'PayPal': 7962, 'sewer': 7963, 'collide': 7964, 'dumping': 7965, 'incentive': 7966, 'accountability': 7967, 'dramatically': 7968, 'deportation': 7969, 'richest': 7970, 'sovereignty': 7971, 'ai': 7972, 'firmly': 7973, 'westminster': 7974, 'XI': 7975, 'warships': 7976, 'colleague': 7977, 'ministerial': 7978, 'MVP': 7979, 'shrank': 7980, 'punching': 7981, 'absolute': 7982, 'MRI': 7983, 'advisors': 7984, 'transformation': 7985, 'junction': 7986, 'distributing': 7987, 'shahbaz': 7988, 'suburbs': 7989, 'guys': 7990, 'accelerate': 7991, 'pa': 7992, 'tariffs': 7993, 'sort': 7994, 'tenants': 7995, 'huffington': 7996, 'indigenous': 7997, 'filling': 7998, 'conservatives': 7999, 'cleaning': 8000, 'weeklong': 8001, 'balls': 8002, 'durban': 8003, 'attends': 8004, 'litre': 8005, 'spare': 8006, 'oval': 8007, 'lone': 8008, 'duchess': 8009, 'pumps': 8010, 'goody': 8011, 'methods': 8012, 'hemsworth': 8013, 'nutrition': 8014, 'physically': 8015, 'businessmen': 8016, 'moines': 8017, 'concludes': 8018, 'nor': 8019, 'leonard': 8020, 'hogan': 8021, 'assess': 8022, 'lagos': 8023, 'avoided': 8024, 'entrepreneurs': 8025, 'grandfather': 8026, 'bathroom': 8027, 'indexes': 8028, 'hospitality': 8029, 'tajikistan': 8030, 'generating': 8031, 'oilers': 8032, 'busted': 8033, 'explained': 8034, '750': 8035, 'evan': 8036, 'dictator': 8037, 'sand': 8038, 'neighbouring': 8039, 'desk': 8040, 'interesting': 8041, 'crushing': 8042, 'beloved': 8043, 'jessie': 8044, 'demonstrations': 8045, 'corning': 8046, 'transfers': 8047, 'pierre': 8048, 'tweets': 8049, 'uruguay': 8050, 'cables': 8051, 'captures': 8052, 'injection': 8053, 'rutgers': 8054, 'aging': 8055, 'activate': 8056, 'premises': 8057, 'aleague': 8058, 'upside': 8059, 'anywhere': 8060, 'opted': 8061, 'directing': 8062, 'seemed': 8063, 'flee': 8064, 'caucus': 8065, 'optical': 8066, 'counting': 8067, 'achievements': 8068, 'cease': 8069, 'tan': 8070, 'FedEx': 8071, 'monaco': 8072, 'kourtney': 8073, 'batteries': 8074, 'volumes': 8075, 'webcast': 8076, 'neighboring': 8077, 'separated': 8078, 'auditorium': 8079, 'preventing': 8080, 'handsets': 8081, 'supervisors': 8082, 'monument': 8083, 'asda': 8084, 'booming': 8085, 'groundbreaking': 8086, 'complained': 8087, 'hurdle': 8088, 'musicians': 8089, 'doha': 8090, \"o'malley\": 8091, 'tunisian': 8092, 'comfortable': 8093, 'wrapped': 8094, 'physicians': 8095, 'judgment': 8096, 'confirming': 8097, 'biological': 8098, 'saeed': 8099, 'alltime': 8100, 'PMLn': 8101, 'disrupt': 8102, 'McDonnell': 8103, 'tightening': 8104, 'gradually': 8105, 'frankfurt': 8106, 'belgrade': 8107, 'obligations': 8108, 'poet': 8109, 'isaac': 8110, 'entertainer': 8111, 'processor': 8112, 'vic': 8113, 'drills': 8114, 'fragile': 8115, 'trim': 8116, 'joan': 8117, 'burnley': 8118, 'sienna': 8119, 'paterno': 8120, 'flowers': 8121, 'scholarships': 8122, 'diva': 8123, 'favourites': 8124, 'kilometres': 8125, 'casting': 8126, 'suspending': 8127, 'inches': 8128, 'fourday': 8129, 'respects': 8130, 'namibia': 8131, 'sounds': 8132, 'nano': 8133, '115': 8134, 'gallon': 8135, 'spate': 8136, 'keeper': 8137, 'crist': 8138, 'ugly': 8139, 'browser': 8140, 'skilled': 8141, 'huntsman': 8142, 'rajapaksa': 8143, 'nights': 8144, 'dominate': 8145, 'builds': 8146, 'hillsborough': 8147, 'jackets': 8148, 'recommends': 8149, 'telecoms': 8150, 'infections': 8151, 'firsthalf': 8152, 'experimental': 8153, 'repurchase': 8154, 'ibrahim': 8155, 'ministries': 8156, 'destroying': 8157, 'antitrust': 8158, 'ashore': 8159, 'umpire': 8160, 'payable': 8161, 'dual': 8162, 'unsecured': 8163, 'reopening': 8164, 'surrendered': 8165, 'relationships': 8166, 'embezzling': 8167, 'hai': 8168, 'bet': 8169, 'rebecca': 8170, 'establishes': 8171, 'purchasing': 8172, 'rico': 8173, 'scratched': 8174, '00': 8175, 'fisheries': 8176, 'afford': 8177, 'booker': 8178, 'raided': 8179, 'meth': 8180, 'bias': 8181, 'towers': 8182, '201213': 8183, 'cure': 8184, 'lautner': 8185, 'spokane': 8186, 'everywhere': 8187, 'ind': 8188, 'realty': 8189, 'settlers': 8190, 'cave': 8191, 'barely': 8192, 'supermarkets': 8193, 'bride': 8194, 'episodes': 8195, 'accord': 8196, 'mickey': 8197, 'graphic': 8198, 'incorporated': 8199, 'marilyn': 8200, 'isolated': 8201, 'collecting': 8202, 'larceny': 8203, 'connections': 8204, 'cheltenham': 8205, 'poultry': 8206, 'mila': 8207, 'jenna': 8208, 'kuala': 8209, 'gabriel': 8210, 'hungry': 8211, 'immune': 8212, 'synthetic': 8213, 'novelist': 8214, 'africans': 8215, 'MLS': 8216, 'panda': 8217, 'indicate': 8218, 'thatcher': 8219, 'strokes': 8220, 'cannes': 8221, 'mrs': 8222, 'bow': 8223, 'spirits': 8224, 'macau': 8225, 'flick': 8226, 'reflect': 8227, 'zach': 8228, 'debuts': 8229, 'prefers': 8230, 'mainstream': 8231, 'hyundai': 8232, 'hitachi': 8233, 'attitude': 8234, 'punk': 8235, 'spectacular': 8236, 'fifa': 8237, 'pure': 8238, 'gore': 8239, 'bentley': 8240, 'chandler': 8241, 'monster': 8242, 'rewards': 8243, 'soar': 8244, 'flies': 8245, 'lashes': 8246, 'jaguar': 8247, 'bahamas': 8248, 'stupid': 8249, 'thefts': 8250, 'types': 8251, 'loyal': 8252, 'forgery': 8253, 'brooke': 8254, 'RIA': 8255, 'kuwaiti': 8256, 'theaters': 8257, '200m': 8258, 'swimmer': 8259, 'detect': 8260, '40yearold': 8261, 'generations': 8262, 'transform': 8263, 'impaired': 8264, 'tory': 8265, 'stimulate': 8266, 'ubisoft': 8267, 'indices': 8268, 'founded': 8269, 'intelligent': 8270, 'explorer': 8271, 'panama': 8272, 'semi': 8273, 'haley': 8274, 'infamous': 8275, 'tone': 8276, 'shriver': 8277, 'harsh': 8278, 'demolished': 8279, 'capitals': 8280, 'lifting': 8281, 'basin': 8282, 'jews': 8283, 'binghamton': 8284, 'protested': 8285, 'salmonella': 8286, 'intensified': 8287, 'contestant': 8288, 'dawson': 8289, 'electrocuted': 8290, 'acted': 8291, '39yearold': 8292, 'architecture': 8293, 'srinagar': 8294, 'unlawful': 8295, 'chambers': 8296, 'yankee': 8297, 'convoy': 8298, 'rated': 8299, 'cohen': 8300, 'highlighted': 8301, 'treasure': 8302, 'allied': 8303, 'decisive': 8304, 'LLP': 8305, 'bangladeshi': 8306, 'alba': 8307, 'dana': 8308, 'comics': 8309, 'radcliffe': 8310, 'gesture': 8311, 'TSX': 8312, 'attached': 8313, 'LeBron': 8314, 'drain': 8315, 'gerrard': 8316, '180': 8317, 'visas': 8318, 'slashing': 8319, 'automated': 8320, 'lucrative': 8321, 'exhibit': 8322, 'examination': 8323, 'negligent': 8324, 'habitat': 8325, 'bass': 8326, 'handing': 8327, 'immunity': 8328, 'albania': 8329, 'livestock': 8330, 'scenario': 8331, 'rear': 8332, 'shoaib': 8333, 'disturbance': 8334, '13yearold': 8335, 'mediterranean': 8336, 'instructor': 8337, 'balloon': 8338, 'metric': 8339, 'lloyds': 8340, 'errors': 8341, 'biel': 8342, 'commencement': 8343, 'eager': 8344, 'hangs': 8345, 'pleasant': 8346, 'widens': 8347, 'sinks': 8348, 'vendors': 8349, 'promoter': 8350, 'height': 8351, 'triggering': 8352, 'biotechnology': 8353, 'medalist': 8354, 'parkinson': 8355, 'array': 8356, 'precision': 8357, 'asiapacific': 8358, 'paralympic': 8359, '06': 8360, 'incredible': 8361, 'successive': 8362, 'narcotics': 8363, 'budgets': 8364, 'concessions': 8365, 'witnessed': 8366, 'relatively': 8367, 'McIlroy': 8368, 'didier': 8369, 'undergone': 8370, 'twist': 8371, 'wesley': 8372, 'calf': 8373, 'paint': 8374, 'fare': 8375, 'owens': 8376, 'breathing': 8377, 'deepening': 8378, 'patience': 8379, 'runners': 8380, 'divided': 8381, 'focuses': 8382, 'rid': 8383, 'inform': 8384, 'commons': 8385, 'soviet': 8386, 'refuge': 8387, 'pedro': 8388, 'mineral': 8389, '12yearold': 8390, 'rampage': 8391, 'rao': 8392, 'fault': 8393, 'collapsing': 8394, 'lokpal': 8395, 'LNG': 8396, 'wholly': 8397, 'diversified': 8398, 'item': 8399, 'muamba': 8400, 'newsday': 8401, 'longrunning': 8402, 'doctorate': 8403, 'MGM': 8404, 'contamination': 8405, 'audiences': 8406, 'hudgens': 8407, 'shepherd': 8408, 'color': 8409, 'salisbury': 8410, 'revamped': 8411, 'jiabao': 8412, 'peters': 8413, 'automakers': 8414, 'dissident': 8415, 'attracting': 8416, 'honduras': 8417, 'console': 8418, 'ramesh': 8419, 'heated': 8420, 'liability': 8421, 'confirmation': 8422, 'pictured': 8423, 'lotus': 8424, 'wikileaks': 8425, 'brighton': 8426, 'postpone': 8427, 'conferences': 8428, 'whales': 8429, 'amended': 8430, 'roddick': 8431, 'pursuing': 8432, 'levi': 8433, 'devon': 8434, 'mich': 8435, 'yearonyear': 8436, 'majors': 8437, 'lilly': 8438, 'deliberately': 8439, 'batman': 8440, 'neighbour': 8441, 'gearing': 8442, 'putnam': 8443, 'menu': 8444, 'memories': 8445, 'wanderers': 8446, 'caterpillar': 8447, 'bargaining': 8448, 'interviews': 8449, 'auctions': 8450, 'firearm': 8451, 'frederick': 8452, 'cohost': 8453, 'totally': 8454, 'chan': 8455, '9000': 8456, 'database': 8457, 'massa': 8458, 'reservoir': 8459, 'disclosure': 8460, 'shortterm': 8461, 'blocking': 8462, 'boot': 8463, 'sole': 8464, 'sections': 8465, 'yourself': 8466, 'cleanup': 8467, 'mounted': 8468, 'leone': 8469, 'powered': 8470, 'hates': 8471, 'expense': 8472, 'laptops': 8473, 'sight': 8474, 'hints': 8475, '1300': 8476, 'hook': 8477, 'evil': 8478, 'ACC': 8479, 'freak': 8480, 'shrink': 8481, 'deeply': 8482, 'psychological': 8483, 'piers': 8484, 'ritchie': 8485, '28th': 8486, 'detection': 8487, 'interviewed': 8488, 'manipur': 8489, 'impressed': 8490, 'kay': 8491, 'animated': 8492, 'shower': 8493, 'graffiti': 8494, 'exceeded': 8495, 'polk': 8496, 'donovan': 8497, 'rabies': 8498, 'DWI': 8499, '08': 8500, 'ipswich': 8501, 'kunis': 8502, 'persistent': 8503, 'daly': 8504, 'arguing': 8505, 'pratibha': 8506, 'tomas': 8507, 'benghazi': 8508, 'improper': 8509, 'everybody': 8510, 'passion': 8511, 'venus': 8512, 'rocks': 8513, 'julio': 8514, 'disappointment': 8515, 'leno': 8516, 'alexandra': 8517, 'mt': 8518, 'measuring': 8519, 'nonstop': 8520, '1960s': 8521, 'cardiovascular': 8522, 'fulltime': 8523, 'anticorruption': 8524, 'libel': 8525, 'valuation': 8526, 'principles': 8527, 'egg': 8528, 'davies': 8529, 'besides': 8530, 'JSE': 8531, 'julius': 8532, 'deepika': 8533, 'keane': 8534, 'millennium': 8535, 'crow': 8536, 'ga': 8537, 'whip': 8538, 'norton': 8539, 'rescheduled': 8540, 'bermuda': 8541, 'situations': 8542, 'contrary': 8543, 'frequent': 8544, 'mentor': 8545, 'slovakia': 8546, 'surpassed': 8547, 'snowfall': 8548, 'touching': 8549, 'ECB': 8550, 'invite': 8551, 'undefeated': 8552, 'smokers': 8553, 'extradited': 8554, 'straw': 8555, 'turtle': 8556, 'slashes': 8557, 'steals': 8558, 'fraudulent': 8559, 'pot': 8560, 'ST': 8561, 'lennon': 8562, 'ny': 8563, 'viral': 8564, 'sidney': 8565, 'relation': 8566, 'bracing': 8567, 'outskirts': 8568, 'forests': 8569, 'experiencing': 8570, 'splitting': 8571, 'disability': 8572, 'enables': 8573, 'stephanie': 8574, 'rooms': 8575, 'upto': 8576, 'scrutiny': 8577, 'grabbed': 8578, 'evaluation': 8579, 'avoiding': 8580, 'johns': 8581, 'tube': 8582, 'macon': 8583, 'footprint': 8584, 'cooling': 8585, 'galway': 8586, 'comfort': 8587, 'fence': 8588, 'bestselling': 8589, 'liberals': 8590, 'guarantees': 8591, 'twovehicle': 8592, 'stint': 8593, 'rupees': 8594, 'GP': 8595, 'provision': 8596, 'filmed': 8597, 'bulldogs': 8598, 'toshiba': 8599, 'entrance': 8600, 'bafana': 8601, 'taught': 8602, 'establishing': 8603, 'observer': 8604, 'basu': 8605, 'overwhelming': 8606, 'landfall': 8607, 'ilham': 8608, 'priorities': 8609, 'contention': 8610, 'WBO': 8611, 'gill': 8612, 'va': 8613, 'astana': 8614, 'hearings': 8615, 'cory': 8616, 'UC': 8617, 'looming': 8618, 'machinery': 8619, 'categories': 8620, 'honolulu': 8621, 'magistrates': 8622, 'math': 8623, 'mirren': 8624, 'martha': 8625, 'stray': 8626, 'wis': 8627, 'MTN': 8628, 'conversation': 8629, 'lengthy': 8630, 'sophomore': 8631, 'steering': 8632, 'bean': 8633, 'aground': 8634, 'rawalpindi': 8635, 'longawaited': 8636, 'literature': 8637, 'allamerican': 8638, 'coordination': 8639, 'refuse': 8640, 'notebook': 8641, 'kylie': 8642, 'kickoff': 8643, 'sikh': 8644, 'lindsey': 8645, 'homer': 8646, 'slot': 8647, 'cairn': 8648, 'expression': 8649, 'frame': 8650, 'achieving': 8651, 'greens': 8652, 'gutted': 8653, 'wooden': 8654, 'blown': 8655, '45yearold': 8656, 'leighton': 8657, 'rivera': 8658, '22nd': 8659, 'jubilee': 8660, 'sailors': 8661, 'exporter': 8662, 'derailed': 8663, 'weigh': 8664, 'sheboygan': 8665, 'AirAsia': 8666, 'contributed': 8667, 'graphics': 8668, 'garrett': 8669, '9th': 8670, 'lumpur': 8671, 'RSS': 8672, 'canton': 8673, 'timor': 8674, 'bribes': 8675, 'sylvester': 8676, 'MSNBC': 8677, 'defrauding': 8678, 'jackpot': 8679, 'concentrate': 8680, 'pharma': 8681, 'preview': 8682, 'cafe': 8683, 'clarkson': 8684, 'nassau': 8685, 'fidel': 8686, 'snake': 8687, 'knightley': 8688, 'lunar': 8689, 'cumberland': 8690, 'modestly': 8691, 'obese': 8692, 'q': 8693, 'MD': 8694, 'aer': 8695, 'AirTran': 8696, 'stunned': 8697, 'partly': 8698, 'please': 8699, 'spark': 8700, '600000': 8701, '10year': 8702, 'supposed': 8703, 'loud': 8704, 'relevant': 8705, 'indication': 8706, 'gamble': 8707, 'anticipation': 8708, 'pike': 8709, 'psychiatric': 8710, 'bottles': 8711, 'saga': 8712, 'outcome': 8713, 'motorist': 8714, 'laureate': 8715, 'chaudhry': 8716, 'implications': 8717, 'peers': 8718, 'SWAT': 8719, 'paraguay': 8720, 'kg': 8721, 'tide': 8722, 'heineken': 8723, 'grip': 8724, 'vaccines': 8725, \"o'donnell\": 8726, 'CNBC': 8727, 'eclipse': 8728, 'purse': 8729, 'lisbon': 8730, '47yearold': 8731, 'prisons': 8732, '27th': 8733, 'reversing': 8734, 'backyard': 8735, 'seals': 8736, 'hotspur': 8737, 'elsewhere': 8738, 'rumor': 8739, 'narrowed': 8740, 'collaborate': 8741, 'nixon': 8742, 'substitute': 8743, 'swayze': 8744, 'gangster': 8745, 'follows': 8746, 'sprinter': 8747, 'furious': 8748, 'directions': 8749, 'rai': 8750, 'pan': 8751, '07': 8752, 'aviva': 8753, 'shifting': 8754, 'reaffirmed': 8755, 'meredith': 8756, 'brutally': 8757, 'paternity': 8758, 'wears': 8759, 'pepsi': 8760, 'copies': 8761, '3500': 8762, 'persian': 8763, 'schmidt': 8764, 'lovers': 8765, 'brilliant': 8766, 'drag': 8767, 'divers': 8768, 'boxes': 8769, 'outgoing': 8770, 'stuff': 8771, 'von': 8772, 'alcoa': 8773, 'lists': 8774, 'neither': 8775, 'closures': 8776, 'wembley': 8777, 'gunfire': 8778, 'expires': 8779, 'MotoGP': 8780, 'candidacy': 8781, 'headlines': 8782, '106': 8783, 'sinking': 8784, 'hurley': 8785, 'grande': 8786, 'lodged': 8787, 'pork': 8788, 'pitched': 8789, 'slalom': 8790, 'composite': 8791, 'peruvian': 8792, 'rahman': 8793, 'bread': 8794, 'brewing': 8795, 'overturns': 8796, 'flintoff': 8797, 'corey': 8798, 'instant': 8799, 'breakaway': 8800, 'wellness': 8801, 'emily': 8802, 'onevehicle': 8803, 'shoplifting': 8804, 'promotional': 8805, 'sealed': 8806, 'scanner': 8807, 'grizzlies': 8808, '107': 8809, 'leaking': 8810, 'demonstrate': 8811, 'cry': 8812, 'G20': 8813, 'ethical': 8814, 'outlet': 8815, \"o'reilly\": 8816, 'affirmed': 8817, 'radar': 8818, 'rotary': 8819, 'regret': 8820, 'wrongful': 8821, 'sticks': 8822, 'mayawati': 8823, 'contador': 8824, 'huawei': 8825, 'seizes': 8826, 'elects': 8827, 'ligament': 8828, 'kendra': 8829, 'tv': 8830, 'weighing': 8831, 'switching': 8832, 'detailed': 8833, 'dundee': 8834, 'emission': 8835, 'disgraced': 8836, 'bald': 8837, 'highlands': 8838, 'steroids': 8839, 'slugger': 8840, 'bon': 8841, 'bearish': 8842, 'landslide': 8843, 'rodham': 8844, 'methodist': 8845, 'financially': 8846, 'cosmetic': 8847, 'rodney': 8848, 'languages': 8849, 'aka': 8850, 'teaming': 8851, 'offenses': 8852, 'spelling': 8853, 'lied': 8854, 'icahn': 8855, 'hon': 8856, 'commitments': 8857, 'ulster': 8858, 'pacers': 8859, 'articles': 8860, 'taxation': 8861, 'seacrest': 8862, 'multinational': 8863, 'harlem': 8864, 'insight': 8865, 'detainees': 8866, 'lowcost': 8867, 'pared': 8868, 'grains': 8869, 'trips': 8870, 'disqualified': 8871, 'geological': 8872, 'primetime': 8873, 'northampton': 8874, 'screens': 8875, '1700': 8876, 'ideal': 8877, 'beam': 8878, 'conceded': 8879, 'technological': 8880, 'intoxication': 8881, 'disorders': 8882, 'embezzlement': 8883, 'marched': 8884, 'guinness': 8885, 'awaiting': 8886, 'shake': 8887, 'surrounded': 8888, 'paramedics': 8889, 'saskatoon': 8890, 'ammunition': 8891, 'hiked': 8892, 'colonial': 8893, 'johan': 8894, 'kristin': 8895, 'bash': 8896, 'gadkari': 8897, 'fundamental': 8898, 'lap': 8899, 'gotten': 8900, 'livingston': 8901, 'southampton': 8902, 'ACT': 8903, '4S': 8904, 'mercantile': 8905, 'continent': 8906, 'surges': 8907, 'tables': 8908, 'blackberry': 8909, 'transparent': 8910, 'slapped': 8911, 'mozambique': 8912, 'braced': 8913, 'dominant': 8914, 'drones': 8915, 'kazakh': 8916, 'napoli': 8917, 'checking': 8918, 'visitor': 8919, 'knifepoint': 8920, 'monkey': 8921, 'lined': 8922, 'moammar': 8923, 'knock': 8924, 'procurement': 8925, 'connectivity': 8926, 'quietly': 8927, 'vegetable': 8928, 'exposing': 8929, 'clijsters': 8930, 'extremists': 8931, '1970s': 8932, 'noting': 8933, 'killers': 8934, 'patrols': 8935, 'cautioned': 8936, 'BT': 8937, 'reader': 8938, 'securing': 8939, 'nate': 8940, 'rings': 8941, 'highland': 8942, 'LED': 8943, 'jindal': 8944, 'pedestrians': 8945, 'threetime': 8946, 'CPI': 8947, 'burglars': 8948, 'sania': 8949, 'chapel': 8950, 'penske': 8951, 'honoring': 8952, 'sargsyan': 8953, 'personally': 8954, 'lea': 8955, 'lacrosse': 8956, 'predators': 8957, 'hulk': 8958, 'eminem': 8959, 'licensed': 8960, 'spreads': 8961, 'holly': 8962, 'dining': 8963, 'apollo': 8964, 'jude': 8965, 'crossings': 8966, 'curry': 8967, 'facts': 8968, 'collides': 8969, 'solomon': 8970, 'strongest': 8971, 'dancer': 8972, 'correct': 8973, 'LK': 8974, 'onetime': 8975, 'auctioned': 8976, 'par': 8977, 'aurora': 8978, 'capability': 8979, 'listen': 8980, 'stormed': 8981, 'separation': 8982, 'berkshire': 8983, 'wrestler': 8984, 'expired': 8985, 'bruised': 8986, '200910': 8987, '103': 8988, 'bite': 8989, 'trinamool': 8990, 'module': 8991, 'conjunction': 8992, 'olivia': 8993, '650': 8994, 'corrections': 8995, 'lancashire': 8996, 'extremism': 8997, 'drogba': 8998, 'snack': 8999, 'torres': 9000, 'choices': 9001, 'overwhelmingly': 9002, 'busiest': 9003, '230': 9004, 'happening': 9005, 'revoked': 9006, 'affects': 9007, 'bayer': 9008, 'sack': 9009, 'hazard': 9010, '35yearold': 9011, 'reshuffle': 9012, 'eyeing': 9013, 'WBA': 9014, 'warplanes': 9015, 'regina': 9016, 'junk': 9017, 'commenced': 9018, 'copa': 9019, 'downhill': 9020, 'therapeutics': 9021, 'patterson': 9022, 'cheese': 9023, 'educators': 9024, 'contracted': 9025, 'marina': 9026, 'breached': 9027, 'custom': 9028, 'lesson': 9029, 'hawke': 9030, 'disposal': 9031, 'mahama': 9032, 'â': 9033, 'sixmonth': 9034, 'historian': 9035, 'baron': 9036, 'mood': 9037, 'halfway': 9038, 'greenville': 9039, 'circus': 9040, 'TI': 9041, 'liberation': 9042, 'carpenter': 9043, 'conversion': 9044, 'upstate': 9045, 'literally': 9046, 'pains': 9047, 'yy': 9048, 'thermo': 9049, 'righthanded': 9050, 'seasonally': 9051, 'mosley': 9052, 'condemn': 9053, 'phelps': 9054, 'monte': 9055, '1800': 9056, 'McAfee': 9057, 'soybean': 9058, 'jill': 9059, 'bullying': 9060, 'prevented': 9061, 'barred': 9062, 'icy': 9063, 'ordering': 9064, 'searches': 9065, 'tripura': 9066, 'flows': 9067, 'malema': 9068, 'quota': 9069, 'vonn': 9070, 'talented': 9071, 'panetta': 9072, 'fiber': 9073, 'casual': 9074, 'subsidy': 9075, 'headley': 9076, 'tbilisi': 9077, 'ugandan': 9078, 'jenny': 9079, 'gears': 9080, 'dannii': 9081, 'vast': 9082, 'settlements': 9083, 'choosing': 9084, 'onboard': 9085, 'knocks': 9086, 'peas': 9087, 'fergie': 9088, 'chivas': 9089, 'lufthansa': 9090, 'kissing': 9091, 'edwin': 9092, 'EST': 9093, 'stab': 9094, 'aust': 9095, 'joke': 9096, 'cleric': 9097, 'pawar': 9098, 'PR': 9099, 'seth': 9100, 'cutler': 9101, 'MW': 9102, 'downloads': 9103, 'ANZ': 9104, 'hop': 9105, 'benson': 9106, 'exploring': 9107, 'unanimous': 9108, 'akhtar': 9109, 'comcast': 9110, 'dynamo': 9111, 'finalist': 9112, 'pocket': 9113, 'runaway': 9114, 'ronald': 9115, 'betterthanexpected': 9116, 'DeGeneres': 9117, 'tactics': 9118, 'buccaneers': 9119, 'petraeus': 9120, 'carrey': 9121, 'balochistan': 9122, '112': 9123, 'secretarygeneral': 9124, 'legislator': 9125, 'leinster': 9126, 'tariff': 9127, 'manufacture': 9128, 'deepen': 9129, 'palo': 9130, 'viktor': 9131, 'quincy': 9132, 'waiver': 9133, 'whopping': 9134, '31st': 9135, 'slur': 9136, 'zurich': 9137, 'contacts': 9138, 'salmon': 9139, 'seafood': 9140, 'speakers': 9141, 'competitiveness': 9142, 'eastman': 9143, 'donating': 9144, 'dunn': 9145, 'surf': 9146, 'actual': 9147, 'shelves': 9148, 'bishops': 9149, 'yusuf': 9150, 'ambush': 9151, 'shetty': 9152, 'cameroon': 9153, 'pianist': 9154, 'meaningful': 9155, 'groupon': 9156, 'alpha': 9157, 'xperia': 9158, 'pleas': 9159, 'delaying': 9160, 'disasters': 9161, 'eliminating': 9162, 'paribas': 9163, 'closet': 9164, 'buck': 9165, 'leisure': 9166, 'owes': 9167, 'CITY': 9168, 'freeman': 9169, 'OK': 9170, 'havana': 9171, 'AJ': 9172, 'waziristan': 9173, 'prasad': 9174, 'fiction': 9175, 'brace': 9176, 'latter': 9177, 'basket': 9178, 'cellphone': 9179, 'coldplay': 9180, '38yearold': 9181, 'labrador': 9182, 'penelope': 9183, 'afridi': 9184, 'cork': 9185, 'gerald': 9186, 'designers': 9187, 'phillip': 9188, 'budapest': 9189, 'BSE': 9190, 'savannah': 9191, 'cornwall': 9192, 'israelis': 9193, 'ho': 9194, 'breaches': 9195, 'bronx': 9196, 'boca': 9197, 'anchorage': 9198, 'pearson': 9199, 'wondering': 9200, 'pilgrim': 9201, 'continuous': 9202, 'injunction': 9203, 'ATP': 9204, 'saleh': 9205, 'locals': 9206, 'enabling': 9207, 'spotify': 9208, 'timing': 9209, 'chevron': 9210, 'antidoping': 9211, 'miracle': 9212, 'specialists': 9213, 'rosa': 9214, 'bahraini': 9215, 'samoa': 9216, 'cartel': 9217, 'inch': 9218, 'conditioning': 9219, 'UKbased': 9220, 'helm': 9221, 'choppy': 9222, 'diversity': 9223, '630': 9224, 'longstanding': 9225, 'johnston': 9226, 'keegan': 9227, 'timberwolves': 9228, 'hitler': 9229, 'harder': 9230, 'cult': 9231, 'refinancing': 9232, 'aloud': 9233, 'harding': 9234, 'mid': 9235, 'observe': 9236, 'strauss': 9237, 'nigel': 9238, 'sainsbury': 9239, 'rumored': 9240, 'knights': 9241, 'capped': 9242, 'paramount': 9243, 'shia': 9244, 'payne': 9245, 'leigh': 9246, 'condolences': 9247, 'mickelson': 9248, 'ossetia': 9249, 'supervision': 9250, 'ventura': 9251, 'goodbye': 9252, 'downward': 9253, 'emerges': 9254, 'physician': 9255, 'detain': 9256, 'eugene': 9257, 'lewd': 9258, 'tears': 9259, 'innovations': 9260, 'ramadan': 9261, 'modified': 9262, 'madhya': 9263, 'dissent': 9264, 'guatemala': 9265, 'amendments': 9266, 'bosnian': 9267, 'participated': 9268, 'lowering': 9269, '109': 9270, 'autobiography': 9271, 'wallabies': 9272, 'bribe': 9273, 'skull': 9274, 'ranging': 9275, 'abuses': 9276, 'sotomayor': 9277, 'boulder': 9278, 'suicidal': 9279, 'investigator': 9280, 'referred': 9281, 'vigil': 9282, 'finalised': 9283, 'haul': 9284, 'memorandum': 9285, 'duet': 9286, 'suarez': 9287, 'therefore': 9288, 'stan': 9289, 'registry': 9290, 'concession': 9291, 'spector': 9292, 'none': 9293, 'punish': 9294, 'assurance': 9295, 'acceptance': 9296, 'drowning': 9297, 'outreach': 9298, 'starred': 9299, 'integrate': 9300, 'thoughts': 9301, 'contaminated': 9302, 'churches': 9303, 'dustin': 9304, 'doncaster': 9305, 'boating': 9306, 'convinced': 9307, 'erin': 9308, 'meal': 9309, 'wrongly': 9310, 'amar': 9311, 'letting': 9312, 'deeper': 9313, 'banner': 9314, 'maid': 9315, '550': 9316, 'salon': 9317, 'PA': 9318, 'boone': 9319, 'ahmedabad': 9320, '41yearold': 9321, 'garner': 9322, 'restrict': 9323, 'publicity': 9324, 'antiterrorism': 9325, 'corridor': 9326, 'norms': 9327, 'shelton': 9328, 'yerevan': 9329, 'affiliated': 9330, 'buenos': 9331, 'aires': 9332, 'employed': 9333, \"o'connor\": 9334, 'princeton': 9335, 'barker': 9336, 'bizarre': 9337, 'mirror': 9338, 'worcester': 9339, 'pistons': 9340, 'venues': 9341, 'surfaced': 9342, 'spots': 9343, 'deck': 9344, 'moose': 9345, 'surviving': 9346, 'perdue': 9347, 'bismarck': 9348, 'relegated': 9349, 'sword': 9350, 'containers': 9351, 'naming': 9352, '18000': 9353, 'airstrike': 9354, 'ronson': 9355, 'conflicts': 9356, 'mammoth': 9357, 'USS': 9358, 'travolta': 9359, 'bolivia': 9360, 'troubles': 9361, 'fletcher': 9362, 'commemorate': 9363, 'loyalty': 9364, 'pavilion': 9365, 'socialist': 9366, 'connecting': 9367, 'indy': 9368, 'extinction': 9369, 'bachelor': 9370, 'richter': 9371, 'lure': 9372, 'bacteria': 9373, 'funded': 9374, 'oversight': 9375, 'blizzard': 9376, 'scottsdale': 9377, 'supplying': 9378, '2018': 9379, 'ole': 9380, 'carr': 9381, 'rubio': 9382, 'multimedia': 9383, 'polio': 9384, 'root': 9385, 'banquet': 9386, 'missions': 9387, 'ballistic': 9388, 'colour': 9389, 'jaipur': 9390, 'relaunch': 9391, 'aerial': 9392, 'imposes': 9393, 'inner': 9394, 'keira': 9395, 'upsets': 9396, '170': 9397, 'unmanned': 9398, 'shropshire': 9399, 'shrinks': 9400, 'shakes': 9401, 'splash': 9402, 'bellevue': 9403, 'ID': 9404, 'whilst': 9405, 'mercer': 9406, 'landfill': 9407, 'goalless': 9408, 'liga': 9409, 'cautiously': 9410, 'builders': 9411, '220': 9412, 'blazers': 9413, 'chairperson': 9414, 'rejecting': 9415, 'consultants': 9416, 'competitors': 9417, 'produces': 9418, 'duck': 9419, 'guaranteed': 9420, 'chhattisgarh': 9421, 'conclusion': 9422, 'elimination': 9423, 'spying': 9424, 'deserved': 9425, 'partnerships': 9426, 'tired': 9427, 'dangers': 9428, 'paddy': 9429, 'paulson': 9430, 'surprisingly': 9431, 'repaired': 9432, 'chen': 9433, 'karunanidhi': 9434, 'avery': 9435, 'apprentice': 9436, 'motorway': 9437, 'samples': 9438, 'karan': 9439, 'dish': 9440, 'exist': 9441, 'khurshid': 9442, 'terrible': 9443, 'camden': 9444, 'mideast': 9445, 'alto': 9446, 'bullets': 9447, 'deserves': 9448, 'moratorium': 9449, 'profitable': 9450, 'darfur': 9451, 'touchdown': 9452, 'marshal': 9453, 'homage': 9454, 'harrington': 9455, 'memoir': 9456, 'underwear': 9457, 'paving': 9458, 'fantastic': 9459, 'trinidad': 9460, 'insurgency': 9461, '70000': 9462, 'inflationary': 9463, 'exercised': 9464, 'organ': 9465, 'legally': 9466, 'shiite': 9467, 'luxembourg': 9468, 'bassist': 9469, 'beverage': 9470, 'kaif': 9471, 'jacobs': 9472, 'patna': 9473, 'sheep': 9474, 'sanctuary': 9475, 'lithuania': 9476, 'fingers': 9477, 'lefthander': 9478, 'avatar': 9479, 'restoring': 9480, '200809': 9481, 'noida': 9482, 'obtain': 9483, 'pled': 9484, 'proving': 9485, 'regularly': 9486, 'sits': 9487, 'herbert': 9488, 'telangana': 9489, 'CFO': 9490, 'colonel': 9491, 'tier': 9492, 'stamps': 9493, 'adaptation': 9494, 'portrait': 9495, 'carries': 9496, 'enrollment': 9497, 'predicting': 9498, 'brigade': 9499, 'viewing': 9500, 'crowds': 9501, 'initiates': 9502, 'rides': 9503, 'crowe': 9504, 'dressing': 9505, 'IRS': 9506, 'petty': 9507, 'aggression': 9508, 'spiderman': 9509, 'issuer': 9510, 'dev': 9511, 'webster': 9512, 'worry': 9513, 'cheat': 9514, 'reductions': 9515, 'nightmare': 9516, 'nordic': 9517, 'pill': 9518, 'fastgrowing': 9519, 'divorced': 9520, 'hottest': 9521, 'presley': 9522, 'opposing': 9523, 'jackman': 9524, 'weisz': 9525, 'CIS': 9526, '730': 9527, 'bloom': 9528, 'horry': 9529, 'liz': 9530, 'importing': 9531, 'column': 9532, 'apache': 9533, 'protocol': 9534, 'mistakenly': 9535, 'supervisor': 9536, 'consultations': 9537, 'roland': 9538, 'mahendra': 9539, 'bosnia': 9540, 'aliens': 9541, 'commissions': 9542, 'arguments': 9543, 'sectarian': 9544, 'smallest': 9545, 'smooth': 9546, 'airplane': 9547, 'labourers': 9548, 'commentator': 9549, 'olive': 9550, 'entirely': 9551, 'arbor': 9552, 'ajax': 9553, 'pakistanis': 9554, 'jaime': 9555, 'interaction': 9556, 'ear': 9557, 'kane': 9558, 'catastrophic': 9559, 'ancelotti': 9560, 'achieves': 9561, 'vetoes': 9562, '33yearold': 9563, 'reply': 9564, 'movements': 9565, 'prostitute': 9566, 'persuade': 9567, 'closest': 9568, 'copenhagen': 9569, 'thrashers': 9570, 'thrilled': 9571, 'lingus': 9572, 'premiums': 9573, 'kia': 9574, 'QPR': 9575, 'campaigners': 9576, 'ignored': 9577, 'bloomington': 9578, 'warne': 9579, 'patriot': 9580, 'explosions': 9581, 'classified': 9582, 'advocacy': 9583, 'cousins': 9584, 'premieres': 9585, 'euronext': 9586, '108': 9587, 'forks': 9588, 'nicholas': 9589, 'eleven': 9590, 'cody': 9591, 'journalism': 9592, 'mentioned': 9593, 'shipyard': 9594, 'asbestos': 9595, 'bynes': 9596, 'senegal': 9597, 'spared': 9598, 'complaining': 9599, 'methamphetamine': 9600, 'bicyclist': 9601, 'colbert': 9602, 'regulate': 9603, 'appalachian': 9604, 'relieved': 9605, 'anaheim': 9606, 'baton': 9607, 'darling': 9608, 'igor': 9609, 'shrine': 9610, 'imperial': 9611, 'deadliest': 9612, 'tune': 9613, 'staging': 9614, 'NL': 9615, 'bluray': 9616, 'clara': 9617, 'discounts': 9618, 'nitin': 9619, 'courteney': 9620, 'properly': 9621, 'unveiling': 9622, '10yearold': 9623, 'ballet': 9624, 'misleading': 9625, 'swimmers': 9626, 'prospective': 9627, 'spinal': 9628, 'endorsing': 9629, 'orthodox': 9630, 'alexandria': 9631, 'fabrice': 9632, 'primarily': 9633, 'headquartered': 9634, 'roanoke': 9635, 'opt': 9636, 'lazio': 9637, 'enrichment': 9638, 'limerick': 9639, 'FX': 9640, 'edgar': 9641, 'impending': 9642, 'hawaiian': 9643, 'joplin': 9644, 'eid': 9645, 'gainesville': 9646, 'dealerships': 9647, 'ambassadors': 9648, 'vogue': 9649, 'cricketers': 9650, 'workshops': 9651, 'iPhones': 9652, 'gangs': 9653, 'exboyfriend': 9654, 'lucy': 9655, 'axis': 9656, 'surprising': 9657, 'rejoin': 9658, 'perjury': 9659, 'submarine': 9660, 'expressing': 9661, 'EP': 9662, 'sights': 9663, 'enemies': 9664, 'tongue': 9665, 'finalized': 9666, 'practicing': 9667, 'dismiss': 9668, 'savage': 9669, 'lockheed': 9670, 'vandalized': 9671, 'nordstrom': 9672, 'freezes': 9673, 'forged': 9674, 'stockton': 9675, 'madden': 9676, 'polanski': 9677, 'noise': 9678, 'identifying': 9679, 'kochi': 9680, 'xavier': 9681, 'churchill': 9682, 'LPGA': 9683, 'relocate': 9684, 'IV': 9685, 'sands': 9686, 'brit': 9687, 'carney': 9688, 'ravi': 9689, 'touches': 9690, 'approvals': 9691, 'topeka': 9692, 'servers': 9693, 'pad': 9694, 'verge': 9695, 'hancock': 9696, 'graves': 9697, 'spacecraft': 9698, 'architect': 9699, 'fallon': 9700, 'maestro': 9701, 'downgrade': 9702, 'interface': 9703, 'java': 9704, 'scooter': 9705, 'trauma': 9706, 'hefner': 9707, 'inaugurates': 9708, 'hears': 9709, 'qb': 9710, 'timber': 9711, 'broadly': 9712, 'decreased': 9713, 'lingering': 9714, 'villarreal': 9715, 'balcony': 9716, 'lamar': 9717, 'comply': 9718, 'bali': 9719, 'slipping': 9720, 'corbett': 9721, '11yearold': 9722, '24th': 9723, 'tori': 9724, 'humane': 9725, 'billings': 9726, 'stockholders': 9727, 'waterloo': 9728, 'romo': 9729, 'stafford': 9730, 'beck': 9731, 'hospice': 9732, '100m': 9733, 'prakash': 9734, 'pressured': 9735, 'osborne': 9736, 'indicators': 9737, 'grammer': 9738, 'kan': 9739, 'elephants': 9740, 'jamaican': 9741, 'ariz': 9742, 'loving': 9743, 'overtake': 9744, 'migration': 9745, 'zynga': 9746, 'twoweek': 9747, 'USled': 9748, 'snowmobile': 9749, 'politically': 9750, 'saab': 9751, 'handful': 9752, 'anfield': 9753, 'designate': 9754, 'travels': 9755, 'bursa': 9756, 'reinstate': 9757, 'ansari': 9758, 'dickinson': 9759, 'intoxicated': 9760, 'composition': 9761, 'selloff': 9762, 'ivan': 9763, 'owed': 9764, 'adequate': 9765, 'TNA': 9766, 'peterborough': 9767, '1997': 9768, 'seas': 9769, 'bauer': 9770, 'precautionary': 9771, 'poster': 9772, 'fullyear': 9773, 'component': 9774, '145': 9775, 'underlying': 9776, 'restive': 9777, 'booth': 9778, 'bypass': 9779, 'knowles': 9780, 'munster': 9781, 'prolific': 9782, 'ramon': 9783, 'slept': 9784, 'patriotic': 9785, 'superhero': 9786, 'incredibly': 9787, 'mitch': 9788, 'unnamed': 9789, '2017': 9790, 'marred': 9791, 'backdrop': 9792, 'conspiring': 9793, 'mongolia': 9794, 'merit': 9795, 'racism': 9796, 'mastectomy': 9797, 'log': 9798, 'credited': 9799, 'PepsiCo': 9800, 'en': 9801, 'vetoed': 9802, 'insurgent': 9803, 'condoleezza': 9804, 'candy': 9805, 'expenditure': 9806, 'africanamerican': 9807, 'victories': 9808, 'ajay': 9809, 'lacks': 9810, 'photographers': 9811, 'chattanooga': 9812, 'calhoun': 9813, 'mound': 9814, 'cubic': 9815, 'wolfsburg': 9816, 'carlyle': 9817, 'forestry': 9818, 'controlling': 9819, 'raceway': 9820, 'neighbourhood': 9821, 'NV': 9822, 'speedy': 9823, 'elvis': 9824, 'heathrow': 9825, 'mahinda': 9826, 'tenure': 9827, 'grounded': 9828, 'jain': 9829, 'haitian': 9830, 'resumption': 9831, 'il': 9832, 'andrea': 9833, 'examine': 9834, 'welcoming': 9835, 'newfoundland': 9836, 'clarence': 9837, 'perkins': 9838, 'basement': 9839, 'hung': 9840, 'hijack': 9841, 'embarrassing': 9842, 'youngster': 9843, 'rita': 9844, 'sustain': 9845, 'najib': 9846, 'scherzinger': 9847, 'iPads': 9848, 'woody': 9849, 'evolution': 9850, 'middlesex': 9851, 'patriarch': 9852, 'hacker': 9853, 'kashmiri': 9854, 'shipment': 9855, 'frustrated': 9856, 'sonic': 9857, 'mellon': 9858, 'sewage': 9859, 'pontiac': 9860, 'landscape': 9861, 'santana': 9862, 'applying': 9863, 'serzh': 9864, 'understands': 9865, 'aluminium': 9866, 'goodell': 9867, 'jokes': 9868, 'eskom': 9869, 'VMware': 9870, 'dolphin': 9871, 'diverted': 9872, 'concedes': 9873, 'gyllenhaal': 9874, 'bajaj': 9875, 'elena': 9876, 'mulls': 9877, 'shahrukh': 9878, 'directorial': 9879, 'upholds': 9880, 'capsizes': 9881, 'BS': 9882, 'autonomous': 9883, 'peer': 9884, 'overshadowed': 9885, 'standout': 9886, 'processors': 9887, 'unwanted': 9888, 'respective': 9889, 'tolerance': 9890, 'hoax': 9891, 'maori': 9892, 'cornell': 9893, 'knocking': 9894, 'flexibility': 9895, 'displayed': 9896, 'leona': 9897, 'fixing': 9898, 'downing': 9899, 'reversed': 9900, '09': 9901, 'manufactured': 9902, 'turnaround': 9903, 'locally': 9904, 'granite': 9905, 'kimoon': 9906, 'wealthy': 9907, 'bandits': 9908, 'GCC': 9909, 'adverse': 9910, 'OJ': 9911, 'yanukovych': 9912, 'inflows': 9913, 'microsystems': 9914, 'murderer': 9915, 'sticking': 9916, 'accurate': 9917, 'demonstrated': 9918, 'aluminum': 9919, 'wardrobe': 9920, 'sellers': 9921, 'fiancee': 9922, 'branson': 9923, 'waited': 9924, 'fairbanks': 9925, 'averages': 9926, 'flower': 9927, 'existence': 9928, 'abdominal': 9929, 'partnered': 9930, 'communal': 9931, 'impersonating': 9932, 'twoyearold': 9933, 'SBI': 9934, 'hutchison': 9935, 'prof': 9936, 'SM': 9937, 'polo': 9938, 'meter': 9939, 'mice': 9940, 'usually': 9941, 'bikini': 9942, 'knockout': 9943, 'optimization': 9944, 'axed': 9945, 'resistances': 9946, 'gervais': 9947, 'pupil': 9948, 'lara': 9949, 'owing': 9950, 'receivers': 9951, 'usage': 9952, 'ruth': 9953, 'intentionally': 9954, 'ultimately': 9955, 'jenson': 9956, 'wartorn': 9957, 'middlesbrough': 9958, 'regulated': 9959, 'baxter': 9960, 'reactors': 9961, 'grades': 9962, 'concord': 9963, 'determination': 9964, 'licences': 9965, 'breeders': 9966, 'stakeholders': 9967, 'react': 9968, '26th': 9969, 'irvine': 9970, 'espionage': 9971, 'aishwarya': 9972, 'bipartisan': 9973, 'hulu': 9974, '60000': 9975, 'clint': 9976, 'wives': 9977, 'slaying': 9978, 'courtesy': 9979, 'lend': 9980, '14000': 9981, 'leagues': 9982, 'surging': 9983, 'societe': 9984, 'costing': 9985, 'unnecessary': 9986, 'nigerians': 9987, 'kitten': 9988, 'except': 9989, 'barrett': 9990, 'powerhouse': 9991, 'chooses': 9992, '2G': 9993, 'vocal': 9994, 'diplomacy': 9995, 'cypriot': 9996, 'arroyo': 9997, 'marvin': 9998, 'byrd': 9999}\n"
     ]
    }
   ],
   "execution_count": 55
  },
  {
   "cell_type": "markdown",
   "metadata": {
    "collapsed": false,
    "pycharm": {
     "name": "#%% md\n"
    }
   },
   "source": [
    "<a name='e4'></a>\n",
    "### Exercise 4: Bag of Words\n",
    "(1p) Here we will create the bag-of-words representation of the sentences. The function will take a single sentence (list of tokens) and return an array of size `vocab_size` with the counts of each word in the vocabulary. The\n",
    "`vocab_size` is calculated as the length of the passed `token_to_id` dictionary. The resulting array should have zeros everywhere but the indices corresponding to the words in the vocabulary where it should have the counts of the words in the sentence. For example, if the sentence is `['fox', 'and', 'deer']` and the vocabulary is `{'fox': 0, 'and': 1, 'deer': 2}`, the resulting array should be `[1, 1, 1]`. If the sentence is `['fox', 'and', 'fox', 'deer']`, the resulting array should be `[2, 1, 1]`."
   ]
  },
  {
   "cell_type": "code",
   "metadata": {
    "collapsed": false,
    "pycharm": {
     "name": "#%%\n"
    },
    "ExecuteTime": {
     "end_time": "2025-04-20T20:51:52.540983Z",
     "start_time": "2025-04-20T20:51:52.537109Z"
    }
   },
   "source": [
    "def bag_of_words(sentence, token_to_id):\n",
    "    \"\"\"\n",
    "    Creates a bag-of-words representation of the sentence\n",
    "    Args:\n",
    "        sentence: a list of tokens\n",
    "        token_to_id: a dictionary mapping each word to an index in the vocabulary\n",
    "\n",
    "    Returns:: a numpy array of size vocab_size with the counts of each word in the vocabulary\n",
    "\n",
    "    \"\"\"\n",
    "    vocab_size = len(token_to_id)\n",
    "    bow = np.zeros(vocab_size, dtype=int)\n",
    "\n",
    "    ### YOUR CODE HERE\n",
    "    # copilot used when writing the code\n",
    "    for token in sentence:\n",
    "        if token in token_to_id:\n",
    "            index = token_to_id[token]\n",
    "            bow[index] += 1\n",
    "    ### YOUR CODE ENDS HERE\n",
    "\n",
    "    return bow"
   ],
   "outputs": [],
   "execution_count": 56
  },
  {
   "cell_type": "markdown",
   "metadata": {
    "collapsed": false,
    "pycharm": {
     "name": "#%% md\n"
    }
   },
   "source": [
    "Let's see how the function works on a single sentence. The output should be a numpy array of size `vocab_size` with the counts of each word in the vocabulary."
   ]
  },
  {
   "cell_type": "code",
   "metadata": {
    "collapsed": false,
    "pycharm": {
     "name": "#%%\n"
    },
    "ExecuteTime": {
     "end_time": "2025-04-20T20:51:52.702027Z",
     "start_time": "2025-04-20T20:51:52.695963Z"
    }
   },
   "source": [
    "print('Tokenized sentence:')\n",
    "print(tokenized_sentences[0])\n",
    "sentence_bow = bag_of_words(tokenized_sentences[0], token_to_id)\n",
    "\n",
    "print('Bag of words:')\n",
    "print(sentence_bow)\n",
    "print('Type of bag of words:')\n",
    "print(type(sentence_bow))\n",
    "print('Shape of bag of words:')\n",
    "print(sentence_bow.shape)\n",
    "print('Non-zero elements in bag of words:')\n",
    "print(np.nonzero(sentence_bow)[0])"
   ],
   "outputs": [
    {
     "name": "stdout",
     "output_type": "stream",
     "text": [
      "Tokenized sentence:\n",
      "['the', 'internet', 'of', 'everything', 'is', 'expected', 'to', 'enable', 'global', 'private', 'sector', 'businesses', 'to', 'generate', 'at', 'least', 'US613bn', 'in', 'global', 'profits', 'in', '2013', 'according', 'to', 'the', 'IoE', 'value', 'index', 'study', 'released', 'by', 'cisco']\n",
      "Bag of words:\n",
      "[2 3 0 ... 0 0 0]\n",
      "Type of bag of words:\n",
      "<class 'numpy.ndarray'>\n",
      "Shape of bag of words:\n",
      "(10000,)\n",
      "Non-zero elements in bag of words:\n",
      "[   0    1    3    4   11   12   15   65  148  163  217  358  407  456\n",
      "  570  636  664  935 1134 1745 1799 2857 4690 5044 6568]\n"
     ]
    }
   ],
   "execution_count": 57
  },
  {
   "cell_type": "markdown",
   "metadata": {
    "collapsed": false,
    "pycharm": {
     "name": "#%% md\n"
    }
   },
   "source": [
    "We can also check in detail what words and their counts are in the bag-of-words representation."
   ]
  },
  {
   "cell_type": "code",
   "metadata": {
    "collapsed": false,
    "pycharm": {
     "name": "#%%\n"
    },
    "ExecuteTime": {
     "end_time": "2025-04-20T20:51:52.861236Z",
     "start_time": "2025-04-20T20:51:52.856784Z"
    }
   },
   "source": [
    "sentence_non_zero_bow = np.nonzero(sentence_bow)[0]\n",
    "print('Non-zero elements in bag of words:')\n",
    "print(sentence_non_zero_bow)\n",
    "for i in sentence_non_zero_bow:\n",
    "    print(vocab[i][0], ':', sentence_bow[i])"
   ],
   "outputs": [
    {
     "name": "stdout",
     "output_type": "stream",
     "text": [
      "Non-zero elements in bag of words:\n",
      "[   0    1    3    4   11   12   15   65  148  163  217  358  407  456\n",
      "  570  636  664  935 1134 1745 1799 2857 4690 5044 6568]\n",
      "the : 2\n",
      "to : 3\n",
      "in : 2\n",
      "of : 1\n",
      "is : 1\n",
      "at : 1\n",
      "by : 1\n",
      "according : 1\n",
      "global : 2\n",
      "released : 1\n",
      "expected : 1\n",
      "2013 : 1\n",
      "private : 1\n",
      "study : 1\n",
      "least : 1\n",
      "sector : 1\n",
      "internet : 1\n",
      "businesses : 1\n",
      "index : 1\n",
      "value : 1\n",
      "profits : 1\n",
      "everything : 1\n",
      "cisco : 1\n",
      "enable : 1\n",
      "generate : 1\n"
     ]
    }
   ],
   "execution_count": 58
  },
  {
   "cell_type": "markdown",
   "metadata": {
    "collapsed": false,
    "pycharm": {
     "name": "#%% md\n"
    }
   },
   "source": [
    "The following function will apply all the steps we implemented to a single sentence. It returns a bag of words representation that we will use to calculate the similarity between different sentences."
   ]
  },
  {
   "cell_type": "code",
   "metadata": {
    "collapsed": false,
    "pycharm": {
     "name": "#%%\n"
    },
    "ExecuteTime": {
     "end_time": "2025-04-20T20:51:53.016919Z",
     "start_time": "2025-04-20T20:51:53.013876Z"
    }
   },
   "source": [
    "def embed_text(text, clean_fn, tokenize_fn, embed_fn):\n",
    "    cleaned = clean_fn(text)\n",
    "    tokens = tokenize_fn(cleaned)\n",
    "    embedding = embed_fn(tokens)\n",
    "    return embedding"
   ],
   "outputs": [],
   "execution_count": 59
  },
  {
   "cell_type": "markdown",
   "metadata": {
    "collapsed": false,
    "pycharm": {
     "name": "#%% md\n"
    }
   },
   "source": [
    "<a name='e5'></a>\n",
    "### Exercise 5: Cosine Similarity between two vectors\n",
    "\n",
    "(1p) Complete the following function that given any two vectors will compute the cosine similarity. If you don't remember the formula for the cosine similarity, revisit the course material. Notice that the function receives numpy arrays and recall that you can express cosine similarity as a dot product. Use numpy functions to write an efficient implementation."
   ]
  },
  {
   "cell_type": "code",
   "metadata": {
    "collapsed": false,
    "pycharm": {
     "name": "#%%\n"
    },
    "ExecuteTime": {
     "end_time": "2025-04-20T20:51:53.172446Z",
     "start_time": "2025-04-20T20:51:53.168518Z"
    }
   },
   "source": [
    "def cosine_similarity(vector1, vector2):\n",
    "    \"\"\"\n",
    "    Computes the cosine similarity between two vectors\n",
    "    Args:\n",
    "        vector1: numpy array of the first vector\n",
    "        vector2: numpy array of the second vector\n",
    "\n",
    "    Returns: cosine similarity\n",
    "\n",
    "    \"\"\"\n",
    "    ### YOUR CODE HERE\n",
    "    dot_product = np.dot(vector1, vector2)\n",
    "    # square root of the sum of squares of the vector1\n",
    "    divider = np.sqrt(np.dot(vector1, vector1))*np.sqrt(np.dot(vector2, vector2))\n",
    "    if divider == 0:\n",
    "        return 0.0\n",
    "    else:\n",
    "        return dot_product / divider\n",
    "    ### YOUR CODE ENDS HERE"
   ],
   "outputs": [],
   "execution_count": 60
  },
  {
   "cell_type": "code",
   "metadata": {
    "collapsed": false,
    "pycharm": {
     "name": "#%%\n"
    },
    "ExecuteTime": {
     "end_time": "2025-04-20T20:51:53.329877Z",
     "start_time": "2025-04-20T20:51:53.325335Z"
    }
   },
   "source": [
    "cosine_similarity(np.array([0, 1, 2]), np.array([0, 2, 4]))"
   ],
   "outputs": [
    {
     "data": {
      "text/plain": [
       "0.9999999999999998"
      ]
     },
     "execution_count": 61,
     "metadata": {},
     "output_type": "execute_result"
    }
   ],
   "execution_count": 61
  },
  {
   "cell_type": "code",
   "metadata": {
    "collapsed": false,
    "pycharm": {
     "name": "#%%\n"
    },
    "ExecuteTime": {
     "end_time": "2025-04-20T20:51:53.489819Z",
     "start_time": "2025-04-20T20:51:53.483026Z"
    }
   },
   "source": [
    "sentences = [\n",
    "    'The quick brown fox jumps over the lazy dog.',\n",
    "    'Some interesting document containin sentences.',\n",
    "    'The quick brown fox jumps over the lazy cat and some other stuff.',\n",
    "    'Fox and deer are not friends.',\n",
    "    'Fox and deer are not friends. But this document is a lot longer than the previous one. We can add sentence by sentence and see how the embeddings change.',\n",
    "]\n",
    "embedded_sentences = [\n",
    "    embed_text(sentence, clean, tokenize, lambda x: bag_of_words(x, token_to_id))\n",
    "    for sentence in sentences\n",
    "]\n",
    "\n",
    "query = 'fox and deer'\n",
    "embedded_query = embed_text(query, clean, tokenize, lambda x: bag_of_words(x, token_to_id))\n",
    "\n",
    "cosine_similarities = [\n",
    "    cosine_similarity(embedded_query, embedded_sentence)\n",
    "    for embedded_sentence in embedded_sentences\n",
    "]\n",
    "print(f'Query: {query}')\n",
    "for sent, cos_sim in zip(sentences, cosine_similarities):\n",
    "    print(f'Cosine Similarity: {cos_sim:.4f} - Sentence: {sent}')"
   ],
   "outputs": [
    {
     "name": "stdout",
     "output_type": "stream",
     "text": [
      "Query: fox and deer\n",
      "Cosine Similarity: 0.1826 - Sentence: The quick brown fox jumps over the lazy dog.\n",
      "Cosine Similarity: 0.0000 - Sentence: Some interesting document containin sentences.\n",
      "Cosine Similarity: 0.3086 - Sentence: The quick brown fox jumps over the lazy cat and some other stuff.\n",
      "Cosine Similarity: 0.7071 - Sentence: Fox and deer are not friends.\n",
      "Cosine Similarity: 0.3961 - Sentence: Fox and deer are not friends. But this document is a lot longer than the previous one. We can add sentence by sentence and see how the embeddings change.\n"
     ]
    }
   ],
   "execution_count": 62
  },
  {
   "cell_type": "markdown",
   "metadata": {
    "collapsed": false,
    "pycharm": {
     "name": "#%% md\n"
    }
   },
   "source": [
    "We will apply the function to the whole dataset. This might take a while, so be patient. The result will be stored in the `sentence_bow` and `compressed_bow` fields of the dataset."
   ]
  },
  {
   "cell_type": "code",
   "metadata": {
    "collapsed": false,
    "pycharm": {
     "name": "#%%\n"
    },
    "ExecuteTime": {
     "end_time": "2025-04-20T20:51:53.648601Z",
     "start_time": "2025-04-20T20:51:53.644875Z"
    }
   },
   "source": [
    "def bag_of_words_dataset(example):\n",
    "    \"\"\"\n",
    "    Creates a bag-of-words representation of the sentence and compressed sentence in the example from the Dataset\n",
    "    Args:\n",
    "        example: an example from the Dataset\n",
    "\n",
    "    Returns: updated example with 'sentence_bow' and 'compressed_bow' columns\n",
    "\n",
    "    \"\"\"\n",
    "    sentence_tokens = example['sentence_tokens']\n",
    "    compressed_tokens = example['compressed_tokens']\n",
    "\n",
    "    sentence_bow = bag_of_words(sentence_tokens, token_to_id)\n",
    "    compressed_bow = bag_of_words(compressed_tokens, token_to_id)\n",
    "\n",
    "    example['sentence_bow'] = sentence_bow\n",
    "    example['compressed_bow'] = compressed_bow\n",
    "    return example"
   ],
   "outputs": [],
   "execution_count": 63
  },
  {
   "cell_type": "markdown",
   "metadata": {
    "collapsed": false,
    "pycharm": {
     "name": "#%% md\n"
    }
   },
   "source": [
    "The following cell will apply the function to the whole dataset. The result will be stored in the `sentence_bow` and `compressed_bow` fields of the dataset. We will also convert the dataset's fields `sentence_bow` and `compressed_bow` to numpy format for easier manipulation."
   ]
  },
  {
   "cell_type": "code",
   "metadata": {
    "collapsed": false,
    "pycharm": {
     "name": "#%%\n"
    },
    "ExecuteTime": {
     "end_time": "2025-04-20T20:52:29.188110Z",
     "start_time": "2025-04-20T20:51:53.813808Z"
    }
   },
   "source": [
    "test_ds = split_ds['test'].map(bag_of_words_dataset)\n",
    "test_ds = test_ds.with_format('np', columns=['sentence_bow', 'compressed_bow'], dtype=float)\n",
    "print(test_ds)"
   ],
   "outputs": [
    {
     "data": {
      "text/plain": [
       "Map:   0%|          | 0/36000 [00:00<?, ? examples/s]"
      ],
      "application/vnd.jupyter.widget-view+json": {
       "version_major": 2,
       "version_minor": 0,
       "model_id": "c2142a2f3f0d4c878afc043b9caa2ee7"
      }
     },
     "metadata": {},
     "output_type": "display_data"
    },
    {
     "name": "stdout",
     "output_type": "stream",
     "text": [
      "Dataset({\n",
      "    features: ['set', 'clean_sentence', 'clean_compressed', 'sentence_tokens', 'compressed_tokens', 'sentence_bow', 'compressed_bow'],\n",
      "    num_rows: 36000\n",
      "})\n"
     ]
    }
   ],
   "execution_count": 64
  },
  {
   "cell_type": "markdown",
   "metadata": {
    "collapsed": false,
    "pycharm": {
     "name": "#%% md\n"
    }
   },
   "source": [
    "Let's check the results. The `sentence_bow` and `compressed_bow` fields should contain the bag-of-words representation of the sentences and compressed sentences, respectively."
   ]
  },
  {
   "cell_type": "code",
   "metadata": {
    "collapsed": false,
    "pycharm": {
     "name": "#%%\n"
    },
    "ExecuteTime": {
     "end_time": "2025-04-20T20:52:29.332502Z",
     "start_time": "2025-04-20T20:52:29.326421Z"
    }
   },
   "source": [
    "print(test_ds[0])"
   ],
   "outputs": [
    {
     "name": "stdout",
     "output_type": "stream",
     "text": [
      "{'sentence_bow': array([2., 0., 0., ..., 0., 0., 0.]), 'compressed_bow': array([0., 0., 0., ..., 0., 0., 0.])}\n"
     ]
    }
   ],
   "execution_count": 65
  },
  {
   "cell_type": "code",
   "metadata": {
    "collapsed": false,
    "pycharm": {
     "name": "#%%\n"
    },
    "ExecuteTime": {
     "end_time": "2025-04-20T20:52:48.352153Z",
     "start_time": "2025-04-20T20:52:29.480202Z"
    }
   },
   "source": [
    "sentences_bows = test_ds['sentence_bow']\n",
    "print(sentences_bows.shape)"
   ],
   "outputs": [
    {
     "name": "stdout",
     "output_type": "stream",
     "text": [
      "(36000, 10000)\n"
     ]
    }
   ],
   "execution_count": 66
  },
  {
   "cell_type": "markdown",
   "metadata": {
    "collapsed": false,
    "pycharm": {
     "name": "#%% md\n"
    }
   },
   "source": [
    "Now we can start building a retriever based on the bag of words representation. The first step is to calculate the cosine similarity between two vectors."
   ]
  },
  {
   "cell_type": "markdown",
   "metadata": {
    "collapsed": false,
    "pycharm": {
     "name": "#%% md\n"
    }
   },
   "source": [
    "<a name='e6'></a>\n",
    "### Exercise 6: Cosine Similarity between a vector and an array of vectors\n",
    "\n",
    "(2p) The next step in our retrieval system, would be to calculate the proximity of a query to our retrieval corpus (in our case that is all the sentences).\n",
    "\n",
    "Complete the following function to calculate the cosine similarity between a vector (first parameter `vector`, that will usually be the query vector) and all other vectors (second parameter `other_vectors`, that will be the sentence embeddings in our case). Note that the `other_vectors` parameter is a single numpy array of size `N x D`, where $N$ is the number of vectors and $D$ is the dimension of each vector.\n",
    "\n",
    "For maximum efficiency (we will need it) do not use loops. Try to write the implementation with numpy functions. Hint: matrix multiplication can be seen as calculating the dot product between rows and columns of the multiplied matrices."
   ]
  },
  {
   "cell_type": "code",
   "metadata": {
    "id": "LgaV2b3fpSOR",
    "pycharm": {
     "name": "#%%\n"
    },
    "ExecuteTime": {
     "end_time": "2025-04-20T20:52:48.624579Z",
     "start_time": "2025-04-20T20:52:48.620922Z"
    }
   },
   "source": [
    "def cosine_similarity_1_to_n(vector, other_vectors):\n",
    "    \"\"\"\n",
    "    Calculates the cosine similarity between a single vector and other vectors.\n",
    "    Args:\n",
    "        vector: a numpy array representing a vector of D dimensions\n",
    "        other_vectors: a 2D numpy array representing other vectors (of the size NxD, where N is the number of vectors and D is their dimension)\n",
    "\n",
    "    Returns: a 1D numpy array of size N containing the cosine similarity between the vector and all the other vectors\n",
    "\n",
    "    \"\"\"\n",
    "\n",
    "    #### YOUR CODE HERE\n",
    "\n",
    "\n",
    "\n",
    "\n",
    "\n",
    "\n",
    "    ### YOUR CODE ENDS HERE"
   ],
   "outputs": [],
   "execution_count": 67
  },
  {
   "cell_type": "markdown",
   "metadata": {
    "collapsed": false,
    "id": "irNqAJZLpSOR",
    "pycharm": {
     "name": "#%% md\n"
    }
   },
   "source": [
    "We will use the function to calculate the similarity of all sentences in the dataset to our query."
   ]
  },
  {
   "cell_type": "code",
   "metadata": {
    "collapsed": false,
    "pycharm": {
     "name": "#%%\n"
    },
    "ExecuteTime": {
     "end_time": "2025-04-20T20:52:48.787015Z",
     "start_time": "2025-04-20T20:52:48.783555Z"
    }
   },
   "source": [
    "query = 'fox and deer'\n",
    "embedded_query = embed_text(query, clean, tokenize, lambda x: bag_of_words(x, token_to_id))"
   ],
   "outputs": [],
   "execution_count": 68
  },
  {
   "cell_type": "code",
   "metadata": {
    "id": "uD9mVAhYpSOR",
    "pycharm": {
     "name": "#%%\n"
    },
    "ExecuteTime": {
     "end_time": "2025-04-20T20:52:52.313017Z",
     "start_time": "2025-04-20T20:52:52.284653Z"
    }
   },
   "source": [
    "query_similarity = cosine_similarity_1_to_n(embedded_query, sentences_bows)\n",
    "print(query_similarity.shape)\n",
    "print(query_similarity[:10])"
   ],
   "outputs": [
    {
     "ename": "AttributeError",
     "evalue": "'NoneType' object has no attribute 'shape'",
     "output_type": "error",
     "traceback": [
      "\u001B[0;31m---------------------------------------------------------------------------\u001B[0m",
      "\u001B[0;31mAttributeError\u001B[0m                            Traceback (most recent call last)",
      "Cell \u001B[0;32mIn[69], line 2\u001B[0m\n\u001B[1;32m      1\u001B[0m query_similarity \u001B[38;5;241m=\u001B[39m cosine_similarity_1_to_n(embedded_query, sentences_bows)\n\u001B[0;32m----> 2\u001B[0m \u001B[38;5;28mprint\u001B[39m(query_similarity\u001B[38;5;241m.\u001B[39mshape)\n\u001B[1;32m      3\u001B[0m \u001B[38;5;28mprint\u001B[39m(query_similarity[:\u001B[38;5;241m10\u001B[39m])\n",
      "\u001B[0;31mAttributeError\u001B[0m: 'NoneType' object has no attribute 'shape'"
     ]
    }
   ],
   "execution_count": 69
  },
  {
   "cell_type": "markdown",
   "metadata": {
    "collapsed": false,
    "id": "_l3erVTNpSOR",
    "pycharm": {
     "name": "#%% md\n"
    }
   },
   "source": [
    "The following cell will select the most similar sentence."
   ]
  },
  {
   "cell_type": "code",
   "execution_count": null,
   "metadata": {
    "id": "0wWa4AWHpSOR",
    "pycharm": {
     "name": "#%%\n"
    }
   },
   "outputs": [],
   "source": [
    "most_similar = int(np.argmax(query_similarity))\n",
    "print(most_similar)\n",
    "print(query_similarity[most_similar])\n",
    "print(split_ds['test'][most_similar]['set'][0])"
   ]
  },
  {
   "cell_type": "markdown",
   "metadata": {
    "collapsed": false,
    "id": "fpdJHFD1pSOR",
    "pycharm": {
     "name": "#%% md\n"
    }
   },
   "source": [
    "The following function will return the indices of the top-k elements in the array."
   ]
  },
  {
   "cell_type": "code",
   "execution_count": null,
   "metadata": {
    "id": "QFUNI9elpSOS",
    "pycharm": {
     "name": "#%%\n"
    }
   },
   "outputs": [],
   "source": [
    "def top_k_indices(array, k, sorted=True):\n",
    "    \"\"\"\n",
    "    Returns top-k indices from the 1D array. If `sorted` is `True` the returned indices are sorted in the descending order\n",
    "    Args:\n",
    "        array: a 1D numpy array\n",
    "        k: a number of top indices to return\n",
    "        sorted: if True, the returned indices are sorted in descending order\n",
    "\n",
    "    Returns: a 1D array containing top-k indices\n",
    "\n",
    "    \"\"\"\n",
    "    top_k = np.argpartition(array, -k)[-k:]\n",
    "    if sorted:\n",
    "        selected = array[top_k]\n",
    "        sorted_selected = (-selected).argsort()\n",
    "        top_k = top_k[sorted_selected]\n",
    "    return top_k"
   ]
  },
  {
   "cell_type": "code",
   "execution_count": null,
   "metadata": {
    "id": "nY8vvJdepSOS",
    "pycharm": {
     "name": "#%%\n"
    }
   },
   "outputs": [],
   "source": [
    "top_indices = top_k_indices(query_similarity, k=10).tolist()\n",
    "for idx in top_indices:\n",
    "    print(split_ds['test'][idx]['set'][0])\n",
    "    print(f'similarity: {query_similarity[idx]}')"
   ]
  },
  {
   "cell_type": "markdown",
   "metadata": {
    "collapsed": false,
    "id": "BuRI2JzQpSOS",
    "pycharm": {
     "name": "#%% md\n"
    }
   },
   "source": [
    "<a name='e7'></a>\n",
    "### Exercise 7: Analyzing and improving BOW search results\n",
    "\n",
    "Experiment with different queries (taking into account the nature of the dataset and your insights from the analysis so far).\n",
    "Answer the following questions:\n",
    "- (5p) Does the search perform well? When does it fail? Discuss several examples that are we get an expected but also unexpected results (find at least 3 from each category). Provide reasons for the good/bad result in each case (e.g. is there some error in the data, is there some linguistic phenomenon that we don't capture, is something wrong with our modeling with average embeddings, ...)\n",
    "- (5p) If you see problems with search, how could you improve your implementation? Change the functions above, if you think there is room for improvement. Describe your changes and how they made the search better or (in case you made no changes) explain what made the search robust enough to work well."
   ]
  },
  {
   "cell_type": "code",
   "execution_count": null,
   "metadata": {
    "id": "sEQKHAvcpSOS",
    "pycharm": {
     "name": "#%%\n"
    }
   },
   "outputs": [],
   "source": [
    "#### YOUR CODE HERE\n",
    "\n",
    "\n",
    "\n",
    "### YOUR CODE ENDS HERE"
   ]
  },
  {
   "cell_type": "markdown",
   "metadata": {
    "id": "eiIGTfq6eFI5",
    "pycharm": {
     "name": "#%% md\n"
    }
   },
   "source": [
    "// your comments"
   ]
  },
  {
   "cell_type": "markdown",
   "metadata": {
    "collapsed": false,
    "pycharm": {
     "name": "#%% md\n"
    }
   },
   "source": [
    "## 3. Term Frequency - Inverse Document Frequency (TF-IDF)\n",
    "\n",
    "In this section we will implement the TF-IDF algorithm. While BOW is a simple way to represent the documents, it has some limitations. For example, it does not take into account the importance of each word in the document. TF-IDF representation takes into account the frequency of each word in the document and the frequency of the word in the whole dataset. It is a widely used technique in information retrieval and text mining. Refer to the lecture slides for more details."
   ]
  },
  {
   "cell_type": "markdown",
   "metadata": {
    "collapsed": false,
    "pycharm": {
     "name": "#%% md\n"
    }
   },
   "source": [
    "<a name='e8'></a>\n",
    "### Exercise 8: Inverse Document Frequency (IDF)\n",
    "(5p) In this exercise, you will implement the TF-IDF algorithm. First, calculate Inverse Document Frequency (IDF) for each word in the vocabulary. Intuitively, it is a measure of how informative a word is based on the whole dataset. Consult the lecture slides for the details. The IDF is calculated as follows:\n",
    "$$\n",
    "IDF(t) = log_{10}(N/df(t))$$\n",
    "where $N$ is the total number of documents (sentences) in the dataset and $df(t)$ is the number of documents containing the word $t$.\n"
   ]
  },
  {
   "cell_type": "code",
   "execution_count": null,
   "metadata": {
    "collapsed": false,
    "pycharm": {
     "name": "#%%\n"
    }
   },
   "outputs": [],
   "source": [
    "def calculate_idf(bows):\n",
    "    \"\"\"\n",
    "    Calculates the IDF for each word in the vocabulary\n",
    "    Args:\n",
    "        bows: numpty array of size (N x D) where N is the number of documents and D is the vocabulary size\n",
    "\n",
    "    Returns: a numpy array of size D with IDF values for each token\n",
    "    \"\"\"\n",
    "\n",
    "    ### YOUR CODE HERE\n",
    " # copilot used when writing the code\n",
    "    n = bows.shape[0]\n",
    "    dft = np.sum(bows > 0, axis=0)\n",
    "    idf = np.where(dft > 0, np.log10(n / dft), 0)\n",
    "    return idf\n",
    "\n",
    "\n",
    "    ### YOUR CODE ENDS HERE\n",
    "\n",
    "idf = calculate_idf(sentences_bows)"
   ]
  },
  {
   "cell_type": "markdown",
   "metadata": {
    "collapsed": false,
    "pycharm": {
     "name": "#%% md\n"
    }
   },
   "source": [
    "<a name='e9'></a>\n",
    "### Exercise 9: TF-IDF\n",
    "- (5p) Calculate TF-IDF on the `test` subset of the dataset.\n",
    "- (5p) Analyze the search results based on your implemented TF-IDF. Does the search perform well? When does it fail? Discuss several examples that are we get an expected but also unexpected results (find at least 3 from each category). Provide reasons for the good/bad result in each case (e.g. is there some error in the data, is there some linguistic phenomenon that we don't capture, is something wrong with our modeling with average embeddings, ...)\n",
    "- (5p) Compare the results with the ones you got with the bag-of-words representation. Discuss the differences and similarities. Do you think TF-IDF is a better representation for this task? Why or why not? Provide examples to support your arguments.\n"
   ]
  },
  {
   "cell_type": "code",
   "execution_count": null,
   "metadata": {
    "collapsed": false,
    "pycharm": {
     "name": "#%%\n"
    }
   },
   "outputs": [],
   "source": [
    "### YOUR CODE HERE\n",
    "# copilot used when writing the code\n",
    "def calculate_tfidf(bows, idf):\n",
    "    \"\"\"\n",
    "    Calculates the TF-IDF for each word in the vocabulary\n",
    "    Args:\n",
    "        bows: numpy array of size (N x D) where N is the number of documents and D is the vocabulary size\n",
    "        idf: a numpy array of size D with IDF values for each token\n",
    "\n",
    "    returns: a numpy array of size (N x D) with TF-IDF values for each token in each document\n",
    "    \"\"\"\n",
    "    tf = bows.copy()\n",
    "    tf_weighted = np.where(tf > 0, 1 + np.log10(tf), 0)\n",
    "    weights = tf_weighted * idf\n",
    "    return weights\n",
    "\n",
    "results = calculate_tfidf(sentences_bows, idf)\n",
    "# print head of the results\n",
    "\n",
    "\n",
    "\n",
    "\n",
    "\n",
    "### YOUR CODE ENDS HERE\n",
    "\n",
    "### YOU CAN ADD MORE CELLS"
   ]
  },
  {
   "cell_type": "markdown",
   "metadata": {
    "collapsed": false,
    "pycharm": {
     "name": "#%% md\n"
    }
   },
   "source": [
    "// your comments"
   ]
  },
  {
   "cell_type": "markdown",
   "metadata": {
    "collapsed": false,
    "pycharm": {
     "name": "#%% md\n"
    }
   },
   "source": [
    "## 4. Word Embeddings\n",
    "\n",
    "In this section you will load the pre-trained word embeddings model - Glove. You can read more about it [here](https://aclanthology.org/D14-1162/) ([https://aclanthology.org/D14-1162/](https://aclanthology.org/D14-1162/)). The embeddings are trained on a large corpus of text and are available in different dimensions. We will start with the dimension of 100, but later you will be asked to experiment with other dimensions.\n",
    "Gensim library maintains a storage containing some pre-trained models. You can read more about it [here](https://github.com/piskvorky/gensim-data) ([https://github.com/piskvorky/gensim-data](https://github.com/piskvorky/gensim-data)). Be sure to read the README of this repository.\n",
    "\n",
    "Let's first load the info of what models are available."
   ]
  },
  {
   "cell_type": "code",
   "execution_count": null,
   "metadata": {
    "collapsed": false,
    "pycharm": {
     "name": "#%%\n"
    }
   },
   "outputs": [],
   "source": [
    "import json\n",
    "import gensim.downloader as api\n",
    "\n",
    "info = api.info()  # show info about available models/datasets\n",
    "print(json.dumps(info['models'], indent=2))"
   ]
  },
  {
   "cell_type": "code",
   "execution_count": null,
   "metadata": {
    "collapsed": false,
    "pycharm": {
     "name": "#%%\n"
    }
   },
   "outputs": [],
   "source": [
    "glove_model = api.load(\"glove-wiki-gigaword-100\")"
   ]
  },
  {
   "cell_type": "markdown",
   "metadata": {
    "collapsed": false,
    "pycharm": {
     "name": "#%% md\n"
    }
   },
   "source": [
    "We can use the loaded model's `key_to_index` attribute to retrieve the whole vocabulary (aka for how many words we learned embeddings for)."
   ]
  },
  {
   "cell_type": "code",
   "execution_count": null,
   "metadata": {
    "collapsed": false,
    "pycharm": {
     "name": "#%%\n"
    }
   },
   "outputs": [],
   "source": [
    "vocab = list(glove_model.key_to_index)\n",
    "print(len(vocab))"
   ]
  },
  {
   "cell_type": "markdown",
   "metadata": {
    "collapsed": false,
    "pycharm": {
     "name": "#%% md\n"
    }
   },
   "source": [
    "Let's explore a bit further the embeddings. In the following cells, the embedding of a single word is returned. Double-check the dimensions (as sanity check). This is like inspecting the `W` matrix (weights) that we discussed in the lecture."
   ]
  },
  {
   "cell_type": "code",
   "execution_count": null,
   "metadata": {
    "collapsed": false,
    "pycharm": {
     "name": "#%%\n"
    }
   },
   "outputs": [],
   "source": [
    "# vector of a particular model. note that it is 100 dimensional as specified.\n",
    "glove_model['what']"
   ]
  },
  {
   "cell_type": "markdown",
   "metadata": {
    "collapsed": false,
    "pycharm": {
     "name": "#%% md\n"
    }
   },
   "source": [
    "Gensim objects offers different methods to easily run very common tasks. For example, there are different functions to find the most similar words.\n",
    "\n",
    "Check the documentation on how [`most_similar`](https://tedboy.github.io/nlps/generated/generated/gensim.models.Word2Vec.most_similar.html) and [`similar_by_word`](https://tedboy.github.io/nlps/generated/generated/gensim.models.Word2Vec.similar_by_word.html) can be used."
   ]
  },
  {
   "cell_type": "code",
   "execution_count": null,
   "metadata": {
    "collapsed": false,
    "pycharm": {
     "name": "#%%\n"
    }
   },
   "outputs": [],
   "source": [
    "# most similar words to a given word\n",
    "print(glove_model.most_similar('what', topn=10))\n",
    "\n",
    "# also u can use\n",
    "print(glove_model.similar_by_word('miss', topn=5))"
   ]
  },
  {
   "cell_type": "code",
   "execution_count": null,
   "metadata": {
    "collapsed": false,
    "pycharm": {
     "name": "#%%\n"
    }
   },
   "outputs": [],
   "source": [
    "print(glove_model.most_similar('why', topn=10))"
   ]
  },
  {
   "cell_type": "code",
   "execution_count": null,
   "metadata": {
    "collapsed": false,
    "pycharm": {
     "name": "#%%\n"
    }
   },
   "outputs": [],
   "source": [
    "print(glove_model.similar_by_word('who', topn=5))"
   ]
  },
  {
   "cell_type": "markdown",
   "metadata": {
    "collapsed": false,
    "pycharm": {
     "name": "#%% md\n"
    }
   },
   "source": [
    "We can now compare our implementation with the one in the pre-trained model and confirm what we already expected."
   ]
  },
  {
   "cell_type": "code",
   "execution_count": null,
   "metadata": {
    "collapsed": false,
    "pycharm": {
     "name": "#%%\n"
    }
   },
   "outputs": [],
   "source": [
    "# simalarity between two words\n",
    "word1 = 'alive'\n",
    "word2 = 'biology'\n",
    "print(glove_model.similarity(word1, word2))\n",
    "print(cosine_similarity(glove_model[word1], glove_model[word2]))"
   ]
  },
  {
   "cell_type": "code",
   "execution_count": null,
   "metadata": {
    "collapsed": false,
    "pycharm": {
     "name": "#%%\n"
    }
   },
   "outputs": [],
   "source": [
    "# simalarity between two words. similar words\n",
    "word1 = 'alive'\n",
    "word2 = 'life'\n",
    "print(glove_model.similarity(word1, word2))\n",
    "print(cosine_similarity(glove_model[word1], glove_model[word2]))"
   ]
  },
  {
   "cell_type": "code",
   "execution_count": null,
   "metadata": {
    "collapsed": false,
    "pycharm": {
     "name": "#%%\n"
    }
   },
   "outputs": [],
   "source": [
    "# simalarity between two words. dissimilar words\n",
    "word1 = 'alive'\n",
    "word2 = 'dead'\n",
    "print(glove_model.similarity(word1, word2))\n",
    "print(cosine_similarity(glove_model[word1], glove_model[word2]))"
   ]
  },
  {
   "cell_type": "code",
   "execution_count": null,
   "metadata": {
    "collapsed": false,
    "pycharm": {
     "name": "#%%\n"
    }
   },
   "outputs": [],
   "source": [
    "# simalarity between two words. unrelated words\n",
    "word1 = 'alive'\n",
    "word2 = 'horse'\n",
    "print(glove_model.similarity(word1, word2))\n",
    "print(cosine_similarity(glove_model[word1], glove_model[word2]))"
   ]
  },
  {
   "cell_type": "code",
   "execution_count": null,
   "metadata": {
    "collapsed": false,
    "pycharm": {
     "name": "#%%\n"
    }
   },
   "outputs": [],
   "source": [
    "# simalarity between two SAME words\n",
    "glove_model.similarity('equal', 'equal')\n",
    "word1 = 'equal'\n",
    "word2 = 'equal'\n",
    "print(glove_model.similarity(word1, word2))\n",
    "print(cosine_similarity(glove_model[word1], glove_model[word2]))"
   ]
  },
  {
   "cell_type": "markdown",
   "metadata": {
    "collapsed": false,
    "pycharm": {
     "name": "#%% md\n"
    }
   },
   "source": [
    "The next function contains the code to plot a similarity matrix between multiple words (e.g. if we want to compare 10 words and their pair-wise similarities). It requires a matrix with similarities (as input) and labels (aka the words) to display in the final figure."
   ]
  },
  {
   "cell_type": "code",
   "execution_count": null,
   "metadata": {
    "collapsed": false,
    "pycharm": {
     "name": "#%%\n"
    }
   },
   "outputs": [],
   "source": [
    "def plot_similarity_matrix(matrix, labels):\n",
    "    \"\"\"\n",
    "    Displays a plot of the `matrix` of size (N x N) with the labels specified as a list of size N\n",
    "    Args:\n",
    "        matrix: a square-sized (N x N) numpy array\n",
    "        labels: a list of strings of hte size N\n",
    "    \"\"\"\n",
    "\n",
    "    fig, ax = plt.subplots()\n",
    "    im = ax.imshow(matrix)\n",
    "\n",
    "    # Show all ticks and label them with the respective list entries\n",
    "    ax.set_xticks(np.arange(len(labels)), labels=labels)\n",
    "    ax.set_yticks(np.arange(len(labels)), labels=labels)\n",
    "\n",
    "    # Rotate the tick labels and set their alignment.\n",
    "    plt.setp(ax.get_xticklabels(), rotation=45, ha=\"right\",\n",
    "             rotation_mode=\"anchor\")\n",
    "\n",
    "    # Loop over data dimensions and create text annotations.\n",
    "    for i in range(len(labels)):\n",
    "        for j in range(len(labels)):\n",
    "            text = ax.text(j, i, f'{matrix[i, j]:.2f}',\n",
    "                           ha=\"center\", va=\"center\", color=\"w\")\n",
    "\n",
    "    # ax.set_title(\"Give a title if you want\")\n",
    "    fig.tight_layout()\n",
    "    plt.show()"
   ]
  },
  {
   "cell_type": "markdown",
   "metadata": {
    "collapsed": false,
    "pycharm": {
     "name": "#%% md\n"
    }
   },
   "source": [
    "<a name='e10'></a>\n",
    "### Exercise 10: Plotting similarities between words\n",
    "\n",
    "(10p) In the following, we will explore some properties of word embeddings through some examples. We will use 6 example words for this purpose but experiment with other set of words as well. Fill in the next cell to create a similarity matrix between a list of words.\n",
    "\n",
    "Experiment with different words and their similarities plotted. Try at least 3 different sets of words of at least 6 words each. Use the `plot_similarity_matrix` function to visualize the results.\n",
    "Comment on the results. Do they make sense? Why some words are closer to each other than others? What does it mean?"
   ]
  },
  {
   "cell_type": "code",
   "execution_count": null,
   "metadata": {
    "collapsed": false,
    "pycharm": {
     "name": "#%%\n"
    }
   },
   "outputs": [],
   "source": [
    "list_of_words = ['love', 'hate', 'life', 'equal', 'alive', 'dead']\n",
    "\n",
    "similarity_matrix = np.zeros((len(list_of_words), len(list_of_words)), dtype=float)\n",
    "\n",
    "### YOUR CODE HERE\n",
    "\n",
    "\n",
    "\n",
    "\n",
    "\n",
    "### YOUR CODE ENDS HERE\n",
    "\n",
    "\n",
    "plot_similarity_matrix(similarity_matrix, list_of_words)"
   ]
  },
  {
   "cell_type": "code",
   "execution_count": null,
   "metadata": {
    "collapsed": false,
    "pycharm": {
     "name": "#%%\n"
    }
   },
   "outputs": [],
   "source": [
    "#### YOUR CODE HERE\n",
    "\n",
    "\n",
    "\n",
    "### YOUR CODE ENDS HERE"
   ]
  },
  {
   "cell_type": "markdown",
   "metadata": {
    "collapsed": false,
    "pycharm": {
     "name": "#%% md\n"
    }
   },
   "source": [
    "<a name='e11'></a>\n",
    "### Exercise 11: Other pre-trained word embeddings\n",
    "(10p) For this exercise, experiment with at least one different word embedding model. You can choose Glove with different dimensions or other pre-trained models. Use the gensim library to download and use the models.\n",
    "Plot similarity matrices between sets of words you used in the previous exercise and compare the results. Are there noticeable differences? Why (not)?"
   ]
  },
  {
   "cell_type": "code",
   "execution_count": null,
   "metadata": {
    "collapsed": false,
    "pycharm": {
     "name": "#%%\n"
    }
   },
   "outputs": [],
   "source": [
    "#### YOUR CODE HERE\n",
    "\n",
    "\n",
    "\n",
    "### YOUR CODE ENDS HERE"
   ]
  },
  {
   "cell_type": "markdown",
   "metadata": {
    "collapsed": false,
    "pycharm": {
     "name": "#%% md\n"
    }
   },
   "source": [
    "// your comments"
   ]
  },
  {
   "cell_type": "markdown",
   "metadata": {
    "collapsed": false,
    "pycharm": {
     "name": "#%% md\n"
    }
   },
   "source": [
    "## 5. Sentence Embeddings by Averaging Word Embeddings\n",
    "\n",
    "Word embeddings are a powerful model for representing words and their meaning (in terms of distributional similarity). As we discussed in class, we can use them in a wide variety of tasks with more complex architectures. Word vectors offer a dense vector for each word. What if we wanted to represent a sentence (or a document) based on word vectors. How can we do that?\n",
    "\n",
    "In the course, we will see different architectures that take into account the sequence of words (by combining their vectors). A first naive but simple and sometimes (as we are going to see) quite effective approach would be to represent a sentence with an embedding vector that is the average of the word vectors that form the sentence.\n",
    "\n",
    "So formally, this is what we are aiming for:\n",
    "\n",
    "$\n",
    "\\text{Sentence_Embedding} = \\frac{1}{N} \\sum_{i=1}^{N} \\text{Word_Embedding}_i\n",
    "$\n",
    "\n",
    "where:\n",
    "* $N$ is the number of words in a sentence\n",
    "* $\\text{Word_Embedding}_i$ is the word vector for the $i$-th in the sentence.\n",
    "\n",
    "Things to note:\n",
    "* The embedding vector for the sentence will obviously have the same dimension as the word embedding.\n",
    "* This representation ignores the word order (like bag-of-words). During the course we will see how we can overcome this limitation by using sequence models."
   ]
  },
  {
   "cell_type": "markdown",
   "metadata": {
    "collapsed": false,
    "pycharm": {
     "name": "#%% md\n"
    }
   },
   "source": [
    "<a name='e12'></a>\n",
    "### Exercise 12: Sentence Embedding\n",
    "\n",
    "(10p) Complete the function below that takes as input the sentence in the form of tokens (so it's a list of words) and calculates the sentence embedding vector. First, we would need to retrieve the word embeddings for each word from our loaded model and then average the vectors.\n",
    "\n",
    "Note: There can be cases where all tokens from a sentence are out-of-vocabulary words (OOV). Think what to do in this case and make sure to discuss it in the report."
   ]
  },
  {
   "cell_type": "code",
   "execution_count": null,
   "metadata": {
    "collapsed": false,
    "pycharm": {
     "name": "#%%\n"
    }
   },
   "outputs": [],
   "source": [
    "def embed_sentence_word_model(tokens, model):\n",
    "    \"\"\"\n",
    "    Calculates the sentence embedding by averaging the embeddings of the tokens\n",
    "    Args:\n",
    "        tokens: a list of words from the sentence\n",
    "        model: a trained word embeddings model\n",
    "\n",
    "    Returns: a numpy array of the sentence embedding\n",
    "\n",
    "    \"\"\"\n",
    "    #### YOUR CODE HERE\n",
    "    #### CAUTION: be sure to cover the case where all tokens are out-of-vocabulary!!!\n",
    "\n",
    "\n",
    "\n",
    "\n",
    "    ### YOUR CODE ENDS HERE"
   ]
  },
  {
   "cell_type": "markdown",
   "metadata": {
    "collapsed": false,
    "pycharm": {
     "name": "#%% md\n"
    }
   },
   "source": [
    "Now we can apply the function to the whole dataset. Here we do it both for the sentence and the compressed version. You should know it by now, but this operation might take some time. The next cells will apply your function to the whole dataset."
   ]
  },
  {
   "cell_type": "code",
   "execution_count": null,
   "metadata": {
    "collapsed": false,
    "pycharm": {
     "name": "#%%\n"
    }
   },
   "outputs": [],
   "source": [
    "def embed_sentence_word_model_dataset(example, model):\n",
    "    \"\"\"\n",
    "    Embeds the sentence and the compressed sentence in the example from the Dataset\n",
    "    Args:\n",
    "        example: an example from the Dataset\n",
    "        model: a trained word embeddings model\n",
    "\n",
    "    Returns: updated example with 'sentence_embedding' and 'compressed_embedding' columns\n",
    "\n",
    "    \"\"\"\n",
    "    sentence_tokens = example['sentence_tokens']\n",
    "    clean_compressed = example['clean_compressed']\n",
    "    compressed_tokens = tokenize(clean_compressed)\n",
    "\n",
    "    sentence_embedding = embed_sentence_word_model(sentence_tokens, model)\n",
    "    compressed_embedding = embed_sentence_word_model(compressed_tokens, model)\n",
    "\n",
    "    example['sentence_embedding'] = sentence_embedding\n",
    "    example['compressed_embedding'] = compressed_embedding\n",
    "    return example"
   ]
  },
  {
   "cell_type": "code",
   "execution_count": null,
   "metadata": {
    "collapsed": false,
    "pycharm": {
     "name": "#%%\n"
    }
   },
   "outputs": [],
   "source": [
    "test_ds = test_ds.map(embed_sentence_word_model_dataset, fn_kwargs={'model': glove_model})\n",
    "print(test_ds)"
   ]
  },
  {
   "cell_type": "code",
   "execution_count": null,
   "metadata": {
    "collapsed": false,
    "pycharm": {
     "name": "#%%\n"
    }
   },
   "outputs": [],
   "source": [
    "for i in range(10):\n",
    "    print(test_ds[i])"
   ]
  },
  {
   "cell_type": "markdown",
   "metadata": {
    "collapsed": false,
    "pycharm": {
     "name": "#%% md\n"
    }
   },
   "source": [
    "Here you can see that the new dataset returned a single numpy array containing all sentence embeddings in our dataset. This is a lot more efficient than returning a list of arrays (which is the default behaviour). Below we check the type and the dimensionality.\n",
    "\n",
    "We will be using `text` subset from our dataset to not use too much RAM."
   ]
  },
  {
   "cell_type": "code",
   "execution_count": null,
   "metadata": {
    "collapsed": false,
    "pycharm": {
     "name": "#%%\n"
    }
   },
   "outputs": [],
   "source": [
    "sent_embedding = test_ds['sentence_embedding']\n",
    "compr_embedding = test_ds['compressed_embedding']\n",
    "print(type(sent_embedding))\n",
    "print(sent_embedding.shape)\n",
    "print(type(compr_embedding))\n",
    "print(compr_embedding.shape)"
   ]
  },
  {
   "cell_type": "markdown",
   "metadata": {
    "collapsed": false,
    "pycharm": {
     "name": "#%% md\n"
    }
   },
   "source": [
    "Next we try the condensed representatin based on a simple query. Feel free to try different queries with different words. What happens if we have OOV words in a query?"
   ]
  },
  {
   "cell_type": "code",
   "execution_count": null,
   "metadata": {
    "collapsed": false,
    "pycharm": {
     "name": "#%%\n"
    }
   },
   "outputs": [],
   "source": [
    "query = 'fox and deer'\n",
    "print(query)\n",
    "\n",
    "query_embedding = embed_text(query, clean, tokenize, lambda x: embed_sentence_word_model(x, glove_model))\n",
    "print(query_embedding.shape)\n",
    "print(query_embedding)"
   ]
  },
  {
   "cell_type": "markdown",
   "metadata": {
    "collapsed": false,
    "pycharm": {
     "name": "#%% md\n"
    }
   },
   "source": [
    "<a name='e13'></a>\n",
    "### Exercise 13: Analyze sentence embeddings\n",
    "- (5p) Calculate similarity between the word embeddings representations of the selected queries and the dataset sentences.\n",
    "- (5p) Analyze the search results. Does the search work as expected? Discuss the results.\n",
    "- (5p) Compare the results with the ones you got with the bag-of-words and TF-IDF representation. Discuss the differences and similarities."
   ]
  },
  {
   "cell_type": "code",
   "execution_count": null,
   "metadata": {
    "collapsed": false,
    "pycharm": {
     "name": "#%%\n"
    }
   },
   "outputs": [],
   "source": [
    "### YOUR CODE HERE\n",
    "\n",
    "\n",
    "\n",
    "\n",
    "### YOUR CODE ENDS HERE"
   ]
  },
  {
   "cell_type": "markdown",
   "metadata": {
    "id": "ZY2jouFmeHOg",
    "pycharm": {
     "name": "#%% md\n"
    }
   },
   "source": [
    "## 6. Evaluating Retrieval\n",
    "\n",
    "In this last section we will try to evaluate how good our sentence retrieval system is. To keep the computational resources manageable, we will use the test set for that as its size is more manageable.\n",
    "\n",
    "Recall from the lecture in IR that there are several metrics to evaluate retrieval performance by taking into account the relevance of the retrieved results to the query. We will use Recall@K here (for more metrics and more details refer to the lecture slides and the textbooks).\n",
    "\n",
    "RRecall@K is a metric used to measure the effectiveness of a search system in retrieving relevant documents within the top $K$ retrieved documents. It calculates the proportion of relevant documents retrieved within the top-$K$ results, compared to the total number of relevant documents in the collection.\n",
    "\n",
    "$\n",
    "\\text{Recall@K} = \\frac{\\text{Number of relevant documents retrieved in the top }-K}{\\text{Total number of relevant documents}}\n",
    "$\n",
    "\n",
    "In our case, we have a sentence, and it's compressed version. To test our system, we will treat compressed sentences as the queries. Each query will have only a single relevant sentence - the corresponding uncompressed sentence.\n",
    "\n",
    "Therefore, for the calculation of Recall@K we will take into account whether the correct retrieved result is contained within the first $K$ retrieved results. For example, if for a query (i.e. a compressed sentence) we retrieve 10 results and within these we see the relevant one (i.e. the full sentence), then Recall@10 = 1."
   ]
  },
  {
   "cell_type": "markdown",
   "metadata": {
    "id": "QUKPtG-uem9f",
    "pycharm": {
     "name": "#%% md\n"
    }
   },
   "source": [
    "<a name='e14'></a>\n",
    "### Exercise 14: Cosine similarity between two sets of vectors\n",
    "\n",
    "(3p) In this exercise you will revisit your implementation of the cosine similarity. Generalize it so that it can accept two arrays containing two sets of vectors (first one containing $M$ vectors and the second one $N$ vectors). Compute the cosine similarity between each pair of vectors coming from the two sets. The result should be an array of size $M x N$.\n",
    "\n",
    "Once again, try to write an efficient code. This means no loops. Remember the relation between matrix multiplication and dot product. (Depending on your implementation of the previous function calculating cosine similarity, this one can be almost the same)"
   ]
  },
  {
   "cell_type": "code",
   "execution_count": null,
   "metadata": {
    "id": "xKiHDrN9eld7",
    "pycharm": {
     "name": "#%%\n"
    }
   },
   "outputs": [],
   "source": [
    "def cosine_similarity_m_to_n(vectors, other_vectors):\n",
    "    \"\"\"\n",
    "    Calculates the cosine similarity between a multiple vectors and other vectors.\n",
    "    Args:\n",
    "        vectors: a numpy array representing M number of vectors of D dimensions (of the size MxD)\n",
    "        other_vectors: a 2D numpy array representing other vectors (of the size NxD, where N is the number of vectors and D is their dimension)\n",
    "\n",
    "    Returns: a numpy array of cosine similarity between all the vectors and all the other vectors\n",
    "\n",
    "    \"\"\"\n",
    "\n",
    "    #### YOUR CODE HERE\n",
    "\n",
    "\n",
    "\n",
    "\n",
    "    ### YOUR CODE ENDS HERE"
   ]
  },
  {
   "cell_type": "markdown",
   "metadata": {
    "id": "qQ-Yhl1Sgoka",
    "pycharm": {
     "name": "#%% md\n"
    }
   },
   "source": [
    "The following function will use your implementation to calculate Recall@K based on the similarity matrix."
   ]
  },
  {
   "cell_type": "code",
   "execution_count": null,
   "metadata": {
    "id": "z0sLS3uRCfdh",
    "pycharm": {
     "name": "#%%\n"
    }
   },
   "outputs": [],
   "source": [
    "def calculate_recall(queries, sentences, k, batch_size=1000):\n",
    "    \"\"\"\n",
    "    Calculates recall@k given the embeddings of the queries and sentences.\n",
    "    Assumes that only a single sentence with the same index as query is relevant.\n",
    "    Batching is implemented to avoid high memory usage.\n",
    "    Args:\n",
    "        queries: a numpy array with the embeddings of N queries\n",
    "        sentences: a numpy array with the embeddings of N sentences available for retrieval\n",
    "        k: number of top results to search for the relevant sentence\n",
    "        batch_size: number of queries to process at a time\n",
    "\n",
    "    Returns: calculated recall@k\n",
    "\n",
    "    \"\"\"\n",
    "    n_queries = queries.shape[0]\n",
    "    correct = np.zeros(n_queries, dtype=bool)\n",
    "\n",
    "    with tqdm.tqdm(total=n_queries) as pbar:\n",
    "        for batch_start in range(0, n_queries, batch_size):\n",
    "            batch_end = min(batch_start + batch_size, n_queries)\n",
    "            queries_batch = queries[batch_start:batch_end]\n",
    "            batch_similarity = cosine_similarity_m_to_n(queries_batch, sentences)\n",
    "\n",
    "            for i, similarity_row in enumerate(batch_similarity):\n",
    "                query_index = batch_start + i\n",
    "                top_k = top_k_indices(similarity_row, k=k, sorted=False)\n",
    "\n",
    "                if query_index in top_k:\n",
    "                    correct[query_index] = True\n",
    "\n",
    "                pbar.update(1)\n",
    "\n",
    "    recall = np.sum(correct) / n_queries\n",
    "    return recall"
   ]
  },
  {
   "cell_type": "markdown",
   "metadata": {
    "id": "3QgAgMiDgw8m",
    "pycharm": {
     "name": "#%% md\n"
    }
   },
   "source": [
    "You can use it like so:"
   ]
  },
  {
   "cell_type": "code",
   "execution_count": null,
   "metadata": {
    "id": "Yxpex7ZxHM7c",
    "pycharm": {
     "name": "#%%\n"
    }
   },
   "outputs": [],
   "source": [
    "recall_at_1 = calculate_recall(compr_embedding, sent_embedding, k=1, batch_size=1000)\n",
    "print(f'\\n{recall_at_1 * 100:.2f}%')"
   ]
  },
  {
   "cell_type": "markdown",
   "metadata": {
    "id": "zY5ZVq5ogzMI",
    "pycharm": {
     "name": "#%% md\n"
    }
   },
   "source": [
    "<a name='e15'></a>\n",
    "### Exercise 15: Evaluating retrieval methods\n",
    "\n",
    "(10p) Calculate recall for different values of $K$ for all methods:\n",
    "- BOW,\n",
    "- TF-IDF,\n",
    "- Pre-trained embeddings.\n",
    "\n",
    "Discuss the results.\n",
    "Comment on how recall changes based on the value of $K$. Are the results expected or surprising?"
   ]
  },
  {
   "cell_type": "code",
   "execution_count": null,
   "metadata": {
    "collapsed": false,
    "pycharm": {
     "name": "#%%\n"
    }
   },
   "outputs": [],
   "source": [
    "#### YOUR CODE HERE\n",
    "\n",
    "\n",
    "\n",
    "### YOUR CODE ENDS HERE"
   ]
  },
  {
   "cell_type": "markdown",
   "metadata": {
    "collapsed": false,
    "pycharm": {
     "name": "#%% md\n"
    }
   },
   "source": [
    "<a name='e16'></a>\n",
    "### Exercise 16: Improving retrieval\n",
    "\n",
    "(10p) Imagine that you work at a company and are tasked with delivering the best retrieval method. Select the most promising one and try to improve the scores (e.g. by changing the vocab size, loading different model, etc.).\n",
    "Discuss the results you achieve, even if you didn't manage to improve the scores."
   ]
  },
  {
   "cell_type": "code",
   "execution_count": null,
   "metadata": {
    "id": "YA9bEm5ehMq8",
    "pycharm": {
     "name": "#%%\n"
    }
   },
   "outputs": [],
   "source": [
    "#### YOUR CODE HERE\n",
    "\n",
    "\n",
    "\n",
    "### YOUR CODE ENDS HERE"
   ]
  },
  {
   "cell_type": "markdown",
   "metadata": {
    "collapsed": false,
    "pycharm": {
     "name": "#%% md\n"
    }
   },
   "source": [
    "// your comments"
   ]
  }
 ],
 "metadata": {
  "colab": {
   "provenance": [],
   "toc_visible": true
  },
  "kernelspec": {
   "display_name": ".venv",
   "language": "python",
   "name": "python3"
  },
  "language_info": {
   "codemirror_mode": {
    "name": "ipython",
    "version": 3
   },
   "file_extension": ".py",
   "mimetype": "text/x-python",
   "name": "python",
   "nbconvert_exporter": "python",
   "pygments_lexer": "ipython3",
   "version": "3.12.2"
  }
 },
 "nbformat": 4,
 "nbformat_minor": 0
}
